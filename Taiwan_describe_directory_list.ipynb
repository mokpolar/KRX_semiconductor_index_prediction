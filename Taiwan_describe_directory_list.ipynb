{
 "cells": [
  {
   "cell_type": "markdown",
   "metadata": {},
   "source": [
    "###### excel -> csv 변환"
   ]
  },
  {
   "cell_type": "code",
   "execution_count": 1,
   "metadata": {},
   "outputs": [],
   "source": [
    "import pandas as pd\n",
    "import numpy as np\n",
    "import os"
   ]
  },
  {
   "cell_type": "code",
   "execution_count": 2,
   "metadata": {},
   "outputs": [
    {
     "data": {
      "text/plain": [
       "'C:\\\\MarketCaster\\\\Industrial Index'"
      ]
     },
     "execution_count": 2,
     "metadata": {},
     "output_type": "execute_result"
    }
   ],
   "source": [
    "pwd"
   ]
  },
  {
   "cell_type": "code",
   "execution_count": 3,
   "metadata": {},
   "outputs": [],
   "source": [
    "# 년, 월, 일로 표기된 DATE를 처리하기 위한 function\n",
    "# input 인자인 dataFrame은 AMD['DATE']와 같이 dataframe 내 컬럼을 명시해주어야 함\n",
    "# 2019년 12월 4일 -> 2019-12-04\n",
    "def date_preprocessing(dataFrame):\n",
    "    i = 0\n",
    "    for date in dataFrame:\n",
    "        try:\n",
    "            # 띄어쓰기 제거\n",
    "            tmp1, tmp2, tmp3 = date.split(' ')\n",
    "            # 연, 월, 일 조립\n",
    "            tmp = tmp1[:4] + '-' + tmp2[:2] + '-' + tmp3[:2]\n",
    "        except:\n",
    "            tmp = date\n",
    "        # reset\n",
    "        dataFrame.loc[i] = pd.to_datetime(tmp)\n",
    "        i = i + 1"
   ]
  },
  {
   "cell_type": "code",
   "execution_count": 4,
   "metadata": {},
   "outputs": [],
   "source": [
    "# 거래량이 M(Milion) 단위로 표기된 VOLUME을 처리하기 위한 function\n",
    "# input 인자인 dataFrame은 AMD['VOLUME']와 같이 dataframe 내 컬럼을 명시해주어야 함\n",
    "# 10.00M -> 10000000\n",
    "def volume_preprocessing(dataFrame):\n",
    "    i = 0\n",
    "    for volume in dataFrame:\n",
    "        if type(volume) == str:\n",
    "            if volume[-1] == 'M':\n",
    "                volume = int(float(volume[:-1]) * 1000000)\n",
    "            elif volume == '-':\n",
    "                volume = 0\n",
    "            dataFrame.loc[i] = int(volume)\n",
    "        elif volume == np.nan:\n",
    "            pass\n",
    "        else:\n",
    "            try:\n",
    "                dataFrame.loc[i] = int(dataFrame.loc[i])\n",
    "            except:\n",
    "                pass\n",
    "        i = i + 1"
   ]
  },
  {
   "cell_type": "code",
   "execution_count": 5,
   "metadata": {},
   "outputs": [],
   "source": [
    "# 일별수익률에 %기호가 붙어있는 경우 사용\n",
    "def change_preprocessing(dataFrame):\n",
    "    i = 0\n",
    "    for change in dataFrame:\n",
    "        try:\n",
    "            # %기호 제거\n",
    "            if change[-1] == '%':\n",
    "                change = change[:-1]\n",
    "        except:\n",
    "            pass\n",
    "        try:\n",
    "            dataFrame.loc[i] = float(change)\n",
    "        except:\n",
    "            print(type(change), ' ', i)\n",
    "        i = i + 1"
   ]
  },
  {
   "cell_type": "markdown",
   "metadata": {},
   "source": [
    "##### 시계열 데이터 from to 설정"
   ]
  },
  {
   "cell_type": "code",
   "execution_count": 6,
   "metadata": {},
   "outputs": [],
   "source": [
    "# 사용할 데이터의 기간 설정\n",
    "# date_from < 사용할 기간 < date_to\n",
    "date_from = pd.to_datetime('2006-01-01')\n",
    "date_to   = pd.to_datetime('2019-11-01')\n",
    "\n",
    "# investing.com 데이터 중 비영업일이 영업일로 체크된 날짜 설정\n",
    "investing_ignore_date = pd.to_datetime('2016-02-27')"
   ]
  },
  {
   "cell_type": "markdown",
   "metadata": {},
   "source": [
    "##### Directory 위치 설정"
   ]
  },
  {
   "cell_type": "code",
   "execution_count": 19,
   "metadata": {},
   "outputs": [],
   "source": [
    "# data file이 위치한 directory 설정\n",
    "path = './Data/Taiwan/'\n",
    "csv_path = './Data/CSV/'\n",
    "# 최종 data name 설정\n",
    "describe_file_name = 'describe_Taiwan.csv'"
   ]
  },
  {
   "cell_type": "code",
   "execution_count": 8,
   "metadata": {},
   "outputs": [],
   "source": [
    "# directory 내 전체 file list 추출\n",
    "file_list = os.listdir(path)"
   ]
  },
  {
   "cell_type": "code",
   "execution_count": 9,
   "metadata": {},
   "outputs": [],
   "source": [
    "# csv file 추출\n",
    "file_list_csv = [file for file in file_list if file.endswith(\".csv\")]"
   ]
  },
  {
   "cell_type": "code",
   "execution_count": 10,
   "metadata": {},
   "outputs": [],
   "source": [
    "# xlsx file 추출\n",
    "file_list_xlsx = [file for file in file_list if file.endswith(\".xlsx\")]"
   ]
  },
  {
   "cell_type": "code",
   "execution_count": 11,
   "metadata": {},
   "outputs": [],
   "source": [
    "# 파일명을 저장하기 위한 list 선언\n",
    "df_name_list = []\n",
    "# dataFrame을 저장하기 위한 list 선언\n",
    "df_list = []"
   ]
  },
  {
   "cell_type": "code",
   "execution_count": 12,
   "metadata": {},
   "outputs": [],
   "source": [
    "# directory 내 csv file read\n",
    "for file in file_list_csv:\n",
    "    df_list.append(pd.read_csv(path+file, encoding='CP949'))\n",
    "    df_name_list.append(file[:-4])"
   ]
  },
  {
   "cell_type": "code",
   "execution_count": 13,
   "metadata": {},
   "outputs": [],
   "source": [
    "# directory 내 xlsx file read\n",
    "for file in file_list_xlsx:\n",
    "    df_list.append(pd.read_excel(path+file, sheet_name='Sheet1'))\n",
    "    df_name_list.append(file[:-5])"
   ]
  },
  {
   "cell_type": "code",
   "execution_count": 14,
   "metadata": {},
   "outputs": [
    {
     "data": {
      "text/plain": [
       "[           DATE     OPEN     HIGH      LOW    CLOSE     VOLUME  CHANGE\n",
       " 0    2019-12-02  10.0633  10.0960  10.0469  10.0797   25516808  0.8858\n",
       " 1    2019-11-29  10.1222  10.1386   9.9912   9.9912   32423562 -1.5605\n",
       " 2    2019-11-28  10.1659  10.2315  10.1167  10.1495   19718982 -0.4170\n",
       " 3    2019-11-27  10.0773  10.2084  10.0773  10.1920   18467648  1.2199\n",
       " 4    2019-11-26  10.1676  10.1840  10.0692  10.0692  101916624  0.0820\n",
       " ...         ...      ...      ...      ...      ...        ...     ...\n",
       " 3433 2006-01-09   1.9789   2.0477   1.9789   2.0388   79241392  4.7635\n",
       " 3434 2006-01-06   1.9253   1.9461   1.9223   1.9461   69380192  1.7525\n",
       " 3435 2006-01-05   1.8946   1.9125   1.8707   1.9125   45456860  1.9777\n",
       " 3436 2006-01-04   1.8666   1.8754   1.8340   1.8754   55472680  1.7457\n",
       " 3437 2006-01-03   1.7876   1.8433   1.7729   1.8433   71567648  3.6518\n",
       " \n",
       " [3438 rows x 7 columns]]"
      ]
     },
     "execution_count": 14,
     "metadata": {},
     "output_type": "execute_result"
    }
   ],
   "source": [
    "df_list"
   ]
  },
  {
   "cell_type": "code",
   "execution_count": 15,
   "metadata": {},
   "outputs": [
    {
     "data": {
      "text/plain": [
       "['TSMC']"
      ]
     },
     "execution_count": 15,
     "metadata": {},
     "output_type": "execute_result"
    }
   ],
   "source": [
    "df_name_list"
   ]
  },
  {
   "cell_type": "code",
   "execution_count": 16,
   "metadata": {},
   "outputs": [],
   "source": [
    "df_columns = df_list[0].columns"
   ]
  },
  {
   "cell_type": "code",
   "execution_count": 17,
   "metadata": {
    "scrolled": false
   },
   "outputs": [
    {
     "name": "stderr",
     "output_type": "stream",
     "text": [
      "C:\\Users\\Seungwon\\AppData\\Local\\Continuum\\miniconda3\\lib\\site-packages\\pandas\\core\\indexing.py:205: SettingWithCopyWarning: \n",
      "A value is trying to be set on a copy of a slice from a DataFrame\n",
      "\n",
      "See the caveats in the documentation: http://pandas.pydata.org/pandas-docs/stable/user_guide/indexing.html#returning-a-view-versus-a-copy\n",
      "  self._setitem_with_indexer(indexer, value)\n"
     ]
    }
   ],
   "source": [
    "tmp_df_list = []\n",
    "for df in df_list:\n",
    "    # 날짜 데이터 일원화\n",
    "    date_preprocessing(df['DATE'])\n",
    "    # 거래량 데이터 일원화\n",
    "    volume_preprocessing(df['VOLUME'])\n",
    "    # 일별수익률 데이터 일원화\n",
    "    change_preprocessing(df['CHANGE'])\n",
    "    df['CHANGE'] = df['CHANGE'].apply(pd.to_numeric)\n",
    "    \n",
    "    # 데이터 기간 일원화\n",
    "    tmp_df = df[df['DATE'] < date_to]\n",
    "    \n",
    "    # investing.com에서 영업일로 표기된 날짜에 대한 index 추출 및 행 삭제\n",
    "    try:\n",
    "        index = df[df['DATE'] == investing_ignore_date].index[0]\n",
    "        tmp_df = tmp_df.drop(index, axis = 0)\n",
    "        tmp_df_list.append(tmp_df)\n",
    "    except:\n",
    "        tmp_df_list.append(tmp_df)\n",
    "    "
   ]
  },
  {
   "cell_type": "markdown",
   "metadata": {},
   "source": [
    "-------"
   ]
  },
  {
   "cell_type": "code",
   "execution_count": null,
   "metadata": {},
   "outputs": [],
   "source": [
    "describe_df_list = pd.DataFrame(columns=df_columns[1:])\n",
    "i = 0\n",
    "for df in tmp_df_list:\n",
    "    date_data = pd.DataFrame([[df_name_list[i], 'Date_From', df['DATE'].min(), 'Date_To', df['DATE'].max(), len(df['DATE'])]],\n",
    "                             columns=df_columns[1:])\n",
    "    describe_df_list = pd.concat([describe_df_list, date_data], axis = 0, sort=False)\n",
    "    describe_df_list = pd.concat([describe_df_list, df.describe()], axis = 0, sort=False)\n",
    "    i += 1"
   ]
  },
  {
   "cell_type": "code",
   "execution_count": null,
   "metadata": {
    "scrolled": true
   },
   "outputs": [],
   "source": [
    "describe_df_list.to_csv(describe_file_name)"
   ]
  },
  {
   "cell_type": "code",
   "execution_count": 18,
   "metadata": {},
   "outputs": [
    {
     "data": {
      "text/html": [
       "<div>\n",
       "<style scoped>\n",
       "    .dataframe tbody tr th:only-of-type {\n",
       "        vertical-align: middle;\n",
       "    }\n",
       "\n",
       "    .dataframe tbody tr th {\n",
       "        vertical-align: top;\n",
       "    }\n",
       "\n",
       "    .dataframe thead th {\n",
       "        text-align: right;\n",
       "    }\n",
       "</style>\n",
       "<table border=\"1\" class=\"dataframe\">\n",
       "  <thead>\n",
       "    <tr style=\"text-align: right;\">\n",
       "      <th></th>\n",
       "      <th>DATE</th>\n",
       "      <th>OPEN</th>\n",
       "      <th>HIGH</th>\n",
       "      <th>LOW</th>\n",
       "      <th>CLOSE</th>\n",
       "      <th>VOLUME</th>\n",
       "      <th>CHANGE</th>\n",
       "    </tr>\n",
       "  </thead>\n",
       "  <tbody>\n",
       "    <tr>\n",
       "      <th>22</th>\n",
       "      <td>2019-10-31</td>\n",
       "      <td>9.8393</td>\n",
       "      <td>9.8885</td>\n",
       "      <td>9.7901</td>\n",
       "      <td>9.7901</td>\n",
       "      <td>43123512</td>\n",
       "      <td>-0.5431</td>\n",
       "    </tr>\n",
       "    <tr>\n",
       "      <th>23</th>\n",
       "      <td>2019-10-30</td>\n",
       "      <td>9.8107</td>\n",
       "      <td>9.8436</td>\n",
       "      <td>9.7450</td>\n",
       "      <td>9.8436</td>\n",
       "      <td>32370342</td>\n",
       "      <td>0.6417</td>\n",
       "    </tr>\n",
       "    <tr>\n",
       "      <th>24</th>\n",
       "      <td>2019-10-29</td>\n",
       "      <td>9.7316</td>\n",
       "      <td>9.7808</td>\n",
       "      <td>9.7153</td>\n",
       "      <td>9.7808</td>\n",
       "      <td>37130132</td>\n",
       "      <td>1.5243</td>\n",
       "    </tr>\n",
       "    <tr>\n",
       "      <th>25</th>\n",
       "      <td>2019-10-28</td>\n",
       "      <td>9.6503</td>\n",
       "      <td>9.6667</td>\n",
       "      <td>9.6176</td>\n",
       "      <td>9.6339</td>\n",
       "      <td>20216560</td>\n",
       "      <td>0.3932</td>\n",
       "    </tr>\n",
       "    <tr>\n",
       "      <th>26</th>\n",
       "      <td>2019-10-25</td>\n",
       "      <td>9.6289</td>\n",
       "      <td>9.6289</td>\n",
       "      <td>9.5635</td>\n",
       "      <td>9.5962</td>\n",
       "      <td>25082712</td>\n",
       "      <td>0.2132</td>\n",
       "    </tr>\n",
       "    <tr>\n",
       "      <th>...</th>\n",
       "      <td>...</td>\n",
       "      <td>...</td>\n",
       "      <td>...</td>\n",
       "      <td>...</td>\n",
       "      <td>...</td>\n",
       "      <td>...</td>\n",
       "      <td>...</td>\n",
       "    </tr>\n",
       "    <tr>\n",
       "      <th>3433</th>\n",
       "      <td>2006-01-09</td>\n",
       "      <td>1.9789</td>\n",
       "      <td>2.0477</td>\n",
       "      <td>1.9789</td>\n",
       "      <td>2.0388</td>\n",
       "      <td>79241392</td>\n",
       "      <td>4.7635</td>\n",
       "    </tr>\n",
       "    <tr>\n",
       "      <th>3434</th>\n",
       "      <td>2006-01-06</td>\n",
       "      <td>1.9253</td>\n",
       "      <td>1.9461</td>\n",
       "      <td>1.9223</td>\n",
       "      <td>1.9461</td>\n",
       "      <td>69380192</td>\n",
       "      <td>1.7525</td>\n",
       "    </tr>\n",
       "    <tr>\n",
       "      <th>3435</th>\n",
       "      <td>2006-01-05</td>\n",
       "      <td>1.8946</td>\n",
       "      <td>1.9125</td>\n",
       "      <td>1.8707</td>\n",
       "      <td>1.9125</td>\n",
       "      <td>45456860</td>\n",
       "      <td>1.9777</td>\n",
       "    </tr>\n",
       "    <tr>\n",
       "      <th>3436</th>\n",
       "      <td>2006-01-04</td>\n",
       "      <td>1.8666</td>\n",
       "      <td>1.8754</td>\n",
       "      <td>1.8340</td>\n",
       "      <td>1.8754</td>\n",
       "      <td>55472680</td>\n",
       "      <td>1.7457</td>\n",
       "    </tr>\n",
       "    <tr>\n",
       "      <th>3437</th>\n",
       "      <td>2006-01-03</td>\n",
       "      <td>1.7876</td>\n",
       "      <td>1.8433</td>\n",
       "      <td>1.7729</td>\n",
       "      <td>1.8433</td>\n",
       "      <td>71567648</td>\n",
       "      <td>3.6518</td>\n",
       "    </tr>\n",
       "  </tbody>\n",
       "</table>\n",
       "<p>3416 rows × 7 columns</p>\n",
       "</div>"
      ],
      "text/plain": [
       "           DATE    OPEN    HIGH     LOW   CLOSE    VOLUME  CHANGE\n",
       "22   2019-10-31  9.8393  9.8885  9.7901  9.7901  43123512 -0.5431\n",
       "23   2019-10-30  9.8107  9.8436  9.7450  9.8436  32370342  0.6417\n",
       "24   2019-10-29  9.7316  9.7808  9.7153  9.7808  37130132  1.5243\n",
       "25   2019-10-28  9.6503  9.6667  9.6176  9.6339  20216560  0.3932\n",
       "26   2019-10-25  9.6289  9.6289  9.5635  9.5962  25082712  0.2132\n",
       "...         ...     ...     ...     ...     ...       ...     ...\n",
       "3433 2006-01-09  1.9789  2.0477  1.9789  2.0388  79241392  4.7635\n",
       "3434 2006-01-06  1.9253  1.9461  1.9223  1.9461  69380192  1.7525\n",
       "3435 2006-01-05  1.8946  1.9125  1.8707  1.9125  45456860  1.9777\n",
       "3436 2006-01-04  1.8666  1.8754  1.8340  1.8754  55472680  1.7457\n",
       "3437 2006-01-03  1.7876  1.8433  1.7729  1.8433  71567648  3.6518\n",
       "\n",
       "[3416 rows x 7 columns]"
      ]
     },
     "execution_count": 18,
     "metadata": {},
     "output_type": "execute_result"
    }
   ],
   "source": [
    "tmp_df_list[0]"
   ]
  },
  {
   "cell_type": "code",
   "execution_count": 20,
   "metadata": {},
   "outputs": [],
   "source": [
    "# save csv file\n",
    "tmp_df_list[0].to_csv(csv_path+df_name_list[0]+'.csv', index=False)"
   ]
  },
  {
   "cell_type": "code",
   "execution_count": null,
   "metadata": {},
   "outputs": [],
   "source": []
  }
 ],
 "metadata": {
  "kernelspec": {
   "display_name": "Python 3",
   "language": "python",
   "name": "python3"
  },
  "language_info": {
   "codemirror_mode": {
    "name": "ipython",
    "version": 3
   },
   "file_extension": ".py",
   "mimetype": "text/x-python",
   "name": "python",
   "nbconvert_exporter": "python",
   "pygments_lexer": "ipython3",
   "version": "3.7.5"
  }
 },
 "nbformat": 4,
 "nbformat_minor": 2
}
