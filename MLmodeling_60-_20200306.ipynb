{
 "cells": [
  {
   "cell_type": "code",
   "execution_count": 1,
   "metadata": {},
   "outputs": [],
   "source": [
    "## Library Import\n",
    "\n",
    "# Basic\n",
    "import re\n",
    "import warnings\n",
    "import numpy as np\n",
    "import pandas as pd\n",
    "pd.set_option('display.max_rows', 50)\n",
    "pd.set_option('display.max_columns', 50)\n",
    "pd.set_option('display.width', 100)\n",
    "warnings.filterwarnings('ignore')\n",
    "%config InlineBackend.figure_format = 'retina'\n",
    "\n",
    "# Preprocessing\n",
    "from sklearn import preprocessing\n",
    "from sklearn.model_selection import train_test_split\n",
    "\n",
    "# Visualization\n",
    "import matplotlib.pyplot as plt\n",
    "import seaborn as sns\n",
    "\n",
    "# Scaler\n",
    "from sklearn.preprocessing import StandardScaler\n",
    "from sklearn.preprocessing import MinMaxScaler\n",
    "from sklearn.preprocessing import PowerTransformer\n",
    "\n",
    "# AutoML optuna library\n",
    "import optuna\n",
    "import optuna.integration.lightgbm as lgb\n",
    "\n",
    "# Linear Model\n",
    "from sklearn.linear_model import LinearRegression\n",
    "from sklearn.linear_model import Ridge\n",
    "from sklearn.linear_model import Lasso\n",
    "\n",
    "# Tree Model\n",
    "from sklearn.tree import DecisionTreeRegressor\n",
    "from sklearn.ensemble import GradientBoostingRegressor, RandomForestRegressor\n",
    "from xgboost import XGBRegressor\n",
    "from lightgbm import LGBMRegressor\n",
    "\n",
    "# Metric\n",
    "from sklearn.metrics import mean_squared_error, r2_score\n",
    "from sklearn.model_selection import cross_val_score\n",
    "\n",
    "## for PCA\n",
    "from sklearn.decomposition import PCA\n",
    "\n",
    "# for VIF\n",
    "from patsy import dmatrices\n",
    "from statsmodels.stats.outliers_influence import variance_inflation_factor"
   ]
  },
  {
   "cell_type": "code",
   "execution_count": 2,
   "metadata": {},
   "outputs": [],
   "source": [
    "# data load\n",
    "df = pd.read_csv('original_full_data.csv', index_col = 0)\n",
    "mmdf = pd.read_csv('bloomberg_map_index_20200130.csv', index_col = 0)"
   ]
  },
  {
   "cell_type": "code",
   "execution_count": 3,
   "metadata": {},
   "outputs": [],
   "source": [
    "# From the date the target data is present ~\n",
    "df = df.loc[9132 :, :]"
   ]
  },
  {
   "cell_type": "code",
   "execution_count": 4,
   "metadata": {},
   "outputs": [],
   "source": [
    "df.reset_index(inplace = True, drop = True)"
   ]
  },
  {
   "cell_type": "code",
   "execution_count": 5,
   "metadata": {},
   "outputs": [],
   "source": [
    "# Class generates derived variables & shifting target variable\n",
    "\n",
    "class Builder:\n",
    "\n",
    "    def __init__(self, input_df, map_df, target_day):\n",
    "        self.df = input_df\n",
    "        self.mdf = map_df\n",
    "        self.lag_days = [1, 5, 20, 60, 120, 260] # lagging day variation [1day 1week 1month 3month 6month 1year]\n",
    "        self.target_day = target_day # ex) 1, 260\n",
    "\n",
    "\n",
    "    # shifting function\n",
    "\n",
    "    def targeter(self, target_column):\n",
    "        self.df[target_column] = self.df[target_column].shift(-1*int(self.target_day))\n",
    "\n",
    "        return self.df\n",
    "    \n",
    "    # generating derived columns function : return ex) 20060107/20060101\n",
    "\n",
    "    def returner(self, target_column):      \n",
    "\n",
    "        col_name =  []\n",
    "        # creating new column name\n",
    "        for i in self.lag_days:\n",
    "            col_name.append(target_column + str(i))\n",
    "            \n",
    "        # appending lagged columns\n",
    "        for i, j in enumerate(self.lag_days):\n",
    "            self.df[locals()['col_name'][i]] = self.df[target_column] / self.df[target_column].shift(periods = j, axis = 0)\n",
    "\n",
    "        return self.df \n",
    "\n",
    "    # generating derived function : minus ex) 20060107 - 20060101\n",
    "    \n",
    "    def differ(self, target_column):\n",
    "\n",
    "        col_name = []\n",
    "        for i in self.lag_days:\n",
    "            col_name.append(target_column + str(i))\n",
    "        for i, j in enumerate(self.lag_days):\n",
    "            self.df[locals()['col_name'][i]] = self.df[target_column] - self.df[target_column].shift(periods = j, axis = 0)\n",
    "        return self.df\n",
    "\n",
    "    # generating derived function : volume * close  -> convert to return \n",
    "\n",
    "    def producter(self, target_column):\n",
    "\n",
    "        col_name = (str(target_column).split('_'))[0]       \n",
    "        self.df[locals()['col_name'] + '_product'] = self.df[col_name + '_volume'] * self.df[col_name + '_close'] # j volume과 j close를 곱해서 \n",
    "\n",
    "        return self.df\n",
    "    \n",
    "    # executing functions\n",
    "    \n",
    "    def execution(self):\n",
    "        for i, j in enumerate(self.mdf['ticker']): # mdf에서 ticker 확인\n",
    "            if j in self.df.columns:\n",
    "                if self.mdf.loc[i, :][1] == 'product':  # key값이 product인 경우\n",
    "                    self.producter(j)\n",
    "                    col = str(j).split('_')[0]\n",
    "                    self.df[col + '_product'] = self.df[col + '_product'] / self.df[col + '_product'].shift(1)\n",
    "                    \n",
    "                #elif self.mdf.loc[i, :][1] == 'minus': # key값이 minus인 경우\n",
    "                #    self.differ(j)\n",
    "\n",
    "                #elif self.mdf.loc[i, :][1] == 'change': # key값이 change인 경우\n",
    "                #    self.returner(j)\n",
    "\n",
    "\n",
    "                elif self.mdf.loc[i, :][1] == 'target': # key값이 target인 경우 (현재 KRXsemiconductor_change)\n",
    "                    self.targeter(j)\n",
    "\n",
    "                else:\n",
    "                    pass\n",
    "            else:\n",
    "                pass\n",
    "                            \n",
    "        return self.df\n",
    "\n",
    "\n",
    "    # side : creating auto correlation graph function\n",
    "\n",
    "    def acf_cal(self, target):\n",
    "        data = pd.DataFrame(self.df[target])\n",
    "        data = data.interpolate(method = 'cubic', limit_area = 'inside').fillna(method = 'ffill').fillna(method = 'bfill')\n",
    "        acf = sm.tsa.acf(data)      \n",
    "        plt.stem(acf)\n",
    "        plt.show()"
   ]
  },
  {
   "cell_type": "code",
   "execution_count": 6,
   "metadata": {},
   "outputs": [],
   "source": [
    "newdf = df.copy()"
   ]
  },
  {
   "cell_type": "code",
   "execution_count": 7,
   "metadata": {},
   "outputs": [
    {
     "data": {
      "text/plain": [
       "417"
      ]
     },
     "execution_count": 7,
     "metadata": {},
     "output_type": "execute_result"
    }
   ],
   "source": [
    "len(newdf.columns)"
   ]
  },
  {
   "cell_type": "code",
   "execution_count": 8,
   "metadata": {},
   "outputs": [],
   "source": [
    "# date preprocessing\n",
    "\n",
    "newdf['date'] = pd.to_datetime(newdf['date'])\n",
    "newdf.set_index('date', inplace = True)"
   ]
  },
  {
   "cell_type": "code",
   "execution_count": 9,
   "metadata": {},
   "outputs": [],
   "source": [
    "# fillna cubic -> ffill -> bfill\n",
    "\n",
    "newdf = newdf.interpolate(method = 'cubic', limit_area = 'inside')\n",
    "newdf = newdf.fillna(method = 'ffill')\n",
    "newdf = newdf.fillna(method = 'bfill')"
   ]
  },
  {
   "cell_type": "code",
   "execution_count": 10,
   "metadata": {},
   "outputs": [
    {
     "data": {
      "text/plain": [
       "0"
      ]
     },
     "execution_count": 10,
     "metadata": {},
     "output_type": "execute_result"
    }
   ],
   "source": [
    "# check na value\n",
    "\n",
    "newdf.isna().sum().sum()"
   ]
  },
  {
   "cell_type": "code",
   "execution_count": 11,
   "metadata": {},
   "outputs": [],
   "source": [
    "# class load\n",
    "\n",
    "cla = Builder(newdf, mmdf, 60)"
   ]
  },
  {
   "cell_type": "code",
   "execution_count": 12,
   "metadata": {},
   "outputs": [
    {
     "data": {
      "text/html": [
       "<div>\n",
       "<style scoped>\n",
       "    .dataframe tbody tr th:only-of-type {\n",
       "        vertical-align: middle;\n",
       "    }\n",
       "\n",
       "    .dataframe tbody tr th {\n",
       "        vertical-align: top;\n",
       "    }\n",
       "\n",
       "    .dataframe thead th {\n",
       "        text-align: right;\n",
       "    }\n",
       "</style>\n",
       "<table border=\"1\" class=\"dataframe\">\n",
       "  <thead>\n",
       "    <tr style=\"text-align: right;\">\n",
       "      <th></th>\n",
       "      <th>GDPCQOQIndex</th>\n",
       "      <th>GDPCYOYIndex</th>\n",
       "      <th>GDPCTOT%Index</th>\n",
       "      <th>GPDITOC%Index</th>\n",
       "      <th>GPGSTOC%Index</th>\n",
       "      <th>RGCDCIPIIndex</th>\n",
       "      <th>GDPCUR$Index</th>\n",
       "      <th>GDPCURYIndex</th>\n",
       "      <th>GDPPIQQIndex</th>\n",
       "      <th>GDPCPCECIndex</th>\n",
       "      <th>CPIYOYIndex</th>\n",
       "      <th>CPIXYOYIndex</th>\n",
       "      <th>PCEDEFYIndex</th>\n",
       "      <th>PCECYOYIndex</th>\n",
       "      <th>CPICHNGIndex</th>\n",
       "      <th>CPUPXCHGIndex</th>\n",
       "      <th>FDIDFDMOIndex</th>\n",
       "      <th>FDIDSGMOIndex</th>\n",
       "      <th>FDIUFDYOIndex</th>\n",
       "      <th>FDIUSGYOIndex</th>\n",
       "      <th>USURTOTIndex</th>\n",
       "      <th>USUDMAERIndex</th>\n",
       "      <th>INJCJCIndex</th>\n",
       "      <th>INJCSPIndex</th>\n",
       "      <th>NFPTCHIndex</th>\n",
       "      <th>...</th>\n",
       "      <th>AMD_product</th>\n",
       "      <th>APPLE_product</th>\n",
       "      <th>AppliedMaterials_product</th>\n",
       "      <th>Aspeed_product</th>\n",
       "      <th>Dell_product</th>\n",
       "      <th>Facebook_product</th>\n",
       "      <th>Google_product</th>\n",
       "      <th>HPE_product</th>\n",
       "      <th>Intel_product</th>\n",
       "      <th>LamResearch_product</th>\n",
       "      <th>MediaTek_product</th>\n",
       "      <th>Micron_product</th>\n",
       "      <th>Microsoft_product</th>\n",
       "      <th>Nuvoton_product</th>\n",
       "      <th>Nvidia_product</th>\n",
       "      <th>Philadelphia_product</th>\n",
       "      <th>QCOM_product</th>\n",
       "      <th>SamsungElectronics_product</th>\n",
       "      <th>ShinEtsuChemical_product</th>\n",
       "      <th>Siltronic_product</th>\n",
       "      <th>SKhynix_product</th>\n",
       "      <th>Sumco_product</th>\n",
       "      <th>TokyoElectron_product</th>\n",
       "      <th>TSMC_product</th>\n",
       "      <th>UMC_product</th>\n",
       "    </tr>\n",
       "    <tr>\n",
       "      <th>date</th>\n",
       "      <th></th>\n",
       "      <th></th>\n",
       "      <th></th>\n",
       "      <th></th>\n",
       "      <th></th>\n",
       "      <th></th>\n",
       "      <th></th>\n",
       "      <th></th>\n",
       "      <th></th>\n",
       "      <th></th>\n",
       "      <th></th>\n",
       "      <th></th>\n",
       "      <th></th>\n",
       "      <th></th>\n",
       "      <th></th>\n",
       "      <th></th>\n",
       "      <th></th>\n",
       "      <th></th>\n",
       "      <th></th>\n",
       "      <th></th>\n",
       "      <th></th>\n",
       "      <th></th>\n",
       "      <th></th>\n",
       "      <th></th>\n",
       "      <th></th>\n",
       "      <th></th>\n",
       "      <th></th>\n",
       "      <th></th>\n",
       "      <th></th>\n",
       "      <th></th>\n",
       "      <th></th>\n",
       "      <th></th>\n",
       "      <th></th>\n",
       "      <th></th>\n",
       "      <th></th>\n",
       "      <th></th>\n",
       "      <th></th>\n",
       "      <th></th>\n",
       "      <th></th>\n",
       "      <th></th>\n",
       "      <th></th>\n",
       "      <th></th>\n",
       "      <th></th>\n",
       "      <th></th>\n",
       "      <th></th>\n",
       "      <th></th>\n",
       "      <th></th>\n",
       "      <th></th>\n",
       "      <th></th>\n",
       "      <th></th>\n",
       "      <th></th>\n",
       "    </tr>\n",
       "  </thead>\n",
       "  <tbody>\n",
       "    <tr>\n",
       "      <th>2006-01-02</th>\n",
       "      <td>5.4</td>\n",
       "      <td>3.4</td>\n",
       "      <td>4.5</td>\n",
       "      <td>6.1</td>\n",
       "      <td>5.2</td>\n",
       "      <td>102.7</td>\n",
       "      <td>13603.93</td>\n",
       "      <td>6.6</td>\n",
       "      <td>2.8</td>\n",
       "      <td>2.3</td>\n",
       "      <td>4.0</td>\n",
       "      <td>2.1</td>\n",
       "      <td>3.2</td>\n",
       "      <td>2.06622</td>\n",
       "      <td>0.6</td>\n",
       "      <td>0.2</td>\n",
       "      <td>0.1</td>\n",
       "      <td>0.3</td>\n",
       "      <td>2.6</td>\n",
       "      <td>2.2</td>\n",
       "      <td>4.700000</td>\n",
       "      <td>8.400000</td>\n",
       "      <td>326.0</td>\n",
       "      <td>2561.0</td>\n",
       "      <td>278.000000</td>\n",
       "      <td>...</td>\n",
       "      <td>NaN</td>\n",
       "      <td>NaN</td>\n",
       "      <td>NaN</td>\n",
       "      <td>NaN</td>\n",
       "      <td>NaN</td>\n",
       "      <td>NaN</td>\n",
       "      <td>NaN</td>\n",
       "      <td>NaN</td>\n",
       "      <td>NaN</td>\n",
       "      <td>NaN</td>\n",
       "      <td>NaN</td>\n",
       "      <td>NaN</td>\n",
       "      <td>NaN</td>\n",
       "      <td>NaN</td>\n",
       "      <td>NaN</td>\n",
       "      <td>NaN</td>\n",
       "      <td>NaN</td>\n",
       "      <td>NaN</td>\n",
       "      <td>NaN</td>\n",
       "      <td>NaN</td>\n",
       "      <td>NaN</td>\n",
       "      <td>NaN</td>\n",
       "      <td>NaN</td>\n",
       "      <td>NaN</td>\n",
       "      <td>NaN</td>\n",
       "    </tr>\n",
       "    <tr>\n",
       "      <th>2006-01-03</th>\n",
       "      <td>5.4</td>\n",
       "      <td>3.4</td>\n",
       "      <td>4.5</td>\n",
       "      <td>6.1</td>\n",
       "      <td>5.2</td>\n",
       "      <td>102.7</td>\n",
       "      <td>13603.93</td>\n",
       "      <td>6.6</td>\n",
       "      <td>2.8</td>\n",
       "      <td>2.3</td>\n",
       "      <td>4.0</td>\n",
       "      <td>2.1</td>\n",
       "      <td>3.2</td>\n",
       "      <td>2.06622</td>\n",
       "      <td>0.6</td>\n",
       "      <td>0.2</td>\n",
       "      <td>0.1</td>\n",
       "      <td>0.3</td>\n",
       "      <td>2.6</td>\n",
       "      <td>2.2</td>\n",
       "      <td>4.700000</td>\n",
       "      <td>8.400000</td>\n",
       "      <td>326.0</td>\n",
       "      <td>2561.0</td>\n",
       "      <td>278.000000</td>\n",
       "      <td>...</td>\n",
       "      <td>1.000000</td>\n",
       "      <td>1.000000</td>\n",
       "      <td>1.000000</td>\n",
       "      <td>1.000000</td>\n",
       "      <td>1.000000</td>\n",
       "      <td>1.000000</td>\n",
       "      <td>1.000000</td>\n",
       "      <td>1.000000</td>\n",
       "      <td>1.000000</td>\n",
       "      <td>1.000000</td>\n",
       "      <td>1.000000</td>\n",
       "      <td>1.000000</td>\n",
       "      <td>1.000000</td>\n",
       "      <td>1.000000</td>\n",
       "      <td>1.000000</td>\n",
       "      <td>1.000000</td>\n",
       "      <td>1.000000</td>\n",
       "      <td>0.862009</td>\n",
       "      <td>1.000000</td>\n",
       "      <td>1.000000</td>\n",
       "      <td>1.048766</td>\n",
       "      <td>1.000000</td>\n",
       "      <td>1.000000</td>\n",
       "      <td>1.000000</td>\n",
       "      <td>1.000000</td>\n",
       "    </tr>\n",
       "    <tr>\n",
       "      <th>2006-01-04</th>\n",
       "      <td>5.4</td>\n",
       "      <td>3.4</td>\n",
       "      <td>4.5</td>\n",
       "      <td>6.1</td>\n",
       "      <td>5.2</td>\n",
       "      <td>102.7</td>\n",
       "      <td>13603.93</td>\n",
       "      <td>6.6</td>\n",
       "      <td>2.8</td>\n",
       "      <td>2.3</td>\n",
       "      <td>4.0</td>\n",
       "      <td>2.1</td>\n",
       "      <td>3.2</td>\n",
       "      <td>2.06622</td>\n",
       "      <td>0.6</td>\n",
       "      <td>0.2</td>\n",
       "      <td>0.1</td>\n",
       "      <td>0.3</td>\n",
       "      <td>2.6</td>\n",
       "      <td>2.2</td>\n",
       "      <td>4.700000</td>\n",
       "      <td>8.400000</td>\n",
       "      <td>326.0</td>\n",
       "      <td>2561.0</td>\n",
       "      <td>278.000000</td>\n",
       "      <td>...</td>\n",
       "      <td>0.682030</td>\n",
       "      <td>0.771197</td>\n",
       "      <td>1.026287</td>\n",
       "      <td>1.000000</td>\n",
       "      <td>1.000000</td>\n",
       "      <td>1.000000</td>\n",
       "      <td>1.223552</td>\n",
       "      <td>1.000000</td>\n",
       "      <td>0.829714</td>\n",
       "      <td>0.967572</td>\n",
       "      <td>1.000000</td>\n",
       "      <td>1.380558</td>\n",
       "      <td>0.743634</td>\n",
       "      <td>1.000000</td>\n",
       "      <td>1.109161</td>\n",
       "      <td>0.967923</td>\n",
       "      <td>1.097724</td>\n",
       "      <td>2.307115</td>\n",
       "      <td>1.000000</td>\n",
       "      <td>1.000000</td>\n",
       "      <td>1.549763</td>\n",
       "      <td>1.000000</td>\n",
       "      <td>1.000000</td>\n",
       "      <td>0.788606</td>\n",
       "      <td>0.581332</td>\n",
       "    </tr>\n",
       "    <tr>\n",
       "      <th>2006-01-05</th>\n",
       "      <td>5.4</td>\n",
       "      <td>3.4</td>\n",
       "      <td>4.5</td>\n",
       "      <td>6.1</td>\n",
       "      <td>5.2</td>\n",
       "      <td>102.7</td>\n",
       "      <td>13603.93</td>\n",
       "      <td>6.6</td>\n",
       "      <td>2.8</td>\n",
       "      <td>2.3</td>\n",
       "      <td>4.0</td>\n",
       "      <td>2.1</td>\n",
       "      <td>3.2</td>\n",
       "      <td>2.06622</td>\n",
       "      <td>0.6</td>\n",
       "      <td>0.2</td>\n",
       "      <td>0.1</td>\n",
       "      <td>0.3</td>\n",
       "      <td>2.6</td>\n",
       "      <td>2.2</td>\n",
       "      <td>4.700000</td>\n",
       "      <td>8.400000</td>\n",
       "      <td>326.0</td>\n",
       "      <td>2561.0</td>\n",
       "      <td>278.000000</td>\n",
       "      <td>...</td>\n",
       "      <td>1.264163</td>\n",
       "      <td>0.718678</td>\n",
       "      <td>1.094089</td>\n",
       "      <td>1.000000</td>\n",
       "      <td>1.000000</td>\n",
       "      <td>1.000000</td>\n",
       "      <td>0.710449</td>\n",
       "      <td>1.000000</td>\n",
       "      <td>1.204864</td>\n",
       "      <td>0.824310</td>\n",
       "      <td>1.000000</td>\n",
       "      <td>0.901202</td>\n",
       "      <td>0.836536</td>\n",
       "      <td>1.000000</td>\n",
       "      <td>1.294707</td>\n",
       "      <td>1.168471</td>\n",
       "      <td>0.642743</td>\n",
       "      <td>0.878133</td>\n",
       "      <td>1.000000</td>\n",
       "      <td>1.000000</td>\n",
       "      <td>0.913503</td>\n",
       "      <td>1.000000</td>\n",
       "      <td>4.149537</td>\n",
       "      <td>0.835657</td>\n",
       "      <td>2.780952</td>\n",
       "    </tr>\n",
       "    <tr>\n",
       "      <th>2006-01-06</th>\n",
       "      <td>5.4</td>\n",
       "      <td>3.4</td>\n",
       "      <td>4.5</td>\n",
       "      <td>6.1</td>\n",
       "      <td>5.2</td>\n",
       "      <td>102.7</td>\n",
       "      <td>13603.93</td>\n",
       "      <td>6.6</td>\n",
       "      <td>2.8</td>\n",
       "      <td>2.3</td>\n",
       "      <td>4.0</td>\n",
       "      <td>2.1</td>\n",
       "      <td>3.2</td>\n",
       "      <td>2.06622</td>\n",
       "      <td>0.6</td>\n",
       "      <td>0.2</td>\n",
       "      <td>0.1</td>\n",
       "      <td>0.3</td>\n",
       "      <td>2.6</td>\n",
       "      <td>2.2</td>\n",
       "      <td>4.700000</td>\n",
       "      <td>8.400000</td>\n",
       "      <td>326.0</td>\n",
       "      <td>2561.0</td>\n",
       "      <td>278.000000</td>\n",
       "      <td>...</td>\n",
       "      <td>0.966656</td>\n",
       "      <td>1.606885</td>\n",
       "      <td>1.514631</td>\n",
       "      <td>1.000000</td>\n",
       "      <td>1.000000</td>\n",
       "      <td>1.000000</td>\n",
       "      <td>1.685084</td>\n",
       "      <td>1.000000</td>\n",
       "      <td>0.833842</td>\n",
       "      <td>1.282477</td>\n",
       "      <td>1.000000</td>\n",
       "      <td>0.947752</td>\n",
       "      <td>2.059981</td>\n",
       "      <td>1.000000</td>\n",
       "      <td>0.980556</td>\n",
       "      <td>1.047620</td>\n",
       "      <td>2.572150</td>\n",
       "      <td>0.504080</td>\n",
       "      <td>1.000000</td>\n",
       "      <td>1.000000</td>\n",
       "      <td>0.596882</td>\n",
       "      <td>1.000000</td>\n",
       "      <td>1.117321</td>\n",
       "      <td>1.553101</td>\n",
       "      <td>1.545230</td>\n",
       "    </tr>\n",
       "    <tr>\n",
       "      <th>...</th>\n",
       "      <td>...</td>\n",
       "      <td>...</td>\n",
       "      <td>...</td>\n",
       "      <td>...</td>\n",
       "      <td>...</td>\n",
       "      <td>...</td>\n",
       "      <td>...</td>\n",
       "      <td>...</td>\n",
       "      <td>...</td>\n",
       "      <td>...</td>\n",
       "      <td>...</td>\n",
       "      <td>...</td>\n",
       "      <td>...</td>\n",
       "      <td>...</td>\n",
       "      <td>...</td>\n",
       "      <td>...</td>\n",
       "      <td>...</td>\n",
       "      <td>...</td>\n",
       "      <td>...</td>\n",
       "      <td>...</td>\n",
       "      <td>...</td>\n",
       "      <td>...</td>\n",
       "      <td>...</td>\n",
       "      <td>...</td>\n",
       "      <td>...</td>\n",
       "      <td>...</td>\n",
       "      <td>...</td>\n",
       "      <td>...</td>\n",
       "      <td>...</td>\n",
       "      <td>...</td>\n",
       "      <td>...</td>\n",
       "      <td>...</td>\n",
       "      <td>...</td>\n",
       "      <td>...</td>\n",
       "      <td>...</td>\n",
       "      <td>...</td>\n",
       "      <td>...</td>\n",
       "      <td>...</td>\n",
       "      <td>...</td>\n",
       "      <td>...</td>\n",
       "      <td>...</td>\n",
       "      <td>...</td>\n",
       "      <td>...</td>\n",
       "      <td>...</td>\n",
       "      <td>...</td>\n",
       "      <td>...</td>\n",
       "      <td>...</td>\n",
       "      <td>...</td>\n",
       "      <td>...</td>\n",
       "      <td>...</td>\n",
       "      <td>...</td>\n",
       "    </tr>\n",
       "    <tr>\n",
       "      <th>2019-10-27</th>\n",
       "      <td>1.9</td>\n",
       "      <td>2.0</td>\n",
       "      <td>2.9</td>\n",
       "      <td>-1.5</td>\n",
       "      <td>2.0</td>\n",
       "      <td>69.0</td>\n",
       "      <td>21525.82</td>\n",
       "      <td>3.7</td>\n",
       "      <td>1.7</td>\n",
       "      <td>2.2</td>\n",
       "      <td>1.7</td>\n",
       "      <td>2.4</td>\n",
       "      <td>1.3</td>\n",
       "      <td>1.66611</td>\n",
       "      <td>0.0</td>\n",
       "      <td>0.1</td>\n",
       "      <td>-0.3</td>\n",
       "      <td>-0.3</td>\n",
       "      <td>1.4</td>\n",
       "      <td>2.0</td>\n",
       "      <td>3.543428</td>\n",
       "      <td>6.908116</td>\n",
       "      <td>218.0</td>\n",
       "      <td>1690.0</td>\n",
       "      <td>128.639710</td>\n",
       "      <td>...</td>\n",
       "      <td>0.900501</td>\n",
       "      <td>1.010875</td>\n",
       "      <td>1.764097</td>\n",
       "      <td>0.820641</td>\n",
       "      <td>0.808665</td>\n",
       "      <td>1.410060</td>\n",
       "      <td>1.415943</td>\n",
       "      <td>0.954658</td>\n",
       "      <td>0.776571</td>\n",
       "      <td>2.092578</td>\n",
       "      <td>0.829932</td>\n",
       "      <td>1.022473</td>\n",
       "      <td>1.347411</td>\n",
       "      <td>1.486079</td>\n",
       "      <td>0.898487</td>\n",
       "      <td>0.954025</td>\n",
       "      <td>1.223596</td>\n",
       "      <td>-7.016632</td>\n",
       "      <td>1.443049</td>\n",
       "      <td>0.882592</td>\n",
       "      <td>0.724875</td>\n",
       "      <td>0.591650</td>\n",
       "      <td>1.185079</td>\n",
       "      <td>0.728242</td>\n",
       "      <td>8.957344</td>\n",
       "    </tr>\n",
       "    <tr>\n",
       "      <th>2019-10-28</th>\n",
       "      <td>1.9</td>\n",
       "      <td>2.0</td>\n",
       "      <td>2.9</td>\n",
       "      <td>-1.5</td>\n",
       "      <td>2.0</td>\n",
       "      <td>69.0</td>\n",
       "      <td>21525.82</td>\n",
       "      <td>3.7</td>\n",
       "      <td>1.7</td>\n",
       "      <td>2.2</td>\n",
       "      <td>1.7</td>\n",
       "      <td>2.4</td>\n",
       "      <td>1.3</td>\n",
       "      <td>1.66611</td>\n",
       "      <td>0.0</td>\n",
       "      <td>0.1</td>\n",
       "      <td>-0.3</td>\n",
       "      <td>-0.3</td>\n",
       "      <td>1.4</td>\n",
       "      <td>2.0</td>\n",
       "      <td>3.556001</td>\n",
       "      <td>6.928135</td>\n",
       "      <td>218.0</td>\n",
       "      <td>1690.0</td>\n",
       "      <td>128.219228</td>\n",
       "      <td>...</td>\n",
       "      <td>1.213115</td>\n",
       "      <td>1.395378</td>\n",
       "      <td>1.417193</td>\n",
       "      <td>0.968297</td>\n",
       "      <td>1.516745</td>\n",
       "      <td>1.109701</td>\n",
       "      <td>1.114263</td>\n",
       "      <td>1.105058</td>\n",
       "      <td>0.581300</td>\n",
       "      <td>1.697246</td>\n",
       "      <td>3.008876</td>\n",
       "      <td>0.982582</td>\n",
       "      <td>1.005550</td>\n",
       "      <td>0.918295</td>\n",
       "      <td>0.709275</td>\n",
       "      <td>0.988696</td>\n",
       "      <td>0.869484</td>\n",
       "      <td>3.268112</td>\n",
       "      <td>0.911087</td>\n",
       "      <td>0.984864</td>\n",
       "      <td>0.598464</td>\n",
       "      <td>0.436636</td>\n",
       "      <td>1.103782</td>\n",
       "      <td>1.596400</td>\n",
       "      <td>-4.887075</td>\n",
       "    </tr>\n",
       "    <tr>\n",
       "      <th>2019-10-29</th>\n",
       "      <td>1.9</td>\n",
       "      <td>2.0</td>\n",
       "      <td>2.9</td>\n",
       "      <td>-1.5</td>\n",
       "      <td>2.0</td>\n",
       "      <td>69.0</td>\n",
       "      <td>21525.82</td>\n",
       "      <td>3.7</td>\n",
       "      <td>1.7</td>\n",
       "      <td>2.2</td>\n",
       "      <td>1.7</td>\n",
       "      <td>2.4</td>\n",
       "      <td>1.3</td>\n",
       "      <td>1.66611</td>\n",
       "      <td>0.0</td>\n",
       "      <td>0.1</td>\n",
       "      <td>-0.3</td>\n",
       "      <td>-0.3</td>\n",
       "      <td>1.4</td>\n",
       "      <td>2.0</td>\n",
       "      <td>3.569604</td>\n",
       "      <td>6.950086</td>\n",
       "      <td>218.0</td>\n",
       "      <td>1690.0</td>\n",
       "      <td>127.968071</td>\n",
       "      <td>...</td>\n",
       "      <td>1.506408</td>\n",
       "      <td>1.445075</td>\n",
       "      <td>0.717119</td>\n",
       "      <td>1.250066</td>\n",
       "      <td>1.680148</td>\n",
       "      <td>1.011607</td>\n",
       "      <td>0.793725</td>\n",
       "      <td>1.167880</td>\n",
       "      <td>0.557896</td>\n",
       "      <td>0.832619</td>\n",
       "      <td>1.914615</td>\n",
       "      <td>0.789692</td>\n",
       "      <td>0.580119</td>\n",
       "      <td>0.417745</td>\n",
       "      <td>0.626504</td>\n",
       "      <td>1.023202</td>\n",
       "      <td>0.493114</td>\n",
       "      <td>1.174228</td>\n",
       "      <td>0.410159</td>\n",
       "      <td>1.089446</td>\n",
       "      <td>0.832789</td>\n",
       "      <td>1.231150</td>\n",
       "      <td>1.131356</td>\n",
       "      <td>1.864625</td>\n",
       "      <td>2.523049</td>\n",
       "    </tr>\n",
       "    <tr>\n",
       "      <th>2019-10-30</th>\n",
       "      <td>1.9</td>\n",
       "      <td>2.0</td>\n",
       "      <td>2.9</td>\n",
       "      <td>-1.5</td>\n",
       "      <td>2.0</td>\n",
       "      <td>69.0</td>\n",
       "      <td>21525.82</td>\n",
       "      <td>3.7</td>\n",
       "      <td>1.7</td>\n",
       "      <td>2.2</td>\n",
       "      <td>1.7</td>\n",
       "      <td>2.4</td>\n",
       "      <td>1.3</td>\n",
       "      <td>1.66611</td>\n",
       "      <td>0.0</td>\n",
       "      <td>0.1</td>\n",
       "      <td>-0.3</td>\n",
       "      <td>-0.3</td>\n",
       "      <td>1.4</td>\n",
       "      <td>2.0</td>\n",
       "      <td>3.584262</td>\n",
       "      <td>6.974023</td>\n",
       "      <td>218.0</td>\n",
       "      <td>1690.0</td>\n",
       "      <td>127.892806</td>\n",
       "      <td>...</td>\n",
       "      <td>0.997037</td>\n",
       "      <td>0.871637</td>\n",
       "      <td>0.660472</td>\n",
       "      <td>0.599521</td>\n",
       "      <td>0.656067</td>\n",
       "      <td>2.089199</td>\n",
       "      <td>0.552940</td>\n",
       "      <td>0.991999</td>\n",
       "      <td>0.843633</td>\n",
       "      <td>0.559295</td>\n",
       "      <td>0.826001</td>\n",
       "      <td>1.056501</td>\n",
       "      <td>0.899376</td>\n",
       "      <td>0.506841</td>\n",
       "      <td>0.975763</td>\n",
       "      <td>0.925346</td>\n",
       "      <td>0.793448</td>\n",
       "      <td>1.165541</td>\n",
       "      <td>0.758679</td>\n",
       "      <td>1.083804</td>\n",
       "      <td>1.150234</td>\n",
       "      <td>0.694483</td>\n",
       "      <td>1.647300</td>\n",
       "      <td>0.877406</td>\n",
       "      <td>0.370442</td>\n",
       "    </tr>\n",
       "    <tr>\n",
       "      <th>2019-10-31</th>\n",
       "      <td>1.9</td>\n",
       "      <td>2.0</td>\n",
       "      <td>2.9</td>\n",
       "      <td>-1.5</td>\n",
       "      <td>2.0</td>\n",
       "      <td>69.0</td>\n",
       "      <td>21525.82</td>\n",
       "      <td>3.7</td>\n",
       "      <td>1.7</td>\n",
       "      <td>2.2</td>\n",
       "      <td>1.7</td>\n",
       "      <td>2.4</td>\n",
       "      <td>1.3</td>\n",
       "      <td>1.66611</td>\n",
       "      <td>0.0</td>\n",
       "      <td>0.1</td>\n",
       "      <td>-0.3</td>\n",
       "      <td>-0.3</td>\n",
       "      <td>1.4</td>\n",
       "      <td>2.0</td>\n",
       "      <td>3.600000</td>\n",
       "      <td>7.000000</td>\n",
       "      <td>218.0</td>\n",
       "      <td>1690.0</td>\n",
       "      <td>128.000000</td>\n",
       "      <td>...</td>\n",
       "      <td>0.888650</td>\n",
       "      <td>1.142839</td>\n",
       "      <td>1.553683</td>\n",
       "      <td>0.854794</td>\n",
       "      <td>0.895231</td>\n",
       "      <td>1.489947</td>\n",
       "      <td>1.094865</td>\n",
       "      <td>0.881892</td>\n",
       "      <td>1.260734</td>\n",
       "      <td>2.250674</td>\n",
       "      <td>2.198532</td>\n",
       "      <td>1.186660</td>\n",
       "      <td>1.332134</td>\n",
       "      <td>1.373651</td>\n",
       "      <td>1.007552</td>\n",
       "      <td>1.120675</td>\n",
       "      <td>1.415651</td>\n",
       "      <td>1.150159</td>\n",
       "      <td>2.028561</td>\n",
       "      <td>1.141342</td>\n",
       "      <td>1.033135</td>\n",
       "      <td>1.118354</td>\n",
       "      <td>1.453485</td>\n",
       "      <td>1.324952</td>\n",
       "      <td>2.656823</td>\n",
       "    </tr>\n",
       "  </tbody>\n",
       "</table>\n",
       "<p>5051 rows × 442 columns</p>\n",
       "</div>"
      ],
      "text/plain": [
       "            GDPCQOQIndex  GDPCYOYIndex  GDPCTOT%Index  GPDITOC%Index  GPGSTOC%Index  \\\n",
       "date                                                                                  \n",
       "2006-01-02           5.4           3.4            4.5            6.1            5.2   \n",
       "2006-01-03           5.4           3.4            4.5            6.1            5.2   \n",
       "2006-01-04           5.4           3.4            4.5            6.1            5.2   \n",
       "2006-01-05           5.4           3.4            4.5            6.1            5.2   \n",
       "2006-01-06           5.4           3.4            4.5            6.1            5.2   \n",
       "...                  ...           ...            ...            ...            ...   \n",
       "2019-10-27           1.9           2.0            2.9           -1.5            2.0   \n",
       "2019-10-28           1.9           2.0            2.9           -1.5            2.0   \n",
       "2019-10-29           1.9           2.0            2.9           -1.5            2.0   \n",
       "2019-10-30           1.9           2.0            2.9           -1.5            2.0   \n",
       "2019-10-31           1.9           2.0            2.9           -1.5            2.0   \n",
       "\n",
       "            RGCDCIPIIndex  GDPCUR$Index  GDPCURYIndex  GDPPIQQIndex  GDPCPCECIndex  CPIYOYIndex  \\\n",
       "date                                                                                              \n",
       "2006-01-02          102.7      13603.93           6.6           2.8            2.3          4.0   \n",
       "2006-01-03          102.7      13603.93           6.6           2.8            2.3          4.0   \n",
       "2006-01-04          102.7      13603.93           6.6           2.8            2.3          4.0   \n",
       "2006-01-05          102.7      13603.93           6.6           2.8            2.3          4.0   \n",
       "2006-01-06          102.7      13603.93           6.6           2.8            2.3          4.0   \n",
       "...                   ...           ...           ...           ...            ...          ...   \n",
       "2019-10-27           69.0      21525.82           3.7           1.7            2.2          1.7   \n",
       "2019-10-28           69.0      21525.82           3.7           1.7            2.2          1.7   \n",
       "2019-10-29           69.0      21525.82           3.7           1.7            2.2          1.7   \n",
       "2019-10-30           69.0      21525.82           3.7           1.7            2.2          1.7   \n",
       "2019-10-31           69.0      21525.82           3.7           1.7            2.2          1.7   \n",
       "\n",
       "            CPIXYOYIndex  PCEDEFYIndex  PCECYOYIndex  CPICHNGIndex  CPUPXCHGIndex  FDIDFDMOIndex  \\\n",
       "date                                                                                               \n",
       "2006-01-02           2.1           3.2       2.06622           0.6            0.2            0.1   \n",
       "2006-01-03           2.1           3.2       2.06622           0.6            0.2            0.1   \n",
       "2006-01-04           2.1           3.2       2.06622           0.6            0.2            0.1   \n",
       "2006-01-05           2.1           3.2       2.06622           0.6            0.2            0.1   \n",
       "2006-01-06           2.1           3.2       2.06622           0.6            0.2            0.1   \n",
       "...                  ...           ...           ...           ...            ...            ...   \n",
       "2019-10-27           2.4           1.3       1.66611           0.0            0.1           -0.3   \n",
       "2019-10-28           2.4           1.3       1.66611           0.0            0.1           -0.3   \n",
       "2019-10-29           2.4           1.3       1.66611           0.0            0.1           -0.3   \n",
       "2019-10-30           2.4           1.3       1.66611           0.0            0.1           -0.3   \n",
       "2019-10-31           2.4           1.3       1.66611           0.0            0.1           -0.3   \n",
       "\n",
       "            FDIDSGMOIndex  FDIUFDYOIndex  FDIUSGYOIndex  USURTOTIndex  USUDMAERIndex  INJCJCIndex  \\\n",
       "date                                                                                                \n",
       "2006-01-02            0.3            2.6            2.2      4.700000       8.400000        326.0   \n",
       "2006-01-03            0.3            2.6            2.2      4.700000       8.400000        326.0   \n",
       "2006-01-04            0.3            2.6            2.2      4.700000       8.400000        326.0   \n",
       "2006-01-05            0.3            2.6            2.2      4.700000       8.400000        326.0   \n",
       "2006-01-06            0.3            2.6            2.2      4.700000       8.400000        326.0   \n",
       "...                   ...            ...            ...           ...            ...          ...   \n",
       "2019-10-27           -0.3            1.4            2.0      3.543428       6.908116        218.0   \n",
       "2019-10-28           -0.3            1.4            2.0      3.556001       6.928135        218.0   \n",
       "2019-10-29           -0.3            1.4            2.0      3.569604       6.950086        218.0   \n",
       "2019-10-30           -0.3            1.4            2.0      3.584262       6.974023        218.0   \n",
       "2019-10-31           -0.3            1.4            2.0      3.600000       7.000000        218.0   \n",
       "\n",
       "            INJCSPIndex  NFPTCHIndex  ...  AMD_product  APPLE_product  AppliedMaterials_product  \\\n",
       "date                                  ...                                                         \n",
       "2006-01-02       2561.0   278.000000  ...          NaN            NaN                       NaN   \n",
       "2006-01-03       2561.0   278.000000  ...     1.000000       1.000000                  1.000000   \n",
       "2006-01-04       2561.0   278.000000  ...     0.682030       0.771197                  1.026287   \n",
       "2006-01-05       2561.0   278.000000  ...     1.264163       0.718678                  1.094089   \n",
       "2006-01-06       2561.0   278.000000  ...     0.966656       1.606885                  1.514631   \n",
       "...                 ...          ...  ...          ...            ...                       ...   \n",
       "2019-10-27       1690.0   128.639710  ...     0.900501       1.010875                  1.764097   \n",
       "2019-10-28       1690.0   128.219228  ...     1.213115       1.395378                  1.417193   \n",
       "2019-10-29       1690.0   127.968071  ...     1.506408       1.445075                  0.717119   \n",
       "2019-10-30       1690.0   127.892806  ...     0.997037       0.871637                  0.660472   \n",
       "2019-10-31       1690.0   128.000000  ...     0.888650       1.142839                  1.553683   \n",
       "\n",
       "            Aspeed_product  Dell_product  Facebook_product  Google_product  HPE_product  \\\n",
       "date                                                                                      \n",
       "2006-01-02             NaN           NaN               NaN             NaN          NaN   \n",
       "2006-01-03        1.000000      1.000000          1.000000        1.000000     1.000000   \n",
       "2006-01-04        1.000000      1.000000          1.000000        1.223552     1.000000   \n",
       "2006-01-05        1.000000      1.000000          1.000000        0.710449     1.000000   \n",
       "2006-01-06        1.000000      1.000000          1.000000        1.685084     1.000000   \n",
       "...                    ...           ...               ...             ...          ...   \n",
       "2019-10-27        0.820641      0.808665          1.410060        1.415943     0.954658   \n",
       "2019-10-28        0.968297      1.516745          1.109701        1.114263     1.105058   \n",
       "2019-10-29        1.250066      1.680148          1.011607        0.793725     1.167880   \n",
       "2019-10-30        0.599521      0.656067          2.089199        0.552940     0.991999   \n",
       "2019-10-31        0.854794      0.895231          1.489947        1.094865     0.881892   \n",
       "\n",
       "            Intel_product  LamResearch_product  MediaTek_product  Micron_product  \\\n",
       "date                                                                               \n",
       "2006-01-02            NaN                  NaN               NaN             NaN   \n",
       "2006-01-03       1.000000             1.000000          1.000000        1.000000   \n",
       "2006-01-04       0.829714             0.967572          1.000000        1.380558   \n",
       "2006-01-05       1.204864             0.824310          1.000000        0.901202   \n",
       "2006-01-06       0.833842             1.282477          1.000000        0.947752   \n",
       "...                   ...                  ...               ...             ...   \n",
       "2019-10-27       0.776571             2.092578          0.829932        1.022473   \n",
       "2019-10-28       0.581300             1.697246          3.008876        0.982582   \n",
       "2019-10-29       0.557896             0.832619          1.914615        0.789692   \n",
       "2019-10-30       0.843633             0.559295          0.826001        1.056501   \n",
       "2019-10-31       1.260734             2.250674          2.198532        1.186660   \n",
       "\n",
       "            Microsoft_product  Nuvoton_product  Nvidia_product  Philadelphia_product  \\\n",
       "date                                                                                   \n",
       "2006-01-02                NaN              NaN             NaN                   NaN   \n",
       "2006-01-03           1.000000         1.000000        1.000000              1.000000   \n",
       "2006-01-04           0.743634         1.000000        1.109161              0.967923   \n",
       "2006-01-05           0.836536         1.000000        1.294707              1.168471   \n",
       "2006-01-06           2.059981         1.000000        0.980556              1.047620   \n",
       "...                       ...              ...             ...                   ...   \n",
       "2019-10-27           1.347411         1.486079        0.898487              0.954025   \n",
       "2019-10-28           1.005550         0.918295        0.709275              0.988696   \n",
       "2019-10-29           0.580119         0.417745        0.626504              1.023202   \n",
       "2019-10-30           0.899376         0.506841        0.975763              0.925346   \n",
       "2019-10-31           1.332134         1.373651        1.007552              1.120675   \n",
       "\n",
       "            QCOM_product  SamsungElectronics_product  ShinEtsuChemical_product  Siltronic_product  \\\n",
       "date                                                                                                \n",
       "2006-01-02           NaN                         NaN                       NaN                NaN   \n",
       "2006-01-03      1.000000                    0.862009                  1.000000           1.000000   \n",
       "2006-01-04      1.097724                    2.307115                  1.000000           1.000000   \n",
       "2006-01-05      0.642743                    0.878133                  1.000000           1.000000   \n",
       "2006-01-06      2.572150                    0.504080                  1.000000           1.000000   \n",
       "...                  ...                         ...                       ...                ...   \n",
       "2019-10-27      1.223596                   -7.016632                  1.443049           0.882592   \n",
       "2019-10-28      0.869484                    3.268112                  0.911087           0.984864   \n",
       "2019-10-29      0.493114                    1.174228                  0.410159           1.089446   \n",
       "2019-10-30      0.793448                    1.165541                  0.758679           1.083804   \n",
       "2019-10-31      1.415651                    1.150159                  2.028561           1.141342   \n",
       "\n",
       "            SKhynix_product  Sumco_product  TokyoElectron_product  TSMC_product  UMC_product  \n",
       "date                                                                                          \n",
       "2006-01-02              NaN            NaN                    NaN           NaN          NaN  \n",
       "2006-01-03         1.048766       1.000000               1.000000      1.000000     1.000000  \n",
       "2006-01-04         1.549763       1.000000               1.000000      0.788606     0.581332  \n",
       "2006-01-05         0.913503       1.000000               4.149537      0.835657     2.780952  \n",
       "2006-01-06         0.596882       1.000000               1.117321      1.553101     1.545230  \n",
       "...                     ...            ...                    ...           ...          ...  \n",
       "2019-10-27         0.724875       0.591650               1.185079      0.728242     8.957344  \n",
       "2019-10-28         0.598464       0.436636               1.103782      1.596400    -4.887075  \n",
       "2019-10-29         0.832789       1.231150               1.131356      1.864625     2.523049  \n",
       "2019-10-30         1.150234       0.694483               1.647300      0.877406     0.370442  \n",
       "2019-10-31         1.033135       1.118354               1.453485      1.324952     2.656823  \n",
       "\n",
       "[5051 rows x 442 columns]"
      ]
     },
     "execution_count": 12,
     "metadata": {},
     "output_type": "execute_result"
    }
   ],
   "source": [
    "# execution function\n",
    "# 새로운 데이터프레임 생성 \n",
    "cla.execution()"
   ]
  },
  {
   "cell_type": "code",
   "execution_count": 13,
   "metadata": {},
   "outputs": [],
   "source": [
    "# fill na for shifted data\n",
    "\n",
    "newdf = cla.df.fillna(method = 'ffill').fillna(method = 'bfill')"
   ]
  },
  {
   "cell_type": "code",
   "execution_count": 14,
   "metadata": {},
   "outputs": [
    {
     "data": {
      "text/plain": [
       "0"
      ]
     },
     "execution_count": 14,
     "metadata": {},
     "output_type": "execute_result"
    }
   ],
   "source": [
    "# check na\n",
    "\n",
    "newdf.isna().sum().sum()"
   ]
  },
  {
   "cell_type": "code",
   "execution_count": 15,
   "metadata": {},
   "outputs": [
    {
     "data": {
      "text/plain": [
       "442"
      ]
     },
     "execution_count": 15,
     "metadata": {},
     "output_type": "execute_result"
    }
   ],
   "source": [
    "# features\n",
    "\n",
    "len(newdf.columns)"
   ]
  },
  {
   "cell_type": "code",
   "execution_count": 16,
   "metadata": {},
   "outputs": [
    {
     "data": {
      "text/plain": [
       "442"
      ]
     },
     "execution_count": 16,
     "metadata": {},
     "output_type": "execute_result"
    }
   ],
   "source": [
    "len(newdf.columns)"
   ]
  },
  {
   "cell_type": "markdown",
   "metadata": {},
   "source": [
    "# Scaling"
   ]
  },
  {
   "cell_type": "code",
   "execution_count": 17,
   "metadata": {},
   "outputs": [],
   "source": [
    "newdf.reset_index(inplace = True)"
   ]
  },
  {
   "cell_type": "code",
   "execution_count": 18,
   "metadata": {},
   "outputs": [
    {
     "data": {
      "text/html": [
       "<div>\n",
       "<style scoped>\n",
       "    .dataframe tbody tr th:only-of-type {\n",
       "        vertical-align: middle;\n",
       "    }\n",
       "\n",
       "    .dataframe tbody tr th {\n",
       "        vertical-align: top;\n",
       "    }\n",
       "\n",
       "    .dataframe thead th {\n",
       "        text-align: right;\n",
       "    }\n",
       "</style>\n",
       "<table border=\"1\" class=\"dataframe\">\n",
       "  <thead>\n",
       "    <tr style=\"text-align: right;\">\n",
       "      <th></th>\n",
       "      <th>date</th>\n",
       "      <th>GDPCQOQIndex</th>\n",
       "      <th>GDPCYOYIndex</th>\n",
       "      <th>GDPCTOT%Index</th>\n",
       "      <th>GPDITOC%Index</th>\n",
       "      <th>GPGSTOC%Index</th>\n",
       "      <th>RGCDCIPIIndex</th>\n",
       "      <th>GDPCUR$Index</th>\n",
       "      <th>GDPCURYIndex</th>\n",
       "      <th>GDPPIQQIndex</th>\n",
       "      <th>GDPCPCECIndex</th>\n",
       "      <th>CPIYOYIndex</th>\n",
       "      <th>CPIXYOYIndex</th>\n",
       "      <th>PCEDEFYIndex</th>\n",
       "      <th>PCECYOYIndex</th>\n",
       "      <th>CPICHNGIndex</th>\n",
       "      <th>CPUPXCHGIndex</th>\n",
       "      <th>FDIDFDMOIndex</th>\n",
       "      <th>FDIDSGMOIndex</th>\n",
       "      <th>FDIUFDYOIndex</th>\n",
       "      <th>FDIUSGYOIndex</th>\n",
       "      <th>USURTOTIndex</th>\n",
       "      <th>USUDMAERIndex</th>\n",
       "      <th>INJCJCIndex</th>\n",
       "      <th>INJCSPIndex</th>\n",
       "      <th>...</th>\n",
       "      <th>AMD_product</th>\n",
       "      <th>APPLE_product</th>\n",
       "      <th>AppliedMaterials_product</th>\n",
       "      <th>Aspeed_product</th>\n",
       "      <th>Dell_product</th>\n",
       "      <th>Facebook_product</th>\n",
       "      <th>Google_product</th>\n",
       "      <th>HPE_product</th>\n",
       "      <th>Intel_product</th>\n",
       "      <th>LamResearch_product</th>\n",
       "      <th>MediaTek_product</th>\n",
       "      <th>Micron_product</th>\n",
       "      <th>Microsoft_product</th>\n",
       "      <th>Nuvoton_product</th>\n",
       "      <th>Nvidia_product</th>\n",
       "      <th>Philadelphia_product</th>\n",
       "      <th>QCOM_product</th>\n",
       "      <th>SamsungElectronics_product</th>\n",
       "      <th>ShinEtsuChemical_product</th>\n",
       "      <th>Siltronic_product</th>\n",
       "      <th>SKhynix_product</th>\n",
       "      <th>Sumco_product</th>\n",
       "      <th>TokyoElectron_product</th>\n",
       "      <th>TSMC_product</th>\n",
       "      <th>UMC_product</th>\n",
       "    </tr>\n",
       "  </thead>\n",
       "  <tbody>\n",
       "    <tr>\n",
       "      <th>0</th>\n",
       "      <td>2006-01-02</td>\n",
       "      <td>5.4</td>\n",
       "      <td>3.4</td>\n",
       "      <td>4.5</td>\n",
       "      <td>6.1</td>\n",
       "      <td>5.2</td>\n",
       "      <td>102.7</td>\n",
       "      <td>13603.93</td>\n",
       "      <td>6.6</td>\n",
       "      <td>2.8</td>\n",
       "      <td>2.3</td>\n",
       "      <td>4.0</td>\n",
       "      <td>2.1</td>\n",
       "      <td>3.2</td>\n",
       "      <td>2.06622</td>\n",
       "      <td>0.6</td>\n",
       "      <td>0.2</td>\n",
       "      <td>0.1</td>\n",
       "      <td>0.3</td>\n",
       "      <td>2.6</td>\n",
       "      <td>2.2</td>\n",
       "      <td>4.7</td>\n",
       "      <td>8.4</td>\n",
       "      <td>326.0</td>\n",
       "      <td>2561.0</td>\n",
       "      <td>...</td>\n",
       "      <td>1.000000</td>\n",
       "      <td>1.000000</td>\n",
       "      <td>1.000000</td>\n",
       "      <td>1.0</td>\n",
       "      <td>1.0</td>\n",
       "      <td>1.0</td>\n",
       "      <td>1.000000</td>\n",
       "      <td>1.0</td>\n",
       "      <td>1.000000</td>\n",
       "      <td>1.000000</td>\n",
       "      <td>1.0</td>\n",
       "      <td>1.000000</td>\n",
       "      <td>1.000000</td>\n",
       "      <td>1.0</td>\n",
       "      <td>1.000000</td>\n",
       "      <td>1.000000</td>\n",
       "      <td>1.000000</td>\n",
       "      <td>0.862009</td>\n",
       "      <td>1.0</td>\n",
       "      <td>1.0</td>\n",
       "      <td>1.048766</td>\n",
       "      <td>1.0</td>\n",
       "      <td>1.000000</td>\n",
       "      <td>1.000000</td>\n",
       "      <td>1.000000</td>\n",
       "    </tr>\n",
       "    <tr>\n",
       "      <th>1</th>\n",
       "      <td>2006-01-03</td>\n",
       "      <td>5.4</td>\n",
       "      <td>3.4</td>\n",
       "      <td>4.5</td>\n",
       "      <td>6.1</td>\n",
       "      <td>5.2</td>\n",
       "      <td>102.7</td>\n",
       "      <td>13603.93</td>\n",
       "      <td>6.6</td>\n",
       "      <td>2.8</td>\n",
       "      <td>2.3</td>\n",
       "      <td>4.0</td>\n",
       "      <td>2.1</td>\n",
       "      <td>3.2</td>\n",
       "      <td>2.06622</td>\n",
       "      <td>0.6</td>\n",
       "      <td>0.2</td>\n",
       "      <td>0.1</td>\n",
       "      <td>0.3</td>\n",
       "      <td>2.6</td>\n",
       "      <td>2.2</td>\n",
       "      <td>4.7</td>\n",
       "      <td>8.4</td>\n",
       "      <td>326.0</td>\n",
       "      <td>2561.0</td>\n",
       "      <td>...</td>\n",
       "      <td>1.000000</td>\n",
       "      <td>1.000000</td>\n",
       "      <td>1.000000</td>\n",
       "      <td>1.0</td>\n",
       "      <td>1.0</td>\n",
       "      <td>1.0</td>\n",
       "      <td>1.000000</td>\n",
       "      <td>1.0</td>\n",
       "      <td>1.000000</td>\n",
       "      <td>1.000000</td>\n",
       "      <td>1.0</td>\n",
       "      <td>1.000000</td>\n",
       "      <td>1.000000</td>\n",
       "      <td>1.0</td>\n",
       "      <td>1.000000</td>\n",
       "      <td>1.000000</td>\n",
       "      <td>1.000000</td>\n",
       "      <td>0.862009</td>\n",
       "      <td>1.0</td>\n",
       "      <td>1.0</td>\n",
       "      <td>1.048766</td>\n",
       "      <td>1.0</td>\n",
       "      <td>1.000000</td>\n",
       "      <td>1.000000</td>\n",
       "      <td>1.000000</td>\n",
       "    </tr>\n",
       "    <tr>\n",
       "      <th>2</th>\n",
       "      <td>2006-01-04</td>\n",
       "      <td>5.4</td>\n",
       "      <td>3.4</td>\n",
       "      <td>4.5</td>\n",
       "      <td>6.1</td>\n",
       "      <td>5.2</td>\n",
       "      <td>102.7</td>\n",
       "      <td>13603.93</td>\n",
       "      <td>6.6</td>\n",
       "      <td>2.8</td>\n",
       "      <td>2.3</td>\n",
       "      <td>4.0</td>\n",
       "      <td>2.1</td>\n",
       "      <td>3.2</td>\n",
       "      <td>2.06622</td>\n",
       "      <td>0.6</td>\n",
       "      <td>0.2</td>\n",
       "      <td>0.1</td>\n",
       "      <td>0.3</td>\n",
       "      <td>2.6</td>\n",
       "      <td>2.2</td>\n",
       "      <td>4.7</td>\n",
       "      <td>8.4</td>\n",
       "      <td>326.0</td>\n",
       "      <td>2561.0</td>\n",
       "      <td>...</td>\n",
       "      <td>0.682030</td>\n",
       "      <td>0.771197</td>\n",
       "      <td>1.026287</td>\n",
       "      <td>1.0</td>\n",
       "      <td>1.0</td>\n",
       "      <td>1.0</td>\n",
       "      <td>1.223552</td>\n",
       "      <td>1.0</td>\n",
       "      <td>0.829714</td>\n",
       "      <td>0.967572</td>\n",
       "      <td>1.0</td>\n",
       "      <td>1.380558</td>\n",
       "      <td>0.743634</td>\n",
       "      <td>1.0</td>\n",
       "      <td>1.109161</td>\n",
       "      <td>0.967923</td>\n",
       "      <td>1.097724</td>\n",
       "      <td>2.307115</td>\n",
       "      <td>1.0</td>\n",
       "      <td>1.0</td>\n",
       "      <td>1.549763</td>\n",
       "      <td>1.0</td>\n",
       "      <td>1.000000</td>\n",
       "      <td>0.788606</td>\n",
       "      <td>0.581332</td>\n",
       "    </tr>\n",
       "    <tr>\n",
       "      <th>3</th>\n",
       "      <td>2006-01-05</td>\n",
       "      <td>5.4</td>\n",
       "      <td>3.4</td>\n",
       "      <td>4.5</td>\n",
       "      <td>6.1</td>\n",
       "      <td>5.2</td>\n",
       "      <td>102.7</td>\n",
       "      <td>13603.93</td>\n",
       "      <td>6.6</td>\n",
       "      <td>2.8</td>\n",
       "      <td>2.3</td>\n",
       "      <td>4.0</td>\n",
       "      <td>2.1</td>\n",
       "      <td>3.2</td>\n",
       "      <td>2.06622</td>\n",
       "      <td>0.6</td>\n",
       "      <td>0.2</td>\n",
       "      <td>0.1</td>\n",
       "      <td>0.3</td>\n",
       "      <td>2.6</td>\n",
       "      <td>2.2</td>\n",
       "      <td>4.7</td>\n",
       "      <td>8.4</td>\n",
       "      <td>326.0</td>\n",
       "      <td>2561.0</td>\n",
       "      <td>...</td>\n",
       "      <td>1.264163</td>\n",
       "      <td>0.718678</td>\n",
       "      <td>1.094089</td>\n",
       "      <td>1.0</td>\n",
       "      <td>1.0</td>\n",
       "      <td>1.0</td>\n",
       "      <td>0.710449</td>\n",
       "      <td>1.0</td>\n",
       "      <td>1.204864</td>\n",
       "      <td>0.824310</td>\n",
       "      <td>1.0</td>\n",
       "      <td>0.901202</td>\n",
       "      <td>0.836536</td>\n",
       "      <td>1.0</td>\n",
       "      <td>1.294707</td>\n",
       "      <td>1.168471</td>\n",
       "      <td>0.642743</td>\n",
       "      <td>0.878133</td>\n",
       "      <td>1.0</td>\n",
       "      <td>1.0</td>\n",
       "      <td>0.913503</td>\n",
       "      <td>1.0</td>\n",
       "      <td>4.149537</td>\n",
       "      <td>0.835657</td>\n",
       "      <td>2.780952</td>\n",
       "    </tr>\n",
       "    <tr>\n",
       "      <th>4</th>\n",
       "      <td>2006-01-06</td>\n",
       "      <td>5.4</td>\n",
       "      <td>3.4</td>\n",
       "      <td>4.5</td>\n",
       "      <td>6.1</td>\n",
       "      <td>5.2</td>\n",
       "      <td>102.7</td>\n",
       "      <td>13603.93</td>\n",
       "      <td>6.6</td>\n",
       "      <td>2.8</td>\n",
       "      <td>2.3</td>\n",
       "      <td>4.0</td>\n",
       "      <td>2.1</td>\n",
       "      <td>3.2</td>\n",
       "      <td>2.06622</td>\n",
       "      <td>0.6</td>\n",
       "      <td>0.2</td>\n",
       "      <td>0.1</td>\n",
       "      <td>0.3</td>\n",
       "      <td>2.6</td>\n",
       "      <td>2.2</td>\n",
       "      <td>4.7</td>\n",
       "      <td>8.4</td>\n",
       "      <td>326.0</td>\n",
       "      <td>2561.0</td>\n",
       "      <td>...</td>\n",
       "      <td>0.966656</td>\n",
       "      <td>1.606885</td>\n",
       "      <td>1.514631</td>\n",
       "      <td>1.0</td>\n",
       "      <td>1.0</td>\n",
       "      <td>1.0</td>\n",
       "      <td>1.685084</td>\n",
       "      <td>1.0</td>\n",
       "      <td>0.833842</td>\n",
       "      <td>1.282477</td>\n",
       "      <td>1.0</td>\n",
       "      <td>0.947752</td>\n",
       "      <td>2.059981</td>\n",
       "      <td>1.0</td>\n",
       "      <td>0.980556</td>\n",
       "      <td>1.047620</td>\n",
       "      <td>2.572150</td>\n",
       "      <td>0.504080</td>\n",
       "      <td>1.0</td>\n",
       "      <td>1.0</td>\n",
       "      <td>0.596882</td>\n",
       "      <td>1.0</td>\n",
       "      <td>1.117321</td>\n",
       "      <td>1.553101</td>\n",
       "      <td>1.545230</td>\n",
       "    </tr>\n",
       "  </tbody>\n",
       "</table>\n",
       "<p>5 rows × 443 columns</p>\n",
       "</div>"
      ],
      "text/plain": [
       "        date  GDPCQOQIndex  GDPCYOYIndex  GDPCTOT%Index  GPDITOC%Index  GPGSTOC%Index  \\\n",
       "0 2006-01-02           5.4           3.4            4.5            6.1            5.2   \n",
       "1 2006-01-03           5.4           3.4            4.5            6.1            5.2   \n",
       "2 2006-01-04           5.4           3.4            4.5            6.1            5.2   \n",
       "3 2006-01-05           5.4           3.4            4.5            6.1            5.2   \n",
       "4 2006-01-06           5.4           3.4            4.5            6.1            5.2   \n",
       "\n",
       "   RGCDCIPIIndex  GDPCUR$Index  GDPCURYIndex  GDPPIQQIndex  GDPCPCECIndex  CPIYOYIndex  \\\n",
       "0          102.7      13603.93           6.6           2.8            2.3          4.0   \n",
       "1          102.7      13603.93           6.6           2.8            2.3          4.0   \n",
       "2          102.7      13603.93           6.6           2.8            2.3          4.0   \n",
       "3          102.7      13603.93           6.6           2.8            2.3          4.0   \n",
       "4          102.7      13603.93           6.6           2.8            2.3          4.0   \n",
       "\n",
       "   CPIXYOYIndex  PCEDEFYIndex  PCECYOYIndex  CPICHNGIndex  CPUPXCHGIndex  FDIDFDMOIndex  \\\n",
       "0           2.1           3.2       2.06622           0.6            0.2            0.1   \n",
       "1           2.1           3.2       2.06622           0.6            0.2            0.1   \n",
       "2           2.1           3.2       2.06622           0.6            0.2            0.1   \n",
       "3           2.1           3.2       2.06622           0.6            0.2            0.1   \n",
       "4           2.1           3.2       2.06622           0.6            0.2            0.1   \n",
       "\n",
       "   FDIDSGMOIndex  FDIUFDYOIndex  FDIUSGYOIndex  USURTOTIndex  USUDMAERIndex  INJCJCIndex  \\\n",
       "0            0.3            2.6            2.2           4.7            8.4        326.0   \n",
       "1            0.3            2.6            2.2           4.7            8.4        326.0   \n",
       "2            0.3            2.6            2.2           4.7            8.4        326.0   \n",
       "3            0.3            2.6            2.2           4.7            8.4        326.0   \n",
       "4            0.3            2.6            2.2           4.7            8.4        326.0   \n",
       "\n",
       "   INJCSPIndex  ...  AMD_product  APPLE_product  AppliedMaterials_product  Aspeed_product  \\\n",
       "0       2561.0  ...     1.000000       1.000000                  1.000000             1.0   \n",
       "1       2561.0  ...     1.000000       1.000000                  1.000000             1.0   \n",
       "2       2561.0  ...     0.682030       0.771197                  1.026287             1.0   \n",
       "3       2561.0  ...     1.264163       0.718678                  1.094089             1.0   \n",
       "4       2561.0  ...     0.966656       1.606885                  1.514631             1.0   \n",
       "\n",
       "   Dell_product  Facebook_product  Google_product  HPE_product  Intel_product  \\\n",
       "0           1.0               1.0        1.000000          1.0       1.000000   \n",
       "1           1.0               1.0        1.000000          1.0       1.000000   \n",
       "2           1.0               1.0        1.223552          1.0       0.829714   \n",
       "3           1.0               1.0        0.710449          1.0       1.204864   \n",
       "4           1.0               1.0        1.685084          1.0       0.833842   \n",
       "\n",
       "   LamResearch_product  MediaTek_product  Micron_product  Microsoft_product  Nuvoton_product  \\\n",
       "0             1.000000               1.0        1.000000           1.000000              1.0   \n",
       "1             1.000000               1.0        1.000000           1.000000              1.0   \n",
       "2             0.967572               1.0        1.380558           0.743634              1.0   \n",
       "3             0.824310               1.0        0.901202           0.836536              1.0   \n",
       "4             1.282477               1.0        0.947752           2.059981              1.0   \n",
       "\n",
       "   Nvidia_product  Philadelphia_product  QCOM_product  SamsungElectronics_product  \\\n",
       "0        1.000000              1.000000      1.000000                    0.862009   \n",
       "1        1.000000              1.000000      1.000000                    0.862009   \n",
       "2        1.109161              0.967923      1.097724                    2.307115   \n",
       "3        1.294707              1.168471      0.642743                    0.878133   \n",
       "4        0.980556              1.047620      2.572150                    0.504080   \n",
       "\n",
       "   ShinEtsuChemical_product  Siltronic_product  SKhynix_product  Sumco_product  \\\n",
       "0                       1.0                1.0         1.048766            1.0   \n",
       "1                       1.0                1.0         1.048766            1.0   \n",
       "2                       1.0                1.0         1.549763            1.0   \n",
       "3                       1.0                1.0         0.913503            1.0   \n",
       "4                       1.0                1.0         0.596882            1.0   \n",
       "\n",
       "   TokyoElectron_product  TSMC_product  UMC_product  \n",
       "0               1.000000      1.000000     1.000000  \n",
       "1               1.000000      1.000000     1.000000  \n",
       "2               1.000000      0.788606     0.581332  \n",
       "3               4.149537      0.835657     2.780952  \n",
       "4               1.117321      1.553101     1.545230  \n",
       "\n",
       "[5 rows x 443 columns]"
      ]
     },
     "execution_count": 18,
     "metadata": {},
     "output_type": "execute_result"
    }
   ],
   "source": [
    "newdf.head()"
   ]
  },
  {
   "cell_type": "code",
   "execution_count": 19,
   "metadata": {},
   "outputs": [],
   "source": [
    "date = newdf.date"
   ]
  },
  {
   "cell_type": "code",
   "execution_count": 20,
   "metadata": {},
   "outputs": [],
   "source": [
    "newdf.drop('date', axis = True, inplace = True)"
   ]
  },
  {
   "cell_type": "code",
   "execution_count": 21,
   "metadata": {},
   "outputs": [],
   "source": [
    "# extract target\n",
    "y_target = newdf['KRXsemiconductor_change']"
   ]
  },
  {
   "cell_type": "code",
   "execution_count": 222,
   "metadata": {},
   "outputs": [],
   "source": [
    "# 1일 이 지점에서 각자 잡은 feature를 넣어주자\n",
    "#newdf = newdf[['KRXsemiconductor_change', 'SKhynix_change', 'Philadelphia_change', 'Micron_change', 'MediaTek_change', 'USDollarIndex_close', 'FRNTTNETIndex', 'Intel_product', 'USD_KRW_change', 'CPUPXCHGIndex', 'KOBONTLIndex', 'RSTAMOMIndex', 'KOEXPTIYIndex', 'KOCPIMOMIndex', 'Dell_close', 'Dell_volume', 'GPGSTOC%Index', 'SKLIOTARIndex', 'Nvidia_volume', 'SKCIMOMIndex', 'KOCGCGYIndex', 'KOECPRCYIndex', 'LEIBPIndex', 'AMD_change', 'JOLTSEPSIndex', 'HPE_close', 'Sumco_change', 'KOGFBALIndex', 'CNFREXPYIndex', 'TokyoElectron_close', 'EUR_KRW_close', 'KOBPFINIndex', 'Amazon_change', 'UMC_product', 'KOECGVTYIndex', 'KOBPCAIndex', 'KOECIMPYIndex', 'NAPMNMIIndex', 'USWHTOTIndex', 'Amazon_volume', 'KOECFCSYIndex', 'Google_product', 'KOFDITYIndex', 'KOQEEYOYIndex', 'TokyoElectron_volume', 'CNGDPYOYIndex', 'MBRXYOYWIndex', 'ShinEtsuChemical_volume', 'USTBEXPYIndex', 'AppliedMaterials_product', 'QCOM_product', 'SKhynix_product', 'UMC_volume', 'APPLE_product', 'KOECSIMQIndex', 'SKLICPYIndex', 'SKLICONEIndex', 'LEIMNOIndex', 'SAARDTOTIndex', 'KOBPCBIndex', 'USHEYOYIndex', 'USEMNCHGIndex', 'MGT2MAIndex', 'KOPPIMOMIndex', 'KOIVCONYIndex', 'Intel_volume', 'g16', 'AMD_product', 'KOEXTOTIndex', 'KOFETOTIndex', 'SKLINBARIndex', 'ssd_price', 'SKLILAPIndex', 'KOCPIIndex', 'TSMC_product', 'KOPPIYOYIndex', 'Philadelphia_volume', 'APPLE_volume', 'RSTAYOYIndex', 'Micron_product', 'Micron_volume', 'PITLCHNGIndex', 'SAARTOTLIndex', 'EUR_KRW_volume', 'JPY_KRW_volume', 'USDollarIndex_volume', 'USD_KRW_volume', 'TokyoElectron_change', 'Intel_change', 'KOWDRIndex', 'Nvidia_product', 'ShinEtsuChemical_close', 'memory_price', 'NFPTCHIndex', 'NFPPCHIndex', 'KOGDPYOYIndex', 'KOEAEPRIndex', 'USGG3MIndex', 'SKLILAIIndex']]"
   ]
  },
  {
   "cell_type": "code",
   "execution_count": 22,
   "metadata": {},
   "outputs": [],
   "source": [
    "# 60일\n",
    "newdf = newdf[['MPMIUSSAIndex', 'KOECSGVQIndex', 'KOWDRIndex', 'KOIMPTIMIndex', 'KOULMGFIndex', 'USGG10YRIndex', 'USHEYOYIndex', 'CHALYOY%Index', 'KOECGCSYIndex', 'per', 'SamsungElectronics_change', 'TMNOCHNGIndex', 'TokyoElectron_product', 'KOFDITYIndex', 'KOPSIYIndex', 'CPMINDXIndex', 'EHCAUSIndex', 'HPE_change', 'Aspeed_volume', 'Microsoft_change', 'KOMSMBYIndex', 'KOECFCSYIndex', 'LEICHNGIndex', 'NAPMNEWOIndex', 'AppliedMaterials_volume', 'CNFRIMPYIndex', 'GPGSTOC%Index', 'CHPMINDXIndex', 'AMD_close', 'KOGDPQOQIndex', 'KOSPI200_change', 'Aspeed_product', 'KOCGCGSMIndex', 'Intel_product', 'Micron_product', 'SKhynix_change', 'PITLCHNGIndex', 'KOBSMCIndex', 'KORSTYIndex', 'operating_profit_increase_rate', 'LEILCIIndex', 'NAPMPMIIndex', 'SKCIYOYIndex', 'SKBSICIndex', 'SKLICPYIndex', 'MPMIJPMAIndex', 'KOBSNMCIndex', 'CNGDPYOYIndex', 'SKLIINVCIndex', 'KOSVTOTYIndex', 'MBRXYOYWIndex', 'GPDITOC%Index', 'Nuvoton_change', 'EUR_KRW_change', 'Google_volume', 'TokyoElectron_volume', 'Siltronic_product', 'ISECloudComputingIndex_volume', 'UMC_change', 'Google_product', 'AMD_volume', 'option_bit', 'KOBPFINIndex', 'PRODNFR%Index', 'KOMSM2YIndex', 'pbr', 'KOBPCBIndex', 'Dell_change', 'ISECloudComputingIndex_change', 'MAPMINDXIndex', 'g2', 'Nvidia_volume', 'UMC_volume', 'Nvidia_change', 'Nvidia_product', 'TSMC_change', 'g4', 'EMPRGBCIIndex', 'MPMIJPSAIndex', 'Dell_product', 'USD_KRW_change', 'LamResearch_volume', 'DGNOYOYIndex', 'SKhynix_product', 'APPLE_product', 'Sumco_change', 'IPCHNGIndex', 'KOSVTOTMIndex', 'SKBSICSAIndex', 'Microsoft_product', 'TSMC_product', 'EUR_KRW_volume', 'JPY_KRW_volume', 'USDollarIndex_volume', 'USD_KRW_volume', 'Philadelphia_change', 'UMC_product', 'AMD_product', 'AppliedMaterials_product', 'KOIPMCYIndex', 'USHETOT%Index', 'AMD_change', 'TSMC_volume', 'ADPCHNGIndex', 'KOECSIMQIndex', 'ShinEtsuChemical_product', 'Philadelphia_product', 'MediaTek_change', 'APPLE_change', 'Microsoft_volume', 'KOHSTRIndex']]"
   ]
  },
  {
   "cell_type": "code",
   "execution_count": 23,
   "metadata": {},
   "outputs": [],
   "source": [
    "a, b = dmatrices('KRXsemiconductor_change ~ SKhynix_change+ Philadelphia_change+ Micron_change+ MediaTek_change+ USDollarIndex_close+ FRNTTNETIndex+ Intel_product+ USD_KRW_change+ CPUPXCHGIndex+ KOBONTLIndex+ RSTAMOMIndex+ KOEXPTIYIndex+ KOCPIMOMIndex+ Dell_close+ Dell_volume+ SKLIOTARIndex+ Nvidia_volume+ SKCIMOMIndex+ KOCGCGYIndex+ KOECPRCYIndex+ LEIBPIndex+ AMD_change+ JOLTSEPSIndex+ HPE_close+ Sumco_change+ KOGFBALIndex+ CNFREXPYIndex+ TokyoElectron_close+ EUR_KRW_close+ KOBPFINIndex+ Amazon_change+ UMC_product+ KOECGVTYIndex+ KOBPCAIndex+ KOECIMPYIndex+ NAPMNMIIndex+ USWHTOTIndex+ Amazon_volume+ KOECFCSYIndex+ Google_product+ KOFDITYIndex+ KOQEEYOYIndex+ TokyoElectron_volume+ CNGDPYOYIndex+ MBRXYOYWIndex+ ShinEtsuChemical_volume+ USTBEXPYIndex+ AppliedMaterials_product+ QCOM_product+ SKhynix_product+ UMC_volume+ APPLE_product+ KOECSIMQIndex+ SKLICPYIndex+ SKLICONEIndex+ LEIMNOIndex+ SAARDTOTIndex+ KOBPCBIndex+ USHEYOYIndex+ USEMNCHGIndex+ MGT2MAIndex+ KOPPIMOMIndex+ KOIVCONYIndex+ Intel_volume+ g16+ AMD_product+ KOEXTOTIndex+ KOFETOTIndex+ SKLINBARIndex+ ssd_price+ SKLILAPIndex+ KOCPIIndex+ TSMC_product+ KOPPIYOYIndex+ Philadelphia_volume+ APPLE_volume+ RSTAYOYIndex+ Micron_product+ Micron_volume+ PITLCHNGIndex+ SAARTOTLIndex+ EUR_KRW_volume+ JPY_KRW_volume+ USDollarIndex_volume+ USD_KRW_volume+ TokyoElectron_change+ Intel_change+ KOWDRIndex+ Nvidia_product+ ShinEtsuChemical_close+ memory_price+ NFPTCHIndex+ NFPPCHIndex+ KOGDPYOYIndex+ KOEAEPRIndex+ USGG3MIndex+ SKLILAIIndex', newdf, return_type = 'dataframe')\n"
   ]
  },
  {
   "cell_type": "code",
   "execution_count": 24,
   "metadata": {
    "scrolled": true
   },
   "outputs": [
    {
     "data": {
      "text/html": [
       "<div>\n",
       "<style scoped>\n",
       "    .dataframe tbody tr th:only-of-type {\n",
       "        vertical-align: middle;\n",
       "    }\n",
       "\n",
       "    .dataframe tbody tr th {\n",
       "        vertical-align: top;\n",
       "    }\n",
       "\n",
       "    .dataframe thead th {\n",
       "        text-align: right;\n",
       "    }\n",
       "</style>\n",
       "<table border=\"1\" class=\"dataframe\">\n",
       "  <thead>\n",
       "    <tr style=\"text-align: right;\">\n",
       "      <th></th>\n",
       "      <th>VIF Factor</th>\n",
       "      <th>features</th>\n",
       "    </tr>\n",
       "  </thead>\n",
       "  <tbody>\n",
       "    <tr>\n",
       "      <th>0</th>\n",
       "      <td>896482.107886</td>\n",
       "      <td>Intercept</td>\n",
       "    </tr>\n",
       "    <tr>\n",
       "      <th>1</th>\n",
       "      <td>1.164740</td>\n",
       "      <td>SKhynix_change</td>\n",
       "    </tr>\n",
       "    <tr>\n",
       "      <th>2</th>\n",
       "      <td>4.895109</td>\n",
       "      <td>Philadelphia_change</td>\n",
       "    </tr>\n",
       "    <tr>\n",
       "      <th>3</th>\n",
       "      <td>2.215632</td>\n",
       "      <td>Micron_change</td>\n",
       "    </tr>\n",
       "    <tr>\n",
       "      <th>4</th>\n",
       "      <td>2.470892</td>\n",
       "      <td>MediaTek_change</td>\n",
       "    </tr>\n",
       "    <tr>\n",
       "      <th>...</th>\n",
       "      <td>...</td>\n",
       "      <td>...</td>\n",
       "    </tr>\n",
       "    <tr>\n",
       "      <th>93</th>\n",
       "      <td>55.090788</td>\n",
       "      <td>NFPPCHIndex</td>\n",
       "    </tr>\n",
       "    <tr>\n",
       "      <th>94</th>\n",
       "      <td>47.352572</td>\n",
       "      <td>KOGDPYOYIndex</td>\n",
       "    </tr>\n",
       "    <tr>\n",
       "      <th>95</th>\n",
       "      <td>6.776209</td>\n",
       "      <td>KOEAEPRIndex</td>\n",
       "    </tr>\n",
       "    <tr>\n",
       "      <th>96</th>\n",
       "      <td>74.260732</td>\n",
       "      <td>USGG3MIndex</td>\n",
       "    </tr>\n",
       "    <tr>\n",
       "      <th>97</th>\n",
       "      <td>331.785021</td>\n",
       "      <td>SKLILAIIndex</td>\n",
       "    </tr>\n",
       "  </tbody>\n",
       "</table>\n",
       "<p>98 rows × 2 columns</p>\n",
       "</div>"
      ],
      "text/plain": [
       "       VIF Factor             features\n",
       "0   896482.107886            Intercept\n",
       "1        1.164740       SKhynix_change\n",
       "2        4.895109  Philadelphia_change\n",
       "3        2.215632        Micron_change\n",
       "4        2.470892      MediaTek_change\n",
       "..            ...                  ...\n",
       "93      55.090788          NFPPCHIndex\n",
       "94      47.352572        KOGDPYOYIndex\n",
       "95       6.776209         KOEAEPRIndex\n",
       "96      74.260732          USGG3MIndex\n",
       "97     331.785021         SKLILAIIndex\n",
       "\n",
       "[98 rows x 2 columns]"
      ]
     },
     "execution_count": 24,
     "metadata": {},
     "output_type": "execute_result"
    }
   ],
   "source": [
    "vif = pd.DataFrame()\n",
    "vif[\"VIF Factor\"] = [variance_inflation_factor(b.values, i) for i in range(b.shape[1])]\n",
    "vif[\"features\"] = b.columns \n",
    "vif"
   ]
  },
  {
   "cell_type": "code",
   "execution_count": 25,
   "metadata": {},
   "outputs": [],
   "source": [
    "vif.sort_values(by = 'VIF Factor', inplace = True)"
   ]
  },
  {
   "cell_type": "code",
   "execution_count": 26,
   "metadata": {
    "scrolled": true
   },
   "outputs": [],
   "source": [
    "vif_columns = vif[vif['VIF Factor']  <=  10].features"
   ]
  },
  {
   "cell_type": "code",
   "execution_count": 23,
   "metadata": {},
   "outputs": [
    {
     "data": {
      "text/plain": [
       "110"
      ]
     },
     "execution_count": 23,
     "metadata": {},
     "output_type": "execute_result"
    }
   ],
   "source": [
    "len(newdf.columns)"
   ]
  },
  {
   "cell_type": "code",
   "execution_count": 24,
   "metadata": {},
   "outputs": [
    {
     "ename": "KeyError",
     "evalue": "\"['KRXsemiconductor_change'] not found in axis\"",
     "output_type": "error",
     "traceback": [
      "\u001b[0;31m---------------------------------------------------------------------------\u001b[0m",
      "\u001b[0;31mKeyError\u001b[0m                                  Traceback (most recent call last)",
      "\u001b[0;32m<ipython-input-24-c6ac2f3a0958>\u001b[0m in \u001b[0;36m<module>\u001b[0;34m\u001b[0m\n\u001b[0;32m----> 1\u001b[0;31m \u001b[0mnewdf\u001b[0m\u001b[0;34m.\u001b[0m\u001b[0mdrop\u001b[0m\u001b[0;34m(\u001b[0m\u001b[0;34m[\u001b[0m\u001b[0;34m'KRXsemiconductor_change'\u001b[0m\u001b[0;34m]\u001b[0m\u001b[0;34m,\u001b[0m \u001b[0maxis\u001b[0m \u001b[0;34m=\u001b[0m \u001b[0;36m1\u001b[0m\u001b[0;34m,\u001b[0m \u001b[0minplace\u001b[0m \u001b[0;34m=\u001b[0m \u001b[0;32mTrue\u001b[0m\u001b[0;34m)\u001b[0m\u001b[0;34m\u001b[0m\u001b[0;34m\u001b[0m\u001b[0m\n\u001b[0m",
      "\u001b[0;32m~/opt/anaconda3/envs/tf2-py37/lib/python3.7/site-packages/pandas/core/frame.py\u001b[0m in \u001b[0;36mdrop\u001b[0;34m(self, labels, axis, index, columns, level, inplace, errors)\u001b[0m\n\u001b[1;32m   4115\u001b[0m             \u001b[0mlevel\u001b[0m\u001b[0;34m=\u001b[0m\u001b[0mlevel\u001b[0m\u001b[0;34m,\u001b[0m\u001b[0;34m\u001b[0m\u001b[0;34m\u001b[0m\u001b[0m\n\u001b[1;32m   4116\u001b[0m             \u001b[0minplace\u001b[0m\u001b[0;34m=\u001b[0m\u001b[0minplace\u001b[0m\u001b[0;34m,\u001b[0m\u001b[0;34m\u001b[0m\u001b[0;34m\u001b[0m\u001b[0m\n\u001b[0;32m-> 4117\u001b[0;31m             \u001b[0merrors\u001b[0m\u001b[0;34m=\u001b[0m\u001b[0merrors\u001b[0m\u001b[0;34m,\u001b[0m\u001b[0;34m\u001b[0m\u001b[0;34m\u001b[0m\u001b[0m\n\u001b[0m\u001b[1;32m   4118\u001b[0m         )\n\u001b[1;32m   4119\u001b[0m \u001b[0;34m\u001b[0m\u001b[0m\n",
      "\u001b[0;32m~/opt/anaconda3/envs/tf2-py37/lib/python3.7/site-packages/pandas/core/generic.py\u001b[0m in \u001b[0;36mdrop\u001b[0;34m(self, labels, axis, index, columns, level, inplace, errors)\u001b[0m\n\u001b[1;32m   3912\u001b[0m         \u001b[0;32mfor\u001b[0m \u001b[0maxis\u001b[0m\u001b[0;34m,\u001b[0m \u001b[0mlabels\u001b[0m \u001b[0;32min\u001b[0m \u001b[0maxes\u001b[0m\u001b[0;34m.\u001b[0m\u001b[0mitems\u001b[0m\u001b[0;34m(\u001b[0m\u001b[0;34m)\u001b[0m\u001b[0;34m:\u001b[0m\u001b[0;34m\u001b[0m\u001b[0;34m\u001b[0m\u001b[0m\n\u001b[1;32m   3913\u001b[0m             \u001b[0;32mif\u001b[0m \u001b[0mlabels\u001b[0m \u001b[0;32mis\u001b[0m \u001b[0;32mnot\u001b[0m \u001b[0;32mNone\u001b[0m\u001b[0;34m:\u001b[0m\u001b[0;34m\u001b[0m\u001b[0;34m\u001b[0m\u001b[0m\n\u001b[0;32m-> 3914\u001b[0;31m                 \u001b[0mobj\u001b[0m \u001b[0;34m=\u001b[0m \u001b[0mobj\u001b[0m\u001b[0;34m.\u001b[0m\u001b[0m_drop_axis\u001b[0m\u001b[0;34m(\u001b[0m\u001b[0mlabels\u001b[0m\u001b[0;34m,\u001b[0m \u001b[0maxis\u001b[0m\u001b[0;34m,\u001b[0m \u001b[0mlevel\u001b[0m\u001b[0;34m=\u001b[0m\u001b[0mlevel\u001b[0m\u001b[0;34m,\u001b[0m \u001b[0merrors\u001b[0m\u001b[0;34m=\u001b[0m\u001b[0merrors\u001b[0m\u001b[0;34m)\u001b[0m\u001b[0;34m\u001b[0m\u001b[0;34m\u001b[0m\u001b[0m\n\u001b[0m\u001b[1;32m   3915\u001b[0m \u001b[0;34m\u001b[0m\u001b[0m\n\u001b[1;32m   3916\u001b[0m         \u001b[0;32mif\u001b[0m \u001b[0minplace\u001b[0m\u001b[0;34m:\u001b[0m\u001b[0;34m\u001b[0m\u001b[0;34m\u001b[0m\u001b[0m\n",
      "\u001b[0;32m~/opt/anaconda3/envs/tf2-py37/lib/python3.7/site-packages/pandas/core/generic.py\u001b[0m in \u001b[0;36m_drop_axis\u001b[0;34m(self, labels, axis, level, errors)\u001b[0m\n\u001b[1;32m   3944\u001b[0m                 \u001b[0mnew_axis\u001b[0m \u001b[0;34m=\u001b[0m \u001b[0maxis\u001b[0m\u001b[0;34m.\u001b[0m\u001b[0mdrop\u001b[0m\u001b[0;34m(\u001b[0m\u001b[0mlabels\u001b[0m\u001b[0;34m,\u001b[0m \u001b[0mlevel\u001b[0m\u001b[0;34m=\u001b[0m\u001b[0mlevel\u001b[0m\u001b[0;34m,\u001b[0m \u001b[0merrors\u001b[0m\u001b[0;34m=\u001b[0m\u001b[0merrors\u001b[0m\u001b[0;34m)\u001b[0m\u001b[0;34m\u001b[0m\u001b[0;34m\u001b[0m\u001b[0m\n\u001b[1;32m   3945\u001b[0m             \u001b[0;32melse\u001b[0m\u001b[0;34m:\u001b[0m\u001b[0;34m\u001b[0m\u001b[0;34m\u001b[0m\u001b[0m\n\u001b[0;32m-> 3946\u001b[0;31m                 \u001b[0mnew_axis\u001b[0m \u001b[0;34m=\u001b[0m \u001b[0maxis\u001b[0m\u001b[0;34m.\u001b[0m\u001b[0mdrop\u001b[0m\u001b[0;34m(\u001b[0m\u001b[0mlabels\u001b[0m\u001b[0;34m,\u001b[0m \u001b[0merrors\u001b[0m\u001b[0;34m=\u001b[0m\u001b[0merrors\u001b[0m\u001b[0;34m)\u001b[0m\u001b[0;34m\u001b[0m\u001b[0;34m\u001b[0m\u001b[0m\n\u001b[0m\u001b[1;32m   3947\u001b[0m             \u001b[0mresult\u001b[0m \u001b[0;34m=\u001b[0m \u001b[0mself\u001b[0m\u001b[0;34m.\u001b[0m\u001b[0mreindex\u001b[0m\u001b[0;34m(\u001b[0m\u001b[0;34m**\u001b[0m\u001b[0;34m{\u001b[0m\u001b[0maxis_name\u001b[0m\u001b[0;34m:\u001b[0m \u001b[0mnew_axis\u001b[0m\u001b[0;34m}\u001b[0m\u001b[0;34m)\u001b[0m\u001b[0;34m\u001b[0m\u001b[0;34m\u001b[0m\u001b[0m\n\u001b[1;32m   3948\u001b[0m \u001b[0;34m\u001b[0m\u001b[0m\n",
      "\u001b[0;32m~/opt/anaconda3/envs/tf2-py37/lib/python3.7/site-packages/pandas/core/indexes/base.py\u001b[0m in \u001b[0;36mdrop\u001b[0;34m(self, labels, errors)\u001b[0m\n\u001b[1;32m   5338\u001b[0m         \u001b[0;32mif\u001b[0m \u001b[0mmask\u001b[0m\u001b[0;34m.\u001b[0m\u001b[0many\u001b[0m\u001b[0;34m(\u001b[0m\u001b[0;34m)\u001b[0m\u001b[0;34m:\u001b[0m\u001b[0;34m\u001b[0m\u001b[0;34m\u001b[0m\u001b[0m\n\u001b[1;32m   5339\u001b[0m             \u001b[0;32mif\u001b[0m \u001b[0merrors\u001b[0m \u001b[0;34m!=\u001b[0m \u001b[0;34m\"ignore\"\u001b[0m\u001b[0;34m:\u001b[0m\u001b[0;34m\u001b[0m\u001b[0;34m\u001b[0m\u001b[0m\n\u001b[0;32m-> 5340\u001b[0;31m                 \u001b[0;32mraise\u001b[0m \u001b[0mKeyError\u001b[0m\u001b[0;34m(\u001b[0m\u001b[0;34m\"{} not found in axis\"\u001b[0m\u001b[0;34m.\u001b[0m\u001b[0mformat\u001b[0m\u001b[0;34m(\u001b[0m\u001b[0mlabels\u001b[0m\u001b[0;34m[\u001b[0m\u001b[0mmask\u001b[0m\u001b[0;34m]\u001b[0m\u001b[0;34m)\u001b[0m\u001b[0;34m)\u001b[0m\u001b[0;34m\u001b[0m\u001b[0;34m\u001b[0m\u001b[0m\n\u001b[0m\u001b[1;32m   5341\u001b[0m             \u001b[0mindexer\u001b[0m \u001b[0;34m=\u001b[0m \u001b[0mindexer\u001b[0m\u001b[0;34m[\u001b[0m\u001b[0;34m~\u001b[0m\u001b[0mmask\u001b[0m\u001b[0;34m]\u001b[0m\u001b[0;34m\u001b[0m\u001b[0;34m\u001b[0m\u001b[0m\n\u001b[1;32m   5342\u001b[0m         \u001b[0;32mreturn\u001b[0m \u001b[0mself\u001b[0m\u001b[0;34m.\u001b[0m\u001b[0mdelete\u001b[0m\u001b[0;34m(\u001b[0m\u001b[0mindexer\u001b[0m\u001b[0;34m)\u001b[0m\u001b[0;34m\u001b[0m\u001b[0;34m\u001b[0m\u001b[0m\n",
      "\u001b[0;31mKeyError\u001b[0m: \"['KRXsemiconductor_change'] not found in axis\""
     ]
    }
   ],
   "source": [
    "newdf.drop(['KRXsemiconductor_change'], axis = 1, inplace = True)"
   ]
  },
  {
   "cell_type": "code",
   "execution_count": 25,
   "metadata": {},
   "outputs": [
    {
     "ename": "NameError",
     "evalue": "name 'vif_columns' is not defined",
     "output_type": "error",
     "traceback": [
      "\u001b[0;31m---------------------------------------------------------------------------\u001b[0m",
      "\u001b[0;31mNameError\u001b[0m                                 Traceback (most recent call last)",
      "\u001b[0;32m<ipython-input-25-10eb123bd63f>\u001b[0m in \u001b[0;36m<module>\u001b[0;34m\u001b[0m\n\u001b[0;32m----> 1\u001b[0;31m \u001b[0mnewdf\u001b[0m \u001b[0;34m=\u001b[0m \u001b[0mnewdf\u001b[0m\u001b[0;34m[\u001b[0m\u001b[0mlist\u001b[0m\u001b[0;34m(\u001b[0m\u001b[0mvif_columns\u001b[0m\u001b[0;34m)\u001b[0m\u001b[0;34m]\u001b[0m\u001b[0;34m\u001b[0m\u001b[0;34m\u001b[0m\u001b[0m\n\u001b[0m",
      "\u001b[0;31mNameError\u001b[0m: name 'vif_columns' is not defined"
     ]
    }
   ],
   "source": [
    "newdf = newdf[list(vif_columns)]"
   ]
  },
  {
   "cell_type": "code",
   "execution_count": 26,
   "metadata": {},
   "outputs": [
    {
     "data": {
      "text/plain": [
       "Index(['Dell_close', 'Siltronic_volume', 'KOCGCGSMIndex', 'KOFDITYIndex', 'GDPCTOT%Index',\n",
       "       'RSTAMOMIndex', 'FDIDFDMOIndex', 'TokyoElectron_change', 'OUTFGAFIndex', 'Intel_change',\n",
       "       ...\n",
       "       'CONSSENTIndex', 'FRNTTOTLIndex', 'KOECEXPYIndex', 'LEILCIIndex', 'Micron_close',\n",
       "       'RSTAXMOMIndex', 'KOPPIYOYIndex', 'USEMNCHGIndex', 'FDIUFDYOIndex', 'KOEAUERSIndex'],\n",
       "      dtype='object', length=110)"
      ]
     },
     "execution_count": 26,
     "metadata": {},
     "output_type": "execute_result"
    }
   ],
   "source": [
    "newdf.columns"
   ]
  },
  {
   "cell_type": "code",
   "execution_count": 27,
   "metadata": {},
   "outputs": [
    {
     "data": {
      "text/plain": [
       "110"
      ]
     },
     "execution_count": 27,
     "metadata": {},
     "output_type": "execute_result"
    }
   ],
   "source": [
    "len(newdf.columns)"
   ]
  },
  {
   "cell_type": "code",
   "execution_count": 28,
   "metadata": {},
   "outputs": [],
   "source": [
    "# scaling 하기전에 columns 뽑기 \n",
    "col_name = newdf.columns"
   ]
  },
  {
   "cell_type": "code",
   "execution_count": 29,
   "metadata": {},
   "outputs": [],
   "source": [
    "# scaling과 동시에 변환\n",
    "#newdf = PowerTransformer().fit_transform(newdf)\n",
    "newdf = StandardScaler().fit_transform(newdf)\n",
    "#newdf = newdf.apply(lambda x : np.log1p(x))\n",
    "#newdf = MinMaxScaler().fit_transfrom(newdf)"
   ]
  },
  {
   "cell_type": "code",
   "execution_count": 30,
   "metadata": {},
   "outputs": [],
   "source": [
    "# scaling하면 colname사라지므로 다시 생성\n",
    "newdf = pd.DataFrame(newdf, columns = col_name)"
   ]
  },
  {
   "cell_type": "code",
   "execution_count": 31,
   "metadata": {},
   "outputs": [
    {
     "data": {
      "text/plain": [
       "110"
      ]
     },
     "execution_count": 31,
     "metadata": {},
     "output_type": "execute_result"
    }
   ],
   "source": [
    "len(newdf.columns)"
   ]
  },
  {
   "cell_type": "code",
   "execution_count": 32,
   "metadata": {},
   "outputs": [
    {
     "data": {
      "text/plain": [
       "0"
      ]
     },
     "execution_count": 32,
     "metadata": {},
     "output_type": "execute_result"
    }
   ],
   "source": [
    "newdf.isna().sum().sum()"
   ]
  },
  {
   "cell_type": "code",
   "execution_count": 33,
   "metadata": {},
   "outputs": [],
   "source": [
    "# extract X_data\n",
    "X_data = newdf.copy()"
   ]
  },
  {
   "cell_type": "markdown",
   "metadata": {},
   "source": [
    "### 이 단계에서 PCA를 적용해봐"
   ]
  },
  {
   "cell_type": "code",
   "execution_count": 145,
   "metadata": {},
   "outputs": [],
   "source": [
    "pca = PCA(n_components = 20)"
   ]
  },
  {
   "cell_type": "code",
   "execution_count": 146,
   "metadata": {},
   "outputs": [
    {
     "data": {
      "text/plain": [
       "PCA(copy=True, iterated_power='auto', n_components=20, random_state=None,\n",
       "    svd_solver='auto', tol=0.0, whiten=False)"
      ]
     },
     "execution_count": 146,
     "metadata": {},
     "output_type": "execute_result"
    }
   ],
   "source": [
    "pca.fit(X_data)"
   ]
  },
  {
   "cell_type": "code",
   "execution_count": 147,
   "metadata": {},
   "outputs": [],
   "source": [
    "X_pca = pca.transform(X_data)"
   ]
  },
  {
   "cell_type": "code",
   "execution_count": 148,
   "metadata": {},
   "outputs": [
    {
     "data": {
      "text/plain": [
       "(5051, 20)"
      ]
     },
     "execution_count": 148,
     "metadata": {},
     "output_type": "execute_result"
    }
   ],
   "source": [
    "# shape check\n",
    "X_pca.shape"
   ]
  },
  {
   "cell_type": "code",
   "execution_count": 34,
   "metadata": {},
   "outputs": [],
   "source": [
    "# random split과 not random split\n",
    "#X_train, X_test, y_train, y_test = train_test_split(X_data, y_target, test_size = 0.3, random_state = 156)\n",
    "X_train, X_test, y_train, y_test = train_test_split(X_data, y_target, test_size = 0.2, shuffle = False)"
   ]
  },
  {
   "cell_type": "code",
   "execution_count": 149,
   "metadata": {},
   "outputs": [],
   "source": [
    "# 이건 PCA를 위한 Data split\n",
    "X_train, X_test, y_train, y_test = train_test_split(X_pca, y_target, test_size = 0.2, shuffle = False)"
   ]
  },
  {
   "cell_type": "markdown",
   "metadata": {},
   "source": [
    "# Linear Feature Selection\n",
    "## 안돌려도 무방"
   ]
  },
  {
   "cell_type": "markdown",
   "metadata": {},
   "source": [
    "# Metric Class"
   ]
  },
  {
   "cell_type": "code",
   "execution_count": 35,
   "metadata": {},
   "outputs": [],
   "source": [
    "# metric 구성\n",
    "\n",
    "from sklearn.metrics import mean_squared_error, r2_score, mean_absolute_error, accuracy_score\n",
    "\n",
    "class CustomMetric():\n",
    "\n",
    "    def __init__(self, pred, real):\n",
    "            self.pred = pred\n",
    "            self.real = real\n",
    "            self.thr25 = np.percentile(self.real, 25)\n",
    "            self.thr75 = np.percentile(self.real, 75)\n",
    "            self.df = pd.DataFrame({'pred' : self.pred, 'real' : self.real})\n",
    "        \n",
    "    def issame(self, data1, data2):\n",
    "        if data1 > 0 and data2 > 0 : \n",
    "            return 'T'\n",
    "        elif data1 > 0 and data2 < 0 :\n",
    "            return 'F'\n",
    "        elif data1 < 0 and data2 > 0 :\n",
    "            return 'F'\n",
    "        elif data1 < 0 and data2 < 0 :\n",
    "            return 'T'\n",
    "        elif data1 == 0 or data2 == 0 :\n",
    "            return 0\n",
    "        else :\n",
    "            return 'notcal'\n",
    "\n",
    "    def getouter(self, data1, data2): #quantile_25 = np.percentile(values, 25)\n",
    "\n",
    "        if data1 > 0 and data2 >= self.thr75 :\n",
    "            return 'T'\n",
    "        elif data1 < 0 and data2 <= self.thr25 :\n",
    "            return 'T'\n",
    "        elif data1 >= 0 and data2 <= self.thr25 :\n",
    "            return 'F'\n",
    "        elif data1 <= 0 and data2 >= self.thr75: \n",
    "            return 'F'\n",
    "        else:\n",
    "            return 'notcal'\n",
    "        \n",
    "    def makedf(self):\n",
    "        self.df['TF'] = self.df.apply(lambda x : self.issame(x['pred'], x['real']), axis = 1)\n",
    "        self.df['thrTF'] = self.df.apply(lambda x : self.getouter(x['pred'], x['real']), axis = 1)\n",
    "        \n",
    "        return self.df\n",
    "        \n",
    "    def execution(self):\n",
    "        mdf = pd.DataFrame()\n",
    "        mdf['CORR'] = [self.df['real'].corr(self.df['pred'], method = 'pearson')]\n",
    "        mdf['R2'] = [\"{0:0.4f}\".format(r2_score(self.df['real'], self.df['pred']))]\n",
    "        mdf['MAE'] = [\"{0:0.4f}\".format(mean_absolute_error(self.df['pred'], self.df['real']))]\n",
    "        mdf['RMSE'] = [\"{0:0.4f}\".format(np.sqrt(mean_squared_error(self.df['pred'], self.df['real'])))]\n",
    "        mdf['ACR'] = [sum(self.df['TF'] == 'T')/len(self.df['TF'])]\n",
    "        \n",
    "        mdf['threshACR'] = [sum(self.df['thrTF'] == 'T') / sum(self.df['thrTF'] != 'notcal')]\n",
    "        \n",
    "        return mdf     "
   ]
  },
  {
   "cell_type": "markdown",
   "metadata": {},
   "source": [
    "# Linear Model"
   ]
  },
  {
   "cell_type": "code",
   "execution_count": 36,
   "metadata": {},
   "outputs": [],
   "source": [
    "# linear model select\n",
    "lr_reg = LinearRegression()\n",
    "#lasso = Lasso(alpha = 100)"
   ]
  },
  {
   "cell_type": "code",
   "execution_count": 37,
   "metadata": {},
   "outputs": [],
   "source": [
    "lr_reg.fit(X_train, y_train)\n",
    "y_pred = lr_reg.predict(X_test)"
   ]
  },
  {
   "cell_type": "code",
   "execution_count": 38,
   "metadata": {},
   "outputs": [
    {
     "data": {
      "text/html": [
       "<div>\n",
       "<style scoped>\n",
       "    .dataframe tbody tr th:only-of-type {\n",
       "        vertical-align: middle;\n",
       "    }\n",
       "\n",
       "    .dataframe tbody tr th {\n",
       "        vertical-align: top;\n",
       "    }\n",
       "\n",
       "    .dataframe thead th {\n",
       "        text-align: right;\n",
       "    }\n",
       "</style>\n",
       "<table border=\"1\" class=\"dataframe\">\n",
       "  <thead>\n",
       "    <tr style=\"text-align: right;\">\n",
       "      <th></th>\n",
       "      <th>CORR</th>\n",
       "      <th>R2</th>\n",
       "      <th>MAE</th>\n",
       "      <th>RMSE</th>\n",
       "      <th>ACR</th>\n",
       "      <th>threshACR</th>\n",
       "    </tr>\n",
       "  </thead>\n",
       "  <tbody>\n",
       "    <tr>\n",
       "      <th>0</th>\n",
       "      <td>0.315524</td>\n",
       "      <td>0.0987</td>\n",
       "      <td>1.4147</td>\n",
       "      <td>1.8702</td>\n",
       "      <td>0.570722</td>\n",
       "      <td>0.609467</td>\n",
       "    </tr>\n",
       "  </tbody>\n",
       "</table>\n",
       "</div>"
      ],
      "text/plain": [
       "       CORR      R2     MAE    RMSE       ACR  threshACR\n",
       "0  0.315524  0.0987  1.4147  1.8702  0.570722   0.609467"
      ]
     },
     "execution_count": 38,
     "metadata": {},
     "output_type": "execute_result"
    }
   ],
   "source": [
    "metr = CustomMetric(y_pred, y_test)\n",
    "metr.makedf()\n",
    "metr.execution()"
   ]
  },
  {
   "cell_type": "code",
   "execution_count": 153,
   "metadata": {},
   "outputs": [],
   "source": [
    "#ridge = Ridge(alpha = 10)\n",
    "#ridge.fit(X_train, y_train)\n",
    "#ridge_pred = ridge.predict(X_test)"
   ]
  },
  {
   "cell_type": "markdown",
   "metadata": {},
   "source": [
    "# Tree Model"
   ]
  },
  {
   "cell_type": "code",
   "execution_count": 72,
   "metadata": {},
   "outputs": [],
   "source": [
    "#dt_reg = DecisionTreeRegressor(random_state = 0, max_depth = 100)\n",
    "#rf_reg = RandomForestRegressor(random_state = 0, n_estimators = 1000)\n",
    "#gb_reg = GradientBoostingRegressor(random_state = 0, n_estimators = 1000)\n",
    "#xgb_reg = XGBRegressor(n_estimators = 1000)\n",
    "lgb_reg = LGBMRegressor(n_estimators = 3000)"
   ]
  },
  {
   "cell_type": "code",
   "execution_count": 73,
   "metadata": {},
   "outputs": [
    {
     "data": {
      "text/plain": [
       "LGBMRegressor(boosting_type='gbdt', class_weight=None, colsample_bytree=1.0,\n",
       "              importance_type='split', learning_rate=0.1, max_depth=-1,\n",
       "              min_child_samples=20, min_child_weight=0.001, min_split_gain=0.0,\n",
       "              n_estimators=3000, n_jobs=-1, num_leaves=31, objective=None,\n",
       "              random_state=None, reg_alpha=0.0, reg_lambda=0.0, silent=True,\n",
       "              subsample=1.0, subsample_for_bin=200000, subsample_freq=0)"
      ]
     },
     "execution_count": 73,
     "metadata": {},
     "output_type": "execute_result"
    }
   ],
   "source": [
    "lgb_reg.fit(X_train, y_train)"
   ]
  },
  {
   "cell_type": "code",
   "execution_count": 74,
   "metadata": {},
   "outputs": [],
   "source": [
    "lgb_pred = lgb_reg.predict(X_test)"
   ]
  },
  {
   "cell_type": "markdown",
   "metadata": {},
   "source": [
    "### Metric function 실행 "
   ]
  },
  {
   "cell_type": "code",
   "execution_count": 75,
   "metadata": {},
   "outputs": [
    {
     "data": {
      "text/html": [
       "<div>\n",
       "<style scoped>\n",
       "    .dataframe tbody tr th:only-of-type {\n",
       "        vertical-align: middle;\n",
       "    }\n",
       "\n",
       "    .dataframe tbody tr th {\n",
       "        vertical-align: top;\n",
       "    }\n",
       "\n",
       "    .dataframe thead th {\n",
       "        text-align: right;\n",
       "    }\n",
       "</style>\n",
       "<table border=\"1\" class=\"dataframe\">\n",
       "  <thead>\n",
       "    <tr style=\"text-align: right;\">\n",
       "      <th></th>\n",
       "      <th>CORR</th>\n",
       "      <th>R2</th>\n",
       "      <th>MAE</th>\n",
       "      <th>RMSE</th>\n",
       "      <th>ACR</th>\n",
       "      <th>threshACR</th>\n",
       "    </tr>\n",
       "  </thead>\n",
       "  <tbody>\n",
       "    <tr>\n",
       "      <th>0</th>\n",
       "      <td>0.391498</td>\n",
       "      <td>0.1376</td>\n",
       "      <td>1.3808</td>\n",
       "      <td>1.8314</td>\n",
       "      <td>0.598417</td>\n",
       "      <td>0.664694</td>\n",
       "    </tr>\n",
       "  </tbody>\n",
       "</table>\n",
       "</div>"
      ],
      "text/plain": [
       "       CORR      R2     MAE    RMSE       ACR  threshACR\n",
       "0  0.391498  0.1376  1.3808  1.8314  0.598417   0.664694"
      ]
     },
     "execution_count": 75,
     "metadata": {},
     "output_type": "execute_result"
    }
   ],
   "source": [
    "metr = CustomMetric(lgb_pred, y_test)\n",
    "metr.makedf()\n",
    "metr.execution()"
   ]
  },
  {
   "cell_type": "code",
   "execution_count": 176,
   "metadata": {},
   "outputs": [
    {
     "data": {
      "text/html": [
       "<div>\n",
       "<style scoped>\n",
       "    .dataframe tbody tr th:only-of-type {\n",
       "        vertical-align: middle;\n",
       "    }\n",
       "\n",
       "    .dataframe tbody tr th {\n",
       "        vertical-align: top;\n",
       "    }\n",
       "\n",
       "    .dataframe thead th {\n",
       "        text-align: right;\n",
       "    }\n",
       "</style>\n",
       "<table border=\"1\" class=\"dataframe\">\n",
       "  <thead>\n",
       "    <tr style=\"text-align: right;\">\n",
       "      <th></th>\n",
       "      <th>CORR</th>\n",
       "      <th>R2</th>\n",
       "      <th>MAE</th>\n",
       "      <th>RMSE</th>\n",
       "      <th>ACR</th>\n",
       "      <th>threshACR</th>\n",
       "    </tr>\n",
       "  </thead>\n",
       "  <tbody>\n",
       "    <tr>\n",
       "      <th>0</th>\n",
       "      <td>0.513346</td>\n",
       "      <td>0.2582</td>\n",
       "      <td>1.2972</td>\n",
       "      <td>1.6985</td>\n",
       "      <td>0.631058</td>\n",
       "      <td>0.710059</td>\n",
       "    </tr>\n",
       "  </tbody>\n",
       "</table>\n",
       "</div>"
      ],
      "text/plain": [
       "       CORR      R2     MAE    RMSE       ACR  threshACR\n",
       "0  0.513346  0.2582  1.2972  1.6985  0.631058   0.710059"
      ]
     },
     "execution_count": 176,
     "metadata": {},
     "output_type": "execute_result"
    }
   ],
   "source": [
    "#metr = CustomMetric(ridge_pred, y_test)\n",
    "#metr.makedf()\n",
    "#metr.execution()"
   ]
  },
  {
   "cell_type": "code",
   "execution_count": 178,
   "metadata": {},
   "outputs": [
    {
     "data": {
      "image/png": "[encoded data removed]",
      "text/plain": [
       "<Figure size 720x2160 with 1 Axes>"
      ]
     },
     "metadata": {
      "image/png": {
       "height": 2151,
       "width": 712
      },
      "needs_background": "light"
     },
     "output_type": "display_data"
    }
   ],
   "source": [
    "coef_imp = pd.DataFrame(sorted(zip(ridge.coef_, X_train.columns)), columns = ['Value', 'Feature'])\n",
    "coef_imp.sort_values(by = 'Value', ascending = False)\n",
    "plt.figure(figsize = (10, 30))\n",
    "sns.barplot(x = 'Value', y = 'Feature', data = coef_imp.sort_values(by = 'Value', ascending = False))\n",
    "plt.title('Linear Regressor Features')\n",
    "plt.tight_layout()\n",
    "plt.show()"
   ]
  },
  {
   "cell_type": "markdown",
   "metadata": {},
   "source": [
    "# Feature Importance Visualization"
   ]
  },
  {
   "cell_type": "markdown",
   "metadata": {},
   "source": [
    "Linear Model은 회귀계수로 나오므로 아래와 같이 시각화"
   ]
  },
  {
   "cell_type": "code",
   "execution_count": null,
   "metadata": {},
   "outputs": [],
   "source": [
    "coef_imp = pd.DataFrame(sorted(zip(lr_reg.coef_, X_train.columns)), columns = ['Value', 'Feature'])\n",
    "coef_imp.sort_values(by = 'Value', ascending = False)\n",
    "plt.figure(figsize = (10, 30))\n",
    "sns.barplot(x = 'Value', y = 'Feature', data = coef_imp.sort_values(by = 'Value', ascending = False))\n",
    "plt.title('Linear Regressor Features')\n",
    "plt.tight_layout()\n",
    "plt.show()"
   ]
  },
  {
   "cell_type": "markdown",
   "metadata": {},
   "source": [
    "Tree Model은 feature importance가 따로 뽑히므로 아래와 같이 시각화"
   ]
  },
  {
   "cell_type": "code",
   "execution_count": null,
   "metadata": {},
   "outputs": [],
   "source": [
    "feat_imp = pd.DataFrame(sorted(zip(lgb_reg.feature_importances_, X_train.columns)), columns = ['Value', 'Feature'])\n",
    "feat_imp.sort_values(by = 'Value', ascending = False)\n",
    "plt.figure(figsize = (10, 30))\n",
    "sns.barplot(x = 'Value', y = 'Feature', data = feat_imp.sort_values(by = 'Value', ascending = False))\n",
    "plt.title('LightGBM Features')\n",
    "plt.tight_layout()\n",
    "plt.savefig('lgbm_importances_1.png')\n",
    "plt.show()"
   ]
  },
  {
   "cell_type": "markdown",
   "metadata": {},
   "source": [
    "# 번외 : Optuna AutoML을 통한 LightGBM Hyperparameter tuning 예시"
   ]
  },
  {
   "cell_type": "code",
   "execution_count": 51,
   "metadata": {},
   "outputs": [],
   "source": [
    "import sklearn.ensemble\n",
    "import sklearn.model_selection\n",
    "from sklearn.metrics import r2_score\n",
    "import optuna\n",
    "import optuna.integration.lightgbm as lgb"
   ]
  },
  {
   "cell_type": "code",
   "execution_count": 156,
   "metadata": {},
   "outputs": [
    {
     "name": "stderr",
     "output_type": "stream",
     "text": [
      "tune_feature_fraction, val_score: inf:   0%|          | 0/7 [00:00<?, ?it/s]"
     ]
    },
    {
     "name": "stdout",
     "output_type": "stream",
     "text": [
      "Training until validation scores don't improve for 100 rounds\n",
      "[100]\ttraining's l2: 1.41861\tvalid_1's l2: 3.7639\n",
      "Early stopping, best iteration is:\n",
      "[27]\ttraining's l2: 2.67483\tvalid_1's l2: 3.50012\n"
     ]
    },
    {
     "name": "stderr",
     "output_type": "stream",
     "text": [
      "tune_feature_fraction, val_score: 3.500115:  14%|#4        | 1/7 [00:01<00:07,  1.25s/it][I 2020-03-06 16:39:10,224] Finished trial#0 resulted in value: 3.5001153458958463. Current best value is 3.5001153458958463 with parameters: {'feature_fraction': 0.4}.\n",
      "tune_feature_fraction, val_score: 3.500115:  14%|#4        | 1/7 [00:01<00:07,  1.25s/it]"
     ]
    },
    {
     "name": "stdout",
     "output_type": "stream",
     "text": [
      "Training until validation scores don't improve for 100 rounds\n",
      "[100]\ttraining's l2: 1.36696\tvalid_1's l2: 3.67538\n",
      "Early stopping, best iteration is:\n",
      "[19]\ttraining's l2: 2.90952\tvalid_1's l2: 3.4833\n"
     ]
    },
    {
     "name": "stderr",
     "output_type": "stream",
     "text": [
      "tune_feature_fraction, val_score: 3.483300:  29%|##8       | 2/7 [00:02<00:06,  1.26s/it][I 2020-03-06 16:39:11,382] Finished trial#1 resulted in value: 3.4832995210922935. Current best value is 3.4832995210922935 with parameters: {'feature_fraction': 0.5}.\n",
      "tune_feature_fraction, val_score: 3.483300:  29%|##8       | 2/7 [00:02<00:06,  1.26s/it]"
     ]
    },
    {
     "name": "stdout",
     "output_type": "stream",
     "text": [
      "Training until validation scores don't improve for 100 rounds\n",
      "[100]\ttraining's l2: 1.32331\tvalid_1's l2: 3.70241\n",
      "Early stopping, best iteration is:\n",
      "[13]\ttraining's l2: 3.19456\tvalid_1's l2: 3.45247\n"
     ]
    },
    {
     "name": "stderr",
     "output_type": "stream",
     "text": [
      "tune_feature_fraction, val_score: 3.452471:  43%|####2     | 3/7 [00:03<00:04,  1.23s/it][I 2020-03-06 16:39:12,536] Finished trial#2 resulted in value: 3.452471418965974. Current best value is 3.452471418965974 with parameters: {'feature_fraction': 0.6}.\n",
      "tune_feature_fraction, val_score: 3.452471:  43%|####2     | 3/7 [00:03<00:04,  1.23s/it]"
     ]
    },
    {
     "name": "stdout",
     "output_type": "stream",
     "text": [
      "Training until validation scores don't improve for 100 rounds\n",
      "[100]\ttraining's l2: 1.29034\tvalid_1's l2: 3.71474\n",
      "Early stopping, best iteration is:\n",
      "[26]\ttraining's l2: 2.56184\tvalid_1's l2: 3.47352\n"
     ]
    },
    {
     "name": "stderr",
     "output_type": "stream",
     "text": [
      "tune_feature_fraction, val_score: 3.452471:  57%|#####7    | 4/7 [00:04<00:03,  1.19s/it][I 2020-03-06 16:39:13,648] Finished trial#3 resulted in value: 3.473522767177023. Current best value is 3.452471418965974 with parameters: {'feature_fraction': 0.6}.\n",
      "tune_feature_fraction, val_score: 3.452471:  57%|#####7    | 4/7 [00:04<00:03,  1.19s/it]"
     ]
    },
    {
     "name": "stdout",
     "output_type": "stream",
     "text": [
      "Training until validation scores don't improve for 100 rounds\n",
      "[100]\ttraining's l2: 1.27405\tvalid_1's l2: 3.69982\n",
      "Early stopping, best iteration is:\n",
      "[22]\ttraining's l2: 2.70918\tvalid_1's l2: 3.45372\n"
     ]
    },
    {
     "name": "stderr",
     "output_type": "stream",
     "text": [
      "tune_feature_fraction, val_score: 3.452471:  71%|#######1  | 5/7 [00:06<00:02,  1.20s/it][I 2020-03-06 16:39:14,873] Finished trial#4 resulted in value: 3.4537217312526085. Current best value is 3.452471418965974 with parameters: {'feature_fraction': 0.6}.\n",
      "tune_feature_fraction, val_score: 3.452471:  71%|#######1  | 5/7 [00:06<00:02,  1.20s/it]"
     ]
    },
    {
     "name": "stdout",
     "output_type": "stream",
     "text": [
      "Training until validation scores don't improve for 100 rounds\n",
      "[100]\ttraining's l2: 1.2523\tvalid_1's l2: 3.66214\n",
      "Early stopping, best iteration is:\n",
      "[17]\ttraining's l2: 2.88706\tvalid_1's l2: 3.46192\n"
     ]
    },
    {
     "name": "stderr",
     "output_type": "stream",
     "text": [
      "tune_feature_fraction, val_score: 3.452471:  86%|########5 | 6/7 [00:07<00:01,  1.24s/it][I 2020-03-06 16:39:16,210] Finished trial#5 resulted in value: 3.461923908889601. Current best value is 3.452471418965974 with parameters: {'feature_fraction': 0.6}.\n",
      "tune_feature_fraction, val_score: 3.452471:  86%|########5 | 6/7 [00:07<00:01,  1.24s/it]"
     ]
    },
    {
     "name": "stdout",
     "output_type": "stream",
     "text": [
      "Training until validation scores don't improve for 100 rounds\n",
      "[100]\ttraining's l2: 1.23748\tvalid_1's l2: 3.73147\n",
      "Early stopping, best iteration is:\n",
      "[14]\ttraining's l2: 3.03679\tvalid_1's l2: 3.50322\n"
     ]
    },
    {
     "name": "stderr",
     "output_type": "stream",
     "text": [
      "tune_feature_fraction, val_score: 3.452471: 100%|##########| 7/7 [00:08<00:00,  1.20s/it][I 2020-03-06 16:39:17,317] Finished trial#6 resulted in value: 3.5032152684524616. Current best value is 3.452471418965974 with parameters: {'feature_fraction': 0.6}.\n",
      "tune_feature_fraction, val_score: 3.452471: 100%|##########| 7/7 [00:08<00:00,  1.22s/it]\n",
      "tune_num_leaves, val_score: 3.452471:   0%|          | 0/20 [00:00<?, ?it/s]"
     ]
    },
    {
     "name": "stdout",
     "output_type": "stream",
     "text": [
      "Training until validation scores don't improve for 100 rounds\n",
      "[100]\ttraining's l2: 0.686906\tvalid_1's l2: 3.80505\n",
      "Early stopping, best iteration is:\n",
      "[23]\ttraining's l2: 2.25716\tvalid_1's l2: 3.50173\n"
     ]
    },
    {
     "name": "stderr",
     "output_type": "stream",
     "text": [
      "tune_num_leaves, val_score: 3.452471:   5%|5         | 1/20 [00:02<00:52,  2.76s/it][I 2020-03-06 16:39:20,173] Finished trial#0 resulted in value: 3.5017345199406535. Current best value is 3.5017345199406535 with parameters: {'num_leaves': 60}.\n",
      "tune_num_leaves, val_score: 3.452471:   5%|5         | 1/20 [00:02<00:52,  2.76s/it]"
     ]
    },
    {
     "name": "stdout",
     "output_type": "stream",
     "text": [
      "Training until validation scores don't improve for 100 rounds\n",
      "[100]\ttraining's l2: 1.17124\tvalid_1's l2: 3.66101\n",
      "Early stopping, best iteration is:\n",
      "[25]\ttraining's l2: 2.53941\tvalid_1's l2: 3.411\n"
     ]
    },
    {
     "name": "stderr",
     "output_type": "stream",
     "text": [
      "tune_num_leaves, val_score: 3.411002:  10%|#         | 2/20 [00:04<00:44,  2.45s/it][I 2020-03-06 16:39:21,885] Finished trial#1 resulted in value: 3.4110016989923944. Current best value is 3.4110016989923944 with parameters: {'num_leaves': 36}.\n",
      "tune_num_leaves, val_score: 3.411002:  10%|#         | 2/20 [00:04<00:44,  2.45s/it]"
     ]
    },
    {
     "name": "stdout",
     "output_type": "stream",
     "text": [
      "Training until validation scores don't improve for 100 rounds\n",
      "[100]\ttraining's l2: 0.333961\tvalid_1's l2: 3.84516\n",
      "Early stopping, best iteration is:\n",
      "[17]\ttraining's l2: 2.24756\tvalid_1's l2: 3.51197\n"
     ]
    },
    {
     "name": "stderr",
     "output_type": "stream",
     "text": [
      "tune_num_leaves, val_score: 3.411002:  15%|#5        | 3/20 [00:07<00:45,  2.70s/it][I 2020-03-06 16:39:25,171] Finished trial#2 resulted in value: 3.511971141728122. Current best value is 3.4110016989923944 with parameters: {'num_leaves': 36}.\n",
      "tune_num_leaves, val_score: 3.411002:  15%|#5        | 3/20 [00:07<00:45,  2.70s/it]"
     ]
    },
    {
     "name": "stdout",
     "output_type": "stream",
     "text": [
      "Training until validation scores don't improve for 100 rounds\n",
      "[100]\ttraining's l2: 0.242437\tvalid_1's l2: 3.88508\n",
      "Early stopping, best iteration is:\n",
      "[15]\ttraining's l2: 2.27396\tvalid_1's l2: 3.48883\n"
     ]
    },
    {
     "name": "stderr",
     "output_type": "stream",
     "text": [
      "tune_num_leaves, val_score: 3.411002:  20%|##        | 4/20 [00:11<00:49,  3.09s/it][I 2020-03-06 16:39:29,147] Finished trial#3 resulted in value: 3.4888347991211903. Current best value is 3.4110016989923944 with parameters: {'num_leaves': 36}.\n",
      "tune_num_leaves, val_score: 3.411002:  20%|##        | 4/20 [00:11<00:49,  3.09s/it]"
     ]
    },
    {
     "name": "stdout",
     "output_type": "stream",
     "text": [
      "Training until validation scores don't improve for 100 rounds\n",
      "[100]\ttraining's l2: 0.217372\tvalid_1's l2: 3.99766\n",
      "Early stopping, best iteration is:\n",
      "[13]\ttraining's l2: 2.38182\tvalid_1's l2: 3.6116\n"
     ]
    },
    {
     "name": "stderr",
     "output_type": "stream",
     "text": [
      "tune_num_leaves, val_score: 3.411002:  25%|##5       | 5/20 [00:16<00:53,  3.56s/it][I 2020-03-06 16:39:33,827] Finished trial#4 resulted in value: 3.6116018508196004. Current best value is 3.4110016989923944 with parameters: {'num_leaves': 36}.\n",
      "tune_num_leaves, val_score: 3.411002:  25%|##5       | 5/20 [00:16<00:53,  3.56s/it]"
     ]
    },
    {
     "name": "stdout",
     "output_type": "stream",
     "text": [
      "Training until validation scores don't improve for 100 rounds\n",
      "[100]\ttraining's l2: 0.302904\tvalid_1's l2: 3.71051\n",
      "Early stopping, best iteration is:\n",
      "[16]\ttraining's l2: 2.28158\tvalid_1's l2: 3.45833\n"
     ]
    },
    {
     "name": "stderr",
     "output_type": "stream",
     "text": [
      "tune_num_leaves, val_score: 3.411002:  30%|###       | 6/20 [00:19<00:49,  3.53s/it][I 2020-03-06 16:39:37,277] Finished trial#5 resulted in value: 3.4583347412361767. Current best value is 3.4110016989923944 with parameters: {'num_leaves': 36}.\n",
      "tune_num_leaves, val_score: 3.411002:  30%|###       | 6/20 [00:19<00:49,  3.53s/it]"
     ]
    },
    {
     "name": "stdout",
     "output_type": "stream",
     "text": [
      "Training until validation scores don't improve for 100 rounds\n",
      "[100]\ttraining's l2: 0.98388\tvalid_1's l2: 3.73496\n",
      "Early stopping, best iteration is:\n",
      "[17]\ttraining's l2: 2.78074\tvalid_1's l2: 3.49493\n"
     ]
    },
    {
     "name": "stderr",
     "output_type": "stream",
     "text": [
      "tune_num_leaves, val_score: 3.411002:  35%|###5      | 7/20 [00:21<00:37,  2.89s/it][I 2020-03-06 16:39:38,657] Finished trial#6 resulted in value: 3.494928963449887. Current best value is 3.4110016989923944 with parameters: {'num_leaves': 36}.\n",
      "tune_num_leaves, val_score: 3.411002:  35%|###5      | 7/20 [00:21<00:37,  2.89s/it]"
     ]
    },
    {
     "name": "stdout",
     "output_type": "stream",
     "text": [
      "Training until validation scores don't improve for 100 rounds\n",
      "[100]\ttraining's l2: 0.434301\tvalid_1's l2: 3.81115\n",
      "Early stopping, best iteration is:\n",
      "[13]\ttraining's l2: 2.6866\tvalid_1's l2: 3.48206\n"
     ]
    },
    {
     "name": "stderr",
     "output_type": "stream",
     "text": [
      "tune_num_leaves, val_score: 3.411002:  40%|####      | 8/20 [00:23<00:34,  2.83s/it][I 2020-03-06 16:39:41,374] Finished trial#7 resulted in value: 3.482057086214041. Current best value is 3.4110016989923944 with parameters: {'num_leaves': 36}.\n",
      "tune_num_leaves, val_score: 3.411002:  40%|####      | 8/20 [00:24<00:34,  2.83s/it]"
     ]
    },
    {
     "name": "stdout",
     "output_type": "stream",
     "text": [
      "Training until validation scores don't improve for 100 rounds\n",
      "[100]\ttraining's l2: 0.331196\tvalid_1's l2: 3.74108\n",
      "Early stopping, best iteration is:\n",
      "[15]\ttraining's l2: 2.39849\tvalid_1's l2: 3.43928\n"
     ]
    },
    {
     "name": "stderr",
     "output_type": "stream",
     "text": [
      "tune_num_leaves, val_score: 3.411002:  45%|####5     | 9/20 [00:27<00:32,  2.96s/it][I 2020-03-06 16:39:44,628] Finished trial#8 resulted in value: 3.439280503968252. Current best value is 3.4110016989923944 with parameters: {'num_leaves': 36}.\n",
      "tune_num_leaves, val_score: 3.411002:  45%|####5     | 9/20 [00:27<00:32,  2.96s/it]"
     ]
    },
    {
     "name": "stdout",
     "output_type": "stream",
     "text": [
      "Training until validation scores don't improve for 100 rounds\n",
      "[100]\ttraining's l2: 1.7428\tvalid_1's l2: 3.60872\n",
      "Early stopping, best iteration is:\n",
      "[24]\ttraining's l2: 2.9478\tvalid_1's l2: 3.44031\n"
     ]
    },
    {
     "name": "stderr",
     "output_type": "stream",
     "text": [
      "tune_num_leaves, val_score: 3.411002:  50%|#####     | 10/20 [00:28<00:23,  2.33s/it][I 2020-03-06 16:39:45,474] Finished trial#9 resulted in value: 3.440305814794869. Current best value is 3.4110016989923944 with parameters: {'num_leaves': 36}.\n",
      "tune_num_leaves, val_score: 3.411002:  50%|#####     | 10/20 [00:28<00:23,  2.33s/it]"
     ]
    },
    {
     "name": "stdout",
     "output_type": "stream",
     "text": [
      "Training until validation scores don't improve for 100 rounds\n",
      "[100]\ttraining's l2: 0.217372\tvalid_1's l2: 3.99766\n",
      "Early stopping, best iteration is:\n",
      "[13]\ttraining's l2: 2.38182\tvalid_1's l2: 3.6116\n"
     ]
    },
    {
     "name": "stderr",
     "output_type": "stream",
     "text": [
      "tune_num_leaves, val_score: 3.411002:  55%|#####5    | 11/20 [00:32<00:26,  2.95s/it][I 2020-03-06 16:39:49,875] Finished trial#10 resulted in value: 3.6116018508196004. Current best value is 3.4110016989923944 with parameters: {'num_leaves': 36}.\n",
      "tune_num_leaves, val_score: 3.411002:  55%|#####5    | 11/20 [00:32<00:26,  2.95s/it]"
     ]
    },
    {
     "name": "stdout",
     "output_type": "stream",
     "text": [
      "Training until validation scores don't improve for 100 rounds\n",
      "[100]\ttraining's l2: 2.30159\tvalid_1's l2: 3.46319\n",
      "Early stopping, best iteration is:\n",
      "[33]\ttraining's l2: 3.05102\tvalid_1's l2: 3.39484\n"
     ]
    },
    {
     "name": "stderr",
     "output_type": "stream",
     "text": [
      "tune_num_leaves, val_score: 3.394838:  60%|######    | 12/20 [00:33<00:17,  2.24s/it][I 2020-03-06 16:39:50,451] Finished trial#11 resulted in value: 3.394838442787193. Current best value is 3.394838442787193 with parameters: {'num_leaves': 12}.\n",
      "tune_num_leaves, val_score: 3.394838:  60%|######    | 12/20 [00:33<00:17,  2.24s/it]"
     ]
    },
    {
     "name": "stdout",
     "output_type": "stream",
     "text": [
      "Training until validation scores don't improve for 100 rounds\n",
      "[100]\ttraining's l2: 2.92438\tvalid_1's l2: 3.37778\n",
      "Early stopping, best iteration is:\n",
      "[60]\ttraining's l2: 3.15951\tvalid_1's l2: 3.32585\n"
     ]
    },
    {
     "name": "stderr",
     "output_type": "stream",
     "text": [
      "tune_num_leaves, val_score: 3.325848:  65%|######5   | 13/20 [00:33<00:11,  1.71s/it][I 2020-03-06 16:39:50,944] Finished trial#12 resulted in value: 3.3258478254426787. Current best value is 3.3258478254426787 with parameters: {'num_leaves': 6}.\n",
      "tune_num_leaves, val_score: 3.325848:  65%|######5   | 13/20 [00:33<00:11,  1.71s/it]"
     ]
    },
    {
     "name": "stdout",
     "output_type": "stream",
     "text": [
      "Training until validation scores don't improve for 100 rounds\n",
      "[100]\ttraining's l2: 0.217372\tvalid_1's l2: 3.99766\n",
      "Early stopping, best iteration is:\n",
      "[13]\ttraining's l2: 2.38182\tvalid_1's l2: 3.6116\n"
     ]
    },
    {
     "name": "stderr",
     "output_type": "stream",
     "text": [
      "tune_num_leaves, val_score: 3.325848:  70%|#######   | 14/20 [00:38<00:15,  2.58s/it][I 2020-03-06 16:39:55,532] Finished trial#13 resulted in value: 3.6116018508196004. Current best value is 3.3258478254426787 with parameters: {'num_leaves': 6}.\n",
      "tune_num_leaves, val_score: 3.325848:  70%|#######   | 14/20 [00:38<00:15,  2.58s/it]"
     ]
    },
    {
     "name": "stdout",
     "output_type": "stream",
     "text": [
      "Training until validation scores don't improve for 100 rounds\n",
      "[100]\ttraining's l2: 3.43072\tvalid_1's l2: 3.35886\n",
      "Early stopping, best iteration is:\n",
      "[97]\ttraining's l2: 3.43918\tvalid_1's l2: 3.35607\n"
     ]
    },
    {
     "name": "stderr",
     "output_type": "stream",
     "text": [
      "tune_num_leaves, val_score: 3.325848:  75%|#######5  | 15/20 [00:38<00:09,  1.93s/it][I 2020-03-06 16:39:55,960] Finished trial#14 resulted in value: 3.3560725541250807. Current best value is 3.3258478254426787 with parameters: {'num_leaves': 6}.\n",
      "tune_num_leaves, val_score: 3.325848:  75%|#######5  | 15/20 [00:38<00:09,  1.93s/it]"
     ]
    },
    {
     "name": "stdout",
     "output_type": "stream",
     "text": [
      "Training until validation scores don't improve for 100 rounds\n",
      "[100]\ttraining's l2: 2.46268\tvalid_1's l2: 3.50888\n",
      "Early stopping, best iteration is:\n",
      "[56]\ttraining's l2: 2.84424\tvalid_1's l2: 3.41672\n"
     ]
    },
    {
     "name": "stderr",
     "output_type": "stream",
     "text": [
      "tune_num_leaves, val_score: 3.325848:  80%|########  | 16/20 [00:39<00:06,  1.56s/it][I 2020-03-06 16:39:56,642] Finished trial#15 resulted in value: 3.4167227691268987. Current best value is 3.3258478254426787 with parameters: {'num_leaves': 6}.\n",
      "tune_num_leaves, val_score: 3.325848:  80%|########  | 16/20 [00:39<00:06,  1.56s/it]"
     ]
    },
    {
     "name": "stdout",
     "output_type": "stream",
     "text": [
      "Training until validation scores don't improve for 100 rounds\n",
      "[100]\ttraining's l2: 0.21112\tvalid_1's l2: 3.86072\n",
      "Early stopping, best iteration is:\n",
      "[13]\ttraining's l2: 2.38182\tvalid_1's l2: 3.6116\n"
     ]
    },
    {
     "name": "stderr",
     "output_type": "stream",
     "text": [
      "tune_num_leaves, val_score: 3.325848:  85%|########5 | 17/20 [00:43<00:07,  2.50s/it][I 2020-03-06 16:40:01,328] Finished trial#16 resulted in value: 3.6116018508196004. Current best value is 3.3258478254426787 with parameters: {'num_leaves': 6}.\n",
      "tune_num_leaves, val_score: 3.325848:  85%|########5 | 17/20 [00:44<00:07,  2.50s/it]"
     ]
    },
    {
     "name": "stdout",
     "output_type": "stream",
     "text": [
      "Training until validation scores don't improve for 100 rounds\n",
      "[100]\ttraining's l2: 3.21449\tvalid_1's l2: 3.36319\n",
      "Early stopping, best iteration is:\n",
      "[59]\ttraining's l2: 3.42312\tvalid_1's l2: 3.34299\n"
     ]
    },
    {
     "name": "stderr",
     "output_type": "stream",
     "text": [
      "tune_num_leaves, val_score: 3.325848:  90%|######### | 18/20 [00:44<00:03,  1.86s/it][I 2020-03-06 16:40:01,719] Finished trial#17 resulted in value: 3.3429905533826973. Current best value is 3.3258478254426787 with parameters: {'num_leaves': 6}.\n",
      "tune_num_leaves, val_score: 3.325848:  90%|######### | 18/20 [00:44<00:03,  1.86s/it]"
     ]
    },
    {
     "name": "stdout",
     "output_type": "stream",
     "text": [
      "Training until validation scores don't improve for 100 rounds\n",
      "[100]\ttraining's l2: 0.589821\tvalid_1's l2: 3.80403\n",
      "Early stopping, best iteration is:\n",
      "[16]\ttraining's l2: 2.58096\tvalid_1's l2: 3.44503\n"
     ]
    },
    {
     "name": "stderr",
     "output_type": "stream",
     "text": [
      "tune_num_leaves, val_score: 3.325848:  95%|#########5| 19/20 [00:46<00:01,  1.98s/it][I 2020-03-06 16:40:03,956] Finished trial#18 resulted in value: 3.4450280197122076. Current best value is 3.3258478254426787 with parameters: {'num_leaves': 6}.\n",
      "tune_num_leaves, val_score: 3.325848:  95%|#########5| 19/20 [00:46<00:01,  1.98s/it]"
     ]
    },
    {
     "name": "stdout",
     "output_type": "stream",
     "text": [
      "Training until validation scores don't improve for 100 rounds\n",
      "[100]\ttraining's l2: 0.950006\tvalid_1's l2: 3.72492\n",
      "Early stopping, best iteration is:\n",
      "[25]\ttraining's l2: 2.37658\tvalid_1's l2: 3.4517\n"
     ]
    },
    {
     "name": "stderr",
     "output_type": "stream",
     "text": [
      "tune_num_leaves, val_score: 3.325848: 100%|##########| 20/20 [00:48<00:00,  1.91s/it][I 2020-03-06 16:40:05,703] Finished trial#19 resulted in value: 3.451704519293672. Current best value is 3.3258478254426787 with parameters: {'num_leaves': 6}.\n",
      "tune_num_leaves, val_score: 3.325848: 100%|##########| 20/20 [00:48<00:00,  2.42s/it]\n",
      "tune_bagging_fraction_and_bagging_freq, val_score: 3.325848:   0%|          | 0/10 [00:00<?, ?it/s]"
     ]
    },
    {
     "name": "stdout",
     "output_type": "stream",
     "text": [
      "Training until validation scores don't improve for 100 rounds\n",
      "[100]\ttraining's l2: 3.00931\tvalid_1's l2: 3.52746\n",
      "Early stopping, best iteration is:\n",
      "[24]\ttraining's l2: 3.60575\tvalid_1's l2: 3.43443\n"
     ]
    },
    {
     "name": "stderr",
     "output_type": "stream",
     "text": [
      "tune_bagging_fraction_and_bagging_freq, val_score: 3.325848:  10%|#         | 1/10 [00:00<00:03,  2.86it/s][I 2020-03-06 16:40:06,115] Finished trial#0 resulted in value: 3.4344332535406576. Current best value is 3.4344332535406576 with parameters: {'bagging_fraction': 0.4886085707877539, 'bagging_freq': 6}.\n",
      "tune_bagging_fraction_and_bagging_freq, val_score: 3.325848:  10%|#         | 1/10 [00:00<00:03,  2.86it/s]"
     ]
    },
    {
     "name": "stdout",
     "output_type": "stream",
     "text": [
      "Training until validation scores don't improve for 100 rounds\n",
      "[100]\ttraining's l2: 2.91163\tvalid_1's l2: 3.41709\n",
      "Early stopping, best iteration is:\n",
      "[65]\ttraining's l2: 3.12295\tvalid_1's l2: 3.39967\n"
     ]
    },
    {
     "name": "stderr",
     "output_type": "stream",
     "text": [
      "tune_bagging_fraction_and_bagging_freq, val_score: 3.325848:  20%|##        | 2/10 [00:00<00:03,  2.51it/s][I 2020-03-06 16:40:06,636] Finished trial#1 resulted in value: 3.399672987427312. Current best value is 3.399672987427312 with parameters: {'bagging_fraction': 0.956271431677877, 'bagging_freq': 3}.\n",
      "tune_bagging_fraction_and_bagging_freq, val_score: 3.325848:  20%|##        | 2/10 [00:00<00:03,  2.51it/s]"
     ]
    },
    {
     "name": "stdout",
     "output_type": "stream",
     "text": [
      "Training until validation scores don't improve for 100 rounds\n",
      "[100]\ttraining's l2: 2.96358\tvalid_1's l2: 3.47397\n",
      "Early stopping, best iteration is:\n",
      "[57]\ttraining's l2: 3.252\tvalid_1's l2: 3.35541\n"
     ]
    },
    {
     "name": "stderr",
     "output_type": "stream",
     "text": [
      "tune_bagging_fraction_and_bagging_freq, val_score: 3.325848:  30%|###       | 3/10 [00:01<00:02,  2.36it/s][I 2020-03-06 16:40:07,117] Finished trial#2 resulted in value: 3.3554055215339016. Current best value is 3.3554055215339016 with parameters: {'bagging_fraction': 0.4602655873488911, 'bagging_freq': 2}.\n",
      "tune_bagging_fraction_and_bagging_freq, val_score: 3.325848:  30%|###       | 3/10 [00:01<00:02,  2.36it/s]"
     ]
    },
    {
     "name": "stdout",
     "output_type": "stream",
     "text": [
      "Training until validation scores don't improve for 100 rounds\n",
      "[100]\ttraining's l2: 2.923\tvalid_1's l2: 3.43146\n",
      "Early stopping, best iteration is:\n",
      "[65]\ttraining's l2: 3.14989\tvalid_1's l2: 3.37939\n"
     ]
    },
    {
     "name": "stderr",
     "output_type": "stream",
     "text": [
      "tune_bagging_fraction_and_bagging_freq, val_score: 3.325848:  40%|####      | 4/10 [00:01<00:02,  2.16it/s][I 2020-03-06 16:40:07,676] Finished trial#3 resulted in value: 3.3793925336045403. Current best value is 3.3554055215339016 with parameters: {'bagging_fraction': 0.4602655873488911, 'bagging_freq': 2}.\n",
      "tune_bagging_fraction_and_bagging_freq, val_score: 3.325848:  40%|####      | 4/10 [00:01<00:02,  2.16it/s]"
     ]
    },
    {
     "name": "stdout",
     "output_type": "stream",
     "text": [
      "Training until validation scores don't improve for 100 rounds\n",
      "[100]\ttraining's l2: 2.90628\tvalid_1's l2: 3.55528\n",
      "Early stopping, best iteration is:\n",
      "[58]\ttraining's l2: 3.19275\tvalid_1's l2: 3.42474\n"
     ]
    },
    {
     "name": "stderr",
     "output_type": "stream",
     "text": [
      "tune_bagging_fraction_and_bagging_freq, val_score: 3.325848:  50%|#####     | 5/10 [00:02<00:02,  2.03it/s][I 2020-03-06 16:40:08,238] Finished trial#4 resulted in value: 3.4247371252743304. Current best value is 3.3554055215339016 with parameters: {'bagging_fraction': 0.4602655873488911, 'bagging_freq': 2}.\n",
      "tune_bagging_fraction_and_bagging_freq, val_score: 3.325848:  50%|#####     | 5/10 [00:02<00:02,  2.03it/s]"
     ]
    },
    {
     "name": "stdout",
     "output_type": "stream",
     "text": [
      "Training until validation scores don't improve for 100 rounds\n",
      "[100]\ttraining's l2: 2.96663\tvalid_1's l2: 3.46902\n",
      "Early stopping, best iteration is:\n",
      "[66]\ttraining's l2: 3.16882\tvalid_1's l2: 3.41574\n"
     ]
    },
    {
     "name": "stderr",
     "output_type": "stream",
     "text": [
      "tune_bagging_fraction_and_bagging_freq, val_score: 3.325848:  60%|######    | 6/10 [00:02<00:01,  2.03it/s][I 2020-03-06 16:40:08,731] Finished trial#5 resulted in value: 3.4157448540556135. Current best value is 3.3554055215339016 with parameters: {'bagging_fraction': 0.4602655873488911, 'bagging_freq': 2}.\n",
      "tune_bagging_fraction_and_bagging_freq, val_score: 3.325848:  60%|######    | 6/10 [00:03<00:01,  2.03it/s]"
     ]
    },
    {
     "name": "stdout",
     "output_type": "stream",
     "text": [
      "Training until validation scores don't improve for 100 rounds\n",
      "[100]\ttraining's l2: 2.95012\tvalid_1's l2: 3.45261\n",
      "Early stopping, best iteration is:\n",
      "[61]\ttraining's l2: 3.19644\tvalid_1's l2: 3.3755\n"
     ]
    },
    {
     "name": "stderr",
     "output_type": "stream",
     "text": [
      "tune_bagging_fraction_and_bagging_freq, val_score: 3.325848:  70%|#######   | 7/10 [00:03<00:01,  2.02it/s][I 2020-03-06 16:40:09,232] Finished trial#6 resulted in value: 3.375497471614077. Current best value is 3.3554055215339016 with parameters: {'bagging_fraction': 0.4602655873488911, 'bagging_freq': 2}.\n",
      "tune_bagging_fraction_and_bagging_freq, val_score: 3.325848:  70%|#######   | 7/10 [00:03<00:01,  2.02it/s]"
     ]
    },
    {
     "name": "stdout",
     "output_type": "stream",
     "text": [
      "Training until validation scores don't improve for 100 rounds\n",
      "[100]\ttraining's l2: 2.95189\tvalid_1's l2: 3.50695\n",
      "Early stopping, best iteration is:\n",
      "[41]\ttraining's l2: 3.39047\tvalid_1's l2: 3.42634\n"
     ]
    },
    {
     "name": "stderr",
     "output_type": "stream",
     "text": [
      "tune_bagging_fraction_and_bagging_freq, val_score: 3.325848:  80%|########  | 8/10 [00:03<00:00,  2.01it/s][I 2020-03-06 16:40:09,733] Finished trial#7 resulted in value: 3.4263404264303143. Current best value is 3.3554055215339016 with parameters: {'bagging_fraction': 0.4602655873488911, 'bagging_freq': 2}.\n",
      "tune_bagging_fraction_and_bagging_freq, val_score: 3.325848:  80%|########  | 8/10 [00:04<00:00,  2.01it/s]"
     ]
    },
    {
     "name": "stdout",
     "output_type": "stream",
     "text": [
      "Training until validation scores don't improve for 100 rounds\n",
      "[100]\ttraining's l2: 2.91664\tvalid_1's l2: 3.3837\n",
      "[200]\ttraining's l2: 2.49452\tvalid_1's l2: 3.50258\n",
      "Early stopping, best iteration is:\n",
      "[112]\ttraining's l2: 2.86264\tvalid_1's l2: 3.37926\n"
     ]
    },
    {
     "name": "stderr",
     "output_type": "stream",
     "text": [
      "tune_bagging_fraction_and_bagging_freq, val_score: 3.325848:  90%|######### | 9/10 [00:04<00:00,  1.79it/s][I 2020-03-06 16:40:10,439] Finished trial#8 resulted in value: 3.3792561494837257. Current best value is 3.3554055215339016 with parameters: {'bagging_fraction': 0.4602655873488911, 'bagging_freq': 2}.\n",
      "tune_bagging_fraction_and_bagging_freq, val_score: 3.325848:  90%|######### | 9/10 [00:04<00:00,  1.79it/s]"
     ]
    },
    {
     "name": "stdout",
     "output_type": "stream",
     "text": [
      "Training until validation scores don't improve for 100 rounds\n",
      "[100]\ttraining's l2: 2.98839\tvalid_1's l2: 3.46769\n",
      "Early stopping, best iteration is:\n",
      "[58]\ttraining's l2: 3.22919\tvalid_1's l2: 3.40522\n"
     ]
    },
    {
     "name": "stderr",
     "output_type": "stream",
     "text": [
      "tune_bagging_fraction_and_bagging_freq, val_score: 3.325848: 100%|##########| 10/10 [00:05<00:00,  1.81it/s][I 2020-03-06 16:40:10,968] Finished trial#9 resulted in value: 3.40521636003981. Current best value is 3.3554055215339016 with parameters: {'bagging_fraction': 0.4602655873488911, 'bagging_freq': 2}.\n",
      "tune_bagging_fraction_and_bagging_freq, val_score: 3.325848: 100%|##########| 10/10 [00:05<00:00,  1.90it/s]\n",
      "tune_feature_fraction, val_score: 3.325848:   0%|          | 0/6 [00:00<?, ?it/s]"
     ]
    },
    {
     "name": "stdout",
     "output_type": "stream",
     "text": [
      "Training until validation scores don't improve for 100 rounds\n",
      "[100]\ttraining's l2: 2.95544\tvalid_1's l2: 3.41547\n",
      "Early stopping, best iteration is:\n",
      "[57]\ttraining's l2: 3.21855\tvalid_1's l2: 3.39367\n"
     ]
    },
    {
     "name": "stderr",
     "output_type": "stream",
     "text": [
      "tune_feature_fraction, val_score: 3.325848:  17%|#6        | 1/6 [00:00<00:02,  2.39it/s][I 2020-03-06 16:40:11,454] Finished trial#0 resulted in value: 3.3936749115452622. Current best value is 3.3936749115452622 with parameters: {'feature_fraction': 0.52}.\n",
      "tune_feature_fraction, val_score: 3.325848:  17%|#6        | 1/6 [00:00<00:02,  2.39it/s]"
     ]
    },
    {
     "name": "stdout",
     "output_type": "stream",
     "text": [
      "Training until validation scores don't improve for 100 rounds\n",
      "[100]\ttraining's l2: 2.919\tvalid_1's l2: 3.44888\n",
      "Early stopping, best iteration is:\n",
      "[53]\ttraining's l2: 3.22753\tvalid_1's l2: 3.36723\n"
     ]
    },
    {
     "name": "stderr",
     "output_type": "stream",
     "text": [
      "tune_feature_fraction, val_score: 3.325848:  33%|###3      | 2/6 [00:00<00:01,  2.45it/s][I 2020-03-06 16:40:11,834] Finished trial#1 resulted in value: 3.3672282234136075. Current best value is 3.3672282234136075 with parameters: {'feature_fraction': 0.552}.\n",
      "tune_feature_fraction, val_score: 3.325848:  33%|###3      | 2/6 [00:00<00:01,  2.45it/s]"
     ]
    },
    {
     "name": "stdout",
     "output_type": "stream",
     "text": [
      "Training until validation scores don't improve for 100 rounds\n",
      "[100]\ttraining's l2: 2.92438\tvalid_1's l2: 3.37778\n",
      "Early stopping, best iteration is:\n",
      "[60]\ttraining's l2: 3.15951\tvalid_1's l2: 3.32585\n"
     ]
    },
    {
     "name": "stderr",
     "output_type": "stream",
     "text": [
      "tune_feature_fraction, val_score: 3.325848:  50%|#####     | 3/6 [00:01<00:01,  2.44it/s][I 2020-03-06 16:40:12,241] Finished trial#2 resulted in value: 3.3258478254426787. Current best value is 3.3258478254426787 with parameters: {'feature_fraction': 0.584}.\n",
      "tune_feature_fraction, val_score: 3.325848:  50%|#####     | 3/6 [00:01<00:01,  2.44it/s]"
     ]
    },
    {
     "name": "stdout",
     "output_type": "stream",
     "text": [
      "Training until validation scores don't improve for 100 rounds\n",
      "[100]\ttraining's l2: 2.92438\tvalid_1's l2: 3.37778\n",
      "Early stopping, best iteration is:\n",
      "[60]\ttraining's l2: 3.15951\tvalid_1's l2: 3.32585\n"
     ]
    },
    {
     "name": "stderr",
     "output_type": "stream",
     "text": [
      "tune_feature_fraction, val_score: 3.325848:  67%|######6   | 4/6 [00:01<00:00,  2.22it/s][I 2020-03-06 16:40:12,789] Finished trial#3 resulted in value: 3.3258478254426787. Current best value is 3.3258478254426787 with parameters: {'feature_fraction': 0.584}.\n",
      "tune_feature_fraction, val_score: 3.325848:  67%|######6   | 4/6 [00:01<00:00,  2.22it/s]"
     ]
    },
    {
     "name": "stdout",
     "output_type": "stream",
     "text": [
      "Training until validation scores don't improve for 100 rounds\n",
      "[100]\ttraining's l2: 2.90366\tvalid_1's l2: 3.38214\n",
      "Early stopping, best iteration is:\n",
      "[50]\ttraining's l2: 3.24765\tvalid_1's l2: 3.34319\n"
     ]
    },
    {
     "name": "stderr",
     "output_type": "stream",
     "text": [
      "tune_feature_fraction, val_score: 3.325848:  83%|########3 | 5/6 [00:02<00:00,  2.17it/s][I 2020-03-06 16:40:13,275] Finished trial#4 resulted in value: 3.3431941940442775. Current best value is 3.3258478254426787 with parameters: {'feature_fraction': 0.584}.\n",
      "tune_feature_fraction, val_score: 3.325848:  83%|########3 | 5/6 [00:02<00:00,  2.17it/s]"
     ]
    },
    {
     "name": "stdout",
     "output_type": "stream",
     "text": [
      "Training until validation scores don't improve for 100 rounds\n",
      "[100]\ttraining's l2: 2.89374\tvalid_1's l2: 3.40713\n",
      "Early stopping, best iteration is:\n",
      "[71]\ttraining's l2: 3.05754\tvalid_1's l2: 3.38261\n"
     ]
    },
    {
     "name": "stderr",
     "output_type": "stream",
     "text": [
      "tune_feature_fraction, val_score: 3.325848: 100%|##########| 6/6 [00:02<00:00,  2.11it/s][I 2020-03-06 16:40:13,779] Finished trial#5 resulted in value: 3.3826119066998594. Current best value is 3.3258478254426787 with parameters: {'feature_fraction': 0.584}.\n",
      "tune_feature_fraction, val_score: 3.325848: 100%|##########| 6/6 [00:02<00:00,  2.14it/s]\n",
      "tune_lambda_l1_and_lambda_l2, val_score: 3.325848:   0%|          | 0/20 [00:00<?, ?it/s]"
     ]
    },
    {
     "name": "stdout",
     "output_type": "stream",
     "text": [
      "Training until validation scores don't improve for 100 rounds\n",
      "[100]\ttraining's l2: 2.9087\tvalid_1's l2: 3.39374\n",
      "Early stopping, best iteration is:\n",
      "[59]\ttraining's l2: 3.18025\tvalid_1's l2: 3.3759\n"
     ]
    },
    {
     "name": "stderr",
     "output_type": "stream",
     "text": [
      "tune_lambda_l1_and_lambda_l2, val_score: 3.325848:   5%|5         | 1/20 [00:00<00:07,  2.56it/s][I 2020-03-06 16:40:14,239] Finished trial#0 resulted in value: 3.3759021622792957. Current best value is 3.3759021622792957 with parameters: {'lambda_l1': 0.006628077922393601, 'lambda_l2': 0.33429661157841634}.\n",
      "tune_lambda_l1_and_lambda_l2, val_score: 3.325848:   5%|5         | 1/20 [00:00<00:07,  2.56it/s]"
     ]
    },
    {
     "name": "stdout",
     "output_type": "stream",
     "text": [
      "Training until validation scores don't improve for 100 rounds\n",
      "[100]\ttraining's l2: 2.94319\tvalid_1's l2: 3.36101\n",
      "Early stopping, best iteration is:\n",
      "[79]\ttraining's l2: 3.05882\tvalid_1's l2: 3.34274\n"
     ]
    },
    {
     "name": "stderr",
     "output_type": "stream",
     "text": [
      "tune_lambda_l1_and_lambda_l2, val_score: 3.325848:  10%|#         | 2/20 [00:00<00:07,  2.28it/s][I 2020-03-06 16:40:14,788] Finished trial#1 resulted in value: 3.3427369085463265. Current best value is 3.3427369085463265 with parameters: {'lambda_l1': 7.587800765119404e-06, 'lambda_l2': 1.2069736810741578}.\n",
      "tune_lambda_l1_and_lambda_l2, val_score: 3.325848:  10%|#         | 2/20 [00:01<00:07,  2.28it/s]"
     ]
    },
    {
     "name": "stdout",
     "output_type": "stream",
     "text": [
      "Training until validation scores don't improve for 100 rounds\n",
      "[100]\ttraining's l2: 2.94944\tvalid_1's l2: 3.42993\n",
      "Early stopping, best iteration is:\n",
      "[47]\ttraining's l2: 3.31557\tvalid_1's l2: 3.38384\n"
     ]
    },
    {
     "name": "stderr",
     "output_type": "stream",
     "text": [
      "tune_lambda_l1_and_lambda_l2, val_score: 3.325848:  15%|#5        | 3/20 [00:01<00:07,  2.25it/s][I 2020-03-06 16:40:15,250] Finished trial#2 resulted in value: 3.3838411563703747. Current best value is 3.3427369085463265 with parameters: {'lambda_l1': 7.587800765119404e-06, 'lambda_l2': 1.2069736810741578}.\n",
      "tune_lambda_l1_and_lambda_l2, val_score: 3.325848:  15%|#5        | 3/20 [00:01<00:07,  2.25it/s]"
     ]
    },
    {
     "name": "stdout",
     "output_type": "stream",
     "text": [
      "Training until validation scores don't improve for 100 rounds\n",
      "[100]\ttraining's l2: 2.92438\tvalid_1's l2: 3.37778\n",
      "Early stopping, best iteration is:\n",
      "[60]\ttraining's l2: 3.15951\tvalid_1's l2: 3.32585\n"
     ]
    },
    {
     "name": "stderr",
     "output_type": "stream",
     "text": [
      "tune_lambda_l1_and_lambda_l2, val_score: 3.325848:  20%|##        | 4/20 [00:01<00:07,  2.18it/s][I 2020-03-06 16:40:15,736] Finished trial#3 resulted in value: 3.325847675904089. Current best value is 3.325847675904089 with parameters: {'lambda_l1': 9.890454727545594e-05, 'lambda_l2': 1.0636645645385193e-06}.\n",
      "tune_lambda_l1_and_lambda_l2, val_score: 3.325848:  20%|##        | 4/20 [00:01<00:07,  2.18it/s]"
     ]
    },
    {
     "name": "stdout",
     "output_type": "stream",
     "text": [
      "Training until validation scores don't improve for 100 rounds\n",
      "[100]\ttraining's l2: 2.91155\tvalid_1's l2: 3.38495\n",
      "Early stopping, best iteration is:\n",
      "[59]\ttraining's l2: 3.18075\tvalid_1's l2: 3.37566\n"
     ]
    },
    {
     "name": "stderr",
     "output_type": "stream",
     "text": [
      "tune_lambda_l1_and_lambda_l2, val_score: 3.325848:  25%|##5       | 5/20 [00:02<00:07,  2.09it/s][I 2020-03-06 16:40:16,262] Finished trial#4 resulted in value: 3.37566268830457. Current best value is 3.325847675904089 with parameters: {'lambda_l1': 9.890454727545594e-05, 'lambda_l2': 1.0636645645385193e-06}.\n",
      "tune_lambda_l1_and_lambda_l2, val_score: 3.325848:  25%|##5       | 5/20 [00:02<00:07,  2.09it/s]"
     ]
    },
    {
     "name": "stdout",
     "output_type": "stream",
     "text": [
      "Training until validation scores don't improve for 100 rounds\n",
      "[100]\ttraining's l2: 2.92438\tvalid_1's l2: 3.37778\n",
      "Early stopping, best iteration is:\n",
      "[60]\ttraining's l2: 3.15951\tvalid_1's l2: 3.32585\n"
     ]
    },
    {
     "name": "stderr",
     "output_type": "stream",
     "text": [
      "tune_lambda_l1_and_lambda_l2, val_score: 3.325848:  30%|###       | 6/20 [00:02<00:06,  2.04it/s][I 2020-03-06 16:40:16,780] Finished trial#5 resulted in value: 3.3258477828829065. Current best value is 3.325847675904089 with parameters: {'lambda_l1': 9.890454727545594e-05, 'lambda_l2': 1.0636645645385193e-06}.\n",
      "tune_lambda_l1_and_lambda_l2, val_score: 3.325848:  30%|###       | 6/20 [00:02<00:06,  2.04it/s]"
     ]
    },
    {
     "name": "stdout",
     "output_type": "stream",
     "text": [
      "Training until validation scores don't improve for 100 rounds\n",
      "[100]\ttraining's l2: 2.98028\tvalid_1's l2: 3.34449\n",
      "Early stopping, best iteration is:\n",
      "[64]\ttraining's l2: 3.18374\tvalid_1's l2: 3.31958\n"
     ]
    },
    {
     "name": "stderr",
     "output_type": "stream",
     "text": [
      "tune_lambda_l1_and_lambda_l2, val_score: 3.319581:  35%|###5      | 7/20 [00:03<00:06,  2.00it/s][I 2020-03-06 16:40:17,303] Finished trial#6 resulted in value: 3.319580991684319. Current best value is 3.319580991684319 with parameters: {'lambda_l1': 8.780344757526686, 'lambda_l2': 2.8681497245474402e-05}.\n",
      "tune_lambda_l1_and_lambda_l2, val_score: 3.319581:  35%|###5      | 7/20 [00:03<00:06,  2.00it/s]"
     ]
    },
    {
     "name": "stdout",
     "output_type": "stream",
     "text": [
      "Training until validation scores don't improve for 100 rounds\n",
      "[100]\ttraining's l2: 2.90943\tvalid_1's l2: 3.35572\n",
      "Early stopping, best iteration is:\n",
      "[63]\ttraining's l2: 3.14422\tvalid_1's l2: 3.32653\n"
     ]
    },
    {
     "name": "stderr",
     "output_type": "stream",
     "text": [
      "tune_lambda_l1_and_lambda_l2, val_score: 3.319581:  40%|####      | 8/20 [00:03<00:05,  2.01it/s][I 2020-03-06 16:40:17,794] Finished trial#7 resulted in value: 3.3265325729348896. Current best value is 3.319580991684319 with parameters: {'lambda_l1': 8.780344757526686, 'lambda_l2': 2.8681497245474402e-05}.\n",
      "tune_lambda_l1_and_lambda_l2, val_score: 3.319581:  40%|####      | 8/20 [00:04<00:05,  2.01it/s]"
     ]
    },
    {
     "name": "stdout",
     "output_type": "stream",
     "text": [
      "Training until validation scores don't improve for 100 rounds\n",
      "[100]\ttraining's l2: 2.92642\tvalid_1's l2: 3.37557\n",
      "Early stopping, best iteration is:\n",
      "[63]\ttraining's l2: 3.14402\tvalid_1's l2: 3.32657\n"
     ]
    },
    {
     "name": "stderr",
     "output_type": "stream",
     "text": [
      "tune_lambda_l1_and_lambda_l2, val_score: 3.319581:  45%|####5     | 9/20 [00:04<00:05,  1.99it/s][I 2020-03-06 16:40:18,304] Finished trial#8 resulted in value: 3.3265681139346537. Current best value is 3.319580991684319 with parameters: {'lambda_l1': 8.780344757526686, 'lambda_l2': 2.8681497245474402e-05}.\n",
      "tune_lambda_l1_and_lambda_l2, val_score: 3.319581:  45%|####5     | 9/20 [00:04<00:05,  1.99it/s]"
     ]
    },
    {
     "name": "stdout",
     "output_type": "stream",
     "text": [
      "Training until validation scores don't improve for 100 rounds\n",
      "[100]\ttraining's l2: 2.92439\tvalid_1's l2: 3.37778\n",
      "Early stopping, best iteration is:\n",
      "[60]\ttraining's l2: 3.15951\tvalid_1's l2: 3.32585\n"
     ]
    },
    {
     "name": "stderr",
     "output_type": "stream",
     "text": [
      "tune_lambda_l1_and_lambda_l2, val_score: 3.319581:  50%|#####     | 10/20 [00:04<00:05,  2.00it/s][I 2020-03-06 16:40:18,801] Finished trial#9 resulted in value: 3.3258466528873236. Current best value is 3.319580991684319 with parameters: {'lambda_l1': 8.780344757526686, 'lambda_l2': 2.8681497245474402e-05}.\n",
      "tune_lambda_l1_and_lambda_l2, val_score: 3.319581:  50%|#####     | 10/20 [00:05<00:05,  2.00it/s]"
     ]
    },
    {
     "name": "stdout",
     "output_type": "stream",
     "text": [
      "Training until validation scores don't improve for 100 rounds\n",
      "[100]\ttraining's l2: 2.99055\tvalid_1's l2: 3.3278\n",
      "Early stopping, best iteration is:\n",
      "[65]\ttraining's l2: 3.18722\tvalid_1's l2: 3.31207\n"
     ]
    },
    {
     "name": "stderr",
     "output_type": "stream",
     "text": [
      "tune_lambda_l1_and_lambda_l2, val_score: 3.312068:  55%|#####5    | 11/20 [00:05<00:04,  1.92it/s][I 2020-03-06 16:40:19,377] Finished trial#10 resulted in value: 3.3120678050883696. Current best value is 3.3120678050883696 with parameters: {'lambda_l1': 8.21390985428797, 'lambda_l2': 0.007670028631611181}.\n",
      "tune_lambda_l1_and_lambda_l2, val_score: 3.312068:  55%|#####5    | 11/20 [00:05<00:04,  1.92it/s]"
     ]
    },
    {
     "name": "stdout",
     "output_type": "stream",
     "text": [
      "Training until validation scores don't improve for 100 rounds\n",
      "[100]\ttraining's l2: 2.92829\tvalid_1's l2: 3.35337\n",
      "Early stopping, best iteration is:\n",
      "[58]\ttraining's l2: 3.19641\tvalid_1's l2: 3.3428\n"
     ]
    },
    {
     "name": "stderr",
     "output_type": "stream",
     "text": [
      "tune_lambda_l1_and_lambda_l2, val_score: 3.312068:  60%|######    | 12/20 [00:05<00:04,  1.99it/s][I 2020-03-06 16:40:19,831] Finished trial#11 resulted in value: 3.342800167369607. Current best value is 3.3120678050883696 with parameters: {'lambda_l1': 8.21390985428797, 'lambda_l2': 0.007670028631611181}.\n",
      "tune_lambda_l1_and_lambda_l2, val_score: 3.312068:  60%|######    | 12/20 [00:06<00:04,  1.99it/s]"
     ]
    },
    {
     "name": "stdout",
     "output_type": "stream",
     "text": [
      "Training until validation scores don't improve for 100 rounds\n",
      "[100]\ttraining's l2: 3.00392\tvalid_1's l2: 3.35108\n",
      "Early stopping, best iteration is:\n",
      "[63]\ttraining's l2: 3.21156\tvalid_1's l2: 3.33067\n"
     ]
    },
    {
     "name": "stderr",
     "output_type": "stream",
     "text": [
      "tune_lambda_l1_and_lambda_l2, val_score: 3.312068:  65%|######5   | 13/20 [00:06<00:03,  1.98it/s][I 2020-03-06 16:40:20,341] Finished trial#12 resulted in value: 3.3306698373813424. Current best value is 3.3120678050883696 with parameters: {'lambda_l1': 8.21390985428797, 'lambda_l2': 0.007670028631611181}.\n",
      "tune_lambda_l1_and_lambda_l2, val_score: 3.312068:  65%|######5   | 13/20 [00:06<00:03,  1.98it/s]"
     ]
    },
    {
     "name": "stdout",
     "output_type": "stream",
     "text": [
      "Training until validation scores don't improve for 100 rounds\n",
      "[100]\ttraining's l2: 2.9101\tvalid_1's l2: 3.40237\n",
      "Early stopping, best iteration is:\n",
      "[58]\ttraining's l2: 3.17824\tvalid_1's l2: 3.35299\n"
     ]
    },
    {
     "name": "stderr",
     "output_type": "stream",
     "text": [
      "tune_lambda_l1_and_lambda_l2, val_score: 3.312068:  70%|#######   | 14/20 [00:06<00:03,  1.99it/s][I 2020-03-06 16:40:20,834] Finished trial#13 resulted in value: 3.352986159175165. Current best value is 3.3120678050883696 with parameters: {'lambda_l1': 8.21390985428797, 'lambda_l2': 0.007670028631611181}.\n",
      "tune_lambda_l1_and_lambda_l2, val_score: 3.312068:  70%|#######   | 14/20 [00:07<00:03,  1.99it/s]"
     ]
    },
    {
     "name": "stdout",
     "output_type": "stream",
     "text": [
      "Training until validation scores don't improve for 100 rounds\n",
      "[100]\ttraining's l2: 2.91991\tvalid_1's l2: 3.4001\n",
      "Early stopping, best iteration is:\n",
      "[64]\ttraining's l2: 3.14141\tvalid_1's l2: 3.37956\n"
     ]
    },
    {
     "name": "stderr",
     "output_type": "stream",
     "text": [
      "tune_lambda_l1_and_lambda_l2, val_score: 3.312068:  75%|#######5  | 15/20 [00:07<00:02,  1.99it/s][I 2020-03-06 16:40:21,342] Finished trial#14 resulted in value: 3.379563949658944. Current best value is 3.3120678050883696 with parameters: {'lambda_l1': 8.21390985428797, 'lambda_l2': 0.007670028631611181}.\n",
      "tune_lambda_l1_and_lambda_l2, val_score: 3.312068:  75%|#######5  | 15/20 [00:07<00:02,  1.99it/s]"
     ]
    },
    {
     "name": "stdout",
     "output_type": "stream",
     "text": [
      "Training until validation scores don't improve for 100 rounds\n",
      "[100]\ttraining's l2: 2.98514\tvalid_1's l2: 3.34369\n",
      "Early stopping, best iteration is:\n",
      "[62]\ttraining's l2: 3.19472\tvalid_1's l2: 3.31485\n"
     ]
    },
    {
     "name": "stderr",
     "output_type": "stream",
     "text": [
      "tune_lambda_l1_and_lambda_l2, val_score: 3.312068:  80%|########  | 16/20 [00:08<00:02,  1.95it/s][I 2020-03-06 16:40:21,880] Finished trial#15 resulted in value: 3.3148534819571416. Current best value is 3.3120678050883696 with parameters: {'lambda_l1': 8.21390985428797, 'lambda_l2': 0.007670028631611181}.\n",
      "tune_lambda_l1_and_lambda_l2, val_score: 3.312068:  80%|########  | 16/20 [00:08<00:02,  1.95it/s]"
     ]
    },
    {
     "name": "stdout",
     "output_type": "stream",
     "text": [
      "Training until validation scores don't improve for 100 rounds\n",
      "[100]\ttraining's l2: 2.9253\tvalid_1's l2: 3.39499\n",
      "Early stopping, best iteration is:\n",
      "[81]\ttraining's l2: 3.02655\tvalid_1's l2: 3.38371\n"
     ]
    },
    {
     "name": "stderr",
     "output_type": "stream",
     "text": [
      "tune_lambda_l1_and_lambda_l2, val_score: 3.312068:  85%|########5 | 17/20 [00:08<00:01,  1.92it/s][I 2020-03-06 16:40:22,415] Finished trial#16 resulted in value: 3.383711238714658. Current best value is 3.3120678050883696 with parameters: {'lambda_l1': 8.21390985428797, 'lambda_l2': 0.007670028631611181}.\n",
      "tune_lambda_l1_and_lambda_l2, val_score: 3.312068:  85%|########5 | 17/20 [00:08<00:01,  1.92it/s]"
     ]
    },
    {
     "name": "stdout",
     "output_type": "stream",
     "text": [
      "Training until validation scores don't improve for 100 rounds\n",
      "[100]\ttraining's l2: 2.92444\tvalid_1's l2: 3.37775\n",
      "Early stopping, best iteration is:\n",
      "[60]\ttraining's l2: 3.15955\tvalid_1's l2: 3.32584\n"
     ]
    },
    {
     "name": "stderr",
     "output_type": "stream",
     "text": [
      "tune_lambda_l1_and_lambda_l2, val_score: 3.312068:  90%|######### | 18/20 [00:09<00:01,  1.95it/s][I 2020-03-06 16:40:22,914] Finished trial#17 resulted in value: 3.325837156650406. Current best value is 3.3120678050883696 with parameters: {'lambda_l1': 8.21390985428797, 'lambda_l2': 0.007670028631611181}.\n",
      "tune_lambda_l1_and_lambda_l2, val_score: 3.312068:  90%|######### | 18/20 [00:09<00:01,  1.95it/s]"
     ]
    },
    {
     "name": "stdout",
     "output_type": "stream",
     "text": [
      "Training until validation scores don't improve for 100 rounds\n",
      "[100]\ttraining's l2: 2.98086\tvalid_1's l2: 3.3444\n",
      "Early stopping, best iteration is:\n",
      "[64]\ttraining's l2: 3.18421\tvalid_1's l2: 3.31957\n"
     ]
    },
    {
     "name": "stderr",
     "output_type": "stream",
     "text": [
      "tune_lambda_l1_and_lambda_l2, val_score: 3.312068:  95%|#########5| 19/20 [00:09<00:00,  1.89it/s][I 2020-03-06 16:40:23,482] Finished trial#18 resulted in value: 3.319566835227954. Current best value is 3.3120678050883696 with parameters: {'lambda_l1': 8.21390985428797, 'lambda_l2': 0.007670028631611181}.\n",
      "tune_lambda_l1_and_lambda_l2, val_score: 3.312068:  95%|#########5| 19/20 [00:09<00:00,  1.89it/s]"
     ]
    },
    {
     "name": "stdout",
     "output_type": "stream",
     "text": [
      "Training until validation scores don't improve for 100 rounds\n",
      "[100]\ttraining's l2: 2.9244\tvalid_1's l2: 3.37777\n",
      "Early stopping, best iteration is:\n",
      "[60]\ttraining's l2: 3.15952\tvalid_1's l2: 3.32584\n"
     ]
    },
    {
     "name": "stderr",
     "output_type": "stream",
     "text": [
      "tune_lambda_l1_and_lambda_l2, val_score: 3.312068: 100%|##########| 20/20 [00:10<00:00,  1.84it/s][I 2020-03-06 16:40:24,056] Finished trial#19 resulted in value: 3.3258433133574012. Current best value is 3.3120678050883696 with parameters: {'lambda_l1': 8.21390985428797, 'lambda_l2': 0.007670028631611181}.\n",
      "tune_lambda_l1_and_lambda_l2, val_score: 3.312068: 100%|##########| 20/20 [00:10<00:00,  1.95it/s]\n",
      "tune_min_child_samples, val_score: 3.312068:   0%|          | 0/5 [00:00<?, ?it/s]"
     ]
    },
    {
     "name": "stdout",
     "output_type": "stream",
     "text": [
      "Training until validation scores don't improve for 100 rounds\n",
      "[100]\ttraining's l2: 2.89121\tvalid_1's l2: 3.35886\n",
      "Early stopping, best iteration is:\n",
      "[62]\ttraining's l2: 3.11774\tvalid_1's l2: 3.32166\n"
     ]
    },
    {
     "name": "stderr",
     "output_type": "stream",
     "text": [
      "tune_min_child_samples, val_score: 3.312068:  20%|##        | 1/5 [00:00<00:01,  2.04it/s][I 2020-03-06 16:40:24,621] Finished trial#0 resulted in value: 3.3216585632544953. Current best value is 3.3216585632544953 with parameters: {'min_child_samples': 5}.\n",
      "tune_min_child_samples, val_score: 3.312068:  20%|##        | 1/5 [00:00<00:01,  2.04it/s]"
     ]
    },
    {
     "name": "stdout",
     "output_type": "stream",
     "text": [
      "Training until validation scores don't improve for 100 rounds\n",
      "[100]\ttraining's l2: 2.91169\tvalid_1's l2: 3.34685\n",
      "Early stopping, best iteration is:\n",
      "[69]\ttraining's l2: 3.09001\tvalid_1's l2: 3.31029\n"
     ]
    },
    {
     "name": "stderr",
     "output_type": "stream",
     "text": [
      "tune_min_child_samples, val_score: 3.310287:  40%|####      | 2/5 [00:01<00:01,  1.99it/s][I 2020-03-06 16:40:25,143] Finished trial#1 resulted in value: 3.310287011168737. Current best value is 3.310287011168737 with parameters: {'min_child_samples': 10}.\n",
      "tune_min_child_samples, val_score: 3.310287:  40%|####      | 2/5 [00:01<00:01,  1.99it/s]"
     ]
    },
    {
     "name": "stdout",
     "output_type": "stream",
     "text": [
      "Training until validation scores don't improve for 100 rounds\n",
      "[100]\ttraining's l2: 2.99539\tvalid_1's l2: 3.38252\n",
      "[200]\ttraining's l2: 2.60982\tvalid_1's l2: 3.41307\n",
      "Early stopping, best iteration is:\n",
      "[125]\ttraining's l2: 2.88448\tvalid_1's l2: 3.36997\n"
     ]
    },
    {
     "name": "stderr",
     "output_type": "stream",
     "text": [
      "tune_min_child_samples, val_score: 3.310287:  60%|######    | 3/5 [00:01<00:01,  1.78it/s][I 2020-03-06 16:40:25,847] Finished trial#2 resulted in value: 3.3699684505244893. Current best value is 3.310287011168737 with parameters: {'min_child_samples': 10}.\n",
      "tune_min_child_samples, val_score: 3.310287:  60%|######    | 3/5 [00:01<00:01,  1.78it/s]"
     ]
    },
    {
     "name": "stdout",
     "output_type": "stream",
     "text": [
      "Training until validation scores don't improve for 100 rounds\n",
      "[100]\ttraining's l2: 3.05705\tvalid_1's l2: 3.42609\n",
      "Early stopping, best iteration is:\n",
      "[60]\ttraining's l2: 3.26452\tvalid_1's l2: 3.37065\n"
     ]
    },
    {
     "name": "stderr",
     "output_type": "stream",
     "text": [
      "tune_min_child_samples, val_score: 3.310287:  80%|########  | 4/5 [00:02<00:00,  1.87it/s][I 2020-03-06 16:40:26,315] Finished trial#3 resulted in value: 3.370654193949669. Current best value is 3.310287011168737 with parameters: {'min_child_samples': 10}.\n",
      "tune_min_child_samples, val_score: 3.310287:  80%|########  | 4/5 [00:02<00:00,  1.87it/s]"
     ]
    },
    {
     "name": "stdout",
     "output_type": "stream",
     "text": [
      "Training until validation scores don't improve for 100 rounds\n",
      "[100]\ttraining's l2: 3.13539\tvalid_1's l2: 3.3915\n",
      "Early stopping, best iteration is:\n",
      "[59]\ttraining's l2: 3.33951\tvalid_1's l2: 3.34607\n"
     ]
    },
    {
     "name": "stderr",
     "output_type": "stream",
     "text": [
      "tune_min_child_samples, val_score: 3.310287: 100%|##########| 5/5 [00:02<00:00,  1.92it/s][I 2020-03-06 16:40:26,806] Finished trial#4 resulted in value: 3.3460672856415927. Current best value is 3.310287011168737 with parameters: {'min_child_samples': 10}.\n",
      "tune_min_child_samples, val_score: 3.310287: 100%|##########| 5/5 [00:02<00:00,  1.82it/s]\n"
     ]
    },
    {
     "name": "stdout",
     "output_type": "stream",
     "text": [
      "Number of finished trials: 68\n",
      "Best params: {'lambda_l1': 8.21390985428797, 'lambda_l2': 0.007670028631611181, 'num_leaves': 6, 'feature_fraction': 0.6, 'bagging_fraction': 1.0, 'bagging_freq': 0, 'min_child_samples': 10}\n",
      "  r2_score = 0.1348905753470777\n",
      "  Params: \n",
      "    lambda_l1: 8.21390985428797\n",
      "    lambda_l2: 0.007670028631611181\n",
      "    num_leaves: 6\n",
      "    feature_fraction: 0.6\n",
      "    bagging_fraction: 1.0\n",
      "    bagging_freq: 0\n",
      "    min_child_samples: 10\n"
     ]
    }
   ],
   "source": [
    "dtrain = lgb.Dataset(X_train, label=y_train)\n",
    "dval = lgb.Dataset(X_test, label=y_test)\n",
    "\n",
    "params = {\n",
    "    'objective': 'regression',\n",
    "    'metric': 'l2',\n",
    "    'verbosity': -1,\n",
    "    'boosting_type': 'gbdt',\n",
    "}\n",
    "\n",
    "best_params, tuning_history = dict(), list()\n",
    "\n",
    "model = lgb.train(params,\n",
    "                  dtrain,\n",
    "                  valid_sets=[dtrain, dval],\n",
    "                  best_params=best_params,\n",
    "                  tuning_history=tuning_history,\n",
    "                  verbose_eval=100,\n",
    "                  early_stopping_rounds=100,\n",
    "                  )\n",
    "\n",
    "prediction = np.rint(model.predict(X_test, num_iteration=model.best_iteration))\n",
    "r2_score = r2_score(y_test, prediction)\n",
    "\n",
    "print('Number of finished trials: {}'.format(len(tuning_history)))\n",
    "print('Best params:', best_params)\n",
    "print('  r2_score = {}'.format(r2_score))\n",
    "print('  Params: ')\n",
    "for key, value in best_params.items():\n",
    "    print('    {}: {}'.format(key, value))"
   ]
  },
  {
   "cell_type": "markdown",
   "metadata": {},
   "source": [
    "### Tuning된 값 입력하여 모델 선언"
   ]
  },
  {
   "cell_type": "code",
   "execution_count": 192,
   "metadata": {},
   "outputs": [],
   "source": [
    "lgb_reg = LGBMRegressor(lambda_l1 = 8.21390985428797, lambda_l2 = 0.007670028631611181, num_leaves = 6, feature_fraction = 0.6, bagging_fraction = 1.0, bagging_freq = 0, min_child_samples = 10)"
   ]
  },
  {
   "cell_type": "code",
   "execution_count": 193,
   "metadata": {},
   "outputs": [
    {
     "data": {
      "text/plain": [
       "LGBMRegressor(bagging_fraction=1.0, bagging_freq=0, boosting_type='gbdt',\n",
       "              class_weight=None, colsample_bytree=1.0, feature_fraction=0.6,\n",
       "              importance_type='split', lambda_l1=8.21390985428797,\n",
       "              lambda_l2=0.007670028631611181, learning_rate=0.1, max_depth=-1,\n",
       "              min_child_samples=10, min_child_weight=0.001, min_split_gain=0.0,\n",
       "              n_estimators=100, n_jobs=-1, num_leaves=6, objective=None,\n",
       "              random_state=None, reg_alpha=0.0, reg_lambda=0.0, silent=True,\n",
       "              subsample=1.0, subsample_for_bin=200000, subsample_freq=0)"
      ]
     },
     "execution_count": 193,
     "metadata": {},
     "output_type": "execute_result"
    }
   ],
   "source": [
    "lgb_reg.fit(X_train, y_train)"
   ]
  },
  {
   "cell_type": "code",
   "execution_count": 194,
   "metadata": {},
   "outputs": [],
   "source": [
    "lgb_pred = lgb_reg.predict(X_test)"
   ]
  },
  {
   "cell_type": "code",
   "execution_count": 200,
   "metadata": {},
   "outputs": [
    {
     "data": {
      "text/plain": [
       "array([ 0.80339666,  0.42479742,  0.07133349, ..., -0.16360461,\n",
       "        0.10874317, -0.54658476])"
      ]
     },
     "execution_count": 200,
     "metadata": {},
     "output_type": "execute_result"
    }
   ],
   "source": [
    "lgb_pred"
   ]
  },
  {
   "cell_type": "code",
   "execution_count": 196,
   "metadata": {},
   "outputs": [],
   "source": [
    "y_test = np.array(y_test)"
   ]
  },
  {
   "cell_type": "code",
   "execution_count": 199,
   "metadata": {},
   "outputs": [
    {
     "data": {
      "text/html": [
       "<div>\n",
       "<style scoped>\n",
       "    .dataframe tbody tr th:only-of-type {\n",
       "        vertical-align: middle;\n",
       "    }\n",
       "\n",
       "    .dataframe tbody tr th {\n",
       "        vertical-align: top;\n",
       "    }\n",
       "\n",
       "    .dataframe thead th {\n",
       "        text-align: right;\n",
       "    }\n",
       "</style>\n",
       "<table border=\"1\" class=\"dataframe\">\n",
       "  <thead>\n",
       "    <tr style=\"text-align: right;\">\n",
       "      <th></th>\n",
       "      <th>CORR</th>\n",
       "      <th>R2</th>\n",
       "      <th>MAE</th>\n",
       "      <th>RMSE</th>\n",
       "      <th>ACR</th>\n",
       "      <th>threshACR</th>\n",
       "    </tr>\n",
       "  </thead>\n",
       "  <tbody>\n",
       "    <tr>\n",
       "      <th>0</th>\n",
       "      <td>0.374383</td>\n",
       "      <td>0.1394</td>\n",
       "      <td>1.3844</td>\n",
       "      <td>1.8294</td>\n",
       "      <td>0.609298</td>\n",
       "      <td>0.654832</td>\n",
       "    </tr>\n",
       "  </tbody>\n",
       "</table>\n",
       "</div>"
      ],
      "text/plain": [
       "       CORR      R2     MAE    RMSE       ACR  threshACR\n",
       "0  0.374383  0.1394  1.3844  1.8294  0.609298   0.654832"
      ]
     },
     "execution_count": 199,
     "metadata": {},
     "output_type": "execute_result"
    }
   ],
   "source": [
    "metr = CustomMetric(lgb_pred, y_test)\n",
    "metr.makedf()\n",
    "metr.execution()"
   ]
  },
  {
   "cell_type": "code",
   "execution_count": 198,
   "metadata": {},
   "outputs": [],
   "source": [
    "# metric 구성\n",
    "\n",
    "from sklearn.metrics import mean_squared_error, r2_score, mean_absolute_error, accuracy_score\n",
    "\n",
    "class CustomMetric():\n",
    "\n",
    "    def __init__(self, pred, real):\n",
    "            self.pred = pred\n",
    "            self.real = real\n",
    "            self.thr25 = np.percentile(self.real, 25)\n",
    "            self.thr75 = np.percentile(self.real, 75)\n",
    "            self.df = pd.DataFrame({'pred' : self.pred, 'real' : self.real})\n",
    "        \n",
    "    def issame(self, data1, data2):\n",
    "        if data1 > 0 and data2 > 0 : \n",
    "            return 'T'\n",
    "        elif data1 > 0 and data2 < 0 :\n",
    "            return 'F'\n",
    "        elif data1 < 0 and data2 > 0 :\n",
    "            return 'F'\n",
    "        elif data1 < 0 and data2 < 0 :\n",
    "            return 'T'\n",
    "        elif data1 == 0 or data2 == 0 :\n",
    "            return 0\n",
    "        else :\n",
    "            return 'notcal'\n",
    "\n",
    "    def getouter(self, data1, data2): #quantile_25 = np.percentile(values, 25)\n",
    "\n",
    "        if data1 > 0 and data2 >= self.thr75 :\n",
    "            return 'T'\n",
    "        elif data1 < 0 and data2 <= self.thr25 :\n",
    "            return 'T'\n",
    "        elif data1 >= 0 and data2 <= self.thr25 :\n",
    "            return 'F'\n",
    "        elif data1 <= 0 and data2 >= self.thr75: \n",
    "            return 'F'\n",
    "        else:\n",
    "            return 'notcal'\n",
    "        \n",
    "    def makedf(self):\n",
    "        self.df['TF'] = self.df.apply(lambda x : self.issame(x['pred'], x['real']), axis = 1)\n",
    "        self.df['thrTF'] = self.df.apply(lambda x : self.getouter(x['pred'], x['real']), axis = 1)\n",
    "        \n",
    "        return self.df\n",
    "        \n",
    "    def execution(self):\n",
    "        mdf = pd.DataFrame()\n",
    "        mdf['CORR'] = [self.df['real'].corr(self.df['pred'], method = 'pearson')]\n",
    "        mdf['R2'] = [\"{0:0.4f}\".format(r2_score(self.df['real'], self.df['pred']))]\n",
    "        mdf['MAE'] = [\"{0:0.4f}\".format(mean_absolute_error(self.df['pred'], self.df['real']))]\n",
    "        mdf['RMSE'] = [\"{0:0.4f}\".format(np.sqrt(mean_squared_error(self.df['pred'], self.df['real'])))]\n",
    "        mdf['ACR'] = [sum(self.df['TF'] == 'T')/len(self.df['TF'])]\n",
    "        \n",
    "        mdf['threshACR'] = [sum(self.df['thrTF'] == 'T') / sum(self.df['thrTF'] != 'notcal')]\n",
    "        \n",
    "        return mdf     "
   ]
  },
  {
   "cell_type": "code",
   "execution_count": null,
   "metadata": {},
   "outputs": [],
   "source": []
  },
  {
   "cell_type": "code",
   "execution_count": null,
   "metadata": {},
   "outputs": [],
   "source": []
  }
 ],
 "metadata": {
  "kernelspec": {
   "display_name": "Python 3.7.6 64-bit ('tf2-py37': conda)",
   "language": "python",
   "name": "python37664bittf2py37conda4df29648bf8a4808bc274fe4f9de4cdb"
  },
  "language_info": {
   "codemirror_mode": {
    "name": "ipython",
    "version": 3
   },
   "file_extension": ".py",
   "mimetype": "text/x-python",
   "name": "python",
   "nbconvert_exporter": "python",
   "pygments_lexer": "ipython3",
   "version": "3.7.6"
  }
 },
 "nbformat": 4,
 "nbformat_minor": 4
}
