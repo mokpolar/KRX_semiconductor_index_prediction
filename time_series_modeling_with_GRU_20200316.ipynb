{
 "cells": [
  {
   "cell_type": "code",
   "execution_count": 1,
   "metadata": {
    "colab": {
     "base_uri": "https://localhost:8080/",
     "height": 35
    },
    "colab_type": "code",
    "executionInfo": {
     "elapsed": 8300,
     "status": "ok",
     "timestamp": 1581165233995,
     "user": {
      "displayName": "정주영",
      "photoUrl": "",
      "userId": "09017190432009937170"
     },
     "user_tz": -540
    },
    "id": "pDH3fM85_J7y",
    "outputId": "ae49c584-b8ab-432a-bb30-562d610a14c4"
   },
   "outputs": [
    {
     "name": "stderr",
     "output_type": "stream",
     "text": [
      "Using TensorFlow backend.\n"
     ]
    },
    {
     "name": "stdout",
     "output_type": "stream",
     "text": [
      "['/job:localhost/replica:0/task:0/device:GPU:0']\n"
     ]
    }
   ],
   "source": [
    "from IPython.display import display\n",
    "import PIL \n",
    "import keras\n",
    "import tensorflow as tf\n",
    "from keras.wrappers.scikit_learn import KerasRegressor\n",
    "from keras.models import Sequential \n",
    "from keras.layers import Dense, Dropout, Activation, BatchNormalization, GRU\n",
    "from keras.callbacks import EarlyStopping\n",
    "from keras import optimizers\n",
    "from keras import backend as K\n",
    "print(K.tensorflow_backend._get_available_gpus())\n",
    "\n",
    "\n",
    "%matplotlib inline\n",
    "import matplotlib.pyplot as plt\n",
    "import matplotlib as mpl\n",
    "\n",
    "from sklearn.preprocessing import StandardScaler, MinMaxScaler\n",
    "from sklearn.model_selection import train_test_split\n",
    "from sklearn.metrics import accuracy_score, r2_score\n",
    "from sklearn.linear_model import LinearRegression\n",
    "\n",
    "import pandas as pd\n",
    "import numpy as np\n",
    "import os\n",
    "\n",
    "mpl.rcParams['figure.figsize'] = (8, 6)\n",
    "mpl.rcParams['axes.grid'] = False"
   ]
  },
  {
   "cell_type": "code",
   "execution_count": 2,
   "metadata": {
    "colab": {},
    "colab_type": "code",
    "id": "926b2k96C-CT"
   },
   "outputs": [],
   "source": [
    "df = pd.read_csv('original_full_data.csv', index_col = 0)\n",
    "mmdf = pd.read_csv('bloomberg_map_index_20200130.csv', index_col = 0)"
   ]
  },
  {
   "cell_type": "code",
   "execution_count": 3,
   "metadata": {
    "colab": {
     "base_uri": "https://localhost:8080/",
     "height": 343
    },
    "colab_type": "code",
    "executionInfo": {
     "elapsed": 9840,
     "status": "ok",
     "timestamp": 1581165235715,
     "user": {
      "displayName": "정주영",
      "photoUrl": "",
      "userId": "09017190432009937170"
     },
     "user_tz": -540
    },
    "id": "t4NwRpefDE_J",
    "outputId": "6b58ea8c-e1fd-4772-885e-9489cb084ead"
   },
   "outputs": [
    {
     "data": {
      "text/html": [
       "<div>\n",
       "<style scoped>\n",
       "    .dataframe tbody tr th:only-of-type {\n",
       "        vertical-align: middle;\n",
       "    }\n",
       "\n",
       "    .dataframe tbody tr th {\n",
       "        vertical-align: top;\n",
       "    }\n",
       "\n",
       "    .dataframe thead th {\n",
       "        text-align: right;\n",
       "    }\n",
       "</style>\n",
       "<table border=\"1\" class=\"dataframe\">\n",
       "  <thead>\n",
       "    <tr style=\"text-align: right;\">\n",
       "      <th></th>\n",
       "      <th>date</th>\n",
       "      <th>GDPCQOQIndex</th>\n",
       "      <th>GDPCYOYIndex</th>\n",
       "      <th>GDPCTOT%Index</th>\n",
       "      <th>GPDITOC%Index</th>\n",
       "      <th>GPGSTOC%Index</th>\n",
       "      <th>RGCDCIPIIndex</th>\n",
       "      <th>GDPCUR$Index</th>\n",
       "      <th>GDPCURYIndex</th>\n",
       "      <th>GDPPIQQIndex</th>\n",
       "      <th>...</th>\n",
       "      <th>g16</th>\n",
       "      <th>g32</th>\n",
       "      <th>g64</th>\n",
       "      <th>g128</th>\n",
       "      <th>avg</th>\n",
       "      <th>avg_four</th>\n",
       "      <th>ssd_price</th>\n",
       "      <th>flash_price</th>\n",
       "      <th>option_bit</th>\n",
       "      <th>future_bit</th>\n",
       "    </tr>\n",
       "  </thead>\n",
       "  <tbody>\n",
       "    <tr>\n",
       "      <th>0</th>\n",
       "      <td>1981-01-01</td>\n",
       "      <td>NaN</td>\n",
       "      <td>NaN</td>\n",
       "      <td>NaN</td>\n",
       "      <td>NaN</td>\n",
       "      <td>NaN</td>\n",
       "      <td>NaN</td>\n",
       "      <td>NaN</td>\n",
       "      <td>NaN</td>\n",
       "      <td>NaN</td>\n",
       "      <td>...</td>\n",
       "      <td>NaN</td>\n",
       "      <td>NaN</td>\n",
       "      <td>NaN</td>\n",
       "      <td>NaN</td>\n",
       "      <td>NaN</td>\n",
       "      <td>NaN</td>\n",
       "      <td>NaN</td>\n",
       "      <td>NaN</td>\n",
       "      <td>NaN</td>\n",
       "      <td>NaN</td>\n",
       "    </tr>\n",
       "    <tr>\n",
       "      <th>1</th>\n",
       "      <td>1981-01-02</td>\n",
       "      <td>NaN</td>\n",
       "      <td>NaN</td>\n",
       "      <td>NaN</td>\n",
       "      <td>NaN</td>\n",
       "      <td>NaN</td>\n",
       "      <td>NaN</td>\n",
       "      <td>NaN</td>\n",
       "      <td>NaN</td>\n",
       "      <td>NaN</td>\n",
       "      <td>...</td>\n",
       "      <td>NaN</td>\n",
       "      <td>NaN</td>\n",
       "      <td>NaN</td>\n",
       "      <td>NaN</td>\n",
       "      <td>NaN</td>\n",
       "      <td>NaN</td>\n",
       "      <td>NaN</td>\n",
       "      <td>NaN</td>\n",
       "      <td>NaN</td>\n",
       "      <td>NaN</td>\n",
       "    </tr>\n",
       "    <tr>\n",
       "      <th>2</th>\n",
       "      <td>1981-01-03</td>\n",
       "      <td>NaN</td>\n",
       "      <td>NaN</td>\n",
       "      <td>NaN</td>\n",
       "      <td>NaN</td>\n",
       "      <td>NaN</td>\n",
       "      <td>NaN</td>\n",
       "      <td>NaN</td>\n",
       "      <td>NaN</td>\n",
       "      <td>NaN</td>\n",
       "      <td>...</td>\n",
       "      <td>NaN</td>\n",
       "      <td>NaN</td>\n",
       "      <td>NaN</td>\n",
       "      <td>NaN</td>\n",
       "      <td>NaN</td>\n",
       "      <td>NaN</td>\n",
       "      <td>NaN</td>\n",
       "      <td>NaN</td>\n",
       "      <td>NaN</td>\n",
       "      <td>NaN</td>\n",
       "    </tr>\n",
       "    <tr>\n",
       "      <th>3</th>\n",
       "      <td>1981-01-04</td>\n",
       "      <td>NaN</td>\n",
       "      <td>NaN</td>\n",
       "      <td>NaN</td>\n",
       "      <td>NaN</td>\n",
       "      <td>NaN</td>\n",
       "      <td>NaN</td>\n",
       "      <td>NaN</td>\n",
       "      <td>NaN</td>\n",
       "      <td>NaN</td>\n",
       "      <td>...</td>\n",
       "      <td>NaN</td>\n",
       "      <td>NaN</td>\n",
       "      <td>NaN</td>\n",
       "      <td>NaN</td>\n",
       "      <td>NaN</td>\n",
       "      <td>NaN</td>\n",
       "      <td>NaN</td>\n",
       "      <td>NaN</td>\n",
       "      <td>NaN</td>\n",
       "      <td>NaN</td>\n",
       "    </tr>\n",
       "    <tr>\n",
       "      <th>4</th>\n",
       "      <td>1981-01-05</td>\n",
       "      <td>NaN</td>\n",
       "      <td>NaN</td>\n",
       "      <td>NaN</td>\n",
       "      <td>NaN</td>\n",
       "      <td>NaN</td>\n",
       "      <td>NaN</td>\n",
       "      <td>NaN</td>\n",
       "      <td>NaN</td>\n",
       "      <td>NaN</td>\n",
       "      <td>...</td>\n",
       "      <td>NaN</td>\n",
       "      <td>NaN</td>\n",
       "      <td>NaN</td>\n",
       "      <td>NaN</td>\n",
       "      <td>NaN</td>\n",
       "      <td>NaN</td>\n",
       "      <td>NaN</td>\n",
       "      <td>NaN</td>\n",
       "      <td>NaN</td>\n",
       "      <td>NaN</td>\n",
       "    </tr>\n",
       "  </tbody>\n",
       "</table>\n",
       "<p>5 rows × 417 columns</p>\n",
       "</div>"
      ],
      "text/plain": [
       "         date  GDPCQOQIndex  GDPCYOYIndex  GDPCTOT%Index  GPDITOC%Index  \\\n",
       "0  1981-01-01           NaN           NaN            NaN            NaN   \n",
       "1  1981-01-02           NaN           NaN            NaN            NaN   \n",
       "2  1981-01-03           NaN           NaN            NaN            NaN   \n",
       "3  1981-01-04           NaN           NaN            NaN            NaN   \n",
       "4  1981-01-05           NaN           NaN            NaN            NaN   \n",
       "\n",
       "   GPGSTOC%Index  RGCDCIPIIndex  GDPCUR$Index  GDPCURYIndex  GDPPIQQIndex  \\\n",
       "0            NaN            NaN           NaN           NaN           NaN   \n",
       "1            NaN            NaN           NaN           NaN           NaN   \n",
       "2            NaN            NaN           NaN           NaN           NaN   \n",
       "3            NaN            NaN           NaN           NaN           NaN   \n",
       "4            NaN            NaN           NaN           NaN           NaN   \n",
       "\n",
       "   ...  g16  g32  g64  g128  avg  avg_four  ssd_price  flash_price  \\\n",
       "0  ...  NaN  NaN  NaN   NaN  NaN       NaN        NaN          NaN   \n",
       "1  ...  NaN  NaN  NaN   NaN  NaN       NaN        NaN          NaN   \n",
       "2  ...  NaN  NaN  NaN   NaN  NaN       NaN        NaN          NaN   \n",
       "3  ...  NaN  NaN  NaN   NaN  NaN       NaN        NaN          NaN   \n",
       "4  ...  NaN  NaN  NaN   NaN  NaN       NaN        NaN          NaN   \n",
       "\n",
       "   option_bit  future_bit  \n",
       "0         NaN         NaN  \n",
       "1         NaN         NaN  \n",
       "2         NaN         NaN  \n",
       "3         NaN         NaN  \n",
       "4         NaN         NaN  \n",
       "\n",
       "[5 rows x 417 columns]"
      ]
     },
     "execution_count": 3,
     "metadata": {},
     "output_type": "execute_result"
    }
   ],
   "source": [
    "df.head()"
   ]
  },
  {
   "cell_type": "code",
   "execution_count": 4,
   "metadata": {
    "colab": {
     "base_uri": "https://localhost:8080/",
     "height": 35
    },
    "colab_type": "code",
    "executionInfo": {
     "elapsed": 7774,
     "status": "ok",
     "timestamp": 1581165235716,
     "user": {
      "displayName": "정주영",
      "photoUrl": "",
      "userId": "09017190432009937170"
     },
     "user_tz": -540
    },
    "id": "13-76RFGFBg9",
    "outputId": "4aaf548c-df81-4662-f5c4-d6f6c9febce3"
   },
   "outputs": [],
   "source": [
    "df = df.loc[9132 :, :]"
   ]
  },
  {
   "cell_type": "code",
   "execution_count": 5,
   "metadata": {},
   "outputs": [
    {
     "data": {
      "text/plain": [
       "5051"
      ]
     },
     "execution_count": 5,
     "metadata": {},
     "output_type": "execute_result"
    }
   ],
   "source": [
    "len(df)"
   ]
  },
  {
   "cell_type": "code",
   "execution_count": 6,
   "metadata": {},
   "outputs": [],
   "source": [
    "df.reset_index(inplace = True, drop = True)"
   ]
  },
  {
   "cell_type": "code",
   "execution_count": 7,
   "metadata": {},
   "outputs": [],
   "source": [
    "# Class generates derived variables & shifting target variable\n",
    "\n",
    "class Builder:\n",
    "\n",
    "    def __init__(self, input_df, map_df, target_day):\n",
    "        self.df = input_df\n",
    "        self.mdf = map_df\n",
    "        self.lag_days = [1, 5, 20, 60, 120, 260] # lagging day variation [1day 1week 1month 3month 6month 1year]\n",
    "        self.target_day = target_day # ex) 1, 260\n",
    "\n",
    "\n",
    "    # shifting function\n",
    "\n",
    "    def targeter(self, target_column):\n",
    "        self.df[target_column] = self.df[target_column].shift(-1*int(self.target_day))\n",
    "\n",
    "        return self.df\n",
    "    \n",
    "    # generating derived columns function : return ex) 20060107/20060101\n",
    "\n",
    "    def returner(self, target_column):      \n",
    "\n",
    "        col_name =  []\n",
    "        # creating new column name\n",
    "        for i in self.lag_days:\n",
    "            col_name.append(target_column + str(i))\n",
    "            \n",
    "        # appending lagged columns\n",
    "        for i, j in enumerate(self.lag_days):\n",
    "            self.df[locals()['col_name'][i]] = (self.df[target_column] / self.df[target_column].shift(periods = j, axis = 0))-1 # 여기에 1을 뺀걸 추가하면 되는거아닌가? 1.얼만에서 1이 빠진거니까\n",
    "\n",
    "        return self.df \n",
    "\n",
    "    # generating derived function : minus ex) 20060107 - 20060101\n",
    "    \n",
    "    def differ(self, target_column):\n",
    "\n",
    "        col_name = []\n",
    "        for i in self.lag_days:\n",
    "            col_name.append(target_column + str(i))\n",
    "        for i, j in enumerate(self.lag_days):\n",
    "            self.df[locals()['col_name'][i]] = self.df[target_column] - self.df[target_column].shift(periods = j, axis = 0)\n",
    "        return self.df\n",
    "\n",
    "    # generating derived function : volume * close  -> convert to return \n",
    "\n",
    "    def producter(self, target_column):\n",
    "\n",
    "        col_name = (str(target_column).split('_'))[0]       \n",
    "        self.df[locals()['col_name'] + '_product'] = self.df[col_name + '_volume'] * self.df[col_name + '_close'] # j volume과 j close를 곱해서 \n",
    "\n",
    "        return self.df\n",
    "    \n",
    "    # executing functions\n",
    "    \n",
    "    def execution(self):\n",
    "        for i, j in enumerate(self.mdf['ticker']): # mdf에서 ticker 확인\n",
    "            if j in self.df.columns:\n",
    "                if self.mdf.loc[i, :][1] == 'product':  # key값이 product인 경우\n",
    "                    self.producter(j)\n",
    "                    col = str(j).split('_')[0]\n",
    "                    self.df[col + '_product'] = self.df[col + '_product'] / self.df[col + '_product'].shift(1)\n",
    "                    \n",
    "                elif self.mdf.loc[i, :][1] == 'minus': # key값이 minus인 경우\n",
    "                    self.differ(j)\n",
    "\n",
    "                elif self.mdf.loc[i, :][1] == 'change': # key값이 change인 경우\n",
    "                    self.returner(j)\n",
    "\n",
    "\n",
    "                elif self.mdf.loc[i, :][1] == 'target': # key값이 target인 경우 (현재 KRXsemiconductor_change)\n",
    "                    self.targeter(j)\n",
    "\n",
    "                else:\n",
    "                    pass\n",
    "            else:\n",
    "                pass\n",
    "                            \n",
    "        return self.df\n",
    "\n",
    "\n",
    "    # side : creating auto correlation graph function\n",
    "\n",
    "    def acf_cal(self, target):\n",
    "        data = pd.DataFrame(self.df[target])\n",
    "        data = data.interpolate(method = 'cubic', limit_area = 'inside').fillna(method = 'ffill').fillna(method = 'bfill')\n",
    "        acf = sm.tsa.acf(data)      \n",
    "        plt.stem(acf)\n",
    "        plt.show()"
   ]
  },
  {
   "cell_type": "code",
   "execution_count": 8,
   "metadata": {},
   "outputs": [],
   "source": [
    "# metric 구성\n",
    "\n",
    "from sklearn.metrics import mean_squared_error, r2_score, mean_absolute_error, accuracy_score\n",
    "\n",
    "class CustomMetric():\n",
    "\n",
    "    def __init__(self, pred, real):\n",
    "            self.pred = pred\n",
    "            self.real = real\n",
    "            self.thr25 = np.percentile(self.real, 25)\n",
    "            self.thr75 = np.percentile(self.real, 75)\n",
    "            self.df = pd.DataFrame({'pred' : self.pred, 'real' : self.real})\n",
    "        \n",
    "    def issame(self, data1, data2):\n",
    "        if data1 > 0 and data2 > 0 : \n",
    "            return 'T'\n",
    "        elif data1 > 0 and data2 < 0 :\n",
    "            return 'F'\n",
    "        elif data1 < 0 and data2 > 0 :\n",
    "            return 'F'\n",
    "        elif data1 < 0 and data2 < 0 :\n",
    "            return 'T'\n",
    "        elif data1 == 0 or data2 == 0 :\n",
    "            return 0\n",
    "        else :\n",
    "            return 'notcal'\n",
    "\n",
    "    def getouter(self, data1, data2): #quantile_25 = np.percentile(values, 25)\n",
    "\n",
    "        if data1 > 0 and data2 >= self.thr75 :\n",
    "            return 'T'\n",
    "        elif data1 < 0 and data2 <= self.thr25 :\n",
    "            return 'T'\n",
    "        elif data1 >= 0 and data2 <= self.thr25 :\n",
    "            return 'F'\n",
    "        elif data1 <= 0 and data2 >= self.thr75: \n",
    "            return 'F'\n",
    "        else:\n",
    "            return 'notcal'\n",
    "        \n",
    "    def makedf(self):\n",
    "        self.df['TF'] = self.df.apply(lambda x : self.issame(x['pred'], x['real']), axis = 1)\n",
    "        self.df['thrTF'] = self.df.apply(lambda x : self.getouter(x['pred'], x['real']), axis = 1)\n",
    "        \n",
    "        return self.df\n",
    "        \n",
    "    def execution(self):\n",
    "        mdf = pd.DataFrame()\n",
    "        mdf['CORR'] = [self.df['real'].corr(self.df['pred'], method = 'pearson')]\n",
    "        mdf['R2'] = [\"{0:0.4f}\".format(r2_score(self.df['real'], self.df['pred']))]\n",
    "        mdf['MAE'] = [\"{0:0.4f}\".format(mean_absolute_error(self.df['pred'], self.df['real']))]\n",
    "        mdf['RMSE'] = [\"{0:0.4f}\".format(np.sqrt(mean_squared_error(self.df['pred'], self.df['real'])))]\n",
    "        mdf['ACR'] = [sum(self.df['TF'] == 'T')/len(self.df['TF'])]\n",
    "        \n",
    "        mdf['threshACR'] = [sum(self.df['thrTF'] == 'T') / sum(self.df['thrTF'] != 'notcal')]\n",
    "        \n",
    "        return mdf     "
   ]
  },
  {
   "cell_type": "code",
   "execution_count": 9,
   "metadata": {},
   "outputs": [],
   "source": [
    "df['date'] = pd.to_datetime(df['date'])\n",
    "df.set_index('date', inplace = True)"
   ]
  },
  {
   "cell_type": "code",
   "execution_count": 10,
   "metadata": {},
   "outputs": [],
   "source": [
    "# fillna cubic -> ffill -> bfill\n",
    "\n",
    "df = df.interpolate(method = 'cubic', limit_area = 'inside')\n",
    "df = df.fillna(method = 'ffill')\n",
    "df = df.fillna(method = 'bfill')"
   ]
  },
  {
   "cell_type": "code",
   "execution_count": 11,
   "metadata": {},
   "outputs": [
    {
     "data": {
      "text/plain": [
       "0"
      ]
     },
     "execution_count": 11,
     "metadata": {},
     "output_type": "execute_result"
    }
   ],
   "source": [
    "df.isna().sum().sum()"
   ]
  },
  {
   "cell_type": "code",
   "execution_count": 12,
   "metadata": {},
   "outputs": [],
   "source": [
    "cla = Builder(df, mmdf, 260)"
   ]
  },
  {
   "cell_type": "code",
   "execution_count": 13,
   "metadata": {},
   "outputs": [
    {
     "data": {
      "text/html": [
       "<div>\n",
       "<style scoped>\n",
       "    .dataframe tbody tr th:only-of-type {\n",
       "        vertical-align: middle;\n",
       "    }\n",
       "\n",
       "    .dataframe tbody tr th {\n",
       "        vertical-align: top;\n",
       "    }\n",
       "\n",
       "    .dataframe thead th {\n",
       "        text-align: right;\n",
       "    }\n",
       "</style>\n",
       "<table border=\"1\" class=\"dataframe\">\n",
       "  <thead>\n",
       "    <tr style=\"text-align: right;\">\n",
       "      <th></th>\n",
       "      <th>GDPCQOQIndex</th>\n",
       "      <th>GDPCYOYIndex</th>\n",
       "      <th>GDPCTOT%Index</th>\n",
       "      <th>GPDITOC%Index</th>\n",
       "      <th>GPGSTOC%Index</th>\n",
       "      <th>RGCDCIPIIndex</th>\n",
       "      <th>GDPCUR$Index</th>\n",
       "      <th>GDPCURYIndex</th>\n",
       "      <th>GDPPIQQIndex</th>\n",
       "      <th>GDPCPCECIndex</th>\n",
       "      <th>...</th>\n",
       "      <th>Philadelphia_product</th>\n",
       "      <th>QCOM_product</th>\n",
       "      <th>SamsungElectronics_product</th>\n",
       "      <th>ShinEtsuChemical_product</th>\n",
       "      <th>Siltronic_product</th>\n",
       "      <th>SKhynix_product</th>\n",
       "      <th>Sumco_product</th>\n",
       "      <th>TokyoElectron_product</th>\n",
       "      <th>TSMC_product</th>\n",
       "      <th>UMC_product</th>\n",
       "    </tr>\n",
       "    <tr>\n",
       "      <th>date</th>\n",
       "      <th></th>\n",
       "      <th></th>\n",
       "      <th></th>\n",
       "      <th></th>\n",
       "      <th></th>\n",
       "      <th></th>\n",
       "      <th></th>\n",
       "      <th></th>\n",
       "      <th></th>\n",
       "      <th></th>\n",
       "      <th></th>\n",
       "      <th></th>\n",
       "      <th></th>\n",
       "      <th></th>\n",
       "      <th></th>\n",
       "      <th></th>\n",
       "      <th></th>\n",
       "      <th></th>\n",
       "      <th></th>\n",
       "      <th></th>\n",
       "      <th></th>\n",
       "    </tr>\n",
       "  </thead>\n",
       "  <tbody>\n",
       "    <tr>\n",
       "      <th>2006-01-02</th>\n",
       "      <td>5.4</td>\n",
       "      <td>3.4</td>\n",
       "      <td>4.5</td>\n",
       "      <td>6.1</td>\n",
       "      <td>5.2</td>\n",
       "      <td>102.7</td>\n",
       "      <td>13603.93</td>\n",
       "      <td>6.6</td>\n",
       "      <td>2.8</td>\n",
       "      <td>2.3</td>\n",
       "      <td>...</td>\n",
       "      <td>NaN</td>\n",
       "      <td>NaN</td>\n",
       "      <td>NaN</td>\n",
       "      <td>NaN</td>\n",
       "      <td>NaN</td>\n",
       "      <td>NaN</td>\n",
       "      <td>NaN</td>\n",
       "      <td>NaN</td>\n",
       "      <td>NaN</td>\n",
       "      <td>NaN</td>\n",
       "    </tr>\n",
       "    <tr>\n",
       "      <th>2006-01-03</th>\n",
       "      <td>5.4</td>\n",
       "      <td>3.4</td>\n",
       "      <td>4.5</td>\n",
       "      <td>6.1</td>\n",
       "      <td>5.2</td>\n",
       "      <td>102.7</td>\n",
       "      <td>13603.93</td>\n",
       "      <td>6.6</td>\n",
       "      <td>2.8</td>\n",
       "      <td>2.3</td>\n",
       "      <td>...</td>\n",
       "      <td>1.000000</td>\n",
       "      <td>1.000000</td>\n",
       "      <td>0.862009</td>\n",
       "      <td>1.000000</td>\n",
       "      <td>1.000000</td>\n",
       "      <td>1.048766</td>\n",
       "      <td>1.000000</td>\n",
       "      <td>1.000000</td>\n",
       "      <td>1.000000</td>\n",
       "      <td>1.000000</td>\n",
       "    </tr>\n",
       "    <tr>\n",
       "      <th>2006-01-04</th>\n",
       "      <td>5.4</td>\n",
       "      <td>3.4</td>\n",
       "      <td>4.5</td>\n",
       "      <td>6.1</td>\n",
       "      <td>5.2</td>\n",
       "      <td>102.7</td>\n",
       "      <td>13603.93</td>\n",
       "      <td>6.6</td>\n",
       "      <td>2.8</td>\n",
       "      <td>2.3</td>\n",
       "      <td>...</td>\n",
       "      <td>0.967923</td>\n",
       "      <td>1.097724</td>\n",
       "      <td>2.307115</td>\n",
       "      <td>1.000000</td>\n",
       "      <td>1.000000</td>\n",
       "      <td>1.549763</td>\n",
       "      <td>1.000000</td>\n",
       "      <td>1.000000</td>\n",
       "      <td>0.788606</td>\n",
       "      <td>0.581332</td>\n",
       "    </tr>\n",
       "    <tr>\n",
       "      <th>2006-01-05</th>\n",
       "      <td>5.4</td>\n",
       "      <td>3.4</td>\n",
       "      <td>4.5</td>\n",
       "      <td>6.1</td>\n",
       "      <td>5.2</td>\n",
       "      <td>102.7</td>\n",
       "      <td>13603.93</td>\n",
       "      <td>6.6</td>\n",
       "      <td>2.8</td>\n",
       "      <td>2.3</td>\n",
       "      <td>...</td>\n",
       "      <td>1.168471</td>\n",
       "      <td>0.642743</td>\n",
       "      <td>0.878133</td>\n",
       "      <td>1.000000</td>\n",
       "      <td>1.000000</td>\n",
       "      <td>0.913503</td>\n",
       "      <td>1.000000</td>\n",
       "      <td>4.149537</td>\n",
       "      <td>0.835657</td>\n",
       "      <td>2.780952</td>\n",
       "    </tr>\n",
       "    <tr>\n",
       "      <th>2006-01-06</th>\n",
       "      <td>5.4</td>\n",
       "      <td>3.4</td>\n",
       "      <td>4.5</td>\n",
       "      <td>6.1</td>\n",
       "      <td>5.2</td>\n",
       "      <td>102.7</td>\n",
       "      <td>13603.93</td>\n",
       "      <td>6.6</td>\n",
       "      <td>2.8</td>\n",
       "      <td>2.3</td>\n",
       "      <td>...</td>\n",
       "      <td>1.047620</td>\n",
       "      <td>2.572150</td>\n",
       "      <td>0.504080</td>\n",
       "      <td>1.000000</td>\n",
       "      <td>1.000000</td>\n",
       "      <td>0.596882</td>\n",
       "      <td>1.000000</td>\n",
       "      <td>1.117321</td>\n",
       "      <td>1.553101</td>\n",
       "      <td>1.545230</td>\n",
       "    </tr>\n",
       "    <tr>\n",
       "      <th>...</th>\n",
       "      <td>...</td>\n",
       "      <td>...</td>\n",
       "      <td>...</td>\n",
       "      <td>...</td>\n",
       "      <td>...</td>\n",
       "      <td>...</td>\n",
       "      <td>...</td>\n",
       "      <td>...</td>\n",
       "      <td>...</td>\n",
       "      <td>...</td>\n",
       "      <td>...</td>\n",
       "      <td>...</td>\n",
       "      <td>...</td>\n",
       "      <td>...</td>\n",
       "      <td>...</td>\n",
       "      <td>...</td>\n",
       "      <td>...</td>\n",
       "      <td>...</td>\n",
       "      <td>...</td>\n",
       "      <td>...</td>\n",
       "      <td>...</td>\n",
       "    </tr>\n",
       "    <tr>\n",
       "      <th>2019-10-27</th>\n",
       "      <td>1.9</td>\n",
       "      <td>2.0</td>\n",
       "      <td>2.9</td>\n",
       "      <td>-1.5</td>\n",
       "      <td>2.0</td>\n",
       "      <td>69.0</td>\n",
       "      <td>21525.82</td>\n",
       "      <td>3.7</td>\n",
       "      <td>1.7</td>\n",
       "      <td>2.2</td>\n",
       "      <td>...</td>\n",
       "      <td>0.954025</td>\n",
       "      <td>1.223596</td>\n",
       "      <td>-7.016632</td>\n",
       "      <td>1.443049</td>\n",
       "      <td>0.882592</td>\n",
       "      <td>0.724875</td>\n",
       "      <td>0.591650</td>\n",
       "      <td>1.185079</td>\n",
       "      <td>0.728242</td>\n",
       "      <td>8.957344</td>\n",
       "    </tr>\n",
       "    <tr>\n",
       "      <th>2019-10-28</th>\n",
       "      <td>1.9</td>\n",
       "      <td>2.0</td>\n",
       "      <td>2.9</td>\n",
       "      <td>-1.5</td>\n",
       "      <td>2.0</td>\n",
       "      <td>69.0</td>\n",
       "      <td>21525.82</td>\n",
       "      <td>3.7</td>\n",
       "      <td>1.7</td>\n",
       "      <td>2.2</td>\n",
       "      <td>...</td>\n",
       "      <td>0.988696</td>\n",
       "      <td>0.869484</td>\n",
       "      <td>3.268112</td>\n",
       "      <td>0.911087</td>\n",
       "      <td>0.984864</td>\n",
       "      <td>0.598464</td>\n",
       "      <td>0.436636</td>\n",
       "      <td>1.103782</td>\n",
       "      <td>1.596400</td>\n",
       "      <td>-4.887075</td>\n",
       "    </tr>\n",
       "    <tr>\n",
       "      <th>2019-10-29</th>\n",
       "      <td>1.9</td>\n",
       "      <td>2.0</td>\n",
       "      <td>2.9</td>\n",
       "      <td>-1.5</td>\n",
       "      <td>2.0</td>\n",
       "      <td>69.0</td>\n",
       "      <td>21525.82</td>\n",
       "      <td>3.7</td>\n",
       "      <td>1.7</td>\n",
       "      <td>2.2</td>\n",
       "      <td>...</td>\n",
       "      <td>1.023202</td>\n",
       "      <td>0.493114</td>\n",
       "      <td>1.174228</td>\n",
       "      <td>0.410159</td>\n",
       "      <td>1.089446</td>\n",
       "      <td>0.832789</td>\n",
       "      <td>1.231150</td>\n",
       "      <td>1.131356</td>\n",
       "      <td>1.864625</td>\n",
       "      <td>2.523049</td>\n",
       "    </tr>\n",
       "    <tr>\n",
       "      <th>2019-10-30</th>\n",
       "      <td>1.9</td>\n",
       "      <td>2.0</td>\n",
       "      <td>2.9</td>\n",
       "      <td>-1.5</td>\n",
       "      <td>2.0</td>\n",
       "      <td>69.0</td>\n",
       "      <td>21525.82</td>\n",
       "      <td>3.7</td>\n",
       "      <td>1.7</td>\n",
       "      <td>2.2</td>\n",
       "      <td>...</td>\n",
       "      <td>0.925346</td>\n",
       "      <td>0.793448</td>\n",
       "      <td>1.165541</td>\n",
       "      <td>0.758679</td>\n",
       "      <td>1.083804</td>\n",
       "      <td>1.150234</td>\n",
       "      <td>0.694483</td>\n",
       "      <td>1.647300</td>\n",
       "      <td>0.877406</td>\n",
       "      <td>0.370442</td>\n",
       "    </tr>\n",
       "    <tr>\n",
       "      <th>2019-10-31</th>\n",
       "      <td>1.9</td>\n",
       "      <td>2.0</td>\n",
       "      <td>2.9</td>\n",
       "      <td>-1.5</td>\n",
       "      <td>2.0</td>\n",
       "      <td>69.0</td>\n",
       "      <td>21525.82</td>\n",
       "      <td>3.7</td>\n",
       "      <td>1.7</td>\n",
       "      <td>2.2</td>\n",
       "      <td>...</td>\n",
       "      <td>1.120675</td>\n",
       "      <td>1.415651</td>\n",
       "      <td>1.150159</td>\n",
       "      <td>2.028561</td>\n",
       "      <td>1.141342</td>\n",
       "      <td>1.033135</td>\n",
       "      <td>1.118354</td>\n",
       "      <td>1.453485</td>\n",
       "      <td>1.324952</td>\n",
       "      <td>2.656823</td>\n",
       "    </tr>\n",
       "  </tbody>\n",
       "</table>\n",
       "<p>5051 rows × 1138 columns</p>\n",
       "</div>"
      ],
      "text/plain": [
       "            GDPCQOQIndex  GDPCYOYIndex  GDPCTOT%Index  GPDITOC%Index  \\\n",
       "date                                                                   \n",
       "2006-01-02           5.4           3.4            4.5            6.1   \n",
       "2006-01-03           5.4           3.4            4.5            6.1   \n",
       "2006-01-04           5.4           3.4            4.5            6.1   \n",
       "2006-01-05           5.4           3.4            4.5            6.1   \n",
       "2006-01-06           5.4           3.4            4.5            6.1   \n",
       "...                  ...           ...            ...            ...   \n",
       "2019-10-27           1.9           2.0            2.9           -1.5   \n",
       "2019-10-28           1.9           2.0            2.9           -1.5   \n",
       "2019-10-29           1.9           2.0            2.9           -1.5   \n",
       "2019-10-30           1.9           2.0            2.9           -1.5   \n",
       "2019-10-31           1.9           2.0            2.9           -1.5   \n",
       "\n",
       "            GPGSTOC%Index  RGCDCIPIIndex  GDPCUR$Index  GDPCURYIndex  \\\n",
       "date                                                                   \n",
       "2006-01-02            5.2          102.7      13603.93           6.6   \n",
       "2006-01-03            5.2          102.7      13603.93           6.6   \n",
       "2006-01-04            5.2          102.7      13603.93           6.6   \n",
       "2006-01-05            5.2          102.7      13603.93           6.6   \n",
       "2006-01-06            5.2          102.7      13603.93           6.6   \n",
       "...                   ...            ...           ...           ...   \n",
       "2019-10-27            2.0           69.0      21525.82           3.7   \n",
       "2019-10-28            2.0           69.0      21525.82           3.7   \n",
       "2019-10-29            2.0           69.0      21525.82           3.7   \n",
       "2019-10-30            2.0           69.0      21525.82           3.7   \n",
       "2019-10-31            2.0           69.0      21525.82           3.7   \n",
       "\n",
       "            GDPPIQQIndex  GDPCPCECIndex  ...  Philadelphia_product  \\\n",
       "date                                     ...                         \n",
       "2006-01-02           2.8            2.3  ...                   NaN   \n",
       "2006-01-03           2.8            2.3  ...              1.000000   \n",
       "2006-01-04           2.8            2.3  ...              0.967923   \n",
       "2006-01-05           2.8            2.3  ...              1.168471   \n",
       "2006-01-06           2.8            2.3  ...              1.047620   \n",
       "...                  ...            ...  ...                   ...   \n",
       "2019-10-27           1.7            2.2  ...              0.954025   \n",
       "2019-10-28           1.7            2.2  ...              0.988696   \n",
       "2019-10-29           1.7            2.2  ...              1.023202   \n",
       "2019-10-30           1.7            2.2  ...              0.925346   \n",
       "2019-10-31           1.7            2.2  ...              1.120675   \n",
       "\n",
       "            QCOM_product  SamsungElectronics_product  \\\n",
       "date                                                   \n",
       "2006-01-02           NaN                         NaN   \n",
       "2006-01-03      1.000000                    0.862009   \n",
       "2006-01-04      1.097724                    2.307115   \n",
       "2006-01-05      0.642743                    0.878133   \n",
       "2006-01-06      2.572150                    0.504080   \n",
       "...                  ...                         ...   \n",
       "2019-10-27      1.223596                   -7.016632   \n",
       "2019-10-28      0.869484                    3.268112   \n",
       "2019-10-29      0.493114                    1.174228   \n",
       "2019-10-30      0.793448                    1.165541   \n",
       "2019-10-31      1.415651                    1.150159   \n",
       "\n",
       "            ShinEtsuChemical_product  Siltronic_product  SKhynix_product  \\\n",
       "date                                                                       \n",
       "2006-01-02                       NaN                NaN              NaN   \n",
       "2006-01-03                  1.000000           1.000000         1.048766   \n",
       "2006-01-04                  1.000000           1.000000         1.549763   \n",
       "2006-01-05                  1.000000           1.000000         0.913503   \n",
       "2006-01-06                  1.000000           1.000000         0.596882   \n",
       "...                              ...                ...              ...   \n",
       "2019-10-27                  1.443049           0.882592         0.724875   \n",
       "2019-10-28                  0.911087           0.984864         0.598464   \n",
       "2019-10-29                  0.410159           1.089446         0.832789   \n",
       "2019-10-30                  0.758679           1.083804         1.150234   \n",
       "2019-10-31                  2.028561           1.141342         1.033135   \n",
       "\n",
       "            Sumco_product  TokyoElectron_product  TSMC_product  UMC_product  \n",
       "date                                                                         \n",
       "2006-01-02            NaN                    NaN           NaN          NaN  \n",
       "2006-01-03       1.000000               1.000000      1.000000     1.000000  \n",
       "2006-01-04       1.000000               1.000000      0.788606     0.581332  \n",
       "2006-01-05       1.000000               4.149537      0.835657     2.780952  \n",
       "2006-01-06       1.000000               1.117321      1.553101     1.545230  \n",
       "...                   ...                    ...           ...          ...  \n",
       "2019-10-27       0.591650               1.185079      0.728242     8.957344  \n",
       "2019-10-28       0.436636               1.103782      1.596400    -4.887075  \n",
       "2019-10-29       1.231150               1.131356      1.864625     2.523049  \n",
       "2019-10-30       0.694483               1.647300      0.877406     0.370442  \n",
       "2019-10-31       1.118354               1.453485      1.324952     2.656823  \n",
       "\n",
       "[5051 rows x 1138 columns]"
      ]
     },
     "execution_count": 13,
     "metadata": {},
     "output_type": "execute_result"
    }
   ],
   "source": [
    "cla.execution()"
   ]
  },
  {
   "cell_type": "code",
   "execution_count": 14,
   "metadata": {},
   "outputs": [],
   "source": [
    "df = cla.df.fillna(method = 'ffill').fillna(method = 'bfill')"
   ]
  },
  {
   "cell_type": "code",
   "execution_count": 15,
   "metadata": {},
   "outputs": [],
   "source": [
    "df = df[0:4791]"
   ]
  },
  {
   "cell_type": "code",
   "execution_count": 16,
   "metadata": {},
   "outputs": [],
   "source": [
    "df.reset_index(inplace = True)"
   ]
  },
  {
   "cell_type": "code",
   "execution_count": 17,
   "metadata": {},
   "outputs": [
    {
     "data": {
      "text/plain": [
       "4791"
      ]
     },
     "execution_count": 17,
     "metadata": {},
     "output_type": "execute_result"
    }
   ],
   "source": [
    "len(df)"
   ]
  },
  {
   "cell_type": "code",
   "execution_count": 18,
   "metadata": {},
   "outputs": [
    {
     "data": {
      "text/plain": [
       "1139"
      ]
     },
     "execution_count": 18,
     "metadata": {},
     "output_type": "execute_result"
    }
   ],
   "source": [
    "len(df.columns)"
   ]
  },
  {
   "cell_type": "code",
   "execution_count": 19,
   "metadata": {},
   "outputs": [],
   "source": [
    "# 전 변수 쓰는 것으로 . 그래서 feaature는 그대로 \n",
    "feature_considered = ['HPE_close', 'KOBPTBIndex260', 'MAPMINDXIndex1', 'KOBPFINIndex5', 'MAPMINDXIndex60', 'MWINCHNGIndex', 'HPE_product', 'SKLICONTIndex120', 'Aspeed_volume', 'KOVMDOMSIndex120', 'KOBPCAIndex1', 'SKLICIIndex1', 'KOGFBALIndex', 'CPIXYOYIndex', 'SKLIWNRSIndex60', 'INJCJCIndex60', 'NAPMNEWOIndex1', 'Aspeed_change', 'TSMC_change', 'SKBSICIndex120', 'OEKRN022Index60', 'SKLISVCIIndex60', 'Philadelphia_product', 'QCOM_volume', 'SKLILAPIndex60', 'KOVMDOMSIndex1', 'CICRTOTIndex5', 'KODIBALIndex260', 'OUTFGAFIndex60', 'SAARTOTLIndex20', 'SAARDTOTIndex20', 'FRNTTOTLIndex1', 'SKLISVCIIndex1', 'TokyoElectron_volume', 'KOBONTLIndex1', 'KOBPCBIndex20', 'SKLISHPPIndex20', 'KOBPCBIndex5', 'Micron_change', 'USD_KRW_change', 'SKBSICSAIndex20', 'SamsungElectronics_change', 'COMFCOMFIndex20', 'ShinEtsuChemical_change', 'option_bit', 'tangible_asset_increase_rate', 'Amazon_product', 'TSMC_volume', 'CPMINEXOIndex', 'FDIDSGMOIndex', 'LEIAVGWIndex5', 'LEIBPIndex20', 'OEKRN022Index', 'Microsoft_volume', 'SKLILCIndex260', 'KOIPMCIndex5', 'future_bit', 'KOWDRIndex20', 'ShinEtsuChemical_product', 'MAPMINDXIndex5', 'OUTFGAFIndex20', 'CPMINORDIndex20', 'OUTFGAFIndex1', 'SAARDTOTIndex120', 'KOCPIMOMIndex', 'MediaTek_change', 'Siltronic_product', 'APPLE_product', 'INJCJCIndex1', 'CONSSENTIndex20', 'NAPMPMIIndex1', 'LamResearch_volume', 'FRNTTNETIndex20', 'LEILCIIndex120', 'Microsoft_product', 'KOIPMSIndex5', 'Intel_product', 'Nvidia_product', 'KOHEUINYIndex', 'LEIACEIndex120', 'LEIMNOIndex1', 'AWHTOTLIndex120', 'KOFETOTIndex60', 'SKCIMOMIndex', 'KOBPCBIndex1', 'KOBSMCIndex120', 'KOIPMSIndex60', 'NAPMPMIIndex20', 'NAPMPMIIndex5', 'USTBIMPIndex', 'NAPMPMIIndex60', 'TokyoElectron_change', 'KOIMTOTIndex120', 'CFNAIIndex5', 'KOCLLNSIndex5', 'KWCDCCurncy60', 'AWHTOTLIndex60', 'FDIDFDMOIndex', 'AppliedMaterials_volume', 'KODIBALIndex', 'CPMINEXOIndex60', 'KORSTIndex120', 'SamsungElectronics_close', 'CHPMINDXIndex1', 'KODIBALIndex120', 'SKhynix_volume', 'USTBEXPIndex120', 'SKLISVCIIndex120', 'MAPMINDXIndex20', 'AMD_product', 'CNCILIIndex20', 'Amazon_volume', 'KOIPMCYIndex', 'MPMIUSCAIndex', 'MPMIJPCAIndex', 'MPMIUSMAIndex', 'MPMIUSSAIndex', 'MPMIJPMAIndex', 'MPMIKRMAIndex', 'MPMIJPSAIndex', 'Dell_close', 'Dell_volume', 'Dell_change', 'EUR_KRW_volume', 'JPY_KRW_volume', 'USDollarIndex_volume', 'USD_KRW_volume', 'MPMIUSCAIndex1', 'MPMIUSCAIndex5', 'MPMIUSCAIndex20', 'MPMIUSCAIndex60', 'MPMIUSCAIndex120', 'MPMIUSCAIndex260', 'MPMIUSMAIndex1', 'MPMIUSMAIndex5', 'MPMIUSMAIndex20', 'MPMIUSMAIndex60', 'MPMIUSMAIndex120', 'MPMIUSMAIndex260', 'MPMIUSSAIndex1', 'MPMIUSSAIndex5', 'MPMIUSSAIndex20', 'MPMIUSSAIndex60', 'MPMIUSSAIndex120', 'MPMIUSSAIndex260', 'MPMIJPCAIndex1', 'MPMIJPCAIndex5', 'MPMIJPCAIndex20', 'MPMIJPCAIndex60', 'MPMIJPCAIndex120', 'MPMIJPCAIndex260', 'MPMIJPMAIndex1', 'MPMIJPMAIndex5', 'MPMIJPMAIndex20', 'MPMIJPMAIndex60', 'MPMIJPMAIndex120', 'MPMIJPMAIndex260', 'MPMIJPSAIndex1', 'MPMIJPSAIndex5', 'MPMIJPSAIndex20', 'MPMIJPSAIndex60', 'MPMIJPSAIndex120', 'MPMIJPSAIndex260', 'Dell_product', 'KOVMTOTSIndex1', 'KOVMEXPSIndex1', 'KOLPIIndex', 'CPICHNGIndex', 'LEIBPIndex1', 'CPMINORDIndex120', 'LEIMNOIndex60', 'KOEXTOTIndex1', 'psr']\n",
    "target_considered = ['KRXsemiconductor_change']"
   ]
  },
  {
   "cell_type": "code",
   "execution_count": 20,
   "metadata": {},
   "outputs": [],
   "source": [
    "features = df[feature_considered]\n",
    "targets = df[target_considered]"
   ]
  },
  {
   "cell_type": "code",
   "execution_count": 56,
   "metadata": {},
   "outputs": [],
   "source": [
    "#features = df.drop(['date', 'KRXsemiconductor_change'], axis = 1)"
   ]
  },
  {
   "cell_type": "code",
   "execution_count": 21,
   "metadata": {
    "colab": {},
    "colab_type": "code",
    "id": "BtCzPrLXPQYN"
   },
   "outputs": [],
   "source": [
    "features.index = df['date']\n",
    "targets.index = df['date']"
   ]
  },
  {
   "cell_type": "code",
   "execution_count": 22,
   "metadata": {},
   "outputs": [
    {
     "data": {
      "text/plain": [
       "173"
      ]
     },
     "execution_count": 22,
     "metadata": {},
     "output_type": "execute_result"
    }
   ],
   "source": [
    "len(features.columns)"
   ]
  },
  {
   "cell_type": "code",
   "execution_count": 58,
   "metadata": {},
   "outputs": [],
   "source": [
    "#features.drop(['KRXsemiconductor_close', 'KRXsemiconductor_volume','SamsungElectronics_product'], axis =1 , inplace = True)"
   ]
  },
  {
   "cell_type": "code",
   "execution_count": 26,
   "metadata": {},
   "outputs": [],
   "source": [
    "col_name = features.columns\n",
    "dataset = StandardScaler().fit_transform(features)# Standard Scaler , drop Samsung electronics product\n",
    "dataset = pd.DataFrame(dataset, columns = col_name)"
   ]
  },
  {
   "cell_type": "code",
   "execution_count": 27,
   "metadata": {},
   "outputs": [],
   "source": [
    "X_data = dataset"
   ]
  },
  {
   "cell_type": "code",
   "execution_count": 28,
   "metadata": {},
   "outputs": [],
   "source": [
    "y_target = targets"
   ]
  },
  {
   "cell_type": "code",
   "execution_count": 29,
   "metadata": {},
   "outputs": [
    {
     "data": {
      "text/plain": [
       "(4791, 4791)"
      ]
     },
     "execution_count": 29,
     "metadata": {},
     "output_type": "execute_result"
    }
   ],
   "source": [
    "len(X_data), len(y_target)"
   ]
  },
  {
   "cell_type": "code",
   "execution_count": 30,
   "metadata": {},
   "outputs": [],
   "source": [
    "X_train, X_test, y_train, y_test = train_test_split(X_data, y_target, test_size = 0.2, shuffle = False)"
   ]
  },
  {
   "cell_type": "code",
   "execution_count": 31,
   "metadata": {},
   "outputs": [],
   "source": [
    "X_train = X_train.values"
   ]
  },
  {
   "cell_type": "code",
   "execution_count": 32,
   "metadata": {},
   "outputs": [],
   "source": [
    "y_train = y_train.values"
   ]
  },
  {
   "cell_type": "code",
   "execution_count": 33,
   "metadata": {},
   "outputs": [],
   "source": [
    "X_test = X_test.values"
   ]
  },
  {
   "cell_type": "code",
   "execution_count": 34,
   "metadata": {},
   "outputs": [],
   "source": [
    "y_test = y_test.values"
   ]
  },
  {
   "cell_type": "code",
   "execution_count": 35,
   "metadata": {},
   "outputs": [
    {
     "data": {
      "text/plain": [
       "(4791, 173)"
      ]
     },
     "execution_count": 35,
     "metadata": {},
     "output_type": "execute_result"
    }
   ],
   "source": [
    "dataset.shape"
   ]
  },
  {
   "cell_type": "code",
   "execution_count": 36,
   "metadata": {},
   "outputs": [
    {
     "data": {
      "text/plain": [
       "(3832, 173)"
      ]
     },
     "execution_count": 36,
     "metadata": {},
     "output_type": "execute_result"
    }
   ],
   "source": [
    "X_train.shape"
   ]
  },
  {
   "cell_type": "code",
   "execution_count": 71,
   "metadata": {},
   "outputs": [
    {
     "ename": "SyntaxError",
     "evalue": "EOF while scanning triple-quoted string literal (<ipython-input-71-dcc4a0f6e932>, line 33)",
     "output_type": "error",
     "traceback": [
      "\u001b[1;36m  File \u001b[1;32m\"<ipython-input-71-dcc4a0f6e932>\"\u001b[1;36m, line \u001b[1;32m33\u001b[0m\n\u001b[1;33m    feature_selected_final = feature_selected[:(np.array(score).argmax() + 1)]\u001b[0m\n\u001b[1;37m                                                                              \n^\u001b[0m\n\u001b[1;31mSyntaxError\u001b[0m\u001b[1;31m:\u001b[0m EOF while scanning triple-quoted string literal\n"
     ]
    }
   ],
   "source": [
    "'''\n",
    "## Feature Selection Code\n",
    "# Forward stepwise feature selection\n",
    "# linear model 기준으로 유효 feature 뽑기. 돌리지 않아도 되는 코드\n",
    "\n",
    "np.random.seed(0)\n",
    "\n",
    "feature_name = list(X_train.columns)\n",
    "feature_selected = []\n",
    "score = []\n",
    "\n",
    "for i in range(X_train.shape[1]):\n",
    "    score_temp_list = np.zeros(len(feature_name))\n",
    "    for j in range(len(feature_name)):\n",
    "        temp = feature_selected.copy() \n",
    "        temp.append(feature_name[j])\n",
    "        x_temp = X_train[temp]\n",
    "        lr_temp = LinearRegression() \n",
    "        lr_temp.fit(x_temp, y_train)\n",
    "        predict_temp = lr_temp.predict(X_test[temp])\n",
    "        r2_temp = r2_score(y_test, predict_temp)\n",
    "        score_temp = r2_temp\n",
    "        score_temp_list[j] = score_temp \n",
    "        \n",
    "    temp = feature_name[score_temp_list.argmax()]\n",
    "    feature_selected.append(temp)\n",
    "    feature_name.remove(temp)\n",
    "    score.append(score_temp_list.max())\n",
    "    print(\"%02d Selected: \"%i, feature_selected)\n",
    "    print(\"%02d Score : \"%i, np.round(10000*np.array(score))/10000)\n",
    "        \n",
    "# finally selected features\n",
    "feature_selected_final = feature_selected[:(np.array(score).argmax() + 1)]"
   ]
  },
  {
   "cell_type": "code",
   "execution_count": null,
   "metadata": {},
   "outputs": [],
   "source": [
    "# 125까지\n",
    "#['HPE_close', 'KOBPTBIndex260', 'MAPMINDXIndex1', 'KOBPFINIndex5', 'MAPMINDXIndex60', 'MWINCHNGIndex', 'HPE_product', 'SKLICONTIndex120', 'Aspeed_volume', 'KOVMDOMSIndex120', 'KOBPCAIndex1', 'SKLICIIndex1', 'KOGFBALIndex', 'CPIXYOYIndex', 'SKLIWNRSIndex60', 'INJCJCIndex60', 'NAPMNEWOIndex1', 'Aspeed_change', 'TSMC_change', 'SKBSICIndex120', 'OEKRN022Index60', 'SKLISVCIIndex60', 'Philadelphia_product', 'QCOM_volume', 'SKLILAPIndex60', 'KOVMDOMSIndex1', 'CICRTOTIndex5', 'KODIBALIndex260', 'OUTFGAFIndex60', 'SAARTOTLIndex20', 'SAARDTOTIndex20', 'FRNTTOTLIndex1', 'SKLISVCIIndex1', 'TokyoElectron_volume', 'KOBONTLIndex1', 'KOBPCBIndex20', 'SKLISHPPIndex20', 'KOBPCBIndex5', 'Micron_change', 'USD_KRW_change', 'SKBSICSAIndex20', 'SamsungElectronics_change', 'COMFCOMFIndex20', 'ShinEtsuChemical_change', 'option_bit', 'tangible_asset_increase_rate', 'Amazon_product', 'TSMC_volume', 'CPMINEXOIndex', 'FDIDSGMOIndex', 'LEIAVGWIndex5', 'LEIBPIndex20', 'OEKRN022Index', 'Microsoft_volume', 'SKLILCIndex260', 'KOIPMCIndex5', 'future_bit', 'KOWDRIndex20', 'ShinEtsuChemical_product', 'MAPMINDXIndex5', 'OUTFGAFIndex20', 'CPMINORDIndex20', 'OUTFGAFIndex1', 'SAARDTOTIndex120', 'KOCPIMOMIndex', 'MediaTek_change', 'Siltronic_product', 'APPLE_product', 'INJCJCIndex1', 'CONSSENTIndex20', 'NAPMPMIIndex1', 'LamResearch_volume', 'FRNTTNETIndex20', 'LEILCIIndex120', 'Microsoft_product', 'KOIPMSIndex5', 'Intel_product', 'Nvidia_product', 'KOHEUINYIndex', 'LEIACEIndex120', 'LEIMNOIndex1', 'AWHTOTLIndex120', 'KOFETOTIndex60', 'SKCIMOMIndex', 'KOBPCBIndex1', 'KOBSMCIndex120', 'KOIPMSIndex60', 'NAPMPMIIndex20', 'NAPMPMIIndex5', 'USTBIMPIndex', 'NAPMPMIIndex60', 'TokyoElectron_change', 'KOIMTOTIndex120', 'CFNAIIndex5', 'KOCLLNSIndex5', 'KWCDCCurncy60', 'AWHTOTLIndex60', 'FDIDFDMOIndex', 'AppliedMaterials_volume', 'KODIBALIndex', 'CPMINEXOIndex60', 'KORSTIndex120', 'SamsungElectronics_close', 'CHPMINDXIndex1', 'KODIBALIndex120', 'SKhynix_volume', 'USTBEXPIndex120', 'SKLISVCIIndex120', 'MAPMINDXIndex20', 'AMD_product', 'CNCILIIndex20', 'Amazon_volume', 'KOIPMCYIndex', 'MPMIUSCAIndex', 'MPMIJPCAIndex', 'MPMIUSMAIndex', 'MPMIUSSAIndex', 'MPMIJPMAIndex', 'MPMIKRMAIndex', 'MPMIJPSAIndex', 'Dell_close', 'Dell_volume', 'Dell_change', 'EUR_KRW_volume', 'JPY_KRW_volume', 'USDollarIndex_volume', 'USD_KRW_volume', 'MPMIUSCAIndex1', 'MPMIUSCAIndex5', 'MPMIUSCAIndex20', 'MPMIUSCAIndex60', 'MPMIUSCAIndex120', 'MPMIUSCAIndex260', 'MPMIUSMAIndex1', 'MPMIUSMAIndex5', 'MPMIUSMAIndex20', 'MPMIUSMAIndex60', 'MPMIUSMAIndex120', 'MPMIUSMAIndex260', 'MPMIUSSAIndex1', 'MPMIUSSAIndex5', 'MPMIUSSAIndex20', 'MPMIUSSAIndex60', 'MPMIUSSAIndex120', 'MPMIUSSAIndex260', 'MPMIJPCAIndex1', 'MPMIJPCAIndex5', 'MPMIJPCAIndex20', 'MPMIJPCAIndex60', 'MPMIJPCAIndex120', 'MPMIJPCAIndex260', 'MPMIJPMAIndex1', 'MPMIJPMAIndex5', 'MPMIJPMAIndex20', 'MPMIJPMAIndex60', 'MPMIJPMAIndex120', 'MPMIJPMAIndex260', 'MPMIJPSAIndex1', 'MPMIJPSAIndex5', 'MPMIJPSAIndex20', 'MPMIJPSAIndex60', 'MPMIJPSAIndex120', 'MPMIJPSAIndex260', 'Dell_product', 'KOVMTOTSIndex1', 'KOVMEXPSIndex1', 'KOLPIIndex', 'CPICHNGIndex', 'LEIBPIndex1', 'CPMINORDIndex120', 'LEIMNOIndex60', 'KOEXTOTIndex1', 'psr']"
   ]
  },
  {
   "cell_type": "code",
   "execution_count": 37,
   "metadata": {},
   "outputs": [],
   "source": [
    "X_train_t = X_train.reshape(X_train.shape[0], 173, 1)"
   ]
  },
  {
   "cell_type": "code",
   "execution_count": 38,
   "metadata": {},
   "outputs": [
    {
     "data": {
      "text/plain": [
       "(3832, 173, 1)"
      ]
     },
     "execution_count": 38,
     "metadata": {},
     "output_type": "execute_result"
    }
   ],
   "source": [
    "X_train_t.shape"
   ]
  },
  {
   "cell_type": "code",
   "execution_count": 39,
   "metadata": {},
   "outputs": [],
   "source": [
    "X_test_t = X_test.reshape(X_test.shape[0], 173, 1)"
   ]
  },
  {
   "cell_type": "code",
   "execution_count": 40,
   "metadata": {},
   "outputs": [
    {
     "data": {
      "text/plain": [
       "((3832, 173, 1), (959, 173, 1))"
      ]
     },
     "execution_count": 40,
     "metadata": {},
     "output_type": "execute_result"
    }
   ],
   "source": [
    "X_train_t.shape, X_test_t.shape"
   ]
  },
  {
   "cell_type": "code",
   "execution_count": 41,
   "metadata": {},
   "outputs": [],
   "source": [
    "# rmse custorm metric\n",
    "def root_mean_squared_error(y_true, y_pred):\n",
    "    return K.sqrt(K.mean(K.square(y_pred - y_true), axis=-1)) "
   ]
  },
  {
   "cell_type": "code",
   "execution_count": 42,
   "metadata": {},
   "outputs": [],
   "source": [
    "# Begas Custom Loss Function\n",
    "def customLoss(y_true, y_pred):\n",
    "    mean_true = tf.math.reduce_mean(y_true)\n",
    "    mean_pred = tf.math.reduce_mean(y_pred)\n",
    "    \n",
    "    std_true = tf.math.reduce_std(y_true)\n",
    "    std_pred = tf.math.reduce_std(y_pred)\n",
    "    \n",
    "    up = tf.reduce_mean(tf.math.multiply((y_true-mean_true), (y_pred-mean_pred)))\n",
    "    down = std_true * std_pred\n",
    "    corr = 1.0-tf.compat.v1.where(tf.math.is_nan(up/down),0.0,up/down)\n",
    "    \n",
    "    \n",
    "    meanerr = tf.math.sqrt(tf.math.square(mean_true - mean_pred))\n",
    "    mserr = tf.math.sqrt(tf.math.reduce_mean(tf.math.square(y_true-y_pred)))\n",
    "    signerr = 1-tf.math.reduce_mean(tf.math.multiply(tf.math.sign(y_true), tf.math.sign(y_pred)))\n",
    "    \n",
    "    return mserr + corr/2 + signerr/2"
   ]
  },
  {
   "cell_type": "code",
   "execution_count": 62,
   "metadata": {},
   "outputs": [
    {
     "name": "stdout",
     "output_type": "stream",
     "text": [
      "Model: \"KRXSemicondoctor_regressor\"\n",
      "_________________________________________________________________\n",
      "Layer (type)                 Output Shape              Param #   \n",
      "=================================================================\n",
      "input (GRU)                  (None, 173, 64)           12672     \n",
      "_________________________________________________________________\n",
      "dropout_1 (Dropout)          (None, 173, 64)           0         \n",
      "_________________________________________________________________\n",
      "batch_normalization_1 (Batch (None, 173, 64)           256       \n",
      "_________________________________________________________________\n",
      "gru_cell_0 (GRU)             (None, 173, 64)           24768     \n",
      "_________________________________________________________________\n",
      "dropout_2 (Dropout)          (None, 173, 64)           0         \n",
      "_________________________________________________________________\n",
      "batch_normalization_2 (Batch (None, 173, 64)           256       \n",
      "_________________________________________________________________\n",
      "gru_cell_1 (GRU)             (None, 32)                9312      \n",
      "_________________________________________________________________\n",
      "dropout_3 (Dropout)          (None, 32)                0         \n",
      "_________________________________________________________________\n",
      "batch_normalization_3 (Batch (None, 32)                128       \n",
      "_________________________________________________________________\n",
      "output (Dense)               (None, 1)                 33        \n",
      "=================================================================\n",
      "Total params: 47,425\n",
      "Trainable params: 47,105\n",
      "Non-trainable params: 320\n",
      "_________________________________________________________________\n",
      "Epoch 1/1000\n",
      "3832/3832 [==============================] - 19s 5ms/step - loss: 3.8709 - mse: 5.7947\n",
      "Epoch 2/1000\n",
      "3832/3832 [==============================] - 18s 5ms/step - loss: 3.7352 - mse: 5.4645\n",
      "Epoch 3/1000\n",
      "3832/3832 [==============================] - 18s 5ms/step - loss: 3.6400 - mse: 5.3189\n",
      "Epoch 4/1000\n",
      "3832/3832 [==============================] - 18s 5ms/step - loss: 3.4488 - mse: 5.0181\n",
      "Epoch 5/1000\n",
      "3832/3832 [==============================] - 18s 5ms/step - loss: 3.3736 - mse: 4.8877\n",
      "Epoch 6/1000\n",
      "3832/3832 [==============================] - 18s 5ms/step - loss: 3.3149 - mse: 4.8239\n",
      "Epoch 7/1000\n",
      "3832/3832 [==============================] - 18s 5ms/step - loss: 3.2865 - mse: 4.8097\n",
      "Epoch 8/1000\n",
      "3832/3832 [==============================] - 18s 5ms/step - loss: 3.2798 - mse: 4.8066\n",
      "Epoch 9/1000\n",
      "3832/3832 [==============================] - 18s 5ms/step - loss: 3.1778 - mse: 4.6943\n",
      "Epoch 10/1000\n",
      "3832/3832 [==============================] - 18s 5ms/step - loss: 3.1911 - mse: 4.7092\n",
      "Epoch 11/1000\n",
      "3832/3832 [==============================] - 18s 5ms/step - loss: 3.1746 - mse: 4.7095\n",
      "Epoch 12/1000\n",
      "3832/3832 [==============================] - 18s 5ms/step - loss: 3.1846 - mse: 4.7308\n",
      "Epoch 13/1000\n",
      "3832/3832 [==============================] - 18s 5ms/step - loss: 3.1565 - mse: 4.6953\n",
      "Epoch 14/1000\n",
      "3832/3832 [==============================] - 18s 5ms/step - loss: 3.1471 - mse: 4.6945\n",
      "Epoch 15/1000\n",
      "3832/3832 [==============================] - 18s 5ms/step - loss: 3.1466 - mse: 4.6833\n",
      "Epoch 16/1000\n",
      "3832/3832 [==============================] - 18s 5ms/step - loss: 3.1097 - mse: 4.6589\n",
      "Epoch 17/1000\n",
      "3832/3832 [==============================] - 18s 5ms/step - loss: 3.1081 - mse: 4.6525\n",
      "Epoch 18/1000\n",
      "3832/3832 [==============================] - 18s 5ms/step - loss: 3.1295 - mse: 4.6754\n",
      "Epoch 19/1000\n",
      "3832/3832 [==============================] - 18s 5ms/step - loss: 3.1139 - mse: 4.6627\n",
      "Epoch 20/1000\n",
      "3832/3832 [==============================] - 18s 5ms/step - loss: 3.1059 - mse: 4.6592\n",
      "Epoch 21/1000\n",
      "3832/3832 [==============================] - 18s 5ms/step - loss: 3.1105 - mse: 4.6595\n",
      "Epoch 22/1000\n",
      "3832/3832 [==============================] - 18s 5ms/step - loss: 3.0799 - mse: 4.6481\n",
      "Epoch 23/1000\n",
      "3832/3832 [==============================] - 18s 5ms/step - loss: 3.0941 - mse: 4.6494\n",
      "Epoch 24/1000\n",
      "3832/3832 [==============================] - 18s 5ms/step - loss: 3.0935 - mse: 4.6504\n",
      "Epoch 25/1000\n",
      "3832/3832 [==============================] - 18s 5ms/step - loss: 3.1086 - mse: 4.6581\n",
      "Epoch 26/1000\n",
      "3832/3832 [==============================] - 18s 5ms/step - loss: 3.0914 - mse: 4.6388\n",
      "Epoch 27/1000\n",
      "3832/3832 [==============================] - 18s 5ms/step - loss: 3.0910 - mse: 4.6478\n",
      "Epoch 28/1000\n",
      "3832/3832 [==============================] - 18s 5ms/step - loss: 3.0777 - mse: 4.6393\n",
      "Epoch 29/1000\n",
      "3832/3832 [==============================] - 18s 5ms/step - loss: 3.0806 - mse: 4.6427\n",
      "Epoch 30/1000\n",
      "3832/3832 [==============================] - 18s 5ms/step - loss: 3.0628 - mse: 4.6334\n",
      "Epoch 31/1000\n",
      "3832/3832 [==============================] - 18s 5ms/step - loss: 3.1009 - mse: 4.6407\n",
      "Epoch 32/1000\n",
      "3832/3832 [==============================] - 18s 5ms/step - loss: 3.0670 - mse: 4.6373\n",
      "Epoch 33/1000\n",
      "3832/3832 [==============================] - 18s 5ms/step - loss: 3.0748 - mse: 4.6356\n",
      "Epoch 34/1000\n",
      "3832/3832 [==============================] - 18s 5ms/step - loss: 3.0704 - mse: 4.6354\n",
      "Epoch 35/1000\n",
      "3832/3832 [==============================] - 18s 5ms/step - loss: 3.0585 - mse: 4.6288\n",
      "Epoch 36/1000\n",
      "3832/3832 [==============================] - 18s 5ms/step - loss: 3.0733 - mse: 4.6328\n",
      "Epoch 37/1000\n",
      "3832/3832 [==============================] - 18s 5ms/step - loss: 3.0677 - mse: 4.6262\n",
      "Epoch 38/1000\n",
      "3832/3832 [==============================] - 18s 5ms/step - loss: 3.0577 - mse: 4.6228\n",
      "Epoch 39/1000\n",
      "3832/3832 [==============================] - 18s 5ms/step - loss: 3.0610 - mse: 4.6227\n",
      "Epoch 40/1000\n",
      "3832/3832 [==============================] - 18s 5ms/step - loss: 3.0735 - mse: 4.6289\n",
      "Epoch 41/1000\n",
      "3832/3832 [==============================] - 18s 5ms/step - loss: 3.0449 - mse: 4.6074\n",
      "Epoch 42/1000\n",
      "3832/3832 [==============================] - 18s 5ms/step - loss: 3.0381 - mse: 4.6077\n",
      "Epoch 43/1000\n",
      "3832/3832 [==============================] - 18s 5ms/step - loss: 3.0228 - mse: 4.5990\n",
      "Epoch 44/1000\n",
      "3832/3832 [==============================] - 18s 5ms/step - loss: 3.0505 - mse: 4.6044\n",
      "Epoch 45/1000\n",
      "3832/3832 [==============================] - 18s 5ms/step - loss: 3.0290 - mse: 4.5982\n",
      "Epoch 46/1000\n",
      "3832/3832 [==============================] - 18s 5ms/step - loss: 3.0622 - mse: 4.6207\n",
      "Epoch 47/1000\n",
      "3832/3832 [==============================] - 18s 5ms/step - loss: 3.0351 - mse: 4.5969\n",
      "Epoch 48/1000\n",
      "3832/3832 [==============================] - 18s 5ms/step - loss: 3.0355 - mse: 4.5992\n",
      "Epoch 49/1000\n",
      "3832/3832 [==============================] - 18s 5ms/step - loss: 3.0222 - mse: 4.5946\n",
      "Epoch 50/1000\n",
      "3832/3832 [==============================] - 18s 5ms/step - loss: 3.0081 - mse: 4.5779\n",
      "Epoch 51/1000\n",
      "3832/3832 [==============================] - 18s 5ms/step - loss: 3.0245 - mse: 4.5787\n",
      "Epoch 52/1000\n",
      "3832/3832 [==============================] - 18s 5ms/step - loss: 3.0026 - mse: 4.5729\n",
      "Epoch 53/1000\n",
      "3832/3832 [==============================] - 18s 5ms/step - loss: 3.0135 - mse: 4.5733\n",
      "Epoch 54/1000\n",
      "3832/3832 [==============================] - 18s 5ms/step - loss: 3.0020 - mse: 4.5626\n",
      "Epoch 55/1000\n",
      "3832/3832 [==============================] - 18s 5ms/step - loss: 3.0156 - mse: 4.5713\n",
      "Epoch 56/1000\n",
      "3832/3832 [==============================] - 18s 5ms/step - loss: 2.9997 - mse: 4.5678\n",
      "Epoch 57/1000\n",
      "3832/3832 [==============================] - 18s 5ms/step - loss: 2.9818 - mse: 4.5412\n",
      "Epoch 58/1000\n",
      "3832/3832 [==============================] - 18s 5ms/step - loss: 3.0064 - mse: 4.5560\n",
      "Epoch 59/1000\n",
      "3832/3832 [==============================] - 18s 5ms/step - loss: 2.9938 - mse: 4.5557\n",
      "Epoch 60/1000\n",
      "3832/3832 [==============================] - 18s 5ms/step - loss: 2.9646 - mse: 4.5220\n",
      "Epoch 61/1000\n",
      "3832/3832 [==============================] - 18s 5ms/step - loss: 2.9458 - mse: 4.5080\n",
      "Epoch 62/1000\n",
      "3832/3832 [==============================] - 18s 5ms/step - loss: 2.9805 - mse: 4.5171\n",
      "Epoch 63/1000\n",
      "3832/3832 [==============================] - 18s 5ms/step - loss: 2.9601 - mse: 4.5078\n",
      "Epoch 64/1000\n",
      "3832/3832 [==============================] - 18s 5ms/step - loss: 2.9475 - mse: 4.5079\n",
      "Epoch 65/1000\n",
      "3832/3832 [==============================] - 18s 5ms/step - loss: 2.9454 - mse: 4.4864\n",
      "Epoch 66/1000\n",
      "3832/3832 [==============================] - 18s 5ms/step - loss: 2.9522 - mse: 4.4794\n",
      "Epoch 67/1000\n",
      "3832/3832 [==============================] - 18s 5ms/step - loss: 2.9500 - mse: 4.4906\n",
      "Epoch 68/1000\n",
      "3832/3832 [==============================] - 18s 5ms/step - loss: 2.9817 - mse: 4.5358\n",
      "Epoch 69/1000\n",
      "3832/3832 [==============================] - 18s 5ms/step - loss: 2.9302 - mse: 4.4702\n",
      "Epoch 70/1000\n",
      "3832/3832 [==============================] - 18s 5ms/step - loss: 2.9293 - mse: 4.4636\n",
      "Epoch 71/1000\n",
      "3832/3832 [==============================] - 18s 5ms/step - loss: 2.9315 - mse: 4.4477\n",
      "Epoch 72/1000\n",
      "3832/3832 [==============================] - 18s 5ms/step - loss: 2.9376 - mse: 4.4399\n",
      "Epoch 73/1000\n",
      "3832/3832 [==============================] - 18s 5ms/step - loss: 2.9369 - mse: 4.4412\n",
      "Epoch 74/1000\n",
      "3832/3832 [==============================] - 18s 5ms/step - loss: 2.9184 - mse: 4.4369\n",
      "Epoch 75/1000\n",
      "3832/3832 [==============================] - 18s 5ms/step - loss: 2.8938 - mse: 4.3937\n",
      "Epoch 76/1000\n",
      "3832/3832 [==============================] - 18s 5ms/step - loss: 2.9224 - mse: 4.4322\n",
      "Epoch 77/1000\n",
      "3832/3832 [==============================] - 18s 5ms/step - loss: 2.8902 - mse: 4.3999\n",
      "Epoch 78/1000\n",
      "3832/3832 [==============================] - 18s 5ms/step - loss: 2.9057 - mse: 4.3929\n",
      "Epoch 79/1000\n",
      "3832/3832 [==============================] - 18s 5ms/step - loss: 2.8844 - mse: 4.3805\n",
      "Epoch 80/1000\n",
      "3832/3832 [==============================] - 18s 5ms/step - loss: 2.8636 - mse: 4.3776\n",
      "Epoch 81/1000\n",
      "3832/3832 [==============================] - 18s 5ms/step - loss: 2.8684 - mse: 4.3709\n",
      "Epoch 82/1000\n",
      "3832/3832 [==============================] - 18s 5ms/step - loss: 2.8661 - mse: 4.3270\n",
      "Epoch 83/1000\n",
      "3832/3832 [==============================] - 18s 5ms/step - loss: 2.8791 - mse: 4.3568\n",
      "Epoch 84/1000\n",
      "3832/3832 [==============================] - 18s 5ms/step - loss: 2.8834 - mse: 4.3543\n",
      "Epoch 85/1000\n",
      "3832/3832 [==============================] - 18s 5ms/step - loss: 2.8502 - mse: 4.3304\n",
      "Epoch 86/1000\n",
      "3832/3832 [==============================] - 18s 5ms/step - loss: 2.8576 - mse: 4.3130\n",
      "Epoch 87/1000\n",
      "3832/3832 [==============================] - 18s 5ms/step - loss: 2.8585 - mse: 4.3156\n",
      "Epoch 88/1000\n",
      "3832/3832 [==============================] - 18s 5ms/step - loss: 2.8580 - mse: 4.3075\n",
      "Epoch 89/1000\n",
      "3832/3832 [==============================] - 18s 5ms/step - loss: 2.8473 - mse: 4.2969\n",
      "Epoch 90/1000\n",
      "3832/3832 [==============================] - 18s 5ms/step - loss: 2.8551 - mse: 4.2956\n",
      "Epoch 91/1000\n",
      "3832/3832 [==============================] - 18s 5ms/step - loss: 2.8326 - mse: 4.2766\n",
      "Epoch 92/1000\n",
      "3832/3832 [==============================] - 18s 5ms/step - loss: 2.8306 - mse: 4.2732\n",
      "Epoch 93/1000\n",
      "3832/3832 [==============================] - 18s 5ms/step - loss: 2.8540 - mse: 4.2852\n",
      "Epoch 94/1000\n",
      "3832/3832 [==============================] - 18s 5ms/step - loss: 2.8448 - mse: 4.2845\n",
      "Epoch 95/1000\n",
      "3832/3832 [==============================] - 18s 5ms/step - loss: 2.8146 - mse: 4.2401\n",
      "Epoch 96/1000\n",
      "3832/3832 [==============================] - 18s 5ms/step - loss: 2.8539 - mse: 4.3140\n",
      "Epoch 97/1000\n",
      "3832/3832 [==============================] - 18s 5ms/step - loss: 2.8172 - mse: 4.2126\n",
      "Epoch 98/1000\n",
      "3832/3832 [==============================] - 18s 5ms/step - loss: 2.8181 - mse: 4.2268\n",
      "Epoch 99/1000\n",
      "3832/3832 [==============================] - 18s 5ms/step - loss: 2.7894 - mse: 4.1805\n",
      "Epoch 100/1000\n",
      "3832/3832 [==============================] - 18s 5ms/step - loss: 2.7995 - mse: 4.1823\n",
      "Epoch 101/1000\n",
      "3832/3832 [==============================] - 18s 5ms/step - loss: 2.7806 - mse: 4.1617\n",
      "Epoch 102/1000\n",
      "3832/3832 [==============================] - 18s 5ms/step - loss: 2.7930 - mse: 4.1853\n",
      "Epoch 103/1000\n",
      "3832/3832 [==============================] - 18s 5ms/step - loss: 2.7830 - mse: 4.1762\n",
      "Epoch 104/1000\n",
      "3832/3832 [==============================] - 18s 5ms/step - loss: 2.8114 - mse: 4.2017\n",
      "Epoch 105/1000\n",
      "3832/3832 [==============================] - 18s 5ms/step - loss: 2.7874 - mse: 4.1691\n",
      "Epoch 106/1000\n",
      "3832/3832 [==============================] - 18s 5ms/step - loss: 2.7852 - mse: 4.1641\n",
      "Epoch 107/1000\n",
      "3832/3832 [==============================] - 18s 5ms/step - loss: 2.7693 - mse: 4.1542\n",
      "Epoch 108/1000\n",
      "3832/3832 [==============================] - 18s 5ms/step - loss: 2.8157 - mse: 4.2023\n",
      "Epoch 109/1000\n",
      "3832/3832 [==============================] - 18s 5ms/step - loss: 2.7778 - mse: 4.1731\n",
      "Epoch 110/1000\n",
      "3832/3832 [==============================] - 18s 5ms/step - loss: 2.7605 - mse: 4.1307\n",
      "Epoch 111/1000\n",
      "3832/3832 [==============================] - 18s 5ms/step - loss: 2.7619 - mse: 4.1425\n",
      "Epoch 112/1000\n",
      "3832/3832 [==============================] - 18s 5ms/step - loss: 2.7654 - mse: 4.0984\n",
      "Epoch 113/1000\n",
      "3832/3832 [==============================] - 18s 5ms/step - loss: 2.7520 - mse: 4.0981\n",
      "Epoch 114/1000\n",
      "3832/3832 [==============================] - 18s 5ms/step - loss: 2.7472 - mse: 4.0932\n",
      "Epoch 115/1000\n",
      "3832/3832 [==============================] - 18s 5ms/step - loss: 2.7456 - mse: 4.0961\n",
      "Epoch 116/1000\n",
      "3832/3832 [==============================] - 18s 5ms/step - loss: 2.7494 - mse: 4.0889\n",
      "Epoch 117/1000\n",
      "3832/3832 [==============================] - 18s 5ms/step - loss: 2.7397 - mse: 4.0778\n",
      "Epoch 118/1000\n",
      "3832/3832 [==============================] - 18s 5ms/step - loss: 2.7220 - mse: 4.0557\n",
      "Epoch 119/1000\n",
      "3832/3832 [==============================] - 18s 5ms/step - loss: 2.7040 - mse: 4.0180\n",
      "Epoch 120/1000\n",
      "3832/3832 [==============================] - 18s 5ms/step - loss: 2.7288 - mse: 4.0583\n",
      "Epoch 121/1000\n",
      "3832/3832 [==============================] - 18s 5ms/step - loss: 2.7235 - mse: 4.0614\n",
      "Epoch 122/1000\n",
      "3832/3832 [==============================] - 18s 5ms/step - loss: 2.7343 - mse: 4.0490\n",
      "Epoch 123/1000\n",
      "3832/3832 [==============================] - 18s 5ms/step - loss: 2.7502 - mse: 4.0814\n",
      "Epoch 124/1000\n",
      "3832/3832 [==============================] - 18s 5ms/step - loss: 2.7226 - mse: 4.0727\n",
      "Epoch 125/1000\n",
      "3832/3832 [==============================] - 18s 5ms/step - loss: 2.7308 - mse: 4.0687\n",
      "Epoch 126/1000\n",
      "3832/3832 [==============================] - 18s 5ms/step - loss: 2.7030 - mse: 4.0151\n",
      "Epoch 127/1000\n",
      "3832/3832 [==============================] - 18s 5ms/step - loss: 2.7122 - mse: 4.0205\n",
      "Epoch 128/1000\n",
      "3832/3832 [==============================] - 18s 5ms/step - loss: 2.6915 - mse: 3.9684\n",
      "Epoch 129/1000\n",
      "3832/3832 [==============================] - 18s 5ms/step - loss: 2.6857 - mse: 3.9877\n",
      "Epoch 130/1000\n",
      "3832/3832 [==============================] - 18s 5ms/step - loss: 2.6933 - mse: 3.9887\n",
      "Epoch 131/1000\n",
      "3832/3832 [==============================] - 18s 5ms/step - loss: 2.6666 - mse: 3.9188\n",
      "Epoch 132/1000\n",
      "3832/3832 [==============================] - 18s 5ms/step - loss: 2.7021 - mse: 3.9923\n",
      "Epoch 133/1000\n",
      "3832/3832 [==============================] - 18s 5ms/step - loss: 2.6955 - mse: 3.9988\n",
      "Epoch 134/1000\n",
      "3832/3832 [==============================] - 18s 5ms/step - loss: 2.6666 - mse: 3.9096\n",
      "Epoch 135/1000\n",
      "3832/3832 [==============================] - 18s 5ms/step - loss: 2.6659 - mse: 3.9274\n",
      "Epoch 136/1000\n",
      "3832/3832 [==============================] - 18s 5ms/step - loss: 2.6896 - mse: 3.9557\n",
      "Epoch 137/1000\n",
      "3832/3832 [==============================] - 18s 5ms/step - loss: 2.6738 - mse: 3.9301\n",
      "Epoch 138/1000\n",
      "3832/3832 [==============================] - 18s 5ms/step - loss: 2.6805 - mse: 3.9574\n",
      "Epoch 139/1000\n",
      "3832/3832 [==============================] - 18s 5ms/step - loss: 2.6708 - mse: 3.9031\n",
      "Epoch 140/1000\n",
      "3832/3832 [==============================] - 18s 5ms/step - loss: 2.6804 - mse: 3.9402\n",
      "Epoch 141/1000\n",
      "3832/3832 [==============================] - 18s 5ms/step - loss: 2.6409 - mse: 3.8878\n",
      "Epoch 142/1000\n",
      "3832/3832 [==============================] - 18s 5ms/step - loss: 2.6632 - mse: 3.9000\n",
      "Epoch 143/1000\n",
      "3832/3832 [==============================] - 18s 5ms/step - loss: 2.6575 - mse: 3.9214\n",
      "Epoch 144/1000\n",
      "3832/3832 [==============================] - 18s 5ms/step - loss: 2.6733 - mse: 3.9224\n",
      "Epoch 145/1000\n",
      "3832/3832 [==============================] - 18s 5ms/step - loss: 2.6441 - mse: 3.8791\n",
      "Epoch 146/1000\n",
      "3832/3832 [==============================] - 18s 5ms/step - loss: 2.6252 - mse: 3.8415\n",
      "Epoch 147/1000\n",
      "3832/3832 [==============================] - 18s 5ms/step - loss: 2.6304 - mse: 3.8421\n",
      "Epoch 148/1000\n",
      "3832/3832 [==============================] - 18s 5ms/step - loss: 2.6495 - mse: 3.8780\n",
      "Epoch 149/1000\n",
      "3832/3832 [==============================] - 18s 5ms/step - loss: 2.6417 - mse: 3.8534\n",
      "Epoch 150/1000\n",
      "3832/3832 [==============================] - 18s 5ms/step - loss: 2.6435 - mse: 3.8283\n",
      "Epoch 151/1000\n",
      "3832/3832 [==============================] - 18s 5ms/step - loss: 2.6248 - mse: 3.8180\n",
      "Epoch 152/1000\n",
      "3832/3832 [==============================] - 18s 5ms/step - loss: 2.6387 - mse: 3.8583\n",
      "Epoch 153/1000\n",
      "3832/3832 [==============================] - 18s 5ms/step - loss: 2.6191 - mse: 3.8126\n",
      "Epoch 154/1000\n",
      "3832/3832 [==============================] - 18s 5ms/step - loss: 2.6397 - mse: 3.8491\n",
      "Epoch 155/1000\n",
      "3832/3832 [==============================] - 18s 5ms/step - loss: 2.6165 - mse: 3.8111\n",
      "Epoch 156/1000\n",
      "3832/3832 [==============================] - 18s 5ms/step - loss: 2.6332 - mse: 3.8353\n",
      "Epoch 157/1000\n",
      "3832/3832 [==============================] - 18s 5ms/step - loss: 2.6230 - mse: 3.8488\n",
      "Epoch 158/1000\n",
      "3832/3832 [==============================] - 18s 5ms/step - loss: 2.6488 - mse: 3.8812\n",
      "Epoch 159/1000\n",
      "3832/3832 [==============================] - 18s 5ms/step - loss: 2.6092 - mse: 3.7815\n",
      "Epoch 160/1000\n",
      "3832/3832 [==============================] - 18s 5ms/step - loss: 2.6029 - mse: 3.7729\n",
      "Epoch 161/1000\n",
      "3832/3832 [==============================] - 18s 5ms/step - loss: 2.5929 - mse: 3.7525\n",
      "Epoch 162/1000\n",
      "3832/3832 [==============================] - 18s 5ms/step - loss: 2.6159 - mse: 3.7740\n",
      "Epoch 163/1000\n",
      "3832/3832 [==============================] - 18s 5ms/step - loss: 2.6027 - mse: 3.7610\n",
      "Epoch 164/1000\n",
      "3832/3832 [==============================] - 18s 5ms/step - loss: 2.5569 - mse: 3.7032\n",
      "Epoch 165/1000\n",
      "3832/3832 [==============================] - 18s 5ms/step - loss: 2.6023 - mse: 3.7550\n",
      "Epoch 166/1000\n",
      "3832/3832 [==============================] - 18s 5ms/step - loss: 2.5575 - mse: 3.6703\n",
      "Epoch 167/1000\n",
      "3832/3832 [==============================] - 18s 5ms/step - loss: 2.5970 - mse: 3.7758\n",
      "Epoch 168/1000\n",
      "3832/3832 [==============================] - 18s 5ms/step - loss: 2.6077 - mse: 3.7747\n",
      "Epoch 169/1000\n",
      "3832/3832 [==============================] - 18s 5ms/step - loss: 2.5543 - mse: 3.6700\n",
      "Epoch 170/1000\n",
      "3832/3832 [==============================] - 18s 5ms/step - loss: 2.6118 - mse: 3.7633\n",
      "Epoch 171/1000\n",
      "3832/3832 [==============================] - 18s 5ms/step - loss: 2.5752 - mse: 3.7022\n",
      "Epoch 172/1000\n",
      "3832/3832 [==============================] - 18s 5ms/step - loss: 2.5827 - mse: 3.7661\n",
      "Epoch 173/1000\n",
      "3832/3832 [==============================] - 18s 5ms/step - loss: 2.5667 - mse: 3.6840\n",
      "Epoch 174/1000\n",
      "3832/3832 [==============================] - 18s 5ms/step - loss: 2.5850 - mse: 3.7246\n",
      "Epoch 175/1000\n",
      "3832/3832 [==============================] - 18s 5ms/step - loss: 2.5897 - mse: 3.7559\n",
      "Epoch 176/1000\n",
      "3832/3832 [==============================] - 18s 5ms/step - loss: 2.5962 - mse: 3.7448\n",
      "Epoch 177/1000\n",
      "3832/3832 [==============================] - 18s 5ms/step - loss: 2.5540 - mse: 3.6936\n",
      "Epoch 178/1000\n",
      "3832/3832 [==============================] - 18s 5ms/step - loss: 2.5674 - mse: 3.6983\n",
      "Epoch 179/1000\n",
      "3832/3832 [==============================] - 18s 5ms/step - loss: 2.5466 - mse: 3.6342\n",
      "Epoch 180/1000\n",
      "3832/3832 [==============================] - 18s 5ms/step - loss: 2.5535 - mse: 3.6711\n",
      "Epoch 181/1000\n",
      "3832/3832 [==============================] - 18s 5ms/step - loss: 2.5653 - mse: 3.6913\n",
      "Epoch 182/1000\n",
      "3832/3832 [==============================] - 18s 5ms/step - loss: 2.5473 - mse: 3.6495\n",
      "Epoch 183/1000\n",
      "3832/3832 [==============================] - 18s 5ms/step - loss: 2.5447 - mse: 3.6729\n",
      "Epoch 184/1000\n",
      "3832/3832 [==============================] - 18s 5ms/step - loss: 2.5521 - mse: 3.6686\n",
      "Epoch 185/1000\n",
      "3832/3832 [==============================] - 18s 5ms/step - loss: 2.5246 - mse: 3.6004\n",
      "Epoch 186/1000\n",
      "3832/3832 [==============================] - 18s 5ms/step - loss: 2.5365 - mse: 3.6143\n",
      "Epoch 187/1000\n",
      "3832/3832 [==============================] - 18s 5ms/step - loss: 2.5641 - mse: 3.6710\n",
      "Epoch 188/1000\n",
      "3832/3832 [==============================] - 18s 5ms/step - loss: 2.5291 - mse: 3.6066\n",
      "Epoch 189/1000\n",
      "3832/3832 [==============================] - 18s 5ms/step - loss: 2.5287 - mse: 3.6127\n",
      "Epoch 190/1000\n",
      "3832/3832 [==============================] - 18s 5ms/step - loss: 2.5443 - mse: 3.6499\n",
      "Epoch 191/1000\n",
      "3832/3832 [==============================] - 18s 5ms/step - loss: 2.5448 - mse: 3.6225\n",
      "Epoch 192/1000\n",
      "3832/3832 [==============================] - 18s 5ms/step - loss: 2.5458 - mse: 3.6480\n",
      "Epoch 193/1000\n",
      "3832/3832 [==============================] - 18s 5ms/step - loss: 2.4798 - mse: 3.4981\n",
      "Epoch 194/1000\n",
      "3832/3832 [==============================] - 18s 5ms/step - loss: 2.4989 - mse: 3.5759\n",
      "Epoch 195/1000\n",
      "3832/3832 [==============================] - 18s 5ms/step - loss: 2.5050 - mse: 3.5626\n",
      "Epoch 196/1000\n",
      "3832/3832 [==============================] - 18s 5ms/step - loss: 2.5114 - mse: 3.5622\n",
      "Epoch 197/1000\n",
      "3832/3832 [==============================] - 18s 5ms/step - loss: 2.5008 - mse: 3.5669\n",
      "Epoch 198/1000\n",
      "3832/3832 [==============================] - 18s 5ms/step - loss: 2.4587 - mse: 3.4471\n",
      "Epoch 199/1000\n",
      "3832/3832 [==============================] - 18s 5ms/step - loss: 2.5259 - mse: 3.6242\n",
      "Epoch 200/1000\n",
      "3832/3832 [==============================] - 18s 5ms/step - loss: 2.4753 - mse: 3.4990\n",
      "Epoch 201/1000\n",
      "3832/3832 [==============================] - 18s 5ms/step - loss: 2.5211 - mse: 3.6072\n",
      "Epoch 202/1000\n",
      "3832/3832 [==============================] - 18s 5ms/step - loss: 2.4674 - mse: 3.4921\n",
      "Epoch 203/1000\n",
      "3832/3832 [==============================] - 18s 5ms/step - loss: 2.4656 - mse: 3.4614\n",
      "Epoch 204/1000\n",
      "3832/3832 [==============================] - 18s 5ms/step - loss: 2.5139 - mse: 3.5672\n",
      "Epoch 205/1000\n",
      "3832/3832 [==============================] - 18s 5ms/step - loss: 2.4827 - mse: 3.5190\n",
      "Epoch 206/1000\n",
      "3832/3832 [==============================] - 18s 5ms/step - loss: 2.5095 - mse: 3.5823\n",
      "Epoch 207/1000\n",
      "3832/3832 [==============================] - 18s 5ms/step - loss: 2.4841 - mse: 3.5038\n",
      "Epoch 208/1000\n",
      "3832/3832 [==============================] - 18s 5ms/step - loss: 2.4624 - mse: 3.4695\n",
      "Epoch 209/1000\n",
      "3832/3832 [==============================] - 18s 5ms/step - loss: 2.4782 - mse: 3.5139\n",
      "Epoch 210/1000\n",
      "3832/3832 [==============================] - 18s 5ms/step - loss: 2.5047 - mse: 3.5813\n",
      "Epoch 211/1000\n",
      "3832/3832 [==============================] - 18s 5ms/step - loss: 2.4557 - mse: 3.4500\n",
      "Epoch 212/1000\n",
      "3832/3832 [==============================] - 18s 5ms/step - loss: 2.4936 - mse: 3.5383\n",
      "Epoch 213/1000\n",
      "3832/3832 [==============================] - 18s 5ms/step - loss: 2.4488 - mse: 3.4504\n",
      "Epoch 214/1000\n",
      "3832/3832 [==============================] - 18s 5ms/step - loss: 2.4791 - mse: 3.5053\n",
      "Epoch 215/1000\n",
      "3832/3832 [==============================] - 18s 5ms/step - loss: 2.4819 - mse: 3.4812\n",
      "Epoch 216/1000\n",
      "3832/3832 [==============================] - 18s 5ms/step - loss: 2.4973 - mse: 3.5413\n",
      "Epoch 217/1000\n",
      "3832/3832 [==============================] - 18s 5ms/step - loss: 2.4745 - mse: 3.4938\n",
      "Epoch 218/1000\n",
      "3832/3832 [==============================] - 18s 5ms/step - loss: 2.4506 - mse: 3.4631\n",
      "Epoch 00218: early stopping\n"
     ]
    }
   ],
   "source": [
    "K.clear_session()\n",
    "\n",
    "# using /gpu:0\n",
    "with tf.device('/gpu:0'):\n",
    "    \n",
    "    # model build\n",
    "    model = Sequential(name = 'KRXSemicondoctor_regressor')\n",
    "    model.add(GRU(64, input_shape = (173, 1), return_sequences = True, name = 'input'))\n",
    "    model.add(Dropout(0.4))\n",
    "    model.add(BatchNormalization())\n",
    "    \n",
    "    model.add(GRU(64, return_sequences = True, name = 'gru_cell_0'))\n",
    "    model.add(Dropout(0.4))\n",
    "    model.add(BatchNormalization())\n",
    "    \n",
    "    model.add(GRU(32, return_sequences = False, name = 'gru_cell_1'))\n",
    "    model.add(Dropout(0.4))\n",
    "    model.add(BatchNormalization())\n",
    "\n",
    "    model.add(Dense(1, activation = 'linear', name = 'output',\n",
    "                   kernel_regularizer=keras.regularizers.l2(l=0.3)))\n",
    "                   #kernel_initializer=tf.keras.initializers.Orthogonal(seed=925))) \n",
    "\n",
    "    #rmsprop = optimizers.rmsprop(lr = 0.01)\n",
    "    adam = optimizers.Adam(lr = 0.001)\n",
    "    \n",
    "    # compile model\n",
    "    model.compile(loss = customLoss,\n",
    "                  optimizer=adam,\n",
    "                  metrics=['mse'])\n",
    "    \n",
    "    # early stopping\n",
    "    early_stop = EarlyStopping(monitor='mse', patience=20, verbose=1)\n",
    "    \n",
    "    # model check\n",
    "    model.summary()\n",
    "    \n",
    "    h = model.fit(X_train_t, y_train, epochs=1000,\n",
    "          batch_size=100, verbose=1, callbacks=[early_stop])"
   ]
  },
  {
   "cell_type": "code",
   "execution_count": 63,
   "metadata": {},
   "outputs": [],
   "source": [
    "y_pred = model.predict(X_test_t)\n",
    "x_pred = model.predict(X_train_t)"
   ]
  },
  {
   "cell_type": "code",
   "execution_count": 64,
   "metadata": {},
   "outputs": [
    {
     "data": {
      "text/plain": [
       "3832"
      ]
     },
     "execution_count": 64,
     "metadata": {},
     "output_type": "execute_result"
    }
   ],
   "source": [
    "len(x_pred)"
   ]
  },
  {
   "cell_type": "code",
   "execution_count": 65,
   "metadata": {},
   "outputs": [],
   "source": [
    "y_pred = np.reshape(y_pred, (959))\n",
    "y_test = np.reshape(y_test, (959))\n",
    "x_pred = np.reshape(x_pred, (3832))\n",
    "y_trai = np.reshape(y_train, (3832))"
   ]
  },
  {
   "cell_type": "code",
   "execution_count": 66,
   "metadata": {},
   "outputs": [
    {
     "data": {
      "text/html": [
       "<div>\n",
       "<style scoped>\n",
       "    .dataframe tbody tr th:only-of-type {\n",
       "        vertical-align: middle;\n",
       "    }\n",
       "\n",
       "    .dataframe tbody tr th {\n",
       "        vertical-align: top;\n",
       "    }\n",
       "\n",
       "    .dataframe thead th {\n",
       "        text-align: right;\n",
       "    }\n",
       "</style>\n",
       "<table border=\"1\" class=\"dataframe\">\n",
       "  <thead>\n",
       "    <tr style=\"text-align: right;\">\n",
       "      <th></th>\n",
       "      <th>CORR</th>\n",
       "      <th>R2</th>\n",
       "      <th>MAE</th>\n",
       "      <th>RMSE</th>\n",
       "      <th>ACR</th>\n",
       "      <th>threshACR</th>\n",
       "    </tr>\n",
       "  </thead>\n",
       "  <tbody>\n",
       "    <tr>\n",
       "      <th>0</th>\n",
       "      <td>0.622926</td>\n",
       "      <td>0.3721</td>\n",
       "      <td>1.2079</td>\n",
       "      <td>1.7130</td>\n",
       "      <td>0.680846</td>\n",
       "      <td>0.776275</td>\n",
       "    </tr>\n",
       "  </tbody>\n",
       "</table>\n",
       "</div>"
      ],
      "text/plain": [
       "       CORR      R2     MAE    RMSE       ACR  threshACR\n",
       "0  0.622926  0.3721  1.2079  1.7130  0.680846   0.776275"
      ]
     },
     "execution_count": 66,
     "metadata": {},
     "output_type": "execute_result"
    }
   ],
   "source": [
    "metr = CustomMetric(x_pred, y_trai)\n",
    "metr.makedf()\n",
    "metr.execution()"
   ]
  },
  {
   "cell_type": "code",
   "execution_count": 67,
   "metadata": {},
   "outputs": [
    {
     "data": {
      "text/html": [
       "<div>\n",
       "<style scoped>\n",
       "    .dataframe tbody tr th:only-of-type {\n",
       "        vertical-align: middle;\n",
       "    }\n",
       "\n",
       "    .dataframe tbody tr th {\n",
       "        vertical-align: top;\n",
       "    }\n",
       "\n",
       "    .dataframe thead th {\n",
       "        text-align: right;\n",
       "    }\n",
       "</style>\n",
       "<table border=\"1\" class=\"dataframe\">\n",
       "  <thead>\n",
       "    <tr style=\"text-align: right;\">\n",
       "      <th></th>\n",
       "      <th>CORR</th>\n",
       "      <th>R2</th>\n",
       "      <th>MAE</th>\n",
       "      <th>RMSE</th>\n",
       "      <th>ACR</th>\n",
       "      <th>threshACR</th>\n",
       "    </tr>\n",
       "  </thead>\n",
       "  <tbody>\n",
       "    <tr>\n",
       "      <th>0</th>\n",
       "      <td>0.054171</td>\n",
       "      <td>-0.1806</td>\n",
       "      <td>1.6648</td>\n",
       "      <td>2.1686</td>\n",
       "      <td>0.506778</td>\n",
       "      <td>0.522917</td>\n",
       "    </tr>\n",
       "  </tbody>\n",
       "</table>\n",
       "</div>"
      ],
      "text/plain": [
       "       CORR       R2     MAE    RMSE       ACR  threshACR\n",
       "0  0.054171  -0.1806  1.6648  2.1686  0.506778   0.522917"
      ]
     },
     "execution_count": 67,
     "metadata": {},
     "output_type": "execute_result"
    }
   ],
   "source": [
    "metr = CustomMetric(y_pred, y_test)\n",
    "metr.makedf()\n",
    "metr.execution()"
   ]
  },
  {
   "cell_type": "code",
   "execution_count": 73,
   "metadata": {},
   "outputs": [
    {
     "data": {
      "text/plain": [
       "(3832, 959)"
      ]
     },
     "execution_count": 73,
     "metadata": {},
     "output_type": "execute_result"
    }
   ],
   "source": [
    "len(x_pred), len(y_pred)"
   ]
  },
  {
   "cell_type": "code",
   "execution_count": 68,
   "metadata": {},
   "outputs": [
    {
     "data": {
      "text/plain": [
       "<matplotlib.axes._subplots.AxesSubplot at 0x21fe1f81550>"
      ]
     },
     "execution_count": 68,
     "metadata": {},
     "output_type": "execute_result"
    },
    {
     "data": {
      "image/png": "[encoded data removed]",
      "text/plain": [
       "<Figure size 576x432 with 1 Axes>"
      ]
     },
     "metadata": {
      "needs_background": "light"
     },
     "output_type": "display_data"
    }
   ],
   "source": [
    "pd.DataFrame(x_pred).plot()"
   ]
  },
  {
   "cell_type": "code",
   "execution_count": 69,
   "metadata": {},
   "outputs": [
    {
     "data": {
      "text/plain": [
       "<matplotlib.axes._subplots.AxesSubplot at 0x2200c096940>"
      ]
     },
     "execution_count": 69,
     "metadata": {},
     "output_type": "execute_result"
    },
    {
     "data": {
      "image/png": "[encoded data removed]",
      "text/plain": [
       "<Figure size 576x432 with 1 Axes>"
      ]
     },
     "metadata": {
      "needs_background": "light"
     },
     "output_type": "display_data"
    }
   ],
   "source": [
    "pd.DataFrame(y_train).plot()"
   ]
  },
  {
   "cell_type": "code",
   "execution_count": 70,
   "metadata": {},
   "outputs": [
    {
     "data": {
      "text/plain": [
       "<matplotlib.axes._subplots.AxesSubplot at 0x2200c0e96d8>"
      ]
     },
     "execution_count": 70,
     "metadata": {},
     "output_type": "execute_result"
    },
    {
     "data": {
      "image/png": "[encoded data removed]",
      "text/plain": [
       "<Figure size 576x432 with 1 Axes>"
      ]
     },
     "metadata": {
      "needs_background": "light"
     },
     "output_type": "display_data"
    }
   ],
   "source": [
    "pd.DataFrame(y_test).plot()"
   ]
  },
  {
   "cell_type": "code",
   "execution_count": 71,
   "metadata": {},
   "outputs": [
    {
     "data": {
      "text/plain": [
       "<matplotlib.axes._subplots.AxesSubplot at 0x2200c1664a8>"
      ]
     },
     "execution_count": 71,
     "metadata": {},
     "output_type": "execute_result"
    },
    {
     "data": {
      "image/png": "[encoded data removed]",
      "text/plain": [
       "<Figure size 576x432 with 1 Axes>"
      ]
     },
     "metadata": {
      "needs_background": "light"
     },
     "output_type": "display_data"
    }
   ],
   "source": [
    "pd.DataFrame(y_pred).plot()"
   ]
  },
  {
   "cell_type": "code",
   "execution_count": null,
   "metadata": {},
   "outputs": [],
   "source": [
    "#mse = h.history['mse']\n",
    "#val_mse = h.history['val_mse']\n",
    "loss = h.history['loss']\n",
    "#val_loss = h.history['val_loss']\n",
    "\n",
    "epochs = range(1, len(loss) + 1)\n",
    "\n",
    "#plt.plot(epochs, mse, 'bo', label = 'Training mse')\n",
    "#plt.plot(epohcs, val_mse, 'b', label = 'Validation mse')\n",
    "#plt.title('mse')\n",
    "#plt.legend()\n",
    "\n",
    "plt.figure()\n",
    "\n",
    "plt.plot(epochs, loss, 'bo', label = 'Training loss')\n",
    "#plt.plot(epohcs, val_mse, 'b', label = 'Validation loss')\n",
    "plt.title('loss')\n",
    "plt.legend()\n",
    "\n",
    "plt.show()"
   ]
  },
  {
   "cell_type": "code",
   "execution_count": null,
   "metadata": {},
   "outputs": [],
   "source": [
    "a_axis = np.arange(0, len(y_train))\n",
    "b_axis = np.arange(len(y_train), len(y_train) + len(y_pred))\n",
    "\n",
    "plt.figure(figsize=(10,6))\n",
    "plt.plot(a_axis, y_train.reshape(4040,), '-')\n",
    "plt.plot(b_axis, y_pred.reshape(1011,), '-', color='red', label='Predicted')\n",
    "plt.plot(b_axis, y_test.reshape(1011,), '-', color='green', alpha=0.2, label='Actual')\n",
    "plt.legend()\n",
    "plt.show()"
   ]
  },
  {
   "cell_type": "code",
   "execution_count": 279,
   "metadata": {},
   "outputs": [
    {
     "data": {
      "text/plain": [
       "Text(0.5, 1.0, 'Prices vs Predicted price Index: $Y_i$ vs $\\\\hat{Y}_i$')"
      ]
     },
     "execution_count": 279,
     "metadata": {},
     "output_type": "execute_result"
    },
    {
     "data": {
      "image/png": "[encoded data removed]",
      "text/plain": [
       "<Figure size 432x288 with 1 Axes>"
      ]
     },
     "metadata": {
      "needs_background": "light"
     },
     "output_type": "display_data"
    }
   ],
   "source": [
    "y_pred = model.predict(X_test_t, batch_size=32)\n",
    "plt.scatter(y_test, y_pred)\n",
    "plt.xlabel(\"Price Index: $Y_i$\")\n",
    "plt.ylabel(\"Predicted price Index: $\\hat{Y}_i$\")\n",
    "plt.title(\"Prices vs Predicted price Index: $Y_i$ vs $\\hat{Y}_i$\")"
   ]
  }
 ],
 "metadata": {
  "colab": {
   "authorship_tag": "ABX9TyNdPoDygFFSMUgSmKAIP5TY",
   "collapsed_sections": [],
   "name": "week4_time_series_jy.ipynb",
   "provenance": []
  },
  "kernelspec": {
   "display_name": "Python 3",
   "language": "python",
   "name": "python3"
  },
  "language_info": {
   "codemirror_mode": {
    "name": "ipython",
    "version": 3
   },
   "file_extension": ".py",
   "mimetype": "text/x-python",
   "name": "python",
   "nbconvert_exporter": "python",
   "pygments_lexer": "ipython3",
   "version": "3.7.3"
  }
 },
 "nbformat": 4,
 "nbformat_minor": 4
}
