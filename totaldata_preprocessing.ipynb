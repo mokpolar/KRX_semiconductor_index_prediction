{
 "cells": [
  {
   "cell_type": "code",
   "execution_count": 1,
   "metadata": {},
   "outputs": [],
   "source": [
    "import pandas as pd\n",
    "import re"
   ]
  },
  {
   "cell_type": "code",
   "execution_count": 190,
   "metadata": {},
   "outputs": [],
   "source": [
    "to = pd.read_csv('total_data.csv')"
   ]
  },
  {
   "cell_type": "code",
   "execution_count": 191,
   "metadata": {},
   "outputs": [
    {
     "data": {
      "text/html": [
       "<div>\n",
       "<style scoped>\n",
       "    .dataframe tbody tr th:only-of-type {\n",
       "        vertical-align: middle;\n",
       "    }\n",
       "\n",
       "    .dataframe tbody tr th {\n",
       "        vertical-align: top;\n",
       "    }\n",
       "\n",
       "    .dataframe thead th {\n",
       "        text-align: right;\n",
       "    }\n",
       "</style>\n",
       "<table border=\"1\" class=\"dataframe\">\n",
       "  <thead>\n",
       "    <tr style=\"text-align: right;\">\n",
       "      <th></th>\n",
       "      <th>Unnamed: 0</th>\n",
       "      <th>date</th>\n",
       "      <th>Amazon_close</th>\n",
       "      <th>Amazon_volume</th>\n",
       "      <th>Amazon_change</th>\n",
       "      <th>AMD_close</th>\n",
       "      <th>AMD_volume</th>\n",
       "      <th>AMD_change</th>\n",
       "      <th>APPLE_close</th>\n",
       "      <th>APPLE_volume</th>\n",
       "      <th>...</th>\n",
       "      <th>TSMC_change</th>\n",
       "      <th>UMC_close</th>\n",
       "      <th>UMC_volume</th>\n",
       "      <th>UMC_change</th>\n",
       "      <th>USDollarIndex_close</th>\n",
       "      <th>USDollarIndex_volume</th>\n",
       "      <th>USDollarIndex_change</th>\n",
       "      <th>USD_KRW_close</th>\n",
       "      <th>USD_KRW_volume</th>\n",
       "      <th>USD_KRW_change</th>\n",
       "    </tr>\n",
       "  </thead>\n",
       "  <tbody>\n",
       "    <tr>\n",
       "      <th>0</th>\n",
       "      <td>0</td>\n",
       "      <td>2006-01-02</td>\n",
       "      <td>NaN</td>\n",
       "      <td>NaN</td>\n",
       "      <td>NaN</td>\n",
       "      <td>NaN</td>\n",
       "      <td>NaN</td>\n",
       "      <td>NaN</td>\n",
       "      <td>NaN</td>\n",
       "      <td>NaN</td>\n",
       "      <td>...</td>\n",
       "      <td>NaN</td>\n",
       "      <td>NaN</td>\n",
       "      <td>NaN</td>\n",
       "      <td>NaN</td>\n",
       "      <td>NaN</td>\n",
       "      <td>NaN</td>\n",
       "      <td>NaN</td>\n",
       "      <td>1012.82</td>\n",
       "      <td>0.0</td>\n",
       "      <td>0.53</td>\n",
       "    </tr>\n",
       "    <tr>\n",
       "      <th>1</th>\n",
       "      <td>1</td>\n",
       "      <td>2006-01-03</td>\n",
       "      <td>46.25</td>\n",
       "      <td>7580000.0</td>\n",
       "      <td>0.91</td>\n",
       "      <td>32.40</td>\n",
       "      <td>16649999.0</td>\n",
       "      <td>5.88</td>\n",
       "      <td>10.68</td>\n",
       "      <td>201850000.0</td>\n",
       "      <td>...</td>\n",
       "      <td>3.6518</td>\n",
       "      <td>4.266</td>\n",
       "      <td>5350000.0</td>\n",
       "      <td>2.24</td>\n",
       "      <td>89.84</td>\n",
       "      <td>0.0</td>\n",
       "      <td>-1.46</td>\n",
       "      <td>1004.50</td>\n",
       "      <td>0.0</td>\n",
       "      <td>-0.82</td>\n",
       "    </tr>\n",
       "    <tr>\n",
       "      <th>2</th>\n",
       "      <td>2</td>\n",
       "      <td>2006-01-04</td>\n",
       "      <td>46.69</td>\n",
       "      <td>7440000.0</td>\n",
       "      <td>-0.69</td>\n",
       "      <td>32.56</td>\n",
       "      <td>11300000.0</td>\n",
       "      <td>0.49</td>\n",
       "      <td>10.71</td>\n",
       "      <td>155230000.0</td>\n",
       "      <td>...</td>\n",
       "      <td>1.7457</td>\n",
       "      <td>4.212</td>\n",
       "      <td>3150000.0</td>\n",
       "      <td>-1.87</td>\n",
       "      <td>89.14</td>\n",
       "      <td>0.0</td>\n",
       "      <td>-0.78</td>\n",
       "      <td>998.35</td>\n",
       "      <td>0.0</td>\n",
       "      <td>-0.61</td>\n",
       "    </tr>\n",
       "    <tr>\n",
       "      <th>3</th>\n",
       "      <td>3</td>\n",
       "      <td>2006-01-05</td>\n",
       "      <td>47.11</td>\n",
       "      <td>5420000.0</td>\n",
       "      <td>0.85</td>\n",
       "      <td>33.68</td>\n",
       "      <td>13810000.0</td>\n",
       "      <td>3.44</td>\n",
       "      <td>10.63</td>\n",
       "      <td>112400000.0</td>\n",
       "      <td>...</td>\n",
       "      <td>1.9777</td>\n",
       "      <td>4.212</td>\n",
       "      <td>8760000.0</td>\n",
       "      <td>-0.33</td>\n",
       "      <td>89.33</td>\n",
       "      <td>0.0</td>\n",
       "      <td>0.21</td>\n",
       "      <td>994.75</td>\n",
       "      <td>0.0</td>\n",
       "      <td>-0.36</td>\n",
       "    </tr>\n",
       "    <tr>\n",
       "      <th>4</th>\n",
       "      <td>4</td>\n",
       "      <td>2006-01-06</td>\n",
       "      <td>47.32</td>\n",
       "      <td>6150000.0</td>\n",
       "      <td>0.46</td>\n",
       "      <td>33.78</td>\n",
       "      <td>13310000.0</td>\n",
       "      <td>0.30</td>\n",
       "      <td>10.90</td>\n",
       "      <td>176140000.0</td>\n",
       "      <td>...</td>\n",
       "      <td>1.7525</td>\n",
       "      <td>4.239</td>\n",
       "      <td>13450000.0</td>\n",
       "      <td>4.48</td>\n",
       "      <td>88.85</td>\n",
       "      <td>0.0</td>\n",
       "      <td>-0.54</td>\n",
       "      <td>989.30</td>\n",
       "      <td>0.0</td>\n",
       "      <td>-0.55</td>\n",
       "    </tr>\n",
       "  </tbody>\n",
       "</table>\n",
       "<p>5 rows × 101 columns</p>\n",
       "</div>"
      ],
      "text/plain": [
       "   Unnamed: 0        date  Amazon_close  Amazon_volume  Amazon_change  \\\n",
       "0           0  2006-01-02           NaN            NaN            NaN   \n",
       "1           1  2006-01-03         46.25      7580000.0           0.91   \n",
       "2           2  2006-01-04         46.69      7440000.0          -0.69   \n",
       "3           3  2006-01-05         47.11      5420000.0           0.85   \n",
       "4           4  2006-01-06         47.32      6150000.0           0.46   \n",
       "\n",
       "   AMD_close  AMD_volume  AMD_change  APPLE_close  APPLE_volume  ...  \\\n",
       "0        NaN         NaN         NaN          NaN           NaN  ...   \n",
       "1      32.40  16649999.0        5.88        10.68   201850000.0  ...   \n",
       "2      32.56  11300000.0        0.49        10.71   155230000.0  ...   \n",
       "3      33.68  13810000.0        3.44        10.63   112400000.0  ...   \n",
       "4      33.78  13310000.0        0.30        10.90   176140000.0  ...   \n",
       "\n",
       "   TSMC_change  UMC_close  UMC_volume  UMC_change  USDollarIndex_close  \\\n",
       "0          NaN        NaN         NaN         NaN                  NaN   \n",
       "1       3.6518      4.266   5350000.0        2.24                89.84   \n",
       "2       1.7457      4.212   3150000.0       -1.87                89.14   \n",
       "3       1.9777      4.212   8760000.0       -0.33                89.33   \n",
       "4       1.7525      4.239  13450000.0        4.48                88.85   \n",
       "\n",
       "   USDollarIndex_volume  USDollarIndex_change  USD_KRW_close  USD_KRW_volume  \\\n",
       "0                   NaN                   NaN        1012.82             0.0   \n",
       "1                   0.0                 -1.46        1004.50             0.0   \n",
       "2                   0.0                 -0.78         998.35             0.0   \n",
       "3                   0.0                  0.21         994.75             0.0   \n",
       "4                   0.0                 -0.54         989.30             0.0   \n",
       "\n",
       "   USD_KRW_change  \n",
       "0            0.53  \n",
       "1           -0.82  \n",
       "2           -0.61  \n",
       "3           -0.36  \n",
       "4           -0.55  \n",
       "\n",
       "[5 rows x 101 columns]"
      ]
     },
     "execution_count": 191,
     "metadata": {},
     "output_type": "execute_result"
    }
   ],
   "source": [
    "to.head()"
   ]
  },
  {
   "cell_type": "code",
   "execution_count": 192,
   "metadata": {},
   "outputs": [],
   "source": [
    "to.drop('Unnamed: 0', axis = 1, inplace = True)"
   ]
  },
  {
   "cell_type": "code",
   "execution_count": 193,
   "metadata": {},
   "outputs": [
    {
     "name": "stdout",
     "output_type": "stream",
     "text": [
      "<class 'pandas.core.frame.DataFrame'>\n",
      "RangeIndex: 5051 entries, 0 to 5050\n",
      "Data columns (total 100 columns):\n",
      "date                             5051 non-null object\n",
      "Amazon_close                     3482 non-null float64\n",
      "Amazon_volume                    3482 non-null float64\n",
      "Amazon_change                    3482 non-null float64\n",
      "AMD_close                        3482 non-null float64\n",
      "AMD_volume                       3482 non-null float64\n",
      "AMD_change                       3482 non-null float64\n",
      "APPLE_close                      3482 non-null float64\n",
      "APPLE_volume                     3482 non-null float64\n",
      "APPLE_change                     3482 non-null float64\n",
      "AppliedMaterials_close           3482 non-null float64\n",
      "AppliedMaterials_volume          3482 non-null float64\n",
      "AppliedMaterials_change          3482 non-null float64\n",
      "Aspeed_close                     1097 non-null float64\n",
      "Aspeed_volume                    1097 non-null float64\n",
      "Aspeed_change                    1097 non-null float64\n",
      "Dell_close                       807 non-null float64\n",
      "Dell_volume                      807 non-null float64\n",
      "Dell_change                      807 non-null float64\n",
      "EUR_KRW_close                    3609 non-null float64\n",
      "EUR_KRW_volume                   3609 non-null float64\n",
      "EUR_KRW_change                   3609 non-null float64\n",
      "Facebook_close                   1875 non-null float64\n",
      "Facebook_volume                  1875 non-null float64\n",
      "Facebook_change                  1875 non-null float64\n",
      "Google_close                     3482 non-null float64\n",
      "Google_volume                    3482 non-null float64\n",
      "Google_change                    3482 non-null float64\n",
      "HPE_close                        1016 non-null float64\n",
      "HPE_volume                       1016 non-null float64\n",
      "HPE_change                       1016 non-null float64\n",
      "Intel_close                      3482 non-null float64\n",
      "Intel_volume                     3482 non-null float64\n",
      "Intel_change                     3482 non-null float64\n",
      "ISECloudComputingIndex_close     2984 non-null float64\n",
      "ISECloudComputingIndex_volume    2134 non-null float64\n",
      "ISECloudComputingIndex_change    2984 non-null float64\n",
      "JPY_KRW_close                    3609 non-null float64\n",
      "JPY_KRW_volume                   3609 non-null float64\n",
      "JPY_KRW_change                   3609 non-null float64\n",
      "KOSPI200_close                   3419 non-null float64\n",
      "KOSPI200_volume                  3419 non-null object\n",
      "KOSPI200_change                  3419 non-null float64\n",
      "KRXsemiconductor_close           3419 non-null object\n",
      "KRXsemiconductor_volume          3419 non-null object\n",
      "KRXsemiconductor_change          3379 non-null float64\n",
      "LamResearch_close                3482 non-null float64\n",
      "LamResearch_volume               3482 non-null float64\n",
      "LamResearch_change               3482 non-null float64\n",
      "MediaTek_close                   1828 non-null float64\n",
      "MediaTek_volume                  1828 non-null float64\n",
      "MediaTek_change                  1828 non-null float64\n",
      "Micron_close                     3482 non-null float64\n",
      "Micron_volume                    3482 non-null float64\n",
      "Micron_change                    3482 non-null float64\n",
      "Microsoft_close                  3482 non-null float64\n",
      "Microsoft_volume                 3482 non-null float64\n",
      "Microsoft_change                 3482 non-null float64\n",
      "Nuvoton_close                    1817 non-null float64\n",
      "Nuvoton_volume                   1817 non-null float64\n",
      "Nuvoton_change                   1817 non-null float64\n",
      "Nvidia_close                     3482 non-null float64\n",
      "Nvidia_volume                    3482 non-null float64\n",
      "Nvidia_change                    3482 non-null float64\n",
      "Philadelphia_close               3482 non-null float64\n",
      "Philadelphia_volume              3482 non-null float64\n",
      "Philadelphia_change              3482 non-null float64\n",
      "QCOM_close                       3482 non-null float64\n",
      "QCOM_volume                      3482 non-null float64\n",
      "QCOM_change                      3482 non-null float64\n",
      "SamsungElectronics_close         3419 non-null float64\n",
      "SamsungElectronics_volume        3419 non-null float64\n",
      "SamsungElectronics_change        3419 non-null float64\n",
      "ShinEtsuChemical_close           2749 non-null float64\n",
      "ShinEtsuChemical_volume          2749 non-null float64\n",
      "ShinEtsuChemical_change          2749 non-null float64\n",
      "Siltronic_close                  1112 non-null float64\n",
      "Siltronic_volume                 1112 non-null float64\n",
      "Siltronic_change                 1112 non-null float64\n",
      "SKhynix_close                    3419 non-null object\n",
      "SKhynix_volume                   3419 non-null object\n",
      "SKhynix_change                   3419 non-null float64\n",
      "Sumco_close                      1829 non-null float64\n",
      "Sumco_volume                     1829 non-null float64\n",
      "Sumco_change                     1829 non-null float64\n",
      "TokyoElectron_close              3386 non-null float64\n",
      "TokyoElectron_volume             3386 non-null float64\n",
      "TokyoElectron_change             3386 non-null float64\n",
      "TSMC_close                       3416 non-null float64\n",
      "TSMC_volume                      3416 non-null float64\n",
      "TSMC_change                      3416 non-null float64\n",
      "UMC_close                        3482 non-null float64\n",
      "UMC_volume                       3482 non-null float64\n",
      "UMC_change                       3482 non-null float64\n",
      "USDollarIndex_close              3590 non-null float64\n",
      "USDollarIndex_volume             3590 non-null float64\n",
      "USDollarIndex_change             3590 non-null float64\n",
      "USD_KRW_close                    3609 non-null float64\n",
      "USD_KRW_volume                   3609 non-null float64\n",
      "USD_KRW_change                   3609 non-null float64\n",
      "dtypes: float64(94), object(6)\n",
      "memory usage: 3.9+ MB\n"
     ]
    }
   ],
   "source": [
    "to.info()"
   ]
  },
  {
   "cell_type": "code",
   "execution_count": 194,
   "metadata": {},
   "outputs": [
    {
     "data": {
      "text/plain": [
       "59      999.72\n",
       "435     999.48\n",
       "368     998.57\n",
       "1192    998.48\n",
       "379     998.07\n",
       "         ...  \n",
       "5032       NaN\n",
       "5038       NaN\n",
       "5039       NaN\n",
       "5045       NaN\n",
       "5046       NaN\n",
       "Name: KRXsemiconductor_close, Length: 5051, dtype: object"
      ]
     },
     "execution_count": 194,
     "metadata": {},
     "output_type": "execute_result"
    }
   ],
   "source": [
    "to['KRXsemiconductor_close'].sort_values(ascending = False)"
   ]
  },
  {
   "cell_type": "code",
   "execution_count": 195,
   "metadata": {},
   "outputs": [
    {
     "data": {
      "text/plain": [
       "0    1,000.00\n",
       "1    1,012.36\n",
       "2    1,007.17\n",
       "3      991.68\n",
       "4    1,008.15\n",
       "Name: KRXsemiconductor_close, dtype: object"
      ]
     },
     "execution_count": 195,
     "metadata": {},
     "output_type": "execute_result"
    }
   ],
   "source": [
    "to['KRXsemiconductor_close'].head()"
   ]
  },
  {
   "cell_type": "code",
   "execution_count": 106,
   "metadata": {},
   "outputs": [],
   "source": [
    "#to['KRXsemiconductor_close'] = to['KRXsemiconductor_close'].map(lambda x: re.sub(\"\\D\", \"\", str(x)))"
   ]
  },
  {
   "cell_type": "code",
   "execution_count": 196,
   "metadata": {},
   "outputs": [],
   "source": [
    "to['KRXsemiconductor_close'] = to['KRXsemiconductor_close'].map(lambda x: re.sub(\",\", \"\", str(x)))"
   ]
  },
  {
   "cell_type": "code",
   "execution_count": 197,
   "metadata": {},
   "outputs": [],
   "source": [
    "# 2번 테스트\n",
    "to['KRXsemiconductor_close'] = to['KRXsemiconductor_close'].map(lambda x: re.sub(\"\\.[0-9]*\", \"\", str(x)))"
   ]
  },
  {
   "cell_type": "code",
   "execution_count": 198,
   "metadata": {},
   "outputs": [
    {
     "ename": "ValueError",
     "evalue": "Unable to parse string \"nan\" at position 5",
     "output_type": "error",
     "traceback": [
      "\u001b[0;31m---------------------------------------------------------------------------\u001b[0m",
      "\u001b[0;31mValueError\u001b[0m                                Traceback (most recent call last)",
      "\u001b[0;32mpandas/_libs/lib.pyx\u001b[0m in \u001b[0;36mpandas._libs.lib.maybe_convert_numeric\u001b[0;34m()\u001b[0m\n",
      "\u001b[0;31mValueError\u001b[0m: Unable to parse string \"nan\"",
      "\nDuring handling of the above exception, another exception occurred:\n",
      "\u001b[0;31mValueError\u001b[0m                                Traceback (most recent call last)",
      "\u001b[0;32m<ipython-input-198-620c88941289>\u001b[0m in \u001b[0;36m<module>\u001b[0;34m\u001b[0m\n\u001b[0;32m----> 1\u001b[0;31m \u001b[0mto\u001b[0m\u001b[0;34m[\u001b[0m\u001b[0;34m'KRXsemiconductor_close'\u001b[0m\u001b[0;34m]\u001b[0m \u001b[0;34m=\u001b[0m \u001b[0mpd\u001b[0m\u001b[0;34m.\u001b[0m\u001b[0mto_numeric\u001b[0m\u001b[0;34m(\u001b[0m\u001b[0mto\u001b[0m\u001b[0;34m[\u001b[0m\u001b[0;34m'KRXsemiconductor_close'\u001b[0m\u001b[0;34m]\u001b[0m\u001b[0;34m)\u001b[0m\u001b[0;34m\u001b[0m\u001b[0;34m\u001b[0m\u001b[0m\n\u001b[0m",
      "\u001b[0;32m~/opt/anaconda3/envs/tf-py36/lib/python3.6/site-packages/pandas/core/tools/numeric.py\u001b[0m in \u001b[0;36mto_numeric\u001b[0;34m(arg, errors, downcast)\u001b[0m\n\u001b[1;32m    149\u001b[0m             \u001b[0mcoerce_numeric\u001b[0m \u001b[0;34m=\u001b[0m \u001b[0merrors\u001b[0m \u001b[0;32mnot\u001b[0m \u001b[0;32min\u001b[0m \u001b[0;34m(\u001b[0m\u001b[0;34m\"ignore\"\u001b[0m\u001b[0;34m,\u001b[0m \u001b[0;34m\"raise\"\u001b[0m\u001b[0;34m)\u001b[0m\u001b[0;34m\u001b[0m\u001b[0;34m\u001b[0m\u001b[0m\n\u001b[1;32m    150\u001b[0m             values = lib.maybe_convert_numeric(\n\u001b[0;32m--> 151\u001b[0;31m                 \u001b[0mvalues\u001b[0m\u001b[0;34m,\u001b[0m \u001b[0mset\u001b[0m\u001b[0;34m(\u001b[0m\u001b[0;34m)\u001b[0m\u001b[0;34m,\u001b[0m \u001b[0mcoerce_numeric\u001b[0m\u001b[0;34m=\u001b[0m\u001b[0mcoerce_numeric\u001b[0m\u001b[0;34m\u001b[0m\u001b[0;34m\u001b[0m\u001b[0m\n\u001b[0m\u001b[1;32m    152\u001b[0m             )\n\u001b[1;32m    153\u001b[0m \u001b[0;34m\u001b[0m\u001b[0m\n",
      "\u001b[0;32mpandas/_libs/lib.pyx\u001b[0m in \u001b[0;36mpandas._libs.lib.maybe_convert_numeric\u001b[0;34m()\u001b[0m\n",
      "\u001b[0;31mValueError\u001b[0m: Unable to parse string \"nan\" at position 5"
     ]
    }
   ],
   "source": [
    "to['KRXsemiconductor_close'] = pd.to_numeric(to['KRXsemiconductor_close'])"
   ]
  },
  {
   "cell_type": "code",
   "execution_count": 199,
   "metadata": {},
   "outputs": [
    {
     "data": {
      "text/plain": [
       "0    1000\n",
       "1    1012\n",
       "2    1007\n",
       "3     991\n",
       "4    1008\n",
       "Name: KRXsemiconductor_close, dtype: object"
      ]
     },
     "execution_count": 199,
     "metadata": {},
     "output_type": "execute_result"
    }
   ],
   "source": [
    "to['KRXsemiconductor_close'].head()"
   ]
  },
  {
   "cell_type": "code",
   "execution_count": 202,
   "metadata": {
    "scrolled": true
   },
   "outputs": [
    {
     "data": {
      "text/plain": [
       "2525     nan\n",
       "3464     nan\n",
       "3450     nan\n",
       "1244     nan\n",
       "1238     nan\n",
       "        ... \n",
       "134     1001\n",
       "16      1000\n",
       "137     1000\n",
       "53      1000\n",
       "0       1000\n",
       "Name: KRXsemiconductor_close, Length: 5051, dtype: object"
      ]
     },
     "execution_count": 202,
     "metadata": {},
     "output_type": "execute_result"
    }
   ],
   "source": [
    "to['KRXsemiconductor_close'].sort_values(ascending = False)"
   ]
  },
  {
   "cell_type": "code",
   "execution_count": 206,
   "metadata": {},
   "outputs": [
    {
     "data": {
      "text/plain": [
       "1632"
      ]
     },
     "execution_count": 206,
     "metadata": {},
     "output_type": "execute_result"
    }
   ],
   "source": [
    "(to['KRXsemiconductor_close'] == 'nan').sum()"
   ]
  },
  {
   "cell_type": "code",
   "execution_count": null,
   "metadata": {},
   "outputs": [],
   "source": []
  }
 ],
 "metadata": {
  "kernelspec": {
   "display_name": "Tensorflow Python 3.6",
   "language": "python",
   "name": "tf-py36"
  },
  "language_info": {
   "codemirror_mode": {
    "name": "ipython",
    "version": 3
   },
   "file_extension": ".py",
   "mimetype": "text/x-python",
   "name": "python",
   "nbconvert_exporter": "python",
   "pygments_lexer": "ipython3",
   "version": "3.6.9"
  }
 },
 "nbformat": 4,
 "nbformat_minor": 2
}
