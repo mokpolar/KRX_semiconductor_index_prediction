{
 "cells": [
  {
   "cell_type": "code",
   "execution_count": 63,
   "metadata": {
    "colab": {
     "base_uri": "https://localhost:8080/",
     "height": 35
    },
    "colab_type": "code",
    "executionInfo": {
     "elapsed": 8300,
     "status": "ok",
     "timestamp": 1581165233995,
     "user": {
      "displayName": "정주영",
      "photoUrl": "",
      "userId": "09017190432009937170"
     },
     "user_tz": -540
    },
    "id": "pDH3fM85_J7y",
    "outputId": "ae49c584-b8ab-432a-bb30-562d610a14c4"
   },
   "outputs": [
    {
     "name": "stdout",
     "output_type": "stream",
     "text": [
      "['/job:localhost/replica:0/task:0/device:GPU:0']\n"
     ]
    }
   ],
   "source": [
    "from IPython.display import display\n",
    "import PIL \n",
    "import keras\n",
    "import tensorflow as tf\n",
    "from keras.wrappers.scikit_learn import KerasRegressor\n",
    "from keras.models import Sequential \n",
    "from keras.layers import Dense, Dropout, Activation, BatchNormalization, GRU\n",
    "from keras.callbacks import EarlyStopping\n",
    "from keras import optimizers\n",
    "from keras import backend as K\n",
    "print(K.tensorflow_backend._get_available_gpus())\n",
    "\n",
    "\n",
    "%matplotlib inline\n",
    "import matplotlib.pyplot as plt\n",
    "import matplotlib as mpl\n",
    "\n",
    "from sklearn.preprocessing import StandardScaler, MinMaxScaler\n",
    "from sklearn.model_selection import train_test_split\n",
    "from sklearn.metrics import accuracy_score, r2_score\n",
    "from sklearn.linear_model import LinearRegression\n",
    "\n",
    "import pandas as pd\n",
    "import numpy as np\n",
    "import os\n",
    "\n",
    "mpl.rcParams['figure.figsize'] = (8, 6)\n",
    "mpl.rcParams['axes.grid'] = False"
   ]
  },
  {
   "cell_type": "code",
   "execution_count": 64,
   "metadata": {
    "colab": {},
    "colab_type": "code",
    "id": "926b2k96C-CT"
   },
   "outputs": [],
   "source": [
    "df = pd.read_csv('original_full_data_2.csv')\n",
    "mmdf = pd.read_csv('bloomberg_map_index_20200318.csv', index_col = 0)"
   ]
  },
  {
   "cell_type": "code",
   "execution_count": 65,
   "metadata": {
    "colab": {
     "base_uri": "https://localhost:8080/",
     "height": 343
    },
    "colab_type": "code",
    "executionInfo": {
     "elapsed": 9840,
     "status": "ok",
     "timestamp": 1581165235715,
     "user": {
      "displayName": "정주영",
      "photoUrl": "",
      "userId": "09017190432009937170"
     },
     "user_tz": -540
    },
    "id": "t4NwRpefDE_J",
    "outputId": "6b58ea8c-e1fd-4772-885e-9489cb084ead"
   },
   "outputs": [
    {
     "data": {
      "text/html": [
       "<div>\n",
       "<style scoped>\n",
       "    .dataframe tbody tr th:only-of-type {\n",
       "        vertical-align: middle;\n",
       "    }\n",
       "\n",
       "    .dataframe tbody tr th {\n",
       "        vertical-align: top;\n",
       "    }\n",
       "\n",
       "    .dataframe thead th {\n",
       "        text-align: right;\n",
       "    }\n",
       "</style>\n",
       "<table border=\"1\" class=\"dataframe\">\n",
       "  <thead>\n",
       "    <tr style=\"text-align: right;\">\n",
       "      <th></th>\n",
       "      <th>date</th>\n",
       "      <th>GDPCQOQIndex</th>\n",
       "      <th>GDPCYOYIndex</th>\n",
       "      <th>GDPCTOTIndex</th>\n",
       "      <th>GPDITOCIndex</th>\n",
       "      <th>GPGSTOCIndex</th>\n",
       "      <th>RGCDCIPIIndex</th>\n",
       "      <th>GDPCUR$Index</th>\n",
       "      <th>GDPCURYIndex</th>\n",
       "      <th>GDPPIQQIndex</th>\n",
       "      <th>...</th>\n",
       "      <th>g16</th>\n",
       "      <th>g32</th>\n",
       "      <th>g64</th>\n",
       "      <th>g128</th>\n",
       "      <th>avg</th>\n",
       "      <th>avg_four</th>\n",
       "      <th>ssd_price</th>\n",
       "      <th>flash_price</th>\n",
       "      <th>option_bit</th>\n",
       "      <th>future_bit</th>\n",
       "    </tr>\n",
       "  </thead>\n",
       "  <tbody>\n",
       "    <tr>\n",
       "      <th>0</th>\n",
       "      <td>1981.1.1</td>\n",
       "      <td>NaN</td>\n",
       "      <td>NaN</td>\n",
       "      <td>NaN</td>\n",
       "      <td>NaN</td>\n",
       "      <td>NaN</td>\n",
       "      <td>NaN</td>\n",
       "      <td>NaN</td>\n",
       "      <td>NaN</td>\n",
       "      <td>NaN</td>\n",
       "      <td>...</td>\n",
       "      <td>NaN</td>\n",
       "      <td>NaN</td>\n",
       "      <td>NaN</td>\n",
       "      <td>NaN</td>\n",
       "      <td>NaN</td>\n",
       "      <td>NaN</td>\n",
       "      <td>NaN</td>\n",
       "      <td>NaN</td>\n",
       "      <td>NaN</td>\n",
       "      <td>NaN</td>\n",
       "    </tr>\n",
       "    <tr>\n",
       "      <th>1</th>\n",
       "      <td>1981.1.2</td>\n",
       "      <td>NaN</td>\n",
       "      <td>NaN</td>\n",
       "      <td>NaN</td>\n",
       "      <td>NaN</td>\n",
       "      <td>NaN</td>\n",
       "      <td>NaN</td>\n",
       "      <td>NaN</td>\n",
       "      <td>NaN</td>\n",
       "      <td>NaN</td>\n",
       "      <td>...</td>\n",
       "      <td>NaN</td>\n",
       "      <td>NaN</td>\n",
       "      <td>NaN</td>\n",
       "      <td>NaN</td>\n",
       "      <td>NaN</td>\n",
       "      <td>NaN</td>\n",
       "      <td>NaN</td>\n",
       "      <td>NaN</td>\n",
       "      <td>NaN</td>\n",
       "      <td>NaN</td>\n",
       "    </tr>\n",
       "    <tr>\n",
       "      <th>2</th>\n",
       "      <td>1981.1.3</td>\n",
       "      <td>NaN</td>\n",
       "      <td>NaN</td>\n",
       "      <td>NaN</td>\n",
       "      <td>NaN</td>\n",
       "      <td>NaN</td>\n",
       "      <td>NaN</td>\n",
       "      <td>NaN</td>\n",
       "      <td>NaN</td>\n",
       "      <td>NaN</td>\n",
       "      <td>...</td>\n",
       "      <td>NaN</td>\n",
       "      <td>NaN</td>\n",
       "      <td>NaN</td>\n",
       "      <td>NaN</td>\n",
       "      <td>NaN</td>\n",
       "      <td>NaN</td>\n",
       "      <td>NaN</td>\n",
       "      <td>NaN</td>\n",
       "      <td>NaN</td>\n",
       "      <td>NaN</td>\n",
       "    </tr>\n",
       "    <tr>\n",
       "      <th>3</th>\n",
       "      <td>1981.1.4</td>\n",
       "      <td>NaN</td>\n",
       "      <td>NaN</td>\n",
       "      <td>NaN</td>\n",
       "      <td>NaN</td>\n",
       "      <td>NaN</td>\n",
       "      <td>NaN</td>\n",
       "      <td>NaN</td>\n",
       "      <td>NaN</td>\n",
       "      <td>NaN</td>\n",
       "      <td>...</td>\n",
       "      <td>NaN</td>\n",
       "      <td>NaN</td>\n",
       "      <td>NaN</td>\n",
       "      <td>NaN</td>\n",
       "      <td>NaN</td>\n",
       "      <td>NaN</td>\n",
       "      <td>NaN</td>\n",
       "      <td>NaN</td>\n",
       "      <td>NaN</td>\n",
       "      <td>NaN</td>\n",
       "    </tr>\n",
       "    <tr>\n",
       "      <th>4</th>\n",
       "      <td>1981.1.5</td>\n",
       "      <td>NaN</td>\n",
       "      <td>NaN</td>\n",
       "      <td>NaN</td>\n",
       "      <td>NaN</td>\n",
       "      <td>NaN</td>\n",
       "      <td>NaN</td>\n",
       "      <td>NaN</td>\n",
       "      <td>NaN</td>\n",
       "      <td>NaN</td>\n",
       "      <td>...</td>\n",
       "      <td>NaN</td>\n",
       "      <td>NaN</td>\n",
       "      <td>NaN</td>\n",
       "      <td>NaN</td>\n",
       "      <td>NaN</td>\n",
       "      <td>NaN</td>\n",
       "      <td>NaN</td>\n",
       "      <td>NaN</td>\n",
       "      <td>NaN</td>\n",
       "      <td>NaN</td>\n",
       "    </tr>\n",
       "  </tbody>\n",
       "</table>\n",
       "<p>5 rows × 417 columns</p>\n",
       "</div>"
      ],
      "text/plain": [
       "       date  GDPCQOQIndex  GDPCYOYIndex  GDPCTOTIndex  GPDITOCIndex  \\\n",
       "0  1981.1.1           NaN           NaN           NaN           NaN   \n",
       "1  1981.1.2           NaN           NaN           NaN           NaN   \n",
       "2  1981.1.3           NaN           NaN           NaN           NaN   \n",
       "3  1981.1.4           NaN           NaN           NaN           NaN   \n",
       "4  1981.1.5           NaN           NaN           NaN           NaN   \n",
       "\n",
       "   GPGSTOCIndex  RGCDCIPIIndex  GDPCUR$Index  GDPCURYIndex  GDPPIQQIndex  ...  \\\n",
       "0           NaN            NaN           NaN           NaN           NaN  ...   \n",
       "1           NaN            NaN           NaN           NaN           NaN  ...   \n",
       "2           NaN            NaN           NaN           NaN           NaN  ...   \n",
       "3           NaN            NaN           NaN           NaN           NaN  ...   \n",
       "4           NaN            NaN           NaN           NaN           NaN  ...   \n",
       "\n",
       "   g16  g32  g64  g128  avg  avg_four  ssd_price  flash_price  option_bit  \\\n",
       "0  NaN  NaN  NaN   NaN  NaN       NaN        NaN          NaN         NaN   \n",
       "1  NaN  NaN  NaN   NaN  NaN       NaN        NaN          NaN         NaN   \n",
       "2  NaN  NaN  NaN   NaN  NaN       NaN        NaN          NaN         NaN   \n",
       "3  NaN  NaN  NaN   NaN  NaN       NaN        NaN          NaN         NaN   \n",
       "4  NaN  NaN  NaN   NaN  NaN       NaN        NaN          NaN         NaN   \n",
       "\n",
       "   future_bit  \n",
       "0         NaN  \n",
       "1         NaN  \n",
       "2         NaN  \n",
       "3         NaN  \n",
       "4         NaN  \n",
       "\n",
       "[5 rows x 417 columns]"
      ]
     },
     "execution_count": 65,
     "metadata": {},
     "output_type": "execute_result"
    }
   ],
   "source": [
    "df.head()"
   ]
  },
  {
   "cell_type": "code",
   "execution_count": 66,
   "metadata": {
    "colab": {
     "base_uri": "https://localhost:8080/",
     "height": 35
    },
    "colab_type": "code",
    "executionInfo": {
     "elapsed": 7774,
     "status": "ok",
     "timestamp": 1581165235716,
     "user": {
      "displayName": "정주영",
      "photoUrl": "",
      "userId": "09017190432009937170"
     },
     "user_tz": -540
    },
    "id": "13-76RFGFBg9",
    "outputId": "4aaf548c-df81-4662-f5c4-d6f6c9febce3"
   },
   "outputs": [],
   "source": [
    "df = df.loc[9132 :, :]"
   ]
  },
  {
   "cell_type": "code",
   "execution_count": 67,
   "metadata": {},
   "outputs": [
    {
     "data": {
      "text/plain": [
       "5051"
      ]
     },
     "execution_count": 67,
     "metadata": {},
     "output_type": "execute_result"
    }
   ],
   "source": [
    "len(df)"
   ]
  },
  {
   "cell_type": "code",
   "execution_count": 68,
   "metadata": {},
   "outputs": [],
   "source": [
    "df.reset_index(inplace = True, drop = True)"
   ]
  },
  {
   "cell_type": "code",
   "execution_count": 69,
   "metadata": {},
   "outputs": [],
   "source": [
    "# Class generates derived variables & shifting target variable\n",
    "\n",
    "class Builder:\n",
    "\n",
    "    def __init__(self, input_df, map_df, target_day):\n",
    "        self.df = input_df\n",
    "        self.mdf = map_df\n",
    "        self.lag_days = [1, 5, 20, 60, 120, 260] # lagging day variation [1day 1week 1month 3month 6month 1year]\n",
    "        self.target_day = target_day # ex) 1, 260\n",
    "\n",
    "\n",
    "    # shifting function\n",
    "\n",
    "    def targeter(self, target_column):\n",
    "        self.df[target_column] = ((self.df[target_column] / self.df[target_column].shift(periods = self.target_day, axis = 0))-1).shift(-1*int(self.target_day))\n",
    "\n",
    "        return self.df\n",
    "    \n",
    "    # generating derived columns function : return ex) 20060107/20060101\n",
    "\n",
    "    def returner(self, target_column):      \n",
    "\n",
    "        col_name =  []\n",
    "        # creating new column name\n",
    "        for i in self.lag_days:\n",
    "            col_name.append(target_column + str(i))\n",
    "            \n",
    "        # appending lagged columns\n",
    "        for i, j in enumerate(self.lag_days):\n",
    "            self.df[locals()['col_name'][i]] = (self.df[target_column] / self.df[target_column].shift(periods = j, axis = 0))-1 # 여기에 1을 뺀걸 추가하면 되는거아닌가? 1.얼만에서 1이 빠진거니까\n",
    "\n",
    "        return self.df \n",
    "\n",
    "    # generating derived function : minus ex) 20060107 - 20060101\n",
    "    \n",
    "    def differ(self, target_column):\n",
    "\n",
    "        col_name = []\n",
    "        for i in self.lag_days:\n",
    "            col_name.append(target_column + str(i))\n",
    "        for i, j in enumerate(self.lag_days):\n",
    "            self.df[locals()['col_name'][i]] = self.df[target_column] - self.df[target_column].shift(periods = j, axis = 0)\n",
    "        return self.df\n",
    "\n",
    "    # generating derived function : volume * close  -> convert to return \n",
    "\n",
    "    def producter(self, target_column):\n",
    "\n",
    "        col_name = (str(target_column).split('_'))[0]       \n",
    "        self.df[locals()['col_name'] + '_product'] = self.df[col_name + '_volume'] * self.df[col_name + '_close'] # j volume과 j close를 곱해서 \n",
    "\n",
    "        return self.df\n",
    "    \n",
    "    # executing functions\n",
    "    \n",
    "    def execution(self):\n",
    "        for i, j in enumerate(self.mdf['ticker']): # mdf에서 ticker 확인\n",
    "            if j in self.df.columns:\n",
    "                if self.mdf.loc[i, :][1] == 'product':  # key값이 product인 경우\n",
    "                    self.producter(j)\n",
    "                    col = str(j).split('_')[0]\n",
    "                    self.df[col + '_product'] = self.df[col + '_product'] / self.df[col + '_product'].shift(1)\n",
    "                    \n",
    "                elif self.mdf.loc[i, :][1] == 'minus': # key값이 minus인 경우\n",
    "                    self.differ(j)\n",
    "\n",
    "                elif self.mdf.loc[i, :][1] == 'change': # key값이 change인 경우\n",
    "                    self.returner(j)\n",
    "\n",
    "\n",
    "                elif self.mdf.loc[i, :][1] == 'target': # key값이 target인 경우 (현재 KRXsemiconductor_change)\n",
    "                    self.targeter(j)\n",
    "\n",
    "                else:\n",
    "                    pass\n",
    "            else:\n",
    "                pass\n",
    "                            \n",
    "        return self.df\n",
    "\n",
    "\n",
    "    # side : creating auto correlation graph function\n",
    "\n",
    "    def acf_cal(self, target):\n",
    "        data = pd.DataFrame(self.df[target])\n",
    "        data = data.interpolate(method = 'cubic', limit_area = 'inside').fillna(method = 'ffill').fillna(method = 'bfill')\n",
    "        acf = sm.tsa.acf(data)      \n",
    "        plt.stem(acf)\n",
    "        plt.show()"
   ]
  },
  {
   "cell_type": "code",
   "execution_count": 70,
   "metadata": {},
   "outputs": [],
   "source": [
    "# metric 구성\n",
    "\n",
    "from sklearn.metrics import mean_squared_error, r2_score, mean_absolute_error, accuracy_score\n",
    "\n",
    "class CustomMetric():\n",
    "\n",
    "    def __init__(self, pred, real):\n",
    "            self.pred = pred\n",
    "            self.real = real\n",
    "            self.thr25 = np.percentile(self.real, 25)\n",
    "            self.thr75 = np.percentile(self.real, 75)\n",
    "            self.df = pd.DataFrame({'pred' : self.pred, 'real' : self.real})\n",
    "        \n",
    "    def issame(self, data1, data2):\n",
    "        if data1 > 0 and data2 > 0 : \n",
    "            return 'T'\n",
    "        elif data1 > 0 and data2 < 0 :\n",
    "            return 'F'\n",
    "        elif data1 < 0 and data2 > 0 :\n",
    "            return 'F'\n",
    "        elif data1 < 0 and data2 < 0 :\n",
    "            return 'T'\n",
    "        elif data1 == 0 or data2 == 0 :\n",
    "            return 0\n",
    "        else :\n",
    "            return 'notcal'\n",
    "\n",
    "    def getouter(self, data1, data2): #quantile_25 = np.percentile(values, 25)\n",
    "\n",
    "        if data1 > 0 and data2 >= self.thr75 :\n",
    "            return 'T'\n",
    "        elif data1 < 0 and data2 <= self.thr25 :\n",
    "            return 'T'\n",
    "        elif data1 >= 0 and data2 <= self.thr25 :\n",
    "            return 'F'\n",
    "        elif data1 <= 0 and data2 >= self.thr75: \n",
    "            return 'F'\n",
    "        else:\n",
    "            return 'notcal'\n",
    "        \n",
    "    def makedf(self):\n",
    "        self.df['TF'] = self.df.apply(lambda x : self.issame(x['pred'], x['real']), axis = 1)\n",
    "        self.df['thrTF'] = self.df.apply(lambda x : self.getouter(x['pred'], x['real']), axis = 1)\n",
    "        \n",
    "        return self.df\n",
    "        \n",
    "    def execution(self):\n",
    "        mdf = pd.DataFrame()\n",
    "        mdf['CORR'] = [self.df['real'].corr(self.df['pred'], method = 'pearson')]\n",
    "        mdf['R2'] = [\"{0:0.4f}\".format(r2_score(self.df['real'], self.df['pred']))]\n",
    "        mdf['MAE'] = [\"{0:0.4f}\".format(mean_absolute_error(self.df['pred'], self.df['real']))]\n",
    "        mdf['RMSE'] = [\"{0:0.4f}\".format(np.sqrt(mean_squared_error(self.df['pred'], self.df['real'])))]\n",
    "        mdf['ACR'] = [sum(self.df['TF'] == 'T')/len(self.df['TF'])]\n",
    "        \n",
    "        mdf['threshACR'] = [sum(self.df['thrTF'] == 'T') / sum(self.df['thrTF'] != 'notcal')]\n",
    "        \n",
    "        return mdf     "
   ]
  },
  {
   "cell_type": "code",
   "execution_count": 71,
   "metadata": {},
   "outputs": [],
   "source": [
    "df['date'] = pd.to_datetime(df['date'])\n",
    "df.set_index('date', inplace = True)"
   ]
  },
  {
   "cell_type": "code",
   "execution_count": 72,
   "metadata": {},
   "outputs": [],
   "source": [
    "# fillna cubic -> ffill -> bfill\n",
    "\n",
    "df = df.interpolate(method = 'cubic', limit_area = 'inside')\n",
    "df = df.fillna(method = 'ffill')\n",
    "df = df.fillna(method = 'bfill')"
   ]
  },
  {
   "cell_type": "code",
   "execution_count": 73,
   "metadata": {},
   "outputs": [
    {
     "data": {
      "text/plain": [
       "0"
      ]
     },
     "execution_count": 73,
     "metadata": {},
     "output_type": "execute_result"
    }
   ],
   "source": [
    "df.isna().sum().sum()"
   ]
  },
  {
   "cell_type": "code",
   "execution_count": 74,
   "metadata": {},
   "outputs": [],
   "source": [
    "cla = Builder(df, mmdf, 260)"
   ]
  },
  {
   "cell_type": "code",
   "execution_count": 75,
   "metadata": {},
   "outputs": [
    {
     "data": {
      "text/html": [
       "<div>\n",
       "<style scoped>\n",
       "    .dataframe tbody tr th:only-of-type {\n",
       "        vertical-align: middle;\n",
       "    }\n",
       "\n",
       "    .dataframe tbody tr th {\n",
       "        vertical-align: top;\n",
       "    }\n",
       "\n",
       "    .dataframe thead th {\n",
       "        text-align: right;\n",
       "    }\n",
       "</style>\n",
       "<table border=\"1\" class=\"dataframe\">\n",
       "  <thead>\n",
       "    <tr style=\"text-align: right;\">\n",
       "      <th></th>\n",
       "      <th>GDPCQOQIndex</th>\n",
       "      <th>GDPCYOYIndex</th>\n",
       "      <th>GDPCTOTIndex</th>\n",
       "      <th>GPDITOCIndex</th>\n",
       "      <th>GPGSTOCIndex</th>\n",
       "      <th>RGCDCIPIIndex</th>\n",
       "      <th>GDPCUR$Index</th>\n",
       "      <th>GDPCURYIndex</th>\n",
       "      <th>GDPPIQQIndex</th>\n",
       "      <th>GDPCPCECIndex</th>\n",
       "      <th>...</th>\n",
       "      <th>Philadelphia_product</th>\n",
       "      <th>QCOM_product</th>\n",
       "      <th>SamsungElectronics_product</th>\n",
       "      <th>ShinEtsuChemical_product</th>\n",
       "      <th>Siltronic_product</th>\n",
       "      <th>SKhynix_product</th>\n",
       "      <th>Sumco_product</th>\n",
       "      <th>TokyoElectron_product</th>\n",
       "      <th>TSMC_product</th>\n",
       "      <th>UMC_product</th>\n",
       "    </tr>\n",
       "    <tr>\n",
       "      <th>date</th>\n",
       "      <th></th>\n",
       "      <th></th>\n",
       "      <th></th>\n",
       "      <th></th>\n",
       "      <th></th>\n",
       "      <th></th>\n",
       "      <th></th>\n",
       "      <th></th>\n",
       "      <th></th>\n",
       "      <th></th>\n",
       "      <th></th>\n",
       "      <th></th>\n",
       "      <th></th>\n",
       "      <th></th>\n",
       "      <th></th>\n",
       "      <th></th>\n",
       "      <th></th>\n",
       "      <th></th>\n",
       "      <th></th>\n",
       "      <th></th>\n",
       "      <th></th>\n",
       "    </tr>\n",
       "  </thead>\n",
       "  <tbody>\n",
       "    <tr>\n",
       "      <th>2006-01-02</th>\n",
       "      <td>5.4</td>\n",
       "      <td>3.4</td>\n",
       "      <td>4.5</td>\n",
       "      <td>6.1</td>\n",
       "      <td>5.2</td>\n",
       "      <td>102.7</td>\n",
       "      <td>13603.93</td>\n",
       "      <td>6.6</td>\n",
       "      <td>2.8</td>\n",
       "      <td>2.3</td>\n",
       "      <td>...</td>\n",
       "      <td>NaN</td>\n",
       "      <td>NaN</td>\n",
       "      <td>NaN</td>\n",
       "      <td>NaN</td>\n",
       "      <td>NaN</td>\n",
       "      <td>NaN</td>\n",
       "      <td>NaN</td>\n",
       "      <td>NaN</td>\n",
       "      <td>NaN</td>\n",
       "      <td>NaN</td>\n",
       "    </tr>\n",
       "    <tr>\n",
       "      <th>2006-01-03</th>\n",
       "      <td>5.4</td>\n",
       "      <td>3.4</td>\n",
       "      <td>4.5</td>\n",
       "      <td>6.1</td>\n",
       "      <td>5.2</td>\n",
       "      <td>102.7</td>\n",
       "      <td>13603.93</td>\n",
       "      <td>6.6</td>\n",
       "      <td>2.8</td>\n",
       "      <td>2.3</td>\n",
       "      <td>...</td>\n",
       "      <td>1.000000</td>\n",
       "      <td>1.000000</td>\n",
       "      <td>0.862009</td>\n",
       "      <td>1.000000</td>\n",
       "      <td>1.000000</td>\n",
       "      <td>1.048766</td>\n",
       "      <td>1.000000</td>\n",
       "      <td>1.000000</td>\n",
       "      <td>1.000000</td>\n",
       "      <td>1.000000</td>\n",
       "    </tr>\n",
       "    <tr>\n",
       "      <th>2006-01-04</th>\n",
       "      <td>5.4</td>\n",
       "      <td>3.4</td>\n",
       "      <td>4.5</td>\n",
       "      <td>6.1</td>\n",
       "      <td>5.2</td>\n",
       "      <td>102.7</td>\n",
       "      <td>13603.93</td>\n",
       "      <td>6.6</td>\n",
       "      <td>2.8</td>\n",
       "      <td>2.3</td>\n",
       "      <td>...</td>\n",
       "      <td>0.967923</td>\n",
       "      <td>1.097724</td>\n",
       "      <td>2.307115</td>\n",
       "      <td>1.000000</td>\n",
       "      <td>1.000000</td>\n",
       "      <td>1.549763</td>\n",
       "      <td>1.000000</td>\n",
       "      <td>1.000000</td>\n",
       "      <td>0.788606</td>\n",
       "      <td>0.581332</td>\n",
       "    </tr>\n",
       "    <tr>\n",
       "      <th>2006-01-05</th>\n",
       "      <td>5.4</td>\n",
       "      <td>3.4</td>\n",
       "      <td>4.5</td>\n",
       "      <td>6.1</td>\n",
       "      <td>5.2</td>\n",
       "      <td>102.7</td>\n",
       "      <td>13603.93</td>\n",
       "      <td>6.6</td>\n",
       "      <td>2.8</td>\n",
       "      <td>2.3</td>\n",
       "      <td>...</td>\n",
       "      <td>1.168471</td>\n",
       "      <td>0.642743</td>\n",
       "      <td>0.878133</td>\n",
       "      <td>1.000000</td>\n",
       "      <td>1.000000</td>\n",
       "      <td>0.913503</td>\n",
       "      <td>1.000000</td>\n",
       "      <td>4.149537</td>\n",
       "      <td>0.835657</td>\n",
       "      <td>2.780952</td>\n",
       "    </tr>\n",
       "    <tr>\n",
       "      <th>2006-01-06</th>\n",
       "      <td>5.4</td>\n",
       "      <td>3.4</td>\n",
       "      <td>4.5</td>\n",
       "      <td>6.1</td>\n",
       "      <td>5.2</td>\n",
       "      <td>102.7</td>\n",
       "      <td>13603.93</td>\n",
       "      <td>6.6</td>\n",
       "      <td>2.8</td>\n",
       "      <td>2.3</td>\n",
       "      <td>...</td>\n",
       "      <td>1.047620</td>\n",
       "      <td>2.572150</td>\n",
       "      <td>0.504080</td>\n",
       "      <td>1.000000</td>\n",
       "      <td>1.000000</td>\n",
       "      <td>0.596882</td>\n",
       "      <td>1.000000</td>\n",
       "      <td>1.117321</td>\n",
       "      <td>1.553101</td>\n",
       "      <td>1.545230</td>\n",
       "    </tr>\n",
       "    <tr>\n",
       "      <th>...</th>\n",
       "      <td>...</td>\n",
       "      <td>...</td>\n",
       "      <td>...</td>\n",
       "      <td>...</td>\n",
       "      <td>...</td>\n",
       "      <td>...</td>\n",
       "      <td>...</td>\n",
       "      <td>...</td>\n",
       "      <td>...</td>\n",
       "      <td>...</td>\n",
       "      <td>...</td>\n",
       "      <td>...</td>\n",
       "      <td>...</td>\n",
       "      <td>...</td>\n",
       "      <td>...</td>\n",
       "      <td>...</td>\n",
       "      <td>...</td>\n",
       "      <td>...</td>\n",
       "      <td>...</td>\n",
       "      <td>...</td>\n",
       "      <td>...</td>\n",
       "    </tr>\n",
       "    <tr>\n",
       "      <th>2019-10-27</th>\n",
       "      <td>1.9</td>\n",
       "      <td>2.0</td>\n",
       "      <td>2.9</td>\n",
       "      <td>-1.5</td>\n",
       "      <td>2.0</td>\n",
       "      <td>69.0</td>\n",
       "      <td>21525.82</td>\n",
       "      <td>3.7</td>\n",
       "      <td>1.7</td>\n",
       "      <td>2.2</td>\n",
       "      <td>...</td>\n",
       "      <td>0.954025</td>\n",
       "      <td>1.223596</td>\n",
       "      <td>-7.016632</td>\n",
       "      <td>1.443049</td>\n",
       "      <td>0.882592</td>\n",
       "      <td>0.724875</td>\n",
       "      <td>0.591650</td>\n",
       "      <td>1.185079</td>\n",
       "      <td>0.728242</td>\n",
       "      <td>8.957344</td>\n",
       "    </tr>\n",
       "    <tr>\n",
       "      <th>2019-10-28</th>\n",
       "      <td>1.9</td>\n",
       "      <td>2.0</td>\n",
       "      <td>2.9</td>\n",
       "      <td>-1.5</td>\n",
       "      <td>2.0</td>\n",
       "      <td>69.0</td>\n",
       "      <td>21525.82</td>\n",
       "      <td>3.7</td>\n",
       "      <td>1.7</td>\n",
       "      <td>2.2</td>\n",
       "      <td>...</td>\n",
       "      <td>0.988696</td>\n",
       "      <td>0.869484</td>\n",
       "      <td>3.268112</td>\n",
       "      <td>0.911087</td>\n",
       "      <td>0.984864</td>\n",
       "      <td>0.598464</td>\n",
       "      <td>0.436636</td>\n",
       "      <td>1.103782</td>\n",
       "      <td>1.596400</td>\n",
       "      <td>-4.887075</td>\n",
       "    </tr>\n",
       "    <tr>\n",
       "      <th>2019-10-29</th>\n",
       "      <td>1.9</td>\n",
       "      <td>2.0</td>\n",
       "      <td>2.9</td>\n",
       "      <td>-1.5</td>\n",
       "      <td>2.0</td>\n",
       "      <td>69.0</td>\n",
       "      <td>21525.82</td>\n",
       "      <td>3.7</td>\n",
       "      <td>1.7</td>\n",
       "      <td>2.2</td>\n",
       "      <td>...</td>\n",
       "      <td>1.023202</td>\n",
       "      <td>0.493114</td>\n",
       "      <td>1.174228</td>\n",
       "      <td>0.410159</td>\n",
       "      <td>1.089446</td>\n",
       "      <td>0.832789</td>\n",
       "      <td>1.231150</td>\n",
       "      <td>1.131356</td>\n",
       "      <td>1.864625</td>\n",
       "      <td>2.523049</td>\n",
       "    </tr>\n",
       "    <tr>\n",
       "      <th>2019-10-30</th>\n",
       "      <td>1.9</td>\n",
       "      <td>2.0</td>\n",
       "      <td>2.9</td>\n",
       "      <td>-1.5</td>\n",
       "      <td>2.0</td>\n",
       "      <td>69.0</td>\n",
       "      <td>21525.82</td>\n",
       "      <td>3.7</td>\n",
       "      <td>1.7</td>\n",
       "      <td>2.2</td>\n",
       "      <td>...</td>\n",
       "      <td>0.925346</td>\n",
       "      <td>0.793448</td>\n",
       "      <td>1.165541</td>\n",
       "      <td>0.758679</td>\n",
       "      <td>1.083804</td>\n",
       "      <td>1.150234</td>\n",
       "      <td>0.694483</td>\n",
       "      <td>1.647300</td>\n",
       "      <td>0.877406</td>\n",
       "      <td>0.370442</td>\n",
       "    </tr>\n",
       "    <tr>\n",
       "      <th>2019-10-31</th>\n",
       "      <td>1.9</td>\n",
       "      <td>2.0</td>\n",
       "      <td>2.9</td>\n",
       "      <td>-1.5</td>\n",
       "      <td>2.0</td>\n",
       "      <td>69.0</td>\n",
       "      <td>21525.82</td>\n",
       "      <td>3.7</td>\n",
       "      <td>1.7</td>\n",
       "      <td>2.2</td>\n",
       "      <td>...</td>\n",
       "      <td>1.120675</td>\n",
       "      <td>1.415651</td>\n",
       "      <td>1.150159</td>\n",
       "      <td>2.028561</td>\n",
       "      <td>1.141342</td>\n",
       "      <td>1.033135</td>\n",
       "      <td>1.118354</td>\n",
       "      <td>1.453485</td>\n",
       "      <td>1.324952</td>\n",
       "      <td>2.656823</td>\n",
       "    </tr>\n",
       "  </tbody>\n",
       "</table>\n",
       "<p>5051 rows × 1138 columns</p>\n",
       "</div>"
      ],
      "text/plain": [
       "            GDPCQOQIndex  GDPCYOYIndex  GDPCTOTIndex  GPDITOCIndex  \\\n",
       "date                                                                 \n",
       "2006-01-02           5.4           3.4           4.5           6.1   \n",
       "2006-01-03           5.4           3.4           4.5           6.1   \n",
       "2006-01-04           5.4           3.4           4.5           6.1   \n",
       "2006-01-05           5.4           3.4           4.5           6.1   \n",
       "2006-01-06           5.4           3.4           4.5           6.1   \n",
       "...                  ...           ...           ...           ...   \n",
       "2019-10-27           1.9           2.0           2.9          -1.5   \n",
       "2019-10-28           1.9           2.0           2.9          -1.5   \n",
       "2019-10-29           1.9           2.0           2.9          -1.5   \n",
       "2019-10-30           1.9           2.0           2.9          -1.5   \n",
       "2019-10-31           1.9           2.0           2.9          -1.5   \n",
       "\n",
       "            GPGSTOCIndex  RGCDCIPIIndex  GDPCUR$Index  GDPCURYIndex  \\\n",
       "date                                                                  \n",
       "2006-01-02           5.2          102.7      13603.93           6.6   \n",
       "2006-01-03           5.2          102.7      13603.93           6.6   \n",
       "2006-01-04           5.2          102.7      13603.93           6.6   \n",
       "2006-01-05           5.2          102.7      13603.93           6.6   \n",
       "2006-01-06           5.2          102.7      13603.93           6.6   \n",
       "...                  ...            ...           ...           ...   \n",
       "2019-10-27           2.0           69.0      21525.82           3.7   \n",
       "2019-10-28           2.0           69.0      21525.82           3.7   \n",
       "2019-10-29           2.0           69.0      21525.82           3.7   \n",
       "2019-10-30           2.0           69.0      21525.82           3.7   \n",
       "2019-10-31           2.0           69.0      21525.82           3.7   \n",
       "\n",
       "            GDPPIQQIndex  GDPCPCECIndex  ...  Philadelphia_product  \\\n",
       "date                                     ...                         \n",
       "2006-01-02           2.8            2.3  ...                   NaN   \n",
       "2006-01-03           2.8            2.3  ...              1.000000   \n",
       "2006-01-04           2.8            2.3  ...              0.967923   \n",
       "2006-01-05           2.8            2.3  ...              1.168471   \n",
       "2006-01-06           2.8            2.3  ...              1.047620   \n",
       "...                  ...            ...  ...                   ...   \n",
       "2019-10-27           1.7            2.2  ...              0.954025   \n",
       "2019-10-28           1.7            2.2  ...              0.988696   \n",
       "2019-10-29           1.7            2.2  ...              1.023202   \n",
       "2019-10-30           1.7            2.2  ...              0.925346   \n",
       "2019-10-31           1.7            2.2  ...              1.120675   \n",
       "\n",
       "            QCOM_product  SamsungElectronics_product  \\\n",
       "date                                                   \n",
       "2006-01-02           NaN                         NaN   \n",
       "2006-01-03      1.000000                    0.862009   \n",
       "2006-01-04      1.097724                    2.307115   \n",
       "2006-01-05      0.642743                    0.878133   \n",
       "2006-01-06      2.572150                    0.504080   \n",
       "...                  ...                         ...   \n",
       "2019-10-27      1.223596                   -7.016632   \n",
       "2019-10-28      0.869484                    3.268112   \n",
       "2019-10-29      0.493114                    1.174228   \n",
       "2019-10-30      0.793448                    1.165541   \n",
       "2019-10-31      1.415651                    1.150159   \n",
       "\n",
       "            ShinEtsuChemical_product  Siltronic_product  SKhynix_product  \\\n",
       "date                                                                       \n",
       "2006-01-02                       NaN                NaN              NaN   \n",
       "2006-01-03                  1.000000           1.000000         1.048766   \n",
       "2006-01-04                  1.000000           1.000000         1.549763   \n",
       "2006-01-05                  1.000000           1.000000         0.913503   \n",
       "2006-01-06                  1.000000           1.000000         0.596882   \n",
       "...                              ...                ...              ...   \n",
       "2019-10-27                  1.443049           0.882592         0.724875   \n",
       "2019-10-28                  0.911087           0.984864         0.598464   \n",
       "2019-10-29                  0.410159           1.089446         0.832789   \n",
       "2019-10-30                  0.758679           1.083804         1.150234   \n",
       "2019-10-31                  2.028561           1.141342         1.033135   \n",
       "\n",
       "            Sumco_product  TokyoElectron_product  TSMC_product  UMC_product  \n",
       "date                                                                         \n",
       "2006-01-02            NaN                    NaN           NaN          NaN  \n",
       "2006-01-03       1.000000               1.000000      1.000000     1.000000  \n",
       "2006-01-04       1.000000               1.000000      0.788606     0.581332  \n",
       "2006-01-05       1.000000               4.149537      0.835657     2.780952  \n",
       "2006-01-06       1.000000               1.117321      1.553101     1.545230  \n",
       "...                   ...                    ...           ...          ...  \n",
       "2019-10-27       0.591650               1.185079      0.728242     8.957344  \n",
       "2019-10-28       0.436636               1.103782      1.596400    -4.887075  \n",
       "2019-10-29       1.231150               1.131356      1.864625     2.523049  \n",
       "2019-10-30       0.694483               1.647300      0.877406     0.370442  \n",
       "2019-10-31       1.118354               1.453485      1.324952     2.656823  \n",
       "\n",
       "[5051 rows x 1138 columns]"
      ]
     },
     "execution_count": 75,
     "metadata": {},
     "output_type": "execute_result"
    }
   ],
   "source": [
    "cla.execution()"
   ]
  },
  {
   "cell_type": "code",
   "execution_count": 76,
   "metadata": {},
   "outputs": [],
   "source": [
    "df = cla.df.fillna(method = 'ffill').fillna(method = 'bfill')"
   ]
  },
  {
   "cell_type": "code",
   "execution_count": 79,
   "metadata": {},
   "outputs": [
    {
     "data": {
      "text/plain": [
       "<matplotlib.axes._subplots.AxesSubplot at 0x209f276c908>"
      ]
     },
     "execution_count": 79,
     "metadata": {},
     "output_type": "execute_result"
    },
    {
     "data": {
      "image/png": "[encoded data removed]",
      "text/plain": [
       "<Figure size 576x432 with 1 Axes>"
      ]
     },
     "metadata": {
      "needs_background": "light"
     },
     "output_type": "display_data"
    }
   ],
   "source": [
    "df['KRXsemiconductor_close'].plot()"
   ]
  },
  {
   "cell_type": "code",
   "execution_count": 78,
   "metadata": {},
   "outputs": [],
   "source": [
    "df = df[0:4791]"
   ]
  },
  {
   "cell_type": "code",
   "execution_count": 80,
   "metadata": {},
   "outputs": [],
   "source": [
    "df.reset_index(inplace = True)"
   ]
  },
  {
   "cell_type": "code",
   "execution_count": 81,
   "metadata": {},
   "outputs": [
    {
     "data": {
      "text/plain": [
       "4791"
      ]
     },
     "execution_count": 81,
     "metadata": {},
     "output_type": "execute_result"
    }
   ],
   "source": [
    "len(df)"
   ]
  },
  {
   "cell_type": "code",
   "execution_count": 82,
   "metadata": {},
   "outputs": [
    {
     "data": {
      "text/plain": [
       "1139"
      ]
     },
     "execution_count": 82,
     "metadata": {},
     "output_type": "execute_result"
    }
   ],
   "source": [
    "len(df.columns)"
   ]
  },
  {
   "cell_type": "code",
   "execution_count": 83,
   "metadata": {},
   "outputs": [],
   "source": [
    "# 전 변수 쓰는 것으로 . 그래서 feaature는 그대로 \n",
    "feature_considered = ['OEKRKLARIndex1', 'SKLIWNRSIndex260', 'MediaTek_close', 'TokyoElectron_close', 'SKLIEMPPIndex260', 'KOBONTLIndex260', 'SKLISVCIIndex60', 'KOUETTYIndex', 'KOQEEYOYIndex', 'FRNTTOTLIndex', 'KOFETOTIndex1', 'CONSSENTIndex60', 'GDPCPCECIndex', 'SKLIIMPTIndex1', 'LEIAVGWIndex120', 'KOBPCBIndex20', 'pbr', 'KOWDRIndex1', 'PCEDEFYIndex', 'CPMINEXOIndex20', 'NAPMNMIIndex20', 'NAPMNMIIndex1', 'EMPRGBCIIndex120', 'KOSPI200_change', 'SKLICONTIndex20', 'CPMINDXIndex20', 'CHALYOYIndex', 'KOEXTOTIndex260', 'KOWDRIndex60', 'SKLISVCIIndex120', 'SKLILCIndex1', 'KOBPCBIndex5', 'CICRTOTIndex1', 'USEMNCHGIndex', 'Nuvoton_change', 'KOBPCBIndex1', 'USTBEXPIndex260', 'EMPRGBCIIndex20', 'CHPMINDXIndex20', 'JOLTSEPSIndex', 'CNCILIIndex20', 'CNCILIIndex1', 'CNCILIIndex5', 'OUTFGAFIndex1', 'AWHTOTLIndex1', 'KOIPMYIndex', 'Intel_change', 'Amazon_product', 'PIDSPINXIndex60', 'AppliedMaterials_product', 'APPLE_change', 'ISECloudComputingIndex_change', 'ShinEtsuChemical_volume', 'QCOM_change', 'INJCJCIndex5', 'KOCGCGYIndex', 'Amazon_change', 'SKLINEIndex1', 'LEIACEIndex120', 'SKhynix_change', 'UMC_change', 'HPE_product', 'Google_change', 'TokyoElectron_product', 'CFNAIIndex5', 'CFNAIIndex20']\n",
    "target_considered = ['KRXsemiconductor_close']"
   ]
  },
  {
   "cell_type": "code",
   "execution_count": 84,
   "metadata": {},
   "outputs": [],
   "source": [
    "features = df[feature_considered]\n",
    "targets = df[target_considered]"
   ]
  },
  {
   "cell_type": "code",
   "execution_count": 85,
   "metadata": {},
   "outputs": [],
   "source": [
    "#features = df.drop(['date', 'KRXsemiconductor_change'], axis = 1)"
   ]
  },
  {
   "cell_type": "code",
   "execution_count": 86,
   "metadata": {
    "colab": {},
    "colab_type": "code",
    "id": "BtCzPrLXPQYN"
   },
   "outputs": [],
   "source": [
    "features.index = df['date']\n",
    "targets.index = df['date']"
   ]
  },
  {
   "cell_type": "code",
   "execution_count": 87,
   "metadata": {},
   "outputs": [
    {
     "data": {
      "text/plain": [
       "66"
      ]
     },
     "execution_count": 87,
     "metadata": {},
     "output_type": "execute_result"
    }
   ],
   "source": [
    "len(features.columns)"
   ]
  },
  {
   "cell_type": "code",
   "execution_count": 88,
   "metadata": {},
   "outputs": [],
   "source": [
    "#features.drop(['KRXsemiconductor_close', 'KRXsemiconductor_volume','SamsungElectronics_product'], axis =1 , inplace = True)"
   ]
  },
  {
   "cell_type": "code",
   "execution_count": 89,
   "metadata": {},
   "outputs": [],
   "source": [
    "col_name = features.columns\n",
    "dataset = StandardScaler().fit_transform(features)# Standard Scaler , drop Samsung electronics product\n",
    "dataset = pd.DataFrame(dataset, columns = col_name)"
   ]
  },
  {
   "cell_type": "code",
   "execution_count": 90,
   "metadata": {},
   "outputs": [],
   "source": [
    "X_data = dataset"
   ]
  },
  {
   "cell_type": "code",
   "execution_count": 91,
   "metadata": {},
   "outputs": [],
   "source": [
    "y_target = targets"
   ]
  },
  {
   "cell_type": "code",
   "execution_count": 92,
   "metadata": {},
   "outputs": [
    {
     "data": {
      "text/plain": [
       "(4791, 4791)"
      ]
     },
     "execution_count": 92,
     "metadata": {},
     "output_type": "execute_result"
    }
   ],
   "source": [
    "len(X_data), len(y_target)"
   ]
  },
  {
   "cell_type": "code",
   "execution_count": 93,
   "metadata": {},
   "outputs": [],
   "source": [
    "X_train, X_test, y_train, y_test = train_test_split(X_data, y_target, test_size = 0.2, shuffle = False)"
   ]
  },
  {
   "cell_type": "code",
   "execution_count": 94,
   "metadata": {},
   "outputs": [],
   "source": [
    "X_train = X_train.values"
   ]
  },
  {
   "cell_type": "code",
   "execution_count": 95,
   "metadata": {},
   "outputs": [],
   "source": [
    "y_train = y_train.values"
   ]
  },
  {
   "cell_type": "code",
   "execution_count": 96,
   "metadata": {},
   "outputs": [],
   "source": [
    "X_test = X_test.values"
   ]
  },
  {
   "cell_type": "code",
   "execution_count": 97,
   "metadata": {},
   "outputs": [],
   "source": [
    "y_test = y_test.values"
   ]
  },
  {
   "cell_type": "code",
   "execution_count": 98,
   "metadata": {},
   "outputs": [
    {
     "data": {
      "text/plain": [
       "(4791, 66)"
      ]
     },
     "execution_count": 98,
     "metadata": {},
     "output_type": "execute_result"
    }
   ],
   "source": [
    "dataset.shape"
   ]
  },
  {
   "cell_type": "code",
   "execution_count": 99,
   "metadata": {},
   "outputs": [
    {
     "data": {
      "text/plain": [
       "(3832, 66)"
      ]
     },
     "execution_count": 99,
     "metadata": {},
     "output_type": "execute_result"
    }
   ],
   "source": [
    "X_train.shape"
   ]
  },
  {
   "cell_type": "code",
   "execution_count": 100,
   "metadata": {},
   "outputs": [],
   "source": [
    "X_train_t = X_train.reshape(X_train.shape[0], 66, 1)"
   ]
  },
  {
   "cell_type": "code",
   "execution_count": 101,
   "metadata": {},
   "outputs": [
    {
     "data": {
      "text/plain": [
       "(3832, 66, 1)"
      ]
     },
     "execution_count": 101,
     "metadata": {},
     "output_type": "execute_result"
    }
   ],
   "source": [
    "X_train_t.shape"
   ]
  },
  {
   "cell_type": "code",
   "execution_count": 102,
   "metadata": {},
   "outputs": [],
   "source": [
    "X_test_t = X_test.reshape(X_test.shape[0], 66, 1)"
   ]
  },
  {
   "cell_type": "code",
   "execution_count": 103,
   "metadata": {},
   "outputs": [
    {
     "data": {
      "text/plain": [
       "((3832, 66, 1), (959, 66, 1))"
      ]
     },
     "execution_count": 103,
     "metadata": {},
     "output_type": "execute_result"
    }
   ],
   "source": [
    "X_train_t.shape, X_test_t.shape"
   ]
  },
  {
   "cell_type": "code",
   "execution_count": 104,
   "metadata": {},
   "outputs": [],
   "source": [
    "# rmse custorm metric\n",
    "def root_mean_squared_error(y_true, y_pred):\n",
    "    return K.sqrt(K.mean(K.square(y_pred - y_true), axis=-1)) "
   ]
  },
  {
   "cell_type": "code",
   "execution_count": 105,
   "metadata": {},
   "outputs": [],
   "source": [
    "# Begas Custom Loss Function\n",
    "def customLoss(y_true, y_pred):\n",
    "    mean_true = tf.math.reduce_mean(y_true)\n",
    "    mean_pred = tf.math.reduce_mean(y_pred)\n",
    "    \n",
    "    std_true = tf.math.reduce_std(y_true)\n",
    "    std_pred = tf.math.reduce_std(y_pred)\n",
    "    \n",
    "    up = tf.reduce_mean(tf.math.multiply((y_true-mean_true), (y_pred-mean_pred)))\n",
    "    down = std_true * std_pred\n",
    "    corr = 1.0-tf.compat.v1.where(tf.math.is_nan(up/down),0.0,up/down)\n",
    "    \n",
    "    \n",
    "    meanerr = tf.math.sqrt(tf.math.square(mean_true - mean_pred))\n",
    "    mserr = tf.math.sqrt(tf.math.reduce_mean(tf.math.square(y_true-y_pred)))\n",
    "    signerr = 1-tf.math.reduce_mean(tf.math.multiply(tf.math.sign(y_true), tf.math.sign(y_pred)))\n",
    "    \n",
    "    return mserr + corr/2 + signerr/2"
   ]
  },
  {
   "cell_type": "markdown",
   "metadata": {},
   "source": [
    "Study statistics: \n",
    "  Number of finished trials:  100\n",
    "  Number of pruned trials:  51\n",
    "  Number of complete trials:  49\n",
    "Best trial:\n",
    "  Value:  27.84640121459961\n",
    "  Params: \n",
    "    n_layers: 3\n",
    "    n_units_l0: 97.96659158213191\n",
    "    dropout_l0: 0.22172788369898033\n",
    "    n_units_l1: 71.53245459841486\n",
    "    dropout_l1: 0.29339804967391747\n",
    "    n_units_l2: 54.92442168474095\n",
    "    dropout_l2: 0.3560571061388861\n",
    "    lr: 0.01977699441754735"
   ]
  },
  {
   "cell_type": "code",
   "execution_count": 106,
   "metadata": {},
   "outputs": [],
   "source": [
    "from keras.layers import Flatten"
   ]
  },
  {
   "cell_type": "code",
   "execution_count": 107,
   "metadata": {},
   "outputs": [
    {
     "name": "stdout",
     "output_type": "stream",
     "text": [
      "Model: \"KRXSemicondoctor_regressor\"\n",
      "_________________________________________________________________\n",
      "Layer (type)                 Output Shape              Param #   \n",
      "=================================================================\n",
      "input (GRU)                  (None, 66, 64)            12672     \n",
      "_________________________________________________________________\n",
      "gru_cell_0 (GRU)             (None, 66, 98)            47922     \n",
      "_________________________________________________________________\n",
      "dropout_1 (Dropout)          (None, 66, 98)            0         \n",
      "_________________________________________________________________\n",
      "batch_normalization_1 (Batch (None, 66, 98)            392       \n",
      "_________________________________________________________________\n",
      "gru_cell_1 (GRU)             (None, 66, 71)            36210     \n",
      "_________________________________________________________________\n",
      "dropout_2 (Dropout)          (None, 66, 71)            0         \n",
      "_________________________________________________________________\n",
      "batch_normalization_2 (Batch (None, 66, 71)            284       \n",
      "_________________________________________________________________\n",
      "gru_cell_2 (GRU)             (None, 66, 55)            20955     \n",
      "_________________________________________________________________\n",
      "dropout_3 (Dropout)          (None, 66, 55)            0         \n",
      "_________________________________________________________________\n",
      "batch_normalization_3 (Batch (None, 66, 55)            220       \n",
      "_________________________________________________________________\n",
      "flatten_1 (Flatten)          (None, 3630)              0         \n",
      "_________________________________________________________________\n",
      "output (Dense)               (None, 1)                 3631      \n",
      "=================================================================\n",
      "Total params: 122,286\n",
      "Trainable params: 121,838\n",
      "Non-trainable params: 448\n",
      "_________________________________________________________________\n",
      "Epoch 1/100\n",
      "3832/3832 [==============================] - 8s 2ms/step - loss: 1.7574 - mse: 1.2157\n",
      "Epoch 2/100\n",
      "3832/3832 [==============================] - 6s 2ms/step - loss: 1.0335 - mse: 0.6291\n",
      "Epoch 3/100\n",
      "3832/3832 [==============================] - 6s 2ms/step - loss: 0.7090 - mse: 0.4157\n",
      "Epoch 4/100\n",
      "3832/3832 [==============================] - 6s 2ms/step - loss: 0.5289 - mse: 0.3220\n",
      "Epoch 5/100\n",
      "3832/3832 [==============================] - 6s 2ms/step - loss: 0.3426 - mse: 0.2001\n",
      "Epoch 6/100\n",
      "3832/3832 [==============================] - 6s 2ms/step - loss: 0.2395 - mse: 0.1421\n",
      "Epoch 7/100\n",
      "3832/3832 [==============================] - 6s 2ms/step - loss: 0.1712 - mse: 0.1061\n",
      "Epoch 8/100\n",
      "3832/3832 [==============================] - 6s 2ms/step - loss: 0.1206 - mse: 0.0778\n",
      "Epoch 9/100\n",
      "3832/3832 [==============================] - 6s 2ms/step - loss: 0.0842 - mse: 0.0561\n",
      "Epoch 10/100\n",
      "3832/3832 [==============================] - 6s 2ms/step - loss: 0.0598 - mse: 0.0408\n",
      "Epoch 11/100\n",
      "3832/3832 [==============================] - 6s 2ms/step - loss: 0.0462 - mse: 0.0334\n",
      "Epoch 12/100\n",
      "3832/3832 [==============================] - 6s 2ms/step - loss: 0.0378 - mse: 0.0289\n",
      "Epoch 13/100\n",
      "3832/3832 [==============================] - 6s 2ms/step - loss: 0.0325 - mse: 0.0259\n",
      "Epoch 14/100\n",
      "3832/3832 [==============================] - 6s 2ms/step - loss: 0.0299 - mse: 0.0247\n",
      "Epoch 15/100\n",
      "3832/3832 [==============================] - 6s 2ms/step - loss: 0.0288 - mse: 0.0244\n",
      "Epoch 16/100\n",
      "3832/3832 [==============================] - 6s 2ms/step - loss: 0.0262 - mse: 0.0222\n",
      "Epoch 17/100\n",
      "3832/3832 [==============================] - 6s 2ms/step - loss: 0.0244 - mse: 0.0207\n",
      "Epoch 18/100\n",
      "3832/3832 [==============================] - 6s 2ms/step - loss: 0.0231 - mse: 0.0196\n",
      "Epoch 19/100\n",
      "3832/3832 [==============================] - 6s 2ms/step - loss: 0.0225 - mse: 0.0191\n",
      "Epoch 20/100\n",
      "3832/3832 [==============================] - 6s 2ms/step - loss: 0.0216 - mse: 0.0183\n",
      "Epoch 21/100\n",
      "3832/3832 [==============================] - 6s 2ms/step - loss: 0.0222 - mse: 0.0189\n",
      "Epoch 22/100\n",
      "3832/3832 [==============================] - 6s 2ms/step - loss: 0.0212 - mse: 0.0180\n",
      "Epoch 23/100\n",
      "3832/3832 [==============================] - 6s 2ms/step - loss: 0.0214 - mse: 0.0181\n",
      "Epoch 24/100\n",
      "3832/3832 [==============================] - 6s 2ms/step - loss: 0.0212 - mse: 0.0180\n",
      "Epoch 25/100\n",
      "3832/3832 [==============================] - 6s 2ms/step - loss: 0.0208 - mse: 0.0176\n",
      "Epoch 26/100\n",
      "3832/3832 [==============================] - 6s 2ms/step - loss: 0.0204 - mse: 0.0172\n",
      "Epoch 27/100\n",
      "3832/3832 [==============================] - 6s 2ms/step - loss: 0.0211 - mse: 0.0179\n",
      "Epoch 28/100\n",
      "3832/3832 [==============================] - 6s 2ms/step - loss: 0.0194 - mse: 0.0162\n",
      "Epoch 29/100\n",
      "3832/3832 [==============================] - 6s 2ms/step - loss: 0.0198 - mse: 0.0165\n",
      "Epoch 30/100\n",
      "3832/3832 [==============================] - 6s 2ms/step - loss: 0.0214 - mse: 0.0181\n",
      "Epoch 31/100\n",
      "3832/3832 [==============================] - 6s 2ms/step - loss: 0.0204 - mse: 0.0172\n",
      "Epoch 32/100\n",
      "3832/3832 [==============================] - 6s 2ms/step - loss: 0.0189 - mse: 0.0157\n",
      "Epoch 33/100\n",
      "3832/3832 [==============================] - 6s 2ms/step - loss: 0.0189 - mse: 0.0158\n",
      "Epoch 34/100\n",
      "3832/3832 [==============================] - 6s 2ms/step - loss: 0.0192 - mse: 0.0162\n",
      "Epoch 35/100\n",
      "3832/3832 [==============================] - 6s 2ms/step - loss: 0.0217 - mse: 0.0185\n",
      "Epoch 36/100\n",
      "3832/3832 [==============================] - 6s 2ms/step - loss: 0.0217 - mse: 0.0184\n",
      "Epoch 37/100\n",
      "3832/3832 [==============================] - 6s 2ms/step - loss: 0.0202 - mse: 0.0169\n",
      "Epoch 38/100\n",
      "3832/3832 [==============================] - 6s 2ms/step - loss: 0.0190 - mse: 0.0157\n",
      "Epoch 39/100\n",
      "3832/3832 [==============================] - 6s 2ms/step - loss: 0.0177 - mse: 0.0146\n",
      "Epoch 40/100\n",
      "3832/3832 [==============================] - 6s 2ms/step - loss: 0.0180 - mse: 0.0149\n",
      "Epoch 41/100\n",
      "3832/3832 [==============================] - 6s 2ms/step - loss: 0.0178 - mse: 0.0148\n",
      "Epoch 42/100\n",
      "3832/3832 [==============================] - 6s 2ms/step - loss: 0.0186 - mse: 0.0156\n",
      "Epoch 43/100\n",
      "3832/3832 [==============================] - 6s 2ms/step - loss: 0.0204 - mse: 0.0172\n",
      "Epoch 44/100\n",
      "3832/3832 [==============================] - 6s 2ms/step - loss: 0.0192 - mse: 0.0159\n",
      "Epoch 45/100\n",
      "3832/3832 [==============================] - 6s 2ms/step - loss: 0.0212 - mse: 0.0180\n",
      "Epoch 46/100\n",
      "3832/3832 [==============================] - 6s 2ms/step - loss: 0.0201 - mse: 0.0168\n",
      "Epoch 47/100\n",
      "3832/3832 [==============================] - 6s 2ms/step - loss: 0.0194 - mse: 0.0162\n",
      "Epoch 48/100\n",
      "3832/3832 [==============================] - 6s 2ms/step - loss: 0.0169 - mse: 0.0138\n",
      "Epoch 49/100\n",
      "3832/3832 [==============================] - 6s 2ms/step - loss: 0.0180 - mse: 0.0150\n",
      "Epoch 50/100\n",
      "3832/3832 [==============================] - 6s 2ms/step - loss: 0.0174 - mse: 0.0144\n",
      "Epoch 51/100\n",
      "3832/3832 [==============================] - 6s 2ms/step - loss: 0.0174 - mse: 0.0144\n",
      "Epoch 52/100\n",
      "3832/3832 [==============================] - 6s 2ms/step - loss: 0.0171 - mse: 0.0141\n",
      "Epoch 53/100\n",
      "3832/3832 [==============================] - 6s 2ms/step - loss: 0.0162 - mse: 0.0132\n",
      "Epoch 54/100\n",
      "3832/3832 [==============================] - 6s 2ms/step - loss: 0.0161 - mse: 0.0131\n",
      "Epoch 55/100\n",
      "3832/3832 [==============================] - 6s 2ms/step - loss: 0.0178 - mse: 0.0148\n",
      "Epoch 56/100\n",
      "3832/3832 [==============================] - 7s 2ms/step - loss: 0.0169 - mse: 0.0137\n",
      "Epoch 57/100\n",
      "3832/3832 [==============================] - 6s 2ms/step - loss: 0.0155 - mse: 0.0126\n",
      "Epoch 58/100\n",
      "3832/3832 [==============================] - 7s 2ms/step - loss: 0.0155 - mse: 0.0126\n",
      "Epoch 59/100\n",
      "3832/3832 [==============================] - 7s 2ms/step - loss: 0.0143 - mse: 0.0115\n",
      "Epoch 60/100\n",
      "3832/3832 [==============================] - 6s 2ms/step - loss: 0.0149 - mse: 0.0120\n",
      "Epoch 61/100\n",
      "3832/3832 [==============================] - 6s 2ms/step - loss: 0.0180 - mse: 0.0152\n",
      "Epoch 62/100\n",
      "3832/3832 [==============================] - 6s 2ms/step - loss: 0.0171 - mse: 0.0140\n",
      "Epoch 63/100\n",
      "3832/3832 [==============================] - 6s 2ms/step - loss: 0.0164 - mse: 0.0133\n",
      "Epoch 64/100\n",
      "3832/3832 [==============================] - 7s 2ms/step - loss: 0.0140 - mse: 0.0112\n",
      "Epoch 65/100\n",
      "3832/3832 [==============================] - 7s 2ms/step - loss: 0.0145 - mse: 0.0117\n",
      "Epoch 66/100\n",
      "3832/3832 [==============================] - 6s 2ms/step - loss: 0.0159 - mse: 0.0130\n",
      "Epoch 67/100\n",
      "3832/3832 [==============================] - 6s 2ms/step - loss: 0.0175 - mse: 0.0143\n",
      "Epoch 68/100\n",
      "3832/3832 [==============================] - 6s 2ms/step - loss: 0.0161 - mse: 0.0131\n",
      "Epoch 69/100\n",
      "3832/3832 [==============================] - 6s 2ms/step - loss: 0.0170 - mse: 0.0140\n",
      "Epoch 70/100\n",
      "3832/3832 [==============================] - 6s 2ms/step - loss: 0.0166 - mse: 0.0135\n",
      "Epoch 71/100\n",
      "3832/3832 [==============================] - 6s 2ms/step - loss: 0.0155 - mse: 0.0126\n",
      "Epoch 72/100\n",
      "3832/3832 [==============================] - 6s 2ms/step - loss: 0.0154 - mse: 0.0125\n",
      "Epoch 73/100\n",
      "3832/3832 [==============================] - 6s 2ms/step - loss: 0.0151 - mse: 0.0123\n",
      "Epoch 74/100\n",
      "3832/3832 [==============================] - 6s 2ms/step - loss: 0.0148 - mse: 0.0120\n",
      "Epoch 75/100\n",
      "3832/3832 [==============================] - 6s 2ms/step - loss: 0.0141 - mse: 0.0113\n",
      "Epoch 76/100\n",
      "3832/3832 [==============================] - 6s 2ms/step - loss: 0.0142 - mse: 0.0115\n",
      "Epoch 77/100\n",
      "3832/3832 [==============================] - 6s 2ms/step - loss: 0.0133 - mse: 0.0105\n",
      "Epoch 78/100\n",
      "3832/3832 [==============================] - 6s 2ms/step - loss: 0.0128 - mse: 0.0101\n",
      "Epoch 79/100\n",
      "3832/3832 [==============================] - 6s 2ms/step - loss: 0.0134 - mse: 0.0107\n",
      "Epoch 80/100\n",
      "3832/3832 [==============================] - 6s 2ms/step - loss: 0.0134 - mse: 0.0106\n",
      "Epoch 81/100\n",
      "3832/3832 [==============================] - 6s 2ms/step - loss: 0.0135 - mse: 0.0107\n",
      "Epoch 82/100\n",
      "3832/3832 [==============================] - 6s 2ms/step - loss: 0.0141 - mse: 0.0114\n",
      "Epoch 83/100\n",
      "3832/3832 [==============================] - 6s 2ms/step - loss: 0.0143 - mse: 0.0115\n",
      "Epoch 84/100\n",
      "3832/3832 [==============================] - 6s 2ms/step - loss: 0.0146 - mse: 0.0116\n",
      "Epoch 85/100\n",
      "3832/3832 [==============================] - 6s 2ms/step - loss: 0.0137 - mse: 0.0109\n",
      "Epoch 86/100\n",
      "3832/3832 [==============================] - 6s 2ms/step - loss: 0.0132 - mse: 0.0105\n",
      "Epoch 87/100\n",
      "3832/3832 [==============================] - 6s 2ms/step - loss: 0.0180 - mse: 0.0149\n",
      "Epoch 88/100\n",
      "3832/3832 [==============================] - 6s 2ms/step - loss: 0.0147 - mse: 0.0114\n",
      "Epoch 89/100\n",
      "3832/3832 [==============================] - 6s 2ms/step - loss: 0.0142 - mse: 0.0112\n",
      "Epoch 90/100\n",
      "3832/3832 [==============================] - 6s 2ms/step - loss: 0.0147 - mse: 0.0118\n",
      "Epoch 91/100\n",
      "3832/3832 [==============================] - 6s 2ms/step - loss: 0.0156 - mse: 0.0127\n",
      "Epoch 92/100\n",
      "3832/3832 [==============================] - 6s 2ms/step - loss: 0.0140 - mse: 0.0110\n",
      "Epoch 93/100\n",
      "3832/3832 [==============================] - 6s 2ms/step - loss: 0.0133 - mse: 0.0105\n",
      "Epoch 94/100\n",
      "3832/3832 [==============================] - 6s 2ms/step - loss: 0.0140 - mse: 0.0112\n",
      "Epoch 95/100\n",
      "3832/3832 [==============================] - 6s 2ms/step - loss: 0.0153 - mse: 0.0124\n",
      "Epoch 96/100\n",
      "3832/3832 [==============================] - 6s 2ms/step - loss: 0.0135 - mse: 0.0104\n",
      "Epoch 97/100\n",
      "3832/3832 [==============================] - 6s 2ms/step - loss: 0.0119 - mse: 0.0092\n",
      "Epoch 98/100\n",
      "3832/3832 [==============================] - 6s 2ms/step - loss: 0.0128 - mse: 0.0102\n",
      "Epoch 99/100\n",
      "3832/3832 [==============================] - 6s 2ms/step - loss: 0.0132 - mse: 0.0105\n",
      "Epoch 100/100\n",
      "3832/3832 [==============================] - 6s 2ms/step - loss: 0.0140 - mse: 0.0111\n"
     ]
    }
   ],
   "source": [
    "K.clear_session()\n",
    "\n",
    "# using /gpu:0\n",
    "with tf.device('/gpu:0'):\n",
    "    \n",
    "    # model build\n",
    "    model = Sequential(name = 'KRXSemicondoctor_regressor')\n",
    "    model.add(GRU(64, input_shape = (66, 1), return_sequences = True, name = 'input'))\n",
    "    \n",
    "    model.add(GRU(98, return_sequences = True, name = 'gru_cell_0'))\n",
    "    model.add(Dropout(0.221))\n",
    "    model.add(BatchNormalization())\n",
    "    \n",
    "    model.add(GRU(71, return_sequences = True, name = 'gru_cell_1'))\n",
    "    model.add(Dropout(0.293))\n",
    "    model.add(BatchNormalization())\n",
    "    \n",
    "    model.add(GRU(55, return_sequences = True, name = 'gru_cell_2'))\n",
    "    model.add(Dropout(0.356))\n",
    "    model.add(BatchNormalization())\n",
    "    \n",
    "    model.add(Flatten())\n",
    "\n",
    "    model.add(Dense(1, activation = 'linear', name = 'output',\n",
    "                   kernel_regularizer=keras.regularizers.l2(l=0.3)))\n",
    "\n",
    "\n",
    "    #rmsprop = optimizers.rmsprop(lr = 0.01)\n",
    "    adam = optimizers.Adam(lr = 0.001)\n",
    "    \n",
    "    # compile model\n",
    "    model.compile(loss = 'mse',\n",
    "                  optimizer=adam,\n",
    "                  metrics=['mse'])\n",
    "    \n",
    "    # early stopping\n",
    "    early_stop = EarlyStopping(monitor='mse', patience=20, verbose=1)\n",
    "    \n",
    "    # model check\n",
    "    model.summary()\n",
    "    \n",
    "    h = model.fit(X_train_t, y_train, epochs=100,\n",
    "          batch_size=128, verbose=1, callbacks=[early_stop])"
   ]
  },
  {
   "cell_type": "code",
   "execution_count": 108,
   "metadata": {},
   "outputs": [],
   "source": [
    "y_pred = model.predict(X_test_t)\n",
    "x_pred = model.predict(X_train_t)"
   ]
  },
  {
   "cell_type": "code",
   "execution_count": 109,
   "metadata": {},
   "outputs": [
    {
     "data": {
      "text/plain": [
       "3832"
      ]
     },
     "execution_count": 109,
     "metadata": {},
     "output_type": "execute_result"
    }
   ],
   "source": [
    "len(x_pred)"
   ]
  },
  {
   "cell_type": "code",
   "execution_count": 110,
   "metadata": {},
   "outputs": [],
   "source": [
    "y_pred = np.reshape(y_pred, (959))\n",
    "y_test = np.reshape(y_test, (959))\n",
    "x_pred = np.reshape(x_pred, (3832))\n",
    "y_trai = np.reshape(y_train, (3832))"
   ]
  },
  {
   "cell_type": "code",
   "execution_count": 111,
   "metadata": {},
   "outputs": [
    {
     "data": {
      "text/html": [
       "<div>\n",
       "<style scoped>\n",
       "    .dataframe tbody tr th:only-of-type {\n",
       "        vertical-align: middle;\n",
       "    }\n",
       "\n",
       "    .dataframe tbody tr th {\n",
       "        vertical-align: top;\n",
       "    }\n",
       "\n",
       "    .dataframe thead th {\n",
       "        text-align: right;\n",
       "    }\n",
       "</style>\n",
       "<table border=\"1\" class=\"dataframe\">\n",
       "  <thead>\n",
       "    <tr style=\"text-align: right;\">\n",
       "      <th></th>\n",
       "      <th>CORR</th>\n",
       "      <th>R2</th>\n",
       "      <th>MAE</th>\n",
       "      <th>RMSE</th>\n",
       "      <th>ACR</th>\n",
       "      <th>threshACR</th>\n",
       "    </tr>\n",
       "  </thead>\n",
       "  <tbody>\n",
       "    <tr>\n",
       "      <th>0</th>\n",
       "      <td>0.961697</td>\n",
       "      <td>0.9208</td>\n",
       "      <td>0.0583</td>\n",
       "      <td>0.0740</td>\n",
       "      <td>0.88857</td>\n",
       "      <td>0.991649</td>\n",
       "    </tr>\n",
       "  </tbody>\n",
       "</table>\n",
       "</div>"
      ],
      "text/plain": [
       "       CORR      R2     MAE    RMSE      ACR  threshACR\n",
       "0  0.961697  0.9208  0.0583  0.0740  0.88857   0.991649"
      ]
     },
     "execution_count": 111,
     "metadata": {},
     "output_type": "execute_result"
    }
   ],
   "source": [
    "metr = CustomMetric(x_pred, y_trai)\n",
    "metr.makedf()\n",
    "metr.execution()"
   ]
  },
  {
   "cell_type": "code",
   "execution_count": 112,
   "metadata": {},
   "outputs": [
    {
     "data": {
      "text/html": [
       "<div>\n",
       "<style scoped>\n",
       "    .dataframe tbody tr th:only-of-type {\n",
       "        vertical-align: middle;\n",
       "    }\n",
       "\n",
       "    .dataframe tbody tr th {\n",
       "        vertical-align: top;\n",
       "    }\n",
       "\n",
       "    .dataframe thead th {\n",
       "        text-align: right;\n",
       "    }\n",
       "</style>\n",
       "<table border=\"1\" class=\"dataframe\">\n",
       "  <thead>\n",
       "    <tr style=\"text-align: right;\">\n",
       "      <th></th>\n",
       "      <th>CORR</th>\n",
       "      <th>R2</th>\n",
       "      <th>MAE</th>\n",
       "      <th>RMSE</th>\n",
       "      <th>ACR</th>\n",
       "      <th>threshACR</th>\n",
       "    </tr>\n",
       "  </thead>\n",
       "  <tbody>\n",
       "    <tr>\n",
       "      <th>0</th>\n",
       "      <td>0.374005</td>\n",
       "      <td>0.0655</td>\n",
       "      <td>0.1837</td>\n",
       "      <td>0.2110</td>\n",
       "      <td>0.653806</td>\n",
       "      <td>0.683333</td>\n",
       "    </tr>\n",
       "  </tbody>\n",
       "</table>\n",
       "</div>"
      ],
      "text/plain": [
       "       CORR      R2     MAE    RMSE       ACR  threshACR\n",
       "0  0.374005  0.0655  0.1837  0.2110  0.653806   0.683333"
      ]
     },
     "execution_count": 112,
     "metadata": {},
     "output_type": "execute_result"
    }
   ],
   "source": [
    "metr = CustomMetric(y_pred, y_test)\n",
    "metr.makedf()\n",
    "metr.execution()"
   ]
  },
  {
   "cell_type": "code",
   "execution_count": 113,
   "metadata": {},
   "outputs": [
    {
     "data": {
      "text/plain": [
       "(3832, 959)"
      ]
     },
     "execution_count": 113,
     "metadata": {},
     "output_type": "execute_result"
    }
   ],
   "source": [
    "len(x_pred), len(y_pred)"
   ]
  },
  {
   "cell_type": "code",
   "execution_count": 114,
   "metadata": {},
   "outputs": [
    {
     "data": {
      "text/plain": [
       "<matplotlib.axes._subplots.AxesSubplot at 0x20a1290aba8>"
      ]
     },
     "execution_count": 114,
     "metadata": {},
     "output_type": "execute_result"
    },
    {
     "data": {
      "image/png": "[encoded data removed]",
      "text/plain": [
       "<Figure size 576x432 with 1 Axes>"
      ]
     },
     "metadata": {
      "needs_background": "light"
     },
     "output_type": "display_data"
    }
   ],
   "source": [
    "pd.DataFrame(x_pred).plot()"
   ]
  },
  {
   "cell_type": "code",
   "execution_count": 115,
   "metadata": {},
   "outputs": [
    {
     "data": {
      "text/plain": [
       "<matplotlib.axes._subplots.AxesSubplot at 0x209e526e5f8>"
      ]
     },
     "execution_count": 115,
     "metadata": {},
     "output_type": "execute_result"
    },
    {
     "data": {
      "image/png": "[encoded data removed]",
      "text/plain": [
       "<Figure size 576x432 with 1 Axes>"
      ]
     },
     "metadata": {
      "needs_background": "light"
     },
     "output_type": "display_data"
    }
   ],
   "source": [
    "pd.DataFrame(y_train).plot()"
   ]
  },
  {
   "cell_type": "code",
   "execution_count": 116,
   "metadata": {},
   "outputs": [
    {
     "data": {
      "text/plain": [
       "<matplotlib.axes._subplots.AxesSubplot at 0x209e52d7ba8>"
      ]
     },
     "execution_count": 116,
     "metadata": {},
     "output_type": "execute_result"
    },
    {
     "data": {
      "image/png": "[encoded data removed]",
      "text/plain": [
       "<Figure size 576x432 with 1 Axes>"
      ]
     },
     "metadata": {
      "needs_background": "light"
     },
     "output_type": "display_data"
    }
   ],
   "source": [
    "pd.DataFrame(y_test).plot()"
   ]
  },
  {
   "cell_type": "code",
   "execution_count": 117,
   "metadata": {},
   "outputs": [
    {
     "data": {
      "text/plain": [
       "<matplotlib.axes._subplots.AxesSubplot at 0x209e5321358>"
      ]
     },
     "execution_count": 117,
     "metadata": {},
     "output_type": "execute_result"
    },
    {
     "data": {
      "image/png": "[encoded data removed]",
      "text/plain": [
       "<Figure size 576x432 with 1 Axes>"
      ]
     },
     "metadata": {
      "needs_background": "light"
     },
     "output_type": "display_data"
    }
   ],
   "source": [
    "pd.DataFrame(y_pred).plot()"
   ]
  },
  {
   "cell_type": "code",
   "execution_count": 54,
   "metadata": {},
   "outputs": [
    {
     "data": {
      "image/png": "[encoded data removed]",
      "text/plain": [
       "<Figure size 576x432 with 1 Axes>"
      ]
     },
     "metadata": {
      "needs_background": "light"
     },
     "output_type": "display_data"
    }
   ],
   "source": [
    "#mse = h.history['mse']\n",
    "#val_mse = h.history['val_mse']\n",
    "loss = h.history['loss']\n",
    "#val_loss = h.history['val_loss']\n",
    "\n",
    "epochs = range(1, len(loss) + 1)\n",
    "\n",
    "#plt.plot(epochs, mse, 'bo', label = 'Training mse')\n",
    "#plt.plot(epohcs, val_mse, 'b', label = 'Validation mse')\n",
    "#plt.title('mse')\n",
    "#plt.legend()\n",
    "\n",
    "plt.figure()\n",
    "\n",
    "plt.plot(epochs, loss, 'bo', label = 'Training loss')\n",
    "#plt.plot(epohcs, val_mse, 'b', label = 'Validation loss')\n",
    "plt.title('loss')\n",
    "plt.legend()\n",
    "\n",
    "plt.show()"
   ]
  },
  {
   "cell_type": "code",
   "execution_count": 56,
   "metadata": {},
   "outputs": [
    {
     "data": {
      "image/png": "[encoded data removed]",
      "text/plain": [
       "<Figure size 720x432 with 1 Axes>"
      ]
     },
     "metadata": {
      "needs_background": "light"
     },
     "output_type": "display_data"
    }
   ],
   "source": [
    "a_axis = np.arange(0, len(y_train))\n",
    "b_axis = np.arange(len(y_train), len(y_train) + len(y_pred))\n",
    "\n",
    "plt.figure(figsize=(10,6))\n",
    "plt.plot(a_axis, y_train.reshape(3832,), '-')\n",
    "plt.plot(b_axis, y_pred.reshape(959,), '-', color='red', label='Predicted')\n",
    "plt.plot(b_axis, y_test.reshape(959,), '-', color='green', alpha=0.2, label='Actual')\n",
    "plt.legend()\n",
    "plt.show()"
   ]
  },
  {
   "cell_type": "code",
   "execution_count": 57,
   "metadata": {},
   "outputs": [
    {
     "data": {
      "text/plain": [
       "Text(0.5, 1.0, 'Prices vs Predicted price Index: $Y_i$ vs $\\\\hat{Y}_i$')"
      ]
     },
     "execution_count": 57,
     "metadata": {},
     "output_type": "execute_result"
    },
    {
     "data": {
      "image/png": "[encoded data removed]",
      "text/plain": [
       "<Figure size 576x432 with 1 Axes>"
      ]
     },
     "metadata": {
      "needs_background": "light"
     },
     "output_type": "display_data"
    }
   ],
   "source": [
    "y_pred = model.predict(X_test_t, batch_size=32)\n",
    "plt.scatter(y_test, y_pred)\n",
    "plt.xlabel(\"Price Index: $Y_i$\")\n",
    "plt.ylabel(\"Predicted price Index: $\\hat{Y}_i$\")\n",
    "plt.title(\"Prices vs Predicted price Index: $Y_i$ vs $\\hat{Y}_i$\")"
   ]
  },
  {
   "cell_type": "code",
   "execution_count": null,
   "metadata": {},
   "outputs": [],
   "source": []
  },
  {
   "cell_type": "code",
   "execution_count": null,
   "metadata": {},
   "outputs": [],
   "source": []
  }
 ],
 "metadata": {
  "colab": {
   "authorship_tag": "ABX9TyNdPoDygFFSMUgSmKAIP5TY",
   "collapsed_sections": [],
   "name": "week4_time_series_jy.ipynb",
   "provenance": []
  },
  "kernelspec": {
   "display_name": "Python 3",
   "language": "python",
   "name": "python3"
  },
  "language_info": {
   "codemirror_mode": {
    "name": "ipython",
    "version": 3
   },
   "file_extension": ".py",
   "mimetype": "text/x-python",
   "name": "python",
   "nbconvert_exporter": "python",
   "pygments_lexer": "ipython3",
   "version": "3.7.3"
  }
 },
 "nbformat": 4,
 "nbformat_minor": 4
}
