{
 "cells": [
  {
   "cell_type": "code",
   "execution_count": 4,
   "metadata": {},
   "outputs": [],
   "source": [
    "# library use\n",
    "import re\n",
    "import pandas as pd\n",
    "import matplotlib.pyplot as plt\n",
    "import seaborn as sns\n",
    "import numpy as np\n",
    "import warnings\n",
    "from datetime import datetime\n",
    "import calendar\n",
    "from math import sin, cos, sqrt, atan2, radians\n",
    "from folium import FeatureGroup, LayerControl, Map, Marker\n",
    "from folium.plugins import HeatMap\n",
    "import matplotlib.dates as mdates\n",
    "import matplotlib as mpl\n",
    "from datetime import timedelta\n",
    "import datetime as dt\n",
    "warnings.filterwarnings('ignore')\n",
    "pd.set_option('display.max_colwidth', -1)\n",
    "plt.style.use('fivethirtyeight')\n",
    "import folium\n",
    "from sklearn.cluster import KMeans\n",
    "from sklearn import preprocessing\n",
    "from sklearn.model_selection import train_test_split\n",
    "from sklearn import linear_model\n",
    "from sklearn.metrics import mean_squared_error\n",
    "from sklearn.ensemble import RandomForestRegressor\n",
    "import pickle\n",
    "%config InlineBackend.figure_format = 'retina'\n",
    "from sklearn.preprocessing import Imputer\n",
    "from sklearn.preprocessing import StandardScaler\n",
    "from sklearn.preprocessing import MinMaxScaler\n",
    "from sklearn.model_selection import train_test_split\n",
    "from sklearn.linear_model import LinearRegression\n",
    "from sklearn.metrics import mean_squared_error, r2_score\n",
    "from sklearn.linear_model import Ridge\n",
    "from sklearn.model_selection import cross_val_score"
   ]
  },
  {
   "cell_type": "code",
   "execution_count": 5,
   "metadata": {},
   "outputs": [],
   "source": [
    "df = pd.read_csv('data_change_ver0.2.csv')"
   ]
  },
  {
   "cell_type": "code",
   "execution_count": 6,
   "metadata": {
    "scrolled": true
   },
   "outputs": [
    {
     "name": "stdout",
     "output_type": "stream",
     "text": [
      "<class 'pandas.core.frame.DataFrame'>\n",
      "RangeIndex: 3434 entries, 0 to 3433\n",
      "Data columns (total 8 columns):\n",
      "Unnamed: 0       3434 non-null int64\n",
      "date             3434 non-null object\n",
      "krx_change       3434 non-null float64\n",
      "hy_change        3434 non-null float64\n",
      "ts_change        3197 non-null float64\n",
      "google_change    3214 non-null float64\n",
      "intel_change     3214 non-null float64\n",
      "micron_change    3214 non-null float64\n",
      "dtypes: float64(6), int64(1), object(1)\n",
      "memory usage: 214.8+ KB\n"
     ]
    }
   ],
   "source": [
    "df.info()"
   ]
  },
  {
   "cell_type": "code",
   "execution_count": 7,
   "metadata": {},
   "outputs": [],
   "source": [
    "df.drop('Unnamed: 0', axis = 1, inplace = True)"
   ]
  },
  {
   "cell_type": "code",
   "execution_count": 8,
   "metadata": {},
   "outputs": [],
   "source": [
    "# 일단 뒤부터 메꾸자 전일꺼 데이터로 메꾸기 \n",
    "df.fillna(method = 'bfill', inplace = True)"
   ]
  },
  {
   "cell_type": "code",
   "execution_count": 9,
   "metadata": {},
   "outputs": [],
   "source": [
    "# 앞도 메꾸자 아직도 비어있는건 전일껄로 앞에 메우기 \n",
    "df.fillna(method = 'ffill', inplace = True)"
   ]
  },
  {
   "cell_type": "code",
   "execution_count": 11,
   "metadata": {},
   "outputs": [
    {
     "name": "stdout",
     "output_type": "stream",
     "text": [
      "<class 'pandas.core.frame.DataFrame'>\n",
      "RangeIndex: 3434 entries, 0 to 3433\n",
      "Data columns (total 7 columns):\n",
      "date             3434 non-null object\n",
      "krx_change       3434 non-null float64\n",
      "hy_change        3434 non-null float64\n",
      "ts_change        3434 non-null float64\n",
      "google_change    3434 non-null float64\n",
      "intel_change     3434 non-null float64\n",
      "micron_change    3434 non-null float64\n",
      "dtypes: float64(6), object(1)\n",
      "memory usage: 187.9+ KB\n"
     ]
    }
   ],
   "source": [
    "df.info()"
   ]
  },
  {
   "cell_type": "code",
   "execution_count": 12,
   "metadata": {},
   "outputs": [],
   "source": [
    "date = df['date']"
   ]
  },
  {
   "cell_type": "code",
   "execution_count": 13,
   "metadata": {},
   "outputs": [],
   "source": [
    "df.drop('date', axis = 1, inplace = True)"
   ]
  },
  {
   "cell_type": "code",
   "execution_count": 14,
   "metadata": {},
   "outputs": [],
   "source": [
    "y_target = df['krx_change']"
   ]
  },
  {
   "cell_type": "code",
   "execution_count": 15,
   "metadata": {},
   "outputs": [],
   "source": [
    "X_data = df.drop(['krx_change'], axis = 1, inplace = False)"
   ]
  },
  {
   "cell_type": "code",
   "execution_count": 18,
   "metadata": {},
   "outputs": [
    {
     "data": {
      "text/html": [
       "<div>\n",
       "<style scoped>\n",
       "    .dataframe tbody tr th:only-of-type {\n",
       "        vertical-align: middle;\n",
       "    }\n",
       "\n",
       "    .dataframe tbody tr th {\n",
       "        vertical-align: top;\n",
       "    }\n",
       "\n",
       "    .dataframe thead th {\n",
       "        text-align: right;\n",
       "    }\n",
       "</style>\n",
       "<table border=\"1\" class=\"dataframe\">\n",
       "  <thead>\n",
       "    <tr style=\"text-align: right;\">\n",
       "      <th></th>\n",
       "      <th>hy_change</th>\n",
       "      <th>ts_change</th>\n",
       "      <th>google_change</th>\n",
       "      <th>intel_change</th>\n",
       "      <th>micron_change</th>\n",
       "    </tr>\n",
       "  </thead>\n",
       "  <tbody>\n",
       "    <tr>\n",
       "      <th>0</th>\n",
       "      <td>0.926509</td>\n",
       "      <td>1.017414</td>\n",
       "      <td>1.051503</td>\n",
       "      <td>1.013297</td>\n",
       "      <td>1.039970</td>\n",
       "    </tr>\n",
       "    <tr>\n",
       "      <th>1</th>\n",
       "      <td>0.980170</td>\n",
       "      <td>1.019782</td>\n",
       "      <td>1.003953</td>\n",
       "      <td>1.013894</td>\n",
       "      <td>1.009253</td>\n",
       "    </tr>\n",
       "    <tr>\n",
       "      <th>2</th>\n",
       "      <td>1.013006</td>\n",
       "      <td>1.017569</td>\n",
       "      <td>1.026611</td>\n",
       "      <td>1.001523</td>\n",
       "      <td>1.020451</td>\n",
       "    </tr>\n",
       "    <tr>\n",
       "      <th>3</th>\n",
       "      <td>1.048502</td>\n",
       "      <td>1.047634</td>\n",
       "      <td>1.016972</td>\n",
       "      <td>1.006081</td>\n",
       "      <td>1.015895</td>\n",
       "    </tr>\n",
       "    <tr>\n",
       "      <th>4</th>\n",
       "      <td>1.034014</td>\n",
       "      <td>0.977291</td>\n",
       "      <td>1.002384</td>\n",
       "      <td>0.986777</td>\n",
       "      <td>0.991156</td>\n",
       "    </tr>\n",
       "  </tbody>\n",
       "</table>\n",
       "</div>"
      ],
      "text/plain": [
       "   hy_change  ts_change  google_change  intel_change  micron_change\n",
       "0  0.926509   1.017414   1.051503       1.013297      1.039970     \n",
       "1  0.980170   1.019782   1.003953       1.013894      1.009253     \n",
       "2  1.013006   1.017569   1.026611       1.001523      1.020451     \n",
       "3  1.048502   1.047634   1.016972       1.006081      1.015895     \n",
       "4  1.034014   0.977291   1.002384       0.986777      0.991156     "
      ]
     },
     "execution_count": 18,
     "metadata": {},
     "output_type": "execute_result"
    }
   ],
   "source": [
    "X_data.head()"
   ]
  },
  {
   "cell_type": "code",
   "execution_count": 19,
   "metadata": {},
   "outputs": [],
   "source": [
    "X_train, X_test, y_train, y_test = train_test_split(X_data, y_target, test_size = 0.3, random_state = 156)"
   ]
  },
  {
   "cell_type": "code",
   "execution_count": 20,
   "metadata": {},
   "outputs": [],
   "source": [
    "# Ridge regression, alpha = 10\n",
    "ridge = Ridge(alpha = 10)\n",
    "neg_mse_scores = cross_val_score(ridge, X_data, y_target, scoring = \"neg_mean_squared_error\", cv = 5)\n",
    "rmse_scores = np.sqrt(-1 * neg_mse_scores)\n",
    "avg_rmse = np.mean(rmse_scores)"
   ]
  },
  {
   "cell_type": "code",
   "execution_count": 21,
   "metadata": {},
   "outputs": [
    {
     "name": "stdout",
     "output_type": "stream",
     "text": [
      " 5 folds의 개별 Negative MSE scores :  [-0. -0. -0. -0. -0.]\n",
      " 5 folds의 개별 RMSE scores :  [0.018 0.018 0.015 0.011 0.014]\n",
      " 5 folds의 평균 RMSE : 0.015\n"
     ]
    }
   ],
   "source": [
    "print(' 5 folds의 개별 Negative MSE scores : ', np.round(neg_mse_scores, 3))\n",
    "print(' 5 folds의 개별 RMSE scores : ', np.round(rmse_scores, 3))\n",
    "print(' 5 folds의 평균 RMSE : {0:.3f}'.format(avg_rmse))"
   ]
  },
  {
   "cell_type": "code",
   "execution_count": 22,
   "metadata": {},
   "outputs": [
    {
     "name": "stdout",
     "output_type": "stream",
     "text": [
      "alpha 0일 때 5 fold의 평균 RMSE : 0.011\n",
      "alpha 0.1일 때 5 fold의 평균 RMSE : 0.011\n",
      "alpha 1일 때 5 fold의 평균 RMSE : 0.012\n",
      "alpha 10일 때 5 fold의 평균 RMSE : 0.015\n",
      "alpha 100일 때 5 fold의 평균 RMSE : 0.017\n"
     ]
    }
   ],
   "source": [
    "# alpha 값 변경에 따른 RMSE 체크\n",
    "alphas = [0, 0.1, 1, 10, 100]\n",
    "\n",
    "# alpha list 값 변경해가며 평균 RMSE 측정\n",
    "for alpha in alphas:\n",
    "    ridge = Ridge(alpha = alpha)\n",
    "    \n",
    "    # cross validation score를 이용해서 5 fold 의 평균 RMSE 계산\n",
    "    neg_mse_scores = cross_val_score(ridge, X_data, y_target, scoring = \"neg_mean_squared_error\", cv = 5)\n",
    "    avg_rmse = np.mean(np.sqrt(-1 * neg_mse_scores))\n",
    "    print('alpha {0}일 때 5 fold의 평균 RMSE : {1:.3f}'.format(alpha, avg_rmse))\n",
    "    "
   ]
  },
  {
   "cell_type": "code",
   "execution_count": 24,
   "metadata": {},
   "outputs": [
    {
     "data": {
      "image/png": "[encoded data removed]",
      "text/plain": [
       "<Figure size 576x432 with 5 Axes>"
      ]
     },
     "metadata": {
      "image/png": {
       "height": 403,
       "width": 632
      }
     },
     "output_type": "display_data"
    }
   ],
   "source": [
    "# alpha 값의 변화에 따른 피쳐의 회귀 계수값을 시각화\n",
    "# 5열 matplotlib 축 생성\n",
    "fig, axs = plt.subplots(figsize = (8, 6), nrows = 1, ncols = 5)\n",
    "\n",
    "# 각 alpha에 따른 회귀 계수 값을 데이터로 저장하기 위한 DataFrame \n",
    "coeff_df = pd.DataFrame()\n",
    "\n",
    "# alpha 리스트 값을 차례로 입력해 회귀계수 값 시각화 및 데이터 저장\n",
    "# pos는 axis 위치 지정\n",
    "for pos, alpha in enumerate(alphas):\n",
    "    ridge = Ridge(alpha = alpha)\n",
    "    ridge.fit(X_data, y_target)\n",
    "    # alpha 에 따른 피쳐별로 회귀 계수를 Series로 변환하고 이를 DataFrame 컬럼으로 추가\n",
    "    coeff = pd.Series(data = ridge.coef_, index = X_data.columns)\n",
    "    colname = 'alpha:' + str(alpha)\n",
    "    coeff_df[colname] = coeff\n",
    "    # 막대 그래프로 각 alpha 값에서의 회귀 계수를 시각화. sorting\n",
    "    coeff = coeff.sort_values(ascending = False)\n",
    "    axs[pos].set_title(colname)\n",
    "    axs[pos].set_xlim(-3, 6)\n",
    "    sns.barplot(x = coeff.values, y = coeff.index, ax = axs[pos])\n",
    "\n",
    "plt.show()\n",
    "    "
   ]
  },
  {
   "cell_type": "code",
   "execution_count": 27,
   "metadata": {},
   "outputs": [
    {
     "data": {
      "text/html": [
       "<div>\n",
       "<style scoped>\n",
       "    .dataframe tbody tr th:only-of-type {\n",
       "        vertical-align: middle;\n",
       "    }\n",
       "\n",
       "    .dataframe tbody tr th {\n",
       "        vertical-align: top;\n",
       "    }\n",
       "\n",
       "    .dataframe thead th {\n",
       "        text-align: right;\n",
       "    }\n",
       "</style>\n",
       "<table border=\"1\" class=\"dataframe\">\n",
       "  <thead>\n",
       "    <tr style=\"text-align: right;\">\n",
       "      <th></th>\n",
       "      <th>alpha:0</th>\n",
       "      <th>alpha:0.1</th>\n",
       "      <th>alpha:1</th>\n",
       "      <th>alpha:10</th>\n",
       "      <th>alpha:100</th>\n",
       "    </tr>\n",
       "  </thead>\n",
       "  <tbody>\n",
       "    <tr>\n",
       "      <th>hy_change</th>\n",
       "      <td>0.414513</td>\n",
       "      <td>0.401144</td>\n",
       "      <td>0.309909</td>\n",
       "      <td>0.095620</td>\n",
       "      <td>0.012230</td>\n",
       "    </tr>\n",
       "    <tr>\n",
       "      <th>ts_change</th>\n",
       "      <td>0.196470</td>\n",
       "      <td>0.185897</td>\n",
       "      <td>0.129426</td>\n",
       "      <td>0.035747</td>\n",
       "      <td>0.004469</td>\n",
       "    </tr>\n",
       "    <tr>\n",
       "      <th>google_change</th>\n",
       "      <td>0.078359</td>\n",
       "      <td>0.075561</td>\n",
       "      <td>0.057313</td>\n",
       "      <td>0.018704</td>\n",
       "      <td>0.002524</td>\n",
       "    </tr>\n",
       "    <tr>\n",
       "      <th>intel_change</th>\n",
       "      <td>0.029241</td>\n",
       "      <td>0.027602</td>\n",
       "      <td>0.021614</td>\n",
       "      <td>0.010798</td>\n",
       "      <td>0.001719</td>\n",
       "    </tr>\n",
       "    <tr>\n",
       "      <th>micron_change</th>\n",
       "      <td>-0.002791</td>\n",
       "      <td>0.001287</td>\n",
       "      <td>0.021567</td>\n",
       "      <td>0.024158</td>\n",
       "      <td>0.004190</td>\n",
       "    </tr>\n",
       "  </tbody>\n",
       "</table>\n",
       "</div>"
      ],
      "text/plain": [
       "                alpha:0  alpha:0.1   alpha:1  alpha:10  alpha:100\n",
       "hy_change      0.414513  0.401144   0.309909  0.095620  0.012230 \n",
       "ts_change      0.196470  0.185897   0.129426  0.035747  0.004469 \n",
       "google_change  0.078359  0.075561   0.057313  0.018704  0.002524 \n",
       "intel_change   0.029241  0.027602   0.021614  0.010798  0.001719 \n",
       "micron_change -0.002791  0.001287   0.021567  0.024158  0.004190 "
      ]
     },
     "execution_count": 27,
     "metadata": {},
     "output_type": "execute_result"
    }
   ],
   "source": [
    "# alpha값을 증가시킬 수록 회귀 계쑤값이 작아지는 것 확인\n",
    "# DataFrame에 저장된 alpha값의 변화에 따른 Ridge 회귀계수값 확인\n",
    "ridge_alphas = [0, 0.1, 1, 10, 100]\n",
    "sort_column = 'alpha:' + str(ridge_alphas[0])\n",
    "coeff_df.sort_values(by = sort_column, ascending = False)"
   ]
  },
  {
   "cell_type": "code",
   "execution_count": null,
   "metadata": {},
   "outputs": [],
   "source": []
  }
 ],
 "metadata": {
  "kernelspec": {
   "display_name": "Tensorflow Python 3.6",
   "language": "python",
   "name": "tf-py36"
  },
  "language_info": {
   "codemirror_mode": {
    "name": "ipython",
    "version": 3
   },
   "file_extension": ".py",
   "mimetype": "text/x-python",
   "name": "python",
   "nbconvert_exporter": "python",
   "pygments_lexer": "ipython3",
   "version": "3.6.9"
  }
 },
 "nbformat": 4,
 "nbformat_minor": 2
}
