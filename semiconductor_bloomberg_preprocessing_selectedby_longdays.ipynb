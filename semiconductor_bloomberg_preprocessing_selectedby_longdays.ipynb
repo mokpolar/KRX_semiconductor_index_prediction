{
 "cells": [
  {
   "cell_type": "code",
   "execution_count": 1,
   "metadata": {},
   "outputs": [
    {
     "name": "stdout",
     "output_type": "stream",
     "text": [
      "00. _wd - working day.txt\r\n",
      "01. KRXworkingDay_from1980.csv\r\n",
      "\u001b[34mCSV\u001b[m\u001b[m/\r\n",
      "\u001b[34mCurrency\u001b[m\u001b[m/\r\n",
      "Currency_describe_directory_list.ipynb\r\n",
      "\u001b[34mKOR\u001b[m\u001b[m/\r\n",
      "KRX반도체_SK하이닉스_KOSPI200.xlsx\r\n",
      "Korean_stock_describe.ipynb\r\n",
      "README.md\r\n",
      "Ridge_baseline.ipynb\r\n",
      "\u001b[34mTaiwan\u001b[m\u001b[m/\r\n",
      "Taiwan_describe_directory_list.ipynb\r\n",
      "\u001b[34mUS\u001b[m\u001b[m/\r\n",
      "US_stock_describe_list_final.ipynb\r\n",
      "_Rhistory\r\n",
      "bloomberg_dataprocessing-Copy1.ipynb\r\n",
      "bloomberg_dataprocessing.ipynb\r\n",
      "bloomberg_smc_describe.xlsx\r\n",
      "data_change_ver0.1.csv\r\n",
      "data_change_ver0.2.csv\r\n",
      "df_test.csv\r\n",
      "df_test2.csv\r\n",
      "economic_smc.csv\r\n",
      "eda.ipynb\r\n",
      "eda_from_change.ipynb\r\n",
      "eda_var_name.csv\r\n",
      "lasso_baseline.ipynb\r\n",
      "list\r\n",
      "list.csv\r\n",
      "logistic_classifier_baseline.ipynb\r\n",
      "\u001b[34mnew\u001b[m\u001b[m/\r\n",
      "ols_baseline_regression.ipynb\r\n",
      "preprocessing.ipynb\r\n",
      "preprocessing.py\r\n",
      "semiconductor_bloomberg_preprocessing.ipynb\r\n",
      "semiconductor_bloomberg_preprocessing_selectedby_longdays.ipynb\r\n",
      "semiconductor_feature_list_bloomberg.xlsx\r\n",
      "total_data.csv\r\n",
      "totaldata_preprocessing.ipynb\r\n",
      "tree_based_regressor_baseline.ipynb\r\n",
      "~$bloomberg_smc_describe.xlsx\r\n"
     ]
    }
   ],
   "source": [
    "ls"
   ]
  },
  {
   "cell_type": "code",
   "execution_count": 2,
   "metadata": {},
   "outputs": [
    {
     "data": {
      "text/plain": [
       "'/Users/mokpolar/Documents/GitHub/KRX_semiconductor_index_prediction'"
      ]
     },
     "execution_count": 2,
     "metadata": {},
     "output_type": "execute_result"
    }
   ],
   "source": [
    "pwd"
   ]
  },
  {
   "cell_type": "code",
   "execution_count": 21,
   "metadata": {},
   "outputs": [],
   "source": [
    "import pandas as pd\n",
    "import re\n",
    "%matplotlib inline"
   ]
  },
  {
   "cell_type": "code",
   "execution_count": 22,
   "metadata": {},
   "outputs": [],
   "source": [
    "eco = pd.read_csv('/Users/mokpolar/Downloads/bloomberg_raw/economic.csv')"
   ]
  },
  {
   "cell_type": "code",
   "execution_count": 23,
   "metadata": {},
   "outputs": [],
   "source": [
    "eco.set_index('col0', inplace = True)"
   ]
  },
  {
   "cell_type": "code",
   "execution_count": 24,
   "metadata": {
    "scrolled": true
   },
   "outputs": [
    {
     "data": {
      "text/html": [
       "<div>\n",
       "<style scoped>\n",
       "    .dataframe tbody tr th:only-of-type {\n",
       "        vertical-align: middle;\n",
       "    }\n",
       "\n",
       "    .dataframe tbody tr th {\n",
       "        vertical-align: top;\n",
       "    }\n",
       "\n",
       "    .dataframe thead th {\n",
       "        text-align: right;\n",
       "    }\n",
       "</style>\n",
       "<table border=\"1\" class=\"dataframe\">\n",
       "  <thead>\n",
       "    <tr style=\"text-align: right;\">\n",
       "      <th></th>\n",
       "      <th>col1</th>\n",
       "      <th>col2</th>\n",
       "      <th>col3</th>\n",
       "      <th>col4</th>\n",
       "    </tr>\n",
       "    <tr>\n",
       "      <th>col0</th>\n",
       "      <th></th>\n",
       "      <th></th>\n",
       "      <th></th>\n",
       "      <th></th>\n",
       "    </tr>\n",
       "  </thead>\n",
       "  <tbody>\n",
       "    <tr>\n",
       "      <th>GDP CQOQ Index</th>\n",
       "      <td>0</td>\n",
       "      <td>1</td>\n",
       "      <td>03/31/1981</td>\n",
       "      <td>8.1</td>\n",
       "    </tr>\n",
       "    <tr>\n",
       "      <th>GDP CQOQ Index</th>\n",
       "      <td>0</td>\n",
       "      <td>1</td>\n",
       "      <td>06/30/1981</td>\n",
       "      <td>-2.9</td>\n",
       "    </tr>\n",
       "    <tr>\n",
       "      <th>GDP CQOQ Index</th>\n",
       "      <td>0</td>\n",
       "      <td>1</td>\n",
       "      <td>09/30/1981</td>\n",
       "      <td>4.9</td>\n",
       "    </tr>\n",
       "    <tr>\n",
       "      <th>GDP CQOQ Index</th>\n",
       "      <td>0</td>\n",
       "      <td>1</td>\n",
       "      <td>12/31/1981</td>\n",
       "      <td>-4.3</td>\n",
       "    </tr>\n",
       "    <tr>\n",
       "      <th>GDP CQOQ Index</th>\n",
       "      <td>0</td>\n",
       "      <td>1</td>\n",
       "      <td>03/31/1982</td>\n",
       "      <td>-6.1</td>\n",
       "    </tr>\n",
       "  </tbody>\n",
       "</table>\n",
       "</div>"
      ],
      "text/plain": [
       "                col1  col2        col3  col4\n",
       "col0                                        \n",
       "GDP CQOQ Index     0     1  03/31/1981   8.1\n",
       "GDP CQOQ Index     0     1  06/30/1981  -2.9\n",
       "GDP CQOQ Index     0     1  09/30/1981   4.9\n",
       "GDP CQOQ Index     0     1  12/31/1981  -4.3\n",
       "GDP CQOQ Index     0     1  03/31/1982  -6.1"
      ]
     },
     "execution_count": 24,
     "metadata": {},
     "output_type": "execute_result"
    }
   ],
   "source": [
    "eco.head()"
   ]
  },
  {
   "cell_type": "code",
   "execution_count": 25,
   "metadata": {},
   "outputs": [],
   "source": [
    "eco = eco.loc[['FDTR Index',\n",
    "'USGG3M Index',\n",
    "'USGG10YR Index',\n",
    "'USTW$ Index',\n",
    "'INJCJC Index',\n",
    "'INJCSP Index',\n",
    "'USEMNCHG Index',\n",
    "'NFP PCH Index',\n",
    "'NFP TCH Index',\n",
    "'USMMMNCH Index',\n",
    "'OUTFGAF Index',\n",
    "'KOIMTOTY Index',\n",
    "'KOFETOT% Index',\n",
    "'KOEXTOTY Index',\n",
    "'KOCPIMOM Index',\n",
    "'SKCIMOM Index',\n",
    "'USHETOT% Index',\n",
    "'KOCPIYOY Index',\n",
    "'SKCIYOY Index',\n",
    "'USHEYOY Index',\n",
    "'USURTOT Index',\n",
    "'KOFETOT Index',\n",
    "'SAARTOTL Index',\n",
    "'NAPMPRIC Index',\n",
    "'KOCPI Index',\n",
    "'CONCCONF Index',\n",
    "'NAPMNEWO Index',\n",
    "'SKCITTL Index',\n",
    "'CHPMINDX Index',\n",
    "'USWHTOT Index',\n",
    "'NAPMPMI Index',\n",
    "'SKBSIC Index',\n",
    "'CONSSENT Index',\n",
    "'USERTOT Index',\n",
    "'LEI WKIJ Index',\n",
    "'KOEXTOT Index',\n",
    "'KOIMTOT Index',\n",
    "'NFP T Index',\n",
    "'USEMTOT Index',\n",
    "'KOIVCONY Index',\n",
    "'KOEXPTIY Index',\n",
    "'KOIMPTIY Index',\n",
    "'KOIPMY Index',\n",
    "'KOIPIY Index',\n",
    "'KOPSIY Index',\n",
    "'LEI YOY Index',\n",
    "'KOPIIY Index',\n",
    "'IP  YOY Index',\n",
    "'KOIPOPSM Index',\n",
    "'KOEXPTIM Index',\n",
    "'KOIPMSM Index',\n",
    "'KOIPIMOM Index',\n",
    "'TMNOCHNG Index',\n",
    "'KOIPMCY Index',\n",
    "'KOIMPTIM Index',\n",
    "'LEI IRTE Index',\n",
    "'PITLYOY Index',\n",
    "'CFNAI Index',\n",
    "'PITLCHNG Index',\n",
    "'KOPPIYOY Index',\n",
    "'IP  CHNG Index',\n",
    "'CFNAIMA3 Index',\n",
    "'LEI CHNG Index',\n",
    "'LEI ACE Index',\n",
    "'SKLILY Index',\n",
    "'KOPPIMOM Index',\n",
    "'CPI YOY Index',\n",
    "'CPI CHNG Index',\n",
    "'PCE DEFY Index',\n",
    "'CPUPXCHG Index',\n",
    "'CPI XYOY Index',\n",
    "'PCE CYOY Index',\n",
    "'PIDSDPS Index',\n",
    "'KOIPMS Index',\n",
    "'KOIPISA Index',\n",
    "'SKLILI Index',\n",
    "'SKLILC Index',\n",
    "'SKLICI Index',\n",
    "'KOIPMC Index',\n",
    "'KOIMPTI Index',\n",
    "'LEI AVGW Index',\n",
    "'KOPPI Index',\n",
    "'IP Index',\n",
    "'LEI TOTL Index',\n",
    "'KOEXPTI Index',\n",
    "'CPTICHNG Index',\n",
    "'LEI STKP Index',\n",
    "'LEI BP Index',\n",
    "'PIDSPINX Index',\n",
    "'LEI MNO Index',\n",
    "'LEI NWCN Index',\n",
    "'KOBPCB Index',\n",
    "'KOBPFIN Index',\n",
    "'KOBPTB Index',\n",
    "'KODIBAL Index',\n",
    "'FRNTTNET Index',\n",
    "'FRNTTOTL Index',\n",
    "'KOBPCA Index',\n",
    "'KOMSMBY Index',\n",
    "'CICRTOT Index',\n",
    "'KOMSM1FY Index',\n",
    "'KOMSM1Y Index',\n",
    "'MTIBCHNG Index',\n",
    "'MGT2TB Index',\n",
    "'MGT2RE Index',\n",
    "'OEUSKLAP Index',\n",
    "'OEUSKLAR Index',\n",
    "'OEKRN022 Index',\n",
    "'GPDITOC% Index',\n",
    "'KOECGCPY Index',\n",
    "'KOECIMPY Index',\n",
    "'KOECGCSY Index',\n",
    "'KOECSIMQ Index',\n",
    "'KOECPRCY Index',\n",
    "'KOECSPRQ Index',\n",
    "'KOECFCSY Index',\n",
    "'KOECFCOY Index',\n",
    "'KOECSEMQ Index',\n",
    "'GDP CQOQ Index',\n",
    "'GPGSTOC% Index',\n",
    "'KOECEXPY Index',\n",
    "'GDP CYOY Index',\n",
    "'GDPCTOT% Index',\n",
    "'GDP CURY Index',\n",
    "'KOECSGVQ Index',\n",
    "'KOECGVTY Index',\n",
    "'GDP PIQQ Index',\n",
    "'GDPCPCEC Index',\n",
    "'GDP CUR$ Index',\n",
    "'USCABAL Index',\n",
    "'JNVNIYOY Index',\n",
    "'COSTNFR% Index',\n",
    "'KOGNICNY Index',\n",
    "'KODFTOTY Index',\n",
    "'KOGNICUY Index',\n",
    "'EHCAUS Index',\n",
    "'KOGCGDPY Index',\n",
    "'PRODNFR% Index',\n",
    "'KOGCSTOQ Index'], :]"
   ]
  },
  {
   "cell_type": "code",
   "execution_count": 33,
   "metadata": {},
   "outputs": [
    {
     "data": {
      "text/html": [
       "<div>\n",
       "<style scoped>\n",
       "    .dataframe tbody tr th:only-of-type {\n",
       "        vertical-align: middle;\n",
       "    }\n",
       "\n",
       "    .dataframe tbody tr th {\n",
       "        vertical-align: top;\n",
       "    }\n",
       "\n",
       "    .dataframe thead th {\n",
       "        text-align: right;\n",
       "    }\n",
       "</style>\n",
       "<table border=\"1\" class=\"dataframe\">\n",
       "  <thead>\n",
       "    <tr style=\"text-align: right;\">\n",
       "      <th></th>\n",
       "      <th>col0</th>\n",
       "      <th>col1</th>\n",
       "      <th>col2</th>\n",
       "      <th>col3</th>\n",
       "      <th>col4</th>\n",
       "    </tr>\n",
       "  </thead>\n",
       "  <tbody>\n",
       "    <tr>\n",
       "      <th>0</th>\n",
       "      <td>FDTR Index</td>\n",
       "      <td>0</td>\n",
       "      <td>1</td>\n",
       "      <td>01/01/1981</td>\n",
       "      <td>18</td>\n",
       "    </tr>\n",
       "    <tr>\n",
       "      <th>1</th>\n",
       "      <td>FDTR Index</td>\n",
       "      <td>0</td>\n",
       "      <td>1</td>\n",
       "      <td>01/02/1981</td>\n",
       "      <td>18</td>\n",
       "    </tr>\n",
       "    <tr>\n",
       "      <th>2</th>\n",
       "      <td>FDTR Index</td>\n",
       "      <td>0</td>\n",
       "      <td>1</td>\n",
       "      <td>01/05/1981</td>\n",
       "      <td>18</td>\n",
       "    </tr>\n",
       "    <tr>\n",
       "      <th>3</th>\n",
       "      <td>FDTR Index</td>\n",
       "      <td>0</td>\n",
       "      <td>1</td>\n",
       "      <td>01/06/1981</td>\n",
       "      <td>18</td>\n",
       "    </tr>\n",
       "    <tr>\n",
       "      <th>4</th>\n",
       "      <td>FDTR Index</td>\n",
       "      <td>0</td>\n",
       "      <td>1</td>\n",
       "      <td>01/07/1981</td>\n",
       "      <td>18</td>\n",
       "    </tr>\n",
       "  </tbody>\n",
       "</table>\n",
       "</div>"
      ],
      "text/plain": [
       "         col0  col1  col2        col3 col4\n",
       "0  FDTR Index     0     1  01/01/1981   18\n",
       "1  FDTR Index     0     1  01/02/1981   18\n",
       "2  FDTR Index     0     1  01/05/1981   18\n",
       "3  FDTR Index     0     1  01/06/1981   18\n",
       "4  FDTR Index     0     1  01/07/1981   18"
      ]
     },
     "execution_count": 33,
     "metadata": {},
     "output_type": "execute_result"
    }
   ],
   "source": [
    "eco.head()"
   ]
  },
  {
   "cell_type": "code",
   "execution_count": 27,
   "metadata": {},
   "outputs": [],
   "source": [
    "eco.reset_index(inplace = True)"
   ]
  },
  {
   "cell_type": "code",
   "execution_count": 30,
   "metadata": {},
   "outputs": [
    {
     "data": {
      "text/plain": [
       "93701"
      ]
     },
     "execution_count": 30,
     "metadata": {},
     "output_type": "execute_result"
    }
   ],
   "source": [
    "len(eco)"
   ]
  },
  {
   "cell_type": "code",
   "execution_count": 29,
   "metadata": {},
   "outputs": [],
   "source": [
    "eco.to_csv('bloomberg_smc_longdays.csv')"
   ]
  },
  {
   "cell_type": "code",
   "execution_count": null,
   "metadata": {},
   "outputs": [],
   "source": []
  },
  {
   "cell_type": "code",
   "execution_count": 34,
   "metadata": {},
   "outputs": [
    {
     "name": "stdout",
     "output_type": "stream",
     "text": [
      "<class 'pandas.core.frame.DataFrame'>\n",
      "RangeIndex: 93701 entries, 0 to 93700\n",
      "Data columns (total 5 columns):\n",
      "col0    93701 non-null object\n",
      "col1    93701 non-null int64\n",
      "col2    93701 non-null int64\n",
      "col3    93701 non-null object\n",
      "col4    93701 non-null object\n",
      "dtypes: int64(2), object(3)\n",
      "memory usage: 3.6+ MB\n"
     ]
    }
   ],
   "source": [
    "eco.info()"
   ]
  },
  {
   "cell_type": "markdown",
   "metadata": {},
   "source": [
    "### --- 여기까지는 Column 뽑아내기 ---"
   ]
  },
  {
   "cell_type": "code",
   "execution_count": 236,
   "metadata": {},
   "outputs": [],
   "source": [
    "eco = pd.read_csv('bloomberg_smc_longdays.csv.csv')"
   ]
  },
  {
   "cell_type": "code",
   "execution_count": 35,
   "metadata": {},
   "outputs": [
    {
     "data": {
      "text/plain": [
       "93701"
      ]
     },
     "execution_count": 35,
     "metadata": {},
     "output_type": "execute_result"
    }
   ],
   "source": [
    "len(eco)"
   ]
  },
  {
   "cell_type": "code",
   "execution_count": 36,
   "metadata": {},
   "outputs": [
    {
     "data": {
      "text/html": [
       "<div>\n",
       "<style scoped>\n",
       "    .dataframe tbody tr th:only-of-type {\n",
       "        vertical-align: middle;\n",
       "    }\n",
       "\n",
       "    .dataframe tbody tr th {\n",
       "        vertical-align: top;\n",
       "    }\n",
       "\n",
       "    .dataframe thead th {\n",
       "        text-align: right;\n",
       "    }\n",
       "</style>\n",
       "<table border=\"1\" class=\"dataframe\">\n",
       "  <thead>\n",
       "    <tr style=\"text-align: right;\">\n",
       "      <th></th>\n",
       "      <th>col0</th>\n",
       "      <th>col1</th>\n",
       "      <th>col2</th>\n",
       "      <th>col3</th>\n",
       "      <th>col4</th>\n",
       "    </tr>\n",
       "  </thead>\n",
       "  <tbody>\n",
       "    <tr>\n",
       "      <th>0</th>\n",
       "      <td>FDTR Index</td>\n",
       "      <td>0</td>\n",
       "      <td>1</td>\n",
       "      <td>01/01/1981</td>\n",
       "      <td>18</td>\n",
       "    </tr>\n",
       "    <tr>\n",
       "      <th>1</th>\n",
       "      <td>FDTR Index</td>\n",
       "      <td>0</td>\n",
       "      <td>1</td>\n",
       "      <td>01/02/1981</td>\n",
       "      <td>18</td>\n",
       "    </tr>\n",
       "    <tr>\n",
       "      <th>2</th>\n",
       "      <td>FDTR Index</td>\n",
       "      <td>0</td>\n",
       "      <td>1</td>\n",
       "      <td>01/05/1981</td>\n",
       "      <td>18</td>\n",
       "    </tr>\n",
       "    <tr>\n",
       "      <th>3</th>\n",
       "      <td>FDTR Index</td>\n",
       "      <td>0</td>\n",
       "      <td>1</td>\n",
       "      <td>01/06/1981</td>\n",
       "      <td>18</td>\n",
       "    </tr>\n",
       "    <tr>\n",
       "      <th>4</th>\n",
       "      <td>FDTR Index</td>\n",
       "      <td>0</td>\n",
       "      <td>1</td>\n",
       "      <td>01/07/1981</td>\n",
       "      <td>18</td>\n",
       "    </tr>\n",
       "  </tbody>\n",
       "</table>\n",
       "</div>"
      ],
      "text/plain": [
       "         col0  col1  col2        col3 col4\n",
       "0  FDTR Index     0     1  01/01/1981   18\n",
       "1  FDTR Index     0     1  01/02/1981   18\n",
       "2  FDTR Index     0     1  01/05/1981   18\n",
       "3  FDTR Index     0     1  01/06/1981   18\n",
       "4  FDTR Index     0     1  01/07/1981   18"
      ]
     },
     "execution_count": 36,
     "metadata": {},
     "output_type": "execute_result"
    }
   ],
   "source": [
    "eco.head()"
   ]
  },
  {
   "cell_type": "code",
   "execution_count": 37,
   "metadata": {},
   "outputs": [],
   "source": [
    "eco['col4'] = pd.to_numeric(eco['col4'])"
   ]
  },
  {
   "cell_type": "code",
   "execution_count": 38,
   "metadata": {},
   "outputs": [
    {
     "name": "stdout",
     "output_type": "stream",
     "text": [
      "<class 'pandas.core.frame.DataFrame'>\n",
      "RangeIndex: 93701 entries, 0 to 93700\n",
      "Data columns (total 5 columns):\n",
      "col0    93701 non-null object\n",
      "col1    93701 non-null int64\n",
      "col2    93701 non-null int64\n",
      "col3    93701 non-null object\n",
      "col4    93701 non-null float64\n",
      "dtypes: float64(1), int64(2), object(2)\n",
      "memory usage: 3.6+ MB\n"
     ]
    }
   ],
   "source": [
    "eco.info()"
   ]
  },
  {
   "cell_type": "code",
   "execution_count": 39,
   "metadata": {},
   "outputs": [
    {
     "data": {
      "text/plain": [
       "88915     -9865.3\n",
       "88956     -9411.8\n",
       "88916     -5026.2\n",
       "88957     -4051.9\n",
       "88917     -3971.8\n",
       "           ...   \n",
       "57923    157288.0\n",
       "57924    157878.0\n",
       "81360    158103.0\n",
       "57925    158269.0\n",
       "57926    158510.0\n",
       "Name: col4, Length: 93701, dtype: float64"
      ]
     },
     "execution_count": 39,
     "metadata": {},
     "output_type": "execute_result"
    }
   ],
   "source": [
    "eco['col4'].sort_values()"
   ]
  },
  {
   "cell_type": "code",
   "execution_count": 40,
   "metadata": {},
   "outputs": [],
   "source": [
    "# col3 type datetime으로 만들기 \n",
    "eco['col3'] = pd.to_datetime(eco['col3'])"
   ]
  },
  {
   "cell_type": "code",
   "execution_count": 41,
   "metadata": {},
   "outputs": [
    {
     "data": {
      "text/plain": [
       "139"
      ]
     },
     "execution_count": 41,
     "metadata": {},
     "output_type": "execute_result"
    }
   ],
   "source": [
    "# 변수 종류는 289개\n",
    "len(eco['col0'].unique())"
   ]
  },
  {
   "cell_type": "code",
   "execution_count": 42,
   "metadata": {
    "scrolled": false
   },
   "outputs": [
    {
     "name": "stdout",
     "output_type": "stream",
     "text": [
      "0 FDTR Index 9747\n",
      "1 USGG3M Index 9786\n",
      "2 USGG10YR Index 9790\n",
      "3 USTW$ Index 9591\n",
      "4 INJCJC Index 1983\n",
      "5 INJCSP Index 1982\n",
      "6 USEMNCHG Index 456\n",
      "7 NFP PCH Index 456\n",
      "8 NFP TCH Index 456\n",
      "9 USMMMNCH Index 456\n",
      "10 OUTFGAF Index 456\n",
      "11 KOIMTOTY Index 456\n",
      "12 KOFETOT% Index 456\n",
      "13 KOEXTOTY Index 456\n",
      "14 KOCPIMOM Index 456\n",
      "15 SKCIMOM Index 456\n",
      "16 USHETOT% Index 456\n",
      "17 KOCPIYOY Index 456\n",
      "18 SKCIYOY Index 456\n",
      "19 USHEYOY Index 456\n",
      "20 USURTOT Index 456\n",
      "21 KOFETOT Index 456\n",
      "22 SAARTOTL Index 456\n",
      "23 NAPMPRIC Index 456\n",
      "24 KOCPI Index 456\n",
      "25 CONCCONF Index 456\n",
      "26 NAPMNEWO Index 456\n",
      "27 SKCITTL Index 456\n",
      "28 CHPMINDX Index 456\n",
      "29 USWHTOT Index 456\n",
      "30 NAPMPMI Index 456\n",
      "31 SKBSIC Index 456\n",
      "32 CONSSENT Index 456\n",
      "33 USERTOT Index 456\n",
      "34 LEI WKIJ Index 456\n",
      "35 KOEXTOT Index 456\n",
      "36 KOIMTOT Index 456\n",
      "37 NFP T Index 456\n",
      "38 USEMTOT Index 456\n",
      "39 KOIVCONY Index 455\n",
      "40 KOEXPTIY Index 455\n",
      "41 KOIMPTIY Index 455\n",
      "42 KOIPMY Index 455\n",
      "43 KOIPIY Index 455\n",
      "44 KOPSIY Index 455\n",
      "45 LEI YOY Index 455\n",
      "46 KOPIIY Index 455\n",
      "47 IP  YOY Index 455\n",
      "48 KOIPOPSM Index 455\n",
      "49 KOEXPTIM Index 455\n",
      "50 KOIPMSM Index 455\n",
      "51 KOIPIMOM Index 455\n",
      "52 TMNOCHNG Index 455\n",
      "53 KOIPMCY Index 455\n",
      "54 KOIMPTIM Index 455\n",
      "55 LEI IRTE Index 455\n",
      "56 PITLYOY Index 455\n",
      "57 CFNAI Index 455\n",
      "58 PITLCHNG Index 455\n",
      "59 KOPPIYOY Index 455\n",
      "60 IP  CHNG Index 455\n",
      "61 CFNAIMA3 Index 455\n",
      "62 LEI CHNG Index 455\n",
      "63 LEI ACE Index 455\n",
      "64 SKLILY Index 455\n",
      "65 KOPPIMOM Index 455\n",
      "66 CPI YOY Index 455\n",
      "67 CPI CHNG Index 455\n",
      "68 PCE DEFY Index 455\n",
      "69 CPUPXCHG Index 455\n",
      "70 CPI XYOY Index 455\n",
      "71 PCE CYOY Index 455\n",
      "72 PIDSDPS Index 455\n",
      "73 KOIPMS Index 455\n",
      "74 KOIPISA Index 455\n",
      "75 SKLILI Index 455\n",
      "76 SKLILC Index 455\n",
      "77 SKLICI Index 455\n",
      "78 KOIPMC Index 455\n",
      "79 KOIMPTI Index 455\n",
      "80 LEI AVGW Index 455\n",
      "81 KOPPI Index 455\n",
      "82 IP Index 455\n",
      "83 LEI TOTL Index 455\n",
      "84 KOEXPTI Index 455\n",
      "85 CPTICHNG Index 455\n",
      "86 LEI STKP Index 455\n",
      "87 LEI BP Index 455\n",
      "88 PIDSPINX Index 455\n",
      "89 LEI MNO Index 455\n",
      "90 LEI NWCN Index 455\n",
      "91 KOBPCB Index 454\n",
      "92 KOBPFIN Index 454\n",
      "93 KOBPTB Index 454\n",
      "94 KODIBAL Index 454\n",
      "95 FRNTTNET Index 454\n",
      "96 FRNTTOTL Index 454\n",
      "97 KOBPCA Index 454\n",
      "98 KOMSMBY Index 454\n",
      "99 CICRTOT Index 454\n",
      "100 KOMSM1FY Index 454\n",
      "101 KOMSM1Y Index 454\n",
      "102 MTIBCHNG Index 454\n",
      "103 MGT2TB Index 454\n",
      "104 MGT2RE Index 454\n",
      "105 OEUSKLAP Index 452\n",
      "106 OEUSKLAR Index 452\n",
      "107 OEKRN022 Index 152\n",
      "108 GPDITOC% Index 152\n",
      "109 KOECGCPY Index 152\n",
      "110 KOECIMPY Index 152\n",
      "111 KOECGCSY Index 152\n",
      "112 KOECSIMQ Index 152\n",
      "113 KOECPRCY Index 152\n",
      "114 KOECSPRQ Index 152\n",
      "115 KOECFCSY Index 152\n",
      "116 KOECFCOY Index 152\n",
      "117 KOECSEMQ Index 152\n",
      "118 GDP CQOQ Index 152\n",
      "119 GPGSTOC% Index 152\n",
      "120 KOECEXPY Index 152\n",
      "121 GDP CYOY Index 152\n",
      "122 GDPCTOT% Index 152\n",
      "123 GDP CURY Index 152\n",
      "124 KOECSGVQ Index 152\n",
      "125 KOECGVTY Index 152\n",
      "126 GDP PIQQ Index 152\n",
      "127 GDPCPCEC Index 152\n",
      "128 GDP CUR$ Index 152\n",
      "129 USCABAL Index 151\n",
      "130 JNVNIYOY Index 151\n",
      "131 COSTNFR% Index 151\n",
      "132 KOGNICNY Index 151\n",
      "133 KODFTOTY Index 151\n",
      "134 KOGNICUY Index 151\n",
      "135 EHCAUS Index 151\n",
      "136 KOGCGDPY Index 151\n",
      "137 PRODNFR% Index 151\n",
      "138 KOGCSTOQ Index 151\n"
     ]
    }
   ],
   "source": [
    "# 변수별로 데이터 갯수 확인 필요 뭐야 이거 시박 다 다르네\n",
    "for i, j in enumerate(eco['col0'].unique()):\n",
    "    print(i, eco['col0'].unique()[i], len(eco[eco['col0'] == j]))    "
   ]
  },
  {
   "cell_type": "code",
   "execution_count": 46,
   "metadata": {},
   "outputs": [],
   "source": [
    "k = pd.DataFrame()"
   ]
  },
  {
   "cell_type": "code",
   "execution_count": 47,
   "metadata": {},
   "outputs": [],
   "source": [
    "k_1 = []"
   ]
  },
  {
   "cell_type": "code",
   "execution_count": 49,
   "metadata": {},
   "outputs": [],
   "source": [
    "# 변수별로 데이터 갯수 확인해서 데이터 프레임으로 만들어 보자 \n",
    "for i, j in enumerate(eco['col0'].unique()):\n",
    "    k_1.append([i, eco['col0'].unique()[i], len(eco[eco['col0'] == j])])"
   ]
  },
  {
   "cell_type": "code",
   "execution_count": 53,
   "metadata": {},
   "outputs": [],
   "source": [
    "import numpy as np"
   ]
  },
  {
   "cell_type": "code",
   "execution_count": 54,
   "metadata": {},
   "outputs": [
    {
     "ename": "AttributeError",
     "evalue": "'list' object has no attribute 'to_ndarray'",
     "output_type": "error",
     "traceback": [
      "\u001b[0;31m---------------------------------------------------------------------------\u001b[0m",
      "\u001b[0;31mAttributeError\u001b[0m                            Traceback (most recent call last)",
      "\u001b[0;32m<ipython-input-54-c917a9307b9d>\u001b[0m in \u001b[0;36m<module>\u001b[0;34m\u001b[0m\n\u001b[0;32m----> 1\u001b[0;31m \u001b[0mk_1\u001b[0m\u001b[0;34m.\u001b[0m\u001b[0mto_ndarray\u001b[0m\u001b[0;34m(\u001b[0m\u001b[0mcolumn\u001b[0m\u001b[0;34m=\u001b[0m \u001b[0;34m[\u001b[0m\u001b[0;34m'index'\u001b[0m\u001b[0;34m,\u001b[0m \u001b[0;34m'ticker'\u001b[0m\u001b[0;34m,\u001b[0m \u001b[0;34m'len_data'\u001b[0m\u001b[0;34m]\u001b[0m\u001b[0;34m)\u001b[0m\u001b[0;34m\u001b[0m\u001b[0;34m\u001b[0m\u001b[0m\n\u001b[0m",
      "\u001b[0;31mAttributeError\u001b[0m: 'list' object has no attribute 'to_ndarray'"
     ]
    }
   ],
   "source": [
    "k_1.to_ndarray(column= ['index', 'ticker', 'len_data'])"
   ]
  },
  {
   "cell_type": "code",
   "execution_count": 56,
   "metadata": {},
   "outputs": [],
   "source": [
    "npa = np.asarray(k_1)"
   ]
  },
  {
   "cell_type": "code",
   "execution_count": 59,
   "metadata": {},
   "outputs": [],
   "source": [
    "k = pd.DataFrame(npa, columns = ['index', 'ticker', 'len_data'])"
   ]
  },
  {
   "cell_type": "code",
   "execution_count": 63,
   "metadata": {},
   "outputs": [],
   "source": [
    "k.drop('index', axis = 1, inplace = True)"
   ]
  },
  {
   "cell_type": "code",
   "execution_count": 65,
   "metadata": {},
   "outputs": [
    {
     "data": {
      "text/html": [
       "<div>\n",
       "<style scoped>\n",
       "    .dataframe tbody tr th:only-of-type {\n",
       "        vertical-align: middle;\n",
       "    }\n",
       "\n",
       "    .dataframe tbody tr th {\n",
       "        vertical-align: top;\n",
       "    }\n",
       "\n",
       "    .dataframe thead th {\n",
       "        text-align: right;\n",
       "    }\n",
       "</style>\n",
       "<table border=\"1\" class=\"dataframe\">\n",
       "  <thead>\n",
       "    <tr style=\"text-align: right;\">\n",
       "      <th></th>\n",
       "      <th>ticker</th>\n",
       "      <th>len_data</th>\n",
       "    </tr>\n",
       "  </thead>\n",
       "  <tbody>\n",
       "    <tr>\n",
       "      <th>0</th>\n",
       "      <td>FDTR Index</td>\n",
       "      <td>9747</td>\n",
       "    </tr>\n",
       "    <tr>\n",
       "      <th>1</th>\n",
       "      <td>USGG3M Index</td>\n",
       "      <td>9786</td>\n",
       "    </tr>\n",
       "    <tr>\n",
       "      <th>2</th>\n",
       "      <td>USGG10YR Index</td>\n",
       "      <td>9790</td>\n",
       "    </tr>\n",
       "    <tr>\n",
       "      <th>3</th>\n",
       "      <td>USTW$ Index</td>\n",
       "      <td>9591</td>\n",
       "    </tr>\n",
       "    <tr>\n",
       "      <th>4</th>\n",
       "      <td>INJCJC Index</td>\n",
       "      <td>1983</td>\n",
       "    </tr>\n",
       "  </tbody>\n",
       "</table>\n",
       "</div>"
      ],
      "text/plain": [
       "           ticker len_data\n",
       "0      FDTR Index     9747\n",
       "1    USGG3M Index     9786\n",
       "2  USGG10YR Index     9790\n",
       "3     USTW$ Index     9591\n",
       "4    INJCJC Index     1983"
      ]
     },
     "execution_count": 65,
     "metadata": {},
     "output_type": "execute_result"
    }
   ],
   "source": [
    "k.head()"
   ]
  },
  {
   "cell_type": "code",
   "execution_count": 66,
   "metadata": {},
   "outputs": [
    {
     "data": {
      "text/plain": [
       "138     151\n",
       "129     151\n",
       "130     151\n",
       "131     151\n",
       "132     151\n",
       "       ... \n",
       "30      456\n",
       "3      9591\n",
       "0      9747\n",
       "1      9786\n",
       "2      9790\n",
       "Name: len_data, Length: 139, dtype: object"
      ]
     },
     "execution_count": 66,
     "metadata": {},
     "output_type": "execute_result"
    }
   ],
   "source": [
    "k['len_data'].sort_values()"
   ]
  },
  {
   "cell_type": "code",
   "execution_count": 71,
   "metadata": {},
   "outputs": [
    {
     "data": {
      "text/plain": [
       "array(['9747', '9786', '9790', '9591', '1983', '1982', '456', '455',\n",
       "       '454', '452', '152', '151'], dtype=object)"
      ]
     },
     "execution_count": 71,
     "metadata": {},
     "output_type": "execute_result"
    }
   ],
   "source": [
    "k['len_data'].unique()"
   ]
  },
  {
   "cell_type": "markdown",
   "metadata": {},
   "source": [
    "데이터 갯수가 152, 151은 분기별 데이터"
   ]
  },
  {
   "cell_type": "code",
   "execution_count": 67,
   "metadata": {},
   "outputs": [
    {
     "data": {
      "text/plain": [
       "ticker      KOGCSTOQ Index\n",
       "len_data               151\n",
       "Name: 138, dtype: object"
      ]
     },
     "execution_count": 67,
     "metadata": {},
     "output_type": "execute_result"
    }
   ],
   "source": [
    "k.loc[138, :]"
   ]
  },
  {
   "cell_type": "code",
   "execution_count": 72,
   "metadata": {},
   "outputs": [
    {
     "data": {
      "text/plain": [
       "ticker      NAPMPMI Index\n",
       "len_data              456\n",
       "Name: 30, dtype: object"
      ]
     },
     "execution_count": 72,
     "metadata": {},
     "output_type": "execute_result"
    }
   ],
   "source": [
    "k.loc[30, :]"
   ]
  },
  {
   "cell_type": "code",
   "execution_count": 68,
   "metadata": {},
   "outputs": [],
   "source": [
    "k.to_csv('bloom_smc_longdays_len_data.csv')"
   ]
  },
  {
   "cell_type": "code",
   "execution_count": 69,
   "metadata": {},
   "outputs": [
    {
     "data": {
      "text/html": [
       "<div>\n",
       "<style scoped>\n",
       "    .dataframe tbody tr th:only-of-type {\n",
       "        vertical-align: middle;\n",
       "    }\n",
       "\n",
       "    .dataframe tbody tr th {\n",
       "        vertical-align: top;\n",
       "    }\n",
       "\n",
       "    .dataframe thead th {\n",
       "        text-align: right;\n",
       "    }\n",
       "</style>\n",
       "<table border=\"1\" class=\"dataframe\">\n",
       "  <thead>\n",
       "    <tr style=\"text-align: right;\">\n",
       "      <th></th>\n",
       "      <th>col0</th>\n",
       "      <th>col1</th>\n",
       "      <th>col2</th>\n",
       "      <th>col3</th>\n",
       "      <th>col4</th>\n",
       "    </tr>\n",
       "  </thead>\n",
       "  <tbody>\n",
       "    <tr>\n",
       "      <th>0</th>\n",
       "      <td>FDTR Index</td>\n",
       "      <td>0</td>\n",
       "      <td>1</td>\n",
       "      <td>1981-01-01</td>\n",
       "      <td>18.0</td>\n",
       "    </tr>\n",
       "    <tr>\n",
       "      <th>1</th>\n",
       "      <td>FDTR Index</td>\n",
       "      <td>0</td>\n",
       "      <td>1</td>\n",
       "      <td>1981-01-02</td>\n",
       "      <td>18.0</td>\n",
       "    </tr>\n",
       "    <tr>\n",
       "      <th>2</th>\n",
       "      <td>FDTR Index</td>\n",
       "      <td>0</td>\n",
       "      <td>1</td>\n",
       "      <td>1981-01-05</td>\n",
       "      <td>18.0</td>\n",
       "    </tr>\n",
       "    <tr>\n",
       "      <th>3</th>\n",
       "      <td>FDTR Index</td>\n",
       "      <td>0</td>\n",
       "      <td>1</td>\n",
       "      <td>1981-01-06</td>\n",
       "      <td>18.0</td>\n",
       "    </tr>\n",
       "    <tr>\n",
       "      <th>4</th>\n",
       "      <td>FDTR Index</td>\n",
       "      <td>0</td>\n",
       "      <td>1</td>\n",
       "      <td>1981-01-07</td>\n",
       "      <td>18.0</td>\n",
       "    </tr>\n",
       "  </tbody>\n",
       "</table>\n",
       "</div>"
      ],
      "text/plain": [
       "         col0  col1  col2       col3  col4\n",
       "0  FDTR Index     0     1 1981-01-01  18.0\n",
       "1  FDTR Index     0     1 1981-01-02  18.0\n",
       "2  FDTR Index     0     1 1981-01-05  18.0\n",
       "3  FDTR Index     0     1 1981-01-06  18.0\n",
       "4  FDTR Index     0     1 1981-01-07  18.0"
      ]
     },
     "execution_count": 69,
     "metadata": {},
     "output_type": "execute_result"
    }
   ],
   "source": [
    "eco.head()"
   ]
  },
  {
   "cell_type": "code",
   "execution_count": 70,
   "metadata": {},
   "outputs": [
    {
     "data": {
      "text/html": [
       "<div>\n",
       "<style scoped>\n",
       "    .dataframe tbody tr th:only-of-type {\n",
       "        vertical-align: middle;\n",
       "    }\n",
       "\n",
       "    .dataframe tbody tr th {\n",
       "        vertical-align: top;\n",
       "    }\n",
       "\n",
       "    .dataframe thead th {\n",
       "        text-align: right;\n",
       "    }\n",
       "</style>\n",
       "<table border=\"1\" class=\"dataframe\">\n",
       "  <thead>\n",
       "    <tr style=\"text-align: right;\">\n",
       "      <th></th>\n",
       "      <th>col0</th>\n",
       "      <th>col1</th>\n",
       "      <th>col2</th>\n",
       "      <th>col3</th>\n",
       "      <th>col4</th>\n",
       "    </tr>\n",
       "  </thead>\n",
       "  <tbody>\n",
       "    <tr>\n",
       "      <th>93550</th>\n",
       "      <td>KOGCSTOQ Index</td>\n",
       "      <td>0</td>\n",
       "      <td>1</td>\n",
       "      <td>1981-03-31</td>\n",
       "      <td>5.2</td>\n",
       "    </tr>\n",
       "    <tr>\n",
       "      <th>93551</th>\n",
       "      <td>KOGCSTOQ Index</td>\n",
       "      <td>0</td>\n",
       "      <td>1</td>\n",
       "      <td>1981-06-30</td>\n",
       "      <td>7.6</td>\n",
       "    </tr>\n",
       "    <tr>\n",
       "      <th>93552</th>\n",
       "      <td>KOGCSTOQ Index</td>\n",
       "      <td>0</td>\n",
       "      <td>1</td>\n",
       "      <td>1981-09-30</td>\n",
       "      <td>5.1</td>\n",
       "    </tr>\n",
       "    <tr>\n",
       "      <th>93553</th>\n",
       "      <td>KOGCSTOQ Index</td>\n",
       "      <td>0</td>\n",
       "      <td>1</td>\n",
       "      <td>1981-12-31</td>\n",
       "      <td>4.5</td>\n",
       "    </tr>\n",
       "    <tr>\n",
       "      <th>93554</th>\n",
       "      <td>KOGCSTOQ Index</td>\n",
       "      <td>0</td>\n",
       "      <td>1</td>\n",
       "      <td>1982-03-31</td>\n",
       "      <td>1.3</td>\n",
       "    </tr>\n",
       "    <tr>\n",
       "      <th>...</th>\n",
       "      <td>...</td>\n",
       "      <td>...</td>\n",
       "      <td>...</td>\n",
       "      <td>...</td>\n",
       "      <td>...</td>\n",
       "    </tr>\n",
       "    <tr>\n",
       "      <th>93696</th>\n",
       "      <td>KOGCSTOQ Index</td>\n",
       "      <td>0</td>\n",
       "      <td>1</td>\n",
       "      <td>2018-06-30</td>\n",
       "      <td>1.1</td>\n",
       "    </tr>\n",
       "    <tr>\n",
       "      <th>93697</th>\n",
       "      <td>KOGCSTOQ Index</td>\n",
       "      <td>0</td>\n",
       "      <td>1</td>\n",
       "      <td>2018-09-30</td>\n",
       "      <td>1.1</td>\n",
       "    </tr>\n",
       "    <tr>\n",
       "      <th>93698</th>\n",
       "      <td>KOGCSTOQ Index</td>\n",
       "      <td>0</td>\n",
       "      <td>1</td>\n",
       "      <td>2018-12-31</td>\n",
       "      <td>-0.3</td>\n",
       "    </tr>\n",
       "    <tr>\n",
       "      <th>93699</th>\n",
       "      <td>KOGCSTOQ Index</td>\n",
       "      <td>0</td>\n",
       "      <td>1</td>\n",
       "      <td>2019-03-31</td>\n",
       "      <td>-0.8</td>\n",
       "    </tr>\n",
       "    <tr>\n",
       "      <th>93700</th>\n",
       "      <td>KOGCSTOQ Index</td>\n",
       "      <td>0</td>\n",
       "      <td>1</td>\n",
       "      <td>2019-06-30</td>\n",
       "      <td>1.5</td>\n",
       "    </tr>\n",
       "  </tbody>\n",
       "</table>\n",
       "<p>151 rows × 5 columns</p>\n",
       "</div>"
      ],
      "text/plain": [
       "                 col0  col1  col2       col3  col4\n",
       "93550  KOGCSTOQ Index     0     1 1981-03-31   5.2\n",
       "93551  KOGCSTOQ Index     0     1 1981-06-30   7.6\n",
       "93552  KOGCSTOQ Index     0     1 1981-09-30   5.1\n",
       "93553  KOGCSTOQ Index     0     1 1981-12-31   4.5\n",
       "93554  KOGCSTOQ Index     0     1 1982-03-31   1.3\n",
       "...               ...   ...   ...        ...   ...\n",
       "93696  KOGCSTOQ Index     0     1 2018-06-30   1.1\n",
       "93697  KOGCSTOQ Index     0     1 2018-09-30   1.1\n",
       "93698  KOGCSTOQ Index     0     1 2018-12-31  -0.3\n",
       "93699  KOGCSTOQ Index     0     1 2019-03-31  -0.8\n",
       "93700  KOGCSTOQ Index     0     1 2019-06-30   1.5\n",
       "\n",
       "[151 rows x 5 columns]"
      ]
     },
     "execution_count": 70,
     "metadata": {},
     "output_type": "execute_result"
    }
   ],
   "source": [
    "eco[eco['col0'] == 'KOGCSTOQ Index']"
   ]
  },
  {
   "cell_type": "markdown",
   "metadata": {},
   "source": [
    "일단 기간을 1981뇬 3월 31일까지 있는거부터 2019년 6월 30일 까지 있는 티커들만 뽑았음  \n",
    "근데 보니까 데이터 151개만 있는건 분기별 데이터네\n"
   ]
  },
  {
   "cell_type": "code",
   "execution_count": 73,
   "metadata": {},
   "outputs": [
    {
     "data": {
      "text/html": [
       "<div>\n",
       "<style scoped>\n",
       "    .dataframe tbody tr th:only-of-type {\n",
       "        vertical-align: middle;\n",
       "    }\n",
       "\n",
       "    .dataframe tbody tr th {\n",
       "        vertical-align: top;\n",
       "    }\n",
       "\n",
       "    .dataframe thead th {\n",
       "        text-align: right;\n",
       "    }\n",
       "</style>\n",
       "<table border=\"1\" class=\"dataframe\">\n",
       "  <thead>\n",
       "    <tr style=\"text-align: right;\">\n",
       "      <th></th>\n",
       "      <th>col0</th>\n",
       "      <th>col1</th>\n",
       "      <th>col2</th>\n",
       "      <th>col3</th>\n",
       "      <th>col4</th>\n",
       "    </tr>\n",
       "  </thead>\n",
       "  <tbody>\n",
       "    <tr>\n",
       "      <th>53823</th>\n",
       "      <td>NAPMPMI Index</td>\n",
       "      <td>0</td>\n",
       "      <td>1</td>\n",
       "      <td>1981-01-31</td>\n",
       "      <td>49.2</td>\n",
       "    </tr>\n",
       "    <tr>\n",
       "      <th>53824</th>\n",
       "      <td>NAPMPMI Index</td>\n",
       "      <td>0</td>\n",
       "      <td>1</td>\n",
       "      <td>1981-02-28</td>\n",
       "      <td>48.8</td>\n",
       "    </tr>\n",
       "    <tr>\n",
       "      <th>53825</th>\n",
       "      <td>NAPMPMI Index</td>\n",
       "      <td>0</td>\n",
       "      <td>1</td>\n",
       "      <td>1981-03-31</td>\n",
       "      <td>49.6</td>\n",
       "    </tr>\n",
       "    <tr>\n",
       "      <th>53826</th>\n",
       "      <td>NAPMPMI Index</td>\n",
       "      <td>0</td>\n",
       "      <td>1</td>\n",
       "      <td>1981-04-30</td>\n",
       "      <td>51.6</td>\n",
       "    </tr>\n",
       "    <tr>\n",
       "      <th>53827</th>\n",
       "      <td>NAPMPMI Index</td>\n",
       "      <td>0</td>\n",
       "      <td>1</td>\n",
       "      <td>1981-05-31</td>\n",
       "      <td>53.5</td>\n",
       "    </tr>\n",
       "    <tr>\n",
       "      <th>...</th>\n",
       "      <td>...</td>\n",
       "      <td>...</td>\n",
       "      <td>...</td>\n",
       "      <td>...</td>\n",
       "      <td>...</td>\n",
       "    </tr>\n",
       "    <tr>\n",
       "      <th>54274</th>\n",
       "      <td>NAPMPMI Index</td>\n",
       "      <td>0</td>\n",
       "      <td>1</td>\n",
       "      <td>2019-06-30</td>\n",
       "      <td>51.7</td>\n",
       "    </tr>\n",
       "    <tr>\n",
       "      <th>54275</th>\n",
       "      <td>NAPMPMI Index</td>\n",
       "      <td>0</td>\n",
       "      <td>1</td>\n",
       "      <td>2019-07-31</td>\n",
       "      <td>51.2</td>\n",
       "    </tr>\n",
       "    <tr>\n",
       "      <th>54276</th>\n",
       "      <td>NAPMPMI Index</td>\n",
       "      <td>0</td>\n",
       "      <td>1</td>\n",
       "      <td>2019-08-31</td>\n",
       "      <td>49.1</td>\n",
       "    </tr>\n",
       "    <tr>\n",
       "      <th>54277</th>\n",
       "      <td>NAPMPMI Index</td>\n",
       "      <td>0</td>\n",
       "      <td>1</td>\n",
       "      <td>2019-09-30</td>\n",
       "      <td>47.8</td>\n",
       "    </tr>\n",
       "    <tr>\n",
       "      <th>54278</th>\n",
       "      <td>NAPMPMI Index</td>\n",
       "      <td>0</td>\n",
       "      <td>1</td>\n",
       "      <td>2019-10-31</td>\n",
       "      <td>48.3</td>\n",
       "    </tr>\n",
       "  </tbody>\n",
       "</table>\n",
       "<p>456 rows × 5 columns</p>\n",
       "</div>"
      ],
      "text/plain": [
       "                col0  col1  col2       col3  col4\n",
       "53823  NAPMPMI Index     0     1 1981-01-31  49.2\n",
       "53824  NAPMPMI Index     0     1 1981-02-28  48.8\n",
       "53825  NAPMPMI Index     0     1 1981-03-31  49.6\n",
       "53826  NAPMPMI Index     0     1 1981-04-30  51.6\n",
       "53827  NAPMPMI Index     0     1 1981-05-31  53.5\n",
       "...              ...   ...   ...        ...   ...\n",
       "54274  NAPMPMI Index     0     1 2019-06-30  51.7\n",
       "54275  NAPMPMI Index     0     1 2019-07-31  51.2\n",
       "54276  NAPMPMI Index     0     1 2019-08-31  49.1\n",
       "54277  NAPMPMI Index     0     1 2019-09-30  47.8\n",
       "54278  NAPMPMI Index     0     1 2019-10-31  48.3\n",
       "\n",
       "[456 rows x 5 columns]"
      ]
     },
     "execution_count": 73,
     "metadata": {},
     "output_type": "execute_result"
    }
   ],
   "source": [
    "eco[eco['col0'] == 'NAPMPMI Index']"
   ]
  },
  {
   "cell_type": "markdown",
   "metadata": {},
   "source": [
    "455, 456개 있는건 월별 데이터"
   ]
  },
  {
   "cell_type": "code",
   "execution_count": 74,
   "metadata": {},
   "outputs": [
    {
     "data": {
      "text/plain": [
       "ticker      USTW$ Index\n",
       "len_data           9591\n",
       "Name: 3, dtype: object"
      ]
     },
     "execution_count": 74,
     "metadata": {},
     "output_type": "execute_result"
    }
   ],
   "source": [
    "k.loc[3, :]"
   ]
  },
  {
   "cell_type": "code",
   "execution_count": 75,
   "metadata": {},
   "outputs": [
    {
     "data": {
      "text/html": [
       "<div>\n",
       "<style scoped>\n",
       "    .dataframe tbody tr th:only-of-type {\n",
       "        vertical-align: middle;\n",
       "    }\n",
       "\n",
       "    .dataframe tbody tr th {\n",
       "        vertical-align: top;\n",
       "    }\n",
       "\n",
       "    .dataframe thead th {\n",
       "        text-align: right;\n",
       "    }\n",
       "</style>\n",
       "<table border=\"1\" class=\"dataframe\">\n",
       "  <thead>\n",
       "    <tr style=\"text-align: right;\">\n",
       "      <th></th>\n",
       "      <th>col0</th>\n",
       "      <th>col1</th>\n",
       "      <th>col2</th>\n",
       "      <th>col3</th>\n",
       "      <th>col4</th>\n",
       "    </tr>\n",
       "  </thead>\n",
       "  <tbody>\n",
       "    <tr>\n",
       "      <th>29323</th>\n",
       "      <td>USTW$ Index</td>\n",
       "      <td>0</td>\n",
       "      <td>1</td>\n",
       "      <td>1981-01-02</td>\n",
       "      <td>95.6833</td>\n",
       "    </tr>\n",
       "    <tr>\n",
       "      <th>29324</th>\n",
       "      <td>USTW$ Index</td>\n",
       "      <td>0</td>\n",
       "      <td>1</td>\n",
       "      <td>1981-01-05</td>\n",
       "      <td>94.4815</td>\n",
       "    </tr>\n",
       "    <tr>\n",
       "      <th>29325</th>\n",
       "      <td>USTW$ Index</td>\n",
       "      <td>0</td>\n",
       "      <td>1</td>\n",
       "      <td>1981-01-06</td>\n",
       "      <td>94.3829</td>\n",
       "    </tr>\n",
       "    <tr>\n",
       "      <th>29326</th>\n",
       "      <td>USTW$ Index</td>\n",
       "      <td>0</td>\n",
       "      <td>1</td>\n",
       "      <td>1981-01-07</td>\n",
       "      <td>94.7921</td>\n",
       "    </tr>\n",
       "    <tr>\n",
       "      <th>29327</th>\n",
       "      <td>USTW$ Index</td>\n",
       "      <td>0</td>\n",
       "      <td>1</td>\n",
       "      <td>1981-01-08</td>\n",
       "      <td>95.1600</td>\n",
       "    </tr>\n",
       "    <tr>\n",
       "      <th>...</th>\n",
       "      <td>...</td>\n",
       "      <td>...</td>\n",
       "      <td>...</td>\n",
       "      <td>...</td>\n",
       "      <td>...</td>\n",
       "    </tr>\n",
       "    <tr>\n",
       "      <th>38909</th>\n",
       "      <td>USTW$ Index</td>\n",
       "      <td>0</td>\n",
       "      <td>1</td>\n",
       "      <td>2019-10-25</td>\n",
       "      <td>92.0086</td>\n",
       "    </tr>\n",
       "    <tr>\n",
       "      <th>38910</th>\n",
       "      <td>USTW$ Index</td>\n",
       "      <td>0</td>\n",
       "      <td>1</td>\n",
       "      <td>2019-10-28</td>\n",
       "      <td>91.9877</td>\n",
       "    </tr>\n",
       "    <tr>\n",
       "      <th>38911</th>\n",
       "      <td>USTW$ Index</td>\n",
       "      <td>0</td>\n",
       "      <td>1</td>\n",
       "      <td>2019-10-29</td>\n",
       "      <td>91.8727</td>\n",
       "    </tr>\n",
       "    <tr>\n",
       "      <th>38912</th>\n",
       "      <td>USTW$ Index</td>\n",
       "      <td>0</td>\n",
       "      <td>1</td>\n",
       "      <td>2019-10-30</td>\n",
       "      <td>92.0533</td>\n",
       "    </tr>\n",
       "    <tr>\n",
       "      <th>38913</th>\n",
       "      <td>USTW$ Index</td>\n",
       "      <td>0</td>\n",
       "      <td>1</td>\n",
       "      <td>2019-10-31</td>\n",
       "      <td>91.7069</td>\n",
       "    </tr>\n",
       "  </tbody>\n",
       "</table>\n",
       "<p>9591 rows × 5 columns</p>\n",
       "</div>"
      ],
      "text/plain": [
       "              col0  col1  col2       col3     col4\n",
       "29323  USTW$ Index     0     1 1981-01-02  95.6833\n",
       "29324  USTW$ Index     0     1 1981-01-05  94.4815\n",
       "29325  USTW$ Index     0     1 1981-01-06  94.3829\n",
       "29326  USTW$ Index     0     1 1981-01-07  94.7921\n",
       "29327  USTW$ Index     0     1 1981-01-08  95.1600\n",
       "...            ...   ...   ...        ...      ...\n",
       "38909  USTW$ Index     0     1 2019-10-25  92.0086\n",
       "38910  USTW$ Index     0     1 2019-10-28  91.9877\n",
       "38911  USTW$ Index     0     1 2019-10-29  91.8727\n",
       "38912  USTW$ Index     0     1 2019-10-30  92.0533\n",
       "38913  USTW$ Index     0     1 2019-10-31  91.7069\n",
       "\n",
       "[9591 rows x 5 columns]"
      ]
     },
     "execution_count": 75,
     "metadata": {},
     "output_type": "execute_result"
    }
   ],
   "source": [
    "eco[eco['col0'] == 'USTW$ Index']"
   ]
  },
  {
   "cell_type": "markdown",
   "metadata": {},
   "source": [
    "9591개 있는 건 데일리 데이터네 그럼 분류는 일, 월, 분기 세 가지 분류로 잡고   \n",
    "월을 선으로 이어서 만들어 보자 "
   ]
  },
  {
   "cell_type": "code",
   "execution_count": 76,
   "metadata": {},
   "outputs": [
    {
     "name": "stdout",
     "output_type": "stream",
     "text": [
      "<class 'pandas.core.frame.DataFrame'>\n",
      "RangeIndex: 93701 entries, 0 to 93700\n",
      "Data columns (total 5 columns):\n",
      "col0    93701 non-null object\n",
      "col1    93701 non-null int64\n",
      "col2    93701 non-null int64\n",
      "col3    93701 non-null datetime64[ns]\n",
      "col4    93701 non-null float64\n",
      "dtypes: datetime64[ns](1), float64(1), int64(2), object(1)\n",
      "memory usage: 3.6+ MB\n"
     ]
    }
   ],
   "source": [
    "eco.info()"
   ]
  },
  {
   "cell_type": "markdown",
   "metadata": {},
   "source": [
    "인덱스 별로 데이터 프레임을 발라내자 !"
   ]
  },
  {
   "cell_type": "code",
   "execution_count": 78,
   "metadata": {},
   "outputs": [
    {
     "data": {
      "text/plain": [
       "['FDTR Index',\n",
       " 'USGG3M Index',\n",
       " 'USGG10YR Index',\n",
       " 'USTW$ Index',\n",
       " 'INJCJC Index',\n",
       " 'INJCSP Index',\n",
       " 'USEMNCHG Index',\n",
       " 'NFP PCH Index',\n",
       " 'NFP TCH Index',\n",
       " 'USMMMNCH Index',\n",
       " 'OUTFGAF Index',\n",
       " 'KOIMTOTY Index',\n",
       " 'KOFETOT% Index',\n",
       " 'KOEXTOTY Index',\n",
       " 'KOCPIMOM Index',\n",
       " 'SKCIMOM Index',\n",
       " 'USHETOT% Index',\n",
       " 'KOCPIYOY Index',\n",
       " 'SKCIYOY Index',\n",
       " 'USHEYOY Index',\n",
       " 'USURTOT Index',\n",
       " 'KOFETOT Index',\n",
       " 'SAARTOTL Index',\n",
       " 'NAPMPRIC Index',\n",
       " 'KOCPI Index',\n",
       " 'CONCCONF Index',\n",
       " 'NAPMNEWO Index',\n",
       " 'SKCITTL Index',\n",
       " 'CHPMINDX Index',\n",
       " 'USWHTOT Index',\n",
       " 'NAPMPMI Index',\n",
       " 'SKBSIC Index',\n",
       " 'CONSSENT Index',\n",
       " 'USERTOT Index',\n",
       " 'LEI WKIJ Index',\n",
       " 'KOEXTOT Index',\n",
       " 'KOIMTOT Index',\n",
       " 'NFP T Index',\n",
       " 'USEMTOT Index',\n",
       " 'KOIVCONY Index',\n",
       " 'KOEXPTIY Index',\n",
       " 'KOIMPTIY Index',\n",
       " 'KOIPMY Index',\n",
       " 'KOIPIY Index',\n",
       " 'KOPSIY Index',\n",
       " 'LEI YOY Index',\n",
       " 'KOPIIY Index',\n",
       " 'IP  YOY Index',\n",
       " 'KOIPOPSM Index',\n",
       " 'KOEXPTIM Index',\n",
       " 'KOIPMSM Index',\n",
       " 'KOIPIMOM Index',\n",
       " 'TMNOCHNG Index',\n",
       " 'KOIPMCY Index',\n",
       " 'KOIMPTIM Index',\n",
       " 'LEI IRTE Index',\n",
       " 'PITLYOY Index',\n",
       " 'CFNAI Index',\n",
       " 'PITLCHNG Index',\n",
       " 'KOPPIYOY Index',\n",
       " 'IP  CHNG Index',\n",
       " 'CFNAIMA3 Index',\n",
       " 'LEI CHNG Index',\n",
       " 'LEI ACE Index',\n",
       " 'SKLILY Index',\n",
       " 'KOPPIMOM Index',\n",
       " 'CPI YOY Index',\n",
       " 'CPI CHNG Index',\n",
       " 'PCE DEFY Index',\n",
       " 'CPUPXCHG Index',\n",
       " 'CPI XYOY Index',\n",
       " 'PCE CYOY Index',\n",
       " 'PIDSDPS Index',\n",
       " 'KOIPMS Index',\n",
       " 'KOIPISA Index',\n",
       " 'SKLILI Index',\n",
       " 'SKLILC Index',\n",
       " 'SKLICI Index',\n",
       " 'KOIPMC Index',\n",
       " 'KOIMPTI Index',\n",
       " 'LEI AVGW Index',\n",
       " 'KOPPI Index',\n",
       " 'IP Index',\n",
       " 'LEI TOTL Index',\n",
       " 'KOEXPTI Index',\n",
       " 'CPTICHNG Index',\n",
       " 'LEI STKP Index',\n",
       " 'LEI BP Index',\n",
       " 'PIDSPINX Index',\n",
       " 'LEI MNO Index',\n",
       " 'LEI NWCN Index',\n",
       " 'KOBPCB Index',\n",
       " 'KOBPFIN Index',\n",
       " 'KOBPTB Index',\n",
       " 'KODIBAL Index',\n",
       " 'FRNTTNET Index',\n",
       " 'FRNTTOTL Index',\n",
       " 'KOBPCA Index',\n",
       " 'KOMSMBY Index',\n",
       " 'CICRTOT Index',\n",
       " 'KOMSM1FY Index',\n",
       " 'KOMSM1Y Index',\n",
       " 'MTIBCHNG Index',\n",
       " 'MGT2TB Index',\n",
       " 'MGT2RE Index',\n",
       " 'OEUSKLAP Index',\n",
       " 'OEUSKLAR Index',\n",
       " 'OEKRN022 Index',\n",
       " 'GPDITOC% Index',\n",
       " 'KOECGCPY Index',\n",
       " 'KOECIMPY Index',\n",
       " 'KOECGCSY Index',\n",
       " 'KOECSIMQ Index',\n",
       " 'KOECPRCY Index',\n",
       " 'KOECSPRQ Index',\n",
       " 'KOECFCSY Index',\n",
       " 'KOECFCOY Index',\n",
       " 'KOECSEMQ Index',\n",
       " 'GDP CQOQ Index',\n",
       " 'GPGSTOC% Index',\n",
       " 'KOECEXPY Index',\n",
       " 'GDP CYOY Index',\n",
       " 'GDPCTOT% Index',\n",
       " 'GDP CURY Index',\n",
       " 'KOECSGVQ Index',\n",
       " 'KOECGVTY Index',\n",
       " 'GDP PIQQ Index',\n",
       " 'GDPCPCEC Index',\n",
       " 'GDP CUR$ Index',\n",
       " 'USCABAL Index',\n",
       " 'JNVNIYOY Index',\n",
       " 'COSTNFR% Index',\n",
       " 'KOGNICNY Index',\n",
       " 'KODFTOTY Index',\n",
       " 'KOGNICUY Index',\n",
       " 'EHCAUS Index',\n",
       " 'KOGCGDPY Index',\n",
       " 'PRODNFR% Index',\n",
       " 'KOGCSTOQ Index']"
      ]
     },
     "execution_count": 78,
     "metadata": {},
     "output_type": "execute_result"
    }
   ],
   "source": [
    "list(eco['col0'].unique())"
   ]
  },
  {
   "cell_type": "code",
   "execution_count": 82,
   "metadata": {},
   "outputs": [],
   "source": [
    "for i in list(eco['col0'].unique()):\n",
    "    i = eco[eco['col0'] == i]"
   ]
  },
  {
   "cell_type": "code",
   "execution_count": 83,
   "metadata": {},
   "outputs": [
    {
     "data": {
      "text/html": [
       "<div>\n",
       "<style scoped>\n",
       "    .dataframe tbody tr th:only-of-type {\n",
       "        vertical-align: middle;\n",
       "    }\n",
       "\n",
       "    .dataframe tbody tr th {\n",
       "        vertical-align: top;\n",
       "    }\n",
       "\n",
       "    .dataframe thead th {\n",
       "        text-align: right;\n",
       "    }\n",
       "</style>\n",
       "<table border=\"1\" class=\"dataframe\">\n",
       "  <thead>\n",
       "    <tr style=\"text-align: right;\">\n",
       "      <th></th>\n",
       "      <th>col0</th>\n",
       "      <th>col1</th>\n",
       "      <th>col2</th>\n",
       "      <th>col3</th>\n",
       "      <th>col4</th>\n",
       "    </tr>\n",
       "  </thead>\n",
       "  <tbody>\n",
       "    <tr>\n",
       "      <th>93550</th>\n",
       "      <td>KOGCSTOQ Index</td>\n",
       "      <td>0</td>\n",
       "      <td>1</td>\n",
       "      <td>1981-03-31</td>\n",
       "      <td>5.2</td>\n",
       "    </tr>\n",
       "    <tr>\n",
       "      <th>93551</th>\n",
       "      <td>KOGCSTOQ Index</td>\n",
       "      <td>0</td>\n",
       "      <td>1</td>\n",
       "      <td>1981-06-30</td>\n",
       "      <td>7.6</td>\n",
       "    </tr>\n",
       "    <tr>\n",
       "      <th>93552</th>\n",
       "      <td>KOGCSTOQ Index</td>\n",
       "      <td>0</td>\n",
       "      <td>1</td>\n",
       "      <td>1981-09-30</td>\n",
       "      <td>5.1</td>\n",
       "    </tr>\n",
       "    <tr>\n",
       "      <th>93553</th>\n",
       "      <td>KOGCSTOQ Index</td>\n",
       "      <td>0</td>\n",
       "      <td>1</td>\n",
       "      <td>1981-12-31</td>\n",
       "      <td>4.5</td>\n",
       "    </tr>\n",
       "    <tr>\n",
       "      <th>93554</th>\n",
       "      <td>KOGCSTOQ Index</td>\n",
       "      <td>0</td>\n",
       "      <td>1</td>\n",
       "      <td>1982-03-31</td>\n",
       "      <td>1.3</td>\n",
       "    </tr>\n",
       "    <tr>\n",
       "      <th>...</th>\n",
       "      <td>...</td>\n",
       "      <td>...</td>\n",
       "      <td>...</td>\n",
       "      <td>...</td>\n",
       "      <td>...</td>\n",
       "    </tr>\n",
       "    <tr>\n",
       "      <th>93696</th>\n",
       "      <td>KOGCSTOQ Index</td>\n",
       "      <td>0</td>\n",
       "      <td>1</td>\n",
       "      <td>2018-06-30</td>\n",
       "      <td>1.1</td>\n",
       "    </tr>\n",
       "    <tr>\n",
       "      <th>93697</th>\n",
       "      <td>KOGCSTOQ Index</td>\n",
       "      <td>0</td>\n",
       "      <td>1</td>\n",
       "      <td>2018-09-30</td>\n",
       "      <td>1.1</td>\n",
       "    </tr>\n",
       "    <tr>\n",
       "      <th>93698</th>\n",
       "      <td>KOGCSTOQ Index</td>\n",
       "      <td>0</td>\n",
       "      <td>1</td>\n",
       "      <td>2018-12-31</td>\n",
       "      <td>-0.3</td>\n",
       "    </tr>\n",
       "    <tr>\n",
       "      <th>93699</th>\n",
       "      <td>KOGCSTOQ Index</td>\n",
       "      <td>0</td>\n",
       "      <td>1</td>\n",
       "      <td>2019-03-31</td>\n",
       "      <td>-0.8</td>\n",
       "    </tr>\n",
       "    <tr>\n",
       "      <th>93700</th>\n",
       "      <td>KOGCSTOQ Index</td>\n",
       "      <td>0</td>\n",
       "      <td>1</td>\n",
       "      <td>2019-06-30</td>\n",
       "      <td>1.5</td>\n",
       "    </tr>\n",
       "  </tbody>\n",
       "</table>\n",
       "<p>151 rows × 5 columns</p>\n",
       "</div>"
      ],
      "text/plain": [
       "                 col0  col1  col2       col3  col4\n",
       "93550  KOGCSTOQ Index     0     1 1981-03-31   5.2\n",
       "93551  KOGCSTOQ Index     0     1 1981-06-30   7.6\n",
       "93552  KOGCSTOQ Index     0     1 1981-09-30   5.1\n",
       "93553  KOGCSTOQ Index     0     1 1981-12-31   4.5\n",
       "93554  KOGCSTOQ Index     0     1 1982-03-31   1.3\n",
       "...               ...   ...   ...        ...   ...\n",
       "93696  KOGCSTOQ Index     0     1 2018-06-30   1.1\n",
       "93697  KOGCSTOQ Index     0     1 2018-09-30   1.1\n",
       "93698  KOGCSTOQ Index     0     1 2018-12-31  -0.3\n",
       "93699  KOGCSTOQ Index     0     1 2019-03-31  -0.8\n",
       "93700  KOGCSTOQ Index     0     1 2019-06-30   1.5\n",
       "\n",
       "[151 rows x 5 columns]"
      ]
     },
     "execution_count": 83,
     "metadata": {},
     "output_type": "execute_result"
    }
   ],
   "source": [
    "i"
   ]
  },
  {
   "cell_type": "code",
   "execution_count": null,
   "metadata": {},
   "outputs": [],
   "source": [
    "# input 은 dataframe\n",
    "\n",
    "def index_slicer(dataframe, col_name):\n",
    "    index_name = list(dataframe[col_name].unique())\n",
    "    for i in index_name:\n",
    "         = dataframe[dataframe[col_name] == i]\n",
    "        \n",
    "    return 생성된 수많은 데이터프레임      "
   ]
  }
 ],
 "metadata": {
  "kernelspec": {
   "display_name": "Tensorflow Python 3.6",
   "language": "python",
   "name": "tf-py36"
  },
  "language_info": {
   "codemirror_mode": {
    "name": "ipython",
    "version": 3
   },
   "file_extension": ".py",
   "mimetype": "text/x-python",
   "name": "python",
   "nbconvert_exporter": "python",
   "pygments_lexer": "ipython3",
   "version": "3.6.9"
  }
 },
 "nbformat": 4,
 "nbformat_minor": 2
}
