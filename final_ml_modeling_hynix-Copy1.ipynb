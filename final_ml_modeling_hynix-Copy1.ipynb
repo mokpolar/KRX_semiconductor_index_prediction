{
 "cells": [
  {
   "cell_type": "code",
   "execution_count": 1,
   "metadata": {},
   "outputs": [],
   "source": [
    "## Library Import\n",
    "\n",
    "# Basic\n",
    "import re\n",
    "import warnings\n",
    "import numpy as np\n",
    "import pandas as pd\n",
    "pd.set_option('display.max_rows', 50)\n",
    "pd.set_option('display.max_columns', 50)\n",
    "pd.set_option('display.width', 100)\n",
    "warnings.filterwarnings('ignore')\n",
    "%config InlineBackend.figure_format = 'retina'\n",
    "\n",
    "# Preprocessing\n",
    "from sklearn import preprocessing\n",
    "from sklearn.model_selection import train_test_split\n",
    "\n",
    "# Visualization\n",
    "import matplotlib.pyplot as plt\n",
    "import seaborn as sns\n",
    "\n",
    "# Scaler\n",
    "from sklearn.preprocessing import StandardScaler\n",
    "from sklearn.preprocessing import MinMaxScaler\n",
    "from sklearn.preprocessing import PowerTransformer\n",
    "\n",
    "# AutoML optuna library\n",
    "import optuna\n",
    "import optuna.integration.lightgbm as lgb\n",
    "\n",
    "# Linear Model\n",
    "from sklearn.linear_model import LinearRegression\n",
    "from sklearn.linear_model import Ridge\n",
    "from sklearn.linear_model import Lasso\n",
    "\n",
    "# Tree Model\n",
    "from sklearn.tree import DecisionTreeRegressor\n",
    "from sklearn.ensemble import GradientBoostingRegressor, RandomForestRegressor\n",
    "from xgboost import XGBRegressor\n",
    "from lightgbm import LGBMRegressor\n",
    "\n",
    "# Metric\n",
    "from sklearn.metrics import mean_squared_error, r2_score\n",
    "from sklearn.model_selection import cross_val_score\n",
    "\n",
    "## for PCA\n",
    "from sklearn.decomposition import PCA\n",
    "\n",
    "# for VIF\n",
    "from patsy import dmatrices\n",
    "from statsmodels.stats.outliers_influence import variance_inflation_factor\n",
    "from statsmodels.graphics.tsaplots import plot_acf, plot_pacf"
   ]
  },
  {
   "cell_type": "code",
   "execution_count": 2,
   "metadata": {},
   "outputs": [],
   "source": [
    "df = pd.read_csv('final_data_260_by_ffill_ver1.csv', index_col = 0)"
   ]
  },
  {
   "cell_type": "code",
   "execution_count": 3,
   "metadata": {},
   "outputs": [],
   "source": [
    "df.reset_index(inplace = True)"
   ]
  },
  {
   "cell_type": "code",
   "execution_count": 4,
   "metadata": {},
   "outputs": [],
   "source": [
    "date = df.date"
   ]
  },
  {
   "cell_type": "code",
   "execution_count": 5,
   "metadata": {},
   "outputs": [],
   "source": [
    "target = df['KRXsemiconductor_close']"
   ]
  },
  {
   "cell_type": "code",
   "execution_count": 6,
   "metadata": {},
   "outputs": [],
   "source": [
    "X_data = df.copy()"
   ]
  },
  {
   "cell_type": "code",
   "execution_count": 7,
   "metadata": {},
   "outputs": [],
   "source": [
    "X_data.drop(['date', 'KRXsemiconductor_close'], axis = 1, inplace = True)"
   ]
  },
  {
   "cell_type": "code",
   "execution_count": 8,
   "metadata": {},
   "outputs": [
    {
     "data": {
      "text/plain": [
       "0.13753773901375377"
      ]
     },
     "execution_count": 8,
     "metadata": {},
     "output_type": "execute_result"
    }
   ],
   "source": [
    "410/len(df)"
   ]
  },
  {
   "cell_type": "code",
   "execution_count": 9,
   "metadata": {},
   "outputs": [
    {
     "data": {
      "text/html": [
       "<div>\n",
       "<style scoped>\n",
       "    .dataframe tbody tr th:only-of-type {\n",
       "        vertical-align: middle;\n",
       "    }\n",
       "\n",
       "    .dataframe tbody tr th {\n",
       "        vertical-align: top;\n",
       "    }\n",
       "\n",
       "    .dataframe thead th {\n",
       "        text-align: right;\n",
       "    }\n",
       "</style>\n",
       "<table border=\"1\" class=\"dataframe\">\n",
       "  <thead>\n",
       "    <tr style=\"text-align: right;\">\n",
       "      <th></th>\n",
       "      <th>date</th>\n",
       "      <th>KRXsemiconductor_close</th>\n",
       "      <th>GDPCQOQIndex</th>\n",
       "      <th>GDPCYOYIndex</th>\n",
       "      <th>GDPCTOT%Index</th>\n",
       "      <th>GPDITOC%Index</th>\n",
       "      <th>GPGSTOC%Index</th>\n",
       "      <th>RGCDCIPIIndex</th>\n",
       "      <th>GDPCUR$Index</th>\n",
       "      <th>GDPCURYIndex</th>\n",
       "      <th>GDPPIQQIndex</th>\n",
       "      <th>GDPCPCECIndex</th>\n",
       "      <th>CPIYOYIndex</th>\n",
       "      <th>CPIXYOYIndex</th>\n",
       "      <th>PCEDEFYIndex</th>\n",
       "      <th>PCECYOYIndex</th>\n",
       "      <th>CPICHNGIndex</th>\n",
       "      <th>CPUPXCHGIndex</th>\n",
       "      <th>FDIDFDMOIndex</th>\n",
       "      <th>FDIDSGMOIndex</th>\n",
       "      <th>FDIUFDYOIndex</th>\n",
       "      <th>FDIUSGYOIndex</th>\n",
       "      <th>USURTOTIndex</th>\n",
       "      <th>USUDMAERIndex</th>\n",
       "      <th>INJCJCIndex</th>\n",
       "      <th>...</th>\n",
       "      <th>Microsoft_close260</th>\n",
       "      <th>Nuvoton_close120</th>\n",
       "      <th>Nuvoton_close260</th>\n",
       "      <th>Nvidia_close120</th>\n",
       "      <th>Nvidia_close260</th>\n",
       "      <th>Philadelphia_close120</th>\n",
       "      <th>Philadelphia_close260</th>\n",
       "      <th>QCOM_close120</th>\n",
       "      <th>QCOM_close260</th>\n",
       "      <th>SamsungElectronics_close120</th>\n",
       "      <th>SamsungElectronics_close260</th>\n",
       "      <th>ShinEtsuChemical_close120</th>\n",
       "      <th>ShinEtsuChemical_close260</th>\n",
       "      <th>Siltronic_close120</th>\n",
       "      <th>Siltronic_close260</th>\n",
       "      <th>SKhynix_close120</th>\n",
       "      <th>SKhynix_close260</th>\n",
       "      <th>Sumco_close120</th>\n",
       "      <th>Sumco_close260</th>\n",
       "      <th>TokyoElectron_close120</th>\n",
       "      <th>TokyoElectron_close260</th>\n",
       "      <th>TSMC_close120</th>\n",
       "      <th>TSMC_close260</th>\n",
       "      <th>UMC_close120</th>\n",
       "      <th>UMC_close260</th>\n",
       "    </tr>\n",
       "  </thead>\n",
       "  <tbody>\n",
       "    <tr>\n",
       "      <th>2572</th>\n",
       "      <td>2017-02-06</td>\n",
       "      <td>0.266921</td>\n",
       "      <td>2.2</td>\n",
       "      <td>1.6</td>\n",
       "      <td>2.6</td>\n",
       "      <td>0.5</td>\n",
       "      <td>1.7</td>\n",
       "      <td>-14.7</td>\n",
       "      <td>18806.74</td>\n",
       "      <td>2.5</td>\n",
       "      <td>1.4</td>\n",
       "      <td>2.0</td>\n",
       "      <td>1.7</td>\n",
       "      <td>2.1</td>\n",
       "      <td>1.4</td>\n",
       "      <td>1.73005</td>\n",
       "      <td>0.1</td>\n",
       "      <td>0.2</td>\n",
       "      <td>0.2</td>\n",
       "      <td>0.2</td>\n",
       "      <td>1.3</td>\n",
       "      <td>1.7</td>\n",
       "      <td>4.7</td>\n",
       "      <td>9.4</td>\n",
       "      <td>255.0</td>\n",
       "      <td>...</td>\n",
       "      <td>0.221430</td>\n",
       "      <td>0.128891</td>\n",
       "      <td>0.358337</td>\n",
       "      <td>0.556009</td>\n",
       "      <td>0.959339</td>\n",
       "      <td>0.144590</td>\n",
       "      <td>0.374220</td>\n",
       "      <td>-0.250097</td>\n",
       "      <td>-0.029984</td>\n",
       "      <td>0.147935</td>\n",
       "      <td>0.443857</td>\n",
       "      <td>0.151148</td>\n",
       "      <td>0.372195</td>\n",
       "      <td>0.646591</td>\n",
       "      <td>1.167176</td>\n",
       "      <td>0.240988</td>\n",
       "      <td>0.713825</td>\n",
       "      <td>0.711088</td>\n",
       "      <td>1.210650</td>\n",
       "      <td>0.047365</td>\n",
       "      <td>0.046701</td>\n",
       "      <td>0.000086</td>\n",
       "      <td>0.229996</td>\n",
       "      <td>0.000000</td>\n",
       "      <td>0.017890</td>\n",
       "    </tr>\n",
       "    <tr>\n",
       "      <th>2573</th>\n",
       "      <td>2017-02-07</td>\n",
       "      <td>0.266792</td>\n",
       "      <td>2.2</td>\n",
       "      <td>1.6</td>\n",
       "      <td>2.6</td>\n",
       "      <td>0.5</td>\n",
       "      <td>1.7</td>\n",
       "      <td>-14.7</td>\n",
       "      <td>18806.74</td>\n",
       "      <td>2.5</td>\n",
       "      <td>1.4</td>\n",
       "      <td>2.0</td>\n",
       "      <td>1.7</td>\n",
       "      <td>2.1</td>\n",
       "      <td>1.4</td>\n",
       "      <td>1.73005</td>\n",
       "      <td>0.1</td>\n",
       "      <td>0.2</td>\n",
       "      <td>0.2</td>\n",
       "      <td>0.2</td>\n",
       "      <td>1.3</td>\n",
       "      <td>1.7</td>\n",
       "      <td>4.7</td>\n",
       "      <td>9.4</td>\n",
       "      <td>255.0</td>\n",
       "      <td>...</td>\n",
       "      <td>0.231037</td>\n",
       "      <td>0.138150</td>\n",
       "      <td>0.342945</td>\n",
       "      <td>0.567597</td>\n",
       "      <td>0.973062</td>\n",
       "      <td>0.152806</td>\n",
       "      <td>0.370969</td>\n",
       "      <td>-0.229206</td>\n",
       "      <td>-0.016629</td>\n",
       "      <td>0.144409</td>\n",
       "      <td>0.411666</td>\n",
       "      <td>0.143657</td>\n",
       "      <td>0.377162</td>\n",
       "      <td>0.616822</td>\n",
       "      <td>1.131644</td>\n",
       "      <td>0.255068</td>\n",
       "      <td>0.672701</td>\n",
       "      <td>0.700804</td>\n",
       "      <td>1.192068</td>\n",
       "      <td>0.050529</td>\n",
       "      <td>0.053190</td>\n",
       "      <td>-0.004153</td>\n",
       "      <td>0.194139</td>\n",
       "      <td>-0.010582</td>\n",
       "      <td>0.010695</td>\n",
       "    </tr>\n",
       "    <tr>\n",
       "      <th>2574</th>\n",
       "      <td>2017-02-08</td>\n",
       "      <td>0.281844</td>\n",
       "      <td>2.2</td>\n",
       "      <td>1.6</td>\n",
       "      <td>2.6</td>\n",
       "      <td>0.5</td>\n",
       "      <td>1.7</td>\n",
       "      <td>-14.7</td>\n",
       "      <td>18806.74</td>\n",
       "      <td>2.5</td>\n",
       "      <td>1.4</td>\n",
       "      <td>2.0</td>\n",
       "      <td>1.7</td>\n",
       "      <td>2.1</td>\n",
       "      <td>1.4</td>\n",
       "      <td>1.73005</td>\n",
       "      <td>0.1</td>\n",
       "      <td>0.2</td>\n",
       "      <td>0.2</td>\n",
       "      <td>0.2</td>\n",
       "      <td>1.3</td>\n",
       "      <td>1.7</td>\n",
       "      <td>4.7</td>\n",
       "      <td>9.4</td>\n",
       "      <td>238.0</td>\n",
       "      <td>...</td>\n",
       "      <td>0.222677</td>\n",
       "      <td>0.247769</td>\n",
       "      <td>0.387254</td>\n",
       "      <td>0.577605</td>\n",
       "      <td>0.947799</td>\n",
       "      <td>0.175735</td>\n",
       "      <td>0.348722</td>\n",
       "      <td>-0.219090</td>\n",
       "      <td>-0.048887</td>\n",
       "      <td>0.217301</td>\n",
       "      <td>0.412521</td>\n",
       "      <td>0.171934</td>\n",
       "      <td>0.377090</td>\n",
       "      <td>0.600387</td>\n",
       "      <td>1.052068</td>\n",
       "      <td>0.279165</td>\n",
       "      <td>0.709749</td>\n",
       "      <td>0.730988</td>\n",
       "      <td>1.165965</td>\n",
       "      <td>0.054347</td>\n",
       "      <td>0.053682</td>\n",
       "      <td>-0.002225</td>\n",
       "      <td>0.206568</td>\n",
       "      <td>-0.010582</td>\n",
       "      <td>0.007117</td>\n",
       "    </tr>\n",
       "    <tr>\n",
       "      <th>2575</th>\n",
       "      <td>2017-02-09</td>\n",
       "      <td>0.277489</td>\n",
       "      <td>2.0</td>\n",
       "      <td>2.0</td>\n",
       "      <td>2.5</td>\n",
       "      <td>9.3</td>\n",
       "      <td>1.1</td>\n",
       "      <td>44.8</td>\n",
       "      <td>18991.88</td>\n",
       "      <td>3.5</td>\n",
       "      <td>2.1</td>\n",
       "      <td>1.4</td>\n",
       "      <td>2.1</td>\n",
       "      <td>2.2</td>\n",
       "      <td>1.7</td>\n",
       "      <td>1.79465</td>\n",
       "      <td>0.3</td>\n",
       "      <td>0.2</td>\n",
       "      <td>0.3</td>\n",
       "      <td>0.2</td>\n",
       "      <td>1.7</td>\n",
       "      <td>1.7</td>\n",
       "      <td>4.7</td>\n",
       "      <td>9.2</td>\n",
       "      <td>238.0</td>\n",
       "      <td>...</td>\n",
       "      <td>0.197549</td>\n",
       "      <td>0.246182</td>\n",
       "      <td>0.391788</td>\n",
       "      <td>0.554327</td>\n",
       "      <td>0.933086</td>\n",
       "      <td>0.170434</td>\n",
       "      <td>0.334550</td>\n",
       "      <td>-0.218828</td>\n",
       "      <td>-0.055941</td>\n",
       "      <td>0.223795</td>\n",
       "      <td>0.393814</td>\n",
       "      <td>0.176425</td>\n",
       "      <td>0.368522</td>\n",
       "      <td>0.671046</td>\n",
       "      <td>1.082535</td>\n",
       "      <td>0.244959</td>\n",
       "      <td>0.666910</td>\n",
       "      <td>0.763510</td>\n",
       "      <td>1.174655</td>\n",
       "      <td>0.063617</td>\n",
       "      <td>0.050301</td>\n",
       "      <td>-0.008853</td>\n",
       "      <td>0.187024</td>\n",
       "      <td>-0.014085</td>\n",
       "      <td>-0.007067</td>\n",
       "    </tr>\n",
       "    <tr>\n",
       "      <th>2576</th>\n",
       "      <td>2017-02-10</td>\n",
       "      <td>0.307722</td>\n",
       "      <td>2.0</td>\n",
       "      <td>2.0</td>\n",
       "      <td>2.5</td>\n",
       "      <td>9.3</td>\n",
       "      <td>1.1</td>\n",
       "      <td>44.8</td>\n",
       "      <td>18991.88</td>\n",
       "      <td>3.5</td>\n",
       "      <td>2.1</td>\n",
       "      <td>1.4</td>\n",
       "      <td>2.1</td>\n",
       "      <td>2.2</td>\n",
       "      <td>1.7</td>\n",
       "      <td>1.79465</td>\n",
       "      <td>0.3</td>\n",
       "      <td>0.2</td>\n",
       "      <td>0.3</td>\n",
       "      <td>0.2</td>\n",
       "      <td>1.7</td>\n",
       "      <td>1.7</td>\n",
       "      <td>4.7</td>\n",
       "      <td>9.2</td>\n",
       "      <td>238.0</td>\n",
       "      <td>...</td>\n",
       "      <td>0.215937</td>\n",
       "      <td>0.246231</td>\n",
       "      <td>0.393470</td>\n",
       "      <td>0.546679</td>\n",
       "      <td>0.898949</td>\n",
       "      <td>0.181480</td>\n",
       "      <td>0.330719</td>\n",
       "      <td>-0.192872</td>\n",
       "      <td>-0.031146</td>\n",
       "      <td>0.208522</td>\n",
       "      <td>0.392000</td>\n",
       "      <td>0.187486</td>\n",
       "      <td>0.380686</td>\n",
       "      <td>0.802474</td>\n",
       "      <td>1.160437</td>\n",
       "      <td>0.199667</td>\n",
       "      <td>0.616169</td>\n",
       "      <td>0.868645</td>\n",
       "      <td>1.267212</td>\n",
       "      <td>0.064916</td>\n",
       "      <td>0.050268</td>\n",
       "      <td>0.007880</td>\n",
       "      <td>0.192209</td>\n",
       "      <td>-0.005305</td>\n",
       "      <td>-0.014085</td>\n",
       "    </tr>\n",
       "    <tr>\n",
       "      <th>...</th>\n",
       "      <td>...</td>\n",
       "      <td>...</td>\n",
       "      <td>...</td>\n",
       "      <td>...</td>\n",
       "      <td>...</td>\n",
       "      <td>...</td>\n",
       "      <td>...</td>\n",
       "      <td>...</td>\n",
       "      <td>...</td>\n",
       "      <td>...</td>\n",
       "      <td>...</td>\n",
       "      <td>...</td>\n",
       "      <td>...</td>\n",
       "      <td>...</td>\n",
       "      <td>...</td>\n",
       "      <td>...</td>\n",
       "      <td>...</td>\n",
       "      <td>...</td>\n",
       "      <td>...</td>\n",
       "      <td>...</td>\n",
       "      <td>...</td>\n",
       "      <td>...</td>\n",
       "      <td>...</td>\n",
       "      <td>...</td>\n",
       "      <td>...</td>\n",
       "      <td>...</td>\n",
       "      <td>...</td>\n",
       "      <td>...</td>\n",
       "      <td>...</td>\n",
       "      <td>...</td>\n",
       "      <td>...</td>\n",
       "      <td>...</td>\n",
       "      <td>...</td>\n",
       "      <td>...</td>\n",
       "      <td>...</td>\n",
       "      <td>...</td>\n",
       "      <td>...</td>\n",
       "      <td>...</td>\n",
       "      <td>...</td>\n",
       "      <td>...</td>\n",
       "      <td>...</td>\n",
       "      <td>...</td>\n",
       "      <td>...</td>\n",
       "      <td>...</td>\n",
       "      <td>...</td>\n",
       "      <td>...</td>\n",
       "      <td>...</td>\n",
       "      <td>...</td>\n",
       "      <td>...</td>\n",
       "      <td>...</td>\n",
       "      <td>...</td>\n",
       "    </tr>\n",
       "    <tr>\n",
       "      <th>2976</th>\n",
       "      <td>2018-10-04</td>\n",
       "      <td>0.065541</td>\n",
       "      <td>3.5</td>\n",
       "      <td>3.2</td>\n",
       "      <td>4.0</td>\n",
       "      <td>-1.8</td>\n",
       "      <td>2.6</td>\n",
       "      <td>-28.0</td>\n",
       "      <td>20510.18</td>\n",
       "      <td>6.0</td>\n",
       "      <td>3.2</td>\n",
       "      <td>2.1</td>\n",
       "      <td>2.9</td>\n",
       "      <td>2.4</td>\n",
       "      <td>2.5</td>\n",
       "      <td>2.11439</td>\n",
       "      <td>0.2</td>\n",
       "      <td>0.2</td>\n",
       "      <td>0.1</td>\n",
       "      <td>0.1</td>\n",
       "      <td>3.4</td>\n",
       "      <td>2.8</td>\n",
       "      <td>3.9</td>\n",
       "      <td>7.5</td>\n",
       "      <td>215.0</td>\n",
       "      <td>...</td>\n",
       "      <td>0.227080</td>\n",
       "      <td>-0.485908</td>\n",
       "      <td>-0.466805</td>\n",
       "      <td>0.051765</td>\n",
       "      <td>0.216529</td>\n",
       "      <td>-0.065167</td>\n",
       "      <td>-0.012628</td>\n",
       "      <td>0.187404</td>\n",
       "      <td>0.061255</td>\n",
       "      <td>-0.137714</td>\n",
       "      <td>-4.016422</td>\n",
       "      <td>-0.158181</td>\n",
       "      <td>-0.230887</td>\n",
       "      <td>-0.330446</td>\n",
       "      <td>-0.238354</td>\n",
       "      <td>-0.262361</td>\n",
       "      <td>-0.056919</td>\n",
       "      <td>-0.492996</td>\n",
       "      <td>-0.191682</td>\n",
       "      <td>-0.082364</td>\n",
       "      <td>-0.121134</td>\n",
       "      <td>0.054391</td>\n",
       "      <td>0.005365</td>\n",
       "      <td>-0.101495</td>\n",
       "      <td>-0.008863</td>\n",
       "    </tr>\n",
       "    <tr>\n",
       "      <th>2977</th>\n",
       "      <td>2018-10-05</td>\n",
       "      <td>0.087007</td>\n",
       "      <td>3.5</td>\n",
       "      <td>3.2</td>\n",
       "      <td>4.0</td>\n",
       "      <td>-1.8</td>\n",
       "      <td>2.6</td>\n",
       "      <td>-28.0</td>\n",
       "      <td>20510.18</td>\n",
       "      <td>6.0</td>\n",
       "      <td>3.2</td>\n",
       "      <td>2.1</td>\n",
       "      <td>2.9</td>\n",
       "      <td>2.4</td>\n",
       "      <td>2.5</td>\n",
       "      <td>2.11439</td>\n",
       "      <td>0.2</td>\n",
       "      <td>0.2</td>\n",
       "      <td>0.1</td>\n",
       "      <td>0.1</td>\n",
       "      <td>3.4</td>\n",
       "      <td>2.8</td>\n",
       "      <td>3.9</td>\n",
       "      <td>7.5</td>\n",
       "      <td>215.0</td>\n",
       "      <td>...</td>\n",
       "      <td>0.208163</td>\n",
       "      <td>-0.551445</td>\n",
       "      <td>-0.530876</td>\n",
       "      <td>0.026032</td>\n",
       "      <td>0.183548</td>\n",
       "      <td>-0.079172</td>\n",
       "      <td>-0.040714</td>\n",
       "      <td>0.158268</td>\n",
       "      <td>0.044748</td>\n",
       "      <td>-0.123975</td>\n",
       "      <td>-4.022049</td>\n",
       "      <td>-0.172504</td>\n",
       "      <td>-0.243538</td>\n",
       "      <td>-0.376015</td>\n",
       "      <td>-0.303179</td>\n",
       "      <td>-0.256985</td>\n",
       "      <td>-0.067379</td>\n",
       "      <td>-0.563265</td>\n",
       "      <td>-0.287682</td>\n",
       "      <td>-0.102406</td>\n",
       "      <td>-0.142743</td>\n",
       "      <td>0.040224</td>\n",
       "      <td>-0.036506</td>\n",
       "      <td>-0.126752</td>\n",
       "      <td>-0.020803</td>\n",
       "    </tr>\n",
       "    <tr>\n",
       "      <th>2978</th>\n",
       "      <td>2018-10-08</td>\n",
       "      <td>0.086912</td>\n",
       "      <td>3.5</td>\n",
       "      <td>3.2</td>\n",
       "      <td>4.0</td>\n",
       "      <td>-1.8</td>\n",
       "      <td>2.6</td>\n",
       "      <td>-28.0</td>\n",
       "      <td>20510.18</td>\n",
       "      <td>6.0</td>\n",
       "      <td>3.2</td>\n",
       "      <td>2.1</td>\n",
       "      <td>2.9</td>\n",
       "      <td>2.4</td>\n",
       "      <td>2.5</td>\n",
       "      <td>2.11439</td>\n",
       "      <td>0.2</td>\n",
       "      <td>0.2</td>\n",
       "      <td>0.1</td>\n",
       "      <td>0.1</td>\n",
       "      <td>3.4</td>\n",
       "      <td>2.8</td>\n",
       "      <td>3.9</td>\n",
       "      <td>7.5</td>\n",
       "      <td>215.0</td>\n",
       "      <td>...</td>\n",
       "      <td>0.196450</td>\n",
       "      <td>-0.564213</td>\n",
       "      <td>-0.548296</td>\n",
       "      <td>0.013169</td>\n",
       "      <td>0.143493</td>\n",
       "      <td>-0.082016</td>\n",
       "      <td>-0.053119</td>\n",
       "      <td>0.160566</td>\n",
       "      <td>0.041007</td>\n",
       "      <td>-0.099446</td>\n",
       "      <td>-4.004780</td>\n",
       "      <td>-0.162831</td>\n",
       "      <td>-0.257039</td>\n",
       "      <td>-0.348865</td>\n",
       "      <td>-0.334507</td>\n",
       "      <td>-0.216376</td>\n",
       "      <td>-0.029067</td>\n",
       "      <td>-0.637921</td>\n",
       "      <td>-0.469580</td>\n",
       "      <td>-0.103857</td>\n",
       "      <td>-0.135273</td>\n",
       "      <td>0.027368</td>\n",
       "      <td>-0.093994</td>\n",
       "      <td>-0.124454</td>\n",
       "      <td>-0.026748</td>\n",
       "    </tr>\n",
       "    <tr>\n",
       "      <th>2979</th>\n",
       "      <td>2018-10-10</td>\n",
       "      <td>0.095500</td>\n",
       "      <td>3.5</td>\n",
       "      <td>3.2</td>\n",
       "      <td>4.0</td>\n",
       "      <td>-1.8</td>\n",
       "      <td>2.6</td>\n",
       "      <td>-28.0</td>\n",
       "      <td>20510.18</td>\n",
       "      <td>6.0</td>\n",
       "      <td>3.2</td>\n",
       "      <td>2.1</td>\n",
       "      <td>2.7</td>\n",
       "      <td>2.2</td>\n",
       "      <td>2.3</td>\n",
       "      <td>2.00137</td>\n",
       "      <td>0.1</td>\n",
       "      <td>0.1</td>\n",
       "      <td>0.0</td>\n",
       "      <td>0.1</td>\n",
       "      <td>3.0</td>\n",
       "      <td>2.6</td>\n",
       "      <td>3.8</td>\n",
       "      <td>7.4</td>\n",
       "      <td>210.0</td>\n",
       "      <td>...</td>\n",
       "      <td>0.143223</td>\n",
       "      <td>-0.602653</td>\n",
       "      <td>-0.535916</td>\n",
       "      <td>-0.066224</td>\n",
       "      <td>0.027869</td>\n",
       "      <td>-0.131192</td>\n",
       "      <td>-0.114468</td>\n",
       "      <td>0.108104</td>\n",
       "      <td>-0.023493</td>\n",
       "      <td>-0.086642</td>\n",
       "      <td>-3.993775</td>\n",
       "      <td>-0.190746</td>\n",
       "      <td>-0.334369</td>\n",
       "      <td>-0.424137</td>\n",
       "      <td>-0.455205</td>\n",
       "      <td>-0.229097</td>\n",
       "      <td>-0.014124</td>\n",
       "      <td>-0.683140</td>\n",
       "      <td>-0.546557</td>\n",
       "      <td>-0.098693</td>\n",
       "      <td>-0.148345</td>\n",
       "      <td>0.022981</td>\n",
       "      <td>-0.129769</td>\n",
       "      <td>-0.170475</td>\n",
       "      <td>-0.066840</td>\n",
       "    </tr>\n",
       "    <tr>\n",
       "      <th>2980</th>\n",
       "      <td>2018-10-11</td>\n",
       "      <td>0.159817</td>\n",
       "      <td>3.5</td>\n",
       "      <td>3.2</td>\n",
       "      <td>4.0</td>\n",
       "      <td>-1.8</td>\n",
       "      <td>2.6</td>\n",
       "      <td>-28.0</td>\n",
       "      <td>20510.18</td>\n",
       "      <td>6.0</td>\n",
       "      <td>3.2</td>\n",
       "      <td>2.1</td>\n",
       "      <td>2.7</td>\n",
       "      <td>2.2</td>\n",
       "      <td>2.3</td>\n",
       "      <td>2.00137</td>\n",
       "      <td>0.1</td>\n",
       "      <td>0.1</td>\n",
       "      <td>0.0</td>\n",
       "      <td>0.1</td>\n",
       "      <td>3.0</td>\n",
       "      <td>2.6</td>\n",
       "      <td>3.8</td>\n",
       "      <td>7.4</td>\n",
       "      <td>210.0</td>\n",
       "      <td>...</td>\n",
       "      <td>0.127790</td>\n",
       "      <td>-0.679855</td>\n",
       "      <td>-0.625631</td>\n",
       "      <td>-0.109291</td>\n",
       "      <td>-0.002833</td>\n",
       "      <td>-0.140159</td>\n",
       "      <td>-0.101408</td>\n",
       "      <td>0.080834</td>\n",
       "      <td>-0.054978</td>\n",
       "      <td>-0.136424</td>\n",
       "      <td>-4.047212</td>\n",
       "      <td>-0.223435</td>\n",
       "      <td>-0.357596</td>\n",
       "      <td>-0.445923</td>\n",
       "      <td>-0.453185</td>\n",
       "      <td>-0.247762</td>\n",
       "      <td>-0.048099</td>\n",
       "      <td>-0.673484</td>\n",
       "      <td>-0.590768</td>\n",
       "      <td>-0.135632</td>\n",
       "      <td>-0.190421</td>\n",
       "      <td>-0.050743</td>\n",
       "      <td>-0.166978</td>\n",
       "      <td>-0.241836</td>\n",
       "      <td>-0.087273</td>\n",
       "    </tr>\n",
       "  </tbody>\n",
       "</table>\n",
       "<p>409 rows × 756 columns</p>\n",
       "</div>"
      ],
      "text/plain": [
       "            date  KRXsemiconductor_close  GDPCQOQIndex  GDPCYOYIndex  GDPCTOT%Index  \\\n",
       "2572  2017-02-06                0.266921           2.2           1.6            2.6   \n",
       "2573  2017-02-07                0.266792           2.2           1.6            2.6   \n",
       "2574  2017-02-08                0.281844           2.2           1.6            2.6   \n",
       "2575  2017-02-09                0.277489           2.0           2.0            2.5   \n",
       "2576  2017-02-10                0.307722           2.0           2.0            2.5   \n",
       "...          ...                     ...           ...           ...            ...   \n",
       "2976  2018-10-04                0.065541           3.5           3.2            4.0   \n",
       "2977  2018-10-05                0.087007           3.5           3.2            4.0   \n",
       "2978  2018-10-08                0.086912           3.5           3.2            4.0   \n",
       "2979  2018-10-10                0.095500           3.5           3.2            4.0   \n",
       "2980  2018-10-11                0.159817           3.5           3.2            4.0   \n",
       "\n",
       "      GPDITOC%Index  GPGSTOC%Index  RGCDCIPIIndex  GDPCUR$Index  GDPCURYIndex  GDPPIQQIndex  \\\n",
       "2572            0.5            1.7          -14.7      18806.74           2.5           1.4   \n",
       "2573            0.5            1.7          -14.7      18806.74           2.5           1.4   \n",
       "2574            0.5            1.7          -14.7      18806.74           2.5           1.4   \n",
       "2575            9.3            1.1           44.8      18991.88           3.5           2.1   \n",
       "2576            9.3            1.1           44.8      18991.88           3.5           2.1   \n",
       "...             ...            ...            ...           ...           ...           ...   \n",
       "2976           -1.8            2.6          -28.0      20510.18           6.0           3.2   \n",
       "2977           -1.8            2.6          -28.0      20510.18           6.0           3.2   \n",
       "2978           -1.8            2.6          -28.0      20510.18           6.0           3.2   \n",
       "2979           -1.8            2.6          -28.0      20510.18           6.0           3.2   \n",
       "2980           -1.8            2.6          -28.0      20510.18           6.0           3.2   \n",
       "\n",
       "      GDPCPCECIndex  CPIYOYIndex  CPIXYOYIndex  PCEDEFYIndex  PCECYOYIndex  CPICHNGIndex  \\\n",
       "2572            2.0          1.7           2.1           1.4       1.73005           0.1   \n",
       "2573            2.0          1.7           2.1           1.4       1.73005           0.1   \n",
       "2574            2.0          1.7           2.1           1.4       1.73005           0.1   \n",
       "2575            1.4          2.1           2.2           1.7       1.79465           0.3   \n",
       "2576            1.4          2.1           2.2           1.7       1.79465           0.3   \n",
       "...             ...          ...           ...           ...           ...           ...   \n",
       "2976            2.1          2.9           2.4           2.5       2.11439           0.2   \n",
       "2977            2.1          2.9           2.4           2.5       2.11439           0.2   \n",
       "2978            2.1          2.9           2.4           2.5       2.11439           0.2   \n",
       "2979            2.1          2.7           2.2           2.3       2.00137           0.1   \n",
       "2980            2.1          2.7           2.2           2.3       2.00137           0.1   \n",
       "\n",
       "      CPUPXCHGIndex  FDIDFDMOIndex  FDIDSGMOIndex  FDIUFDYOIndex  FDIUSGYOIndex  USURTOTIndex  \\\n",
       "2572            0.2            0.2            0.2            1.3            1.7           4.7   \n",
       "2573            0.2            0.2            0.2            1.3            1.7           4.7   \n",
       "2574            0.2            0.2            0.2            1.3            1.7           4.7   \n",
       "2575            0.2            0.3            0.2            1.7            1.7           4.7   \n",
       "2576            0.2            0.3            0.2            1.7            1.7           4.7   \n",
       "...             ...            ...            ...            ...            ...           ...   \n",
       "2976            0.2            0.1            0.1            3.4            2.8           3.9   \n",
       "2977            0.2            0.1            0.1            3.4            2.8           3.9   \n",
       "2978            0.2            0.1            0.1            3.4            2.8           3.9   \n",
       "2979            0.1            0.0            0.1            3.0            2.6           3.8   \n",
       "2980            0.1            0.0            0.1            3.0            2.6           3.8   \n",
       "\n",
       "      USUDMAERIndex  INJCJCIndex  ...  Microsoft_close260  Nuvoton_close120  Nuvoton_close260  \\\n",
       "2572            9.4        255.0  ...            0.221430          0.128891          0.358337   \n",
       "2573            9.4        255.0  ...            0.231037          0.138150          0.342945   \n",
       "2574            9.4        238.0  ...            0.222677          0.247769          0.387254   \n",
       "2575            9.2        238.0  ...            0.197549          0.246182          0.391788   \n",
       "2576            9.2        238.0  ...            0.215937          0.246231          0.393470   \n",
       "...             ...          ...  ...                 ...               ...               ...   \n",
       "2976            7.5        215.0  ...            0.227080         -0.485908         -0.466805   \n",
       "2977            7.5        215.0  ...            0.208163         -0.551445         -0.530876   \n",
       "2978            7.5        215.0  ...            0.196450         -0.564213         -0.548296   \n",
       "2979            7.4        210.0  ...            0.143223         -0.602653         -0.535916   \n",
       "2980            7.4        210.0  ...            0.127790         -0.679855         -0.625631   \n",
       "\n",
       "      Nvidia_close120  Nvidia_close260  Philadelphia_close120  Philadelphia_close260  \\\n",
       "2572         0.556009         0.959339               0.144590               0.374220   \n",
       "2573         0.567597         0.973062               0.152806               0.370969   \n",
       "2574         0.577605         0.947799               0.175735               0.348722   \n",
       "2575         0.554327         0.933086               0.170434               0.334550   \n",
       "2576         0.546679         0.898949               0.181480               0.330719   \n",
       "...               ...              ...                    ...                    ...   \n",
       "2976         0.051765         0.216529              -0.065167              -0.012628   \n",
       "2977         0.026032         0.183548              -0.079172              -0.040714   \n",
       "2978         0.013169         0.143493              -0.082016              -0.053119   \n",
       "2979        -0.066224         0.027869              -0.131192              -0.114468   \n",
       "2980        -0.109291        -0.002833              -0.140159              -0.101408   \n",
       "\n",
       "      QCOM_close120  QCOM_close260  SamsungElectronics_close120  SamsungElectronics_close260  \\\n",
       "2572      -0.250097      -0.029984                     0.147935                     0.443857   \n",
       "2573      -0.229206      -0.016629                     0.144409                     0.411666   \n",
       "2574      -0.219090      -0.048887                     0.217301                     0.412521   \n",
       "2575      -0.218828      -0.055941                     0.223795                     0.393814   \n",
       "2576      -0.192872      -0.031146                     0.208522                     0.392000   \n",
       "...             ...            ...                          ...                          ...   \n",
       "2976       0.187404       0.061255                    -0.137714                    -4.016422   \n",
       "2977       0.158268       0.044748                    -0.123975                    -4.022049   \n",
       "2978       0.160566       0.041007                    -0.099446                    -4.004780   \n",
       "2979       0.108104      -0.023493                    -0.086642                    -3.993775   \n",
       "2980       0.080834      -0.054978                    -0.136424                    -4.047212   \n",
       "\n",
       "      ShinEtsuChemical_close120  ShinEtsuChemical_close260  Siltronic_close120  \\\n",
       "2572                   0.151148                   0.372195            0.646591   \n",
       "2573                   0.143657                   0.377162            0.616822   \n",
       "2574                   0.171934                   0.377090            0.600387   \n",
       "2575                   0.176425                   0.368522            0.671046   \n",
       "2576                   0.187486                   0.380686            0.802474   \n",
       "...                         ...                        ...                 ...   \n",
       "2976                  -0.158181                  -0.230887           -0.330446   \n",
       "2977                  -0.172504                  -0.243538           -0.376015   \n",
       "2978                  -0.162831                  -0.257039           -0.348865   \n",
       "2979                  -0.190746                  -0.334369           -0.424137   \n",
       "2980                  -0.223435                  -0.357596           -0.445923   \n",
       "\n",
       "      Siltronic_close260  SKhynix_close120  SKhynix_close260  Sumco_close120  Sumco_close260  \\\n",
       "2572            1.167176          0.240988          0.713825        0.711088        1.210650   \n",
       "2573            1.131644          0.255068          0.672701        0.700804        1.192068   \n",
       "2574            1.052068          0.279165          0.709749        0.730988        1.165965   \n",
       "2575            1.082535          0.244959          0.666910        0.763510        1.174655   \n",
       "2576            1.160437          0.199667          0.616169        0.868645        1.267212   \n",
       "...                  ...               ...               ...             ...             ...   \n",
       "2976           -0.238354         -0.262361         -0.056919       -0.492996       -0.191682   \n",
       "2977           -0.303179         -0.256985         -0.067379       -0.563265       -0.287682   \n",
       "2978           -0.334507         -0.216376         -0.029067       -0.637921       -0.469580   \n",
       "2979           -0.455205         -0.229097         -0.014124       -0.683140       -0.546557   \n",
       "2980           -0.453185         -0.247762         -0.048099       -0.673484       -0.590768   \n",
       "\n",
       "      TokyoElectron_close120  TokyoElectron_close260  TSMC_close120  TSMC_close260  UMC_close120  \\\n",
       "2572                0.047365                0.046701       0.000086       0.229996      0.000000   \n",
       "2573                0.050529                0.053190      -0.004153       0.194139     -0.010582   \n",
       "2574                0.054347                0.053682      -0.002225       0.206568     -0.010582   \n",
       "2575                0.063617                0.050301      -0.008853       0.187024     -0.014085   \n",
       "2576                0.064916                0.050268       0.007880       0.192209     -0.005305   \n",
       "...                      ...                     ...            ...            ...           ...   \n",
       "2976               -0.082364               -0.121134       0.054391       0.005365     -0.101495   \n",
       "2977               -0.102406               -0.142743       0.040224      -0.036506     -0.126752   \n",
       "2978               -0.103857               -0.135273       0.027368      -0.093994     -0.124454   \n",
       "2979               -0.098693               -0.148345       0.022981      -0.129769     -0.170475   \n",
       "2980               -0.135632               -0.190421      -0.050743      -0.166978     -0.241836   \n",
       "\n",
       "      UMC_close260  \n",
       "2572      0.017890  \n",
       "2573      0.010695  \n",
       "2574      0.007117  \n",
       "2575     -0.007067  \n",
       "2576     -0.014085  \n",
       "...            ...  \n",
       "2976     -0.008863  \n",
       "2977     -0.020803  \n",
       "2978     -0.026748  \n",
       "2979     -0.066840  \n",
       "2980     -0.087273  \n",
       "\n",
       "[409 rows x 756 columns]"
      ]
     },
     "execution_count": 9,
     "metadata": {},
     "output_type": "execute_result"
    }
   ],
   "source": [
    "df.tail(409)"
   ]
  },
  {
   "cell_type": "code",
   "execution_count": 10,
   "metadata": {},
   "outputs": [
    {
     "data": {
      "text/html": [
       "<div>\n",
       "<style scoped>\n",
       "    .dataframe tbody tr th:only-of-type {\n",
       "        vertical-align: middle;\n",
       "    }\n",
       "\n",
       "    .dataframe tbody tr th {\n",
       "        vertical-align: top;\n",
       "    }\n",
       "\n",
       "    .dataframe thead th {\n",
       "        text-align: right;\n",
       "    }\n",
       "</style>\n",
       "<table border=\"1\" class=\"dataframe\">\n",
       "  <thead>\n",
       "    <tr style=\"text-align: right;\">\n",
       "      <th></th>\n",
       "      <th>GDPCQOQIndex</th>\n",
       "      <th>GDPCYOYIndex</th>\n",
       "      <th>GDPCTOT%Index</th>\n",
       "      <th>GPDITOC%Index</th>\n",
       "      <th>GPGSTOC%Index</th>\n",
       "      <th>RGCDCIPIIndex</th>\n",
       "      <th>GDPCUR$Index</th>\n",
       "      <th>GDPCURYIndex</th>\n",
       "      <th>GDPPIQQIndex</th>\n",
       "      <th>GDPCPCECIndex</th>\n",
       "      <th>CPIYOYIndex</th>\n",
       "      <th>CPIXYOYIndex</th>\n",
       "      <th>PCEDEFYIndex</th>\n",
       "      <th>PCECYOYIndex</th>\n",
       "      <th>CPICHNGIndex</th>\n",
       "      <th>CPUPXCHGIndex</th>\n",
       "      <th>FDIDFDMOIndex</th>\n",
       "      <th>FDIDSGMOIndex</th>\n",
       "      <th>FDIUFDYOIndex</th>\n",
       "      <th>FDIUSGYOIndex</th>\n",
       "      <th>USURTOTIndex</th>\n",
       "      <th>USUDMAERIndex</th>\n",
       "      <th>INJCJCIndex</th>\n",
       "      <th>INJCSPIndex</th>\n",
       "      <th>NFPTCHIndex</th>\n",
       "      <th>...</th>\n",
       "      <th>Microsoft_close260</th>\n",
       "      <th>Nuvoton_close120</th>\n",
       "      <th>Nuvoton_close260</th>\n",
       "      <th>Nvidia_close120</th>\n",
       "      <th>Nvidia_close260</th>\n",
       "      <th>Philadelphia_close120</th>\n",
       "      <th>Philadelphia_close260</th>\n",
       "      <th>QCOM_close120</th>\n",
       "      <th>QCOM_close260</th>\n",
       "      <th>SamsungElectronics_close120</th>\n",
       "      <th>SamsungElectronics_close260</th>\n",
       "      <th>ShinEtsuChemical_close120</th>\n",
       "      <th>ShinEtsuChemical_close260</th>\n",
       "      <th>Siltronic_close120</th>\n",
       "      <th>Siltronic_close260</th>\n",
       "      <th>SKhynix_close120</th>\n",
       "      <th>SKhynix_close260</th>\n",
       "      <th>Sumco_close120</th>\n",
       "      <th>Sumco_close260</th>\n",
       "      <th>TokyoElectron_close120</th>\n",
       "      <th>TokyoElectron_close260</th>\n",
       "      <th>TSMC_close120</th>\n",
       "      <th>TSMC_close260</th>\n",
       "      <th>UMC_close120</th>\n",
       "      <th>UMC_close260</th>\n",
       "    </tr>\n",
       "  </thead>\n",
       "  <tbody>\n",
       "    <tr>\n",
       "      <th>0</th>\n",
       "      <td>0.9</td>\n",
       "      <td>3.1</td>\n",
       "      <td>2.0</td>\n",
       "      <td>-2.6</td>\n",
       "      <td>-0.1</td>\n",
       "      <td>92.7</td>\n",
       "      <td>13749.81</td>\n",
       "      <td>6.5</td>\n",
       "      <td>3.4</td>\n",
       "      <td>2.9</td>\n",
       "      <td>4.1</td>\n",
       "      <td>2.7</td>\n",
       "      <td>3.3</td>\n",
       "      <td>2.42117</td>\n",
       "      <td>0.5</td>\n",
       "      <td>0.2</td>\n",
       "      <td>0.1</td>\n",
       "      <td>0.3</td>\n",
       "      <td>2.6</td>\n",
       "      <td>2.2</td>\n",
       "      <td>4.7</td>\n",
       "      <td>8.5</td>\n",
       "      <td>318.0</td>\n",
       "      <td>2477.0</td>\n",
       "      <td>196.0</td>\n",
       "      <td>...</td>\n",
       "      <td>0.022620</td>\n",
       "      <td>0.000000</td>\n",
       "      <td>0.000000</td>\n",
       "      <td>0.207492</td>\n",
       "      <td>0.420394</td>\n",
       "      <td>-0.023130</td>\n",
       "      <td>-0.072856</td>\n",
       "      <td>-0.223249</td>\n",
       "      <td>-0.166448</td>\n",
       "      <td>0.074108</td>\n",
       "      <td>0.019535</td>\n",
       "      <td>0.000000</td>\n",
       "      <td>0.000000</td>\n",
       "      <td>0.000000</td>\n",
       "      <td>0.000000</td>\n",
       "      <td>0.200526</td>\n",
       "      <td>0.059371</td>\n",
       "      <td>0.000000</td>\n",
       "      <td>0.000000</td>\n",
       "      <td>-0.064981</td>\n",
       "      <td>-0.082307</td>\n",
       "      <td>0.000747</td>\n",
       "      <td>-0.011141</td>\n",
       "      <td>-0.043959</td>\n",
       "      <td>-0.028507</td>\n",
       "    </tr>\n",
       "    <tr>\n",
       "      <th>1</th>\n",
       "      <td>0.9</td>\n",
       "      <td>3.1</td>\n",
       "      <td>2.0</td>\n",
       "      <td>-2.6</td>\n",
       "      <td>-0.1</td>\n",
       "      <td>92.7</td>\n",
       "      <td>13749.81</td>\n",
       "      <td>6.5</td>\n",
       "      <td>3.4</td>\n",
       "      <td>2.9</td>\n",
       "      <td>4.1</td>\n",
       "      <td>2.7</td>\n",
       "      <td>3.3</td>\n",
       "      <td>2.42117</td>\n",
       "      <td>0.5</td>\n",
       "      <td>0.2</td>\n",
       "      <td>0.1</td>\n",
       "      <td>0.3</td>\n",
       "      <td>2.6</td>\n",
       "      <td>2.2</td>\n",
       "      <td>4.7</td>\n",
       "      <td>8.5</td>\n",
       "      <td>310.0</td>\n",
       "      <td>2467.0</td>\n",
       "      <td>196.0</td>\n",
       "      <td>...</td>\n",
       "      <td>0.032314</td>\n",
       "      <td>0.000000</td>\n",
       "      <td>0.000000</td>\n",
       "      <td>0.251842</td>\n",
       "      <td>0.454694</td>\n",
       "      <td>-0.002988</td>\n",
       "      <td>-0.068967</td>\n",
       "      <td>-0.170490</td>\n",
       "      <td>-0.140284</td>\n",
       "      <td>0.057070</td>\n",
       "      <td>0.003003</td>\n",
       "      <td>0.000000</td>\n",
       "      <td>0.000000</td>\n",
       "      <td>0.000000</td>\n",
       "      <td>0.000000</td>\n",
       "      <td>0.157181</td>\n",
       "      <td>0.010444</td>\n",
       "      <td>0.000000</td>\n",
       "      <td>0.000000</td>\n",
       "      <td>-0.061928</td>\n",
       "      <td>-0.089795</td>\n",
       "      <td>-0.011778</td>\n",
       "      <td>-0.017598</td>\n",
       "      <td>-0.062811</td>\n",
       "      <td>-0.009924</td>\n",
       "    </tr>\n",
       "    <tr>\n",
       "      <th>2</th>\n",
       "      <td>0.9</td>\n",
       "      <td>3.1</td>\n",
       "      <td>2.0</td>\n",
       "      <td>-2.6</td>\n",
       "      <td>-0.1</td>\n",
       "      <td>92.7</td>\n",
       "      <td>13749.81</td>\n",
       "      <td>6.5</td>\n",
       "      <td>3.4</td>\n",
       "      <td>2.9</td>\n",
       "      <td>4.1</td>\n",
       "      <td>2.7</td>\n",
       "      <td>3.3</td>\n",
       "      <td>2.42117</td>\n",
       "      <td>0.5</td>\n",
       "      <td>0.2</td>\n",
       "      <td>0.1</td>\n",
       "      <td>0.3</td>\n",
       "      <td>2.6</td>\n",
       "      <td>2.2</td>\n",
       "      <td>4.7</td>\n",
       "      <td>8.5</td>\n",
       "      <td>310.0</td>\n",
       "      <td>2467.0</td>\n",
       "      <td>196.0</td>\n",
       "      <td>...</td>\n",
       "      <td>0.002877</td>\n",
       "      <td>0.000000</td>\n",
       "      <td>0.000000</td>\n",
       "      <td>0.232146</td>\n",
       "      <td>0.420947</td>\n",
       "      <td>-0.028203</td>\n",
       "      <td>-0.093909</td>\n",
       "      <td>-0.165592</td>\n",
       "      <td>-0.162152</td>\n",
       "      <td>0.055656</td>\n",
       "      <td>-0.049864</td>\n",
       "      <td>0.000000</td>\n",
       "      <td>0.000000</td>\n",
       "      <td>0.000000</td>\n",
       "      <td>0.000000</td>\n",
       "      <td>0.140479</td>\n",
       "      <td>0.077641</td>\n",
       "      <td>0.000000</td>\n",
       "      <td>0.000000</td>\n",
       "      <td>-0.072469</td>\n",
       "      <td>-0.089795</td>\n",
       "      <td>-0.004402</td>\n",
       "      <td>-0.022865</td>\n",
       "      <td>-0.050937</td>\n",
       "      <td>-0.005001</td>\n",
       "    </tr>\n",
       "    <tr>\n",
       "      <th>3</th>\n",
       "      <td>0.9</td>\n",
       "      <td>3.1</td>\n",
       "      <td>2.0</td>\n",
       "      <td>-2.6</td>\n",
       "      <td>-0.1</td>\n",
       "      <td>92.7</td>\n",
       "      <td>13749.81</td>\n",
       "      <td>6.5</td>\n",
       "      <td>3.4</td>\n",
       "      <td>2.9</td>\n",
       "      <td>4.1</td>\n",
       "      <td>2.7</td>\n",
       "      <td>3.3</td>\n",
       "      <td>2.42117</td>\n",
       "      <td>0.5</td>\n",
       "      <td>0.2</td>\n",
       "      <td>0.1</td>\n",
       "      <td>0.3</td>\n",
       "      <td>2.6</td>\n",
       "      <td>2.2</td>\n",
       "      <td>4.7</td>\n",
       "      <td>8.5</td>\n",
       "      <td>310.0</td>\n",
       "      <td>2467.0</td>\n",
       "      <td>196.0</td>\n",
       "      <td>...</td>\n",
       "      <td>-0.015527</td>\n",
       "      <td>0.000000</td>\n",
       "      <td>0.000000</td>\n",
       "      <td>0.208045</td>\n",
       "      <td>0.371779</td>\n",
       "      <td>-0.029949</td>\n",
       "      <td>-0.123594</td>\n",
       "      <td>-0.191458</td>\n",
       "      <td>-0.173231</td>\n",
       "      <td>0.059860</td>\n",
       "      <td>-0.037514</td>\n",
       "      <td>0.000000</td>\n",
       "      <td>0.000000</td>\n",
       "      <td>0.000000</td>\n",
       "      <td>0.000000</td>\n",
       "      <td>0.141528</td>\n",
       "      <td>0.060283</td>\n",
       "      <td>0.000000</td>\n",
       "      <td>0.000000</td>\n",
       "      <td>-0.061480</td>\n",
       "      <td>-0.089154</td>\n",
       "      <td>0.001365</td>\n",
       "      <td>-0.044656</td>\n",
       "      <td>-0.068707</td>\n",
       "      <td>-0.015468</td>\n",
       "    </tr>\n",
       "    <tr>\n",
       "      <th>4</th>\n",
       "      <td>0.9</td>\n",
       "      <td>3.1</td>\n",
       "      <td>2.0</td>\n",
       "      <td>-2.6</td>\n",
       "      <td>-0.1</td>\n",
       "      <td>92.7</td>\n",
       "      <td>13749.81</td>\n",
       "      <td>6.5</td>\n",
       "      <td>3.4</td>\n",
       "      <td>2.9</td>\n",
       "      <td>4.1</td>\n",
       "      <td>2.7</td>\n",
       "      <td>3.3</td>\n",
       "      <td>2.42117</td>\n",
       "      <td>0.5</td>\n",
       "      <td>0.2</td>\n",
       "      <td>0.1</td>\n",
       "      <td>0.3</td>\n",
       "      <td>2.6</td>\n",
       "      <td>2.2</td>\n",
       "      <td>4.7</td>\n",
       "      <td>8.5</td>\n",
       "      <td>310.0</td>\n",
       "      <td>2467.0</td>\n",
       "      <td>196.0</td>\n",
       "      <td>...</td>\n",
       "      <td>0.010854</td>\n",
       "      <td>0.000000</td>\n",
       "      <td>0.000000</td>\n",
       "      <td>0.240194</td>\n",
       "      <td>0.390524</td>\n",
       "      <td>-0.013343</td>\n",
       "      <td>-0.120291</td>\n",
       "      <td>-0.170190</td>\n",
       "      <td>-0.198078</td>\n",
       "      <td>0.047253</td>\n",
       "      <td>-0.055362</td>\n",
       "      <td>0.000000</td>\n",
       "      <td>0.000000</td>\n",
       "      <td>0.000000</td>\n",
       "      <td>0.000000</td>\n",
       "      <td>0.131403</td>\n",
       "      <td>0.052789</td>\n",
       "      <td>0.000000</td>\n",
       "      <td>0.000000</td>\n",
       "      <td>-0.064981</td>\n",
       "      <td>-0.132552</td>\n",
       "      <td>0.003164</td>\n",
       "      <td>-0.056091</td>\n",
       "      <td>-0.063460</td>\n",
       "      <td>-0.015388</td>\n",
       "    </tr>\n",
       "    <tr>\n",
       "      <th>...</th>\n",
       "      <td>...</td>\n",
       "      <td>...</td>\n",
       "      <td>...</td>\n",
       "      <td>...</td>\n",
       "      <td>...</td>\n",
       "      <td>...</td>\n",
       "      <td>...</td>\n",
       "      <td>...</td>\n",
       "      <td>...</td>\n",
       "      <td>...</td>\n",
       "      <td>...</td>\n",
       "      <td>...</td>\n",
       "      <td>...</td>\n",
       "      <td>...</td>\n",
       "      <td>...</td>\n",
       "      <td>...</td>\n",
       "      <td>...</td>\n",
       "      <td>...</td>\n",
       "      <td>...</td>\n",
       "      <td>...</td>\n",
       "      <td>...</td>\n",
       "      <td>...</td>\n",
       "      <td>...</td>\n",
       "      <td>...</td>\n",
       "      <td>...</td>\n",
       "      <td>...</td>\n",
       "      <td>...</td>\n",
       "      <td>...</td>\n",
       "      <td>...</td>\n",
       "      <td>...</td>\n",
       "      <td>...</td>\n",
       "      <td>...</td>\n",
       "      <td>...</td>\n",
       "      <td>...</td>\n",
       "      <td>...</td>\n",
       "      <td>...</td>\n",
       "      <td>...</td>\n",
       "      <td>...</td>\n",
       "      <td>...</td>\n",
       "      <td>...</td>\n",
       "      <td>...</td>\n",
       "      <td>...</td>\n",
       "      <td>...</td>\n",
       "      <td>...</td>\n",
       "      <td>...</td>\n",
       "      <td>...</td>\n",
       "      <td>...</td>\n",
       "      <td>...</td>\n",
       "      <td>...</td>\n",
       "      <td>...</td>\n",
       "      <td>...</td>\n",
       "    </tr>\n",
       "    <tr>\n",
       "      <th>2976</th>\n",
       "      <td>3.5</td>\n",
       "      <td>3.2</td>\n",
       "      <td>4.0</td>\n",
       "      <td>-1.8</td>\n",
       "      <td>2.6</td>\n",
       "      <td>-28.0</td>\n",
       "      <td>20510.18</td>\n",
       "      <td>6.0</td>\n",
       "      <td>3.2</td>\n",
       "      <td>2.1</td>\n",
       "      <td>2.9</td>\n",
       "      <td>2.4</td>\n",
       "      <td>2.5</td>\n",
       "      <td>2.11439</td>\n",
       "      <td>0.2</td>\n",
       "      <td>0.2</td>\n",
       "      <td>0.1</td>\n",
       "      <td>0.1</td>\n",
       "      <td>3.4</td>\n",
       "      <td>2.8</td>\n",
       "      <td>3.9</td>\n",
       "      <td>7.5</td>\n",
       "      <td>215.0</td>\n",
       "      <td>1713.0</td>\n",
       "      <td>178.0</td>\n",
       "      <td>...</td>\n",
       "      <td>0.227080</td>\n",
       "      <td>-0.485908</td>\n",
       "      <td>-0.466805</td>\n",
       "      <td>0.051765</td>\n",
       "      <td>0.216529</td>\n",
       "      <td>-0.065167</td>\n",
       "      <td>-0.012628</td>\n",
       "      <td>0.187404</td>\n",
       "      <td>0.061255</td>\n",
       "      <td>-0.137714</td>\n",
       "      <td>-4.016422</td>\n",
       "      <td>-0.158181</td>\n",
       "      <td>-0.230887</td>\n",
       "      <td>-0.330446</td>\n",
       "      <td>-0.238354</td>\n",
       "      <td>-0.262361</td>\n",
       "      <td>-0.056919</td>\n",
       "      <td>-0.492996</td>\n",
       "      <td>-0.191682</td>\n",
       "      <td>-0.082364</td>\n",
       "      <td>-0.121134</td>\n",
       "      <td>0.054391</td>\n",
       "      <td>0.005365</td>\n",
       "      <td>-0.101495</td>\n",
       "      <td>-0.008863</td>\n",
       "    </tr>\n",
       "    <tr>\n",
       "      <th>2977</th>\n",
       "      <td>3.5</td>\n",
       "      <td>3.2</td>\n",
       "      <td>4.0</td>\n",
       "      <td>-1.8</td>\n",
       "      <td>2.6</td>\n",
       "      <td>-28.0</td>\n",
       "      <td>20510.18</td>\n",
       "      <td>6.0</td>\n",
       "      <td>3.2</td>\n",
       "      <td>2.1</td>\n",
       "      <td>2.9</td>\n",
       "      <td>2.4</td>\n",
       "      <td>2.5</td>\n",
       "      <td>2.11439</td>\n",
       "      <td>0.2</td>\n",
       "      <td>0.2</td>\n",
       "      <td>0.1</td>\n",
       "      <td>0.1</td>\n",
       "      <td>3.4</td>\n",
       "      <td>2.8</td>\n",
       "      <td>3.9</td>\n",
       "      <td>7.5</td>\n",
       "      <td>215.0</td>\n",
       "      <td>1713.0</td>\n",
       "      <td>178.0</td>\n",
       "      <td>...</td>\n",
       "      <td>0.208163</td>\n",
       "      <td>-0.551445</td>\n",
       "      <td>-0.530876</td>\n",
       "      <td>0.026032</td>\n",
       "      <td>0.183548</td>\n",
       "      <td>-0.079172</td>\n",
       "      <td>-0.040714</td>\n",
       "      <td>0.158268</td>\n",
       "      <td>0.044748</td>\n",
       "      <td>-0.123975</td>\n",
       "      <td>-4.022049</td>\n",
       "      <td>-0.172504</td>\n",
       "      <td>-0.243538</td>\n",
       "      <td>-0.376015</td>\n",
       "      <td>-0.303179</td>\n",
       "      <td>-0.256985</td>\n",
       "      <td>-0.067379</td>\n",
       "      <td>-0.563265</td>\n",
       "      <td>-0.287682</td>\n",
       "      <td>-0.102406</td>\n",
       "      <td>-0.142743</td>\n",
       "      <td>0.040224</td>\n",
       "      <td>-0.036506</td>\n",
       "      <td>-0.126752</td>\n",
       "      <td>-0.020803</td>\n",
       "    </tr>\n",
       "    <tr>\n",
       "      <th>2978</th>\n",
       "      <td>3.5</td>\n",
       "      <td>3.2</td>\n",
       "      <td>4.0</td>\n",
       "      <td>-1.8</td>\n",
       "      <td>2.6</td>\n",
       "      <td>-28.0</td>\n",
       "      <td>20510.18</td>\n",
       "      <td>6.0</td>\n",
       "      <td>3.2</td>\n",
       "      <td>2.1</td>\n",
       "      <td>2.9</td>\n",
       "      <td>2.4</td>\n",
       "      <td>2.5</td>\n",
       "      <td>2.11439</td>\n",
       "      <td>0.2</td>\n",
       "      <td>0.2</td>\n",
       "      <td>0.1</td>\n",
       "      <td>0.1</td>\n",
       "      <td>3.4</td>\n",
       "      <td>2.8</td>\n",
       "      <td>3.9</td>\n",
       "      <td>7.5</td>\n",
       "      <td>215.0</td>\n",
       "      <td>1713.0</td>\n",
       "      <td>178.0</td>\n",
       "      <td>...</td>\n",
       "      <td>0.196450</td>\n",
       "      <td>-0.564213</td>\n",
       "      <td>-0.548296</td>\n",
       "      <td>0.013169</td>\n",
       "      <td>0.143493</td>\n",
       "      <td>-0.082016</td>\n",
       "      <td>-0.053119</td>\n",
       "      <td>0.160566</td>\n",
       "      <td>0.041007</td>\n",
       "      <td>-0.099446</td>\n",
       "      <td>-4.004780</td>\n",
       "      <td>-0.162831</td>\n",
       "      <td>-0.257039</td>\n",
       "      <td>-0.348865</td>\n",
       "      <td>-0.334507</td>\n",
       "      <td>-0.216376</td>\n",
       "      <td>-0.029067</td>\n",
       "      <td>-0.637921</td>\n",
       "      <td>-0.469580</td>\n",
       "      <td>-0.103857</td>\n",
       "      <td>-0.135273</td>\n",
       "      <td>0.027368</td>\n",
       "      <td>-0.093994</td>\n",
       "      <td>-0.124454</td>\n",
       "      <td>-0.026748</td>\n",
       "    </tr>\n",
       "    <tr>\n",
       "      <th>2979</th>\n",
       "      <td>3.5</td>\n",
       "      <td>3.2</td>\n",
       "      <td>4.0</td>\n",
       "      <td>-1.8</td>\n",
       "      <td>2.6</td>\n",
       "      <td>-28.0</td>\n",
       "      <td>20510.18</td>\n",
       "      <td>6.0</td>\n",
       "      <td>3.2</td>\n",
       "      <td>2.1</td>\n",
       "      <td>2.7</td>\n",
       "      <td>2.2</td>\n",
       "      <td>2.3</td>\n",
       "      <td>2.00137</td>\n",
       "      <td>0.1</td>\n",
       "      <td>0.1</td>\n",
       "      <td>0.0</td>\n",
       "      <td>0.1</td>\n",
       "      <td>3.0</td>\n",
       "      <td>2.6</td>\n",
       "      <td>3.8</td>\n",
       "      <td>7.4</td>\n",
       "      <td>210.0</td>\n",
       "      <td>1706.0</td>\n",
       "      <td>282.0</td>\n",
       "      <td>...</td>\n",
       "      <td>0.143223</td>\n",
       "      <td>-0.602653</td>\n",
       "      <td>-0.535916</td>\n",
       "      <td>-0.066224</td>\n",
       "      <td>0.027869</td>\n",
       "      <td>-0.131192</td>\n",
       "      <td>-0.114468</td>\n",
       "      <td>0.108104</td>\n",
       "      <td>-0.023493</td>\n",
       "      <td>-0.086642</td>\n",
       "      <td>-3.993775</td>\n",
       "      <td>-0.190746</td>\n",
       "      <td>-0.334369</td>\n",
       "      <td>-0.424137</td>\n",
       "      <td>-0.455205</td>\n",
       "      <td>-0.229097</td>\n",
       "      <td>-0.014124</td>\n",
       "      <td>-0.683140</td>\n",
       "      <td>-0.546557</td>\n",
       "      <td>-0.098693</td>\n",
       "      <td>-0.148345</td>\n",
       "      <td>0.022981</td>\n",
       "      <td>-0.129769</td>\n",
       "      <td>-0.170475</td>\n",
       "      <td>-0.066840</td>\n",
       "    </tr>\n",
       "    <tr>\n",
       "      <th>2980</th>\n",
       "      <td>3.5</td>\n",
       "      <td>3.2</td>\n",
       "      <td>4.0</td>\n",
       "      <td>-1.8</td>\n",
       "      <td>2.6</td>\n",
       "      <td>-28.0</td>\n",
       "      <td>20510.18</td>\n",
       "      <td>6.0</td>\n",
       "      <td>3.2</td>\n",
       "      <td>2.1</td>\n",
       "      <td>2.7</td>\n",
       "      <td>2.2</td>\n",
       "      <td>2.3</td>\n",
       "      <td>2.00137</td>\n",
       "      <td>0.1</td>\n",
       "      <td>0.1</td>\n",
       "      <td>0.0</td>\n",
       "      <td>0.1</td>\n",
       "      <td>3.0</td>\n",
       "      <td>2.6</td>\n",
       "      <td>3.8</td>\n",
       "      <td>7.4</td>\n",
       "      <td>210.0</td>\n",
       "      <td>1706.0</td>\n",
       "      <td>282.0</td>\n",
       "      <td>...</td>\n",
       "      <td>0.127790</td>\n",
       "      <td>-0.679855</td>\n",
       "      <td>-0.625631</td>\n",
       "      <td>-0.109291</td>\n",
       "      <td>-0.002833</td>\n",
       "      <td>-0.140159</td>\n",
       "      <td>-0.101408</td>\n",
       "      <td>0.080834</td>\n",
       "      <td>-0.054978</td>\n",
       "      <td>-0.136424</td>\n",
       "      <td>-4.047212</td>\n",
       "      <td>-0.223435</td>\n",
       "      <td>-0.357596</td>\n",
       "      <td>-0.445923</td>\n",
       "      <td>-0.453185</td>\n",
       "      <td>-0.247762</td>\n",
       "      <td>-0.048099</td>\n",
       "      <td>-0.673484</td>\n",
       "      <td>-0.590768</td>\n",
       "      <td>-0.135632</td>\n",
       "      <td>-0.190421</td>\n",
       "      <td>-0.050743</td>\n",
       "      <td>-0.166978</td>\n",
       "      <td>-0.241836</td>\n",
       "      <td>-0.087273</td>\n",
       "    </tr>\n",
       "  </tbody>\n",
       "</table>\n",
       "<p>2981 rows × 754 columns</p>\n",
       "</div>"
      ],
      "text/plain": [
       "      GDPCQOQIndex  GDPCYOYIndex  GDPCTOT%Index  GPDITOC%Index  GPGSTOC%Index  RGCDCIPIIndex  \\\n",
       "0              0.9           3.1            2.0           -2.6           -0.1           92.7   \n",
       "1              0.9           3.1            2.0           -2.6           -0.1           92.7   \n",
       "2              0.9           3.1            2.0           -2.6           -0.1           92.7   \n",
       "3              0.9           3.1            2.0           -2.6           -0.1           92.7   \n",
       "4              0.9           3.1            2.0           -2.6           -0.1           92.7   \n",
       "...            ...           ...            ...            ...            ...            ...   \n",
       "2976           3.5           3.2            4.0           -1.8            2.6          -28.0   \n",
       "2977           3.5           3.2            4.0           -1.8            2.6          -28.0   \n",
       "2978           3.5           3.2            4.0           -1.8            2.6          -28.0   \n",
       "2979           3.5           3.2            4.0           -1.8            2.6          -28.0   \n",
       "2980           3.5           3.2            4.0           -1.8            2.6          -28.0   \n",
       "\n",
       "      GDPCUR$Index  GDPCURYIndex  GDPPIQQIndex  GDPCPCECIndex  CPIYOYIndex  CPIXYOYIndex  \\\n",
       "0         13749.81           6.5           3.4            2.9          4.1           2.7   \n",
       "1         13749.81           6.5           3.4            2.9          4.1           2.7   \n",
       "2         13749.81           6.5           3.4            2.9          4.1           2.7   \n",
       "3         13749.81           6.5           3.4            2.9          4.1           2.7   \n",
       "4         13749.81           6.5           3.4            2.9          4.1           2.7   \n",
       "...            ...           ...           ...            ...          ...           ...   \n",
       "2976      20510.18           6.0           3.2            2.1          2.9           2.4   \n",
       "2977      20510.18           6.0           3.2            2.1          2.9           2.4   \n",
       "2978      20510.18           6.0           3.2            2.1          2.9           2.4   \n",
       "2979      20510.18           6.0           3.2            2.1          2.7           2.2   \n",
       "2980      20510.18           6.0           3.2            2.1          2.7           2.2   \n",
       "\n",
       "      PCEDEFYIndex  PCECYOYIndex  CPICHNGIndex  CPUPXCHGIndex  FDIDFDMOIndex  FDIDSGMOIndex  \\\n",
       "0              3.3       2.42117           0.5            0.2            0.1            0.3   \n",
       "1              3.3       2.42117           0.5            0.2            0.1            0.3   \n",
       "2              3.3       2.42117           0.5            0.2            0.1            0.3   \n",
       "3              3.3       2.42117           0.5            0.2            0.1            0.3   \n",
       "4              3.3       2.42117           0.5            0.2            0.1            0.3   \n",
       "...            ...           ...           ...            ...            ...            ...   \n",
       "2976           2.5       2.11439           0.2            0.2            0.1            0.1   \n",
       "2977           2.5       2.11439           0.2            0.2            0.1            0.1   \n",
       "2978           2.5       2.11439           0.2            0.2            0.1            0.1   \n",
       "2979           2.3       2.00137           0.1            0.1            0.0            0.1   \n",
       "2980           2.3       2.00137           0.1            0.1            0.0            0.1   \n",
       "\n",
       "      FDIUFDYOIndex  FDIUSGYOIndex  USURTOTIndex  USUDMAERIndex  INJCJCIndex  INJCSPIndex  \\\n",
       "0               2.6            2.2           4.7            8.5        318.0       2477.0   \n",
       "1               2.6            2.2           4.7            8.5        310.0       2467.0   \n",
       "2               2.6            2.2           4.7            8.5        310.0       2467.0   \n",
       "3               2.6            2.2           4.7            8.5        310.0       2467.0   \n",
       "4               2.6            2.2           4.7            8.5        310.0       2467.0   \n",
       "...             ...            ...           ...            ...          ...          ...   \n",
       "2976            3.4            2.8           3.9            7.5        215.0       1713.0   \n",
       "2977            3.4            2.8           3.9            7.5        215.0       1713.0   \n",
       "2978            3.4            2.8           3.9            7.5        215.0       1713.0   \n",
       "2979            3.0            2.6           3.8            7.4        210.0       1706.0   \n",
       "2980            3.0            2.6           3.8            7.4        210.0       1706.0   \n",
       "\n",
       "      NFPTCHIndex  ...  Microsoft_close260  Nuvoton_close120  Nuvoton_close260  Nvidia_close120  \\\n",
       "0           196.0  ...            0.022620          0.000000          0.000000         0.207492   \n",
       "1           196.0  ...            0.032314          0.000000          0.000000         0.251842   \n",
       "2           196.0  ...            0.002877          0.000000          0.000000         0.232146   \n",
       "3           196.0  ...           -0.015527          0.000000          0.000000         0.208045   \n",
       "4           196.0  ...            0.010854          0.000000          0.000000         0.240194   \n",
       "...           ...  ...                 ...               ...               ...              ...   \n",
       "2976        178.0  ...            0.227080         -0.485908         -0.466805         0.051765   \n",
       "2977        178.0  ...            0.208163         -0.551445         -0.530876         0.026032   \n",
       "2978        178.0  ...            0.196450         -0.564213         -0.548296         0.013169   \n",
       "2979        282.0  ...            0.143223         -0.602653         -0.535916        -0.066224   \n",
       "2980        282.0  ...            0.127790         -0.679855         -0.625631        -0.109291   \n",
       "\n",
       "      Nvidia_close260  Philadelphia_close120  Philadelphia_close260  QCOM_close120  QCOM_close260  \\\n",
       "0            0.420394              -0.023130              -0.072856      -0.223249      -0.166448   \n",
       "1            0.454694              -0.002988              -0.068967      -0.170490      -0.140284   \n",
       "2            0.420947              -0.028203              -0.093909      -0.165592      -0.162152   \n",
       "3            0.371779              -0.029949              -0.123594      -0.191458      -0.173231   \n",
       "4            0.390524              -0.013343              -0.120291      -0.170190      -0.198078   \n",
       "...               ...                    ...                    ...            ...            ...   \n",
       "2976         0.216529              -0.065167              -0.012628       0.187404       0.061255   \n",
       "2977         0.183548              -0.079172              -0.040714       0.158268       0.044748   \n",
       "2978         0.143493              -0.082016              -0.053119       0.160566       0.041007   \n",
       "2979         0.027869              -0.131192              -0.114468       0.108104      -0.023493   \n",
       "2980        -0.002833              -0.140159              -0.101408       0.080834      -0.054978   \n",
       "\n",
       "      SamsungElectronics_close120  SamsungElectronics_close260  ShinEtsuChemical_close120  \\\n",
       "0                        0.074108                     0.019535                   0.000000   \n",
       "1                        0.057070                     0.003003                   0.000000   \n",
       "2                        0.055656                    -0.049864                   0.000000   \n",
       "3                        0.059860                    -0.037514                   0.000000   \n",
       "4                        0.047253                    -0.055362                   0.000000   \n",
       "...                           ...                          ...                        ...   \n",
       "2976                    -0.137714                    -4.016422                  -0.158181   \n",
       "2977                    -0.123975                    -4.022049                  -0.172504   \n",
       "2978                    -0.099446                    -4.004780                  -0.162831   \n",
       "2979                    -0.086642                    -3.993775                  -0.190746   \n",
       "2980                    -0.136424                    -4.047212                  -0.223435   \n",
       "\n",
       "      ShinEtsuChemical_close260  Siltronic_close120  Siltronic_close260  SKhynix_close120  \\\n",
       "0                      0.000000            0.000000            0.000000          0.200526   \n",
       "1                      0.000000            0.000000            0.000000          0.157181   \n",
       "2                      0.000000            0.000000            0.000000          0.140479   \n",
       "3                      0.000000            0.000000            0.000000          0.141528   \n",
       "4                      0.000000            0.000000            0.000000          0.131403   \n",
       "...                         ...                 ...                 ...               ...   \n",
       "2976                  -0.230887           -0.330446           -0.238354         -0.262361   \n",
       "2977                  -0.243538           -0.376015           -0.303179         -0.256985   \n",
       "2978                  -0.257039           -0.348865           -0.334507         -0.216376   \n",
       "2979                  -0.334369           -0.424137           -0.455205         -0.229097   \n",
       "2980                  -0.357596           -0.445923           -0.453185         -0.247762   \n",
       "\n",
       "      SKhynix_close260  Sumco_close120  Sumco_close260  TokyoElectron_close120  \\\n",
       "0             0.059371        0.000000        0.000000               -0.064981   \n",
       "1             0.010444        0.000000        0.000000               -0.061928   \n",
       "2             0.077641        0.000000        0.000000               -0.072469   \n",
       "3             0.060283        0.000000        0.000000               -0.061480   \n",
       "4             0.052789        0.000000        0.000000               -0.064981   \n",
       "...                ...             ...             ...                     ...   \n",
       "2976         -0.056919       -0.492996       -0.191682               -0.082364   \n",
       "2977         -0.067379       -0.563265       -0.287682               -0.102406   \n",
       "2978         -0.029067       -0.637921       -0.469580               -0.103857   \n",
       "2979         -0.014124       -0.683140       -0.546557               -0.098693   \n",
       "2980         -0.048099       -0.673484       -0.590768               -0.135632   \n",
       "\n",
       "      TokyoElectron_close260  TSMC_close120  TSMC_close260  UMC_close120  UMC_close260  \n",
       "0                  -0.082307       0.000747      -0.011141     -0.043959     -0.028507  \n",
       "1                  -0.089795      -0.011778      -0.017598     -0.062811     -0.009924  \n",
       "2                  -0.089795      -0.004402      -0.022865     -0.050937     -0.005001  \n",
       "3                  -0.089154       0.001365      -0.044656     -0.068707     -0.015468  \n",
       "4                  -0.132552       0.003164      -0.056091     -0.063460     -0.015388  \n",
       "...                      ...            ...            ...           ...           ...  \n",
       "2976               -0.121134       0.054391       0.005365     -0.101495     -0.008863  \n",
       "2977               -0.142743       0.040224      -0.036506     -0.126752     -0.020803  \n",
       "2978               -0.135273       0.027368      -0.093994     -0.124454     -0.026748  \n",
       "2979               -0.148345       0.022981      -0.129769     -0.170475     -0.066840  \n",
       "2980               -0.190421      -0.050743      -0.166978     -0.241836     -0.087273  \n",
       "\n",
       "[2981 rows x 754 columns]"
      ]
     },
     "execution_count": 10,
     "metadata": {},
     "output_type": "execute_result"
    }
   ],
   "source": [
    "X_data"
   ]
  },
  {
   "cell_type": "code",
   "execution_count": 11,
   "metadata": {},
   "outputs": [],
   "source": [
    "#X_data= X_data[['MGT2MAIndex', 'SKLICONEIndex', 'EHCAKRYIndex120', 'KOHOINCYIndex120', 'KOULMGFIndex120', 'TokyoElectron_close120', 'SKCIYOYIndex120', 'KOGNICUYIndex120', 'KOECSPRQIndex', 'KOEAUERSIndex120', 'DGNOCHNGIndex', 'NMDPIndex260', 'KOQEEYOYIndex', 'Nvidia_close120', 'SKCIMOMIndex120', 'KODSDISCIndex', 'KOECSEMQIndex', 'GDPCQOQIndex', 'KOECFCSYIndex120', 'UMC_close120', 'JOLTOPENIndex120', 'EOKOS002Index120', 'ShinEtsuChemical_close120', 'MWINCHNGIndex', 'USEMNCHGIndex', 'PRODNFR%Index', 'Nuvoton_close120', 'SKCIYOYIndex260', 'LMNIDS03Comdty120', 'KOFDITYIndex', 'Siltronic_close120', 'FDIUSGYOIndex120', 'KORSTIndex120']]"
   ]
  },
  {
   "cell_type": "code",
   "execution_count": 11,
   "metadata": {},
   "outputs": [
    {
     "data": {
      "text/plain": [
       "2981"
      ]
     },
     "execution_count": 11,
     "metadata": {},
     "output_type": "execute_result"
    }
   ],
   "source": [
    "len(X_data)"
   ]
  },
  {
   "cell_type": "code",
   "execution_count": 12,
   "metadata": {},
   "outputs": [],
   "source": [
    "#X_data['target'] = target"
   ]
  },
  {
   "cell_type": "code",
   "execution_count": 13,
   "metadata": {},
   "outputs": [
    {
     "data": {
      "text/plain": [
       "754"
      ]
     },
     "execution_count": 13,
     "metadata": {},
     "output_type": "execute_result"
    }
   ],
   "source": [
    "len(X_data.columns)"
   ]
  },
  {
   "cell_type": "code",
   "execution_count": 14,
   "metadata": {},
   "outputs": [],
   "source": [
    "# scaling 하기전에 columns 뽑기 \n",
    "col_name = X_data.columns"
   ]
  },
  {
   "cell_type": "code",
   "execution_count": 15,
   "metadata": {},
   "outputs": [
    {
     "data": {
      "text/plain": [
       "Index(['GDPCQOQIndex', 'GDPCYOYIndex', 'GDPCTOT%Index', 'GPDITOC%Index', 'GPGSTOC%Index',\n",
       "       'RGCDCIPIIndex', 'GDPCUR$Index', 'GDPCURYIndex', 'GDPPIQQIndex', 'GDPCPCECIndex',\n",
       "       ...\n",
       "       'SKhynix_close120', 'SKhynix_close260', 'Sumco_close120', 'Sumco_close260',\n",
       "       'TokyoElectron_close120', 'TokyoElectron_close260', 'TSMC_close120', 'TSMC_close260',\n",
       "       'UMC_close120', 'UMC_close260'],\n",
       "      dtype='object', length=754)"
      ]
     },
     "execution_count": 15,
     "metadata": {},
     "output_type": "execute_result"
    }
   ],
   "source": [
    "X_data.columns"
   ]
  },
  {
   "cell_type": "code",
   "execution_count": 16,
   "metadata": {},
   "outputs": [],
   "source": [
    "# scaling과 동시에 변환\n",
    "X_data = StandardScaler().fit_transform(X_data)"
   ]
  },
  {
   "cell_type": "code",
   "execution_count": 17,
   "metadata": {},
   "outputs": [],
   "source": [
    "# scaling하면 colname사라지므로 다시 생성\n",
    "X_data = pd.DataFrame(X_data, columns = col_name)"
   ]
  },
  {
   "cell_type": "code",
   "execution_count": 18,
   "metadata": {},
   "outputs": [],
   "source": [
    "#X_train, X_test, y_train, y_test = train_test_split(X_data, target, test_size = 0.127, shuffle = False)\n",
    "X_train, X_test, y_train, y_test = train_test_split(X_data, target, test_size = 0.2, shuffle = False)"
   ]
  },
  {
   "cell_type": "code",
   "execution_count": 19,
   "metadata": {},
   "outputs": [
    {
     "data": {
      "text/plain": [
       "((2384, 754), (597, 754), (2384,), (597,))"
      ]
     },
     "execution_count": 19,
     "metadata": {},
     "output_type": "execute_result"
    }
   ],
   "source": [
    "X_train.shape, X_test.shape, y_train.shape, y_test.shape"
   ]
  },
  {
   "cell_type": "code",
   "execution_count": 16,
   "metadata": {},
   "outputs": [],
   "source": [
    "#pca = PCA(n_components = 20)"
   ]
  },
  {
   "cell_type": "code",
   "execution_count": 17,
   "metadata": {},
   "outputs": [
    {
     "data": {
      "text/plain": [
       "PCA(copy=True, iterated_power='auto', n_components=20, random_state=None,\n",
       "    svd_solver='auto', tol=0.0, whiten=False)"
      ]
     },
     "execution_count": 17,
     "metadata": {},
     "output_type": "execute_result"
    }
   ],
   "source": [
    "#pca.fit(X_data)"
   ]
  },
  {
   "cell_type": "code",
   "execution_count": 18,
   "metadata": {},
   "outputs": [],
   "source": [
    "#X_pca = pca.transform(X_data)"
   ]
  },
  {
   "cell_type": "code",
   "execution_count": 19,
   "metadata": {},
   "outputs": [
    {
     "data": {
      "text/plain": [
       "(2981, 20)"
      ]
     },
     "execution_count": 19,
     "metadata": {},
     "output_type": "execute_result"
    }
   ],
   "source": [
    "# shape check\n",
    "#X_pca.shape"
   ]
  },
  {
   "cell_type": "code",
   "execution_count": 52,
   "metadata": {},
   "outputs": [],
   "source": [
    "# random split과 not random split\n",
    "#X_train, X_test, y_train, y_test = train_test_split(X_data, y_target, test_size = 0.3, random_state = 156)\n",
    "#X_train, X_test, y_train, y_test = train_test_split(X_data, y_target, test_size = 0.2, shuffle = False)"
   ]
  },
  {
   "cell_type": "code",
   "execution_count": 21,
   "metadata": {},
   "outputs": [],
   "source": [
    "# 이건 PCA를 위한 Data split\n",
    "#X_train, X_test, y_train, y_test = train_test_split(X_pca, target, test_size = 0.2, shuffle = False)"
   ]
  },
  {
   "cell_type": "code",
   "execution_count": 20,
   "metadata": {},
   "outputs": [],
   "source": [
    "# metric 구성\n",
    "\n",
    "from sklearn.metrics import mean_squared_error, r2_score, mean_absolute_error, accuracy_score\n",
    "\n",
    "class CustomMetric():\n",
    "\n",
    "    def __init__(self, pred, real):\n",
    "            self.pred = pred\n",
    "            self.real = real\n",
    "            self.thr25 = np.percentile(self.real, 25)\n",
    "            self.thr75 = np.percentile(self.real, 75)\n",
    "            self.df = pd.DataFrame({'pred' : self.pred, 'real' : self.real})\n",
    "        \n",
    "    def issame(self, data1, data2):\n",
    "        if data1 > 0 and data2 > 0 : \n",
    "            return 'T'\n",
    "        elif data1 > 0 and data2 < 0 :\n",
    "            return 'F'\n",
    "        elif data1 < 0 and data2 > 0 :\n",
    "            return 'F'\n",
    "        elif data1 < 0 and data2 < 0 :\n",
    "            return 'T'\n",
    "        elif data1 == 0 or data2 == 0 :\n",
    "            return 0\n",
    "        else :\n",
    "            return 'notcal'\n",
    "\n",
    "    def getouter(self, data1, data2): #quantile_25 = np.percentile(values, 25)\n",
    "\n",
    "        if data1 > 0 and data2 >= self.thr75 :\n",
    "            return 'T'\n",
    "        elif data1 < 0 and data2 <= self.thr25 :\n",
    "            return 'T'\n",
    "        elif data1 >= 0 and data2 <= self.thr25 :\n",
    "            return 'F'\n",
    "        elif data1 <= 0 and data2 >= self.thr75: \n",
    "            return 'F'\n",
    "        else:\n",
    "            return 'notcal'\n",
    "        \n",
    "    def makedf(self):\n",
    "        self.df['TF'] = self.df.apply(lambda x : self.issame(x['pred'], x['real']), axis = 1)\n",
    "        self.df['thrTF'] = self.df.apply(lambda x : self.getouter(x['pred'], x['real']), axis = 1)\n",
    "        \n",
    "        return self.df\n",
    "        \n",
    "    def execution(self):\n",
    "        mdf = pd.DataFrame()\n",
    "        mdf['CORR'] = [self.df['real'].corr(self.df['pred'], method = 'pearson')]\n",
    "        mdf['R2'] = [\"{0:0.4f}\".format(r2_score(self.df['real'], self.df['pred']))]\n",
    "        mdf['MAE'] = [\"{0:0.4f}\".format(mean_absolute_error(self.df['pred'], self.df['real']))]\n",
    "        mdf['RMSE'] = [\"{0:0.4f}\".format(np.sqrt(mean_squared_error(self.df['pred'], self.df['real'])))]\n",
    "        mdf['ACR'] = [sum(self.df['TF'] == 'T')/len(self.df['TF'])]\n",
    "        \n",
    "        mdf['threshACR'] = [sum(self.df['thrTF'] == 'T') / sum(self.df['thrTF'] != 'notcal')]\n",
    "        \n",
    "        return mdf     "
   ]
  },
  {
   "cell_type": "markdown",
   "metadata": {},
   "source": [
    "# Linear Model"
   ]
  },
  {
   "cell_type": "code",
   "execution_count": 21,
   "metadata": {},
   "outputs": [],
   "source": [
    "# linear model select\n",
    "ridge_reg = Ridge(alpha = 100)\n",
    "lr_reg = LinearRegression()\n",
    "#lasso = Lasso(alpha = 100)"
   ]
  },
  {
   "cell_type": "code",
   "execution_count": 22,
   "metadata": {},
   "outputs": [
    {
     "data": {
      "text/plain": [
       "((2384, 754), (2384,))"
      ]
     },
     "execution_count": 22,
     "metadata": {},
     "output_type": "execute_result"
    }
   ],
   "source": [
    "X_train.shape, y_train.shape"
   ]
  },
  {
   "cell_type": "code",
   "execution_count": 23,
   "metadata": {},
   "outputs": [],
   "source": [
    "ridge_reg.fit(X_train, y_train)\n",
    "ridge_pred = ridge_reg.predict(X_test)"
   ]
  },
  {
   "cell_type": "code",
   "execution_count": 24,
   "metadata": {},
   "outputs": [
    {
     "data": {
      "text/html": [
       "<div>\n",
       "<style scoped>\n",
       "    .dataframe tbody tr th:only-of-type {\n",
       "        vertical-align: middle;\n",
       "    }\n",
       "\n",
       "    .dataframe tbody tr th {\n",
       "        vertical-align: top;\n",
       "    }\n",
       "\n",
       "    .dataframe thead th {\n",
       "        text-align: right;\n",
       "    }\n",
       "</style>\n",
       "<table border=\"1\" class=\"dataframe\">\n",
       "  <thead>\n",
       "    <tr style=\"text-align: right;\">\n",
       "      <th></th>\n",
       "      <th>CORR</th>\n",
       "      <th>R2</th>\n",
       "      <th>MAE</th>\n",
       "      <th>RMSE</th>\n",
       "      <th>ACR</th>\n",
       "      <th>threshACR</th>\n",
       "    </tr>\n",
       "  </thead>\n",
       "  <tbody>\n",
       "    <tr>\n",
       "      <th>0</th>\n",
       "      <td>0.804971</td>\n",
       "      <td>0.5663</td>\n",
       "      <td>0.1668</td>\n",
       "      <td>0.1865</td>\n",
       "      <td>0.819095</td>\n",
       "      <td>0.986667</td>\n",
       "    </tr>\n",
       "  </tbody>\n",
       "</table>\n",
       "</div>"
      ],
      "text/plain": [
       "       CORR      R2     MAE    RMSE       ACR  threshACR\n",
       "0  0.804971  0.5663  0.1668  0.1865  0.819095   0.986667"
      ]
     },
     "execution_count": 24,
     "metadata": {},
     "output_type": "execute_result"
    }
   ],
   "source": [
    "metr = CustomMetric(ridge_pred, y_test)\n",
    "metr.makedf()\n",
    "metr.execution()"
   ]
  },
  {
   "cell_type": "code",
   "execution_count": 25,
   "metadata": {},
   "outputs": [],
   "source": [
    "lr_reg.fit(X_train, y_train)\n",
    "y_pred = lr_reg.predict(X_test)"
   ]
  },
  {
   "cell_type": "code",
   "execution_count": 26,
   "metadata": {},
   "outputs": [
    {
     "data": {
      "text/html": [
       "<div>\n",
       "<style scoped>\n",
       "    .dataframe tbody tr th:only-of-type {\n",
       "        vertical-align: middle;\n",
       "    }\n",
       "\n",
       "    .dataframe tbody tr th {\n",
       "        vertical-align: top;\n",
       "    }\n",
       "\n",
       "    .dataframe thead th {\n",
       "        text-align: right;\n",
       "    }\n",
       "</style>\n",
       "<table border=\"1\" class=\"dataframe\">\n",
       "  <thead>\n",
       "    <tr style=\"text-align: right;\">\n",
       "      <th></th>\n",
       "      <th>CORR</th>\n",
       "      <th>R2</th>\n",
       "      <th>MAE</th>\n",
       "      <th>RMSE</th>\n",
       "      <th>ACR</th>\n",
       "      <th>threshACR</th>\n",
       "    </tr>\n",
       "  </thead>\n",
       "  <tbody>\n",
       "    <tr>\n",
       "      <th>0</th>\n",
       "      <td>-0.135272</td>\n",
       "      <td>-1918173211108185647087616.0000</td>\n",
       "      <td>353406287298.1723</td>\n",
       "      <td>392276762462.3701</td>\n",
       "      <td>0.445561</td>\n",
       "      <td>0.506667</td>\n",
       "    </tr>\n",
       "  </tbody>\n",
       "</table>\n",
       "</div>"
      ],
      "text/plain": [
       "       CORR                               R2                MAE               RMSE       ACR  \\\n",
       "0 -0.135272  -1918173211108185647087616.0000  353406287298.1723  392276762462.3701  0.445561   \n",
       "\n",
       "   threshACR  \n",
       "0   0.506667  "
      ]
     },
     "execution_count": 26,
     "metadata": {},
     "output_type": "execute_result"
    }
   ],
   "source": [
    "metr = CustomMetric(y_pred, y_test)\n",
    "metr.makedf()\n",
    "metr.execution()"
   ]
  },
  {
   "cell_type": "code",
   "execution_count": 27,
   "metadata": {},
   "outputs": [
    {
     "data": {
      "image/png": "[encoded data removed]",
      "text/plain": [
       "<Figure size 432x288 with 1 Axes>"
      ]
     },
     "metadata": {
      "image/png": {
       "height": 248,
       "width": 380
      },
      "needs_background": "light"
     },
     "output_type": "display_data"
    },
    {
     "data": {
      "image/png": "[encoded data removed]",
      "text/plain": [
       "<Figure size 432x288 with 1 Axes>"
      ]
     },
     "metadata": {
      "image/png": {
       "height": 248,
       "width": 380
      },
      "needs_background": "light"
     },
     "output_type": "display_data"
    }
   ],
   "source": [
    "pd.DataFrame(y_test).plot()\n",
    "pd.DataFrame(ridge_pred).plot()\n",
    "plt.show()"
   ]
  },
  {
   "cell_type": "code",
   "execution_count": 28,
   "metadata": {},
   "outputs": [
    {
     "data": {
      "image/png": "[encoded data removed]",
      "text/plain": [
       "<Figure size 360x360 with 1 Axes>"
      ]
     },
     "metadata": {
      "image/png": {
       "height": 351,
       "width": 353
      },
      "needs_background": "light"
     },
     "output_type": "display_data"
    }
   ],
   "source": [
    "coef_imp = pd.DataFrame(sorted(zip(ridge_reg.coef_, X_train.columns)), columns = ['Value', 'Feature'])\n",
    "coef_imp.sort_values(by = 'Value', ascending = False)\n",
    "plt.figure(figsize = (5, 5))\n",
    "sns.barplot(x = 'Value', y = 'Feature', data = coef_imp.sort_values(by = 'Value', ascending = False))\n",
    "plt.title('Linear Regressor Features')\n",
    "plt.tight_layout()\n",
    "plt.show()"
   ]
  },
  {
   "cell_type": "markdown",
   "metadata": {},
   "source": [
    "Tree Model은 feature importance가 따로 뽑히므로 아래와 같이 시각화"
   ]
  },
  {
   "cell_type": "markdown",
   "metadata": {},
   "source": [
    "# Optuna AutoML을 통한 LightGBM Hyperparameter tuning"
   ]
  },
  {
   "cell_type": "markdown",
   "metadata": {},
   "source": [
    "hyperparameter tuning 전, Ridge 상위 변수 반영"
   ]
  },
  {
   "cell_type": "code",
   "execution_count": 29,
   "metadata": {},
   "outputs": [],
   "source": [
    "treedf = df[['MGT2MAIndex', 'SKLICONEIndex', 'EHCAKRYIndex120', 'KOHOINCYIndex120', 'KOULMGFIndex120', 'TokyoElectron_close120', 'SKCIYOYIndex120', 'KOGNICUYIndex120', 'KOECSPRQIndex', 'KOEAUERSIndex120', 'DGNOCHNGIndex', 'NMDPIndex260', 'KOQEEYOYIndex', 'Nvidia_close120', 'SKCIMOMIndex120', 'KODSDISCIndex', 'KOECSEMQIndex', 'GDPCQOQIndex', 'KOECFCSYIndex120', 'UMC_close120', 'JOLTOPENIndex120', 'EOKOS002Index120', 'ShinEtsuChemical_close120', 'MWINCHNGIndex', 'USEMNCHGIndex', 'PRODNFR%Index', 'Nuvoton_close120', 'SKCIYOYIndex260', 'LMNIDS03Comdty120', 'KOFDITYIndex', 'Siltronic_close120', 'FDIUSGYOIndex120', 'KORSTIndex120']]"
   ]
  },
  {
   "cell_type": "code",
   "execution_count": 30,
   "metadata": {},
   "outputs": [
    {
     "data": {
      "text/plain": [
       "2981"
      ]
     },
     "execution_count": 30,
     "metadata": {},
     "output_type": "execute_result"
    }
   ],
   "source": [
    "len(treedf)"
   ]
  },
  {
   "cell_type": "code",
   "execution_count": 31,
   "metadata": {},
   "outputs": [],
   "source": [
    "X_train, X_test, y_train, y_test = train_test_split(treedf, target, test_size = 0.2, shuffle = False)"
   ]
  },
  {
   "cell_type": "code",
   "execution_count": 32,
   "metadata": {},
   "outputs": [],
   "source": [
    "import sklearn.ensemble\n",
    "import sklearn.model_selection\n",
    "from sklearn.metrics import r2_score\n",
    "import optuna\n",
    "import optuna.integration.lightgbm as lgb"
   ]
  },
  {
   "cell_type": "code",
   "execution_count": 43,
   "metadata": {
    "collapsed": true,
    "jupyter": {
     "outputs_hidden": true
    }
   },
   "outputs": [
    {
     "name": "stderr",
     "output_type": "stream",
     "text": [
      "tune_feature_fraction, val_score: inf:   0%|          | 0/7 [00:00<?, ?it/s]"
     ]
    },
    {
     "name": "stdout",
     "output_type": "stream",
     "text": [
      "Training until validation scores don't improve for 100 rounds\n",
      "[100]\ttraining's l2: 0.000438911\tvalid_1's l2: 0.0565555\n",
      "[200]\ttraining's l2: 0.000234903\tvalid_1's l2: 0.0560839\n",
      "[300]\ttraining's l2: 0.000150424\tvalid_1's l2: 0.0557651\n",
      "[400]\ttraining's l2: 0.000103726\tvalid_1's l2: 0.0555044\n",
      "[500]\ttraining's l2: 7.41787e-05\tvalid_1's l2: 0.0554283\n",
      "[600]\ttraining's l2: 5.57244e-05\tvalid_1's l2: 0.055267\n",
      "[700]\ttraining's l2: 4.26271e-05\tvalid_1's l2: 0.0553404\n",
      "Early stopping, best iteration is:\n",
      "[603]\ttraining's l2: 5.52436e-05\tvalid_1's l2: 0.055254\n"
     ]
    },
    {
     "name": "stderr",
     "output_type": "stream",
     "text": [
      "tune_feature_fraction, val_score: 0.055254:  14%|#4        | 1/7 [00:01<00:06,  1.12s/it][I 2020-03-30 15:36:00,476] Finished trial#0 resulted in value: 0.05525397900564577. Current best value is 0.05525397900564577 with parameters: {'feature_fraction': 0.4}.\n",
      "tune_feature_fraction, val_score: 0.055254:  14%|#4        | 1/7 [00:01<00:06,  1.12s/it]"
     ]
    },
    {
     "name": "stdout",
     "output_type": "stream",
     "text": [
      "Training until validation scores don't improve for 100 rounds\n",
      "[100]\ttraining's l2: 0.000420715\tvalid_1's l2: 0.0537706\n",
      "[200]\ttraining's l2: 0.000220722\tvalid_1's l2: 0.0534153\n",
      "[300]\ttraining's l2: 0.00013951\tvalid_1's l2: 0.0532019\n",
      "Early stopping, best iteration is:\n",
      "[264]\ttraining's l2: 0.000161831\tvalid_1's l2: 0.0531294\n"
     ]
    },
    {
     "name": "stderr",
     "output_type": "stream",
     "text": [
      "tune_feature_fraction, val_score: 0.053129:  29%|##8       | 2/7 [00:01<00:04,  1.05it/s][I 2020-03-30 15:36:01,035] Finished trial#1 resulted in value: 0.05312939921855714. Current best value is 0.05312939921855714 with parameters: {'feature_fraction': 0.5}.\n",
      "tune_feature_fraction, val_score: 0.053129:  29%|##8       | 2/7 [00:01<00:04,  1.05it/s]"
     ]
    },
    {
     "name": "stdout",
     "output_type": "stream",
     "text": [
      "Training until validation scores don't improve for 100 rounds\n",
      "[100]\ttraining's l2: 0.000404237\tvalid_1's l2: 0.0535616\n",
      "[200]\ttraining's l2: 0.000211688\tvalid_1's l2: 0.0532422\n",
      "[300]\ttraining's l2: 0.000131922\tvalid_1's l2: 0.0530379\n",
      "[400]\ttraining's l2: 8.89282e-05\tvalid_1's l2: 0.0528757\n",
      "[500]\ttraining's l2: 6.28734e-05\tvalid_1's l2: 0.0527597\n",
      "Early stopping, best iteration is:\n",
      "[496]\ttraining's l2: 6.38504e-05\tvalid_1's l2: 0.052746\n"
     ]
    },
    {
     "name": "stderr",
     "output_type": "stream",
     "text": [
      "tune_feature_fraction, val_score: 0.052746:  43%|####2     | 3/7 [00:02<00:03,  1.02it/s][I 2020-03-30 15:36:02,083] Finished trial#2 resulted in value: 0.05274603737323792. Current best value is 0.05274603737323792 with parameters: {'feature_fraction': 0.6}.\n",
      "tune_feature_fraction, val_score: 0.052746:  43%|####2     | 3/7 [00:02<00:03,  1.02it/s]"
     ]
    },
    {
     "name": "stdout",
     "output_type": "stream",
     "text": [
      "Training until validation scores don't improve for 100 rounds\n",
      "[100]\ttraining's l2: 0.000402789\tvalid_1's l2: 0.0584651\n",
      "Early stopping, best iteration is:\n",
      "[87]\ttraining's l2: 0.00045109\tvalid_1's l2: 0.0583022\n"
     ]
    },
    {
     "name": "stderr",
     "output_type": "stream",
     "text": [
      "tune_feature_fraction, val_score: 0.052746:  57%|#####7    | 4/7 [00:03<00:02,  1.19it/s][I 2020-03-30 15:36:02,599] Finished trial#3 resulted in value: 0.058302151189547013. Current best value is 0.05274603737323792 with parameters: {'feature_fraction': 0.6}.\n",
      "tune_feature_fraction, val_score: 0.052746:  57%|#####7    | 4/7 [00:03<00:02,  1.19it/s]"
     ]
    },
    {
     "name": "stdout",
     "output_type": "stream",
     "text": [
      "Training until validation scores don't improve for 100 rounds\n",
      "[100]\ttraining's l2: 0.000399942\tvalid_1's l2: 0.0566531\n",
      "[200]\ttraining's l2: 0.000203026\tvalid_1's l2: 0.0564677\n",
      "[300]\ttraining's l2: 0.000121486\tvalid_1's l2: 0.0561445\n",
      "[400]\ttraining's l2: 8.21395e-05\tvalid_1's l2: 0.0560642\n",
      "[500]\ttraining's l2: 5.69471e-05\tvalid_1's l2: 0.0559684\n",
      "[600]\ttraining's l2: 4.05979e-05\tvalid_1's l2: 0.0559628\n",
      "[700]\ttraining's l2: 2.99803e-05\tvalid_1's l2: 0.0558682\n",
      "[800]\ttraining's l2: 2.26255e-05\tvalid_1's l2: 0.0558923\n",
      "Early stopping, best iteration is:\n",
      "[774]\ttraining's l2: 2.43792e-05\tvalid_1's l2: 0.0558258\n"
     ]
    },
    {
     "name": "stderr",
     "output_type": "stream",
     "text": [
      "tune_feature_fraction, val_score: 0.052746:  71%|#######1  | 5/7 [00:04<00:02,  1.05s/it][I 2020-03-30 15:36:04,141] Finished trial#4 resulted in value: 0.055825767450130605. Current best value is 0.05274603737323792 with parameters: {'feature_fraction': 0.6}.\n",
      "tune_feature_fraction, val_score: 0.052746:  71%|#######1  | 5/7 [00:04<00:02,  1.05s/it]"
     ]
    },
    {
     "name": "stdout",
     "output_type": "stream",
     "text": [
      "Training until validation scores don't improve for 100 rounds\n",
      "[100]\ttraining's l2: 0.00038315\tvalid_1's l2: 0.06384\n",
      "Early stopping, best iteration is:\n",
      "[8]\ttraining's l2: 0.0145994\tvalid_1's l2: 0.0634859\n"
     ]
    },
    {
     "name": "stderr",
     "output_type": "stream",
     "text": [
      "tune_feature_fraction, val_score: 0.052746:  86%|########5 | 6/7 [00:05<00:00,  1.21it/s][I 2020-03-30 15:36:04,432] Finished trial#5 resulted in value: 0.06348587502189473. Current best value is 0.05274603737323792 with parameters: {'feature_fraction': 0.6}.\n",
      "tune_feature_fraction, val_score: 0.052746:  86%|########5 | 6/7 [00:05<00:00,  1.21it/s]"
     ]
    },
    {
     "name": "stdout",
     "output_type": "stream",
     "text": [
      "Training until validation scores don't improve for 100 rounds\n",
      "[100]\ttraining's l2: 0.00039125\tvalid_1's l2: 0.064083\n",
      "[200]\ttraining's l2: 0.000199049\tvalid_1's l2: 0.0636729\n",
      "Early stopping, best iteration is:\n",
      "[197]\ttraining's l2: 0.000202596\tvalid_1's l2: 0.0636369\n"
     ]
    },
    {
     "name": "stderr",
     "output_type": "stream",
     "text": [
      "tune_feature_fraction, val_score: 0.052746: 100%|##########| 7/7 [00:05<00:00,  1.35it/s][I 2020-03-30 15:36:04,972] Finished trial#6 resulted in value: 0.0636369136553065. Current best value is 0.05274603737323792 with parameters: {'feature_fraction': 0.6}.\n",
      "tune_feature_fraction, val_score: 0.052746: 100%|##########| 7/7 [00:05<00:00,  1.23it/s]\n",
      "tune_num_leaves, val_score: 0.052746:   0%|          | 0/20 [00:00<?, ?it/s]"
     ]
    },
    {
     "name": "stdout",
     "output_type": "stream",
     "text": [
      "Training until validation scores don't improve for 100 rounds\n",
      "[100]\ttraining's l2: 0.00256117\tvalid_1's l2: 0.0330337\n",
      "[200]\ttraining's l2: 0.00161573\tvalid_1's l2: 0.0313223\n",
      "Early stopping, best iteration is:\n",
      "[166]\ttraining's l2: 0.00182508\tvalid_1's l2: 0.0312086\n"
     ]
    },
    {
     "name": "stderr",
     "output_type": "stream",
     "text": [
      "tune_num_leaves, val_score: 0.031209:   5%|5         | 1/20 [00:00<00:03,  5.78it/s][I 2020-03-30 15:36:05,207] Finished trial#0 resulted in value: 0.03120860346450879. Current best value is 0.03120860346450879 with parameters: {'num_leaves': 4}.\n",
      "tune_num_leaves, val_score: 0.031209:   5%|5         | 1/20 [00:00<00:03,  5.78it/s]"
     ]
    },
    {
     "name": "stdout",
     "output_type": "stream",
     "text": [
      "Training until validation scores don't improve for 100 rounds\n",
      "[100]\ttraining's l2: 0.000189131\tvalid_1's l2: 0.0507658\n",
      "[200]\ttraining's l2: 6.83057e-05\tvalid_1's l2: 0.0508628\n",
      "Early stopping, best iteration is:\n",
      "[114]\ttraining's l2: 0.000159318\tvalid_1's l2: 0.0507014\n"
     ]
    },
    {
     "name": "stderr",
     "output_type": "stream",
     "text": [
      "tune_num_leaves, val_score: 0.031209:  10%|#         | 2/20 [00:00<00:06,  2.90it/s][I 2020-03-30 15:36:05,951] Finished trial#1 resulted in value: 0.050701443092316126. Current best value is 0.03120860346450879 with parameters: {'num_leaves': 4}.\n",
      "tune_num_leaves, val_score: 0.031209:  10%|#         | 2/20 [00:00<00:06,  2.90it/s]"
     ]
    },
    {
     "name": "stdout",
     "output_type": "stream",
     "text": [
      "Training until validation scores don't improve for 100 rounds\n",
      "[100]\ttraining's l2: 0.000189131\tvalid_1's l2: 0.0507658\n",
      "[200]\ttraining's l2: 6.83057e-05\tvalid_1's l2: 0.0508628\n",
      "Early stopping, best iteration is:\n",
      "[114]\ttraining's l2: 0.000159318\tvalid_1's l2: 0.0507014\n"
     ]
    },
    {
     "name": "stderr",
     "output_type": "stream",
     "text": [
      "tune_num_leaves, val_score: 0.031209:  15%|#5        | 3/20 [00:01<00:07,  2.21it/s][I 2020-03-30 15:36:06,662] Finished trial#2 resulted in value: 0.050701443092316126. Current best value is 0.03120860346450879 with parameters: {'num_leaves': 4}.\n",
      "tune_num_leaves, val_score: 0.031209:  15%|#5        | 3/20 [00:01<00:07,  2.21it/s]"
     ]
    },
    {
     "name": "stdout",
     "output_type": "stream",
     "text": [
      "Training until validation scores don't improve for 100 rounds\n",
      "[100]\ttraining's l2: 0.000189131\tvalid_1's l2: 0.0507658\n",
      "[200]\ttraining's l2: 6.83057e-05\tvalid_1's l2: 0.0508628\n",
      "Early stopping, best iteration is:\n",
      "[114]\ttraining's l2: 0.000159318\tvalid_1's l2: 0.0507014\n"
     ]
    },
    {
     "name": "stderr",
     "output_type": "stream",
     "text": [
      "tune_num_leaves, val_score: 0.031209:  20%|##        | 4/20 [00:02<00:08,  1.93it/s][I 2020-03-30 15:36:07,336] Finished trial#3 resulted in value: 0.050701443092316126. Current best value is 0.03120860346450879 with parameters: {'num_leaves': 4}.\n",
      "tune_num_leaves, val_score: 0.031209:  20%|##        | 4/20 [00:02<00:08,  1.93it/s]"
     ]
    },
    {
     "name": "stdout",
     "output_type": "stream",
     "text": [
      "Training until validation scores don't improve for 100 rounds\n",
      "[100]\ttraining's l2: 0.000189131\tvalid_1's l2: 0.0507658\n",
      "[200]\ttraining's l2: 6.83057e-05\tvalid_1's l2: 0.0508628\n",
      "Early stopping, best iteration is:\n",
      "[114]\ttraining's l2: 0.000159318\tvalid_1's l2: 0.0507014\n"
     ]
    },
    {
     "name": "stderr",
     "output_type": "stream",
     "text": [
      "tune_num_leaves, val_score: 0.031209:  25%|##5       | 5/20 [00:02<00:08,  1.78it/s][I 2020-03-30 15:36:07,993] Finished trial#4 resulted in value: 0.050701443092316126. Current best value is 0.03120860346450879 with parameters: {'num_leaves': 4}.\n",
      "tune_num_leaves, val_score: 0.031209:  25%|##5       | 5/20 [00:03<00:08,  1.78it/s]"
     ]
    },
    {
     "name": "stdout",
     "output_type": "stream",
     "text": [
      "Training until validation scores don't improve for 100 rounds\n",
      "[100]\ttraining's l2: 0.000212753\tvalid_1's l2: 0.0497604\n",
      "[200]\ttraining's l2: 7.81784e-05\tvalid_1's l2: 0.0493445\n",
      "[300]\ttraining's l2: 3.94136e-05\tvalid_1's l2: 0.0493034\n",
      "[400]\ttraining's l2: 2.23679e-05\tvalid_1's l2: 0.0491607\n",
      "[500]\ttraining's l2: 1.39828e-05\tvalid_1's l2: 0.0491215\n",
      "[600]\ttraining's l2: 9.30487e-06\tvalid_1's l2: 0.0491188\n",
      "Early stopping, best iteration is:\n",
      "[540]\ttraining's l2: 1.1768e-05\tvalid_1's l2: 0.04909\n"
     ]
    },
    {
     "name": "stderr",
     "output_type": "stream",
     "text": [
      "tune_num_leaves, val_score: 0.031209:  30%|###       | 6/20 [00:04<00:13,  1.07it/s][I 2020-03-30 15:36:09,809] Finished trial#5 resulted in value: 0.04908999750502263. Current best value is 0.03120860346450879 with parameters: {'num_leaves': 4}.\n",
      "tune_num_leaves, val_score: 0.031209:  30%|###       | 6/20 [00:04<00:13,  1.07it/s]"
     ]
    },
    {
     "name": "stdout",
     "output_type": "stream",
     "text": [
      "Training until validation scores don't improve for 100 rounds\n",
      "[100]\ttraining's l2: 0.000219061\tvalid_1's l2: 0.05096\n",
      "[200]\ttraining's l2: 8.04006e-05\tvalid_1's l2: 0.0507391\n",
      "[300]\ttraining's l2: 4.06455e-05\tvalid_1's l2: 0.0507777\n",
      "Early stopping, best iteration is:\n",
      "[203]\ttraining's l2: 7.86502e-05\tvalid_1's l2: 0.0507164\n"
     ]
    },
    {
     "name": "stderr",
     "output_type": "stream",
     "text": [
      "tune_num_leaves, val_score: 0.031209:  35%|###5      | 7/20 [00:05<00:11,  1.14it/s][I 2020-03-30 15:36:10,548] Finished trial#6 resulted in value: 0.05071642963995317. Current best value is 0.03120860346450879 with parameters: {'num_leaves': 4}.\n",
      "tune_num_leaves, val_score: 0.031209:  35%|###5      | 7/20 [00:05<00:11,  1.14it/s]"
     ]
    },
    {
     "name": "stdout",
     "output_type": "stream",
     "text": [
      "Training until validation scores don't improve for 100 rounds\n",
      "[100]\ttraining's l2: 0.000189131\tvalid_1's l2: 0.0507658\n",
      "[200]\ttraining's l2: 6.83057e-05\tvalid_1's l2: 0.0508628\n",
      "Early stopping, best iteration is:\n",
      "[114]\ttraining's l2: 0.000159318\tvalid_1's l2: 0.0507014\n"
     ]
    },
    {
     "name": "stderr",
     "output_type": "stream",
     "text": [
      "tune_num_leaves, val_score: 0.031209:  40%|####      | 8/20 [00:06<00:09,  1.23it/s][I 2020-03-30 15:36:11,218] Finished trial#7 resulted in value: 0.050701443092316126. Current best value is 0.03120860346450879 with parameters: {'num_leaves': 4}.\n",
      "tune_num_leaves, val_score: 0.031209:  40%|####      | 8/20 [00:06<00:09,  1.23it/s]"
     ]
    },
    {
     "name": "stdout",
     "output_type": "stream",
     "text": [
      "Training until validation scores don't improve for 100 rounds\n",
      "[100]\ttraining's l2: 0.00158464\tvalid_1's l2: 0.0434233\n",
      "[200]\ttraining's l2: 0.00102066\tvalid_1's l2: 0.0431658\n",
      "Early stopping, best iteration is:\n",
      "[131]\ttraining's l2: 0.00132122\tvalid_1's l2: 0.0426223\n"
     ]
    },
    {
     "name": "stderr",
     "output_type": "stream",
     "text": [
      "tune_num_leaves, val_score: 0.031209:  45%|####5     | 9/20 [00:06<00:07,  1.51it/s][I 2020-03-30 15:36:11,523] Finished trial#8 resulted in value: 0.042622347819254704. Current best value is 0.03120860346450879 with parameters: {'num_leaves': 4}.\n",
      "tune_num_leaves, val_score: 0.031209:  45%|####5     | 9/20 [00:06<00:07,  1.51it/s]"
     ]
    },
    {
     "name": "stdout",
     "output_type": "stream",
     "text": [
      "Training until validation scores don't improve for 100 rounds\n",
      "[100]\ttraining's l2: 0.00020244\tvalid_1's l2: 0.0504195\n",
      "[200]\ttraining's l2: 7.40142e-05\tvalid_1's l2: 0.0500356\n",
      "[300]\ttraining's l2: 3.7278e-05\tvalid_1's l2: 0.0500186\n",
      "[400]\ttraining's l2: 2.14146e-05\tvalid_1's l2: 0.0498984\n",
      "[500]\ttraining's l2: 1.36241e-05\tvalid_1's l2: 0.0498674\n",
      "[600]\ttraining's l2: 9.03094e-06\tvalid_1's l2: 0.0498624\n",
      "Early stopping, best iteration is:\n",
      "[540]\ttraining's l2: 1.1488e-05\tvalid_1's l2: 0.0498433\n"
     ]
    },
    {
     "name": "stderr",
     "output_type": "stream",
     "text": [
      "tune_num_leaves, val_score: 0.031209:  50%|#####     | 10/20 [00:08<00:09,  1.05it/s][I 2020-03-30 15:36:13,144] Finished trial#9 resulted in value: 0.04984329952680094. Current best value is 0.03120860346450879 with parameters: {'num_leaves': 4}.\n",
      "tune_num_leaves, val_score: 0.031209:  50%|#####     | 10/20 [00:08<00:09,  1.05it/s]"
     ]
    },
    {
     "name": "stdout",
     "output_type": "stream",
     "text": [
      "Training until validation scores don't improve for 100 rounds\n",
      "[100]\ttraining's l2: 0.00092009\tvalid_1's l2: 0.0492681\n",
      "Early stopping, best iteration is:\n",
      "[55]\ttraining's l2: 0.00138722\tvalid_1's l2: 0.0484212\n"
     ]
    },
    {
     "name": "stderr",
     "output_type": "stream",
     "text": [
      "tune_num_leaves, val_score: 0.031209:  55%|#####5    | 11/20 [00:08<00:06,  1.37it/s][I 2020-03-30 15:36:13,359] Finished trial#10 resulted in value: 0.04842116202320954. Current best value is 0.03120860346450879 with parameters: {'num_leaves': 4}.\n",
      "tune_num_leaves, val_score: 0.031209:  55%|#####5    | 11/20 [00:08<00:06,  1.37it/s]"
     ]
    },
    {
     "name": "stdout",
     "output_type": "stream",
     "text": [
      "Training until validation scores don't improve for 100 rounds\n",
      "[100]\ttraining's l2: 0.000599362\tvalid_1's l2: 0.0496837\n",
      "[200]\ttraining's l2: 0.000355459\tvalid_1's l2: 0.0490942\n",
      "[300]\ttraining's l2: 0.000241412\tvalid_1's l2: 0.0486938\n",
      "[400]\ttraining's l2: 0.000178777\tvalid_1's l2: 0.0485511\n",
      "Early stopping, best iteration is:\n",
      "[379]\ttraining's l2: 0.000189893\tvalid_1's l2: 0.04848\n"
     ]
    },
    {
     "name": "stderr",
     "output_type": "stream",
     "text": [
      "tune_num_leaves, val_score: 0.031209:  60%|######    | 12/20 [00:08<00:05,  1.47it/s][I 2020-03-30 15:36:13,921] Finished trial#11 resulted in value: 0.048480017898593734. Current best value is 0.03120860346450879 with parameters: {'num_leaves': 4}.\n",
      "tune_num_leaves, val_score: 0.031209:  60%|######    | 12/20 [00:08<00:05,  1.47it/s]"
     ]
    },
    {
     "name": "stdout",
     "output_type": "stream",
     "text": [
      "Training until validation scores don't improve for 100 rounds\n",
      "[100]\ttraining's l2: 0.00256117\tvalid_1's l2: 0.0330337\n",
      "[200]\ttraining's l2: 0.00161573\tvalid_1's l2: 0.0313223\n",
      "Early stopping, best iteration is:\n",
      "[166]\ttraining's l2: 0.00182508\tvalid_1's l2: 0.0312086\n"
     ]
    },
    {
     "name": "stderr",
     "output_type": "stream",
     "text": [
      "tune_num_leaves, val_score: 0.031209:  65%|######5   | 13/20 [00:09<00:03,  1.83it/s][I 2020-03-30 15:36:14,162] Finished trial#12 resulted in value: 0.03120860346450879. Current best value is 0.03120860346450879 with parameters: {'num_leaves': 4}.\n",
      "tune_num_leaves, val_score: 0.031209:  65%|######5   | 13/20 [00:09<00:03,  1.83it/s]"
     ]
    },
    {
     "name": "stdout",
     "output_type": "stream",
     "text": [
      "Training until validation scores don't improve for 100 rounds\n",
      "[100]\ttraining's l2: 0.000300576\tvalid_1's l2: 0.0504333\n",
      "[200]\ttraining's l2: 0.000134676\tvalid_1's l2: 0.0503035\n",
      "[300]\ttraining's l2: 7.53854e-05\tvalid_1's l2: 0.0503441\n",
      "Early stopping, best iteration is:\n",
      "[267]\ttraining's l2: 8.99047e-05\tvalid_1's l2: 0.0502124\n"
     ]
    },
    {
     "name": "stderr",
     "output_type": "stream",
     "text": [
      "tune_num_leaves, val_score: 0.031209:  70%|#######   | 14/20 [00:09<00:03,  1.71it/s][I 2020-03-30 15:36:14,835] Finished trial#13 resulted in value: 0.05021236028310676. Current best value is 0.03120860346450879 with parameters: {'num_leaves': 4}.\n",
      "tune_num_leaves, val_score: 0.031209:  70%|#######   | 14/20 [00:09<00:03,  1.71it/s]"
     ]
    },
    {
     "name": "stdout",
     "output_type": "stream",
     "text": [
      "Training until validation scores don't improve for 100 rounds\n",
      "[100]\ttraining's l2: 0.000189131\tvalid_1's l2: 0.0507658\n",
      "[200]\ttraining's l2: 6.83057e-05\tvalid_1's l2: 0.0508628\n",
      "Early stopping, best iteration is:\n",
      "[114]\ttraining's l2: 0.000159318\tvalid_1's l2: 0.0507014\n"
     ]
    },
    {
     "name": "stderr",
     "output_type": "stream",
     "text": [
      "tune_num_leaves, val_score: 0.031209:  75%|#######5  | 15/20 [00:10<00:03,  1.65it/s][I 2020-03-30 15:36:15,490] Finished trial#14 resulted in value: 0.050701443092316126. Current best value is 0.03120860346450879 with parameters: {'num_leaves': 4}.\n",
      "tune_num_leaves, val_score: 0.031209:  75%|#######5  | 15/20 [00:10<00:03,  1.65it/s]"
     ]
    },
    {
     "name": "stdout",
     "output_type": "stream",
     "text": [
      "Training until validation scores don't improve for 100 rounds\n",
      "[100]\ttraining's l2: 0.000388006\tvalid_1's l2: 0.0504387\n",
      "Early stopping, best iteration is:\n",
      "[62]\ttraining's l2: 0.000584036\tvalid_1's l2: 0.0498992\n"
     ]
    },
    {
     "name": "stderr",
     "output_type": "stream",
     "text": [
      "tune_num_leaves, val_score: 0.031209:  80%|########  | 16/20 [00:10<00:02,  1.95it/s][I 2020-03-30 15:36:15,787] Finished trial#15 resulted in value: 0.0498992394436557. Current best value is 0.03120860346450879 with parameters: {'num_leaves': 4}.\n",
      "tune_num_leaves, val_score: 0.031209:  80%|########  | 16/20 [00:10<00:02,  1.95it/s]"
     ]
    },
    {
     "name": "stdout",
     "output_type": "stream",
     "text": [
      "Training until validation scores don't improve for 100 rounds\n",
      "[100]\ttraining's l2: 0.000189131\tvalid_1's l2: 0.0507658\n",
      "[200]\ttraining's l2: 6.83057e-05\tvalid_1's l2: 0.0508628\n",
      "Early stopping, best iteration is:\n",
      "[114]\ttraining's l2: 0.000159318\tvalid_1's l2: 0.0507014\n"
     ]
    },
    {
     "name": "stderr",
     "output_type": "stream",
     "text": [
      "tune_num_leaves, val_score: 0.031209:  85%|########5 | 17/20 [00:11<00:01,  1.58it/s][I 2020-03-30 15:36:16,693] Finished trial#16 resulted in value: 0.050701443092316126. Current best value is 0.03120860346450879 with parameters: {'num_leaves': 4}.\n",
      "tune_num_leaves, val_score: 0.031209:  85%|########5 | 17/20 [00:11<00:01,  1.58it/s]"
     ]
    },
    {
     "name": "stdout",
     "output_type": "stream",
     "text": [
      "Training until validation scores don't improve for 100 rounds\n",
      "[100]\ttraining's l2: 0.000186763\tvalid_1's l2: 0.0507003\n",
      "[200]\ttraining's l2: 6.65665e-05\tvalid_1's l2: 0.0506\n",
      "Early stopping, best iteration is:\n",
      "[153]\ttraining's l2: 0.000102757\tvalid_1's l2: 0.0505208\n"
     ]
    },
    {
     "name": "stderr",
     "output_type": "stream",
     "text": [
      "tune_num_leaves, val_score: 0.031209:  90%|######### | 18/20 [00:12<00:01,  1.43it/s][I 2020-03-30 15:36:17,553] Finished trial#17 resulted in value: 0.05052081770453646. Current best value is 0.03120860346450879 with parameters: {'num_leaves': 4}.\n",
      "tune_num_leaves, val_score: 0.031209:  90%|######### | 18/20 [00:12<00:01,  1.43it/s]"
     ]
    },
    {
     "name": "stdout",
     "output_type": "stream",
     "text": [
      "Training until validation scores don't improve for 100 rounds\n",
      "[100]\ttraining's l2: 0.00413171\tvalid_1's l2: 0.0387964\n",
      "[200]\ttraining's l2: 0.00242283\tvalid_1's l2: 0.0361503\n",
      "[300]\ttraining's l2: 0.00186323\tvalid_1's l2: 0.0369888\n",
      "Early stopping, best iteration is:\n",
      "[227]\ttraining's l2: 0.00222418\tvalid_1's l2: 0.0361001\n"
     ]
    },
    {
     "name": "stderr",
     "output_type": "stream",
     "text": [
      "tune_num_leaves, val_score: 0.031209:  95%|#########5| 19/20 [00:12<00:00,  1.78it/s][I 2020-03-30 15:36:17,794] Finished trial#18 resulted in value: 0.036100135156717506. Current best value is 0.03120860346450879 with parameters: {'num_leaves': 4}.\n",
      "tune_num_leaves, val_score: 0.031209:  95%|#########5| 19/20 [00:12<00:00,  1.78it/s]"
     ]
    },
    {
     "name": "stdout",
     "output_type": "stream",
     "text": [
      "Training until validation scores don't improve for 100 rounds\n",
      "[100]\ttraining's l2: 0.000189131\tvalid_1's l2: 0.0507658\n",
      "[200]\ttraining's l2: 6.83057e-05\tvalid_1's l2: 0.0508628\n",
      "Early stopping, best iteration is:\n",
      "[114]\ttraining's l2: 0.000159318\tvalid_1's l2: 0.0507014\n"
     ]
    },
    {
     "name": "stderr",
     "output_type": "stream",
     "text": [
      "tune_num_leaves, val_score: 0.031209: 100%|##########| 20/20 [00:13<00:00,  1.69it/s][I 2020-03-30 15:36:18,458] Finished trial#19 resulted in value: 0.050701443092316126. Current best value is 0.03120860346450879 with parameters: {'num_leaves': 4}.\n",
      "tune_num_leaves, val_score: 0.031209: 100%|##########| 20/20 [00:13<00:00,  1.48it/s]\n",
      "tune_bagging_fraction_and_bagging_freq, val_score: 0.031209:   0%|          | 0/10 [00:00<?, ?it/s]"
     ]
    },
    {
     "name": "stdout",
     "output_type": "stream",
     "text": [
      "Training until validation scores don't improve for 100 rounds\n",
      "[100]\ttraining's l2: 0.00249021\tvalid_1's l2: 0.0383252\n",
      "[200]\ttraining's l2: 0.00157096\tvalid_1's l2: 0.0364233\n",
      "Early stopping, best iteration is:\n",
      "[177]\ttraining's l2: 0.00169726\tvalid_1's l2: 0.0363344\n"
     ]
    },
    {
     "name": "stderr",
     "output_type": "stream",
     "text": [
      "tune_bagging_fraction_and_bagging_freq, val_score: 0.031209:  10%|#         | 1/10 [00:00<00:01,  6.77it/s][I 2020-03-30 15:36:18,675] Finished trial#0 resulted in value: 0.036334393794839506. Current best value is 0.036334393794839506 with parameters: {'bagging_fraction': 0.9542605142814546, 'bagging_freq': 4}.\n",
      "tune_bagging_fraction_and_bagging_freq, val_score: 0.031209:  10%|#         | 1/10 [00:00<00:01,  6.77it/s]"
     ]
    },
    {
     "name": "stdout",
     "output_type": "stream",
     "text": [
      "Training until validation scores don't improve for 100 rounds\n",
      "[100]\ttraining's l2: 0.00256525\tvalid_1's l2: 0.0354479\n",
      "[200]\ttraining's l2: 0.00154166\tvalid_1's l2: 0.0340325\n",
      "[300]\ttraining's l2: 0.00118029\tvalid_1's l2: 0.0335649\n",
      "[400]\ttraining's l2: 0.000989227\tvalid_1's l2: 0.0334489\n",
      "Early stopping, best iteration is:\n",
      "[362]\ttraining's l2: 0.00105069\tvalid_1's l2: 0.0332985\n"
     ]
    },
    {
     "name": "stderr",
     "output_type": "stream",
     "text": [
      "tune_bagging_fraction_and_bagging_freq, val_score: 0.031209:  20%|##        | 2/10 [00:00<00:01,  4.72it/s][I 2020-03-30 15:36:19,034] Finished trial#1 resulted in value: 0.033298542181995607. Current best value is 0.033298542181995607 with parameters: {'bagging_fraction': 0.7888576512488803, 'bagging_freq': 1}.\n",
      "tune_bagging_fraction_and_bagging_freq, val_score: 0.031209:  20%|##        | 2/10 [00:00<00:01,  4.72it/s]"
     ]
    },
    {
     "name": "stdout",
     "output_type": "stream",
     "text": [
      "Training until validation scores don't improve for 100 rounds\n",
      "[100]\ttraining's l2: 0.00247687\tvalid_1's l2: 0.0325975\n",
      "[200]\ttraining's l2: 0.00151476\tvalid_1's l2: 0.0307422\n",
      "[300]\ttraining's l2: 0.00118802\tvalid_1's l2: 0.0302535\n",
      "[400]\ttraining's l2: 0.00100051\tvalid_1's l2: 0.0303282\n",
      "Early stopping, best iteration is:\n",
      "[334]\ttraining's l2: 0.00110963\tvalid_1's l2: 0.0300763\n"
     ]
    },
    {
     "name": "stderr",
     "output_type": "stream",
     "text": [
      "tune_bagging_fraction_and_bagging_freq, val_score: 0.030076:  30%|###       | 3/10 [00:00<00:01,  3.79it/s][I 2020-03-30 15:36:19,427] Finished trial#2 resulted in value: 0.03007634206721055. Current best value is 0.03007634206721055 with parameters: {'bagging_fraction': 0.713662476114249, 'bagging_freq': 4}.\n",
      "tune_bagging_fraction_and_bagging_freq, val_score: 0.030076:  30%|###       | 3/10 [00:00<00:01,  3.79it/s]"
     ]
    },
    {
     "name": "stdout",
     "output_type": "stream",
     "text": [
      "Training until validation scores don't improve for 100 rounds\n",
      "[100]\ttraining's l2: 0.00249524\tvalid_1's l2: 0.0350516\n",
      "[200]\ttraining's l2: 0.00155224\tvalid_1's l2: 0.0332872\n",
      "[300]\ttraining's l2: 0.00120533\tvalid_1's l2: 0.0334644\n",
      "Early stopping, best iteration is:\n",
      "[226]\ttraining's l2: 0.00144794\tvalid_1's l2: 0.0329582\n"
     ]
    },
    {
     "name": "stderr",
     "output_type": "stream",
     "text": [
      "tune_bagging_fraction_and_bagging_freq, val_score: 0.030076:  40%|####      | 4/10 [00:01<00:01,  3.18it/s][I 2020-03-30 15:36:19,852] Finished trial#3 resulted in value: 0.032958192295435285. Current best value is 0.03007634206721055 with parameters: {'bagging_fraction': 0.713662476114249, 'bagging_freq': 4}.\n",
      "tune_bagging_fraction_and_bagging_freq, val_score: 0.030076:  40%|####      | 4/10 [00:01<00:01,  3.18it/s]"
     ]
    },
    {
     "name": "stdout",
     "output_type": "stream",
     "text": [
      "Training until validation scores don't improve for 100 rounds\n",
      "[100]\ttraining's l2: 0.00255044\tvalid_1's l2: 0.0332558\n",
      "[200]\ttraining's l2: 0.00153365\tvalid_1's l2: 0.031627\n",
      "[300]\ttraining's l2: 0.00120518\tvalid_1's l2: 0.0311244\n",
      "[400]\ttraining's l2: 0.00102837\tvalid_1's l2: 0.0309031\n",
      "[500]\ttraining's l2: 0.000920054\tvalid_1's l2: 0.0305619\n",
      "Early stopping, best iteration is:\n",
      "[440]\ttraining's l2: 0.000979709\tvalid_1's l2: 0.030508\n"
     ]
    },
    {
     "name": "stderr",
     "output_type": "stream",
     "text": [
      "tune_bagging_fraction_and_bagging_freq, val_score: 0.030076:  50%|#####     | 5/10 [00:01<00:01,  2.97it/s][I 2020-03-30 15:36:20,239] Finished trial#4 resulted in value: 0.030507959855914774. Current best value is 0.03007634206721055 with parameters: {'bagging_fraction': 0.713662476114249, 'bagging_freq': 4}.\n",
      "tune_bagging_fraction_and_bagging_freq, val_score: 0.030076:  50%|#####     | 5/10 [00:01<00:01,  2.97it/s]"
     ]
    },
    {
     "name": "stdout",
     "output_type": "stream",
     "text": [
      "Training until validation scores don't improve for 100 rounds\n",
      "[100]\ttraining's l2: 0.00250933\tvalid_1's l2: 0.0331023\n",
      "[200]\ttraining's l2: 0.00158595\tvalid_1's l2: 0.0317256\n",
      "Early stopping, best iteration is:\n",
      "[164]\ttraining's l2: 0.00179135\tvalid_1's l2: 0.0315444\n"
     ]
    },
    {
     "name": "stderr",
     "output_type": "stream",
     "text": [
      "tune_bagging_fraction_and_bagging_freq, val_score: 0.030076:  60%|######    | 6/10 [00:01<00:01,  3.24it/s][I 2020-03-30 15:36:20,485] Finished trial#5 resulted in value: 0.03154435603123328. Current best value is 0.03007634206721055 with parameters: {'bagging_fraction': 0.713662476114249, 'bagging_freq': 4}.\n",
      "tune_bagging_fraction_and_bagging_freq, val_score: 0.030076:  60%|######    | 6/10 [00:02<00:01,  3.24it/s]"
     ]
    },
    {
     "name": "stdout",
     "output_type": "stream",
     "text": [
      "Training until validation scores don't improve for 100 rounds\n",
      "[100]\ttraining's l2: 0.00250636\tvalid_1's l2: 0.0350692\n",
      "[200]\ttraining's l2: 0.00152654\tvalid_1's l2: 0.0325008\n",
      "[300]\ttraining's l2: 0.00119404\tvalid_1's l2: 0.0317406\n",
      "[400]\ttraining's l2: 0.00100105\tvalid_1's l2: 0.0313653\n",
      "[500]\ttraining's l2: 0.000879833\tvalid_1's l2: 0.0310897\n",
      "[600]\ttraining's l2: 0.000793794\tvalid_1's l2: 0.0309018\n",
      "Early stopping, best iteration is:\n",
      "[565]\ttraining's l2: 0.00082158\tvalid_1's l2: 0.0308578\n"
     ]
    },
    {
     "name": "stderr",
     "output_type": "stream",
     "text": [
      "tune_bagging_fraction_and_bagging_freq, val_score: 0.030076:  70%|#######   | 7/10 [00:02<00:01,  2.83it/s][I 2020-03-30 15:36:20,944] Finished trial#6 resulted in value: 0.03085781428834638. Current best value is 0.03007634206721055 with parameters: {'bagging_fraction': 0.713662476114249, 'bagging_freq': 4}.\n",
      "tune_bagging_fraction_and_bagging_freq, val_score: 0.030076:  70%|#######   | 7/10 [00:02<00:01,  2.83it/s]"
     ]
    },
    {
     "name": "stdout",
     "output_type": "stream",
     "text": [
      "Training until validation scores don't improve for 100 rounds\n",
      "[100]\ttraining's l2: 0.00248053\tvalid_1's l2: 0.0354026\n",
      "[200]\ttraining's l2: 0.00157666\tvalid_1's l2: 0.0334915\n",
      "Early stopping, best iteration is:\n",
      "[177]\ttraining's l2: 0.00169518\tvalid_1's l2: 0.0333738\n"
     ]
    },
    {
     "name": "stderr",
     "output_type": "stream",
     "text": [
      "tune_bagging_fraction_and_bagging_freq, val_score: 0.030076:  80%|########  | 8/10 [00:02<00:00,  3.11it/s][I 2020-03-30 15:36:21,186] Finished trial#7 resulted in value: 0.03337375885206106. Current best value is 0.03007634206721055 with parameters: {'bagging_fraction': 0.713662476114249, 'bagging_freq': 4}.\n",
      "tune_bagging_fraction_and_bagging_freq, val_score: 0.030076:  80%|########  | 8/10 [00:02<00:00,  3.11it/s]"
     ]
    },
    {
     "name": "stdout",
     "output_type": "stream",
     "text": [
      "Training until validation scores don't improve for 100 rounds\n",
      "[100]\ttraining's l2: 0.00253952\tvalid_1's l2: 0.0399278\n",
      "[200]\ttraining's l2: 0.00156614\tvalid_1's l2: 0.0379935\n",
      "Early stopping, best iteration is:\n",
      "[183]\ttraining's l2: 0.00165277\tvalid_1's l2: 0.0375581\n"
     ]
    },
    {
     "name": "stderr",
     "output_type": "stream",
     "text": [
      "tune_bagging_fraction_and_bagging_freq, val_score: 0.030076:  90%|######### | 9/10 [00:02<00:00,  3.33it/s][I 2020-03-30 15:36:21,437] Finished trial#8 resulted in value: 0.03755810863300969. Current best value is 0.03007634206721055 with parameters: {'bagging_fraction': 0.713662476114249, 'bagging_freq': 4}.\n",
      "tune_bagging_fraction_and_bagging_freq, val_score: 0.030076:  90%|######### | 9/10 [00:02<00:00,  3.33it/s]"
     ]
    },
    {
     "name": "stdout",
     "output_type": "stream",
     "text": [
      "Training until validation scores don't improve for 100 rounds\n",
      "[100]\ttraining's l2: 0.00246315\tvalid_1's l2: 0.0392199\n",
      "[200]\ttraining's l2: 0.00155164\tvalid_1's l2: 0.0364661\n",
      "Early stopping, best iteration is:\n",
      "[188]\ttraining's l2: 0.00161618\tvalid_1's l2: 0.036192\n"
     ]
    },
    {
     "name": "stderr",
     "output_type": "stream",
     "text": [
      "tune_bagging_fraction_and_bagging_freq, val_score: 0.030076: 100%|##########| 10/10 [00:03<00:00,  3.59it/s][I 2020-03-30 15:36:21,667] Finished trial#9 resulted in value: 0.03619201134429619. Current best value is 0.03007634206721055 with parameters: {'bagging_fraction': 0.713662476114249, 'bagging_freq': 4}.\n",
      "tune_bagging_fraction_and_bagging_freq, val_score: 0.030076: 100%|##########| 10/10 [00:03<00:00,  3.12it/s]\n",
      "tune_feature_fraction, val_score: 0.030076:   0%|          | 0/6 [00:00<?, ?it/s]"
     ]
    },
    {
     "name": "stdout",
     "output_type": "stream",
     "text": [
      "Training until validation scores don't improve for 100 rounds\n",
      "[100]\ttraining's l2: 0.00260871\tvalid_1's l2: 0.0329696\n",
      "[200]\ttraining's l2: 0.00163012\tvalid_1's l2: 0.0317202\n",
      "[300]\ttraining's l2: 0.00125922\tvalid_1's l2: 0.0312176\n",
      "[400]\ttraining's l2: 0.00105091\tvalid_1's l2: 0.0314602\n",
      "Early stopping, best iteration is:\n",
      "[326]\ttraining's l2: 0.00119224\tvalid_1's l2: 0.0309805\n"
     ]
    },
    {
     "name": "stderr",
     "output_type": "stream",
     "text": [
      "tune_feature_fraction, val_score: 0.030076:  17%|#6        | 1/6 [00:00<00:01,  4.27it/s][I 2020-03-30 15:36:21,967] Finished trial#0 resulted in value: 0.030980549391121635. Current best value is 0.030980549391121635 with parameters: {'feature_fraction': 0.52}.\n",
      "tune_feature_fraction, val_score: 0.030076:  17%|#6        | 1/6 [00:00<00:01,  4.27it/s]"
     ]
    },
    {
     "name": "stdout",
     "output_type": "stream",
     "text": [
      "Training until validation scores don't improve for 100 rounds\n",
      "[100]\ttraining's l2: 0.0025592\tvalid_1's l2: 0.0380826\n",
      "[200]\ttraining's l2: 0.00156263\tvalid_1's l2: 0.0351907\n",
      "[300]\ttraining's l2: 0.0012137\tvalid_1's l2: 0.0346888\n",
      "[400]\ttraining's l2: 0.00102013\tvalid_1's l2: 0.0343913\n",
      "[500]\ttraining's l2: 0.000896821\tvalid_1's l2: 0.0341977\n",
      "[600]\ttraining's l2: 0.000811334\tvalid_1's l2: 0.034205\n",
      "Early stopping, best iteration is:\n",
      "[559]\ttraining's l2: 0.00083756\tvalid_1's l2: 0.0338614\n"
     ]
    },
    {
     "name": "stderr",
     "output_type": "stream",
     "text": [
      "tune_feature_fraction, val_score: 0.030076:  33%|###3      | 2/6 [00:00<00:01,  3.34it/s][I 2020-03-30 15:36:22,420] Finished trial#1 resulted in value: 0.03386138124541066. Current best value is 0.030980549391121635 with parameters: {'feature_fraction': 0.52}.\n",
      "tune_feature_fraction, val_score: 0.030076:  33%|###3      | 2/6 [00:00<00:01,  3.34it/s]"
     ]
    },
    {
     "name": "stdout",
     "output_type": "stream",
     "text": [
      "Training until validation scores don't improve for 100 rounds\n",
      "[100]\ttraining's l2: 0.00252617\tvalid_1's l2: 0.0375675\n",
      "[200]\ttraining's l2: 0.00157875\tvalid_1's l2: 0.0367083\n",
      "Early stopping, best iteration is:\n",
      "[180]\ttraining's l2: 0.00169041\tvalid_1's l2: 0.0363774\n"
     ]
    },
    {
     "name": "stderr",
     "output_type": "stream",
     "text": [
      "tune_feature_fraction, val_score: 0.030076:  50%|#####     | 3/6 [00:01<00:00,  3.11it/s][I 2020-03-30 15:36:22,793] Finished trial#2 resulted in value: 0.036377448858558495. Current best value is 0.030980549391121635 with parameters: {'feature_fraction': 0.52}.\n",
      "tune_feature_fraction, val_score: 0.030076:  50%|#####     | 3/6 [00:01<00:00,  3.11it/s]"
     ]
    },
    {
     "name": "stdout",
     "output_type": "stream",
     "text": [
      "Training until validation scores don't improve for 100 rounds\n",
      "[100]\ttraining's l2: 0.00247687\tvalid_1's l2: 0.0325975\n",
      "[200]\ttraining's l2: 0.00151476\tvalid_1's l2: 0.0307422\n",
      "[300]\ttraining's l2: 0.00118802\tvalid_1's l2: 0.0302535\n",
      "[400]\ttraining's l2: 0.00100051\tvalid_1's l2: 0.0303282\n",
      "Early stopping, best iteration is:\n",
      "[334]\ttraining's l2: 0.00110963\tvalid_1's l2: 0.0300763\n"
     ]
    },
    {
     "name": "stderr",
     "output_type": "stream",
     "text": [
      "tune_feature_fraction, val_score: 0.030076:  67%|######6   | 4/6 [00:01<00:00,  2.89it/s][I 2020-03-30 15:36:23,199] Finished trial#3 resulted in value: 0.03007634206721055. Current best value is 0.03007634206721055 with parameters: {'feature_fraction': 0.616}.\n",
      "tune_feature_fraction, val_score: 0.030076:  67%|######6   | 4/6 [00:01<00:00,  2.89it/s]"
     ]
    },
    {
     "name": "stdout",
     "output_type": "stream",
     "text": [
      "Training until validation scores don't improve for 100 rounds\n",
      "[100]\ttraining's l2: 0.00245131\tvalid_1's l2: 0.0395661\n",
      "[200]\ttraining's l2: 0.00153096\tvalid_1's l2: 0.0378715\n",
      "[300]\ttraining's l2: 0.00118802\tvalid_1's l2: 0.0376843\n",
      "Early stopping, best iteration is:\n",
      "[245]\ttraining's l2: 0.00134266\tvalid_1's l2: 0.0375874\n"
     ]
    },
    {
     "name": "stderr",
     "output_type": "stream",
     "text": [
      "tune_feature_fraction, val_score: 0.030076:  83%|########3 | 5/6 [00:01<00:00,  3.03it/s][I 2020-03-30 15:36:23,486] Finished trial#4 resulted in value: 0.03758744566546721. Current best value is 0.03007634206721055 with parameters: {'feature_fraction': 0.616}.\n",
      "tune_feature_fraction, val_score: 0.030076:  83%|########3 | 5/6 [00:01<00:00,  3.03it/s]"
     ]
    },
    {
     "name": "stdout",
     "output_type": "stream",
     "text": [
      "Training until validation scores don't improve for 100 rounds\n",
      "[100]\ttraining's l2: 0.00242476\tvalid_1's l2: 0.04166\n",
      "[200]\ttraining's l2: 0.00154285\tvalid_1's l2: 0.0395524\n",
      "[300]\ttraining's l2: 0.00119434\tvalid_1's l2: 0.0387679\n",
      "[400]\ttraining's l2: 0.000997155\tvalid_1's l2: 0.0384181\n",
      "[500]\ttraining's l2: 0.000881572\tvalid_1's l2: 0.0383891\n",
      "Early stopping, best iteration is:\n",
      "[431]\ttraining's l2: 0.000958867\tvalid_1's l2: 0.0380119\n"
     ]
    },
    {
     "name": "stderr",
     "output_type": "stream",
     "text": [
      "tune_feature_fraction, val_score: 0.030076: 100%|##########| 6/6 [00:02<00:00,  2.84it/s][I 2020-03-30 15:36:23,891] Finished trial#5 resulted in value: 0.03801186524884249. Current best value is 0.03007634206721055 with parameters: {'feature_fraction': 0.616}.\n",
      "tune_feature_fraction, val_score: 0.030076: 100%|##########| 6/6 [00:02<00:00,  2.70it/s]\n",
      "tune_lambda_l1_and_lambda_l2, val_score: 0.030076:   0%|          | 0/20 [00:00<?, ?it/s]"
     ]
    },
    {
     "name": "stdout",
     "output_type": "stream",
     "text": [
      "Training until validation scores don't improve for 100 rounds\n",
      "[100]\ttraining's l2: 0.00247687\tvalid_1's l2: 0.0325975\n",
      "[200]\ttraining's l2: 0.00151476\tvalid_1's l2: 0.0307422\n",
      "[300]\ttraining's l2: 0.00118802\tvalid_1's l2: 0.0302535\n",
      "[400]\ttraining's l2: 0.00100051\tvalid_1's l2: 0.0303282\n",
      "Early stopping, best iteration is:\n",
      "[334]\ttraining's l2: 0.00110963\tvalid_1's l2: 0.0300763\n"
     ]
    },
    {
     "name": "stderr",
     "output_type": "stream",
     "text": [
      "tune_lambda_l1_and_lambda_l2, val_score: 0.030076:   5%|5         | 1/20 [00:00<00:05,  3.59it/s][I 2020-03-30 15:36:24,236] Finished trial#0 resulted in value: 0.030076342111789108. Current best value is 0.030076342111789108 with parameters: {'lambda_l1': 1.6583202106080784e-08, 'lambda_l2': 3.900723372628298e-07}.\n",
      "tune_lambda_l1_and_lambda_l2, val_score: 0.030076:   5%|5         | 1/20 [00:00<00:05,  3.59it/s]"
     ]
    },
    {
     "name": "stdout",
     "output_type": "stream",
     "text": [
      "Training until validation scores don't improve for 100 rounds\n",
      "[100]\ttraining's l2: 0.00247687\tvalid_1's l2: 0.0325975\n",
      "[200]\ttraining's l2: 0.00151476\tvalid_1's l2: 0.0307422\n",
      "[300]\ttraining's l2: 0.00118802\tvalid_1's l2: 0.0302535\n",
      "[400]\ttraining's l2: 0.00100051\tvalid_1's l2: 0.0303282\n",
      "Early stopping, best iteration is:\n",
      "[334]\ttraining's l2: 0.00110963\tvalid_1's l2: 0.0300763\n"
     ]
    },
    {
     "name": "stderr",
     "output_type": "stream",
     "text": [
      "tune_lambda_l1_and_lambda_l2, val_score: 0.030076:  10%|#         | 2/20 [00:00<00:05,  3.33it/s][I 2020-03-30 15:36:24,587] Finished trial#1 resulted in value: 0.03007634232035349. Current best value is 0.030076342111789108 with parameters: {'lambda_l1': 1.6583202106080784e-08, 'lambda_l2': 3.900723372628298e-07}.\n",
      "tune_lambda_l1_and_lambda_l2, val_score: 0.030076:  10%|#         | 2/20 [00:00<00:05,  3.33it/s]"
     ]
    },
    {
     "name": "stdout",
     "output_type": "stream",
     "text": [
      "Training until validation scores don't improve for 100 rounds\n",
      "[100]\ttraining's l2: 0.0024769\tvalid_1's l2: 0.0325976\n",
      "[200]\ttraining's l2: 0.00151479\tvalid_1's l2: 0.0307424\n",
      "[300]\ttraining's l2: 0.00118806\tvalid_1's l2: 0.0302537\n",
      "[400]\ttraining's l2: 0.000996446\tvalid_1's l2: 0.0304934\n",
      "Early stopping, best iteration is:\n",
      "[337]\ttraining's l2: 0.00109689\tvalid_1's l2: 0.0299552\n"
     ]
    },
    {
     "name": "stderr",
     "output_type": "stream",
     "text": [
      "tune_lambda_l1_and_lambda_l2, val_score: 0.029955:  15%|#5        | 3/20 [00:00<00:05,  3.26it/s][I 2020-03-30 15:36:24,906] Finished trial#2 resulted in value: 0.029955240864031556. Current best value is 0.029955240864031556 with parameters: {'lambda_l1': 9.623743019064375e-05, 'lambda_l2': 8.621562052538559e-06}.\n",
      "tune_lambda_l1_and_lambda_l2, val_score: 0.029955:  15%|#5        | 3/20 [00:01<00:05,  3.26it/s]"
     ]
    },
    {
     "name": "stdout",
     "output_type": "stream",
     "text": [
      "Training until validation scores don't improve for 100 rounds\n",
      "[100]\ttraining's l2: 0.00266388\tvalid_1's l2: 0.0360001\n",
      "[200]\ttraining's l2: 0.00175288\tvalid_1's l2: 0.0347153\n",
      "[300]\ttraining's l2: 0.00144501\tvalid_1's l2: 0.0333218\n",
      "[400]\ttraining's l2: 0.00127776\tvalid_1's l2: 0.033007\n",
      "Early stopping, best iteration is:\n",
      "[353]\ttraining's l2: 0.00134055\tvalid_1's l2: 0.0329031\n"
     ]
    },
    {
     "name": "stderr",
     "output_type": "stream",
     "text": [
      "tune_lambda_l1_and_lambda_l2, val_score: 0.029955:  20%|##        | 4/20 [00:01<00:04,  3.24it/s][I 2020-03-30 15:36:25,221] Finished trial#3 resulted in value: 0.032903073341658436. Current best value is 0.029955240864031556 with parameters: {'lambda_l1': 9.623743019064375e-05, 'lambda_l2': 8.621562052538559e-06}.\n",
      "tune_lambda_l1_and_lambda_l2, val_score: 0.029955:  20%|##        | 4/20 [00:01<00:04,  3.24it/s]"
     ]
    },
    {
     "name": "stdout",
     "output_type": "stream",
     "text": [
      "Training until validation scores don't improve for 100 rounds\n",
      "[100]\ttraining's l2: 0.00363543\tvalid_1's l2: 0.0378806\n",
      "[200]\ttraining's l2: 0.00270801\tvalid_1's l2: 0.035364\n",
      "[300]\ttraining's l2: 0.0026264\tvalid_1's l2: 0.0351286\n",
      "Early stopping, best iteration is:\n",
      "[217]\ttraining's l2: 0.00263739\tvalid_1's l2: 0.0351199\n"
     ]
    },
    {
     "name": "stderr",
     "output_type": "stream",
     "text": [
      "tune_lambda_l1_and_lambda_l2, val_score: 0.029955:  25%|##5       | 5/20 [00:01<00:04,  3.42it/s][I 2020-03-30 15:36:25,480] Finished trial#4 resulted in value: 0.035119888322010684. Current best value is 0.029955240864031556 with parameters: {'lambda_l1': 9.623743019064375e-05, 'lambda_l2': 8.621562052538559e-06}.\n",
      "tune_lambda_l1_and_lambda_l2, val_score: 0.029955:  25%|##5       | 5/20 [00:01<00:04,  3.42it/s]"
     ]
    },
    {
     "name": "stdout",
     "output_type": "stream",
     "text": [
      "Training until validation scores don't improve for 100 rounds\n",
      "[100]\ttraining's l2: 0.00247696\tvalid_1's l2: 0.0325978\n",
      "[200]\ttraining's l2: 0.00151486\tvalid_1's l2: 0.0307426\n",
      "[300]\ttraining's l2: 0.00118813\tvalid_1's l2: 0.030254\n",
      "[400]\ttraining's l2: 0.000996518\tvalid_1's l2: 0.0304936\n",
      "Early stopping, best iteration is:\n",
      "[337]\ttraining's l2: 0.00109696\tvalid_1's l2: 0.0299556\n"
     ]
    },
    {
     "name": "stderr",
     "output_type": "stream",
     "text": [
      "tune_lambda_l1_and_lambda_l2, val_score: 0.029955:  30%|###       | 6/20 [00:01<00:04,  2.99it/s][I 2020-03-30 15:36:25,909] Finished trial#5 resulted in value: 0.029955600350196177. Current best value is 0.029955240864031556 with parameters: {'lambda_l1': 9.623743019064375e-05, 'lambda_l2': 8.621562052538559e-06}.\n",
      "tune_lambda_l1_and_lambda_l2, val_score: 0.029955:  30%|###       | 6/20 [00:02<00:04,  2.99it/s]"
     ]
    },
    {
     "name": "stdout",
     "output_type": "stream",
     "text": [
      "Training until validation scores don't improve for 100 rounds\n",
      "[100]\ttraining's l2: 0.00372583\tvalid_1's l2: 0.0360227\n",
      "[200]\ttraining's l2: 0.00292804\tvalid_1's l2: 0.0341587\n",
      "Early stopping, best iteration is:\n",
      "[160]\ttraining's l2: 0.00298196\tvalid_1's l2: 0.034128\n"
     ]
    },
    {
     "name": "stderr",
     "output_type": "stream",
     "text": [
      "tune_lambda_l1_and_lambda_l2, val_score: 0.029955:  35%|###5      | 7/20 [00:02<00:04,  3.25it/s][I 2020-03-30 15:36:26,157] Finished trial#6 resulted in value: 0.03412797998456193. Current best value is 0.029955240864031556 with parameters: {'lambda_l1': 9.623743019064375e-05, 'lambda_l2': 8.621562052538559e-06}.\n",
      "tune_lambda_l1_and_lambda_l2, val_score: 0.029955:  35%|###5      | 7/20 [00:02<00:04,  3.25it/s]"
     ]
    },
    {
     "name": "stdout",
     "output_type": "stream",
     "text": [
      "Training until validation scores don't improve for 100 rounds\n",
      "[100]\ttraining's l2: 0.00258319\tvalid_1's l2: 0.0378815\n",
      "[200]\ttraining's l2: 0.00161185\tvalid_1's l2: 0.0349134\n",
      "[300]\ttraining's l2: 0.00123899\tvalid_1's l2: 0.034493\n",
      "[400]\ttraining's l2: 0.0010492\tvalid_1's l2: 0.0341826\n",
      "[500]\ttraining's l2: 0.000920592\tvalid_1's l2: 0.0340307\n",
      "Early stopping, best iteration is:\n",
      "[432]\ttraining's l2: 0.000999912\tvalid_1's l2: 0.0339205\n"
     ]
    },
    {
     "name": "stderr",
     "output_type": "stream",
     "text": [
      "tune_lambda_l1_and_lambda_l2, val_score: 0.029955:  40%|####      | 8/20 [00:02<00:04,  2.77it/s][I 2020-03-30 15:36:26,650] Finished trial#7 resulted in value: 0.033920451836172226. Current best value is 0.029955240864031556 with parameters: {'lambda_l1': 9.623743019064375e-05, 'lambda_l2': 8.621562052538559e-06}.\n",
      "tune_lambda_l1_and_lambda_l2, val_score: 0.029955:  40%|####      | 8/20 [00:02<00:04,  2.77it/s]"
     ]
    },
    {
     "name": "stdout",
     "output_type": "stream",
     "text": [
      "Training until validation scores don't improve for 100 rounds\n",
      "[100]\ttraining's l2: 0.00247687\tvalid_1's l2: 0.0325975\n",
      "[200]\ttraining's l2: 0.00151476\tvalid_1's l2: 0.0307422\n",
      "[300]\ttraining's l2: 0.00118802\tvalid_1's l2: 0.0302535\n",
      "[400]\ttraining's l2: 0.00100051\tvalid_1's l2: 0.0303282\n",
      "Early stopping, best iteration is:\n",
      "[334]\ttraining's l2: 0.00110963\tvalid_1's l2: 0.0300763\n"
     ]
    },
    {
     "name": "stderr",
     "output_type": "stream",
     "text": [
      "tune_lambda_l1_and_lambda_l2, val_score: 0.029955:  45%|####5     | 9/20 [00:03<00:04,  2.70it/s][I 2020-03-30 15:36:27,032] Finished trial#8 resulted in value: 0.030076342994447218. Current best value is 0.029955240864031556 with parameters: {'lambda_l1': 9.623743019064375e-05, 'lambda_l2': 8.621562052538559e-06}.\n",
      "tune_lambda_l1_and_lambda_l2, val_score: 0.029955:  45%|####5     | 9/20 [00:03<00:04,  2.70it/s]"
     ]
    },
    {
     "name": "stdout",
     "output_type": "stream",
     "text": [
      "Training until validation scores don't improve for 100 rounds\n",
      "[100]\ttraining's l2: 0.00262575\tvalid_1's l2: 0.0368551\n",
      "[200]\ttraining's l2: 0.00171118\tvalid_1's l2: 0.0339028\n",
      "[300]\ttraining's l2: 0.001371\tvalid_1's l2: 0.0332288\n",
      "[400]\ttraining's l2: 0.00120482\tvalid_1's l2: 0.0328307\n",
      "Early stopping, best iteration is:\n",
      "[360]\ttraining's l2: 0.00125992\tvalid_1's l2: 0.0326442\n"
     ]
    },
    {
     "name": "stderr",
     "output_type": "stream",
     "text": [
      "tune_lambda_l1_and_lambda_l2, val_score: 0.029955:  50%|#####     | 10/20 [00:03<00:03,  2.70it/s][I 2020-03-30 15:36:27,400] Finished trial#9 resulted in value: 0.03264419417290502. Current best value is 0.029955240864031556 with parameters: {'lambda_l1': 9.623743019064375e-05, 'lambda_l2': 8.621562052538559e-06}.\n",
      "tune_lambda_l1_and_lambda_l2, val_score: 0.029955:  50%|#####     | 10/20 [00:03<00:03,  2.70it/s]"
     ]
    },
    {
     "name": "stdout",
     "output_type": "stream",
     "text": [
      "Training until validation scores don't improve for 100 rounds\n",
      "[100]\ttraining's l2: 0.00247687\tvalid_1's l2: 0.0325975\n",
      "[200]\ttraining's l2: 0.00151476\tvalid_1's l2: 0.0307422\n",
      "[300]\ttraining's l2: 0.00118803\tvalid_1's l2: 0.0302535\n",
      "[400]\ttraining's l2: 0.00100051\tvalid_1's l2: 0.0303282\n",
      "Early stopping, best iteration is:\n",
      "[334]\ttraining's l2: 0.00110963\tvalid_1's l2: 0.0300764\n"
     ]
    },
    {
     "name": "stderr",
     "output_type": "stream",
     "text": [
      "tune_lambda_l1_and_lambda_l2, val_score: 0.029955:  55%|#####5    | 11/20 [00:03<00:03,  2.69it/s][I 2020-03-30 15:36:27,772] Finished trial#10 resulted in value: 0.03007635548182807. Current best value is 0.029955240864031556 with parameters: {'lambda_l1': 9.623743019064375e-05, 'lambda_l2': 8.621562052538559e-06}.\n",
      "tune_lambda_l1_and_lambda_l2, val_score: 0.029955:  55%|#####5    | 11/20 [00:03<00:03,  2.69it/s]"
     ]
    },
    {
     "name": "stdout",
     "output_type": "stream",
     "text": [
      "Training until validation scores don't improve for 100 rounds\n",
      "[100]\ttraining's l2: 0.00248121\tvalid_1's l2: 0.0322759\n",
      "[200]\ttraining's l2: 0.00153683\tvalid_1's l2: 0.0316205\n",
      "[300]\ttraining's l2: 0.00120126\tvalid_1's l2: 0.0310919\n",
      "[400]\ttraining's l2: 0.00101615\tvalid_1's l2: 0.0305803\n",
      "[500]\ttraining's l2: 0.000894466\tvalid_1's l2: 0.0307401\n",
      "Early stopping, best iteration is:\n",
      "[431]\ttraining's l2: 0.000975941\tvalid_1's l2: 0.0304104\n"
     ]
    },
    {
     "name": "stderr",
     "output_type": "stream",
     "text": [
      "tune_lambda_l1_and_lambda_l2, val_score: 0.029955:  60%|######    | 12/20 [00:04<00:03,  2.62it/s][I 2020-03-30 15:36:28,184] Finished trial#11 resulted in value: 0.0304104115152545. Current best value is 0.029955240864031556 with parameters: {'lambda_l1': 9.623743019064375e-05, 'lambda_l2': 8.621562052538559e-06}.\n",
      "tune_lambda_l1_and_lambda_l2, val_score: 0.029955:  60%|######    | 12/20 [00:04<00:03,  2.62it/s]"
     ]
    },
    {
     "name": "stdout",
     "output_type": "stream",
     "text": [
      "Training until validation scores don't improve for 100 rounds\n",
      "[100]\ttraining's l2: 0.00248041\tvalid_1's l2: 0.0322732\n",
      "[200]\ttraining's l2: 0.00153571\tvalid_1's l2: 0.0316231\n",
      "[300]\ttraining's l2: 0.00120189\tvalid_1's l2: 0.0309337\n",
      "[400]\ttraining's l2: 0.0010081\tvalid_1's l2: 0.0306434\n",
      "[500]\ttraining's l2: 0.000892105\tvalid_1's l2: 0.0306079\n",
      "Early stopping, best iteration is:\n",
      "[432]\ttraining's l2: 0.000971048\tvalid_1's l2: 0.0302987\n"
     ]
    },
    {
     "name": "stderr",
     "output_type": "stream",
     "text": [
      "tune_lambda_l1_and_lambda_l2, val_score: 0.029955:  65%|######5   | 13/20 [00:04<00:03,  2.32it/s][I 2020-03-30 15:36:28,728] Finished trial#12 resulted in value: 0.030298728672286574. Current best value is 0.029955240864031556 with parameters: {'lambda_l1': 9.623743019064375e-05, 'lambda_l2': 8.621562052538559e-06}.\n",
      "tune_lambda_l1_and_lambda_l2, val_score: 0.029955:  65%|######5   | 13/20 [00:04<00:03,  2.32it/s]"
     ]
    },
    {
     "name": "stdout",
     "output_type": "stream",
     "text": [
      "Training until validation scores don't improve for 100 rounds\n",
      "[100]\ttraining's l2: 0.00247688\tvalid_1's l2: 0.0325975\n",
      "[200]\ttraining's l2: 0.00151476\tvalid_1's l2: 0.0307422\n",
      "[300]\ttraining's l2: 0.00118803\tvalid_1's l2: 0.0302535\n",
      "[400]\ttraining's l2: 0.000996417\tvalid_1's l2: 0.0304934\n",
      "Early stopping, best iteration is:\n",
      "[337]\ttraining's l2: 0.00109686\tvalid_1's l2: 0.0299551\n"
     ]
    },
    {
     "name": "stderr",
     "output_type": "stream",
     "text": [
      "tune_lambda_l1_and_lambda_l2, val_score: 0.029955:  70%|#######   | 14/20 [00:05<00:02,  2.50it/s][I 2020-03-30 15:36:29,056] Finished trial#13 resulted in value: 0.02995509409842207. Current best value is 0.02995509409842207 with parameters: {'lambda_l1': 1.8871032045306725e-05, 'lambda_l2': 3.6942022247574712e-06}.\n",
      "tune_lambda_l1_and_lambda_l2, val_score: 0.029955:  70%|#######   | 14/20 [00:05<00:02,  2.50it/s]"
     ]
    },
    {
     "name": "stdout",
     "output_type": "stream",
     "text": [
      "Training until validation scores don't improve for 100 rounds\n",
      "[100]\ttraining's l2: 0.00247687\tvalid_1's l2: 0.0325975\n",
      "[200]\ttraining's l2: 0.00151476\tvalid_1's l2: 0.0307422\n",
      "[300]\ttraining's l2: 0.00118802\tvalid_1's l2: 0.0302535\n",
      "[400]\ttraining's l2: 0.00100051\tvalid_1's l2: 0.0303282\n",
      "Early stopping, best iteration is:\n",
      "[334]\ttraining's l2: 0.00110963\tvalid_1's l2: 0.0300763\n"
     ]
    },
    {
     "name": "stderr",
     "output_type": "stream",
     "text": [
      "tune_lambda_l1_and_lambda_l2, val_score: 0.029955:  75%|#######5  | 15/20 [00:05<00:01,  2.57it/s][I 2020-03-30 15:36:29,418] Finished trial#14 resulted in value: 0.030076344916252325. Current best value is 0.02995509409842207 with parameters: {'lambda_l1': 1.8871032045306725e-05, 'lambda_l2': 3.6942022247574712e-06}.\n",
      "tune_lambda_l1_and_lambda_l2, val_score: 0.029955:  75%|#######5  | 15/20 [00:05<00:01,  2.57it/s]"
     ]
    },
    {
     "name": "stdout",
     "output_type": "stream",
     "text": [
      "Training until validation scores don't improve for 100 rounds\n",
      "[100]\ttraining's l2: 0.00247687\tvalid_1's l2: 0.0325975\n",
      "[200]\ttraining's l2: 0.00151476\tvalid_1's l2: 0.0307422\n",
      "[300]\ttraining's l2: 0.00118803\tvalid_1's l2: 0.0302535\n",
      "[400]\ttraining's l2: 0.00100051\tvalid_1's l2: 0.0303282\n",
      "Early stopping, best iteration is:\n",
      "[334]\ttraining's l2: 0.00110963\tvalid_1's l2: 0.0300764\n"
     ]
    },
    {
     "name": "stderr",
     "output_type": "stream",
     "text": [
      "tune_lambda_l1_and_lambda_l2, val_score: 0.029955:  80%|########  | 16/20 [00:05<00:01,  2.48it/s][I 2020-03-30 15:36:29,855] Finished trial#15 resulted in value: 0.030076359685120086. Current best value is 0.02995509409842207 with parameters: {'lambda_l1': 1.8871032045306725e-05, 'lambda_l2': 3.6942022247574712e-06}.\n",
      "tune_lambda_l1_and_lambda_l2, val_score: 0.029955:  80%|########  | 16/20 [00:05<00:01,  2.48it/s]"
     ]
    },
    {
     "name": "stdout",
     "output_type": "stream",
     "text": [
      "Training until validation scores don't improve for 100 rounds\n",
      "[100]\ttraining's l2: 0.00246903\tvalid_1's l2: 0.0326194\n",
      "[200]\ttraining's l2: 0.00151967\tvalid_1's l2: 0.0320763\n",
      "[300]\ttraining's l2: 0.00119258\tvalid_1's l2: 0.0312947\n",
      "[400]\ttraining's l2: 0.00100323\tvalid_1's l2: 0.031366\n",
      "Early stopping, best iteration is:\n",
      "[338]\ttraining's l2: 0.00110116\tvalid_1's l2: 0.0310865\n"
     ]
    },
    {
     "name": "stderr",
     "output_type": "stream",
     "text": [
      "tune_lambda_l1_and_lambda_l2, val_score: 0.029955:  85%|########5 | 17/20 [00:06<00:01,  2.56it/s][I 2020-03-30 15:36:30,224] Finished trial#16 resulted in value: 0.031086472775109834. Current best value is 0.02995509409842207 with parameters: {'lambda_l1': 1.8871032045306725e-05, 'lambda_l2': 3.6942022247574712e-06}.\n",
      "tune_lambda_l1_and_lambda_l2, val_score: 0.029955:  85%|########5 | 17/20 [00:06<00:01,  2.56it/s]"
     ]
    },
    {
     "name": "stdout",
     "output_type": "stream",
     "text": [
      "Training until validation scores don't improve for 100 rounds\n",
      "[100]\ttraining's l2: 0.00247687\tvalid_1's l2: 0.0325975\n",
      "[200]\ttraining's l2: 0.00151476\tvalid_1's l2: 0.0307422\n",
      "[300]\ttraining's l2: 0.00118802\tvalid_1's l2: 0.0302535\n",
      "[400]\ttraining's l2: 0.00100051\tvalid_1's l2: 0.0303282\n",
      "Early stopping, best iteration is:\n",
      "[334]\ttraining's l2: 0.00110963\tvalid_1's l2: 0.0300763\n"
     ]
    },
    {
     "name": "stderr",
     "output_type": "stream",
     "text": [
      "tune_lambda_l1_and_lambda_l2, val_score: 0.029955:  90%|######### | 18/20 [00:06<00:00,  2.56it/s][I 2020-03-30 15:36:30,605] Finished trial#17 resulted in value: 0.03007634374634867. Current best value is 0.02995509409842207 with parameters: {'lambda_l1': 1.8871032045306725e-05, 'lambda_l2': 3.6942022247574712e-06}.\n",
      "tune_lambda_l1_and_lambda_l2, val_score: 0.029955:  90%|######### | 18/20 [00:06<00:00,  2.56it/s]"
     ]
    },
    {
     "name": "stdout",
     "output_type": "stream",
     "text": [
      "Training until validation scores don't improve for 100 rounds\n",
      "[100]\ttraining's l2: 0.00247693\tvalid_1's l2: 0.0325976\n",
      "[200]\ttraining's l2: 0.00151481\tvalid_1's l2: 0.0307424\n",
      "[300]\ttraining's l2: 0.00118808\tvalid_1's l2: 0.0302537\n",
      "[400]\ttraining's l2: 0.000996462\tvalid_1's l2: 0.0304935\n",
      "Early stopping, best iteration is:\n",
      "[337]\ttraining's l2: 0.0010969\tvalid_1's l2: 0.0299553\n"
     ]
    },
    {
     "name": "stderr",
     "output_type": "stream",
     "text": [
      "tune_lambda_l1_and_lambda_l2, val_score: 0.029955:  95%|#########5| 19/20 [00:06<00:00,  2.67it/s][I 2020-03-30 15:36:30,944] Finished trial#18 resulted in value: 0.029955301945781207. Current best value is 0.02995509409842207 with parameters: {'lambda_l1': 1.8871032045306725e-05, 'lambda_l2': 3.6942022247574712e-06}.\n",
      "tune_lambda_l1_and_lambda_l2, val_score: 0.029955:  95%|#########5| 19/20 [00:07<00:00,  2.67it/s]"
     ]
    },
    {
     "name": "stdout",
     "output_type": "stream",
     "text": [
      "Training until validation scores don't improve for 100 rounds\n",
      "[100]\ttraining's l2: 0.00247724\tvalid_1's l2: 0.0325987\n",
      "[200]\ttraining's l2: 0.00151737\tvalid_1's l2: 0.0306442\n",
      "[300]\ttraining's l2: 0.00118938\tvalid_1's l2: 0.0303422\n",
      "[400]\ttraining's l2: 0.00100434\tvalid_1's l2: 0.0304866\n",
      "Early stopping, best iteration is:\n",
      "[338]\ttraining's l2: 0.0011016\tvalid_1's l2: 0.0301266\n"
     ]
    },
    {
     "name": "stderr",
     "output_type": "stream",
     "text": [
      "tune_lambda_l1_and_lambda_l2, val_score: 0.029955: 100%|##########| 20/20 [00:07<00:00,  2.70it/s][I 2020-03-30 15:36:31,306] Finished trial#19 resulted in value: 0.030126638787157527. Current best value is 0.02995509409842207 with parameters: {'lambda_l1': 1.8871032045306725e-05, 'lambda_l2': 3.6942022247574712e-06}.\n",
      "tune_lambda_l1_and_lambda_l2, val_score: 0.029955: 100%|##########| 20/20 [00:07<00:00,  2.70it/s]\n",
      "tune_min_child_samples, val_score: 0.029955:   0%|          | 0/5 [00:00<?, ?it/s]"
     ]
    },
    {
     "name": "stdout",
     "output_type": "stream",
     "text": [
      "Training until validation scores don't improve for 100 rounds\n",
      "[100]\ttraining's l2: 0.0024611\tvalid_1's l2: 0.0345738\n",
      "[200]\ttraining's l2: 0.00147727\tvalid_1's l2: 0.032997\n",
      "[300]\ttraining's l2: 0.00111355\tvalid_1's l2: 0.0328523\n",
      "[400]\ttraining's l2: 0.000927125\tvalid_1's l2: 0.0325637\n",
      "Early stopping, best iteration is:\n",
      "[357]\ttraining's l2: 0.000995581\tvalid_1's l2: 0.0323\n"
     ]
    },
    {
     "name": "stderr",
     "output_type": "stream",
     "text": [
      "tune_min_child_samples, val_score: 0.029955:  20%|##        | 1/5 [00:00<00:01,  3.38it/s][I 2020-03-30 15:36:31,669] Finished trial#0 resulted in value: 0.032300000817392496. Current best value is 0.032300000817392496 with parameters: {'min_child_samples': 5}.\n",
      "tune_min_child_samples, val_score: 0.029955:  20%|##        | 1/5 [00:00<00:01,  3.38it/s]"
     ]
    },
    {
     "name": "stdout",
     "output_type": "stream",
     "text": [
      "Training until validation scores don't improve for 100 rounds\n",
      "[100]\ttraining's l2: 0.00245395\tvalid_1's l2: 0.0342943\n",
      "[200]\ttraining's l2: 0.00150465\tvalid_1's l2: 0.0331703\n",
      "[300]\ttraining's l2: 0.00115301\tvalid_1's l2: 0.0325448\n",
      "Early stopping, best iteration is:\n",
      "[289]\ttraining's l2: 0.00117881\tvalid_1's l2: 0.032441\n"
     ]
    },
    {
     "name": "stderr",
     "output_type": "stream",
     "text": [
      "tune_min_child_samples, val_score: 0.029955:  40%|####      | 2/5 [00:00<00:00,  3.32it/s][I 2020-03-30 15:36:31,985] Finished trial#1 resulted in value: 0.032441024033059464. Current best value is 0.032300000817392496 with parameters: {'min_child_samples': 5}.\n",
      "tune_min_child_samples, val_score: 0.029955:  40%|####      | 2/5 [00:00<00:00,  3.32it/s]"
     ]
    },
    {
     "name": "stdout",
     "output_type": "stream",
     "text": [
      "Training until validation scores don't improve for 100 rounds\n",
      "[100]\ttraining's l2: 0.00249736\tvalid_1's l2: 0.033963\n",
      "[200]\ttraining's l2: 0.00157025\tvalid_1's l2: 0.0325171\n",
      "[300]\ttraining's l2: 0.00121924\tvalid_1's l2: 0.0315368\n",
      "[400]\ttraining's l2: 0.00103363\tvalid_1's l2: 0.0313164\n",
      "[500]\ttraining's l2: 0.000911806\tvalid_1's l2: 0.031224\n",
      "Early stopping, best iteration is:\n",
      "[428]\ttraining's l2: 0.000993478\tvalid_1's l2: 0.0309182\n"
     ]
    },
    {
     "name": "stderr",
     "output_type": "stream",
     "text": [
      "tune_min_child_samples, val_score: 0.029955:  60%|######    | 3/5 [00:01<00:00,  3.02it/s][I 2020-03-30 15:36:32,383] Finished trial#2 resulted in value: 0.03091819581382649. Current best value is 0.03091819581382649 with parameters: {'min_child_samples': 25}.\n",
      "tune_min_child_samples, val_score: 0.029955:  60%|######    | 3/5 [00:01<00:00,  3.02it/s]"
     ]
    },
    {
     "name": "stdout",
     "output_type": "stream",
     "text": [
      "Training until validation scores don't improve for 100 rounds\n",
      "[100]\ttraining's l2: 0.00251044\tvalid_1's l2: 0.038196\n",
      "[200]\ttraining's l2: 0.00160908\tvalid_1's l2: 0.0368754\n",
      "[300]\ttraining's l2: 0.00129432\tvalid_1's l2: 0.0362387\n",
      "[400]\ttraining's l2: 0.00112543\tvalid_1's l2: 0.0358709\n",
      "[500]\ttraining's l2: 0.00101041\tvalid_1's l2: 0.0355255\n",
      "[600]\ttraining's l2: 0.000926649\tvalid_1's l2: 0.0351215\n",
      "[700]\ttraining's l2: 0.000867179\tvalid_1's l2: 0.0348344\n",
      "Early stopping, best iteration is:\n",
      "[673]\ttraining's l2: 0.000880869\tvalid_1's l2: 0.0346717\n"
     ]
    },
    {
     "name": "stderr",
     "output_type": "stream",
     "text": [
      "tune_min_child_samples, val_score: 0.029955:  80%|########  | 4/5 [00:01<00:00,  2.62it/s][I 2020-03-30 15:36:32,884] Finished trial#3 resulted in value: 0.03467173671763385. Current best value is 0.03091819581382649 with parameters: {'min_child_samples': 25}.\n",
      "tune_min_child_samples, val_score: 0.029955:  80%|########  | 4/5 [00:01<00:00,  2.62it/s]"
     ]
    },
    {
     "name": "stdout",
     "output_type": "stream",
     "text": [
      "Training until validation scores don't improve for 100 rounds\n",
      "[100]\ttraining's l2: 0.0028436\tvalid_1's l2: 0.0389627\n",
      "[200]\ttraining's l2: 0.00181998\tvalid_1's l2: 0.0384126\n",
      "Early stopping, best iteration is:\n",
      "[132]\ttraining's l2: 0.00232123\tvalid_1's l2: 0.0378826\n"
     ]
    },
    {
     "name": "stderr",
     "output_type": "stream",
     "text": [
      "tune_min_child_samples, val_score: 0.029955: 100%|##########| 5/5 [00:01<00:00,  2.89it/s][I 2020-03-30 15:36:33,152] Finished trial#4 resulted in value: 0.03788262453017096. Current best value is 0.03091819581382649 with parameters: {'min_child_samples': 25}.\n",
      "tune_min_child_samples, val_score: 0.029955: 100%|##########| 5/5 [00:01<00:00,  2.71it/s]\n"
     ]
    },
    {
     "name": "stdout",
     "output_type": "stream",
     "text": [
      "Number of finished trials: 68\n",
      "Best params: {'lambda_l1': 1.8871032045306725e-05, 'lambda_l2': 3.6942022247574712e-06, 'num_leaves': 4, 'feature_fraction': 0.6, 'bagging_fraction': 0.713662476114249, 'bagging_freq': 4, 'min_child_samples': 20}\n",
      "  r2_score = -0.005747686438836608\n",
      "  Params: \n",
      "    lambda_l1: 1.8871032045306725e-05\n",
      "    lambda_l2: 3.6942022247574712e-06\n",
      "    num_leaves: 4\n",
      "    feature_fraction: 0.6\n",
      "    bagging_fraction: 0.713662476114249\n",
      "    bagging_freq: 4\n",
      "    min_child_samples: 20\n"
     ]
    }
   ],
   "source": [
    "dtrain = lgb.Dataset(X_train, label=y_train)\n",
    "dval = lgb.Dataset(X_test, label=y_test)\n",
    "\n",
    "params = {\n",
    "    'objective': 'regression',\n",
    "    'metric': 'l2',\n",
    "    'verbosity': -1,\n",
    "    'boosting_type': 'gbdt',\n",
    "}\n",
    "\n",
    "best_params, tuning_history = dict(), list()\n",
    "\n",
    "model = lgb.train(params,\n",
    "                  dtrain,\n",
    "                  valid_sets=[dtrain, dval],\n",
    "                  best_params=best_params,\n",
    "                  tuning_history=tuning_history,\n",
    "                  verbose_eval=100,\n",
    "                  early_stopping_rounds=100,\n",
    "                  )\n",
    "\n",
    "prediction = np.rint(model.predict(X_test, num_iteration=model.best_iteration))\n",
    "r2_score = r2_score(y_test, prediction)\n",
    "\n",
    "print('Number of finished trials: {}'.format(len(tuning_history)))\n",
    "print('Best params:', best_params)\n",
    "print('  r2_score = {}'.format(r2_score))\n",
    "print('  Params: ')\n",
    "for key, value in best_params.items():\n",
    "    print('    {}: {}'.format(key, value))"
   ]
  },
  {
   "cell_type": "markdown",
   "metadata": {},
   "source": [
    "### Tuning된 값 입력하여 모델 선언"
   ]
  },
  {
   "cell_type": "code",
   "execution_count": 33,
   "metadata": {},
   "outputs": [],
   "source": [
    "lgb_reg = LGBMRegressor()"
   ]
  },
  {
   "cell_type": "code",
   "execution_count": 44,
   "metadata": {},
   "outputs": [],
   "source": [
    "lgb_reg = LGBMRegressor(lambda_l1 = 1.8871032045306725e-05, lambda_l2 = 3.6942022247574712e-06, num_leaves = 4, feature_fraction = 0.6, bagging_fraction = 0.713662476114249, bagging_freq = 4, min_child_samples = 20)"
   ]
  },
  {
   "cell_type": "code",
   "execution_count": 34,
   "metadata": {},
   "outputs": [
    {
     "data": {
      "text/plain": [
       "LGBMRegressor(boosting_type='gbdt', class_weight=None, colsample_bytree=1.0,\n",
       "              importance_type='split', learning_rate=0.1, max_depth=-1,\n",
       "              min_child_samples=20, min_child_weight=0.001, min_split_gain=0.0,\n",
       "              n_estimators=100, n_jobs=-1, num_leaves=31, objective=None,\n",
       "              random_state=None, reg_alpha=0.0, reg_lambda=0.0, silent=True,\n",
       "              subsample=1.0, subsample_for_bin=200000, subsample_freq=0)"
      ]
     },
     "execution_count": 34,
     "metadata": {},
     "output_type": "execute_result"
    }
   ],
   "source": [
    "lgb_reg.fit(X_train, y_train)"
   ]
  },
  {
   "cell_type": "code",
   "execution_count": 35,
   "metadata": {},
   "outputs": [],
   "source": [
    "lgb_pred = lgb_reg.predict(X_test)"
   ]
  },
  {
   "cell_type": "code",
   "execution_count": 36,
   "metadata": {},
   "outputs": [],
   "source": [
    "y_test = np.array(y_test)"
   ]
  },
  {
   "cell_type": "code",
   "execution_count": 37,
   "metadata": {},
   "outputs": [
    {
     "data": {
      "text/html": [
       "<div>\n",
       "<style scoped>\n",
       "    .dataframe tbody tr th:only-of-type {\n",
       "        vertical-align: middle;\n",
       "    }\n",
       "\n",
       "    .dataframe tbody tr th {\n",
       "        vertical-align: top;\n",
       "    }\n",
       "\n",
       "    .dataframe thead th {\n",
       "        text-align: right;\n",
       "    }\n",
       "</style>\n",
       "<table border=\"1\" class=\"dataframe\">\n",
       "  <thead>\n",
       "    <tr style=\"text-align: right;\">\n",
       "      <th></th>\n",
       "      <th>CORR</th>\n",
       "      <th>R2</th>\n",
       "      <th>MAE</th>\n",
       "      <th>RMSE</th>\n",
       "      <th>ACR</th>\n",
       "      <th>threshACR</th>\n",
       "    </tr>\n",
       "  </thead>\n",
       "  <tbody>\n",
       "    <tr>\n",
       "      <th>0</th>\n",
       "      <td>0.559696</td>\n",
       "      <td>0.2012</td>\n",
       "      <td>0.2174</td>\n",
       "      <td>0.2531</td>\n",
       "      <td>0.715243</td>\n",
       "      <td>0.67</td>\n",
       "    </tr>\n",
       "  </tbody>\n",
       "</table>\n",
       "</div>"
      ],
      "text/plain": [
       "       CORR      R2     MAE    RMSE       ACR  threshACR\n",
       "0  0.559696  0.2012  0.2174  0.2531  0.715243       0.67"
      ]
     },
     "execution_count": 37,
     "metadata": {},
     "output_type": "execute_result"
    }
   ],
   "source": [
    "metr = CustomMetric(lgb_pred, y_test)\n",
    "metr.makedf()\n",
    "metr.execution()"
   ]
  },
  {
   "cell_type": "code",
   "execution_count": 38,
   "metadata": {},
   "outputs": [
    {
     "data": {
      "image/png": "[encoded data removed]",
      "text/plain": [
       "<Figure size 432x288 with 1 Axes>"
      ]
     },
     "metadata": {
      "image/png": {
       "height": 277,
       "width": 394
      },
      "needs_background": "light"
     },
     "output_type": "display_data"
    }
   ],
   "source": [
    "plt.plot(y_test,'red',label='real')\n",
    "plt.plot(lgb_pred,'blue',label='tree_prediction')\n",
    "plt.plot(ridge_pred,'green',label='linear_prediction')\n",
    "plt.xlabel('x axis')\n",
    "plt.ylabel('y axis')\n",
    "plt.title('matplotlib sample')\n",
    "plt.legend(loc='upper right')\n",
    "plt.show()"
   ]
  },
  {
   "cell_type": "code",
   "execution_count": 49,
   "metadata": {},
   "outputs": [],
   "source": [
    "# metric 구성\n",
    "\n",
    "from sklearn.metrics import mean_squared_error, r2_score, mean_absolute_error, accuracy_score\n",
    "\n",
    "class CustomMetric():\n",
    "\n",
    "    def __init__(self, pred, real):\n",
    "            self.pred = pred\n",
    "            self.real = real\n",
    "            self.thr25 = np.percentile(self.real, 25)\n",
    "            self.thr75 = np.percentile(self.real, 75)\n",
    "            self.df = pd.DataFrame({'pred' : self.pred, 'real' : self.real})\n",
    "        \n",
    "    def issame(self, data1, data2):\n",
    "        if data1 > 0 and data2 > 0 : \n",
    "            return 'T'\n",
    "        elif data1 > 0 and data2 < 0 :\n",
    "            return 'F'\n",
    "        elif data1 < 0 and data2 > 0 :\n",
    "            return 'F'\n",
    "        elif data1 < 0 and data2 < 0 :\n",
    "            return 'T'\n",
    "        elif data1 == 0 or data2 == 0 :\n",
    "            return 0\n",
    "        else :\n",
    "            return 'notcal'\n",
    "\n",
    "    def getouter(self, data1, data2): #quantile_25 = np.percentile(values, 25)\n",
    "\n",
    "        if data1 > 0 and data2 >= self.thr75 :\n",
    "            return 'T'\n",
    "        elif data1 < 0 and data2 <= self.thr25 :\n",
    "            return 'T'\n",
    "        elif data1 >= 0 and data2 <= self.thr25 :\n",
    "            return 'F'\n",
    "        elif data1 <= 0 and data2 >= self.thr75: \n",
    "            return 'F'\n",
    "        else:\n",
    "            return 'notcal'\n",
    "        \n",
    "    def makedf(self):\n",
    "        self.df['TF'] = self.df.apply(lambda x : self.issame(x['pred'], x['real']), axis = 1)\n",
    "        self.df['thrTF'] = self.df.apply(lambda x : self.getouter(x['pred'], x['real']), axis = 1)\n",
    "        \n",
    "        return self.df\n",
    "        \n",
    "    def execution(self):\n",
    "        mdf = pd.DataFrame()\n",
    "        mdf['CORR'] = [self.df['real'].corr(self.df['pred'], method = 'pearson')]\n",
    "        mdf['R2'] = [\"{0:0.4f}\".format(r2_score(self.df['real'], self.df['pred']))]\n",
    "        mdf['MAE'] = [\"{0:0.4f}\".format(mean_absolute_error(self.df['pred'], self.df['real']))]\n",
    "        mdf['RMSE'] = [\"{0:0.4f}\".format(np.sqrt(mean_squared_error(self.df['pred'], self.df['real'])))]\n",
    "        mdf['ACR'] = [sum(self.df['TF'] == 'T')/len(self.df['TF'])]\n",
    "        \n",
    "        mdf['threshACR'] = [sum(self.df['thrTF'] == 'T') / sum(self.df['thrTF'] != 'notcal')]\n",
    "        \n",
    "        return mdf     "
   ]
  },
  {
   "cell_type": "code",
   "execution_count": 84,
   "metadata": {},
   "outputs": [
    {
     "data": {
      "image/png": "[encoded data removed]",
      "text/plain": [
       "<Figure size 360x504 with 1 Axes>"
      ]
     },
     "metadata": {
      "image/png": {
       "height": 495,
       "width": 352
      },
      "needs_background": "light"
     },
     "output_type": "display_data"
    }
   ],
   "source": [
    "feat_imp = pd.DataFrame(sorted(zip(lgb_reg.feature_importances_, X_train.columns)), columns = ['Value', 'Feature'])\n",
    "feat_imp.sort_values(by = 'Value', ascending = False)\n",
    "plt.figure(figsize = (5, 7))\n",
    "sns.barplot(x = 'Value', y = 'Feature', data = feat_imp.sort_values(by = 'Value', ascending = False))\n",
    "plt.title('LightGBM Features')\n",
    "plt.tight_layout()\n",
    "plt.savefig('lgbm_importances_1.png')\n",
    "plt.show()"
   ]
  },
  {
   "cell_type": "code",
   "execution_count": null,
   "metadata": {},
   "outputs": [],
   "source": []
  }
 ],
 "metadata": {
  "kernelspec": {
   "display_name": "Tensorflow2 Python 3.7",
   "language": "python",
   "name": "tf2-py37"
  },
  "language_info": {
   "codemirror_mode": {
    "name": "ipython",
    "version": 3
   },
   "file_extension": ".py",
   "mimetype": "text/x-python",
   "name": "python",
   "nbconvert_exporter": "python",
   "pygments_lexer": "ipython3",
   "version": "3.7.6"
  }
 },
 "nbformat": 4,
 "nbformat_minor": 4
}
