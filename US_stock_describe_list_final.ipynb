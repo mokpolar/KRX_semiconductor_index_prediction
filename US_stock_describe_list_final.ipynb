{
 "cells": [
  {
   "cell_type": "markdown",
   "metadata": {},
   "source": [
    "###### excel -> csv 변환"
   ]
  },
  {
   "cell_type": "code",
   "execution_count": 10,
   "metadata": {},
   "outputs": [],
   "source": [
    "import pandas as pd\n",
    "import numpy as np\n",
    "import os"
   ]
  },
  {
   "cell_type": "code",
   "execution_count": 3,
   "metadata": {
    "scrolled": true
   },
   "outputs": [
    {
     "data": {
      "text/plain": [
       "'C:\\\\MarketCaster\\\\Industrial Index'"
      ]
     },
     "execution_count": 3,
     "metadata": {},
     "output_type": "execute_result"
    }
   ],
   "source": [
    "pwd"
   ]
  },
  {
   "cell_type": "code",
   "execution_count": 4,
   "metadata": {},
   "outputs": [],
   "source": [
    "# 년, 월, 일로 표기된 DATE를 처리하기 위한 function\n",
    "# input 인자인 dataFrame은 AMD['DATE']와 같이 dataframe 내 컬럼을 명시해주어야 함\n",
    "# 2019년 12월 4일 -> 2019-12-04\n",
    "def date_preprocessing(dataFrame):\n",
    "    i = 0\n",
    "    for date in dataFrame:\n",
    "        try:\n",
    "            # 띄어쓰기 제거\n",
    "            tmp1, tmp2, tmp3 = date.split(' ')\n",
    "            # 연, 월, 일 조립\n",
    "            tmp = tmp1[:4] + '-' + tmp2[:2] + '-' + tmp3[:2]\n",
    "        except:\n",
    "            tmp = date\n",
    "        # reset\n",
    "        dataFrame.loc[i] = pd.to_datetime(tmp)\n",
    "        i = i + 1"
   ]
  },
  {
   "cell_type": "code",
   "execution_count": 5,
   "metadata": {},
   "outputs": [],
   "source": [
    "# 거래량이 M(Milion) 단위로 표기된 VOLUME을 처리하기 위한 function\n",
    "# input 인자인 dataFrame은 AMD['VOLUME']와 같이 dataframe 내 컬럼을 명시해주어야 함\n",
    "# 10.00M -> 10000000\n",
    "def volume_preprocessing(dataFrame):\n",
    "    i = 0\n",
    "    for volume in dataFrame:\n",
    "        if type(volume) == str:\n",
    "            if volume[-1] == 'M':\n",
    "                volume = int(float(volume[:-1]) * 1000000)\n",
    "            elif volume == '-':\n",
    "                volume = 0\n",
    "            dataFrame.loc[i] = int(volume)\n",
    "        elif volume == np.nan:\n",
    "            pass\n",
    "        else:\n",
    "            try:\n",
    "                dataFrame.loc[i] = int(dataFrame.loc[i])\n",
    "            except:\n",
    "                pass\n",
    "        i = i + 1"
   ]
  },
  {
   "cell_type": "code",
   "execution_count": 6,
   "metadata": {},
   "outputs": [],
   "source": [
    "# 일별수익률에 %기호가 붙어있는 경우 사용\n",
    "def change_preprocessing(dataFrame):\n",
    "    i = 0\n",
    "    for change in dataFrame:\n",
    "        try:\n",
    "            # %기호 제거\n",
    "            if change[-1] == '%':\n",
    "                change = change[:-1]\n",
    "        except:\n",
    "            pass\n",
    "        try:\n",
    "            dataFrame.loc[i] = float(change)\n",
    "        except:\n",
    "            print(type(change), ' ', i)\n",
    "        i = i + 1"
   ]
  },
  {
   "cell_type": "code",
   "execution_count": 7,
   "metadata": {},
   "outputs": [],
   "source": [
    "# 사용할 데이터의 기간 설정\n",
    "# date_from < 사용할 기간 < date_to\n",
    "date_from = pd.to_datetime('2006-01-01')\n",
    "date_to   = pd.to_datetime('2019-11-01')\n",
    "\n",
    "# investing.com 데이터 중 비영업일이 영업일로 체크된 날짜 설정\n",
    "investing_ignore_date = pd.to_datetime('2016-02-27')"
   ]
  },
  {
   "cell_type": "code",
   "execution_count": 8,
   "metadata": {},
   "outputs": [],
   "source": [
    "# data file이 위치한 directory 설정\n",
    "path = './Data/US/'\n",
    "csv_path = './Data/CSV/'\n",
    "# 최종 data name 설정\n",
    "describe_file_name = 'describe_US.csv'"
   ]
  },
  {
   "cell_type": "code",
   "execution_count": 11,
   "metadata": {},
   "outputs": [
    {
     "data": {
      "text/plain": [
       "['AMD.csv',\n",
       " 'APPLE.csv',\n",
       " 'Intel.csv',\n",
       " 'ISECloudComputingIndex.xlsx',\n",
       " 'Micron.csv',\n",
       " 'Nvidia.csv',\n",
       " 'Original',\n",
       " 'Philadelphia.xlsx',\n",
       " 'QCOM.csv']"
      ]
     },
     "execution_count": 11,
     "metadata": {},
     "output_type": "execute_result"
    }
   ],
   "source": [
    "# directory 내 전체 file list 추출\n",
    "file_list = os.listdir(path)\n",
    "file_list"
   ]
  },
  {
   "cell_type": "code",
   "execution_count": 12,
   "metadata": {},
   "outputs": [
    {
     "data": {
      "text/plain": [
       "['AMD.csv', 'APPLE.csv', 'Intel.csv', 'Micron.csv', 'Nvidia.csv', 'QCOM.csv']"
      ]
     },
     "execution_count": 12,
     "metadata": {},
     "output_type": "execute_result"
    }
   ],
   "source": [
    "# csv file 추출\n",
    "file_list_csv = [file for file in file_list if file.endswith(\".csv\")]\n",
    "file_list_csv"
   ]
  },
  {
   "cell_type": "code",
   "execution_count": 13,
   "metadata": {},
   "outputs": [
    {
     "data": {
      "text/plain": [
       "['ISECloudComputingIndex.xlsx', 'Philadelphia.xlsx']"
      ]
     },
     "execution_count": 13,
     "metadata": {},
     "output_type": "execute_result"
    }
   ],
   "source": [
    "# xlsx file 추출\n",
    "file_list_xlsx = [file for file in file_list if file.endswith(\".xlsx\")]\n",
    "file_list_xlsx"
   ]
  },
  {
   "cell_type": "code",
   "execution_count": 14,
   "metadata": {},
   "outputs": [],
   "source": [
    "# 파일명을 저장하기 위한 list 선언\n",
    "df_name_list = []\n",
    "# dataFrame을 저장하기 위한 list 선언\n",
    "df_list = []"
   ]
  },
  {
   "cell_type": "code",
   "execution_count": 15,
   "metadata": {},
   "outputs": [],
   "source": [
    "# directory 내 csv file read\n",
    "for file in file_list_csv:\n",
    "    df_list.append(pd.read_csv(path+file, encoding='CP949'))\n",
    "    df_name_list.append(file[:-4])"
   ]
  },
  {
   "cell_type": "code",
   "execution_count": 16,
   "metadata": {},
   "outputs": [],
   "source": [
    "# directory 내 xlsx file read\n",
    "for file in file_list_xlsx:\n",
    "    df_list.append(pd.read_excel(path+file, sheet_name='Sheet1'))\n",
    "    df_name_list.append(file[:-5])"
   ]
  },
  {
   "cell_type": "code",
   "execution_count": 17,
   "metadata": {},
   "outputs": [
    {
     "data": {
      "text/plain": [
       "['AMD',\n",
       " 'APPLE',\n",
       " 'Intel',\n",
       " 'Micron',\n",
       " 'Nvidia',\n",
       " 'QCOM',\n",
       " 'ISECloudComputingIndex',\n",
       " 'Philadelphia']"
      ]
     },
     "execution_count": 17,
     "metadata": {},
     "output_type": "execute_result"
    }
   ],
   "source": [
    "df_name_list"
   ]
  },
  {
   "cell_type": "code",
   "execution_count": 18,
   "metadata": {},
   "outputs": [
    {
     "data": {
      "text/plain": [
       "8"
      ]
     },
     "execution_count": 18,
     "metadata": {},
     "output_type": "execute_result"
    }
   ],
   "source": [
    "len(df_list)"
   ]
  },
  {
   "cell_type": "code",
   "execution_count": 19,
   "metadata": {
    "scrolled": false
   },
   "outputs": [
    {
     "name": "stderr",
     "output_type": "stream",
     "text": [
      "C:\\Users\\Seungwon\\AppData\\Local\\Continuum\\miniconda3\\lib\\site-packages\\pandas\\core\\indexing.py:205: SettingWithCopyWarning: \n",
      "A value is trying to be set on a copy of a slice from a DataFrame\n",
      "\n",
      "See the caveats in the documentation: http://pandas.pydata.org/pandas-docs/stable/user_guide/indexing.html#returning-a-view-versus-a-copy\n",
      "  self._setitem_with_indexer(indexer, value)\n"
     ]
    }
   ],
   "source": [
    "investing_ignore_date = pd.to_datetime('2016-02-27')\n",
    "tmp_df_list = []\n",
    "for df in df_list:\n",
    "    date_preprocessing(df['DATE'])\n",
    "    volume_preprocessing(df['VOLUME'])\n",
    "    change_preprocessing(df['CHANGE'])\n",
    "    df['CHANGE'] = df['CHANGE'].apply(pd.to_numeric)\n",
    "    tmp_df = df[df['DATE'] < date_to]\n",
    "    \n",
    "    # investing.com에서 영업일로 표기된 날짜에 대한 index 추출 및 행 삭제\n",
    "    try:\n",
    "        index = df[df['DATE'] == investing_ignore_date].index[0]\n",
    "        tmp_df = tmp_df.drop(index, axis = 0)\n",
    "        tmp_df_list.append(tmp_df)\n",
    "    except:\n",
    "        tmp_df_list.append(tmp_df)\n",
    "    "
   ]
  },
  {
   "cell_type": "markdown",
   "metadata": {},
   "source": [
    "-------"
   ]
  },
  {
   "cell_type": "code",
   "execution_count": 47,
   "metadata": {},
   "outputs": [],
   "source": [
    "describe_df_list = pd.DataFrame(columns=column_list[1:])\n",
    "i = 0\n",
    "for df in tmp_df_list:\n",
    "    date_data = pd.DataFrame([[df_name_list[i], df['DATE'].min(), df['DATE'].max(), len(df['DATE']), np.nan, np.nan]],\n",
    "                             columns=column_list[1:])\n",
    "    describe_df_list = pd.concat([describe_df_list, date_data], axis = 0, sort=False)\n",
    "    describe_df_list = pd.concat([describe_df_list, df.describe()], axis = 0, sort=False)\n",
    "    i += 1"
   ]
  },
  {
   "cell_type": "code",
   "execution_count": 50,
   "metadata": {
    "scrolled": true
   },
   "outputs": [],
   "source": [
    "describe_df_list.to_csv('describe_US_test.csv')"
   ]
  },
  {
   "cell_type": "code",
   "execution_count": 27,
   "metadata": {},
   "outputs": [
    {
     "data": {
      "text/html": [
       "<div>\n",
       "<style scoped>\n",
       "    .dataframe tbody tr th:only-of-type {\n",
       "        vertical-align: middle;\n",
       "    }\n",
       "\n",
       "    .dataframe tbody tr th {\n",
       "        vertical-align: top;\n",
       "    }\n",
       "\n",
       "    .dataframe thead th {\n",
       "        text-align: right;\n",
       "    }\n",
       "</style>\n",
       "<table border=\"1\" class=\"dataframe\">\n",
       "  <thead>\n",
       "    <tr style=\"text-align: right;\">\n",
       "      <th></th>\n",
       "      <th>DATE</th>\n",
       "      <th>OPEN</th>\n",
       "      <th>HIGH</th>\n",
       "      <th>LOW</th>\n",
       "      <th>CLOSE</th>\n",
       "      <th>VOLUME</th>\n",
       "      <th>CHANGE</th>\n",
       "    </tr>\n",
       "  </thead>\n",
       "  <tbody>\n",
       "    <tr>\n",
       "      <th>21</th>\n",
       "      <td>2019-10-31</td>\n",
       "      <td>1652.888</td>\n",
       "      <td>1653.213</td>\n",
       "      <td>1630.866</td>\n",
       "      <td>1651.225</td>\n",
       "      <td>50286736.0</td>\n",
       "      <td>-0.616</td>\n",
       "    </tr>\n",
       "    <tr>\n",
       "      <th>22</th>\n",
       "      <td>2019-10-30</td>\n",
       "      <td>1670.927</td>\n",
       "      <td>1670.965</td>\n",
       "      <td>1649.676</td>\n",
       "      <td>1661.460</td>\n",
       "      <td>44595396.0</td>\n",
       "      <td>-0.060</td>\n",
       "    </tr>\n",
       "    <tr>\n",
       "      <th>23</th>\n",
       "      <td>2019-10-29</td>\n",
       "      <td>1682.122</td>\n",
       "      <td>1691.162</td>\n",
       "      <td>1661.146</td>\n",
       "      <td>1662.460</td>\n",
       "      <td>48164208.0</td>\n",
       "      <td>-0.901</td>\n",
       "    </tr>\n",
       "    <tr>\n",
       "      <th>24</th>\n",
       "      <td>2019-10-28</td>\n",
       "      <td>1662.638</td>\n",
       "      <td>1679.727</td>\n",
       "      <td>1662.638</td>\n",
       "      <td>1677.569</td>\n",
       "      <td>46648084.0</td>\n",
       "      <td>1.753</td>\n",
       "    </tr>\n",
       "    <tr>\n",
       "      <th>25</th>\n",
       "      <td>2019-10-25</td>\n",
       "      <td>1624.674</td>\n",
       "      <td>1650.199</td>\n",
       "      <td>1624.591</td>\n",
       "      <td>1648.671</td>\n",
       "      <td>51457184.0</td>\n",
       "      <td>2.053</td>\n",
       "    </tr>\n",
       "    <tr>\n",
       "      <th>...</th>\n",
       "      <td>...</td>\n",
       "      <td>...</td>\n",
       "      <td>...</td>\n",
       "      <td>...</td>\n",
       "      <td>...</td>\n",
       "      <td>...</td>\n",
       "      <td>...</td>\n",
       "    </tr>\n",
       "    <tr>\n",
       "      <th>3498</th>\n",
       "      <td>2006-01-09</td>\n",
       "      <td>520.830</td>\n",
       "      <td>525.830</td>\n",
       "      <td>518.850</td>\n",
       "      <td>524.330</td>\n",
       "      <td>85132528.0</td>\n",
       "      <td>0.916</td>\n",
       "    </tr>\n",
       "    <tr>\n",
       "      <th>3499</th>\n",
       "      <td>2006-01-06</td>\n",
       "      <td>510.100</td>\n",
       "      <td>520.430</td>\n",
       "      <td>508.870</td>\n",
       "      <td>519.570</td>\n",
       "      <td>101875800.0</td>\n",
       "      <td>2.169</td>\n",
       "    </tr>\n",
       "    <tr>\n",
       "      <th>3500</th>\n",
       "      <td>2006-01-05</td>\n",
       "      <td>497.880</td>\n",
       "      <td>509.540</td>\n",
       "      <td>497.880</td>\n",
       "      <td>508.540</td>\n",
       "      <td>99354176.0</td>\n",
       "      <td>2.386</td>\n",
       "    </tr>\n",
       "    <tr>\n",
       "      <th>3501</th>\n",
       "      <td>2006-01-04</td>\n",
       "      <td>493.330</td>\n",
       "      <td>498.940</td>\n",
       "      <td>493.330</td>\n",
       "      <td>496.690</td>\n",
       "      <td>87057856.0</td>\n",
       "      <td>0.722</td>\n",
       "    </tr>\n",
       "    <tr>\n",
       "      <th>3502</th>\n",
       "      <td>2006-01-03</td>\n",
       "      <td>480.570</td>\n",
       "      <td>495.520</td>\n",
       "      <td>475.940</td>\n",
       "      <td>493.130</td>\n",
       "      <td>90592272.0</td>\n",
       "      <td>2.845</td>\n",
       "    </tr>\n",
       "  </tbody>\n",
       "</table>\n",
       "<p>3482 rows × 7 columns</p>\n",
       "</div>"
      ],
      "text/plain": [
       "           DATE      OPEN      HIGH       LOW     CLOSE       VOLUME  CHANGE\n",
       "21   2019-10-31  1652.888  1653.213  1630.866  1651.225   50286736.0  -0.616\n",
       "22   2019-10-30  1670.927  1670.965  1649.676  1661.460   44595396.0  -0.060\n",
       "23   2019-10-29  1682.122  1691.162  1661.146  1662.460   48164208.0  -0.901\n",
       "24   2019-10-28  1662.638  1679.727  1662.638  1677.569   46648084.0   1.753\n",
       "25   2019-10-25  1624.674  1650.199  1624.591  1648.671   51457184.0   2.053\n",
       "...         ...       ...       ...       ...       ...          ...     ...\n",
       "3498 2006-01-09   520.830   525.830   518.850   524.330   85132528.0   0.916\n",
       "3499 2006-01-06   510.100   520.430   508.870   519.570  101875800.0   2.169\n",
       "3500 2006-01-05   497.880   509.540   497.880   508.540   99354176.0   2.386\n",
       "3501 2006-01-04   493.330   498.940   493.330   496.690   87057856.0   0.722\n",
       "3502 2006-01-03   480.570   495.520   475.940   493.130   90592272.0   2.845\n",
       "\n",
       "[3482 rows x 7 columns]"
      ]
     },
     "execution_count": 27,
     "metadata": {},
     "output_type": "execute_result"
    }
   ],
   "source": [
    "tmp_df_list[7]"
   ]
  },
  {
   "cell_type": "code",
   "execution_count": 30,
   "metadata": {},
   "outputs": [],
   "source": [
    "# csv file save\n",
    "i = 0\n",
    "for df in tmp_df_list:\n",
    "    df.to_csv(csv_path+df_name_list[i]+'.csv', index=False)\n",
    "    i += 1"
   ]
  },
  {
   "cell_type": "code",
   "execution_count": null,
   "metadata": {},
   "outputs": [],
   "source": []
  }
 ],
 "metadata": {
  "kernelspec": {
   "display_name": "Python 3",
   "language": "python",
   "name": "python3"
  },
  "language_info": {
   "codemirror_mode": {
    "name": "ipython",
    "version": 3
   },
   "file_extension": ".py",
   "mimetype": "text/x-python",
   "name": "python",
   "nbconvert_exporter": "python",
   "pygments_lexer": "ipython3",
   "version": "3.7.5"
  }
 },
 "nbformat": 4,
 "nbformat_minor": 2
}
