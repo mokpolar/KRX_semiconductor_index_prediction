{
 "cells": [
  {
   "cell_type": "code",
   "execution_count": 1,
   "metadata": {},
   "outputs": [],
   "source": [
    "import pandas as pd\n",
    "import numpy as np\n",
    "%matplotlib inline\n",
    "import matplotlib as mlt"
   ]
  },
  {
   "cell_type": "code",
   "execution_count": 2,
   "metadata": {},
   "outputs": [],
   "source": [
    "t60_pred = pd.read_csv('automl_test_prediction-krx_5.csv')"
   ]
  },
  {
   "cell_type": "code",
   "execution_count": 3,
   "metadata": {},
   "outputs": [],
   "source": [
    "t60_raw = pd.read_csv('automl_260_200227.csv')"
   ]
  },
  {
   "cell_type": "code",
   "execution_count": 4,
   "metadata": {},
   "outputs": [],
   "source": [
    "t60_pred = t60_pred.sort_values(by = 'date')"
   ]
  },
  {
   "cell_type": "code",
   "execution_count": 5,
   "metadata": {},
   "outputs": [],
   "source": [
    "t60_pred.reset_index(inplace = True, drop = True)"
   ]
  },
  {
   "cell_type": "code",
   "execution_count": 6,
   "metadata": {},
   "outputs": [],
   "source": [
    "t60_raw = t60_raw.tail(505)"
   ]
  },
  {
   "cell_type": "code",
   "execution_count": 7,
   "metadata": {},
   "outputs": [],
   "source": [
    "t60_raw.reset_index(inplace = True, drop = True)"
   ]
  },
  {
   "cell_type": "code",
   "execution_count": 8,
   "metadata": {},
   "outputs": [
    {
     "data": {
      "text/html": [
       "<div>\n",
       "<style scoped>\n",
       "    .dataframe tbody tr th:only-of-type {\n",
       "        vertical-align: middle;\n",
       "    }\n",
       "\n",
       "    .dataframe tbody tr th {\n",
       "        vertical-align: top;\n",
       "    }\n",
       "\n",
       "    .dataframe thead th {\n",
       "        text-align: right;\n",
       "    }\n",
       "</style>\n",
       "<table border=\"1\" class=\"dataframe\">\n",
       "  <thead>\n",
       "    <tr style=\"text-align: right;\">\n",
       "      <th></th>\n",
       "      <th>date</th>\n",
       "      <th>GDPCQOQIndex</th>\n",
       "      <th>GDPCYOYIndex</th>\n",
       "      <th>GDPCTOTIndex</th>\n",
       "      <th>GPDITOCIndex</th>\n",
       "      <th>GPGSTOCIndex</th>\n",
       "      <th>RGCDCIPIIndex</th>\n",
       "      <th>GDPCURIndex</th>\n",
       "      <th>GDPCURYIndex</th>\n",
       "      <th>GDPPIQQIndex</th>\n",
       "      <th>...</th>\n",
       "      <th>Philadelphia_product</th>\n",
       "      <th>QCOM_product</th>\n",
       "      <th>ShinEtsuChemical_product</th>\n",
       "      <th>Siltronic_product</th>\n",
       "      <th>SKhynix_product</th>\n",
       "      <th>Sumco_product</th>\n",
       "      <th>TokyoElectron_product</th>\n",
       "      <th>TSMC_product</th>\n",
       "      <th>UMC_product</th>\n",
       "      <th>predicted_KRXsemiconductor_change</th>\n",
       "    </tr>\n",
       "  </thead>\n",
       "  <tbody>\n",
       "    <tr>\n",
       "      <th>0</th>\n",
       "      <td>2018-06-14</td>\n",
       "      <td>3.317091</td>\n",
       "      <td>3.151277</td>\n",
       "      <td>3.546236</td>\n",
       "      <td>-2.055321</td>\n",
       "      <td>2.423474</td>\n",
       "      <td>-26.558691</td>\n",
       "      <td>20450.95632</td>\n",
       "      <td>5.872843</td>\n",
       "      <td>3.152974</td>\n",
       "      <td>...</td>\n",
       "      <td>0.951517</td>\n",
       "      <td>0.868174</td>\n",
       "      <td>0.577902</td>\n",
       "      <td>1.080397</td>\n",
       "      <td>1.289615</td>\n",
       "      <td>0.634060</td>\n",
       "      <td>1.210298</td>\n",
       "      <td>0.996124</td>\n",
       "      <td>0.323529</td>\n",
       "      <td>-0.464917</td>\n",
       "    </tr>\n",
       "    <tr>\n",
       "      <th>1</th>\n",
       "      <td>2018-06-15</td>\n",
       "      <td>3.330223</td>\n",
       "      <td>3.154642</td>\n",
       "      <td>3.579007</td>\n",
       "      <td>-2.083733</td>\n",
       "      <td>2.435273</td>\n",
       "      <td>-26.953685</td>\n",
       "      <td>20454.79069</td>\n",
       "      <td>5.882098</td>\n",
       "      <td>3.159286</td>\n",
       "      <td>...</td>\n",
       "      <td>1.714843</td>\n",
       "      <td>1.659837</td>\n",
       "      <td>1.250209</td>\n",
       "      <td>0.935965</td>\n",
       "      <td>0.638891</td>\n",
       "      <td>0.949438</td>\n",
       "      <td>1.309422</td>\n",
       "      <td>1.357043</td>\n",
       "      <td>2.252817</td>\n",
       "      <td>-0.449079</td>\n",
       "    </tr>\n",
       "  </tbody>\n",
       "</table>\n",
       "<p>2 rows × 442 columns</p>\n",
       "</div>"
      ],
      "text/plain": [
       "         date  GDPCQOQIndex  GDPCYOYIndex  GDPCTOTIndex  GPDITOCIndex  \\\n",
       "0  2018-06-14      3.317091      3.151277      3.546236     -2.055321   \n",
       "1  2018-06-15      3.330223      3.154642      3.579007     -2.083733   \n",
       "\n",
       "   GPGSTOCIndex  RGCDCIPIIndex  GDPCURIndex  GDPCURYIndex  GDPPIQQIndex  ...  \\\n",
       "0      2.423474     -26.558691  20450.95632      5.872843      3.152974  ...   \n",
       "1      2.435273     -26.953685  20454.79069      5.882098      3.159286  ...   \n",
       "\n",
       "   Philadelphia_product  QCOM_product  ShinEtsuChemical_product  \\\n",
       "0              0.951517      0.868174                  0.577902   \n",
       "1              1.714843      1.659837                  1.250209   \n",
       "\n",
       "   Siltronic_product  SKhynix_product  Sumco_product  TokyoElectron_product  \\\n",
       "0           1.080397         1.289615       0.634060               1.210298   \n",
       "1           0.935965         0.638891       0.949438               1.309422   \n",
       "\n",
       "   TSMC_product  UMC_product  predicted_KRXsemiconductor_change  \n",
       "0      0.996124     0.323529                          -0.464917  \n",
       "1      1.357043     2.252817                          -0.449079  \n",
       "\n",
       "[2 rows x 442 columns]"
      ]
     },
     "execution_count": 8,
     "metadata": {},
     "output_type": "execute_result"
    }
   ],
   "source": [
    "t60_pred.head(2)"
   ]
  },
  {
   "cell_type": "code",
   "execution_count": 9,
   "metadata": {},
   "outputs": [
    {
     "data": {
      "text/html": [
       "<div>\n",
       "<style scoped>\n",
       "    .dataframe tbody tr th:only-of-type {\n",
       "        vertical-align: middle;\n",
       "    }\n",
       "\n",
       "    .dataframe tbody tr th {\n",
       "        vertical-align: top;\n",
       "    }\n",
       "\n",
       "    .dataframe thead th {\n",
       "        text-align: right;\n",
       "    }\n",
       "</style>\n",
       "<table border=\"1\" class=\"dataframe\">\n",
       "  <thead>\n",
       "    <tr style=\"text-align: right;\">\n",
       "      <th></th>\n",
       "      <th>date</th>\n",
       "      <th>GDPCQOQIndex</th>\n",
       "      <th>GDPCYOYIndex</th>\n",
       "      <th>GDPCTOTIndex</th>\n",
       "      <th>GPDITOCIndex</th>\n",
       "      <th>GPGSTOCIndex</th>\n",
       "      <th>RGCDCIPIIndex</th>\n",
       "      <th>GDPCURIndex</th>\n",
       "      <th>GDPCURYIndex</th>\n",
       "      <th>GDPPIQQIndex</th>\n",
       "      <th>...</th>\n",
       "      <th>Nvidia_product</th>\n",
       "      <th>Philadelphia_product</th>\n",
       "      <th>QCOM_product</th>\n",
       "      <th>ShinEtsuChemical_product</th>\n",
       "      <th>Siltronic_product</th>\n",
       "      <th>SKhynix_product</th>\n",
       "      <th>Sumco_product</th>\n",
       "      <th>TokyoElectron_product</th>\n",
       "      <th>TSMC_product</th>\n",
       "      <th>UMC_product</th>\n",
       "    </tr>\n",
       "  </thead>\n",
       "  <tbody>\n",
       "    <tr>\n",
       "      <th>0</th>\n",
       "      <td>2018-06-14</td>\n",
       "      <td>3.317091</td>\n",
       "      <td>3.151277</td>\n",
       "      <td>3.546236</td>\n",
       "      <td>-2.055321</td>\n",
       "      <td>2.423474</td>\n",
       "      <td>-26.558691</td>\n",
       "      <td>20450.95632</td>\n",
       "      <td>5.872843</td>\n",
       "      <td>3.152974</td>\n",
       "      <td>...</td>\n",
       "      <td>1.292525</td>\n",
       "      <td>0.951517</td>\n",
       "      <td>0.868174</td>\n",
       "      <td>0.577902</td>\n",
       "      <td>1.080397</td>\n",
       "      <td>1.289615</td>\n",
       "      <td>0.634060</td>\n",
       "      <td>1.210298</td>\n",
       "      <td>0.996124</td>\n",
       "      <td>0.323529</td>\n",
       "    </tr>\n",
       "    <tr>\n",
       "      <th>1</th>\n",
       "      <td>2018-06-15</td>\n",
       "      <td>3.330223</td>\n",
       "      <td>3.154642</td>\n",
       "      <td>3.579007</td>\n",
       "      <td>-2.083733</td>\n",
       "      <td>2.435273</td>\n",
       "      <td>-26.953685</td>\n",
       "      <td>20454.79069</td>\n",
       "      <td>5.882098</td>\n",
       "      <td>3.159286</td>\n",
       "      <td>...</td>\n",
       "      <td>0.999365</td>\n",
       "      <td>1.714843</td>\n",
       "      <td>1.659837</td>\n",
       "      <td>1.250209</td>\n",
       "      <td>0.935965</td>\n",
       "      <td>0.638891</td>\n",
       "      <td>0.949438</td>\n",
       "      <td>1.309422</td>\n",
       "      <td>1.357043</td>\n",
       "      <td>2.252817</td>\n",
       "    </tr>\n",
       "  </tbody>\n",
       "</table>\n",
       "<p>2 rows × 441 columns</p>\n",
       "</div>"
      ],
      "text/plain": [
       "         date  GDPCQOQIndex  GDPCYOYIndex  GDPCTOTIndex  GPDITOCIndex  \\\n",
       "0  2018-06-14      3.317091      3.151277      3.546236     -2.055321   \n",
       "1  2018-06-15      3.330223      3.154642      3.579007     -2.083733   \n",
       "\n",
       "   GPGSTOCIndex  RGCDCIPIIndex  GDPCURIndex  GDPCURYIndex  GDPPIQQIndex  ...  \\\n",
       "0      2.423474     -26.558691  20450.95632      5.872843      3.152974  ...   \n",
       "1      2.435273     -26.953685  20454.79069      5.882098      3.159286  ...   \n",
       "\n",
       "   Nvidia_product  Philadelphia_product  QCOM_product  \\\n",
       "0        1.292525              0.951517      0.868174   \n",
       "1        0.999365              1.714843      1.659837   \n",
       "\n",
       "   ShinEtsuChemical_product  Siltronic_product  SKhynix_product  \\\n",
       "0                  0.577902           1.080397         1.289615   \n",
       "1                  1.250209           0.935965         0.638891   \n",
       "\n",
       "   Sumco_product  TokyoElectron_product  TSMC_product  UMC_product  \n",
       "0       0.634060               1.210298      0.996124     0.323529  \n",
       "1       0.949438               1.309422      1.357043     2.252817  \n",
       "\n",
       "[2 rows x 441 columns]"
      ]
     },
     "execution_count": 9,
     "metadata": {},
     "output_type": "execute_result"
    }
   ],
   "source": [
    "t60_raw.head(2)"
   ]
  },
  {
   "cell_type": "code",
   "execution_count": 10,
   "metadata": {},
   "outputs": [],
   "source": [
    "y_test = t60_raw['KRXsemiconductor_change']"
   ]
  },
  {
   "cell_type": "code",
   "execution_count": 11,
   "metadata": {},
   "outputs": [],
   "source": [
    "y_pred = t60_pred['predicted_KRXsemiconductor_change']"
   ]
  },
  {
   "cell_type": "code",
   "execution_count": 12,
   "metadata": {},
   "outputs": [
    {
     "data": {
      "text/plain": [
       "<matplotlib.axes._subplots.AxesSubplot at 0x2b05d590fd0>"
      ]
     },
     "execution_count": 12,
     "metadata": {},
     "output_type": "execute_result"
    },
    {
     "data": {
      "image/png": "[encoded data removed]",
      "text/plain": [
       "<Figure size 432x288 with 1 Axes>"
      ]
     },
     "metadata": {
      "needs_background": "light"
     },
     "output_type": "display_data"
    }
   ],
   "source": [
    "y_test.plot()"
   ]
  },
  {
   "cell_type": "code",
   "execution_count": 13,
   "metadata": {},
   "outputs": [
    {
     "data": {
      "text/plain": [
       "<matplotlib.axes._subplots.AxesSubplot at 0x2b05dd47128>"
      ]
     },
     "execution_count": 13,
     "metadata": {},
     "output_type": "execute_result"
    },
    {
     "data": {
      "image/png": "[encoded data removed]",
      "text/plain": [
       "<Figure size 432x288 with 1 Axes>"
      ]
     },
     "metadata": {
      "needs_background": "light"
     },
     "output_type": "display_data"
    }
   ],
   "source": [
    "y_pred.plot()"
   ]
  },
  {
   "cell_type": "code",
   "execution_count": 14,
   "metadata": {},
   "outputs": [
    {
     "data": {
      "text/plain": [
       "((505,), (505,))"
      ]
     },
     "execution_count": 14,
     "metadata": {},
     "output_type": "execute_result"
    }
   ],
   "source": [
    "y_pred.shape, y_test.shape"
   ]
  },
  {
   "cell_type": "code",
   "execution_count": 15,
   "metadata": {},
   "outputs": [],
   "source": [
    "# metric 구성\n",
    "\n",
    "from sklearn.metrics import mean_squared_error, r2_score, mean_absolute_error, accuracy_score\n",
    "\n",
    "class CustomMetric():\n",
    "\n",
    "    def __init__(self, pred, real):\n",
    "            self.pred = pred\n",
    "            self.real = real\n",
    "            self.thr25 = np.percentile(self.real, 25)\n",
    "            self.thr75 = np.percentile(self.real, 75)\n",
    "            self.df = pd.DataFrame({'pred' : self.pred, 'real' : self.real})\n",
    "        \n",
    "    def issame(self, data1, data2):\n",
    "        if data1 > 0 and data2 > 0 : \n",
    "            return 'T'\n",
    "        elif data1 > 0 and data2 < 0 :\n",
    "            return 'F'\n",
    "        elif data1 < 0 and data2 > 0 :\n",
    "            return 'F'\n",
    "        elif data1 < 0 and data2 < 0 :\n",
    "            return 'T'\n",
    "        elif data1 == 0 or data2 == 0 :\n",
    "            return 0\n",
    "        else :\n",
    "            return 'notcal'\n",
    "\n",
    "    def getouter(self, data1, data2): #quantile_25 = np.percentile(values, 25)\n",
    "\n",
    "        if data1 > 0 and data2 >= self.thr75 :\n",
    "            return 'T'\n",
    "        elif data1 < 0 and data2 <= self.thr25 :\n",
    "            return 'T'\n",
    "        elif data1 >= 0 and data2 <= self.thr25 :\n",
    "            return 'F'\n",
    "        elif data1 <= 0 and data2 >= self.thr75: \n",
    "            return 'F'\n",
    "        else:\n",
    "            return 'notcal'\n",
    "        \n",
    "    def makedf(self):\n",
    "        self.df['TF'] = self.df.apply(lambda x : self.issame(x['pred'], x['real']), axis = 1)\n",
    "        self.df['thrTF'] = self.df.apply(lambda x : self.getouter(x['pred'], x['real']), axis = 1)\n",
    "        \n",
    "        return self.df\n",
    "        \n",
    "    def execution(self):\n",
    "        mdf = pd.DataFrame()\n",
    "        mdf['CORR'] = [self.df['real'].corr(self.df['pred'], method = 'pearson')]\n",
    "        mdf['R2'] = [\"{0:0.4f}\".format(r2_score(self.df['real'], self.df['pred']))]\n",
    "        mdf['MAE'] = [\"{0:0.4f}\".format(mean_absolute_error(self.df['pred'], self.df['real']))]\n",
    "        mdf['RMSE'] = [\"{0:0.4f}\".format(np.sqrt(mean_squared_error(self.df['pred'], self.df['real'])))]\n",
    "        mdf['ACR'] = [sum(self.df['TF'] == 'T')/len(self.df['TF'])]\n",
    "        \n",
    "        mdf['threshACR'] = [sum(self.df['thrTF'] == 'T') / sum(self.df['thrTF'] != 'notcal')]\n",
    "        \n",
    "        return mdf"
   ]
  },
  {
   "cell_type": "code",
   "execution_count": 16,
   "metadata": {},
   "outputs": [
    {
     "data": {
      "text/html": [
       "<div>\n",
       "<style scoped>\n",
       "    .dataframe tbody tr th:only-of-type {\n",
       "        vertical-align: middle;\n",
       "    }\n",
       "\n",
       "    .dataframe tbody tr th {\n",
       "        vertical-align: top;\n",
       "    }\n",
       "\n",
       "    .dataframe thead th {\n",
       "        text-align: right;\n",
       "    }\n",
       "</style>\n",
       "<table border=\"1\" class=\"dataframe\">\n",
       "  <thead>\n",
       "    <tr style=\"text-align: right;\">\n",
       "      <th></th>\n",
       "      <th>CORR</th>\n",
       "      <th>R2</th>\n",
       "      <th>MAE</th>\n",
       "      <th>RMSE</th>\n",
       "      <th>ACR</th>\n",
       "      <th>threshACR</th>\n",
       "    </tr>\n",
       "  </thead>\n",
       "  <tbody>\n",
       "    <tr>\n",
       "      <th>0</th>\n",
       "      <td>0.207178</td>\n",
       "      <td>-0.8738</td>\n",
       "      <td>1.5271</td>\n",
       "      <td>1.7155</td>\n",
       "      <td>0.441584</td>\n",
       "      <td>0.942574</td>\n",
       "    </tr>\n",
       "  </tbody>\n",
       "</table>\n",
       "</div>"
      ],
      "text/plain": [
       "       CORR       R2     MAE    RMSE       ACR  threshACR\n",
       "0  0.207178  -0.8738  1.5271  1.7155  0.441584   0.942574"
      ]
     },
     "execution_count": 16,
     "metadata": {},
     "output_type": "execute_result"
    }
   ],
   "source": [
    "metr = CustomMetric(y_pred, y_test)\n",
    "metr.makedf()\n",
    "metr.execution()"
   ]
  },
  {
   "cell_type": "code",
   "execution_count": 17,
   "metadata": {},
   "outputs": [
    {
     "data": {
      "text/plain": [
       "-0.8737548073441816"
      ]
     },
     "execution_count": 17,
     "metadata": {},
     "output_type": "execute_result"
    }
   ],
   "source": [
    "r2_score(y_test, y_pred)"
   ]
  },
  {
   "cell_type": "code",
   "execution_count": 18,
   "metadata": {},
   "outputs": [
    {
     "data": {
      "text/plain": [
       "-24.655983543525466"
      ]
     },
     "execution_count": 18,
     "metadata": {},
     "output_type": "execute_result"
    }
   ],
   "source": [
    "r2_score(y_pred, y_test)"
   ]
  },
  {
   "cell_type": "code",
   "execution_count": null,
   "metadata": {},
   "outputs": [],
   "source": []
  }
 ],
 "metadata": {
  "kernelspec": {
   "display_name": "Python 3",
   "language": "python",
   "name": "python3"
  },
  "language_info": {
   "codemirror_mode": {
    "name": "ipython",
    "version": 3
   },
   "file_extension": ".py",
   "mimetype": "text/x-python",
   "name": "python",
   "nbconvert_exporter": "python",
   "pygments_lexer": "ipython3",
   "version": "3.7.3"
  }
 },
 "nbformat": 4,
 "nbformat_minor": 4
}
