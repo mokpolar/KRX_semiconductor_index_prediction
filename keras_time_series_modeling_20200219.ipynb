{
 "cells": [
  {
   "cell_type": "code",
   "execution_count": 1,
   "metadata": {
    "colab": {
     "base_uri": "https://localhost:8080/",
     "height": 35
    },
    "colab_type": "code",
    "executionInfo": {
     "elapsed": 8300,
     "status": "ok",
     "timestamp": 1581165233995,
     "user": {
      "displayName": "정주영",
      "photoUrl": "",
      "userId": "09017190432009937170"
     },
     "user_tz": -540
    },
    "id": "pDH3fM85_J7y",
    "outputId": "ae49c584-b8ab-432a-bb30-562d610a14c4"
   },
   "outputs": [],
   "source": [
    "try :\n",
    "    %tensorflow_version 2.x\n",
    "except Exception : \n",
    "    pass\n",
    "\n",
    "import tensorflow as tf\n",
    "\n",
    "import matplotlib as mpl\n",
    "import matplotlib.pyplot as plt\n",
    "\n",
    "from sklearn.preprocessing import StandardScaler\n",
    "\n",
    "\n",
    "import numpy as np\n",
    "import os\n",
    "import pandas as pd\n",
    "\n",
    "mpl.rcParams['figure.figsize'] = (8, 6)\n",
    "mpl.rcParams['axes.grid'] = False"
   ]
  },
  {
   "cell_type": "code",
   "execution_count": 2,
   "metadata": {},
   "outputs": [
    {
     "name": "stdout",
     "output_type": "stream",
     "text": [
      "2.1.0\n"
     ]
    }
   ],
   "source": [
    "print(tf.__version__)"
   ]
  },
  {
   "cell_type": "code",
   "execution_count": 3,
   "metadata": {
    "colab": {},
    "colab_type": "code",
    "id": "926b2k96C-CT"
   },
   "outputs": [],
   "source": [
    "df = pd.read_csv('original_full_data.csv', index_col = 0)"
   ]
  },
  {
   "cell_type": "code",
   "execution_count": 4,
   "metadata": {},
   "outputs": [],
   "source": [
    "mmdf = pd.read_csv('bloomberg_map_index_20200130.csv', index_col = 0)"
   ]
  },
  {
   "cell_type": "code",
   "execution_count": 5,
   "metadata": {
    "colab": {
     "base_uri": "https://localhost:8080/",
     "height": 343
    },
    "colab_type": "code",
    "executionInfo": {
     "elapsed": 9840,
     "status": "ok",
     "timestamp": 1581165235715,
     "user": {
      "displayName": "정주영",
      "photoUrl": "",
      "userId": "09017190432009937170"
     },
     "user_tz": -540
    },
    "id": "t4NwRpefDE_J",
    "outputId": "6b58ea8c-e1fd-4772-885e-9489cb084ead"
   },
   "outputs": [
    {
     "data": {
      "text/html": [
       "<div>\n",
       "<style scoped>\n",
       "    .dataframe tbody tr th:only-of-type {\n",
       "        vertical-align: middle;\n",
       "    }\n",
       "\n",
       "    .dataframe tbody tr th {\n",
       "        vertical-align: top;\n",
       "    }\n",
       "\n",
       "    .dataframe thead th {\n",
       "        text-align: right;\n",
       "    }\n",
       "</style>\n",
       "<table border=\"1\" class=\"dataframe\">\n",
       "  <thead>\n",
       "    <tr style=\"text-align: right;\">\n",
       "      <th></th>\n",
       "      <th>date</th>\n",
       "      <th>GDPCQOQIndex</th>\n",
       "      <th>GDPCYOYIndex</th>\n",
       "      <th>GDPCTOT%Index</th>\n",
       "      <th>GPDITOC%Index</th>\n",
       "      <th>GPGSTOC%Index</th>\n",
       "      <th>RGCDCIPIIndex</th>\n",
       "      <th>GDPCUR$Index</th>\n",
       "      <th>GDPCURYIndex</th>\n",
       "      <th>GDPPIQQIndex</th>\n",
       "      <th>...</th>\n",
       "      <th>g16</th>\n",
       "      <th>g32</th>\n",
       "      <th>g64</th>\n",
       "      <th>g128</th>\n",
       "      <th>avg</th>\n",
       "      <th>avg_four</th>\n",
       "      <th>ssd_price</th>\n",
       "      <th>flash_price</th>\n",
       "      <th>option_bit</th>\n",
       "      <th>future_bit</th>\n",
       "    </tr>\n",
       "  </thead>\n",
       "  <tbody>\n",
       "    <tr>\n",
       "      <th>0</th>\n",
       "      <td>1981-01-01</td>\n",
       "      <td>NaN</td>\n",
       "      <td>NaN</td>\n",
       "      <td>NaN</td>\n",
       "      <td>NaN</td>\n",
       "      <td>NaN</td>\n",
       "      <td>NaN</td>\n",
       "      <td>NaN</td>\n",
       "      <td>NaN</td>\n",
       "      <td>NaN</td>\n",
       "      <td>...</td>\n",
       "      <td>NaN</td>\n",
       "      <td>NaN</td>\n",
       "      <td>NaN</td>\n",
       "      <td>NaN</td>\n",
       "      <td>NaN</td>\n",
       "      <td>NaN</td>\n",
       "      <td>NaN</td>\n",
       "      <td>NaN</td>\n",
       "      <td>NaN</td>\n",
       "      <td>NaN</td>\n",
       "    </tr>\n",
       "    <tr>\n",
       "      <th>1</th>\n",
       "      <td>1981-01-02</td>\n",
       "      <td>NaN</td>\n",
       "      <td>NaN</td>\n",
       "      <td>NaN</td>\n",
       "      <td>NaN</td>\n",
       "      <td>NaN</td>\n",
       "      <td>NaN</td>\n",
       "      <td>NaN</td>\n",
       "      <td>NaN</td>\n",
       "      <td>NaN</td>\n",
       "      <td>...</td>\n",
       "      <td>NaN</td>\n",
       "      <td>NaN</td>\n",
       "      <td>NaN</td>\n",
       "      <td>NaN</td>\n",
       "      <td>NaN</td>\n",
       "      <td>NaN</td>\n",
       "      <td>NaN</td>\n",
       "      <td>NaN</td>\n",
       "      <td>NaN</td>\n",
       "      <td>NaN</td>\n",
       "    </tr>\n",
       "    <tr>\n",
       "      <th>2</th>\n",
       "      <td>1981-01-03</td>\n",
       "      <td>NaN</td>\n",
       "      <td>NaN</td>\n",
       "      <td>NaN</td>\n",
       "      <td>NaN</td>\n",
       "      <td>NaN</td>\n",
       "      <td>NaN</td>\n",
       "      <td>NaN</td>\n",
       "      <td>NaN</td>\n",
       "      <td>NaN</td>\n",
       "      <td>...</td>\n",
       "      <td>NaN</td>\n",
       "      <td>NaN</td>\n",
       "      <td>NaN</td>\n",
       "      <td>NaN</td>\n",
       "      <td>NaN</td>\n",
       "      <td>NaN</td>\n",
       "      <td>NaN</td>\n",
       "      <td>NaN</td>\n",
       "      <td>NaN</td>\n",
       "      <td>NaN</td>\n",
       "    </tr>\n",
       "    <tr>\n",
       "      <th>3</th>\n",
       "      <td>1981-01-04</td>\n",
       "      <td>NaN</td>\n",
       "      <td>NaN</td>\n",
       "      <td>NaN</td>\n",
       "      <td>NaN</td>\n",
       "      <td>NaN</td>\n",
       "      <td>NaN</td>\n",
       "      <td>NaN</td>\n",
       "      <td>NaN</td>\n",
       "      <td>NaN</td>\n",
       "      <td>...</td>\n",
       "      <td>NaN</td>\n",
       "      <td>NaN</td>\n",
       "      <td>NaN</td>\n",
       "      <td>NaN</td>\n",
       "      <td>NaN</td>\n",
       "      <td>NaN</td>\n",
       "      <td>NaN</td>\n",
       "      <td>NaN</td>\n",
       "      <td>NaN</td>\n",
       "      <td>NaN</td>\n",
       "    </tr>\n",
       "    <tr>\n",
       "      <th>4</th>\n",
       "      <td>1981-01-05</td>\n",
       "      <td>NaN</td>\n",
       "      <td>NaN</td>\n",
       "      <td>NaN</td>\n",
       "      <td>NaN</td>\n",
       "      <td>NaN</td>\n",
       "      <td>NaN</td>\n",
       "      <td>NaN</td>\n",
       "      <td>NaN</td>\n",
       "      <td>NaN</td>\n",
       "      <td>...</td>\n",
       "      <td>NaN</td>\n",
       "      <td>NaN</td>\n",
       "      <td>NaN</td>\n",
       "      <td>NaN</td>\n",
       "      <td>NaN</td>\n",
       "      <td>NaN</td>\n",
       "      <td>NaN</td>\n",
       "      <td>NaN</td>\n",
       "      <td>NaN</td>\n",
       "      <td>NaN</td>\n",
       "    </tr>\n",
       "  </tbody>\n",
       "</table>\n",
       "<p>5 rows × 417 columns</p>\n",
       "</div>"
      ],
      "text/plain": [
       "         date  GDPCQOQIndex  GDPCYOYIndex  GDPCTOT%Index  GPDITOC%Index  \\\n",
       "0  1981-01-01           NaN           NaN            NaN            NaN   \n",
       "1  1981-01-02           NaN           NaN            NaN            NaN   \n",
       "2  1981-01-03           NaN           NaN            NaN            NaN   \n",
       "3  1981-01-04           NaN           NaN            NaN            NaN   \n",
       "4  1981-01-05           NaN           NaN            NaN            NaN   \n",
       "\n",
       "   GPGSTOC%Index  RGCDCIPIIndex  GDPCUR$Index  GDPCURYIndex  GDPPIQQIndex  \\\n",
       "0            NaN            NaN           NaN           NaN           NaN   \n",
       "1            NaN            NaN           NaN           NaN           NaN   \n",
       "2            NaN            NaN           NaN           NaN           NaN   \n",
       "3            NaN            NaN           NaN           NaN           NaN   \n",
       "4            NaN            NaN           NaN           NaN           NaN   \n",
       "\n",
       "   ...  g16  g32  g64  g128  avg  avg_four  ssd_price  flash_price  \\\n",
       "0  ...  NaN  NaN  NaN   NaN  NaN       NaN        NaN          NaN   \n",
       "1  ...  NaN  NaN  NaN   NaN  NaN       NaN        NaN          NaN   \n",
       "2  ...  NaN  NaN  NaN   NaN  NaN       NaN        NaN          NaN   \n",
       "3  ...  NaN  NaN  NaN   NaN  NaN       NaN        NaN          NaN   \n",
       "4  ...  NaN  NaN  NaN   NaN  NaN       NaN        NaN          NaN   \n",
       "\n",
       "   option_bit  future_bit  \n",
       "0         NaN         NaN  \n",
       "1         NaN         NaN  \n",
       "2         NaN         NaN  \n",
       "3         NaN         NaN  \n",
       "4         NaN         NaN  \n",
       "\n",
       "[5 rows x 417 columns]"
      ]
     },
     "execution_count": 5,
     "metadata": {},
     "output_type": "execute_result"
    }
   ],
   "source": [
    "df.head()"
   ]
  },
  {
   "cell_type": "code",
   "execution_count": 6,
   "metadata": {
    "colab": {
     "base_uri": "https://localhost:8080/",
     "height": 35
    },
    "colab_type": "code",
    "executionInfo": {
     "elapsed": 7774,
     "status": "ok",
     "timestamp": 1581165235716,
     "user": {
      "displayName": "정주영",
      "photoUrl": "",
      "userId": "09017190432009937170"
     },
     "user_tz": -540
    },
    "id": "13-76RFGFBg9",
    "outputId": "4aaf548c-df81-4662-f5c4-d6f6c9febce3"
   },
   "outputs": [],
   "source": [
    "df = df.loc[9132 :, :]"
   ]
  },
  {
   "cell_type": "code",
   "execution_count": 7,
   "metadata": {},
   "outputs": [
    {
     "data": {
      "text/plain": [
       "5051"
      ]
     },
     "execution_count": 7,
     "metadata": {},
     "output_type": "execute_result"
    }
   ],
   "source": [
    "len(df)"
   ]
  },
  {
   "cell_type": "code",
   "execution_count": 8,
   "metadata": {},
   "outputs": [],
   "source": [
    "df.reset_index(inplace = True, drop = True)"
   ]
  },
  {
   "cell_type": "code",
   "execution_count": 9,
   "metadata": {},
   "outputs": [],
   "source": [
    "# Class generates derived variables & shifting target variable\n",
    "\n",
    "class Builder:\n",
    "\n",
    "    def __init__(self, input_df, map_df, target_day):\n",
    "        self.df = input_df\n",
    "        self.mdf = map_df\n",
    "        self.lag_days = [1, 5, 20, 60, 120, 260] # lagging day variation [1day 1week 1month 3month 6month 1year]\n",
    "        self.target_day = target_day # ex) 1, 260\n",
    "\n",
    "\n",
    "    # shifting function\n",
    "\n",
    "    def targeter(self, target_column):\n",
    "        self.df[target_column] = self.df[target_column].shift(-1*int(self.target_day))\n",
    "\n",
    "        return self.df\n",
    "    \n",
    "    # generating derived columns function : return ex) 20060107/20060101\n",
    "\n",
    "    def returner(self, target_column):      \n",
    "\n",
    "        col_name =  []\n",
    "        # creating new column name\n",
    "        for i in self.lag_days:\n",
    "            col_name.append(target_column + str(i))\n",
    "            \n",
    "        # appending lagged columns\n",
    "        for i, j in enumerate(self.lag_days):\n",
    "            self.df[locals()['col_name'][i]] = self.df[target_column] / self.df[target_column].shift(periods = j, axis = 0)\n",
    "\n",
    "        return self.df \n",
    "\n",
    "    # generating derived function : minus ex) 20060107 - 20060101\n",
    "    \n",
    "    def differ(self, target_column):\n",
    "\n",
    "        col_name = []\n",
    "        for i in self.lag_days:\n",
    "            col_name.append(target_column + str(i))\n",
    "        for i, j in enumerate(self.lag_days):\n",
    "            self.df[locals()['col_name'][i]] = self.df[target_column] - self.df[target_column].shift(periods = j, axis = 0)\n",
    "        return self.df\n",
    "\n",
    "    # generating derived function : volume * close  -> convert to return \n",
    "\n",
    "    def producter(self, target_column):\n",
    "\n",
    "        col_name = (str(target_column).split('_'))[0]       \n",
    "        self.df[locals()['col_name'] + '_product'] = self.df[col_name + '_volume'] * self.df[col_name + '_close'] # j volume과 j close를 곱해서 \n",
    "\n",
    "        return self.df\n",
    "    \n",
    "    # executing functions\n",
    "    \n",
    "    def execution(self):\n",
    "        for i, j in enumerate(self.mdf['ticker']): # mdf에서 ticker 확인\n",
    "            if j in self.df.columns:\n",
    "                if self.mdf.loc[i, :][1] == 'product':  # key값이 product인 경우\n",
    "                    self.producter(j)\n",
    "                    col = str(j).split('_')[0]\n",
    "                    self.df[col + '_product'] = self.df[col + '_product'] / self.df[col + '_product'].shift(1)\n",
    "                    \n",
    "                elif self.mdf.loc[i, :][1] == 'minus': # key값이 minus인 경우\n",
    "                    self.differ(j)\n",
    "\n",
    "                elif self.mdf.loc[i, :][1] == 'change': # key값이 change인 경우\n",
    "                    self.returner(j)\n",
    "\n",
    "\n",
    "                elif self.mdf.loc[i, :][1] == 'target': # key값이 target인 경우 (현재 KRXsemiconductor_change)\n",
    "                    self.targeter(j)\n",
    "\n",
    "                else:\n",
    "                    pass\n",
    "            else:\n",
    "                pass\n",
    "                            \n",
    "        return self.df\n",
    "\n",
    "\n",
    "    # side : creating auto correlation graph function\n",
    "\n",
    "    def acf_cal(self, target):\n",
    "        data = pd.DataFrame(self.df[target])\n",
    "        data = data.interpolate(method = 'cubic', limit_area = 'inside').fillna(method = 'ffill').fillna(method = 'bfill')\n",
    "        acf = sm.tsa.acf(data)      \n",
    "        plt.stem(acf)\n",
    "        plt.show()"
   ]
  },
  {
   "cell_type": "code",
   "execution_count": 10,
   "metadata": {},
   "outputs": [],
   "source": [
    "df['date'] = pd.to_datetime(df['date'])\n",
    "df.set_index('date', inplace = True)"
   ]
  },
  {
   "cell_type": "code",
   "execution_count": 11,
   "metadata": {},
   "outputs": [],
   "source": [
    "# fillna cubic -> ffill -> bfill\n",
    "\n",
    "df = df.interpolate(method = 'cubic', limit_area = 'inside')\n",
    "df = df.fillna(method = 'ffill')\n",
    "df = df.fillna(method = 'bfill')"
   ]
  },
  {
   "cell_type": "code",
   "execution_count": 12,
   "metadata": {},
   "outputs": [
    {
     "data": {
      "text/plain": [
       "0"
      ]
     },
     "execution_count": 12,
     "metadata": {},
     "output_type": "execute_result"
    }
   ],
   "source": [
    "df.isna().sum().sum()"
   ]
  },
  {
   "cell_type": "code",
   "execution_count": 13,
   "metadata": {},
   "outputs": [],
   "source": [
    "cla = Builder(df, mmdf, 1)"
   ]
  },
  {
   "cell_type": "code",
   "execution_count": 14,
   "metadata": {},
   "outputs": [
    {
     "data": {
      "text/html": [
       "<div>\n",
       "<style scoped>\n",
       "    .dataframe tbody tr th:only-of-type {\n",
       "        vertical-align: middle;\n",
       "    }\n",
       "\n",
       "    .dataframe tbody tr th {\n",
       "        vertical-align: top;\n",
       "    }\n",
       "\n",
       "    .dataframe thead th {\n",
       "        text-align: right;\n",
       "    }\n",
       "</style>\n",
       "<table border=\"1\" class=\"dataframe\">\n",
       "  <thead>\n",
       "    <tr style=\"text-align: right;\">\n",
       "      <th></th>\n",
       "      <th>GDPCQOQIndex</th>\n",
       "      <th>GDPCYOYIndex</th>\n",
       "      <th>GDPCTOT%Index</th>\n",
       "      <th>GPDITOC%Index</th>\n",
       "      <th>GPGSTOC%Index</th>\n",
       "      <th>RGCDCIPIIndex</th>\n",
       "      <th>GDPCUR$Index</th>\n",
       "      <th>GDPCURYIndex</th>\n",
       "      <th>GDPPIQQIndex</th>\n",
       "      <th>GDPCPCECIndex</th>\n",
       "      <th>...</th>\n",
       "      <th>Philadelphia_product</th>\n",
       "      <th>QCOM_product</th>\n",
       "      <th>SamsungElectronics_product</th>\n",
       "      <th>ShinEtsuChemical_product</th>\n",
       "      <th>Siltronic_product</th>\n",
       "      <th>SKhynix_product</th>\n",
       "      <th>Sumco_product</th>\n",
       "      <th>TokyoElectron_product</th>\n",
       "      <th>TSMC_product</th>\n",
       "      <th>UMC_product</th>\n",
       "    </tr>\n",
       "    <tr>\n",
       "      <th>date</th>\n",
       "      <th></th>\n",
       "      <th></th>\n",
       "      <th></th>\n",
       "      <th></th>\n",
       "      <th></th>\n",
       "      <th></th>\n",
       "      <th></th>\n",
       "      <th></th>\n",
       "      <th></th>\n",
       "      <th></th>\n",
       "      <th></th>\n",
       "      <th></th>\n",
       "      <th></th>\n",
       "      <th></th>\n",
       "      <th></th>\n",
       "      <th></th>\n",
       "      <th></th>\n",
       "      <th></th>\n",
       "      <th></th>\n",
       "      <th></th>\n",
       "      <th></th>\n",
       "    </tr>\n",
       "  </thead>\n",
       "  <tbody>\n",
       "    <tr>\n",
       "      <th>2006-01-02</th>\n",
       "      <td>5.4</td>\n",
       "      <td>3.4</td>\n",
       "      <td>4.5</td>\n",
       "      <td>6.1</td>\n",
       "      <td>5.2</td>\n",
       "      <td>102.7</td>\n",
       "      <td>13603.93</td>\n",
       "      <td>6.6</td>\n",
       "      <td>2.8</td>\n",
       "      <td>2.3</td>\n",
       "      <td>...</td>\n",
       "      <td>NaN</td>\n",
       "      <td>NaN</td>\n",
       "      <td>NaN</td>\n",
       "      <td>NaN</td>\n",
       "      <td>NaN</td>\n",
       "      <td>NaN</td>\n",
       "      <td>NaN</td>\n",
       "      <td>NaN</td>\n",
       "      <td>NaN</td>\n",
       "      <td>NaN</td>\n",
       "    </tr>\n",
       "    <tr>\n",
       "      <th>2006-01-03</th>\n",
       "      <td>5.4</td>\n",
       "      <td>3.4</td>\n",
       "      <td>4.5</td>\n",
       "      <td>6.1</td>\n",
       "      <td>5.2</td>\n",
       "      <td>102.7</td>\n",
       "      <td>13603.93</td>\n",
       "      <td>6.6</td>\n",
       "      <td>2.8</td>\n",
       "      <td>2.3</td>\n",
       "      <td>...</td>\n",
       "      <td>1.000000</td>\n",
       "      <td>1.000000</td>\n",
       "      <td>0.862009</td>\n",
       "      <td>1.000000</td>\n",
       "      <td>1.000000</td>\n",
       "      <td>1.048766</td>\n",
       "      <td>1.000000</td>\n",
       "      <td>1.000000</td>\n",
       "      <td>1.000000</td>\n",
       "      <td>1.000000</td>\n",
       "    </tr>\n",
       "    <tr>\n",
       "      <th>2006-01-04</th>\n",
       "      <td>5.4</td>\n",
       "      <td>3.4</td>\n",
       "      <td>4.5</td>\n",
       "      <td>6.1</td>\n",
       "      <td>5.2</td>\n",
       "      <td>102.7</td>\n",
       "      <td>13603.93</td>\n",
       "      <td>6.6</td>\n",
       "      <td>2.8</td>\n",
       "      <td>2.3</td>\n",
       "      <td>...</td>\n",
       "      <td>0.967923</td>\n",
       "      <td>1.097724</td>\n",
       "      <td>2.307115</td>\n",
       "      <td>1.000000</td>\n",
       "      <td>1.000000</td>\n",
       "      <td>1.549763</td>\n",
       "      <td>1.000000</td>\n",
       "      <td>1.000000</td>\n",
       "      <td>0.788606</td>\n",
       "      <td>0.581332</td>\n",
       "    </tr>\n",
       "    <tr>\n",
       "      <th>2006-01-05</th>\n",
       "      <td>5.4</td>\n",
       "      <td>3.4</td>\n",
       "      <td>4.5</td>\n",
       "      <td>6.1</td>\n",
       "      <td>5.2</td>\n",
       "      <td>102.7</td>\n",
       "      <td>13603.93</td>\n",
       "      <td>6.6</td>\n",
       "      <td>2.8</td>\n",
       "      <td>2.3</td>\n",
       "      <td>...</td>\n",
       "      <td>1.168471</td>\n",
       "      <td>0.642743</td>\n",
       "      <td>0.878133</td>\n",
       "      <td>1.000000</td>\n",
       "      <td>1.000000</td>\n",
       "      <td>0.913503</td>\n",
       "      <td>1.000000</td>\n",
       "      <td>4.149537</td>\n",
       "      <td>0.835657</td>\n",
       "      <td>2.780952</td>\n",
       "    </tr>\n",
       "    <tr>\n",
       "      <th>2006-01-06</th>\n",
       "      <td>5.4</td>\n",
       "      <td>3.4</td>\n",
       "      <td>4.5</td>\n",
       "      <td>6.1</td>\n",
       "      <td>5.2</td>\n",
       "      <td>102.7</td>\n",
       "      <td>13603.93</td>\n",
       "      <td>6.6</td>\n",
       "      <td>2.8</td>\n",
       "      <td>2.3</td>\n",
       "      <td>...</td>\n",
       "      <td>1.047620</td>\n",
       "      <td>2.572150</td>\n",
       "      <td>0.504080</td>\n",
       "      <td>1.000000</td>\n",
       "      <td>1.000000</td>\n",
       "      <td>0.596882</td>\n",
       "      <td>1.000000</td>\n",
       "      <td>1.117321</td>\n",
       "      <td>1.553101</td>\n",
       "      <td>1.545230</td>\n",
       "    </tr>\n",
       "    <tr>\n",
       "      <th>...</th>\n",
       "      <td>...</td>\n",
       "      <td>...</td>\n",
       "      <td>...</td>\n",
       "      <td>...</td>\n",
       "      <td>...</td>\n",
       "      <td>...</td>\n",
       "      <td>...</td>\n",
       "      <td>...</td>\n",
       "      <td>...</td>\n",
       "      <td>...</td>\n",
       "      <td>...</td>\n",
       "      <td>...</td>\n",
       "      <td>...</td>\n",
       "      <td>...</td>\n",
       "      <td>...</td>\n",
       "      <td>...</td>\n",
       "      <td>...</td>\n",
       "      <td>...</td>\n",
       "      <td>...</td>\n",
       "      <td>...</td>\n",
       "      <td>...</td>\n",
       "    </tr>\n",
       "    <tr>\n",
       "      <th>2019-10-27</th>\n",
       "      <td>1.9</td>\n",
       "      <td>2.0</td>\n",
       "      <td>2.9</td>\n",
       "      <td>-1.5</td>\n",
       "      <td>2.0</td>\n",
       "      <td>69.0</td>\n",
       "      <td>21525.82</td>\n",
       "      <td>3.7</td>\n",
       "      <td>1.7</td>\n",
       "      <td>2.2</td>\n",
       "      <td>...</td>\n",
       "      <td>0.954025</td>\n",
       "      <td>1.223596</td>\n",
       "      <td>-7.016632</td>\n",
       "      <td>1.443049</td>\n",
       "      <td>0.882592</td>\n",
       "      <td>0.724875</td>\n",
       "      <td>0.591650</td>\n",
       "      <td>1.185079</td>\n",
       "      <td>0.728242</td>\n",
       "      <td>8.957344</td>\n",
       "    </tr>\n",
       "    <tr>\n",
       "      <th>2019-10-28</th>\n",
       "      <td>1.9</td>\n",
       "      <td>2.0</td>\n",
       "      <td>2.9</td>\n",
       "      <td>-1.5</td>\n",
       "      <td>2.0</td>\n",
       "      <td>69.0</td>\n",
       "      <td>21525.82</td>\n",
       "      <td>3.7</td>\n",
       "      <td>1.7</td>\n",
       "      <td>2.2</td>\n",
       "      <td>...</td>\n",
       "      <td>0.988696</td>\n",
       "      <td>0.869484</td>\n",
       "      <td>3.268112</td>\n",
       "      <td>0.911087</td>\n",
       "      <td>0.984864</td>\n",
       "      <td>0.598464</td>\n",
       "      <td>0.436636</td>\n",
       "      <td>1.103782</td>\n",
       "      <td>1.596400</td>\n",
       "      <td>-4.887075</td>\n",
       "    </tr>\n",
       "    <tr>\n",
       "      <th>2019-10-29</th>\n",
       "      <td>1.9</td>\n",
       "      <td>2.0</td>\n",
       "      <td>2.9</td>\n",
       "      <td>-1.5</td>\n",
       "      <td>2.0</td>\n",
       "      <td>69.0</td>\n",
       "      <td>21525.82</td>\n",
       "      <td>3.7</td>\n",
       "      <td>1.7</td>\n",
       "      <td>2.2</td>\n",
       "      <td>...</td>\n",
       "      <td>1.023202</td>\n",
       "      <td>0.493114</td>\n",
       "      <td>1.174228</td>\n",
       "      <td>0.410159</td>\n",
       "      <td>1.089446</td>\n",
       "      <td>0.832789</td>\n",
       "      <td>1.231150</td>\n",
       "      <td>1.131356</td>\n",
       "      <td>1.864625</td>\n",
       "      <td>2.523049</td>\n",
       "    </tr>\n",
       "    <tr>\n",
       "      <th>2019-10-30</th>\n",
       "      <td>1.9</td>\n",
       "      <td>2.0</td>\n",
       "      <td>2.9</td>\n",
       "      <td>-1.5</td>\n",
       "      <td>2.0</td>\n",
       "      <td>69.0</td>\n",
       "      <td>21525.82</td>\n",
       "      <td>3.7</td>\n",
       "      <td>1.7</td>\n",
       "      <td>2.2</td>\n",
       "      <td>...</td>\n",
       "      <td>0.925346</td>\n",
       "      <td>0.793448</td>\n",
       "      <td>1.165541</td>\n",
       "      <td>0.758679</td>\n",
       "      <td>1.083804</td>\n",
       "      <td>1.150234</td>\n",
       "      <td>0.694483</td>\n",
       "      <td>1.647300</td>\n",
       "      <td>0.877406</td>\n",
       "      <td>0.370442</td>\n",
       "    </tr>\n",
       "    <tr>\n",
       "      <th>2019-10-31</th>\n",
       "      <td>1.9</td>\n",
       "      <td>2.0</td>\n",
       "      <td>2.9</td>\n",
       "      <td>-1.5</td>\n",
       "      <td>2.0</td>\n",
       "      <td>69.0</td>\n",
       "      <td>21525.82</td>\n",
       "      <td>3.7</td>\n",
       "      <td>1.7</td>\n",
       "      <td>2.2</td>\n",
       "      <td>...</td>\n",
       "      <td>1.120675</td>\n",
       "      <td>1.415651</td>\n",
       "      <td>1.150159</td>\n",
       "      <td>2.028561</td>\n",
       "      <td>1.141342</td>\n",
       "      <td>1.033135</td>\n",
       "      <td>1.118354</td>\n",
       "      <td>1.453485</td>\n",
       "      <td>1.324952</td>\n",
       "      <td>2.656823</td>\n",
       "    </tr>\n",
       "  </tbody>\n",
       "</table>\n",
       "<p>5051 rows × 1138 columns</p>\n",
       "</div>"
      ],
      "text/plain": [
       "            GDPCQOQIndex  GDPCYOYIndex  GDPCTOT%Index  GPDITOC%Index  \\\n",
       "date                                                                   \n",
       "2006-01-02           5.4           3.4            4.5            6.1   \n",
       "2006-01-03           5.4           3.4            4.5            6.1   \n",
       "2006-01-04           5.4           3.4            4.5            6.1   \n",
       "2006-01-05           5.4           3.4            4.5            6.1   \n",
       "2006-01-06           5.4           3.4            4.5            6.1   \n",
       "...                  ...           ...            ...            ...   \n",
       "2019-10-27           1.9           2.0            2.9           -1.5   \n",
       "2019-10-28           1.9           2.0            2.9           -1.5   \n",
       "2019-10-29           1.9           2.0            2.9           -1.5   \n",
       "2019-10-30           1.9           2.0            2.9           -1.5   \n",
       "2019-10-31           1.9           2.0            2.9           -1.5   \n",
       "\n",
       "            GPGSTOC%Index  RGCDCIPIIndex  GDPCUR$Index  GDPCURYIndex  \\\n",
       "date                                                                   \n",
       "2006-01-02            5.2          102.7      13603.93           6.6   \n",
       "2006-01-03            5.2          102.7      13603.93           6.6   \n",
       "2006-01-04            5.2          102.7      13603.93           6.6   \n",
       "2006-01-05            5.2          102.7      13603.93           6.6   \n",
       "2006-01-06            5.2          102.7      13603.93           6.6   \n",
       "...                   ...            ...           ...           ...   \n",
       "2019-10-27            2.0           69.0      21525.82           3.7   \n",
       "2019-10-28            2.0           69.0      21525.82           3.7   \n",
       "2019-10-29            2.0           69.0      21525.82           3.7   \n",
       "2019-10-30            2.0           69.0      21525.82           3.7   \n",
       "2019-10-31            2.0           69.0      21525.82           3.7   \n",
       "\n",
       "            GDPPIQQIndex  GDPCPCECIndex  ...  Philadelphia_product  \\\n",
       "date                                     ...                         \n",
       "2006-01-02           2.8            2.3  ...                   NaN   \n",
       "2006-01-03           2.8            2.3  ...              1.000000   \n",
       "2006-01-04           2.8            2.3  ...              0.967923   \n",
       "2006-01-05           2.8            2.3  ...              1.168471   \n",
       "2006-01-06           2.8            2.3  ...              1.047620   \n",
       "...                  ...            ...  ...                   ...   \n",
       "2019-10-27           1.7            2.2  ...              0.954025   \n",
       "2019-10-28           1.7            2.2  ...              0.988696   \n",
       "2019-10-29           1.7            2.2  ...              1.023202   \n",
       "2019-10-30           1.7            2.2  ...              0.925346   \n",
       "2019-10-31           1.7            2.2  ...              1.120675   \n",
       "\n",
       "            QCOM_product  SamsungElectronics_product  \\\n",
       "date                                                   \n",
       "2006-01-02           NaN                         NaN   \n",
       "2006-01-03      1.000000                    0.862009   \n",
       "2006-01-04      1.097724                    2.307115   \n",
       "2006-01-05      0.642743                    0.878133   \n",
       "2006-01-06      2.572150                    0.504080   \n",
       "...                  ...                         ...   \n",
       "2019-10-27      1.223596                   -7.016632   \n",
       "2019-10-28      0.869484                    3.268112   \n",
       "2019-10-29      0.493114                    1.174228   \n",
       "2019-10-30      0.793448                    1.165541   \n",
       "2019-10-31      1.415651                    1.150159   \n",
       "\n",
       "            ShinEtsuChemical_product  Siltronic_product  SKhynix_product  \\\n",
       "date                                                                       \n",
       "2006-01-02                       NaN                NaN              NaN   \n",
       "2006-01-03                  1.000000           1.000000         1.048766   \n",
       "2006-01-04                  1.000000           1.000000         1.549763   \n",
       "2006-01-05                  1.000000           1.000000         0.913503   \n",
       "2006-01-06                  1.000000           1.000000         0.596882   \n",
       "...                              ...                ...              ...   \n",
       "2019-10-27                  1.443049           0.882592         0.724875   \n",
       "2019-10-28                  0.911087           0.984864         0.598464   \n",
       "2019-10-29                  0.410159           1.089446         0.832789   \n",
       "2019-10-30                  0.758679           1.083804         1.150234   \n",
       "2019-10-31                  2.028561           1.141342         1.033135   \n",
       "\n",
       "            Sumco_product  TokyoElectron_product  TSMC_product  UMC_product  \n",
       "date                                                                         \n",
       "2006-01-02            NaN                    NaN           NaN          NaN  \n",
       "2006-01-03       1.000000               1.000000      1.000000     1.000000  \n",
       "2006-01-04       1.000000               1.000000      0.788606     0.581332  \n",
       "2006-01-05       1.000000               4.149537      0.835657     2.780952  \n",
       "2006-01-06       1.000000               1.117321      1.553101     1.545230  \n",
       "...                   ...                    ...           ...          ...  \n",
       "2019-10-27       0.591650               1.185079      0.728242     8.957344  \n",
       "2019-10-28       0.436636               1.103782      1.596400    -4.887075  \n",
       "2019-10-29       1.231150               1.131356      1.864625     2.523049  \n",
       "2019-10-30       0.694483               1.647300      0.877406     0.370442  \n",
       "2019-10-31       1.118354               1.453485      1.324952     2.656823  \n",
       "\n",
       "[5051 rows x 1138 columns]"
      ]
     },
     "execution_count": 14,
     "metadata": {},
     "output_type": "execute_result"
    }
   ],
   "source": [
    "cla.execution()"
   ]
  },
  {
   "cell_type": "code",
   "execution_count": 15,
   "metadata": {},
   "outputs": [],
   "source": [
    "df = cla.df.fillna(method = 'ffill').fillna(method = 'bfill')"
   ]
  },
  {
   "cell_type": "code",
   "execution_count": 16,
   "metadata": {},
   "outputs": [],
   "source": [
    "df.reset_index(inplace = True)"
   ]
  },
  {
   "cell_type": "code",
   "execution_count": 17,
   "metadata": {
    "colab": {},
    "colab_type": "code",
    "id": "PZFQHf-xGoI2"
   },
   "outputs": [],
   "source": [
    "TRAIN_SPLIT = 3000 # 3000부터 대강 쪼개면 될듯"
   ]
  },
  {
   "cell_type": "code",
   "execution_count": 18,
   "metadata": {
    "colab": {},
    "colab_type": "code",
    "id": "KA5hdpgsGqFr"
   },
   "outputs": [],
   "source": [
    "tf.random.set_seed(13)"
   ]
  },
  {
   "cell_type": "code",
   "execution_count": 19,
   "metadata": {
    "colab": {},
    "colab_type": "code",
    "id": "fKeDFSM4JpUF"
   },
   "outputs": [],
   "source": [
    "def create_time_steps(length): # 이전 len 5 4 3 2 1 이렇게 스텝 생성하는 function\n",
    "    return list(range(-length, 0))"
   ]
  },
  {
   "cell_type": "code",
   "execution_count": 20,
   "metadata": {},
   "outputs": [],
   "source": [
    "def show_plot(plot_data, delta, title):\n",
    "    labels = ['History', 'True Future', 'Model Prediction']\n",
    "    marker = ['.-', 'rx', 'go']\n",
    "\n",
    "    time_steps = create_time_steps(plot_data[0].shape[0]) # 들어가는 plot_data 는 x_train_uni , 20개 하고 label y_train_uni 하나니까 그래프가 저렇게 \n",
    "\n",
    "    if delta: # delta는 y_train \n",
    "        future = delta # 확인 결과 True난 1이거나 값이 있으면 실행 False, 0 , None인 경우 미 실행 delta가 값이 있으면 그걸로 받는것이다 (1이상))\n",
    "    else :\n",
    "        future = 0\n",
    "\n",
    "\n",
    "\n",
    "    plt.title(title) # 이건 걍 title\n",
    "    for i, x in enumerate(plot_data): # plot data 순회 -> 마지막 깨달음 아 시박 x y가 둘 다 들어갔으니 당연히 0, 1이지 시발\n",
    "\n",
    "        if i: # 0이면 ? plot_data [0] 에 대해서만 이 그림을 그리고 처음에 밑그림을 그릴 필요가 있어서 이렇게 짠거인듯. 0 False None 빼고 다 출력\n",
    "                        \n",
    "            plt.plot(future, plot_data[i], marker[i], markersize = 5, # else를 보고 이걸 보면.. 처음에 전체 데이터를 가지고 그림을 그린 다음 그냥 마지막 것만 실행하며 덧씌우고\n",
    "                     # future를 가지고 True Future 점을 하나 찍는 형태가 된거임. \n",
    "                     label = labels[i]) # label 의 1이 적용이 된건데? marker의 1이 적용이 되고, plot\n",
    "            \n",
    "        else: # 0 False None 인경우 인듯. 0인 경우 그림을 그림 time_steps plot_data[i] (x_train_uni0길이만큼 정수 : 0 ~ 20) flatten을 하는 이유는 그냥 한줄로 넣으려고. np는그게도나봄. \n",
    "            plt.plot(time_steps, plot_data[i].flatten(), marker[i], label = labels[i]) # label도 label의 0~ 20번째 근데 라벨값은 하나아냐?  아 0이니까. \n",
    "    # 점을 찍었다면 x축은 어디가 되는건가? 아 알겠군 -> time step이 필요했던건 real값과 prediction값을 다른 선상에 두기 위해서였다. \n",
    "    plt.legend()\n",
    "    plt.xlim([time_steps[0], (future+5)*2])\n",
    "    plt.xlabel('Time-Step')\n",
    "\n",
    "    return plt"
   ]
  },
  {
   "cell_type": "code",
   "execution_count": 21,
   "metadata": {
    "colab": {},
    "colab_type": "code",
    "id": "tfVGz8_uPCEX"
   },
   "outputs": [],
   "source": [
    "features_considered = ['SKhynix_change', 'Philadelphia_change', 'Micron_change', 'MediaTek_change', 'USDollarIndex_close', 'FRNTTNETIndex', 'Intel_product', 'USD_KRW_change', 'CPUPXCHGIndex', 'KOBONTLIndex', 'RSTAMOMIndex', 'KOEXPTIYIndex', 'KOCPIMOMIndex', 'Dell_close', 'Dell_volume', 'GPGSTOC%Index', 'SKLIOTARIndex', 'Nvidia_volume', 'SKCIMOMIndex', 'KOCGCGYIndex', 'KOECPRCYIndex', 'LEIBPIndex', 'AMD_change', 'JOLTSEPSIndex', 'HPE_close', 'Sumco_change', 'KOGFBALIndex', 'CNFREXPYIndex', 'TokyoElectron_close', 'EUR_KRW_close', 'KOBPFINIndex', 'Amazon_change', 'UMC_product', 'KOECGVTYIndex', 'KOBPCAIndex', 'KOECIMPYIndex', 'NAPMNMIIndex', 'USWHTOTIndex', 'Amazon_volume', 'KOECFCSYIndex', 'Google_product', 'KOFDITYIndex', 'KOQEEYOYIndex', 'TokyoElectron_volume', 'CNGDPYOYIndex', 'MBRXYOYWIndex', 'ShinEtsuChemical_volume', 'USTBEXPYIndex', 'AppliedMaterials_product', 'QCOM_product', 'SKhynix_product', 'UMC_volume', 'APPLE_product', 'KOECSIMQIndex', 'SKLICPYIndex', 'SKLICONEIndex', 'LEIMNOIndex', 'SAARDTOTIndex', 'KOBPCBIndex', 'USHEYOYIndex', 'USEMNCHGIndex', 'MGT2MAIndex', 'KOPPIMOMIndex', 'KOIVCONYIndex', 'Intel_volume', 'g16', 'AMD_product', 'KOEXTOTIndex', 'KOFETOTIndex', 'SKLINBARIndex', 'ssd_price', 'SKLILAPIndex', 'KOCPIIndex', 'TSMC_product', 'KOPPIYOYIndex', 'Philadelphia_volume', 'APPLE_volume', 'RSTAYOYIndex', 'Micron_product', 'Micron_volume', 'PITLCHNGIndex', 'SAARTOTLIndex', 'EUR_KRW_volume', 'JPY_KRW_volume', 'USDollarIndex_volume', 'USD_KRW_volume', 'TokyoElectron_change', 'Intel_change', 'KOWDRIndex', 'Nvidia_product', 'ShinEtsuChemical_close', 'memory_price', 'NFPTCHIndex', 'NFPPCHIndex', 'KOGDPYOYIndex', 'KOEAEPRIndex', 'USGG3MIndex', 'SKLILAIIndex']"
   ]
  },
  {
   "cell_type": "code",
   "execution_count": 22,
   "metadata": {},
   "outputs": [],
   "source": [
    "target_considered = ['KRXsemiconductor_change']"
   ]
  },
  {
   "cell_type": "code",
   "execution_count": 23,
   "metadata": {},
   "outputs": [],
   "source": [
    "targets = df[target_considered]"
   ]
  },
  {
   "cell_type": "code",
   "execution_count": 24,
   "metadata": {
    "colab": {},
    "colab_type": "code",
    "id": "p7SKhFYrPOCh"
   },
   "outputs": [],
   "source": [
    "features = df[features_considered]"
   ]
  },
  {
   "cell_type": "code",
   "execution_count": 25,
   "metadata": {
    "colab": {},
    "colab_type": "code",
    "id": "BtCzPrLXPQYN"
   },
   "outputs": [],
   "source": [
    "features.index = df['date']\n",
    "targets.index = df['date']"
   ]
  },
  {
   "cell_type": "code",
   "execution_count": 26,
   "metadata": {
    "colab": {
     "base_uri": "https://localhost:8080/",
     "height": 235
    },
    "colab_type": "code",
    "executionInfo": {
     "elapsed": 22478,
     "status": "ok",
     "timestamp": 1581165334473,
     "user": {
      "displayName": "정주영",
      "photoUrl": "",
      "userId": "09017190432009937170"
     },
     "user_tz": -540
    },
    "id": "oad6IsWyQAlm",
    "outputId": "4a7b752c-9227-4c43-c75b-7f3ae60e25c2"
   },
   "outputs": [
    {
     "data": {
      "text/html": [
       "<div>\n",
       "<style scoped>\n",
       "    .dataframe tbody tr th:only-of-type {\n",
       "        vertical-align: middle;\n",
       "    }\n",
       "\n",
       "    .dataframe tbody tr th {\n",
       "        vertical-align: top;\n",
       "    }\n",
       "\n",
       "    .dataframe thead th {\n",
       "        text-align: right;\n",
       "    }\n",
       "</style>\n",
       "<table border=\"1\" class=\"dataframe\">\n",
       "  <thead>\n",
       "    <tr style=\"text-align: right;\">\n",
       "      <th></th>\n",
       "      <th>SKhynix_change</th>\n",
       "      <th>Philadelphia_change</th>\n",
       "      <th>Micron_change</th>\n",
       "      <th>MediaTek_change</th>\n",
       "      <th>USDollarIndex_close</th>\n",
       "      <th>FRNTTNETIndex</th>\n",
       "      <th>Intel_product</th>\n",
       "      <th>USD_KRW_change</th>\n",
       "      <th>CPUPXCHGIndex</th>\n",
       "      <th>KOBONTLIndex</th>\n",
       "      <th>...</th>\n",
       "      <th>KOWDRIndex</th>\n",
       "      <th>Nvidia_product</th>\n",
       "      <th>ShinEtsuChemical_close</th>\n",
       "      <th>memory_price</th>\n",
       "      <th>NFPTCHIndex</th>\n",
       "      <th>NFPPCHIndex</th>\n",
       "      <th>KOGDPYOYIndex</th>\n",
       "      <th>KOEAEPRIndex</th>\n",
       "      <th>USGG3MIndex</th>\n",
       "      <th>SKLILAIIndex</th>\n",
       "    </tr>\n",
       "    <tr>\n",
       "      <th>date</th>\n",
       "      <th></th>\n",
       "      <th></th>\n",
       "      <th></th>\n",
       "      <th></th>\n",
       "      <th></th>\n",
       "      <th></th>\n",
       "      <th></th>\n",
       "      <th></th>\n",
       "      <th></th>\n",
       "      <th></th>\n",
       "      <th></th>\n",
       "      <th></th>\n",
       "      <th></th>\n",
       "      <th></th>\n",
       "      <th></th>\n",
       "      <th></th>\n",
       "      <th></th>\n",
       "      <th></th>\n",
       "      <th></th>\n",
       "      <th></th>\n",
       "      <th></th>\n",
       "    </tr>\n",
       "  </thead>\n",
       "  <tbody>\n",
       "    <tr>\n",
       "      <th>2006-01-02</th>\n",
       "      <td>6.52</td>\n",
       "      <td>2.845</td>\n",
       "      <td>1.50</td>\n",
       "      <td>5.21</td>\n",
       "      <td>89.84</td>\n",
       "      <td>232.248</td>\n",
       "      <td>1.000000</td>\n",
       "      <td>0.53</td>\n",
       "      <td>0.2</td>\n",
       "      <td>11299.0</td>\n",
       "      <td>...</td>\n",
       "      <td>20.5</td>\n",
       "      <td>1.000000</td>\n",
       "      <td>10.19</td>\n",
       "      <td>0.112212</td>\n",
       "      <td>278.0</td>\n",
       "      <td>310.0</td>\n",
       "      <td>6.4</td>\n",
       "      <td>58.5</td>\n",
       "      <td>4.0736</td>\n",
       "      <td>2640.2</td>\n",
       "    </tr>\n",
       "    <tr>\n",
       "      <th>2006-01-03</th>\n",
       "      <td>1.33</td>\n",
       "      <td>2.845</td>\n",
       "      <td>1.50</td>\n",
       "      <td>5.21</td>\n",
       "      <td>89.84</td>\n",
       "      <td>232.248</td>\n",
       "      <td>1.000000</td>\n",
       "      <td>-0.82</td>\n",
       "      <td>0.2</td>\n",
       "      <td>11299.0</td>\n",
       "      <td>...</td>\n",
       "      <td>20.5</td>\n",
       "      <td>1.000000</td>\n",
       "      <td>10.19</td>\n",
       "      <td>0.112212</td>\n",
       "      <td>278.0</td>\n",
       "      <td>310.0</td>\n",
       "      <td>6.4</td>\n",
       "      <td>58.5</td>\n",
       "      <td>4.1144</td>\n",
       "      <td>2640.2</td>\n",
       "    </tr>\n",
       "    <tr>\n",
       "      <th>2006-01-04</th>\n",
       "      <td>-7.35</td>\n",
       "      <td>0.722</td>\n",
       "      <td>4.00</td>\n",
       "      <td>5.21</td>\n",
       "      <td>89.14</td>\n",
       "      <td>232.248</td>\n",
       "      <td>0.829714</td>\n",
       "      <td>-0.61</td>\n",
       "      <td>0.2</td>\n",
       "      <td>11299.0</td>\n",
       "      <td>...</td>\n",
       "      <td>20.5</td>\n",
       "      <td>1.109161</td>\n",
       "      <td>10.19</td>\n",
       "      <td>0.112212</td>\n",
       "      <td>278.0</td>\n",
       "      <td>310.0</td>\n",
       "      <td>6.4</td>\n",
       "      <td>58.5</td>\n",
       "      <td>4.1798</td>\n",
       "      <td>2640.2</td>\n",
       "    </tr>\n",
       "    <tr>\n",
       "      <th>2006-01-05</th>\n",
       "      <td>-1.98</td>\n",
       "      <td>2.386</td>\n",
       "      <td>0.93</td>\n",
       "      <td>5.21</td>\n",
       "      <td>89.33</td>\n",
       "      <td>232.248</td>\n",
       "      <td>1.204864</td>\n",
       "      <td>-0.36</td>\n",
       "      <td>0.2</td>\n",
       "      <td>11299.0</td>\n",
       "      <td>...</td>\n",
       "      <td>20.5</td>\n",
       "      <td>1.294707</td>\n",
       "      <td>10.19</td>\n",
       "      <td>0.112212</td>\n",
       "      <td>278.0</td>\n",
       "      <td>310.0</td>\n",
       "      <td>6.4</td>\n",
       "      <td>58.5</td>\n",
       "      <td>4.1793</td>\n",
       "      <td>2640.2</td>\n",
       "    </tr>\n",
       "    <tr>\n",
       "      <th>2006-01-06</th>\n",
       "      <td>1.30</td>\n",
       "      <td>2.169</td>\n",
       "      <td>2.05</td>\n",
       "      <td>5.21</td>\n",
       "      <td>88.85</td>\n",
       "      <td>232.248</td>\n",
       "      <td>0.833842</td>\n",
       "      <td>-0.55</td>\n",
       "      <td>0.2</td>\n",
       "      <td>11299.0</td>\n",
       "      <td>...</td>\n",
       "      <td>20.5</td>\n",
       "      <td>0.980556</td>\n",
       "      <td>10.19</td>\n",
       "      <td>0.112212</td>\n",
       "      <td>278.0</td>\n",
       "      <td>310.0</td>\n",
       "      <td>6.4</td>\n",
       "      <td>58.5</td>\n",
       "      <td>4.1985</td>\n",
       "      <td>2640.2</td>\n",
       "    </tr>\n",
       "  </tbody>\n",
       "</table>\n",
       "<p>5 rows × 98 columns</p>\n",
       "</div>"
      ],
      "text/plain": [
       "            SKhynix_change  Philadelphia_change  Micron_change  \\\n",
       "date                                                             \n",
       "2006-01-02            6.52                2.845           1.50   \n",
       "2006-01-03            1.33                2.845           1.50   \n",
       "2006-01-04           -7.35                0.722           4.00   \n",
       "2006-01-05           -1.98                2.386           0.93   \n",
       "2006-01-06            1.30                2.169           2.05   \n",
       "\n",
       "            MediaTek_change  USDollarIndex_close  FRNTTNETIndex  \\\n",
       "date                                                              \n",
       "2006-01-02             5.21                89.84        232.248   \n",
       "2006-01-03             5.21                89.84        232.248   \n",
       "2006-01-04             5.21                89.14        232.248   \n",
       "2006-01-05             5.21                89.33        232.248   \n",
       "2006-01-06             5.21                88.85        232.248   \n",
       "\n",
       "            Intel_product  USD_KRW_change  CPUPXCHGIndex  KOBONTLIndex  ...  \\\n",
       "date                                                                    ...   \n",
       "2006-01-02       1.000000            0.53            0.2       11299.0  ...   \n",
       "2006-01-03       1.000000           -0.82            0.2       11299.0  ...   \n",
       "2006-01-04       0.829714           -0.61            0.2       11299.0  ...   \n",
       "2006-01-05       1.204864           -0.36            0.2       11299.0  ...   \n",
       "2006-01-06       0.833842           -0.55            0.2       11299.0  ...   \n",
       "\n",
       "            KOWDRIndex  Nvidia_product  ShinEtsuChemical_close  memory_price  \\\n",
       "date                                                                           \n",
       "2006-01-02        20.5        1.000000                   10.19      0.112212   \n",
       "2006-01-03        20.5        1.000000                   10.19      0.112212   \n",
       "2006-01-04        20.5        1.109161                   10.19      0.112212   \n",
       "2006-01-05        20.5        1.294707                   10.19      0.112212   \n",
       "2006-01-06        20.5        0.980556                   10.19      0.112212   \n",
       "\n",
       "            NFPTCHIndex  NFPPCHIndex  KOGDPYOYIndex  KOEAEPRIndex  \\\n",
       "date                                                                \n",
       "2006-01-02        278.0        310.0            6.4          58.5   \n",
       "2006-01-03        278.0        310.0            6.4          58.5   \n",
       "2006-01-04        278.0        310.0            6.4          58.5   \n",
       "2006-01-05        278.0        310.0            6.4          58.5   \n",
       "2006-01-06        278.0        310.0            6.4          58.5   \n",
       "\n",
       "            USGG3MIndex  SKLILAIIndex  \n",
       "date                                   \n",
       "2006-01-02       4.0736        2640.2  \n",
       "2006-01-03       4.1144        2640.2  \n",
       "2006-01-04       4.1798        2640.2  \n",
       "2006-01-05       4.1793        2640.2  \n",
       "2006-01-06       4.1985        2640.2  \n",
       "\n",
       "[5 rows x 98 columns]"
      ]
     },
     "execution_count": 26,
     "metadata": {},
     "output_type": "execute_result"
    }
   ],
   "source": [
    "features.head()"
   ]
  },
  {
   "cell_type": "code",
   "execution_count": 27,
   "metadata": {},
   "outputs": [
    {
     "data": {
      "text/html": [
       "<div>\n",
       "<style scoped>\n",
       "    .dataframe tbody tr th:only-of-type {\n",
       "        vertical-align: middle;\n",
       "    }\n",
       "\n",
       "    .dataframe tbody tr th {\n",
       "        vertical-align: top;\n",
       "    }\n",
       "\n",
       "    .dataframe thead th {\n",
       "        text-align: right;\n",
       "    }\n",
       "</style>\n",
       "<table border=\"1\" class=\"dataframe\">\n",
       "  <thead>\n",
       "    <tr style=\"text-align: right;\">\n",
       "      <th></th>\n",
       "      <th>KRXsemiconductor_change</th>\n",
       "    </tr>\n",
       "    <tr>\n",
       "      <th>date</th>\n",
       "      <th></th>\n",
       "    </tr>\n",
       "  </thead>\n",
       "  <tbody>\n",
       "    <tr>\n",
       "      <th>2006-01-02</th>\n",
       "      <td>0.33</td>\n",
       "    </tr>\n",
       "    <tr>\n",
       "      <th>2006-01-03</th>\n",
       "      <td>0.33</td>\n",
       "    </tr>\n",
       "    <tr>\n",
       "      <th>2006-01-04</th>\n",
       "      <td>0.33</td>\n",
       "    </tr>\n",
       "    <tr>\n",
       "      <th>2006-01-05</th>\n",
       "      <td>0.33</td>\n",
       "    </tr>\n",
       "    <tr>\n",
       "      <th>2006-01-06</th>\n",
       "      <td>0.33</td>\n",
       "    </tr>\n",
       "  </tbody>\n",
       "</table>\n",
       "</div>"
      ],
      "text/plain": [
       "            KRXsemiconductor_change\n",
       "date                               \n",
       "2006-01-02                     0.33\n",
       "2006-01-03                     0.33\n",
       "2006-01-04                     0.33\n",
       "2006-01-05                     0.33\n",
       "2006-01-06                     0.33"
      ]
     },
     "execution_count": 27,
     "metadata": {},
     "output_type": "execute_result"
    }
   ],
   "source": [
    "targets.head()"
   ]
  },
  {
   "cell_type": "code",
   "execution_count": 28,
   "metadata": {
    "colab": {
     "base_uri": "https://localhost:8080/",
     "height": 479
    },
    "colab_type": "code",
    "executionInfo": {
     "elapsed": 25020,
     "status": "ok",
     "timestamp": 1581165338098,
     "user": {
      "displayName": "정주영",
      "photoUrl": "",
      "userId": "09017190432009937170"
     },
     "user_tz": -540
    },
    "id": "DBFmqfRjQBbb",
    "outputId": "d866ea27-4177-4b3e-f945-96b8a454b505"
   },
   "outputs": [],
   "source": [
    "#features.plot(subplots = True)"
   ]
  },
  {
   "cell_type": "code",
   "execution_count": 29,
   "metadata": {},
   "outputs": [],
   "source": [
    "col_name = features.columns"
   ]
  },
  {
   "cell_type": "code",
   "execution_count": 30,
   "metadata": {},
   "outputs": [],
   "source": [
    "dataset = StandardScaler().fit_transform(features)"
   ]
  },
  {
   "cell_type": "code",
   "execution_count": 31,
   "metadata": {},
   "outputs": [],
   "source": [
    "dataset = pd.DataFrame(dataset, columns = col_name)"
   ]
  },
  {
   "cell_type": "code",
   "execution_count": 32,
   "metadata": {},
   "outputs": [
    {
     "data": {
      "text/html": [
       "<div>\n",
       "<style scoped>\n",
       "    .dataframe tbody tr th:only-of-type {\n",
       "        vertical-align: middle;\n",
       "    }\n",
       "\n",
       "    .dataframe tbody tr th {\n",
       "        vertical-align: top;\n",
       "    }\n",
       "\n",
       "    .dataframe thead th {\n",
       "        text-align: right;\n",
       "    }\n",
       "</style>\n",
       "<table border=\"1\" class=\"dataframe\">\n",
       "  <thead>\n",
       "    <tr style=\"text-align: right;\">\n",
       "      <th></th>\n",
       "      <th>SKhynix_change</th>\n",
       "      <th>Philadelphia_change</th>\n",
       "      <th>Micron_change</th>\n",
       "      <th>MediaTek_change</th>\n",
       "      <th>USDollarIndex_close</th>\n",
       "      <th>FRNTTNETIndex</th>\n",
       "      <th>Intel_product</th>\n",
       "      <th>USD_KRW_change</th>\n",
       "      <th>CPUPXCHGIndex</th>\n",
       "      <th>KOBONTLIndex</th>\n",
       "      <th>...</th>\n",
       "      <th>KOWDRIndex</th>\n",
       "      <th>Nvidia_product</th>\n",
       "      <th>ShinEtsuChemical_close</th>\n",
       "      <th>memory_price</th>\n",
       "      <th>NFPTCHIndex</th>\n",
       "      <th>NFPPCHIndex</th>\n",
       "      <th>KOGDPYOYIndex</th>\n",
       "      <th>KOEAEPRIndex</th>\n",
       "      <th>USGG3MIndex</th>\n",
       "      <th>SKLILAIIndex</th>\n",
       "    </tr>\n",
       "  </thead>\n",
       "  <tbody>\n",
       "    <tr>\n",
       "      <th>0</th>\n",
       "      <td>1.872605</td>\n",
       "      <td>1.352064</td>\n",
       "      <td>0.393993</td>\n",
       "      <td>0.818091</td>\n",
       "      <td>0.451945</td>\n",
       "      <td>2.554807</td>\n",
       "      <td>-0.070772</td>\n",
       "      <td>0.643714</td>\n",
       "      <td>0.561804</td>\n",
       "      <td>-2.370039</td>\n",
       "      <td>...</td>\n",
       "      <td>-0.012545</td>\n",
       "      <td>-0.018857</td>\n",
       "      <td>-1.060391</td>\n",
       "      <td>3.944198</td>\n",
       "      <td>0.768354</td>\n",
       "      <td>0.948862</td>\n",
       "      <td>1.522337</td>\n",
       "      <td>-1.317607</td>\n",
       "      <td>1.793907</td>\n",
       "      <td>-1.481244</td>\n",
       "    </tr>\n",
       "    <tr>\n",
       "      <th>1</th>\n",
       "      <td>0.360736</td>\n",
       "      <td>1.352064</td>\n",
       "      <td>0.393993</td>\n",
       "      <td>0.818091</td>\n",
       "      <td>0.451945</td>\n",
       "      <td>2.554807</td>\n",
       "      <td>-0.070772</td>\n",
       "      <td>-1.001021</td>\n",
       "      <td>0.561804</td>\n",
       "      <td>-2.370039</td>\n",
       "      <td>...</td>\n",
       "      <td>-0.012545</td>\n",
       "      <td>-0.018857</td>\n",
       "      <td>-1.060391</td>\n",
       "      <td>3.944198</td>\n",
       "      <td>0.768354</td>\n",
       "      <td>0.948862</td>\n",
       "      <td>1.522337</td>\n",
       "      <td>-1.317607</td>\n",
       "      <td>1.819072</td>\n",
       "      <td>-1.481244</td>\n",
       "    </tr>\n",
       "    <tr>\n",
       "      <th>2</th>\n",
       "      <td>-2.167786</td>\n",
       "      <td>0.344170</td>\n",
       "      <td>1.021054</td>\n",
       "      <td>0.818091</td>\n",
       "      <td>0.366335</td>\n",
       "      <td>2.554807</td>\n",
       "      <td>-0.263632</td>\n",
       "      <td>-0.745173</td>\n",
       "      <td>0.561804</td>\n",
       "      <td>-2.370039</td>\n",
       "      <td>...</td>\n",
       "      <td>-0.012545</td>\n",
       "      <td>0.056204</td>\n",
       "      <td>-1.060391</td>\n",
       "      <td>3.944198</td>\n",
       "      <td>0.768354</td>\n",
       "      <td>0.948862</td>\n",
       "      <td>1.522337</td>\n",
       "      <td>-1.317607</td>\n",
       "      <td>1.859409</td>\n",
       "      <td>-1.481244</td>\n",
       "    </tr>\n",
       "    <tr>\n",
       "      <th>3</th>\n",
       "      <td>-0.603481</td>\n",
       "      <td>1.134154</td>\n",
       "      <td>0.251023</td>\n",
       "      <td>0.818091</td>\n",
       "      <td>0.389572</td>\n",
       "      <td>2.554807</td>\n",
       "      <td>0.161250</td>\n",
       "      <td>-0.440593</td>\n",
       "      <td>0.561804</td>\n",
       "      <td>-2.370039</td>\n",
       "      <td>...</td>\n",
       "      <td>-0.012545</td>\n",
       "      <td>0.183789</td>\n",
       "      <td>-1.060391</td>\n",
       "      <td>3.944198</td>\n",
       "      <td>0.768354</td>\n",
       "      <td>0.948862</td>\n",
       "      <td>1.522337</td>\n",
       "      <td>-1.317607</td>\n",
       "      <td>1.859101</td>\n",
       "      <td>-1.481244</td>\n",
       "    </tr>\n",
       "    <tr>\n",
       "      <th>4</th>\n",
       "      <td>0.351997</td>\n",
       "      <td>1.031133</td>\n",
       "      <td>0.531947</td>\n",
       "      <td>0.818091</td>\n",
       "      <td>0.330868</td>\n",
       "      <td>2.554807</td>\n",
       "      <td>-0.258957</td>\n",
       "      <td>-0.672074</td>\n",
       "      <td>0.561804</td>\n",
       "      <td>-2.370039</td>\n",
       "      <td>...</td>\n",
       "      <td>-0.012545</td>\n",
       "      <td>-0.032227</td>\n",
       "      <td>-1.060391</td>\n",
       "      <td>3.944198</td>\n",
       "      <td>0.768354</td>\n",
       "      <td>0.948862</td>\n",
       "      <td>1.522337</td>\n",
       "      <td>-1.317607</td>\n",
       "      <td>1.870943</td>\n",
       "      <td>-1.481244</td>\n",
       "    </tr>\n",
       "  </tbody>\n",
       "</table>\n",
       "<p>5 rows × 98 columns</p>\n",
       "</div>"
      ],
      "text/plain": [
       "   SKhynix_change  Philadelphia_change  Micron_change  MediaTek_change  \\\n",
       "0        1.872605             1.352064       0.393993         0.818091   \n",
       "1        0.360736             1.352064       0.393993         0.818091   \n",
       "2       -2.167786             0.344170       1.021054         0.818091   \n",
       "3       -0.603481             1.134154       0.251023         0.818091   \n",
       "4        0.351997             1.031133       0.531947         0.818091   \n",
       "\n",
       "   USDollarIndex_close  FRNTTNETIndex  Intel_product  USD_KRW_change  \\\n",
       "0             0.451945       2.554807      -0.070772        0.643714   \n",
       "1             0.451945       2.554807      -0.070772       -1.001021   \n",
       "2             0.366335       2.554807      -0.263632       -0.745173   \n",
       "3             0.389572       2.554807       0.161250       -0.440593   \n",
       "4             0.330868       2.554807      -0.258957       -0.672074   \n",
       "\n",
       "   CPUPXCHGIndex  KOBONTLIndex  ...  KOWDRIndex  Nvidia_product  \\\n",
       "0       0.561804     -2.370039  ...   -0.012545       -0.018857   \n",
       "1       0.561804     -2.370039  ...   -0.012545       -0.018857   \n",
       "2       0.561804     -2.370039  ...   -0.012545        0.056204   \n",
       "3       0.561804     -2.370039  ...   -0.012545        0.183789   \n",
       "4       0.561804     -2.370039  ...   -0.012545       -0.032227   \n",
       "\n",
       "   ShinEtsuChemical_close  memory_price  NFPTCHIndex  NFPPCHIndex  \\\n",
       "0               -1.060391      3.944198     0.768354     0.948862   \n",
       "1               -1.060391      3.944198     0.768354     0.948862   \n",
       "2               -1.060391      3.944198     0.768354     0.948862   \n",
       "3               -1.060391      3.944198     0.768354     0.948862   \n",
       "4               -1.060391      3.944198     0.768354     0.948862   \n",
       "\n",
       "   KOGDPYOYIndex  KOEAEPRIndex  USGG3MIndex  SKLILAIIndex  \n",
       "0       1.522337     -1.317607     1.793907     -1.481244  \n",
       "1       1.522337     -1.317607     1.819072     -1.481244  \n",
       "2       1.522337     -1.317607     1.859409     -1.481244  \n",
       "3       1.522337     -1.317607     1.859101     -1.481244  \n",
       "4       1.522337     -1.317607     1.870943     -1.481244  \n",
       "\n",
       "[5 rows x 98 columns]"
      ]
     },
     "execution_count": 32,
     "metadata": {},
     "output_type": "execute_result"
    }
   ],
   "source": [
    "dataset.head()"
   ]
  },
  {
   "cell_type": "code",
   "execution_count": 33,
   "metadata": {},
   "outputs": [],
   "source": [
    "dataset = dataset.values"
   ]
  },
  {
   "cell_type": "code",
   "execution_count": 34,
   "metadata": {},
   "outputs": [],
   "source": [
    "targets = targets.values"
   ]
  },
  {
   "cell_type": "code",
   "execution_count": 35,
   "metadata": {
    "colab": {},
    "colab_type": "code",
    "id": "CO46fXN7T7bG"
   },
   "outputs": [],
   "source": [
    "def multivariate_data(dataset, target, start_index, end_index, history_size, \n",
    "                      target_size, step, single_step = False):\n",
    "    \n",
    "    data = []\n",
    "    labels = []\n",
    "\n",
    "    start_index = start_index + history_size\n",
    "\n",
    "    if end_index is None:\n",
    "        end_index = len(dataset) - target_size\n",
    "\n",
    "    \n",
    "    for i in range(start_index, end_index):\n",
    "        indices = range(i-history_size, i, step)\n",
    "        data.append(dataset[indices])\n",
    "\n",
    "        if single_step:\n",
    "            labels.append(target[i + target_size])\n",
    "        \n",
    "        else:\n",
    "            labels.append(target[i: i + target_size])\n",
    "\n",
    "        return np.array(data), np.array(labels)\n"
   ]
  },
  {
   "cell_type": "code",
   "execution_count": null,
   "metadata": {},
   "outputs": [],
   "source": []
  },
  {
   "cell_type": "code",
   "execution_count": 61,
   "metadata": {
    "colab": {},
    "colab_type": "code",
    "id": "X09-9ZJ4VlKR"
   },
   "outputs": [],
   "source": [
    "past_history = 720\n",
    "future_target = 72\n",
    "BATCH_SIZE = 256\n",
    "BUFFER_SIZE = 10000\n",
    "\n",
    "STEP = 6\n",
    "\n"
   ]
  },
  {
   "cell_type": "code",
   "execution_count": null,
   "metadata": {},
   "outputs": [],
   "source": []
  },
  {
   "cell_type": "code",
   "execution_count": 62,
   "metadata": {
    "colab": {},
    "colab_type": "code",
    "id": "obSBzWrhX39T"
   },
   "outputs": [],
   "source": [
    "x_train_single, y_train_single = multivariate_data(dataset, targets, 0, \n",
    "                                                   TRAIN_SPLIT, past_history,\n",
    "                                                   future_target, STEP,\n",
    "                                                   single_step = True)\n",
    "\n",
    "x_val_single, y_val_single = multivariate_data(dataset, targets,\n",
    "                                               TRAIN_SPLIT, None, past_history,\n",
    "                                               future_target, STEP,\n",
    "                                               single_step = True)"
   ]
  },
  {
   "cell_type": "code",
   "execution_count": null,
   "metadata": {},
   "outputs": [],
   "source": []
  },
  {
   "cell_type": "code",
   "execution_count": 63,
   "metadata": {
    "colab": {
     "base_uri": "https://localhost:8080/",
     "height": 35
    },
    "colab_type": "code",
    "executionInfo": {
     "elapsed": 1312,
     "status": "ok",
     "timestamp": 1581165339426,
     "user": {
      "displayName": "정주영",
      "photoUrl": "",
      "userId": "09017190432009937170"
     },
     "user_tz": -540
    },
    "id": "xuvkjGvEYFDA",
    "outputId": "159ca45d-03f0-4789-8b5e-49ed4c5e5f7c"
   },
   "outputs": [
    {
     "name": "stdout",
     "output_type": "stream",
     "text": [
      "Single window of past history : (120, 98)\n"
     ]
    }
   ],
   "source": [
    "print('Single window of past history : {}'.format(x_train_single[0].shape))"
   ]
  },
  {
   "cell_type": "code",
   "execution_count": 39,
   "metadata": {
    "colab": {},
    "colab_type": "code",
    "id": "LXA_eVoVYPob"
   },
   "outputs": [],
   "source": [
    "train_data_single = tf.data.Dataset.from_tensor_slices((x_train_single, y_train_single))\n",
    "train_data_single = train_data_single.cache().shuffle(BUFFER_SIZE).batch(BATCH_SIZE).repeat()"
   ]
  },
  {
   "cell_type": "code",
   "execution_count": 40,
   "metadata": {
    "colab": {},
    "colab_type": "code",
    "id": "T5CngXsxYTs5"
   },
   "outputs": [],
   "source": [
    "val_data_single = tf.data.Dataset.from_tensor_slices((x_val_single, y_val_single))\n",
    "val_data_single = val_data_single.batch(BATCH_SIZE).repeat()"
   ]
  },
  {
   "cell_type": "code",
   "execution_count": 41,
   "metadata": {
    "colab": {},
    "colab_type": "code",
    "id": "Wu0c-DGmYoFD"
   },
   "outputs": [],
   "source": [
    "# early stopping을 넣어보자\n",
    "earlystop_callback = tf.keras.callbacks.EarlyStopping(monitor = 'val_loss', min_delta = 0.001, patience = 5)"
   ]
  },
  {
   "cell_type": "code",
   "execution_count": 42,
   "metadata": {
    "colab": {},
    "colab_type": "code",
    "id": "P7yh0kq-YyLG"
   },
   "outputs": [],
   "source": [
    "single_step_model = tf.keras.models.Sequential()\n",
    "single_step_model.add(tf.keras.layers.LSTM(32,\n",
    "                                           input_shape = x_train_single.shape[-2:], return_sequences = True, activation = 'sigmoid'))\n",
    "single_step_model.add(tf.compat.v2.keras.layers.Dropout(0.3))\n",
    "single_step_model.add(tf.keras.layers.LSTM(32, return_sequences = True, activation = 'sigmoid'))\n",
    "single_step_model.add(tf.compat.v2.keras.layers.Dropout(0.3))\n",
    "single_step_model.add(tf.keras.layers.LSTM(16, activation = 'sigmoid'))\n",
    "single_step_model.add(tf.keras.layers.Dense(1))"
   ]
  },
  {
   "cell_type": "code",
   "execution_count": 43,
   "metadata": {
    "colab": {},
    "colab_type": "code",
    "id": "rNm3MEdVZARy"
   },
   "outputs": [],
   "source": [
    "single_step_model.compile(optimizer = tf.keras.optimizers.Adam(),\n",
    "                          loss = 'mse')"
   ]
  },
  {
   "cell_type": "code",
   "execution_count": 44,
   "metadata": {},
   "outputs": [
    {
     "name": "stdout",
     "output_type": "stream",
     "text": [
      "Model: \"sequential\"\n",
      "_________________________________________________________________\n",
      "Layer (type)                 Output Shape              Param #   \n",
      "=================================================================\n",
      "lstm (LSTM)                  (None, 120, 32)           16768     \n",
      "_________________________________________________________________\n",
      "dropout (Dropout)            (None, 120, 32)           0         \n",
      "_________________________________________________________________\n",
      "lstm_1 (LSTM)                (None, 120, 32)           8320      \n",
      "_________________________________________________________________\n",
      "dropout_1 (Dropout)          (None, 120, 32)           0         \n",
      "_________________________________________________________________\n",
      "lstm_2 (LSTM)                (None, 16)                3136      \n",
      "_________________________________________________________________\n",
      "dense (Dense)                (None, 1)                 17        \n",
      "=================================================================\n",
      "Total params: 28,241\n",
      "Trainable params: 28,241\n",
      "Non-trainable params: 0\n",
      "_________________________________________________________________\n"
     ]
    }
   ],
   "source": [
    "single_step_model.summary()"
   ]
  },
  {
   "cell_type": "code",
   "execution_count": 45,
   "metadata": {
    "colab": {
     "base_uri": "https://localhost:8080/",
     "height": 35
    },
    "colab_type": "code",
    "executionInfo": {
     "elapsed": 1848,
     "status": "ok",
     "timestamp": 1581165339979,
     "user": {
      "displayName": "정주영",
      "photoUrl": "",
      "userId": "09017190432009937170"
     },
     "user_tz": -540
    },
    "id": "Rs7wHydYZI6m",
    "outputId": "735c30bd-9f48-4999-ea5b-e3b6d1d20afd"
   },
   "outputs": [
    {
     "name": "stdout",
     "output_type": "stream",
     "text": [
      "(1, 1)\n"
     ]
    }
   ],
   "source": [
    "for x, y in val_data_single.take(1):\n",
    "    print(single_step_model.predict(x).shape)"
   ]
  },
  {
   "cell_type": "code",
   "execution_count": 46,
   "metadata": {},
   "outputs": [],
   "source": [
    "EVALUATION_INTERVAL = 200\n",
    "EPOCHS = 30"
   ]
  },
  {
   "cell_type": "code",
   "execution_count": null,
   "metadata": {},
   "outputs": [],
   "source": []
  },
  {
   "cell_type": "code",
   "execution_count": 53,
   "metadata": {
    "colab": {
     "base_uri": "https://localhost:8080/",
     "height": 395
    },
    "colab_type": "code",
    "executionInfo": {
     "elapsed": 83949,
     "status": "ok",
     "timestamp": 1581165422086,
     "user": {
      "displayName": "정주영",
      "photoUrl": "",
      "userId": "09017190432009937170"
     },
     "user_tz": -540
    },
    "id": "s3_iuPBqZRq-",
    "outputId": "dac77715-54f8-4597-d73a-79ec1a9dc8fd"
   },
   "outputs": [
    {
     "name": "stdout",
     "output_type": "stream",
     "text": [
      "Train for 200 steps, validate for 50 steps\n",
      "Epoch 1/30\n",
      "200/200 [==============================] - 25s 125ms/step - loss: 0.3321 - val_loss: 0.4820\n",
      "Epoch 2/30\n",
      "200/200 [==============================] - 21s 107ms/step - loss: 0.0087 - val_loss: 0.4121\n",
      "Epoch 3/30\n",
      "200/200 [==============================] - 22s 108ms/step - loss: 0.0059 - val_loss: 0.3897\n",
      "Epoch 4/30\n",
      "200/200 [==============================] - 22s 108ms/step - loss: 0.0056 - val_loss: 0.4319\n",
      "Epoch 5/30\n",
      "200/200 [==============================] - 21s 104ms/step - loss: 0.0043 - val_loss: 0.3765\n",
      "Epoch 6/30\n",
      "200/200 [==============================] - 21s 106ms/step - loss: 0.0038 - val_loss: 0.3680\n",
      "Epoch 7/30\n",
      "200/200 [==============================] - 21s 107ms/step - loss: 0.0023 - val_loss: 0.4140\n",
      "Epoch 8/30\n",
      "200/200 [==============================] - 22s 108ms/step - loss: 0.0014 - val_loss: 0.3659\n",
      "Epoch 9/30\n",
      "200/200 [==============================] - 21s 104ms/step - loss: 0.0012 - val_loss: 0.3624\n",
      "Epoch 10/30\n",
      "200/200 [==============================] - 21s 104ms/step - loss: 8.3355e-04 - val_loss: 0.3462\n",
      "Epoch 11/30\n",
      "200/200 [==============================] - 21s 105ms/step - loss: 5.8808e-04 - val_loss: 0.3611\n",
      "Epoch 12/30\n",
      "200/200 [==============================] - 20s 102ms/step - loss: 3.2108e-04 - val_loss: 0.3525\n",
      "Epoch 13/30\n",
      "200/200 [==============================] - 21s 103ms/step - loss: 3.9206e-04 - val_loss: 0.3602\n",
      "Epoch 14/30\n",
      "200/200 [==============================] - 21s 105ms/step - loss: 2.6645e-04 - val_loss: 0.3455\n",
      "Epoch 15/30\n",
      "200/200 [==============================] - 22s 112ms/step - loss: 1.6257e-04 - val_loss: 0.3461\n"
     ]
    }
   ],
   "source": [
    "single_step_history = single_step_model.fit(train_data_single, epochs = EPOCHS, callbacks = [earlystop_callback],\n",
    "                                            steps_per_epoch = EVALUATION_INTERVAL,\n",
    "                                            validation_data = val_data_single,\n",
    "                                            validation_steps = 50)"
   ]
  },
  {
   "cell_type": "code",
   "execution_count": 55,
   "metadata": {
    "colab": {
     "base_uri": "https://localhost:8080/",
     "height": 35
    },
    "colab_type": "code",
    "executionInfo": {
     "elapsed": 84467,
     "status": "ok",
     "timestamp": 1581165422611,
     "user": {
      "displayName": "정주영",
      "photoUrl": "",
      "userId": "09017190432009937170"
     },
     "user_tz": -540
    },
    "id": "YADE4BeaamOH",
    "outputId": "5a9fab5d-3afb-4b27-ef23-75f5fb22edd1"
   },
   "outputs": [
    {
     "ename": "NameError",
     "evalue": "name 'single_step_history' is not defined",
     "output_type": "error",
     "traceback": [
      "\u001b[0;31m---------------------------------------------------------------------------\u001b[0m",
      "\u001b[0;31mNameError\u001b[0m                                 Traceback (most recent call last)",
      "\u001b[0;32m<ipython-input-55-91d8fc9a3adf>\u001b[0m in \u001b[0;36m<module>\u001b[0;34m\u001b[0m\n\u001b[0;32m----> 1\u001b[0;31m \u001b[0msingle_step_history\u001b[0m\u001b[0;34m\u001b[0m\u001b[0;34m\u001b[0m\u001b[0m\n\u001b[0m",
      "\u001b[0;31mNameError\u001b[0m: name 'single_step_history' is not defined"
     ]
    }
   ],
   "source": [
    "single_step_history"
   ]
  },
  {
   "cell_type": "code",
   "execution_count": 47,
   "metadata": {
    "colab": {},
    "colab_type": "code",
    "id": "rFOolPpdbL2c"
   },
   "outputs": [],
   "source": [
    "def plot_train_history(history, title):\n",
    "    loss = history.history['loss']\n",
    "    val_loss = history.history['val_loss']\n",
    "\n",
    "    epochs = range(len(loss))\n",
    "\n",
    "    plt.figure()\n",
    "\n",
    "    plt.plot(epochs, loss, 'b', label = 'Training loss')\n",
    "    plt.plot(epochs, val_loss, 'r', label = 'Validation loss')\n",
    "\n",
    "    plt.title(title)\n",
    "    plt.legend()\n",
    "\n",
    "    plt.show()"
   ]
  },
  {
   "cell_type": "code",
   "execution_count": 56,
   "metadata": {
    "colab": {
     "base_uri": "https://localhost:8080/",
     "height": 390
    },
    "colab_type": "code",
    "executionInfo": {
     "elapsed": 84460,
     "status": "ok",
     "timestamp": 1581165422612,
     "user": {
      "displayName": "정주영",
      "photoUrl": "",
      "userId": "09017190432009937170"
     },
     "user_tz": -540
    },
    "id": "fjr8vks2bxI3",
    "outputId": "4cbf8ce6-fd33-4bca-d36a-7a4fb08e5ad4"
   },
   "outputs": [
    {
     "ename": "NameError",
     "evalue": "name 'val_univariate' is not defined",
     "output_type": "error",
     "traceback": [
      "\u001b[0;31m---------------------------------------------------------------------------\u001b[0m",
      "\u001b[0;31mNameError\u001b[0m                                 Traceback (most recent call last)",
      "\u001b[0;32m<ipython-input-56-dc1c2d537c1b>\u001b[0m in \u001b[0;36m<module>\u001b[0;34m\u001b[0m\n\u001b[0;32m----> 1\u001b[0;31m \u001b[0;32mfor\u001b[0m \u001b[0mx\u001b[0m\u001b[0;34m,\u001b[0m \u001b[0my\u001b[0m \u001b[0;32min\u001b[0m \u001b[0mval_univariate\u001b[0m\u001b[0;34m.\u001b[0m\u001b[0mtake\u001b[0m\u001b[0;34m(\u001b[0m\u001b[0;36m1\u001b[0m\u001b[0;34m)\u001b[0m\u001b[0;34m:\u001b[0m\u001b[0;34m\u001b[0m\u001b[0;34m\u001b[0m\u001b[0m\n\u001b[0m\u001b[1;32m      2\u001b[0m     \u001b[0mprint\u001b[0m\u001b[0;34m(\u001b[0m\u001b[0msimple_lstm_model\u001b[0m\u001b[0;34m.\u001b[0m\u001b[0mpredict\u001b[0m\u001b[0;34m(\u001b[0m\u001b[0mx\u001b[0m\u001b[0;34m)\u001b[0m\u001b[0;34m.\u001b[0m\u001b[0mshape\u001b[0m\u001b[0;34m)\u001b[0m\u001b[0;34m\u001b[0m\u001b[0;34m\u001b[0m\u001b[0m\n",
      "\u001b[0;31mNameError\u001b[0m: name 'val_univariate' is not defined"
     ]
    }
   ],
   "source": [
    "for x, y in val_univariate.take(1):\n",
    "    print(simple_lstm_model.predict(x).shape)"
   ]
  },
  {
   "cell_type": "code",
   "execution_count": 53,
   "metadata": {
    "colab": {
     "base_uri": "https://localhost:8080/",
     "height": 404
    },
    "colab_type": "code",
    "executionInfo": {
     "elapsed": 84948,
     "status": "ok",
     "timestamp": 1581165423106,
     "user": {
      "displayName": "정주영",
      "photoUrl": "",
      "userId": "09017190432009937170"
     },
     "user_tz": -540
    },
    "id": "7qG-bicMcLgq",
    "outputId": "d6bb3c16-239a-4917-f5e9-63d3e25c20fe"
   },
   "outputs": [
    {
     "data": {
      "image/png": "[encoded data removed]",
      "text/plain": [
       "<Figure size 576x432 with 1 Axes>"
      ]
     },
     "metadata": {
      "needs_background": "light"
     },
     "output_type": "display_data"
    }
   ],
   "source": [
    "for x, y in val_data_single.take(3):\n",
    "    plot = show_plot([x[0][:, 1].numpy(), y[0].numpy(), single_step_model.predict(x)[0]], 12,\n",
    "                      'Single Step Prediction')"
   ]
  },
  {
   "cell_type": "code",
   "execution_count": 63,
   "metadata": {},
   "outputs": [],
   "source": [
    "single_step_model.save('ltsm_20200220.h5')"
   ]
  },
  {
   "cell_type": "code",
   "execution_count": 51,
   "metadata": {},
   "outputs": [],
   "source": [
    "single_step_model = tf.keras.models.load_model('ltsm_20200220.h5')"
   ]
  },
  {
   "cell_type": "code",
   "execution_count": null,
   "metadata": {},
   "outputs": [],
   "source": []
  },
  {
   "cell_type": "code",
   "execution_count": null,
   "metadata": {},
   "outputs": [],
   "source": []
  },
  {
   "cell_type": "code",
   "execution_count": 60,
   "metadata": {},
   "outputs": [],
   "source": [
    "# 그 다음은 multi step model로 해보자. \n",
    "# 이게 그 형태인듯. "
   ]
  },
  {
   "cell_type": "code",
   "execution_count": 65,
   "metadata": {},
   "outputs": [],
   "source": [
    "future_target = 72\n",
    "x_train_multi, y_train_multi = multivariate_data(dataset, dataset[:, 1], 0,\n",
    "                                                 TRAIN_SPLIT, past_history,\n",
    "                                                 future_target, STEP)\n",
    "x_val_multi, y_val_multi = multivariate_data(dataset, dataset[:, 1],\n",
    "                                             TRAIN_SPLIT, None, past_history,\n",
    "                                             future_target, STEP)"
   ]
  },
  {
   "cell_type": "code",
   "execution_count": 66,
   "metadata": {},
   "outputs": [
    {
     "name": "stdout",
     "output_type": "stream",
     "text": [
      "Single window of past history : (120, 98)\n",
      "\n",
      " Target temperature to predict : (72,)\n"
     ]
    }
   ],
   "source": [
    "print ('Single window of past history : {}'.format(x_train_multi[0].shape))\n",
    "print ('\\n Target temperature to predict : {}'.format(y_train_multi[0].shape))"
   ]
  },
  {
   "cell_type": "code",
   "execution_count": 67,
   "metadata": {},
   "outputs": [],
   "source": [
    "train_data_multi = tf.data.Dataset.from_tensor_slices((x_train_multi, y_train_multi))\n",
    "train_data_multi = train_data_multi.cache().shuffle(BUFFER_SIZE).batch(BATCH_SIZE).repeat()\n",
    "\n",
    "val_data_multi = tf.data.Dataset.from_tensor_slices((x_val_multi, y_val_multi))\n",
    "val_data_multi = val_data_multi.batch(BATCH_SIZE).repeat()"
   ]
  },
  {
   "cell_type": "code",
   "execution_count": 68,
   "metadata": {},
   "outputs": [],
   "source": [
    "def multi_step_plot(history, true_future, prediction):\n",
    "  plt.figure(figsize=(12, 6))\n",
    "  num_in = create_time_steps(len(history))\n",
    "  num_out = len(true_future)\n",
    "\n",
    "  plt.plot(num_in, np.array(history[:, 1]), label='History')\n",
    "  plt.plot(np.arange(num_out)/STEP, np.array(true_future), 'bo',\n",
    "           label='True Future')\n",
    "  if prediction.any():\n",
    "    plt.plot(np.arange(num_out)/STEP, np.array(prediction), 'ro',\n",
    "             label='Predicted Future')\n",
    "  plt.legend(loc='upper left')\n",
    "  plt.show()"
   ]
  },
  {
   "cell_type": "code",
   "execution_count": 69,
   "metadata": {},
   "outputs": [
    {
     "data": {
      "image/png": "[encoded data removed]",
      "text/plain": [
       "<Figure size 864x432 with 1 Axes>"
      ]
     },
     "metadata": {
      "needs_background": "light"
     },
     "output_type": "display_data"
    }
   ],
   "source": [
    "for x, y in train_data_multi.take(1):\n",
    "  multi_step_plot(x[0], y[0], np.array([0]))"
   ]
  },
  {
   "cell_type": "code",
   "execution_count": 71,
   "metadata": {},
   "outputs": [
    {
     "data": {
      "text/plain": [
       "\"\\nsingle_step_model = tf.keras.models.Sequential()\\nsingle_step_model.add(tf.keras.layers.LSTM(32,\\n                                           input_shape = x_train_single.shape[-2:], return_sequences = True, activation = 'sigmoid'))\\nsingle_step_model.add(tf.compat.v2.keras.layers.Dropout(0.3))\\nsingle_step_model.add(tf.keras.layers.LSTM(32, return_sequences = True, activation = 'sigmoid'))\\nsingle_step_model.add(tf.compat.v2.keras.layers.Dropout(0.3))\\nsingle_step_model.add(tf.keras.layers.LSTM(16, activation = 'sigmoid'))\\nsingle_step_model.add(tf.keras.layers.Dense(1))\\n\""
      ]
     },
     "execution_count": 71,
     "metadata": {},
     "output_type": "execute_result"
    }
   ],
   "source": [
    "'''\n",
    "single_step_model = tf.keras.models.Sequential()\n",
    "single_step_model.add(tf.keras.layers.LSTM(32,\n",
    "                                           input_shape = x_train_single.shape[-2:], return_sequences = True, activation = 'sigmoid'))\n",
    "single_step_model.add(tf.compat.v2.keras.layers.Dropout(0.3))\n",
    "single_step_model.add(tf.keras.layers.LSTM(32, return_sequences = True, activation = 'sigmoid'))\n",
    "single_step_model.add(tf.compat.v2.keras.layers.Dropout(0.3))\n",
    "single_step_model.add(tf.keras.layers.LSTM(16, activation = 'sigmoid'))\n",
    "single_step_model.add(tf.keras.layers.Dense(1))\n",
    "'''"
   ]
  },
  {
   "cell_type": "code",
   "execution_count": 70,
   "metadata": {},
   "outputs": [],
   "source": [
    "multi_step_model = tf.keras.models.Sequential()\n",
    "multi_step_model.add(tf.keras.layers.LSTM(32,\n",
    "                                          return_sequences=True,\n",
    "                                          input_shape=x_train_multi.shape[-2:]))\n",
    "multi_step_model.add(tf.keras.layers.LSTM(16, activation='relu'))\n",
    "multi_step_model.add(tf.keras.layers.Dense(72))\n",
    "\n",
    "multi_step_model.compile(optimizer=tf.keras.optimizers.RMSprop(clipvalue=1.0), loss='mae')"
   ]
  },
  {
   "cell_type": "code",
   "execution_count": 72,
   "metadata": {},
   "outputs": [
    {
     "name": "stdout",
     "output_type": "stream",
     "text": [
      "(1, 72)\n"
     ]
    }
   ],
   "source": [
    "for x, y in val_data_multi.take(1):\n",
    "  print (multi_step_model.predict(x).shape)"
   ]
  },
  {
   "cell_type": "code",
   "execution_count": 75,
   "metadata": {},
   "outputs": [],
   "source": [
    "a = []\n",
    "for x, y in val_data_multi.take(1):\n",
    "    a.append(multi_step_model.predict(x))"
   ]
  },
  {
   "cell_type": "code",
   "execution_count": 82,
   "metadata": {},
   "outputs": [
    {
     "name": "stdout",
     "output_type": "stream",
     "text": [
      "Train for 200 steps, validate for 50 steps\n",
      "Epoch 1/30\n",
      "200/200 [==============================] - 18s 90ms/step - loss: 0.2456 - val_loss: 0.4611\n",
      "Epoch 2/30\n",
      "200/200 [==============================] - 15s 73ms/step - loss: 0.0464 - val_loss: 0.4693\n",
      "Epoch 3/30\n",
      "200/200 [==============================] - 15s 76ms/step - loss: 0.0363 - val_loss: 0.4750\n",
      "Epoch 4/30\n",
      "200/200 [==============================] - 16s 78ms/step - loss: 0.0308 - val_loss: 0.4776\n",
      "Epoch 5/30\n",
      "200/200 [==============================] - 16s 78ms/step - loss: 0.0276 - val_loss: 0.4819\n",
      "Epoch 6/30\n",
      "200/200 [==============================] - 16s 78ms/step - loss: 0.0245 - val_loss: 0.4832\n",
      "Epoch 7/30\n",
      "200/200 [==============================] - 15s 76ms/step - loss: 0.0226 - val_loss: 0.4820\n",
      "Epoch 8/30\n",
      "200/200 [==============================] - 15s 77ms/step - loss: 0.0207 - val_loss: 0.4832\n",
      "Epoch 9/30\n",
      "200/200 [==============================] - 15s 74ms/step - loss: 0.0196 - val_loss: 0.4825\n",
      "Epoch 10/30\n",
      "200/200 [==============================] - 15s 75ms/step - loss: 0.0185 - val_loss: 0.4827\n",
      "Epoch 11/30\n",
      "200/200 [==============================] - 15s 75ms/step - loss: 0.0175 - val_loss: 0.4853\n",
      "Epoch 12/30\n",
      "200/200 [==============================] - 15s 74ms/step - loss: 0.0165 - val_loss: 0.4861\n",
      "Epoch 13/30\n",
      "200/200 [==============================] - 15s 76ms/step - loss: 0.0161 - val_loss: 0.4883\n",
      "Epoch 14/30\n",
      "200/200 [==============================] - 15s 74ms/step - loss: 0.0157 - val_loss: 0.4884\n",
      "Epoch 15/30\n",
      "200/200 [==============================] - 15s 76ms/step - loss: 0.0149 - val_loss: 0.4896\n",
      "Epoch 16/30\n",
      "200/200 [==============================] - 15s 74ms/step - loss: 0.0144 - val_loss: 0.4908\n",
      "Epoch 17/30\n",
      "200/200 [==============================] - 15s 75ms/step - loss: 0.0141 - val_loss: 0.4930\n",
      "Epoch 18/30\n",
      "200/200 [==============================] - 16s 82ms/step - loss: 0.0140 - val_loss: 0.4950\n",
      "Epoch 19/30\n",
      "200/200 [==============================] - 15s 76ms/step - loss: 0.0134 - val_loss: 0.4951\n",
      "Epoch 20/30\n",
      "200/200 [==============================] - 16s 78ms/step - loss: 0.0134 - val_loss: 0.4954\n",
      "Epoch 21/30\n",
      "200/200 [==============================] - 16s 78ms/step - loss: 0.0129 - val_loss: 0.4938\n",
      "Epoch 22/30\n",
      "200/200 [==============================] - 15s 76ms/step - loss: 0.0127 - val_loss: 0.4948\n",
      "Epoch 23/30\n",
      "200/200 [==============================] - 15s 77ms/step - loss: 0.0124 - val_loss: 0.4952\n",
      "Epoch 24/30\n",
      "200/200 [==============================] - 17s 83ms/step - loss: 0.0121 - val_loss: 0.4964\n",
      "Epoch 25/30\n",
      "200/200 [==============================] - 15s 76ms/step - loss: 0.0118 - val_loss: 0.4962\n",
      "Epoch 26/30\n",
      "200/200 [==============================] - 15s 77ms/step - loss: 0.0115 - val_loss: 0.4968\n",
      "Epoch 27/30\n",
      "200/200 [==============================] - 16s 79ms/step - loss: 0.0113 - val_loss: 0.4975\n",
      "Epoch 28/30\n",
      "200/200 [==============================] - 16s 79ms/step - loss: 0.0111 - val_loss: 0.4990\n",
      "Epoch 29/30\n",
      "200/200 [==============================] - 15s 76ms/step - loss: 0.0109 - val_loss: 0.4990\n",
      "Epoch 30/30\n",
      "200/200 [==============================] - 16s 80ms/step - loss: 0.0106 - val_loss: 0.5000\n"
     ]
    }
   ],
   "source": [
    "multi_step_history = multi_step_model.fit(train_data_multi, epochs=EPOCHS,\n",
    "                                          steps_per_epoch=EVALUATION_INTERVAL,\n",
    "                                          validation_data=val_data_multi,\n",
    "                                          validation_steps=50)"
   ]
  },
  {
   "cell_type": "code",
   "execution_count": 83,
   "metadata": {},
   "outputs": [
    {
     "data": {
      "image/png": "[encoded data removed]",
      "text/plain": [
       "<Figure size 576x432 with 1 Axes>"
      ]
     },
     "metadata": {
      "needs_background": "light"
     },
     "output_type": "display_data"
    }
   ],
   "source": [
    "plot_train_history(multi_step_history, 'Multi-Step Training and validation loss')\n"
   ]
  },
  {
   "cell_type": "code",
   "execution_count": 95,
   "metadata": {},
   "outputs": [
    {
     "name": "stdout",
     "output_type": "stream",
     "text": [
      "tf.Tensor(\n",
      "[[[ 1.35408362 -0.41020659 -0.34844686 ... -0.57661449 -0.69049359\n",
      "    0.20284809]\n",
      "  [-0.55687268 -0.37032763 -0.6293702  ... -0.40336972 -0.69986869\n",
      "    0.22102485]\n",
      "  [ 0.01408378 -0.07550815 -0.07504826 ... -0.20010701 -0.70924379\n",
      "    0.24256034]\n",
      "  ...\n",
      "  [-0.17621513  1.67981174  0.14510424 ... -1.03864516 -0.53934344\n",
      "    0.78347122]\n",
      "  [-0.28727931 -0.42166217 -0.34833841 ... -0.99256076 -0.53106486\n",
      "    0.78611696]\n",
      "  [-0.07330752  0.49751457  0.20838333 ... -0.90944637 -0.55547986\n",
      "    0.78289783]]], shape=(1, 120, 98), dtype=float64) ------------------------------------------------------------------------------------------------------------------------------------------------------------------------------------------------------------------------------------------------------------------------------------------------------------ tf.Tensor(\n",
      "[[ 0.2458973   0.92383968  0.97726923  0.34838433 -0.19989254 -0.06648791\n",
      "   0.41965564  0.34322096  0.64848493  0.61853602  0.29191871  0.06644197\n",
      "  -0.04464943 -0.6200459  -0.02186145  0.23374453 -0.00868112 -0.2683788\n",
      "  -0.06458891  0.63851519  0.4699791  -0.27015547  0.33135223  0.50111579\n",
      "   0.06656072 -0.43062082 -0.28392321  0.48801958 -0.75155153  0.27533178\n",
      "   0.92082918  0.60660458 -0.04844743 -0.05936667  1.09380002 -0.40593385\n",
      "  -0.4026106   0.19407112  0.46663025  0.034159   -0.58633868  0.46760535\n",
      "  -0.31430718  0.09730069  0.08688293 -0.34168529 -0.26208473  0.65085868\n",
      "   0.48279734 -1.29229128 -1.24196783 -0.33122015  0.42134142  0.36458469\n",
      "  -0.55737896 -0.56877295  0.14382615  0.05267423 -0.30707895 -0.45101898\n",
      "  -0.06981116  0.580121   -0.14624584 -0.84982469  0.18845261  1.26266145\n",
      "   1.56331342  0.75577833 -0.32617592  0.77904106 -0.33614566  1.4997109 ]], shape=(1, 72), dtype=float64)\n"
     ]
    }
   ],
   "source": [
    "for x, y in val_data_multi.take(1):\n",
    "    print(x, '---'* 100, y)"
   ]
  },
  {
   "cell_type": "code",
   "execution_count": 97,
   "metadata": {},
   "outputs": [
    {
     "data": {
      "image/png": "[encoded data removed]",
      "text/plain": [
       "<Figure size 864x432 with 1 Axes>"
      ]
     },
     "metadata": {
      "needs_background": "light"
     },
     "output_type": "display_data"
    }
   ],
   "source": [
    "for x, y in val_data_multi.take(1):\n",
    "  multi_step_plot(x[0], y[0], multi_step_model.predict(x)[0])"
   ]
  },
  {
   "cell_type": "code",
   "execution_count": 99,
   "metadata": {},
   "outputs": [],
   "source": [
    "x= val_data_multi.take(1)"
   ]
  },
  {
   "cell_type": "code",
   "execution_count": 102,
   "metadata": {},
   "outputs": [
    {
     "name": "stdout",
     "output_type": "stream",
     "text": [
      "(<tf.Tensor: shape=(1, 120, 98), dtype=float64, numpy=\n",
      "array([[[ 1.35408362, -0.41020659, -0.34844686, ..., -0.57661449,\n",
      "         -0.69049359,  0.20284809],\n",
      "        [-0.55687268, -0.37032763, -0.6293702 , ..., -0.40336972,\n",
      "         -0.69986869,  0.22102485],\n",
      "        [ 0.01408378, -0.07550815, -0.07504826, ..., -0.20010701,\n",
      "         -0.70924379,  0.24256034],\n",
      "        ...,\n",
      "        [-0.17621513,  1.67981174,  0.14510424, ..., -1.03864516,\n",
      "         -0.53934344,  0.78347122],\n",
      "        [-0.28727931, -0.42166217, -0.34833841, ..., -0.99256076,\n",
      "         -0.53106486,  0.78611696],\n",
      "        [-0.07330752,  0.49751457,  0.20838333, ..., -0.90944637,\n",
      "         -0.55547986,  0.78289783]]])>, <tf.Tensor: shape=(1, 72), dtype=float64, numpy=\n",
      "array([[ 0.2458973 ,  0.92383968,  0.97726923,  0.34838433, -0.19989254,\n",
      "        -0.06648791,  0.41965564,  0.34322096,  0.64848493,  0.61853602,\n",
      "         0.29191871,  0.06644197, -0.04464943, -0.6200459 , -0.02186145,\n",
      "         0.23374453, -0.00868112, -0.2683788 , -0.06458891,  0.63851519,\n",
      "         0.4699791 , -0.27015547,  0.33135223,  0.50111579,  0.06656072,\n",
      "        -0.43062082, -0.28392321,  0.48801958, -0.75155153,  0.27533178,\n",
      "         0.92082918,  0.60660458, -0.04844743, -0.05936667,  1.09380002,\n",
      "        -0.40593385, -0.4026106 ,  0.19407112,  0.46663025,  0.034159  ,\n",
      "        -0.58633868,  0.46760535, -0.31430718,  0.09730069,  0.08688293,\n",
      "        -0.34168529, -0.26208473,  0.65085868,  0.48279734, -1.29229128,\n",
      "        -1.24196783, -0.33122015,  0.42134142,  0.36458469, -0.55737896,\n",
      "        -0.56877295,  0.14382615,  0.05267423, -0.30707895, -0.45101898,\n",
      "        -0.06981116,  0.580121  , -0.14624584, -0.84982469,  0.18845261,\n",
      "         1.26266145,  1.56331342,  0.75577833, -0.32617592,  0.77904106,\n",
      "        -0.33614566,  1.4997109 ]])>)\n"
     ]
    }
   ],
   "source": [
    "for i in x:\n",
    "    print(i)"
   ]
  },
  {
   "cell_type": "code",
   "execution_count": null,
   "metadata": {},
   "outputs": [],
   "source": []
  },
  {
   "cell_type": "code",
   "execution_count": null,
   "metadata": {},
   "outputs": [],
   "source": [
    "# 문제 : val_data_multi에는 어떤 데이터가 들어있는가\n",
    "# 문제 : take(1)은 어떤 의미인가?\n",
    "# 문제 : mul"
   ]
  }
 ],
 "metadata": {
  "colab": {
   "authorship_tag": "ABX9TyNdPoDygFFSMUgSmKAIP5TY",
   "collapsed_sections": [],
   "name": "week4_time_series_jy.ipynb",
   "provenance": []
  },
  "kernelspec": {
   "display_name": "Python 3.7.6 64-bit ('tf2-py37': conda)",
   "language": "python",
   "name": "python37664bittf2py37conda4df29648bf8a4808bc274fe4f9de4cdb"
  },
  "language_info": {
   "codemirror_mode": {
    "name": "ipython",
    "version": 3
   },
   "file_extension": ".py",
   "mimetype": "text/x-python",
   "name": "python",
   "nbconvert_exporter": "python",
   "pygments_lexer": "ipython3",
   "version": "3.7.6"
  }
 },
 "nbformat": 4,
 "nbformat_minor": 4
}
