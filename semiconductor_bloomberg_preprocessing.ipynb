{
 "cells": [
  {
   "cell_type": "code",
   "execution_count": 19,
   "metadata": {},
   "outputs": [
    {
     "name": "stdout",
     "output_type": "stream",
     "text": [
      "00. _wd - working day.txt\r\n",
      "01. KRXworkingDay_from1980.csv\r\n",
      "\u001b[34mCSV\u001b[m\u001b[m/\r\n",
      "\u001b[34mCurrency\u001b[m\u001b[m/\r\n",
      "\u001b[34mKOR\u001b[m\u001b[m/\r\n",
      "KRX반도체_SK하이닉스_KOSPI200.xlsx\r\n",
      "README.md\r\n",
      "Ridge_baseline.ipynb\r\n",
      "\u001b[34mTaiwan\u001b[m\u001b[m/\r\n",
      "\u001b[34mUS\u001b[m\u001b[m/\r\n",
      "_Rhistory\r\n",
      "bloomberg_dataprocessing-Copy1.ipynb\r\n",
      "bloomberg_dataprocessing.ipynb\r\n",
      "data_change_ver0.1.csv\r\n",
      "data_change_ver0.2.csv\r\n",
      "df_test.csv\r\n",
      "df_test2.csv\r\n",
      "eda.ipynb\r\n",
      "eda_from_change.ipynb\r\n",
      "lasso_baseline.ipynb\r\n",
      "list\r\n",
      "list.csv\r\n",
      "logistic_classifier_baseline.ipynb\r\n",
      "\u001b[34mnew\u001b[m\u001b[m/\r\n",
      "ols_baseline_regression.ipynb\r\n",
      "preprocessing.ipynb\r\n",
      "preprocessing.py\r\n",
      "semiconductor_bloomberg_preprocessing.ipynb\r\n",
      "semiconductor_feature_list_bloomberg.xlsx\r\n",
      "tree_based_regressor_baseline.ipynb\r\n",
      "~$semiconductor_feature_list_bloomberg.xlsx\r\n"
     ]
    }
   ],
   "source": [
    "ls"
   ]
  },
  {
   "cell_type": "code",
   "execution_count": 4,
   "metadata": {},
   "outputs": [
    {
     "data": {
      "text/plain": [
       "'/Users/mokpolar/Documents/GitHub/KRX_semiconductor_index_prediction'"
      ]
     },
     "execution_count": 4,
     "metadata": {},
     "output_type": "execute_result"
    }
   ],
   "source": [
    "pwd"
   ]
  },
  {
   "cell_type": "code",
   "execution_count": 2,
   "metadata": {},
   "outputs": [],
   "source": [
    "import pandas as pd"
   ]
  },
  {
   "cell_type": "code",
   "execution_count": 3,
   "metadata": {},
   "outputs": [
    {
     "name": "stderr",
     "output_type": "stream",
     "text": [
      "/Users/mokpolar/opt/anaconda3/envs/tf-py36/lib/python3.6/site-packages/IPython/core/interactiveshell.py:3058: DtypeWarning: Columns (4) have mixed types. Specify dtype option on import or set low_memory=False.\n",
      "  interactivity=interactivity, compiler=compiler, result=result)\n"
     ]
    }
   ],
   "source": [
    "eco = pd.read_csv('/Users/mokpolar/Downloads/bloomberg_raw/economic.csv')"
   ]
  },
  {
   "cell_type": "code",
   "execution_count": 4,
   "metadata": {},
   "outputs": [],
   "source": [
    "eco.set_index('col0', inplace = True)"
   ]
  },
  {
   "cell_type": "code",
   "execution_count": 5,
   "metadata": {
    "scrolled": true
   },
   "outputs": [
    {
     "data": {
      "text/html": [
       "<div>\n",
       "<style scoped>\n",
       "    .dataframe tbody tr th:only-of-type {\n",
       "        vertical-align: middle;\n",
       "    }\n",
       "\n",
       "    .dataframe tbody tr th {\n",
       "        vertical-align: top;\n",
       "    }\n",
       "\n",
       "    .dataframe thead th {\n",
       "        text-align: right;\n",
       "    }\n",
       "</style>\n",
       "<table border=\"1\" class=\"dataframe\">\n",
       "  <thead>\n",
       "    <tr style=\"text-align: right;\">\n",
       "      <th></th>\n",
       "      <th>col1</th>\n",
       "      <th>col2</th>\n",
       "      <th>col3</th>\n",
       "      <th>col4</th>\n",
       "    </tr>\n",
       "    <tr>\n",
       "      <th>col0</th>\n",
       "      <th></th>\n",
       "      <th></th>\n",
       "      <th></th>\n",
       "      <th></th>\n",
       "    </tr>\n",
       "  </thead>\n",
       "  <tbody>\n",
       "    <tr>\n",
       "      <th>GDP CQOQ Index</th>\n",
       "      <td>0</td>\n",
       "      <td>1</td>\n",
       "      <td>03/31/1981</td>\n",
       "      <td>8.1</td>\n",
       "    </tr>\n",
       "    <tr>\n",
       "      <th>GDP CQOQ Index</th>\n",
       "      <td>0</td>\n",
       "      <td>1</td>\n",
       "      <td>06/30/1981</td>\n",
       "      <td>-2.9</td>\n",
       "    </tr>\n",
       "    <tr>\n",
       "      <th>GDP CQOQ Index</th>\n",
       "      <td>0</td>\n",
       "      <td>1</td>\n",
       "      <td>09/30/1981</td>\n",
       "      <td>4.9</td>\n",
       "    </tr>\n",
       "    <tr>\n",
       "      <th>GDP CQOQ Index</th>\n",
       "      <td>0</td>\n",
       "      <td>1</td>\n",
       "      <td>12/31/1981</td>\n",
       "      <td>-4.3</td>\n",
       "    </tr>\n",
       "    <tr>\n",
       "      <th>GDP CQOQ Index</th>\n",
       "      <td>0</td>\n",
       "      <td>1</td>\n",
       "      <td>03/31/1982</td>\n",
       "      <td>-6.1</td>\n",
       "    </tr>\n",
       "  </tbody>\n",
       "</table>\n",
       "</div>"
      ],
      "text/plain": [
       "                col1  col2        col3  col4\n",
       "col0                                        \n",
       "GDP CQOQ Index     0     1  03/31/1981   8.1\n",
       "GDP CQOQ Index     0     1  06/30/1981  -2.9\n",
       "GDP CQOQ Index     0     1  09/30/1981   4.9\n",
       "GDP CQOQ Index     0     1  12/31/1981  -4.3\n",
       "GDP CQOQ Index     0     1  03/31/1982  -6.1"
      ]
     },
     "execution_count": 5,
     "metadata": {},
     "output_type": "execute_result"
    }
   ],
   "source": [
    "eco.head()"
   ]
  },
  {
   "cell_type": "code",
   "execution_count": 6,
   "metadata": {},
   "outputs": [],
   "source": [
    "economic = eco.loc[['GDP CQOQ Index',\n",
    "'GDP CYOY Index',\n",
    "'GDPCTOT% Index',\n",
    "'GPDITOC% Index',\n",
    "'GPGSTOC% Index',\n",
    "'RGCDCIPI Index',\n",
    "'GDP CUR$ Index',\n",
    "'GDP CURY Index',\n",
    "'GDP PIQQ Index',\n",
    "'GDPCPCEC Index',\n",
    "'CPI YOY Index',\n",
    "'CPI XYOY Index',\n",
    "'PCE DEFY Index',\n",
    "'PCE CYOY Index',\n",
    "'CPI CHNG Index',\n",
    "'CPUPXCHG Index',\n",
    "'FDIDFDMO Index',\n",
    "'FDIDSGMO Index',\n",
    "'FDIUFDYO Index',\n",
    "'FDIUSGYO Index',\n",
    "'USURTOT Index',\n",
    "'USUDMAER Index',\n",
    "'INJCJC Index',\n",
    "'INJCSP Index',\n",
    "'NFP TCH Index',\n",
    "'NFP PCH Index',\n",
    "'USMMMNCH Index',\n",
    "'AWH TOTL Index',\n",
    "'USWHTOT Index',\n",
    "'USEMTOT Index',\n",
    "'USEMNCHG Index',\n",
    "'USERTOT Index',\n",
    "'EMDINP1M Index',\n",
    "'JOLTOPEN Index',\n",
    "'JOLTHIRS Index',\n",
    "'JOLTSEPS Index',\n",
    "'CHALYOY% Index',\n",
    "'ADP CHNG Index',\n",
    "'USHEYOY Index',\n",
    "'USHETOT% Index',\n",
    "'ECI YOY Index',\n",
    "'COSTNFR% Index',\n",
    "'PRODNFR% Index',\n",
    "'IP  YOY Index',\n",
    "'IP  CHNG Index',\n",
    "'CPTICHNG Index',\n",
    "'TMNOCHNG Index',\n",
    "'DGNOYOY Index',\n",
    "'DGNOCHNG Index',\n",
    "'MTIBCHNG Index',\n",
    "'MWINCHNG Index',\n",
    "'MGT2TB Index',\n",
    "'MGT2MA Index',\n",
    "'MGT2WH Index',\n",
    "'MGT2WHDU Index',\n",
    "'MGT2RE Index',\n",
    "'IP Index',\n",
    "'MTSLRL$ Index',\n",
    "'AGWHTOTL Index',\n",
    "'NFP T Index',\n",
    "'USEMTOT Index',\n",
    "'PIDSPINX Index',\n",
    "'NAPMPMI Index',\n",
    "'NAPMNMI Index',\n",
    "'NAPMPRIC Index',\n",
    "'MPMIUSCA Index',\n",
    "'MPMIUSMA Index',\n",
    "'MPMIUSSA Index',\n",
    "'CFNAI Index',\n",
    "'CFNAIMA3 Index',\n",
    "'OUTFGAF Index',\n",
    "'EMPRGBCI Index',\n",
    "'RCHSINDX Index',\n",
    "'CHPMINDX Index',\n",
    "'MAPMINDX Index',\n",
    "'OEUSKLAR Index',\n",
    "'OEUSKLAP Index',\n",
    "'LEI TOTL Index',\n",
    "'LEI YOY Index',\n",
    "'LEI CHNG Index',\n",
    "'LEI AVGW Index',\n",
    "'LEI WKIJ Index',\n",
    "'LEI NWCN Index',\n",
    "'NAPMNEWO Index',\n",
    "'LEI MNO Index',\n",
    "'LEI BP Index',\n",
    "'LEI STKP Index',\n",
    "'LEI LCI Index',\n",
    "'LEI IRTE Index',\n",
    "'LEI ACE Index',\n",
    "'RSTAMOM Index',\n",
    "'RSTAXMOM Index',\n",
    "'RSTAYOY Index',\n",
    "'RSTAXYOY Index',\n",
    "'MBRXYOYW Index',\n",
    "'SAARTOTL Index',\n",
    "'SAARDTOT Index',\n",
    "'CONCCONF Index',\n",
    "'CONSSENT Index',\n",
    "'COMFCOMF Index',\n",
    "'COMFBTWR Index',\n",
    "'PITLYOY Index',\n",
    "'PITLCHNG Index',\n",
    "'PCE CHY% Index',\n",
    "'PCE CHNC Index',\n",
    "'PIDSDPS Index',\n",
    "'CICRTOT Index',\n",
    "'EHCAUS Index',\n",
    "'USCABAL Index',\n",
    "'USTBTOT Index',\n",
    "'USTBEXP Index',\n",
    "'USTBIMP Index',\n",
    "'USTBEXPY Index',\n",
    "'USTBIMPY Index',\n",
    "'IMP1YOY% Index',\n",
    "'IMP1CHNG Index',\n",
    "'FRNTTOTL Index',\n",
    "'FRNTTNET Index',\n",
    "'FDTR Index',\n",
    "'USGG3M Index',\n",
    "'USGG10YR Index',\n",
    "'USTW$ Index',\n",
    "'JNVNYOYS Index',\n",
    "'JNVNIYOY Index',\n",
    "'MPMIJPCA Index',\n",
    "'MPMIJPMA Index',\n",
    "'MPMIJPSA Index',\n",
    "'CNGDPYOY Index',\n",
    "'GDPNTTLY Index',\n",
    "'CHEFTYOY Index',\n",
    "'CNPPIY Index',\n",
    "'CPMINDX Index',\n",
    "'CPMINORD Index',\n",
    "'CPMINEXO Index',\n",
    "'CNCILI Index',\n",
    "'CNFREXPY Index',\n",
    "'CNFRIMPY Index',\n",
    "'KOGDPYOY Index',\n",
    "'KOGDPQOQ Index',\n",
    "'KOECPRCY Index',\n",
    "'KOECGCPY Index',\n",
    "'KOECGVTY Index',\n",
    "'KOECEXPY Index',\n",
    "'KOECIMPY Index',\n",
    "'KOECSPRQ Index',\n",
    "'KOECGCSY Index',\n",
    "'KOECSGVQ Index',\n",
    "'KOECSEMQ Index',\n",
    "'KOECSIMQ Index',\n",
    "'KOECFCOY Index',\n",
    "'KOECFCSY Index',\n",
    "'OEKRN022 Index',\n",
    "'KOGNICNY Index',\n",
    "'KOGNICUY Index',\n",
    "'KOGCGDPY Index',\n",
    "'KOGCSTOQ Index',\n",
    "'KODFTOTY Index',\n",
    "'KOCPI Index',\n",
    "'KOCPIYOY Index',\n",
    "'KOCPIMOM Index',\n",
    "'SKCITTL Index',\n",
    "'SKCIYOY Index',\n",
    "'SKCIMOM Index',\n",
    "'KOCLLNS Index',\n",
    "'KOPPI Index',\n",
    "'KOPPIYOY Index',\n",
    "'KOPPIMOM Index',\n",
    "'KOEAUERS Index',\n",
    "'KOEAEMPY Index',\n",
    "'KOUETTY Index',\n",
    "'KOEAPY Index',\n",
    "'KOEAEPR Index',\n",
    "'KOQEEYOY Index',\n",
    "'KOWDR Index',\n",
    "'KOULMGF Index',\n",
    "'KOULMGFY Index',\n",
    "'KOLPI Index',\n",
    "'KOLPIY Index',\n",
    "'SKLIOTAR Index',\n",
    "'KOIPISA Index',\n",
    "'KOIPIY Index',\n",
    "'KOIPIMOM Index',\n",
    "'KOIPMS Index',\n",
    "'KOIPMY Index',\n",
    "'KOIPMSM Index',\n",
    "'KOPSIY Index',\n",
    "'KOPIIY Index',\n",
    "'KOIPMC Index',\n",
    "'KOIPMCY Index',\n",
    "'KOIPOPSM Index',\n",
    "'KOIVCPEY Index',\n",
    "'KOIVCCY Index',\n",
    "'KOIVCONY Index',\n",
    "'KOCGCGY Index',\n",
    "'KOCGCGSM Index',\n",
    "'KOSVTOTY Index',\n",
    "'KOSVTOTM Index',\n",
    "'KOVMPROD Index',\n",
    "'KOBSMC Index',\n",
    "'KOBSNMC Index',\n",
    "'SKBSIC Index',\n",
    "'SKBSICSA Index',\n",
    "'MPMIKRMA Index',\n",
    "'OEKRKLAR Index',\n",
    "'OEKRKLAP Index',\n",
    "'SKLILI Index',\n",
    "'SKLILY Index',\n",
    "'SKLILC Index',\n",
    "'SKLICI Index',\n",
    "'SKLIINVC Index',\n",
    "'SKLICONE Index',\n",
    "'SKLIMORD Index',\n",
    "'SKLICONT Index',\n",
    "'SKLINBAR Index',\n",
    "'SKLIOTAR Index',\n",
    "'SKLISPRC Index',\n",
    "'SKLIINTR Index',\n",
    "'SKLIIPAL Index',\n",
    "'SKLICNST Index',\n",
    "'SKLISVCI Index',\n",
    "'SKLIWNRS Index',\n",
    "'SKLISHPP Index',\n",
    "'SKLIIMPT Index',\n",
    "'SKLIEMPP Index',\n",
    "'SKLILAP Index',\n",
    "'SKLILAI Index',\n",
    "'SKLINE Index',\n",
    "'SKLICPY Index',\n",
    "'KOBONTL Index',\n",
    "'KOHSTR Index',\n",
    "'KOHPTTL Index',\n",
    "'KOHPTYOY Index',\n",
    "'KOHCTTL Index',\n",
    "'KOHCTYOY Index',\n",
    "'KOBLTHML Index',\n",
    "'KOBLTHMY Index',\n",
    "'KOUHTTL Index',\n",
    "'KORST Index',\n",
    "'KORSTY Index',\n",
    "'KODSDEPT Index',\n",
    "'KODSDISC Index',\n",
    "'KOVMTOTS Index',\n",
    "'KOVMDOMS Index',\n",
    "'KOVMEXPS Index',\n",
    "'KOCCCSI Index',\n",
    "'KOHOINC Index',\n",
    "'KOHOINCY Index',\n",
    "'KOHEUINY Index',\n",
    "'KOHHD Index',\n",
    "'KOHHDY Index',\n",
    "'KOHHL Index',\n",
    "'KOHHLY Index',\n",
    "'EOKOS002 Index',\n",
    "'KOBPCB Index',\n",
    "'EHCAKRY Index',\n",
    "'KOBPFIN Index',\n",
    "'KOBPCA Index',\n",
    "'KODIBAL Index',\n",
    "'KOBPTB Index',\n",
    "'KOTRBAL Index',\n",
    "'KOEXTOT Index',\n",
    "'KOIMTOT Index',\n",
    "'KOEXTOTY Index',\n",
    "'KOIMTOTY Index',\n",
    "'KOEXPTI Index',\n",
    "'KOEXPTIY Index',\n",
    "'KOEXPTIM Index',\n",
    "'KOIMPTI Index',\n",
    "'KOIMPTIY Index',\n",
    "'KOIMPTIM Index',\n",
    "'KOFDIT Index',\n",
    "'KOFDITY Index',\n",
    "'KOELTOT Index',\n",
    "'KOGFBAL Index',\n",
    "'KOGFTEXP Index',\n",
    "'KOGFTR Index',\n",
    "'G7BBKORE Index',\n",
    "'GDDBSOKO Index',\n",
    "'KOMSMBY Index',\n",
    "'KOMSM1Y Index',\n",
    "'KOMSM2Y Index',\n",
    "'KOMSM3Y Index',\n",
    "'KOMSLY Index',\n",
    "'KOMSM1FY Index',\n",
    "'KOFETOT Index',\n",
    "'KOFETOT% Index',\n",
    "'KORP7D Index',\n",
    "'KOCICOBA Index',\n",
    "'KOCICONF Index',\n",
    "'KRBO3M Index',\n",
    "'KWCDC Curncy',\n",
    "'GVSK10YR Index'], :]"
   ]
  },
  {
   "cell_type": "code",
   "execution_count": 7,
   "metadata": {},
   "outputs": [
    {
     "data": {
      "text/html": [
       "<div>\n",
       "<style scoped>\n",
       "    .dataframe tbody tr th:only-of-type {\n",
       "        vertical-align: middle;\n",
       "    }\n",
       "\n",
       "    .dataframe tbody tr th {\n",
       "        vertical-align: top;\n",
       "    }\n",
       "\n",
       "    .dataframe thead th {\n",
       "        text-align: right;\n",
       "    }\n",
       "</style>\n",
       "<table border=\"1\" class=\"dataframe\">\n",
       "  <thead>\n",
       "    <tr style=\"text-align: right;\">\n",
       "      <th></th>\n",
       "      <th>col1</th>\n",
       "      <th>col2</th>\n",
       "      <th>col3</th>\n",
       "      <th>col4</th>\n",
       "    </tr>\n",
       "    <tr>\n",
       "      <th>col0</th>\n",
       "      <th></th>\n",
       "      <th></th>\n",
       "      <th></th>\n",
       "      <th></th>\n",
       "    </tr>\n",
       "  </thead>\n",
       "  <tbody>\n",
       "    <tr>\n",
       "      <th>GDP CQOQ Index</th>\n",
       "      <td>0</td>\n",
       "      <td>1</td>\n",
       "      <td>03/31/1981</td>\n",
       "      <td>8.1</td>\n",
       "    </tr>\n",
       "    <tr>\n",
       "      <th>GDP CQOQ Index</th>\n",
       "      <td>0</td>\n",
       "      <td>1</td>\n",
       "      <td>06/30/1981</td>\n",
       "      <td>-2.9</td>\n",
       "    </tr>\n",
       "    <tr>\n",
       "      <th>GDP CQOQ Index</th>\n",
       "      <td>0</td>\n",
       "      <td>1</td>\n",
       "      <td>09/30/1981</td>\n",
       "      <td>4.9</td>\n",
       "    </tr>\n",
       "    <tr>\n",
       "      <th>GDP CQOQ Index</th>\n",
       "      <td>0</td>\n",
       "      <td>1</td>\n",
       "      <td>12/31/1981</td>\n",
       "      <td>-4.3</td>\n",
       "    </tr>\n",
       "    <tr>\n",
       "      <th>GDP CQOQ Index</th>\n",
       "      <td>0</td>\n",
       "      <td>1</td>\n",
       "      <td>03/31/1982</td>\n",
       "      <td>-6.1</td>\n",
       "    </tr>\n",
       "  </tbody>\n",
       "</table>\n",
       "</div>"
      ],
      "text/plain": [
       "                col1  col2        col3  col4\n",
       "col0                                        \n",
       "GDP CQOQ Index     0     1  03/31/1981   8.1\n",
       "GDP CQOQ Index     0     1  06/30/1981  -2.9\n",
       "GDP CQOQ Index     0     1  09/30/1981   4.9\n",
       "GDP CQOQ Index     0     1  12/31/1981  -4.3\n",
       "GDP CQOQ Index     0     1  03/31/1982  -6.1"
      ]
     },
     "execution_count": 7,
     "metadata": {},
     "output_type": "execute_result"
    }
   ],
   "source": [
    "eco.head()"
   ]
  },
  {
   "cell_type": "code",
   "execution_count": 29,
   "metadata": {},
   "outputs": [],
   "source": [
    "eco.set_index('col0', inplace = True)"
   ]
  },
  {
   "cell_type": "code",
   "execution_count": 13,
   "metadata": {},
   "outputs": [
    {
     "name": "stdout",
     "output_type": "stream",
     "text": [
      "<class 'pandas.core.frame.DataFrame'>\n",
      "RangeIndex: 821348 entries, 0 to 821347\n",
      "Data columns (total 5 columns):\n",
      "col0    821348 non-null object\n",
      "col1    821348 non-null int64\n",
      "col2    821348 non-null int64\n",
      "col3    821348 non-null object\n",
      "col4    821348 non-null object\n",
      "dtypes: int64(2), object(3)\n",
      "memory usage: 31.3+ MB\n"
     ]
    }
   ],
   "source": [
    "eco.info()"
   ]
  },
  {
   "cell_type": "code",
   "execution_count": 15,
   "metadata": {},
   "outputs": [
    {
     "data": {
      "text/html": [
       "<div>\n",
       "<style scoped>\n",
       "    .dataframe tbody tr th:only-of-type {\n",
       "        vertical-align: middle;\n",
       "    }\n",
       "\n",
       "    .dataframe tbody tr th {\n",
       "        vertical-align: top;\n",
       "    }\n",
       "\n",
       "    .dataframe thead th {\n",
       "        text-align: right;\n",
       "    }\n",
       "</style>\n",
       "<table border=\"1\" class=\"dataframe\">\n",
       "  <thead>\n",
       "    <tr style=\"text-align: right;\">\n",
       "      <th></th>\n",
       "      <th>col0</th>\n",
       "      <th>col1</th>\n",
       "      <th>col2</th>\n",
       "      <th>col3</th>\n",
       "      <th>col4</th>\n",
       "    </tr>\n",
       "  </thead>\n",
       "  <tbody>\n",
       "    <tr>\n",
       "      <th>0</th>\n",
       "      <td>GDP CQOQ Index</td>\n",
       "      <td>0</td>\n",
       "      <td>1</td>\n",
       "      <td>03/31/1981</td>\n",
       "      <td>8.1</td>\n",
       "    </tr>\n",
       "    <tr>\n",
       "      <th>1</th>\n",
       "      <td>GDP CQOQ Index</td>\n",
       "      <td>0</td>\n",
       "      <td>1</td>\n",
       "      <td>06/30/1981</td>\n",
       "      <td>-2.9</td>\n",
       "    </tr>\n",
       "    <tr>\n",
       "      <th>2</th>\n",
       "      <td>GDP CQOQ Index</td>\n",
       "      <td>0</td>\n",
       "      <td>1</td>\n",
       "      <td>09/30/1981</td>\n",
       "      <td>4.9</td>\n",
       "    </tr>\n",
       "    <tr>\n",
       "      <th>3</th>\n",
       "      <td>GDP CQOQ Index</td>\n",
       "      <td>0</td>\n",
       "      <td>1</td>\n",
       "      <td>12/31/1981</td>\n",
       "      <td>-4.3</td>\n",
       "    </tr>\n",
       "    <tr>\n",
       "      <th>4</th>\n",
       "      <td>GDP CQOQ Index</td>\n",
       "      <td>0</td>\n",
       "      <td>1</td>\n",
       "      <td>03/31/1982</td>\n",
       "      <td>-6.1</td>\n",
       "    </tr>\n",
       "  </tbody>\n",
       "</table>\n",
       "</div>"
      ],
      "text/plain": [
       "             col0  col1  col2        col3  col4\n",
       "0  GDP CQOQ Index     0     1  03/31/1981   8.1\n",
       "1  GDP CQOQ Index     0     1  06/30/1981  -2.9\n",
       "2  GDP CQOQ Index     0     1  09/30/1981   4.9\n",
       "3  GDP CQOQ Index     0     1  12/31/1981  -4.3\n",
       "4  GDP CQOQ Index     0     1  03/31/1982  -6.1"
      ]
     },
     "execution_count": 15,
     "metadata": {},
     "output_type": "execute_result"
    }
   ],
   "source": [
    "eco.head()"
   ]
  },
  {
   "cell_type": "code",
   "execution_count": 9,
   "metadata": {},
   "outputs": [
    {
     "data": {
      "text/plain": [
       "454"
      ]
     },
     "execution_count": 9,
     "metadata": {},
     "output_type": "execute_result"
    }
   ],
   "source": [
    "len(eco[eco['col4'] == ' '])"
   ]
  },
  {
   "cell_type": "code",
   "execution_count": 14,
   "metadata": {},
   "outputs": [
    {
     "ename": "ValueError",
     "evalue": "Unable to parse string \"GDP CQOQ Index\" at position 0",
     "output_type": "error",
     "traceback": [
      "\u001b[0;31m---------------------------------------------------------------------------\u001b[0m",
      "\u001b[0;31mValueError\u001b[0m                                Traceback (most recent call last)",
      "\u001b[0;32mpandas/_libs/lib.pyx\u001b[0m in \u001b[0;36mpandas._libs.lib.maybe_convert_numeric\u001b[0;34m()\u001b[0m\n",
      "\u001b[0;31mValueError\u001b[0m: Unable to parse string \"GDP CQOQ Index\"",
      "\nDuring handling of the above exception, another exception occurred:\n",
      "\u001b[0;31mValueError\u001b[0m                                Traceback (most recent call last)",
      "\u001b[0;32m<ipython-input-14-780403b87add>\u001b[0m in \u001b[0;36m<module>\u001b[0;34m\u001b[0m\n\u001b[0;32m----> 1\u001b[0;31m \u001b[0meco\u001b[0m\u001b[0;34m[\u001b[0m\u001b[0;34m'col0'\u001b[0m\u001b[0;34m]\u001b[0m \u001b[0;34m=\u001b[0m \u001b[0mpd\u001b[0m\u001b[0;34m.\u001b[0m\u001b[0mto_numeric\u001b[0m\u001b[0;34m(\u001b[0m\u001b[0meco\u001b[0m\u001b[0;34m[\u001b[0m\u001b[0;34m'col0'\u001b[0m\u001b[0;34m]\u001b[0m\u001b[0;34m)\u001b[0m\u001b[0;34m\u001b[0m\u001b[0;34m\u001b[0m\u001b[0m\n\u001b[0m",
      "\u001b[0;32m~/opt/anaconda3/envs/tf-py36/lib/python3.6/site-packages/pandas/core/tools/numeric.py\u001b[0m in \u001b[0;36mto_numeric\u001b[0;34m(arg, errors, downcast)\u001b[0m\n\u001b[1;32m    149\u001b[0m             \u001b[0mcoerce_numeric\u001b[0m \u001b[0;34m=\u001b[0m \u001b[0merrors\u001b[0m \u001b[0;32mnot\u001b[0m \u001b[0;32min\u001b[0m \u001b[0;34m(\u001b[0m\u001b[0;34m\"ignore\"\u001b[0m\u001b[0;34m,\u001b[0m \u001b[0;34m\"raise\"\u001b[0m\u001b[0;34m)\u001b[0m\u001b[0;34m\u001b[0m\u001b[0;34m\u001b[0m\u001b[0m\n\u001b[1;32m    150\u001b[0m             values = lib.maybe_convert_numeric(\n\u001b[0;32m--> 151\u001b[0;31m                 \u001b[0mvalues\u001b[0m\u001b[0;34m,\u001b[0m \u001b[0mset\u001b[0m\u001b[0;34m(\u001b[0m\u001b[0;34m)\u001b[0m\u001b[0;34m,\u001b[0m \u001b[0mcoerce_numeric\u001b[0m\u001b[0;34m=\u001b[0m\u001b[0mcoerce_numeric\u001b[0m\u001b[0;34m\u001b[0m\u001b[0;34m\u001b[0m\u001b[0m\n\u001b[0m\u001b[1;32m    152\u001b[0m             )\n\u001b[1;32m    153\u001b[0m \u001b[0;34m\u001b[0m\u001b[0m\n",
      "\u001b[0;32mpandas/_libs/lib.pyx\u001b[0m in \u001b[0;36mpandas._libs.lib.maybe_convert_numeric\u001b[0;34m()\u001b[0m\n",
      "\u001b[0;31mValueError\u001b[0m: Unable to parse string \"GDP CQOQ Index\" at position 0"
     ]
    }
   ],
   "source": [
    "eco['col0'] = pd.to_numeric(eco['col0'])"
   ]
  },
  {
   "cell_type": "code",
   "execution_count": 69,
   "metadata": {},
   "outputs": [
    {
     "ename": "ValueError",
     "evalue": "Unable to parse string \"9.0963MMMM\" at position 171628",
     "output_type": "error",
     "traceback": [
      "\u001b[0;31m---------------------------------------------------------------------------\u001b[0m",
      "\u001b[0;31mValueError\u001b[0m                                Traceback (most recent call last)",
      "\u001b[0;32mpandas/_libs/lib.pyx\u001b[0m in \u001b[0;36mpandas._libs.lib.maybe_convert_numeric\u001b[0;34m()\u001b[0m\n",
      "\u001b[0;31mValueError\u001b[0m: Unable to parse string \"9.0963MMMM\"",
      "\nDuring handling of the above exception, another exception occurred:\n",
      "\u001b[0;31mValueError\u001b[0m                                Traceback (most recent call last)",
      "\u001b[0;32m<ipython-input-69-97672c263d2c>\u001b[0m in \u001b[0;36m<module>\u001b[0;34m\u001b[0m\n\u001b[1;32m      1\u001b[0m \u001b[0;32mfor\u001b[0m \u001b[0mi\u001b[0m \u001b[0;32min\u001b[0m \u001b[0;34m[\u001b[0m\u001b[0;34m'col1'\u001b[0m\u001b[0;34m,\u001b[0m \u001b[0;34m'col2'\u001b[0m\u001b[0;34m,\u001b[0m \u001b[0;34m'col4'\u001b[0m\u001b[0;34m]\u001b[0m\u001b[0;34m:\u001b[0m\u001b[0;34m\u001b[0m\u001b[0;34m\u001b[0m\u001b[0m\n\u001b[0;32m----> 2\u001b[0;31m     \u001b[0meco\u001b[0m\u001b[0;34m[\u001b[0m\u001b[0mi\u001b[0m\u001b[0;34m]\u001b[0m \u001b[0;34m=\u001b[0m \u001b[0mpd\u001b[0m\u001b[0;34m.\u001b[0m\u001b[0mto_numeric\u001b[0m\u001b[0;34m(\u001b[0m\u001b[0meco\u001b[0m\u001b[0;34m[\u001b[0m\u001b[0mi\u001b[0m\u001b[0;34m]\u001b[0m\u001b[0;34m)\u001b[0m\u001b[0;34m\u001b[0m\u001b[0;34m\u001b[0m\u001b[0m\n\u001b[0m",
      "\u001b[0;32m~/opt/anaconda3/envs/tf-py36/lib/python3.6/site-packages/pandas/core/tools/numeric.py\u001b[0m in \u001b[0;36mto_numeric\u001b[0;34m(arg, errors, downcast)\u001b[0m\n\u001b[1;32m    149\u001b[0m             \u001b[0mcoerce_numeric\u001b[0m \u001b[0;34m=\u001b[0m \u001b[0merrors\u001b[0m \u001b[0;32mnot\u001b[0m \u001b[0;32min\u001b[0m \u001b[0;34m(\u001b[0m\u001b[0;34m\"ignore\"\u001b[0m\u001b[0;34m,\u001b[0m \u001b[0;34m\"raise\"\u001b[0m\u001b[0;34m)\u001b[0m\u001b[0;34m\u001b[0m\u001b[0;34m\u001b[0m\u001b[0m\n\u001b[1;32m    150\u001b[0m             values = lib.maybe_convert_numeric(\n\u001b[0;32m--> 151\u001b[0;31m                 \u001b[0mvalues\u001b[0m\u001b[0;34m,\u001b[0m \u001b[0mset\u001b[0m\u001b[0;34m(\u001b[0m\u001b[0;34m)\u001b[0m\u001b[0;34m,\u001b[0m \u001b[0mcoerce_numeric\u001b[0m\u001b[0;34m=\u001b[0m\u001b[0mcoerce_numeric\u001b[0m\u001b[0;34m\u001b[0m\u001b[0;34m\u001b[0m\u001b[0m\n\u001b[0m\u001b[1;32m    152\u001b[0m             )\n\u001b[1;32m    153\u001b[0m \u001b[0;34m\u001b[0m\u001b[0m\n",
      "\u001b[0;32mpandas/_libs/lib.pyx\u001b[0m in \u001b[0;36mpandas._libs.lib.maybe_convert_numeric\u001b[0;34m()\u001b[0m\n",
      "\u001b[0;31mValueError\u001b[0m: Unable to parse string \"9.0963MMMM\" at position 171628"
     ]
    }
   ],
   "source": [
    "for i in ['col1', 'col2', 'col4']:\n",
    "    eco[i] = pd.to_numeric(eco[i])"
   ]
  },
  {
   "cell_type": "code",
   "execution_count": 36,
   "metadata": {},
   "outputs": [
    {
     "data": {
      "text/plain": [
       "821348"
      ]
     },
     "execution_count": 36,
     "metadata": {},
     "output_type": "execute_result"
    }
   ],
   "source": [
    "len(eco)"
   ]
  },
  {
   "cell_type": "code",
   "execution_count": 37,
   "metadata": {},
   "outputs": [
    {
     "data": {
      "text/plain": [
       "454"
      ]
     },
     "execution_count": 37,
     "metadata": {},
     "output_type": "execute_result"
    }
   ],
   "source": [
    "len(eco[eco['col4'] == ' '])"
   ]
  },
  {
   "cell_type": "code",
   "execution_count": 54,
   "metadata": {},
   "outputs": [],
   "source": [
    "eco.drop(eco[eco['col4'] == ' '].index, axis = 0, inplace = True)"
   ]
  },
  {
   "cell_type": "code",
   "execution_count": 12,
   "metadata": {},
   "outputs": [],
   "source": [
    "eco.reset_index(inplace = True)"
   ]
  },
  {
   "cell_type": "code",
   "execution_count": 60,
   "metadata": {},
   "outputs": [
    {
     "data": {
      "text/plain": [
       "1"
      ]
     },
     "execution_count": 60,
     "metadata": {},
     "output_type": "execute_result"
    }
   ],
   "source": [
    "len(eco[eco['col4'] == '3.0609MMMM'])"
   ]
  },
  {
   "cell_type": "code",
   "execution_count": 70,
   "metadata": {},
   "outputs": [],
   "source": [
    "eco.drop(eco[eco['col4'] == '9.0963MMMM'].index, axis = 0, inplace = True)"
   ]
  },
  {
   "cell_type": "code",
   "execution_count": 59,
   "metadata": {},
   "outputs": [
    {
     "data": {
      "text/plain": [
       "array(['8.1', '-2.9', '4.9', ..., 14038.0, 14031.0, 14043.0], dtype=object)"
      ]
     },
     "execution_count": 59,
     "metadata": {},
     "output_type": "execute_result"
    }
   ],
   "source": [
    "eco['col4']"
   ]
  },
  {
   "cell_type": "code",
   "execution_count": 74,
   "metadata": {},
   "outputs": [],
   "source": [
    "def change(x):\n",
    "    if 'm' in x:\n",
    "        x = ' '\n",
    "    return x"
   ]
  },
  {
   "cell_type": "code",
   "execution_count": 98,
   "metadata": {},
   "outputs": [
    {
     "data": {
      "text/plain": [
       "0           8.1\n",
       "1          -2.9\n",
       "2           4.9\n",
       "3          -4.3\n",
       "4          -6.1\n",
       "          ...  \n",
       "821343    14038\n",
       "821344    14028\n",
       "821345    14035\n",
       "821346    14031\n",
       "821347    14043\n",
       "Name: col4, Length: 820889, dtype: object"
      ]
     },
     "execution_count": 98,
     "metadata": {},
     "output_type": "execute_result"
    }
   ],
   "source": [
    "eco['col4']"
   ]
  },
  {
   "cell_type": "code",
   "execution_count": 105,
   "metadata": {},
   "outputs": [
    {
     "data": {
      "text/plain": [
       "'9'"
      ]
     },
     "execution_count": 105,
     "metadata": {},
     "output_type": "execute_result"
    }
   ],
   "source": [
    "list(eco['col4'][1])[-1]"
   ]
  },
  {
   "cell_type": "code",
   "execution_count": 99,
   "metadata": {},
   "outputs": [
    {
     "ename": "TypeError",
     "evalue": "argument of type 'float' is not iterable",
     "output_type": "error",
     "traceback": [
      "\u001b[0;31m---------------------------------------------------------------------------\u001b[0m",
      "\u001b[0;31mTypeError\u001b[0m                                 Traceback (most recent call last)",
      "\u001b[0;32m<ipython-input-99-aea4d6a13f8d>\u001b[0m in \u001b[0;36m<module>\u001b[0;34m\u001b[0m\n\u001b[0;32m----> 1\u001b[0;31m \u001b[0meco\u001b[0m\u001b[0;34m[\u001b[0m\u001b[0;34m'col4'\u001b[0m\u001b[0;34m]\u001b[0m \u001b[0;34m=\u001b[0m \u001b[0meco\u001b[0m\u001b[0;34m[\u001b[0m\u001b[0;34m'col4'\u001b[0m\u001b[0;34m]\u001b[0m\u001b[0;34m.\u001b[0m\u001b[0mmap\u001b[0m\u001b[0;34m(\u001b[0m\u001b[0;32mlambda\u001b[0m \u001b[0mx\u001b[0m\u001b[0;34m:\u001b[0m \u001b[0mchange\u001b[0m\u001b[0;34m(\u001b[0m\u001b[0mx\u001b[0m\u001b[0;34m)\u001b[0m\u001b[0;34m)\u001b[0m\u001b[0;34m\u001b[0m\u001b[0;34m\u001b[0m\u001b[0m\n\u001b[0m",
      "\u001b[0;32m~/opt/anaconda3/envs/tf-py36/lib/python3.6/site-packages/pandas/core/series.py\u001b[0m in \u001b[0;36mmap\u001b[0;34m(self, arg, na_action)\u001b[0m\n\u001b[1;32m   3826\u001b[0m         \u001b[0mdtype\u001b[0m\u001b[0;34m:\u001b[0m \u001b[0mobject\u001b[0m\u001b[0;34m\u001b[0m\u001b[0;34m\u001b[0m\u001b[0m\n\u001b[1;32m   3827\u001b[0m         \"\"\"\n\u001b[0;32m-> 3828\u001b[0;31m         \u001b[0mnew_values\u001b[0m \u001b[0;34m=\u001b[0m \u001b[0msuper\u001b[0m\u001b[0;34m(\u001b[0m\u001b[0;34m)\u001b[0m\u001b[0;34m.\u001b[0m\u001b[0m_map_values\u001b[0m\u001b[0;34m(\u001b[0m\u001b[0marg\u001b[0m\u001b[0;34m,\u001b[0m \u001b[0mna_action\u001b[0m\u001b[0;34m=\u001b[0m\u001b[0mna_action\u001b[0m\u001b[0;34m)\u001b[0m\u001b[0;34m\u001b[0m\u001b[0;34m\u001b[0m\u001b[0m\n\u001b[0m\u001b[1;32m   3829\u001b[0m         \u001b[0;32mreturn\u001b[0m \u001b[0mself\u001b[0m\u001b[0;34m.\u001b[0m\u001b[0m_constructor\u001b[0m\u001b[0;34m(\u001b[0m\u001b[0mnew_values\u001b[0m\u001b[0;34m,\u001b[0m \u001b[0mindex\u001b[0m\u001b[0;34m=\u001b[0m\u001b[0mself\u001b[0m\u001b[0;34m.\u001b[0m\u001b[0mindex\u001b[0m\u001b[0;34m)\u001b[0m\u001b[0;34m.\u001b[0m\u001b[0m__finalize__\u001b[0m\u001b[0;34m(\u001b[0m\u001b[0mself\u001b[0m\u001b[0;34m)\u001b[0m\u001b[0;34m\u001b[0m\u001b[0;34m\u001b[0m\u001b[0m\n\u001b[1;32m   3830\u001b[0m \u001b[0;34m\u001b[0m\u001b[0m\n",
      "\u001b[0;32m~/opt/anaconda3/envs/tf-py36/lib/python3.6/site-packages/pandas/core/base.py\u001b[0m in \u001b[0;36m_map_values\u001b[0;34m(self, mapper, na_action)\u001b[0m\n\u001b[1;32m   1298\u001b[0m \u001b[0;34m\u001b[0m\u001b[0m\n\u001b[1;32m   1299\u001b[0m         \u001b[0;31m# mapper is a function\u001b[0m\u001b[0;34m\u001b[0m\u001b[0;34m\u001b[0m\u001b[0;34m\u001b[0m\u001b[0m\n\u001b[0;32m-> 1300\u001b[0;31m         \u001b[0mnew_values\u001b[0m \u001b[0;34m=\u001b[0m \u001b[0mmap_f\u001b[0m\u001b[0;34m(\u001b[0m\u001b[0mvalues\u001b[0m\u001b[0;34m,\u001b[0m \u001b[0mmapper\u001b[0m\u001b[0;34m)\u001b[0m\u001b[0;34m\u001b[0m\u001b[0;34m\u001b[0m\u001b[0m\n\u001b[0m\u001b[1;32m   1301\u001b[0m \u001b[0;34m\u001b[0m\u001b[0m\n\u001b[1;32m   1302\u001b[0m         \u001b[0;32mreturn\u001b[0m \u001b[0mnew_values\u001b[0m\u001b[0;34m\u001b[0m\u001b[0;34m\u001b[0m\u001b[0m\n",
      "\u001b[0;32mpandas/_libs/lib.pyx\u001b[0m in \u001b[0;36mpandas._libs.lib.map_infer\u001b[0;34m()\u001b[0m\n",
      "\u001b[0;32m<ipython-input-99-aea4d6a13f8d>\u001b[0m in \u001b[0;36m<lambda>\u001b[0;34m(x)\u001b[0m\n\u001b[0;32m----> 1\u001b[0;31m \u001b[0meco\u001b[0m\u001b[0;34m[\u001b[0m\u001b[0;34m'col4'\u001b[0m\u001b[0;34m]\u001b[0m \u001b[0;34m=\u001b[0m \u001b[0meco\u001b[0m\u001b[0;34m[\u001b[0m\u001b[0;34m'col4'\u001b[0m\u001b[0;34m]\u001b[0m\u001b[0;34m.\u001b[0m\u001b[0mmap\u001b[0m\u001b[0;34m(\u001b[0m\u001b[0;32mlambda\u001b[0m \u001b[0mx\u001b[0m\u001b[0;34m:\u001b[0m \u001b[0mchange\u001b[0m\u001b[0;34m(\u001b[0m\u001b[0mx\u001b[0m\u001b[0;34m)\u001b[0m\u001b[0;34m)\u001b[0m\u001b[0;34m\u001b[0m\u001b[0;34m\u001b[0m\u001b[0m\n\u001b[0m",
      "\u001b[0;32m<ipython-input-74-2691da27aa10>\u001b[0m in \u001b[0;36mchange\u001b[0;34m(x)\u001b[0m\n\u001b[1;32m      1\u001b[0m \u001b[0;32mdef\u001b[0m \u001b[0mchange\u001b[0m\u001b[0;34m(\u001b[0m\u001b[0mx\u001b[0m\u001b[0;34m)\u001b[0m\u001b[0;34m:\u001b[0m\u001b[0;34m\u001b[0m\u001b[0;34m\u001b[0m\u001b[0m\n\u001b[0;32m----> 2\u001b[0;31m     \u001b[0;32mif\u001b[0m \u001b[0;34m'm'\u001b[0m \u001b[0;32min\u001b[0m \u001b[0mx\u001b[0m\u001b[0;34m:\u001b[0m\u001b[0;34m\u001b[0m\u001b[0;34m\u001b[0m\u001b[0m\n\u001b[0m\u001b[1;32m      3\u001b[0m         \u001b[0mx\u001b[0m \u001b[0;34m=\u001b[0m \u001b[0;34m' '\u001b[0m\u001b[0;34m\u001b[0m\u001b[0;34m\u001b[0m\u001b[0m\n\u001b[1;32m      4\u001b[0m     \u001b[0;32mreturn\u001b[0m \u001b[0mx\u001b[0m\u001b[0;34m\u001b[0m\u001b[0;34m\u001b[0m\u001b[0m\n",
      "\u001b[0;31mTypeError\u001b[0m: argument of type 'float' is not iterable"
     ]
    }
   ],
   "source": [
    "eco['col4'] = eco['col4'].map(lambda x: change(x))"
   ]
  },
  {
   "cell_type": "code",
   "execution_count": null,
   "metadata": {},
   "outputs": [],
   "source": []
  }
 ],
 "metadata": {
  "kernelspec": {
   "display_name": "Tensorflow Python 3.6",
   "language": "python",
   "name": "tf-py36"
  },
  "language_info": {
   "codemirror_mode": {
    "name": "ipython",
    "version": 3
   },
   "file_extension": ".py",
   "mimetype": "text/x-python",
   "name": "python",
   "nbconvert_exporter": "python",
   "pygments_lexer": "ipython3",
   "version": "3.6.9"
  }
 },
 "nbformat": 4,
 "nbformat_minor": 2
}
