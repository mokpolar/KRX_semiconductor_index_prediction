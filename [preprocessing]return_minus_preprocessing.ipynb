{
 "cells": [
  {
   "cell_type": "code",
   "execution_count": 39,
   "metadata": {},
   "outputs": [
    {
     "data": {
      "text/plain": "'\\n# Input\\n\\n1. wide data involves date index\\n2. map data involves columns ticker, index\\n\\n---\\n# Feature Extraction\\n\\nmap index에 따라\\nminus -> differ function\\nchange -> returner function\\nelse -> 그대로 \\n\\n---\\n# ACF\\nacf_fal function\\n(cubic spline -> ffill -> bfill 고정 적용)\\n\\n\\n---\\n# Interpolation\\n\\n유형은 3가지로 \\nstep, linear, spline\\n\\n---\\n'"
     },
     "execution_count": 39,
     "metadata": {},
     "output_type": "execute_result"
    }
   ],
   "source": [
    "'''\n",
    "# Input\n",
    "\n",
    "\n",
    "# Input\n",
    "\n",
    "1. wide data(date index 포함해야 함)\n",
    "2. map data involves columns ticker, index\n",
    "\n",
    "---\n",
    "# Feature Extraction\n",
    "\n",
    "map index에 따라\n",
    "minus -> differ function\n",
    "change -> returner function\n",
    "else -> 그대로 \n",
    "\n",
    "---\n",
    "# ACF\n",
    "acf_fal function\n",
    "(cubic spline -> ffill -> bfill 고정 적용)\n",
    "\n",
    "---\n",
    "'''  "
   ]
  },
  {
   "cell_type": "code",
   "execution_count": 40,
   "metadata": {},
   "outputs": [],
   "source": [
    "import pandas as pd\n",
    "import numpy as np\n",
    "import statsmodels.api as sm\n",
    "import matplotlib.pyplot as plt\n",
    "%matplotlib inline"
   ]
  },
  {
   "cell_type": "code",
   "execution_count": 41,
   "metadata": {},
   "outputs": [],
   "source": [
    "newdf = pd.read_csv('semiconductor_bloomberg_raw_20200109.csv', index_col = 0)"
   ]
  },
  {
   "cell_type": "code",
   "execution_count": 42,
   "metadata": {},
   "outputs": [
    {
     "data": {
      "text/html": "<div>\n<style scoped>\n    .dataframe tbody tr th:only-of-type {\n        vertical-align: middle;\n    }\n\n    .dataframe tbody tr th {\n        vertical-align: top;\n    }\n\n    .dataframe thead th {\n        text-align: right;\n    }\n</style>\n<table border=\"1\" class=\"dataframe\">\n  <thead>\n    <tr style=\"text-align: right;\">\n      <th></th>\n      <th>date</th>\n      <th>GDPCQOQIndex</th>\n      <th>GDPCYOYIndex</th>\n      <th>GDPCTOT%Index</th>\n      <th>GPDITOC%Index</th>\n      <th>GPGSTOC%Index</th>\n      <th>RGCDCIPIIndex</th>\n      <th>GDPCUR$Index</th>\n      <th>GDPCURYIndex</th>\n      <th>GDPPIQQIndex</th>\n      <th>...</th>\n      <th>KOMSLYIndex</th>\n      <th>KOMSM1FYIndex</th>\n      <th>KOFETOTIndex</th>\n      <th>KOFETOT%Index</th>\n      <th>KORP7DIndex</th>\n      <th>KOCICOBAIndex</th>\n      <th>KOCICONFIndex</th>\n      <th>KRBO3MIndex</th>\n      <th>KWCDCCurncy</th>\n      <th>GVSK10YRIndex</th>\n    </tr>\n  </thead>\n  <tbody>\n    <tr>\n      <th>0</th>\n      <td>1981-01-01</td>\n      <td>NaN</td>\n      <td>NaN</td>\n      <td>NaN</td>\n      <td>NaN</td>\n      <td>NaN</td>\n      <td>NaN</td>\n      <td>NaN</td>\n      <td>NaN</td>\n      <td>NaN</td>\n      <td>...</td>\n      <td>NaN</td>\n      <td>NaN</td>\n      <td>NaN</td>\n      <td>NaN</td>\n      <td>NaN</td>\n      <td>NaN</td>\n      <td>NaN</td>\n      <td>NaN</td>\n      <td>NaN</td>\n      <td>NaN</td>\n    </tr>\n    <tr>\n      <th>1</th>\n      <td>1981-01-02</td>\n      <td>NaN</td>\n      <td>NaN</td>\n      <td>NaN</td>\n      <td>NaN</td>\n      <td>NaN</td>\n      <td>NaN</td>\n      <td>NaN</td>\n      <td>NaN</td>\n      <td>NaN</td>\n      <td>...</td>\n      <td>NaN</td>\n      <td>NaN</td>\n      <td>NaN</td>\n      <td>NaN</td>\n      <td>NaN</td>\n      <td>NaN</td>\n      <td>NaN</td>\n      <td>NaN</td>\n      <td>NaN</td>\n      <td>NaN</td>\n    </tr>\n    <tr>\n      <th>2</th>\n      <td>1981-01-05</td>\n      <td>NaN</td>\n      <td>NaN</td>\n      <td>NaN</td>\n      <td>NaN</td>\n      <td>NaN</td>\n      <td>NaN</td>\n      <td>NaN</td>\n      <td>NaN</td>\n      <td>NaN</td>\n      <td>...</td>\n      <td>NaN</td>\n      <td>NaN</td>\n      <td>NaN</td>\n      <td>NaN</td>\n      <td>NaN</td>\n      <td>NaN</td>\n      <td>NaN</td>\n      <td>NaN</td>\n      <td>NaN</td>\n      <td>NaN</td>\n    </tr>\n    <tr>\n      <th>3</th>\n      <td>1981-01-06</td>\n      <td>NaN</td>\n      <td>NaN</td>\n      <td>NaN</td>\n      <td>NaN</td>\n      <td>NaN</td>\n      <td>NaN</td>\n      <td>NaN</td>\n      <td>NaN</td>\n      <td>NaN</td>\n      <td>...</td>\n      <td>NaN</td>\n      <td>NaN</td>\n      <td>NaN</td>\n      <td>NaN</td>\n      <td>NaN</td>\n      <td>NaN</td>\n      <td>NaN</td>\n      <td>NaN</td>\n      <td>NaN</td>\n      <td>NaN</td>\n    </tr>\n    <tr>\n      <th>4</th>\n      <td>1981-01-07</td>\n      <td>NaN</td>\n      <td>NaN</td>\n      <td>NaN</td>\n      <td>NaN</td>\n      <td>NaN</td>\n      <td>NaN</td>\n      <td>NaN</td>\n      <td>NaN</td>\n      <td>NaN</td>\n      <td>...</td>\n      <td>NaN</td>\n      <td>NaN</td>\n      <td>NaN</td>\n      <td>NaN</td>\n      <td>NaN</td>\n      <td>NaN</td>\n      <td>NaN</td>\n      <td>NaN</td>\n      <td>NaN</td>\n      <td>NaN</td>\n    </tr>\n  </tbody>\n</table>\n<p>5 rows × 291 columns</p>\n</div>",
      "text/plain": "         date  GDPCQOQIndex  GDPCYOYIndex  GDPCTOT%Index  GPDITOC%Index  \\\n0  1981-01-01           NaN           NaN            NaN            NaN   \n1  1981-01-02           NaN           NaN            NaN            NaN   \n2  1981-01-05           NaN           NaN            NaN            NaN   \n3  1981-01-06           NaN           NaN            NaN            NaN   \n4  1981-01-07           NaN           NaN            NaN            NaN   \n\n   GPGSTOC%Index  RGCDCIPIIndex  GDPCUR$Index  GDPCURYIndex  GDPPIQQIndex  \\\n0            NaN            NaN           NaN           NaN           NaN   \n1            NaN            NaN           NaN           NaN           NaN   \n2            NaN            NaN           NaN           NaN           NaN   \n3            NaN            NaN           NaN           NaN           NaN   \n4            NaN            NaN           NaN           NaN           NaN   \n\n   ...  KOMSLYIndex  KOMSM1FYIndex  KOFETOTIndex  KOFETOT%Index  KORP7DIndex  \\\n0  ...          NaN            NaN           NaN            NaN          NaN   \n1  ...          NaN            NaN           NaN            NaN          NaN   \n2  ...          NaN            NaN           NaN            NaN          NaN   \n3  ...          NaN            NaN           NaN            NaN          NaN   \n4  ...          NaN            NaN           NaN            NaN          NaN   \n\n   KOCICOBAIndex  KOCICONFIndex  KRBO3MIndex  KWCDCCurncy  GVSK10YRIndex  \n0            NaN            NaN          NaN          NaN            NaN  \n1            NaN            NaN          NaN          NaN            NaN  \n2            NaN            NaN          NaN          NaN            NaN  \n3            NaN            NaN          NaN          NaN            NaN  \n4            NaN            NaN          NaN          NaN            NaN  \n\n[5 rows x 291 columns]"
     },
     "execution_count": 42,
     "metadata": {},
     "output_type": "execute_result"
    }
   ],
   "source": [
    "newdf.head()"
   ]
  },
  {
   "cell_type": "code",
   "execution_count": 43,
   "metadata": {},
   "outputs": [
    {
     "data": {
      "text/plain": "291"
     },
     "execution_count": 43,
     "metadata": {},
     "output_type": "execute_result"
    }
   ],
   "source": [
    "len(newdf.columns)"
   ]
  },
  {
   "cell_type": "code",
   "execution_count": 44,
   "metadata": {},
   "outputs": [],
   "source": [
    "mmdf = pd.read_csv('bloomberg_map_index.csv')"
   ]
  },
  {
   "cell_type": "code",
   "execution_count": 45,
   "metadata": {},
   "outputs": [
    {
     "data": {
      "text/html": "<div>\n<style scoped>\n    .dataframe tbody tr th:only-of-type {\n        vertical-align: middle;\n    }\n\n    .dataframe tbody tr th {\n        vertical-align: top;\n    }\n\n    .dataframe thead th {\n        text-align: right;\n    }\n</style>\n<table border=\"1\" class=\"dataframe\">\n  <thead>\n    <tr style=\"text-align: right;\">\n      <th></th>\n      <th>ticker</th>\n      <th>index</th>\n    </tr>\n  </thead>\n  <tbody>\n    <tr>\n      <th>0</th>\n      <td>SPXIndex</td>\n      <td>change</td>\n    </tr>\n    <tr>\n      <th>1</th>\n      <td>CCMPIndex</td>\n      <td>change</td>\n    </tr>\n    <tr>\n      <th>2</th>\n      <td>NKYIndex</td>\n      <td>change</td>\n    </tr>\n    <tr>\n      <th>3</th>\n      <td>CINDIndex</td>\n      <td>change</td>\n    </tr>\n    <tr>\n      <th>4</th>\n      <td>IXKIndex</td>\n      <td>change</td>\n    </tr>\n  </tbody>\n</table>\n</div>",
      "text/plain": "      ticker   index\n0   SPXIndex  change\n1  CCMPIndex  change\n2   NKYIndex  change\n3  CINDIndex  change\n4   IXKIndex  change"
     },
     "execution_count": 45,
     "metadata": {},
     "output_type": "execute_result"
    }
   ],
   "source": [
    "mmdf.head()"
   ]
  },
  {
   "cell_type": "code",
   "execution_count": 46,
   "metadata": {},
   "outputs": [],
   "source": [
    "# date time으로 변경이 안되어 있었다 .\n",
    "newdf['date'] = pd.to_datetime(newdf['date'])"
   ]
  },
  {
   "cell_type": "code",
   "execution_count": 47,
   "metadata": {},
   "outputs": [],
   "source": [
    "newdf.set_index('date', inplace = True)"
   ]
  },
  {
   "cell_type": "code",
   "execution_count": 48,
   "metadata": {},
   "outputs": [],
   "source": [
    "# 제대로 Column 들이 박혀있는 Dataframe이 들어오는 클래스\n",
    "class Builder:\n",
    "\n",
    "    def __init__(self, input_df, map_df):\n",
    "        self.df = input_df\n",
    "        self.mdf = map_df\n",
    "        self.lag_days = [1, 7, 30, 90, 180, 365] # lagging day variation\n",
    "\n",
    "\n",
    "    # df should involve datetime index\n",
    "    # target column example = 'SKhynix_close'\n",
    "    def returner(self, target_column):      \n",
    "\n",
    "        col_name =  []\n",
    "        # creating new column name\n",
    "        for i in self.lag_days:\n",
    "            col_name.append(target_column + str(i))\n",
    "        # appending lagged columns\n",
    "        for i, j in enumerate(self.lag_days):\n",
    "            self.df[locals()['col_name'][i]] = self.df[target_column] / self.df[target_column].shift(periods = j, axis = 0)\n",
    "\n",
    "        return self.df # Class 내에 남아있는 구조 여야 하는데 ..\n",
    "\n",
    "    # df should involve datetime index\n",
    "    # target column example = 'SKhynix_close'\n",
    "    \n",
    "    def differ(self, target_column):\n",
    "        col_name = []\n",
    "        for i in self.lag_days:\n",
    "            col_name.append(target_column + str(i))\n",
    "        for i, j in enumerate(self.lag_days):\n",
    "            self.df[locals()['col_name'][i]] = self.df[target_column] - self.df[target_column].shift(periods = j, axis = 0)\n",
    "        return self.df\n",
    "    \n",
    "    \n",
    "    def execution(self):\n",
    "        for i, j in enumerate(self.mdf['ticker']): # 키 값들을 순차적으로 돌리면서 순회, 예외사항이 있는지? 아 else를 걸어두면 상관없겠구나. 딱 mdf에 있는 만큼만 반영될듯\n",
    "            #if self.mdf.loc[i, :][0] in self.df.columns:\n",
    "            if j in self.df.columns:\n",
    "\n",
    "                if self.mdf.loc[i, :][1] == 'minus':\n",
    "                    self.differ(j)\n",
    "\n",
    "                elif self.mdf.loc[i, :][1] == 'change':\n",
    "                    self.returner(j)\n",
    "\n",
    "                else:\n",
    "                    pass\n",
    "            else:\n",
    "                pass\n",
    "            \n",
    "        return self.df\n",
    "            \n",
    "    # 차분에 ACF 그래프도 그리면 좋을듯. 정상성을 나타내지 않는 시계열에서는 ACF가 느리게 감소하고\n",
    "    # 정상성을 나타내는 시계열에서는 ACF가 비교적 빠르게 0으로 떨어질 것\n",
    "    # 구글 주식 가격 데이터의 경우 차분을 하면 ACF는 단순히 white noise time series 처럼 생겼음\n",
    "\n",
    "\n",
    "    # spline이 된 상태에서는 acf를 적용할 수 있다. \n",
    "    # cubic spline만 적용한다고 가정하고\n",
    "    # raw에서 채우지는 않고 acf만 보는 function을 짜자\n",
    "    def acf_cal(self, target):\n",
    "        data = pd.DataFrame(self.df[target])\n",
    "        data = data.interpolate(method = 'cubic', limit_area = 'inside').fillna(method = 'ffill').fillna(method = 'bfill')\n",
    "        acf = sm.tsa.acf(data)      \n",
    "        plt.stem(acf)\n",
    "        plt.show()\n",
    "\n"
   ]
  },
  {
   "cell_type": "code",
   "execution_count": 49,
   "metadata": {},
   "outputs": [],
   "source": [
    "cla = Builder(newdf, mmdf)"
   ]
  },
  {
   "cell_type": "code",
   "execution_count": 50,
   "metadata": {},
   "outputs": [
    {
     "data": {
      "text/plain": "Index(['GDPCQOQIndex', 'GDPCYOYIndex', 'GDPCTOT%Index', 'GPDITOC%Index',\n       'GPGSTOC%Index', 'RGCDCIPIIndex', 'GDPCUR$Index', 'GDPCURYIndex',\n       'GDPPIQQIndex', 'GDPCPCECIndex',\n       ...\n       'KOMSLYIndex', 'KOMSM1FYIndex', 'KOFETOTIndex', 'KOFETOT%Index',\n       'KORP7DIndex', 'KOCICOBAIndex', 'KOCICONFIndex', 'KRBO3MIndex',\n       'KWCDCCurncy', 'GVSK10YRIndex'],\n      dtype='object', length=290)"
     },
     "execution_count": 50,
     "metadata": {},
     "output_type": "execute_result"
    }
   ],
   "source": [
    "cla.df.columns"
   ]
  },
  {
   "cell_type": "code",
   "execution_count": 51,
   "metadata": {},
   "outputs": [
    {
     "data": {
      "text/html": "<div>\n<style scoped>\n    .dataframe tbody tr th:only-of-type {\n        vertical-align: middle;\n    }\n\n    .dataframe tbody tr th {\n        vertical-align: top;\n    }\n\n    .dataframe thead th {\n        text-align: right;\n    }\n</style>\n<table border=\"1\" class=\"dataframe\">\n  <thead>\n    <tr style=\"text-align: right;\">\n      <th></th>\n      <th>GDPCQOQIndex</th>\n      <th>GDPCYOYIndex</th>\n      <th>GDPCTOT%Index</th>\n      <th>GPDITOC%Index</th>\n      <th>GPGSTOC%Index</th>\n      <th>RGCDCIPIIndex</th>\n      <th>GDPCUR$Index</th>\n      <th>GDPCURYIndex</th>\n      <th>GDPPIQQIndex</th>\n      <th>GDPCPCECIndex</th>\n      <th>...</th>\n      <th>KOFETOTIndex30</th>\n      <th>KOFETOTIndex90</th>\n      <th>KOFETOTIndex180</th>\n      <th>KOFETOTIndex365</th>\n      <th>KWCDCCurncy1</th>\n      <th>KWCDCCurncy7</th>\n      <th>KWCDCCurncy30</th>\n      <th>KWCDCCurncy90</th>\n      <th>KWCDCCurncy180</th>\n      <th>KWCDCCurncy365</th>\n    </tr>\n    <tr>\n      <th>date</th>\n      <th></th>\n      <th></th>\n      <th></th>\n      <th></th>\n      <th></th>\n      <th></th>\n      <th></th>\n      <th></th>\n      <th></th>\n      <th></th>\n      <th></th>\n      <th></th>\n      <th></th>\n      <th></th>\n      <th></th>\n      <th></th>\n      <th></th>\n      <th></th>\n      <th></th>\n      <th></th>\n      <th></th>\n    </tr>\n  </thead>\n  <tbody>\n    <tr>\n      <th>1981-01-01</th>\n      <td>NaN</td>\n      <td>NaN</td>\n      <td>NaN</td>\n      <td>NaN</td>\n      <td>NaN</td>\n      <td>NaN</td>\n      <td>NaN</td>\n      <td>NaN</td>\n      <td>NaN</td>\n      <td>NaN</td>\n      <td>...</td>\n      <td>NaN</td>\n      <td>NaN</td>\n      <td>NaN</td>\n      <td>NaN</td>\n      <td>NaN</td>\n      <td>NaN</td>\n      <td>NaN</td>\n      <td>NaN</td>\n      <td>NaN</td>\n      <td>NaN</td>\n    </tr>\n    <tr>\n      <th>1981-01-02</th>\n      <td>NaN</td>\n      <td>NaN</td>\n      <td>NaN</td>\n      <td>NaN</td>\n      <td>NaN</td>\n      <td>NaN</td>\n      <td>NaN</td>\n      <td>NaN</td>\n      <td>NaN</td>\n      <td>NaN</td>\n      <td>...</td>\n      <td>NaN</td>\n      <td>NaN</td>\n      <td>NaN</td>\n      <td>NaN</td>\n      <td>NaN</td>\n      <td>NaN</td>\n      <td>NaN</td>\n      <td>NaN</td>\n      <td>NaN</td>\n      <td>NaN</td>\n    </tr>\n    <tr>\n      <th>1981-01-05</th>\n      <td>NaN</td>\n      <td>NaN</td>\n      <td>NaN</td>\n      <td>NaN</td>\n      <td>NaN</td>\n      <td>NaN</td>\n      <td>NaN</td>\n      <td>NaN</td>\n      <td>NaN</td>\n      <td>NaN</td>\n      <td>...</td>\n      <td>NaN</td>\n      <td>NaN</td>\n      <td>NaN</td>\n      <td>NaN</td>\n      <td>NaN</td>\n      <td>NaN</td>\n      <td>NaN</td>\n      <td>NaN</td>\n      <td>NaN</td>\n      <td>NaN</td>\n    </tr>\n    <tr>\n      <th>1981-01-06</th>\n      <td>NaN</td>\n      <td>NaN</td>\n      <td>NaN</td>\n      <td>NaN</td>\n      <td>NaN</td>\n      <td>NaN</td>\n      <td>NaN</td>\n      <td>NaN</td>\n      <td>NaN</td>\n      <td>NaN</td>\n      <td>...</td>\n      <td>NaN</td>\n      <td>NaN</td>\n      <td>NaN</td>\n      <td>NaN</td>\n      <td>NaN</td>\n      <td>NaN</td>\n      <td>NaN</td>\n      <td>NaN</td>\n      <td>NaN</td>\n      <td>NaN</td>\n    </tr>\n    <tr>\n      <th>1981-01-07</th>\n      <td>NaN</td>\n      <td>NaN</td>\n      <td>NaN</td>\n      <td>NaN</td>\n      <td>NaN</td>\n      <td>NaN</td>\n      <td>NaN</td>\n      <td>NaN</td>\n      <td>NaN</td>\n      <td>NaN</td>\n      <td>...</td>\n      <td>NaN</td>\n      <td>NaN</td>\n      <td>NaN</td>\n      <td>NaN</td>\n      <td>NaN</td>\n      <td>NaN</td>\n      <td>NaN</td>\n      <td>NaN</td>\n      <td>NaN</td>\n      <td>NaN</td>\n    </tr>\n    <tr>\n      <th>...</th>\n      <td>...</td>\n      <td>...</td>\n      <td>...</td>\n      <td>...</td>\n      <td>...</td>\n      <td>...</td>\n      <td>...</td>\n      <td>...</td>\n      <td>...</td>\n      <td>...</td>\n      <td>...</td>\n      <td>...</td>\n      <td>...</td>\n      <td>...</td>\n      <td>...</td>\n      <td>...</td>\n      <td>...</td>\n      <td>...</td>\n      <td>...</td>\n      <td>...</td>\n      <td>...</td>\n    </tr>\n    <tr>\n      <th>2019-10-27</th>\n      <td>NaN</td>\n      <td>NaN</td>\n      <td>NaN</td>\n      <td>NaN</td>\n      <td>NaN</td>\n      <td>NaN</td>\n      <td>NaN</td>\n      <td>NaN</td>\n      <td>NaN</td>\n      <td>NaN</td>\n      <td>...</td>\n      <td>NaN</td>\n      <td>NaN</td>\n      <td>NaN</td>\n      <td>NaN</td>\n      <td>NaN</td>\n      <td>NaN</td>\n      <td>NaN</td>\n      <td>NaN</td>\n      <td>NaN</td>\n      <td>NaN</td>\n    </tr>\n    <tr>\n      <th>2019-10-28</th>\n      <td>NaN</td>\n      <td>NaN</td>\n      <td>NaN</td>\n      <td>NaN</td>\n      <td>NaN</td>\n      <td>NaN</td>\n      <td>NaN</td>\n      <td>NaN</td>\n      <td>NaN</td>\n      <td>NaN</td>\n      <td>...</td>\n      <td>NaN</td>\n      <td>NaN</td>\n      <td>NaN</td>\n      <td>NaN</td>\n      <td>NaN</td>\n      <td>NaN</td>\n      <td>-0.11</td>\n      <td>-0.34</td>\n      <td>-0.45</td>\n      <td>-0.21</td>\n    </tr>\n    <tr>\n      <th>2019-10-29</th>\n      <td>NaN</td>\n      <td>NaN</td>\n      <td>NaN</td>\n      <td>NaN</td>\n      <td>NaN</td>\n      <td>NaN</td>\n      <td>NaN</td>\n      <td>NaN</td>\n      <td>NaN</td>\n      <td>NaN</td>\n      <td>...</td>\n      <td>NaN</td>\n      <td>NaN</td>\n      <td>NaN</td>\n      <td>NaN</td>\n      <td>0.0</td>\n      <td>0.08</td>\n      <td>-0.11</td>\n      <td>-0.29</td>\n      <td>-0.43</td>\n      <td>-0.21</td>\n    </tr>\n    <tr>\n      <th>2019-10-30</th>\n      <td>NaN</td>\n      <td>NaN</td>\n      <td>NaN</td>\n      <td>NaN</td>\n      <td>NaN</td>\n      <td>NaN</td>\n      <td>NaN</td>\n      <td>NaN</td>\n      <td>NaN</td>\n      <td>NaN</td>\n      <td>...</td>\n      <td>NaN</td>\n      <td>NaN</td>\n      <td>NaN</td>\n      <td>NaN</td>\n      <td>0.0</td>\n      <td>0.08</td>\n      <td>-0.11</td>\n      <td>-0.17</td>\n      <td>-0.43</td>\n      <td>-0.21</td>\n    </tr>\n    <tr>\n      <th>2019-10-31</th>\n      <td>NaN</td>\n      <td>NaN</td>\n      <td>NaN</td>\n      <td>NaN</td>\n      <td>NaN</td>\n      <td>NaN</td>\n      <td>NaN</td>\n      <td>NaN</td>\n      <td>NaN</td>\n      <td>NaN</td>\n      <td>...</td>\n      <td>NaN</td>\n      <td>NaN</td>\n      <td>NaN</td>\n      <td>NaN</td>\n      <td>0.0</td>\n      <td>0.08</td>\n      <td>-0.11</td>\n      <td>-0.15</td>\n      <td>-0.42</td>\n      <td>NaN</td>\n    </tr>\n  </tbody>\n</table>\n<p>11682 rows × 986 columns</p>\n</div>",
      "text/plain": "            GDPCQOQIndex  GDPCYOYIndex  GDPCTOT%Index  GPDITOC%Index  \\\ndate                                                                   \n1981-01-01           NaN           NaN            NaN            NaN   \n1981-01-02           NaN           NaN            NaN            NaN   \n1981-01-05           NaN           NaN            NaN            NaN   \n1981-01-06           NaN           NaN            NaN            NaN   \n1981-01-07           NaN           NaN            NaN            NaN   \n...                  ...           ...            ...            ...   \n2019-10-27           NaN           NaN            NaN            NaN   \n2019-10-28           NaN           NaN            NaN            NaN   \n2019-10-29           NaN           NaN            NaN            NaN   \n2019-10-30           NaN           NaN            NaN            NaN   \n2019-10-31           NaN           NaN            NaN            NaN   \n\n            GPGSTOC%Index  RGCDCIPIIndex  GDPCUR$Index  GDPCURYIndex  \\\ndate                                                                   \n1981-01-01            NaN            NaN           NaN           NaN   \n1981-01-02            NaN            NaN           NaN           NaN   \n1981-01-05            NaN            NaN           NaN           NaN   \n1981-01-06            NaN            NaN           NaN           NaN   \n1981-01-07            NaN            NaN           NaN           NaN   \n...                   ...            ...           ...           ...   \n2019-10-27            NaN            NaN           NaN           NaN   \n2019-10-28            NaN            NaN           NaN           NaN   \n2019-10-29            NaN            NaN           NaN           NaN   \n2019-10-30            NaN            NaN           NaN           NaN   \n2019-10-31            NaN            NaN           NaN           NaN   \n\n            GDPPIQQIndex  GDPCPCECIndex  ...  KOFETOTIndex30  KOFETOTIndex90  \\\ndate                                     ...                                   \n1981-01-01           NaN            NaN  ...             NaN             NaN   \n1981-01-02           NaN            NaN  ...             NaN             NaN   \n1981-01-05           NaN            NaN  ...             NaN             NaN   \n1981-01-06           NaN            NaN  ...             NaN             NaN   \n1981-01-07           NaN            NaN  ...             NaN             NaN   \n...                  ...            ...  ...             ...             ...   \n2019-10-27           NaN            NaN  ...             NaN             NaN   \n2019-10-28           NaN            NaN  ...             NaN             NaN   \n2019-10-29           NaN            NaN  ...             NaN             NaN   \n2019-10-30           NaN            NaN  ...             NaN             NaN   \n2019-10-31           NaN            NaN  ...             NaN             NaN   \n\n            KOFETOTIndex180  KOFETOTIndex365  KWCDCCurncy1  KWCDCCurncy7  \\\ndate                                                                       \n1981-01-01              NaN              NaN           NaN           NaN   \n1981-01-02              NaN              NaN           NaN           NaN   \n1981-01-05              NaN              NaN           NaN           NaN   \n1981-01-06              NaN              NaN           NaN           NaN   \n1981-01-07              NaN              NaN           NaN           NaN   \n...                     ...              ...           ...           ...   \n2019-10-27              NaN              NaN           NaN           NaN   \n2019-10-28              NaN              NaN           NaN           NaN   \n2019-10-29              NaN              NaN           0.0          0.08   \n2019-10-30              NaN              NaN           0.0          0.08   \n2019-10-31              NaN              NaN           0.0          0.08   \n\n            KWCDCCurncy30  KWCDCCurncy90  KWCDCCurncy180  KWCDCCurncy365  \ndate                                                                      \n1981-01-01            NaN            NaN             NaN             NaN  \n1981-01-02            NaN            NaN             NaN             NaN  \n1981-01-05            NaN            NaN             NaN             NaN  \n1981-01-06            NaN            NaN             NaN             NaN  \n1981-01-07            NaN            NaN             NaN             NaN  \n...                   ...            ...             ...             ...  \n2019-10-27            NaN            NaN             NaN             NaN  \n2019-10-28          -0.11          -0.34           -0.45           -0.21  \n2019-10-29          -0.11          -0.29           -0.43           -0.21  \n2019-10-30          -0.11          -0.17           -0.43           -0.21  \n2019-10-31          -0.11          -0.15           -0.42             NaN  \n\n[11682 rows x 986 columns]"
     },
     "execution_count": 51,
     "metadata": {},
     "output_type": "execute_result"
    }
   ],
   "source": [
    "cla.execution()"
   ]
  },
  {
   "cell_type": "code",
   "execution_count": 52,
   "metadata": {},
   "outputs": [
    {
     "data": {
      "text/plain": "986"
     },
     "execution_count": 52,
     "metadata": {},
     "output_type": "execute_result"
    }
   ],
   "source": [
    "len(cla.df.columns)"
   ]
  },
  {
   "cell_type": "code",
   "execution_count": 53,
   "metadata": {},
   "outputs": [
    {
     "data": {
      "text/plain": "986"
     },
     "execution_count": 53,
     "metadata": {},
     "output_type": "execute_result"
    }
   ],
   "source": [
    "len(newdf.columns)"
   ]
  },
  {
   "cell_type": "code",
   "execution_count": 54,
   "metadata": {},
   "outputs": [
    {
     "data": {
      "text/plain": "['GDPCQOQIndex',\n 'GDPCYOYIndex',\n 'GDPCTOT%Index',\n 'GPDITOC%Index',\n 'GPGSTOC%Index',\n 'RGCDCIPIIndex',\n 'GDPCUR$Index',\n 'GDPCURYIndex',\n 'GDPPIQQIndex',\n 'GDPCPCECIndex',\n 'CPIYOYIndex',\n 'CPIXYOYIndex',\n 'PCEDEFYIndex',\n 'PCECYOYIndex',\n 'CPICHNGIndex',\n 'CPUPXCHGIndex',\n 'FDIDFDMOIndex',\n 'FDIDSGMOIndex',\n 'FDIUFDYOIndex',\n 'FDIUSGYOIndex',\n 'USURTOTIndex',\n 'USUDMAERIndex',\n 'INJCJCIndex',\n 'INJCSPIndex',\n 'NFPTCHIndex',\n 'NFPPCHIndex',\n 'USMMMNCHIndex',\n 'AWHTOTLIndex',\n 'USWHTOTIndex',\n 'USEMTOTIndex',\n 'USEMNCHGIndex',\n 'USERTOTIndex',\n 'EMDINP1MIndex',\n 'JOLTOPENIndex',\n 'JOLTHIRSIndex',\n 'JOLTSEPSIndex',\n 'CHALYOY%Index',\n 'ADPCHNGIndex',\n 'USHEYOYIndex',\n 'USHETOT%Index',\n 'ECIYOYIndex',\n 'COSTNFR%Index',\n 'PRODNFR%Index',\n 'IPYOYIndex',\n 'IPCHNGIndex',\n 'CPTICHNGIndex',\n 'TMNOCHNGIndex',\n 'DGNOYOYIndex',\n 'DGNOCHNGIndex',\n 'MTIBCHNGIndex',\n 'MWINCHNGIndex',\n 'MGT2TBIndex',\n 'MGT2MAIndex',\n 'MGT2WHIndex',\n 'MGT2WHDUIndex',\n 'MGT2REIndex',\n 'IPIndex',\n 'MTSLRL$Index',\n 'AGWHTOTLIndex',\n 'NFPTIndex',\n 'PIDSPINXIndex',\n 'NAPMPMIIndex',\n 'NAPMNMIIndex',\n 'NAPMPRICIndex',\n 'MPMIUSCAIndex',\n 'MPMIUSMAIndex',\n 'MPMIUSSAIndex',\n 'CFNAIIndex',\n 'CFNAIMA3Index',\n 'OUTFGAFIndex',\n 'EMPRGBCIIndex',\n 'RCHSINDXIndex',\n 'CHPMINDXIndex',\n 'MAPMINDXIndex',\n 'OEUSKLARIndex',\n 'OEUSKLAPIndex',\n 'LEITOTLIndex',\n 'LEIYOYIndex',\n 'LEICHNGIndex',\n 'LEIAVGWIndex',\n 'LEIWKIJIndex',\n 'LEINWCNIndex',\n 'NAPMNEWOIndex',\n 'LEIMNOIndex',\n 'LEIBPIndex',\n 'LEISTKPIndex',\n 'LEILCIIndex',\n 'LEIIRTEIndex',\n 'LEIACEIndex',\n 'RSTAMOMIndex',\n 'RSTAXMOMIndex',\n 'RSTAYOYIndex',\n 'RSTAXYOYIndex',\n 'MBRXYOYWIndex',\n 'SAARTOTLIndex',\n 'SAARDTOTIndex',\n 'CONCCONFIndex',\n 'CONSSENTIndex',\n 'COMFCOMFIndex',\n 'COMFBTWRIndex',\n 'PITLYOYIndex',\n 'PITLCHNGIndex',\n 'PCECHY%Index',\n 'PCECHNCIndex',\n 'PIDSDPSIndex',\n 'CICRTOTIndex',\n 'EHCAUSIndex',\n 'USCABALIndex',\n 'USTBTOTIndex',\n 'USTBEXPIndex',\n 'USTBIMPIndex',\n 'USTBEXPYIndex',\n 'USTBIMPYIndex',\n 'IMP1YOY%Index',\n 'IMP1CHNGIndex',\n 'FRNTTOTLIndex',\n 'FRNTTNETIndex',\n 'FDTRIndex',\n 'USGG3MIndex',\n 'USGG10YRIndex',\n 'USTW$Index',\n 'JNVNYOYSIndex',\n 'JNVNIYOYIndex',\n 'MPMIJPCAIndex',\n 'MPMIJPMAIndex',\n 'MPMIJPSAIndex',\n 'CNGDPYOYIndex',\n 'GDPNTTLYIndex',\n 'CHEFTYOYIndex',\n 'CNPPIYIndex',\n 'CPMINDXIndex',\n 'CPMINORDIndex',\n 'CPMINEXOIndex',\n 'CNCILIIndex',\n 'CNFREXPYIndex',\n 'CNFRIMPYIndex',\n 'KOGDPYOYIndex',\n 'KOGDPQOQIndex',\n 'KOECPRCYIndex',\n 'KOECGCPYIndex',\n 'KOECGVTYIndex',\n 'KOECEXPYIndex',\n 'KOECIMPYIndex',\n 'KOECSPRQIndex',\n 'KOECGCSYIndex',\n 'KOECSGVQIndex',\n 'KOECSEMQIndex',\n 'KOECSIMQIndex',\n 'KOECFCOYIndex',\n 'KOECFCSYIndex',\n 'OEKRN022Index',\n 'KOGNICNYIndex',\n 'KOGNICUYIndex',\n 'KOGCGDPYIndex',\n 'KOGCSTOQIndex',\n 'KODFTOTYIndex',\n 'KOCPIIndex',\n 'KOCPIYOYIndex',\n 'KOCPIMOMIndex',\n 'SKCITTLIndex',\n 'SKCIYOYIndex',\n 'SKCIMOMIndex',\n 'KOCLLNSIndex',\n 'KOPPIIndex',\n 'KOPPIYOYIndex',\n 'KOPPIMOMIndex',\n 'KOEAUERSIndex',\n 'KOEAEMPYIndex',\n 'KOUETTYIndex',\n 'KOEAPYIndex',\n 'KOEAEPRIndex',\n 'KOQEEYOYIndex',\n 'KOWDRIndex',\n 'KOULMGFIndex',\n 'KOULMGFYIndex',\n 'KOLPIIndex',\n 'KOLPIYIndex',\n 'SKLIOTARIndex',\n 'KOIPISAIndex',\n 'KOIPIYIndex',\n 'KOIPIMOMIndex',\n 'KOIPMSIndex',\n 'KOIPMYIndex',\n 'KOIPMSMIndex',\n 'KOPSIYIndex',\n 'KOPIIYIndex',\n 'KOIPMCIndex',\n 'KOIPMCYIndex',\n 'KOIPOPSMIndex',\n 'KOIVCPEYIndex',\n 'KOIVCCYIndex',\n 'KOIVCONYIndex',\n 'KOCGCGYIndex',\n 'KOCGCGSMIndex',\n 'KOSVTOTYIndex',\n 'KOSVTOTMIndex',\n 'KOVMPRODIndex',\n 'KOBSMCIndex',\n 'KOBSNMCIndex',\n 'SKBSICIndex',\n 'SKBSICSAIndex',\n 'MPMIKRMAIndex',\n 'OEKRKLARIndex',\n 'OEKRKLAPIndex',\n 'SKLILIIndex',\n 'SKLILYIndex',\n 'SKLILCIndex',\n 'SKLICIIndex',\n 'SKLIINVCIndex',\n 'SKLICONEIndex',\n 'SKLIMORDIndex',\n 'SKLICONTIndex',\n 'SKLINBARIndex',\n 'SKLISPRCIndex',\n 'SKLIINTRIndex',\n 'SKLIIPALIndex',\n 'SKLICNSTIndex',\n 'SKLISVCIIndex',\n 'SKLIWNRSIndex',\n 'SKLISHPPIndex',\n 'SKLIIMPTIndex',\n 'SKLIEMPPIndex',\n 'SKLILAPIndex',\n 'SKLILAIIndex',\n 'SKLINEIndex',\n 'SKLICPYIndex',\n 'KOBONTLIndex',\n 'KOHSTRIndex',\n 'KOHPTTLIndex',\n 'KOHPTYOYIndex',\n 'KOHCTTLIndex',\n 'KOHCTYOYIndex',\n 'KOBLTHMLIndex',\n 'KOBLTHMYIndex',\n 'KOUHTTLIndex',\n 'KORSTIndex',\n 'KORSTYIndex',\n 'KODSDEPTIndex',\n 'KODSDISCIndex',\n 'KOVMTOTSIndex',\n 'KOVMDOMSIndex',\n 'KOVMEXPSIndex',\n 'KOCCCSIIndex',\n 'KOHOINCIndex',\n 'KOHOINCYIndex',\n 'KOHEUINYIndex',\n 'KOHHDIndex',\n 'KOHHDYIndex',\n 'KOHHLIndex',\n 'KOHHLYIndex',\n 'EOKOS002Index',\n 'KOBPCBIndex',\n 'EHCAKRYIndex',\n 'KOBPFINIndex',\n 'KOBPCAIndex',\n 'KODIBALIndex',\n 'KOBPTBIndex',\n 'KOTRBALIndex',\n 'KOEXTOTIndex',\n 'KOIMTOTIndex',\n 'KOEXTOTYIndex',\n 'KOIMTOTYIndex',\n 'KOEXPTIIndex',\n 'KOEXPTIYIndex',\n 'KOEXPTIMIndex',\n 'KOIMPTIIndex',\n 'KOIMPTIYIndex',\n 'KOIMPTIMIndex',\n 'KOFDITIndex',\n 'KOFDITYIndex',\n 'KOELTOTIndex',\n 'KOGFBALIndex',\n 'KOGFTEXPIndex',\n 'KOGFTRIndex',\n 'G7BBKOREIndex',\n 'GDDBSOKOIndex',\n 'KOMSMBYIndex',\n 'KOMSM1YIndex',\n 'KOMSM2YIndex',\n 'KOMSM3YIndex',\n 'KOMSLYIndex',\n 'KOMSM1FYIndex',\n 'KOFETOTIndex',\n 'KOFETOT%Index',\n 'KORP7DIndex',\n 'KOCICOBAIndex',\n 'KOCICONFIndex',\n 'KRBO3MIndex',\n 'KWCDCCurncy',\n 'GVSK10YRIndex',\n 'GDPCUR$Index1',\n 'GDPCUR$Index7',\n 'GDPCUR$Index30',\n 'GDPCUR$Index90',\n 'GDPCUR$Index180',\n 'GDPCUR$Index365',\n 'INJCJCIndex1',\n 'INJCJCIndex7',\n 'INJCJCIndex30',\n 'INJCJCIndex90',\n 'INJCJCIndex180',\n 'INJCJCIndex365',\n 'INJCSPIndex1',\n 'INJCSPIndex7',\n 'INJCSPIndex30',\n 'INJCSPIndex90',\n 'INJCSPIndex180',\n 'INJCSPIndex365',\n 'AWHTOTLIndex1',\n 'AWHTOTLIndex7',\n 'AWHTOTLIndex30',\n 'AWHTOTLIndex90',\n 'AWHTOTLIndex180',\n 'AWHTOTLIndex365',\n 'USWHTOTIndex1',\n 'USWHTOTIndex7',\n 'USWHTOTIndex30',\n 'USWHTOTIndex90',\n 'USWHTOTIndex180',\n 'USWHTOTIndex365',\n 'USEMTOTIndex1',\n 'USEMTOTIndex7',\n 'USEMTOTIndex30',\n 'USEMTOTIndex90',\n 'USEMTOTIndex180',\n 'USEMTOTIndex365',\n 'EMDINP1MIndex1',\n 'EMDINP1MIndex7',\n 'EMDINP1MIndex30',\n 'EMDINP1MIndex90',\n 'EMDINP1MIndex180',\n 'EMDINP1MIndex365',\n 'IPIndex1',\n 'IPIndex7',\n 'IPIndex30',\n 'IPIndex90',\n 'IPIndex180',\n 'IPIndex365',\n 'MTSLRL$Index1',\n 'MTSLRL$Index7',\n 'MTSLRL$Index30',\n 'MTSLRL$Index90',\n 'MTSLRL$Index180',\n 'MTSLRL$Index365',\n 'AGWHTOTLIndex1',\n 'AGWHTOTLIndex7',\n 'AGWHTOTLIndex30',\n 'AGWHTOTLIndex90',\n 'AGWHTOTLIndex180',\n 'AGWHTOTLIndex365',\n 'NFPTIndex1',\n 'NFPTIndex7',\n 'NFPTIndex30',\n 'NFPTIndex90',\n 'NFPTIndex180',\n 'NFPTIndex365',\n 'PIDSPINXIndex1',\n 'PIDSPINXIndex7',\n 'PIDSPINXIndex30',\n 'PIDSPINXIndex90',\n 'PIDSPINXIndex180',\n 'PIDSPINXIndex365',\n 'NAPMPMIIndex1',\n 'NAPMPMIIndex7',\n 'NAPMPMIIndex30',\n 'NAPMPMIIndex90',\n 'NAPMPMIIndex180',\n 'NAPMPMIIndex365',\n 'NAPMNMIIndex1',\n 'NAPMNMIIndex7',\n 'NAPMNMIIndex30',\n 'NAPMNMIIndex90',\n 'NAPMNMIIndex180',\n 'NAPMNMIIndex365',\n 'NAPMPRICIndex1',\n 'NAPMPRICIndex7',\n 'NAPMPRICIndex30',\n 'NAPMPRICIndex90',\n 'NAPMPRICIndex180',\n 'NAPMPRICIndex365',\n 'MPMIUSCAIndex1',\n 'MPMIUSCAIndex7',\n 'MPMIUSCAIndex30',\n 'MPMIUSCAIndex90',\n 'MPMIUSCAIndex180',\n 'MPMIUSCAIndex365',\n 'MPMIUSMAIndex1',\n 'MPMIUSMAIndex7',\n 'MPMIUSMAIndex30',\n 'MPMIUSMAIndex90',\n 'MPMIUSMAIndex180',\n 'MPMIUSMAIndex365',\n 'MPMIUSSAIndex1',\n 'MPMIUSSAIndex7',\n 'MPMIUSSAIndex30',\n 'MPMIUSSAIndex90',\n 'MPMIUSSAIndex180',\n 'MPMIUSSAIndex365',\n 'CFNAIIndex1',\n 'CFNAIIndex7',\n 'CFNAIIndex30',\n 'CFNAIIndex90',\n 'CFNAIIndex180',\n 'CFNAIIndex365',\n 'OUTFGAFIndex1',\n 'OUTFGAFIndex7',\n 'OUTFGAFIndex30',\n 'OUTFGAFIndex90',\n 'OUTFGAFIndex180',\n 'OUTFGAFIndex365',\n 'EMPRGBCIIndex1',\n 'EMPRGBCIIndex7',\n 'EMPRGBCIIndex30',\n 'EMPRGBCIIndex90',\n 'EMPRGBCIIndex180',\n 'EMPRGBCIIndex365',\n 'CHPMINDXIndex1',\n 'CHPMINDXIndex7',\n 'CHPMINDXIndex30',\n 'CHPMINDXIndex90',\n 'CHPMINDXIndex180',\n 'CHPMINDXIndex365',\n 'MAPMINDXIndex1',\n 'MAPMINDXIndex7',\n 'MAPMINDXIndex30',\n 'MAPMINDXIndex90',\n 'MAPMINDXIndex180',\n 'MAPMINDXIndex365',\n 'OEUSKLARIndex1',\n 'OEUSKLARIndex7',\n 'OEUSKLARIndex30',\n 'OEUSKLARIndex90',\n 'OEUSKLARIndex180',\n 'OEUSKLARIndex365',\n 'LEITOTLIndex1',\n 'LEITOTLIndex7',\n 'LEITOTLIndex30',\n 'LEITOTLIndex90',\n 'LEITOTLIndex180',\n 'LEITOTLIndex365',\n 'LEIAVGWIndex1',\n 'LEIAVGWIndex7',\n 'LEIAVGWIndex30',\n 'LEIAVGWIndex90',\n 'LEIAVGWIndex180',\n 'LEIAVGWIndex365',\n 'LEIWKIJIndex1',\n 'LEIWKIJIndex7',\n 'LEIWKIJIndex30',\n 'LEIWKIJIndex90',\n 'LEIWKIJIndex180',\n 'LEIWKIJIndex365',\n 'LEINWCNIndex1',\n 'LEINWCNIndex7',\n 'LEINWCNIndex30',\n 'LEINWCNIndex90',\n 'LEINWCNIndex180',\n 'LEINWCNIndex365',\n 'NAPMNEWOIndex1',\n 'NAPMNEWOIndex7',\n 'NAPMNEWOIndex30',\n 'NAPMNEWOIndex90',\n 'NAPMNEWOIndex180',\n 'NAPMNEWOIndex365',\n 'LEIMNOIndex1',\n 'LEIMNOIndex7',\n 'LEIMNOIndex30',\n 'LEIMNOIndex90',\n 'LEIMNOIndex180',\n 'LEIMNOIndex365',\n 'LEIBPIndex1',\n 'LEIBPIndex7',\n 'LEIBPIndex30',\n 'LEIBPIndex90',\n 'LEIBPIndex180',\n 'LEIBPIndex365',\n 'LEISTKPIndex1',\n 'LEISTKPIndex7',\n 'LEISTKPIndex30',\n 'LEISTKPIndex90',\n 'LEISTKPIndex180',\n 'LEISTKPIndex365',\n 'LEILCIIndex1',\n 'LEILCIIndex7',\n 'LEILCIIndex30',\n 'LEILCIIndex90',\n 'LEILCIIndex180',\n 'LEILCIIndex365',\n 'LEIACEIndex1',\n 'LEIACEIndex7',\n 'LEIACEIndex30',\n 'LEIACEIndex90',\n 'LEIACEIndex180',\n 'LEIACEIndex365',\n 'SAARTOTLIndex1',\n 'SAARTOTLIndex7',\n 'SAARTOTLIndex30',\n 'SAARTOTLIndex90',\n 'SAARTOTLIndex180',\n 'SAARTOTLIndex365',\n 'SAARDTOTIndex1',\n 'SAARDTOTIndex7',\n 'SAARDTOTIndex30',\n 'SAARDTOTIndex90',\n 'SAARDTOTIndex180',\n 'SAARDTOTIndex365',\n 'CONCCONFIndex1',\n 'CONCCONFIndex7',\n 'CONCCONFIndex30',\n 'CONCCONFIndex90',\n 'CONCCONFIndex180',\n 'CONCCONFIndex365',\n 'CONSSENTIndex1',\n 'CONSSENTIndex7',\n 'CONSSENTIndex30',\n 'CONSSENTIndex90',\n 'CONSSENTIndex180',\n 'CONSSENTIndex365',\n 'COMFCOMFIndex1',\n 'COMFCOMFIndex7',\n 'COMFCOMFIndex30',\n 'COMFCOMFIndex90',\n 'COMFCOMFIndex180',\n 'COMFCOMFIndex365',\n 'CICRTOTIndex1',\n 'CICRTOTIndex7',\n 'CICRTOTIndex30',\n 'CICRTOTIndex90',\n 'CICRTOTIndex180',\n 'CICRTOTIndex365',\n 'USCABALIndex1',\n 'USCABALIndex7',\n 'USCABALIndex30',\n 'USCABALIndex90',\n 'USCABALIndex180',\n 'USCABALIndex365',\n 'USTBTOTIndex1',\n 'USTBTOTIndex7',\n 'USTBTOTIndex30',\n 'USTBTOTIndex90',\n 'USTBTOTIndex180',\n 'USTBTOTIndex365',\n 'USTBEXPIndex1',\n 'USTBEXPIndex7',\n 'USTBEXPIndex30',\n 'USTBEXPIndex90',\n 'USTBEXPIndex180',\n 'USTBEXPIndex365',\n 'USTBIMPIndex1',\n 'USTBIMPIndex7',\n 'USTBIMPIndex30',\n 'USTBIMPIndex90',\n 'USTBIMPIndex180',\n 'USTBIMPIndex365',\n 'FRNTTOTLIndex1',\n 'FRNTTOTLIndex7',\n 'FRNTTOTLIndex30',\n 'FRNTTOTLIndex90',\n 'FRNTTOTLIndex180',\n 'FRNTTOTLIndex365',\n 'FRNTTNETIndex1',\n 'FRNTTNETIndex7',\n 'FRNTTNETIndex30',\n 'FRNTTNETIndex90',\n 'FRNTTNETIndex180',\n 'FRNTTNETIndex365',\n 'MPMIJPCAIndex1',\n 'MPMIJPCAIndex7',\n 'MPMIJPCAIndex30',\n 'MPMIJPCAIndex90',\n 'MPMIJPCAIndex180',\n 'MPMIJPCAIndex365',\n 'MPMIJPMAIndex1',\n 'MPMIJPMAIndex7',\n 'MPMIJPMAIndex30',\n 'MPMIJPMAIndex90',\n 'MPMIJPMAIndex180',\n 'MPMIJPMAIndex365',\n 'MPMIJPSAIndex1',\n 'MPMIJPSAIndex7',\n 'MPMIJPSAIndex30',\n 'MPMIJPSAIndex90',\n 'MPMIJPSAIndex180',\n 'MPMIJPSAIndex365',\n 'CPMINDXIndex1',\n 'CPMINDXIndex7',\n 'CPMINDXIndex30',\n 'CPMINDXIndex90',\n 'CPMINDXIndex180',\n 'CPMINDXIndex365',\n 'CPMINORDIndex1',\n 'CPMINORDIndex7',\n 'CPMINORDIndex30',\n 'CPMINORDIndex90',\n 'CPMINORDIndex180',\n 'CPMINORDIndex365',\n 'CPMINEXOIndex1',\n 'CPMINEXOIndex7',\n 'CPMINEXOIndex30',\n 'CPMINEXOIndex90',\n 'CPMINEXOIndex180',\n 'CPMINEXOIndex365',\n 'CNCILIIndex1',\n 'CNCILIIndex7',\n 'CNCILIIndex30',\n 'CNCILIIndex90',\n 'CNCILIIndex180',\n 'CNCILIIndex365',\n 'OEKRN022Index1',\n 'OEKRN022Index7',\n 'OEKRN022Index30',\n 'OEKRN022Index90',\n 'OEKRN022Index180',\n 'OEKRN022Index365',\n 'KOCPIIndex1',\n 'KOCPIIndex7',\n 'KOCPIIndex30',\n 'KOCPIIndex90',\n 'KOCPIIndex180',\n 'KOCPIIndex365',\n 'SKCITTLIndex1',\n 'SKCITTLIndex7',\n 'SKCITTLIndex30',\n 'SKCITTLIndex90',\n 'SKCITTLIndex180',\n 'SKCITTLIndex365',\n 'KOCLLNSIndex1',\n 'KOCLLNSIndex7',\n 'KOCLLNSIndex30',\n 'KOCLLNSIndex90',\n 'KOCLLNSIndex180',\n 'KOCLLNSIndex365',\n 'KOPPIIndex1',\n 'KOPPIIndex7',\n 'KOPPIIndex30',\n 'KOPPIIndex90',\n 'KOPPIIndex180',\n 'KOPPIIndex365',\n 'KOWDRIndex1',\n 'KOWDRIndex7',\n 'KOWDRIndex30',\n 'KOWDRIndex90',\n 'KOWDRIndex180',\n 'KOWDRIndex365',\n 'KOULMGFIndex1',\n 'KOULMGFIndex7',\n 'KOULMGFIndex30',\n 'KOULMGFIndex90',\n 'KOULMGFIndex180',\n 'KOULMGFIndex365',\n 'KOIPISAIndex1',\n 'KOIPISAIndex7',\n 'KOIPISAIndex30',\n 'KOIPISAIndex90',\n 'KOIPISAIndex180',\n 'KOIPISAIndex365',\n 'KOIPMSIndex1',\n 'KOIPMSIndex7',\n 'KOIPMSIndex30',\n 'KOIPMSIndex90',\n 'KOIPMSIndex180',\n 'KOIPMSIndex365',\n 'KOIPMCIndex1',\n 'KOIPMCIndex7',\n 'KOIPMCIndex30',\n 'KOIPMCIndex90',\n 'KOIPMCIndex180',\n 'KOIPMCIndex365',\n 'KOVMPRODIndex1',\n 'KOVMPRODIndex7',\n 'KOVMPRODIndex30',\n 'KOVMPRODIndex90',\n 'KOVMPRODIndex180',\n 'KOVMPRODIndex365',\n 'KOBSMCIndex1',\n 'KOBSMCIndex7',\n 'KOBSMCIndex30',\n 'KOBSMCIndex90',\n 'KOBSMCIndex180',\n 'KOBSMCIndex365',\n 'KOBSNMCIndex1',\n 'KOBSNMCIndex7',\n 'KOBSNMCIndex30',\n 'KOBSNMCIndex90',\n 'KOBSNMCIndex180',\n 'KOBSNMCIndex365',\n 'SKBSICIndex1',\n 'SKBSICIndex7',\n 'SKBSICIndex30',\n 'SKBSICIndex90',\n 'SKBSICIndex180',\n 'SKBSICIndex365',\n 'SKBSICSAIndex1',\n 'SKBSICSAIndex7',\n 'SKBSICSAIndex30',\n 'SKBSICSAIndex90',\n 'SKBSICSAIndex180',\n 'SKBSICSAIndex365',\n 'OEKRKLARIndex1',\n 'OEKRKLARIndex7',\n 'OEKRKLARIndex30',\n 'OEKRKLARIndex90',\n 'OEKRKLARIndex180',\n 'OEKRKLARIndex365',\n 'SKLILIIndex1',\n 'SKLILIIndex7',\n 'SKLILIIndex30',\n 'SKLILIIndex90',\n 'SKLILIIndex180',\n 'SKLILIIndex365',\n 'SKLILCIndex1',\n 'SKLILCIndex7',\n 'SKLILCIndex30',\n 'SKLILCIndex90',\n 'SKLILCIndex180',\n 'SKLILCIndex365',\n 'SKLICIIndex1',\n 'SKLICIIndex7',\n 'SKLICIIndex30',\n 'SKLICIIndex90',\n 'SKLICIIndex180',\n 'SKLICIIndex365',\n 'SKLICONEIndex1',\n 'SKLICONEIndex7',\n 'SKLICONEIndex30',\n 'SKLICONEIndex90',\n 'SKLICONEIndex180',\n 'SKLICONEIndex365',\n 'SKLIMORDIndex1',\n 'SKLIMORDIndex7',\n 'SKLIMORDIndex30',\n 'SKLIMORDIndex90',\n 'SKLIMORDIndex180',\n 'SKLIMORDIndex365',\n 'SKLICONTIndex1',\n 'SKLICONTIndex7',\n 'SKLICONTIndex30',\n 'SKLICONTIndex90',\n 'SKLICONTIndex180',\n 'SKLICONTIndex365',\n 'SKLINBARIndex1',\n 'SKLINBARIndex7',\n 'SKLINBARIndex30',\n 'SKLINBARIndex90',\n 'SKLINBARIndex180',\n 'SKLINBARIndex365',\n 'SKLISPRCIndex1',\n 'SKLISPRCIndex7',\n 'SKLISPRCIndex30',\n 'SKLISPRCIndex90',\n 'SKLISPRCIndex180',\n 'SKLISPRCIndex365',\n 'SKLIIPALIndex1',\n 'SKLIIPALIndex7',\n 'SKLIIPALIndex30',\n 'SKLIIPALIndex90',\n 'SKLIIPALIndex180',\n 'SKLIIPALIndex365',\n 'SKLICNSTIndex1',\n 'SKLICNSTIndex7',\n 'SKLICNSTIndex30',\n 'SKLICNSTIndex90',\n 'SKLICNSTIndex180',\n 'SKLICNSTIndex365',\n 'SKLISVCIIndex1',\n 'SKLISVCIIndex7',\n 'SKLISVCIIndex30',\n 'SKLISVCIIndex90',\n 'SKLISVCIIndex180',\n 'SKLISVCIIndex365',\n 'SKLIWNRSIndex1',\n 'SKLIWNRSIndex7',\n 'SKLIWNRSIndex30',\n 'SKLIWNRSIndex90',\n 'SKLIWNRSIndex180',\n 'SKLIWNRSIndex365',\n 'SKLISHPPIndex1',\n 'SKLISHPPIndex7',\n 'SKLISHPPIndex30',\n 'SKLISHPPIndex90',\n 'SKLISHPPIndex180',\n 'SKLISHPPIndex365',\n 'SKLIIMPTIndex1',\n 'SKLIIMPTIndex7',\n 'SKLIIMPTIndex30',\n 'SKLIIMPTIndex90',\n 'SKLIIMPTIndex180',\n 'SKLIIMPTIndex365',\n 'SKLIEMPPIndex1',\n 'SKLIEMPPIndex7',\n 'SKLIEMPPIndex30',\n 'SKLIEMPPIndex90',\n 'SKLIEMPPIndex180',\n 'SKLIEMPPIndex365',\n 'SKLILAPIndex1',\n 'SKLILAPIndex7',\n 'SKLILAPIndex30',\n 'SKLILAPIndex90',\n 'SKLILAPIndex180',\n 'SKLILAPIndex365',\n 'SKLILAIIndex1',\n 'SKLILAIIndex7',\n 'SKLILAIIndex30',\n 'SKLILAIIndex90',\n 'SKLILAIIndex180',\n 'SKLILAIIndex365',\n 'SKLINEIndex1',\n 'SKLINEIndex7',\n 'SKLINEIndex30',\n 'SKLINEIndex90',\n 'SKLINEIndex180',\n 'SKLINEIndex365',\n 'KOBONTLIndex1',\n 'KOBONTLIndex7',\n 'KOBONTLIndex30',\n 'KOBONTLIndex90',\n 'KOBONTLIndex180',\n 'KOBONTLIndex365',\n 'KOHPTTLIndex1',\n 'KOHPTTLIndex7',\n 'KOHPTTLIndex30',\n 'KOHPTTLIndex90',\n 'KOHPTTLIndex180',\n 'KOHPTTLIndex365',\n 'KOBLTHMLIndex1',\n 'KOBLTHMLIndex7',\n 'KOBLTHMLIndex30',\n 'KOBLTHMLIndex90',\n 'KOBLTHMLIndex180',\n 'KOBLTHMLIndex365',\n 'KORSTIndex1',\n 'KORSTIndex7',\n 'KORSTIndex30',\n 'KORSTIndex90',\n 'KORSTIndex180',\n 'KORSTIndex365',\n 'KOVMTOTSIndex1',\n 'KOVMTOTSIndex7',\n 'KOVMTOTSIndex30',\n 'KOVMTOTSIndex90',\n 'KOVMTOTSIndex180',\n 'KOVMTOTSIndex365',\n 'KOVMDOMSIndex1',\n 'KOVMDOMSIndex7',\n 'KOVMDOMSIndex30',\n 'KOVMDOMSIndex90',\n 'KOVMDOMSIndex180',\n 'KOVMDOMSIndex365',\n 'KOVMEXPSIndex1',\n 'KOVMEXPSIndex7',\n 'KOVMEXPSIndex30',\n 'KOVMEXPSIndex90',\n 'KOVMEXPSIndex180',\n 'KOVMEXPSIndex365',\n 'KOCCCSIIndex1',\n 'KOCCCSIIndex7',\n 'KOCCCSIIndex30',\n 'KOCCCSIIndex90',\n 'KOCCCSIIndex180',\n 'KOCCCSIIndex365',\n 'KOHOINCIndex1',\n 'KOHOINCIndex7',\n 'KOHOINCIndex30',\n 'KOHOINCIndex90',\n 'KOHOINCIndex180',\n 'KOHOINCIndex365',\n 'KOHHDIndex1',\n 'KOHHDIndex7',\n 'KOHHDIndex30',\n 'KOHHDIndex90',\n 'KOHHDIndex180',\n 'KOHHDIndex365',\n 'KOHHLIndex1',\n 'KOHHLIndex7',\n 'KOHHLIndex30',\n 'KOHHLIndex90',\n 'KOHHLIndex180',\n 'KOHHLIndex365',\n 'EOKOS002Index1',\n 'EOKOS002Index7',\n 'EOKOS002Index30',\n 'EOKOS002Index90',\n 'EOKOS002Index180',\n 'EOKOS002Index365',\n 'KOBPCBIndex1',\n 'KOBPCBIndex7',\n 'KOBPCBIndex30',\n 'KOBPCBIndex90',\n 'KOBPCBIndex180',\n 'KOBPCBIndex365',\n 'KOBPFINIndex1',\n 'KOBPFINIndex7',\n 'KOBPFINIndex30',\n 'KOBPFINIndex90',\n 'KOBPFINIndex180',\n 'KOBPFINIndex365',\n 'KOBPCAIndex1',\n 'KOBPCAIndex7',\n 'KOBPCAIndex30',\n 'KOBPCAIndex90',\n 'KOBPCAIndex180',\n 'KOBPCAIndex365',\n 'KODIBALIndex1',\n 'KODIBALIndex7',\n 'KODIBALIndex30',\n 'KODIBALIndex90',\n 'KODIBALIndex180',\n 'KODIBALIndex365',\n 'KOBPTBIndex1',\n 'KOBPTBIndex7',\n 'KOBPTBIndex30',\n 'KOBPTBIndex90',\n 'KOBPTBIndex180',\n 'KOBPTBIndex365',\n 'KOTRBALIndex1',\n 'KOTRBALIndex7',\n 'KOTRBALIndex30',\n 'KOTRBALIndex90',\n 'KOTRBALIndex180',\n 'KOTRBALIndex365',\n 'KOEXTOTIndex1',\n 'KOEXTOTIndex7',\n 'KOEXTOTIndex30',\n 'KOEXTOTIndex90',\n 'KOEXTOTIndex180',\n 'KOEXTOTIndex365',\n 'KOIMTOTIndex1',\n 'KOIMTOTIndex7',\n 'KOIMTOTIndex30',\n 'KOIMTOTIndex90',\n 'KOIMTOTIndex180',\n 'KOIMTOTIndex365',\n 'KOEXPTIIndex1',\n 'KOEXPTIIndex7',\n 'KOEXPTIIndex30',\n 'KOEXPTIIndex90',\n 'KOEXPTIIndex180',\n 'KOEXPTIIndex365',\n 'KOIMPTIIndex1',\n 'KOIMPTIIndex7',\n 'KOIMPTIIndex30',\n 'KOIMPTIIndex90',\n 'KOIMPTIIndex180',\n 'KOIMPTIIndex365',\n 'KOFDITIndex1',\n 'KOFDITIndex7',\n 'KOFDITIndex30',\n 'KOFDITIndex90',\n 'KOFDITIndex180',\n 'KOFDITIndex365',\n 'KOELTOTIndex1',\n 'KOELTOTIndex7',\n 'KOELTOTIndex30',\n 'KOELTOTIndex90',\n 'KOELTOTIndex180',\n 'KOELTOTIndex365',\n 'KOGFBALIndex1',\n 'KOGFBALIndex7',\n 'KOGFBALIndex30',\n 'KOGFBALIndex90',\n 'KOGFBALIndex180',\n 'KOGFBALIndex365',\n 'KOGFTEXPIndex1',\n 'KOGFTEXPIndex7',\n 'KOGFTEXPIndex30',\n 'KOGFTEXPIndex90',\n 'KOGFTEXPIndex180',\n 'KOGFTEXPIndex365',\n 'KOGFTRIndex1',\n 'KOGFTRIndex7',\n 'KOGFTRIndex30',\n 'KOGFTRIndex90',\n 'KOGFTRIndex180',\n 'KOGFTRIndex365',\n 'KOFETOTIndex1',\n 'KOFETOTIndex7',\n 'KOFETOTIndex30',\n 'KOFETOTIndex90',\n 'KOFETOTIndex180',\n 'KOFETOTIndex365',\n 'KWCDCCurncy1',\n 'KWCDCCurncy7',\n 'KWCDCCurncy30',\n 'KWCDCCurncy90',\n 'KWCDCCurncy180',\n 'KWCDCCurncy365']"
     },
     "execution_count": 54,
     "metadata": {},
     "output_type": "execute_result"
    }
   ],
   "source": [
    "list(cla.df.columns)"
   ]
  },
  {
   "cell_type": "code",
   "execution_count": 89,
   "metadata": {},
   "outputs": [
    {
     "data": {
      "text/plain": "Series([], Name: LEISTKPIndex, dtype: int64)"
     },
     "execution_count": 89,
     "metadata": {},
     "output_type": "execute_result"
    }
   ],
   "source": [
    "(newdf['LEISTKPIndex'] - newdf['LEISTKPIndex'].shift(periods = 1, axis = 0)).value_counts()"
   ]
  },
  {
   "cell_type": "code",
   "execution_count": 90,
   "metadata": {},
   "outputs": [
    {
     "data": {
      "text/plain": "date\n1981-01-01   NaN\n1981-01-02   NaN\n1981-01-05   NaN\n1981-01-06   NaN\n1981-01-07   NaN\n              ..\n2019-10-27   NaN\n2019-10-28   NaN\n2019-10-29   NaN\n2019-10-30   NaN\n2019-10-31   NaN\nName: LEISTKPIndex, Length: 11682, dtype: float64"
     },
     "execution_count": 90,
     "metadata": {},
     "output_type": "execute_result"
    }
   ],
   "source": [
    "newdf['LEISTKPIndex']"
   ]
  },
  {
   "cell_type": "code",
   "execution_count": 83,
   "metadata": {},
   "outputs": [
    {
     "data": {
      "text/plain": "166.39     2\n1278.72    2\n463.81     2\n2754.86    1\n2901.50    1\n          ..\n1918.60    1\n925.29     1\n992.54     1\n848.15     1\n188.89     1\nName: LEISTKPIndex, Length: 452, dtype: int64"
     },
     "execution_count": 83,
     "metadata": {},
     "output_type": "execute_result"
    }
   ],
   "source": [
    "newdf['LEISTKPIndex'].value_counts()"
   ]
  },
  {
   "cell_type": "code",
   "execution_count": 85,
   "metadata": {},
   "outputs": [
    {
     "data": {
      "text/plain": "date\n1981-01-01   NaN\n1981-01-02   NaN\n1981-01-05   NaN\n1981-01-06   NaN\n1981-01-07   NaN\n              ..\n2019-10-27   NaN\n2019-10-28   NaN\n2019-10-29   NaN\n2019-10-30   NaN\n2019-10-31   NaN\nName: LEISTKPIndex, Length: 11682, dtype: float64"
     },
     "execution_count": 85,
     "metadata": {},
     "output_type": "execute_result"
    }
   ],
   "source": [
    "newdf['LEISTKPIndex']"
   ]
  },
  {
   "cell_type": "code",
   "execution_count": 62,
   "metadata": {},
   "outputs": [
    {
     "data": {
      "text/plain": "array([    nan,  132.97,  128.4 ,  133.19,  134.43,  131.73,  132.28,\n        129.13,  129.63,  118.27,  119.8 ,  122.92,  123.79,  117.28,\n        114.5 ,  110.84,  116.31,  116.35,  109.7 ,  109.38,  109.65,\n        122.43,  132.66,  138.1 ,  139.37,  144.27,  146.8 ,  151.88,\n        157.71,  164.1 ,  166.39,  166.96,  162.42,  167.16,  167.65,\n        165.23,  164.36,  157.25,  157.44,  157.6 ,  156.55,  153.12,\n        151.08,  164.42,  166.11,  164.82,  166.27,  164.48,  171.61,\n        180.88,  179.42,  180.62,  184.9 ,  188.89,  192.54,  188.31,\n        184.06,  186.18,  197.45,  207.26,  208.19,  219.37,  232.33,\n        237.98,  238.46,  245.3 ,  240.18,  245.  ,  238.27,  237.36,\n        245.09,  248.61,  264.51,  280.93,  292.47,  289.32,  289.12,\n        301.38,  310.09,  329.36,  318.66,  280.16,  245.01,  240.96,\n        250.48,  258.13,  265.74,  262.61,  256.12,  270.68,  269.05,\n        263.73,  267.97,  277.4 ,  271.02,  276.51,  285.41,  294.01,\n        292.71,  302.25,  313.93,  323.73,  331.93,  346.61,  347.33,\n        347.4 ,  340.22,  348.57,  339.97,  330.45,  338.47,  338.18,\n        350.25,  360.39,  360.03,  330.75,  315.41,  307.12,  315.29,\n        328.75,  325.49,  362.26,  372.28,  379.68,  377.99,  378.29,\n        380.23,  389.4 ,  387.2 ,  386.88,  385.92,  388.51,  416.08,\n        412.56,  407.36,  407.41,  414.81,  408.27,  415.05,  417.93,\n        418.48,  412.5 ,  422.84,  435.64,  435.23,  441.7 ,  450.16,\n        443.08,  445.25,  448.06,  447.29,  454.13,  459.24,  463.9 ,\n        462.89,  465.95,  472.99,  471.58,  463.81,  447.23,  450.9 ,\n        454.83,  451.4 ,  464.24,  466.96,  461.01,  455.19,  465.25,\n        481.92,  493.15,  507.91,  523.81,  539.35,  557.37,  559.11,\n        578.77,  582.92,  595.53,  614.57,  614.42,  649.54,  647.07,\n        647.17,  661.23,  668.5 ,  644.07,  662.68,  674.88,  701.45,\n        735.67,  743.25,  766.22,  798.39,  792.16,  763.93,  833.09,\n        876.29,  925.29,  927.74,  937.02,  951.16,  938.92,  962.37,\n        963.36, 1023.74, 1076.83, 1112.2 , 1108.42, 1108.39, 1156.58,\n       1074.63, 1020.64, 1032.47, 1144.43, 1190.05, 1248.77, 1246.58,\n       1281.66, 1334.76, 1332.07, 1322.55, 1380.99, 1327.49, 1318.17,\n       1300.01, 1391.  , 1428.68, 1425.59, 1388.87, 1442.21, 1461.36,\n       1418.48, 1461.96, 1473.  , 1485.46, 1468.05, 1390.14, 1375.04,\n       1330.93, 1129.68, 1144.93, 1140.21, 1100.67, 1153.79, 1112.03,\n       1079.27, 1014.05,  903.59,  912.55,  867.81,  854.63,  909.93,\n        899.18,  895.84,  837.62,  846.62,  890.03,  935.96,  988.  ,\n        992.54,  989.53, 1019.44, 1038.73, 1049.9 , 1080.64, 1132.52,\n       1143.36, 1123.98, 1133.08, 1102.63, 1132.76, 1105.85, 1088.94,\n       1117.66, 1118.07, 1168.94, 1199.21, 1181.41, 1199.63, 1194.9 ,\n       1164.62, 1178.28, 1202.26, 1222.24, 1224.27, 1225.91, 1191.96,\n       1237.37, 1262.07, 1278.72, 1276.65, 1293.74, 1302.18, 1290.  ,\n       1253.12, 1260.24, 1317.81, 1363.38, 1388.63, 1416.42, 1424.16,\n       1444.79, 1406.95, 1463.65, 1511.15, 1514.49, 1520.7 , 1454.62,\n       1497.12, 1539.66, 1463.39, 1479.23, 1378.76, 1354.87, 1316.94,\n       1370.47, 1403.22, 1341.25, 1257.33, 1281.47, 1217.01,  968.8 ,\n        883.04,  877.56,  865.58,  805.23,  757.13,  848.15,  902.41,\n        926.12,  935.82, 1009.72, 1044.55, 1067.66, 1088.07, 1110.38,\n       1123.58, 1089.16, 1152.05, 1197.32, 1125.06, 1083.36, 1079.8 ,\n       1087.28, 1122.08, 1171.58, 1198.89, 1241.53, 1282.62, 1321.12,\n       1304.49, 1331.51, 1338.31, 1287.29, 1325.18, 1185.31, 1173.88,\n       1207.22, 1226.41, 1243.32, 1300.58, 1352.49, 1389.24, 1386.43,\n       1341.27, 1323.48, 1359.78, 1403.44, 1443.42, 1437.82, 1394.51,\n       1422.28, 1480.4 , 1512.31, 1550.83, 1570.7 , 1639.84, 1618.77,\n       1668.68, 1670.09, 1687.17, 1720.03, 1783.54, 1807.78, 1822.36,\n       1817.03, 1863.52, 1864.26, 1889.77, 1947.09, 1973.1 , 1961.53,\n       1993.23, 1937.27, 2044.57, 2054.27, 2028.18, 2082.2 , 2079.99,\n       2094.86, 2111.94, 2099.28, 2094.14, 2039.87, 1944.4 , 2024.81,\n       2080.62, 2054.08, 1918.6 , 1904.42, 2021.95, 2075.54, 2065.55,\n       2083.89, 2148.9 , 2177.48, 2157.69, 2143.02, 2164.99, 2246.63,\n       2275.12, 2329.91, 2366.82, 2359.31, 2395.35, 2433.99, 2454.1 ,\n       2456.22, 2492.84, 2557.  , 2593.61, 2664.34, 2789.8 , 2705.16,\n       2702.77, 2653.63, 2701.49, 2754.35, 2793.64, 2857.82, 2901.5 ,\n       2785.46, 2723.23, 2567.31, 2607.39, 2754.86, 2803.98, 2903.8 ,\n       2854.71, 2890.17, 2996.11, 2897.5 , 2982.16])"
     },
     "execution_count": 62,
     "metadata": {},
     "output_type": "execute_result"
    }
   ],
   "source": [
    "cla.df['LEISTKPIndex'].unique()"
   ]
  },
  {
   "cell_type": "code",
   "execution_count": 66,
   "metadata": {},
   "outputs": [
    {
     "data": {
      "text/plain": "date\n1981-01-01   NaN\n1981-01-02   NaN\n1981-01-05   NaN\n1981-01-06   NaN\n1981-01-07   NaN\n              ..\n2019-10-27   NaN\n2019-10-28   NaN\n2019-10-29   NaN\n2019-10-30   NaN\n2019-10-31   NaN\nName: LEISTKPIndex7, Length: 11682, dtype: float64"
     },
     "execution_count": 66,
     "metadata": {},
     "output_type": "execute_result"
    }
   ],
   "source": [
    "cla.df['LEISTKPIndex7']"
   ]
  },
  {
   "cell_type": "code",
   "execution_count": 56,
   "metadata": {},
   "outputs": [
    {
     "ename": "ValueError",
     "evalue": "The number of derivatives at boundaries does not match: expected 3, got 0+0",
     "output_type": "error",
     "traceback": [
      "\u001b[0;31m---------------------------------------------------------------------------\u001b[0m",
      "\u001b[0;31mValueError\u001b[0m                                Traceback (most recent call last)",
      "\u001b[0;32m<ipython-input-56-ce6385c98102>\u001b[0m in \u001b[0;36m<module>\u001b[0;34m\u001b[0m\n\u001b[0;32m----> 1\u001b[0;31m \u001b[0mcla\u001b[0m\u001b[0;34m.\u001b[0m\u001b[0mdf\u001b[0m\u001b[0;34m[\u001b[0m\u001b[0;34m'LEISTKPIndex90'\u001b[0m\u001b[0;34m]\u001b[0m\u001b[0;34m.\u001b[0m\u001b[0minterpolate\u001b[0m\u001b[0;34m(\u001b[0m\u001b[0mmethod\u001b[0m \u001b[0;34m=\u001b[0m \u001b[0;34m'cubic'\u001b[0m\u001b[0;34m,\u001b[0m \u001b[0mlimit_area\u001b[0m \u001b[0;34m=\u001b[0m \u001b[0;34m'inside'\u001b[0m\u001b[0;34m)\u001b[0m\u001b[0;34m.\u001b[0m\u001b[0mfillna\u001b[0m\u001b[0;34m(\u001b[0m\u001b[0mmethod\u001b[0m \u001b[0;34m=\u001b[0m \u001b[0;34m'ffill'\u001b[0m\u001b[0;34m)\u001b[0m\u001b[0;34m.\u001b[0m\u001b[0mfillna\u001b[0m\u001b[0;34m(\u001b[0m\u001b[0mmethod\u001b[0m \u001b[0;34m=\u001b[0m \u001b[0;34m'bfill'\u001b[0m\u001b[0;34m)\u001b[0m\u001b[0;34m\u001b[0m\u001b[0;34m\u001b[0m\u001b[0m\n\u001b[0m",
      "\u001b[0;32m~/opt/anaconda3/envs/tf-py36/lib/python3.6/site-packages/pandas/core/generic.py\u001b[0m in \u001b[0;36minterpolate\u001b[0;34m(self, method, axis, limit, inplace, limit_direction, limit_area, downcast, **kwargs)\u001b[0m\n\u001b[1;32m   7062\u001b[0m             \u001b[0minplace\u001b[0m\u001b[0;34m=\u001b[0m\u001b[0minplace\u001b[0m\u001b[0;34m,\u001b[0m\u001b[0;34m\u001b[0m\u001b[0;34m\u001b[0m\u001b[0m\n\u001b[1;32m   7063\u001b[0m             \u001b[0mdowncast\u001b[0m\u001b[0;34m=\u001b[0m\u001b[0mdowncast\u001b[0m\u001b[0;34m,\u001b[0m\u001b[0;34m\u001b[0m\u001b[0;34m\u001b[0m\u001b[0m\n\u001b[0;32m-> 7064\u001b[0;31m             \u001b[0;34m**\u001b[0m\u001b[0mkwargs\u001b[0m\u001b[0;34m\u001b[0m\u001b[0;34m\u001b[0m\u001b[0m\n\u001b[0m\u001b[1;32m   7065\u001b[0m         )\n\u001b[1;32m   7066\u001b[0m \u001b[0;34m\u001b[0m\u001b[0m\n",
      "\u001b[0;32m~/opt/anaconda3/envs/tf-py36/lib/python3.6/site-packages/pandas/core/internals/managers.py\u001b[0m in \u001b[0;36minterpolate\u001b[0;34m(self, **kwargs)\u001b[0m\n\u001b[1;32m    567\u001b[0m \u001b[0;34m\u001b[0m\u001b[0m\n\u001b[1;32m    568\u001b[0m     \u001b[0;32mdef\u001b[0m \u001b[0minterpolate\u001b[0m\u001b[0;34m(\u001b[0m\u001b[0mself\u001b[0m\u001b[0;34m,\u001b[0m \u001b[0;34m**\u001b[0m\u001b[0mkwargs\u001b[0m\u001b[0;34m)\u001b[0m\u001b[0;34m:\u001b[0m\u001b[0;34m\u001b[0m\u001b[0;34m\u001b[0m\u001b[0m\n\u001b[0;32m--> 569\u001b[0;31m         \u001b[0;32mreturn\u001b[0m \u001b[0mself\u001b[0m\u001b[0;34m.\u001b[0m\u001b[0mapply\u001b[0m\u001b[0;34m(\u001b[0m\u001b[0;34m\"interpolate\"\u001b[0m\u001b[0;34m,\u001b[0m \u001b[0;34m**\u001b[0m\u001b[0mkwargs\u001b[0m\u001b[0;34m)\u001b[0m\u001b[0;34m\u001b[0m\u001b[0;34m\u001b[0m\u001b[0m\n\u001b[0m\u001b[1;32m    570\u001b[0m \u001b[0;34m\u001b[0m\u001b[0m\n\u001b[1;32m    571\u001b[0m     \u001b[0;32mdef\u001b[0m \u001b[0mshift\u001b[0m\u001b[0;34m(\u001b[0m\u001b[0mself\u001b[0m\u001b[0;34m,\u001b[0m \u001b[0;34m**\u001b[0m\u001b[0mkwargs\u001b[0m\u001b[0;34m)\u001b[0m\u001b[0;34m:\u001b[0m\u001b[0;34m\u001b[0m\u001b[0;34m\u001b[0m\u001b[0m\n",
      "\u001b[0;32m~/opt/anaconda3/envs/tf-py36/lib/python3.6/site-packages/pandas/core/internals/managers.py\u001b[0m in \u001b[0;36mapply\u001b[0;34m(self, f, axes, filter, do_integrity_check, consolidate, **kwargs)\u001b[0m\n\u001b[1;32m    436\u001b[0m                     \u001b[0mkwargs\u001b[0m\u001b[0;34m[\u001b[0m\u001b[0mk\u001b[0m\u001b[0;34m]\u001b[0m \u001b[0;34m=\u001b[0m \u001b[0mobj\u001b[0m\u001b[0;34m.\u001b[0m\u001b[0mreindex\u001b[0m\u001b[0;34m(\u001b[0m\u001b[0mb_items\u001b[0m\u001b[0;34m,\u001b[0m \u001b[0maxis\u001b[0m\u001b[0;34m=\u001b[0m\u001b[0maxis\u001b[0m\u001b[0;34m,\u001b[0m \u001b[0mcopy\u001b[0m\u001b[0;34m=\u001b[0m\u001b[0malign_copy\u001b[0m\u001b[0;34m)\u001b[0m\u001b[0;34m\u001b[0m\u001b[0;34m\u001b[0m\u001b[0m\n\u001b[1;32m    437\u001b[0m \u001b[0;34m\u001b[0m\u001b[0m\n\u001b[0;32m--> 438\u001b[0;31m             \u001b[0mapplied\u001b[0m \u001b[0;34m=\u001b[0m \u001b[0mgetattr\u001b[0m\u001b[0;34m(\u001b[0m\u001b[0mb\u001b[0m\u001b[0;34m,\u001b[0m \u001b[0mf\u001b[0m\u001b[0;34m)\u001b[0m\u001b[0;34m(\u001b[0m\u001b[0;34m**\u001b[0m\u001b[0mkwargs\u001b[0m\u001b[0;34m)\u001b[0m\u001b[0;34m\u001b[0m\u001b[0;34m\u001b[0m\u001b[0m\n\u001b[0m\u001b[1;32m    439\u001b[0m             \u001b[0mresult_blocks\u001b[0m \u001b[0;34m=\u001b[0m \u001b[0m_extend_blocks\u001b[0m\u001b[0;34m(\u001b[0m\u001b[0mapplied\u001b[0m\u001b[0;34m,\u001b[0m \u001b[0mresult_blocks\u001b[0m\u001b[0;34m)\u001b[0m\u001b[0;34m\u001b[0m\u001b[0;34m\u001b[0m\u001b[0m\n\u001b[1;32m    440\u001b[0m \u001b[0;34m\u001b[0m\u001b[0m\n",
      "\u001b[0;32m~/opt/anaconda3/envs/tf-py36/lib/python3.6/site-packages/pandas/core/internals/blocks.py\u001b[0m in \u001b[0;36minterpolate\u001b[0;34m(self, method, axis, index, values, inplace, limit, limit_direction, limit_area, fill_value, coerce, downcast, **kwargs)\u001b[0m\n\u001b[1;32m   1190\u001b[0m             \u001b[0minplace\u001b[0m\u001b[0;34m=\u001b[0m\u001b[0minplace\u001b[0m\u001b[0;34m,\u001b[0m\u001b[0;34m\u001b[0m\u001b[0;34m\u001b[0m\u001b[0m\n\u001b[1;32m   1191\u001b[0m             \u001b[0mdowncast\u001b[0m\u001b[0;34m=\u001b[0m\u001b[0mdowncast\u001b[0m\u001b[0;34m,\u001b[0m\u001b[0;34m\u001b[0m\u001b[0;34m\u001b[0m\u001b[0m\n\u001b[0;32m-> 1192\u001b[0;31m             \u001b[0;34m**\u001b[0m\u001b[0mkwargs\u001b[0m\u001b[0;34m\u001b[0m\u001b[0;34m\u001b[0m\u001b[0m\n\u001b[0m\u001b[1;32m   1193\u001b[0m         )\n\u001b[1;32m   1194\u001b[0m \u001b[0;34m\u001b[0m\u001b[0m\n",
      "\u001b[0;32m~/opt/anaconda3/envs/tf-py36/lib/python3.6/site-packages/pandas/core/internals/blocks.py\u001b[0m in \u001b[0;36m_interpolate\u001b[0;34m(self, method, index, values, fill_value, axis, limit, limit_direction, limit_area, inplace, downcast, **kwargs)\u001b[0m\n\u001b[1;32m   1286\u001b[0m \u001b[0;34m\u001b[0m\u001b[0m\n\u001b[1;32m   1287\u001b[0m         \u001b[0;31m# interp each column independently\u001b[0m\u001b[0;34m\u001b[0m\u001b[0;34m\u001b[0m\u001b[0;34m\u001b[0m\u001b[0m\n\u001b[0;32m-> 1288\u001b[0;31m         \u001b[0minterp_values\u001b[0m \u001b[0;34m=\u001b[0m \u001b[0mnp\u001b[0m\u001b[0;34m.\u001b[0m\u001b[0mapply_along_axis\u001b[0m\u001b[0;34m(\u001b[0m\u001b[0mfunc\u001b[0m\u001b[0;34m,\u001b[0m \u001b[0maxis\u001b[0m\u001b[0;34m,\u001b[0m \u001b[0mdata\u001b[0m\u001b[0;34m)\u001b[0m\u001b[0;34m\u001b[0m\u001b[0;34m\u001b[0m\u001b[0m\n\u001b[0m\u001b[1;32m   1289\u001b[0m \u001b[0;34m\u001b[0m\u001b[0m\n\u001b[1;32m   1290\u001b[0m         \u001b[0mblocks\u001b[0m \u001b[0;34m=\u001b[0m \u001b[0;34m[\u001b[0m\u001b[0mself\u001b[0m\u001b[0;34m.\u001b[0m\u001b[0mmake_block_same_class\u001b[0m\u001b[0;34m(\u001b[0m\u001b[0minterp_values\u001b[0m\u001b[0;34m)\u001b[0m\u001b[0;34m]\u001b[0m\u001b[0;34m\u001b[0m\u001b[0;34m\u001b[0m\u001b[0m\n",
      "\u001b[0;32m<__array_function__ internals>\u001b[0m in \u001b[0;36mapply_along_axis\u001b[0;34m(*args, **kwargs)\u001b[0m\n",
      "\u001b[0;32m~/opt/anaconda3/envs/tf-py36/lib/python3.6/site-packages/numpy/lib/shape_base.py\u001b[0m in \u001b[0;36mapply_along_axis\u001b[0;34m(func1d, axis, arr, *args, **kwargs)\u001b[0m\n\u001b[1;32m    377\u001b[0m     \u001b[0;32mexcept\u001b[0m \u001b[0mStopIteration\u001b[0m\u001b[0;34m:\u001b[0m\u001b[0;34m\u001b[0m\u001b[0;34m\u001b[0m\u001b[0m\n\u001b[1;32m    378\u001b[0m         \u001b[0;32mraise\u001b[0m \u001b[0mValueError\u001b[0m\u001b[0;34m(\u001b[0m\u001b[0;34m'Cannot apply_along_axis when any iteration dimensions are 0'\u001b[0m\u001b[0;34m)\u001b[0m\u001b[0;34m\u001b[0m\u001b[0;34m\u001b[0m\u001b[0m\n\u001b[0;32m--> 379\u001b[0;31m     \u001b[0mres\u001b[0m \u001b[0;34m=\u001b[0m \u001b[0masanyarray\u001b[0m\u001b[0;34m(\u001b[0m\u001b[0mfunc1d\u001b[0m\u001b[0;34m(\u001b[0m\u001b[0minarr_view\u001b[0m\u001b[0;34m[\u001b[0m\u001b[0mind0\u001b[0m\u001b[0;34m]\u001b[0m\u001b[0;34m,\u001b[0m \u001b[0;34m*\u001b[0m\u001b[0margs\u001b[0m\u001b[0;34m,\u001b[0m \u001b[0;34m**\u001b[0m\u001b[0mkwargs\u001b[0m\u001b[0;34m)\u001b[0m\u001b[0;34m)\u001b[0m\u001b[0;34m\u001b[0m\u001b[0;34m\u001b[0m\u001b[0m\n\u001b[0m\u001b[1;32m    380\u001b[0m \u001b[0;34m\u001b[0m\u001b[0m\n\u001b[1;32m    381\u001b[0m     \u001b[0;31m# build a buffer for storing evaluations of func1d.\u001b[0m\u001b[0;34m\u001b[0m\u001b[0;34m\u001b[0m\u001b[0;34m\u001b[0m\u001b[0m\n",
      "\u001b[0;32m~/opt/anaconda3/envs/tf-py36/lib/python3.6/site-packages/pandas/core/internals/blocks.py\u001b[0m in \u001b[0;36mfunc\u001b[0;34m(x)\u001b[0m\n\u001b[1;32m   1282\u001b[0m                 \u001b[0mfill_value\u001b[0m\u001b[0;34m=\u001b[0m\u001b[0mfill_value\u001b[0m\u001b[0;34m,\u001b[0m\u001b[0;34m\u001b[0m\u001b[0;34m\u001b[0m\u001b[0m\n\u001b[1;32m   1283\u001b[0m                 \u001b[0mbounds_error\u001b[0m\u001b[0;34m=\u001b[0m\u001b[0;32mFalse\u001b[0m\u001b[0;34m,\u001b[0m\u001b[0;34m\u001b[0m\u001b[0;34m\u001b[0m\u001b[0m\n\u001b[0;32m-> 1284\u001b[0;31m                 \u001b[0;34m**\u001b[0m\u001b[0mkwargs\u001b[0m\u001b[0;34m\u001b[0m\u001b[0;34m\u001b[0m\u001b[0m\n\u001b[0m\u001b[1;32m   1285\u001b[0m             )\n\u001b[1;32m   1286\u001b[0m \u001b[0;34m\u001b[0m\u001b[0m\n",
      "\u001b[0;32m~/opt/anaconda3/envs/tf-py36/lib/python3.6/site-packages/pandas/core/missing.py\u001b[0m in \u001b[0;36minterpolate_1d\u001b[0;34m(xvalues, yvalues, method, limit, limit_direction, limit_area, fill_value, bounds_error, order, **kwargs)\u001b[0m\n\u001b[1;32m    286\u001b[0m             \u001b[0mbounds_error\u001b[0m\u001b[0;34m=\u001b[0m\u001b[0mbounds_error\u001b[0m\u001b[0;34m,\u001b[0m\u001b[0;34m\u001b[0m\u001b[0;34m\u001b[0m\u001b[0m\n\u001b[1;32m    287\u001b[0m             \u001b[0morder\u001b[0m\u001b[0;34m=\u001b[0m\u001b[0morder\u001b[0m\u001b[0;34m,\u001b[0m\u001b[0;34m\u001b[0m\u001b[0;34m\u001b[0m\u001b[0m\n\u001b[0;32m--> 288\u001b[0;31m             \u001b[0;34m**\u001b[0m\u001b[0mkwargs\u001b[0m\u001b[0;34m\u001b[0m\u001b[0;34m\u001b[0m\u001b[0m\n\u001b[0m\u001b[1;32m    289\u001b[0m         )\n\u001b[1;32m    290\u001b[0m         \u001b[0mresult\u001b[0m\u001b[0;34m[\u001b[0m\u001b[0mpreserve_nans\u001b[0m\u001b[0;34m]\u001b[0m \u001b[0;34m=\u001b[0m \u001b[0mnp\u001b[0m\u001b[0;34m.\u001b[0m\u001b[0mnan\u001b[0m\u001b[0;34m\u001b[0m\u001b[0;34m\u001b[0m\u001b[0m\n",
      "\u001b[0;32m~/opt/anaconda3/envs/tf-py36/lib/python3.6/site-packages/pandas/core/missing.py\u001b[0m in \u001b[0;36m_interpolate_scipy_wrapper\u001b[0;34m(x, y, new_x, method, fill_value, bounds_error, order, **kwargs)\u001b[0m\n\u001b[1;32m    340\u001b[0m             \u001b[0mmethod\u001b[0m \u001b[0;34m=\u001b[0m \u001b[0morder\u001b[0m\u001b[0;34m\u001b[0m\u001b[0;34m\u001b[0m\u001b[0m\n\u001b[1;32m    341\u001b[0m         terp = interpolate.interp1d(\n\u001b[0;32m--> 342\u001b[0;31m             \u001b[0mx\u001b[0m\u001b[0;34m,\u001b[0m \u001b[0my\u001b[0m\u001b[0;34m,\u001b[0m \u001b[0mkind\u001b[0m\u001b[0;34m=\u001b[0m\u001b[0mmethod\u001b[0m\u001b[0;34m,\u001b[0m \u001b[0mfill_value\u001b[0m\u001b[0;34m=\u001b[0m\u001b[0mfill_value\u001b[0m\u001b[0;34m,\u001b[0m \u001b[0mbounds_error\u001b[0m\u001b[0;34m=\u001b[0m\u001b[0mbounds_error\u001b[0m\u001b[0;34m\u001b[0m\u001b[0;34m\u001b[0m\u001b[0m\n\u001b[0m\u001b[1;32m    343\u001b[0m         )\n\u001b[1;32m    344\u001b[0m         \u001b[0mnew_y\u001b[0m \u001b[0;34m=\u001b[0m \u001b[0mterp\u001b[0m\u001b[0;34m(\u001b[0m\u001b[0mnew_x\u001b[0m\u001b[0;34m)\u001b[0m\u001b[0;34m\u001b[0m\u001b[0;34m\u001b[0m\u001b[0m\n",
      "\u001b[0;32m~/opt/anaconda3/envs/tf-py36/lib/python3.6/site-packages/scipy/interpolate/interpolate.py\u001b[0m in \u001b[0;36m__init__\u001b[0;34m(***failed resolving arguments***)\u001b[0m\n\u001b[1;32m    531\u001b[0m \u001b[0;34m\u001b[0m\u001b[0m\n\u001b[1;32m    532\u001b[0m             self._spline = make_interp_spline(xx, yy, k=order,\n\u001b[0;32m--> 533\u001b[0;31m                                               check_finite=False)\n\u001b[0m\u001b[1;32m    534\u001b[0m             \u001b[0;32mif\u001b[0m \u001b[0mrewrite_nan\u001b[0m\u001b[0;34m:\u001b[0m\u001b[0;34m\u001b[0m\u001b[0;34m\u001b[0m\u001b[0m\n\u001b[1;32m    535\u001b[0m                 \u001b[0mself\u001b[0m\u001b[0;34m.\u001b[0m\u001b[0m_call\u001b[0m \u001b[0;34m=\u001b[0m \u001b[0mself\u001b[0m\u001b[0;34m.\u001b[0m\u001b[0m__class__\u001b[0m\u001b[0;34m.\u001b[0m\u001b[0m_call_nan_spline\u001b[0m\u001b[0;34m\u001b[0m\u001b[0;34m\u001b[0m\u001b[0m\n",
      "\u001b[0;32m~/opt/anaconda3/envs/tf-py36/lib/python3.6/site-packages/scipy/interpolate/_bsplines.py\u001b[0m in \u001b[0;36mmake_interp_spline\u001b[0;34m(x, y, k, t, bc_type, axis, check_finite)\u001b[0m\n\u001b[1;32m    825\u001b[0m     \u001b[0;32mif\u001b[0m \u001b[0mnt\u001b[0m \u001b[0;34m-\u001b[0m \u001b[0mn\u001b[0m \u001b[0;34m!=\u001b[0m \u001b[0mnleft\u001b[0m \u001b[0;34m+\u001b[0m \u001b[0mnright\u001b[0m\u001b[0;34m:\u001b[0m\u001b[0;34m\u001b[0m\u001b[0;34m\u001b[0m\u001b[0m\n\u001b[1;32m    826\u001b[0m         raise ValueError(\"The number of derivatives at boundaries does not \"\n\u001b[0;32m--> 827\u001b[0;31m                          \"match: expected %s, got %s+%s\" % (nt-n, nleft, nright))\n\u001b[0m\u001b[1;32m    828\u001b[0m \u001b[0;34m\u001b[0m\u001b[0m\n\u001b[1;32m    829\u001b[0m     \u001b[0;31m# set up the LHS: the collocation matrix + derivatives at boundaries\u001b[0m\u001b[0;34m\u001b[0m\u001b[0;34m\u001b[0m\u001b[0;34m\u001b[0m\u001b[0m\n",
      "\u001b[0;31mValueError\u001b[0m: The number of derivatives at boundaries does not match: expected 3, got 0+0"
     ]
    }
   ],
   "source": [
    "cla.df['LEISTKPIndex90'].interpolate(method = 'cubic', limit_area = 'inside').fillna(method = 'ffill').fillna(method = 'bfill')"
   ]
  },
  {
   "cell_type": "code",
   "execution_count": null,
   "metadata": {},
   "outputs": [],
   "source": []
  }
 ],
 "metadata": {
  "kernelspec": {
   "display_name": "Tensorflow Python 3.6",
   "language": "python",
   "name": "tf-py36"
  },
  "language_info": {
   "codemirror_mode": {
    "name": "ipython",
    "version": 3
   },
   "file_extension": ".py",
   "mimetype": "text/x-python",
   "name": "python",
   "nbconvert_exporter": "python",
   "pygments_lexer": "ipython3",
   "version": "3.6.9-final"
  }
 },
 "nbformat": 4,
 "nbformat_minor": 4
}