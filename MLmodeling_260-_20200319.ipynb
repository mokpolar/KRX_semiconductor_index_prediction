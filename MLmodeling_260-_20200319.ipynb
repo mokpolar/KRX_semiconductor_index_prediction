{
 "cells": [
  {
   "cell_type": "code",
   "execution_count": 1,
   "metadata": {},
   "outputs": [],
   "source": [
    "## Library Import\n",
    "\n",
    "# Basic\n",
    "import re\n",
    "import warnings\n",
    "import numpy as np\n",
    "import pandas as pd\n",
    "pd.set_option('display.max_rows', 50)\n",
    "pd.set_option('display.max_columns', 50)\n",
    "pd.set_option('display.width', 100)\n",
    "warnings.filterwarnings('ignore')\n",
    "%config InlineBackend.figure_format = 'retina'\n",
    "\n",
    "# Preprocessing\n",
    "from sklearn import preprocessing\n",
    "from sklearn.model_selection import train_test_split\n",
    "\n",
    "# Visualization\n",
    "import matplotlib.pyplot as plt\n",
    "import seaborn as sns\n",
    "\n",
    "# Scaler\n",
    "from sklearn.preprocessing import StandardScaler\n",
    "from sklearn.preprocessing import MinMaxScaler\n",
    "from sklearn.preprocessing import PowerTransformer\n",
    "\n",
    "# AutoML optuna library\n",
    "import optuna\n",
    "import optuna.integration.lightgbm as lgb\n",
    "\n",
    "# Linear Model\n",
    "from sklearn.linear_model import LinearRegression\n",
    "from sklearn.linear_model import Ridge\n",
    "from sklearn.linear_model import Lasso\n",
    "\n",
    "# Tree Model\n",
    "from sklearn.tree import DecisionTreeRegressor\n",
    "from sklearn.ensemble import GradientBoostingRegressor, RandomForestRegressor\n",
    "from xgboost import XGBRegressor\n",
    "from lightgbm import LGBMRegressor\n",
    "\n",
    "# Metric\n",
    "from sklearn.metrics import mean_squared_error, r2_score\n",
    "from sklearn.model_selection import cross_val_score\n",
    "\n",
    "## for PCA\n",
    "from sklearn.decomposition import PCA\n",
    "\n",
    "# for VIF\n",
    "from patsy import dmatrices\n",
    "from statsmodels.stats.outliers_influence import variance_inflation_factor"
   ]
  },
  {
   "cell_type": "code",
   "execution_count": 2,
   "metadata": {},
   "outputs": [],
   "source": [
    "# data load\n",
    "df = pd.read_csv('original_full_data_20200319.csv', index_col = 0)\n",
    "mmdf = pd.read_csv('bloomberg_map_index_20200319.csv', index_col = 0)"
   ]
  },
  {
   "cell_type": "code",
   "execution_count": 3,
   "metadata": {},
   "outputs": [],
   "source": [
    "# Class generates derived variables & shifting target variable\n",
    "\n",
    "class Builder:\n",
    "\n",
    "    def __init__(self, input_df, map_df, target_day):\n",
    "        self.df = input_df\n",
    "        self.mdf = map_df\n",
    "        self.lag_days = [1, 5, 20, 60, 120, 260] # lagging day variation [1day 1week 1month 3month 6month 1year]\n",
    "        self.target_day = target_day # ex) 1, 260\n",
    "\n",
    "\n",
    "    # shifting function\n",
    "\n",
    "    def targeter(self, target_column):\n",
    "        self.df[target_column] = ((self.df[target_column] / self.df[target_column].shift(periods = self.target_day, axis = 0))-1).shift(-1*int(self.target_day))\n",
    "\n",
    "        return self.df\n",
    "    \n",
    "    # generating derived columns function : return ex) 20060107/20060101\n",
    "\n",
    "    def returner(self, target_column):      \n",
    "\n",
    "        col_name =  []\n",
    "        # creating new column name\n",
    "        for i in self.lag_days:\n",
    "            col_name.append(target_column + str(i))\n",
    "            \n",
    "        # appending lagged columns\n",
    "        for i, j in enumerate(self.lag_days):\n",
    "            self.df[locals()['col_name'][i]] = (self.df[target_column] / self.df[target_column].shift(periods = j, axis = 0))-1 # 여기에 1을 뺀걸 추가하면 되는거아닌가? 1.얼만에서 1이 빠진거니까\n",
    "\n",
    "        return self.df \n",
    "\n",
    "    # generating derived function : minus ex) 20060107 - 20060101\n",
    "    \n",
    "    def differ(self, target_column):\n",
    "\n",
    "        col_name = []\n",
    "        for i in self.lag_days:\n",
    "            col_name.append(target_column + str(i))\n",
    "        for i, j in enumerate(self.lag_days):\n",
    "            self.df[locals()['col_name'][i]] = self.df[target_column] - self.df[target_column].shift(periods = j, axis = 0)\n",
    "        return self.df\n",
    "\n",
    "    # generating derived function : volume * close  -> convert to return \n",
    "\n",
    "    def producter(self, target_column):\n",
    "\n",
    "        col_name = (str(target_column).split('_'))[0]       \n",
    "        self.df[locals()['col_name'] + '_product'] = self.df[col_name + '_volume'] * self.df[col_name + '_close'] # j volume과 j close를 곱해서 \n",
    "\n",
    "        return self.df\n",
    "    \n",
    "    # executing functions\n",
    "    \n",
    "    def execution(self):\n",
    "        for i, j in enumerate(self.mdf['ticker']): # mdf에서 ticker 확인\n",
    "            if j in self.df.columns:\n",
    "                if self.mdf.loc[i, :][1] == 'product':  # key값이 product인 경우\n",
    "                    self.producter(j)\n",
    "                    col = str(j).split('_')[0]\n",
    "                    self.df[col + '_product'] = self.df[col + '_product'] / self.df[col + '_product'].shift(1)\n",
    "                    \n",
    "                elif self.mdf.loc[i, :][1] == 'minus': # key값이 minus인 경우\n",
    "                    self.differ(j)\n",
    "\n",
    "                elif self.mdf.loc[i, :][1] == 'change': # key값이 change인 경우\n",
    "                    self.returner(j)\n",
    "\n",
    "\n",
    "                elif self.mdf.loc[i, :][1] == 'target': # key값이 target인 경우 (현재 KRXsemiconductor_change)\n",
    "                    self.targeter(j)\n",
    "\n",
    "                else:\n",
    "                    pass\n",
    "            else:\n",
    "                pass\n",
    "                            \n",
    "        return self.df\n",
    "\n",
    "\n",
    "    # side : creating auto correlation graph function\n",
    "\n",
    "    def acf_cal(self, target):\n",
    "        data = pd.DataFrame(self.df[target])\n",
    "        data = data.interpolate(method = 'cubic', limit_area = 'inside').fillna(method = 'ffill').fillna(method = 'bfill')\n",
    "        acf = sm.tsa.acf(data)      \n",
    "        plt.stem(acf)\n",
    "        plt.show()"
   ]
  },
  {
   "cell_type": "code",
   "execution_count": 4,
   "metadata": {},
   "outputs": [
    {
     "data": {
      "text/plain": [
       "429"
      ]
     },
     "execution_count": 4,
     "metadata": {},
     "output_type": "execute_result"
    }
   ],
   "source": [
    "len(df.columns)"
   ]
  },
  {
   "cell_type": "code",
   "execution_count": 5,
   "metadata": {},
   "outputs": [],
   "source": [
    "# date preprocessing\n",
    "\n",
    "df['date'] = pd.to_datetime(df['date'])\n",
    "df.set_index('date', inplace = True)"
   ]
  },
  {
   "cell_type": "code",
   "execution_count": 6,
   "metadata": {},
   "outputs": [],
   "source": [
    "# fillna cubic -> ffill -> bfill\n",
    "\n",
    "df = df.interpolate(method = 'cubic', limit_area = 'inside')\n",
    "df = df.fillna(method = 'ffill')\n",
    "df = df.fillna(method = 'bfill')"
   ]
  },
  {
   "cell_type": "code",
   "execution_count": 7,
   "metadata": {},
   "outputs": [
    {
     "data": {
      "text/plain": [
       "0"
      ]
     },
     "execution_count": 7,
     "metadata": {},
     "output_type": "execute_result"
    }
   ],
   "source": [
    "# check na value\n",
    "\n",
    "df.isna().sum().sum()"
   ]
  },
  {
   "cell_type": "code",
   "execution_count": 8,
   "metadata": {},
   "outputs": [],
   "source": [
    "# class load\n",
    "\n",
    "cla = Builder(df, mmdf, 260)"
   ]
  },
  {
   "cell_type": "code",
   "execution_count": 9,
   "metadata": {},
   "outputs": [
    {
     "data": {
      "text/html": [
       "<div>\n",
       "<style scoped>\n",
       "    .dataframe tbody tr th:only-of-type {\n",
       "        vertical-align: middle;\n",
       "    }\n",
       "\n",
       "    .dataframe tbody tr th {\n",
       "        vertical-align: top;\n",
       "    }\n",
       "\n",
       "    .dataframe thead th {\n",
       "        text-align: right;\n",
       "    }\n",
       "</style>\n",
       "<table border=\"1\" class=\"dataframe\">\n",
       "  <thead>\n",
       "    <tr style=\"text-align: right;\">\n",
       "      <th></th>\n",
       "      <th>SPXIndex</th>\n",
       "      <th>MSRUITIndex</th>\n",
       "      <th>MSRUMATIndex</th>\n",
       "      <th>MXWO0ITIndex</th>\n",
       "      <th>MXWO0MTIndex</th>\n",
       "      <th>MXUS0ITIndex</th>\n",
       "      <th>MXEF0ITIndex</th>\n",
       "      <th>MXEF0MTIndex</th>\n",
       "      <th>CL1Comdty</th>\n",
       "      <th>LMAHDS03Comdty</th>\n",
       "      <th>LMCADS03Comdty</th>\n",
       "      <th>XAUCurncy</th>\n",
       "      <th>LMNIDS03Comdty</th>\n",
       "      <th>CCMPIndex</th>\n",
       "      <th>NKYIndex</th>\n",
       "      <th>CINDIndex</th>\n",
       "      <th>IXKIndex</th>\n",
       "      <th>XCIIndex</th>\n",
       "      <th>SOXIndex</th>\n",
       "      <th>MSERIndex</th>\n",
       "      <th>NMDPIndex</th>\n",
       "      <th>SZCOMPIndex</th>\n",
       "      <th>KOSPIIndex</th>\n",
       "      <th>FDTRIndex</th>\n",
       "      <th>GDPCQOQIndex</th>\n",
       "      <th>...</th>\n",
       "      <th>AMD_product</th>\n",
       "      <th>APPLE_product</th>\n",
       "      <th>AppliedMaterials_product</th>\n",
       "      <th>Aspeed_product</th>\n",
       "      <th>Dell_product</th>\n",
       "      <th>Facebook_product</th>\n",
       "      <th>Google_product</th>\n",
       "      <th>HPE_product</th>\n",
       "      <th>Intel_product</th>\n",
       "      <th>LamResearch_product</th>\n",
       "      <th>MediaTek_product</th>\n",
       "      <th>Micron_product</th>\n",
       "      <th>Microsoft_product</th>\n",
       "      <th>Nuvoton_product</th>\n",
       "      <th>Nvidia_product</th>\n",
       "      <th>Philadelphia_product</th>\n",
       "      <th>QCOM_product</th>\n",
       "      <th>SamsungElectronics_product</th>\n",
       "      <th>ShinEtsuChemical_product</th>\n",
       "      <th>Siltronic_product</th>\n",
       "      <th>SKhynix_product</th>\n",
       "      <th>Sumco_product</th>\n",
       "      <th>TokyoElectron_product</th>\n",
       "      <th>TSMC_product</th>\n",
       "      <th>UMC_product</th>\n",
       "    </tr>\n",
       "    <tr>\n",
       "      <th>date</th>\n",
       "      <th></th>\n",
       "      <th></th>\n",
       "      <th></th>\n",
       "      <th></th>\n",
       "      <th></th>\n",
       "      <th></th>\n",
       "      <th></th>\n",
       "      <th></th>\n",
       "      <th></th>\n",
       "      <th></th>\n",
       "      <th></th>\n",
       "      <th></th>\n",
       "      <th></th>\n",
       "      <th></th>\n",
       "      <th></th>\n",
       "      <th></th>\n",
       "      <th></th>\n",
       "      <th></th>\n",
       "      <th></th>\n",
       "      <th></th>\n",
       "      <th></th>\n",
       "      <th></th>\n",
       "      <th></th>\n",
       "      <th></th>\n",
       "      <th></th>\n",
       "      <th></th>\n",
       "      <th></th>\n",
       "      <th></th>\n",
       "      <th></th>\n",
       "      <th></th>\n",
       "      <th></th>\n",
       "      <th></th>\n",
       "      <th></th>\n",
       "      <th></th>\n",
       "      <th></th>\n",
       "      <th></th>\n",
       "      <th></th>\n",
       "      <th></th>\n",
       "      <th></th>\n",
       "      <th></th>\n",
       "      <th></th>\n",
       "      <th></th>\n",
       "      <th></th>\n",
       "      <th></th>\n",
       "      <th></th>\n",
       "      <th></th>\n",
       "      <th></th>\n",
       "      <th></th>\n",
       "      <th></th>\n",
       "      <th></th>\n",
       "      <th></th>\n",
       "    </tr>\n",
       "  </thead>\n",
       "  <tbody>\n",
       "    <tr>\n",
       "      <th>2006-01-02</th>\n",
       "      <td>1268.80000</td>\n",
       "      <td>76.343000</td>\n",
       "      <td>176.382000</td>\n",
       "      <td>78.490000</td>\n",
       "      <td>180.120000</td>\n",
       "      <td>76.360000</td>\n",
       "      <td>208.160000</td>\n",
       "      <td>319.120000</td>\n",
       "      <td>63.140000</td>\n",
       "      <td>2283.000000</td>\n",
       "      <td>4440.000000</td>\n",
       "      <td>516.880000</td>\n",
       "      <td>13900.000000</td>\n",
       "      <td>2243.740000</td>\n",
       "      <td>16361.54000</td>\n",
       "      <td>1881.68000</td>\n",
       "      <td>1017.970000</td>\n",
       "      <td>743.140000</td>\n",
       "      <td>493.130000</td>\n",
       "      <td>1058.800000</td>\n",
       "      <td>796.070000</td>\n",
       "      <td>283.482000</td>\n",
       "      <td>1389.270000</td>\n",
       "      <td>4.25000</td>\n",
       "      <td>5.4</td>\n",
       "      <td>...</td>\n",
       "      <td>NaN</td>\n",
       "      <td>NaN</td>\n",
       "      <td>NaN</td>\n",
       "      <td>NaN</td>\n",
       "      <td>NaN</td>\n",
       "      <td>NaN</td>\n",
       "      <td>NaN</td>\n",
       "      <td>NaN</td>\n",
       "      <td>NaN</td>\n",
       "      <td>NaN</td>\n",
       "      <td>NaN</td>\n",
       "      <td>NaN</td>\n",
       "      <td>NaN</td>\n",
       "      <td>NaN</td>\n",
       "      <td>NaN</td>\n",
       "      <td>NaN</td>\n",
       "      <td>NaN</td>\n",
       "      <td>NaN</td>\n",
       "      <td>NaN</td>\n",
       "      <td>NaN</td>\n",
       "      <td>NaN</td>\n",
       "      <td>NaN</td>\n",
       "      <td>NaN</td>\n",
       "      <td>NaN</td>\n",
       "      <td>NaN</td>\n",
       "    </tr>\n",
       "    <tr>\n",
       "      <th>2006-01-03</th>\n",
       "      <td>1268.80000</td>\n",
       "      <td>77.777000</td>\n",
       "      <td>181.247000</td>\n",
       "      <td>80.040000</td>\n",
       "      <td>183.850000</td>\n",
       "      <td>76.360000</td>\n",
       "      <td>212.560000</td>\n",
       "      <td>327.930000</td>\n",
       "      <td>63.140000</td>\n",
       "      <td>2283.000000</td>\n",
       "      <td>4440.000000</td>\n",
       "      <td>534.150000</td>\n",
       "      <td>13900.000000</td>\n",
       "      <td>2243.740000</td>\n",
       "      <td>16361.54000</td>\n",
       "      <td>1881.68000</td>\n",
       "      <td>1017.970000</td>\n",
       "      <td>743.140000</td>\n",
       "      <td>493.130000</td>\n",
       "      <td>1062.560000</td>\n",
       "      <td>804.200000</td>\n",
       "      <td>283.482000</td>\n",
       "      <td>1394.870000</td>\n",
       "      <td>4.25000</td>\n",
       "      <td>5.4</td>\n",
       "      <td>...</td>\n",
       "      <td>1.000000</td>\n",
       "      <td>1.000000</td>\n",
       "      <td>1.000000</td>\n",
       "      <td>1.000000</td>\n",
       "      <td>1.000000</td>\n",
       "      <td>1.000000</td>\n",
       "      <td>1.000000</td>\n",
       "      <td>1.000000</td>\n",
       "      <td>1.000000</td>\n",
       "      <td>1.000000</td>\n",
       "      <td>1.000000</td>\n",
       "      <td>1.000000</td>\n",
       "      <td>1.000000</td>\n",
       "      <td>1.000000</td>\n",
       "      <td>1.000000</td>\n",
       "      <td>1.000000</td>\n",
       "      <td>1.000000</td>\n",
       "      <td>0.862009</td>\n",
       "      <td>1.000000</td>\n",
       "      <td>1.000000</td>\n",
       "      <td>1.048766</td>\n",
       "      <td>1.000000</td>\n",
       "      <td>1.000000</td>\n",
       "      <td>1.000000</td>\n",
       "      <td>1.000000</td>\n",
       "    </tr>\n",
       "    <tr>\n",
       "      <th>2006-01-04</th>\n",
       "      <td>1273.46000</td>\n",
       "      <td>79.620000</td>\n",
       "      <td>183.902000</td>\n",
       "      <td>81.090000</td>\n",
       "      <td>186.880000</td>\n",
       "      <td>77.210000</td>\n",
       "      <td>218.310000</td>\n",
       "      <td>334.380000</td>\n",
       "      <td>63.420000</td>\n",
       "      <td>2305.000000</td>\n",
       "      <td>4540.000000</td>\n",
       "      <td>534.400000</td>\n",
       "      <td>14100.000000</td>\n",
       "      <td>2263.460000</td>\n",
       "      <td>16361.54000</td>\n",
       "      <td>1893.19000</td>\n",
       "      <td>1026.090000</td>\n",
       "      <td>749.780000</td>\n",
       "      <td>496.690000</td>\n",
       "      <td>1073.470000</td>\n",
       "      <td>814.320000</td>\n",
       "      <td>283.482000</td>\n",
       "      <td>1402.110000</td>\n",
       "      <td>4.25000</td>\n",
       "      <td>5.4</td>\n",
       "      <td>...</td>\n",
       "      <td>0.682030</td>\n",
       "      <td>0.771197</td>\n",
       "      <td>1.026287</td>\n",
       "      <td>1.000000</td>\n",
       "      <td>1.000000</td>\n",
       "      <td>1.000000</td>\n",
       "      <td>1.223552</td>\n",
       "      <td>1.000000</td>\n",
       "      <td>0.829714</td>\n",
       "      <td>0.967572</td>\n",
       "      <td>1.000000</td>\n",
       "      <td>1.380558</td>\n",
       "      <td>0.743634</td>\n",
       "      <td>1.000000</td>\n",
       "      <td>1.109161</td>\n",
       "      <td>0.967923</td>\n",
       "      <td>1.097724</td>\n",
       "      <td>2.307115</td>\n",
       "      <td>1.000000</td>\n",
       "      <td>1.000000</td>\n",
       "      <td>1.549763</td>\n",
       "      <td>1.000000</td>\n",
       "      <td>1.000000</td>\n",
       "      <td>0.788606</td>\n",
       "      <td>0.581332</td>\n",
       "    </tr>\n",
       "    <tr>\n",
       "      <th>2006-01-05</th>\n",
       "      <td>1273.48000</td>\n",
       "      <td>80.513000</td>\n",
       "      <td>181.900000</td>\n",
       "      <td>81.930000</td>\n",
       "      <td>186.060000</td>\n",
       "      <td>77.850000</td>\n",
       "      <td>219.810000</td>\n",
       "      <td>334.160000</td>\n",
       "      <td>62.790000</td>\n",
       "      <td>2300.000000</td>\n",
       "      <td>4512.000000</td>\n",
       "      <td>524.800000</td>\n",
       "      <td>14300.000000</td>\n",
       "      <td>2276.870000</td>\n",
       "      <td>16425.37000</td>\n",
       "      <td>1898.60000</td>\n",
       "      <td>1036.530000</td>\n",
       "      <td>755.590000</td>\n",
       "      <td>508.540000</td>\n",
       "      <td>1072.550000</td>\n",
       "      <td>817.080000</td>\n",
       "      <td>289.128000</td>\n",
       "      <td>1395.510000</td>\n",
       "      <td>4.25000</td>\n",
       "      <td>5.4</td>\n",
       "      <td>...</td>\n",
       "      <td>1.264163</td>\n",
       "      <td>0.718678</td>\n",
       "      <td>1.094089</td>\n",
       "      <td>1.000000</td>\n",
       "      <td>1.000000</td>\n",
       "      <td>1.000000</td>\n",
       "      <td>0.710449</td>\n",
       "      <td>1.000000</td>\n",
       "      <td>1.204864</td>\n",
       "      <td>0.824310</td>\n",
       "      <td>1.000000</td>\n",
       "      <td>0.901202</td>\n",
       "      <td>0.836536</td>\n",
       "      <td>1.000000</td>\n",
       "      <td>1.294707</td>\n",
       "      <td>1.168471</td>\n",
       "      <td>0.642743</td>\n",
       "      <td>0.878133</td>\n",
       "      <td>1.000000</td>\n",
       "      <td>1.000000</td>\n",
       "      <td>0.913503</td>\n",
       "      <td>1.000000</td>\n",
       "      <td>4.149537</td>\n",
       "      <td>0.835657</td>\n",
       "      <td>2.780952</td>\n",
       "    </tr>\n",
       "    <tr>\n",
       "      <th>2006-01-06</th>\n",
       "      <td>1285.45000</td>\n",
       "      <td>81.507000</td>\n",
       "      <td>184.096000</td>\n",
       "      <td>83.360000</td>\n",
       "      <td>188.200000</td>\n",
       "      <td>79.190000</td>\n",
       "      <td>220.160000</td>\n",
       "      <td>337.090000</td>\n",
       "      <td>64.210000</td>\n",
       "      <td>2308.000000</td>\n",
       "      <td>4514.000000</td>\n",
       "      <td>539.950000</td>\n",
       "      <td>14325.000000</td>\n",
       "      <td>2305.620000</td>\n",
       "      <td>16428.21000</td>\n",
       "      <td>1921.27000</td>\n",
       "      <td>1052.340000</td>\n",
       "      <td>766.640000</td>\n",
       "      <td>519.570000</td>\n",
       "      <td>1077.530000</td>\n",
       "      <td>823.000000</td>\n",
       "      <td>291.290000</td>\n",
       "      <td>1412.780000</td>\n",
       "      <td>4.25000</td>\n",
       "      <td>5.4</td>\n",
       "      <td>...</td>\n",
       "      <td>0.966656</td>\n",
       "      <td>1.606885</td>\n",
       "      <td>1.514631</td>\n",
       "      <td>1.000000</td>\n",
       "      <td>1.000000</td>\n",
       "      <td>1.000000</td>\n",
       "      <td>1.685084</td>\n",
       "      <td>1.000000</td>\n",
       "      <td>0.833842</td>\n",
       "      <td>1.282477</td>\n",
       "      <td>1.000000</td>\n",
       "      <td>0.947752</td>\n",
       "      <td>2.059981</td>\n",
       "      <td>1.000000</td>\n",
       "      <td>0.980556</td>\n",
       "      <td>1.047620</td>\n",
       "      <td>2.572150</td>\n",
       "      <td>0.504080</td>\n",
       "      <td>1.000000</td>\n",
       "      <td>1.000000</td>\n",
       "      <td>0.596882</td>\n",
       "      <td>1.000000</td>\n",
       "      <td>1.117321</td>\n",
       "      <td>1.553101</td>\n",
       "      <td>1.545230</td>\n",
       "    </tr>\n",
       "    <tr>\n",
       "      <th>...</th>\n",
       "      <td>...</td>\n",
       "      <td>...</td>\n",
       "      <td>...</td>\n",
       "      <td>...</td>\n",
       "      <td>...</td>\n",
       "      <td>...</td>\n",
       "      <td>...</td>\n",
       "      <td>...</td>\n",
       "      <td>...</td>\n",
       "      <td>...</td>\n",
       "      <td>...</td>\n",
       "      <td>...</td>\n",
       "      <td>...</td>\n",
       "      <td>...</td>\n",
       "      <td>...</td>\n",
       "      <td>...</td>\n",
       "      <td>...</td>\n",
       "      <td>...</td>\n",
       "      <td>...</td>\n",
       "      <td>...</td>\n",
       "      <td>...</td>\n",
       "      <td>...</td>\n",
       "      <td>...</td>\n",
       "      <td>...</td>\n",
       "      <td>...</td>\n",
       "      <td>...</td>\n",
       "      <td>...</td>\n",
       "      <td>...</td>\n",
       "      <td>...</td>\n",
       "      <td>...</td>\n",
       "      <td>...</td>\n",
       "      <td>...</td>\n",
       "      <td>...</td>\n",
       "      <td>...</td>\n",
       "      <td>...</td>\n",
       "      <td>...</td>\n",
       "      <td>...</td>\n",
       "      <td>...</td>\n",
       "      <td>...</td>\n",
       "      <td>...</td>\n",
       "      <td>...</td>\n",
       "      <td>...</td>\n",
       "      <td>...</td>\n",
       "      <td>...</td>\n",
       "      <td>...</td>\n",
       "      <td>...</td>\n",
       "      <td>...</td>\n",
       "      <td>...</td>\n",
       "      <td>...</td>\n",
       "      <td>...</td>\n",
       "      <td>...</td>\n",
       "    </tr>\n",
       "    <tr>\n",
       "      <th>2019-10-27</th>\n",
       "      <td>3039.88927</td>\n",
       "      <td>111.870172</td>\n",
       "      <td>251.525065</td>\n",
       "      <td>285.494806</td>\n",
       "      <td>256.858145</td>\n",
       "      <td>337.684544</td>\n",
       "      <td>534.027669</td>\n",
       "      <td>332.996622</td>\n",
       "      <td>56.261584</td>\n",
       "      <td>1729.421419</td>\n",
       "      <td>5917.243089</td>\n",
       "      <td>1498.030016</td>\n",
       "      <td>16550.815509</td>\n",
       "      <td>8337.710069</td>\n",
       "      <td>22792.10702</td>\n",
       "      <td>6524.36472</td>\n",
       "      <td>5353.354406</td>\n",
       "      <td>3419.358626</td>\n",
       "      <td>1681.440951</td>\n",
       "      <td>1208.383699</td>\n",
       "      <td>3308.756773</td>\n",
       "      <td>1660.471423</td>\n",
       "      <td>2091.024479</td>\n",
       "      <td>1.97455</td>\n",
       "      <td>2.0</td>\n",
       "      <td>...</td>\n",
       "      <td>0.900501</td>\n",
       "      <td>1.010875</td>\n",
       "      <td>1.764097</td>\n",
       "      <td>0.820641</td>\n",
       "      <td>0.808665</td>\n",
       "      <td>1.410060</td>\n",
       "      <td>1.415943</td>\n",
       "      <td>0.954658</td>\n",
       "      <td>0.776571</td>\n",
       "      <td>2.092578</td>\n",
       "      <td>0.829932</td>\n",
       "      <td>1.022473</td>\n",
       "      <td>1.347411</td>\n",
       "      <td>1.486079</td>\n",
       "      <td>0.898487</td>\n",
       "      <td>0.954025</td>\n",
       "      <td>1.223596</td>\n",
       "      <td>-7.016632</td>\n",
       "      <td>1.443049</td>\n",
       "      <td>0.882592</td>\n",
       "      <td>0.724875</td>\n",
       "      <td>0.591650</td>\n",
       "      <td>1.185079</td>\n",
       "      <td>0.728242</td>\n",
       "      <td>8.957344</td>\n",
       "    </tr>\n",
       "    <tr>\n",
       "      <th>2019-10-28</th>\n",
       "      <td>3039.42000</td>\n",
       "      <td>112.139000</td>\n",
       "      <td>251.912000</td>\n",
       "      <td>284.840800</td>\n",
       "      <td>257.400000</td>\n",
       "      <td>336.570000</td>\n",
       "      <td>536.410000</td>\n",
       "      <td>333.510000</td>\n",
       "      <td>55.810000</td>\n",
       "      <td>1737.000000</td>\n",
       "      <td>5908.000000</td>\n",
       "      <td>1492.510000</td>\n",
       "      <td>16640.000000</td>\n",
       "      <td>8325.985000</td>\n",
       "      <td>22867.27000</td>\n",
       "      <td>6513.64000</td>\n",
       "      <td>5334.150000</td>\n",
       "      <td>3403.350000</td>\n",
       "      <td>1677.569000</td>\n",
       "      <td>1208.280000</td>\n",
       "      <td>3320.140000</td>\n",
       "      <td>1658.241000</td>\n",
       "      <td>2093.600000</td>\n",
       "      <td>2.00000</td>\n",
       "      <td>2.0</td>\n",
       "      <td>...</td>\n",
       "      <td>1.213115</td>\n",
       "      <td>1.395378</td>\n",
       "      <td>1.417193</td>\n",
       "      <td>0.968297</td>\n",
       "      <td>1.516745</td>\n",
       "      <td>1.109701</td>\n",
       "      <td>1.114263</td>\n",
       "      <td>1.105058</td>\n",
       "      <td>0.581300</td>\n",
       "      <td>1.697246</td>\n",
       "      <td>3.008876</td>\n",
       "      <td>0.982582</td>\n",
       "      <td>1.005550</td>\n",
       "      <td>0.918295</td>\n",
       "      <td>0.709275</td>\n",
       "      <td>0.988696</td>\n",
       "      <td>0.869484</td>\n",
       "      <td>3.268112</td>\n",
       "      <td>0.911087</td>\n",
       "      <td>0.984864</td>\n",
       "      <td>0.598464</td>\n",
       "      <td>0.436636</td>\n",
       "      <td>1.103782</td>\n",
       "      <td>1.596400</td>\n",
       "      <td>-4.887075</td>\n",
       "    </tr>\n",
       "    <tr>\n",
       "      <th>2019-10-29</th>\n",
       "      <td>3036.89000</td>\n",
       "      <td>112.096000</td>\n",
       "      <td>252.336000</td>\n",
       "      <td>282.762600</td>\n",
       "      <td>259.140000</td>\n",
       "      <td>333.500000</td>\n",
       "      <td>539.840000</td>\n",
       "      <td>333.220000</td>\n",
       "      <td>55.540000</td>\n",
       "      <td>1754.000000</td>\n",
       "      <td>5927.500000</td>\n",
       "      <td>1487.720000</td>\n",
       "      <td>16830.000000</td>\n",
       "      <td>8276.852000</td>\n",
       "      <td>22974.13000</td>\n",
       "      <td>6487.91000</td>\n",
       "      <td>5271.900000</td>\n",
       "      <td>3361.610000</td>\n",
       "      <td>1662.460000</td>\n",
       "      <td>1207.350000</td>\n",
       "      <td>3308.050000</td>\n",
       "      <td>1642.682000</td>\n",
       "      <td>2092.690000</td>\n",
       "      <td>2.00000</td>\n",
       "      <td>2.0</td>\n",
       "      <td>...</td>\n",
       "      <td>1.506408</td>\n",
       "      <td>1.445075</td>\n",
       "      <td>0.717119</td>\n",
       "      <td>1.250066</td>\n",
       "      <td>1.680148</td>\n",
       "      <td>1.011607</td>\n",
       "      <td>0.793725</td>\n",
       "      <td>1.167880</td>\n",
       "      <td>0.557896</td>\n",
       "      <td>0.832619</td>\n",
       "      <td>1.914615</td>\n",
       "      <td>0.789692</td>\n",
       "      <td>0.580119</td>\n",
       "      <td>0.417745</td>\n",
       "      <td>0.626504</td>\n",
       "      <td>1.023202</td>\n",
       "      <td>0.493114</td>\n",
       "      <td>1.174228</td>\n",
       "      <td>0.410159</td>\n",
       "      <td>1.089446</td>\n",
       "      <td>0.832789</td>\n",
       "      <td>1.231150</td>\n",
       "      <td>1.131356</td>\n",
       "      <td>1.864625</td>\n",
       "      <td>2.523049</td>\n",
       "    </tr>\n",
       "    <tr>\n",
       "      <th>2019-10-30</th>\n",
       "      <td>3046.77000</td>\n",
       "      <td>112.041000</td>\n",
       "      <td>250.138000</td>\n",
       "      <td>284.208900</td>\n",
       "      <td>257.850000</td>\n",
       "      <td>335.640000</td>\n",
       "      <td>538.160000</td>\n",
       "      <td>332.990000</td>\n",
       "      <td>55.060000</td>\n",
       "      <td>1760.000000</td>\n",
       "      <td>5908.000000</td>\n",
       "      <td>1495.660000</td>\n",
       "      <td>16780.000000</td>\n",
       "      <td>8303.976000</td>\n",
       "      <td>22843.12000</td>\n",
       "      <td>6519.58000</td>\n",
       "      <td>5292.070000</td>\n",
       "      <td>3372.390000</td>\n",
       "      <td>1661.460000</td>\n",
       "      <td>1206.780000</td>\n",
       "      <td>3317.600000</td>\n",
       "      <td>1628.616000</td>\n",
       "      <td>2080.270000</td>\n",
       "      <td>1.75000</td>\n",
       "      <td>2.0</td>\n",
       "      <td>...</td>\n",
       "      <td>0.997037</td>\n",
       "      <td>0.871637</td>\n",
       "      <td>0.660472</td>\n",
       "      <td>0.599521</td>\n",
       "      <td>0.656067</td>\n",
       "      <td>2.089199</td>\n",
       "      <td>0.552940</td>\n",
       "      <td>0.991999</td>\n",
       "      <td>0.843633</td>\n",
       "      <td>0.559295</td>\n",
       "      <td>0.826001</td>\n",
       "      <td>1.056501</td>\n",
       "      <td>0.899376</td>\n",
       "      <td>0.506841</td>\n",
       "      <td>0.975763</td>\n",
       "      <td>0.925346</td>\n",
       "      <td>0.793448</td>\n",
       "      <td>1.165541</td>\n",
       "      <td>0.758679</td>\n",
       "      <td>1.083804</td>\n",
       "      <td>1.150234</td>\n",
       "      <td>0.694483</td>\n",
       "      <td>1.647300</td>\n",
       "      <td>0.877406</td>\n",
       "      <td>0.370442</td>\n",
       "    </tr>\n",
       "    <tr>\n",
       "      <th>2019-10-31</th>\n",
       "      <td>3037.56000</td>\n",
       "      <td>111.703000</td>\n",
       "      <td>249.409000</td>\n",
       "      <td>283.877600</td>\n",
       "      <td>256.880000</td>\n",
       "      <td>335.210000</td>\n",
       "      <td>540.780000</td>\n",
       "      <td>331.870000</td>\n",
       "      <td>54.180000</td>\n",
       "      <td>1755.000000</td>\n",
       "      <td>5797.000000</td>\n",
       "      <td>1512.990000</td>\n",
       "      <td>16645.000000</td>\n",
       "      <td>8292.360000</td>\n",
       "      <td>22927.04000</td>\n",
       "      <td>6500.42000</td>\n",
       "      <td>5298.000000</td>\n",
       "      <td>3381.660000</td>\n",
       "      <td>1651.225000</td>\n",
       "      <td>1202.040000</td>\n",
       "      <td>3302.700000</td>\n",
       "      <td>1616.190000</td>\n",
       "      <td>2083.480000</td>\n",
       "      <td>1.75000</td>\n",
       "      <td>2.0</td>\n",
       "      <td>...</td>\n",
       "      <td>0.888650</td>\n",
       "      <td>1.142839</td>\n",
       "      <td>1.553683</td>\n",
       "      <td>0.854794</td>\n",
       "      <td>0.895231</td>\n",
       "      <td>1.489947</td>\n",
       "      <td>1.094865</td>\n",
       "      <td>0.881892</td>\n",
       "      <td>1.260734</td>\n",
       "      <td>2.250674</td>\n",
       "      <td>2.198532</td>\n",
       "      <td>1.186660</td>\n",
       "      <td>1.332134</td>\n",
       "      <td>1.373651</td>\n",
       "      <td>1.007552</td>\n",
       "      <td>1.120675</td>\n",
       "      <td>1.415651</td>\n",
       "      <td>1.150159</td>\n",
       "      <td>2.028561</td>\n",
       "      <td>1.141342</td>\n",
       "      <td>1.033135</td>\n",
       "      <td>1.118354</td>\n",
       "      <td>1.453485</td>\n",
       "      <td>1.324952</td>\n",
       "      <td>2.656823</td>\n",
       "    </tr>\n",
       "  </tbody>\n",
       "</table>\n",
       "<p>5051 rows × 1282 columns</p>\n",
       "</div>"
      ],
      "text/plain": [
       "              SPXIndex  MSRUITIndex  MSRUMATIndex  MXWO0ITIndex  MXWO0MTIndex  MXUS0ITIndex  \\\n",
       "date                                                                                          \n",
       "2006-01-02  1268.80000    76.343000    176.382000     78.490000    180.120000     76.360000   \n",
       "2006-01-03  1268.80000    77.777000    181.247000     80.040000    183.850000     76.360000   \n",
       "2006-01-04  1273.46000    79.620000    183.902000     81.090000    186.880000     77.210000   \n",
       "2006-01-05  1273.48000    80.513000    181.900000     81.930000    186.060000     77.850000   \n",
       "2006-01-06  1285.45000    81.507000    184.096000     83.360000    188.200000     79.190000   \n",
       "...                ...          ...           ...           ...           ...           ...   \n",
       "2019-10-27  3039.88927   111.870172    251.525065    285.494806    256.858145    337.684544   \n",
       "2019-10-28  3039.42000   112.139000    251.912000    284.840800    257.400000    336.570000   \n",
       "2019-10-29  3036.89000   112.096000    252.336000    282.762600    259.140000    333.500000   \n",
       "2019-10-30  3046.77000   112.041000    250.138000    284.208900    257.850000    335.640000   \n",
       "2019-10-31  3037.56000   111.703000    249.409000    283.877600    256.880000    335.210000   \n",
       "\n",
       "            MXEF0ITIndex  MXEF0MTIndex  CL1Comdty  LMAHDS03Comdty  LMCADS03Comdty    XAUCurncy  \\\n",
       "date                                                                                             \n",
       "2006-01-02    208.160000    319.120000  63.140000     2283.000000     4440.000000   516.880000   \n",
       "2006-01-03    212.560000    327.930000  63.140000     2283.000000     4440.000000   534.150000   \n",
       "2006-01-04    218.310000    334.380000  63.420000     2305.000000     4540.000000   534.400000   \n",
       "2006-01-05    219.810000    334.160000  62.790000     2300.000000     4512.000000   524.800000   \n",
       "2006-01-06    220.160000    337.090000  64.210000     2308.000000     4514.000000   539.950000   \n",
       "...                  ...           ...        ...             ...             ...          ...   \n",
       "2019-10-27    534.027669    332.996622  56.261584     1729.421419     5917.243089  1498.030016   \n",
       "2019-10-28    536.410000    333.510000  55.810000     1737.000000     5908.000000  1492.510000   \n",
       "2019-10-29    539.840000    333.220000  55.540000     1754.000000     5927.500000  1487.720000   \n",
       "2019-10-30    538.160000    332.990000  55.060000     1760.000000     5908.000000  1495.660000   \n",
       "2019-10-31    540.780000    331.870000  54.180000     1755.000000     5797.000000  1512.990000   \n",
       "\n",
       "            LMNIDS03Comdty    CCMPIndex     NKYIndex   CINDIndex     IXKIndex     XCIIndex  \\\n",
       "date                                                                                         \n",
       "2006-01-02    13900.000000  2243.740000  16361.54000  1881.68000  1017.970000   743.140000   \n",
       "2006-01-03    13900.000000  2243.740000  16361.54000  1881.68000  1017.970000   743.140000   \n",
       "2006-01-04    14100.000000  2263.460000  16361.54000  1893.19000  1026.090000   749.780000   \n",
       "2006-01-05    14300.000000  2276.870000  16425.37000  1898.60000  1036.530000   755.590000   \n",
       "2006-01-06    14325.000000  2305.620000  16428.21000  1921.27000  1052.340000   766.640000   \n",
       "...                    ...          ...          ...         ...          ...          ...   \n",
       "2019-10-27    16550.815509  8337.710069  22792.10702  6524.36472  5353.354406  3419.358626   \n",
       "2019-10-28    16640.000000  8325.985000  22867.27000  6513.64000  5334.150000  3403.350000   \n",
       "2019-10-29    16830.000000  8276.852000  22974.13000  6487.91000  5271.900000  3361.610000   \n",
       "2019-10-30    16780.000000  8303.976000  22843.12000  6519.58000  5292.070000  3372.390000   \n",
       "2019-10-31    16645.000000  8292.360000  22927.04000  6500.42000  5298.000000  3381.660000   \n",
       "\n",
       "               SOXIndex    MSERIndex    NMDPIndex  SZCOMPIndex   KOSPIIndex  FDTRIndex  \\\n",
       "date                                                                                     \n",
       "2006-01-02   493.130000  1058.800000   796.070000   283.482000  1389.270000    4.25000   \n",
       "2006-01-03   493.130000  1062.560000   804.200000   283.482000  1394.870000    4.25000   \n",
       "2006-01-04   496.690000  1073.470000   814.320000   283.482000  1402.110000    4.25000   \n",
       "2006-01-05   508.540000  1072.550000   817.080000   289.128000  1395.510000    4.25000   \n",
       "2006-01-06   519.570000  1077.530000   823.000000   291.290000  1412.780000    4.25000   \n",
       "...                 ...          ...          ...          ...          ...        ...   \n",
       "2019-10-27  1681.440951  1208.383699  3308.756773  1660.471423  2091.024479    1.97455   \n",
       "2019-10-28  1677.569000  1208.280000  3320.140000  1658.241000  2093.600000    2.00000   \n",
       "2019-10-29  1662.460000  1207.350000  3308.050000  1642.682000  2092.690000    2.00000   \n",
       "2019-10-30  1661.460000  1206.780000  3317.600000  1628.616000  2080.270000    1.75000   \n",
       "2019-10-31  1651.225000  1202.040000  3302.700000  1616.190000  2083.480000    1.75000   \n",
       "\n",
       "            GDPCQOQIndex  ...  AMD_product  APPLE_product  AppliedMaterials_product  \\\n",
       "date                      ...                                                         \n",
       "2006-01-02           5.4  ...          NaN            NaN                       NaN   \n",
       "2006-01-03           5.4  ...     1.000000       1.000000                  1.000000   \n",
       "2006-01-04           5.4  ...     0.682030       0.771197                  1.026287   \n",
       "2006-01-05           5.4  ...     1.264163       0.718678                  1.094089   \n",
       "2006-01-06           5.4  ...     0.966656       1.606885                  1.514631   \n",
       "...                  ...  ...          ...            ...                       ...   \n",
       "2019-10-27           2.0  ...     0.900501       1.010875                  1.764097   \n",
       "2019-10-28           2.0  ...     1.213115       1.395378                  1.417193   \n",
       "2019-10-29           2.0  ...     1.506408       1.445075                  0.717119   \n",
       "2019-10-30           2.0  ...     0.997037       0.871637                  0.660472   \n",
       "2019-10-31           2.0  ...     0.888650       1.142839                  1.553683   \n",
       "\n",
       "            Aspeed_product  Dell_product  Facebook_product  Google_product  HPE_product  \\\n",
       "date                                                                                      \n",
       "2006-01-02             NaN           NaN               NaN             NaN          NaN   \n",
       "2006-01-03        1.000000      1.000000          1.000000        1.000000     1.000000   \n",
       "2006-01-04        1.000000      1.000000          1.000000        1.223552     1.000000   \n",
       "2006-01-05        1.000000      1.000000          1.000000        0.710449     1.000000   \n",
       "2006-01-06        1.000000      1.000000          1.000000        1.685084     1.000000   \n",
       "...                    ...           ...               ...             ...          ...   \n",
       "2019-10-27        0.820641      0.808665          1.410060        1.415943     0.954658   \n",
       "2019-10-28        0.968297      1.516745          1.109701        1.114263     1.105058   \n",
       "2019-10-29        1.250066      1.680148          1.011607        0.793725     1.167880   \n",
       "2019-10-30        0.599521      0.656067          2.089199        0.552940     0.991999   \n",
       "2019-10-31        0.854794      0.895231          1.489947        1.094865     0.881892   \n",
       "\n",
       "            Intel_product  LamResearch_product  MediaTek_product  Micron_product  \\\n",
       "date                                                                               \n",
       "2006-01-02            NaN                  NaN               NaN             NaN   \n",
       "2006-01-03       1.000000             1.000000          1.000000        1.000000   \n",
       "2006-01-04       0.829714             0.967572          1.000000        1.380558   \n",
       "2006-01-05       1.204864             0.824310          1.000000        0.901202   \n",
       "2006-01-06       0.833842             1.282477          1.000000        0.947752   \n",
       "...                   ...                  ...               ...             ...   \n",
       "2019-10-27       0.776571             2.092578          0.829932        1.022473   \n",
       "2019-10-28       0.581300             1.697246          3.008876        0.982582   \n",
       "2019-10-29       0.557896             0.832619          1.914615        0.789692   \n",
       "2019-10-30       0.843633             0.559295          0.826001        1.056501   \n",
       "2019-10-31       1.260734             2.250674          2.198532        1.186660   \n",
       "\n",
       "            Microsoft_product  Nuvoton_product  Nvidia_product  Philadelphia_product  \\\n",
       "date                                                                                   \n",
       "2006-01-02                NaN              NaN             NaN                   NaN   \n",
       "2006-01-03           1.000000         1.000000        1.000000              1.000000   \n",
       "2006-01-04           0.743634         1.000000        1.109161              0.967923   \n",
       "2006-01-05           0.836536         1.000000        1.294707              1.168471   \n",
       "2006-01-06           2.059981         1.000000        0.980556              1.047620   \n",
       "...                       ...              ...             ...                   ...   \n",
       "2019-10-27           1.347411         1.486079        0.898487              0.954025   \n",
       "2019-10-28           1.005550         0.918295        0.709275              0.988696   \n",
       "2019-10-29           0.580119         0.417745        0.626504              1.023202   \n",
       "2019-10-30           0.899376         0.506841        0.975763              0.925346   \n",
       "2019-10-31           1.332134         1.373651        1.007552              1.120675   \n",
       "\n",
       "            QCOM_product  SamsungElectronics_product  ShinEtsuChemical_product  Siltronic_product  \\\n",
       "date                                                                                                \n",
       "2006-01-02           NaN                         NaN                       NaN                NaN   \n",
       "2006-01-03      1.000000                    0.862009                  1.000000           1.000000   \n",
       "2006-01-04      1.097724                    2.307115                  1.000000           1.000000   \n",
       "2006-01-05      0.642743                    0.878133                  1.000000           1.000000   \n",
       "2006-01-06      2.572150                    0.504080                  1.000000           1.000000   \n",
       "...                  ...                         ...                       ...                ...   \n",
       "2019-10-27      1.223596                   -7.016632                  1.443049           0.882592   \n",
       "2019-10-28      0.869484                    3.268112                  0.911087           0.984864   \n",
       "2019-10-29      0.493114                    1.174228                  0.410159           1.089446   \n",
       "2019-10-30      0.793448                    1.165541                  0.758679           1.083804   \n",
       "2019-10-31      1.415651                    1.150159                  2.028561           1.141342   \n",
       "\n",
       "            SKhynix_product  Sumco_product  TokyoElectron_product  TSMC_product  UMC_product  \n",
       "date                                                                                          \n",
       "2006-01-02              NaN            NaN                    NaN           NaN          NaN  \n",
       "2006-01-03         1.048766       1.000000               1.000000      1.000000     1.000000  \n",
       "2006-01-04         1.549763       1.000000               1.000000      0.788606     0.581332  \n",
       "2006-01-05         0.913503       1.000000               4.149537      0.835657     2.780952  \n",
       "2006-01-06         0.596882       1.000000               1.117321      1.553101     1.545230  \n",
       "...                     ...            ...                    ...           ...          ...  \n",
       "2019-10-27         0.724875       0.591650               1.185079      0.728242     8.957344  \n",
       "2019-10-28         0.598464       0.436636               1.103782      1.596400    -4.887075  \n",
       "2019-10-29         0.832789       1.231150               1.131356      1.864625     2.523049  \n",
       "2019-10-30         1.150234       0.694483               1.647300      0.877406     0.370442  \n",
       "2019-10-31         1.033135       1.118354               1.453485      1.324952     2.656823  \n",
       "\n",
       "[5051 rows x 1282 columns]"
      ]
     },
     "execution_count": 9,
     "metadata": {},
     "output_type": "execute_result"
    }
   ],
   "source": [
    "# execution function\n",
    "# 새로운 데이터프레임 생성 \n",
    "cla.execution()"
   ]
  },
  {
   "cell_type": "code",
   "execution_count": 10,
   "metadata": {},
   "outputs": [
    {
     "data": {
      "text/plain": [
       "date\n",
       "2006-01-02    0.105210\n",
       "2006-01-03    0.078638\n",
       "2006-01-04    0.074089\n",
       "2006-01-05    0.062994\n",
       "2006-01-06    0.033269\n",
       "                ...   \n",
       "2019-10-27         NaN\n",
       "2019-10-28         NaN\n",
       "2019-10-29         NaN\n",
       "2019-10-30         NaN\n",
       "2019-10-31         NaN\n",
       "Name: KRXsemiconductor_close, Length: 5051, dtype: float64"
      ]
     },
     "execution_count": 10,
     "metadata": {},
     "output_type": "execute_result"
    }
   ],
   "source": [
    "df['KRXsemiconductor_close']"
   ]
  },
  {
   "cell_type": "code",
   "execution_count": 11,
   "metadata": {},
   "outputs": [],
   "source": [
    "df = df[:4791]"
   ]
  },
  {
   "cell_type": "code",
   "execution_count": 12,
   "metadata": {},
   "outputs": [],
   "source": [
    "df = df[260:]"
   ]
  },
  {
   "cell_type": "code",
   "execution_count": 13,
   "metadata": {},
   "outputs": [
    {
     "data": {
      "text/plain": [
       "date\n",
       "2006-09-19    0.146139\n",
       "2006-09-20    0.167541\n",
       "2006-09-21    0.201915\n",
       "2006-09-22    0.253597\n",
       "2006-09-23    0.278472\n",
       "                ...   \n",
       "2019-02-09    0.152598\n",
       "2019-02-10    0.152275\n",
       "2019-02-11    0.137702\n",
       "2019-02-12    0.098332\n",
       "2019-02-13    0.082706\n",
       "Name: KRXsemiconductor_close, Length: 4531, dtype: float64"
      ]
     },
     "execution_count": 13,
     "metadata": {},
     "output_type": "execute_result"
    }
   ],
   "source": [
    "df['KRXsemiconductor_close']"
   ]
  },
  {
   "cell_type": "code",
   "execution_count": 14,
   "metadata": {},
   "outputs": [
    {
     "data": {
      "text/plain": [
       "4531"
      ]
     },
     "execution_count": 14,
     "metadata": {},
     "output_type": "execute_result"
    }
   ],
   "source": [
    "len(df)"
   ]
  },
  {
   "cell_type": "code",
   "execution_count": 15,
   "metadata": {},
   "outputs": [],
   "source": [
    "# fill na for shifted data\n",
    "\n",
    "df = df.fillna(method = 'ffill').fillna(method = 'bfill')"
   ]
  },
  {
   "cell_type": "code",
   "execution_count": 16,
   "metadata": {},
   "outputs": [
    {
     "data": {
      "text/plain": [
       "0"
      ]
     },
     "execution_count": 16,
     "metadata": {},
     "output_type": "execute_result"
    }
   ],
   "source": [
    "# check na\n",
    "\n",
    "df.isna().sum().sum()"
   ]
  },
  {
   "cell_type": "code",
   "execution_count": 17,
   "metadata": {},
   "outputs": [
    {
     "data": {
      "text/plain": [
       "1282"
      ]
     },
     "execution_count": 17,
     "metadata": {},
     "output_type": "execute_result"
    }
   ],
   "source": [
    "# features\n",
    "\n",
    "len(df.columns)"
   ]
  },
  {
   "cell_type": "code",
   "execution_count": 18,
   "metadata": {},
   "outputs": [],
   "source": [
    "df.reset_index(inplace = True)"
   ]
  },
  {
   "cell_type": "code",
   "execution_count": 19,
   "metadata": {},
   "outputs": [
    {
     "data": {
      "text/plain": [
       "<matplotlib.axes._subplots.AxesSubplot at 0x1ef80052240>"
      ]
     },
     "execution_count": 19,
     "metadata": {},
     "output_type": "execute_result"
    },
    {
     "data": {
      "image/png": "[encoded data removed]",
      "text/plain": [
       "<Figure size 432x288 with 1 Axes>"
      ]
     },
     "metadata": {
      "image/png": {
       "height": 248,
       "width": 386
      },
      "needs_background": "light"
     },
     "output_type": "display_data"
    }
   ],
   "source": [
    "df['KRXsemiconductor_close'].plot()"
   ]
  },
  {
   "cell_type": "code",
   "execution_count": 20,
   "metadata": {},
   "outputs": [],
   "source": [
    "df_back = df.copy()"
   ]
  },
  {
   "cell_type": "code",
   "execution_count": 22,
   "metadata": {},
   "outputs": [],
   "source": [
    "date = df.date"
   ]
  },
  {
   "cell_type": "code",
   "execution_count": 23,
   "metadata": {},
   "outputs": [],
   "source": [
    "# extract target\n",
    "y_target = df['KRXsemiconductor_close']"
   ]
  },
  {
   "cell_type": "code",
   "execution_count": 24,
   "metadata": {},
   "outputs": [],
   "source": [
    "df.drop(['date', 'KRXsemiconductor_close', 'SamsungElectronics_product', 'KRXsemiconductor_change', 'KRXsemiconductor_volume'], axis = True, inplace = True)"
   ]
  },
  {
   "cell_type": "code",
   "execution_count": 25,
   "metadata": {},
   "outputs": [],
   "source": [
    "# scaling 하기전에 columns 뽑기 \n",
    "col_name = df.columns"
   ]
  },
  {
   "cell_type": "code",
   "execution_count": 26,
   "metadata": {},
   "outputs": [],
   "source": [
    "# scaling과 동시에 변환\n",
    "#df = PowerTransformer().fit_transform(df)\n",
    "df = StandardScaler().fit_transform(df)\n",
    "#df = df.apply(lambda x : np.log1p(x))\n",
    "#df = MinMaxScaler().fit_transfrom(df)"
   ]
  },
  {
   "cell_type": "code",
   "execution_count": 27,
   "metadata": {},
   "outputs": [],
   "source": [
    "# scaling하면 colname사라지므로 다시 생성\n",
    "df = pd.DataFrame(df, columns = col_name)"
   ]
  },
  {
   "cell_type": "code",
   "execution_count": 28,
   "metadata": {},
   "outputs": [
    {
     "data": {
      "text/plain": [
       "1278"
      ]
     },
     "execution_count": 28,
     "metadata": {},
     "output_type": "execute_result"
    }
   ],
   "source": [
    "len(df.columns)"
   ]
  },
  {
   "cell_type": "code",
   "execution_count": 78,
   "metadata": {},
   "outputs": [
    {
     "data": {
      "image/png": "[encoded data removed]",
      "text/plain": [
       "<Figure size 432x288 with 1 Axes>"
      ]
     },
     "metadata": {
      "image/png": {
       "height": 277,
       "width": 384
      },
      "needs_background": "light"
     },
     "output_type": "display_data"
    }
   ],
   "source": [
    "plt.plot(df['KOEXPTIIndex120'].values,'blue',label='1')\n",
    "plt.plot(df['KOEAPYIndex'].values,'black',label='2')\n",
    "plt.plot(y_target, 'r',label='KRX')\n",
    "plt.xlabel('x axis')\n",
    "plt.ylabel('y axis')\n",
    "plt.title('matplotlib sample')\n",
    "plt.legend(loc='upper right')\n",
    "plt.show()"
   ]
  },
  {
   "cell_type": "code",
   "execution_count": 42,
   "metadata": {},
   "outputs": [
    {
     "data": {
      "text/plain": [
       "0"
      ]
     },
     "execution_count": 42,
     "metadata": {},
     "output_type": "execute_result"
    }
   ],
   "source": [
    "df.isna().sum().sum()"
   ]
  },
  {
   "cell_type": "code",
   "execution_count": 31,
   "metadata": {},
   "outputs": [],
   "source": [
    "# extract X_data\n",
    "X_data = df.copy()"
   ]
  },
  {
   "cell_type": "code",
   "execution_count": 32,
   "metadata": {},
   "outputs": [],
   "source": [
    "X_train, X_test, y_train, y_test = train_test_split(X_data, y_target, test_size = 0.2, shuffle = False)"
   ]
  },
  {
   "cell_type": "code",
   "execution_count": 32,
   "metadata": {
    "collapsed": true,
    "jupyter": {
     "outputs_hidden": true
    }
   },
   "outputs": [
    {
     "name": "stdout",
     "output_type": "stream",
     "text": [
      "00 Selected:  ['MSRUMATIndex']\n",
      "00 Score :  [0.6296]\n",
      "01 Selected:  ['MSRUMATIndex', 'EOKOS002Index260']\n",
      "01 Score :  [0.6296 0.8111]\n",
      "02 Selected:  ['MSRUMATIndex', 'EOKOS002Index260', 'MAPMINDXIndex']\n",
      "02 Score :  [0.6296 0.8111 0.8499]\n",
      "03 Selected:  ['MSRUMATIndex', 'EOKOS002Index260', 'MAPMINDXIndex', 'KOEXPTIIndex120']\n",
      "03 Score :  [0.6296 0.8111 0.8499 0.8763]\n",
      "04 Selected:  ['MSRUMATIndex', 'EOKOS002Index260', 'MAPMINDXIndex', 'KOEXPTIIndex120', 'KOVMPRODIndex120']\n",
      "04 Score :  [0.6296 0.8111 0.8499 0.8763 0.894 ]\n",
      "05 Selected:  ['MSRUMATIndex', 'EOKOS002Index260', 'MAPMINDXIndex', 'KOEXPTIIndex120', 'KOVMPRODIndex120', 'KOEAPYIndex']\n",
      "05 Score :  [0.6296 0.8111 0.8499 0.8763 0.894  0.9093]\n",
      "06 Selected:  ['MSRUMATIndex', 'EOKOS002Index260', 'MAPMINDXIndex', 'KOEXPTIIndex120', 'KOVMPRODIndex120', 'KOEAPYIndex', 'KOBONTLIndex120']\n",
      "06 Score :  [0.6296 0.8111 0.8499 0.8763 0.894  0.9093 0.9191]\n",
      "07 Selected:  ['MSRUMATIndex', 'EOKOS002Index260', 'MAPMINDXIndex', 'KOEXPTIIndex120', 'KOVMPRODIndex120', 'KOEAPYIndex', 'KOBONTLIndex120', 'LEIACEIndex1']\n",
      "07 Score :  [0.6296 0.8111 0.8499 0.8763 0.894  0.9093 0.9191 0.9287]\n",
      "08 Selected:  ['MSRUMATIndex', 'EOKOS002Index260', 'MAPMINDXIndex', 'KOEXPTIIndex120', 'KOVMPRODIndex120', 'KOEAPYIndex', 'KOBONTLIndex120', 'LEIACEIndex1', 'SKLILAIIndex260']\n",
      "08 Score :  [0.6296 0.8111 0.8499 0.8763 0.894  0.9093 0.9191 0.9287 0.9344]\n",
      "09 Selected:  ['MSRUMATIndex', 'EOKOS002Index260', 'MAPMINDXIndex', 'KOEXPTIIndex120', 'KOVMPRODIndex120', 'KOEAPYIndex', 'KOBONTLIndex120', 'LEIACEIndex1', 'SKLILAIIndex260', 'KOGFBALIndex60']\n",
      "09 Score :  [0.6296 0.8111 0.8499 0.8763 0.894  0.9093 0.9191 0.9287 0.9344 0.9386]\n",
      "10 Selected:  ['MSRUMATIndex', 'EOKOS002Index260', 'MAPMINDXIndex', 'KOEXPTIIndex120', 'KOVMPRODIndex120', 'KOEAPYIndex', 'KOBONTLIndex120', 'LEIACEIndex1', 'SKLILAIIndex260', 'KOGFBALIndex60', 'KOBPTBIndex5']\n",
      "10 Score :  [0.6296 0.8111 0.8499 0.8763 0.894  0.9093 0.9191 0.9287 0.9344 0.9386\n",
      " 0.943 ]\n",
      "11 Selected:  ['MSRUMATIndex', 'EOKOS002Index260', 'MAPMINDXIndex', 'KOEXPTIIndex120', 'KOVMPRODIndex120', 'KOEAPYIndex', 'KOBONTLIndex120', 'LEIACEIndex1', 'SKLILAIIndex260', 'KOGFBALIndex60', 'KOBPTBIndex5', 'SKBSICSAIndex1']\n",
      "11 Score :  [0.6296 0.8111 0.8499 0.8763 0.894  0.9093 0.9191 0.9287 0.9344 0.9386\n",
      " 0.943  0.9456]\n",
      "12 Selected:  ['MSRUMATIndex', 'EOKOS002Index260', 'MAPMINDXIndex', 'KOEXPTIIndex120', 'KOVMPRODIndex120', 'KOEAPYIndex', 'KOBONTLIndex120', 'LEIACEIndex1', 'SKLILAIIndex260', 'KOGFBALIndex60', 'KOBPTBIndex5', 'SKBSICSAIndex1', 'FRNTTOTLIndex']\n",
      "12 Score :  [0.6296 0.8111 0.8499 0.8763 0.894  0.9093 0.9191 0.9287 0.9344 0.9386\n",
      " 0.943  0.9456 0.9499]\n",
      "13 Selected:  ['MSRUMATIndex', 'EOKOS002Index260', 'MAPMINDXIndex', 'KOEXPTIIndex120', 'KOVMPRODIndex120', 'KOEAPYIndex', 'KOBONTLIndex120', 'LEIACEIndex1', 'SKLILAIIndex260', 'KOGFBALIndex60', 'KOBPTBIndex5', 'SKBSICSAIndex1', 'FRNTTOTLIndex', 'LEILCIIndex5']\n",
      "13 Score :  [0.6296 0.8111 0.8499 0.8763 0.894  0.9093 0.9191 0.9287 0.9344 0.9386\n",
      " 0.943  0.9456 0.9499 0.952 ]\n",
      "14 Selected:  ['MSRUMATIndex', 'EOKOS002Index260', 'MAPMINDXIndex', 'KOEXPTIIndex120', 'KOVMPRODIndex120', 'KOEAPYIndex', 'KOBONTLIndex120', 'LEIACEIndex1', 'SKLILAIIndex260', 'KOGFBALIndex60', 'KOBPTBIndex5', 'SKBSICSAIndex1', 'FRNTTOTLIndex', 'LEILCIIndex5', 'FRNTTOTLIndex1']\n",
      "14 Score :  [0.6296 0.8111 0.8499 0.8763 0.894  0.9093 0.9191 0.9287 0.9344 0.9386\n",
      " 0.943  0.9456 0.9499 0.952  0.9539]\n",
      "15 Selected:  ['MSRUMATIndex', 'EOKOS002Index260', 'MAPMINDXIndex', 'KOEXPTIIndex120', 'KOVMPRODIndex120', 'KOEAPYIndex', 'KOBONTLIndex120', 'LEIACEIndex1', 'SKLILAIIndex260', 'KOGFBALIndex60', 'KOBPTBIndex5', 'SKBSICSAIndex1', 'FRNTTOTLIndex', 'LEILCIIndex5', 'FRNTTOTLIndex1', 'MSRUMATIndex5']\n",
      "15 Score :  [0.6296 0.8111 0.8499 0.8763 0.894  0.9093 0.9191 0.9287 0.9344 0.9386\n",
      " 0.943  0.9456 0.9499 0.952  0.9539 0.9561]\n",
      "16 Selected:  ['MSRUMATIndex', 'EOKOS002Index260', 'MAPMINDXIndex', 'KOEXPTIIndex120', 'KOVMPRODIndex120', 'KOEAPYIndex', 'KOBONTLIndex120', 'LEIACEIndex1', 'SKLILAIIndex260', 'KOGFBALIndex60', 'KOBPTBIndex5', 'SKBSICSAIndex1', 'FRNTTOTLIndex', 'LEILCIIndex5', 'FRNTTOTLIndex1', 'MSRUMATIndex5', 'KOSPIIndex5']\n",
      "16 Score :  [0.6296 0.8111 0.8499 0.8763 0.894  0.9093 0.9191 0.9287 0.9344 0.9386\n",
      " 0.943  0.9456 0.9499 0.952  0.9539 0.9561 0.958 ]\n",
      "17 Selected:  ['MSRUMATIndex', 'EOKOS002Index260', 'MAPMINDXIndex', 'KOEXPTIIndex120', 'KOVMPRODIndex120', 'KOEAPYIndex', 'KOBONTLIndex120', 'LEIACEIndex1', 'SKLILAIIndex260', 'KOGFBALIndex60', 'KOBPTBIndex5', 'SKBSICSAIndex1', 'FRNTTOTLIndex', 'LEILCIIndex5', 'FRNTTOTLIndex1', 'MSRUMATIndex5', 'KOSPIIndex5', 'EMPRGBCIIndex60']\n",
      "17 Score :  [0.6296 0.8111 0.8499 0.8763 0.894  0.9093 0.9191 0.9287 0.9344 0.9386\n",
      " 0.943  0.9456 0.9499 0.952  0.9539 0.9561 0.958  0.9596]\n",
      "18 Selected:  ['MSRUMATIndex', 'EOKOS002Index260', 'MAPMINDXIndex', 'KOEXPTIIndex120', 'KOVMPRODIndex120', 'KOEAPYIndex', 'KOBONTLIndex120', 'LEIACEIndex1', 'SKLILAIIndex260', 'KOGFBALIndex60', 'KOBPTBIndex5', 'SKBSICSAIndex1', 'FRNTTOTLIndex', 'LEILCIIndex5', 'FRNTTOTLIndex1', 'MSRUMATIndex5', 'KOSPIIndex5', 'EMPRGBCIIndex60', 'SAARTOTLIndex20']\n",
      "18 Score :  [0.6296 0.8111 0.8499 0.8763 0.894  0.9093 0.9191 0.9287 0.9344 0.9386\n",
      " 0.943  0.9456 0.9499 0.952  0.9539 0.9561 0.958  0.9596 0.9626]\n",
      "19 Selected:  ['MSRUMATIndex', 'EOKOS002Index260', 'MAPMINDXIndex', 'KOEXPTIIndex120', 'KOVMPRODIndex120', 'KOEAPYIndex', 'KOBONTLIndex120', 'LEIACEIndex1', 'SKLILAIIndex260', 'KOGFBALIndex60', 'KOBPTBIndex5', 'SKBSICSAIndex1', 'FRNTTOTLIndex', 'LEILCIIndex5', 'FRNTTOTLIndex1', 'MSRUMATIndex5', 'KOSPIIndex5', 'EMPRGBCIIndex60', 'SAARTOTLIndex20', 'PITLCHNGIndex']\n",
      "19 Score :  [0.6296 0.8111 0.8499 0.8763 0.894  0.9093 0.9191 0.9287 0.9344 0.9386\n",
      " 0.943  0.9456 0.9499 0.952  0.9539 0.9561 0.958  0.9596 0.9626 0.964 ]\n",
      "20 Selected:  ['MSRUMATIndex', 'EOKOS002Index260', 'MAPMINDXIndex', 'KOEXPTIIndex120', 'KOVMPRODIndex120', 'KOEAPYIndex', 'KOBONTLIndex120', 'LEIACEIndex1', 'SKLILAIIndex260', 'KOGFBALIndex60', 'KOBPTBIndex5', 'SKBSICSAIndex1', 'FRNTTOTLIndex', 'LEILCIIndex5', 'FRNTTOTLIndex1', 'MSRUMATIndex5', 'KOSPIIndex5', 'EMPRGBCIIndex60', 'SAARTOTLIndex20', 'PITLCHNGIndex', 'USTBEXPIndex1']\n",
      "20 Score :  [0.6296 0.8111 0.8499 0.8763 0.894  0.9093 0.9191 0.9287 0.9344 0.9386\n",
      " 0.943  0.9456 0.9499 0.952  0.9539 0.9561 0.958  0.9596 0.9626 0.964\n",
      " 0.9652]\n",
      "21 Selected:  ['MSRUMATIndex', 'EOKOS002Index260', 'MAPMINDXIndex', 'KOEXPTIIndex120', 'KOVMPRODIndex120', 'KOEAPYIndex', 'KOBONTLIndex120', 'LEIACEIndex1', 'SKLILAIIndex260', 'KOGFBALIndex60', 'KOBPTBIndex5', 'SKBSICSAIndex1', 'FRNTTOTLIndex', 'LEILCIIndex5', 'FRNTTOTLIndex1', 'MSRUMATIndex5', 'KOSPIIndex5', 'EMPRGBCIIndex60', 'SAARTOTLIndex20', 'PITLCHNGIndex', 'USTBEXPIndex1', 'SKLILCIndex260']\n",
      "21 Score :  [0.6296 0.8111 0.8499 0.8763 0.894  0.9093 0.9191 0.9287 0.9344 0.9386\n",
      " 0.943  0.9456 0.9499 0.952  0.9539 0.9561 0.958  0.9596 0.9626 0.964\n",
      " 0.9652 0.9665]\n",
      "22 Selected:  ['MSRUMATIndex', 'EOKOS002Index260', 'MAPMINDXIndex', 'KOEXPTIIndex120', 'KOVMPRODIndex120', 'KOEAPYIndex', 'KOBONTLIndex120', 'LEIACEIndex1', 'SKLILAIIndex260', 'KOGFBALIndex60', 'KOBPTBIndex5', 'SKBSICSAIndex1', 'FRNTTOTLIndex', 'LEILCIIndex5', 'FRNTTOTLIndex1', 'MSRUMATIndex5', 'KOSPIIndex5', 'EMPRGBCIIndex60', 'SAARTOTLIndex20', 'PITLCHNGIndex', 'USTBEXPIndex1', 'SKLILCIndex260', 'LEIAVGWIndex1']\n",
      "22 Score :  [0.6296 0.8111 0.8499 0.8763 0.894  0.9093 0.9191 0.9287 0.9344 0.9386\n",
      " 0.943  0.9456 0.9499 0.952  0.9539 0.9561 0.958  0.9596 0.9626 0.964\n",
      " 0.9652 0.9665 0.9676]\n",
      "23 Selected:  ['MSRUMATIndex', 'EOKOS002Index260', 'MAPMINDXIndex', 'KOEXPTIIndex120', 'KOVMPRODIndex120', 'KOEAPYIndex', 'KOBONTLIndex120', 'LEIACEIndex1', 'SKLILAIIndex260', 'KOGFBALIndex60', 'KOBPTBIndex5', 'SKBSICSAIndex1', 'FRNTTOTLIndex', 'LEILCIIndex5', 'FRNTTOTLIndex1', 'MSRUMATIndex5', 'KOSPIIndex5', 'EMPRGBCIIndex60', 'SAARTOTLIndex20', 'PITLCHNGIndex', 'USTBEXPIndex1', 'SKLILCIndex260', 'LEIAVGWIndex1', 'KOBONTLIndex60']\n",
      "23 Score :  [0.6296 0.8111 0.8499 0.8763 0.894  0.9093 0.9191 0.9287 0.9344 0.9386\n",
      " 0.943  0.9456 0.9499 0.952  0.9539 0.9561 0.958  0.9596 0.9626 0.964\n",
      " 0.9652 0.9665 0.9676 0.9686]\n",
      "24 Selected:  ['MSRUMATIndex', 'EOKOS002Index260', 'MAPMINDXIndex', 'KOEXPTIIndex120', 'KOVMPRODIndex120', 'KOEAPYIndex', 'KOBONTLIndex120', 'LEIACEIndex1', 'SKLILAIIndex260', 'KOGFBALIndex60', 'KOBPTBIndex5', 'SKBSICSAIndex1', 'FRNTTOTLIndex', 'LEILCIIndex5', 'FRNTTOTLIndex1', 'MSRUMATIndex5', 'KOSPIIndex5', 'EMPRGBCIIndex60', 'SAARTOTLIndex20', 'PITLCHNGIndex', 'USTBEXPIndex1', 'SKLILCIndex260', 'LEIAVGWIndex1', 'KOBONTLIndex60', 'CICRTOTIndex60']\n",
      "24 Score :  [0.6296 0.8111 0.8499 0.8763 0.894  0.9093 0.9191 0.9287 0.9344 0.9386\n",
      " 0.943  0.9456 0.9499 0.952  0.9539 0.9561 0.958  0.9596 0.9626 0.964\n",
      " 0.9652 0.9665 0.9676 0.9686 0.9693]\n",
      "25 Selected:  ['MSRUMATIndex', 'EOKOS002Index260', 'MAPMINDXIndex', 'KOEXPTIIndex120', 'KOVMPRODIndex120', 'KOEAPYIndex', 'KOBONTLIndex120', 'LEIACEIndex1', 'SKLILAIIndex260', 'KOGFBALIndex60', 'KOBPTBIndex5', 'SKBSICSAIndex1', 'FRNTTOTLIndex', 'LEILCIIndex5', 'FRNTTOTLIndex1', 'MSRUMATIndex5', 'KOSPIIndex5', 'EMPRGBCIIndex60', 'SAARTOTLIndex20', 'PITLCHNGIndex', 'USTBEXPIndex1', 'SKLILCIndex260', 'LEIAVGWIndex1', 'KOBONTLIndex60', 'CICRTOTIndex60', 'LEIACEIndex5']\n",
      "25 Score :  [0.6296 0.8111 0.8499 0.8763 0.894  0.9093 0.9191 0.9287 0.9344 0.9386\n",
      " 0.943  0.9456 0.9499 0.952  0.9539 0.9561 0.958  0.9596 0.9626 0.964\n",
      " 0.9652 0.9665 0.9676 0.9686 0.9693 0.97  ]\n",
      "26 Selected:  ['MSRUMATIndex', 'EOKOS002Index260', 'MAPMINDXIndex', 'KOEXPTIIndex120', 'KOVMPRODIndex120', 'KOEAPYIndex', 'KOBONTLIndex120', 'LEIACEIndex1', 'SKLILAIIndex260', 'KOGFBALIndex60', 'KOBPTBIndex5', 'SKBSICSAIndex1', 'FRNTTOTLIndex', 'LEILCIIndex5', 'FRNTTOTLIndex1', 'MSRUMATIndex5', 'KOSPIIndex5', 'EMPRGBCIIndex60', 'SAARTOTLIndex20', 'PITLCHNGIndex', 'USTBEXPIndex1', 'SKLILCIndex260', 'LEIAVGWIndex1', 'KOBONTLIndex60', 'CICRTOTIndex60', 'LEIACEIndex5', 'SKLICONEIndex260']\n",
      "26 Score :  [0.6296 0.8111 0.8499 0.8763 0.894  0.9093 0.9191 0.9287 0.9344 0.9386\n",
      " 0.943  0.9456 0.9499 0.952  0.9539 0.9561 0.958  0.9596 0.9626 0.964\n",
      " 0.9652 0.9665 0.9676 0.9686 0.9693 0.97   0.9707]\n",
      "27 Selected:  ['MSRUMATIndex', 'EOKOS002Index260', 'MAPMINDXIndex', 'KOEXPTIIndex120', 'KOVMPRODIndex120', 'KOEAPYIndex', 'KOBONTLIndex120', 'LEIACEIndex1', 'SKLILAIIndex260', 'KOGFBALIndex60', 'KOBPTBIndex5', 'SKBSICSAIndex1', 'FRNTTOTLIndex', 'LEILCIIndex5', 'FRNTTOTLIndex1', 'MSRUMATIndex5', 'KOSPIIndex5', 'EMPRGBCIIndex60', 'SAARTOTLIndex20', 'PITLCHNGIndex', 'USTBEXPIndex1', 'SKLILCIndex260', 'LEIAVGWIndex1', 'KOBONTLIndex60', 'CICRTOTIndex60', 'LEIACEIndex5', 'SKLICONEIndex260', 'PRODNFR%Index']\n",
      "27 Score :  [0.6296 0.8111 0.8499 0.8763 0.894  0.9093 0.9191 0.9287 0.9344 0.9386\n",
      " 0.943  0.9456 0.9499 0.952  0.9539 0.9561 0.958  0.9596 0.9626 0.964\n",
      " 0.9652 0.9665 0.9676 0.9686 0.9693 0.97   0.9707 0.9718]\n",
      "28 Selected:  ['MSRUMATIndex', 'EOKOS002Index260', 'MAPMINDXIndex', 'KOEXPTIIndex120', 'KOVMPRODIndex120', 'KOEAPYIndex', 'KOBONTLIndex120', 'LEIACEIndex1', 'SKLILAIIndex260', 'KOGFBALIndex60', 'KOBPTBIndex5', 'SKBSICSAIndex1', 'FRNTTOTLIndex', 'LEILCIIndex5', 'FRNTTOTLIndex1', 'MSRUMATIndex5', 'KOSPIIndex5', 'EMPRGBCIIndex60', 'SAARTOTLIndex20', 'PITLCHNGIndex', 'USTBEXPIndex1', 'SKLILCIndex260', 'LEIAVGWIndex1', 'KOBONTLIndex60', 'CICRTOTIndex60', 'LEIACEIndex5', 'SKLICONEIndex260', 'PRODNFR%Index', 'LMNIDS03Comdty60']\n",
      "28 Score :  [0.6296 0.8111 0.8499 0.8763 0.894  0.9093 0.9191 0.9287 0.9344 0.9386\n",
      " 0.943  0.9456 0.9499 0.952  0.9539 0.9561 0.958  0.9596 0.9626 0.964\n",
      " 0.9652 0.9665 0.9676 0.9686 0.9693 0.97   0.9707 0.9718 0.9727]\n",
      "29 Selected:  ['MSRUMATIndex', 'EOKOS002Index260', 'MAPMINDXIndex', 'KOEXPTIIndex120', 'KOVMPRODIndex120', 'KOEAPYIndex', 'KOBONTLIndex120', 'LEIACEIndex1', 'SKLILAIIndex260', 'KOGFBALIndex60', 'KOBPTBIndex5', 'SKBSICSAIndex1', 'FRNTTOTLIndex', 'LEILCIIndex5', 'FRNTTOTLIndex1', 'MSRUMATIndex5', 'KOSPIIndex5', 'EMPRGBCIIndex60', 'SAARTOTLIndex20', 'PITLCHNGIndex', 'USTBEXPIndex1', 'SKLILCIndex260', 'LEIAVGWIndex1', 'KOBONTLIndex60', 'CICRTOTIndex60', 'LEIACEIndex5', 'SKLICONEIndex260', 'PRODNFR%Index', 'LMNIDS03Comdty60', 'KOVMEXPSIndex120']\n",
      "29 Score :  [0.6296 0.8111 0.8499 0.8763 0.894  0.9093 0.9191 0.9287 0.9344 0.9386\n",
      " 0.943  0.9456 0.9499 0.952  0.9539 0.9561 0.958  0.9596 0.9626 0.964\n",
      " 0.9652 0.9665 0.9676 0.9686 0.9693 0.97   0.9707 0.9718 0.9727 0.9734]\n",
      "30 Selected:  ['MSRUMATIndex', 'EOKOS002Index260', 'MAPMINDXIndex', 'KOEXPTIIndex120', 'KOVMPRODIndex120', 'KOEAPYIndex', 'KOBONTLIndex120', 'LEIACEIndex1', 'SKLILAIIndex260', 'KOGFBALIndex60', 'KOBPTBIndex5', 'SKBSICSAIndex1', 'FRNTTOTLIndex', 'LEILCIIndex5', 'FRNTTOTLIndex1', 'MSRUMATIndex5', 'KOSPIIndex5', 'EMPRGBCIIndex60', 'SAARTOTLIndex20', 'PITLCHNGIndex', 'USTBEXPIndex1', 'SKLILCIndex260', 'LEIAVGWIndex1', 'KOBONTLIndex60', 'CICRTOTIndex60', 'LEIACEIndex5', 'SKLICONEIndex260', 'PRODNFR%Index', 'LMNIDS03Comdty60', 'KOVMEXPSIndex120', 'KOWDRIndex1']\n",
      "30 Score :  [0.6296 0.8111 0.8499 0.8763 0.894  0.9093 0.9191 0.9287 0.9344 0.9386\n",
      " 0.943  0.9456 0.9499 0.952  0.9539 0.9561 0.958  0.9596 0.9626 0.964\n",
      " 0.9652 0.9665 0.9676 0.9686 0.9693 0.97   0.9707 0.9718 0.9727 0.9734\n",
      " 0.974 ]\n",
      "31 Selected:  ['MSRUMATIndex', 'EOKOS002Index260', 'MAPMINDXIndex', 'KOEXPTIIndex120', 'KOVMPRODIndex120', 'KOEAPYIndex', 'KOBONTLIndex120', 'LEIACEIndex1', 'SKLILAIIndex260', 'KOGFBALIndex60', 'KOBPTBIndex5', 'SKBSICSAIndex1', 'FRNTTOTLIndex', 'LEILCIIndex5', 'FRNTTOTLIndex1', 'MSRUMATIndex5', 'KOSPIIndex5', 'EMPRGBCIIndex60', 'SAARTOTLIndex20', 'PITLCHNGIndex', 'USTBEXPIndex1', 'SKLILCIndex260', 'LEIAVGWIndex1', 'KOBONTLIndex60', 'CICRTOTIndex60', 'LEIACEIndex5', 'SKLICONEIndex260', 'PRODNFR%Index', 'LMNIDS03Comdty60', 'KOVMEXPSIndex120', 'KOWDRIndex1', 'SKhynix_change']\n",
      "31 Score :  [0.6296 0.8111 0.8499 0.8763 0.894  0.9093 0.9191 0.9287 0.9344 0.9386\n",
      " 0.943  0.9456 0.9499 0.952  0.9539 0.9561 0.958  0.9596 0.9626 0.964\n",
      " 0.9652 0.9665 0.9676 0.9686 0.9693 0.97   0.9707 0.9718 0.9727 0.9734\n",
      " 0.974  0.9744]\n",
      "32 Selected:  ['MSRUMATIndex', 'EOKOS002Index260', 'MAPMINDXIndex', 'KOEXPTIIndex120', 'KOVMPRODIndex120', 'KOEAPYIndex', 'KOBONTLIndex120', 'LEIACEIndex1', 'SKLILAIIndex260', 'KOGFBALIndex60', 'KOBPTBIndex5', 'SKBSICSAIndex1', 'FRNTTOTLIndex', 'LEILCIIndex5', 'FRNTTOTLIndex1', 'MSRUMATIndex5', 'KOSPIIndex5', 'EMPRGBCIIndex60', 'SAARTOTLIndex20', 'PITLCHNGIndex', 'USTBEXPIndex1', 'SKLILCIndex260', 'LEIAVGWIndex1', 'KOBONTLIndex60', 'CICRTOTIndex60', 'LEIACEIndex5', 'SKLICONEIndex260', 'PRODNFR%Index', 'LMNIDS03Comdty60', 'KOVMEXPSIndex120', 'KOWDRIndex1', 'SKhynix_change', 'IXKIndex5']\n",
      "32 Score :  [0.6296 0.8111 0.8499 0.8763 0.894  0.9093 0.9191 0.9287 0.9344 0.9386\n",
      " 0.943  0.9456 0.9499 0.952  0.9539 0.9561 0.958  0.9596 0.9626 0.964\n",
      " 0.9652 0.9665 0.9676 0.9686 0.9693 0.97   0.9707 0.9718 0.9727 0.9734\n",
      " 0.974  0.9744 0.9747]\n",
      "33 Selected:  ['MSRUMATIndex', 'EOKOS002Index260', 'MAPMINDXIndex', 'KOEXPTIIndex120', 'KOVMPRODIndex120', 'KOEAPYIndex', 'KOBONTLIndex120', 'LEIACEIndex1', 'SKLILAIIndex260', 'KOGFBALIndex60', 'KOBPTBIndex5', 'SKBSICSAIndex1', 'FRNTTOTLIndex', 'LEILCIIndex5', 'FRNTTOTLIndex1', 'MSRUMATIndex5', 'KOSPIIndex5', 'EMPRGBCIIndex60', 'SAARTOTLIndex20', 'PITLCHNGIndex', 'USTBEXPIndex1', 'SKLILCIndex260', 'LEIAVGWIndex1', 'KOBONTLIndex60', 'CICRTOTIndex60', 'LEIACEIndex5', 'SKLICONEIndex260', 'PRODNFR%Index', 'LMNIDS03Comdty60', 'KOVMEXPSIndex120', 'KOWDRIndex1', 'SKhynix_change', 'IXKIndex5', 'Micron_change']\n",
      "33 Score :  [0.6296 0.8111 0.8499 0.8763 0.894  0.9093 0.9191 0.9287 0.9344 0.9386\n",
      " 0.943  0.9456 0.9499 0.952  0.9539 0.9561 0.958  0.9596 0.9626 0.964\n",
      " 0.9652 0.9665 0.9676 0.9686 0.9693 0.97   0.9707 0.9718 0.9727 0.9734\n",
      " 0.974  0.9744 0.9747 0.9751]\n",
      "34 Selected:  ['MSRUMATIndex', 'EOKOS002Index260', 'MAPMINDXIndex', 'KOEXPTIIndex120', 'KOVMPRODIndex120', 'KOEAPYIndex', 'KOBONTLIndex120', 'LEIACEIndex1', 'SKLILAIIndex260', 'KOGFBALIndex60', 'KOBPTBIndex5', 'SKBSICSAIndex1', 'FRNTTOTLIndex', 'LEILCIIndex5', 'FRNTTOTLIndex1', 'MSRUMATIndex5', 'KOSPIIndex5', 'EMPRGBCIIndex60', 'SAARTOTLIndex20', 'PITLCHNGIndex', 'USTBEXPIndex1', 'SKLILCIndex260', 'LEIAVGWIndex1', 'KOBONTLIndex60', 'CICRTOTIndex60', 'LEIACEIndex5', 'SKLICONEIndex260', 'PRODNFR%Index', 'LMNIDS03Comdty60', 'KOVMEXPSIndex120', 'KOWDRIndex1', 'SKhynix_change', 'IXKIndex5', 'Micron_change', 'LEIMNOIndex1']\n",
      "34 Score :  [0.6296 0.8111 0.8499 0.8763 0.894  0.9093 0.9191 0.9287 0.9344 0.9386\n",
      " 0.943  0.9456 0.9499 0.952  0.9539 0.9561 0.958  0.9596 0.9626 0.964\n",
      " 0.9652 0.9665 0.9676 0.9686 0.9693 0.97   0.9707 0.9718 0.9727 0.9734\n",
      " 0.974  0.9744 0.9747 0.9751 0.9753]\n",
      "35 Selected:  ['MSRUMATIndex', 'EOKOS002Index260', 'MAPMINDXIndex', 'KOEXPTIIndex120', 'KOVMPRODIndex120', 'KOEAPYIndex', 'KOBONTLIndex120', 'LEIACEIndex1', 'SKLILAIIndex260', 'KOGFBALIndex60', 'KOBPTBIndex5', 'SKBSICSAIndex1', 'FRNTTOTLIndex', 'LEILCIIndex5', 'FRNTTOTLIndex1', 'MSRUMATIndex5', 'KOSPIIndex5', 'EMPRGBCIIndex60', 'SAARTOTLIndex20', 'PITLCHNGIndex', 'USTBEXPIndex1', 'SKLILCIndex260', 'LEIAVGWIndex1', 'KOBONTLIndex60', 'CICRTOTIndex60', 'LEIACEIndex5', 'SKLICONEIndex260', 'PRODNFR%Index', 'LMNIDS03Comdty60', 'KOVMEXPSIndex120', 'KOWDRIndex1', 'SKhynix_change', 'IXKIndex5', 'Micron_change', 'LEIMNOIndex1', 'CICRTOTIndex5']\n",
      "35 Score :  [0.6296 0.8111 0.8499 0.8763 0.894  0.9093 0.9191 0.9287 0.9344 0.9386\n",
      " 0.943  0.9456 0.9499 0.952  0.9539 0.9561 0.958  0.9596 0.9626 0.964\n",
      " 0.9652 0.9665 0.9676 0.9686 0.9693 0.97   0.9707 0.9718 0.9727 0.9734\n",
      " 0.974  0.9744 0.9747 0.9751 0.9753 0.9754]\n",
      "36 Selected:  ['MSRUMATIndex', 'EOKOS002Index260', 'MAPMINDXIndex', 'KOEXPTIIndex120', 'KOVMPRODIndex120', 'KOEAPYIndex', 'KOBONTLIndex120', 'LEIACEIndex1', 'SKLILAIIndex260', 'KOGFBALIndex60', 'KOBPTBIndex5', 'SKBSICSAIndex1', 'FRNTTOTLIndex', 'LEILCIIndex5', 'FRNTTOTLIndex1', 'MSRUMATIndex5', 'KOSPIIndex5', 'EMPRGBCIIndex60', 'SAARTOTLIndex20', 'PITLCHNGIndex', 'USTBEXPIndex1', 'SKLILCIndex260', 'LEIAVGWIndex1', 'KOBONTLIndex60', 'CICRTOTIndex60', 'LEIACEIndex5', 'SKLICONEIndex260', 'PRODNFR%Index', 'LMNIDS03Comdty60', 'KOVMEXPSIndex120', 'KOWDRIndex1', 'SKhynix_change', 'IXKIndex5', 'Micron_change', 'LEIMNOIndex1', 'CICRTOTIndex5', 'KOBPCAIndex20']\n",
      "36 Score :  [0.6296 0.8111 0.8499 0.8763 0.894  0.9093 0.9191 0.9287 0.9344 0.9386\n",
      " 0.943  0.9456 0.9499 0.952  0.9539 0.9561 0.958  0.9596 0.9626 0.964\n",
      " 0.9652 0.9665 0.9676 0.9686 0.9693 0.97   0.9707 0.9718 0.9727 0.9734\n",
      " 0.974  0.9744 0.9747 0.9751 0.9753 0.9754 0.9755]\n",
      "37 Selected:  ['MSRUMATIndex', 'EOKOS002Index260', 'MAPMINDXIndex', 'KOEXPTIIndex120', 'KOVMPRODIndex120', 'KOEAPYIndex', 'KOBONTLIndex120', 'LEIACEIndex1', 'SKLILAIIndex260', 'KOGFBALIndex60', 'KOBPTBIndex5', 'SKBSICSAIndex1', 'FRNTTOTLIndex', 'LEILCIIndex5', 'FRNTTOTLIndex1', 'MSRUMATIndex5', 'KOSPIIndex5', 'EMPRGBCIIndex60', 'SAARTOTLIndex20', 'PITLCHNGIndex', 'USTBEXPIndex1', 'SKLILCIndex260', 'LEIAVGWIndex1', 'KOBONTLIndex60', 'CICRTOTIndex60', 'LEIACEIndex5', 'SKLICONEIndex260', 'PRODNFR%Index', 'LMNIDS03Comdty60', 'KOVMEXPSIndex120', 'KOWDRIndex1', 'SKhynix_change', 'IXKIndex5', 'Micron_change', 'LEIMNOIndex1', 'CICRTOTIndex5', 'KOBPCAIndex20', 'KOVMTOTSIndex120']\n",
      "37 Score :  [0.6296 0.8111 0.8499 0.8763 0.894  0.9093 0.9191 0.9287 0.9344 0.9386\n",
      " 0.943  0.9456 0.9499 0.952  0.9539 0.9561 0.958  0.9596 0.9626 0.964\n",
      " 0.9652 0.9665 0.9676 0.9686 0.9693 0.97   0.9707 0.9718 0.9727 0.9734\n",
      " 0.974  0.9744 0.9747 0.9751 0.9753 0.9754 0.9755 0.9756]\n",
      "38 Selected:  ['MSRUMATIndex', 'EOKOS002Index260', 'MAPMINDXIndex', 'KOEXPTIIndex120', 'KOVMPRODIndex120', 'KOEAPYIndex', 'KOBONTLIndex120', 'LEIACEIndex1', 'SKLILAIIndex260', 'KOGFBALIndex60', 'KOBPTBIndex5', 'SKBSICSAIndex1', 'FRNTTOTLIndex', 'LEILCIIndex5', 'FRNTTOTLIndex1', 'MSRUMATIndex5', 'KOSPIIndex5', 'EMPRGBCIIndex60', 'SAARTOTLIndex20', 'PITLCHNGIndex', 'USTBEXPIndex1', 'SKLILCIndex260', 'LEIAVGWIndex1', 'KOBONTLIndex60', 'CICRTOTIndex60', 'LEIACEIndex5', 'SKLICONEIndex260', 'PRODNFR%Index', 'LMNIDS03Comdty60', 'KOVMEXPSIndex120', 'KOWDRIndex1', 'SKhynix_change', 'IXKIndex5', 'Micron_change', 'LEIMNOIndex1', 'CICRTOTIndex5', 'KOBPCAIndex20', 'KOVMTOTSIndex120', 'EMPRGBCIIndex20']\n",
      "38 Score :  [0.6296 0.8111 0.8499 0.8763 0.894  0.9093 0.9191 0.9287 0.9344 0.9386\n",
      " 0.943  0.9456 0.9499 0.952  0.9539 0.9561 0.958  0.9596 0.9626 0.964\n",
      " 0.9652 0.9665 0.9676 0.9686 0.9693 0.97   0.9707 0.9718 0.9727 0.9734\n",
      " 0.974  0.9744 0.9747 0.9751 0.9753 0.9754 0.9755 0.9756 0.9758]\n",
      "39 Selected:  ['MSRUMATIndex', 'EOKOS002Index260', 'MAPMINDXIndex', 'KOEXPTIIndex120', 'KOVMPRODIndex120', 'KOEAPYIndex', 'KOBONTLIndex120', 'LEIACEIndex1', 'SKLILAIIndex260', 'KOGFBALIndex60', 'KOBPTBIndex5', 'SKBSICSAIndex1', 'FRNTTOTLIndex', 'LEILCIIndex5', 'FRNTTOTLIndex1', 'MSRUMATIndex5', 'KOSPIIndex5', 'EMPRGBCIIndex60', 'SAARTOTLIndex20', 'PITLCHNGIndex', 'USTBEXPIndex1', 'SKLILCIndex260', 'LEIAVGWIndex1', 'KOBONTLIndex60', 'CICRTOTIndex60', 'LEIACEIndex5', 'SKLICONEIndex260', 'PRODNFR%Index', 'LMNIDS03Comdty60', 'KOVMEXPSIndex120', 'KOWDRIndex1', 'SKhynix_change', 'IXKIndex5', 'Micron_change', 'LEIMNOIndex1', 'CICRTOTIndex5', 'KOBPCAIndex20', 'KOVMTOTSIndex120', 'EMPRGBCIIndex20', 'MXWO0MTIndex20']\n",
      "39 Score :  [0.6296 0.8111 0.8499 0.8763 0.894  0.9093 0.9191 0.9287 0.9344 0.9386\n",
      " 0.943  0.9456 0.9499 0.952  0.9539 0.9561 0.958  0.9596 0.9626 0.964\n",
      " 0.9652 0.9665 0.9676 0.9686 0.9693 0.97   0.9707 0.9718 0.9727 0.9734\n",
      " 0.974  0.9744 0.9747 0.9751 0.9753 0.9754 0.9755 0.9756 0.9758 0.9759]\n",
      "40 Selected:  ['MSRUMATIndex', 'EOKOS002Index260', 'MAPMINDXIndex', 'KOEXPTIIndex120', 'KOVMPRODIndex120', 'KOEAPYIndex', 'KOBONTLIndex120', 'LEIACEIndex1', 'SKLILAIIndex260', 'KOGFBALIndex60', 'KOBPTBIndex5', 'SKBSICSAIndex1', 'FRNTTOTLIndex', 'LEILCIIndex5', 'FRNTTOTLIndex1', 'MSRUMATIndex5', 'KOSPIIndex5', 'EMPRGBCIIndex60', 'SAARTOTLIndex20', 'PITLCHNGIndex', 'USTBEXPIndex1', 'SKLILCIndex260', 'LEIAVGWIndex1', 'KOBONTLIndex60', 'CICRTOTIndex60', 'LEIACEIndex5', 'SKLICONEIndex260', 'PRODNFR%Index', 'LMNIDS03Comdty60', 'KOVMEXPSIndex120', 'KOWDRIndex1', 'SKhynix_change', 'IXKIndex5', 'Micron_change', 'LEIMNOIndex1', 'CICRTOTIndex5', 'KOBPCAIndex20', 'KOVMTOTSIndex120', 'EMPRGBCIIndex20', 'MXWO0MTIndex20', 'NKYIndex60']\n",
      "40 Score :  [0.6296 0.8111 0.8499 0.8763 0.894  0.9093 0.9191 0.9287 0.9344 0.9386\n",
      " 0.943  0.9456 0.9499 0.952  0.9539 0.9561 0.958  0.9596 0.9626 0.964\n",
      " 0.9652 0.9665 0.9676 0.9686 0.9693 0.97   0.9707 0.9718 0.9727 0.9734\n",
      " 0.974  0.9744 0.9747 0.9751 0.9753 0.9754 0.9755 0.9756 0.9758 0.9759\n",
      " 0.976 ]\n",
      "41 Selected:  ['MSRUMATIndex', 'EOKOS002Index260', 'MAPMINDXIndex', 'KOEXPTIIndex120', 'KOVMPRODIndex120', 'KOEAPYIndex', 'KOBONTLIndex120', 'LEIACEIndex1', 'SKLILAIIndex260', 'KOGFBALIndex60', 'KOBPTBIndex5', 'SKBSICSAIndex1', 'FRNTTOTLIndex', 'LEILCIIndex5', 'FRNTTOTLIndex1', 'MSRUMATIndex5', 'KOSPIIndex5', 'EMPRGBCIIndex60', 'SAARTOTLIndex20', 'PITLCHNGIndex', 'USTBEXPIndex1', 'SKLILCIndex260', 'LEIAVGWIndex1', 'KOBONTLIndex60', 'CICRTOTIndex60', 'LEIACEIndex5', 'SKLICONEIndex260', 'PRODNFR%Index', 'LMNIDS03Comdty60', 'KOVMEXPSIndex120', 'KOWDRIndex1', 'SKhynix_change', 'IXKIndex5', 'Micron_change', 'LEIMNOIndex1', 'CICRTOTIndex5', 'KOBPCAIndex20', 'KOVMTOTSIndex120', 'EMPRGBCIIndex20', 'MXWO0MTIndex20', 'NKYIndex60', 'SKLILAPIndex20']\n",
      "41 Score :  [0.6296 0.8111 0.8499 0.8763 0.894  0.9093 0.9191 0.9287 0.9344 0.9386\n",
      " 0.943  0.9456 0.9499 0.952  0.9539 0.9561 0.958  0.9596 0.9626 0.964\n",
      " 0.9652 0.9665 0.9676 0.9686 0.9693 0.97   0.9707 0.9718 0.9727 0.9734\n",
      " 0.974  0.9744 0.9747 0.9751 0.9753 0.9754 0.9755 0.9756 0.9758 0.9759\n",
      " 0.976  0.9762]\n",
      "42 Selected:  ['MSRUMATIndex', 'EOKOS002Index260', 'MAPMINDXIndex', 'KOEXPTIIndex120', 'KOVMPRODIndex120', 'KOEAPYIndex', 'KOBONTLIndex120', 'LEIACEIndex1', 'SKLILAIIndex260', 'KOGFBALIndex60', 'KOBPTBIndex5', 'SKBSICSAIndex1', 'FRNTTOTLIndex', 'LEILCIIndex5', 'FRNTTOTLIndex1', 'MSRUMATIndex5', 'KOSPIIndex5', 'EMPRGBCIIndex60', 'SAARTOTLIndex20', 'PITLCHNGIndex', 'USTBEXPIndex1', 'SKLILCIndex260', 'LEIAVGWIndex1', 'KOBONTLIndex60', 'CICRTOTIndex60', 'LEIACEIndex5', 'SKLICONEIndex260', 'PRODNFR%Index', 'LMNIDS03Comdty60', 'KOVMEXPSIndex120', 'KOWDRIndex1', 'SKhynix_change', 'IXKIndex5', 'Micron_change', 'LEIMNOIndex1', 'CICRTOTIndex5', 'KOBPCAIndex20', 'KOVMTOTSIndex120', 'EMPRGBCIIndex20', 'MXWO0MTIndex20', 'NKYIndex60', 'SKLILAPIndex20', 'KODSDEPTIndex']\n",
      "42 Score :  [0.6296 0.8111 0.8499 0.8763 0.894  0.9093 0.9191 0.9287 0.9344 0.9386\n",
      " 0.943  0.9456 0.9499 0.952  0.9539 0.9561 0.958  0.9596 0.9626 0.964\n",
      " 0.9652 0.9665 0.9676 0.9686 0.9693 0.97   0.9707 0.9718 0.9727 0.9734\n",
      " 0.974  0.9744 0.9747 0.9751 0.9753 0.9754 0.9755 0.9756 0.9758 0.9759\n",
      " 0.976  0.9762 0.9765]\n",
      "43 Selected:  ['MSRUMATIndex', 'EOKOS002Index260', 'MAPMINDXIndex', 'KOEXPTIIndex120', 'KOVMPRODIndex120', 'KOEAPYIndex', 'KOBONTLIndex120', 'LEIACEIndex1', 'SKLILAIIndex260', 'KOGFBALIndex60', 'KOBPTBIndex5', 'SKBSICSAIndex1', 'FRNTTOTLIndex', 'LEILCIIndex5', 'FRNTTOTLIndex1', 'MSRUMATIndex5', 'KOSPIIndex5', 'EMPRGBCIIndex60', 'SAARTOTLIndex20', 'PITLCHNGIndex', 'USTBEXPIndex1', 'SKLILCIndex260', 'LEIAVGWIndex1', 'KOBONTLIndex60', 'CICRTOTIndex60', 'LEIACEIndex5', 'SKLICONEIndex260', 'PRODNFR%Index', 'LMNIDS03Comdty60', 'KOVMEXPSIndex120', 'KOWDRIndex1', 'SKhynix_change', 'IXKIndex5', 'Micron_change', 'LEIMNOIndex1', 'CICRTOTIndex5', 'KOBPCAIndex20', 'KOVMTOTSIndex120', 'EMPRGBCIIndex20', 'MXWO0MTIndex20', 'NKYIndex60', 'SKLILAPIndex20', 'KODSDEPTIndex', 'EMPRGBCIIndex1']\n",
      "43 Score :  [0.6296 0.8111 0.8499 0.8763 0.894  0.9093 0.9191 0.9287 0.9344 0.9386\n",
      " 0.943  0.9456 0.9499 0.952  0.9539 0.9561 0.958  0.9596 0.9626 0.964\n",
      " 0.9652 0.9665 0.9676 0.9686 0.9693 0.97   0.9707 0.9718 0.9727 0.9734\n",
      " 0.974  0.9744 0.9747 0.9751 0.9753 0.9754 0.9755 0.9756 0.9758 0.9759\n",
      " 0.976  0.9762 0.9765 0.9766]\n",
      "44 Selected:  ['MSRUMATIndex', 'EOKOS002Index260', 'MAPMINDXIndex', 'KOEXPTIIndex120', 'KOVMPRODIndex120', 'KOEAPYIndex', 'KOBONTLIndex120', 'LEIACEIndex1', 'SKLILAIIndex260', 'KOGFBALIndex60', 'KOBPTBIndex5', 'SKBSICSAIndex1', 'FRNTTOTLIndex', 'LEILCIIndex5', 'FRNTTOTLIndex1', 'MSRUMATIndex5', 'KOSPIIndex5', 'EMPRGBCIIndex60', 'SAARTOTLIndex20', 'PITLCHNGIndex', 'USTBEXPIndex1', 'SKLILCIndex260', 'LEIAVGWIndex1', 'KOBONTLIndex60', 'CICRTOTIndex60', 'LEIACEIndex5', 'SKLICONEIndex260', 'PRODNFR%Index', 'LMNIDS03Comdty60', 'KOVMEXPSIndex120', 'KOWDRIndex1', 'SKhynix_change', 'IXKIndex5', 'Micron_change', 'LEIMNOIndex1', 'CICRTOTIndex5', 'KOBPCAIndex20', 'KOVMTOTSIndex120', 'EMPRGBCIIndex20', 'MXWO0MTIndex20', 'NKYIndex60', 'SKLILAPIndex20', 'KODSDEPTIndex', 'EMPRGBCIIndex1', 'SKLIWNRSIndex1']\n",
      "44 Score :  [0.6296 0.8111 0.8499 0.8763 0.894  0.9093 0.9191 0.9287 0.9344 0.9386\n",
      " 0.943  0.9456 0.9499 0.952  0.9539 0.9561 0.958  0.9596 0.9626 0.964\n",
      " 0.9652 0.9665 0.9676 0.9686 0.9693 0.97   0.9707 0.9718 0.9727 0.9734\n",
      " 0.974  0.9744 0.9747 0.9751 0.9753 0.9754 0.9755 0.9756 0.9758 0.9759\n",
      " 0.976  0.9762 0.9765 0.9766 0.9767]\n",
      "45 Selected:  ['MSRUMATIndex', 'EOKOS002Index260', 'MAPMINDXIndex', 'KOEXPTIIndex120', 'KOVMPRODIndex120', 'KOEAPYIndex', 'KOBONTLIndex120', 'LEIACEIndex1', 'SKLILAIIndex260', 'KOGFBALIndex60', 'KOBPTBIndex5', 'SKBSICSAIndex1', 'FRNTTOTLIndex', 'LEILCIIndex5', 'FRNTTOTLIndex1', 'MSRUMATIndex5', 'KOSPIIndex5', 'EMPRGBCIIndex60', 'SAARTOTLIndex20', 'PITLCHNGIndex', 'USTBEXPIndex1', 'SKLILCIndex260', 'LEIAVGWIndex1', 'KOBONTLIndex60', 'CICRTOTIndex60', 'LEIACEIndex5', 'SKLICONEIndex260', 'PRODNFR%Index', 'LMNIDS03Comdty60', 'KOVMEXPSIndex120', 'KOWDRIndex1', 'SKhynix_change', 'IXKIndex5', 'Micron_change', 'LEIMNOIndex1', 'CICRTOTIndex5', 'KOBPCAIndex20', 'KOVMTOTSIndex120', 'EMPRGBCIIndex20', 'MXWO0MTIndex20', 'NKYIndex60', 'SKLILAPIndex20', 'KODSDEPTIndex', 'EMPRGBCIIndex1', 'SKLIWNRSIndex1', 'SKLIWNRSIndex20']\n",
      "45 Score :  [0.6296 0.8111 0.8499 0.8763 0.894  0.9093 0.9191 0.9287 0.9344 0.9386\n",
      " 0.943  0.9456 0.9499 0.952  0.9539 0.9561 0.958  0.9596 0.9626 0.964\n",
      " 0.9652 0.9665 0.9676 0.9686 0.9693 0.97   0.9707 0.9718 0.9727 0.9734\n",
      " 0.974  0.9744 0.9747 0.9751 0.9753 0.9754 0.9755 0.9756 0.9758 0.9759\n",
      " 0.976  0.9762 0.9765 0.9766 0.9767 0.9768]\n",
      "46 Selected:  ['MSRUMATIndex', 'EOKOS002Index260', 'MAPMINDXIndex', 'KOEXPTIIndex120', 'KOVMPRODIndex120', 'KOEAPYIndex', 'KOBONTLIndex120', 'LEIACEIndex1', 'SKLILAIIndex260', 'KOGFBALIndex60', 'KOBPTBIndex5', 'SKBSICSAIndex1', 'FRNTTOTLIndex', 'LEILCIIndex5', 'FRNTTOTLIndex1', 'MSRUMATIndex5', 'KOSPIIndex5', 'EMPRGBCIIndex60', 'SAARTOTLIndex20', 'PITLCHNGIndex', 'USTBEXPIndex1', 'SKLILCIndex260', 'LEIAVGWIndex1', 'KOBONTLIndex60', 'CICRTOTIndex60', 'LEIACEIndex5', 'SKLICONEIndex260', 'PRODNFR%Index', 'LMNIDS03Comdty60', 'KOVMEXPSIndex120', 'KOWDRIndex1', 'SKhynix_change', 'IXKIndex5', 'Micron_change', 'LEIMNOIndex1', 'CICRTOTIndex5', 'KOBPCAIndex20', 'KOVMTOTSIndex120', 'EMPRGBCIIndex20', 'MXWO0MTIndex20', 'NKYIndex60', 'SKLILAPIndex20', 'KODSDEPTIndex', 'EMPRGBCIIndex1', 'SKLIWNRSIndex1', 'SKLIWNRSIndex20', 'CINDIndex260']\n",
      "46 Score :  [0.6296 0.8111 0.8499 0.8763 0.894  0.9093 0.9191 0.9287 0.9344 0.9386\n",
      " 0.943  0.9456 0.9499 0.952  0.9539 0.9561 0.958  0.9596 0.9626 0.964\n",
      " 0.9652 0.9665 0.9676 0.9686 0.9693 0.97   0.9707 0.9718 0.9727 0.9734\n",
      " 0.974  0.9744 0.9747 0.9751 0.9753 0.9754 0.9755 0.9756 0.9758 0.9759\n",
      " 0.976  0.9762 0.9765 0.9766 0.9767 0.9768 0.9769]\n",
      "47 Selected:  ['MSRUMATIndex', 'EOKOS002Index260', 'MAPMINDXIndex', 'KOEXPTIIndex120', 'KOVMPRODIndex120', 'KOEAPYIndex', 'KOBONTLIndex120', 'LEIACEIndex1', 'SKLILAIIndex260', 'KOGFBALIndex60', 'KOBPTBIndex5', 'SKBSICSAIndex1', 'FRNTTOTLIndex', 'LEILCIIndex5', 'FRNTTOTLIndex1', 'MSRUMATIndex5', 'KOSPIIndex5', 'EMPRGBCIIndex60', 'SAARTOTLIndex20', 'PITLCHNGIndex', 'USTBEXPIndex1', 'SKLILCIndex260', 'LEIAVGWIndex1', 'KOBONTLIndex60', 'CICRTOTIndex60', 'LEIACEIndex5', 'SKLICONEIndex260', 'PRODNFR%Index', 'LMNIDS03Comdty60', 'KOVMEXPSIndex120', 'KOWDRIndex1', 'SKhynix_change', 'IXKIndex5', 'Micron_change', 'LEIMNOIndex1', 'CICRTOTIndex5', 'KOBPCAIndex20', 'KOVMTOTSIndex120', 'EMPRGBCIIndex20', 'MXWO0MTIndex20', 'NKYIndex60', 'SKLILAPIndex20', 'KODSDEPTIndex', 'EMPRGBCIIndex1', 'SKLIWNRSIndex1', 'SKLIWNRSIndex20', 'CINDIndex260', 'KOSPIIndex260']\n",
      "47 Score :  [0.6296 0.8111 0.8499 0.8763 0.894  0.9093 0.9191 0.9287 0.9344 0.9386\n",
      " 0.943  0.9456 0.9499 0.952  0.9539 0.9561 0.958  0.9596 0.9626 0.964\n",
      " 0.9652 0.9665 0.9676 0.9686 0.9693 0.97   0.9707 0.9718 0.9727 0.9734\n",
      " 0.974  0.9744 0.9747 0.9751 0.9753 0.9754 0.9755 0.9756 0.9758 0.9759\n",
      " 0.976  0.9762 0.9765 0.9766 0.9767 0.9768 0.9769 0.9771]\n",
      "48 Selected:  ['MSRUMATIndex', 'EOKOS002Index260', 'MAPMINDXIndex', 'KOEXPTIIndex120', 'KOVMPRODIndex120', 'KOEAPYIndex', 'KOBONTLIndex120', 'LEIACEIndex1', 'SKLILAIIndex260', 'KOGFBALIndex60', 'KOBPTBIndex5', 'SKBSICSAIndex1', 'FRNTTOTLIndex', 'LEILCIIndex5', 'FRNTTOTLIndex1', 'MSRUMATIndex5', 'KOSPIIndex5', 'EMPRGBCIIndex60', 'SAARTOTLIndex20', 'PITLCHNGIndex', 'USTBEXPIndex1', 'SKLILCIndex260', 'LEIAVGWIndex1', 'KOBONTLIndex60', 'CICRTOTIndex60', 'LEIACEIndex5', 'SKLICONEIndex260', 'PRODNFR%Index', 'LMNIDS03Comdty60', 'KOVMEXPSIndex120', 'KOWDRIndex1', 'SKhynix_change', 'IXKIndex5', 'Micron_change', 'LEIMNOIndex1', 'CICRTOTIndex5', 'KOBPCAIndex20', 'KOVMTOTSIndex120', 'EMPRGBCIIndex20', 'MXWO0MTIndex20', 'NKYIndex60', 'SKLILAPIndex20', 'KODSDEPTIndex', 'EMPRGBCIIndex1', 'SKLIWNRSIndex1', 'SKLIWNRSIndex20', 'CINDIndex260', 'KOSPIIndex260', 'SKLIIMPTIndex260']\n",
      "48 Score :  [0.6296 0.8111 0.8499 0.8763 0.894  0.9093 0.9191 0.9287 0.9344 0.9386\n",
      " 0.943  0.9456 0.9499 0.952  0.9539 0.9561 0.958  0.9596 0.9626 0.964\n",
      " 0.9652 0.9665 0.9676 0.9686 0.9693 0.97   0.9707 0.9718 0.9727 0.9734\n",
      " 0.974  0.9744 0.9747 0.9751 0.9753 0.9754 0.9755 0.9756 0.9758 0.9759\n",
      " 0.976  0.9762 0.9765 0.9766 0.9767 0.9768 0.9769 0.9771 0.9772]\n",
      "49 Selected:  ['MSRUMATIndex', 'EOKOS002Index260', 'MAPMINDXIndex', 'KOEXPTIIndex120', 'KOVMPRODIndex120', 'KOEAPYIndex', 'KOBONTLIndex120', 'LEIACEIndex1', 'SKLILAIIndex260', 'KOGFBALIndex60', 'KOBPTBIndex5', 'SKBSICSAIndex1', 'FRNTTOTLIndex', 'LEILCIIndex5', 'FRNTTOTLIndex1', 'MSRUMATIndex5', 'KOSPIIndex5', 'EMPRGBCIIndex60', 'SAARTOTLIndex20', 'PITLCHNGIndex', 'USTBEXPIndex1', 'SKLILCIndex260', 'LEIAVGWIndex1', 'KOBONTLIndex60', 'CICRTOTIndex60', 'LEIACEIndex5', 'SKLICONEIndex260', 'PRODNFR%Index', 'LMNIDS03Comdty60', 'KOVMEXPSIndex120', 'KOWDRIndex1', 'SKhynix_change', 'IXKIndex5', 'Micron_change', 'LEIMNOIndex1', 'CICRTOTIndex5', 'KOBPCAIndex20', 'KOVMTOTSIndex120', 'EMPRGBCIIndex20', 'MXWO0MTIndex20', 'NKYIndex60', 'SKLILAPIndex20', 'KODSDEPTIndex', 'EMPRGBCIIndex1', 'SKLIWNRSIndex1', 'SKLIWNRSIndex20', 'CINDIndex260', 'KOSPIIndex260', 'SKLIIMPTIndex260', 'OEKRN022Index120']\n",
      "49 Score :  [0.6296 0.8111 0.8499 0.8763 0.894  0.9093 0.9191 0.9287 0.9344 0.9386\n",
      " 0.943  0.9456 0.9499 0.952  0.9539 0.9561 0.958  0.9596 0.9626 0.964\n",
      " 0.9652 0.9665 0.9676 0.9686 0.9693 0.97   0.9707 0.9718 0.9727 0.9734\n",
      " 0.974  0.9744 0.9747 0.9751 0.9753 0.9754 0.9755 0.9756 0.9758 0.9759\n",
      " 0.976  0.9762 0.9765 0.9766 0.9767 0.9768 0.9769 0.9771 0.9772 0.9773]\n",
      "50 Selected:  ['MSRUMATIndex', 'EOKOS002Index260', 'MAPMINDXIndex', 'KOEXPTIIndex120', 'KOVMPRODIndex120', 'KOEAPYIndex', 'KOBONTLIndex120', 'LEIACEIndex1', 'SKLILAIIndex260', 'KOGFBALIndex60', 'KOBPTBIndex5', 'SKBSICSAIndex1', 'FRNTTOTLIndex', 'LEILCIIndex5', 'FRNTTOTLIndex1', 'MSRUMATIndex5', 'KOSPIIndex5', 'EMPRGBCIIndex60', 'SAARTOTLIndex20', 'PITLCHNGIndex', 'USTBEXPIndex1', 'SKLILCIndex260', 'LEIAVGWIndex1', 'KOBONTLIndex60', 'CICRTOTIndex60', 'LEIACEIndex5', 'SKLICONEIndex260', 'PRODNFR%Index', 'LMNIDS03Comdty60', 'KOVMEXPSIndex120', 'KOWDRIndex1', 'SKhynix_change', 'IXKIndex5', 'Micron_change', 'LEIMNOIndex1', 'CICRTOTIndex5', 'KOBPCAIndex20', 'KOVMTOTSIndex120', 'EMPRGBCIIndex20', 'MXWO0MTIndex20', 'NKYIndex60', 'SKLILAPIndex20', 'KODSDEPTIndex', 'EMPRGBCIIndex1', 'SKLIWNRSIndex1', 'SKLIWNRSIndex20', 'CINDIndex260', 'KOSPIIndex260', 'SKLIIMPTIndex260', 'OEKRN022Index120', 'XCIIndex5']\n",
      "50 Score :  [0.6296 0.8111 0.8499 0.8763 0.894  0.9093 0.9191 0.9287 0.9344 0.9386\n",
      " 0.943  0.9456 0.9499 0.952  0.9539 0.9561 0.958  0.9596 0.9626 0.964\n",
      " 0.9652 0.9665 0.9676 0.9686 0.9693 0.97   0.9707 0.9718 0.9727 0.9734\n",
      " 0.974  0.9744 0.9747 0.9751 0.9753 0.9754 0.9755 0.9756 0.9758 0.9759\n",
      " 0.976  0.9762 0.9765 0.9766 0.9767 0.9768 0.9769 0.9771 0.9772 0.9773\n",
      " 0.9774]\n",
      "51 Selected:  ['MSRUMATIndex', 'EOKOS002Index260', 'MAPMINDXIndex', 'KOEXPTIIndex120', 'KOVMPRODIndex120', 'KOEAPYIndex', 'KOBONTLIndex120', 'LEIACEIndex1', 'SKLILAIIndex260', 'KOGFBALIndex60', 'KOBPTBIndex5', 'SKBSICSAIndex1', 'FRNTTOTLIndex', 'LEILCIIndex5', 'FRNTTOTLIndex1', 'MSRUMATIndex5', 'KOSPIIndex5', 'EMPRGBCIIndex60', 'SAARTOTLIndex20', 'PITLCHNGIndex', 'USTBEXPIndex1', 'SKLILCIndex260', 'LEIAVGWIndex1', 'KOBONTLIndex60', 'CICRTOTIndex60', 'LEIACEIndex5', 'SKLICONEIndex260', 'PRODNFR%Index', 'LMNIDS03Comdty60', 'KOVMEXPSIndex120', 'KOWDRIndex1', 'SKhynix_change', 'IXKIndex5', 'Micron_change', 'LEIMNOIndex1', 'CICRTOTIndex5', 'KOBPCAIndex20', 'KOVMTOTSIndex120', 'EMPRGBCIIndex20', 'MXWO0MTIndex20', 'NKYIndex60', 'SKLILAPIndex20', 'KODSDEPTIndex', 'EMPRGBCIIndex1', 'SKLIWNRSIndex1', 'SKLIWNRSIndex20', 'CINDIndex260', 'KOSPIIndex260', 'SKLIIMPTIndex260', 'OEKRN022Index120', 'XCIIndex5', 'CL1Comdty5']\n",
      "51 Score :  [0.6296 0.8111 0.8499 0.8763 0.894  0.9093 0.9191 0.9287 0.9344 0.9386\n",
      " 0.943  0.9456 0.9499 0.952  0.9539 0.9561 0.958  0.9596 0.9626 0.964\n",
      " 0.9652 0.9665 0.9676 0.9686 0.9693 0.97   0.9707 0.9718 0.9727 0.9734\n",
      " 0.974  0.9744 0.9747 0.9751 0.9753 0.9754 0.9755 0.9756 0.9758 0.9759\n",
      " 0.976  0.9762 0.9765 0.9766 0.9767 0.9768 0.9769 0.9771 0.9772 0.9773\n",
      " 0.9774 0.9774]\n",
      "52 Selected:  ['MSRUMATIndex', 'EOKOS002Index260', 'MAPMINDXIndex', 'KOEXPTIIndex120', 'KOVMPRODIndex120', 'KOEAPYIndex', 'KOBONTLIndex120', 'LEIACEIndex1', 'SKLILAIIndex260', 'KOGFBALIndex60', 'KOBPTBIndex5', 'SKBSICSAIndex1', 'FRNTTOTLIndex', 'LEILCIIndex5', 'FRNTTOTLIndex1', 'MSRUMATIndex5', 'KOSPIIndex5', 'EMPRGBCIIndex60', 'SAARTOTLIndex20', 'PITLCHNGIndex', 'USTBEXPIndex1', 'SKLILCIndex260', 'LEIAVGWIndex1', 'KOBONTLIndex60', 'CICRTOTIndex60', 'LEIACEIndex5', 'SKLICONEIndex260', 'PRODNFR%Index', 'LMNIDS03Comdty60', 'KOVMEXPSIndex120', 'KOWDRIndex1', 'SKhynix_change', 'IXKIndex5', 'Micron_change', 'LEIMNOIndex1', 'CICRTOTIndex5', 'KOBPCAIndex20', 'KOVMTOTSIndex120', 'EMPRGBCIIndex20', 'MXWO0MTIndex20', 'NKYIndex60', 'SKLILAPIndex20', 'KODSDEPTIndex', 'EMPRGBCIIndex1', 'SKLIWNRSIndex1', 'SKLIWNRSIndex20', 'CINDIndex260', 'KOSPIIndex260', 'SKLIIMPTIndex260', 'OEKRN022Index120', 'XCIIndex5', 'CL1Comdty5', 'NMDPIndex1']\n",
      "52 Score :  [0.6296 0.8111 0.8499 0.8763 0.894  0.9093 0.9191 0.9287 0.9344 0.9386\n",
      " 0.943  0.9456 0.9499 0.952  0.9539 0.9561 0.958  0.9596 0.9626 0.964\n",
      " 0.9652 0.9665 0.9676 0.9686 0.9693 0.97   0.9707 0.9718 0.9727 0.9734\n",
      " 0.974  0.9744 0.9747 0.9751 0.9753 0.9754 0.9755 0.9756 0.9758 0.9759\n",
      " 0.976  0.9762 0.9765 0.9766 0.9767 0.9768 0.9769 0.9771 0.9772 0.9773\n",
      " 0.9774 0.9774 0.9775]\n",
      "53 Selected:  ['MSRUMATIndex', 'EOKOS002Index260', 'MAPMINDXIndex', 'KOEXPTIIndex120', 'KOVMPRODIndex120', 'KOEAPYIndex', 'KOBONTLIndex120', 'LEIACEIndex1', 'SKLILAIIndex260', 'KOGFBALIndex60', 'KOBPTBIndex5', 'SKBSICSAIndex1', 'FRNTTOTLIndex', 'LEILCIIndex5', 'FRNTTOTLIndex1', 'MSRUMATIndex5', 'KOSPIIndex5', 'EMPRGBCIIndex60', 'SAARTOTLIndex20', 'PITLCHNGIndex', 'USTBEXPIndex1', 'SKLILCIndex260', 'LEIAVGWIndex1', 'KOBONTLIndex60', 'CICRTOTIndex60', 'LEIACEIndex5', 'SKLICONEIndex260', 'PRODNFR%Index', 'LMNIDS03Comdty60', 'KOVMEXPSIndex120', 'KOWDRIndex1', 'SKhynix_change', 'IXKIndex5', 'Micron_change', 'LEIMNOIndex1', 'CICRTOTIndex5', 'KOBPCAIndex20', 'KOVMTOTSIndex120', 'EMPRGBCIIndex20', 'MXWO0MTIndex20', 'NKYIndex60', 'SKLILAPIndex20', 'KODSDEPTIndex', 'EMPRGBCIIndex1', 'SKLIWNRSIndex1', 'SKLIWNRSIndex20', 'CINDIndex260', 'KOSPIIndex260', 'SKLIIMPTIndex260', 'OEKRN022Index120', 'XCIIndex5', 'CL1Comdty5', 'NMDPIndex1', 'future_bit']\n",
      "53 Score :  [0.6296 0.8111 0.8499 0.8763 0.894  0.9093 0.9191 0.9287 0.9344 0.9386\n",
      " 0.943  0.9456 0.9499 0.952  0.9539 0.9561 0.958  0.9596 0.9626 0.964\n",
      " 0.9652 0.9665 0.9676 0.9686 0.9693 0.97   0.9707 0.9718 0.9727 0.9734\n",
      " 0.974  0.9744 0.9747 0.9751 0.9753 0.9754 0.9755 0.9756 0.9758 0.9759\n",
      " 0.976  0.9762 0.9765 0.9766 0.9767 0.9768 0.9769 0.9771 0.9772 0.9773\n",
      " 0.9774 0.9774 0.9775 0.9775]\n",
      "54 Selected:  ['MSRUMATIndex', 'EOKOS002Index260', 'MAPMINDXIndex', 'KOEXPTIIndex120', 'KOVMPRODIndex120', 'KOEAPYIndex', 'KOBONTLIndex120', 'LEIACEIndex1', 'SKLILAIIndex260', 'KOGFBALIndex60', 'KOBPTBIndex5', 'SKBSICSAIndex1', 'FRNTTOTLIndex', 'LEILCIIndex5', 'FRNTTOTLIndex1', 'MSRUMATIndex5', 'KOSPIIndex5', 'EMPRGBCIIndex60', 'SAARTOTLIndex20', 'PITLCHNGIndex', 'USTBEXPIndex1', 'SKLILCIndex260', 'LEIAVGWIndex1', 'KOBONTLIndex60', 'CICRTOTIndex60', 'LEIACEIndex5', 'SKLICONEIndex260', 'PRODNFR%Index', 'LMNIDS03Comdty60', 'KOVMEXPSIndex120', 'KOWDRIndex1', 'SKhynix_change', 'IXKIndex5', 'Micron_change', 'LEIMNOIndex1', 'CICRTOTIndex5', 'KOBPCAIndex20', 'KOVMTOTSIndex120', 'EMPRGBCIIndex20', 'MXWO0MTIndex20', 'NKYIndex60', 'SKLILAPIndex20', 'KODSDEPTIndex', 'EMPRGBCIIndex1', 'SKLIWNRSIndex1', 'SKLIWNRSIndex20', 'CINDIndex260', 'KOSPIIndex260', 'SKLIIMPTIndex260', 'OEKRN022Index120', 'XCIIndex5', 'CL1Comdty5', 'NMDPIndex1', 'future_bit', 'KOBPTBIndex20']\n",
      "54 Score :  [0.6296 0.8111 0.8499 0.8763 0.894  0.9093 0.9191 0.9287 0.9344 0.9386\n",
      " 0.943  0.9456 0.9499 0.952  0.9539 0.9561 0.958  0.9596 0.9626 0.964\n",
      " 0.9652 0.9665 0.9676 0.9686 0.9693 0.97   0.9707 0.9718 0.9727 0.9734\n",
      " 0.974  0.9744 0.9747 0.9751 0.9753 0.9754 0.9755 0.9756 0.9758 0.9759\n",
      " 0.976  0.9762 0.9765 0.9766 0.9767 0.9768 0.9769 0.9771 0.9772 0.9773\n",
      " 0.9774 0.9774 0.9775 0.9775 0.9776]\n",
      "55 Selected:  ['MSRUMATIndex', 'EOKOS002Index260', 'MAPMINDXIndex', 'KOEXPTIIndex120', 'KOVMPRODIndex120', 'KOEAPYIndex', 'KOBONTLIndex120', 'LEIACEIndex1', 'SKLILAIIndex260', 'KOGFBALIndex60', 'KOBPTBIndex5', 'SKBSICSAIndex1', 'FRNTTOTLIndex', 'LEILCIIndex5', 'FRNTTOTLIndex1', 'MSRUMATIndex5', 'KOSPIIndex5', 'EMPRGBCIIndex60', 'SAARTOTLIndex20', 'PITLCHNGIndex', 'USTBEXPIndex1', 'SKLILCIndex260', 'LEIAVGWIndex1', 'KOBONTLIndex60', 'CICRTOTIndex60', 'LEIACEIndex5', 'SKLICONEIndex260', 'PRODNFR%Index', 'LMNIDS03Comdty60', 'KOVMEXPSIndex120', 'KOWDRIndex1', 'SKhynix_change', 'IXKIndex5', 'Micron_change', 'LEIMNOIndex1', 'CICRTOTIndex5', 'KOBPCAIndex20', 'KOVMTOTSIndex120', 'EMPRGBCIIndex20', 'MXWO0MTIndex20', 'NKYIndex60', 'SKLILAPIndex20', 'KODSDEPTIndex', 'EMPRGBCIIndex1', 'SKLIWNRSIndex1', 'SKLIWNRSIndex20', 'CINDIndex260', 'KOSPIIndex260', 'SKLIIMPTIndex260', 'OEKRN022Index120', 'XCIIndex5', 'CL1Comdty5', 'NMDPIndex1', 'future_bit', 'KOBPTBIndex20', 'LMCADS03Comdty1']\n",
      "55 Score :  [0.6296 0.8111 0.8499 0.8763 0.894  0.9093 0.9191 0.9287 0.9344 0.9386\n",
      " 0.943  0.9456 0.9499 0.952  0.9539 0.9561 0.958  0.9596 0.9626 0.964\n",
      " 0.9652 0.9665 0.9676 0.9686 0.9693 0.97   0.9707 0.9718 0.9727 0.9734\n",
      " 0.974  0.9744 0.9747 0.9751 0.9753 0.9754 0.9755 0.9756 0.9758 0.9759\n",
      " 0.976  0.9762 0.9765 0.9766 0.9767 0.9768 0.9769 0.9771 0.9772 0.9773\n",
      " 0.9774 0.9774 0.9775 0.9775 0.9776 0.9776]\n",
      "56 Selected:  ['MSRUMATIndex', 'EOKOS002Index260', 'MAPMINDXIndex', 'KOEXPTIIndex120', 'KOVMPRODIndex120', 'KOEAPYIndex', 'KOBONTLIndex120', 'LEIACEIndex1', 'SKLILAIIndex260', 'KOGFBALIndex60', 'KOBPTBIndex5', 'SKBSICSAIndex1', 'FRNTTOTLIndex', 'LEILCIIndex5', 'FRNTTOTLIndex1', 'MSRUMATIndex5', 'KOSPIIndex5', 'EMPRGBCIIndex60', 'SAARTOTLIndex20', 'PITLCHNGIndex', 'USTBEXPIndex1', 'SKLILCIndex260', 'LEIAVGWIndex1', 'KOBONTLIndex60', 'CICRTOTIndex60', 'LEIACEIndex5', 'SKLICONEIndex260', 'PRODNFR%Index', 'LMNIDS03Comdty60', 'KOVMEXPSIndex120', 'KOWDRIndex1', 'SKhynix_change', 'IXKIndex5', 'Micron_change', 'LEIMNOIndex1', 'CICRTOTIndex5', 'KOBPCAIndex20', 'KOVMTOTSIndex120', 'EMPRGBCIIndex20', 'MXWO0MTIndex20', 'NKYIndex60', 'SKLILAPIndex20', 'KODSDEPTIndex', 'EMPRGBCIIndex1', 'SKLIWNRSIndex1', 'SKLIWNRSIndex20', 'CINDIndex260', 'KOSPIIndex260', 'SKLIIMPTIndex260', 'OEKRN022Index120', 'XCIIndex5', 'CL1Comdty5', 'NMDPIndex1', 'future_bit', 'KOBPTBIndex20', 'LMCADS03Comdty1', 'Philadelphia_product']\n",
      "56 Score :  [0.6296 0.8111 0.8499 0.8763 0.894  0.9093 0.9191 0.9287 0.9344 0.9386\n",
      " 0.943  0.9456 0.9499 0.952  0.9539 0.9561 0.958  0.9596 0.9626 0.964\n",
      " 0.9652 0.9665 0.9676 0.9686 0.9693 0.97   0.9707 0.9718 0.9727 0.9734\n",
      " 0.974  0.9744 0.9747 0.9751 0.9753 0.9754 0.9755 0.9756 0.9758 0.9759\n",
      " 0.976  0.9762 0.9765 0.9766 0.9767 0.9768 0.9769 0.9771 0.9772 0.9773\n",
      " 0.9774 0.9774 0.9775 0.9775 0.9776 0.9776 0.9777]\n"
     ]
    },
    {
     "ename": "KeyboardInterrupt",
     "evalue": "",
     "output_type": "error",
     "traceback": [
      "\u001b[1;31m---------------------------------------------------------------------------\u001b[0m",
      "\u001b[1;31mKeyboardInterrupt\u001b[0m                         Traceback (most recent call last)",
      "\u001b[1;32m<ipython-input-32-33a6cef347a7>\u001b[0m in \u001b[0;36m<module>\u001b[1;34m\u001b[0m\n\u001b[0;32m     16\u001b[0m         \u001b[0mx_temp\u001b[0m \u001b[1;33m=\u001b[0m \u001b[0mX_train\u001b[0m\u001b[1;33m[\u001b[0m\u001b[0mtemp\u001b[0m\u001b[1;33m]\u001b[0m\u001b[1;33m\u001b[0m\u001b[1;33m\u001b[0m\u001b[0m\n\u001b[0;32m     17\u001b[0m         \u001b[0mlr_temp\u001b[0m \u001b[1;33m=\u001b[0m \u001b[0mLinearRegression\u001b[0m\u001b[1;33m(\u001b[0m\u001b[1;33m)\u001b[0m\u001b[1;33m\u001b[0m\u001b[1;33m\u001b[0m\u001b[0m\n\u001b[1;32m---> 18\u001b[1;33m         \u001b[0mlr_temp\u001b[0m\u001b[1;33m.\u001b[0m\u001b[0mfit\u001b[0m\u001b[1;33m(\u001b[0m\u001b[0mx_temp\u001b[0m\u001b[1;33m,\u001b[0m \u001b[0my_train\u001b[0m\u001b[1;33m)\u001b[0m\u001b[1;33m\u001b[0m\u001b[1;33m\u001b[0m\u001b[0m\n\u001b[0m\u001b[0;32m     19\u001b[0m         \u001b[0mpredict_temp\u001b[0m \u001b[1;33m=\u001b[0m \u001b[0mlr_temp\u001b[0m\u001b[1;33m.\u001b[0m\u001b[0mpredict\u001b[0m\u001b[1;33m(\u001b[0m\u001b[0mX_test\u001b[0m\u001b[1;33m[\u001b[0m\u001b[0mtemp\u001b[0m\u001b[1;33m]\u001b[0m\u001b[1;33m)\u001b[0m\u001b[1;33m\u001b[0m\u001b[1;33m\u001b[0m\u001b[0m\n\u001b[0;32m     20\u001b[0m         \u001b[0mr2_temp\u001b[0m \u001b[1;33m=\u001b[0m \u001b[0mr2_score\u001b[0m\u001b[1;33m(\u001b[0m\u001b[0my_test\u001b[0m\u001b[1;33m,\u001b[0m \u001b[0mpredict_temp\u001b[0m\u001b[1;33m)\u001b[0m\u001b[1;33m\u001b[0m\u001b[1;33m\u001b[0m\u001b[0m\n",
      "\u001b[1;32m~\\Anaconda3\\lib\\site-packages\\sklearn\\linear_model\\_base.py\u001b[0m in \u001b[0;36mfit\u001b[1;34m(self, X, y, sample_weight)\u001b[0m\n\u001b[0;32m    531\u001b[0m         \u001b[1;32melse\u001b[0m\u001b[1;33m:\u001b[0m\u001b[1;33m\u001b[0m\u001b[1;33m\u001b[0m\u001b[0m\n\u001b[0;32m    532\u001b[0m             \u001b[0mself\u001b[0m\u001b[1;33m.\u001b[0m\u001b[0mcoef_\u001b[0m\u001b[1;33m,\u001b[0m \u001b[0mself\u001b[0m\u001b[1;33m.\u001b[0m\u001b[0m_residues\u001b[0m\u001b[1;33m,\u001b[0m \u001b[0mself\u001b[0m\u001b[1;33m.\u001b[0m\u001b[0mrank_\u001b[0m\u001b[1;33m,\u001b[0m \u001b[0mself\u001b[0m\u001b[1;33m.\u001b[0m\u001b[0msingular_\u001b[0m \u001b[1;33m=\u001b[0m\u001b[0;31m \u001b[0m\u001b[0;31m\\\u001b[0m\u001b[1;33m\u001b[0m\u001b[1;33m\u001b[0m\u001b[0m\n\u001b[1;32m--> 533\u001b[1;33m                 \u001b[0mlinalg\u001b[0m\u001b[1;33m.\u001b[0m\u001b[0mlstsq\u001b[0m\u001b[1;33m(\u001b[0m\u001b[0mX\u001b[0m\u001b[1;33m,\u001b[0m \u001b[0my\u001b[0m\u001b[1;33m)\u001b[0m\u001b[1;33m\u001b[0m\u001b[1;33m\u001b[0m\u001b[0m\n\u001b[0m\u001b[0;32m    534\u001b[0m             \u001b[0mself\u001b[0m\u001b[1;33m.\u001b[0m\u001b[0mcoef_\u001b[0m \u001b[1;33m=\u001b[0m \u001b[0mself\u001b[0m\u001b[1;33m.\u001b[0m\u001b[0mcoef_\u001b[0m\u001b[1;33m.\u001b[0m\u001b[0mT\u001b[0m\u001b[1;33m\u001b[0m\u001b[1;33m\u001b[0m\u001b[0m\n\u001b[0;32m    535\u001b[0m \u001b[1;33m\u001b[0m\u001b[0m\n",
      "\u001b[1;32m~\\Anaconda3\\lib\\site-packages\\scipy\\linalg\\basic.py\u001b[0m in \u001b[0;36mlstsq\u001b[1;34m(a, b, cond, overwrite_a, overwrite_b, check_finite, lapack_driver)\u001b[0m\n\u001b[0;32m   1214\u001b[0m                 \u001b[0mlwork\u001b[0m\u001b[1;33m,\u001b[0m \u001b[0miwork\u001b[0m \u001b[1;33m=\u001b[0m \u001b[0m_compute_lwork\u001b[0m\u001b[1;33m(\u001b[0m\u001b[0mlapack_lwork\u001b[0m\u001b[1;33m,\u001b[0m \u001b[0mm\u001b[0m\u001b[1;33m,\u001b[0m \u001b[0mn\u001b[0m\u001b[1;33m,\u001b[0m \u001b[0mnrhs\u001b[0m\u001b[1;33m,\u001b[0m \u001b[0mcond\u001b[0m\u001b[1;33m)\u001b[0m\u001b[1;33m\u001b[0m\u001b[1;33m\u001b[0m\u001b[0m\n\u001b[0;32m   1215\u001b[0m                 x, s, rank, info = lapack_func(a1, b1, lwork,\n\u001b[1;32m-> 1216\u001b[1;33m                                                iwork, cond, False, False)\n\u001b[0m\u001b[0;32m   1217\u001b[0m             \u001b[1;32melse\u001b[0m\u001b[1;33m:\u001b[0m  \u001b[1;31m# complex data\u001b[0m\u001b[1;33m\u001b[0m\u001b[1;33m\u001b[0m\u001b[0m\n\u001b[0;32m   1218\u001b[0m                 lwork, rwork, iwork = _compute_lwork(lapack_lwork, m, n,\n",
      "\u001b[1;31mKeyboardInterrupt\u001b[0m: "
     ]
    }
   ],
   "source": [
    "## Feature Selection Code\n",
    "# Forward stepwise feature selection\n",
    "# linear model 기준으로 유효 feature 뽑기. 돌리지 않아도 되는 코드\n",
    "\n",
    "np.random.seed(0)\n",
    "\n",
    "feature_name = list(X_train.columns)\n",
    "feature_selected = []\n",
    "score = []\n",
    "\n",
    "for i in range(X_train.shape[1]):\n",
    "    score_temp_list = np.zeros(len(feature_name))\n",
    "    for j in range(len(feature_name)):\n",
    "        temp = feature_selected.copy() \n",
    "        temp.append(feature_name[j])\n",
    "        x_temp = X_train[temp]\n",
    "        lr_temp = LinearRegression() \n",
    "        lr_temp.fit(x_temp, y_train)\n",
    "        predict_temp = lr_temp.predict(X_test[temp])\n",
    "        r2_temp = r2_score(y_test, predict_temp)\n",
    "        score_temp = r2_temp\n",
    "        score_temp_list[j] = score_temp \n",
    "        \n",
    "    temp = feature_name[score_temp_list.argmax()]\n",
    "    feature_selected.append(temp)\n",
    "    feature_name.remove(temp)\n",
    "    score.append(score_temp_list.max())\n",
    "    print(\"%02d Selected: \"%i, feature_selected)\n",
    "    print(\"%02d Score : \"%i, np.round(10000*np.array(score))/10000)\n",
    "        \n",
    "# finally selected features\n",
    "feature_selected_final = feature_selected[:(np.array(score).argmax() + 1)]"
   ]
  },
  {
   "cell_type": "markdown",
   "metadata": {},
   "source": [
    "# 변수 추출 완료"
   ]
  },
  {
   "cell_type": "code",
   "execution_count": 34,
   "metadata": {},
   "outputs": [],
   "source": [
    "df['KRXsemiconductor_close'] = y_target"
   ]
  },
  {
   "cell_type": "code",
   "execution_count": 35,
   "metadata": {},
   "outputs": [],
   "source": [
    "a, b = dmatrices('KRXsemiconductor_close ~ MSRUMATIndex+ EOKOS002Index260+ MAPMINDXIndex+ KOEXPTIIndex120+ KOVMPRODIndex120+ KOEAPYIndex+ KOBONTLIndex120+ LEIACEIndex1+ SKLILAIIndex260+ KOGFBALIndex60+ KOBPTBIndex5+ SKBSICSAIndex1+ FRNTTOTLIndex+ LEILCIIndex5+ FRNTTOTLIndex1+ MSRUMATIndex5+ KOSPIIndex5+ EMPRGBCIIndex60+ SAARTOTLIndex20+ PITLCHNGIndex+ USTBEXPIndex1+ SKLILCIndex260+ LEIAVGWIndex1+ KOBONTLIndex60+ CICRTOTIndex60+ LEIACEIndex5+ SKLICONEIndex260+ LMNIDS03Comdty60+ KOVMEXPSIndex120+ KOWDRIndex1+ SKhynix_change+ IXKIndex5+ Micron_change+ LEIMNOIndex1+ CICRTOTIndex5+ KOBPCAIndex20+ KOVMTOTSIndex120+ EMPRGBCIIndex20+ MXWO0MTIndex20+ NKYIndex60+ SKLILAPIndex20+ KODSDEPTIndex+ EMPRGBCIIndex1+ SKLIWNRSIndex1+ SKLIWNRSIndex20+ CINDIndex260+ KOSPIIndex260+ SKLIIMPTIndex260+ OEKRN022Index120+ XCIIndex5+ CL1Comdty5+ NMDPIndex1+ future_bit+ KOBPTBIndex20', df, return_type = 'dataframe')"
   ]
  },
  {
   "cell_type": "code",
   "execution_count": 36,
   "metadata": {},
   "outputs": [
    {
     "data": {
      "text/html": [
       "<div>\n",
       "<style scoped>\n",
       "    .dataframe tbody tr th:only-of-type {\n",
       "        vertical-align: middle;\n",
       "    }\n",
       "\n",
       "    .dataframe tbody tr th {\n",
       "        vertical-align: top;\n",
       "    }\n",
       "\n",
       "    .dataframe thead th {\n",
       "        text-align: right;\n",
       "    }\n",
       "</style>\n",
       "<table border=\"1\" class=\"dataframe\">\n",
       "  <thead>\n",
       "    <tr style=\"text-align: right;\">\n",
       "      <th></th>\n",
       "      <th>VIF Factor</th>\n",
       "      <th>features</th>\n",
       "    </tr>\n",
       "  </thead>\n",
       "  <tbody>\n",
       "    <tr>\n",
       "      <th>0</th>\n",
       "      <td>1.034140</td>\n",
       "      <td>Intercept</td>\n",
       "    </tr>\n",
       "    <tr>\n",
       "      <th>1</th>\n",
       "      <td>2.975671</td>\n",
       "      <td>MSRUMATIndex</td>\n",
       "    </tr>\n",
       "    <tr>\n",
       "      <th>2</th>\n",
       "      <td>2.064704</td>\n",
       "      <td>EOKOS002Index260</td>\n",
       "    </tr>\n",
       "    <tr>\n",
       "      <th>3</th>\n",
       "      <td>2.266077</td>\n",
       "      <td>MAPMINDXIndex</td>\n",
       "    </tr>\n",
       "    <tr>\n",
       "      <th>4</th>\n",
       "      <td>2.176018</td>\n",
       "      <td>KOEXPTIIndex120</td>\n",
       "    </tr>\n",
       "    <tr>\n",
       "      <th>...</th>\n",
       "      <td>...</td>\n",
       "      <td>...</td>\n",
       "    </tr>\n",
       "    <tr>\n",
       "      <th>50</th>\n",
       "      <td>36.923474</td>\n",
       "      <td>XCIIndex5</td>\n",
       "    </tr>\n",
       "    <tr>\n",
       "      <th>51</th>\n",
       "      <td>1.322710</td>\n",
       "      <td>CL1Comdty5</td>\n",
       "    </tr>\n",
       "    <tr>\n",
       "      <th>52</th>\n",
       "      <td>1.273514</td>\n",
       "      <td>NMDPIndex1</td>\n",
       "    </tr>\n",
       "    <tr>\n",
       "      <th>53</th>\n",
       "      <td>1.142339</td>\n",
       "      <td>future_bit</td>\n",
       "    </tr>\n",
       "    <tr>\n",
       "      <th>54</th>\n",
       "      <td>4.862812</td>\n",
       "      <td>KOBPTBIndex20</td>\n",
       "    </tr>\n",
       "  </tbody>\n",
       "</table>\n",
       "<p>55 rows × 2 columns</p>\n",
       "</div>"
      ],
      "text/plain": [
       "    VIF Factor          features\n",
       "0     1.034140         Intercept\n",
       "1     2.975671      MSRUMATIndex\n",
       "2     2.064704  EOKOS002Index260\n",
       "3     2.266077     MAPMINDXIndex\n",
       "4     2.176018   KOEXPTIIndex120\n",
       "..         ...               ...\n",
       "50   36.923474         XCIIndex5\n",
       "51    1.322710        CL1Comdty5\n",
       "52    1.273514        NMDPIndex1\n",
       "53    1.142339        future_bit\n",
       "54    4.862812     KOBPTBIndex20\n",
       "\n",
       "[55 rows x 2 columns]"
      ]
     },
     "execution_count": 36,
     "metadata": {},
     "output_type": "execute_result"
    }
   ],
   "source": [
    "vif = pd.DataFrame()\n",
    "vif[\"VIF Factor\"] = [variance_inflation_factor(b.values, i) for i in range(b.shape[1])]\n",
    "vif[\"features\"] = b.columns \n",
    "vif"
   ]
  },
  {
   "cell_type": "code",
   "execution_count": 37,
   "metadata": {},
   "outputs": [],
   "source": [
    "vif.drop(0, inplace = True)"
   ]
  },
  {
   "cell_type": "code",
   "execution_count": 38,
   "metadata": {},
   "outputs": [],
   "source": [
    "vif.sort_values(by = 'VIF Factor', inplace = True)"
   ]
  },
  {
   "cell_type": "code",
   "execution_count": 39,
   "metadata": {},
   "outputs": [],
   "source": [
    "vif_columns = vif[vif['VIF Factor']  <=  10].features"
   ]
  },
  {
   "cell_type": "code",
   "execution_count": 48,
   "metadata": {},
   "outputs": [
    {
     "data": {
      "text/plain": [
       "['future_bit',\n",
       " 'SKhynix_change',\n",
       " 'CICRTOTIndex5',\n",
       " 'KOBPCAIndex20',\n",
       " 'NMDPIndex1',\n",
       " 'Micron_change',\n",
       " 'CICRTOTIndex60',\n",
       " 'CL1Comdty5',\n",
       " 'SAARTOTLIndex20',\n",
       " 'LEIMNOIndex1',\n",
       " 'FRNTTOTLIndex1',\n",
       " 'LEIAVGWIndex1',\n",
       " 'PITLCHNGIndex',\n",
       " 'KOGFBALIndex60',\n",
       " 'KOWDRIndex1',\n",
       " 'KODSDEPTIndex',\n",
       " 'LEILCIIndex5',\n",
       " 'FRNTTOTLIndex',\n",
       " 'MXWO0MTIndex20',\n",
       " 'KOEAPYIndex',\n",
       " 'USTBEXPIndex1',\n",
       " 'SKBSICSAIndex1',\n",
       " 'SKLILAPIndex20',\n",
       " 'NKYIndex60',\n",
       " 'KOSPIIndex5',\n",
       " 'KOBONTLIndex60',\n",
       " 'LMNIDS03Comdty60',\n",
       " 'EOKOS002Index260',\n",
       " 'KOEXPTIIndex120',\n",
       " 'MAPMINDXIndex',\n",
       " 'KOBONTLIndex120',\n",
       " 'OEKRN022Index120',\n",
       " 'EMPRGBCIIndex60',\n",
       " 'MSRUMATIndex5',\n",
       " 'MSRUMATIndex',\n",
       " 'SKLICONEIndex260',\n",
       " 'SKLIIMPTIndex260',\n",
       " 'EMPRGBCIIndex1',\n",
       " 'CINDIndex260',\n",
       " 'SKLIWNRSIndex1',\n",
       " 'SKLIWNRSIndex20',\n",
       " 'EMPRGBCIIndex20',\n",
       " 'KOBPTBIndex20',\n",
       " 'KOSPIIndex260',\n",
       " 'KOBPTBIndex5',\n",
       " 'SKLILAIIndex260',\n",
       " 'SKLILCIndex260']"
      ]
     },
     "execution_count": 48,
     "metadata": {},
     "output_type": "execute_result"
    }
   ],
   "source": [
    "list(vif_columns)"
   ]
  },
  {
   "cell_type": "code",
   "execution_count": 49,
   "metadata": {},
   "outputs": [],
   "source": [
    "df = df[list(vif_columns)]"
   ]
  },
  {
   "cell_type": "code",
   "execution_count": 52,
   "metadata": {},
   "outputs": [],
   "source": [
    "df['KRXsemiconductor_close'] = y_target"
   ]
  },
  {
   "cell_type": "code",
   "execution_count": 62,
   "metadata": {},
   "outputs": [],
   "source": [
    "df.drop('KRXsemiconductor_close', axis = 1, inplace = True)"
   ]
  },
  {
   "cell_type": "code",
   "execution_count": 63,
   "metadata": {},
   "outputs": [],
   "source": [
    "X_data = df"
   ]
  },
  {
   "cell_type": "code",
   "execution_count": 64,
   "metadata": {},
   "outputs": [],
   "source": [
    "X_train, X_test, y_train, y_test = train_test_split(X_data, y_target, test_size = 0.2, shuffle = False)"
   ]
  },
  {
   "cell_type": "code",
   "execution_count": 65,
   "metadata": {},
   "outputs": [
    {
     "data": {
      "text/html": [
       "<div>\n",
       "<style scoped>\n",
       "    .dataframe tbody tr th:only-of-type {\n",
       "        vertical-align: middle;\n",
       "    }\n",
       "\n",
       "    .dataframe tbody tr th {\n",
       "        vertical-align: top;\n",
       "    }\n",
       "\n",
       "    .dataframe thead th {\n",
       "        text-align: right;\n",
       "    }\n",
       "</style>\n",
       "<table border=\"1\" class=\"dataframe\">\n",
       "  <thead>\n",
       "    <tr style=\"text-align: right;\">\n",
       "      <th></th>\n",
       "      <th>future_bit</th>\n",
       "      <th>SKhynix_change</th>\n",
       "      <th>CICRTOTIndex5</th>\n",
       "      <th>KOBPCAIndex20</th>\n",
       "      <th>NMDPIndex1</th>\n",
       "      <th>Micron_change</th>\n",
       "      <th>CICRTOTIndex60</th>\n",
       "      <th>CL1Comdty5</th>\n",
       "      <th>SAARTOTLIndex20</th>\n",
       "      <th>LEIMNOIndex1</th>\n",
       "      <th>FRNTTOTLIndex1</th>\n",
       "      <th>LEIAVGWIndex1</th>\n",
       "      <th>PITLCHNGIndex</th>\n",
       "      <th>KOGFBALIndex60</th>\n",
       "      <th>KOWDRIndex1</th>\n",
       "      <th>KODSDEPTIndex</th>\n",
       "      <th>LEILCIIndex5</th>\n",
       "      <th>FRNTTOTLIndex</th>\n",
       "      <th>MXWO0MTIndex20</th>\n",
       "      <th>KOEAPYIndex</th>\n",
       "      <th>USTBEXPIndex1</th>\n",
       "      <th>SKBSICSAIndex1</th>\n",
       "      <th>SKLILAPIndex20</th>\n",
       "      <th>NKYIndex60</th>\n",
       "      <th>KOSPIIndex5</th>\n",
       "      <th>KOBONTLIndex60</th>\n",
       "      <th>LMNIDS03Comdty60</th>\n",
       "      <th>EOKOS002Index260</th>\n",
       "      <th>KOEXPTIIndex120</th>\n",
       "      <th>MAPMINDXIndex</th>\n",
       "      <th>KOBONTLIndex120</th>\n",
       "      <th>OEKRN022Index120</th>\n",
       "      <th>EMPRGBCIIndex60</th>\n",
       "      <th>MSRUMATIndex5</th>\n",
       "      <th>MSRUMATIndex</th>\n",
       "      <th>SKLICONEIndex260</th>\n",
       "      <th>SKLIIMPTIndex260</th>\n",
       "      <th>EMPRGBCIIndex1</th>\n",
       "      <th>CINDIndex260</th>\n",
       "      <th>SKLIWNRSIndex1</th>\n",
       "      <th>SKLIWNRSIndex20</th>\n",
       "      <th>EMPRGBCIIndex20</th>\n",
       "      <th>KOBPTBIndex20</th>\n",
       "      <th>KOSPIIndex260</th>\n",
       "      <th>KOBPTBIndex5</th>\n",
       "      <th>SKLILAIIndex260</th>\n",
       "      <th>SKLILCIndex260</th>\n",
       "    </tr>\n",
       "  </thead>\n",
       "  <tbody>\n",
       "    <tr>\n",
       "      <th>0</th>\n",
       "      <td>1.752228</td>\n",
       "      <td>-0.173969</td>\n",
       "      <td>0.747998</td>\n",
       "      <td>0.093009</td>\n",
       "      <td>-0.154570</td>\n",
       "      <td>-0.508475</td>\n",
       "      <td>0.045404</td>\n",
       "      <td>-0.575493</td>\n",
       "      <td>-0.527976</td>\n",
       "      <td>-0.141249</td>\n",
       "      <td>1.519725</td>\n",
       "      <td>-1.036813</td>\n",
       "      <td>-0.207232</td>\n",
       "      <td>0.336738</td>\n",
       "      <td>0.006240</td>\n",
       "      <td>-0.502434</td>\n",
       "      <td>0.052504</td>\n",
       "      <td>0.657451</td>\n",
       "      <td>-0.689023</td>\n",
       "      <td>0.291754</td>\n",
       "      <td>0.587230</td>\n",
       "      <td>-0.403698</td>\n",
       "      <td>0.093280</td>\n",
       "      <td>0.724302</td>\n",
       "      <td>0.423104</td>\n",
       "      <td>1.792706</td>\n",
       "      <td>1.113199</td>\n",
       "      <td>-0.522922</td>\n",
       "      <td>0.192270</td>\n",
       "      <td>0.162068</td>\n",
       "      <td>2.174250</td>\n",
       "      <td>-0.231319</td>\n",
       "      <td>-0.854135</td>\n",
       "      <td>-0.359087</td>\n",
       "      <td>-0.683596</td>\n",
       "      <td>-0.669802</td>\n",
       "      <td>-0.187272</td>\n",
       "      <td>-0.752030</td>\n",
       "      <td>-0.442193</td>\n",
       "      <td>-0.610611</td>\n",
       "      <td>-1.432895</td>\n",
       "      <td>-1.236512</td>\n",
       "      <td>-1.296787</td>\n",
       "      <td>-0.329895</td>\n",
       "      <td>-0.758723</td>\n",
       "      <td>-0.498798</td>\n",
       "      <td>-0.427145</td>\n",
       "    </tr>\n",
       "    <tr>\n",
       "      <th>1</th>\n",
       "      <td>1.752228</td>\n",
       "      <td>-1.038153</td>\n",
       "      <td>0.766933</td>\n",
       "      <td>0.130796</td>\n",
       "      <td>0.008938</td>\n",
       "      <td>-0.229466</td>\n",
       "      <td>0.086003</td>\n",
       "      <td>-1.042466</td>\n",
       "      <td>-0.663607</td>\n",
       "      <td>-0.146064</td>\n",
       "      <td>1.569008</td>\n",
       "      <td>-1.116656</td>\n",
       "      <td>-0.204216</td>\n",
       "      <td>0.358034</td>\n",
       "      <td>0.006240</td>\n",
       "      <td>-0.549732</td>\n",
       "      <td>0.080217</td>\n",
       "      <td>0.729580</td>\n",
       "      <td>-0.725645</td>\n",
       "      <td>0.315963</td>\n",
       "      <td>0.645855</td>\n",
       "      <td>-0.425074</td>\n",
       "      <td>0.061622</td>\n",
       "      <td>0.756119</td>\n",
       "      <td>0.126603</td>\n",
       "      <td>1.677692</td>\n",
       "      <td>1.003249</td>\n",
       "      <td>-0.522922</td>\n",
       "      <td>0.216718</td>\n",
       "      <td>0.211177</td>\n",
       "      <td>2.089439</td>\n",
       "      <td>-0.188617</td>\n",
       "      <td>-0.910049</td>\n",
       "      <td>0.126937</td>\n",
       "      <td>-0.658373</td>\n",
       "      <td>-0.675007</td>\n",
       "      <td>-0.182171</td>\n",
       "      <td>-0.709553</td>\n",
       "      <td>-0.373935</td>\n",
       "      <td>-0.561595</td>\n",
       "      <td>-1.354676</td>\n",
       "      <td>-1.200043</td>\n",
       "      <td>-1.241558</td>\n",
       "      <td>-0.388474</td>\n",
       "      <td>-0.687880</td>\n",
       "      <td>-0.497000</td>\n",
       "      <td>-0.417856</td>\n",
       "    </tr>\n",
       "    <tr>\n",
       "      <th>2</th>\n",
       "      <td>1.752228</td>\n",
       "      <td>-0.291682</td>\n",
       "      <td>0.782090</td>\n",
       "      <td>0.168241</td>\n",
       "      <td>-1.034588</td>\n",
       "      <td>0.269812</td>\n",
       "      <td>0.126756</td>\n",
       "      <td>-0.895933</td>\n",
       "      <td>-0.796578</td>\n",
       "      <td>-0.145817</td>\n",
       "      <td>1.608628</td>\n",
       "      <td>-1.190010</td>\n",
       "      <td>-0.200274</td>\n",
       "      <td>0.377796</td>\n",
       "      <td>0.006240</td>\n",
       "      <td>-0.596291</td>\n",
       "      <td>0.104127</td>\n",
       "      <td>0.803544</td>\n",
       "      <td>-0.780198</td>\n",
       "      <td>0.340276</td>\n",
       "      <td>0.699032</td>\n",
       "      <td>-0.441253</td>\n",
       "      <td>0.029948</td>\n",
       "      <td>0.858950</td>\n",
       "      <td>0.093841</td>\n",
       "      <td>1.558286</td>\n",
       "      <td>1.125098</td>\n",
       "      <td>-0.522922</td>\n",
       "      <td>0.241722</td>\n",
       "      <td>0.260790</td>\n",
       "      <td>2.002131</td>\n",
       "      <td>-0.146868</td>\n",
       "      <td>-0.964074</td>\n",
       "      <td>0.486519</td>\n",
       "      <td>-0.609060</td>\n",
       "      <td>-0.680135</td>\n",
       "      <td>-0.176828</td>\n",
       "      <td>-0.667480</td>\n",
       "      <td>-0.439050</td>\n",
       "      <td>-0.518370</td>\n",
       "      <td>-1.276128</td>\n",
       "      <td>-1.161233</td>\n",
       "      <td>-1.182589</td>\n",
       "      <td>-0.418587</td>\n",
       "      <td>-0.615886</td>\n",
       "      <td>-0.494866</td>\n",
       "      <td>-0.408643</td>\n",
       "    </tr>\n",
       "    <tr>\n",
       "      <th>3</th>\n",
       "      <td>0.000000</td>\n",
       "      <td>-1.084089</td>\n",
       "      <td>0.793471</td>\n",
       "      <td>0.205095</td>\n",
       "      <td>-1.738396</td>\n",
       "      <td>-0.368971</td>\n",
       "      <td>0.167529</td>\n",
       "      <td>-1.410184</td>\n",
       "      <td>-0.925870</td>\n",
       "      <td>-0.140507</td>\n",
       "      <td>1.638586</td>\n",
       "      <td>-1.256875</td>\n",
       "      <td>-0.195465</td>\n",
       "      <td>0.395907</td>\n",
       "      <td>0.006240</td>\n",
       "      <td>-0.641911</td>\n",
       "      <td>0.124234</td>\n",
       "      <td>0.878896</td>\n",
       "      <td>-0.996201</td>\n",
       "      <td>0.364549</td>\n",
       "      <td>0.746761</td>\n",
       "      <td>-0.452236</td>\n",
       "      <td>-0.001520</td>\n",
       "      <td>0.561892</td>\n",
       "      <td>-0.635025</td>\n",
       "      <td>1.434940</td>\n",
       "      <td>1.055841</td>\n",
       "      <td>-0.522922</td>\n",
       "      <td>0.267171</td>\n",
       "      <td>0.310623</td>\n",
       "      <td>1.912783</td>\n",
       "      <td>-0.106071</td>\n",
       "      <td>-1.016065</td>\n",
       "      <td>-0.037145</td>\n",
       "      <td>-0.662549</td>\n",
       "      <td>-0.685183</td>\n",
       "      <td>-0.171260</td>\n",
       "      <td>-0.625809</td>\n",
       "      <td>-0.494195</td>\n",
       "      <td>-0.480937</td>\n",
       "      <td>-1.197972</td>\n",
       "      <td>-1.120390</td>\n",
       "      <td>-1.120158</td>\n",
       "      <td>-0.472328</td>\n",
       "      <td>-0.542741</td>\n",
       "      <td>-0.492416</td>\n",
       "      <td>-0.399474</td>\n",
       "    </tr>\n",
       "    <tr>\n",
       "      <th>4</th>\n",
       "      <td>1.752228</td>\n",
       "      <td>-0.966261</td>\n",
       "      <td>0.801074</td>\n",
       "      <td>0.241110</td>\n",
       "      <td>-0.975191</td>\n",
       "      <td>-0.205026</td>\n",
       "      <td>0.208189</td>\n",
       "      <td>-1.205320</td>\n",
       "      <td>-1.050465</td>\n",
       "      <td>-0.130137</td>\n",
       "      <td>1.658881</td>\n",
       "      <td>-1.317250</td>\n",
       "      <td>-0.189847</td>\n",
       "      <td>0.412252</td>\n",
       "      <td>0.006240</td>\n",
       "      <td>-0.686397</td>\n",
       "      <td>0.140537</td>\n",
       "      <td>0.955188</td>\n",
       "      <td>-1.177140</td>\n",
       "      <td>0.388641</td>\n",
       "      <td>0.789043</td>\n",
       "      <td>-0.458022</td>\n",
       "      <td>-0.032562</td>\n",
       "      <td>0.347464</td>\n",
       "      <td>-0.880062</td>\n",
       "      <td>1.308106</td>\n",
       "      <td>0.930956</td>\n",
       "      <td>-0.522922</td>\n",
       "      <td>0.292958</td>\n",
       "      <td>0.360392</td>\n",
       "      <td>1.821856</td>\n",
       "      <td>-0.066227</td>\n",
       "      <td>-1.065876</td>\n",
       "      <td>-0.498186</td>\n",
       "      <td>-0.728506</td>\n",
       "      <td>-0.690154</td>\n",
       "      <td>-0.165482</td>\n",
       "      <td>-0.584542</td>\n",
       "      <td>-0.561286</td>\n",
       "      <td>-0.449295</td>\n",
       "      <td>-1.120931</td>\n",
       "      <td>-1.077824</td>\n",
       "      <td>-1.054540</td>\n",
       "      <td>-0.557724</td>\n",
       "      <td>-0.468445</td>\n",
       "      <td>-0.489669</td>\n",
       "      <td>-0.390321</td>\n",
       "    </tr>\n",
       "    <tr>\n",
       "      <th>...</th>\n",
       "      <td>...</td>\n",
       "      <td>...</td>\n",
       "      <td>...</td>\n",
       "      <td>...</td>\n",
       "      <td>...</td>\n",
       "      <td>...</td>\n",
       "      <td>...</td>\n",
       "      <td>...</td>\n",
       "      <td>...</td>\n",
       "      <td>...</td>\n",
       "      <td>...</td>\n",
       "      <td>...</td>\n",
       "      <td>...</td>\n",
       "      <td>...</td>\n",
       "      <td>...</td>\n",
       "      <td>...</td>\n",
       "      <td>...</td>\n",
       "      <td>...</td>\n",
       "      <td>...</td>\n",
       "      <td>...</td>\n",
       "      <td>...</td>\n",
       "      <td>...</td>\n",
       "      <td>...</td>\n",
       "      <td>...</td>\n",
       "      <td>...</td>\n",
       "      <td>...</td>\n",
       "      <td>...</td>\n",
       "      <td>...</td>\n",
       "      <td>...</td>\n",
       "      <td>...</td>\n",
       "      <td>...</td>\n",
       "      <td>...</td>\n",
       "      <td>...</td>\n",
       "      <td>...</td>\n",
       "      <td>...</td>\n",
       "      <td>...</td>\n",
       "      <td>...</td>\n",
       "      <td>...</td>\n",
       "      <td>...</td>\n",
       "      <td>...</td>\n",
       "      <td>...</td>\n",
       "      <td>...</td>\n",
       "      <td>...</td>\n",
       "      <td>...</td>\n",
       "      <td>...</td>\n",
       "      <td>...</td>\n",
       "      <td>...</td>\n",
       "    </tr>\n",
       "    <tr>\n",
       "      <th>3619</th>\n",
       "      <td>0.000000</td>\n",
       "      <td>-0.573044</td>\n",
       "      <td>-0.399701</td>\n",
       "      <td>-0.137510</td>\n",
       "      <td>-0.961187</td>\n",
       "      <td>-0.045908</td>\n",
       "      <td>-0.391248</td>\n",
       "      <td>1.590029</td>\n",
       "      <td>0.426132</td>\n",
       "      <td>0.287785</td>\n",
       "      <td>1.464398</td>\n",
       "      <td>1.404016</td>\n",
       "      <td>0.038361</td>\n",
       "      <td>-1.097141</td>\n",
       "      <td>-0.002776</td>\n",
       "      <td>1.729133</td>\n",
       "      <td>-0.721984</td>\n",
       "      <td>-0.778410</td>\n",
       "      <td>0.467316</td>\n",
       "      <td>-0.617204</td>\n",
       "      <td>0.240094</td>\n",
       "      <td>-0.269511</td>\n",
       "      <td>-1.047627</td>\n",
       "      <td>0.642908</td>\n",
       "      <td>-0.054271</td>\n",
       "      <td>0.258072</td>\n",
       "      <td>0.919098</td>\n",
       "      <td>-0.046342</td>\n",
       "      <td>-0.404054</td>\n",
       "      <td>-1.905139</td>\n",
       "      <td>1.615873</td>\n",
       "      <td>0.066914</td>\n",
       "      <td>-0.345098</td>\n",
       "      <td>0.267971</td>\n",
       "      <td>-0.805012</td>\n",
       "      <td>-0.339308</td>\n",
       "      <td>-1.455388</td>\n",
       "      <td>0.514399</td>\n",
       "      <td>-0.192715</td>\n",
       "      <td>-0.858411</td>\n",
       "      <td>-0.369561</td>\n",
       "      <td>1.147422</td>\n",
       "      <td>0.432494</td>\n",
       "      <td>-0.085454</td>\n",
       "      <td>-0.037090</td>\n",
       "      <td>-0.442568</td>\n",
       "      <td>0.296288</td>\n",
       "    </tr>\n",
       "    <tr>\n",
       "      <th>3620</th>\n",
       "      <td>0.000000</td>\n",
       "      <td>-0.159614</td>\n",
       "      <td>-0.404024</td>\n",
       "      <td>-0.119039</td>\n",
       "      <td>-1.524992</td>\n",
       "      <td>0.064227</td>\n",
       "      <td>-0.391713</td>\n",
       "      <td>1.152208</td>\n",
       "      <td>0.500778</td>\n",
       "      <td>0.285251</td>\n",
       "      <td>1.607448</td>\n",
       "      <td>1.444890</td>\n",
       "      <td>0.046484</td>\n",
       "      <td>-1.084206</td>\n",
       "      <td>-0.043233</td>\n",
       "      <td>1.722039</td>\n",
       "      <td>-0.735425</td>\n",
       "      <td>-0.704500</td>\n",
       "      <td>0.415336</td>\n",
       "      <td>-0.628528</td>\n",
       "      <td>0.243886</td>\n",
       "      <td>-0.250645</td>\n",
       "      <td>-1.036477</td>\n",
       "      <td>0.621345</td>\n",
       "      <td>-0.167332</td>\n",
       "      <td>0.278120</td>\n",
       "      <td>0.720236</td>\n",
       "      <td>-0.057160</td>\n",
       "      <td>-0.412785</td>\n",
       "      <td>-1.917466</td>\n",
       "      <td>1.564849</td>\n",
       "      <td>0.083138</td>\n",
       "      <td>-0.281121</td>\n",
       "      <td>0.204110</td>\n",
       "      <td>-0.843329</td>\n",
       "      <td>-0.345030</td>\n",
       "      <td>-1.460941</td>\n",
       "      <td>0.446426</td>\n",
       "      <td>-0.246797</td>\n",
       "      <td>-0.888419</td>\n",
       "      <td>-0.429173</td>\n",
       "      <td>1.104030</td>\n",
       "      <td>0.374250</td>\n",
       "      <td>-0.199516</td>\n",
       "      <td>-0.100813</td>\n",
       "      <td>-0.454281</td>\n",
       "      <td>0.297547</td>\n",
       "    </tr>\n",
       "    <tr>\n",
       "      <th>3621</th>\n",
       "      <td>0.000000</td>\n",
       "      <td>0.483500</td>\n",
       "      <td>-0.404756</td>\n",
       "      <td>-0.099411</td>\n",
       "      <td>1.000062</td>\n",
       "      <td>0.411764</td>\n",
       "      <td>-0.393130</td>\n",
       "      <td>1.700621</td>\n",
       "      <td>0.574258</td>\n",
       "      <td>0.284561</td>\n",
       "      <td>1.736795</td>\n",
       "      <td>1.477053</td>\n",
       "      <td>0.054251</td>\n",
       "      <td>-1.065766</td>\n",
       "      <td>-0.082636</td>\n",
       "      <td>1.709034</td>\n",
       "      <td>-0.745226</td>\n",
       "      <td>-0.624598</td>\n",
       "      <td>0.453820</td>\n",
       "      <td>-0.640444</td>\n",
       "      <td>0.248083</td>\n",
       "      <td>-0.231865</td>\n",
       "      <td>-1.025120</td>\n",
       "      <td>0.392544</td>\n",
       "      <td>0.036552</td>\n",
       "      <td>0.297656</td>\n",
       "      <td>0.762025</td>\n",
       "      <td>-0.067949</td>\n",
       "      <td>-0.421217</td>\n",
       "      <td>-1.929457</td>\n",
       "      <td>1.512736</td>\n",
       "      <td>0.099334</td>\n",
       "      <td>-0.216255</td>\n",
       "      <td>0.865183</td>\n",
       "      <td>-0.776914</td>\n",
       "      <td>-0.350735</td>\n",
       "      <td>-1.465780</td>\n",
       "      <td>0.379633</td>\n",
       "      <td>-0.190912</td>\n",
       "      <td>-0.913816</td>\n",
       "      <td>-0.486794</td>\n",
       "      <td>1.055349</td>\n",
       "      <td>0.314263</td>\n",
       "      <td>-0.116916</td>\n",
       "      <td>-0.164311</td>\n",
       "      <td>-0.466234</td>\n",
       "      <td>0.298389</td>\n",
       "    </tr>\n",
       "    <tr>\n",
       "      <th>3622</th>\n",
       "      <td>-0.876114</td>\n",
       "      <td>1.020384</td>\n",
       "      <td>-0.401894</td>\n",
       "      <td>-0.078726</td>\n",
       "      <td>-0.261841</td>\n",
       "      <td>0.761748</td>\n",
       "      <td>-0.395308</td>\n",
       "      <td>1.691199</td>\n",
       "      <td>0.646028</td>\n",
       "      <td>0.285716</td>\n",
       "      <td>1.852438</td>\n",
       "      <td>1.500505</td>\n",
       "      <td>0.061653</td>\n",
       "      <td>-1.042044</td>\n",
       "      <td>-0.120985</td>\n",
       "      <td>1.690502</td>\n",
       "      <td>-0.751386</td>\n",
       "      <td>-0.539336</td>\n",
       "      <td>0.374505</td>\n",
       "      <td>-0.652794</td>\n",
       "      <td>0.252684</td>\n",
       "      <td>-0.213172</td>\n",
       "      <td>-1.013697</td>\n",
       "      <td>0.329210</td>\n",
       "      <td>0.026774</td>\n",
       "      <td>0.316618</td>\n",
       "      <td>0.807289</td>\n",
       "      <td>-0.078710</td>\n",
       "      <td>-0.429317</td>\n",
       "      <td>-1.941111</td>\n",
       "      <td>1.459683</td>\n",
       "      <td>0.115494</td>\n",
       "      <td>-0.150853</td>\n",
       "      <td>0.590225</td>\n",
       "      <td>-0.824632</td>\n",
       "      <td>-0.356424</td>\n",
       "      <td>-1.469841</td>\n",
       "      <td>0.314019</td>\n",
       "      <td>-0.117627</td>\n",
       "      <td>-0.934600</td>\n",
       "      <td>-0.542180</td>\n",
       "      <td>1.001926</td>\n",
       "      <td>0.252698</td>\n",
       "      <td>-0.065603</td>\n",
       "      <td>-0.227582</td>\n",
       "      <td>-0.478290</td>\n",
       "      <td>0.298808</td>\n",
       "    </tr>\n",
       "    <tr>\n",
       "      <th>3623</th>\n",
       "      <td>0.000000</td>\n",
       "      <td>1.279087</td>\n",
       "      <td>-0.395441</td>\n",
       "      <td>-0.057081</td>\n",
       "      <td>-0.462911</td>\n",
       "      <td>0.514342</td>\n",
       "      <td>-0.398058</td>\n",
       "      <td>0.942719</td>\n",
       "      <td>0.715548</td>\n",
       "      <td>0.288715</td>\n",
       "      <td>1.954378</td>\n",
       "      <td>1.515247</td>\n",
       "      <td>0.068684</td>\n",
       "      <td>-1.013265</td>\n",
       "      <td>-0.158282</td>\n",
       "      <td>1.666824</td>\n",
       "      <td>-0.753905</td>\n",
       "      <td>-0.449351</td>\n",
       "      <td>0.336314</td>\n",
       "      <td>-0.665420</td>\n",
       "      <td>0.257690</td>\n",
       "      <td>-0.194566</td>\n",
       "      <td>-1.002349</td>\n",
       "      <td>0.259792</td>\n",
       "      <td>-0.110260</td>\n",
       "      <td>0.334945</td>\n",
       "      <td>0.846362</td>\n",
       "      <td>-0.089441</td>\n",
       "      <td>-0.437054</td>\n",
       "      <td>-1.952426</td>\n",
       "      <td>1.405844</td>\n",
       "      <td>0.131609</td>\n",
       "      <td>-0.085268</td>\n",
       "      <td>-0.041192</td>\n",
       "      <td>-0.874579</td>\n",
       "      <td>-0.362097</td>\n",
       "      <td>-1.473061</td>\n",
       "      <td>0.249584</td>\n",
       "      <td>-0.229940</td>\n",
       "      <td>-0.950773</td>\n",
       "      <td>-0.595088</td>\n",
       "      <td>0.944309</td>\n",
       "      <td>0.189723</td>\n",
       "      <td>-0.025619</td>\n",
       "      <td>-0.290628</td>\n",
       "      <td>-0.490309</td>\n",
       "      <td>0.298795</td>\n",
       "    </tr>\n",
       "  </tbody>\n",
       "</table>\n",
       "<p>3624 rows × 47 columns</p>\n",
       "</div>"
      ],
      "text/plain": [
       "      future_bit  SKhynix_change  CICRTOTIndex5  KOBPCAIndex20  NMDPIndex1  Micron_change  \\\n",
       "0       1.752228       -0.173969       0.747998       0.093009   -0.154570      -0.508475   \n",
       "1       1.752228       -1.038153       0.766933       0.130796    0.008938      -0.229466   \n",
       "2       1.752228       -0.291682       0.782090       0.168241   -1.034588       0.269812   \n",
       "3       0.000000       -1.084089       0.793471       0.205095   -1.738396      -0.368971   \n",
       "4       1.752228       -0.966261       0.801074       0.241110   -0.975191      -0.205026   \n",
       "...          ...             ...            ...            ...         ...            ...   \n",
       "3619    0.000000       -0.573044      -0.399701      -0.137510   -0.961187      -0.045908   \n",
       "3620    0.000000       -0.159614      -0.404024      -0.119039   -1.524992       0.064227   \n",
       "3621    0.000000        0.483500      -0.404756      -0.099411    1.000062       0.411764   \n",
       "3622   -0.876114        1.020384      -0.401894      -0.078726   -0.261841       0.761748   \n",
       "3623    0.000000        1.279087      -0.395441      -0.057081   -0.462911       0.514342   \n",
       "\n",
       "      CICRTOTIndex60  CL1Comdty5  SAARTOTLIndex20  LEIMNOIndex1  FRNTTOTLIndex1  LEIAVGWIndex1  \\\n",
       "0           0.045404   -0.575493        -0.527976     -0.141249        1.519725      -1.036813   \n",
       "1           0.086003   -1.042466        -0.663607     -0.146064        1.569008      -1.116656   \n",
       "2           0.126756   -0.895933        -0.796578     -0.145817        1.608628      -1.190010   \n",
       "3           0.167529   -1.410184        -0.925870     -0.140507        1.638586      -1.256875   \n",
       "4           0.208189   -1.205320        -1.050465     -0.130137        1.658881      -1.317250   \n",
       "...              ...         ...              ...           ...             ...            ...   \n",
       "3619       -0.391248    1.590029         0.426132      0.287785        1.464398       1.404016   \n",
       "3620       -0.391713    1.152208         0.500778      0.285251        1.607448       1.444890   \n",
       "3621       -0.393130    1.700621         0.574258      0.284561        1.736795       1.477053   \n",
       "3622       -0.395308    1.691199         0.646028      0.285716        1.852438       1.500505   \n",
       "3623       -0.398058    0.942719         0.715548      0.288715        1.954378       1.515247   \n",
       "\n",
       "      PITLCHNGIndex  KOGFBALIndex60  KOWDRIndex1  KODSDEPTIndex  LEILCIIndex5  FRNTTOTLIndex  \\\n",
       "0         -0.207232        0.336738     0.006240      -0.502434      0.052504       0.657451   \n",
       "1         -0.204216        0.358034     0.006240      -0.549732      0.080217       0.729580   \n",
       "2         -0.200274        0.377796     0.006240      -0.596291      0.104127       0.803544   \n",
       "3         -0.195465        0.395907     0.006240      -0.641911      0.124234       0.878896   \n",
       "4         -0.189847        0.412252     0.006240      -0.686397      0.140537       0.955188   \n",
       "...             ...             ...          ...            ...           ...            ...   \n",
       "3619       0.038361       -1.097141    -0.002776       1.729133     -0.721984      -0.778410   \n",
       "3620       0.046484       -1.084206    -0.043233       1.722039     -0.735425      -0.704500   \n",
       "3621       0.054251       -1.065766    -0.082636       1.709034     -0.745226      -0.624598   \n",
       "3622       0.061653       -1.042044    -0.120985       1.690502     -0.751386      -0.539336   \n",
       "3623       0.068684       -1.013265    -0.158282       1.666824     -0.753905      -0.449351   \n",
       "\n",
       "      MXWO0MTIndex20  KOEAPYIndex  USTBEXPIndex1  SKBSICSAIndex1  SKLILAPIndex20  NKYIndex60  \\\n",
       "0          -0.689023     0.291754       0.587230       -0.403698        0.093280    0.724302   \n",
       "1          -0.725645     0.315963       0.645855       -0.425074        0.061622    0.756119   \n",
       "2          -0.780198     0.340276       0.699032       -0.441253        0.029948    0.858950   \n",
       "3          -0.996201     0.364549       0.746761       -0.452236       -0.001520    0.561892   \n",
       "4          -1.177140     0.388641       0.789043       -0.458022       -0.032562    0.347464   \n",
       "...              ...          ...            ...             ...             ...         ...   \n",
       "3619        0.467316    -0.617204       0.240094       -0.269511       -1.047627    0.642908   \n",
       "3620        0.415336    -0.628528       0.243886       -0.250645       -1.036477    0.621345   \n",
       "3621        0.453820    -0.640444       0.248083       -0.231865       -1.025120    0.392544   \n",
       "3622        0.374505    -0.652794       0.252684       -0.213172       -1.013697    0.329210   \n",
       "3623        0.336314    -0.665420       0.257690       -0.194566       -1.002349    0.259792   \n",
       "\n",
       "      KOSPIIndex5  KOBONTLIndex60  LMNIDS03Comdty60  EOKOS002Index260  KOEXPTIIndex120  \\\n",
       "0        0.423104        1.792706          1.113199         -0.522922         0.192270   \n",
       "1        0.126603        1.677692          1.003249         -0.522922         0.216718   \n",
       "2        0.093841        1.558286          1.125098         -0.522922         0.241722   \n",
       "3       -0.635025        1.434940          1.055841         -0.522922         0.267171   \n",
       "4       -0.880062        1.308106          0.930956         -0.522922         0.292958   \n",
       "...           ...             ...               ...               ...              ...   \n",
       "3619    -0.054271        0.258072          0.919098         -0.046342        -0.404054   \n",
       "3620    -0.167332        0.278120          0.720236         -0.057160        -0.412785   \n",
       "3621     0.036552        0.297656          0.762025         -0.067949        -0.421217   \n",
       "3622     0.026774        0.316618          0.807289         -0.078710        -0.429317   \n",
       "3623    -0.110260        0.334945          0.846362         -0.089441        -0.437054   \n",
       "\n",
       "      MAPMINDXIndex  KOBONTLIndex120  OEKRN022Index120  EMPRGBCIIndex60  MSRUMATIndex5  \\\n",
       "0          0.162068         2.174250         -0.231319        -0.854135      -0.359087   \n",
       "1          0.211177         2.089439         -0.188617        -0.910049       0.126937   \n",
       "2          0.260790         2.002131         -0.146868        -0.964074       0.486519   \n",
       "3          0.310623         1.912783         -0.106071        -1.016065      -0.037145   \n",
       "4          0.360392         1.821856         -0.066227        -1.065876      -0.498186   \n",
       "...             ...              ...               ...              ...            ...   \n",
       "3619      -1.905139         1.615873          0.066914        -0.345098       0.267971   \n",
       "3620      -1.917466         1.564849          0.083138        -0.281121       0.204110   \n",
       "3621      -1.929457         1.512736          0.099334        -0.216255       0.865183   \n",
       "3622      -1.941111         1.459683          0.115494        -0.150853       0.590225   \n",
       "3623      -1.952426         1.405844          0.131609        -0.085268      -0.041192   \n",
       "\n",
       "      MSRUMATIndex  SKLICONEIndex260  SKLIIMPTIndex260  EMPRGBCIIndex1  CINDIndex260  \\\n",
       "0        -0.683596         -0.669802         -0.187272       -0.752030     -0.442193   \n",
       "1        -0.658373         -0.675007         -0.182171       -0.709553     -0.373935   \n",
       "2        -0.609060         -0.680135         -0.176828       -0.667480     -0.439050   \n",
       "3        -0.662549         -0.685183         -0.171260       -0.625809     -0.494195   \n",
       "4        -0.728506         -0.690154         -0.165482       -0.584542     -0.561286   \n",
       "...            ...               ...               ...             ...           ...   \n",
       "3619     -0.805012         -0.339308         -1.455388        0.514399     -0.192715   \n",
       "3620     -0.843329         -0.345030         -1.460941        0.446426     -0.246797   \n",
       "3621     -0.776914         -0.350735         -1.465780        0.379633     -0.190912   \n",
       "3622     -0.824632         -0.356424         -1.469841        0.314019     -0.117627   \n",
       "3623     -0.874579         -0.362097         -1.473061        0.249584     -0.229940   \n",
       "\n",
       "      SKLIWNRSIndex1  SKLIWNRSIndex20  EMPRGBCIIndex20  KOBPTBIndex20  KOSPIIndex260  \\\n",
       "0          -0.610611        -1.432895        -1.236512      -1.296787      -0.329895   \n",
       "1          -0.561595        -1.354676        -1.200043      -1.241558      -0.388474   \n",
       "2          -0.518370        -1.276128        -1.161233      -1.182589      -0.418587   \n",
       "3          -0.480937        -1.197972        -1.120390      -1.120158      -0.472328   \n",
       "4          -0.449295        -1.120931        -1.077824      -1.054540      -0.557724   \n",
       "...              ...              ...              ...            ...            ...   \n",
       "3619       -0.858411        -0.369561         1.147422       0.432494      -0.085454   \n",
       "3620       -0.888419        -0.429173         1.104030       0.374250      -0.199516   \n",
       "3621       -0.913816        -0.486794         1.055349       0.314263      -0.116916   \n",
       "3622       -0.934600        -0.542180         1.001926       0.252698      -0.065603   \n",
       "3623       -0.950773        -0.595088         0.944309       0.189723      -0.025619   \n",
       "\n",
       "      KOBPTBIndex5  SKLILAIIndex260  SKLILCIndex260  \n",
       "0        -0.758723        -0.498798       -0.427145  \n",
       "1        -0.687880        -0.497000       -0.417856  \n",
       "2        -0.615886        -0.494866       -0.408643  \n",
       "3        -0.542741        -0.492416       -0.399474  \n",
       "4        -0.468445        -0.489669       -0.390321  \n",
       "...            ...              ...             ...  \n",
       "3619     -0.037090        -0.442568        0.296288  \n",
       "3620     -0.100813        -0.454281        0.297547  \n",
       "3621     -0.164311        -0.466234        0.298389  \n",
       "3622     -0.227582        -0.478290        0.298808  \n",
       "3623     -0.290628        -0.490309        0.298795  \n",
       "\n",
       "[3624 rows x 47 columns]"
      ]
     },
     "execution_count": 65,
     "metadata": {},
     "output_type": "execute_result"
    }
   ],
   "source": [
    "X_train"
   ]
  },
  {
   "cell_type": "code",
   "execution_count": 66,
   "metadata": {},
   "outputs": [],
   "source": [
    "# metric 구성\n",
    "\n",
    "from sklearn.metrics import mean_squared_error, r2_score, mean_absolute_error, accuracy_score\n",
    "\n",
    "class CustomMetric():\n",
    "\n",
    "    def __init__(self, pred, real):\n",
    "            self.pred = pred\n",
    "            self.real = real\n",
    "            self.thr25 = np.percentile(self.real, 25)\n",
    "            self.thr75 = np.percentile(self.real, 75)\n",
    "            self.df = pd.DataFrame({'pred' : self.pred, 'real' : self.real})\n",
    "        \n",
    "    def issame(self, data1, data2):\n",
    "        if data1 > 0 and data2 > 0 : \n",
    "            return 'T'\n",
    "        elif data1 > 0 and data2 < 0 :\n",
    "            return 'F'\n",
    "        elif data1 < 0 and data2 > 0 :\n",
    "            return 'F'\n",
    "        elif data1 < 0 and data2 < 0 :\n",
    "            return 'T'\n",
    "        elif data1 == 0 or data2 == 0 :\n",
    "            return 0\n",
    "        else :\n",
    "            return 'notcal'\n",
    "\n",
    "    def getouter(self, data1, data2): #quantile_25 = np.percentile(values, 25)\n",
    "\n",
    "        if data1 > 0 and data2 >= self.thr75 :\n",
    "            return 'T'\n",
    "        elif data1 < 0 and data2 <= self.thr25 :\n",
    "            return 'T'\n",
    "        elif data1 >= 0 and data2 <= self.thr25 :\n",
    "            return 'F'\n",
    "        elif data1 <= 0 and data2 >= self.thr75: \n",
    "            return 'F'\n",
    "        else:\n",
    "            return 'notcal'\n",
    "        \n",
    "    def makedf(self):\n",
    "        self.df['TF'] = self.df.apply(lambda x : self.issame(x['pred'], x['real']), axis = 1)\n",
    "        self.df['thrTF'] = self.df.apply(lambda x : self.getouter(x['pred'], x['real']), axis = 1)\n",
    "        \n",
    "        return self.df\n",
    "        \n",
    "    def execution(self):\n",
    "        mdf = pd.DataFrame()\n",
    "        mdf['CORR'] = [self.df['real'].corr(self.df['pred'], method = 'pearson')]\n",
    "        mdf['R2'] = [\"{0:0.4f}\".format(r2_score(self.df['real'], self.df['pred']))]\n",
    "        mdf['MAE'] = [\"{0:0.4f}\".format(mean_absolute_error(self.df['pred'], self.df['real']))]\n",
    "        mdf['RMSE'] = [\"{0:0.4f}\".format(np.sqrt(mean_squared_error(self.df['pred'], self.df['real'])))]\n",
    "        mdf['ACR'] = [sum(self.df['TF'] == 'T')/len(self.df['TF'])]\n",
    "        \n",
    "        mdf['threshACR'] = [sum(self.df['thrTF'] == 'T') / sum(self.df['thrTF'] != 'notcal')]\n",
    "        \n",
    "        return mdf     "
   ]
  },
  {
   "cell_type": "markdown",
   "metadata": {},
   "source": [
    "# Linear Model"
   ]
  },
  {
   "cell_type": "code",
   "execution_count": 67,
   "metadata": {},
   "outputs": [],
   "source": [
    "# linear model select\n",
    "lr_reg = LinearRegression()\n",
    "#lasso = Lasso(alpha = 100)"
   ]
  },
  {
   "cell_type": "code",
   "execution_count": 68,
   "metadata": {},
   "outputs": [],
   "source": [
    "lr_reg.fit(X_train, y_train)\n",
    "y_pred = lr_reg.predict(X_test)"
   ]
  },
  {
   "cell_type": "code",
   "execution_count": 69,
   "metadata": {},
   "outputs": [
    {
     "data": {
      "text/html": [
       "<div>\n",
       "<style scoped>\n",
       "    .dataframe tbody tr th:only-of-type {\n",
       "        vertical-align: middle;\n",
       "    }\n",
       "\n",
       "    .dataframe tbody tr th {\n",
       "        vertical-align: top;\n",
       "    }\n",
       "\n",
       "    .dataframe thead th {\n",
       "        text-align: right;\n",
       "    }\n",
       "</style>\n",
       "<table border=\"1\" class=\"dataframe\">\n",
       "  <thead>\n",
       "    <tr style=\"text-align: right;\">\n",
       "      <th></th>\n",
       "      <th>CORR</th>\n",
       "      <th>R2</th>\n",
       "      <th>MAE</th>\n",
       "      <th>RMSE</th>\n",
       "      <th>ACR</th>\n",
       "      <th>threshACR</th>\n",
       "    </tr>\n",
       "  </thead>\n",
       "  <tbody>\n",
       "    <tr>\n",
       "      <th>0</th>\n",
       "      <td>0.966749</td>\n",
       "      <td>0.9275</td>\n",
       "      <td>0.0472</td>\n",
       "      <td>0.0601</td>\n",
       "      <td>0.962514</td>\n",
       "      <td>1.0</td>\n",
       "    </tr>\n",
       "  </tbody>\n",
       "</table>\n",
       "</div>"
      ],
      "text/plain": [
       "       CORR      R2     MAE    RMSE       ACR  threshACR\n",
       "0  0.966749  0.9275  0.0472  0.0601  0.962514        1.0"
      ]
     },
     "execution_count": 69,
     "metadata": {},
     "output_type": "execute_result"
    }
   ],
   "source": [
    "metr = CustomMetric(y_pred, y_test)\n",
    "metr.makedf()\n",
    "metr.execution()"
   ]
  },
  {
   "cell_type": "code",
   "execution_count": 70,
   "metadata": {},
   "outputs": [
    {
     "data": {
      "text/plain": [
       "<matplotlib.axes._subplots.AxesSubplot at 0x1ef82e3d208>"
      ]
     },
     "execution_count": 70,
     "metadata": {},
     "output_type": "execute_result"
    },
    {
     "data": {
      "image/png": "[encoded data removed]",
      "text/plain": [
       "<Figure size 432x288 with 1 Axes>"
      ]
     },
     "metadata": {
      "image/png": {
       "height": 248,
       "width": 380
      },
      "needs_background": "light"
     },
     "output_type": "display_data"
    }
   ],
   "source": [
    "pd.DataFrame(y_test).plot()"
   ]
  },
  {
   "cell_type": "code",
   "execution_count": 71,
   "metadata": {},
   "outputs": [
    {
     "data": {
      "text/plain": [
       "<matplotlib.axes._subplots.AxesSubplot at 0x1ef82e56da0>"
      ]
     },
     "execution_count": 71,
     "metadata": {},
     "output_type": "execute_result"
    },
    {
     "data": {
      "image/png": "[encoded data removed]",
      "text/plain": [
       "<Figure size 432x288 with 1 Axes>"
      ]
     },
     "metadata": {
      "image/png": {
       "height": 248,
       "width": 380
      },
      "needs_background": "light"
     },
     "output_type": "display_data"
    }
   ],
   "source": [
    "pd.DataFrame(y_pred).plot()"
   ]
  },
  {
   "cell_type": "code",
   "execution_count": 73,
   "metadata": {},
   "outputs": [
    {
     "data": {
      "image/png": "[encoded data removed]",
      "text/plain": [
       "<Figure size 720x2160 with 1 Axes>"
      ]
     },
     "metadata": {
      "image/png": {
       "height": 2151,
       "width": 713
      },
      "needs_background": "light"
     },
     "output_type": "display_data"
    }
   ],
   "source": [
    "coef_imp = pd.DataFrame(sorted(zip(lr_reg.coef_, X_train.columns)), columns = ['Value', 'Feature'])\n",
    "coef_imp.sort_values(by = 'Value', ascending = False)\n",
    "plt.figure(figsize = (10, 30))\n",
    "sns.barplot(x = 'Value', y = 'Feature', data = coef_imp.sort_values(by = 'Value', ascending = False))\n",
    "plt.title('Linear Regressor Features')\n",
    "plt.tight_layout()\n",
    "plt.show()"
   ]
  },
  {
   "cell_type": "markdown",
   "metadata": {},
   "source": [
    "Tree Model은 feature importance가 따로 뽑히므로 아래와 같이 시각화"
   ]
  },
  {
   "cell_type": "markdown",
   "metadata": {},
   "source": [
    "# Optuna AutoML을 통한 LightGBM Hyperparameter tuning"
   ]
  },
  {
   "cell_type": "code",
   "execution_count": 79,
   "metadata": {},
   "outputs": [],
   "source": [
    "import sklearn.ensemble\n",
    "import sklearn.model_selection\n",
    "from sklearn.metrics import r2_score\n",
    "import optuna\n",
    "import optuna.integration.lightgbm as lgb"
   ]
  },
  {
   "cell_type": "code",
   "execution_count": 80,
   "metadata": {},
   "outputs": [
    {
     "name": "stderr",
     "output_type": "stream",
     "text": [
      "tune_feature_fraction, val_score: inf:   0%|          | 0/7 [00:00<?, ?it/s]"
     ]
    },
    {
     "name": "stdout",
     "output_type": "stream",
     "text": [
      "Training until validation scores don't improve for 100 rounds\n",
      "[100]\ttraining's l2: 0.000201384\tvalid_1's l2: 0.0614408\n",
      "Early stopping, best iteration is:\n",
      "[1]\ttraining's l2: 0.0610995\tvalid_1's l2: 0.0521898\n"
     ]
    },
    {
     "name": "stderr",
     "output_type": "stream",
     "text": [
      "tune_feature_fraction, val_score: 0.052190:  14%|#4        | 1/7 [00:00<00:00,  7.06it/s][I 2020-03-19 21:30:37,175] Finished trial#0 resulted in value: 0.052189751467136225. Current best value is 0.052189751467136225 with parameters: {'feature_fraction': 0.4}.\n",
      "tune_feature_fraction, val_score: 0.052190:  14%|#4        | 1/7 [00:00<00:00,  7.06it/s]"
     ]
    },
    {
     "name": "stdout",
     "output_type": "stream",
     "text": [
      "Training until validation scores don't improve for 100 rounds\n",
      "[100]\ttraining's l2: 0.000192091\tvalid_1's l2: 0.0603032\n",
      "Early stopping, best iteration is:\n",
      "[4]\ttraining's l2: 0.0336833\tvalid_1's l2: 0.0539746\n"
     ]
    },
    {
     "name": "stderr",
     "output_type": "stream",
     "text": [
      "tune_feature_fraction, val_score: 0.052190:  29%|##8       | 2/7 [00:00<00:00,  6.71it/s][I 2020-03-19 21:30:37,330] Finished trial#1 resulted in value: 0.0539745952710275. Current best value is 0.052189751467136225 with parameters: {'feature_fraction': 0.4}.\n",
      "tune_feature_fraction, val_score: 0.052190:  29%|##8       | 2/7 [00:00<00:00,  6.71it/s]"
     ]
    },
    {
     "name": "stdout",
     "output_type": "stream",
     "text": [
      "Training until validation scores don't improve for 100 rounds\n",
      "[100]\ttraining's l2: 0.000180885\tvalid_1's l2: 0.0571964\n",
      "Early stopping, best iteration is:\n",
      "[7]\ttraining's l2: 0.0190608\tvalid_1's l2: 0.048412\n"
     ]
    },
    {
     "name": "stderr",
     "output_type": "stream",
     "text": [
      "tune_feature_fraction, val_score: 0.048412:  43%|####2     | 3/7 [00:00<00:00,  6.44it/s][I 2020-03-19 21:30:37,498] Finished trial#2 resulted in value: 0.04841196950581435. Current best value is 0.04841196950581435 with parameters: {'feature_fraction': 0.6}.\n",
      "tune_feature_fraction, val_score: 0.048412:  43%|####2     | 3/7 [00:00<00:00,  6.44it/s]"
     ]
    },
    {
     "name": "stdout",
     "output_type": "stream",
     "text": [
      "Training until validation scores don't improve for 100 rounds\n",
      "[100]\ttraining's l2: 0.000181344\tvalid_1's l2: 0.0514421\n",
      "Early stopping, best iteration is:\n",
      "[4]\ttraining's l2: 0.0331331\tvalid_1's l2: 0.0442798\n"
     ]
    },
    {
     "name": "stderr",
     "output_type": "stream",
     "text": [
      "tune_feature_fraction, val_score: 0.044280:  57%|#####7    | 4/7 [00:00<00:00,  6.23it/s][I 2020-03-19 21:30:37,670] Finished trial#3 resulted in value: 0.04427976958232808. Current best value is 0.04427976958232808 with parameters: {'feature_fraction': 0.7}.\n",
      "tune_feature_fraction, val_score: 0.044280:  57%|#####7    | 4/7 [00:00<00:00,  6.23it/s]"
     ]
    },
    {
     "name": "stdout",
     "output_type": "stream",
     "text": [
      "Training until validation scores don't improve for 100 rounds\n",
      "[100]\ttraining's l2: 0.000176455\tvalid_1's l2: 0.054589\n",
      "Early stopping, best iteration is:\n",
      "[6]\ttraining's l2: 0.0225864\tvalid_1's l2: 0.0491428\n"
     ]
    },
    {
     "name": "stderr",
     "output_type": "stream",
     "text": [
      "tune_feature_fraction, val_score: 0.044280:  71%|#######1  | 5/7 [00:00<00:00,  5.99it/s][I 2020-03-19 21:30:37,852] Finished trial#4 resulted in value: 0.04914278678837174. Current best value is 0.04427976958232808 with parameters: {'feature_fraction': 0.7}.\n",
      "tune_feature_fraction, val_score: 0.044280:  71%|#######1  | 5/7 [00:00<00:00,  5.99it/s]"
     ]
    },
    {
     "name": "stdout",
     "output_type": "stream",
     "text": [
      "Training until validation scores don't improve for 100 rounds\n",
      "[100]\ttraining's l2: 0.000174592\tvalid_1's l2: 0.0572041\n",
      "Early stopping, best iteration is:\n",
      "[2]\ttraining's l2: 0.0488645\tvalid_1's l2: 0.0492388\n"
     ]
    },
    {
     "name": "stderr",
     "output_type": "stream",
     "text": [
      "tune_feature_fraction, val_score: 0.044280:  86%|########5 | 6/7 [00:01<00:00,  5.77it/s][I 2020-03-19 21:30:38,042] Finished trial#5 resulted in value: 0.04923882852454349. Current best value is 0.04427976958232808 with parameters: {'feature_fraction': 0.7}.\n",
      "tune_feature_fraction, val_score: 0.044280:  86%|########5 | 6/7 [00:01<00:00,  5.77it/s]"
     ]
    },
    {
     "name": "stdout",
     "output_type": "stream",
     "text": [
      "Training until validation scores don't improve for 100 rounds\n",
      "[100]\ttraining's l2: 0.000176653\tvalid_1's l2: 0.0551021\n",
      "Early stopping, best iteration is:\n",
      "[7]\ttraining's l2: 0.018748\tvalid_1's l2: 0.0497742\n"
     ]
    },
    {
     "name": "stderr",
     "output_type": "stream",
     "text": [
      "tune_feature_fraction, val_score: 0.044280: 100%|##########| 7/7 [00:01<00:00,  5.47it/s][I 2020-03-19 21:30:38,247] Finished trial#6 resulted in value: 0.049774199112300944. Current best value is 0.04427976958232808 with parameters: {'feature_fraction': 0.7}.\n",
      "tune_feature_fraction, val_score: 0.044280: 100%|##########| 7/7 [00:01<00:00,  5.54it/s]\n",
      "tune_num_leaves, val_score: 0.044280:   0%|          | 0/20 [00:00<?, ?it/s]"
     ]
    },
    {
     "name": "stdout",
     "output_type": "stream",
     "text": [
      "Training until validation scores don't improve for 100 rounds\n",
      "[100]\ttraining's l2: 0.000208898\tvalid_1's l2: 0.0487264\n",
      "Early stopping, best iteration is:\n",
      "[9]\ttraining's l2: 0.0132799\tvalid_1's l2: 0.044175\n"
     ]
    },
    {
     "name": "stderr",
     "output_type": "stream",
     "text": [
      "tune_num_leaves, val_score: 0.044175:   5%|5         | 1/20 [00:00<00:02,  7.24it/s][I 2020-03-19 21:30:38,426] Finished trial#0 resulted in value: 0.04417504624617026. Current best value is 0.04417504624617026 with parameters: {'num_leaves': 28}.\n",
      "tune_num_leaves, val_score: 0.044175:   5%|5         | 1/20 [00:00<00:02,  7.24it/s]"
     ]
    },
    {
     "name": "stdout",
     "output_type": "stream",
     "text": [
      "Training until validation scores don't improve for 100 rounds\n",
      "[100]\ttraining's l2: 0.000253914\tvalid_1's l2: 0.0503588\n",
      "Early stopping, best iteration is:\n",
      "[11]\ttraining's l2: 0.00982947\tvalid_1's l2: 0.0451887\n"
     ]
    },
    {
     "name": "stderr",
     "output_type": "stream",
     "text": [
      "tune_num_leaves, val_score: 0.044175:  10%|#         | 2/20 [00:00<00:02,  6.85it/s][I 2020-03-19 21:30:38,590] Finished trial#1 resulted in value: 0.04518866874769508. Current best value is 0.04417504624617026 with parameters: {'num_leaves': 28}.\n",
      "tune_num_leaves, val_score: 0.044175:  10%|#         | 2/20 [00:00<00:02,  6.85it/s]"
     ]
    },
    {
     "name": "stdout",
     "output_type": "stream",
     "text": [
      "Training until validation scores don't improve for 100 rounds\n",
      "[100]\ttraining's l2: 3.21299e-05\tvalid_1's l2: 0.0509909\n",
      "Early stopping, best iteration is:\n",
      "[4]\ttraining's l2: 0.0319559\tvalid_1's l2: 0.0454118\n"
     ]
    },
    {
     "name": "stderr",
     "output_type": "stream",
     "text": [
      "tune_num_leaves, val_score: 0.044175:  15%|#5        | 3/20 [00:00<00:04,  4.23it/s][I 2020-03-19 21:30:39,036] Finished trial#2 resulted in value: 0.0454118195088592. Current best value is 0.04417504624617026 with parameters: {'num_leaves': 28}.\n",
      "tune_num_leaves, val_score: 0.044175:  15%|#5        | 3/20 [00:00<00:04,  4.23it/s]"
     ]
    },
    {
     "name": "stdout",
     "output_type": "stream",
     "text": [
      "Training until validation scores don't improve for 100 rounds\n",
      "[100]\ttraining's l2: 0.0050863\tvalid_1's l2: 0.0379108\n",
      "Early stopping, best iteration is:\n",
      "[22]\ttraining's l2: 0.0158655\tvalid_1's l2: 0.0334375\n"
     ]
    },
    {
     "name": "stderr",
     "output_type": "stream",
     "text": [
      "tune_num_leaves, val_score: 0.033438:  15%|#5        | 3/20 [00:00<00:04,  4.23it/s][I 2020-03-19 21:30:39,097] Finished trial#3 resulted in value: 0.03343750350009258. Current best value is 0.03343750350009258 with parameters: {'num_leaves': 3}.\n",
      "tune_num_leaves, val_score: 0.033438:  20%|##        | 4/20 [00:00<00:03,  4.23it/s]"
     ]
    },
    {
     "name": "stdout",
     "output_type": "stream",
     "text": [
      "Training until validation scores don't improve for 100 rounds\n",
      "[100]\ttraining's l2: 3.21299e-05\tvalid_1's l2: 0.0509909\n",
      "Early stopping, best iteration is:\n",
      "[4]\ttraining's l2: 0.0319559\tvalid_1's l2: 0.0454118\n"
     ]
    },
    {
     "name": "stderr",
     "output_type": "stream",
     "text": [
      "tune_num_leaves, val_score: 0.033438:  25%|##5       | 5/20 [00:01<00:03,  4.10it/s][I 2020-03-19 21:30:39,561] Finished trial#4 resulted in value: 0.0454118195088592. Current best value is 0.03343750350009258 with parameters: {'num_leaves': 3}.\n",
      "tune_num_leaves, val_score: 0.033438:  25%|##5       | 5/20 [00:01<00:03,  4.10it/s]"
     ]
    },
    {
     "name": "stdout",
     "output_type": "stream",
     "text": [
      "Training until validation scores don't improve for 100 rounds\n",
      "[100]\ttraining's l2: 3.45217e-05\tvalid_1's l2: 0.0512622\n",
      "Early stopping, best iteration is:\n",
      "[4]\ttraining's l2: 0.031957\tvalid_1's l2: 0.0454205\n"
     ]
    },
    {
     "name": "stderr",
     "output_type": "stream",
     "text": [
      "tune_num_leaves, val_score: 0.033438:  30%|###       | 6/20 [00:01<00:04,  3.27it/s][I 2020-03-19 21:30:40,008] Finished trial#5 resulted in value: 0.04542052943426183. Current best value is 0.03343750350009258 with parameters: {'num_leaves': 3}.\n",
      "tune_num_leaves, val_score: 0.033438:  30%|###       | 6/20 [00:01<00:04,  3.27it/s]"
     ]
    },
    {
     "name": "stdout",
     "output_type": "stream",
     "text": [
      "Training until validation scores don't improve for 100 rounds\n",
      "[100]\ttraining's l2: 3.45217e-05\tvalid_1's l2: 0.0512622\n",
      "Early stopping, best iteration is:\n",
      "[4]\ttraining's l2: 0.031957\tvalid_1's l2: 0.0454205\n"
     ]
    },
    {
     "name": "stderr",
     "output_type": "stream",
     "text": [
      "tune_num_leaves, val_score: 0.033438:  35%|###5      | 7/20 [00:02<00:04,  2.88it/s][I 2020-03-19 21:30:40,453] Finished trial#6 resulted in value: 0.04542052943426183. Current best value is 0.03343750350009258 with parameters: {'num_leaves': 3}.\n",
      "tune_num_leaves, val_score: 0.033438:  35%|###5      | 7/20 [00:02<00:04,  2.88it/s]"
     ]
    },
    {
     "name": "stdout",
     "output_type": "stream",
     "text": [
      "Training until validation scores don't improve for 100 rounds\n",
      "[100]\ttraining's l2: 3.21299e-05\tvalid_1's l2: 0.0509909\n",
      "Early stopping, best iteration is:\n",
      "[4]\ttraining's l2: 0.0319559\tvalid_1's l2: 0.0454118\n"
     ]
    },
    {
     "name": "stderr",
     "output_type": "stream",
     "text": [
      "tune_num_leaves, val_score: 0.033438:  40%|####      | 8/20 [00:02<00:04,  2.65it/s][I 2020-03-19 21:30:40,901] Finished trial#7 resulted in value: 0.0454118195088592. Current best value is 0.03343750350009258 with parameters: {'num_leaves': 3}.\n",
      "tune_num_leaves, val_score: 0.033438:  40%|####      | 8/20 [00:02<00:04,  2.65it/s]"
     ]
    },
    {
     "name": "stdout",
     "output_type": "stream",
     "text": [
      "Training until validation scores don't improve for 100 rounds\n",
      "[100]\ttraining's l2: 3.21299e-05\tvalid_1's l2: 0.0509909\n",
      "Early stopping, best iteration is:\n",
      "[4]\ttraining's l2: 0.0319559\tvalid_1's l2: 0.0454118\n"
     ]
    },
    {
     "name": "stderr",
     "output_type": "stream",
     "text": [
      "tune_num_leaves, val_score: 0.033438:  45%|####5     | 9/20 [00:03<00:04,  2.51it/s][I 2020-03-19 21:30:41,348] Finished trial#8 resulted in value: 0.0454118195088592. Current best value is 0.03343750350009258 with parameters: {'num_leaves': 3}.\n",
      "tune_num_leaves, val_score: 0.033438:  45%|####5     | 9/20 [00:03<00:04,  2.51it/s]"
     ]
    },
    {
     "name": "stdout",
     "output_type": "stream",
     "text": [
      "Training until validation scores don't improve for 100 rounds\n",
      "[100]\ttraining's l2: 3.29895e-05\tvalid_1's l2: 0.0512687\n",
      "Early stopping, best iteration is:\n",
      "[4]\ttraining's l2: 0.0319559\tvalid_1's l2: 0.0454185\n"
     ]
    },
    {
     "name": "stderr",
     "output_type": "stream",
     "text": [
      "tune_num_leaves, val_score: 0.033438:  50%|#####     | 10/20 [00:03<00:04,  2.43it/s][I 2020-03-19 21:30:41,790] Finished trial#9 resulted in value: 0.04541847644545517. Current best value is 0.03343750350009258 with parameters: {'num_leaves': 3}.\n",
      "tune_num_leaves, val_score: 0.033438:  50%|#####     | 10/20 [00:03<00:04,  2.43it/s]"
     ]
    },
    {
     "name": "stdout",
     "output_type": "stream",
     "text": [
      "Training until validation scores don't improve for 100 rounds\n",
      "[100]\ttraining's l2: 4.62674e-05\tvalid_1's l2: 0.0520335\n",
      "Early stopping, best iteration is:\n",
      "[4]\ttraining's l2: 0.0321036\tvalid_1's l2: 0.0445061\n"
     ]
    },
    {
     "name": "stderr",
     "output_type": "stream",
     "text": [
      "tune_num_leaves, val_score: 0.033438:  55%|#####5    | 11/20 [00:03<00:03,  2.58it/s][I 2020-03-19 21:30:42,124] Finished trial#10 resulted in value: 0.044506096566802. Current best value is 0.03343750350009258 with parameters: {'num_leaves': 3}.\n",
      "tune_num_leaves, val_score: 0.033438:  55%|#####5    | 11/20 [00:03<00:03,  2.58it/s]"
     ]
    },
    {
     "name": "stdout",
     "output_type": "stream",
     "text": [
      "Training until validation scores don't improve for 100 rounds\n",
      "[100]\ttraining's l2: 0.00326994\tvalid_1's l2: 0.0414013\n",
      "Early stopping, best iteration is:\n",
      "[19]\ttraining's l2: 0.0139965\tvalid_1's l2: 0.037814\n"
     ]
    },
    {
     "name": "stderr",
     "output_type": "stream",
     "text": [
      "tune_num_leaves, val_score: 0.033438:  55%|#####5    | 11/20 [00:03<00:03,  2.58it/s][I 2020-03-19 21:30:42,198] Finished trial#11 resulted in value: 0.037813986058181495. Current best value is 0.03343750350009258 with parameters: {'num_leaves': 3}.\n",
      "tune_num_leaves, val_score: 0.033438:  60%|######    | 12/20 [00:03<00:03,  2.58it/s]"
     ]
    },
    {
     "name": "stdout",
     "output_type": "stream",
     "text": [
      "Training until validation scores don't improve for 100 rounds\n",
      "[100]\ttraining's l2: 0.0050863\tvalid_1's l2: 0.0379108\n",
      "Early stopping, best iteration is:\n",
      "[22]\ttraining's l2: 0.0158655\tvalid_1's l2: 0.0334375\n"
     ]
    },
    {
     "name": "stderr",
     "output_type": "stream",
     "text": [
      "tune_num_leaves, val_score: 0.033438:  65%|######5   | 13/20 [00:03<00:02,  3.42it/s][I 2020-03-19 21:30:42,265] Finished trial#12 resulted in value: 0.03343750350009258. Current best value is 0.03343750350009258 with parameters: {'num_leaves': 3}.\n",
      "tune_num_leaves, val_score: 0.033438:  65%|######5   | 13/20 [00:04<00:02,  3.42it/s]"
     ]
    },
    {
     "name": "stdout",
     "output_type": "stream",
     "text": [
      "Training until validation scores don't improve for 100 rounds\n",
      "[100]\ttraining's l2: 5.14972e-05\tvalid_1's l2: 0.0519634\n",
      "Early stopping, best iteration is:\n",
      "[4]\ttraining's l2: 0.0321402\tvalid_1's l2: 0.0454023\n"
     ]
    },
    {
     "name": "stderr",
     "output_type": "stream",
     "text": [
      "tune_num_leaves, val_score: 0.033438:  70%|#######   | 14/20 [00:04<00:01,  3.36it/s][I 2020-03-19 21:30:42,574] Finished trial#13 resulted in value: 0.04540232260758625. Current best value is 0.03343750350009258 with parameters: {'num_leaves': 3}.\n",
      "tune_num_leaves, val_score: 0.033438:  70%|#######   | 14/20 [00:04<00:01,  3.36it/s]"
     ]
    },
    {
     "name": "stdout",
     "output_type": "stream",
     "text": [
      "Training until validation scores don't improve for 100 rounds\n",
      "[100]\ttraining's l2: 5.45293e-05\tvalid_1's l2: 0.0527109\n",
      "Early stopping, best iteration is:\n",
      "[4]\ttraining's l2: 0.0321547\tvalid_1's l2: 0.0453158\n"
     ]
    },
    {
     "name": "stderr",
     "output_type": "stream",
     "text": [
      "tune_num_leaves, val_score: 0.033438:  75%|#######5  | 15/20 [00:04<00:01,  3.28it/s][I 2020-03-19 21:30:42,897] Finished trial#14 resulted in value: 0.04531581977518948. Current best value is 0.03343750350009258 with parameters: {'num_leaves': 3}.\n",
      "tune_num_leaves, val_score: 0.033438:  75%|#######5  | 15/20 [00:04<00:01,  3.28it/s]"
     ]
    },
    {
     "name": "stdout",
     "output_type": "stream",
     "text": [
      "Training until validation scores don't improve for 100 rounds\n",
      "[100]\ttraining's l2: 0.00136817\tvalid_1's l2: 0.0490956\n",
      "Early stopping, best iteration is:\n",
      "[9]\ttraining's l2: 0.0206073\tvalid_1's l2: 0.0421823\n"
     ]
    },
    {
     "name": "stderr",
     "output_type": "stream",
     "text": [
      "tune_num_leaves, val_score: 0.033438:  75%|#######5  | 15/20 [00:04<00:01,  3.28it/s][I 2020-03-19 21:30:42,991] Finished trial#15 resulted in value: 0.04218231102847078. Current best value is 0.03343750350009258 with parameters: {'num_leaves': 3}.\n",
      "tune_num_leaves, val_score: 0.033438:  80%|########  | 16/20 [00:04<00:01,  3.28it/s]"
     ]
    },
    {
     "name": "stdout",
     "output_type": "stream",
     "text": [
      "Training until validation scores don't improve for 100 rounds\n",
      "[100]\ttraining's l2: 8.59868e-05\tvalid_1's l2: 0.0510502\n",
      "Early stopping, best iteration is:\n",
      "[4]\ttraining's l2: 0.0324196\tvalid_1's l2: 0.0455706\n"
     ]
    },
    {
     "name": "stderr",
     "output_type": "stream",
     "text": [
      "tune_num_leaves, val_score: 0.033438:  85%|########5 | 17/20 [00:04<00:00,  3.71it/s][I 2020-03-19 21:30:43,270] Finished trial#16 resulted in value: 0.045570558873636605. Current best value is 0.03343750350009258 with parameters: {'num_leaves': 3}.\n",
      "tune_num_leaves, val_score: 0.033438:  85%|########5 | 17/20 [00:05<00:00,  3.71it/s]"
     ]
    },
    {
     "name": "stdout",
     "output_type": "stream",
     "text": [
      "Training until validation scores don't improve for 100 rounds\n",
      "[100]\ttraining's l2: 3.46907e-05\tvalid_1's l2: 0.0525142\n",
      "Early stopping, best iteration is:\n",
      "[4]\ttraining's l2: 0.0320003\tvalid_1's l2: 0.0453841\n"
     ]
    },
    {
     "name": "stderr",
     "output_type": "stream",
     "text": [
      "tune_num_leaves, val_score: 0.033438:  90%|######### | 18/20 [00:05<00:00,  3.07it/s][I 2020-03-19 21:30:43,726] Finished trial#17 resulted in value: 0.04538406998212598. Current best value is 0.03343750350009258 with parameters: {'num_leaves': 3}.\n",
      "tune_num_leaves, val_score: 0.033438:  90%|######### | 18/20 [00:05<00:00,  3.07it/s]"
     ]
    },
    {
     "name": "stdout",
     "output_type": "stream",
     "text": [
      "Training until validation scores don't improve for 100 rounds\n",
      "[100]\ttraining's l2: 0.000148917\tvalid_1's l2: 0.0523936\n",
      "Early stopping, best iteration is:\n",
      "[4]\ttraining's l2: 0.0329176\tvalid_1's l2: 0.0455986\n"
     ]
    },
    {
     "name": "stderr",
     "output_type": "stream",
     "text": [
      "tune_num_leaves, val_score: 0.033438:  95%|#########5| 19/20 [00:05<00:00,  3.45it/s][I 2020-03-19 21:30:43,930] Finished trial#18 resulted in value: 0.04559858618089242. Current best value is 0.03343750350009258 with parameters: {'num_leaves': 3}.\n",
      "tune_num_leaves, val_score: 0.033438:  95%|#########5| 19/20 [00:05<00:00,  3.45it/s]"
     ]
    },
    {
     "name": "stdout",
     "output_type": "stream",
     "text": [
      "Training until validation scores don't improve for 100 rounds\n",
      "[100]\ttraining's l2: 0.00983038\tvalid_1's l2: 0.0359347\n",
      "Early stopping, best iteration is:\n",
      "[33]\ttraining's l2: 0.0181534\tvalid_1's l2: 0.032999\n"
     ]
    },
    {
     "name": "stderr",
     "output_type": "stream",
     "text": [
      "tune_num_leaves, val_score: 0.032999:  95%|#########5| 19/20 [00:05<00:00,  3.45it/s][I 2020-03-19 21:30:43,996] Finished trial#19 resulted in value: 0.03299903146485407. Current best value is 0.03299903146485407 with parameters: {'num_leaves': 2}.\n",
      "tune_num_leaves, val_score: 0.032999: 100%|##########| 20/20 [00:05<00:00,  3.48it/s]\n",
      "tune_bagging_fraction_and_bagging_freq, val_score: 0.032999:   0%|          | 0/10 [00:00<?, ?it/s]"
     ]
    },
    {
     "name": "stdout",
     "output_type": "stream",
     "text": [
      "Training until validation scores don't improve for 100 rounds\n",
      "[100]\ttraining's l2: 0.00973638\tvalid_1's l2: 0.0364792\n",
      "Early stopping, best iteration is:\n",
      "[35]\ttraining's l2: 0.0175539\tvalid_1's l2: 0.0332988\n"
     ]
    },
    {
     "name": "stderr",
     "output_type": "stream",
     "text": [
      "tune_bagging_fraction_and_bagging_freq, val_score: 0.032999:   0%|          | 0/10 [00:00<?, ?it/s][I 2020-03-19 21:30:44,062] Finished trial#0 resulted in value: 0.03329882437002185. Current best value is 0.03329882437002185 with parameters: {'bagging_fraction': 0.8091736744599931, 'bagging_freq': 7}.\n",
      "tune_bagging_fraction_and_bagging_freq, val_score: 0.032999:  10%|#         | 1/10 [00:00<00:00, 15.19it/s]"
     ]
    },
    {
     "name": "stdout",
     "output_type": "stream",
     "text": [
      "Training until validation scores don't improve for 100 rounds\n",
      "[100]\ttraining's l2: 0.00977606\tvalid_1's l2: 0.0358954\n",
      "Early stopping, best iteration is:\n",
      "[49]\ttraining's l2: 0.0143874\tvalid_1's l2: 0.0328659\n"
     ]
    },
    {
     "name": "stderr",
     "output_type": "stream",
     "text": [
      "tune_bagging_fraction_and_bagging_freq, val_score: 0.032866:  10%|#         | 1/10 [00:00<00:00, 10.55it/s][I 2020-03-19 21:30:44,130] Finished trial#1 resulted in value: 0.032865942714758914. Current best value is 0.032865942714758914 with parameters: {'bagging_fraction': 0.8933447978163458, 'bagging_freq': 2}.\n",
      "tune_bagging_fraction_and_bagging_freq, val_score: 0.032866:  20%|##        | 2/10 [00:00<00:00, 15.02it/s]"
     ]
    },
    {
     "name": "stdout",
     "output_type": "stream",
     "text": [
      "Training until validation scores don't improve for 100 rounds\n",
      "[100]\ttraining's l2: 0.00987476\tvalid_1's l2: 0.0341224\n",
      "Early stopping, best iteration is:\n",
      "[73]\ttraining's l2: 0.0116218\tvalid_1's l2: 0.0337309\n"
     ]
    },
    {
     "name": "stderr",
     "output_type": "stream",
     "text": [
      "tune_bagging_fraction_and_bagging_freq, val_score: 0.032866:  30%|###       | 3/10 [00:00<00:00, 18.29it/s][I 2020-03-19 21:30:44,200] Finished trial#2 resulted in value: 0.03373090667206642. Current best value is 0.032865942714758914 with parameters: {'bagging_fraction': 0.8933447978163458, 'bagging_freq': 2}.\n",
      "tune_bagging_fraction_and_bagging_freq, val_score: 0.032866:  30%|###       | 3/10 [00:00<00:00, 18.29it/s]"
     ]
    },
    {
     "name": "stdout",
     "output_type": "stream",
     "text": [
      "Training until validation scores don't improve for 100 rounds\n",
      "[100]\ttraining's l2: 0.00956632\tvalid_1's l2: 0.0339385\n",
      "Early stopping, best iteration is:\n",
      "[64]\ttraining's l2: 0.012292\tvalid_1's l2: 0.0321008\n"
     ]
    },
    {
     "name": "stderr",
     "output_type": "stream",
     "text": [
      "tune_bagging_fraction_and_bagging_freq, val_score: 0.032101:  30%|###       | 3/10 [00:00<00:00, 18.29it/s][I 2020-03-19 21:30:44,267] Finished trial#3 resulted in value: 0.03210084574494735. Current best value is 0.03210084574494735 with parameters: {'bagging_fraction': 0.5994877130883713, 'bagging_freq': 1}.\n",
      "tune_bagging_fraction_and_bagging_freq, val_score: 0.032101:  40%|####      | 4/10 [00:00<00:00, 18.29it/s]"
     ]
    },
    {
     "name": "stdout",
     "output_type": "stream",
     "text": [
      "Training until validation scores don't improve for 100 rounds\n",
      "[100]\ttraining's l2: 0.00969494\tvalid_1's l2: 0.0344353\n",
      "Early stopping, best iteration is:\n",
      "[39]\ttraining's l2: 0.0164745\tvalid_1's l2: 0.0332889\n"
     ]
    },
    {
     "name": "stderr",
     "output_type": "stream",
     "text": [
      "tune_bagging_fraction_and_bagging_freq, val_score: 0.032101:  50%|#####     | 5/10 [00:00<00:00, 17.46it/s][I 2020-03-19 21:30:44,327] Finished trial#4 resulted in value: 0.0332888622413162. Current best value is 0.03210084574494735 with parameters: {'bagging_fraction': 0.5994877130883713, 'bagging_freq': 1}.\n",
      "tune_bagging_fraction_and_bagging_freq, val_score: 0.032101:  50%|#####     | 5/10 [00:00<00:00, 17.46it/s]"
     ]
    },
    {
     "name": "stdout",
     "output_type": "stream",
     "text": [
      "Training until validation scores don't improve for 100 rounds\n",
      "[100]\ttraining's l2: 0.00970595\tvalid_1's l2: 0.0362528\n",
      "Early stopping, best iteration is:\n",
      "[55]\ttraining's l2: 0.0135356\tvalid_1's l2: 0.0338515\n"
     ]
    },
    {
     "name": "stderr",
     "output_type": "stream",
     "text": [
      "tune_bagging_fraction_and_bagging_freq, val_score: 0.032101:  50%|#####     | 5/10 [00:00<00:00, 17.46it/s][I 2020-03-19 21:30:44,391] Finished trial#5 resulted in value: 0.03385153518611259. Current best value is 0.03210084574494735 with parameters: {'bagging_fraction': 0.5994877130883713, 'bagging_freq': 1}.\n",
      "tune_bagging_fraction_and_bagging_freq, val_score: 0.032101:  60%|######    | 6/10 [00:00<00:00, 17.46it/s]"
     ]
    },
    {
     "name": "stdout",
     "output_type": "stream",
     "text": [
      "Training until validation scores don't improve for 100 rounds\n",
      "[100]\ttraining's l2: 0.00974915\tvalid_1's l2: 0.035086\n",
      "Early stopping, best iteration is:\n",
      "[47]\ttraining's l2: 0.0149518\tvalid_1's l2: 0.0322374\n"
     ]
    },
    {
     "name": "stderr",
     "output_type": "stream",
     "text": [
      "tune_bagging_fraction_and_bagging_freq, val_score: 0.032101:  70%|#######   | 7/10 [00:00<00:00, 16.86it/s][I 2020-03-19 21:30:44,454] Finished trial#6 resulted in value: 0.032237385230485124. Current best value is 0.03210084574494735 with parameters: {'bagging_fraction': 0.5994877130883713, 'bagging_freq': 1}.\n",
      "tune_bagging_fraction_and_bagging_freq, val_score: 0.032101:  70%|#######   | 7/10 [00:00<00:00, 16.86it/s]"
     ]
    },
    {
     "name": "stdout",
     "output_type": "stream",
     "text": [
      "Training until validation scores don't improve for 100 rounds\n",
      "[100]\ttraining's l2: 0.00973161\tvalid_1's l2: 0.0348271\n",
      "Early stopping, best iteration is:\n",
      "[61]\ttraining's l2: 0.0126984\tvalid_1's l2: 0.0329935\n"
     ]
    },
    {
     "name": "stderr",
     "output_type": "stream",
     "text": [
      "tune_bagging_fraction_and_bagging_freq, val_score: 0.032101:  70%|#######   | 7/10 [00:00<00:00, 16.86it/s][I 2020-03-19 21:30:44,520] Finished trial#7 resulted in value: 0.032993497530973304. Current best value is 0.03210084574494735 with parameters: {'bagging_fraction': 0.5994877130883713, 'bagging_freq': 1}.\n",
      "tune_bagging_fraction_and_bagging_freq, val_score: 0.032101:  80%|########  | 8/10 [00:00<00:00, 16.86it/s]"
     ]
    },
    {
     "name": "stdout",
     "output_type": "stream",
     "text": [
      "Training until validation scores don't improve for 100 rounds\n",
      "[100]\ttraining's l2: 0.00980491\tvalid_1's l2: 0.0357689\n",
      "Early stopping, best iteration is:\n",
      "[50]\ttraining's l2: 0.0142492\tvalid_1's l2: 0.0330881\n"
     ]
    },
    {
     "name": "stderr",
     "output_type": "stream",
     "text": [
      "tune_bagging_fraction_and_bagging_freq, val_score: 0.032101:  90%|######### | 9/10 [00:00<00:00, 16.20it/s][I 2020-03-19 21:30:44,587] Finished trial#8 resulted in value: 0.03308807131735979. Current best value is 0.03210084574494735 with parameters: {'bagging_fraction': 0.5994877130883713, 'bagging_freq': 1}.\n",
      "tune_bagging_fraction_and_bagging_freq, val_score: 0.032101:  90%|######### | 9/10 [00:00<00:00, 16.20it/s]"
     ]
    },
    {
     "name": "stdout",
     "output_type": "stream",
     "text": [
      "Training until validation scores don't improve for 100 rounds\n",
      "[100]\ttraining's l2: 0.00969135\tvalid_1's l2: 0.0354595\n",
      "Early stopping, best iteration is:\n",
      "[49]\ttraining's l2: 0.0143134\tvalid_1's l2: 0.0322305\n"
     ]
    },
    {
     "name": "stderr",
     "output_type": "stream",
     "text": [
      "tune_bagging_fraction_and_bagging_freq, val_score: 0.032101:  90%|######### | 9/10 [00:00<00:00, 16.20it/s][I 2020-03-19 21:30:44,648] Finished trial#9 resulted in value: 0.03223054529910867. Current best value is 0.03210084574494735 with parameters: {'bagging_fraction': 0.5994877130883713, 'bagging_freq': 1}.\n",
      "tune_bagging_fraction_and_bagging_freq, val_score: 0.032101: 100%|##########| 10/10 [00:00<00:00, 15.38it/s]\n",
      "tune_feature_fraction, val_score: 0.032101:   0%|          | 0/6 [00:00<?, ?it/s]"
     ]
    },
    {
     "name": "stdout",
     "output_type": "stream",
     "text": [
      "Training until validation scores don't improve for 100 rounds\n",
      "[100]\ttraining's l2: 0.00957911\tvalid_1's l2: 0.0346903\n",
      "Early stopping, best iteration is:\n",
      "[61]\ttraining's l2: 0.012578\tvalid_1's l2: 0.0323624\n"
     ]
    },
    {
     "name": "stderr",
     "output_type": "stream",
     "text": [
      "tune_feature_fraction, val_score: 0.032101:   0%|          | 0/6 [00:00<?, ?it/s][I 2020-03-19 21:30:44,719] Finished trial#0 resulted in value: 0.03236240387810803. Current best value is 0.03236240387810803 with parameters: {'feature_fraction': 0.62}.\n",
      "tune_feature_fraction, val_score: 0.032101:  17%|#6        | 1/6 [00:00<00:00, 14.53it/s]"
     ]
    },
    {
     "name": "stdout",
     "output_type": "stream",
     "text": [
      "Training until validation scores don't improve for 100 rounds\n",
      "[100]\ttraining's l2: 0.00943635\tvalid_1's l2: 0.0341959\n",
      "Early stopping, best iteration is:\n",
      "[63]\ttraining's l2: 0.0122804\tvalid_1's l2: 0.0318707\n"
     ]
    },
    {
     "name": "stderr",
     "output_type": "stream",
     "text": [
      "tune_feature_fraction, val_score: 0.031871:  17%|#6        | 1/6 [00:00<00:00, 10.13it/s][I 2020-03-19 21:30:44,786] Finished trial#1 resulted in value: 0.03187067894732528. Current best value is 0.03187067894732528 with parameters: {'feature_fraction': 0.652}.\n",
      "tune_feature_fraction, val_score: 0.031871:  33%|###3      | 2/6 [00:00<00:00, 14.75it/s]"
     ]
    },
    {
     "name": "stdout",
     "output_type": "stream",
     "text": [
      "Training until validation scores don't improve for 100 rounds\n",
      "[100]\ttraining's l2: 0.00948225\tvalid_1's l2: 0.0343633\n",
      "Early stopping, best iteration is:\n",
      "[62]\ttraining's l2: 0.0123662\tvalid_1's l2: 0.0332019\n"
     ]
    },
    {
     "name": "stderr",
     "output_type": "stream",
     "text": [
      "tune_feature_fraction, val_score: 0.031871:  50%|#####     | 3/6 [00:00<00:00, 18.01it/s][I 2020-03-19 21:30:44,851] Finished trial#2 resulted in value: 0.03320190278184536. Current best value is 0.03187067894732528 with parameters: {'feature_fraction': 0.652}.\n",
      "tune_feature_fraction, val_score: 0.031871:  50%|#####     | 3/6 [00:00<00:00, 18.01it/s]"
     ]
    },
    {
     "name": "stdout",
     "output_type": "stream",
     "text": [
      "Training until validation scores don't improve for 100 rounds\n",
      "[100]\ttraining's l2: 0.00956877\tvalid_1's l2: 0.0344519\n",
      "Early stopping, best iteration is:\n",
      "[64]\ttraining's l2: 0.012299\tvalid_1's l2: 0.0321642\n"
     ]
    },
    {
     "name": "stderr",
     "output_type": "stream",
     "text": [
      "tune_feature_fraction, val_score: 0.031871:  50%|#####     | 3/6 [00:00<00:00, 18.01it/s][I 2020-03-19 21:30:44,921] Finished trial#3 resulted in value: 0.03216420445299444. Current best value is 0.03187067894732528 with parameters: {'feature_fraction': 0.652}.\n",
      "tune_feature_fraction, val_score: 0.031871:  67%|######6   | 4/6 [00:00<00:00, 18.01it/s]"
     ]
    },
    {
     "name": "stdout",
     "output_type": "stream",
     "text": [
      "Training until validation scores don't improve for 100 rounds\n",
      "[100]\ttraining's l2: 0.00958706\tvalid_1's l2: 0.0341101\n",
      "Early stopping, best iteration is:\n",
      "[65]\ttraining's l2: 0.0121617\tvalid_1's l2: 0.0324243\n"
     ]
    },
    {
     "name": "stderr",
     "output_type": "stream",
     "text": [
      "tune_feature_fraction, val_score: 0.031871:  83%|########3 | 5/6 [00:00<00:00, 16.83it/s][I 2020-03-19 21:30:44,992] Finished trial#4 resulted in value: 0.032424251261933164. Current best value is 0.03187067894732528 with parameters: {'feature_fraction': 0.652}.\n",
      "tune_feature_fraction, val_score: 0.031871:  83%|########3 | 5/6 [00:00<00:00, 16.83it/s]"
     ]
    },
    {
     "name": "stdout",
     "output_type": "stream",
     "text": [
      "Training until validation scores don't improve for 100 rounds\n",
      "[100]\ttraining's l2: 0.00947595\tvalid_1's l2: 0.0339775\n",
      "Early stopping, best iteration is:\n",
      "[47]\ttraining's l2: 0.0147204\tvalid_1's l2: 0.0314912\n"
     ]
    },
    {
     "name": "stderr",
     "output_type": "stream",
     "text": [
      "tune_feature_fraction, val_score: 0.031491:  83%|########3 | 5/6 [00:00<00:00, 16.83it/s][I 2020-03-19 21:30:45,058] Finished trial#5 resulted in value: 0.03149116812201393. Current best value is 0.03149116812201393 with parameters: {'feature_fraction': 0.7799999999999999}.\n",
      "tune_feature_fraction, val_score: 0.031491: 100%|##########| 6/6 [00:00<00:00, 14.69it/s]\n",
      "tune_lambda_l1_and_lambda_l2, val_score: 0.031491:   0%|          | 0/20 [00:00<?, ?it/s]"
     ]
    },
    {
     "name": "stdout",
     "output_type": "stream",
     "text": [
      "Training until validation scores don't improve for 100 rounds\n",
      "[100]\ttraining's l2: 0.00947595\tvalid_1's l2: 0.0339775\n",
      "Early stopping, best iteration is:\n",
      "[47]\ttraining's l2: 0.0147204\tvalid_1's l2: 0.0314912\n"
     ]
    },
    {
     "name": "stderr",
     "output_type": "stream",
     "text": [
      "tune_lambda_l1_and_lambda_l2, val_score: 0.031491:   0%|          | 0/20 [00:00<?, ?it/s][I 2020-03-19 21:30:45,127] Finished trial#0 resulted in value: 0.03149116835689334. Current best value is 0.03149116835689334 with parameters: {'lambda_l1': 2.44615396667859e-06, 'lambda_l2': 2.6581375651219843e-08}.\n",
      "tune_lambda_l1_and_lambda_l2, val_score: 0.031491:   5%|5         | 1/20 [00:00<00:01, 14.85it/s]"
     ]
    },
    {
     "name": "stdout",
     "output_type": "stream",
     "text": [
      "Training until validation scores don't improve for 100 rounds\n",
      "[100]\ttraining's l2: 0.00956614\tvalid_1's l2: 0.0354663\n",
      "Early stopping, best iteration is:\n",
      "[47]\ttraining's l2: 0.0147378\tvalid_1's l2: 0.031781\n"
     ]
    },
    {
     "name": "stderr",
     "output_type": "stream",
     "text": [
      "tune_lambda_l1_and_lambda_l2, val_score: 0.031491:   5%|5         | 1/20 [00:00<00:01, 10.18it/s][I 2020-03-19 21:30:45,196] Finished trial#1 resulted in value: 0.031780960500739155. Current best value is 0.03149116835689334 with parameters: {'lambda_l1': 2.44615396667859e-06, 'lambda_l2': 2.6581375651219843e-08}.\n",
      "tune_lambda_l1_and_lambda_l2, val_score: 0.031491:  10%|#         | 2/20 [00:00<00:01, 14.80it/s]"
     ]
    },
    {
     "name": "stdout",
     "output_type": "stream",
     "text": [
      "Training until validation scores don't improve for 100 rounds\n",
      "[100]\ttraining's l2: 0.00947596\tvalid_1's l2: 0.0339775\n",
      "Early stopping, best iteration is:\n",
      "[47]\ttraining's l2: 0.0147204\tvalid_1's l2: 0.0314912\n"
     ]
    },
    {
     "name": "stderr",
     "output_type": "stream",
     "text": [
      "tune_lambda_l1_and_lambda_l2, val_score: 0.031491:  15%|#5        | 3/20 [00:00<00:00, 17.44it/s][I 2020-03-19 21:30:45,269] Finished trial#2 resulted in value: 0.03149116554340553. Current best value is 0.03149116554340553 with parameters: {'lambda_l1': 2.523014146594942e-06, 'lambda_l2': 0.00044905705814703097}.\n",
      "tune_lambda_l1_and_lambda_l2, val_score: 0.031491:  15%|#5        | 3/20 [00:00<00:00, 17.44it/s]"
     ]
    },
    {
     "name": "stdout",
     "output_type": "stream",
     "text": [
      "Training until validation scores don't improve for 100 rounds\n",
      "[100]\ttraining's l2: 0.00947595\tvalid_1's l2: 0.0339775\n",
      "Early stopping, best iteration is:\n",
      "[47]\ttraining's l2: 0.0147204\tvalid_1's l2: 0.0314912\n"
     ]
    },
    {
     "name": "stderr",
     "output_type": "stream",
     "text": [
      "tune_lambda_l1_and_lambda_l2, val_score: 0.031491:  15%|#5        | 3/20 [00:00<00:00, 17.44it/s][I 2020-03-19 21:30:45,337] Finished trial#3 resulted in value: 0.031491169997182815. Current best value is 0.03149116554340553 with parameters: {'lambda_l1': 2.523014146594942e-06, 'lambda_l2': 0.00044905705814703097}.\n",
      "tune_lambda_l1_and_lambda_l2, val_score: 0.031491:  20%|##        | 4/20 [00:00<00:00, 17.44it/s]"
     ]
    },
    {
     "name": "stdout",
     "output_type": "stream",
     "text": [
      "Training until validation scores don't improve for 100 rounds\n",
      "[100]\ttraining's l2: 0.00956175\tvalid_1's l2: 0.0350166\n",
      "Early stopping, best iteration is:\n",
      "[47]\ttraining's l2: 0.0146131\tvalid_1's l2: 0.0321293\n"
     ]
    },
    {
     "name": "stderr",
     "output_type": "stream",
     "text": [
      "tune_lambda_l1_and_lambda_l2, val_score: 0.031491:  25%|##5       | 5/20 [00:00<00:00, 16.59it/s][I 2020-03-19 21:30:45,405] Finished trial#4 resulted in value: 0.03212933567619915. Current best value is 0.03149116554340553 with parameters: {'lambda_l1': 2.523014146594942e-06, 'lambda_l2': 0.00044905705814703097}.\n",
      "tune_lambda_l1_and_lambda_l2, val_score: 0.031491:  25%|##5       | 5/20 [00:00<00:00, 16.59it/s]"
     ]
    },
    {
     "name": "stdout",
     "output_type": "stream",
     "text": [
      "Training until validation scores don't improve for 100 rounds\n",
      "[100]\ttraining's l2: 0.00980563\tvalid_1's l2: 0.035485\n",
      "Early stopping, best iteration is:\n",
      "[47]\ttraining's l2: 0.0148654\tvalid_1's l2: 0.0320132\n"
     ]
    },
    {
     "name": "stderr",
     "output_type": "stream",
     "text": [
      "tune_lambda_l1_and_lambda_l2, val_score: 0.031491:  25%|##5       | 5/20 [00:00<00:00, 16.59it/s][I 2020-03-19 21:30:45,483] Finished trial#5 resulted in value: 0.03201323322311226. Current best value is 0.03149116554340553 with parameters: {'lambda_l1': 2.523014146594942e-06, 'lambda_l2': 0.00044905705814703097}.\n",
      "tune_lambda_l1_and_lambda_l2, val_score: 0.031491:  30%|###       | 6/20 [00:00<00:00, 16.59it/s]"
     ]
    },
    {
     "name": "stdout",
     "output_type": "stream",
     "text": [
      "Training until validation scores don't improve for 100 rounds\n",
      "[100]\ttraining's l2: 0.00947603\tvalid_1's l2: 0.0339775\n",
      "Early stopping, best iteration is:\n",
      "[47]\ttraining's l2: 0.0147205\tvalid_1's l2: 0.0314912\n"
     ]
    },
    {
     "name": "stderr",
     "output_type": "stream",
     "text": [
      "tune_lambda_l1_and_lambda_l2, val_score: 0.031491:  35%|###5      | 7/20 [00:00<00:00, 15.49it/s][I 2020-03-19 21:30:45,552] Finished trial#6 resulted in value: 0.03149116915722735. Current best value is 0.03149116554340553 with parameters: {'lambda_l1': 2.523014146594942e-06, 'lambda_l2': 0.00044905705814703097}.\n",
      "tune_lambda_l1_and_lambda_l2, val_score: 0.031491:  35%|###5      | 7/20 [00:00<00:00, 15.49it/s]"
     ]
    },
    {
     "name": "stdout",
     "output_type": "stream",
     "text": [
      "Training until validation scores don't improve for 100 rounds\n",
      "[100]\ttraining's l2: 0.009476\tvalid_1's l2: 0.0339775\n",
      "Early stopping, best iteration is:\n",
      "[47]\ttraining's l2: 0.0147204\tvalid_1's l2: 0.0314912\n"
     ]
    },
    {
     "name": "stderr",
     "output_type": "stream",
     "text": [
      "tune_lambda_l1_and_lambda_l2, val_score: 0.031491:  35%|###5      | 7/20 [00:00<00:00, 15.49it/s][I 2020-03-19 21:30:45,624] Finished trial#7 resulted in value: 0.03149118614962453. Current best value is 0.03149116554340553 with parameters: {'lambda_l1': 2.523014146594942e-06, 'lambda_l2': 0.00044905705814703097}.\n",
      "tune_lambda_l1_and_lambda_l2, val_score: 0.031491:  40%|####      | 8/20 [00:00<00:00, 15.49it/s]"
     ]
    },
    {
     "name": "stdout",
     "output_type": "stream",
     "text": [
      "Training until validation scores don't improve for 100 rounds\n",
      "[100]\ttraining's l2: 0.0094833\tvalid_1's l2: 0.0339777\n",
      "Early stopping, best iteration is:\n",
      "[47]\ttraining's l2: 0.0147279\tvalid_1's l2: 0.0314934\n"
     ]
    },
    {
     "name": "stderr",
     "output_type": "stream",
     "text": [
      "tune_lambda_l1_and_lambda_l2, val_score: 0.031491:  45%|####5     | 9/20 [00:00<00:00, 14.94it/s][I 2020-03-19 21:30:45,699] Finished trial#8 resulted in value: 0.0314933940711084. Current best value is 0.03149116554340553 with parameters: {'lambda_l1': 2.523014146594942e-06, 'lambda_l2': 0.00044905705814703097}.\n",
      "tune_lambda_l1_and_lambda_l2, val_score: 0.031491:  45%|####5     | 9/20 [00:00<00:00, 14.94it/s]"
     ]
    },
    {
     "name": "stdout",
     "output_type": "stream",
     "text": [
      "Training until validation scores don't improve for 100 rounds\n",
      "[100]\ttraining's l2: 0.00961481\tvalid_1's l2: 0.0344748\n",
      "Early stopping, best iteration is:\n",
      "[64]\ttraining's l2: 0.0123243\tvalid_1's l2: 0.032376\n"
     ]
    },
    {
     "name": "stderr",
     "output_type": "stream",
     "text": [
      "tune_lambda_l1_and_lambda_l2, val_score: 0.031491:  45%|####5     | 9/20 [00:00<00:00, 14.94it/s][I 2020-03-19 21:30:45,770] Finished trial#9 resulted in value: 0.03237596631623041. Current best value is 0.03149116554340553 with parameters: {'lambda_l1': 2.523014146594942e-06, 'lambda_l2': 0.00044905705814703097}.\n",
      "tune_lambda_l1_and_lambda_l2, val_score: 0.031491:  50%|#####     | 10/20 [00:00<00:00, 14.94it/s]"
     ]
    },
    {
     "name": "stdout",
     "output_type": "stream",
     "text": [
      "Training until validation scores don't improve for 100 rounds\n",
      "[100]\ttraining's l2: 0.00947595\tvalid_1's l2: 0.0339775\n",
      "Early stopping, best iteration is:\n",
      "[47]\ttraining's l2: 0.0147204\tvalid_1's l2: 0.0314912\n"
     ]
    },
    {
     "name": "stderr",
     "output_type": "stream",
     "text": [
      "tune_lambda_l1_and_lambda_l2, val_score: 0.031491:  55%|#####5    | 11/20 [00:00<00:00, 14.40it/s][I 2020-03-19 21:30:45,851] Finished trial#10 resulted in value: 0.031491168122590604. Current best value is 0.03149116554340553 with parameters: {'lambda_l1': 2.523014146594942e-06, 'lambda_l2': 0.00044905705814703097}.\n",
      "tune_lambda_l1_and_lambda_l2, val_score: 0.031491:  55%|#####5    | 11/20 [00:00<00:00, 14.40it/s]"
     ]
    },
    {
     "name": "stdout",
     "output_type": "stream",
     "text": [
      "Training until validation scores don't improve for 100 rounds\n",
      "[100]\ttraining's l2: 0.00947595\tvalid_1's l2: 0.0339775\n",
      "Early stopping, best iteration is:\n",
      "[47]\ttraining's l2: 0.0147204\tvalid_1's l2: 0.0314912\n"
     ]
    },
    {
     "name": "stderr",
     "output_type": "stream",
     "text": [
      "tune_lambda_l1_and_lambda_l2, val_score: 0.031491:  55%|#####5    | 11/20 [00:00<00:00, 14.40it/s][I 2020-03-19 21:30:45,928] Finished trial#11 resulted in value: 0.03149116812296519. Current best value is 0.03149116554340553 with parameters: {'lambda_l1': 2.523014146594942e-06, 'lambda_l2': 0.00044905705814703097}.\n",
      "tune_lambda_l1_and_lambda_l2, val_score: 0.031491:  60%|######    | 12/20 [00:00<00:00, 14.40it/s]"
     ]
    },
    {
     "name": "stdout",
     "output_type": "stream",
     "text": [
      "Training until validation scores don't improve for 100 rounds\n",
      "[100]\ttraining's l2: 0.00947595\tvalid_1's l2: 0.0339775\n",
      "Early stopping, best iteration is:\n",
      "[47]\ttraining's l2: 0.0147204\tvalid_1's l2: 0.0314912\n"
     ]
    },
    {
     "name": "stderr",
     "output_type": "stream",
     "text": [
      "tune_lambda_l1_and_lambda_l2, val_score: 0.031491:  65%|######5   | 13/20 [00:00<00:00, 14.06it/s][I 2020-03-19 21:30:45,998] Finished trial#12 resulted in value: 0.03149116809418187. Current best value is 0.03149116554340553 with parameters: {'lambda_l1': 2.523014146594942e-06, 'lambda_l2': 0.00044905705814703097}.\n",
      "tune_lambda_l1_and_lambda_l2, val_score: 0.031491:  65%|######5   | 13/20 [00:00<00:00, 14.06it/s]"
     ]
    },
    {
     "name": "stdout",
     "output_type": "stream",
     "text": [
      "Training until validation scores don't improve for 100 rounds\n",
      "[100]\ttraining's l2: 0.00947595\tvalid_1's l2: 0.0339775\n",
      "Early stopping, best iteration is:\n",
      "[47]\ttraining's l2: 0.0147204\tvalid_1's l2: 0.0314912\n"
     ]
    },
    {
     "name": "stderr",
     "output_type": "stream",
     "text": [
      "tune_lambda_l1_and_lambda_l2, val_score: 0.031491:  65%|######5   | 13/20 [00:00<00:00, 14.06it/s][I 2020-03-19 21:30:46,073] Finished trial#13 resulted in value: 0.031491168102311555. Current best value is 0.03149116554340553 with parameters: {'lambda_l1': 2.523014146594942e-06, 'lambda_l2': 0.00044905705814703097}.\n",
      "tune_lambda_l1_and_lambda_l2, val_score: 0.031491:  70%|#######   | 14/20 [00:01<00:00, 14.06it/s]"
     ]
    },
    {
     "name": "stdout",
     "output_type": "stream",
     "text": [
      "Training until validation scores don't improve for 100 rounds\n",
      "[100]\ttraining's l2: 0.00947595\tvalid_1's l2: 0.0339775\n",
      "Early stopping, best iteration is:\n",
      "[47]\ttraining's l2: 0.0147204\tvalid_1's l2: 0.0314912\n"
     ]
    },
    {
     "name": "stderr",
     "output_type": "stream",
     "text": [
      "tune_lambda_l1_and_lambda_l2, val_score: 0.031491:  75%|#######5  | 15/20 [00:01<00:00, 13.91it/s][I 2020-03-19 21:30:46,146] Finished trial#14 resulted in value: 0.03149116815555489. Current best value is 0.03149116554340553 with parameters: {'lambda_l1': 2.523014146594942e-06, 'lambda_l2': 0.00044905705814703097}.\n",
      "tune_lambda_l1_and_lambda_l2, val_score: 0.031491:  75%|#######5  | 15/20 [00:01<00:00, 13.91it/s]"
     ]
    },
    {
     "name": "stdout",
     "output_type": "stream",
     "text": [
      "Training until validation scores don't improve for 100 rounds\n",
      "[100]\ttraining's l2: 0.00947595\tvalid_1's l2: 0.0339775\n",
      "Early stopping, best iteration is:\n",
      "[47]\ttraining's l2: 0.0147204\tvalid_1's l2: 0.0314912\n"
     ]
    },
    {
     "name": "stderr",
     "output_type": "stream",
     "text": [
      "tune_lambda_l1_and_lambda_l2, val_score: 0.031491:  75%|#######5  | 15/20 [00:01<00:00, 13.91it/s][I 2020-03-19 21:30:46,213] Finished trial#15 resulted in value: 0.03149116793474182. Current best value is 0.03149116554340553 with parameters: {'lambda_l1': 2.523014146594942e-06, 'lambda_l2': 0.00044905705814703097}.\n",
      "tune_lambda_l1_and_lambda_l2, val_score: 0.031491:  80%|########  | 16/20 [00:01<00:00, 13.91it/s]"
     ]
    },
    {
     "name": "stdout",
     "output_type": "stream",
     "text": [
      "Training until validation scores don't improve for 100 rounds\n",
      "[100]\ttraining's l2: 0.00947605\tvalid_1's l2: 0.0339775\n",
      "Early stopping, best iteration is:\n",
      "[47]\ttraining's l2: 0.0147206\tvalid_1's l2: 0.0314911\n"
     ]
    },
    {
     "name": "stderr",
     "output_type": "stream",
     "text": [
      "tune_lambda_l1_and_lambda_l2, val_score: 0.031491:  85%|########5 | 17/20 [00:01<00:00, 13.99it/s][I 2020-03-19 21:30:46,288] Finished trial#16 resulted in value: 0.031491138673328735. Current best value is 0.031491138673328735 with parameters: {'lambda_l1': 6.933975769970744e-06, 'lambda_l2': 0.004796207071351173}.\n",
      "tune_lambda_l1_and_lambda_l2, val_score: 0.031491:  85%|########5 | 17/20 [00:01<00:00, 13.99it/s]"
     ]
    },
    {
     "name": "stdout",
     "output_type": "stream",
     "text": [
      "Training until validation scores don't improve for 100 rounds\n",
      "[100]\ttraining's l2: 0.00947766\tvalid_1's l2: 0.0339773\n",
      "Early stopping, best iteration is:\n",
      "[47]\ttraining's l2: 0.014724\tvalid_1's l2: 0.0314907\n"
     ]
    },
    {
     "name": "stderr",
     "output_type": "stream",
     "text": [
      "tune_lambda_l1_and_lambda_l2, val_score: 0.031491:  85%|########5 | 17/20 [00:01<00:00, 13.99it/s][I 2020-03-19 21:30:46,358] Finished trial#17 resulted in value: 0.031490676535346214. Current best value is 0.031490676535346214 with parameters: {'lambda_l1': 8.84012105100178e-06, 'lambda_l2': 0.07866522228484679}.\n",
      "tune_lambda_l1_and_lambda_l2, val_score: 0.031491:  90%|######### | 18/20 [00:01<00:00, 13.99it/s]"
     ]
    },
    {
     "name": "stdout",
     "output_type": "stream",
     "text": [
      "Training until validation scores don't improve for 100 rounds\n",
      "[100]\ttraining's l2: 0.00947773\tvalid_1's l2: 0.0339774\n",
      "Early stopping, best iteration is:\n",
      "[47]\ttraining's l2: 0.0147237\tvalid_1's l2: 0.0314909\n"
     ]
    },
    {
     "name": "stderr",
     "output_type": "stream",
     "text": [
      "tune_lambda_l1_and_lambda_l2, val_score: 0.031491:  95%|#########5| 19/20 [00:01<00:00, 14.00it/s][I 2020-03-19 21:30:46,430] Finished trial#18 resulted in value: 0.0314908782004276. Current best value is 0.031490676535346214 with parameters: {'lambda_l1': 8.84012105100178e-06, 'lambda_l2': 0.07866522228484679}.\n",
      "tune_lambda_l1_and_lambda_l2, val_score: 0.031491:  95%|#########5| 19/20 [00:01<00:00, 14.00it/s]"
     ]
    },
    {
     "name": "stdout",
     "output_type": "stream",
     "text": [
      "Training until validation scores don't improve for 100 rounds\n",
      "[100]\ttraining's l2: 0.00990271\tvalid_1's l2: 0.0352326\n",
      "Early stopping, best iteration is:\n",
      "[47]\ttraining's l2: 0.0151557\tvalid_1's l2: 0.0324856\n"
     ]
    },
    {
     "name": "stderr",
     "output_type": "stream",
     "text": [
      "tune_lambda_l1_and_lambda_l2, val_score: 0.031491:  95%|#########5| 19/20 [00:01<00:00, 14.00it/s][I 2020-03-19 21:30:46,497] Finished trial#19 resulted in value: 0.03248556409842353. Current best value is 0.031490676535346214 with parameters: {'lambda_l1': 8.84012105100178e-06, 'lambda_l2': 0.07866522228484679}.\n",
      "tune_lambda_l1_and_lambda_l2, val_score: 0.031491: 100%|##########| 20/20 [00:01<00:00, 13.92it/s]\n",
      "tune_min_child_samples, val_score: 0.031491:   0%|          | 0/5 [00:00<?, ?it/s]"
     ]
    },
    {
     "name": "stdout",
     "output_type": "stream",
     "text": [
      "Training until validation scores don't improve for 100 rounds\n",
      "[100]\ttraining's l2: 0.00947766\tvalid_1's l2: 0.0339773\n",
      "Early stopping, best iteration is:\n",
      "[47]\ttraining's l2: 0.014724\tvalid_1's l2: 0.0314907\n"
     ]
    },
    {
     "name": "stderr",
     "output_type": "stream",
     "text": [
      "tune_min_child_samples, val_score: 0.031491:   0%|          | 0/5 [00:00<?, ?it/s][I 2020-03-19 21:30:46,563] Finished trial#0 resulted in value: 0.031490676535346214. Current best value is 0.031490676535346214 with parameters: {'min_child_samples': 5}.\n",
      "tune_min_child_samples, val_score: 0.031491:  20%|##        | 1/5 [00:00<00:00, 15.43it/s]"
     ]
    },
    {
     "name": "stdout",
     "output_type": "stream",
     "text": [
      "Training until validation scores don't improve for 100 rounds\n",
      "[100]\ttraining's l2: 0.00947766\tvalid_1's l2: 0.0339773\n",
      "Early stopping, best iteration is:\n",
      "[47]\ttraining's l2: 0.014724\tvalid_1's l2: 0.0314907\n"
     ]
    },
    {
     "name": "stderr",
     "output_type": "stream",
     "text": [
      "tune_min_child_samples, val_score: 0.031491:  20%|##        | 1/5 [00:00<00:00, 11.02it/s][I 2020-03-19 21:30:46,627] Finished trial#1 resulted in value: 0.031490676535346214. Current best value is 0.031490676535346214 with parameters: {'min_child_samples': 5}.\n",
      "tune_min_child_samples, val_score: 0.031491:  40%|####      | 2/5 [00:00<00:00, 15.48it/s]"
     ]
    },
    {
     "name": "stdout",
     "output_type": "stream",
     "text": [
      "Training until validation scores don't improve for 100 rounds\n",
      "[100]\ttraining's l2: 0.00947766\tvalid_1's l2: 0.0339773\n",
      "Early stopping, best iteration is:\n",
      "[47]\ttraining's l2: 0.014724\tvalid_1's l2: 0.0314907\n"
     ]
    },
    {
     "name": "stderr",
     "output_type": "stream",
     "text": [
      "tune_min_child_samples, val_score: 0.031491:  60%|######    | 3/5 [00:00<00:00, 18.62it/s][I 2020-03-19 21:30:46,696] Finished trial#2 resulted in value: 0.031490676535346214. Current best value is 0.031490676535346214 with parameters: {'min_child_samples': 5}.\n",
      "tune_min_child_samples, val_score: 0.031491:  60%|######    | 3/5 [00:00<00:00, 18.62it/s]"
     ]
    },
    {
     "name": "stdout",
     "output_type": "stream",
     "text": [
      "Training until validation scores don't improve for 100 rounds\n",
      "[100]\ttraining's l2: 0.00976875\tvalid_1's l2: 0.0340729\n",
      "Early stopping, best iteration is:\n",
      "[65]\ttraining's l2: 0.0123522\tvalid_1's l2: 0.0317338\n"
     ]
    },
    {
     "name": "stderr",
     "output_type": "stream",
     "text": [
      "tune_min_child_samples, val_score: 0.031491:  60%|######    | 3/5 [00:00<00:00, 18.62it/s][I 2020-03-19 21:30:46,762] Finished trial#3 resulted in value: 0.03173378212184862. Current best value is 0.031490676535346214 with parameters: {'min_child_samples': 5}.\n",
      "tune_min_child_samples, val_score: 0.031491:  80%|########  | 4/5 [00:00<00:00, 18.62it/s]"
     ]
    },
    {
     "name": "stdout",
     "output_type": "stream",
     "text": [
      "Training until validation scores don't improve for 100 rounds\n",
      "[100]\ttraining's l2: 0.0105759\tvalid_1's l2: 0.0338345\n",
      "Early stopping, best iteration is:\n",
      "[49]\ttraining's l2: 0.015141\tvalid_1's l2: 0.0315682\n"
     ]
    },
    {
     "name": "stderr",
     "output_type": "stream",
     "text": [
      "tune_min_child_samples, val_score: 0.031491: 100%|##########| 5/5 [00:00<00:00, 17.26it/s][I 2020-03-19 21:30:46,835] Finished trial#4 resulted in value: 0.031568175179558185. Current best value is 0.031490676535346214 with parameters: {'min_child_samples': 5}.\n",
      "tune_min_child_samples, val_score: 0.031491: 100%|##########| 5/5 [00:00<00:00, 14.87it/s]\n"
     ]
    },
    {
     "name": "stdout",
     "output_type": "stream",
     "text": [
      "Number of finished trials: 68\n",
      "Best params: {'lambda_l1': 8.84012105100178e-06, 'lambda_l2': 0.07866522228484679, 'num_leaves': 2, 'feature_fraction': 0.7799999999999999, 'bagging_fraction': 0.5994877130883713, 'bagging_freq': 1, 'min_child_samples': 20}\n",
      "  r2_score = -0.0338107080938046\n",
      "  Params: \n",
      "    lambda_l1: 8.84012105100178e-06\n",
      "    lambda_l2: 0.07866522228484679\n",
      "    num_leaves: 2\n",
      "    feature_fraction: 0.7799999999999999\n",
      "    bagging_fraction: 0.5994877130883713\n",
      "    bagging_freq: 1\n",
      "    min_child_samples: 20\n"
     ]
    }
   ],
   "source": [
    "dtrain = lgb.Dataset(X_train, label=y_train)\n",
    "dval = lgb.Dataset(X_test, label=y_test)\n",
    "\n",
    "params = {\n",
    "    'objective': 'regression',\n",
    "    'metric': 'l2',\n",
    "    'verbosity': -1,\n",
    "    'boosting_type': 'gbdt',\n",
    "}\n",
    "\n",
    "best_params, tuning_history = dict(), list()\n",
    "\n",
    "model = lgb.train(params,\n",
    "                  dtrain,\n",
    "                  valid_sets=[dtrain, dval],\n",
    "                  best_params=best_params,\n",
    "                  tuning_history=tuning_history,\n",
    "                  verbose_eval=100,\n",
    "                  early_stopping_rounds=100,\n",
    "                  )\n",
    "\n",
    "prediction = np.rint(model.predict(X_test, num_iteration=model.best_iteration))\n",
    "r2_score = r2_score(y_test, prediction)\n",
    "\n",
    "print('Number of finished trials: {}'.format(len(tuning_history)))\n",
    "print('Best params:', best_params)\n",
    "print('  r2_score = {}'.format(r2_score))\n",
    "print('  Params: ')\n",
    "for key, value in best_params.items():\n",
    "    print('    {}: {}'.format(key, value))"
   ]
  },
  {
   "cell_type": "markdown",
   "metadata": {},
   "source": [
    "### Tuning된 값 입력하여 모델 선언"
   ]
  },
  {
   "cell_type": "code",
   "execution_count": 81,
   "metadata": {},
   "outputs": [],
   "source": [
    "lgb_reg = LGBMRegressor(lambda_l1 = 8.84012105100178e-06, lambda_l2 = 0.07866522228484679, num_leaves = 2, feature_fraction = 0.7799999999999999, bagging_fraction = 0.5994877130883713, bagging_freq = 1, min_child_samples = 20)"
   ]
  },
  {
   "cell_type": "code",
   "execution_count": 82,
   "metadata": {},
   "outputs": [
    {
     "data": {
      "text/plain": [
       "LGBMRegressor(bagging_fraction=0.5994877130883713, bagging_freq=1,\n",
       "              boosting_type='gbdt', class_weight=None, colsample_bytree=1.0,\n",
       "              feature_fraction=0.7799999999999999, importance_type='split',\n",
       "              lambda_l1=8.84012105100178e-06, lambda_l2=0.07866522228484679,\n",
       "              learning_rate=0.1, max_depth=-1, min_child_samples=20,\n",
       "              min_child_weight=0.001, min_split_gain=0.0, n_estimators=100,\n",
       "              n_jobs=-1, num_leaves=2, objective=None, random_state=None,\n",
       "              reg_alpha=0.0, reg_lambda=0.0, silent=True, subsample=1.0,\n",
       "              subsample_for_bin=200000, subsample_freq=0)"
      ]
     },
     "execution_count": 82,
     "metadata": {},
     "output_type": "execute_result"
    }
   ],
   "source": [
    "lgb_reg.fit(X_train, y_train)"
   ]
  },
  {
   "cell_type": "code",
   "execution_count": 83,
   "metadata": {},
   "outputs": [],
   "source": [
    "lgb_pred = lgb_reg.predict(X_test)"
   ]
  },
  {
   "cell_type": "code",
   "execution_count": 84,
   "metadata": {},
   "outputs": [
    {
     "data": {
      "text/plain": [
       "array([ 1.46180318e-01,  1.36691419e-01,  1.04688207e-01,  1.12765338e-01,\n",
       "        1.36691419e-01,  1.04688207e-01,  1.04688207e-01,  1.04338851e-01,\n",
       "        1.28264932e-01,  1.28264932e-01,  1.37753831e-01,  1.37753831e-01,\n",
       "        1.28264932e-01,  1.28264932e-01,  1.28264932e-01,  1.28264932e-01,\n",
       "        1.04338851e-01,  9.62617196e-02,  1.00350794e-01,  1.37753831e-01,\n",
       "        1.37753831e-01,  1.37753831e-01,  1.37753831e-01,  1.37753831e-01,\n",
       "        1.37753831e-01,  1.37753831e-01,  1.37753831e-01,  1.37753831e-01,\n",
       "        1.37753831e-01,  1.37753831e-01,  1.37753831e-01,  1.37753831e-01,\n",
       "        9.62617196e-02,  1.01317526e-01,  1.01317526e-01,  1.01317526e-01,\n",
       "        1.09394658e-01,  1.33320739e-01,  1.01317526e-01,  1.01317526e-01,\n",
       "        8.54680800e-02,  8.54680800e-02,  8.54680800e-02,  8.54680800e-02,\n",
       "        8.54680800e-02,  8.54680800e-02,  8.54680800e-02,  1.01317526e-01,\n",
       "        8.54680800e-02,  8.54680800e-02,  8.54680800e-02,  1.01317526e-01,\n",
       "        1.09394658e-01,  1.33320739e-01,  1.33320739e-01,  1.33320739e-01,\n",
       "        1.33320739e-01,  1.33320739e-01,  1.01317526e-01,  1.01317526e-01,\n",
       "        1.01317526e-01,  1.01317526e-01,  1.09394658e-01,  1.42558355e-01,\n",
       "        1.42558355e-01,  1.34481223e-01,  1.34481223e-01,  1.46647429e-01,\n",
       "        1.86584079e-01,  1.86584079e-01,  1.86584079e-01,  1.86584079e-01,\n",
       "        1.78157592e-01,  1.73101785e-01,  1.81178917e-01,  2.05104997e-01,\n",
       "        1.81178917e-01,  1.81528272e-01,  1.81528272e-01,  1.65678826e-01,\n",
       "        1.65678826e-01,  1.65678826e-01,  1.65678826e-01,  1.65678826e-01,\n",
       "        1.32515129e-01,  1.32515129e-01,  1.48364575e-01,  1.48364575e-01,\n",
       "        1.48364575e-01,  1.80367788e-01,  1.89856687e-01,  1.80367788e-01,\n",
       "        1.48364575e-01,  1.32515129e-01,  1.48364575e-01,  1.32515129e-01,\n",
       "        1.32515129e-01,  1.32515129e-01,  1.32515129e-01,  1.48364575e-01,\n",
       "        9.62617196e-02,  8.88387601e-02,  7.27908301e-02,  7.27908301e-02,\n",
       "        7.27908301e-02,  7.27908301e-02,  7.27908301e-02,  7.27908301e-02,\n",
       "        4.50223416e-02,  3.69895991e-02,  3.69895991e-02,  3.69895991e-02,\n",
       "        3.69895991e-02,  3.69895991e-02,  3.69895991e-02,  3.69895991e-02,\n",
       "        3.69895991e-02,  3.69895991e-02,  3.69895991e-02,  3.69895991e-02,\n",
       "        3.69895991e-02,  3.69895991e-02,  3.69895991e-02,  3.69895991e-02,\n",
       "        2.85631121e-02,  2.85631121e-02,  2.85631121e-02,  2.85631121e-02,\n",
       "        2.85631121e-02,  2.85631121e-02,  2.85631121e-02,  2.85631121e-02,\n",
       "        2.85631121e-02,  2.85631121e-02,  2.85631121e-02,  2.85631121e-02,\n",
       "        2.85631121e-02,  2.85631121e-02,  2.85631121e-02,  2.85631121e-02,\n",
       "        2.85631121e-02,  2.85631121e-02,  2.85631121e-02,  2.85631121e-02,\n",
       "        2.85631121e-02,  2.85631121e-02,  2.85631121e-02,  2.85631121e-02,\n",
       "        2.85631121e-02,  2.85631121e-02,  2.85631121e-02,  3.36189189e-02,\n",
       "        3.36189189e-02,  3.36189189e-02,  3.36189189e-02,  3.36189189e-02,\n",
       "        3.36189189e-02,  3.36189189e-02,  3.36189189e-02,  3.36189189e-02,\n",
       "        3.36189189e-02,  3.36189189e-02,  3.36189189e-02,  3.36189189e-02,\n",
       "        3.36189189e-02,  3.36189189e-02,  2.85631121e-02,  2.85631121e-02,\n",
       "        2.85631121e-02,  2.85631121e-02,  2.85631121e-02,  2.85631121e-02,\n",
       "        2.85631121e-02,  2.85631121e-02,  2.85631121e-02,  2.85631121e-02,\n",
       "        2.85631121e-02,  2.85631121e-02,  2.85631121e-02,  2.85631121e-02,\n",
       "        2.85631121e-02,  2.85631121e-02,  2.85631121e-02,  2.85631121e-02,\n",
       "        2.85631121e-02,  3.69895991e-02,  3.69895991e-02,  3.10851731e-02,\n",
       "        3.10851731e-02,  3.10851731e-02,  3.10851731e-02,  3.10851731e-02,\n",
       "        3.10851731e-02,  3.10851731e-02,  3.10851731e-02,  8.72917813e-02,\n",
       "        8.72917813e-02,  8.72917813e-02,  1.42980784e-01,  1.42980784e-01,\n",
       "        1.42980784e-01,  1.42980784e-01,  1.14086435e-01,  1.14086435e-01,\n",
       "        1.14086435e-01,  1.14086435e-01,  1.14086435e-01,  1.14086435e-01,\n",
       "        1.35445997e-01,  1.41350423e-01,  1.69115062e-01,  1.69115062e-01,\n",
       "        1.69115062e-01,  1.69115062e-01,  1.41350423e-01,  1.41350423e-01,\n",
       "        1.41350423e-01,  1.41350423e-01,  1.41350423e-01,  1.49776910e-01,\n",
       "        1.49776910e-01,  1.49776910e-01,  1.41350423e-01,  1.41350423e-01,\n",
       "        1.41350423e-01,  1.41350423e-01,  1.41350423e-01,  1.41350423e-01,\n",
       "        1.41350423e-01,  8.47697203e-02,  8.47697203e-02,  8.47697203e-02,\n",
       "        8.47697203e-02,  8.47697203e-02,  2.85631121e-02,  2.32682462e-02,\n",
       "        2.32682462e-02,  2.32682462e-02,  2.32682462e-02,  2.32682462e-02,\n",
       "        2.32682462e-02,  2.32682462e-02,  2.32682462e-02,  2.32682462e-02,\n",
       "        2.32682462e-02,  2.32682462e-02,  2.32682462e-02,  1.53766036e-02,\n",
       "        1.53766036e-02, -5.98295795e-03, -5.98295795e-03, -5.98295795e-03,\n",
       "       -2.10774616e-02, -3.14443998e-02, -3.14443998e-02, -4.13953845e-02,\n",
       "       -4.13953845e-02, -4.13953845e-02, -4.67403154e-02, -4.67403154e-02,\n",
       "       -4.67403154e-02, -4.67403154e-02, -4.67403154e-02, -3.37928660e-02,\n",
       "       -3.37928660e-02, -3.96972920e-02, -3.96972920e-02, -3.96972920e-02,\n",
       "       -3.96972920e-02, -3.96972920e-02, -3.96972920e-02, -3.44024260e-02,\n",
       "       -3.88298426e-02, -3.88298426e-02, -3.88298426e-02, -3.88298426e-02,\n",
       "       -3.88298426e-02, -3.88298426e-02, -3.88298426e-02, -3.88298426e-02,\n",
       "       -3.88298426e-02, -3.07971001e-02, -1.78040108e-02, -1.78040108e-02,\n",
       "       -2.28598176e-02, -2.28598176e-02, -2.28598176e-02, -2.28598176e-02,\n",
       "       -2.28598176e-02, -2.28598176e-02, -6.81188764e-03, -6.81188764e-03,\n",
       "       -6.81188764e-03, -6.81188764e-03, -6.81188764e-03, -6.81188764e-03,\n",
       "       -6.81188764e-03, -6.81188764e-03, -6.81188764e-03, -6.81188764e-03,\n",
       "       -6.81188764e-03, -6.81188764e-03, -6.81188764e-03,  2.96045977e-03,\n",
       "        2.96045977e-03,  2.96045977e-03,  2.96045977e-03,  2.96045977e-03,\n",
       "        2.96045977e-03,  1.29114445e-02,  1.29114445e-02,  1.29114445e-02,\n",
       "        1.29114445e-02,  1.29114445e-02,  1.29114445e-02,  1.29114445e-02,\n",
       "        1.29114445e-02,  1.29114445e-02,  7.56651366e-03,  7.56651366e-03,\n",
       "        7.56651366e-03,  7.56651366e-03,  7.56651366e-03,  7.56651366e-03,\n",
       "        7.56651366e-03,  7.56651366e-03,  7.56651366e-03,  7.56651366e-03,\n",
       "        8.47539713e-03,  4.89101525e-05,  4.89101525e-05,  4.89101525e-05,\n",
       "        4.89101525e-05,  4.89101525e-05,  4.89101525e-05,  5.10471698e-03,\n",
       "        1.35312040e-02,  1.94371473e-02,  1.94371473e-02,  3.40636143e-02,\n",
       "        3.40636143e-02,  3.40636143e-02,  3.40636143e-02,  3.40636143e-02,\n",
       "        3.40636143e-02,  3.40636143e-02,  3.40636143e-02,  3.40636143e-02,\n",
       "        3.40636143e-02,  3.40636143e-02,  4.15812178e-02,  4.15812178e-02,\n",
       "        4.15812178e-02,  4.15812178e-02,  4.15812178e-02,  4.15812178e-02,\n",
       "        4.15812178e-02,  4.15812178e-02,  4.15812178e-02,  4.15812178e-02,\n",
       "        4.15812178e-02,  4.15812178e-02,  4.15812178e-02,  4.15812178e-02,\n",
       "        4.15812178e-02,  4.15812178e-02,  3.65254110e-02,  3.65254110e-02,\n",
       "        3.65254110e-02,  3.65254110e-02,  3.65254110e-02,  3.65254110e-02,\n",
       "        3.65254110e-02,  3.65254110e-02,  3.65254110e-02,  3.65254110e-02,\n",
       "        2.90078075e-02,  2.90078075e-02,  2.90078075e-02,  2.90078075e-02,\n",
       "        2.90078075e-02,  2.90078075e-02,  2.90078075e-02,  2.24683818e-02,\n",
       "        1.63171920e-02,  1.63171920e-02,  1.63171920e-02,  1.63171920e-02,\n",
       "        1.63171920e-02,  1.63171920e-02,  1.63171920e-02,  1.63171920e-02,\n",
       "        1.63171920e-02,  1.63171920e-02,  1.63171920e-02,  1.63171920e-02,\n",
       "        2.38519791e-02,  2.38519791e-02,  1.54254922e-02,  1.54254922e-02,\n",
       "        1.54254922e-02,  1.54254922e-02,  1.54254922e-02,  1.54254922e-02,\n",
       "        1.54254922e-02,  1.54254922e-02,  1.54254922e-02,  1.54254922e-02,\n",
       "        1.54254922e-02,  1.54254922e-02,  1.54254922e-02,  7.89070506e-03,\n",
       "        7.89070506e-03,  7.89070506e-03,  7.89070506e-03,  7.89070506e-03,\n",
       "        1.63171920e-02,  1.63171920e-02,  1.63171920e-02, -1.63439870e-02,\n",
       "       -1.63439870e-02,  1.63171920e-02,  1.63171920e-02,  7.89070506e-03,\n",
       "        7.89070506e-03,  7.89070506e-03,  7.89070506e-03,  7.89070506e-03,\n",
       "        7.89070506e-03,  7.89070506e-03,  7.89070506e-03,  7.89070506e-03,\n",
       "        7.89070506e-03,  7.89070506e-03,  7.89070506e-03,  7.89070506e-03,\n",
       "        7.89070506e-03, -6.27032987e-02, -6.27032987e-02, -6.27032987e-02,\n",
       "       -1.23624266e-01, -1.23624266e-01, -1.23624266e-01, -5.42768117e-02,\n",
       "       -1.23624266e-01,  1.63171920e-02, -2.47704740e-02, -1.97146672e-02,\n",
       "       -1.12881802e-02,  2.13729989e-02,  2.13729989e-02,  1.70355858e-02,\n",
       "        1.29465119e-02,  1.29465119e-02,  1.29465119e-02,  1.29465119e-02,\n",
       "        2.13729989e-02,  2.13729989e-02, -1.12881802e-02, -4.92210049e-02,\n",
       "       -1.18568459e-01, -1.18568459e-01, -4.92210049e-02, -1.12881802e-02,\n",
       "        2.13729989e-02,  2.13729989e-02,  2.13729989e-02,  2.67179297e-02,\n",
       "        2.16621229e-02,  5.32747545e-02,  8.11737417e-02,  7.27472547e-02,\n",
       "        7.27472547e-02,  8.02820418e-02,  8.02820418e-02,  8.02820418e-02,\n",
       "        8.02820418e-02,  8.02820418e-02,  8.02820418e-02,  8.02820418e-02,\n",
       "        8.02820418e-02,  4.76208628e-02,  9.68803808e-03, -5.96594164e-02,\n",
       "       -5.96594164e-02, -5.96594164e-02, -5.96594164e-02, -5.21418129e-02,\n",
       "       -5.21418129e-02, -5.21418129e-02, -5.21418129e-02, -5.21418129e-02,\n",
       "       -5.21418129e-02, -4.37153259e-02, -4.37153259e-02, -4.37153259e-02,\n",
       "       -4.37153259e-02, -5.96766000e-02, -5.96766000e-02, -5.96766000e-02,\n",
       "       -5.96766000e-02, -5.96766000e-02, -5.96766000e-02, -5.96766000e-02,\n",
       "       -5.96766000e-02, -5.96766000e-02, -5.96766000e-02, -5.96766000e-02,\n",
       "       -5.96766000e-02, -5.37721740e-02, -4.53456870e-02, -4.53456870e-02,\n",
       "       -4.53456870e-02, -4.53456870e-02, -4.53456870e-02, -4.53456870e-02,\n",
       "       -4.53456870e-02, -4.53456870e-02, -4.53456870e-02, -4.53456870e-02,\n",
       "       -4.53456870e-02, -4.53456870e-02, -7.38287790e-02, -4.53456870e-02,\n",
       "       -4.53456870e-02, -7.38287790e-02, -4.53456870e-02, -4.53456870e-02,\n",
       "       -4.53456870e-02, -4.53456870e-02, -4.53456870e-02, -4.53456870e-02,\n",
       "       -5.12501130e-02, -5.12501130e-02, -5.12501130e-02, -5.12501130e-02,\n",
       "       -5.12501130e-02,  1.80973415e-02,  1.80973415e-02, -5.12501130e-02,\n",
       "       -5.12501130e-02, -5.12501130e-02, -5.12501130e-02, -5.12501130e-02,\n",
       "       -5.12501130e-02, -5.12501130e-02, -5.12501130e-02, -5.12501130e-02,\n",
       "       -5.12501130e-02, -5.12501130e-02, -5.12501130e-02, -5.12501130e-02,\n",
       "       -5.12501130e-02, -5.87677165e-02, -5.87677165e-02, -5.87677165e-02,\n",
       "       -5.87677165e-02, -6.71942035e-02,  2.15325098e-03,  1.05797380e-02,\n",
       "       -5.87677165e-02, -5.87677165e-02, -5.87677165e-02, -5.87677165e-02,\n",
       "       -6.53071422e-02, -6.53071422e-02, -7.14583320e-02, -7.14583320e-02,\n",
       "       -7.14583320e-02, -7.67531979e-02, -7.67531979e-02, -8.51796849e-02,\n",
       "       -7.67531979e-02, -7.67531979e-02, -7.67531979e-02, -7.67531979e-02,\n",
       "       -7.67531979e-02, -8.51796849e-02, -8.51796849e-02, -1.58322304e-02,\n",
       "       -1.58322304e-02,  1.42089518e-02, -2.37238730e-02, -9.30713274e-02,\n",
       "       -3.83503399e-02, -4.42562833e-02, -4.42562833e-02, -4.42562833e-02,\n",
       "       -4.42562833e-02, -4.42562833e-02, -4.42562833e-02,  2.63377205e-02,\n",
       "       -1.22809124e-01, -5.34616691e-02,  1.71323347e-02,  1.71323347e-02,\n",
       "       -5.34616691e-02, -1.14382637e-01, -1.26329762e-01, -1.26329762e-01,\n",
       "       -1.26329762e-01, -1.26329762e-01, -1.34756249e-01, -1.34756249e-01,\n",
       "       -1.34756249e-01, -1.26329762e-01, -1.14382637e-01, -1.14382637e-01,\n",
       "       -1.14382637e-01, -1.18720050e-01, -1.22809124e-01, -1.22809124e-01,\n",
       "       -1.22809124e-01, -1.13603738e-01, -1.13603738e-01, -1.13603738e-01,\n",
       "       -1.13603738e-01, -1.13603738e-01, -1.13603738e-01, -1.13603738e-01,\n",
       "       -1.13603738e-01, -1.13603738e-01, -1.13603738e-01, -1.13603738e-01,\n",
       "       -9.72856082e-02, -1.05712095e-01, -1.05712095e-01, -1.05712095e-01,\n",
       "       -1.05712095e-01, -1.05712095e-01, -1.05712095e-01, -9.72856082e-02,\n",
       "       -9.72856082e-02, -9.72856082e-02, -9.19907423e-02, -9.19907423e-02,\n",
       "       -8.58395525e-02, -7.93001269e-02, -7.93001269e-02, -7.93001269e-02,\n",
       "       -7.93001269e-02, -7.93001269e-02, -7.17825234e-02, -7.17825234e-02,\n",
       "       -7.17825234e-02, -7.17825234e-02, -7.17825234e-02, -7.17825234e-02,\n",
       "       -7.17825234e-02, -7.17825234e-02, -7.17825234e-02, -7.17825234e-02,\n",
       "       -7.17825234e-02, -6.58780974e-02, -6.58780974e-02, -6.58780974e-02,\n",
       "       -6.58780974e-02, -6.58780974e-02, -6.58780974e-02, -6.58780974e-02,\n",
       "       -6.58780974e-02, -6.58780974e-02, -6.58780974e-02, -6.58780974e-02,\n",
       "       -6.58780974e-02, -7.43045844e-02, -7.43045844e-02, -7.43045844e-02,\n",
       "       -7.43045844e-02, -4.95712987e-03, -6.58780974e-02, -6.58780974e-02,\n",
       "        3.46935711e-03,  6.56368739e-02,  7.40633609e-02,  8.52516394e-03,\n",
       "        7.91191677e-02,  8.52516394e-03,  8.52516394e-03,  7.47817546e-02,\n",
       "        7.91191677e-02,  7.06926807e-02,  7.06926807e-02,  3.80315017e-02,\n",
       "        9.86769549e-05,  9.86769549e-05, -6.92487775e-02, -6.92487775e-02,\n",
       "       -6.92487775e-02,  7.06926807e-02,  7.06926807e-02,  7.06926807e-02,\n",
       "        7.06926807e-02,  7.06926807e-02,  7.06926807e-02,  9.86769549e-05,\n",
       "       -6.92487775e-02,  3.80315017e-02,  7.06926807e-02,  7.06926807e-02,\n",
       "        7.06926807e-02,  7.06926807e-02, -6.92487775e-02,  9.86769549e-05,\n",
       "       -6.92487775e-02, -6.92487775e-02, -6.92487775e-02, -6.92487775e-02,\n",
       "       -6.92487775e-02, -6.92487775e-02, -7.51532035e-02,  6.47882547e-02,\n",
       "        2.70712689e-02,  5.97324479e-02,  5.97324479e-02,  5.97324479e-02,\n",
       "        5.97324479e-02,  5.97324479e-02,  5.97324479e-02,  5.97324479e-02,\n",
       "        5.97324479e-02,  5.97324479e-02,  5.97324479e-02,  5.22148444e-02,\n",
       "        5.22148444e-02,  5.22148444e-02,  5.22148444e-02,  5.22148444e-02,\n",
       "        5.22148444e-02,  3.95242290e-02,  3.95242290e-02,  3.95242290e-02,\n",
       "        3.95242290e-02,  3.95242290e-02,  3.95242290e-02,  3.95242290e-02,\n",
       "        3.95242290e-02,  3.95242290e-02,  3.95242290e-02,  3.95242290e-02,\n",
       "        3.95242290e-02,  3.95242290e-02,  3.95242290e-02,  3.95242290e-02,\n",
       "        3.95242290e-02,  3.95242290e-02,  4.70590161e-02,  4.70590161e-02,\n",
       "        4.70590161e-02,  4.70590161e-02,  4.70590161e-02,  4.70590161e-02,\n",
       "        4.70590161e-02,  4.70590161e-02,  3.95242290e-02,  3.95242290e-02,\n",
       "        3.95242290e-02,  3.95242290e-02,  3.95242290e-02,  3.95242290e-02,\n",
       "       -3.10697748e-02, -1.00417229e-01, -1.00417229e-01, -3.10697748e-02,\n",
       "       -3.10697748e-02, -1.00417229e-01, -3.10697748e-02,  6.86304992e-03,\n",
       "        3.95242290e-02,  3.95242290e-02,  3.95242290e-02,  3.95242290e-02,\n",
       "        3.95242290e-02,  3.95242290e-02,  3.95242290e-02,  3.95242290e-02,\n",
       "        3.95242290e-02,  3.95242290e-02,  3.95242290e-02,  9.57308371e-02,\n",
       "        9.57308371e-02,  1.52311540e-01,  1.57367347e-01,  1.57367347e-01,\n",
       "        1.57367347e-01,  1.85131985e-01,  1.85131985e-01,  1.85131985e-01,\n",
       "        1.91749184e-01,  1.91749184e-01,  1.91749184e-01,  2.04439799e-01,\n",
       "        2.04439799e-01,  2.04439799e-01,  2.04439799e-01,  2.11957403e-01,\n",
       "        2.11957403e-01,  2.11957403e-01,  2.11957403e-01,  2.11957403e-01,\n",
       "        2.11957403e-01,  2.11957403e-01,  2.11957403e-01,  2.11957403e-01,\n",
       "        2.11957403e-01,  2.11957403e-01,  2.11957403e-01,  2.11957403e-01,\n",
       "        2.11957403e-01,  2.11957403e-01,  2.17861829e-01,  2.17861829e-01,\n",
       "        2.17861829e-01,  2.17861829e-01,  2.12806022e-01,  2.12806022e-01,\n",
       "        2.12806022e-01,  2.12806022e-01,  2.12806022e-01,  2.12806022e-01,\n",
       "        2.12806022e-01,  2.12806022e-01,  2.12806022e-01,  2.12806022e-01,\n",
       "        2.12806022e-01,  2.12806022e-01,  2.12806022e-01,  2.12806022e-01,\n",
       "        2.12806022e-01,  2.12806022e-01,  2.12806022e-01,  2.12806022e-01,\n",
       "        2.12806022e-01,  2.06901596e-01,  2.06901596e-01,  2.06901596e-01,\n",
       "        2.06901596e-01,  2.06901596e-01,  2.06901596e-01,  2.06901596e-01,\n",
       "        2.06901596e-01,  2.06901596e-01,  2.06901596e-01,  2.06901596e-01,\n",
       "        2.06901596e-01,  2.06901596e-01,  2.06901596e-01,  2.12806022e-01,\n",
       "        2.12806022e-01,  2.12806022e-01,  2.12806022e-01,  2.12806022e-01,\n",
       "        2.12806022e-01,  2.12806022e-01,  2.12806022e-01,  2.12806022e-01,\n",
       "        2.12806022e-01,  2.12806022e-01,  2.12806022e-01,  2.12806022e-01,\n",
       "        2.12806022e-01,  2.12806022e-01,  2.12806022e-01,  2.12806022e-01,\n",
       "        2.12806022e-01,  2.12806022e-01,  2.12806022e-01,  2.12806022e-01,\n",
       "        2.12806022e-01,  2.12806022e-01,  2.12806022e-01,  2.17861829e-01,\n",
       "        2.17861829e-01,  2.17861829e-01,  2.17861829e-01,  2.17861829e-01,\n",
       "        2.17861829e-01,  2.17861829e-01,  2.17861829e-01,  2.17861829e-01,\n",
       "        2.26288316e-01,  2.26288316e-01,  2.26288316e-01,  2.26288316e-01,\n",
       "        2.26288316e-01,  2.26288316e-01,  2.20383890e-01,  2.20383890e-01,\n",
       "        2.20383890e-01,  2.20383890e-01,  2.20383890e-01,  2.20383890e-01,\n",
       "        2.20383890e-01,  2.20383890e-01,  2.20383890e-01,  2.20383890e-01,\n",
       "        2.20383890e-01,  2.20383890e-01,  2.20383890e-01,  2.20383890e-01,\n",
       "        2.15328083e-01,  2.15328083e-01,  2.15328083e-01,  2.15328083e-01,\n",
       "        2.15328083e-01,  2.07810480e-01,  2.07810480e-01])"
      ]
     },
     "execution_count": 84,
     "metadata": {},
     "output_type": "execute_result"
    }
   ],
   "source": [
    "lgb_pred"
   ]
  },
  {
   "cell_type": "code",
   "execution_count": 85,
   "metadata": {},
   "outputs": [],
   "source": [
    "y_test = np.array(y_test)"
   ]
  },
  {
   "cell_type": "code",
   "execution_count": 88,
   "metadata": {},
   "outputs": [
    {
     "data": {
      "text/html": [
       "<div>\n",
       "<style scoped>\n",
       "    .dataframe tbody tr th:only-of-type {\n",
       "        vertical-align: middle;\n",
       "    }\n",
       "\n",
       "    .dataframe tbody tr th {\n",
       "        vertical-align: top;\n",
       "    }\n",
       "\n",
       "    .dataframe thead th {\n",
       "        text-align: right;\n",
       "    }\n",
       "</style>\n",
       "<table border=\"1\" class=\"dataframe\">\n",
       "  <thead>\n",
       "    <tr style=\"text-align: right;\">\n",
       "      <th></th>\n",
       "      <th>CORR</th>\n",
       "      <th>R2</th>\n",
       "      <th>MAE</th>\n",
       "      <th>RMSE</th>\n",
       "      <th>ACR</th>\n",
       "      <th>threshACR</th>\n",
       "    </tr>\n",
       "  </thead>\n",
       "  <tbody>\n",
       "    <tr>\n",
       "      <th>0</th>\n",
       "      <td>0.587832</td>\n",
       "      <td>0.3190</td>\n",
       "      <td>0.1603</td>\n",
       "      <td>0.1843</td>\n",
       "      <td>0.732084</td>\n",
       "      <td>0.903084</td>\n",
       "    </tr>\n",
       "  </tbody>\n",
       "</table>\n",
       "</div>"
      ],
      "text/plain": [
       "       CORR      R2     MAE    RMSE       ACR  threshACR\n",
       "0  0.587832  0.3190  0.1603  0.1843  0.732084   0.903084"
      ]
     },
     "execution_count": 88,
     "metadata": {},
     "output_type": "execute_result"
    }
   ],
   "source": [
    "metr = CustomMetric(lgb_pred, y_test)\n",
    "metr.makedf()\n",
    "metr.execution()"
   ]
  },
  {
   "cell_type": "code",
   "execution_count": 89,
   "metadata": {},
   "outputs": [
    {
     "data": {
      "text/plain": [
       "<matplotlib.axes._subplots.AxesSubplot at 0x1ef86630ac8>"
      ]
     },
     "execution_count": 89,
     "metadata": {},
     "output_type": "execute_result"
    },
    {
     "data": {
      "image/png": "[encoded data removed]",
      "text/plain": [
       "<Figure size 432x288 with 1 Axes>"
      ]
     },
     "metadata": {
      "image/png": {
       "height": 248,
       "width": 386
      },
      "needs_background": "light"
     },
     "output_type": "display_data"
    }
   ],
   "source": [
    "pd.DataFrame(lgb_pred).plot()"
   ]
  },
  {
   "cell_type": "code",
   "execution_count": 90,
   "metadata": {},
   "outputs": [
    {
     "data": {
      "text/plain": [
       "<matplotlib.axes._subplots.AxesSubplot at 0x1ef86742cc0>"
      ]
     },
     "execution_count": 90,
     "metadata": {},
     "output_type": "execute_result"
    },
    {
     "data": {
      "image/png": "[encoded data removed]",
      "text/plain": [
       "<Figure size 432x288 with 1 Axes>"
      ]
     },
     "metadata": {
      "image/png": {
       "height": 248,
       "width": 380
      },
      "needs_background": "light"
     },
     "output_type": "display_data"
    }
   ],
   "source": [
    "pd.DataFrame(y_pred).plot()"
   ]
  },
  {
   "cell_type": "code",
   "execution_count": 87,
   "metadata": {},
   "outputs": [],
   "source": [
    "# metric 구성\n",
    "\n",
    "from sklearn.metrics import mean_squared_error, r2_score, mean_absolute_error, accuracy_score\n",
    "\n",
    "class CustomMetric():\n",
    "\n",
    "    def __init__(self, pred, real):\n",
    "            self.pred = pred\n",
    "            self.real = real\n",
    "            self.thr25 = np.percentile(self.real, 25)\n",
    "            self.thr75 = np.percentile(self.real, 75)\n",
    "            self.df = pd.DataFrame({'pred' : self.pred, 'real' : self.real})\n",
    "        \n",
    "    def issame(self, data1, data2):\n",
    "        if data1 > 0 and data2 > 0 : \n",
    "            return 'T'\n",
    "        elif data1 > 0 and data2 < 0 :\n",
    "            return 'F'\n",
    "        elif data1 < 0 and data2 > 0 :\n",
    "            return 'F'\n",
    "        elif data1 < 0 and data2 < 0 :\n",
    "            return 'T'\n",
    "        elif data1 == 0 or data2 == 0 :\n",
    "            return 0\n",
    "        else :\n",
    "            return 'notcal'\n",
    "\n",
    "    def getouter(self, data1, data2): #quantile_25 = np.percentile(values, 25)\n",
    "\n",
    "        if data1 > 0 and data2 >= self.thr75 :\n",
    "            return 'T'\n",
    "        elif data1 < 0 and data2 <= self.thr25 :\n",
    "            return 'T'\n",
    "        elif data1 >= 0 and data2 <= self.thr25 :\n",
    "            return 'F'\n",
    "        elif data1 <= 0 and data2 >= self.thr75: \n",
    "            return 'F'\n",
    "        else:\n",
    "            return 'notcal'\n",
    "        \n",
    "    def makedf(self):\n",
    "        self.df['TF'] = self.df.apply(lambda x : self.issame(x['pred'], x['real']), axis = 1)\n",
    "        self.df['thrTF'] = self.df.apply(lambda x : self.getouter(x['pred'], x['real']), axis = 1)\n",
    "        \n",
    "        return self.df\n",
    "        \n",
    "    def execution(self):\n",
    "        mdf = pd.DataFrame()\n",
    "        mdf['CORR'] = [self.df['real'].corr(self.df['pred'], method = 'pearson')]\n",
    "        mdf['R2'] = [\"{0:0.4f}\".format(r2_score(self.df['real'], self.df['pred']))]\n",
    "        mdf['MAE'] = [\"{0:0.4f}\".format(mean_absolute_error(self.df['pred'], self.df['real']))]\n",
    "        mdf['RMSE'] = [\"{0:0.4f}\".format(np.sqrt(mean_squared_error(self.df['pred'], self.df['real'])))]\n",
    "        mdf['ACR'] = [sum(self.df['TF'] == 'T')/len(self.df['TF'])]\n",
    "        \n",
    "        mdf['threshACR'] = [sum(self.df['thrTF'] == 'T') / sum(self.df['thrTF'] != 'notcal')]\n",
    "        \n",
    "        return mdf     "
   ]
  },
  {
   "cell_type": "code",
   "execution_count": null,
   "metadata": {},
   "outputs": [],
   "source": [
    "feat_imp = pd.DataFrame(sorted(zip(lgb_reg.feature_importances_, X_train.columns)), columns = ['Value', 'Feature'])\n",
    "feat_imp.sort_values(by = 'Value', ascending = False)\n",
    "plt.figure(figsize = (10, 30))\n",
    "sns.barplot(x = 'Value', y = 'Feature', data = feat_imp.sort_values(by = 'Value', ascending = False))\n",
    "plt.title('LightGBM Features')\n",
    "plt.tight_layout()\n",
    "plt.savefig('lgbm_importances_1.png')\n",
    "plt.show()"
   ]
  }
 ],
 "metadata": {
  "kernelspec": {
   "display_name": "Python 3",
   "language": "python",
   "name": "python3"
  },
  "language_info": {
   "codemirror_mode": {
    "name": "ipython",
    "version": 3
   },
   "file_extension": ".py",
   "mimetype": "text/x-python",
   "name": "python",
   "nbconvert_exporter": "python",
   "pygments_lexer": "ipython3",
   "version": "3.7.3"
  }
 },
 "nbformat": 4,
 "nbformat_minor": 4
}
