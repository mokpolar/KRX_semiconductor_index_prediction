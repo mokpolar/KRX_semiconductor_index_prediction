{
 "cells": [
  {
   "cell_type": "code",
   "execution_count": 32,
   "metadata": {},
   "outputs": [],
   "source": [
    "# library use\n",
    "import re\n",
    "import pandas as pd\n",
    "import matplotlib.pyplot as plt\n",
    "import seaborn as sns\n",
    "import numpy as np\n",
    "import warnings\n",
    "from datetime import datetime\n",
    "import calendar\n",
    "from math import sin, cos, sqrt, atan2, radians\n",
    "from folium import FeatureGroup, LayerControl, Map, Marker\n",
    "from folium.plugins import HeatMap\n",
    "import matplotlib.dates as mdates\n",
    "import matplotlib as mpl\n",
    "from datetime import timedelta\n",
    "import datetime as dt\n",
    "warnings.filterwarnings('ignore')\n",
    "pd.set_option('display.max_colwidth', -1)\n",
    "plt.style.use('fivethirtyeight')\n",
    "import folium\n",
    "from sklearn.cluster import KMeans\n",
    "from sklearn import preprocessing\n",
    "from sklearn.model_selection import train_test_split\n",
    "from sklearn import linear_model\n",
    "from sklearn.metrics import mean_squared_error\n",
    "from sklearn.ensemble import RandomForestRegressor\n",
    "import pickle\n",
    "%config InlineBackend.figure_format = 'retina'\n",
    "from sklearn.preprocessing import Imputer\n",
    "from sklearn.preprocessing import StandardScaler\n",
    "from sklearn.preprocessing import MinMaxScaler\n",
    "from sklearn.model_selection import train_test_split\n",
    "from sklearn.linear_model import LinearRegression\n",
    "from sklearn.metrics import mean_squared_error, r2_score\n",
    "from sklearn.linear_model import Ridge, Lasso, ElasticNet\n",
    "from sklearn.model_selection import cross_val_score"
   ]
  },
  {
   "cell_type": "code",
   "execution_count": 33,
   "metadata": {},
   "outputs": [],
   "source": [
    "df = pd.read_csv('data_change_ver0.2.csv')"
   ]
  },
  {
   "cell_type": "code",
   "execution_count": 34,
   "metadata": {
    "scrolled": true
   },
   "outputs": [
    {
     "name": "stdout",
     "output_type": "stream",
     "text": [
      "<class 'pandas.core.frame.DataFrame'>\n",
      "RangeIndex: 3434 entries, 0 to 3433\n",
      "Data columns (total 8 columns):\n",
      "Unnamed: 0       3434 non-null int64\n",
      "date             3434 non-null object\n",
      "krx_change       3434 non-null float64\n",
      "hy_change        3434 non-null float64\n",
      "ts_change        3197 non-null float64\n",
      "google_change    3214 non-null float64\n",
      "intel_change     3214 non-null float64\n",
      "micron_change    3214 non-null float64\n",
      "dtypes: float64(6), int64(1), object(1)\n",
      "memory usage: 214.8+ KB\n"
     ]
    }
   ],
   "source": [
    "df.info()"
   ]
  },
  {
   "cell_type": "code",
   "execution_count": 35,
   "metadata": {},
   "outputs": [],
   "source": [
    "df.drop('Unnamed: 0', axis = 1, inplace = True)"
   ]
  },
  {
   "cell_type": "code",
   "execution_count": 36,
   "metadata": {},
   "outputs": [],
   "source": [
    "# 일단 뒤부터 메꾸자 전일꺼 데이터로 메꾸기 \n",
    "df.fillna(method = 'bfill', inplace = True)"
   ]
  },
  {
   "cell_type": "code",
   "execution_count": 37,
   "metadata": {},
   "outputs": [],
   "source": [
    "# 앞도 메꾸자 아직도 비어있는건 전일껄로 앞에 메우기 \n",
    "df.fillna(method = 'ffill', inplace = True)"
   ]
  },
  {
   "cell_type": "code",
   "execution_count": 38,
   "metadata": {},
   "outputs": [
    {
     "name": "stdout",
     "output_type": "stream",
     "text": [
      "<class 'pandas.core.frame.DataFrame'>\n",
      "RangeIndex: 3434 entries, 0 to 3433\n",
      "Data columns (total 7 columns):\n",
      "date             3434 non-null object\n",
      "krx_change       3434 non-null float64\n",
      "hy_change        3434 non-null float64\n",
      "ts_change        3434 non-null float64\n",
      "google_change    3434 non-null float64\n",
      "intel_change     3434 non-null float64\n",
      "micron_change    3434 non-null float64\n",
      "dtypes: float64(6), object(1)\n",
      "memory usage: 187.9+ KB\n"
     ]
    }
   ],
   "source": [
    "df.info()"
   ]
  },
  {
   "cell_type": "code",
   "execution_count": 39,
   "metadata": {},
   "outputs": [],
   "source": [
    "date = df['date']"
   ]
  },
  {
   "cell_type": "code",
   "execution_count": 40,
   "metadata": {},
   "outputs": [],
   "source": [
    "df.drop('date', axis = 1, inplace = True)"
   ]
  },
  {
   "cell_type": "code",
   "execution_count": 41,
   "metadata": {},
   "outputs": [],
   "source": [
    "y_target = df['krx_change']"
   ]
  },
  {
   "cell_type": "code",
   "execution_count": 42,
   "metadata": {},
   "outputs": [],
   "source": [
    "X_data = df.drop(['krx_change'], axis = 1, inplace = False)"
   ]
  },
  {
   "cell_type": "code",
   "execution_count": 43,
   "metadata": {},
   "outputs": [
    {
     "data": {
      "text/html": [
       "<div>\n",
       "<style scoped>\n",
       "    .dataframe tbody tr th:only-of-type {\n",
       "        vertical-align: middle;\n",
       "    }\n",
       "\n",
       "    .dataframe tbody tr th {\n",
       "        vertical-align: top;\n",
       "    }\n",
       "\n",
       "    .dataframe thead th {\n",
       "        text-align: right;\n",
       "    }\n",
       "</style>\n",
       "<table border=\"1\" class=\"dataframe\">\n",
       "  <thead>\n",
       "    <tr style=\"text-align: right;\">\n",
       "      <th></th>\n",
       "      <th>hy_change</th>\n",
       "      <th>ts_change</th>\n",
       "      <th>google_change</th>\n",
       "      <th>intel_change</th>\n",
       "      <th>micron_change</th>\n",
       "    </tr>\n",
       "  </thead>\n",
       "  <tbody>\n",
       "    <tr>\n",
       "      <th>0</th>\n",
       "      <td>0.926509</td>\n",
       "      <td>1.017414</td>\n",
       "      <td>1.051503</td>\n",
       "      <td>1.013297</td>\n",
       "      <td>1.039970</td>\n",
       "    </tr>\n",
       "    <tr>\n",
       "      <th>1</th>\n",
       "      <td>0.980170</td>\n",
       "      <td>1.019782</td>\n",
       "      <td>1.003953</td>\n",
       "      <td>1.013894</td>\n",
       "      <td>1.009253</td>\n",
       "    </tr>\n",
       "    <tr>\n",
       "      <th>2</th>\n",
       "      <td>1.013006</td>\n",
       "      <td>1.017569</td>\n",
       "      <td>1.026611</td>\n",
       "      <td>1.001523</td>\n",
       "      <td>1.020451</td>\n",
       "    </tr>\n",
       "    <tr>\n",
       "      <th>3</th>\n",
       "      <td>1.048502</td>\n",
       "      <td>1.047634</td>\n",
       "      <td>1.016972</td>\n",
       "      <td>1.006081</td>\n",
       "      <td>1.015895</td>\n",
       "    </tr>\n",
       "    <tr>\n",
       "      <th>4</th>\n",
       "      <td>1.034014</td>\n",
       "      <td>0.977291</td>\n",
       "      <td>1.002384</td>\n",
       "      <td>0.986777</td>\n",
       "      <td>0.991156</td>\n",
       "    </tr>\n",
       "  </tbody>\n",
       "</table>\n",
       "</div>"
      ],
      "text/plain": [
       "   hy_change  ts_change  google_change  intel_change  micron_change\n",
       "0  0.926509   1.017414   1.051503       1.013297      1.039970     \n",
       "1  0.980170   1.019782   1.003953       1.013894      1.009253     \n",
       "2  1.013006   1.017569   1.026611       1.001523      1.020451     \n",
       "3  1.048502   1.047634   1.016972       1.006081      1.015895     \n",
       "4  1.034014   0.977291   1.002384       0.986777      0.991156     "
      ]
     },
     "execution_count": 43,
     "metadata": {},
     "output_type": "execute_result"
    }
   ],
   "source": [
    "X_data.head()"
   ]
  },
  {
   "cell_type": "code",
   "execution_count": 44,
   "metadata": {},
   "outputs": [],
   "source": [
    "X_train, X_test, y_train, y_test = train_test_split(X_data, y_target, test_size = 0.3, random_state = 156)"
   ]
  },
  {
   "cell_type": "code",
   "execution_count": 45,
   "metadata": {},
   "outputs": [],
   "source": [
    "# alpha값에 따른 회귀 모델의 폴드 평균 RMSE를 출력하고 회귀 계수값들을 DataFrame으로 반환\n",
    "def get_linear_reg_eval(model_name, params = None, X_data_n = None, y_target_n = None, verbose = True):\n",
    "    coeff_df = pd.DataFrame()\n",
    "    if verbose : print(\"model name : \", model_name)\n",
    "    for param in params:\n",
    "        if model_name == \"Ridge\" : model = Ridge(alpha = param)\n",
    "        elif model_name == \"Lasso\" : model = Lasso(alpha = param)\n",
    "        elif model_name == \"ElasticNet\" : model = ElasticNet(alpha = param, l1_ratio = 0.7)\n",
    "        neg_mse_scores = cross_val_score(model, X_data_n, y_target_n, scoring = \"neg_mean_squared_error\", cv = 5)\n",
    "        avg_rmse = np.mean(np.sqrt(-1 * neg_mse_scores))\n",
    "        print('alpha {0}일 때 5 폴드 세트의 평균 RMSE : {1:.3f}'.format(param, avg_rmse))\n",
    "        \n",
    "        # cross validation score는 evaluation metric만 반환하므로 모델을 다시 학습하여 회귀계수 추출\n",
    "        model.fit(X_data, y_target)\n",
    "        \n",
    "        # alpha에 따른 피쳐별 회귀 계수를 Series로 변환하고 이를 DataFrame의 컬럼으로 추가\n",
    "        coeff = pd.Series(data = model.coef_, index = X_data.columns)\n",
    "        colname = 'alpha :' + str(param)\n",
    "        coeff_df[colname] = coeff\n",
    "    return coeff_df"
   ]
  },
  {
   "cell_type": "code",
   "execution_count": 46,
   "metadata": {},
   "outputs": [
    {
     "name": "stdout",
     "output_type": "stream",
     "text": [
      "model name :  Lasso\n",
      "alpha 0.07일 때 5 폴드 세트의 평균 RMSE : 0.017\n",
      "alpha 0.1일 때 5 폴드 세트의 평균 RMSE : 0.017\n",
      "alpha 0.5일 때 5 폴드 세트의 평균 RMSE : 0.017\n",
      "alpha 1일 때 5 폴드 세트의 평균 RMSE : 0.017\n",
      "alpha 3일 때 5 폴드 세트의 평균 RMSE : 0.017\n"
     ]
    }
   ],
   "source": [
    "# lasso에 사용 될 alpha 파라미터의 값을 정의하고 get_linear_reg_eval() 함수 호출\n",
    "lasso_alphas = [0.07, 0.1, 0.5, 1, 3]\n",
    "coeff_lasso_df = get_linear_reg_eval('Lasso', params = lasso_alphas, X_data_n = X_data, y_target_n = y_target)"
   ]
  },
  {
   "cell_type": "code",
   "execution_count": 48,
   "metadata": {},
   "outputs": [
    {
     "data": {
      "text/html": [
       "<div>\n",
       "<style scoped>\n",
       "    .dataframe tbody tr th:only-of-type {\n",
       "        vertical-align: middle;\n",
       "    }\n",
       "\n",
       "    .dataframe tbody tr th {\n",
       "        vertical-align: top;\n",
       "    }\n",
       "\n",
       "    .dataframe thead th {\n",
       "        text-align: right;\n",
       "    }\n",
       "</style>\n",
       "<table border=\"1\" class=\"dataframe\">\n",
       "  <thead>\n",
       "    <tr style=\"text-align: right;\">\n",
       "      <th></th>\n",
       "      <th>alpha :0.07</th>\n",
       "      <th>alpha :0.1</th>\n",
       "      <th>alpha :0.5</th>\n",
       "      <th>alpha :1</th>\n",
       "      <th>alpha :3</th>\n",
       "    </tr>\n",
       "  </thead>\n",
       "  <tbody>\n",
       "    <tr>\n",
       "      <th>hy_change</th>\n",
       "      <td>0.0</td>\n",
       "      <td>0.0</td>\n",
       "      <td>0.0</td>\n",
       "      <td>0.0</td>\n",
       "      <td>0.0</td>\n",
       "    </tr>\n",
       "    <tr>\n",
       "      <th>ts_change</th>\n",
       "      <td>0.0</td>\n",
       "      <td>0.0</td>\n",
       "      <td>0.0</td>\n",
       "      <td>0.0</td>\n",
       "      <td>0.0</td>\n",
       "    </tr>\n",
       "    <tr>\n",
       "      <th>google_change</th>\n",
       "      <td>0.0</td>\n",
       "      <td>0.0</td>\n",
       "      <td>0.0</td>\n",
       "      <td>0.0</td>\n",
       "      <td>0.0</td>\n",
       "    </tr>\n",
       "    <tr>\n",
       "      <th>intel_change</th>\n",
       "      <td>0.0</td>\n",
       "      <td>0.0</td>\n",
       "      <td>0.0</td>\n",
       "      <td>0.0</td>\n",
       "      <td>0.0</td>\n",
       "    </tr>\n",
       "    <tr>\n",
       "      <th>micron_change</th>\n",
       "      <td>0.0</td>\n",
       "      <td>0.0</td>\n",
       "      <td>0.0</td>\n",
       "      <td>0.0</td>\n",
       "      <td>0.0</td>\n",
       "    </tr>\n",
       "  </tbody>\n",
       "</table>\n",
       "</div>"
      ],
      "text/plain": [
       "               alpha :0.07  alpha :0.1  alpha :0.5  alpha :1  alpha :3\n",
       "hy_change      0.0          0.0         0.0         0.0       0.0     \n",
       "ts_change      0.0          0.0         0.0         0.0       0.0     \n",
       "google_change  0.0          0.0         0.0         0.0       0.0     \n",
       "intel_change   0.0          0.0         0.0         0.0       0.0     \n",
       "micron_change  0.0          0.0         0.0         0.0       0.0     "
      ]
     },
     "execution_count": 48,
     "metadata": {},
     "output_type": "execute_result"
    }
   ],
   "source": [
    "# 반환된 coeff_lasso_df를 첫 번재 컬럼순으로 정렬해 coeff DataFrame 출력\n",
    "sort_column = 'alpha :' + str(lasso_alphas[0])\n",
    "coeff_lasso_df.sort_values(by = sort_column, ascending = False)"
   ]
  },
  {
   "cell_type": "code",
   "execution_count": null,
   "metadata": {},
   "outputs": [],
   "source": []
  }
 ],
 "metadata": {
  "kernelspec": {
   "display_name": "Tensorflow Python 3.6",
   "language": "python",
   "name": "tf-py36"
  },
  "language_info": {
   "codemirror_mode": {
    "name": "ipython",
    "version": 3
   },
   "file_extension": ".py",
   "mimetype": "text/x-python",
   "name": "python",
   "nbconvert_exporter": "python",
   "pygments_lexer": "ipython3",
   "version": "3.6.9"
  }
 },
 "nbformat": 4,
 "nbformat_minor": 2
}
