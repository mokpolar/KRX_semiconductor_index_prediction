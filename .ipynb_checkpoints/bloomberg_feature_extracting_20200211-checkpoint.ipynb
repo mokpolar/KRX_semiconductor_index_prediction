{
 "cells": [
  {
   "cell_type": "code",
   "execution_count": 1,
   "metadata": {},
   "outputs": [],
   "source": [
    "import pandas as pd\n",
    "import os\n",
    "import sys"
   ]
  },
  {
   "cell_type": "markdown",
   "metadata": {},
   "source": [
    "# Target Bloomberg Ticker \n",
    "\n",
    "중국 주가지수  | SHCOMP Index -> economic?\n",
    "중국 국채 10년물  | GTCNY10Y Corp -> commodity\n",
    "\n",
    "미국 S&P 500 지수 | SPX Index -> economic?\n",
    "미국 국채 10년물 |  GTUSD10Y Govt -> commodity\n",
    "\n",
    "한국 코스피 지수  | KOSPI Index -> economic\n",
    "한국 국채 10년물  | GTKRW10Y Corp -> commodity\n",
    "\n",
    "달러인덱스  |  DXY Curncy -> economic?\n",
    "유가 선물  | CL1 Comdty \n",
    "금 현물  |   XAU Curncy "
   ]
  },
  {
   "cell_type": "code",
   "execution_count": 2,
   "metadata": {},
   "outputs": [
    {
     "name": "stdout",
     "output_type": "stream",
     "text": [
      "barclays.csv      \u001b[34mdata\u001b[m\u001b[m              moneymarket.csv\n",
      "\u001b[34mcode\u001b[m\u001b[m              economic.csv      msci.csv\n",
      "commodity.csv     future.csv        world_indices.csv\n"
     ]
    }
   ],
   "source": [
    "!ls /Users/mokpolar/Downloads/bloomberg_raw/"
   ]
  },
  {
   "cell_type": "code",
   "execution_count": 3,
   "metadata": {},
   "outputs": [],
   "source": [
    "file_path = os.path.abspath('/Users/mokpolar/Downloads/bloomberg_raw/')"
   ]
  },
  {
   "cell_type": "code",
   "execution_count": 4,
   "metadata": {},
   "outputs": [],
   "source": [
    "files = []\n",
    "for i in os.listdir(file_path):\n",
    "    if 'csv' in i:\n",
    "        files.append(i)"
   ]
  },
  {
   "cell_type": "code",
   "execution_count": 5,
   "metadata": {},
   "outputs": [
    {
     "data": {
      "text/plain": [
       "['msci.csv',\n",
       " 'barclays.csv',\n",
       " 'economic.csv',\n",
       " 'commodity.csv',\n",
       " 'world_indices.csv',\n",
       " 'moneymarket.csv',\n",
       " 'future.csv']"
      ]
     },
     "execution_count": 5,
     "metadata": {},
     "output_type": "execute_result"
    }
   ],
   "source": [
    "files"
   ]
  },
  {
   "cell_type": "code",
   "execution_count": null,
   "metadata": {},
   "outputs": [],
   "source": [
    "file_names = []\n",
    "for i in files:\n",
    "    file_names.append(i.split('.')[0])"
   ]
  },
  {
   "cell_type": "code",
   "execution_count": 46,
   "metadata": {},
   "outputs": [
    {
     "data": {
      "text/plain": [
       "['msci',\n",
       " 'barclays',\n",
       " 'economic',\n",
       " 'commodity',\n",
       " 'world_indices',\n",
       " 'moneymarket',\n",
       " 'future']"
      ]
     },
     "execution_count": 46,
     "metadata": {},
     "output_type": "execute_result"
    }
   ],
   "source": [
    "file_names"
   ]
  },
  {
   "cell_type": "code",
   "execution_count": 9,
   "metadata": {},
   "outputs": [],
   "source": [
    "mod = sys.modules[__name__]"
   ]
  },
  {
   "cell_type": "code",
   "execution_count": 14,
   "metadata": {},
   "outputs": [
    {
     "name": "stderr",
     "output_type": "stream",
     "text": [
      "/Users/mokpolar/opt/anaconda3/envs/tf2-py37/lib/python3.7/site-packages/IPython/core/interactiveshell.py:3051: DtypeWarning: Columns (7) have mixed types. Specify dtype option on import or set low_memory=False.\n",
      "  interactivity=interactivity, compiler=compiler, result=result)\n",
      "/Users/mokpolar/opt/anaconda3/envs/tf2-py37/lib/python3.7/site-packages/IPython/core/interactiveshell.py:3051: DtypeWarning: Columns (4) have mixed types. Specify dtype option on import or set low_memory=False.\n",
      "  interactivity=interactivity, compiler=compiler, result=result)\n"
     ]
    }
   ],
   "source": [
    "for i, j in enumerate(file_names):\n",
    "    setattr(mod, file_names[i], pd.read_csv(os.path.join(file_path, j + '.csv')))"
   ]
  },
  {
   "cell_type": "code",
   "execution_count": 15,
   "metadata": {},
   "outputs": [
    {
     "data": {
      "text/html": [
       "<div>\n",
       "<style scoped>\n",
       "    .dataframe tbody tr th:only-of-type {\n",
       "        vertical-align: middle;\n",
       "    }\n",
       "\n",
       "    .dataframe tbody tr th {\n",
       "        vertical-align: top;\n",
       "    }\n",
       "\n",
       "    .dataframe thead th {\n",
       "        text-align: right;\n",
       "    }\n",
       "</style>\n",
       "<table border=\"1\" class=\"dataframe\">\n",
       "  <thead>\n",
       "    <tr style=\"text-align: right;\">\n",
       "      <th></th>\n",
       "      <th>col0</th>\n",
       "      <th>col1</th>\n",
       "      <th>col2</th>\n",
       "      <th>col3</th>\n",
       "      <th>col4</th>\n",
       "      <th>col5</th>\n",
       "      <th>col6</th>\n",
       "      <th>col7</th>\n",
       "      <th>col8</th>\n",
       "      <th>col9</th>\n",
       "      <th>col10</th>\n",
       "    </tr>\n",
       "  </thead>\n",
       "  <tbody>\n",
       "    <tr>\n",
       "      <th>0</th>\n",
       "      <td>MXWD Index</td>\n",
       "      <td>0</td>\n",
       "      <td>7</td>\n",
       "      <td>12/31/1987</td>\n",
       "      <td>100</td>\n",
       "      <td>100</td>\n",
       "      <td>100</td>\n",
       "      <td>100</td>\n",
       "      <td></td>\n",
       "      <td></td>\n",
       "      <td></td>\n",
       "    </tr>\n",
       "    <tr>\n",
       "      <th>1</th>\n",
       "      <td>MXWD Index</td>\n",
       "      <td>0</td>\n",
       "      <td>7</td>\n",
       "      <td>01/01/1988</td>\n",
       "      <td>100</td>\n",
       "      <td>100</td>\n",
       "      <td>100</td>\n",
       "      <td>100</td>\n",
       "      <td>0</td>\n",
       "      <td>0</td>\n",
       "      <td></td>\n",
       "    </tr>\n",
       "    <tr>\n",
       "      <th>2</th>\n",
       "      <td>MXWD Index</td>\n",
       "      <td>0</td>\n",
       "      <td>7</td>\n",
       "      <td>01/04/1988</td>\n",
       "      <td>99.91</td>\n",
       "      <td>99.91</td>\n",
       "      <td>99.91</td>\n",
       "      <td>99.91</td>\n",
       "      <td>-0.09</td>\n",
       "      <td>-0.09</td>\n",
       "      <td></td>\n",
       "    </tr>\n",
       "    <tr>\n",
       "      <th>3</th>\n",
       "      <td>MXWD Index</td>\n",
       "      <td>0</td>\n",
       "      <td>7</td>\n",
       "      <td>01/05/1988</td>\n",
       "      <td>99.7</td>\n",
       "      <td>99.7</td>\n",
       "      <td>99.7</td>\n",
       "      <td>99.7</td>\n",
       "      <td>-0.21</td>\n",
       "      <td>-0.21</td>\n",
       "      <td></td>\n",
       "    </tr>\n",
       "    <tr>\n",
       "      <th>4</th>\n",
       "      <td>MXWD Index</td>\n",
       "      <td>0</td>\n",
       "      <td>7</td>\n",
       "      <td>01/06/1988</td>\n",
       "      <td>101.26</td>\n",
       "      <td>101.26</td>\n",
       "      <td>101.26</td>\n",
       "      <td>101.26</td>\n",
       "      <td>1.56</td>\n",
       "      <td>1.56</td>\n",
       "      <td></td>\n",
       "    </tr>\n",
       "    <tr>\n",
       "      <th>...</th>\n",
       "      <td>...</td>\n",
       "      <td>...</td>\n",
       "      <td>...</td>\n",
       "      <td>...</td>\n",
       "      <td>...</td>\n",
       "      <td>...</td>\n",
       "      <td>...</td>\n",
       "      <td>...</td>\n",
       "      <td>...</td>\n",
       "      <td>...</td>\n",
       "      <td>...</td>\n",
       "    </tr>\n",
       "    <tr>\n",
       "      <th>2015100</th>\n",
       "      <td>MXJPHEUR Index</td>\n",
       "      <td>0</td>\n",
       "      <td>7</td>\n",
       "      <td>09/03/2012</td>\n",
       "      <td>90.45</td>\n",
       "      <td>91.25</td>\n",
       "      <td>89.93</td>\n",
       "      <td>90.07</td>\n",
       "      <td>-0.41</td>\n",
       "      <td>-0.45</td>\n",
       "      <td></td>\n",
       "    </tr>\n",
       "    <tr>\n",
       "      <th>2015101</th>\n",
       "      <td>MXJPHEUR Index</td>\n",
       "      <td>0</td>\n",
       "      <td>7</td>\n",
       "      <td>09/04/2012</td>\n",
       "      <td>90.07</td>\n",
       "      <td>90.2</td>\n",
       "      <td>89.45</td>\n",
       "      <td>89.88</td>\n",
       "      <td>-0.19</td>\n",
       "      <td>-0.21</td>\n",
       "      <td></td>\n",
       "    </tr>\n",
       "    <tr>\n",
       "      <th>2015102</th>\n",
       "      <td>MXJPHEUR Index</td>\n",
       "      <td>0</td>\n",
       "      <td>7</td>\n",
       "      <td>09/05/2012</td>\n",
       "      <td>89.62</td>\n",
       "      <td>89.65</td>\n",
       "      <td>88.77</td>\n",
       "      <td>88.8</td>\n",
       "      <td>-1.08</td>\n",
       "      <td>-1.2</td>\n",
       "      <td></td>\n",
       "    </tr>\n",
       "    <tr>\n",
       "      <th>2015103</th>\n",
       "      <td>MXJPHEUR Index</td>\n",
       "      <td>0</td>\n",
       "      <td>7</td>\n",
       "      <td>09/06/2012</td>\n",
       "      <td>89.05</td>\n",
       "      <td>89.05</td>\n",
       "      <td>88.46</td>\n",
       "      <td>89</td>\n",
       "      <td>0.2</td>\n",
       "      <td>0.23</td>\n",
       "      <td></td>\n",
       "    </tr>\n",
       "    <tr>\n",
       "      <th>2015104</th>\n",
       "      <td>MXJPHEUR Index</td>\n",
       "      <td>0</td>\n",
       "      <td>7</td>\n",
       "      <td>09/07/2012</td>\n",
       "      <td>89.51</td>\n",
       "      <td>91.22</td>\n",
       "      <td>89.46</td>\n",
       "      <td>91.2</td>\n",
       "      <td>2.2</td>\n",
       "      <td>2.47</td>\n",
       "      <td></td>\n",
       "    </tr>\n",
       "  </tbody>\n",
       "</table>\n",
       "<p>2015105 rows × 11 columns</p>\n",
       "</div>"
      ],
      "text/plain": [
       "                   col0  col1  col2        col3    col4    col5    col6  \\\n",
       "0            MXWD Index     0     7  12/31/1987     100     100     100   \n",
       "1            MXWD Index     0     7  01/01/1988     100     100     100   \n",
       "2            MXWD Index     0     7  01/04/1988   99.91   99.91   99.91   \n",
       "3            MXWD Index     0     7  01/05/1988    99.7    99.7    99.7   \n",
       "4            MXWD Index     0     7  01/06/1988  101.26  101.26  101.26   \n",
       "...                 ...   ...   ...         ...     ...     ...     ...   \n",
       "2015100  MXJPHEUR Index     0     7  09/03/2012   90.45   91.25   89.93   \n",
       "2015101  MXJPHEUR Index     0     7  09/04/2012   90.07    90.2   89.45   \n",
       "2015102  MXJPHEUR Index     0     7  09/05/2012   89.62   89.65   88.77   \n",
       "2015103  MXJPHEUR Index     0     7  09/06/2012   89.05   89.05   88.46   \n",
       "2015104  MXJPHEUR Index     0     7  09/07/2012   89.51   91.22   89.46   \n",
       "\n",
       "           col7   col8   col9 col10  \n",
       "0           100                      \n",
       "1           100      0      0        \n",
       "2         99.91  -0.09  -0.09        \n",
       "3          99.7  -0.21  -0.21        \n",
       "4        101.26   1.56   1.56        \n",
       "...         ...    ...    ...   ...  \n",
       "2015100   90.07  -0.41  -0.45        \n",
       "2015101   89.88  -0.19  -0.21        \n",
       "2015102    88.8  -1.08   -1.2        \n",
       "2015103      89    0.2   0.23        \n",
       "2015104    91.2    2.2   2.47        \n",
       "\n",
       "[2015105 rows x 11 columns]"
      ]
     },
     "execution_count": 15,
     "metadata": {},
     "output_type": "execute_result"
    }
   ],
   "source": [
    "msci"
   ]
  },
  {
   "cell_type": "code",
   "execution_count": 16,
   "metadata": {},
   "outputs": [],
   "source": [
    "find_target = ['SHCOMP Index', 'GTCNY10Y Corp', 'SPX Index', 'GTUSD10Y Govt', 'KOSPI Index', 'GTKRW10Y Corp', 'DXY Curncy', 'CL1 Comdty', 'XAU Curncy']"
   ]
  },
  {
   "cell_type": "code",
   "execution_count": 47,
   "metadata": {},
   "outputs": [],
   "source": [
    "dfs = [msci, barclays, economic, commodity, world_indices, moneymarket, future]"
   ]
  },
  {
   "cell_type": "code",
   "execution_count": 48,
   "metadata": {},
   "outputs": [
    {
     "name": "stdout",
     "output_type": "stream",
     "text": [
      "commodity CL1 Comdty\n",
      "commodity XAU Curncy\n",
      "world_indices SHCOMP Index\n",
      "world_indices SPX Index\n",
      "world_indices KOSPI Index\n",
      "moneymarket GTCNY10Y Corp\n",
      "moneymarket GTUSD10Y Govt\n",
      "moneymarket GTKRW10Y Corp\n",
      "future DXY Curncy\n"
     ]
    }
   ],
   "source": [
    "for i, j in enumerate(dfs):\n",
    "    for l in find_target:\n",
    "        if (j.col0 == l).sum() > 0:\n",
    "            print(file_names[i], l)\n",
    "        else:\n",
    "            pass"
   ]
  },
  {
   "cell_type": "code",
   "execution_count": 64,
   "metadata": {},
   "outputs": [],
   "source": [
    "com = commodity[commodity['col0'].isin(['CL1 Comdty', 'XAU Curncy'])]"
   ]
  },
  {
   "cell_type": "code",
   "execution_count": 65,
   "metadata": {},
   "outputs": [],
   "source": [
    "wor = world_indices[world_indices['col0'].isin(['SHCOMP Index', 'SPX Index', 'KOSPI Index'])]"
   ]
  },
  {
   "cell_type": "code",
   "execution_count": 66,
   "metadata": {},
   "outputs": [],
   "source": [
    "mon = moneymarket[moneymarket['col0'].isin(['GTCNY10Y Corp', 'GTUSD10Y Govt', 'GTKRW10Y Corp'])]"
   ]
  },
  {
   "cell_type": "code",
   "execution_count": 67,
   "metadata": {},
   "outputs": [],
   "source": [
    "fut = future[future['col0'].isin(['DXY Curncy'])]"
   ]
  },
  {
   "cell_type": "code",
   "execution_count": 69,
   "metadata": {},
   "outputs": [],
   "source": [
    "df = pd.concat([com, wor, mon, fut], axis = 0)"
   ]
  },
  {
   "cell_type": "code",
   "execution_count": 71,
   "metadata": {},
   "outputs": [],
   "source": [
    "df.to_csv('target.csv')"
   ]
  },
  {
   "cell_type": "code",
   "execution_count": 72,
   "metadata": {},
   "outputs": [
    {
     "data": {
      "text/plain": [
       "array(['CL1 Comdty', 'XAU Curncy', 'SPX Index', 'SHCOMP Index',\n",
       "       'KOSPI Index', 'GTUSD10Y Govt', 'GTCNY10Y Corp', 'GTKRW10Y Corp',\n",
       "       'DXY Curncy'], dtype=object)"
      ]
     },
     "execution_count": 72,
     "metadata": {},
     "output_type": "execute_result"
    }
   ],
   "source": [
    "df.col0.unique()"
   ]
  },
  {
   "cell_type": "code",
   "execution_count": null,
   "metadata": {},
   "outputs": [],
   "source": []
  }
 ],
 "metadata": {
  "kernelspec": {
   "display_name": "Python 3.7.6 64-bit ('tf2-py37': conda)",
   "language": "python",
   "name": "python37664bittf2py37conda4df29648bf8a4808bc274fe4f9de4cdb"
  },
  "language_info": {
   "codemirror_mode": {
    "name": "ipython",
    "version": 3
   },
   "file_extension": ".py",
   "mimetype": "text/x-python",
   "name": "python",
   "nbconvert_exporter": "python",
   "pygments_lexer": "ipython3",
   "version": "3.7.6"
  }
 },
 "nbformat": 4,
 "nbformat_minor": 4
}
