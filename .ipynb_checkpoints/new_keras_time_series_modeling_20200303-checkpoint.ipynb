{
 "cells": [
  {
   "cell_type": "code",
   "execution_count": 114,
   "metadata": {
    "colab": {
     "base_uri": "https://localhost:8080/",
     "height": 35
    },
    "colab_type": "code",
    "executionInfo": {
     "elapsed": 8300,
     "status": "ok",
     "timestamp": 1581165233995,
     "user": {
      "displayName": "정주영",
      "photoUrl": "",
      "userId": "09017190432009937170"
     },
     "user_tz": -540
    },
    "id": "pDH3fM85_J7y",
    "outputId": "ae49c584-b8ab-432a-bb30-562d610a14c4"
   },
   "outputs": [],
   "source": [
    "try :\n",
    "    %tensorflow_version 2.x\n",
    "except Exception : \n",
    "    pass\n",
    "\n",
    "import tensorflow as tf\n",
    "\n",
    "import matplotlib as mpl\n",
    "import matplotlib.pyplot as plt\n",
    "\n",
    "from sklearn.preprocessing import StandardScaler\n",
    "\n",
    "\n",
    "import numpy as np\n",
    "import os\n",
    "import pandas as pd\n",
    "\n",
    "mpl.rcParams['figure.figsize'] = (8, 6)\n",
    "mpl.rcParams['axes.grid'] = False"
   ]
  },
  {
   "cell_type": "code",
   "execution_count": 115,
   "metadata": {},
   "outputs": [
    {
     "name": "stdout",
     "output_type": "stream",
     "text": [
      "2.1.0\n"
     ]
    }
   ],
   "source": [
    "print(tf.__version__)"
   ]
  },
  {
   "cell_type": "code",
   "execution_count": 116,
   "metadata": {
    "colab": {},
    "colab_type": "code",
    "id": "926b2k96C-CT"
   },
   "outputs": [],
   "source": [
    "df = pd.read_csv('original_full_data.csv', index_col = 0)"
   ]
  },
  {
   "cell_type": "code",
   "execution_count": 117,
   "metadata": {},
   "outputs": [],
   "source": [
    "mmdf = pd.read_csv('bloomberg_map_index_20200130.csv', index_col = 0)"
   ]
  },
  {
   "cell_type": "code",
   "execution_count": 118,
   "metadata": {
    "colab": {
     "base_uri": "https://localhost:8080/",
     "height": 343
    },
    "colab_type": "code",
    "executionInfo": {
     "elapsed": 9840,
     "status": "ok",
     "timestamp": 1581165235715,
     "user": {
      "displayName": "정주영",
      "photoUrl": "",
      "userId": "09017190432009937170"
     },
     "user_tz": -540
    },
    "id": "t4NwRpefDE_J",
    "outputId": "6b58ea8c-e1fd-4772-885e-9489cb084ead"
   },
   "outputs": [
    {
     "data": {
      "text/html": [
       "<div>\n",
       "<style scoped>\n",
       "    .dataframe tbody tr th:only-of-type {\n",
       "        vertical-align: middle;\n",
       "    }\n",
       "\n",
       "    .dataframe tbody tr th {\n",
       "        vertical-align: top;\n",
       "    }\n",
       "\n",
       "    .dataframe thead th {\n",
       "        text-align: right;\n",
       "    }\n",
       "</style>\n",
       "<table border=\"1\" class=\"dataframe\">\n",
       "  <thead>\n",
       "    <tr style=\"text-align: right;\">\n",
       "      <th></th>\n",
       "      <th>date</th>\n",
       "      <th>GDPCQOQIndex</th>\n",
       "      <th>GDPCYOYIndex</th>\n",
       "      <th>GDPCTOT%Index</th>\n",
       "      <th>GPDITOC%Index</th>\n",
       "      <th>GPGSTOC%Index</th>\n",
       "      <th>RGCDCIPIIndex</th>\n",
       "      <th>GDPCUR$Index</th>\n",
       "      <th>GDPCURYIndex</th>\n",
       "      <th>GDPPIQQIndex</th>\n",
       "      <th>...</th>\n",
       "      <th>g16</th>\n",
       "      <th>g32</th>\n",
       "      <th>g64</th>\n",
       "      <th>g128</th>\n",
       "      <th>avg</th>\n",
       "      <th>avg_four</th>\n",
       "      <th>ssd_price</th>\n",
       "      <th>flash_price</th>\n",
       "      <th>option_bit</th>\n",
       "      <th>future_bit</th>\n",
       "    </tr>\n",
       "  </thead>\n",
       "  <tbody>\n",
       "    <tr>\n",
       "      <th>0</th>\n",
       "      <td>1981-01-01</td>\n",
       "      <td>NaN</td>\n",
       "      <td>NaN</td>\n",
       "      <td>NaN</td>\n",
       "      <td>NaN</td>\n",
       "      <td>NaN</td>\n",
       "      <td>NaN</td>\n",
       "      <td>NaN</td>\n",
       "      <td>NaN</td>\n",
       "      <td>NaN</td>\n",
       "      <td>...</td>\n",
       "      <td>NaN</td>\n",
       "      <td>NaN</td>\n",
       "      <td>NaN</td>\n",
       "      <td>NaN</td>\n",
       "      <td>NaN</td>\n",
       "      <td>NaN</td>\n",
       "      <td>NaN</td>\n",
       "      <td>NaN</td>\n",
       "      <td>NaN</td>\n",
       "      <td>NaN</td>\n",
       "    </tr>\n",
       "    <tr>\n",
       "      <th>1</th>\n",
       "      <td>1981-01-02</td>\n",
       "      <td>NaN</td>\n",
       "      <td>NaN</td>\n",
       "      <td>NaN</td>\n",
       "      <td>NaN</td>\n",
       "      <td>NaN</td>\n",
       "      <td>NaN</td>\n",
       "      <td>NaN</td>\n",
       "      <td>NaN</td>\n",
       "      <td>NaN</td>\n",
       "      <td>...</td>\n",
       "      <td>NaN</td>\n",
       "      <td>NaN</td>\n",
       "      <td>NaN</td>\n",
       "      <td>NaN</td>\n",
       "      <td>NaN</td>\n",
       "      <td>NaN</td>\n",
       "      <td>NaN</td>\n",
       "      <td>NaN</td>\n",
       "      <td>NaN</td>\n",
       "      <td>NaN</td>\n",
       "    </tr>\n",
       "    <tr>\n",
       "      <th>2</th>\n",
       "      <td>1981-01-03</td>\n",
       "      <td>NaN</td>\n",
       "      <td>NaN</td>\n",
       "      <td>NaN</td>\n",
       "      <td>NaN</td>\n",
       "      <td>NaN</td>\n",
       "      <td>NaN</td>\n",
       "      <td>NaN</td>\n",
       "      <td>NaN</td>\n",
       "      <td>NaN</td>\n",
       "      <td>...</td>\n",
       "      <td>NaN</td>\n",
       "      <td>NaN</td>\n",
       "      <td>NaN</td>\n",
       "      <td>NaN</td>\n",
       "      <td>NaN</td>\n",
       "      <td>NaN</td>\n",
       "      <td>NaN</td>\n",
       "      <td>NaN</td>\n",
       "      <td>NaN</td>\n",
       "      <td>NaN</td>\n",
       "    </tr>\n",
       "    <tr>\n",
       "      <th>3</th>\n",
       "      <td>1981-01-04</td>\n",
       "      <td>NaN</td>\n",
       "      <td>NaN</td>\n",
       "      <td>NaN</td>\n",
       "      <td>NaN</td>\n",
       "      <td>NaN</td>\n",
       "      <td>NaN</td>\n",
       "      <td>NaN</td>\n",
       "      <td>NaN</td>\n",
       "      <td>NaN</td>\n",
       "      <td>...</td>\n",
       "      <td>NaN</td>\n",
       "      <td>NaN</td>\n",
       "      <td>NaN</td>\n",
       "      <td>NaN</td>\n",
       "      <td>NaN</td>\n",
       "      <td>NaN</td>\n",
       "      <td>NaN</td>\n",
       "      <td>NaN</td>\n",
       "      <td>NaN</td>\n",
       "      <td>NaN</td>\n",
       "    </tr>\n",
       "    <tr>\n",
       "      <th>4</th>\n",
       "      <td>1981-01-05</td>\n",
       "      <td>NaN</td>\n",
       "      <td>NaN</td>\n",
       "      <td>NaN</td>\n",
       "      <td>NaN</td>\n",
       "      <td>NaN</td>\n",
       "      <td>NaN</td>\n",
       "      <td>NaN</td>\n",
       "      <td>NaN</td>\n",
       "      <td>NaN</td>\n",
       "      <td>...</td>\n",
       "      <td>NaN</td>\n",
       "      <td>NaN</td>\n",
       "      <td>NaN</td>\n",
       "      <td>NaN</td>\n",
       "      <td>NaN</td>\n",
       "      <td>NaN</td>\n",
       "      <td>NaN</td>\n",
       "      <td>NaN</td>\n",
       "      <td>NaN</td>\n",
       "      <td>NaN</td>\n",
       "    </tr>\n",
       "  </tbody>\n",
       "</table>\n",
       "<p>5 rows × 417 columns</p>\n",
       "</div>"
      ],
      "text/plain": [
       "         date  GDPCQOQIndex  GDPCYOYIndex  GDPCTOT%Index  GPDITOC%Index  \\\n",
       "0  1981-01-01           NaN           NaN            NaN            NaN   \n",
       "1  1981-01-02           NaN           NaN            NaN            NaN   \n",
       "2  1981-01-03           NaN           NaN            NaN            NaN   \n",
       "3  1981-01-04           NaN           NaN            NaN            NaN   \n",
       "4  1981-01-05           NaN           NaN            NaN            NaN   \n",
       "\n",
       "   GPGSTOC%Index  RGCDCIPIIndex  GDPCUR$Index  GDPCURYIndex  GDPPIQQIndex  \\\n",
       "0            NaN            NaN           NaN           NaN           NaN   \n",
       "1            NaN            NaN           NaN           NaN           NaN   \n",
       "2            NaN            NaN           NaN           NaN           NaN   \n",
       "3            NaN            NaN           NaN           NaN           NaN   \n",
       "4            NaN            NaN           NaN           NaN           NaN   \n",
       "\n",
       "   ...  g16  g32  g64  g128  avg  avg_four  ssd_price  flash_price  \\\n",
       "0  ...  NaN  NaN  NaN   NaN  NaN       NaN        NaN          NaN   \n",
       "1  ...  NaN  NaN  NaN   NaN  NaN       NaN        NaN          NaN   \n",
       "2  ...  NaN  NaN  NaN   NaN  NaN       NaN        NaN          NaN   \n",
       "3  ...  NaN  NaN  NaN   NaN  NaN       NaN        NaN          NaN   \n",
       "4  ...  NaN  NaN  NaN   NaN  NaN       NaN        NaN          NaN   \n",
       "\n",
       "   option_bit  future_bit  \n",
       "0         NaN         NaN  \n",
       "1         NaN         NaN  \n",
       "2         NaN         NaN  \n",
       "3         NaN         NaN  \n",
       "4         NaN         NaN  \n",
       "\n",
       "[5 rows x 417 columns]"
      ]
     },
     "execution_count": 118,
     "metadata": {},
     "output_type": "execute_result"
    }
   ],
   "source": [
    "df.head()"
   ]
  },
  {
   "cell_type": "code",
   "execution_count": 119,
   "metadata": {
    "colab": {
     "base_uri": "https://localhost:8080/",
     "height": 35
    },
    "colab_type": "code",
    "executionInfo": {
     "elapsed": 7774,
     "status": "ok",
     "timestamp": 1581165235716,
     "user": {
      "displayName": "정주영",
      "photoUrl": "",
      "userId": "09017190432009937170"
     },
     "user_tz": -540
    },
    "id": "13-76RFGFBg9",
    "outputId": "4aaf548c-df81-4662-f5c4-d6f6c9febce3"
   },
   "outputs": [],
   "source": [
    "df = df.loc[9132 :, :]"
   ]
  },
  {
   "cell_type": "code",
   "execution_count": 120,
   "metadata": {},
   "outputs": [
    {
     "data": {
      "text/plain": [
       "5051"
      ]
     },
     "execution_count": 120,
     "metadata": {},
     "output_type": "execute_result"
    }
   ],
   "source": [
    "len(df)"
   ]
  },
  {
   "cell_type": "code",
   "execution_count": 121,
   "metadata": {},
   "outputs": [],
   "source": [
    "df.reset_index(inplace = True, drop = True)"
   ]
  },
  {
   "cell_type": "code",
   "execution_count": 122,
   "metadata": {},
   "outputs": [],
   "source": [
    "# Class generates derived variables & shifting target variable\n",
    "\n",
    "class Builder:\n",
    "\n",
    "    def __init__(self, input_df, map_df, target_day):\n",
    "        self.df = input_df\n",
    "        self.mdf = map_df\n",
    "        self.lag_days = [1, 5, 20, 60, 120, 260] # lagging day variation [1day 1week 1month 3month 6month 1year]\n",
    "        self.target_day = target_day # ex) 1, 260\n",
    "\n",
    "\n",
    "    # shifting function\n",
    "\n",
    "    def targeter(self, target_column):\n",
    "        self.df[target_column] = self.df[target_column].shift(-1*int(self.target_day))\n",
    "\n",
    "        return self.df\n",
    "    \n",
    "    # generating derived columns function : return ex) 20060107/20060101\n",
    "\n",
    "    def returner(self, target_column):      \n",
    "\n",
    "        col_name =  []\n",
    "        # creating new column name\n",
    "        for i in self.lag_days:\n",
    "            col_name.append(target_column + str(i))\n",
    "            \n",
    "        # appending lagged columns\n",
    "        for i, j in enumerate(self.lag_days):\n",
    "            self.df[locals()['col_name'][i]] = self.df[target_column] / self.df[target_column].shift(periods = j, axis = 0)\n",
    "\n",
    "        return self.df \n",
    "\n",
    "    # generating derived function : minus ex) 20060107 - 20060101\n",
    "    \n",
    "    def differ(self, target_column):\n",
    "\n",
    "        col_name = []\n",
    "        for i in self.lag_days:\n",
    "            col_name.append(target_column + str(i))\n",
    "        for i, j in enumerate(self.lag_days):\n",
    "            self.df[locals()['col_name'][i]] = self.df[target_column] - self.df[target_column].shift(periods = j, axis = 0)\n",
    "        return self.df\n",
    "\n",
    "    # generating derived function : volume * close  -> convert to return \n",
    "\n",
    "    def producter(self, target_column):\n",
    "\n",
    "        col_name = (str(target_column).split('_'))[0]       \n",
    "        self.df[locals()['col_name'] + '_product'] = self.df[col_name + '_volume'] * self.df[col_name + '_close'] # j volume과 j close를 곱해서 \n",
    "\n",
    "        return self.df\n",
    "    \n",
    "    # executing functions\n",
    "    \n",
    "    def execution(self):\n",
    "        for i, j in enumerate(self.mdf['ticker']): # mdf에서 ticker 확인\n",
    "            if j in self.df.columns:\n",
    "                if self.mdf.loc[i, :][1] == 'product':  # key값이 product인 경우\n",
    "                    self.producter(j)\n",
    "                    col = str(j).split('_')[0]\n",
    "                    self.df[col + '_product'] = self.df[col + '_product'] / self.df[col + '_product'].shift(1)\n",
    "                    \n",
    "                elif self.mdf.loc[i, :][1] == 'minus': # key값이 minus인 경우\n",
    "                    self.differ(j)\n",
    "\n",
    "                elif self.mdf.loc[i, :][1] == 'change': # key값이 change인 경우\n",
    "                    self.returner(j)\n",
    "\n",
    "\n",
    "                elif self.mdf.loc[i, :][1] == 'target': # key값이 target인 경우 (현재 KRXsemiconductor_change)\n",
    "                    self.targeter(j)\n",
    "\n",
    "                else:\n",
    "                    pass\n",
    "            else:\n",
    "                pass\n",
    "                            \n",
    "        return self.df\n",
    "\n",
    "\n",
    "    # side : creating auto correlation graph function\n",
    "\n",
    "    def acf_cal(self, target):\n",
    "        data = pd.DataFrame(self.df[target])\n",
    "        data = data.interpolate(method = 'cubic', limit_area = 'inside').fillna(method = 'ffill').fillna(method = 'bfill')\n",
    "        acf = sm.tsa.acf(data)      \n",
    "        plt.stem(acf)\n",
    "        plt.show()"
   ]
  },
  {
   "cell_type": "code",
   "execution_count": 123,
   "metadata": {},
   "outputs": [],
   "source": [
    "df['date'] = pd.to_datetime(df['date'])\n",
    "df.set_index('date', inplace = True)"
   ]
  },
  {
   "cell_type": "code",
   "execution_count": 124,
   "metadata": {},
   "outputs": [],
   "source": [
    "# fillna cubic -> ffill -> bfill\n",
    "\n",
    "df = df.interpolate(method = 'cubic', limit_area = 'inside')\n",
    "df = df.fillna(method = 'ffill')\n",
    "df = df.fillna(method = 'bfill')"
   ]
  },
  {
   "cell_type": "code",
   "execution_count": 125,
   "metadata": {},
   "outputs": [
    {
     "data": {
      "text/plain": [
       "0"
      ]
     },
     "execution_count": 125,
     "metadata": {},
     "output_type": "execute_result"
    }
   ],
   "source": [
    "df.isna().sum().sum()"
   ]
  },
  {
   "cell_type": "code",
   "execution_count": 126,
   "metadata": {},
   "outputs": [],
   "source": [
    "cla = Builder(df, mmdf, 1)"
   ]
  },
  {
   "cell_type": "code",
   "execution_count": 127,
   "metadata": {},
   "outputs": [
    {
     "data": {
      "text/html": [
       "<div>\n",
       "<style scoped>\n",
       "    .dataframe tbody tr th:only-of-type {\n",
       "        vertical-align: middle;\n",
       "    }\n",
       "\n",
       "    .dataframe tbody tr th {\n",
       "        vertical-align: top;\n",
       "    }\n",
       "\n",
       "    .dataframe thead th {\n",
       "        text-align: right;\n",
       "    }\n",
       "</style>\n",
       "<table border=\"1\" class=\"dataframe\">\n",
       "  <thead>\n",
       "    <tr style=\"text-align: right;\">\n",
       "      <th></th>\n",
       "      <th>GDPCQOQIndex</th>\n",
       "      <th>GDPCYOYIndex</th>\n",
       "      <th>GDPCTOT%Index</th>\n",
       "      <th>GPDITOC%Index</th>\n",
       "      <th>GPGSTOC%Index</th>\n",
       "      <th>RGCDCIPIIndex</th>\n",
       "      <th>GDPCUR$Index</th>\n",
       "      <th>GDPCURYIndex</th>\n",
       "      <th>GDPPIQQIndex</th>\n",
       "      <th>GDPCPCECIndex</th>\n",
       "      <th>...</th>\n",
       "      <th>Philadelphia_product</th>\n",
       "      <th>QCOM_product</th>\n",
       "      <th>SamsungElectronics_product</th>\n",
       "      <th>ShinEtsuChemical_product</th>\n",
       "      <th>Siltronic_product</th>\n",
       "      <th>SKhynix_product</th>\n",
       "      <th>Sumco_product</th>\n",
       "      <th>TokyoElectron_product</th>\n",
       "      <th>TSMC_product</th>\n",
       "      <th>UMC_product</th>\n",
       "    </tr>\n",
       "    <tr>\n",
       "      <th>date</th>\n",
       "      <th></th>\n",
       "      <th></th>\n",
       "      <th></th>\n",
       "      <th></th>\n",
       "      <th></th>\n",
       "      <th></th>\n",
       "      <th></th>\n",
       "      <th></th>\n",
       "      <th></th>\n",
       "      <th></th>\n",
       "      <th></th>\n",
       "      <th></th>\n",
       "      <th></th>\n",
       "      <th></th>\n",
       "      <th></th>\n",
       "      <th></th>\n",
       "      <th></th>\n",
       "      <th></th>\n",
       "      <th></th>\n",
       "      <th></th>\n",
       "      <th></th>\n",
       "    </tr>\n",
       "  </thead>\n",
       "  <tbody>\n",
       "    <tr>\n",
       "      <th>2006-01-02</th>\n",
       "      <td>5.4</td>\n",
       "      <td>3.4</td>\n",
       "      <td>4.5</td>\n",
       "      <td>6.1</td>\n",
       "      <td>5.2</td>\n",
       "      <td>102.7</td>\n",
       "      <td>13603.93</td>\n",
       "      <td>6.6</td>\n",
       "      <td>2.8</td>\n",
       "      <td>2.3</td>\n",
       "      <td>...</td>\n",
       "      <td>NaN</td>\n",
       "      <td>NaN</td>\n",
       "      <td>NaN</td>\n",
       "      <td>NaN</td>\n",
       "      <td>NaN</td>\n",
       "      <td>NaN</td>\n",
       "      <td>NaN</td>\n",
       "      <td>NaN</td>\n",
       "      <td>NaN</td>\n",
       "      <td>NaN</td>\n",
       "    </tr>\n",
       "    <tr>\n",
       "      <th>2006-01-03</th>\n",
       "      <td>5.4</td>\n",
       "      <td>3.4</td>\n",
       "      <td>4.5</td>\n",
       "      <td>6.1</td>\n",
       "      <td>5.2</td>\n",
       "      <td>102.7</td>\n",
       "      <td>13603.93</td>\n",
       "      <td>6.6</td>\n",
       "      <td>2.8</td>\n",
       "      <td>2.3</td>\n",
       "      <td>...</td>\n",
       "      <td>1.000000</td>\n",
       "      <td>1.000000</td>\n",
       "      <td>0.862009</td>\n",
       "      <td>1.000000</td>\n",
       "      <td>1.000000</td>\n",
       "      <td>1.048766</td>\n",
       "      <td>1.000000</td>\n",
       "      <td>1.000000</td>\n",
       "      <td>1.000000</td>\n",
       "      <td>1.000000</td>\n",
       "    </tr>\n",
       "    <tr>\n",
       "      <th>2006-01-04</th>\n",
       "      <td>5.4</td>\n",
       "      <td>3.4</td>\n",
       "      <td>4.5</td>\n",
       "      <td>6.1</td>\n",
       "      <td>5.2</td>\n",
       "      <td>102.7</td>\n",
       "      <td>13603.93</td>\n",
       "      <td>6.6</td>\n",
       "      <td>2.8</td>\n",
       "      <td>2.3</td>\n",
       "      <td>...</td>\n",
       "      <td>0.967923</td>\n",
       "      <td>1.097724</td>\n",
       "      <td>2.307115</td>\n",
       "      <td>1.000000</td>\n",
       "      <td>1.000000</td>\n",
       "      <td>1.549763</td>\n",
       "      <td>1.000000</td>\n",
       "      <td>1.000000</td>\n",
       "      <td>0.788606</td>\n",
       "      <td>0.581332</td>\n",
       "    </tr>\n",
       "    <tr>\n",
       "      <th>2006-01-05</th>\n",
       "      <td>5.4</td>\n",
       "      <td>3.4</td>\n",
       "      <td>4.5</td>\n",
       "      <td>6.1</td>\n",
       "      <td>5.2</td>\n",
       "      <td>102.7</td>\n",
       "      <td>13603.93</td>\n",
       "      <td>6.6</td>\n",
       "      <td>2.8</td>\n",
       "      <td>2.3</td>\n",
       "      <td>...</td>\n",
       "      <td>1.168471</td>\n",
       "      <td>0.642743</td>\n",
       "      <td>0.878133</td>\n",
       "      <td>1.000000</td>\n",
       "      <td>1.000000</td>\n",
       "      <td>0.913503</td>\n",
       "      <td>1.000000</td>\n",
       "      <td>4.149537</td>\n",
       "      <td>0.835657</td>\n",
       "      <td>2.780952</td>\n",
       "    </tr>\n",
       "    <tr>\n",
       "      <th>2006-01-06</th>\n",
       "      <td>5.4</td>\n",
       "      <td>3.4</td>\n",
       "      <td>4.5</td>\n",
       "      <td>6.1</td>\n",
       "      <td>5.2</td>\n",
       "      <td>102.7</td>\n",
       "      <td>13603.93</td>\n",
       "      <td>6.6</td>\n",
       "      <td>2.8</td>\n",
       "      <td>2.3</td>\n",
       "      <td>...</td>\n",
       "      <td>1.047620</td>\n",
       "      <td>2.572150</td>\n",
       "      <td>0.504080</td>\n",
       "      <td>1.000000</td>\n",
       "      <td>1.000000</td>\n",
       "      <td>0.596882</td>\n",
       "      <td>1.000000</td>\n",
       "      <td>1.117321</td>\n",
       "      <td>1.553101</td>\n",
       "      <td>1.545230</td>\n",
       "    </tr>\n",
       "    <tr>\n",
       "      <th>...</th>\n",
       "      <td>...</td>\n",
       "      <td>...</td>\n",
       "      <td>...</td>\n",
       "      <td>...</td>\n",
       "      <td>...</td>\n",
       "      <td>...</td>\n",
       "      <td>...</td>\n",
       "      <td>...</td>\n",
       "      <td>...</td>\n",
       "      <td>...</td>\n",
       "      <td>...</td>\n",
       "      <td>...</td>\n",
       "      <td>...</td>\n",
       "      <td>...</td>\n",
       "      <td>...</td>\n",
       "      <td>...</td>\n",
       "      <td>...</td>\n",
       "      <td>...</td>\n",
       "      <td>...</td>\n",
       "      <td>...</td>\n",
       "      <td>...</td>\n",
       "    </tr>\n",
       "    <tr>\n",
       "      <th>2019-10-27</th>\n",
       "      <td>1.9</td>\n",
       "      <td>2.0</td>\n",
       "      <td>2.9</td>\n",
       "      <td>-1.5</td>\n",
       "      <td>2.0</td>\n",
       "      <td>69.0</td>\n",
       "      <td>21525.82</td>\n",
       "      <td>3.7</td>\n",
       "      <td>1.7</td>\n",
       "      <td>2.2</td>\n",
       "      <td>...</td>\n",
       "      <td>0.954025</td>\n",
       "      <td>1.223596</td>\n",
       "      <td>-7.016632</td>\n",
       "      <td>1.443049</td>\n",
       "      <td>0.882592</td>\n",
       "      <td>0.724875</td>\n",
       "      <td>0.591650</td>\n",
       "      <td>1.185079</td>\n",
       "      <td>0.728242</td>\n",
       "      <td>8.957344</td>\n",
       "    </tr>\n",
       "    <tr>\n",
       "      <th>2019-10-28</th>\n",
       "      <td>1.9</td>\n",
       "      <td>2.0</td>\n",
       "      <td>2.9</td>\n",
       "      <td>-1.5</td>\n",
       "      <td>2.0</td>\n",
       "      <td>69.0</td>\n",
       "      <td>21525.82</td>\n",
       "      <td>3.7</td>\n",
       "      <td>1.7</td>\n",
       "      <td>2.2</td>\n",
       "      <td>...</td>\n",
       "      <td>0.988696</td>\n",
       "      <td>0.869484</td>\n",
       "      <td>3.268112</td>\n",
       "      <td>0.911087</td>\n",
       "      <td>0.984864</td>\n",
       "      <td>0.598464</td>\n",
       "      <td>0.436636</td>\n",
       "      <td>1.103782</td>\n",
       "      <td>1.596400</td>\n",
       "      <td>-4.887075</td>\n",
       "    </tr>\n",
       "    <tr>\n",
       "      <th>2019-10-29</th>\n",
       "      <td>1.9</td>\n",
       "      <td>2.0</td>\n",
       "      <td>2.9</td>\n",
       "      <td>-1.5</td>\n",
       "      <td>2.0</td>\n",
       "      <td>69.0</td>\n",
       "      <td>21525.82</td>\n",
       "      <td>3.7</td>\n",
       "      <td>1.7</td>\n",
       "      <td>2.2</td>\n",
       "      <td>...</td>\n",
       "      <td>1.023202</td>\n",
       "      <td>0.493114</td>\n",
       "      <td>1.174228</td>\n",
       "      <td>0.410159</td>\n",
       "      <td>1.089446</td>\n",
       "      <td>0.832789</td>\n",
       "      <td>1.231150</td>\n",
       "      <td>1.131356</td>\n",
       "      <td>1.864625</td>\n",
       "      <td>2.523049</td>\n",
       "    </tr>\n",
       "    <tr>\n",
       "      <th>2019-10-30</th>\n",
       "      <td>1.9</td>\n",
       "      <td>2.0</td>\n",
       "      <td>2.9</td>\n",
       "      <td>-1.5</td>\n",
       "      <td>2.0</td>\n",
       "      <td>69.0</td>\n",
       "      <td>21525.82</td>\n",
       "      <td>3.7</td>\n",
       "      <td>1.7</td>\n",
       "      <td>2.2</td>\n",
       "      <td>...</td>\n",
       "      <td>0.925346</td>\n",
       "      <td>0.793448</td>\n",
       "      <td>1.165541</td>\n",
       "      <td>0.758679</td>\n",
       "      <td>1.083804</td>\n",
       "      <td>1.150234</td>\n",
       "      <td>0.694483</td>\n",
       "      <td>1.647300</td>\n",
       "      <td>0.877406</td>\n",
       "      <td>0.370442</td>\n",
       "    </tr>\n",
       "    <tr>\n",
       "      <th>2019-10-31</th>\n",
       "      <td>1.9</td>\n",
       "      <td>2.0</td>\n",
       "      <td>2.9</td>\n",
       "      <td>-1.5</td>\n",
       "      <td>2.0</td>\n",
       "      <td>69.0</td>\n",
       "      <td>21525.82</td>\n",
       "      <td>3.7</td>\n",
       "      <td>1.7</td>\n",
       "      <td>2.2</td>\n",
       "      <td>...</td>\n",
       "      <td>1.120675</td>\n",
       "      <td>1.415651</td>\n",
       "      <td>1.150159</td>\n",
       "      <td>2.028561</td>\n",
       "      <td>1.141342</td>\n",
       "      <td>1.033135</td>\n",
       "      <td>1.118354</td>\n",
       "      <td>1.453485</td>\n",
       "      <td>1.324952</td>\n",
       "      <td>2.656823</td>\n",
       "    </tr>\n",
       "  </tbody>\n",
       "</table>\n",
       "<p>5051 rows × 1138 columns</p>\n",
       "</div>"
      ],
      "text/plain": [
       "            GDPCQOQIndex  GDPCYOYIndex  GDPCTOT%Index  GPDITOC%Index  \\\n",
       "date                                                                   \n",
       "2006-01-02           5.4           3.4            4.5            6.1   \n",
       "2006-01-03           5.4           3.4            4.5            6.1   \n",
       "2006-01-04           5.4           3.4            4.5            6.1   \n",
       "2006-01-05           5.4           3.4            4.5            6.1   \n",
       "2006-01-06           5.4           3.4            4.5            6.1   \n",
       "...                  ...           ...            ...            ...   \n",
       "2019-10-27           1.9           2.0            2.9           -1.5   \n",
       "2019-10-28           1.9           2.0            2.9           -1.5   \n",
       "2019-10-29           1.9           2.0            2.9           -1.5   \n",
       "2019-10-30           1.9           2.0            2.9           -1.5   \n",
       "2019-10-31           1.9           2.0            2.9           -1.5   \n",
       "\n",
       "            GPGSTOC%Index  RGCDCIPIIndex  GDPCUR$Index  GDPCURYIndex  \\\n",
       "date                                                                   \n",
       "2006-01-02            5.2          102.7      13603.93           6.6   \n",
       "2006-01-03            5.2          102.7      13603.93           6.6   \n",
       "2006-01-04            5.2          102.7      13603.93           6.6   \n",
       "2006-01-05            5.2          102.7      13603.93           6.6   \n",
       "2006-01-06            5.2          102.7      13603.93           6.6   \n",
       "...                   ...            ...           ...           ...   \n",
       "2019-10-27            2.0           69.0      21525.82           3.7   \n",
       "2019-10-28            2.0           69.0      21525.82           3.7   \n",
       "2019-10-29            2.0           69.0      21525.82           3.7   \n",
       "2019-10-30            2.0           69.0      21525.82           3.7   \n",
       "2019-10-31            2.0           69.0      21525.82           3.7   \n",
       "\n",
       "            GDPPIQQIndex  GDPCPCECIndex  ...  Philadelphia_product  \\\n",
       "date                                     ...                         \n",
       "2006-01-02           2.8            2.3  ...                   NaN   \n",
       "2006-01-03           2.8            2.3  ...              1.000000   \n",
       "2006-01-04           2.8            2.3  ...              0.967923   \n",
       "2006-01-05           2.8            2.3  ...              1.168471   \n",
       "2006-01-06           2.8            2.3  ...              1.047620   \n",
       "...                  ...            ...  ...                   ...   \n",
       "2019-10-27           1.7            2.2  ...              0.954025   \n",
       "2019-10-28           1.7            2.2  ...              0.988696   \n",
       "2019-10-29           1.7            2.2  ...              1.023202   \n",
       "2019-10-30           1.7            2.2  ...              0.925346   \n",
       "2019-10-31           1.7            2.2  ...              1.120675   \n",
       "\n",
       "            QCOM_product  SamsungElectronics_product  \\\n",
       "date                                                   \n",
       "2006-01-02           NaN                         NaN   \n",
       "2006-01-03      1.000000                    0.862009   \n",
       "2006-01-04      1.097724                    2.307115   \n",
       "2006-01-05      0.642743                    0.878133   \n",
       "2006-01-06      2.572150                    0.504080   \n",
       "...                  ...                         ...   \n",
       "2019-10-27      1.223596                   -7.016632   \n",
       "2019-10-28      0.869484                    3.268112   \n",
       "2019-10-29      0.493114                    1.174228   \n",
       "2019-10-30      0.793448                    1.165541   \n",
       "2019-10-31      1.415651                    1.150159   \n",
       "\n",
       "            ShinEtsuChemical_product  Siltronic_product  SKhynix_product  \\\n",
       "date                                                                       \n",
       "2006-01-02                       NaN                NaN              NaN   \n",
       "2006-01-03                  1.000000           1.000000         1.048766   \n",
       "2006-01-04                  1.000000           1.000000         1.549763   \n",
       "2006-01-05                  1.000000           1.000000         0.913503   \n",
       "2006-01-06                  1.000000           1.000000         0.596882   \n",
       "...                              ...                ...              ...   \n",
       "2019-10-27                  1.443049           0.882592         0.724875   \n",
       "2019-10-28                  0.911087           0.984864         0.598464   \n",
       "2019-10-29                  0.410159           1.089446         0.832789   \n",
       "2019-10-30                  0.758679           1.083804         1.150234   \n",
       "2019-10-31                  2.028561           1.141342         1.033135   \n",
       "\n",
       "            Sumco_product  TokyoElectron_product  TSMC_product  UMC_product  \n",
       "date                                                                         \n",
       "2006-01-02            NaN                    NaN           NaN          NaN  \n",
       "2006-01-03       1.000000               1.000000      1.000000     1.000000  \n",
       "2006-01-04       1.000000               1.000000      0.788606     0.581332  \n",
       "2006-01-05       1.000000               4.149537      0.835657     2.780952  \n",
       "2006-01-06       1.000000               1.117321      1.553101     1.545230  \n",
       "...                   ...                    ...           ...          ...  \n",
       "2019-10-27       0.591650               1.185079      0.728242     8.957344  \n",
       "2019-10-28       0.436636               1.103782      1.596400    -4.887075  \n",
       "2019-10-29       1.231150               1.131356      1.864625     2.523049  \n",
       "2019-10-30       0.694483               1.647300      0.877406     0.370442  \n",
       "2019-10-31       1.118354               1.453485      1.324952     2.656823  \n",
       "\n",
       "[5051 rows x 1138 columns]"
      ]
     },
     "execution_count": 127,
     "metadata": {},
     "output_type": "execute_result"
    }
   ],
   "source": [
    "cla.execution()"
   ]
  },
  {
   "cell_type": "code",
   "execution_count": 128,
   "metadata": {},
   "outputs": [],
   "source": [
    "df = cla.df.fillna(method = 'ffill').fillna(method = 'bfill')"
   ]
  },
  {
   "cell_type": "code",
   "execution_count": 129,
   "metadata": {},
   "outputs": [],
   "source": [
    "df.reset_index(inplace = True)"
   ]
  },
  {
   "cell_type": "code",
   "execution_count": 130,
   "metadata": {
    "colab": {},
    "colab_type": "code",
    "id": "PZFQHf-xGoI2"
   },
   "outputs": [],
   "source": [
    "TRAIN_SPLIT = 3000 # 3000부터 대강 쪼개면 될듯"
   ]
  },
  {
   "cell_type": "code",
   "execution_count": 131,
   "metadata": {
    "colab": {},
    "colab_type": "code",
    "id": "KA5hdpgsGqFr"
   },
   "outputs": [],
   "source": [
    "tf.random.set_seed(13)"
   ]
  },
  {
   "cell_type": "code",
   "execution_count": 132,
   "metadata": {
    "colab": {},
    "colab_type": "code",
    "id": "fKeDFSM4JpUF"
   },
   "outputs": [],
   "source": [
    "def create_time_steps(length): # 이전 len 5 4 3 2 1 이렇게 스텝 생성하는 function\n",
    "    return list(range(-length, 0))"
   ]
  },
  {
   "cell_type": "code",
   "execution_count": 133,
   "metadata": {},
   "outputs": [],
   "source": [
    "def show_plot(plot_data, delta, title):\n",
    "    labels = ['History', 'True Future', 'Model Prediction']\n",
    "    marker = ['.-', 'rx', 'go']\n",
    "\n",
    "    time_steps = create_time_steps(plot_data[0].shape[0]) # 들어가는 plot_data 는 x_train_uni , 20개 하고 label y_train_uni 하나니까 그래프가 저렇게 \n",
    "\n",
    "    if delta: # delta는 y_train \n",
    "        future = delta # 확인 결과 True난 1이거나 값이 있으면 실행 False, 0 , None인 경우 미 실행 delta가 값이 있으면 그걸로 받는것이다 (1이상))\n",
    "    else :\n",
    "        future = 0\n",
    "\n",
    "\n",
    "\n",
    "    plt.title(title) # 이건 걍 title\n",
    "    for i, x in enumerate(plot_data): # plot data 순회 -> 마지막 깨달음 아 시박 x y가 둘 다 들어갔으니 당연히 0, 1이지 시발\n",
    "\n",
    "        if i: # 0이면 ? plot_data [0] 에 대해서만 이 그림을 그리고 처음에 밑그림을 그릴 필요가 있어서 이렇게 짠거인듯. 0 False None 빼고 다 출력\n",
    "                        \n",
    "            plt.plot(future, plot_data[i], marker[i], markersize = 5, # else를 보고 이걸 보면.. 처음에 전체 데이터를 가지고 그림을 그린 다음 그냥 마지막 것만 실행하며 덧씌우고\n",
    "                     # future를 가지고 True Future 점을 하나 찍는 형태가 된거임. \n",
    "                     label = labels[i]) # label 의 1이 적용이 된건데? marker의 1이 적용이 되고, plot\n",
    "            \n",
    "        else: # 0 False None 인경우 인듯. 0인 경우 그림을 그림 time_steps plot_data[i] (x_train_uni0길이만큼 정수 : 0 ~ 20) flatten을 하는 이유는 그냥 한줄로 넣으려고. np는그게도나봄. \n",
    "            plt.plot(time_steps, plot_data[i].flatten(), marker[i], label = labels[i]) # label도 label의 0~ 20번째 근데 라벨값은 하나아냐?  아 0이니까. \n",
    "    # 점을 찍었다면 x축은 어디가 되는건가? 아 알겠군 -> time step이 필요했던건 real값과 prediction값을 다른 선상에 두기 위해서였다. \n",
    "    plt.legend()\n",
    "    plt.xlim([time_steps[0], (future+5)*2])\n",
    "    plt.xlabel('Time-Step')\n",
    "\n",
    "    return plt"
   ]
  },
  {
   "cell_type": "code",
   "execution_count": 134,
   "metadata": {
    "colab": {},
    "colab_type": "code",
    "id": "tfVGz8_uPCEX"
   },
   "outputs": [],
   "source": [
    "features_considered = ['SKhynix_change', 'Philadelphia_change', 'Micron_change', 'MediaTek_change', 'USDollarIndex_close', 'FRNTTNETIndex', 'Intel_product', 'USD_KRW_change', 'CPUPXCHGIndex', 'KOBONTLIndex', 'RSTAMOMIndex', 'KOEXPTIYIndex', 'KOCPIMOMIndex', 'Dell_close', 'Dell_volume', 'GPGSTOC%Index', 'SKLIOTARIndex', 'Nvidia_volume', 'SKCIMOMIndex', 'KOCGCGYIndex', 'KOECPRCYIndex', 'LEIBPIndex', 'AMD_change', 'JOLTSEPSIndex', 'HPE_close', 'Sumco_change', 'KOGFBALIndex', 'CNFREXPYIndex', 'TokyoElectron_close', 'EUR_KRW_close', 'KOBPFINIndex', 'Amazon_change', 'UMC_product', 'KOECGVTYIndex', 'KOBPCAIndex', 'KOECIMPYIndex', 'NAPMNMIIndex', 'USWHTOTIndex', 'Amazon_volume', 'KOECFCSYIndex', 'Google_product', 'KOFDITYIndex', 'KOQEEYOYIndex', 'TokyoElectron_volume', 'CNGDPYOYIndex', 'MBRXYOYWIndex', 'ShinEtsuChemical_volume', 'USTBEXPYIndex', 'AppliedMaterials_product', 'QCOM_product', 'SKhynix_product', 'UMC_volume', 'APPLE_product', 'KOECSIMQIndex', 'SKLICPYIndex', 'SKLICONEIndex', 'LEIMNOIndex', 'SAARDTOTIndex', 'KOBPCBIndex', 'USHEYOYIndex', 'USEMNCHGIndex', 'MGT2MAIndex', 'KOPPIMOMIndex', 'KOIVCONYIndex', 'Intel_volume', 'g16', 'AMD_product', 'KOEXTOTIndex', 'KOFETOTIndex', 'SKLINBARIndex', 'ssd_price', 'SKLILAPIndex', 'KOCPIIndex', 'TSMC_product', 'KOPPIYOYIndex', 'Philadelphia_volume', 'APPLE_volume', 'RSTAYOYIndex', 'Micron_product', 'Micron_volume', 'PITLCHNGIndex', 'SAARTOTLIndex', 'EUR_KRW_volume', 'JPY_KRW_volume', 'USDollarIndex_volume', 'USD_KRW_volume', 'TokyoElectron_change', 'Intel_change', 'KOWDRIndex', 'Nvidia_product', 'ShinEtsuChemical_close', 'memory_price', 'NFPTCHIndex', 'NFPPCHIndex', 'KOGDPYOYIndex', 'KOEAEPRIndex', 'USGG3MIndex', 'SKLILAIIndex']"
   ]
  },
  {
   "cell_type": "code",
   "execution_count": 135,
   "metadata": {},
   "outputs": [],
   "source": [
    "target_considered = ['KRXsemiconductor_change']"
   ]
  },
  {
   "cell_type": "code",
   "execution_count": 136,
   "metadata": {},
   "outputs": [],
   "source": [
    "targets = df[target_considered]"
   ]
  },
  {
   "cell_type": "code",
   "execution_count": 137,
   "metadata": {
    "colab": {},
    "colab_type": "code",
    "id": "p7SKhFYrPOCh"
   },
   "outputs": [],
   "source": [
    "features = df[features_considered]"
   ]
  },
  {
   "cell_type": "code",
   "execution_count": 138,
   "metadata": {
    "colab": {},
    "colab_type": "code",
    "id": "BtCzPrLXPQYN"
   },
   "outputs": [],
   "source": [
    "features.index = df['date']\n",
    "targets.index = df['date']"
   ]
  },
  {
   "cell_type": "code",
   "execution_count": 139,
   "metadata": {
    "colab": {
     "base_uri": "https://localhost:8080/",
     "height": 235
    },
    "colab_type": "code",
    "executionInfo": {
     "elapsed": 22478,
     "status": "ok",
     "timestamp": 1581165334473,
     "user": {
      "displayName": "정주영",
      "photoUrl": "",
      "userId": "09017190432009937170"
     },
     "user_tz": -540
    },
    "id": "oad6IsWyQAlm",
    "outputId": "4a7b752c-9227-4c43-c75b-7f3ae60e25c2"
   },
   "outputs": [
    {
     "data": {
      "text/html": [
       "<div>\n",
       "<style scoped>\n",
       "    .dataframe tbody tr th:only-of-type {\n",
       "        vertical-align: middle;\n",
       "    }\n",
       "\n",
       "    .dataframe tbody tr th {\n",
       "        vertical-align: top;\n",
       "    }\n",
       "\n",
       "    .dataframe thead th {\n",
       "        text-align: right;\n",
       "    }\n",
       "</style>\n",
       "<table border=\"1\" class=\"dataframe\">\n",
       "  <thead>\n",
       "    <tr style=\"text-align: right;\">\n",
       "      <th></th>\n",
       "      <th>SKhynix_change</th>\n",
       "      <th>Philadelphia_change</th>\n",
       "      <th>Micron_change</th>\n",
       "      <th>MediaTek_change</th>\n",
       "      <th>USDollarIndex_close</th>\n",
       "      <th>FRNTTNETIndex</th>\n",
       "      <th>Intel_product</th>\n",
       "      <th>USD_KRW_change</th>\n",
       "      <th>CPUPXCHGIndex</th>\n",
       "      <th>KOBONTLIndex</th>\n",
       "      <th>...</th>\n",
       "      <th>KOWDRIndex</th>\n",
       "      <th>Nvidia_product</th>\n",
       "      <th>ShinEtsuChemical_close</th>\n",
       "      <th>memory_price</th>\n",
       "      <th>NFPTCHIndex</th>\n",
       "      <th>NFPPCHIndex</th>\n",
       "      <th>KOGDPYOYIndex</th>\n",
       "      <th>KOEAEPRIndex</th>\n",
       "      <th>USGG3MIndex</th>\n",
       "      <th>SKLILAIIndex</th>\n",
       "    </tr>\n",
       "    <tr>\n",
       "      <th>date</th>\n",
       "      <th></th>\n",
       "      <th></th>\n",
       "      <th></th>\n",
       "      <th></th>\n",
       "      <th></th>\n",
       "      <th></th>\n",
       "      <th></th>\n",
       "      <th></th>\n",
       "      <th></th>\n",
       "      <th></th>\n",
       "      <th></th>\n",
       "      <th></th>\n",
       "      <th></th>\n",
       "      <th></th>\n",
       "      <th></th>\n",
       "      <th></th>\n",
       "      <th></th>\n",
       "      <th></th>\n",
       "      <th></th>\n",
       "      <th></th>\n",
       "      <th></th>\n",
       "    </tr>\n",
       "  </thead>\n",
       "  <tbody>\n",
       "    <tr>\n",
       "      <th>2006-01-02</th>\n",
       "      <td>6.52</td>\n",
       "      <td>2.845</td>\n",
       "      <td>1.50</td>\n",
       "      <td>5.21</td>\n",
       "      <td>89.84</td>\n",
       "      <td>232.248</td>\n",
       "      <td>1.000000</td>\n",
       "      <td>0.53</td>\n",
       "      <td>0.2</td>\n",
       "      <td>11299.0</td>\n",
       "      <td>...</td>\n",
       "      <td>20.5</td>\n",
       "      <td>1.000000</td>\n",
       "      <td>10.19</td>\n",
       "      <td>0.112212</td>\n",
       "      <td>278.0</td>\n",
       "      <td>310.0</td>\n",
       "      <td>6.4</td>\n",
       "      <td>58.5</td>\n",
       "      <td>4.0736</td>\n",
       "      <td>2640.2</td>\n",
       "    </tr>\n",
       "    <tr>\n",
       "      <th>2006-01-03</th>\n",
       "      <td>1.33</td>\n",
       "      <td>2.845</td>\n",
       "      <td>1.50</td>\n",
       "      <td>5.21</td>\n",
       "      <td>89.84</td>\n",
       "      <td>232.248</td>\n",
       "      <td>1.000000</td>\n",
       "      <td>-0.82</td>\n",
       "      <td>0.2</td>\n",
       "      <td>11299.0</td>\n",
       "      <td>...</td>\n",
       "      <td>20.5</td>\n",
       "      <td>1.000000</td>\n",
       "      <td>10.19</td>\n",
       "      <td>0.112212</td>\n",
       "      <td>278.0</td>\n",
       "      <td>310.0</td>\n",
       "      <td>6.4</td>\n",
       "      <td>58.5</td>\n",
       "      <td>4.1144</td>\n",
       "      <td>2640.2</td>\n",
       "    </tr>\n",
       "    <tr>\n",
       "      <th>2006-01-04</th>\n",
       "      <td>-7.35</td>\n",
       "      <td>0.722</td>\n",
       "      <td>4.00</td>\n",
       "      <td>5.21</td>\n",
       "      <td>89.14</td>\n",
       "      <td>232.248</td>\n",
       "      <td>0.829714</td>\n",
       "      <td>-0.61</td>\n",
       "      <td>0.2</td>\n",
       "      <td>11299.0</td>\n",
       "      <td>...</td>\n",
       "      <td>20.5</td>\n",
       "      <td>1.109161</td>\n",
       "      <td>10.19</td>\n",
       "      <td>0.112212</td>\n",
       "      <td>278.0</td>\n",
       "      <td>310.0</td>\n",
       "      <td>6.4</td>\n",
       "      <td>58.5</td>\n",
       "      <td>4.1798</td>\n",
       "      <td>2640.2</td>\n",
       "    </tr>\n",
       "    <tr>\n",
       "      <th>2006-01-05</th>\n",
       "      <td>-1.98</td>\n",
       "      <td>2.386</td>\n",
       "      <td>0.93</td>\n",
       "      <td>5.21</td>\n",
       "      <td>89.33</td>\n",
       "      <td>232.248</td>\n",
       "      <td>1.204864</td>\n",
       "      <td>-0.36</td>\n",
       "      <td>0.2</td>\n",
       "      <td>11299.0</td>\n",
       "      <td>...</td>\n",
       "      <td>20.5</td>\n",
       "      <td>1.294707</td>\n",
       "      <td>10.19</td>\n",
       "      <td>0.112212</td>\n",
       "      <td>278.0</td>\n",
       "      <td>310.0</td>\n",
       "      <td>6.4</td>\n",
       "      <td>58.5</td>\n",
       "      <td>4.1793</td>\n",
       "      <td>2640.2</td>\n",
       "    </tr>\n",
       "    <tr>\n",
       "      <th>2006-01-06</th>\n",
       "      <td>1.30</td>\n",
       "      <td>2.169</td>\n",
       "      <td>2.05</td>\n",
       "      <td>5.21</td>\n",
       "      <td>88.85</td>\n",
       "      <td>232.248</td>\n",
       "      <td>0.833842</td>\n",
       "      <td>-0.55</td>\n",
       "      <td>0.2</td>\n",
       "      <td>11299.0</td>\n",
       "      <td>...</td>\n",
       "      <td>20.5</td>\n",
       "      <td>0.980556</td>\n",
       "      <td>10.19</td>\n",
       "      <td>0.112212</td>\n",
       "      <td>278.0</td>\n",
       "      <td>310.0</td>\n",
       "      <td>6.4</td>\n",
       "      <td>58.5</td>\n",
       "      <td>4.1985</td>\n",
       "      <td>2640.2</td>\n",
       "    </tr>\n",
       "  </tbody>\n",
       "</table>\n",
       "<p>5 rows × 98 columns</p>\n",
       "</div>"
      ],
      "text/plain": [
       "            SKhynix_change  Philadelphia_change  Micron_change  \\\n",
       "date                                                             \n",
       "2006-01-02            6.52                2.845           1.50   \n",
       "2006-01-03            1.33                2.845           1.50   \n",
       "2006-01-04           -7.35                0.722           4.00   \n",
       "2006-01-05           -1.98                2.386           0.93   \n",
       "2006-01-06            1.30                2.169           2.05   \n",
       "\n",
       "            MediaTek_change  USDollarIndex_close  FRNTTNETIndex  \\\n",
       "date                                                              \n",
       "2006-01-02             5.21                89.84        232.248   \n",
       "2006-01-03             5.21                89.84        232.248   \n",
       "2006-01-04             5.21                89.14        232.248   \n",
       "2006-01-05             5.21                89.33        232.248   \n",
       "2006-01-06             5.21                88.85        232.248   \n",
       "\n",
       "            Intel_product  USD_KRW_change  CPUPXCHGIndex  KOBONTLIndex  ...  \\\n",
       "date                                                                    ...   \n",
       "2006-01-02       1.000000            0.53            0.2       11299.0  ...   \n",
       "2006-01-03       1.000000           -0.82            0.2       11299.0  ...   \n",
       "2006-01-04       0.829714           -0.61            0.2       11299.0  ...   \n",
       "2006-01-05       1.204864           -0.36            0.2       11299.0  ...   \n",
       "2006-01-06       0.833842           -0.55            0.2       11299.0  ...   \n",
       "\n",
       "            KOWDRIndex  Nvidia_product  ShinEtsuChemical_close  memory_price  \\\n",
       "date                                                                           \n",
       "2006-01-02        20.5        1.000000                   10.19      0.112212   \n",
       "2006-01-03        20.5        1.000000                   10.19      0.112212   \n",
       "2006-01-04        20.5        1.109161                   10.19      0.112212   \n",
       "2006-01-05        20.5        1.294707                   10.19      0.112212   \n",
       "2006-01-06        20.5        0.980556                   10.19      0.112212   \n",
       "\n",
       "            NFPTCHIndex  NFPPCHIndex  KOGDPYOYIndex  KOEAEPRIndex  \\\n",
       "date                                                                \n",
       "2006-01-02        278.0        310.0            6.4          58.5   \n",
       "2006-01-03        278.0        310.0            6.4          58.5   \n",
       "2006-01-04        278.0        310.0            6.4          58.5   \n",
       "2006-01-05        278.0        310.0            6.4          58.5   \n",
       "2006-01-06        278.0        310.0            6.4          58.5   \n",
       "\n",
       "            USGG3MIndex  SKLILAIIndex  \n",
       "date                                   \n",
       "2006-01-02       4.0736        2640.2  \n",
       "2006-01-03       4.1144        2640.2  \n",
       "2006-01-04       4.1798        2640.2  \n",
       "2006-01-05       4.1793        2640.2  \n",
       "2006-01-06       4.1985        2640.2  \n",
       "\n",
       "[5 rows x 98 columns]"
      ]
     },
     "execution_count": 139,
     "metadata": {},
     "output_type": "execute_result"
    }
   ],
   "source": [
    "features.head()"
   ]
  },
  {
   "cell_type": "code",
   "execution_count": 140,
   "metadata": {},
   "outputs": [
    {
     "data": {
      "text/html": [
       "<div>\n",
       "<style scoped>\n",
       "    .dataframe tbody tr th:only-of-type {\n",
       "        vertical-align: middle;\n",
       "    }\n",
       "\n",
       "    .dataframe tbody tr th {\n",
       "        vertical-align: top;\n",
       "    }\n",
       "\n",
       "    .dataframe thead th {\n",
       "        text-align: right;\n",
       "    }\n",
       "</style>\n",
       "<table border=\"1\" class=\"dataframe\">\n",
       "  <thead>\n",
       "    <tr style=\"text-align: right;\">\n",
       "      <th></th>\n",
       "      <th>KRXsemiconductor_change</th>\n",
       "    </tr>\n",
       "    <tr>\n",
       "      <th>date</th>\n",
       "      <th></th>\n",
       "    </tr>\n",
       "  </thead>\n",
       "  <tbody>\n",
       "    <tr>\n",
       "      <th>2006-01-02</th>\n",
       "      <td>0.33</td>\n",
       "    </tr>\n",
       "    <tr>\n",
       "      <th>2006-01-03</th>\n",
       "      <td>0.33</td>\n",
       "    </tr>\n",
       "    <tr>\n",
       "      <th>2006-01-04</th>\n",
       "      <td>0.33</td>\n",
       "    </tr>\n",
       "    <tr>\n",
       "      <th>2006-01-05</th>\n",
       "      <td>0.33</td>\n",
       "    </tr>\n",
       "    <tr>\n",
       "      <th>2006-01-06</th>\n",
       "      <td>0.33</td>\n",
       "    </tr>\n",
       "  </tbody>\n",
       "</table>\n",
       "</div>"
      ],
      "text/plain": [
       "            KRXsemiconductor_change\n",
       "date                               \n",
       "2006-01-02                     0.33\n",
       "2006-01-03                     0.33\n",
       "2006-01-04                     0.33\n",
       "2006-01-05                     0.33\n",
       "2006-01-06                     0.33"
      ]
     },
     "execution_count": 140,
     "metadata": {},
     "output_type": "execute_result"
    }
   ],
   "source": [
    "targets.head()"
   ]
  },
  {
   "cell_type": "code",
   "execution_count": 141,
   "metadata": {
    "colab": {
     "base_uri": "https://localhost:8080/",
     "height": 479
    },
    "colab_type": "code",
    "executionInfo": {
     "elapsed": 25020,
     "status": "ok",
     "timestamp": 1581165338098,
     "user": {
      "displayName": "정주영",
      "photoUrl": "",
      "userId": "09017190432009937170"
     },
     "user_tz": -540
    },
    "id": "DBFmqfRjQBbb",
    "outputId": "d866ea27-4177-4b3e-f945-96b8a454b505"
   },
   "outputs": [],
   "source": [
    "#features.plot(subplots = True)"
   ]
  },
  {
   "cell_type": "code",
   "execution_count": 142,
   "metadata": {},
   "outputs": [],
   "source": [
    "col_name = features.columns"
   ]
  },
  {
   "cell_type": "code",
   "execution_count": 143,
   "metadata": {},
   "outputs": [],
   "source": [
    "dataset = StandardScaler().fit_transform(features)"
   ]
  },
  {
   "cell_type": "code",
   "execution_count": 144,
   "metadata": {},
   "outputs": [],
   "source": [
    "dataset = pd.DataFrame(dataset, columns = col_name)"
   ]
  },
  {
   "cell_type": "code",
   "execution_count": 145,
   "metadata": {},
   "outputs": [
    {
     "data": {
      "text/html": [
       "<div>\n",
       "<style scoped>\n",
       "    .dataframe tbody tr th:only-of-type {\n",
       "        vertical-align: middle;\n",
       "    }\n",
       "\n",
       "    .dataframe tbody tr th {\n",
       "        vertical-align: top;\n",
       "    }\n",
       "\n",
       "    .dataframe thead th {\n",
       "        text-align: right;\n",
       "    }\n",
       "</style>\n",
       "<table border=\"1\" class=\"dataframe\">\n",
       "  <thead>\n",
       "    <tr style=\"text-align: right;\">\n",
       "      <th></th>\n",
       "      <th>SKhynix_change</th>\n",
       "      <th>Philadelphia_change</th>\n",
       "      <th>Micron_change</th>\n",
       "      <th>MediaTek_change</th>\n",
       "      <th>USDollarIndex_close</th>\n",
       "      <th>FRNTTNETIndex</th>\n",
       "      <th>Intel_product</th>\n",
       "      <th>USD_KRW_change</th>\n",
       "      <th>CPUPXCHGIndex</th>\n",
       "      <th>KOBONTLIndex</th>\n",
       "      <th>...</th>\n",
       "      <th>KOWDRIndex</th>\n",
       "      <th>Nvidia_product</th>\n",
       "      <th>ShinEtsuChemical_close</th>\n",
       "      <th>memory_price</th>\n",
       "      <th>NFPTCHIndex</th>\n",
       "      <th>NFPPCHIndex</th>\n",
       "      <th>KOGDPYOYIndex</th>\n",
       "      <th>KOEAEPRIndex</th>\n",
       "      <th>USGG3MIndex</th>\n",
       "      <th>SKLILAIIndex</th>\n",
       "    </tr>\n",
       "  </thead>\n",
       "  <tbody>\n",
       "    <tr>\n",
       "      <th>0</th>\n",
       "      <td>1.872605</td>\n",
       "      <td>1.352064</td>\n",
       "      <td>0.393993</td>\n",
       "      <td>0.818091</td>\n",
       "      <td>0.451945</td>\n",
       "      <td>2.554807</td>\n",
       "      <td>-0.070772</td>\n",
       "      <td>0.643714</td>\n",
       "      <td>0.561804</td>\n",
       "      <td>-2.370039</td>\n",
       "      <td>...</td>\n",
       "      <td>-0.012545</td>\n",
       "      <td>-0.018857</td>\n",
       "      <td>-1.060391</td>\n",
       "      <td>3.944198</td>\n",
       "      <td>0.768354</td>\n",
       "      <td>0.948862</td>\n",
       "      <td>1.522337</td>\n",
       "      <td>-1.317607</td>\n",
       "      <td>1.793907</td>\n",
       "      <td>-1.481244</td>\n",
       "    </tr>\n",
       "    <tr>\n",
       "      <th>1</th>\n",
       "      <td>0.360736</td>\n",
       "      <td>1.352064</td>\n",
       "      <td>0.393993</td>\n",
       "      <td>0.818091</td>\n",
       "      <td>0.451945</td>\n",
       "      <td>2.554807</td>\n",
       "      <td>-0.070772</td>\n",
       "      <td>-1.001021</td>\n",
       "      <td>0.561804</td>\n",
       "      <td>-2.370039</td>\n",
       "      <td>...</td>\n",
       "      <td>-0.012545</td>\n",
       "      <td>-0.018857</td>\n",
       "      <td>-1.060391</td>\n",
       "      <td>3.944198</td>\n",
       "      <td>0.768354</td>\n",
       "      <td>0.948862</td>\n",
       "      <td>1.522337</td>\n",
       "      <td>-1.317607</td>\n",
       "      <td>1.819072</td>\n",
       "      <td>-1.481244</td>\n",
       "    </tr>\n",
       "    <tr>\n",
       "      <th>2</th>\n",
       "      <td>-2.167786</td>\n",
       "      <td>0.344170</td>\n",
       "      <td>1.021054</td>\n",
       "      <td>0.818091</td>\n",
       "      <td>0.366335</td>\n",
       "      <td>2.554807</td>\n",
       "      <td>-0.263632</td>\n",
       "      <td>-0.745173</td>\n",
       "      <td>0.561804</td>\n",
       "      <td>-2.370039</td>\n",
       "      <td>...</td>\n",
       "      <td>-0.012545</td>\n",
       "      <td>0.056204</td>\n",
       "      <td>-1.060391</td>\n",
       "      <td>3.944198</td>\n",
       "      <td>0.768354</td>\n",
       "      <td>0.948862</td>\n",
       "      <td>1.522337</td>\n",
       "      <td>-1.317607</td>\n",
       "      <td>1.859409</td>\n",
       "      <td>-1.481244</td>\n",
       "    </tr>\n",
       "    <tr>\n",
       "      <th>3</th>\n",
       "      <td>-0.603481</td>\n",
       "      <td>1.134154</td>\n",
       "      <td>0.251023</td>\n",
       "      <td>0.818091</td>\n",
       "      <td>0.389572</td>\n",
       "      <td>2.554807</td>\n",
       "      <td>0.161250</td>\n",
       "      <td>-0.440593</td>\n",
       "      <td>0.561804</td>\n",
       "      <td>-2.370039</td>\n",
       "      <td>...</td>\n",
       "      <td>-0.012545</td>\n",
       "      <td>0.183789</td>\n",
       "      <td>-1.060391</td>\n",
       "      <td>3.944198</td>\n",
       "      <td>0.768354</td>\n",
       "      <td>0.948862</td>\n",
       "      <td>1.522337</td>\n",
       "      <td>-1.317607</td>\n",
       "      <td>1.859101</td>\n",
       "      <td>-1.481244</td>\n",
       "    </tr>\n",
       "    <tr>\n",
       "      <th>4</th>\n",
       "      <td>0.351997</td>\n",
       "      <td>1.031133</td>\n",
       "      <td>0.531947</td>\n",
       "      <td>0.818091</td>\n",
       "      <td>0.330868</td>\n",
       "      <td>2.554807</td>\n",
       "      <td>-0.258957</td>\n",
       "      <td>-0.672074</td>\n",
       "      <td>0.561804</td>\n",
       "      <td>-2.370039</td>\n",
       "      <td>...</td>\n",
       "      <td>-0.012545</td>\n",
       "      <td>-0.032227</td>\n",
       "      <td>-1.060391</td>\n",
       "      <td>3.944198</td>\n",
       "      <td>0.768354</td>\n",
       "      <td>0.948862</td>\n",
       "      <td>1.522337</td>\n",
       "      <td>-1.317607</td>\n",
       "      <td>1.870943</td>\n",
       "      <td>-1.481244</td>\n",
       "    </tr>\n",
       "  </tbody>\n",
       "</table>\n",
       "<p>5 rows × 98 columns</p>\n",
       "</div>"
      ],
      "text/plain": [
       "   SKhynix_change  Philadelphia_change  Micron_change  MediaTek_change  \\\n",
       "0        1.872605             1.352064       0.393993         0.818091   \n",
       "1        0.360736             1.352064       0.393993         0.818091   \n",
       "2       -2.167786             0.344170       1.021054         0.818091   \n",
       "3       -0.603481             1.134154       0.251023         0.818091   \n",
       "4        0.351997             1.031133       0.531947         0.818091   \n",
       "\n",
       "   USDollarIndex_close  FRNTTNETIndex  Intel_product  USD_KRW_change  \\\n",
       "0             0.451945       2.554807      -0.070772        0.643714   \n",
       "1             0.451945       2.554807      -0.070772       -1.001021   \n",
       "2             0.366335       2.554807      -0.263632       -0.745173   \n",
       "3             0.389572       2.554807       0.161250       -0.440593   \n",
       "4             0.330868       2.554807      -0.258957       -0.672074   \n",
       "\n",
       "   CPUPXCHGIndex  KOBONTLIndex  ...  KOWDRIndex  Nvidia_product  \\\n",
       "0       0.561804     -2.370039  ...   -0.012545       -0.018857   \n",
       "1       0.561804     -2.370039  ...   -0.012545       -0.018857   \n",
       "2       0.561804     -2.370039  ...   -0.012545        0.056204   \n",
       "3       0.561804     -2.370039  ...   -0.012545        0.183789   \n",
       "4       0.561804     -2.370039  ...   -0.012545       -0.032227   \n",
       "\n",
       "   ShinEtsuChemical_close  memory_price  NFPTCHIndex  NFPPCHIndex  \\\n",
       "0               -1.060391      3.944198     0.768354     0.948862   \n",
       "1               -1.060391      3.944198     0.768354     0.948862   \n",
       "2               -1.060391      3.944198     0.768354     0.948862   \n",
       "3               -1.060391      3.944198     0.768354     0.948862   \n",
       "4               -1.060391      3.944198     0.768354     0.948862   \n",
       "\n",
       "   KOGDPYOYIndex  KOEAEPRIndex  USGG3MIndex  SKLILAIIndex  \n",
       "0       1.522337     -1.317607     1.793907     -1.481244  \n",
       "1       1.522337     -1.317607     1.819072     -1.481244  \n",
       "2       1.522337     -1.317607     1.859409     -1.481244  \n",
       "3       1.522337     -1.317607     1.859101     -1.481244  \n",
       "4       1.522337     -1.317607     1.870943     -1.481244  \n",
       "\n",
       "[5 rows x 98 columns]"
      ]
     },
     "execution_count": 145,
     "metadata": {},
     "output_type": "execute_result"
    }
   ],
   "source": [
    "dataset.head()"
   ]
  },
  {
   "cell_type": "code",
   "execution_count": 146,
   "metadata": {},
   "outputs": [],
   "source": [
    "dataset = dataset.values"
   ]
  },
  {
   "cell_type": "code",
   "execution_count": 147,
   "metadata": {},
   "outputs": [],
   "source": [
    "targets = targets.values"
   ]
  },
  {
   "cell_type": "code",
   "execution_count": 148,
   "metadata": {
    "colab": {},
    "colab_type": "code",
    "id": "CO46fXN7T7bG"
   },
   "outputs": [],
   "source": [
    "def multivariate_data(dataset, target, start_index, end_index, history_size, \n",
    "                      target_size, step, single_step = False):\n",
    "    \n",
    "    data = []\n",
    "    labels = []\n",
    "\n",
    "    start_index = start_index + history_size\n",
    "\n",
    "    if end_index is None:\n",
    "        end_index = len(dataset) - target_size\n",
    "\n",
    "    \n",
    "    for i in range(start_index, end_index):\n",
    "        indices = range(i-history_size, i, step)\n",
    "        data.append(dataset[indices])\n",
    "\n",
    "        if single_step:\n",
    "            labels.append(target[i + target_size])\n",
    "        \n",
    "        else:\n",
    "            labels.append(target[i: i + target_size])\n",
    "\n",
    "        return np.array(data), np.array(labels)\n"
   ]
  },
  {
   "cell_type": "code",
   "execution_count": 162,
   "metadata": {
    "colab": {},
    "colab_type": "code",
    "id": "X09-9ZJ4VlKR"
   },
   "outputs": [],
   "source": [
    "past_history = 720\n",
    "future_target = 72\n",
    "BATCH_SIZE = 256\n",
    "BUFFER_SIZE = 10000\n",
    "\n",
    "STEP = 6\n",
    "\n",
    "x_train_single, y_train_single = multivariate_data(dataset, targets, 0, \n",
    "                                                   TRAIN_SPLIT, past_history,\n",
    "                                                   future_target, STEP,\n",
    "                                                   single_step = True)"
   ]
  },
  {
   "cell_type": "code",
   "execution_count": 163,
   "metadata": {
    "colab": {},
    "colab_type": "code",
    "id": "obSBzWrhX39T"
   },
   "outputs": [],
   "source": [
    "x_val_single, y_val_single = multivariate_data(dataset, targets,\n",
    "                                               TRAIN_SPLIT, None, past_history,\n",
    "                                               future_target, STEP,\n",
    "                                               single_step = True)"
   ]
  },
  {
   "cell_type": "code",
   "execution_count": 164,
   "metadata": {
    "colab": {
     "base_uri": "https://localhost:8080/",
     "height": 35
    },
    "colab_type": "code",
    "executionInfo": {
     "elapsed": 1312,
     "status": "ok",
     "timestamp": 1581165339426,
     "user": {
      "displayName": "정주영",
      "photoUrl": "",
      "userId": "09017190432009937170"
     },
     "user_tz": -540
    },
    "id": "xuvkjGvEYFDA",
    "outputId": "159ca45d-03f0-4789-8b5e-49ed4c5e5f7c"
   },
   "outputs": [
    {
     "name": "stdout",
     "output_type": "stream",
     "text": [
      "Single window of past history : (120, 98)\n"
     ]
    }
   ],
   "source": [
    "print('Single window of past history : {}'.format(x_train_single[0].shape))"
   ]
  },
  {
   "cell_type": "code",
   "execution_count": 182,
   "metadata": {
    "colab": {},
    "colab_type": "code",
    "id": "LXA_eVoVYPob"
   },
   "outputs": [],
   "source": [
    "train_data_single = tf.data.Dataset.from_tensor_slices((x_train_single, y_train_single))\n",
    "train_data_single = train_data_single.cache().shuffle(BUFFER_SIZE).batch(BATCH_SIZE).repeat()"
   ]
  },
  {
   "cell_type": "code",
   "execution_count": 183,
   "metadata": {
    "colab": {},
    "colab_type": "code",
    "id": "T5CngXsxYTs5"
   },
   "outputs": [],
   "source": [
    "val_data_single = tf.data.Dataset.from_tensor_slices((x_val_single, y_val_single))\n",
    "val_data_single = val_data_single.batch(BATCH_SIZE).repeat()"
   ]
  },
  {
   "cell_type": "code",
   "execution_count": 202,
   "metadata": {
    "colab": {},
    "colab_type": "code",
    "id": "Wu0c-DGmYoFD"
   },
   "outputs": [],
   "source": [
    "# early stopping을 넣어보자\n",
    "earlystop_callback = tf.keras.callbacks.EarlyStopping(monitor = 'val_loss', min_delta = 0.001, patience = 5)"
   ]
  },
  {
   "cell_type": "code",
   "execution_count": 272,
   "metadata": {
    "colab": {},
    "colab_type": "code",
    "id": "P7yh0kq-YyLG"
   },
   "outputs": [],
   "source": [
    "single_step_model = tf.keras.models.Sequential()\n",
    "single_step_model.add(tf.keras.layers.LSTM(32,\n",
    "                                           input_shape = x_train_single.shape[-2:], return_sequences = True, activation = 'sigmoid'))\n",
    "single_step_model.add(tf.compat.v2.keras.layers.Dropout(0.2))\n",
    "single_step_model.add(tf.keras.layers.LSTM(32, return_sequences = True, activation = 'sigmoid'))\n",
    "single_step_model.add(tf.compat.v2.keras.layers.Dropout(0.2))\n",
    "single_step_model.add(tf.keras.layers.LSTM(16, activation = 'sigmoid'))\n",
    "single_step_model.add(tf.keras.layers.Dense(1))"
   ]
  },
  {
   "cell_type": "code",
   "execution_count": 273,
   "metadata": {
    "colab": {},
    "colab_type": "code",
    "id": "rNm3MEdVZARy"
   },
   "outputs": [],
   "source": [
    "single_step_model.compile(optimizer = tf.keras.optimizers.Adam(),\n",
    "                          loss = 'mse')"
   ]
  },
  {
   "cell_type": "code",
   "execution_count": 274,
   "metadata": {},
   "outputs": [
    {
     "name": "stdout",
     "output_type": "stream",
     "text": [
      "Model: \"sequential_35\"\n",
      "_________________________________________________________________\n",
      "Layer (type)                 Output Shape              Param #   \n",
      "=================================================================\n",
      "lstm_53 (LSTM)               (None, 120, 32)           16768     \n",
      "_________________________________________________________________\n",
      "dropout_1 (Dropout)          (None, 120, 32)           0         \n",
      "_________________________________________________________________\n",
      "lstm_54 (LSTM)               (None, 120, 32)           8320      \n",
      "_________________________________________________________________\n",
      "dropout_2 (Dropout)          (None, 120, 32)           0         \n",
      "_________________________________________________________________\n",
      "lstm_55 (LSTM)               (None, 16)                3136      \n",
      "_________________________________________________________________\n",
      "dense_22 (Dense)             (None, 1)                 17        \n",
      "=================================================================\n",
      "Total params: 28,241\n",
      "Trainable params: 28,241\n",
      "Non-trainable params: 0\n",
      "_________________________________________________________________\n"
     ]
    }
   ],
   "source": [
    "single_step_model.summary()"
   ]
  },
  {
   "cell_type": "code",
   "execution_count": 275,
   "metadata": {
    "colab": {
     "base_uri": "https://localhost:8080/",
     "height": 35
    },
    "colab_type": "code",
    "executionInfo": {
     "elapsed": 1848,
     "status": "ok",
     "timestamp": 1581165339979,
     "user": {
      "displayName": "정주영",
      "photoUrl": "",
      "userId": "09017190432009937170"
     },
     "user_tz": -540
    },
    "id": "Rs7wHydYZI6m",
    "outputId": "735c30bd-9f48-4999-ea5b-e3b6d1d20afd"
   },
   "outputs": [
    {
     "name": "stdout",
     "output_type": "stream",
     "text": [
      "(1, 1)\n"
     ]
    }
   ],
   "source": [
    "for x, y in val_data_single.take(1):\n",
    "    print(single_step_model.predict(x).shape)"
   ]
  },
  {
   "cell_type": "code",
   "execution_count": 276,
   "metadata": {},
   "outputs": [],
   "source": [
    "EVALUATION_INTERVAL = 200\n",
    "EPOCHS = 30"
   ]
  },
  {
   "cell_type": "code",
   "execution_count": 277,
   "metadata": {
    "colab": {
     "base_uri": "https://localhost:8080/",
     "height": 395
    },
    "colab_type": "code",
    "executionInfo": {
     "elapsed": 83949,
     "status": "ok",
     "timestamp": 1581165422086,
     "user": {
      "displayName": "정주영",
      "photoUrl": "",
      "userId": "09017190432009937170"
     },
     "user_tz": -540
    },
    "id": "s3_iuPBqZRq-",
    "outputId": "dac77715-54f8-4597-d73a-79ec1a9dc8fd"
   },
   "outputs": [
    {
     "name": "stdout",
     "output_type": "stream",
     "text": [
      "Train for 200 steps, validate for 50 steps\n",
      "Epoch 1/30\n",
      "200/200 [==============================] - 23s 117ms/step - loss: 0.1096 - val_loss: 0.5105\n",
      "Epoch 2/30\n",
      "200/200 [==============================] - 21s 103ms/step - loss: 0.0043 - val_loss: 0.4523\n",
      "Epoch 3/30\n",
      "200/200 [==============================] - 21s 104ms/step - loss: 0.0036 - val_loss: 0.4268\n",
      "Epoch 4/30\n",
      "200/200 [==============================] - 21s 103ms/step - loss: 0.0022 - val_loss: 0.4170\n",
      "Epoch 5/30\n",
      "200/200 [==============================] - 21s 106ms/step - loss: 0.0020 - val_loss: 0.3982\n",
      "Epoch 6/30\n",
      "200/200 [==============================] - 22s 108ms/step - loss: 0.0011 - val_loss: 0.3784\n",
      "Epoch 7/30\n",
      "200/200 [==============================] - 22s 108ms/step - loss: 8.8141e-04 - val_loss: 0.3806\n",
      "Epoch 8/30\n",
      "200/200 [==============================] - 22s 108ms/step - loss: 4.0311e-04 - val_loss: 0.3684\n",
      "Epoch 9/30\n",
      "200/200 [==============================] - 22s 111ms/step - loss: 2.8100e-04 - val_loss: 0.3599\n",
      "Epoch 10/30\n",
      "200/200 [==============================] - 21s 106ms/step - loss: 2.5922e-04 - val_loss: 0.3584\n",
      "Epoch 11/30\n",
      "200/200 [==============================] - 21s 106ms/step - loss: 2.0469e-04 - val_loss: 0.3567\n",
      "Epoch 12/30\n",
      "200/200 [==============================] - 22s 108ms/step - loss: 1.5868e-04 - val_loss: 0.3551\n",
      "Epoch 13/30\n",
      "200/200 [==============================] - 21s 107ms/step - loss: 1.8353e-04 - val_loss: 0.3423\n",
      "Epoch 14/30\n",
      "200/200 [==============================] - 22s 109ms/step - loss: 1.4842e-04 - val_loss: 0.3455\n",
      "Epoch 15/30\n",
      "200/200 [==============================] - 22s 109ms/step - loss: 1.2004e-04 - val_loss: 0.3590\n",
      "Epoch 16/30\n",
      " 66/200 [========>.....................] - ETA: 13s - loss: 9.4329e-05WARNING:tensorflow:Early stopping conditioned on metric `val_loss` which is not available. Available metrics are: loss\n"
     ]
    },
    {
     "ename": "KeyboardInterrupt",
     "evalue": "",
     "output_type": "error",
     "traceback": [
      "\u001b[0;31m---------------------------------------------------------------------------\u001b[0m",
      "\u001b[0;31mKeyboardInterrupt\u001b[0m                         Traceback (most recent call last)",
      "\u001b[0;32m<ipython-input-277-3266f2992d24>\u001b[0m in \u001b[0;36m<module>\u001b[0;34m\u001b[0m\n\u001b[1;32m      2\u001b[0m                                             \u001b[0msteps_per_epoch\u001b[0m \u001b[0;34m=\u001b[0m \u001b[0mEVALUATION_INTERVAL\u001b[0m\u001b[0;34m,\u001b[0m\u001b[0;34m\u001b[0m\u001b[0;34m\u001b[0m\u001b[0m\n\u001b[1;32m      3\u001b[0m                                             \u001b[0mvalidation_data\u001b[0m \u001b[0;34m=\u001b[0m \u001b[0mval_data_single\u001b[0m\u001b[0;34m,\u001b[0m\u001b[0;34m\u001b[0m\u001b[0;34m\u001b[0m\u001b[0m\n\u001b[0;32m----> 4\u001b[0;31m                                             validation_steps = 50)\n\u001b[0m",
      "\u001b[0;32m~/opt/anaconda3/envs/tf2-py37/lib/python3.7/site-packages/tensorflow_core/python/keras/engine/training.py\u001b[0m in \u001b[0;36mfit\u001b[0;34m(self, x, y, batch_size, epochs, verbose, callbacks, validation_split, validation_data, shuffle, class_weight, sample_weight, initial_epoch, steps_per_epoch, validation_steps, validation_freq, max_queue_size, workers, use_multiprocessing, **kwargs)\u001b[0m\n\u001b[1;32m    817\u001b[0m         \u001b[0mmax_queue_size\u001b[0m\u001b[0;34m=\u001b[0m\u001b[0mmax_queue_size\u001b[0m\u001b[0;34m,\u001b[0m\u001b[0;34m\u001b[0m\u001b[0;34m\u001b[0m\u001b[0m\n\u001b[1;32m    818\u001b[0m         \u001b[0mworkers\u001b[0m\u001b[0;34m=\u001b[0m\u001b[0mworkers\u001b[0m\u001b[0;34m,\u001b[0m\u001b[0;34m\u001b[0m\u001b[0;34m\u001b[0m\u001b[0m\n\u001b[0;32m--> 819\u001b[0;31m         use_multiprocessing=use_multiprocessing)\n\u001b[0m\u001b[1;32m    820\u001b[0m \u001b[0;34m\u001b[0m\u001b[0m\n\u001b[1;32m    821\u001b[0m   def evaluate(self,\n",
      "\u001b[0;32m~/opt/anaconda3/envs/tf2-py37/lib/python3.7/site-packages/tensorflow_core/python/keras/engine/training_v2.py\u001b[0m in \u001b[0;36mfit\u001b[0;34m(self, model, x, y, batch_size, epochs, verbose, callbacks, validation_split, validation_data, shuffle, class_weight, sample_weight, initial_epoch, steps_per_epoch, validation_steps, validation_freq, max_queue_size, workers, use_multiprocessing, **kwargs)\u001b[0m\n\u001b[1;32m    340\u001b[0m                 \u001b[0mmode\u001b[0m\u001b[0;34m=\u001b[0m\u001b[0mModeKeys\u001b[0m\u001b[0;34m.\u001b[0m\u001b[0mTRAIN\u001b[0m\u001b[0;34m,\u001b[0m\u001b[0;34m\u001b[0m\u001b[0;34m\u001b[0m\u001b[0m\n\u001b[1;32m    341\u001b[0m                 \u001b[0mtraining_context\u001b[0m\u001b[0;34m=\u001b[0m\u001b[0mtraining_context\u001b[0m\u001b[0;34m,\u001b[0m\u001b[0;34m\u001b[0m\u001b[0;34m\u001b[0m\u001b[0m\n\u001b[0;32m--> 342\u001b[0;31m                 total_epochs=epochs)\n\u001b[0m\u001b[1;32m    343\u001b[0m             \u001b[0mcbks\u001b[0m\u001b[0;34m.\u001b[0m\u001b[0mmake_logs\u001b[0m\u001b[0;34m(\u001b[0m\u001b[0mmodel\u001b[0m\u001b[0;34m,\u001b[0m \u001b[0mepoch_logs\u001b[0m\u001b[0;34m,\u001b[0m \u001b[0mtraining_result\u001b[0m\u001b[0;34m,\u001b[0m \u001b[0mModeKeys\u001b[0m\u001b[0;34m.\u001b[0m\u001b[0mTRAIN\u001b[0m\u001b[0;34m)\u001b[0m\u001b[0;34m\u001b[0m\u001b[0;34m\u001b[0m\u001b[0m\n\u001b[1;32m    344\u001b[0m \u001b[0;34m\u001b[0m\u001b[0m\n",
      "\u001b[0;32m~/opt/anaconda3/envs/tf2-py37/lib/python3.7/site-packages/tensorflow_core/python/keras/engine/training_v2.py\u001b[0m in \u001b[0;36mrun_one_epoch\u001b[0;34m(model, iterator, execution_function, dataset_size, batch_size, strategy, steps_per_epoch, num_samples, mode, training_context, total_epochs)\u001b[0m\n\u001b[1;32m    126\u001b[0m         step=step, mode=mode, size=current_batch_size) as batch_logs:\n\u001b[1;32m    127\u001b[0m       \u001b[0;32mtry\u001b[0m\u001b[0;34m:\u001b[0m\u001b[0;34m\u001b[0m\u001b[0;34m\u001b[0m\u001b[0m\n\u001b[0;32m--> 128\u001b[0;31m         \u001b[0mbatch_outs\u001b[0m \u001b[0;34m=\u001b[0m \u001b[0mexecution_function\u001b[0m\u001b[0;34m(\u001b[0m\u001b[0miterator\u001b[0m\u001b[0;34m)\u001b[0m\u001b[0;34m\u001b[0m\u001b[0;34m\u001b[0m\u001b[0m\n\u001b[0m\u001b[1;32m    129\u001b[0m       \u001b[0;32mexcept\u001b[0m \u001b[0;34m(\u001b[0m\u001b[0mStopIteration\u001b[0m\u001b[0;34m,\u001b[0m \u001b[0merrors\u001b[0m\u001b[0;34m.\u001b[0m\u001b[0mOutOfRangeError\u001b[0m\u001b[0;34m)\u001b[0m\u001b[0;34m:\u001b[0m\u001b[0;34m\u001b[0m\u001b[0;34m\u001b[0m\u001b[0m\n\u001b[1;32m    130\u001b[0m         \u001b[0;31m# TODO(kaftan): File bug about tf function and errors.OutOfRangeError?\u001b[0m\u001b[0;34m\u001b[0m\u001b[0;34m\u001b[0m\u001b[0;34m\u001b[0m\u001b[0m\n",
      "\u001b[0;32m~/opt/anaconda3/envs/tf2-py37/lib/python3.7/site-packages/tensorflow_core/python/keras/engine/training_v2_utils.py\u001b[0m in \u001b[0;36mexecution_function\u001b[0;34m(input_fn)\u001b[0m\n\u001b[1;32m     96\u001b[0m     \u001b[0;31m# `numpy` translates Tensors to values in Eager mode.\u001b[0m\u001b[0;34m\u001b[0m\u001b[0;34m\u001b[0m\u001b[0;34m\u001b[0m\u001b[0m\n\u001b[1;32m     97\u001b[0m     return nest.map_structure(_non_none_constant_value,\n\u001b[0;32m---> 98\u001b[0;31m                               distributed_function(input_fn))\n\u001b[0m\u001b[1;32m     99\u001b[0m \u001b[0;34m\u001b[0m\u001b[0m\n\u001b[1;32m    100\u001b[0m   \u001b[0;32mreturn\u001b[0m \u001b[0mexecution_function\u001b[0m\u001b[0;34m\u001b[0m\u001b[0;34m\u001b[0m\u001b[0m\n",
      "\u001b[0;32m~/opt/anaconda3/envs/tf2-py37/lib/python3.7/site-packages/tensorflow_core/python/eager/def_function.py\u001b[0m in \u001b[0;36m__call__\u001b[0;34m(self, *args, **kwds)\u001b[0m\n\u001b[1;32m    566\u001b[0m         \u001b[0mxla_context\u001b[0m\u001b[0;34m.\u001b[0m\u001b[0mExit\u001b[0m\u001b[0;34m(\u001b[0m\u001b[0;34m)\u001b[0m\u001b[0;34m\u001b[0m\u001b[0;34m\u001b[0m\u001b[0m\n\u001b[1;32m    567\u001b[0m     \u001b[0;32melse\u001b[0m\u001b[0;34m:\u001b[0m\u001b[0;34m\u001b[0m\u001b[0;34m\u001b[0m\u001b[0m\n\u001b[0;32m--> 568\u001b[0;31m       \u001b[0mresult\u001b[0m \u001b[0;34m=\u001b[0m \u001b[0mself\u001b[0m\u001b[0;34m.\u001b[0m\u001b[0m_call\u001b[0m\u001b[0;34m(\u001b[0m\u001b[0;34m*\u001b[0m\u001b[0margs\u001b[0m\u001b[0;34m,\u001b[0m \u001b[0;34m**\u001b[0m\u001b[0mkwds\u001b[0m\u001b[0;34m)\u001b[0m\u001b[0;34m\u001b[0m\u001b[0;34m\u001b[0m\u001b[0m\n\u001b[0m\u001b[1;32m    569\u001b[0m \u001b[0;34m\u001b[0m\u001b[0m\n\u001b[1;32m    570\u001b[0m     \u001b[0;32mif\u001b[0m \u001b[0mtracing_count\u001b[0m \u001b[0;34m==\u001b[0m \u001b[0mself\u001b[0m\u001b[0;34m.\u001b[0m\u001b[0m_get_tracing_count\u001b[0m\u001b[0;34m(\u001b[0m\u001b[0;34m)\u001b[0m\u001b[0;34m:\u001b[0m\u001b[0;34m\u001b[0m\u001b[0;34m\u001b[0m\u001b[0m\n",
      "\u001b[0;32m~/opt/anaconda3/envs/tf2-py37/lib/python3.7/site-packages/tensorflow_core/python/eager/def_function.py\u001b[0m in \u001b[0;36m_call\u001b[0;34m(self, *args, **kwds)\u001b[0m\n\u001b[1;32m    597\u001b[0m       \u001b[0;31m# In this case we have created variables on the first call, so we run the\u001b[0m\u001b[0;34m\u001b[0m\u001b[0;34m\u001b[0m\u001b[0;34m\u001b[0m\u001b[0m\n\u001b[1;32m    598\u001b[0m       \u001b[0;31m# defunned version which is guaranteed to never create variables.\u001b[0m\u001b[0;34m\u001b[0m\u001b[0;34m\u001b[0m\u001b[0;34m\u001b[0m\u001b[0m\n\u001b[0;32m--> 599\u001b[0;31m       \u001b[0;32mreturn\u001b[0m \u001b[0mself\u001b[0m\u001b[0;34m.\u001b[0m\u001b[0m_stateless_fn\u001b[0m\u001b[0;34m(\u001b[0m\u001b[0;34m*\u001b[0m\u001b[0margs\u001b[0m\u001b[0;34m,\u001b[0m \u001b[0;34m**\u001b[0m\u001b[0mkwds\u001b[0m\u001b[0;34m)\u001b[0m  \u001b[0;31m# pylint: disable=not-callable\u001b[0m\u001b[0;34m\u001b[0m\u001b[0;34m\u001b[0m\u001b[0m\n\u001b[0m\u001b[1;32m    600\u001b[0m     \u001b[0;32melif\u001b[0m \u001b[0mself\u001b[0m\u001b[0;34m.\u001b[0m\u001b[0m_stateful_fn\u001b[0m \u001b[0;32mis\u001b[0m \u001b[0;32mnot\u001b[0m \u001b[0;32mNone\u001b[0m\u001b[0;34m:\u001b[0m\u001b[0;34m\u001b[0m\u001b[0;34m\u001b[0m\u001b[0m\n\u001b[1;32m    601\u001b[0m       \u001b[0;31m# Release the lock early so that multiple threads can perform the call\u001b[0m\u001b[0;34m\u001b[0m\u001b[0;34m\u001b[0m\u001b[0;34m\u001b[0m\u001b[0m\n",
      "\u001b[0;32m~/opt/anaconda3/envs/tf2-py37/lib/python3.7/site-packages/tensorflow_core/python/eager/function.py\u001b[0m in \u001b[0;36m__call__\u001b[0;34m(self, *args, **kwargs)\u001b[0m\n\u001b[1;32m   2361\u001b[0m     \u001b[0;32mwith\u001b[0m \u001b[0mself\u001b[0m\u001b[0;34m.\u001b[0m\u001b[0m_lock\u001b[0m\u001b[0;34m:\u001b[0m\u001b[0;34m\u001b[0m\u001b[0;34m\u001b[0m\u001b[0m\n\u001b[1;32m   2362\u001b[0m       \u001b[0mgraph_function\u001b[0m\u001b[0;34m,\u001b[0m \u001b[0margs\u001b[0m\u001b[0;34m,\u001b[0m \u001b[0mkwargs\u001b[0m \u001b[0;34m=\u001b[0m \u001b[0mself\u001b[0m\u001b[0;34m.\u001b[0m\u001b[0m_maybe_define_function\u001b[0m\u001b[0;34m(\u001b[0m\u001b[0margs\u001b[0m\u001b[0;34m,\u001b[0m \u001b[0mkwargs\u001b[0m\u001b[0;34m)\u001b[0m\u001b[0;34m\u001b[0m\u001b[0;34m\u001b[0m\u001b[0m\n\u001b[0;32m-> 2363\u001b[0;31m     \u001b[0;32mreturn\u001b[0m \u001b[0mgraph_function\u001b[0m\u001b[0;34m.\u001b[0m\u001b[0m_filtered_call\u001b[0m\u001b[0;34m(\u001b[0m\u001b[0margs\u001b[0m\u001b[0;34m,\u001b[0m \u001b[0mkwargs\u001b[0m\u001b[0;34m)\u001b[0m  \u001b[0;31m# pylint: disable=protected-access\u001b[0m\u001b[0;34m\u001b[0m\u001b[0;34m\u001b[0m\u001b[0m\n\u001b[0m\u001b[1;32m   2364\u001b[0m \u001b[0;34m\u001b[0m\u001b[0m\n\u001b[1;32m   2365\u001b[0m   \u001b[0;34m@\u001b[0m\u001b[0mproperty\u001b[0m\u001b[0;34m\u001b[0m\u001b[0;34m\u001b[0m\u001b[0m\n",
      "\u001b[0;32m~/opt/anaconda3/envs/tf2-py37/lib/python3.7/site-packages/tensorflow_core/python/eager/function.py\u001b[0m in \u001b[0;36m_filtered_call\u001b[0;34m(self, args, kwargs)\u001b[0m\n\u001b[1;32m   1609\u001b[0m          if isinstance(t, (ops.Tensor,\n\u001b[1;32m   1610\u001b[0m                            resource_variable_ops.BaseResourceVariable))),\n\u001b[0;32m-> 1611\u001b[0;31m         self.captured_inputs)\n\u001b[0m\u001b[1;32m   1612\u001b[0m \u001b[0;34m\u001b[0m\u001b[0m\n\u001b[1;32m   1613\u001b[0m   \u001b[0;32mdef\u001b[0m \u001b[0m_call_flat\u001b[0m\u001b[0;34m(\u001b[0m\u001b[0mself\u001b[0m\u001b[0;34m,\u001b[0m \u001b[0margs\u001b[0m\u001b[0;34m,\u001b[0m \u001b[0mcaptured_inputs\u001b[0m\u001b[0;34m,\u001b[0m \u001b[0mcancellation_manager\u001b[0m\u001b[0;34m=\u001b[0m\u001b[0;32mNone\u001b[0m\u001b[0;34m)\u001b[0m\u001b[0;34m:\u001b[0m\u001b[0;34m\u001b[0m\u001b[0;34m\u001b[0m\u001b[0m\n",
      "\u001b[0;32m~/opt/anaconda3/envs/tf2-py37/lib/python3.7/site-packages/tensorflow_core/python/eager/function.py\u001b[0m in \u001b[0;36m_call_flat\u001b[0;34m(self, args, captured_inputs, cancellation_manager)\u001b[0m\n\u001b[1;32m   1690\u001b[0m       \u001b[0;31m# No tape is watching; skip to running the function.\u001b[0m\u001b[0;34m\u001b[0m\u001b[0;34m\u001b[0m\u001b[0;34m\u001b[0m\u001b[0m\n\u001b[1;32m   1691\u001b[0m       return self._build_call_outputs(self._inference_function.call(\n\u001b[0;32m-> 1692\u001b[0;31m           ctx, args, cancellation_manager=cancellation_manager))\n\u001b[0m\u001b[1;32m   1693\u001b[0m     forward_backward = self._select_forward_and_backward_functions(\n\u001b[1;32m   1694\u001b[0m         \u001b[0margs\u001b[0m\u001b[0;34m,\u001b[0m\u001b[0;34m\u001b[0m\u001b[0;34m\u001b[0m\u001b[0m\n",
      "\u001b[0;32m~/opt/anaconda3/envs/tf2-py37/lib/python3.7/site-packages/tensorflow_core/python/eager/function.py\u001b[0m in \u001b[0;36mcall\u001b[0;34m(self, ctx, args, cancellation_manager)\u001b[0m\n\u001b[1;32m    543\u001b[0m               \u001b[0minputs\u001b[0m\u001b[0;34m=\u001b[0m\u001b[0margs\u001b[0m\u001b[0;34m,\u001b[0m\u001b[0;34m\u001b[0m\u001b[0;34m\u001b[0m\u001b[0m\n\u001b[1;32m    544\u001b[0m               \u001b[0mattrs\u001b[0m\u001b[0;34m=\u001b[0m\u001b[0;34m(\u001b[0m\u001b[0;34m\"executor_type\"\u001b[0m\u001b[0;34m,\u001b[0m \u001b[0mexecutor_type\u001b[0m\u001b[0;34m,\u001b[0m \u001b[0;34m\"config_proto\"\u001b[0m\u001b[0;34m,\u001b[0m \u001b[0mconfig\u001b[0m\u001b[0;34m)\u001b[0m\u001b[0;34m,\u001b[0m\u001b[0;34m\u001b[0m\u001b[0;34m\u001b[0m\u001b[0m\n\u001b[0;32m--> 545\u001b[0;31m               ctx=ctx)\n\u001b[0m\u001b[1;32m    546\u001b[0m         \u001b[0;32melse\u001b[0m\u001b[0;34m:\u001b[0m\u001b[0;34m\u001b[0m\u001b[0;34m\u001b[0m\u001b[0m\n\u001b[1;32m    547\u001b[0m           outputs = execute.execute_with_cancellation(\n",
      "\u001b[0;32m~/opt/anaconda3/envs/tf2-py37/lib/python3.7/site-packages/tensorflow_core/python/eager/execute.py\u001b[0m in \u001b[0;36mquick_execute\u001b[0;34m(op_name, num_outputs, inputs, attrs, ctx, name)\u001b[0m\n\u001b[1;32m     59\u001b[0m     tensors = pywrap_tensorflow.TFE_Py_Execute(ctx._handle, device_name,\n\u001b[1;32m     60\u001b[0m                                                \u001b[0mop_name\u001b[0m\u001b[0;34m,\u001b[0m \u001b[0minputs\u001b[0m\u001b[0;34m,\u001b[0m \u001b[0mattrs\u001b[0m\u001b[0;34m,\u001b[0m\u001b[0;34m\u001b[0m\u001b[0;34m\u001b[0m\u001b[0m\n\u001b[0;32m---> 61\u001b[0;31m                                                num_outputs)\n\u001b[0m\u001b[1;32m     62\u001b[0m   \u001b[0;32mexcept\u001b[0m \u001b[0mcore\u001b[0m\u001b[0;34m.\u001b[0m\u001b[0m_NotOkStatusException\u001b[0m \u001b[0;32mas\u001b[0m \u001b[0me\u001b[0m\u001b[0;34m:\u001b[0m\u001b[0;34m\u001b[0m\u001b[0;34m\u001b[0m\u001b[0m\n\u001b[1;32m     63\u001b[0m     \u001b[0;32mif\u001b[0m \u001b[0mname\u001b[0m \u001b[0;32mis\u001b[0m \u001b[0;32mnot\u001b[0m \u001b[0;32mNone\u001b[0m\u001b[0;34m:\u001b[0m\u001b[0;34m\u001b[0m\u001b[0;34m\u001b[0m\u001b[0m\n",
      "\u001b[0;31mKeyboardInterrupt\u001b[0m: "
     ]
    }
   ],
   "source": [
    "single_step_history = single_step_model.fit(train_data_single, epochs = EPOCHS, callbacks = [earlystop_callback],\n",
    "                                            steps_per_epoch = EVALUATION_INTERVAL,\n",
    "                                            validation_data = val_data_single,\n",
    "                                            validation_steps = 50)"
   ]
  },
  {
   "cell_type": "code",
   "execution_count": 278,
   "metadata": {
    "colab": {
     "base_uri": "https://localhost:8080/",
     "height": 35
    },
    "colab_type": "code",
    "executionInfo": {
     "elapsed": 84467,
     "status": "ok",
     "timestamp": 1581165422611,
     "user": {
      "displayName": "정주영",
      "photoUrl": "",
      "userId": "09017190432009937170"
     },
     "user_tz": -540
    },
    "id": "YADE4BeaamOH",
    "outputId": "5a9fab5d-3afb-4b27-ef23-75f5fb22edd1"
   },
   "outputs": [
    {
     "data": {
      "text/plain": [
       "<tensorflow.python.keras.callbacks.History at 0x1a40a89710>"
      ]
     },
     "execution_count": 278,
     "metadata": {},
     "output_type": "execute_result"
    }
   ],
   "source": [
    "single_step_history"
   ]
  },
  {
   "cell_type": "code",
   "execution_count": 279,
   "metadata": {
    "colab": {},
    "colab_type": "code",
    "id": "rFOolPpdbL2c"
   },
   "outputs": [],
   "source": [
    "def plot_train_history(history, title):\n",
    "    loss = history.history['loss']\n",
    "    val_loss = history.history['val_loss']\n",
    "\n",
    "    epochs = range(len(loss))\n",
    "\n",
    "    plt.figure()\n",
    "\n",
    "    plt.plot(epochs, loss, 'b', label = 'Training loss')\n",
    "    plt.plot(epochs, val_loss, 'r', label = 'Validation loss')\n",
    "\n",
    "    plt.title(title)\n",
    "    plt.legend()\n",
    "\n",
    "    plt.show()"
   ]
  },
  {
   "cell_type": "code",
   "execution_count": 280,
   "metadata": {
    "colab": {
     "base_uri": "https://localhost:8080/",
     "height": 390
    },
    "colab_type": "code",
    "executionInfo": {
     "elapsed": 84460,
     "status": "ok",
     "timestamp": 1581165422612,
     "user": {
      "displayName": "정주영",
      "photoUrl": "",
      "userId": "09017190432009937170"
     },
     "user_tz": -540
    },
    "id": "fjr8vks2bxI3",
    "outputId": "4cbf8ce6-fd33-4bca-d36a-7a4fb08e5ad4"
   },
   "outputs": [
    {
     "data": {
      "image/png": "[encoded data removed]",
      "text/plain": [
       "<Figure size 576x432 with 1 Axes>"
      ]
     },
     "metadata": {
      "needs_background": "light"
     },
     "output_type": "display_data"
    }
   ],
   "source": [
    "plot_train_history(single_step_history,\n",
    "                   'Single Step Training and validation loss')"
   ]
  },
  {
   "cell_type": "code",
   "execution_count": 232,
   "metadata": {
    "colab": {
     "base_uri": "https://localhost:8080/",
     "height": 404
    },
    "colab_type": "code",
    "executionInfo": {
     "elapsed": 84948,
     "status": "ok",
     "timestamp": 1581165423106,
     "user": {
      "displayName": "정주영",
      "photoUrl": "",
      "userId": "09017190432009937170"
     },
     "user_tz": -540
    },
    "id": "7qG-bicMcLgq",
    "outputId": "d6bb3c16-239a-4917-f5e9-63d3e25c20fe"
   },
   "outputs": [
    {
     "data": {
      "image/png": "[encoded data removed]",
      "text/plain": [
       "<Figure size 576x432 with 1 Axes>"
      ]
     },
     "metadata": {
      "needs_background": "light"
     },
     "output_type": "display_data"
    }
   ],
   "source": [
    "for x, y in val_data_single.take(3):\n",
    "    plot = show_plot([x[0][:, 1].numpy(), y[0].numpy(), single_step_model.predict(x)[0]], 12,\n",
    "                      'Single Step Prediction')"
   ]
  },
  {
   "cell_type": "code",
   "execution_count": 233,
   "metadata": {
    "colab": {},
    "colab_type": "code",
    "id": "j8ufeZPkn4fP"
   },
   "outputs": [],
   "source": [
    "future_target= 72\n",
    "\n",
    "x_train_multi, y_train_multi = multivariate_data(dataset, dataset[:, 1], 0,\n",
    "                                                 TRAIN_SPLIT, past_history,\n",
    "                                                 future_target, STEP)\n",
    "x_val_multi, y_val_multi = multivariate_data(dataset, dataset[:, 1],\n",
    "                                             TRAIN_SPLIT, None, past_history,\n",
    "                                             future_target, STEP)"
   ]
  },
  {
   "cell_type": "code",
   "execution_count": 234,
   "metadata": {
    "colab": {
     "base_uri": "https://localhost:8080/",
     "height": 71
    },
    "colab_type": "code",
    "executionInfo": {
     "elapsed": 84944,
     "status": "ok",
     "timestamp": 1581165423110,
     "user": {
      "displayName": "정주영",
      "photoUrl": "",
      "userId": "09017190432009937170"
     },
     "user_tz": -540
    },
    "id": "OMVgfpjNn9ca",
    "outputId": "2cca54f5-1c1f-4699-a4f7-868ea982c355"
   },
   "outputs": [
    {
     "name": "stdout",
     "output_type": "stream",
     "text": [
      "Single window of past history : (120, 98)\n",
      "\n",
      " Target temperature to predict : (72,)\n"
     ]
    }
   ],
   "source": [
    "print ('Single window of past history : {}'.format(x_train_multi[0].shape))\n",
    "print ('\\n Target temperature to predict : {}'.format(y_train_multi[0].shape))"
   ]
  },
  {
   "cell_type": "code",
   "execution_count": 235,
   "metadata": {
    "colab": {},
    "colab_type": "code",
    "id": "f22LKCG-n_fy"
   },
   "outputs": [],
   "source": [
    "train_data_multi = tf.data.Dataset.from_tensor_slices((x_train_multi, y_train_multi))\n",
    "train_data_multi = train_data_multi.cache().shuffle(BUFFER_SIZE).batch(BATCH_SIZE).repeat()\n",
    "\n",
    "val_data_multi = tf.data.Dataset.from_tensor_slices((x_val_multi, y_val_multi))\n",
    "val_data_multi = val_data_multi.batch(BATCH_SIZE).repeat()"
   ]
  },
  {
   "cell_type": "code",
   "execution_count": 236,
   "metadata": {
    "colab": {},
    "colab_type": "code",
    "id": "yRZ6LnDcoBKD"
   },
   "outputs": [],
   "source": [
    "def multi_step_plot(history, true_future, prediction):\n",
    "  plt.figure(figsize=(12, 6))\n",
    "  num_in = create_time_steps(len(history))\n",
    "  num_out = len(true_future)\n",
    "\n",
    "  plt.plot(num_in, np.array(history[:, 1]), label='History')\n",
    "  plt.plot(np.arange(num_out)/STEP, np.array(true_future), 'bo',\n",
    "           label='True Future')\n",
    "  if prediction.any():\n",
    "    plt.plot(np.arange(num_out)/STEP, np.array(prediction), 'ro',\n",
    "             label='Predicted Future')\n",
    "  plt.legend(loc='upper left')\n",
    "  plt.show()"
   ]
  },
  {
   "cell_type": "code",
   "execution_count": 237,
   "metadata": {
    "colab": {
     "base_uri": "https://localhost:8080/",
     "height": 374
    },
    "colab_type": "code",
    "executionInfo": {
     "elapsed": 85391,
     "status": "ok",
     "timestamp": 1581165423568,
     "user": {
      "displayName": "정주영",
      "photoUrl": "",
      "userId": "09017190432009937170"
     },
     "user_tz": -540
    },
    "id": "hyUTSA5SoGUy",
    "outputId": "b0a21b71-4c1d-42c7-ccba-58045a7ea402"
   },
   "outputs": [
    {
     "data": {
      "image/png": "[encoded data removed]",
      "text/plain": [
       "<Figure size 864x432 with 1 Axes>"
      ]
     },
     "metadata": {
      "needs_background": "light"
     },
     "output_type": "display_data"
    }
   ],
   "source": [
    "for x, y in train_data_multi.take(1):\n",
    "    multi_step_plot(x[0], y[0], np.array([0]))"
   ]
  },
  {
   "cell_type": "code",
   "execution_count": 238,
   "metadata": {
    "colab": {},
    "colab_type": "code",
    "id": "AvkncjmzoI7w"
   },
   "outputs": [],
   "source": [
    "multi_step_model = tf.keras.models.Sequential()\n",
    "multi_step_model.add(tf.keras.layers.LSTM(32,\n",
    "                                          return_sequences=True,\n",
    "                                          input_shape=x_train_multi.shape[-2:]))\n",
    "multi_step_model.add(tf.keras.layers.LSTM(16, activation='relu'))\n",
    "multi_step_model.add(tf.keras.layers.Dense(72))\n",
    "\n",
    "multi_step_model.compile(optimizer=tf.keras.optimizers.RMSprop(clipvalue=1.0), loss='mae')"
   ]
  },
  {
   "cell_type": "code",
   "execution_count": 193,
   "metadata": {
    "colab": {
     "base_uri": "https://localhost:8080/",
     "height": 35
    },
    "colab_type": "code",
    "executionInfo": {
     "elapsed": 85948,
     "status": "ok",
     "timestamp": 1581165424133,
     "user": {
      "displayName": "정주영",
      "photoUrl": "",
      "userId": "09017190432009937170"
     },
     "user_tz": -540
    },
    "id": "p0uc3l8zoOpz",
    "outputId": "056b5ae7-3553-4c6a-8420-a2a26a45132b"
   },
   "outputs": [
    {
     "name": "stdout",
     "output_type": "stream",
     "text": [
      "(1, 72)\n"
     ]
    }
   ],
   "source": [
    "for x, y in val_data_multi.take(1):\n",
    "    print (multi_step_model.predict(x).shape)"
   ]
  },
  {
   "cell_type": "code",
   "execution_count": 194,
   "metadata": {
    "colab": {
     "base_uri": "https://localhost:8080/",
     "height": 395
    },
    "colab_type": "code",
    "executionInfo": {
     "elapsed": 246268,
     "status": "ok",
     "timestamp": 1581165584458,
     "user": {
      "displayName": "정주영",
      "photoUrl": "",
      "userId": "09017190432009937170"
     },
     "user_tz": -540
    },
    "id": "3KbC-0dSoQ4g",
    "outputId": "659caac5-ed54-401e-c0e0-a93b412a28a9"
   },
   "outputs": [
    {
     "name": "stdout",
     "output_type": "stream",
     "text": [
      "Train for 200 steps, validate for 50 steps\n",
      "Epoch 1/10\n",
      "200/200 [==============================] - 18s 89ms/step - loss: 23051.0077 - val_loss: 0.4719\n",
      "Epoch 2/10\n",
      "200/200 [==============================] - 15s 75ms/step - loss: 0.0065 - val_loss: 0.4713\n",
      "Epoch 3/10\n",
      "200/200 [==============================] - 15s 75ms/step - loss: 0.0269 - val_loss: 0.4755\n",
      "Epoch 4/10\n",
      "200/200 [==============================] - 15s 75ms/step - loss: 0.0344 - val_loss: 0.4753\n",
      "Epoch 5/10\n",
      "200/200 [==============================] - 15s 77ms/step - loss: 0.0290 - val_loss: 0.4768\n",
      "Epoch 6/10\n",
      "200/200 [==============================] - 15s 76ms/step - loss: 0.0257 - val_loss: 0.4766\n",
      "Epoch 7/10\n",
      "200/200 [==============================] - 15s 74ms/step - loss: 0.0233 - val_loss: 0.4767\n",
      "Epoch 8/10\n",
      "200/200 [==============================] - 15s 75ms/step - loss: 0.0213 - val_loss: 0.4770\n",
      "Epoch 9/10\n",
      "200/200 [==============================] - 15s 75ms/step - loss: 0.0199 - val_loss: 0.4773\n",
      "Epoch 10/10\n",
      "200/200 [==============================] - 15s 74ms/step - loss: 0.0187 - val_loss: 0.4783\n"
     ]
    }
   ],
   "source": [
    "multi_step_history = multi_step_model.fit(train_data_multi, epochs=EPOCHS,\n",
    "                                          steps_per_epoch=EVALUATION_INTERVAL,\n",
    "                                          validation_data=val_data_multi,\n",
    "                                          validation_steps=50)"
   ]
  },
  {
   "cell_type": "code",
   "execution_count": 195,
   "metadata": {
    "colab": {
     "base_uri": "https://localhost:8080/",
     "height": 390
    },
    "colab_type": "code",
    "executionInfo": {
     "elapsed": 246262,
     "status": "ok",
     "timestamp": 1581165584460,
     "user": {
      "displayName": "정주영",
      "photoUrl": "",
      "userId": "09017190432009937170"
     },
     "user_tz": -540
    },
    "id": "1ba1ukspoRm9",
    "outputId": "f8af0ec6-b904-4201-9fe6-dcd49b0678a9"
   },
   "outputs": [
    {
     "data": {
      "image/png": "[encoded data removed]",
      "text/plain": [
       "<Figure size 576x432 with 1 Axes>"
      ]
     },
     "metadata": {
      "needs_background": "light"
     },
     "output_type": "display_data"
    }
   ],
   "source": [
    "plot_train_history(multi_step_history, 'Multi-Step Training and validation loss')"
   ]
  },
  {
   "cell_type": "code",
   "execution_count": 196,
   "metadata": {
    "colab": {
     "base_uri": "https://localhost:8080/",
     "height": 1000
    },
    "colab_type": "code",
    "executionInfo": {
     "elapsed": 247358,
     "status": "ok",
     "timestamp": 1581165585562,
     "user": {
      "displayName": "정주영",
      "photoUrl": "",
      "userId": "09017190432009937170"
     },
     "user_tz": -540
    },
    "id": "v4BH_6qooSoO",
    "outputId": "846629cf-b20e-4441-f765-2ae8cac153fa"
   },
   "outputs": [
    {
     "data": {
      "image/png": "[encoded data removed]",
      "text/plain": [
       "<Figure size 864x432 with 1 Axes>"
      ]
     },
     "metadata": {
      "needs_background": "light"
     },
     "output_type": "display_data"
    },
    {
     "data": {
      "image/png": "[encoded data removed]",
      "text/plain": [
       "<Figure size 864x432 with 1 Axes>"
      ]
     },
     "metadata": {
      "needs_background": "light"
     },
     "output_type": "display_data"
    },
    {
     "data": {
      "image/png": "[encoded data removed]",
      "text/plain": [
       "<Figure size 864x432 with 1 Axes>"
      ]
     },
     "metadata": {
      "needs_background": "light"
     },
     "output_type": "display_data"
    }
   ],
   "source": [
    "for x, y in val_data_multi.take(3):\n",
    "    multi_step_plot(x[0], y[0], multi_step_model.predict(x)[0])\n"
   ]
  },
  {
   "cell_type": "code",
   "execution_count": null,
   "metadata": {},
   "outputs": [],
   "source": []
  },
  {
   "cell_type": "code",
   "execution_count": 138,
   "metadata": {
    "colab": {},
    "colab_type": "code",
    "id": "R5D039P8J08k"
   },
   "outputs": [],
   "source": []
  }
 ],
 "metadata": {
  "colab": {
   "authorship_tag": "ABX9TyNdPoDygFFSMUgSmKAIP5TY",
   "collapsed_sections": [],
   "name": "week4_time_series_jy.ipynb",
   "provenance": []
  },
  "kernelspec": {
   "display_name": "Python 3.7.6 64-bit ('tf2-py37': conda)",
   "language": "python",
   "name": "python37664bittf2py37conda4df29648bf8a4808bc274fe4f9de4cdb"
  },
  "language_info": {
   "codemirror_mode": {
    "name": "ipython",
    "version": 3
   },
   "file_extension": ".py",
   "mimetype": "text/x-python",
   "name": "python",
   "nbconvert_exporter": "python",
   "pygments_lexer": "ipython3",
   "version": "3.7.6"
  }
 },
 "nbformat": 4,
 "nbformat_minor": 4
}
