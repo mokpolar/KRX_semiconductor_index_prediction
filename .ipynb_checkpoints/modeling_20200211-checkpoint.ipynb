{
 "cells": [
  {
   "cell_type": "code",
   "execution_count": 1,
   "metadata": {},
   "outputs": [],
   "source": [
    "# library use\n",
    "import re\n",
    "import matplotlib.pyplot as plt\n",
    "import seaborn as sns\n",
    "import numpy as np\n",
    "import warnings\n",
    "from datetime import datetime\n",
    "from datetime import timedelta\n",
    "import datetime as dt\n",
    "warnings.filterwarnings('ignore')\n",
    "from sklearn import preprocessing\n",
    "from sklearn import linear_model\n",
    "from sklearn.linear_model import LinearRegression\n",
    "from sklearn.metrics import mean_squared_error\n",
    "from sklearn.ensemble import RandomForestRegressor\n",
    "import pickle\n",
    "%config InlineBackend.figure_format = 'retina'\n",
    "from sklearn.linear_model import Ridge\n",
    "from sklearn.linear_model import Lasso\n",
    "from sklearn.preprocessing import StandardScaler\n",
    "from sklearn.preprocessing import MinMaxScaler\n",
    "from sklearn.preprocessing import PowerTransformer\n",
    "from sklearn.model_selection import train_test_split\n",
    "from sklearn.metrics import mean_squared_error, r2_score\n",
    "from sklearn.model_selection import cross_val_score\n",
    "from sklearn.tree import DecisionTreeRegressor\n",
    "from sklearn.ensemble import GradientBoostingRegressor\n",
    "from xgboost import XGBRegressor\n",
    "from lightgbm import LGBMRegressor"
   ]
  },
  {
   "cell_type": "code",
   "execution_count": 2,
   "metadata": {},
   "outputs": [],
   "source": [
    "import pandas as pd\n",
    "pd.set_option('display.max_rows', 50)\n",
    "pd.set_option('display.max_columns', 50)\n",
    "pd.set_option('display.width', 100)\n"
   ]
  },
  {
   "cell_type": "code",
   "execution_count": 3,
   "metadata": {},
   "outputs": [],
   "source": [
    "df = pd.read_csv('original_full_data.csv', index_col = 0)"
   ]
  },
  {
   "cell_type": "code",
   "execution_count": 4,
   "metadata": {},
   "outputs": [],
   "source": [
    "mmdf = pd.read_csv('bloomberg_map_index_20200130.csv', index_col = 0)"
   ]
  },
  {
   "cell_type": "code",
   "execution_count": 5,
   "metadata": {},
   "outputs": [
    {
     "data": {
      "text/html": [
       "<div>\n",
       "<style scoped>\n",
       "    .dataframe tbody tr th:only-of-type {\n",
       "        vertical-align: middle;\n",
       "    }\n",
       "\n",
       "    .dataframe tbody tr th {\n",
       "        vertical-align: top;\n",
       "    }\n",
       "\n",
       "    .dataframe thead th {\n",
       "        text-align: right;\n",
       "    }\n",
       "</style>\n",
       "<table border=\"1\" class=\"dataframe\">\n",
       "  <thead>\n",
       "    <tr style=\"text-align: right;\">\n",
       "      <th></th>\n",
       "      <th>date</th>\n",
       "      <th>GDPCQOQIndex</th>\n",
       "      <th>GDPCYOYIndex</th>\n",
       "      <th>GDPCTOT%Index</th>\n",
       "      <th>GPDITOC%Index</th>\n",
       "      <th>GPGSTOC%Index</th>\n",
       "      <th>RGCDCIPIIndex</th>\n",
       "      <th>GDPCUR$Index</th>\n",
       "      <th>GDPCURYIndex</th>\n",
       "      <th>GDPPIQQIndex</th>\n",
       "      <th>GDPCPCECIndex</th>\n",
       "      <th>CPIYOYIndex</th>\n",
       "      <th>CPIXYOYIndex</th>\n",
       "      <th>PCEDEFYIndex</th>\n",
       "      <th>PCECYOYIndex</th>\n",
       "      <th>CPICHNGIndex</th>\n",
       "      <th>CPUPXCHGIndex</th>\n",
       "      <th>FDIDFDMOIndex</th>\n",
       "      <th>FDIDSGMOIndex</th>\n",
       "      <th>FDIUFDYOIndex</th>\n",
       "      <th>FDIUSGYOIndex</th>\n",
       "      <th>USURTOTIndex</th>\n",
       "      <th>USUDMAERIndex</th>\n",
       "      <th>INJCJCIndex</th>\n",
       "      <th>INJCSPIndex</th>\n",
       "      <th>...</th>\n",
       "      <th>net_profit_increase_rate</th>\n",
       "      <th>tangible_asset_increase_rate</th>\n",
       "      <th>operating_profit_rate</th>\n",
       "      <th>profit_cost_rate</th>\n",
       "      <th>ROA_profit</th>\n",
       "      <th>ROA_net_profit</th>\n",
       "      <th>ROE_profit</th>\n",
       "      <th>ROE_net_profit</th>\n",
       "      <th>per</th>\n",
       "      <th>pbr</th>\n",
       "      <th>psr</th>\n",
       "      <th>memory_price</th>\n",
       "      <th>g2</th>\n",
       "      <th>g4</th>\n",
       "      <th>g8</th>\n",
       "      <th>g16</th>\n",
       "      <th>g32</th>\n",
       "      <th>g64</th>\n",
       "      <th>g128</th>\n",
       "      <th>avg</th>\n",
       "      <th>avg_four</th>\n",
       "      <th>ssd_price</th>\n",
       "      <th>flash_price</th>\n",
       "      <th>option_bit</th>\n",
       "      <th>future_bit</th>\n",
       "    </tr>\n",
       "  </thead>\n",
       "  <tbody>\n",
       "    <tr>\n",
       "      <th>0</th>\n",
       "      <td>1981-01-01</td>\n",
       "      <td>NaN</td>\n",
       "      <td>NaN</td>\n",
       "      <td>NaN</td>\n",
       "      <td>NaN</td>\n",
       "      <td>NaN</td>\n",
       "      <td>NaN</td>\n",
       "      <td>NaN</td>\n",
       "      <td>NaN</td>\n",
       "      <td>NaN</td>\n",
       "      <td>NaN</td>\n",
       "      <td>NaN</td>\n",
       "      <td>NaN</td>\n",
       "      <td>NaN</td>\n",
       "      <td>NaN</td>\n",
       "      <td>NaN</td>\n",
       "      <td>NaN</td>\n",
       "      <td>NaN</td>\n",
       "      <td>NaN</td>\n",
       "      <td>NaN</td>\n",
       "      <td>NaN</td>\n",
       "      <td>NaN</td>\n",
       "      <td>NaN</td>\n",
       "      <td>NaN</td>\n",
       "      <td>NaN</td>\n",
       "      <td>...</td>\n",
       "      <td>NaN</td>\n",
       "      <td>NaN</td>\n",
       "      <td>NaN</td>\n",
       "      <td>NaN</td>\n",
       "      <td>NaN</td>\n",
       "      <td>NaN</td>\n",
       "      <td>NaN</td>\n",
       "      <td>NaN</td>\n",
       "      <td>NaN</td>\n",
       "      <td>NaN</td>\n",
       "      <td>NaN</td>\n",
       "      <td>NaN</td>\n",
       "      <td>NaN</td>\n",
       "      <td>NaN</td>\n",
       "      <td>NaN</td>\n",
       "      <td>NaN</td>\n",
       "      <td>NaN</td>\n",
       "      <td>NaN</td>\n",
       "      <td>NaN</td>\n",
       "      <td>NaN</td>\n",
       "      <td>NaN</td>\n",
       "      <td>NaN</td>\n",
       "      <td>NaN</td>\n",
       "      <td>NaN</td>\n",
       "      <td>NaN</td>\n",
       "    </tr>\n",
       "    <tr>\n",
       "      <th>1</th>\n",
       "      <td>1981-01-02</td>\n",
       "      <td>NaN</td>\n",
       "      <td>NaN</td>\n",
       "      <td>NaN</td>\n",
       "      <td>NaN</td>\n",
       "      <td>NaN</td>\n",
       "      <td>NaN</td>\n",
       "      <td>NaN</td>\n",
       "      <td>NaN</td>\n",
       "      <td>NaN</td>\n",
       "      <td>NaN</td>\n",
       "      <td>NaN</td>\n",
       "      <td>NaN</td>\n",
       "      <td>NaN</td>\n",
       "      <td>NaN</td>\n",
       "      <td>NaN</td>\n",
       "      <td>NaN</td>\n",
       "      <td>NaN</td>\n",
       "      <td>NaN</td>\n",
       "      <td>NaN</td>\n",
       "      <td>NaN</td>\n",
       "      <td>NaN</td>\n",
       "      <td>NaN</td>\n",
       "      <td>410.0</td>\n",
       "      <td>3123.0</td>\n",
       "      <td>...</td>\n",
       "      <td>NaN</td>\n",
       "      <td>NaN</td>\n",
       "      <td>NaN</td>\n",
       "      <td>NaN</td>\n",
       "      <td>NaN</td>\n",
       "      <td>NaN</td>\n",
       "      <td>NaN</td>\n",
       "      <td>NaN</td>\n",
       "      <td>NaN</td>\n",
       "      <td>NaN</td>\n",
       "      <td>NaN</td>\n",
       "      <td>NaN</td>\n",
       "      <td>NaN</td>\n",
       "      <td>NaN</td>\n",
       "      <td>NaN</td>\n",
       "      <td>NaN</td>\n",
       "      <td>NaN</td>\n",
       "      <td>NaN</td>\n",
       "      <td>NaN</td>\n",
       "      <td>NaN</td>\n",
       "      <td>NaN</td>\n",
       "      <td>NaN</td>\n",
       "      <td>NaN</td>\n",
       "      <td>NaN</td>\n",
       "      <td>NaN</td>\n",
       "    </tr>\n",
       "    <tr>\n",
       "      <th>2</th>\n",
       "      <td>1981-01-03</td>\n",
       "      <td>NaN</td>\n",
       "      <td>NaN</td>\n",
       "      <td>NaN</td>\n",
       "      <td>NaN</td>\n",
       "      <td>NaN</td>\n",
       "      <td>NaN</td>\n",
       "      <td>NaN</td>\n",
       "      <td>NaN</td>\n",
       "      <td>NaN</td>\n",
       "      <td>NaN</td>\n",
       "      <td>NaN</td>\n",
       "      <td>NaN</td>\n",
       "      <td>NaN</td>\n",
       "      <td>NaN</td>\n",
       "      <td>NaN</td>\n",
       "      <td>NaN</td>\n",
       "      <td>NaN</td>\n",
       "      <td>NaN</td>\n",
       "      <td>NaN</td>\n",
       "      <td>NaN</td>\n",
       "      <td>NaN</td>\n",
       "      <td>NaN</td>\n",
       "      <td>NaN</td>\n",
       "      <td>NaN</td>\n",
       "      <td>...</td>\n",
       "      <td>NaN</td>\n",
       "      <td>NaN</td>\n",
       "      <td>NaN</td>\n",
       "      <td>NaN</td>\n",
       "      <td>NaN</td>\n",
       "      <td>NaN</td>\n",
       "      <td>NaN</td>\n",
       "      <td>NaN</td>\n",
       "      <td>NaN</td>\n",
       "      <td>NaN</td>\n",
       "      <td>NaN</td>\n",
       "      <td>NaN</td>\n",
       "      <td>NaN</td>\n",
       "      <td>NaN</td>\n",
       "      <td>NaN</td>\n",
       "      <td>NaN</td>\n",
       "      <td>NaN</td>\n",
       "      <td>NaN</td>\n",
       "      <td>NaN</td>\n",
       "      <td>NaN</td>\n",
       "      <td>NaN</td>\n",
       "      <td>NaN</td>\n",
       "      <td>NaN</td>\n",
       "      <td>NaN</td>\n",
       "      <td>NaN</td>\n",
       "    </tr>\n",
       "    <tr>\n",
       "      <th>3</th>\n",
       "      <td>1981-01-04</td>\n",
       "      <td>NaN</td>\n",
       "      <td>NaN</td>\n",
       "      <td>NaN</td>\n",
       "      <td>NaN</td>\n",
       "      <td>NaN</td>\n",
       "      <td>NaN</td>\n",
       "      <td>NaN</td>\n",
       "      <td>NaN</td>\n",
       "      <td>NaN</td>\n",
       "      <td>NaN</td>\n",
       "      <td>NaN</td>\n",
       "      <td>NaN</td>\n",
       "      <td>NaN</td>\n",
       "      <td>NaN</td>\n",
       "      <td>NaN</td>\n",
       "      <td>NaN</td>\n",
       "      <td>NaN</td>\n",
       "      <td>NaN</td>\n",
       "      <td>NaN</td>\n",
       "      <td>NaN</td>\n",
       "      <td>NaN</td>\n",
       "      <td>NaN</td>\n",
       "      <td>NaN</td>\n",
       "      <td>NaN</td>\n",
       "      <td>...</td>\n",
       "      <td>NaN</td>\n",
       "      <td>NaN</td>\n",
       "      <td>NaN</td>\n",
       "      <td>NaN</td>\n",
       "      <td>NaN</td>\n",
       "      <td>NaN</td>\n",
       "      <td>NaN</td>\n",
       "      <td>NaN</td>\n",
       "      <td>NaN</td>\n",
       "      <td>NaN</td>\n",
       "      <td>NaN</td>\n",
       "      <td>NaN</td>\n",
       "      <td>NaN</td>\n",
       "      <td>NaN</td>\n",
       "      <td>NaN</td>\n",
       "      <td>NaN</td>\n",
       "      <td>NaN</td>\n",
       "      <td>NaN</td>\n",
       "      <td>NaN</td>\n",
       "      <td>NaN</td>\n",
       "      <td>NaN</td>\n",
       "      <td>NaN</td>\n",
       "      <td>NaN</td>\n",
       "      <td>NaN</td>\n",
       "      <td>NaN</td>\n",
       "    </tr>\n",
       "    <tr>\n",
       "      <th>4</th>\n",
       "      <td>1981-01-05</td>\n",
       "      <td>NaN</td>\n",
       "      <td>NaN</td>\n",
       "      <td>NaN</td>\n",
       "      <td>NaN</td>\n",
       "      <td>NaN</td>\n",
       "      <td>NaN</td>\n",
       "      <td>NaN</td>\n",
       "      <td>NaN</td>\n",
       "      <td>NaN</td>\n",
       "      <td>NaN</td>\n",
       "      <td>NaN</td>\n",
       "      <td>NaN</td>\n",
       "      <td>NaN</td>\n",
       "      <td>NaN</td>\n",
       "      <td>NaN</td>\n",
       "      <td>NaN</td>\n",
       "      <td>NaN</td>\n",
       "      <td>NaN</td>\n",
       "      <td>NaN</td>\n",
       "      <td>NaN</td>\n",
       "      <td>NaN</td>\n",
       "      <td>NaN</td>\n",
       "      <td>NaN</td>\n",
       "      <td>NaN</td>\n",
       "      <td>...</td>\n",
       "      <td>NaN</td>\n",
       "      <td>NaN</td>\n",
       "      <td>NaN</td>\n",
       "      <td>NaN</td>\n",
       "      <td>NaN</td>\n",
       "      <td>NaN</td>\n",
       "      <td>NaN</td>\n",
       "      <td>NaN</td>\n",
       "      <td>NaN</td>\n",
       "      <td>NaN</td>\n",
       "      <td>NaN</td>\n",
       "      <td>NaN</td>\n",
       "      <td>NaN</td>\n",
       "      <td>NaN</td>\n",
       "      <td>NaN</td>\n",
       "      <td>NaN</td>\n",
       "      <td>NaN</td>\n",
       "      <td>NaN</td>\n",
       "      <td>NaN</td>\n",
       "      <td>NaN</td>\n",
       "      <td>NaN</td>\n",
       "      <td>NaN</td>\n",
       "      <td>NaN</td>\n",
       "      <td>NaN</td>\n",
       "      <td>NaN</td>\n",
       "    </tr>\n",
       "  </tbody>\n",
       "</table>\n",
       "<p>5 rows × 417 columns</p>\n",
       "</div>"
      ],
      "text/plain": [
       "         date  GDPCQOQIndex  GDPCYOYIndex  GDPCTOT%Index  GPDITOC%Index  GPGSTOC%Index  \\\n",
       "0  1981-01-01           NaN           NaN            NaN            NaN            NaN   \n",
       "1  1981-01-02           NaN           NaN            NaN            NaN            NaN   \n",
       "2  1981-01-03           NaN           NaN            NaN            NaN            NaN   \n",
       "3  1981-01-04           NaN           NaN            NaN            NaN            NaN   \n",
       "4  1981-01-05           NaN           NaN            NaN            NaN            NaN   \n",
       "\n",
       "   RGCDCIPIIndex  GDPCUR$Index  GDPCURYIndex  GDPPIQQIndex  GDPCPCECIndex  CPIYOYIndex  \\\n",
       "0            NaN           NaN           NaN           NaN            NaN          NaN   \n",
       "1            NaN           NaN           NaN           NaN            NaN          NaN   \n",
       "2            NaN           NaN           NaN           NaN            NaN          NaN   \n",
       "3            NaN           NaN           NaN           NaN            NaN          NaN   \n",
       "4            NaN           NaN           NaN           NaN            NaN          NaN   \n",
       "\n",
       "   CPIXYOYIndex  PCEDEFYIndex  PCECYOYIndex  CPICHNGIndex  CPUPXCHGIndex  FDIDFDMOIndex  \\\n",
       "0           NaN           NaN           NaN           NaN            NaN            NaN   \n",
       "1           NaN           NaN           NaN           NaN            NaN            NaN   \n",
       "2           NaN           NaN           NaN           NaN            NaN            NaN   \n",
       "3           NaN           NaN           NaN           NaN            NaN            NaN   \n",
       "4           NaN           NaN           NaN           NaN            NaN            NaN   \n",
       "\n",
       "   FDIDSGMOIndex  FDIUFDYOIndex  FDIUSGYOIndex  USURTOTIndex  USUDMAERIndex  INJCJCIndex  \\\n",
       "0            NaN            NaN            NaN           NaN            NaN          NaN   \n",
       "1            NaN            NaN            NaN           NaN            NaN        410.0   \n",
       "2            NaN            NaN            NaN           NaN            NaN          NaN   \n",
       "3            NaN            NaN            NaN           NaN            NaN          NaN   \n",
       "4            NaN            NaN            NaN           NaN            NaN          NaN   \n",
       "\n",
       "   INJCSPIndex  ...  net_profit_increase_rate  tangible_asset_increase_rate  \\\n",
       "0          NaN  ...                       NaN                           NaN   \n",
       "1       3123.0  ...                       NaN                           NaN   \n",
       "2          NaN  ...                       NaN                           NaN   \n",
       "3          NaN  ...                       NaN                           NaN   \n",
       "4          NaN  ...                       NaN                           NaN   \n",
       "\n",
       "   operating_profit_rate  profit_cost_rate  ROA_profit  ROA_net_profit  ROE_profit  \\\n",
       "0                    NaN               NaN         NaN             NaN         NaN   \n",
       "1                    NaN               NaN         NaN             NaN         NaN   \n",
       "2                    NaN               NaN         NaN             NaN         NaN   \n",
       "3                    NaN               NaN         NaN             NaN         NaN   \n",
       "4                    NaN               NaN         NaN             NaN         NaN   \n",
       "\n",
       "   ROE_net_profit  per  pbr  psr  memory_price  g2  g4  g8  g16  g32  g64  g128  avg  avg_four  \\\n",
       "0             NaN  NaN  NaN  NaN           NaN NaN NaN NaN  NaN  NaN  NaN   NaN  NaN       NaN   \n",
       "1             NaN  NaN  NaN  NaN           NaN NaN NaN NaN  NaN  NaN  NaN   NaN  NaN       NaN   \n",
       "2             NaN  NaN  NaN  NaN           NaN NaN NaN NaN  NaN  NaN  NaN   NaN  NaN       NaN   \n",
       "3             NaN  NaN  NaN  NaN           NaN NaN NaN NaN  NaN  NaN  NaN   NaN  NaN       NaN   \n",
       "4             NaN  NaN  NaN  NaN           NaN NaN NaN NaN  NaN  NaN  NaN   NaN  NaN       NaN   \n",
       "\n",
       "   ssd_price  flash_price  option_bit  future_bit  \n",
       "0        NaN          NaN         NaN         NaN  \n",
       "1        NaN          NaN         NaN         NaN  \n",
       "2        NaN          NaN         NaN         NaN  \n",
       "3        NaN          NaN         NaN         NaN  \n",
       "4        NaN          NaN         NaN         NaN  \n",
       "\n",
       "[5 rows x 417 columns]"
      ]
     },
     "execution_count": 5,
     "metadata": {},
     "output_type": "execute_result"
    }
   ],
   "source": [
    "df.head()"
   ]
  },
  {
   "cell_type": "code",
   "execution_count": 6,
   "metadata": {},
   "outputs": [],
   "source": [
    "df = df.loc[9132 :, :]"
   ]
  },
  {
   "cell_type": "code",
   "execution_count": 7,
   "metadata": {},
   "outputs": [],
   "source": [
    "df.reset_index(drop = True, inplace = True)"
   ]
  },
  {
   "cell_type": "code",
   "execution_count": 83,
   "metadata": {},
   "outputs": [],
   "source": [
    "# 제대로 Column 들이 박혀있는 Dataframe이 들어오는 클래스\n",
    "class Builder:\n",
    "\n",
    "    def __init__(self, input_df, map_df):\n",
    "        self.df = input_df\n",
    "        self.mdf = map_df\n",
    "        self.lag_days = [1, 7, 30, 90, 180, 365] # lagging day variation\n",
    "        self.target_day = 260\n",
    "\n",
    "\n",
    "    # df should involve datetime index\n",
    "\n",
    "    def targeter(self, target_column):\n",
    "        self.df[target_column] = self.df[target_column].shift(-1*int(self.target_day))\n",
    "\n",
    "        return self.df\n",
    "\n",
    "    def returner(self, target_column):      \n",
    "\n",
    "        col_name =  []\n",
    "        # creating new column name\n",
    "        for i in self.lag_days:\n",
    "            col_name.append(target_column + str(i))\n",
    "        # appending lagged columns\n",
    "        for i, j in enumerate(self.lag_days):\n",
    "            self.df[locals()['col_name'][i]] = self.df[target_column] / self.df[target_column].shift(periods = j, axis = 0)\n",
    "\n",
    "        return self.df \n",
    "\n",
    "\n",
    "    \n",
    "    def differ(self, target_column):\n",
    "\n",
    "        col_name = []\n",
    "        for i in self.lag_days:\n",
    "            col_name.append(target_column + str(i))\n",
    "        for i, j in enumerate(self.lag_days):\n",
    "            self.df[locals()['col_name'][i]] = self.df[target_column] - self.df[target_column].shift(periods = j, axis = 0)\n",
    "        return self.df\n",
    "\n",
    "    # volume * close  -> convert to return \n",
    "    # 안타깝게도 mdf 에 있는 이름은 '주가'_close 의 형태가 되어야 함\n",
    "    def producter(self, target_column):\n",
    "\n",
    "        col_name = (str(target_column).split('_'))[0]# j가 들어오면 이걸 받고         \n",
    "        # 해당 함수 내부에 col_name을 넣으면 해당 j가 들어가서 product와 결합된 column 생성\n",
    "\n",
    "        self.df[locals()['col_name'] + '_product'] = self.df[col_name + '_volume'] * self.df[col_name + '_close'] # j volume과 j close를 곱해서 \n",
    "\n",
    "        return self.df\n",
    "    \n",
    "    \n",
    "    def execution(self):\n",
    "        for i, j in enumerate(self.mdf['ticker']): # 키 값들을 순차적으로 돌리면서 순회, 예외사항이 있는지? 아 else를 걸어두면 상관없겠구나. 딱 mdf에 있는 만큼만 반영될듯\n",
    "            #if self.mdf.loc[i, :][0] in self.df.columns:\n",
    "            if j in self.df.columns:\n",
    "\n",
    "                if self.mdf.loc[i, :][1] == 'product': \n",
    "                    self.producter(j)\n",
    "                    col = str(j).split('_')[0]\n",
    "                    self.df[col + '_product'] = self.df[col + '_product'] / self.df[col + '_product'].shift(1)\n",
    "\n",
    "\n",
    "                if self.mdf.loc[i, :][1] == 'target': \n",
    "                    self.targeter(j)\n",
    "                    \n",
    "                    # 여기에서 필요한 것만 남겨야 하는데\n",
    "\n",
    "\n",
    "\n",
    "                else:\n",
    "                    pass\n",
    "            else:\n",
    "                pass\n",
    "                \n",
    "                '''\n",
    "\n",
    "                if self.mdf.loc[i, :][1] == 'minus':\n",
    "                    self.differ(j)\n",
    "\n",
    "                elif self.mdf.loc[i, :][1] == 'change':\n",
    "                    self.returner(j)\n",
    "\n",
    "                elif self.mdf.loc[i, :][1] == 'product': #왜 안돌까. Amazon은 되는데. 어딘선가 도는게 멈추는게 분명한데. self.mdf.ticker에서 \n",
    "                    self.producter(j)\n",
    "                    # 여기에 product를 return으로 만드는 code 추가\n",
    "\n",
    "                '''\n",
    "                #else:\n",
    "                   # pass\n",
    "           # else:\n",
    "            #    pass\n",
    "            \n",
    "        return self.df\n",
    "\n",
    "\n",
    "            \n",
    "    # 차분에 ACF 그래프도 그리면 좋을듯. 정상성을 나타내지 않는 시계열에서는 ACF가 느리게 감소하고\n",
    "    # 정상성을 나타내는 시계열에서는 ACF가 비교적 빠르게 0으로 떨어질 것\n",
    "    # 구글 주식 가격 데이터의 경우 차분을 하면 ACF는 단순히 white noise time series 처럼 생겼음\n",
    "\n",
    "\n",
    "    # spline이 된 상태에서는 acf를 적용할 수 있다. \n",
    "    # cubic spline만 적용한다고 가정하고\n",
    "    # raw에서 채우지는 않고 acf만 보는 function을 짜자\n",
    "    def acf_cal(self, target):\n",
    "        data = pd.DataFrame(self.df[target])\n",
    "        data = data.interpolate(method = 'cubic', limit_area = 'inside').fillna(method = 'ffill').fillna(method = 'bfill')\n",
    "        acf = sm.tsa.acf(data)      \n",
    "        plt.stem(acf)\n",
    "        plt.show()"
   ]
  },
  {
   "cell_type": "code",
   "execution_count": 104,
   "metadata": {},
   "outputs": [],
   "source": [
    "newdf = df.copy()"
   ]
  },
  {
   "cell_type": "code",
   "execution_count": 105,
   "metadata": {},
   "outputs": [
    {
     "data": {
      "text/plain": [
       "417"
      ]
     },
     "execution_count": 105,
     "metadata": {},
     "output_type": "execute_result"
    }
   ],
   "source": [
    "len(newdf.columns)"
   ]
  },
  {
   "cell_type": "code",
   "execution_count": 106,
   "metadata": {},
   "outputs": [],
   "source": [
    "newdf['date'] = pd.to_datetime(newdf['date'])"
   ]
  },
  {
   "cell_type": "code",
   "execution_count": 107,
   "metadata": {},
   "outputs": [],
   "source": [
    "newdf.set_index('date', inplace = True)"
   ]
  },
  {
   "cell_type": "code",
   "execution_count": 108,
   "metadata": {},
   "outputs": [],
   "source": [
    "newdf = newdf.interpolate(method = 'cubic', limit_area = 'inside')\n",
    "newdf = newdf.fillna(method = 'bfill')\n",
    "newdf = newdf.fillna(method = 'ffill')"
   ]
  },
  {
   "cell_type": "code",
   "execution_count": 109,
   "metadata": {},
   "outputs": [
    {
     "data": {
      "text/plain": [
       "416"
      ]
     },
     "execution_count": 109,
     "metadata": {},
     "output_type": "execute_result"
    }
   ],
   "source": [
    "len(newdf.columns)"
   ]
  },
  {
   "cell_type": "code",
   "execution_count": 110,
   "metadata": {},
   "outputs": [
    {
     "data": {
      "text/plain": [
       "0"
      ]
     },
     "execution_count": 110,
     "metadata": {},
     "output_type": "execute_result"
    }
   ],
   "source": [
    "newdf.isna().sum().sum()"
   ]
  },
  {
   "cell_type": "code",
   "execution_count": 111,
   "metadata": {},
   "outputs": [],
   "source": [
    "cla = Builder(newdf, mmdf)"
   ]
  },
  {
   "cell_type": "code",
   "execution_count": 112,
   "metadata": {},
   "outputs": [
    {
     "data": {
      "text/html": [
       "<div>\n",
       "<style scoped>\n",
       "    .dataframe tbody tr th:only-of-type {\n",
       "        vertical-align: middle;\n",
       "    }\n",
       "\n",
       "    .dataframe tbody tr th {\n",
       "        vertical-align: top;\n",
       "    }\n",
       "\n",
       "    .dataframe thead th {\n",
       "        text-align: right;\n",
       "    }\n",
       "</style>\n",
       "<table border=\"1\" class=\"dataframe\">\n",
       "  <thead>\n",
       "    <tr style=\"text-align: right;\">\n",
       "      <th></th>\n",
       "      <th>GDPCQOQIndex</th>\n",
       "      <th>GDPCYOYIndex</th>\n",
       "      <th>GDPCTOT%Index</th>\n",
       "      <th>GPDITOC%Index</th>\n",
       "      <th>GPGSTOC%Index</th>\n",
       "      <th>RGCDCIPIIndex</th>\n",
       "      <th>GDPCUR$Index</th>\n",
       "      <th>GDPCURYIndex</th>\n",
       "      <th>GDPPIQQIndex</th>\n",
       "      <th>GDPCPCECIndex</th>\n",
       "      <th>CPIYOYIndex</th>\n",
       "      <th>CPIXYOYIndex</th>\n",
       "      <th>PCEDEFYIndex</th>\n",
       "      <th>PCECYOYIndex</th>\n",
       "      <th>CPICHNGIndex</th>\n",
       "      <th>CPUPXCHGIndex</th>\n",
       "      <th>FDIDFDMOIndex</th>\n",
       "      <th>FDIDSGMOIndex</th>\n",
       "      <th>FDIUFDYOIndex</th>\n",
       "      <th>FDIUSGYOIndex</th>\n",
       "      <th>USURTOTIndex</th>\n",
       "      <th>USUDMAERIndex</th>\n",
       "      <th>INJCJCIndex</th>\n",
       "      <th>INJCSPIndex</th>\n",
       "      <th>NFPTCHIndex</th>\n",
       "      <th>...</th>\n",
       "      <th>AMD_product</th>\n",
       "      <th>APPLE_product</th>\n",
       "      <th>AppliedMaterials_product</th>\n",
       "      <th>Aspeed_product</th>\n",
       "      <th>Dell_product</th>\n",
       "      <th>Facebook_product</th>\n",
       "      <th>Google_product</th>\n",
       "      <th>HPE_product</th>\n",
       "      <th>Intel_product</th>\n",
       "      <th>LamResearch_product</th>\n",
       "      <th>MediaTek_product</th>\n",
       "      <th>Micron_product</th>\n",
       "      <th>Microsoft_product</th>\n",
       "      <th>Nuvoton_product</th>\n",
       "      <th>Nvidia_product</th>\n",
       "      <th>Philadelphia_product</th>\n",
       "      <th>QCOM_product</th>\n",
       "      <th>SamsungElectronics_product</th>\n",
       "      <th>ShinEtsuChemical_product</th>\n",
       "      <th>Siltronic_product</th>\n",
       "      <th>SKhynix_product</th>\n",
       "      <th>Sumco_product</th>\n",
       "      <th>TokyoElectron_product</th>\n",
       "      <th>TSMC_product</th>\n",
       "      <th>UMC_product</th>\n",
       "    </tr>\n",
       "    <tr>\n",
       "      <th>date</th>\n",
       "      <th></th>\n",
       "      <th></th>\n",
       "      <th></th>\n",
       "      <th></th>\n",
       "      <th></th>\n",
       "      <th></th>\n",
       "      <th></th>\n",
       "      <th></th>\n",
       "      <th></th>\n",
       "      <th></th>\n",
       "      <th></th>\n",
       "      <th></th>\n",
       "      <th></th>\n",
       "      <th></th>\n",
       "      <th></th>\n",
       "      <th></th>\n",
       "      <th></th>\n",
       "      <th></th>\n",
       "      <th></th>\n",
       "      <th></th>\n",
       "      <th></th>\n",
       "      <th></th>\n",
       "      <th></th>\n",
       "      <th></th>\n",
       "      <th></th>\n",
       "      <th></th>\n",
       "      <th></th>\n",
       "      <th></th>\n",
       "      <th></th>\n",
       "      <th></th>\n",
       "      <th></th>\n",
       "      <th></th>\n",
       "      <th></th>\n",
       "      <th></th>\n",
       "      <th></th>\n",
       "      <th></th>\n",
       "      <th></th>\n",
       "      <th></th>\n",
       "      <th></th>\n",
       "      <th></th>\n",
       "      <th></th>\n",
       "      <th></th>\n",
       "      <th></th>\n",
       "      <th></th>\n",
       "      <th></th>\n",
       "      <th></th>\n",
       "      <th></th>\n",
       "      <th></th>\n",
       "      <th></th>\n",
       "      <th></th>\n",
       "      <th></th>\n",
       "    </tr>\n",
       "  </thead>\n",
       "  <tbody>\n",
       "    <tr>\n",
       "      <th>2006-01-02</th>\n",
       "      <td>5.4</td>\n",
       "      <td>3.4</td>\n",
       "      <td>4.5</td>\n",
       "      <td>6.1</td>\n",
       "      <td>5.2</td>\n",
       "      <td>102.7</td>\n",
       "      <td>13603.93</td>\n",
       "      <td>6.6</td>\n",
       "      <td>2.8</td>\n",
       "      <td>2.3</td>\n",
       "      <td>4.0</td>\n",
       "      <td>2.1</td>\n",
       "      <td>3.2</td>\n",
       "      <td>2.06622</td>\n",
       "      <td>0.6</td>\n",
       "      <td>0.2</td>\n",
       "      <td>0.1</td>\n",
       "      <td>0.3</td>\n",
       "      <td>2.6</td>\n",
       "      <td>2.2</td>\n",
       "      <td>4.700000</td>\n",
       "      <td>8.400000</td>\n",
       "      <td>326.0</td>\n",
       "      <td>2561.0</td>\n",
       "      <td>278.000000</td>\n",
       "      <td>...</td>\n",
       "      <td>NaN</td>\n",
       "      <td>NaN</td>\n",
       "      <td>NaN</td>\n",
       "      <td>NaN</td>\n",
       "      <td>NaN</td>\n",
       "      <td>NaN</td>\n",
       "      <td>NaN</td>\n",
       "      <td>NaN</td>\n",
       "      <td>NaN</td>\n",
       "      <td>NaN</td>\n",
       "      <td>NaN</td>\n",
       "      <td>NaN</td>\n",
       "      <td>NaN</td>\n",
       "      <td>NaN</td>\n",
       "      <td>NaN</td>\n",
       "      <td>NaN</td>\n",
       "      <td>NaN</td>\n",
       "      <td>NaN</td>\n",
       "      <td>NaN</td>\n",
       "      <td>NaN</td>\n",
       "      <td>NaN</td>\n",
       "      <td>NaN</td>\n",
       "      <td>NaN</td>\n",
       "      <td>NaN</td>\n",
       "      <td>NaN</td>\n",
       "    </tr>\n",
       "    <tr>\n",
       "      <th>2006-01-03</th>\n",
       "      <td>5.4</td>\n",
       "      <td>3.4</td>\n",
       "      <td>4.5</td>\n",
       "      <td>6.1</td>\n",
       "      <td>5.2</td>\n",
       "      <td>102.7</td>\n",
       "      <td>13603.93</td>\n",
       "      <td>6.6</td>\n",
       "      <td>2.8</td>\n",
       "      <td>2.3</td>\n",
       "      <td>4.0</td>\n",
       "      <td>2.1</td>\n",
       "      <td>3.2</td>\n",
       "      <td>2.06622</td>\n",
       "      <td>0.6</td>\n",
       "      <td>0.2</td>\n",
       "      <td>0.1</td>\n",
       "      <td>0.3</td>\n",
       "      <td>2.6</td>\n",
       "      <td>2.2</td>\n",
       "      <td>4.700000</td>\n",
       "      <td>8.400000</td>\n",
       "      <td>326.0</td>\n",
       "      <td>2561.0</td>\n",
       "      <td>278.000000</td>\n",
       "      <td>...</td>\n",
       "      <td>1.000000</td>\n",
       "      <td>1.000000</td>\n",
       "      <td>1.000000</td>\n",
       "      <td>1.000000</td>\n",
       "      <td>1.000000</td>\n",
       "      <td>1.000000</td>\n",
       "      <td>1.000000</td>\n",
       "      <td>1.000000</td>\n",
       "      <td>1.000000</td>\n",
       "      <td>1.000000</td>\n",
       "      <td>1.000000</td>\n",
       "      <td>1.000000</td>\n",
       "      <td>1.000000</td>\n",
       "      <td>1.000000</td>\n",
       "      <td>1.000000</td>\n",
       "      <td>1.000000</td>\n",
       "      <td>1.000000</td>\n",
       "      <td>0.862009</td>\n",
       "      <td>1.000000</td>\n",
       "      <td>1.000000</td>\n",
       "      <td>1.048766</td>\n",
       "      <td>1.000000</td>\n",
       "      <td>1.000000</td>\n",
       "      <td>1.000000</td>\n",
       "      <td>1.000000</td>\n",
       "    </tr>\n",
       "    <tr>\n",
       "      <th>2006-01-04</th>\n",
       "      <td>5.4</td>\n",
       "      <td>3.4</td>\n",
       "      <td>4.5</td>\n",
       "      <td>6.1</td>\n",
       "      <td>5.2</td>\n",
       "      <td>102.7</td>\n",
       "      <td>13603.93</td>\n",
       "      <td>6.6</td>\n",
       "      <td>2.8</td>\n",
       "      <td>2.3</td>\n",
       "      <td>4.0</td>\n",
       "      <td>2.1</td>\n",
       "      <td>3.2</td>\n",
       "      <td>2.06622</td>\n",
       "      <td>0.6</td>\n",
       "      <td>0.2</td>\n",
       "      <td>0.1</td>\n",
       "      <td>0.3</td>\n",
       "      <td>2.6</td>\n",
       "      <td>2.2</td>\n",
       "      <td>4.700000</td>\n",
       "      <td>8.400000</td>\n",
       "      <td>326.0</td>\n",
       "      <td>2561.0</td>\n",
       "      <td>278.000000</td>\n",
       "      <td>...</td>\n",
       "      <td>0.682030</td>\n",
       "      <td>0.771197</td>\n",
       "      <td>1.026287</td>\n",
       "      <td>1.000000</td>\n",
       "      <td>1.000000</td>\n",
       "      <td>1.000000</td>\n",
       "      <td>1.223552</td>\n",
       "      <td>1.000000</td>\n",
       "      <td>0.829714</td>\n",
       "      <td>0.967572</td>\n",
       "      <td>1.000000</td>\n",
       "      <td>1.380558</td>\n",
       "      <td>0.743634</td>\n",
       "      <td>1.000000</td>\n",
       "      <td>1.109161</td>\n",
       "      <td>0.967923</td>\n",
       "      <td>1.097724</td>\n",
       "      <td>2.307115</td>\n",
       "      <td>1.000000</td>\n",
       "      <td>1.000000</td>\n",
       "      <td>1.549763</td>\n",
       "      <td>1.000000</td>\n",
       "      <td>1.000000</td>\n",
       "      <td>0.788606</td>\n",
       "      <td>0.581332</td>\n",
       "    </tr>\n",
       "    <tr>\n",
       "      <th>2006-01-05</th>\n",
       "      <td>5.4</td>\n",
       "      <td>3.4</td>\n",
       "      <td>4.5</td>\n",
       "      <td>6.1</td>\n",
       "      <td>5.2</td>\n",
       "      <td>102.7</td>\n",
       "      <td>13603.93</td>\n",
       "      <td>6.6</td>\n",
       "      <td>2.8</td>\n",
       "      <td>2.3</td>\n",
       "      <td>4.0</td>\n",
       "      <td>2.1</td>\n",
       "      <td>3.2</td>\n",
       "      <td>2.06622</td>\n",
       "      <td>0.6</td>\n",
       "      <td>0.2</td>\n",
       "      <td>0.1</td>\n",
       "      <td>0.3</td>\n",
       "      <td>2.6</td>\n",
       "      <td>2.2</td>\n",
       "      <td>4.700000</td>\n",
       "      <td>8.400000</td>\n",
       "      <td>326.0</td>\n",
       "      <td>2561.0</td>\n",
       "      <td>278.000000</td>\n",
       "      <td>...</td>\n",
       "      <td>1.264163</td>\n",
       "      <td>0.718678</td>\n",
       "      <td>1.094089</td>\n",
       "      <td>1.000000</td>\n",
       "      <td>1.000000</td>\n",
       "      <td>1.000000</td>\n",
       "      <td>0.710449</td>\n",
       "      <td>1.000000</td>\n",
       "      <td>1.204864</td>\n",
       "      <td>0.824310</td>\n",
       "      <td>1.000000</td>\n",
       "      <td>0.901202</td>\n",
       "      <td>0.836536</td>\n",
       "      <td>1.000000</td>\n",
       "      <td>1.294707</td>\n",
       "      <td>1.168471</td>\n",
       "      <td>0.642743</td>\n",
       "      <td>0.878133</td>\n",
       "      <td>1.000000</td>\n",
       "      <td>1.000000</td>\n",
       "      <td>0.913503</td>\n",
       "      <td>1.000000</td>\n",
       "      <td>4.149537</td>\n",
       "      <td>0.835657</td>\n",
       "      <td>2.780952</td>\n",
       "    </tr>\n",
       "    <tr>\n",
       "      <th>2006-01-06</th>\n",
       "      <td>5.4</td>\n",
       "      <td>3.4</td>\n",
       "      <td>4.5</td>\n",
       "      <td>6.1</td>\n",
       "      <td>5.2</td>\n",
       "      <td>102.7</td>\n",
       "      <td>13603.93</td>\n",
       "      <td>6.6</td>\n",
       "      <td>2.8</td>\n",
       "      <td>2.3</td>\n",
       "      <td>4.0</td>\n",
       "      <td>2.1</td>\n",
       "      <td>3.2</td>\n",
       "      <td>2.06622</td>\n",
       "      <td>0.6</td>\n",
       "      <td>0.2</td>\n",
       "      <td>0.1</td>\n",
       "      <td>0.3</td>\n",
       "      <td>2.6</td>\n",
       "      <td>2.2</td>\n",
       "      <td>4.700000</td>\n",
       "      <td>8.400000</td>\n",
       "      <td>326.0</td>\n",
       "      <td>2561.0</td>\n",
       "      <td>278.000000</td>\n",
       "      <td>...</td>\n",
       "      <td>0.966656</td>\n",
       "      <td>1.606885</td>\n",
       "      <td>1.514631</td>\n",
       "      <td>1.000000</td>\n",
       "      <td>1.000000</td>\n",
       "      <td>1.000000</td>\n",
       "      <td>1.685084</td>\n",
       "      <td>1.000000</td>\n",
       "      <td>0.833842</td>\n",
       "      <td>1.282477</td>\n",
       "      <td>1.000000</td>\n",
       "      <td>0.947752</td>\n",
       "      <td>2.059981</td>\n",
       "      <td>1.000000</td>\n",
       "      <td>0.980556</td>\n",
       "      <td>1.047620</td>\n",
       "      <td>2.572150</td>\n",
       "      <td>0.504080</td>\n",
       "      <td>1.000000</td>\n",
       "      <td>1.000000</td>\n",
       "      <td>0.596882</td>\n",
       "      <td>1.000000</td>\n",
       "      <td>1.117321</td>\n",
       "      <td>1.553101</td>\n",
       "      <td>1.545230</td>\n",
       "    </tr>\n",
       "    <tr>\n",
       "      <th>...</th>\n",
       "      <td>...</td>\n",
       "      <td>...</td>\n",
       "      <td>...</td>\n",
       "      <td>...</td>\n",
       "      <td>...</td>\n",
       "      <td>...</td>\n",
       "      <td>...</td>\n",
       "      <td>...</td>\n",
       "      <td>...</td>\n",
       "      <td>...</td>\n",
       "      <td>...</td>\n",
       "      <td>...</td>\n",
       "      <td>...</td>\n",
       "      <td>...</td>\n",
       "      <td>...</td>\n",
       "      <td>...</td>\n",
       "      <td>...</td>\n",
       "      <td>...</td>\n",
       "      <td>...</td>\n",
       "      <td>...</td>\n",
       "      <td>...</td>\n",
       "      <td>...</td>\n",
       "      <td>...</td>\n",
       "      <td>...</td>\n",
       "      <td>...</td>\n",
       "      <td>...</td>\n",
       "      <td>...</td>\n",
       "      <td>...</td>\n",
       "      <td>...</td>\n",
       "      <td>...</td>\n",
       "      <td>...</td>\n",
       "      <td>...</td>\n",
       "      <td>...</td>\n",
       "      <td>...</td>\n",
       "      <td>...</td>\n",
       "      <td>...</td>\n",
       "      <td>...</td>\n",
       "      <td>...</td>\n",
       "      <td>...</td>\n",
       "      <td>...</td>\n",
       "      <td>...</td>\n",
       "      <td>...</td>\n",
       "      <td>...</td>\n",
       "      <td>...</td>\n",
       "      <td>...</td>\n",
       "      <td>...</td>\n",
       "      <td>...</td>\n",
       "      <td>...</td>\n",
       "      <td>...</td>\n",
       "      <td>...</td>\n",
       "      <td>...</td>\n",
       "    </tr>\n",
       "    <tr>\n",
       "      <th>2019-10-27</th>\n",
       "      <td>1.9</td>\n",
       "      <td>2.0</td>\n",
       "      <td>2.9</td>\n",
       "      <td>-1.5</td>\n",
       "      <td>2.0</td>\n",
       "      <td>69.0</td>\n",
       "      <td>21525.82</td>\n",
       "      <td>3.7</td>\n",
       "      <td>1.7</td>\n",
       "      <td>2.2</td>\n",
       "      <td>1.7</td>\n",
       "      <td>2.4</td>\n",
       "      <td>1.3</td>\n",
       "      <td>1.66611</td>\n",
       "      <td>0.0</td>\n",
       "      <td>0.1</td>\n",
       "      <td>-0.3</td>\n",
       "      <td>-0.3</td>\n",
       "      <td>1.4</td>\n",
       "      <td>2.0</td>\n",
       "      <td>3.543428</td>\n",
       "      <td>6.908116</td>\n",
       "      <td>218.0</td>\n",
       "      <td>1690.0</td>\n",
       "      <td>128.639710</td>\n",
       "      <td>...</td>\n",
       "      <td>0.900501</td>\n",
       "      <td>1.010875</td>\n",
       "      <td>1.764097</td>\n",
       "      <td>0.820641</td>\n",
       "      <td>0.808665</td>\n",
       "      <td>1.410060</td>\n",
       "      <td>1.415943</td>\n",
       "      <td>0.954658</td>\n",
       "      <td>0.776571</td>\n",
       "      <td>2.092578</td>\n",
       "      <td>0.829932</td>\n",
       "      <td>1.022473</td>\n",
       "      <td>1.347411</td>\n",
       "      <td>1.486079</td>\n",
       "      <td>0.898487</td>\n",
       "      <td>0.954025</td>\n",
       "      <td>1.223596</td>\n",
       "      <td>-7.016632</td>\n",
       "      <td>1.443049</td>\n",
       "      <td>0.882592</td>\n",
       "      <td>0.724875</td>\n",
       "      <td>0.591650</td>\n",
       "      <td>1.185079</td>\n",
       "      <td>0.728242</td>\n",
       "      <td>8.957344</td>\n",
       "    </tr>\n",
       "    <tr>\n",
       "      <th>2019-10-28</th>\n",
       "      <td>1.9</td>\n",
       "      <td>2.0</td>\n",
       "      <td>2.9</td>\n",
       "      <td>-1.5</td>\n",
       "      <td>2.0</td>\n",
       "      <td>69.0</td>\n",
       "      <td>21525.82</td>\n",
       "      <td>3.7</td>\n",
       "      <td>1.7</td>\n",
       "      <td>2.2</td>\n",
       "      <td>1.7</td>\n",
       "      <td>2.4</td>\n",
       "      <td>1.3</td>\n",
       "      <td>1.66611</td>\n",
       "      <td>0.0</td>\n",
       "      <td>0.1</td>\n",
       "      <td>-0.3</td>\n",
       "      <td>-0.3</td>\n",
       "      <td>1.4</td>\n",
       "      <td>2.0</td>\n",
       "      <td>3.556001</td>\n",
       "      <td>6.928135</td>\n",
       "      <td>218.0</td>\n",
       "      <td>1690.0</td>\n",
       "      <td>128.219228</td>\n",
       "      <td>...</td>\n",
       "      <td>1.213115</td>\n",
       "      <td>1.395378</td>\n",
       "      <td>1.417193</td>\n",
       "      <td>0.968297</td>\n",
       "      <td>1.516745</td>\n",
       "      <td>1.109701</td>\n",
       "      <td>1.114263</td>\n",
       "      <td>1.105058</td>\n",
       "      <td>0.581300</td>\n",
       "      <td>1.697246</td>\n",
       "      <td>3.008876</td>\n",
       "      <td>0.982582</td>\n",
       "      <td>1.005550</td>\n",
       "      <td>0.918295</td>\n",
       "      <td>0.709275</td>\n",
       "      <td>0.988696</td>\n",
       "      <td>0.869484</td>\n",
       "      <td>3.268112</td>\n",
       "      <td>0.911087</td>\n",
       "      <td>0.984864</td>\n",
       "      <td>0.598464</td>\n",
       "      <td>0.436636</td>\n",
       "      <td>1.103782</td>\n",
       "      <td>1.596400</td>\n",
       "      <td>-4.887075</td>\n",
       "    </tr>\n",
       "    <tr>\n",
       "      <th>2019-10-29</th>\n",
       "      <td>1.9</td>\n",
       "      <td>2.0</td>\n",
       "      <td>2.9</td>\n",
       "      <td>-1.5</td>\n",
       "      <td>2.0</td>\n",
       "      <td>69.0</td>\n",
       "      <td>21525.82</td>\n",
       "      <td>3.7</td>\n",
       "      <td>1.7</td>\n",
       "      <td>2.2</td>\n",
       "      <td>1.7</td>\n",
       "      <td>2.4</td>\n",
       "      <td>1.3</td>\n",
       "      <td>1.66611</td>\n",
       "      <td>0.0</td>\n",
       "      <td>0.1</td>\n",
       "      <td>-0.3</td>\n",
       "      <td>-0.3</td>\n",
       "      <td>1.4</td>\n",
       "      <td>2.0</td>\n",
       "      <td>3.569604</td>\n",
       "      <td>6.950086</td>\n",
       "      <td>218.0</td>\n",
       "      <td>1690.0</td>\n",
       "      <td>127.968071</td>\n",
       "      <td>...</td>\n",
       "      <td>1.506408</td>\n",
       "      <td>1.445075</td>\n",
       "      <td>0.717119</td>\n",
       "      <td>1.250066</td>\n",
       "      <td>1.680148</td>\n",
       "      <td>1.011607</td>\n",
       "      <td>0.793725</td>\n",
       "      <td>1.167880</td>\n",
       "      <td>0.557896</td>\n",
       "      <td>0.832619</td>\n",
       "      <td>1.914615</td>\n",
       "      <td>0.789692</td>\n",
       "      <td>0.580119</td>\n",
       "      <td>0.417745</td>\n",
       "      <td>0.626504</td>\n",
       "      <td>1.023202</td>\n",
       "      <td>0.493114</td>\n",
       "      <td>1.174228</td>\n",
       "      <td>0.410159</td>\n",
       "      <td>1.089446</td>\n",
       "      <td>0.832789</td>\n",
       "      <td>1.231150</td>\n",
       "      <td>1.131356</td>\n",
       "      <td>1.864625</td>\n",
       "      <td>2.523049</td>\n",
       "    </tr>\n",
       "    <tr>\n",
       "      <th>2019-10-30</th>\n",
       "      <td>1.9</td>\n",
       "      <td>2.0</td>\n",
       "      <td>2.9</td>\n",
       "      <td>-1.5</td>\n",
       "      <td>2.0</td>\n",
       "      <td>69.0</td>\n",
       "      <td>21525.82</td>\n",
       "      <td>3.7</td>\n",
       "      <td>1.7</td>\n",
       "      <td>2.2</td>\n",
       "      <td>1.7</td>\n",
       "      <td>2.4</td>\n",
       "      <td>1.3</td>\n",
       "      <td>1.66611</td>\n",
       "      <td>0.0</td>\n",
       "      <td>0.1</td>\n",
       "      <td>-0.3</td>\n",
       "      <td>-0.3</td>\n",
       "      <td>1.4</td>\n",
       "      <td>2.0</td>\n",
       "      <td>3.584262</td>\n",
       "      <td>6.974023</td>\n",
       "      <td>218.0</td>\n",
       "      <td>1690.0</td>\n",
       "      <td>127.892806</td>\n",
       "      <td>...</td>\n",
       "      <td>0.997037</td>\n",
       "      <td>0.871637</td>\n",
       "      <td>0.660472</td>\n",
       "      <td>0.599521</td>\n",
       "      <td>0.656067</td>\n",
       "      <td>2.089199</td>\n",
       "      <td>0.552940</td>\n",
       "      <td>0.991999</td>\n",
       "      <td>0.843633</td>\n",
       "      <td>0.559295</td>\n",
       "      <td>0.826001</td>\n",
       "      <td>1.056501</td>\n",
       "      <td>0.899376</td>\n",
       "      <td>0.506841</td>\n",
       "      <td>0.975763</td>\n",
       "      <td>0.925346</td>\n",
       "      <td>0.793448</td>\n",
       "      <td>1.165541</td>\n",
       "      <td>0.758679</td>\n",
       "      <td>1.083804</td>\n",
       "      <td>1.150234</td>\n",
       "      <td>0.694483</td>\n",
       "      <td>1.647300</td>\n",
       "      <td>0.877406</td>\n",
       "      <td>0.370442</td>\n",
       "    </tr>\n",
       "    <tr>\n",
       "      <th>2019-10-31</th>\n",
       "      <td>1.9</td>\n",
       "      <td>2.0</td>\n",
       "      <td>2.9</td>\n",
       "      <td>-1.5</td>\n",
       "      <td>2.0</td>\n",
       "      <td>69.0</td>\n",
       "      <td>21525.82</td>\n",
       "      <td>3.7</td>\n",
       "      <td>1.7</td>\n",
       "      <td>2.2</td>\n",
       "      <td>1.7</td>\n",
       "      <td>2.4</td>\n",
       "      <td>1.3</td>\n",
       "      <td>1.66611</td>\n",
       "      <td>0.0</td>\n",
       "      <td>0.1</td>\n",
       "      <td>-0.3</td>\n",
       "      <td>-0.3</td>\n",
       "      <td>1.4</td>\n",
       "      <td>2.0</td>\n",
       "      <td>3.600000</td>\n",
       "      <td>7.000000</td>\n",
       "      <td>218.0</td>\n",
       "      <td>1690.0</td>\n",
       "      <td>128.000000</td>\n",
       "      <td>...</td>\n",
       "      <td>0.888650</td>\n",
       "      <td>1.142839</td>\n",
       "      <td>1.553683</td>\n",
       "      <td>0.854794</td>\n",
       "      <td>0.895231</td>\n",
       "      <td>1.489947</td>\n",
       "      <td>1.094865</td>\n",
       "      <td>0.881892</td>\n",
       "      <td>1.260734</td>\n",
       "      <td>2.250674</td>\n",
       "      <td>2.198532</td>\n",
       "      <td>1.186660</td>\n",
       "      <td>1.332134</td>\n",
       "      <td>1.373651</td>\n",
       "      <td>1.007552</td>\n",
       "      <td>1.120675</td>\n",
       "      <td>1.415651</td>\n",
       "      <td>1.150159</td>\n",
       "      <td>2.028561</td>\n",
       "      <td>1.141342</td>\n",
       "      <td>1.033135</td>\n",
       "      <td>1.118354</td>\n",
       "      <td>1.453485</td>\n",
       "      <td>1.324952</td>\n",
       "      <td>2.656823</td>\n",
       "    </tr>\n",
       "  </tbody>\n",
       "</table>\n",
       "<p>5051 rows × 442 columns</p>\n",
       "</div>"
      ],
      "text/plain": [
       "            GDPCQOQIndex  GDPCYOYIndex  GDPCTOT%Index  GPDITOC%Index  GPGSTOC%Index  \\\n",
       "date                                                                                  \n",
       "2006-01-02           5.4           3.4            4.5            6.1            5.2   \n",
       "2006-01-03           5.4           3.4            4.5            6.1            5.2   \n",
       "2006-01-04           5.4           3.4            4.5            6.1            5.2   \n",
       "2006-01-05           5.4           3.4            4.5            6.1            5.2   \n",
       "2006-01-06           5.4           3.4            4.5            6.1            5.2   \n",
       "...                  ...           ...            ...            ...            ...   \n",
       "2019-10-27           1.9           2.0            2.9           -1.5            2.0   \n",
       "2019-10-28           1.9           2.0            2.9           -1.5            2.0   \n",
       "2019-10-29           1.9           2.0            2.9           -1.5            2.0   \n",
       "2019-10-30           1.9           2.0            2.9           -1.5            2.0   \n",
       "2019-10-31           1.9           2.0            2.9           -1.5            2.0   \n",
       "\n",
       "            RGCDCIPIIndex  GDPCUR$Index  GDPCURYIndex  GDPPIQQIndex  GDPCPCECIndex  CPIYOYIndex  \\\n",
       "date                                                                                              \n",
       "2006-01-02          102.7      13603.93           6.6           2.8            2.3          4.0   \n",
       "2006-01-03          102.7      13603.93           6.6           2.8            2.3          4.0   \n",
       "2006-01-04          102.7      13603.93           6.6           2.8            2.3          4.0   \n",
       "2006-01-05          102.7      13603.93           6.6           2.8            2.3          4.0   \n",
       "2006-01-06          102.7      13603.93           6.6           2.8            2.3          4.0   \n",
       "...                   ...           ...           ...           ...            ...          ...   \n",
       "2019-10-27           69.0      21525.82           3.7           1.7            2.2          1.7   \n",
       "2019-10-28           69.0      21525.82           3.7           1.7            2.2          1.7   \n",
       "2019-10-29           69.0      21525.82           3.7           1.7            2.2          1.7   \n",
       "2019-10-30           69.0      21525.82           3.7           1.7            2.2          1.7   \n",
       "2019-10-31           69.0      21525.82           3.7           1.7            2.2          1.7   \n",
       "\n",
       "            CPIXYOYIndex  PCEDEFYIndex  PCECYOYIndex  CPICHNGIndex  CPUPXCHGIndex  FDIDFDMOIndex  \\\n",
       "date                                                                                               \n",
       "2006-01-02           2.1           3.2       2.06622           0.6            0.2            0.1   \n",
       "2006-01-03           2.1           3.2       2.06622           0.6            0.2            0.1   \n",
       "2006-01-04           2.1           3.2       2.06622           0.6            0.2            0.1   \n",
       "2006-01-05           2.1           3.2       2.06622           0.6            0.2            0.1   \n",
       "2006-01-06           2.1           3.2       2.06622           0.6            0.2            0.1   \n",
       "...                  ...           ...           ...           ...            ...            ...   \n",
       "2019-10-27           2.4           1.3       1.66611           0.0            0.1           -0.3   \n",
       "2019-10-28           2.4           1.3       1.66611           0.0            0.1           -0.3   \n",
       "2019-10-29           2.4           1.3       1.66611           0.0            0.1           -0.3   \n",
       "2019-10-30           2.4           1.3       1.66611           0.0            0.1           -0.3   \n",
       "2019-10-31           2.4           1.3       1.66611           0.0            0.1           -0.3   \n",
       "\n",
       "            FDIDSGMOIndex  FDIUFDYOIndex  FDIUSGYOIndex  USURTOTIndex  USUDMAERIndex  INJCJCIndex  \\\n",
       "date                                                                                                \n",
       "2006-01-02            0.3            2.6            2.2      4.700000       8.400000        326.0   \n",
       "2006-01-03            0.3            2.6            2.2      4.700000       8.400000        326.0   \n",
       "2006-01-04            0.3            2.6            2.2      4.700000       8.400000        326.0   \n",
       "2006-01-05            0.3            2.6            2.2      4.700000       8.400000        326.0   \n",
       "2006-01-06            0.3            2.6            2.2      4.700000       8.400000        326.0   \n",
       "...                   ...            ...            ...           ...            ...          ...   \n",
       "2019-10-27           -0.3            1.4            2.0      3.543428       6.908116        218.0   \n",
       "2019-10-28           -0.3            1.4            2.0      3.556001       6.928135        218.0   \n",
       "2019-10-29           -0.3            1.4            2.0      3.569604       6.950086        218.0   \n",
       "2019-10-30           -0.3            1.4            2.0      3.584262       6.974023        218.0   \n",
       "2019-10-31           -0.3            1.4            2.0      3.600000       7.000000        218.0   \n",
       "\n",
       "            INJCSPIndex  NFPTCHIndex  ...  AMD_product  APPLE_product  AppliedMaterials_product  \\\n",
       "date                                  ...                                                         \n",
       "2006-01-02       2561.0   278.000000  ...          NaN            NaN                       NaN   \n",
       "2006-01-03       2561.0   278.000000  ...     1.000000       1.000000                  1.000000   \n",
       "2006-01-04       2561.0   278.000000  ...     0.682030       0.771197                  1.026287   \n",
       "2006-01-05       2561.0   278.000000  ...     1.264163       0.718678                  1.094089   \n",
       "2006-01-06       2561.0   278.000000  ...     0.966656       1.606885                  1.514631   \n",
       "...                 ...          ...  ...          ...            ...                       ...   \n",
       "2019-10-27       1690.0   128.639710  ...     0.900501       1.010875                  1.764097   \n",
       "2019-10-28       1690.0   128.219228  ...     1.213115       1.395378                  1.417193   \n",
       "2019-10-29       1690.0   127.968071  ...     1.506408       1.445075                  0.717119   \n",
       "2019-10-30       1690.0   127.892806  ...     0.997037       0.871637                  0.660472   \n",
       "2019-10-31       1690.0   128.000000  ...     0.888650       1.142839                  1.553683   \n",
       "\n",
       "            Aspeed_product  Dell_product  Facebook_product  Google_product  HPE_product  \\\n",
       "date                                                                                      \n",
       "2006-01-02             NaN           NaN               NaN             NaN          NaN   \n",
       "2006-01-03        1.000000      1.000000          1.000000        1.000000     1.000000   \n",
       "2006-01-04        1.000000      1.000000          1.000000        1.223552     1.000000   \n",
       "2006-01-05        1.000000      1.000000          1.000000        0.710449     1.000000   \n",
       "2006-01-06        1.000000      1.000000          1.000000        1.685084     1.000000   \n",
       "...                    ...           ...               ...             ...          ...   \n",
       "2019-10-27        0.820641      0.808665          1.410060        1.415943     0.954658   \n",
       "2019-10-28        0.968297      1.516745          1.109701        1.114263     1.105058   \n",
       "2019-10-29        1.250066      1.680148          1.011607        0.793725     1.167880   \n",
       "2019-10-30        0.599521      0.656067          2.089199        0.552940     0.991999   \n",
       "2019-10-31        0.854794      0.895231          1.489947        1.094865     0.881892   \n",
       "\n",
       "            Intel_product  LamResearch_product  MediaTek_product  Micron_product  \\\n",
       "date                                                                               \n",
       "2006-01-02            NaN                  NaN               NaN             NaN   \n",
       "2006-01-03       1.000000             1.000000          1.000000        1.000000   \n",
       "2006-01-04       0.829714             0.967572          1.000000        1.380558   \n",
       "2006-01-05       1.204864             0.824310          1.000000        0.901202   \n",
       "2006-01-06       0.833842             1.282477          1.000000        0.947752   \n",
       "...                   ...                  ...               ...             ...   \n",
       "2019-10-27       0.776571             2.092578          0.829932        1.022473   \n",
       "2019-10-28       0.581300             1.697246          3.008876        0.982582   \n",
       "2019-10-29       0.557896             0.832619          1.914615        0.789692   \n",
       "2019-10-30       0.843633             0.559295          0.826001        1.056501   \n",
       "2019-10-31       1.260734             2.250674          2.198532        1.186660   \n",
       "\n",
       "            Microsoft_product  Nuvoton_product  Nvidia_product  Philadelphia_product  \\\n",
       "date                                                                                   \n",
       "2006-01-02                NaN              NaN             NaN                   NaN   \n",
       "2006-01-03           1.000000         1.000000        1.000000              1.000000   \n",
       "2006-01-04           0.743634         1.000000        1.109161              0.967923   \n",
       "2006-01-05           0.836536         1.000000        1.294707              1.168471   \n",
       "2006-01-06           2.059981         1.000000        0.980556              1.047620   \n",
       "...                       ...              ...             ...                   ...   \n",
       "2019-10-27           1.347411         1.486079        0.898487              0.954025   \n",
       "2019-10-28           1.005550         0.918295        0.709275              0.988696   \n",
       "2019-10-29           0.580119         0.417745        0.626504              1.023202   \n",
       "2019-10-30           0.899376         0.506841        0.975763              0.925346   \n",
       "2019-10-31           1.332134         1.373651        1.007552              1.120675   \n",
       "\n",
       "            QCOM_product  SamsungElectronics_product  ShinEtsuChemical_product  Siltronic_product  \\\n",
       "date                                                                                                \n",
       "2006-01-02           NaN                         NaN                       NaN                NaN   \n",
       "2006-01-03      1.000000                    0.862009                  1.000000           1.000000   \n",
       "2006-01-04      1.097724                    2.307115                  1.000000           1.000000   \n",
       "2006-01-05      0.642743                    0.878133                  1.000000           1.000000   \n",
       "2006-01-06      2.572150                    0.504080                  1.000000           1.000000   \n",
       "...                  ...                         ...                       ...                ...   \n",
       "2019-10-27      1.223596                   -7.016632                  1.443049           0.882592   \n",
       "2019-10-28      0.869484                    3.268112                  0.911087           0.984864   \n",
       "2019-10-29      0.493114                    1.174228                  0.410159           1.089446   \n",
       "2019-10-30      0.793448                    1.165541                  0.758679           1.083804   \n",
       "2019-10-31      1.415651                    1.150159                  2.028561           1.141342   \n",
       "\n",
       "            SKhynix_product  Sumco_product  TokyoElectron_product  TSMC_product  UMC_product  \n",
       "date                                                                                          \n",
       "2006-01-02              NaN            NaN                    NaN           NaN          NaN  \n",
       "2006-01-03         1.048766       1.000000               1.000000      1.000000     1.000000  \n",
       "2006-01-04         1.549763       1.000000               1.000000      0.788606     0.581332  \n",
       "2006-01-05         0.913503       1.000000               4.149537      0.835657     2.780952  \n",
       "2006-01-06         0.596882       1.000000               1.117321      1.553101     1.545230  \n",
       "...                     ...            ...                    ...           ...          ...  \n",
       "2019-10-27         0.724875       0.591650               1.185079      0.728242     8.957344  \n",
       "2019-10-28         0.598464       0.436636               1.103782      1.596400    -4.887075  \n",
       "2019-10-29         0.832789       1.231150               1.131356      1.864625     2.523049  \n",
       "2019-10-30         1.150234       0.694483               1.647300      0.877406     0.370442  \n",
       "2019-10-31         1.033135       1.118354               1.453485      1.324952     2.656823  \n",
       "\n",
       "[5051 rows x 442 columns]"
      ]
     },
     "execution_count": 112,
     "metadata": {},
     "output_type": "execute_result"
    }
   ],
   "source": [
    "cla.execution()"
   ]
  },
  {
   "cell_type": "code",
   "execution_count": 113,
   "metadata": {},
   "outputs": [],
   "source": [
    "newdf = cla.df.fillna(method = 'ffill').fillna(method = 'bfill')"
   ]
  },
  {
   "cell_type": "code",
   "execution_count": 114,
   "metadata": {},
   "outputs": [
    {
     "data": {
      "text/plain": [
       "0"
      ]
     },
     "execution_count": 114,
     "metadata": {},
     "output_type": "execute_result"
    }
   ],
   "source": [
    "newdf.isna().sum().sum()"
   ]
  },
  {
   "cell_type": "code",
   "execution_count": 115,
   "metadata": {},
   "outputs": [
    {
     "data": {
      "text/plain": [
       "442"
      ]
     },
     "execution_count": 115,
     "metadata": {},
     "output_type": "execute_result"
    }
   ],
   "source": [
    "len(newdf.columns)"
   ]
  },
  {
   "cell_type": "code",
   "execution_count": 116,
   "metadata": {},
   "outputs": [
    {
     "data": {
      "text/plain": [
       "0"
      ]
     },
     "execution_count": 116,
     "metadata": {},
     "output_type": "execute_result"
    }
   ],
   "source": [
    "newdf.isna().sum().sum()"
   ]
  },
  {
   "cell_type": "markdown",
   "metadata": {},
   "source": [
    "# Scaling"
   ]
  },
  {
   "cell_type": "code",
   "execution_count": 117,
   "metadata": {},
   "outputs": [],
   "source": [
    "newdf.reset_index(inplace = True)"
   ]
  },
  {
   "cell_type": "code",
   "execution_count": 118,
   "metadata": {},
   "outputs": [
    {
     "data": {
      "text/html": [
       "<div>\n",
       "<style scoped>\n",
       "    .dataframe tbody tr th:only-of-type {\n",
       "        vertical-align: middle;\n",
       "    }\n",
       "\n",
       "    .dataframe tbody tr th {\n",
       "        vertical-align: top;\n",
       "    }\n",
       "\n",
       "    .dataframe thead th {\n",
       "        text-align: right;\n",
       "    }\n",
       "</style>\n",
       "<table border=\"1\" class=\"dataframe\">\n",
       "  <thead>\n",
       "    <tr style=\"text-align: right;\">\n",
       "      <th></th>\n",
       "      <th>date</th>\n",
       "      <th>GDPCQOQIndex</th>\n",
       "      <th>GDPCYOYIndex</th>\n",
       "      <th>GDPCTOT%Index</th>\n",
       "      <th>GPDITOC%Index</th>\n",
       "      <th>GPGSTOC%Index</th>\n",
       "      <th>RGCDCIPIIndex</th>\n",
       "      <th>GDPCUR$Index</th>\n",
       "      <th>GDPCURYIndex</th>\n",
       "      <th>GDPPIQQIndex</th>\n",
       "      <th>GDPCPCECIndex</th>\n",
       "      <th>CPIYOYIndex</th>\n",
       "      <th>CPIXYOYIndex</th>\n",
       "      <th>PCEDEFYIndex</th>\n",
       "      <th>PCECYOYIndex</th>\n",
       "      <th>CPICHNGIndex</th>\n",
       "      <th>CPUPXCHGIndex</th>\n",
       "      <th>FDIDFDMOIndex</th>\n",
       "      <th>FDIDSGMOIndex</th>\n",
       "      <th>FDIUFDYOIndex</th>\n",
       "      <th>FDIUSGYOIndex</th>\n",
       "      <th>USURTOTIndex</th>\n",
       "      <th>USUDMAERIndex</th>\n",
       "      <th>INJCJCIndex</th>\n",
       "      <th>INJCSPIndex</th>\n",
       "      <th>...</th>\n",
       "      <th>AMD_product</th>\n",
       "      <th>APPLE_product</th>\n",
       "      <th>AppliedMaterials_product</th>\n",
       "      <th>Aspeed_product</th>\n",
       "      <th>Dell_product</th>\n",
       "      <th>Facebook_product</th>\n",
       "      <th>Google_product</th>\n",
       "      <th>HPE_product</th>\n",
       "      <th>Intel_product</th>\n",
       "      <th>LamResearch_product</th>\n",
       "      <th>MediaTek_product</th>\n",
       "      <th>Micron_product</th>\n",
       "      <th>Microsoft_product</th>\n",
       "      <th>Nuvoton_product</th>\n",
       "      <th>Nvidia_product</th>\n",
       "      <th>Philadelphia_product</th>\n",
       "      <th>QCOM_product</th>\n",
       "      <th>SamsungElectronics_product</th>\n",
       "      <th>ShinEtsuChemical_product</th>\n",
       "      <th>Siltronic_product</th>\n",
       "      <th>SKhynix_product</th>\n",
       "      <th>Sumco_product</th>\n",
       "      <th>TokyoElectron_product</th>\n",
       "      <th>TSMC_product</th>\n",
       "      <th>UMC_product</th>\n",
       "    </tr>\n",
       "  </thead>\n",
       "  <tbody>\n",
       "    <tr>\n",
       "      <th>0</th>\n",
       "      <td>2006-01-02</td>\n",
       "      <td>5.4</td>\n",
       "      <td>3.4</td>\n",
       "      <td>4.5</td>\n",
       "      <td>6.1</td>\n",
       "      <td>5.2</td>\n",
       "      <td>102.7</td>\n",
       "      <td>13603.93</td>\n",
       "      <td>6.6</td>\n",
       "      <td>2.8</td>\n",
       "      <td>2.3</td>\n",
       "      <td>4.0</td>\n",
       "      <td>2.1</td>\n",
       "      <td>3.2</td>\n",
       "      <td>2.06622</td>\n",
       "      <td>0.6</td>\n",
       "      <td>0.2</td>\n",
       "      <td>0.1</td>\n",
       "      <td>0.3</td>\n",
       "      <td>2.6</td>\n",
       "      <td>2.2</td>\n",
       "      <td>4.7</td>\n",
       "      <td>8.4</td>\n",
       "      <td>326.0</td>\n",
       "      <td>2561.0</td>\n",
       "      <td>...</td>\n",
       "      <td>1.000000</td>\n",
       "      <td>1.000000</td>\n",
       "      <td>1.000000</td>\n",
       "      <td>1.0</td>\n",
       "      <td>1.0</td>\n",
       "      <td>1.0</td>\n",
       "      <td>1.000000</td>\n",
       "      <td>1.0</td>\n",
       "      <td>1.000000</td>\n",
       "      <td>1.000000</td>\n",
       "      <td>1.0</td>\n",
       "      <td>1.000000</td>\n",
       "      <td>1.000000</td>\n",
       "      <td>1.0</td>\n",
       "      <td>1.000000</td>\n",
       "      <td>1.000000</td>\n",
       "      <td>1.000000</td>\n",
       "      <td>0.862009</td>\n",
       "      <td>1.0</td>\n",
       "      <td>1.0</td>\n",
       "      <td>1.048766</td>\n",
       "      <td>1.0</td>\n",
       "      <td>1.000000</td>\n",
       "      <td>1.000000</td>\n",
       "      <td>1.000000</td>\n",
       "    </tr>\n",
       "    <tr>\n",
       "      <th>1</th>\n",
       "      <td>2006-01-03</td>\n",
       "      <td>5.4</td>\n",
       "      <td>3.4</td>\n",
       "      <td>4.5</td>\n",
       "      <td>6.1</td>\n",
       "      <td>5.2</td>\n",
       "      <td>102.7</td>\n",
       "      <td>13603.93</td>\n",
       "      <td>6.6</td>\n",
       "      <td>2.8</td>\n",
       "      <td>2.3</td>\n",
       "      <td>4.0</td>\n",
       "      <td>2.1</td>\n",
       "      <td>3.2</td>\n",
       "      <td>2.06622</td>\n",
       "      <td>0.6</td>\n",
       "      <td>0.2</td>\n",
       "      <td>0.1</td>\n",
       "      <td>0.3</td>\n",
       "      <td>2.6</td>\n",
       "      <td>2.2</td>\n",
       "      <td>4.7</td>\n",
       "      <td>8.4</td>\n",
       "      <td>326.0</td>\n",
       "      <td>2561.0</td>\n",
       "      <td>...</td>\n",
       "      <td>1.000000</td>\n",
       "      <td>1.000000</td>\n",
       "      <td>1.000000</td>\n",
       "      <td>1.0</td>\n",
       "      <td>1.0</td>\n",
       "      <td>1.0</td>\n",
       "      <td>1.000000</td>\n",
       "      <td>1.0</td>\n",
       "      <td>1.000000</td>\n",
       "      <td>1.000000</td>\n",
       "      <td>1.0</td>\n",
       "      <td>1.000000</td>\n",
       "      <td>1.000000</td>\n",
       "      <td>1.0</td>\n",
       "      <td>1.000000</td>\n",
       "      <td>1.000000</td>\n",
       "      <td>1.000000</td>\n",
       "      <td>0.862009</td>\n",
       "      <td>1.0</td>\n",
       "      <td>1.0</td>\n",
       "      <td>1.048766</td>\n",
       "      <td>1.0</td>\n",
       "      <td>1.000000</td>\n",
       "      <td>1.000000</td>\n",
       "      <td>1.000000</td>\n",
       "    </tr>\n",
       "    <tr>\n",
       "      <th>2</th>\n",
       "      <td>2006-01-04</td>\n",
       "      <td>5.4</td>\n",
       "      <td>3.4</td>\n",
       "      <td>4.5</td>\n",
       "      <td>6.1</td>\n",
       "      <td>5.2</td>\n",
       "      <td>102.7</td>\n",
       "      <td>13603.93</td>\n",
       "      <td>6.6</td>\n",
       "      <td>2.8</td>\n",
       "      <td>2.3</td>\n",
       "      <td>4.0</td>\n",
       "      <td>2.1</td>\n",
       "      <td>3.2</td>\n",
       "      <td>2.06622</td>\n",
       "      <td>0.6</td>\n",
       "      <td>0.2</td>\n",
       "      <td>0.1</td>\n",
       "      <td>0.3</td>\n",
       "      <td>2.6</td>\n",
       "      <td>2.2</td>\n",
       "      <td>4.7</td>\n",
       "      <td>8.4</td>\n",
       "      <td>326.0</td>\n",
       "      <td>2561.0</td>\n",
       "      <td>...</td>\n",
       "      <td>0.682030</td>\n",
       "      <td>0.771197</td>\n",
       "      <td>1.026287</td>\n",
       "      <td>1.0</td>\n",
       "      <td>1.0</td>\n",
       "      <td>1.0</td>\n",
       "      <td>1.223552</td>\n",
       "      <td>1.0</td>\n",
       "      <td>0.829714</td>\n",
       "      <td>0.967572</td>\n",
       "      <td>1.0</td>\n",
       "      <td>1.380558</td>\n",
       "      <td>0.743634</td>\n",
       "      <td>1.0</td>\n",
       "      <td>1.109161</td>\n",
       "      <td>0.967923</td>\n",
       "      <td>1.097724</td>\n",
       "      <td>2.307115</td>\n",
       "      <td>1.0</td>\n",
       "      <td>1.0</td>\n",
       "      <td>1.549763</td>\n",
       "      <td>1.0</td>\n",
       "      <td>1.000000</td>\n",
       "      <td>0.788606</td>\n",
       "      <td>0.581332</td>\n",
       "    </tr>\n",
       "    <tr>\n",
       "      <th>3</th>\n",
       "      <td>2006-01-05</td>\n",
       "      <td>5.4</td>\n",
       "      <td>3.4</td>\n",
       "      <td>4.5</td>\n",
       "      <td>6.1</td>\n",
       "      <td>5.2</td>\n",
       "      <td>102.7</td>\n",
       "      <td>13603.93</td>\n",
       "      <td>6.6</td>\n",
       "      <td>2.8</td>\n",
       "      <td>2.3</td>\n",
       "      <td>4.0</td>\n",
       "      <td>2.1</td>\n",
       "      <td>3.2</td>\n",
       "      <td>2.06622</td>\n",
       "      <td>0.6</td>\n",
       "      <td>0.2</td>\n",
       "      <td>0.1</td>\n",
       "      <td>0.3</td>\n",
       "      <td>2.6</td>\n",
       "      <td>2.2</td>\n",
       "      <td>4.7</td>\n",
       "      <td>8.4</td>\n",
       "      <td>326.0</td>\n",
       "      <td>2561.0</td>\n",
       "      <td>...</td>\n",
       "      <td>1.264163</td>\n",
       "      <td>0.718678</td>\n",
       "      <td>1.094089</td>\n",
       "      <td>1.0</td>\n",
       "      <td>1.0</td>\n",
       "      <td>1.0</td>\n",
       "      <td>0.710449</td>\n",
       "      <td>1.0</td>\n",
       "      <td>1.204864</td>\n",
       "      <td>0.824310</td>\n",
       "      <td>1.0</td>\n",
       "      <td>0.901202</td>\n",
       "      <td>0.836536</td>\n",
       "      <td>1.0</td>\n",
       "      <td>1.294707</td>\n",
       "      <td>1.168471</td>\n",
       "      <td>0.642743</td>\n",
       "      <td>0.878133</td>\n",
       "      <td>1.0</td>\n",
       "      <td>1.0</td>\n",
       "      <td>0.913503</td>\n",
       "      <td>1.0</td>\n",
       "      <td>4.149537</td>\n",
       "      <td>0.835657</td>\n",
       "      <td>2.780952</td>\n",
       "    </tr>\n",
       "    <tr>\n",
       "      <th>4</th>\n",
       "      <td>2006-01-06</td>\n",
       "      <td>5.4</td>\n",
       "      <td>3.4</td>\n",
       "      <td>4.5</td>\n",
       "      <td>6.1</td>\n",
       "      <td>5.2</td>\n",
       "      <td>102.7</td>\n",
       "      <td>13603.93</td>\n",
       "      <td>6.6</td>\n",
       "      <td>2.8</td>\n",
       "      <td>2.3</td>\n",
       "      <td>4.0</td>\n",
       "      <td>2.1</td>\n",
       "      <td>3.2</td>\n",
       "      <td>2.06622</td>\n",
       "      <td>0.6</td>\n",
       "      <td>0.2</td>\n",
       "      <td>0.1</td>\n",
       "      <td>0.3</td>\n",
       "      <td>2.6</td>\n",
       "      <td>2.2</td>\n",
       "      <td>4.7</td>\n",
       "      <td>8.4</td>\n",
       "      <td>326.0</td>\n",
       "      <td>2561.0</td>\n",
       "      <td>...</td>\n",
       "      <td>0.966656</td>\n",
       "      <td>1.606885</td>\n",
       "      <td>1.514631</td>\n",
       "      <td>1.0</td>\n",
       "      <td>1.0</td>\n",
       "      <td>1.0</td>\n",
       "      <td>1.685084</td>\n",
       "      <td>1.0</td>\n",
       "      <td>0.833842</td>\n",
       "      <td>1.282477</td>\n",
       "      <td>1.0</td>\n",
       "      <td>0.947752</td>\n",
       "      <td>2.059981</td>\n",
       "      <td>1.0</td>\n",
       "      <td>0.980556</td>\n",
       "      <td>1.047620</td>\n",
       "      <td>2.572150</td>\n",
       "      <td>0.504080</td>\n",
       "      <td>1.0</td>\n",
       "      <td>1.0</td>\n",
       "      <td>0.596882</td>\n",
       "      <td>1.0</td>\n",
       "      <td>1.117321</td>\n",
       "      <td>1.553101</td>\n",
       "      <td>1.545230</td>\n",
       "    </tr>\n",
       "  </tbody>\n",
       "</table>\n",
       "<p>5 rows × 443 columns</p>\n",
       "</div>"
      ],
      "text/plain": [
       "        date  GDPCQOQIndex  GDPCYOYIndex  GDPCTOT%Index  GPDITOC%Index  GPGSTOC%Index  \\\n",
       "0 2006-01-02           5.4           3.4            4.5            6.1            5.2   \n",
       "1 2006-01-03           5.4           3.4            4.5            6.1            5.2   \n",
       "2 2006-01-04           5.4           3.4            4.5            6.1            5.2   \n",
       "3 2006-01-05           5.4           3.4            4.5            6.1            5.2   \n",
       "4 2006-01-06           5.4           3.4            4.5            6.1            5.2   \n",
       "\n",
       "   RGCDCIPIIndex  GDPCUR$Index  GDPCURYIndex  GDPPIQQIndex  GDPCPCECIndex  CPIYOYIndex  \\\n",
       "0          102.7      13603.93           6.6           2.8            2.3          4.0   \n",
       "1          102.7      13603.93           6.6           2.8            2.3          4.0   \n",
       "2          102.7      13603.93           6.6           2.8            2.3          4.0   \n",
       "3          102.7      13603.93           6.6           2.8            2.3          4.0   \n",
       "4          102.7      13603.93           6.6           2.8            2.3          4.0   \n",
       "\n",
       "   CPIXYOYIndex  PCEDEFYIndex  PCECYOYIndex  CPICHNGIndex  CPUPXCHGIndex  FDIDFDMOIndex  \\\n",
       "0           2.1           3.2       2.06622           0.6            0.2            0.1   \n",
       "1           2.1           3.2       2.06622           0.6            0.2            0.1   \n",
       "2           2.1           3.2       2.06622           0.6            0.2            0.1   \n",
       "3           2.1           3.2       2.06622           0.6            0.2            0.1   \n",
       "4           2.1           3.2       2.06622           0.6            0.2            0.1   \n",
       "\n",
       "   FDIDSGMOIndex  FDIUFDYOIndex  FDIUSGYOIndex  USURTOTIndex  USUDMAERIndex  INJCJCIndex  \\\n",
       "0            0.3            2.6            2.2           4.7            8.4        326.0   \n",
       "1            0.3            2.6            2.2           4.7            8.4        326.0   \n",
       "2            0.3            2.6            2.2           4.7            8.4        326.0   \n",
       "3            0.3            2.6            2.2           4.7            8.4        326.0   \n",
       "4            0.3            2.6            2.2           4.7            8.4        326.0   \n",
       "\n",
       "   INJCSPIndex  ...  AMD_product  APPLE_product  AppliedMaterials_product  Aspeed_product  \\\n",
       "0       2561.0  ...     1.000000       1.000000                  1.000000             1.0   \n",
       "1       2561.0  ...     1.000000       1.000000                  1.000000             1.0   \n",
       "2       2561.0  ...     0.682030       0.771197                  1.026287             1.0   \n",
       "3       2561.0  ...     1.264163       0.718678                  1.094089             1.0   \n",
       "4       2561.0  ...     0.966656       1.606885                  1.514631             1.0   \n",
       "\n",
       "   Dell_product  Facebook_product  Google_product  HPE_product  Intel_product  \\\n",
       "0           1.0               1.0        1.000000          1.0       1.000000   \n",
       "1           1.0               1.0        1.000000          1.0       1.000000   \n",
       "2           1.0               1.0        1.223552          1.0       0.829714   \n",
       "3           1.0               1.0        0.710449          1.0       1.204864   \n",
       "4           1.0               1.0        1.685084          1.0       0.833842   \n",
       "\n",
       "   LamResearch_product  MediaTek_product  Micron_product  Microsoft_product  Nuvoton_product  \\\n",
       "0             1.000000               1.0        1.000000           1.000000              1.0   \n",
       "1             1.000000               1.0        1.000000           1.000000              1.0   \n",
       "2             0.967572               1.0        1.380558           0.743634              1.0   \n",
       "3             0.824310               1.0        0.901202           0.836536              1.0   \n",
       "4             1.282477               1.0        0.947752           2.059981              1.0   \n",
       "\n",
       "   Nvidia_product  Philadelphia_product  QCOM_product  SamsungElectronics_product  \\\n",
       "0        1.000000              1.000000      1.000000                    0.862009   \n",
       "1        1.000000              1.000000      1.000000                    0.862009   \n",
       "2        1.109161              0.967923      1.097724                    2.307115   \n",
       "3        1.294707              1.168471      0.642743                    0.878133   \n",
       "4        0.980556              1.047620      2.572150                    0.504080   \n",
       "\n",
       "   ShinEtsuChemical_product  Siltronic_product  SKhynix_product  Sumco_product  \\\n",
       "0                       1.0                1.0         1.048766            1.0   \n",
       "1                       1.0                1.0         1.048766            1.0   \n",
       "2                       1.0                1.0         1.549763            1.0   \n",
       "3                       1.0                1.0         0.913503            1.0   \n",
       "4                       1.0                1.0         0.596882            1.0   \n",
       "\n",
       "   TokyoElectron_product  TSMC_product  UMC_product  \n",
       "0               1.000000      1.000000     1.000000  \n",
       "1               1.000000      1.000000     1.000000  \n",
       "2               1.000000      0.788606     0.581332  \n",
       "3               4.149537      0.835657     2.780952  \n",
       "4               1.117321      1.553101     1.545230  \n",
       "\n",
       "[5 rows x 443 columns]"
      ]
     },
     "execution_count": 118,
     "metadata": {},
     "output_type": "execute_result"
    }
   ],
   "source": [
    "newdf.head()"
   ]
  },
  {
   "cell_type": "code",
   "execution_count": 119,
   "metadata": {},
   "outputs": [],
   "source": [
    "date = newdf.date"
   ]
  },
  {
   "cell_type": "code",
   "execution_count": 120,
   "metadata": {},
   "outputs": [],
   "source": [
    "newdf.drop('date', axis = True, inplace = True)"
   ]
  },
  {
   "cell_type": "code",
   "execution_count": 121,
   "metadata": {},
   "outputs": [],
   "source": [
    "# 1일\n",
    "newdf = newdf[['KRXsemiconductor_change', 'SKhynix_change', 'Philadelphia_change', 'Micron_change', 'MediaTek_change', 'USDollarIndex_close', 'FRNTTNETIndex', 'Intel_product', 'USD_KRW_change', 'CPUPXCHGIndex', 'KOBONTLIndex', 'RSTAMOMIndex', 'KOEXPTIYIndex', 'KOCPIMOMIndex', 'Dell_close', 'Dell_volume', 'GPGSTOC%Index', 'SKLIOTARIndex', 'Nvidia_volume', 'SKCIMOMIndex', 'KOCGCGYIndex', 'KOECPRCYIndex', 'LEIBPIndex', 'AMD_change', 'JOLTSEPSIndex', 'HPE_close', 'Sumco_change', 'KOGFBALIndex', 'CNFREXPYIndex', 'TokyoElectron_close', 'EUR_KRW_close', 'KOBPFINIndex', 'Amazon_change', 'UMC_product', 'KOECGVTYIndex', 'KOBPCAIndex', 'KOECIMPYIndex', 'NAPMNMIIndex', 'USWHTOTIndex', 'Amazon_volume', 'KOECFCSYIndex', 'Google_product', 'KOFDITYIndex', 'KOQEEYOYIndex', 'TokyoElectron_volume', 'CNGDPYOYIndex', 'MBRXYOYWIndex', 'ShinEtsuChemical_volume', 'USTBEXPYIndex', 'AppliedMaterials_product', 'QCOM_product', 'SKhynix_product', 'UMC_volume', 'APPLE_product', 'KOECSIMQIndex', 'SKLICPYIndex', 'SKLICONEIndex', 'LEIMNOIndex', 'SAARDTOTIndex', 'KOBPCBIndex', 'USHEYOYIndex', 'USEMNCHGIndex', 'MGT2MAIndex', 'KOPPIMOMIndex', 'KOIVCONYIndex', 'Intel_volume', 'g16', 'AMD_product', 'KOEXTOTIndex', 'KOFETOTIndex', 'SKLINBARIndex', 'ssd_price', 'SKLILAPIndex', 'KOCPIIndex', 'TSMC_product', 'KOPPIYOYIndex', 'Philadelphia_volume', 'APPLE_volume', 'RSTAYOYIndex', 'Micron_product', 'Micron_volume', 'PITLCHNGIndex', 'SAARTOTLIndex', 'EUR_KRW_volume', 'JPY_KRW_volume', 'USDollarIndex_volume', 'USD_KRW_volume', 'TokyoElectron_change', 'Intel_change', 'KOWDRIndex', 'Nvidia_product', 'ShinEtsuChemical_close', 'memory_price', 'NFPTCHIndex', 'NFPPCHIndex', 'KOGDPYOYIndex', 'KOEAEPRIndex', 'USGG3MIndex', 'SKLILAIIndex']]"
   ]
  },
  {
   "cell_type": "code",
   "execution_count": 26,
   "metadata": {},
   "outputs": [],
   "source": [
    "# 260일\n",
    "newdf = newdf[['KRXsemiconductor_change', 'Amazon_close', 'RCHSINDXIndex', 'KOIPMCYIndex', 'KOGFBALIndex', 'KOSPI200_volume', 'Aspeed_volume', 'KOPIIYIndex', 'AppliedMaterials_close', 'NAPMPMIIndex', 'SKLINBARIndex', 'NAPMNEWOIndex', 'KOECPRCYIndex', 'TokyoElectron_volume', 'IPCHNGIndex', 'future_bit', 'KOGCSTOQIndex', 'Siltronic_change', 'Micron_change', 'KOECSPRQIndex', 'Dell_product', 'SamsungElectronics_change', 'USD_KRW_change', 'AMD_change', 'Amazon_product', 'IMP1CHNGIndex', 'FRNTTNETIndex', 'RSTAXYOYIndex', 'KODIBALIndex', 'KOTRBALIndex', 'Aspeed_change', 'TSMC_volume', 'Dell_change', 'KOVMDOMSIndex', 'HPE_product', 'KOCGCGYIndex', 'UMC_volume', 'Intel_volume', 'KOIMTOTIndex', 'ShinEtsuChemical_change', 'KOIMPTIMIndex', 'KOMSLYIndex', 'Microsoft_product', 'TSMC_change', 'Microsoft_volume', 'AppliedMaterials_volume', 'COMFBTWRIndex', 'NAPMNMIIndex', 'PCECHNCIndex', 'KOBONTLIndex', 'KOECSIMQIndex', 'KODSDISCIndex', 'KOSVTOTYIndex', 'Amazon_volume', 'Siltronic_product', 'APPLE_product', 'KOGFTEXPIndex', 'Google_product', 'KOEAEPRIndex', 'GDPPIQQIndex', 'MediaTek_change', 'GDPCPCECIndex', 'OUTFGAFIndex', 'PITLCHNGIndex', 'KOGDPYOYIndex', 'KOCCCSIIndex', 'DGNOCHNGIndex', 'COSTNFR%Index', 'Nvidia_product', 'AMD_product', 'TokyoElectron_product', 'SKhynix_product', 'Google_volume', 'Facebook_change', 'AppliedMaterials_product', 'Aspeed_product', 'RSTAXMOMIndex', 'CPMINORDIndex', 'LEIBPIndex', 'SKhynix_volume', 'TMNOCHNGIndex']]"
   ]
  },
  {
   "cell_type": "code",
   "execution_count": 103,
   "metadata": {},
   "outputs": [
    {
     "data": {
      "text/plain": [
       "98"
      ]
     },
     "execution_count": 103,
     "metadata": {},
     "output_type": "execute_result"
    }
   ],
   "source": [
    "len(newdf.columns)"
   ]
  },
  {
   "cell_type": "code",
   "execution_count": 28,
   "metadata": {},
   "outputs": [],
   "source": [
    "y_target = newdf['KRXsemiconductor_change']"
   ]
  },
  {
   "cell_type": "code",
   "execution_count": 29,
   "metadata": {},
   "outputs": [],
   "source": [
    "# hynix, krx\n",
    "newdf.drop(['KRXsemiconductor_change'], axis = 1, inplace = True)"
   ]
  },
  {
   "cell_type": "code",
   "execution_count": 30,
   "metadata": {},
   "outputs": [],
   "source": [
    "# scaling 하기전에 columns 뽑기 \n",
    "col_name = newdf.columns"
   ]
  },
  {
   "cell_type": "code",
   "execution_count": 31,
   "metadata": {},
   "outputs": [
    {
     "ename": "KeyError",
     "evalue": "\"['SamsungElectronics_product'] not found in axis\"",
     "output_type": "error",
     "traceback": [
      "\u001b[0;31m--------------------------------------------------------------\u001b[0m",
      "\u001b[0;31mKeyError\u001b[0m                     Traceback (most recent call last)",
      "\u001b[0;32m<ipython-input-31-ae59887b0c40>\u001b[0m in \u001b[0;36m<module>\u001b[0;34m\u001b[0m\n\u001b[0;32m----> 1\u001b[0;31m \u001b[0mnewdf\u001b[0m\u001b[0;34m.\u001b[0m\u001b[0mdrop\u001b[0m\u001b[0;34m(\u001b[0m\u001b[0;34m'SamsungElectronics_product'\u001b[0m\u001b[0;34m,\u001b[0m \u001b[0minplace\u001b[0m \u001b[0;34m=\u001b[0m \u001b[0;32mTrue\u001b[0m\u001b[0;34m,\u001b[0m \u001b[0maxis\u001b[0m \u001b[0;34m=\u001b[0m \u001b[0;36m1\u001b[0m\u001b[0;34m)\u001b[0m \u001b[0;31m# 왜 삼성전자가 infinity가 뜰까??\u001b[0m\u001b[0;34m\u001b[0m\u001b[0;34m\u001b[0m\u001b[0m\n\u001b[0m",
      "\u001b[0;32m~/opt/anaconda3/envs/tf2-py37/lib/python3.7/site-packages/pandas/core/frame.py\u001b[0m in \u001b[0;36mdrop\u001b[0;34m(self, labels, axis, index, columns, level, inplace, errors)\u001b[0m\n\u001b[1;32m   4115\u001b[0m             \u001b[0mlevel\u001b[0m\u001b[0;34m=\u001b[0m\u001b[0mlevel\u001b[0m\u001b[0;34m,\u001b[0m\u001b[0;34m\u001b[0m\u001b[0;34m\u001b[0m\u001b[0m\n\u001b[1;32m   4116\u001b[0m             \u001b[0minplace\u001b[0m\u001b[0;34m=\u001b[0m\u001b[0minplace\u001b[0m\u001b[0;34m,\u001b[0m\u001b[0;34m\u001b[0m\u001b[0;34m\u001b[0m\u001b[0m\n\u001b[0;32m-> 4117\u001b[0;31m             \u001b[0merrors\u001b[0m\u001b[0;34m=\u001b[0m\u001b[0merrors\u001b[0m\u001b[0;34m,\u001b[0m\u001b[0;34m\u001b[0m\u001b[0;34m\u001b[0m\u001b[0m\n\u001b[0m\u001b[1;32m   4118\u001b[0m         )\n\u001b[1;32m   4119\u001b[0m \u001b[0;34m\u001b[0m\u001b[0m\n",
      "\u001b[0;32m~/opt/anaconda3/envs/tf2-py37/lib/python3.7/site-packages/pandas/core/generic.py\u001b[0m in \u001b[0;36mdrop\u001b[0;34m(self, labels, axis, index, columns, level, inplace, errors)\u001b[0m\n\u001b[1;32m   3912\u001b[0m         \u001b[0;32mfor\u001b[0m \u001b[0maxis\u001b[0m\u001b[0;34m,\u001b[0m \u001b[0mlabels\u001b[0m \u001b[0;32min\u001b[0m \u001b[0maxes\u001b[0m\u001b[0;34m.\u001b[0m\u001b[0mitems\u001b[0m\u001b[0;34m(\u001b[0m\u001b[0;34m)\u001b[0m\u001b[0;34m:\u001b[0m\u001b[0;34m\u001b[0m\u001b[0;34m\u001b[0m\u001b[0m\n\u001b[1;32m   3913\u001b[0m             \u001b[0;32mif\u001b[0m \u001b[0mlabels\u001b[0m \u001b[0;32mis\u001b[0m \u001b[0;32mnot\u001b[0m \u001b[0;32mNone\u001b[0m\u001b[0;34m:\u001b[0m\u001b[0;34m\u001b[0m\u001b[0;34m\u001b[0m\u001b[0m\n\u001b[0;32m-> 3914\u001b[0;31m                 \u001b[0mobj\u001b[0m \u001b[0;34m=\u001b[0m \u001b[0mobj\u001b[0m\u001b[0;34m.\u001b[0m\u001b[0m_drop_axis\u001b[0m\u001b[0;34m(\u001b[0m\u001b[0mlabels\u001b[0m\u001b[0;34m,\u001b[0m \u001b[0maxis\u001b[0m\u001b[0;34m,\u001b[0m \u001b[0mlevel\u001b[0m\u001b[0;34m=\u001b[0m\u001b[0mlevel\u001b[0m\u001b[0;34m,\u001b[0m \u001b[0merrors\u001b[0m\u001b[0;34m=\u001b[0m\u001b[0merrors\u001b[0m\u001b[0;34m)\u001b[0m\u001b[0;34m\u001b[0m\u001b[0;34m\u001b[0m\u001b[0m\n\u001b[0m\u001b[1;32m   3915\u001b[0m \u001b[0;34m\u001b[0m\u001b[0m\n\u001b[1;32m   3916\u001b[0m         \u001b[0;32mif\u001b[0m \u001b[0minplace\u001b[0m\u001b[0;34m:\u001b[0m\u001b[0;34m\u001b[0m\u001b[0;34m\u001b[0m\u001b[0m\n",
      "\u001b[0;32m~/opt/anaconda3/envs/tf2-py37/lib/python3.7/site-packages/pandas/core/generic.py\u001b[0m in \u001b[0;36m_drop_axis\u001b[0;34m(self, labels, axis, level, errors)\u001b[0m\n\u001b[1;32m   3944\u001b[0m                 \u001b[0mnew_axis\u001b[0m \u001b[0;34m=\u001b[0m \u001b[0maxis\u001b[0m\u001b[0;34m.\u001b[0m\u001b[0mdrop\u001b[0m\u001b[0;34m(\u001b[0m\u001b[0mlabels\u001b[0m\u001b[0;34m,\u001b[0m \u001b[0mlevel\u001b[0m\u001b[0;34m=\u001b[0m\u001b[0mlevel\u001b[0m\u001b[0;34m,\u001b[0m \u001b[0merrors\u001b[0m\u001b[0;34m=\u001b[0m\u001b[0merrors\u001b[0m\u001b[0;34m)\u001b[0m\u001b[0;34m\u001b[0m\u001b[0;34m\u001b[0m\u001b[0m\n\u001b[1;32m   3945\u001b[0m             \u001b[0;32melse\u001b[0m\u001b[0;34m:\u001b[0m\u001b[0;34m\u001b[0m\u001b[0;34m\u001b[0m\u001b[0m\n\u001b[0;32m-> 3946\u001b[0;31m                 \u001b[0mnew_axis\u001b[0m \u001b[0;34m=\u001b[0m \u001b[0maxis\u001b[0m\u001b[0;34m.\u001b[0m\u001b[0mdrop\u001b[0m\u001b[0;34m(\u001b[0m\u001b[0mlabels\u001b[0m\u001b[0;34m,\u001b[0m \u001b[0merrors\u001b[0m\u001b[0;34m=\u001b[0m\u001b[0merrors\u001b[0m\u001b[0;34m)\u001b[0m\u001b[0;34m\u001b[0m\u001b[0;34m\u001b[0m\u001b[0m\n\u001b[0m\u001b[1;32m   3947\u001b[0m             \u001b[0mresult\u001b[0m \u001b[0;34m=\u001b[0m \u001b[0mself\u001b[0m\u001b[0;34m.\u001b[0m\u001b[0mreindex\u001b[0m\u001b[0;34m(\u001b[0m\u001b[0;34m**\u001b[0m\u001b[0;34m{\u001b[0m\u001b[0maxis_name\u001b[0m\u001b[0;34m:\u001b[0m \u001b[0mnew_axis\u001b[0m\u001b[0;34m}\u001b[0m\u001b[0;34m)\u001b[0m\u001b[0;34m\u001b[0m\u001b[0;34m\u001b[0m\u001b[0m\n\u001b[1;32m   3948\u001b[0m \u001b[0;34m\u001b[0m\u001b[0m\n",
      "\u001b[0;32m~/opt/anaconda3/envs/tf2-py37/lib/python3.7/site-packages/pandas/core/indexes/base.py\u001b[0m in \u001b[0;36mdrop\u001b[0;34m(self, labels, errors)\u001b[0m\n\u001b[1;32m   5338\u001b[0m         \u001b[0;32mif\u001b[0m \u001b[0mmask\u001b[0m\u001b[0;34m.\u001b[0m\u001b[0many\u001b[0m\u001b[0;34m(\u001b[0m\u001b[0;34m)\u001b[0m\u001b[0;34m:\u001b[0m\u001b[0;34m\u001b[0m\u001b[0;34m\u001b[0m\u001b[0m\n\u001b[1;32m   5339\u001b[0m             \u001b[0;32mif\u001b[0m \u001b[0merrors\u001b[0m \u001b[0;34m!=\u001b[0m \u001b[0;34m\"ignore\"\u001b[0m\u001b[0;34m:\u001b[0m\u001b[0;34m\u001b[0m\u001b[0;34m\u001b[0m\u001b[0m\n\u001b[0;32m-> 5340\u001b[0;31m                 \u001b[0;32mraise\u001b[0m \u001b[0mKeyError\u001b[0m\u001b[0;34m(\u001b[0m\u001b[0;34m\"{} not found in axis\"\u001b[0m\u001b[0;34m.\u001b[0m\u001b[0mformat\u001b[0m\u001b[0;34m(\u001b[0m\u001b[0mlabels\u001b[0m\u001b[0;34m[\u001b[0m\u001b[0mmask\u001b[0m\u001b[0;34m]\u001b[0m\u001b[0;34m)\u001b[0m\u001b[0;34m)\u001b[0m\u001b[0;34m\u001b[0m\u001b[0;34m\u001b[0m\u001b[0m\n\u001b[0m\u001b[1;32m   5341\u001b[0m             \u001b[0mindexer\u001b[0m \u001b[0;34m=\u001b[0m \u001b[0mindexer\u001b[0m\u001b[0;34m[\u001b[0m\u001b[0;34m~\u001b[0m\u001b[0mmask\u001b[0m\u001b[0;34m]\u001b[0m\u001b[0;34m\u001b[0m\u001b[0;34m\u001b[0m\u001b[0m\n\u001b[1;32m   5342\u001b[0m         \u001b[0;32mreturn\u001b[0m \u001b[0mself\u001b[0m\u001b[0;34m.\u001b[0m\u001b[0mdelete\u001b[0m\u001b[0;34m(\u001b[0m\u001b[0mindexer\u001b[0m\u001b[0;34m)\u001b[0m\u001b[0;34m\u001b[0m\u001b[0;34m\u001b[0m\u001b[0m\n",
      "\u001b[0;31mKeyError\u001b[0m: \"['SamsungElectronics_product'] not found in axis\""
     ]
    }
   ],
   "source": [
    "newdf.drop('SamsungElectronics_product', inplace = True, axis = 1) # 왜 삼성전자가 infinity가 뜰까??"
   ]
  },
  {
   "cell_type": "code",
   "execution_count": 32,
   "metadata": {},
   "outputs": [
    {
     "ename": "KeyError",
     "evalue": "\"['SamsungElectronics_product'] not found in axis\"",
     "output_type": "error",
     "traceback": [
      "\u001b[0;31m--------------------------------------------------------------\u001b[0m",
      "\u001b[0;31mKeyError\u001b[0m                     Traceback (most recent call last)",
      "\u001b[0;32m<ipython-input-32-2791cbfda99c>\u001b[0m in \u001b[0;36m<module>\u001b[0;34m\u001b[0m\n\u001b[0;32m----> 1\u001b[0;31m \u001b[0mcol_name\u001b[0m\u001b[0;34m=\u001b[0m\u001b[0mcol_name\u001b[0m\u001b[0;34m.\u001b[0m\u001b[0mdrop\u001b[0m\u001b[0;34m(\u001b[0m\u001b[0;34m'SamsungElectronics_product'\u001b[0m\u001b[0;34m)\u001b[0m\u001b[0;34m\u001b[0m\u001b[0;34m\u001b[0m\u001b[0m\n\u001b[0m",
      "\u001b[0;32m~/opt/anaconda3/envs/tf2-py37/lib/python3.7/site-packages/pandas/core/indexes/base.py\u001b[0m in \u001b[0;36mdrop\u001b[0;34m(self, labels, errors)\u001b[0m\n\u001b[1;32m   5338\u001b[0m         \u001b[0;32mif\u001b[0m \u001b[0mmask\u001b[0m\u001b[0;34m.\u001b[0m\u001b[0many\u001b[0m\u001b[0;34m(\u001b[0m\u001b[0;34m)\u001b[0m\u001b[0;34m:\u001b[0m\u001b[0;34m\u001b[0m\u001b[0;34m\u001b[0m\u001b[0m\n\u001b[1;32m   5339\u001b[0m             \u001b[0;32mif\u001b[0m \u001b[0merrors\u001b[0m \u001b[0;34m!=\u001b[0m \u001b[0;34m\"ignore\"\u001b[0m\u001b[0;34m:\u001b[0m\u001b[0;34m\u001b[0m\u001b[0;34m\u001b[0m\u001b[0m\n\u001b[0;32m-> 5340\u001b[0;31m                 \u001b[0;32mraise\u001b[0m \u001b[0mKeyError\u001b[0m\u001b[0;34m(\u001b[0m\u001b[0;34m\"{} not found in axis\"\u001b[0m\u001b[0;34m.\u001b[0m\u001b[0mformat\u001b[0m\u001b[0;34m(\u001b[0m\u001b[0mlabels\u001b[0m\u001b[0;34m[\u001b[0m\u001b[0mmask\u001b[0m\u001b[0;34m]\u001b[0m\u001b[0;34m)\u001b[0m\u001b[0;34m)\u001b[0m\u001b[0;34m\u001b[0m\u001b[0;34m\u001b[0m\u001b[0m\n\u001b[0m\u001b[1;32m   5341\u001b[0m             \u001b[0mindexer\u001b[0m \u001b[0;34m=\u001b[0m \u001b[0mindexer\u001b[0m\u001b[0;34m[\u001b[0m\u001b[0;34m~\u001b[0m\u001b[0mmask\u001b[0m\u001b[0;34m]\u001b[0m\u001b[0;34m\u001b[0m\u001b[0;34m\u001b[0m\u001b[0m\n\u001b[1;32m   5342\u001b[0m         \u001b[0;32mreturn\u001b[0m \u001b[0mself\u001b[0m\u001b[0;34m.\u001b[0m\u001b[0mdelete\u001b[0m\u001b[0;34m(\u001b[0m\u001b[0mindexer\u001b[0m\u001b[0;34m)\u001b[0m\u001b[0;34m\u001b[0m\u001b[0;34m\u001b[0m\u001b[0m\n",
      "\u001b[0;31mKeyError\u001b[0m: \"['SamsungElectronics_product'] not found in axis\""
     ]
    }
   ],
   "source": [
    "col_name=col_name.drop('SamsungElectronics_product')"
   ]
  },
  {
   "cell_type": "code",
   "execution_count": 33,
   "metadata": {},
   "outputs": [
    {
     "data": {
      "text/html": [
       "<div>\n",
       "<style scoped>\n",
       "    .dataframe tbody tr th:only-of-type {\n",
       "        vertical-align: middle;\n",
       "    }\n",
       "\n",
       "    .dataframe tbody tr th {\n",
       "        vertical-align: top;\n",
       "    }\n",
       "\n",
       "    .dataframe thead th {\n",
       "        text-align: right;\n",
       "    }\n",
       "</style>\n",
       "<table border=\"1\" class=\"dataframe\">\n",
       "  <thead>\n",
       "    <tr style=\"text-align: right;\">\n",
       "      <th></th>\n",
       "      <th>SKhynix_change</th>\n",
       "      <th>Philadelphia_change</th>\n",
       "      <th>Micron_change</th>\n",
       "      <th>MediaTek_change</th>\n",
       "      <th>USDollarIndex_close</th>\n",
       "      <th>FRNTTNETIndex</th>\n",
       "      <th>Intel_product</th>\n",
       "      <th>USD_KRW_change</th>\n",
       "      <th>CPUPXCHGIndex</th>\n",
       "      <th>KOBONTLIndex</th>\n",
       "      <th>RSTAMOMIndex</th>\n",
       "      <th>KOEXPTIYIndex</th>\n",
       "      <th>KOCPIMOMIndex</th>\n",
       "      <th>Dell_close</th>\n",
       "      <th>Dell_volume</th>\n",
       "      <th>GPGSTOC%Index</th>\n",
       "      <th>SKLIOTARIndex</th>\n",
       "      <th>Nvidia_volume</th>\n",
       "      <th>SKCIMOMIndex</th>\n",
       "      <th>KOCGCGYIndex</th>\n",
       "      <th>KOECPRCYIndex</th>\n",
       "      <th>LEIBPIndex</th>\n",
       "      <th>AMD_change</th>\n",
       "      <th>JOLTSEPSIndex</th>\n",
       "      <th>HPE_close</th>\n",
       "      <th>...</th>\n",
       "      <th>TSMC_product</th>\n",
       "      <th>KOPPIYOYIndex</th>\n",
       "      <th>Philadelphia_volume</th>\n",
       "      <th>APPLE_volume</th>\n",
       "      <th>RSTAYOYIndex</th>\n",
       "      <th>Micron_product</th>\n",
       "      <th>Micron_volume</th>\n",
       "      <th>PITLCHNGIndex</th>\n",
       "      <th>SAARTOTLIndex</th>\n",
       "      <th>EUR_KRW_volume</th>\n",
       "      <th>JPY_KRW_volume</th>\n",
       "      <th>USDollarIndex_volume</th>\n",
       "      <th>USD_KRW_volume</th>\n",
       "      <th>TokyoElectron_change</th>\n",
       "      <th>Intel_change</th>\n",
       "      <th>KOWDRIndex</th>\n",
       "      <th>Nvidia_product</th>\n",
       "      <th>ShinEtsuChemical_close</th>\n",
       "      <th>memory_price</th>\n",
       "      <th>NFPTCHIndex</th>\n",
       "      <th>NFPPCHIndex</th>\n",
       "      <th>KOGDPYOYIndex</th>\n",
       "      <th>KOEAEPRIndex</th>\n",
       "      <th>USGG3MIndex</th>\n",
       "      <th>SKLILAIIndex</th>\n",
       "    </tr>\n",
       "  </thead>\n",
       "  <tbody>\n",
       "    <tr>\n",
       "      <th>count</th>\n",
       "      <td>5051.000000</td>\n",
       "      <td>5051.000000</td>\n",
       "      <td>5051.000000</td>\n",
       "      <td>5051.000000</td>\n",
       "      <td>5051.000000</td>\n",
       "      <td>5051.000000</td>\n",
       "      <td>5051.000000</td>\n",
       "      <td>5051.000000</td>\n",
       "      <td>5051.000000</td>\n",
       "      <td>5051.000000</td>\n",
       "      <td>5051.000000</td>\n",
       "      <td>5051.000000</td>\n",
       "      <td>5051.000000</td>\n",
       "      <td>5051.000000</td>\n",
       "      <td>5.051000e+03</td>\n",
       "      <td>5051.000000</td>\n",
       "      <td>5051.000000</td>\n",
       "      <td>5.051000e+03</td>\n",
       "      <td>5051.000000</td>\n",
       "      <td>5051.000000</td>\n",
       "      <td>5051.000000</td>\n",
       "      <td>5051.000000</td>\n",
       "      <td>5051.000000</td>\n",
       "      <td>5051.000000</td>\n",
       "      <td>5051.000000</td>\n",
       "      <td>...</td>\n",
       "      <td>5051.000000</td>\n",
       "      <td>5051.000000</td>\n",
       "      <td>5.051000e+03</td>\n",
       "      <td>5.051000e+03</td>\n",
       "      <td>5051.000000</td>\n",
       "      <td>5051.000000</td>\n",
       "      <td>5.051000e+03</td>\n",
       "      <td>5051.000000</td>\n",
       "      <td>5051.000000</td>\n",
       "      <td>5051.0</td>\n",
       "      <td>5051.0</td>\n",
       "      <td>5051.0</td>\n",
       "      <td>5051.0</td>\n",
       "      <td>5051.000000</td>\n",
       "      <td>5051.000000</td>\n",
       "      <td>5051.000000</td>\n",
       "      <td>5051.000000</td>\n",
       "      <td>5051.000000</td>\n",
       "      <td>5051.000000</td>\n",
       "      <td>5051.000000</td>\n",
       "      <td>5051.000000</td>\n",
       "      <td>5051.000000</td>\n",
       "      <td>5051.000000</td>\n",
       "      <td>5051.000000</td>\n",
       "      <td>5051.000000</td>\n",
       "    </tr>\n",
       "    <tr>\n",
       "      <th>mean</th>\n",
       "      <td>0.091653</td>\n",
       "      <td>-0.002952</td>\n",
       "      <td>-0.070794</td>\n",
       "      <td>2.452364</td>\n",
       "      <td>86.144605</td>\n",
       "      <td>29.587134</td>\n",
       "      <td>1.062488</td>\n",
       "      <td>0.001639</td>\n",
       "      <td>0.160611</td>\n",
       "      <td>19824.134235</td>\n",
       "      <td>0.257859</td>\n",
       "      <td>-0.496917</td>\n",
       "      <td>0.179135</td>\n",
       "      <td>43.262006</td>\n",
       "      <td>8.764196e+05</td>\n",
       "      <td>0.742611</td>\n",
       "      <td>58.640427</td>\n",
       "      <td>1.422550e+07</td>\n",
       "      <td>0.177061</td>\n",
       "      <td>3.351212</td>\n",
       "      <td>2.700983</td>\n",
       "      <td>1079.328474</td>\n",
       "      <td>0.020734</td>\n",
       "      <td>3.469645</td>\n",
       "      <td>16.178325</td>\n",
       "      <td>...</td>\n",
       "      <td>1.099722</td>\n",
       "      <td>1.335433</td>\n",
       "      <td>7.130140e+07</td>\n",
       "      <td>1.141968e+08</td>\n",
       "      <td>3.158711</td>\n",
       "      <td>1.047025</td>\n",
       "      <td>2.781211e+07</td>\n",
       "      <td>0.337367</td>\n",
       "      <td>15.210644</td>\n",
       "      <td>0.0</td>\n",
       "      <td>0.0</td>\n",
       "      <td>0.0</td>\n",
       "      <td>0.0</td>\n",
       "      <td>0.004181</td>\n",
       "      <td>-0.005286</td>\n",
       "      <td>20.505719</td>\n",
       "      <td>1.027424</td>\n",
       "      <td>15.147316</td>\n",
       "      <td>0.017283</td>\n",
       "      <td>101.401661</td>\n",
       "      <td>96.899956</td>\n",
       "      <td>3.466463</td>\n",
       "      <td>60.011046</td>\n",
       "      <td>1.165109</td>\n",
       "      <td>4679.001498</td>\n",
       "    </tr>\n",
       "    <tr>\n",
       "      <th>std</th>\n",
       "      <td>3.433176</td>\n",
       "      <td>2.106582</td>\n",
       "      <td>3.987247</td>\n",
       "      <td>3.371153</td>\n",
       "      <td>8.177461</td>\n",
       "      <td>79.333164</td>\n",
       "      <td>0.883037</td>\n",
       "      <td>0.820882</td>\n",
       "      <td>0.070118</td>\n",
       "      <td>3597.399657</td>\n",
       "      <td>0.838155</td>\n",
       "      <td>8.640082</td>\n",
       "      <td>0.332184</td>\n",
       "      <td>4.353841</td>\n",
       "      <td>1.638954e+06</td>\n",
       "      <td>2.526670</td>\n",
       "      <td>7.385573</td>\n",
       "      <td>9.408543e+06</td>\n",
       "      <td>0.205033</td>\n",
       "      <td>3.239515</td>\n",
       "      <td>1.898152</td>\n",
       "      <td>362.431808</td>\n",
       "      <td>4.517279</td>\n",
       "      <td>0.257413</td>\n",
       "      <td>1.586241</td>\n",
       "      <td>...</td>\n",
       "      <td>1.345459</td>\n",
       "      <td>3.516029</td>\n",
       "      <td>3.444173e+07</td>\n",
       "      <td>9.784121e+07</td>\n",
       "      <td>4.016193</td>\n",
       "      <td>1.793555</td>\n",
       "      <td>1.671272e+07</td>\n",
       "      <td>0.662056</td>\n",
       "      <td>2.382757</td>\n",
       "      <td>0.0</td>\n",
       "      <td>0.0</td>\n",
       "      <td>0.0</td>\n",
       "      <td>0.0</td>\n",
       "      <td>1.813982</td>\n",
       "      <td>2.190112</td>\n",
       "      <td>0.455938</td>\n",
       "      <td>1.454439</td>\n",
       "      <td>4.675451</td>\n",
       "      <td>0.024070</td>\n",
       "      <td>229.862458</td>\n",
       "      <td>224.607062</td>\n",
       "      <td>1.927187</td>\n",
       "      <td>1.146924</td>\n",
       "      <td>1.621477</td>\n",
       "      <td>1376.548254</td>\n",
       "    </tr>\n",
       "    <tr>\n",
       "      <th>min</th>\n",
       "      <td>-23.888800</td>\n",
       "      <td>-13.654215</td>\n",
       "      <td>-24.223521</td>\n",
       "      <td>-21.523938</td>\n",
       "      <td>71.330000</td>\n",
       "      <td>-199.798002</td>\n",
       "      <td>-9.500794</td>\n",
       "      <td>-10.370000</td>\n",
       "      <td>-0.102421</td>\n",
       "      <td>8894.816688</td>\n",
       "      <td>-4.119715</td>\n",
       "      <td>-16.721647</td>\n",
       "      <td>-0.714394</td>\n",
       "      <td>28.240000</td>\n",
       "      <td>-9.577459e+06</td>\n",
       "      <td>-5.638326</td>\n",
       "      <td>34.894479</td>\n",
       "      <td>-1.023430e+07</td>\n",
       "      <td>-0.400700</td>\n",
       "      <td>-5.872313</td>\n",
       "      <td>-4.440826</td>\n",
       "      <td>508.913991</td>\n",
       "      <td>-36.251553</td>\n",
       "      <td>2.959123</td>\n",
       "      <td>11.620000</td>\n",
       "      <td>...</td>\n",
       "      <td>-22.994370</td>\n",
       "      <td>-4.724829</td>\n",
       "      <td>2.287171e+06</td>\n",
       "      <td>-1.487555e+08</td>\n",
       "      <td>-11.563442</td>\n",
       "      <td>-83.324987</td>\n",
       "      <td>-2.597864e+07</td>\n",
       "      <td>-4.725876</td>\n",
       "      <td>8.961360</td>\n",
       "      <td>0.0</td>\n",
       "      <td>0.0</td>\n",
       "      <td>0.0</td>\n",
       "      <td>0.0</td>\n",
       "      <td>-24.690119</td>\n",
       "      <td>-15.377744</td>\n",
       "      <td>18.987627</td>\n",
       "      <td>-75.981949</td>\n",
       "      <td>9.360000</td>\n",
       "      <td>0.002656</td>\n",
       "      <td>-807.490714</td>\n",
       "      <td>-868.012363</td>\n",
       "      <td>-2.355939</td>\n",
       "      <td>56.606078</td>\n",
       "      <td>-0.041000</td>\n",
       "      <td>2631.628821</td>\n",
       "    </tr>\n",
       "    <tr>\n",
       "      <th>25%</th>\n",
       "      <td>-1.691184</td>\n",
       "      <td>-1.003000</td>\n",
       "      <td>-1.940313</td>\n",
       "      <td>-0.160000</td>\n",
       "      <td>79.870000</td>\n",
       "      <td>-15.571692</td>\n",
       "      <td>0.839421</td>\n",
       "      <td>-0.324956</td>\n",
       "      <td>0.104058</td>\n",
       "      <td>17645.710412</td>\n",
       "      <td>-0.100600</td>\n",
       "      <td>-5.717497</td>\n",
       "      <td>-0.059679</td>\n",
       "      <td>42.500000</td>\n",
       "      <td>4.960300e+05</td>\n",
       "      <td>-0.945035</td>\n",
       "      <td>53.851776</td>\n",
       "      <td>8.160000e+06</td>\n",
       "      <td>0.050491</td>\n",
       "      <td>1.317941</td>\n",
       "      <td>1.765849</td>\n",
       "      <td>759.983215</td>\n",
       "      <td>-2.021225</td>\n",
       "      <td>3.206243</td>\n",
       "      <td>16.250000</td>\n",
       "      <td>...</td>\n",
       "      <td>0.786676</td>\n",
       "      <td>-0.834679</td>\n",
       "      <td>4.714743e+07</td>\n",
       "      <td>3.927226e+07</td>\n",
       "      <td>2.640462</td>\n",
       "      <td>0.815495</td>\n",
       "      <td>1.742349e+07</td>\n",
       "      <td>0.163655</td>\n",
       "      <td>13.787650</td>\n",
       "      <td>0.0</td>\n",
       "      <td>0.0</td>\n",
       "      <td>0.0</td>\n",
       "      <td>0.0</td>\n",
       "      <td>-0.740000</td>\n",
       "      <td>-1.000000</td>\n",
       "      <td>20.262231</td>\n",
       "      <td>0.812937</td>\n",
       "      <td>11.780000</td>\n",
       "      <td>0.004981</td>\n",
       "      <td>74.245895</td>\n",
       "      <td>75.001942</td>\n",
       "      <td>2.469700</td>\n",
       "      <td>59.259637</td>\n",
       "      <td>0.050800</td>\n",
       "      <td>3397.226371</td>\n",
       "    </tr>\n",
       "    <tr>\n",
       "      <th>50%</th>\n",
       "      <td>0.000000</td>\n",
       "      <td>0.093000</td>\n",
       "      <td>0.000000</td>\n",
       "      <td>3.450090</td>\n",
       "      <td>83.740000</td>\n",
       "      <td>37.093127</td>\n",
       "      <td>0.996769</td>\n",
       "      <td>0.000000</td>\n",
       "      <td>0.176817</td>\n",
       "      <td>19895.002436</td>\n",
       "      <td>0.327939</td>\n",
       "      <td>-2.169378</td>\n",
       "      <td>0.162763</td>\n",
       "      <td>42.500000</td>\n",
       "      <td>4.960300e+05</td>\n",
       "      <td>0.986007</td>\n",
       "      <td>59.899836</td>\n",
       "      <td>1.219000e+07</td>\n",
       "      <td>0.165019</td>\n",
       "      <td>3.269307</td>\n",
       "      <td>2.609138</td>\n",
       "      <td>1089.724241</td>\n",
       "      <td>0.000000</td>\n",
       "      <td>3.516243</td>\n",
       "      <td>16.250000</td>\n",
       "      <td>...</td>\n",
       "      <td>0.996089</td>\n",
       "      <td>0.928551</td>\n",
       "      <td>6.133839e+07</td>\n",
       "      <td>8.724000e+07</td>\n",
       "      <td>3.887242</td>\n",
       "      <td>0.991175</td>\n",
       "      <td>2.459000e+07</td>\n",
       "      <td>0.377997</td>\n",
       "      <td>16.177726</td>\n",
       "      <td>0.0</td>\n",
       "      <td>0.0</td>\n",
       "      <td>0.0</td>\n",
       "      <td>0.0</td>\n",
       "      <td>0.000000</td>\n",
       "      <td>0.060000</td>\n",
       "      <td>20.500867</td>\n",
       "      <td>0.987476</td>\n",
       "      <td>13.990000</td>\n",
       "      <td>0.007300</td>\n",
       "      <td>173.189638</td>\n",
       "      <td>167.000000</td>\n",
       "      <td>3.107848</td>\n",
       "      <td>60.205996</td>\n",
       "      <td>0.182600</td>\n",
       "      <td>4494.829491</td>\n",
       "    </tr>\n",
       "    <tr>\n",
       "      <th>75%</th>\n",
       "      <td>1.758892</td>\n",
       "      <td>1.118500</td>\n",
       "      <td>1.960000</td>\n",
       "      <td>5.210000</td>\n",
       "      <td>94.721019</td>\n",
       "      <td>79.692602</td>\n",
       "      <td>1.170703</td>\n",
       "      <td>0.330000</td>\n",
       "      <td>0.206230</td>\n",
       "      <td>22480.842840</td>\n",
       "      <td>0.699102</td>\n",
       "      <td>1.326960</td>\n",
       "      <td>0.400461</td>\n",
       "      <td>42.500000</td>\n",
       "      <td>4.960300e+05</td>\n",
       "      <td>2.609342</td>\n",
       "      <td>63.239208</td>\n",
       "      <td>1.773398e+07</td>\n",
       "      <td>0.268559</td>\n",
       "      <td>5.327378</td>\n",
       "      <td>3.700195</td>\n",
       "      <td>1293.099872</td>\n",
       "      <td>2.100000</td>\n",
       "      <td>3.695919</td>\n",
       "      <td>16.250000</td>\n",
       "      <td>...</td>\n",
       "      <td>1.248084</td>\n",
       "      <td>3.199563</td>\n",
       "      <td>8.761904e+07</td>\n",
       "      <td>1.595550e+08</td>\n",
       "      <td>5.065336</td>\n",
       "      <td>1.212705</td>\n",
       "      <td>3.399500e+07</td>\n",
       "      <td>0.558658</td>\n",
       "      <td>17.004833</td>\n",
       "      <td>0.0</td>\n",
       "      <td>0.0</td>\n",
       "      <td>0.0</td>\n",
       "      <td>0.0</td>\n",
       "      <td>0.730000</td>\n",
       "      <td>1.060000</td>\n",
       "      <td>20.814298</td>\n",
       "      <td>1.202918</td>\n",
       "      <td>16.815000</td>\n",
       "      <td>0.019233</td>\n",
       "      <td>231.749438</td>\n",
       "      <td>220.804492</td>\n",
       "      <td>4.807319</td>\n",
       "      <td>60.969703</td>\n",
       "      <td>1.902712</td>\n",
       "      <td>5718.212159</td>\n",
       "    </tr>\n",
       "    <tr>\n",
       "      <th>max</th>\n",
       "      <td>25.924553</td>\n",
       "      <td>13.041979</td>\n",
       "      <td>24.937707</td>\n",
       "      <td>22.220081</td>\n",
       "      <td>103.300000</td>\n",
       "      <td>273.358987</td>\n",
       "      <td>40.962521</td>\n",
       "      <td>10.760000</td>\n",
       "      <td>0.320727</td>\n",
       "      <td>27703.000000</td>\n",
       "      <td>2.900000</td>\n",
       "      <td>38.687244</td>\n",
       "      <td>1.200000</td>\n",
       "      <td>69.155206</td>\n",
       "      <td>4.958444e+07</td>\n",
       "      <td>6.177670</td>\n",
       "      <td>72.492821</td>\n",
       "      <td>1.056792e+08</td>\n",
       "      <td>1.102428</td>\n",
       "      <td>13.073624</td>\n",
       "      <td>6.936347</td>\n",
       "      <td>2212.000000</td>\n",
       "      <td>53.583196</td>\n",
       "      <td>4.010347</td>\n",
       "      <td>24.510000</td>\n",
       "      <td>...</td>\n",
       "      <td>75.658581</td>\n",
       "      <td>12.774771</td>\n",
       "      <td>3.318271e+08</td>\n",
       "      <td>8.432600e+08</td>\n",
       "      <td>8.700000</td>\n",
       "      <td>71.906123</td>\n",
       "      <td>1.708402e+08</td>\n",
       "      <td>4.631365</td>\n",
       "      <td>18.670891</td>\n",
       "      <td>0.0</td>\n",
       "      <td>0.0</td>\n",
       "      <td>0.0</td>\n",
       "      <td>0.0</td>\n",
       "      <td>15.850000</td>\n",
       "      <td>16.217690</td>\n",
       "      <td>21.600303</td>\n",
       "      <td>23.381913</td>\n",
       "      <td>30.480173</td>\n",
       "      <td>0.112212</td>\n",
       "      <td>549.547774</td>\n",
       "      <td>363.000000</td>\n",
       "      <td>8.048415</td>\n",
       "      <td>61.622703</td>\n",
       "      <td>5.191811</td>\n",
       "      <td>7403.500000</td>\n",
       "    </tr>\n",
       "  </tbody>\n",
       "</table>\n",
       "<p>8 rows × 98 columns</p>\n",
       "</div>"
      ],
      "text/plain": [
       "       SKhynix_change  Philadelphia_change  Micron_change  MediaTek_change  USDollarIndex_close  \\\n",
       "count     5051.000000          5051.000000    5051.000000      5051.000000          5051.000000   \n",
       "mean         0.091653            -0.002952      -0.070794         2.452364            86.144605   \n",
       "std          3.433176             2.106582       3.987247         3.371153             8.177461   \n",
       "min        -23.888800           -13.654215     -24.223521       -21.523938            71.330000   \n",
       "25%         -1.691184            -1.003000      -1.940313        -0.160000            79.870000   \n",
       "50%          0.000000             0.093000       0.000000         3.450090            83.740000   \n",
       "75%          1.758892             1.118500       1.960000         5.210000            94.721019   \n",
       "max         25.924553            13.041979      24.937707        22.220081           103.300000   \n",
       "\n",
       "       FRNTTNETIndex  Intel_product  USD_KRW_change  CPUPXCHGIndex  KOBONTLIndex  RSTAMOMIndex  \\\n",
       "count    5051.000000    5051.000000     5051.000000    5051.000000   5051.000000   5051.000000   \n",
       "mean       29.587134       1.062488        0.001639       0.160611  19824.134235      0.257859   \n",
       "std        79.333164       0.883037        0.820882       0.070118   3597.399657      0.838155   \n",
       "min      -199.798002      -9.500794      -10.370000      -0.102421   8894.816688     -4.119715   \n",
       "25%       -15.571692       0.839421       -0.324956       0.104058  17645.710412     -0.100600   \n",
       "50%        37.093127       0.996769        0.000000       0.176817  19895.002436      0.327939   \n",
       "75%        79.692602       1.170703        0.330000       0.206230  22480.842840      0.699102   \n",
       "max       273.358987      40.962521       10.760000       0.320727  27703.000000      2.900000   \n",
       "\n",
       "       KOEXPTIYIndex  KOCPIMOMIndex   Dell_close   Dell_volume  GPGSTOC%Index  SKLIOTARIndex  \\\n",
       "count    5051.000000    5051.000000  5051.000000  5.051000e+03    5051.000000    5051.000000   \n",
       "mean       -0.496917       0.179135    43.262006  8.764196e+05       0.742611      58.640427   \n",
       "std         8.640082       0.332184     4.353841  1.638954e+06       2.526670       7.385573   \n",
       "min       -16.721647      -0.714394    28.240000 -9.577459e+06      -5.638326      34.894479   \n",
       "25%        -5.717497      -0.059679    42.500000  4.960300e+05      -0.945035      53.851776   \n",
       "50%        -2.169378       0.162763    42.500000  4.960300e+05       0.986007      59.899836   \n",
       "75%         1.326960       0.400461    42.500000  4.960300e+05       2.609342      63.239208   \n",
       "max        38.687244       1.200000    69.155206  4.958444e+07       6.177670      72.492821   \n",
       "\n",
       "       Nvidia_volume  SKCIMOMIndex  KOCGCGYIndex  KOECPRCYIndex   LEIBPIndex   AMD_change  \\\n",
       "count   5.051000e+03   5051.000000   5051.000000    5051.000000  5051.000000  5051.000000   \n",
       "mean    1.422550e+07      0.177061      3.351212       2.700983  1079.328474     0.020734   \n",
       "std     9.408543e+06      0.205033      3.239515       1.898152   362.431808     4.517279   \n",
       "min    -1.023430e+07     -0.400700     -5.872313      -4.440826   508.913991   -36.251553   \n",
       "25%     8.160000e+06      0.050491      1.317941       1.765849   759.983215    -2.021225   \n",
       "50%     1.219000e+07      0.165019      3.269307       2.609138  1089.724241     0.000000   \n",
       "75%     1.773398e+07      0.268559      5.327378       3.700195  1293.099872     2.100000   \n",
       "max     1.056792e+08      1.102428     13.073624       6.936347  2212.000000    53.583196   \n",
       "\n",
       "       JOLTSEPSIndex    HPE_close  ...  TSMC_product  KOPPIYOYIndex  Philadelphia_volume  \\\n",
       "count    5051.000000  5051.000000  ...   5051.000000    5051.000000         5.051000e+03   \n",
       "mean        3.469645    16.178325  ...      1.099722       1.335433         7.130140e+07   \n",
       "std         0.257413     1.586241  ...      1.345459       3.516029         3.444173e+07   \n",
       "min         2.959123    11.620000  ...    -22.994370      -4.724829         2.287171e+06   \n",
       "25%         3.206243    16.250000  ...      0.786676      -0.834679         4.714743e+07   \n",
       "50%         3.516243    16.250000  ...      0.996089       0.928551         6.133839e+07   \n",
       "75%         3.695919    16.250000  ...      1.248084       3.199563         8.761904e+07   \n",
       "max         4.010347    24.510000  ...     75.658581      12.774771         3.318271e+08   \n",
       "\n",
       "       APPLE_volume  RSTAYOYIndex  Micron_product  Micron_volume  PITLCHNGIndex  SAARTOTLIndex  \\\n",
       "count  5.051000e+03   5051.000000     5051.000000   5.051000e+03    5051.000000    5051.000000   \n",
       "mean   1.141968e+08      3.158711        1.047025   2.781211e+07       0.337367      15.210644   \n",
       "std    9.784121e+07      4.016193        1.793555   1.671272e+07       0.662056       2.382757   \n",
       "min   -1.487555e+08    -11.563442      -83.324987  -2.597864e+07      -4.725876       8.961360   \n",
       "25%    3.927226e+07      2.640462        0.815495   1.742349e+07       0.163655      13.787650   \n",
       "50%    8.724000e+07      3.887242        0.991175   2.459000e+07       0.377997      16.177726   \n",
       "75%    1.595550e+08      5.065336        1.212705   3.399500e+07       0.558658      17.004833   \n",
       "max    8.432600e+08      8.700000       71.906123   1.708402e+08       4.631365      18.670891   \n",
       "\n",
       "       EUR_KRW_volume  JPY_KRW_volume  USDollarIndex_volume  USD_KRW_volume  TokyoElectron_change  \\\n",
       "count          5051.0          5051.0                5051.0          5051.0           5051.000000   \n",
       "mean              0.0             0.0                   0.0             0.0              0.004181   \n",
       "std               0.0             0.0                   0.0             0.0              1.813982   \n",
       "min               0.0             0.0                   0.0             0.0            -24.690119   \n",
       "25%               0.0             0.0                   0.0             0.0             -0.740000   \n",
       "50%               0.0             0.0                   0.0             0.0              0.000000   \n",
       "75%               0.0             0.0                   0.0             0.0              0.730000   \n",
       "max               0.0             0.0                   0.0             0.0             15.850000   \n",
       "\n",
       "       Intel_change   KOWDRIndex  Nvidia_product  ShinEtsuChemical_close  memory_price  \\\n",
       "count   5051.000000  5051.000000     5051.000000             5051.000000   5051.000000   \n",
       "mean      -0.005286    20.505719        1.027424               15.147316      0.017283   \n",
       "std        2.190112     0.455938        1.454439                4.675451      0.024070   \n",
       "min      -15.377744    18.987627      -75.981949                9.360000      0.002656   \n",
       "25%       -1.000000    20.262231        0.812937               11.780000      0.004981   \n",
       "50%        0.060000    20.500867        0.987476               13.990000      0.007300   \n",
       "75%        1.060000    20.814298        1.202918               16.815000      0.019233   \n",
       "max       16.217690    21.600303       23.381913               30.480173      0.112212   \n",
       "\n",
       "       NFPTCHIndex  NFPPCHIndex  KOGDPYOYIndex  KOEAEPRIndex  USGG3MIndex  SKLILAIIndex  \n",
       "count  5051.000000  5051.000000    5051.000000   5051.000000  5051.000000   5051.000000  \n",
       "mean    101.401661    96.899956       3.466463     60.011046     1.165109   4679.001498  \n",
       "std     229.862458   224.607062       1.927187      1.146924     1.621477   1376.548254  \n",
       "min    -807.490714  -868.012363      -2.355939     56.606078    -0.041000   2631.628821  \n",
       "25%      74.245895    75.001942       2.469700     59.259637     0.050800   3397.226371  \n",
       "50%     173.189638   167.000000       3.107848     60.205996     0.182600   4494.829491  \n",
       "75%     231.749438   220.804492       4.807319     60.969703     1.902712   5718.212159  \n",
       "max     549.547774   363.000000       8.048415     61.622703     5.191811   7403.500000  \n",
       "\n",
       "[8 rows x 98 columns]"
      ]
     },
     "execution_count": 33,
     "metadata": {},
     "output_type": "execute_result"
    }
   ],
   "source": [
    "newdf.describe()"
   ]
  },
  {
   "cell_type": "code",
   "execution_count": 34,
   "metadata": {},
   "outputs": [],
   "source": [
    "# scaling과 동시에 변환\n",
    "#newdf = PowerTransformer().fit_transform(newdf)\n",
    "newdf = StandardScaler().fit_transform(newdf)\n",
    "#newdf = newdf.apply(lambda x : np.log1p(x))\n",
    "#newdf = MinMaxScaler().fit_transfrom(newdf)"
   ]
  },
  {
   "cell_type": "code",
   "execution_count": 35,
   "metadata": {},
   "outputs": [
    {
     "data": {
      "text/plain": [
       "array([[ 1.87260529,  1.35206379,  0.39399339, ..., -1.31760748,\n",
       "         1.79390704, -1.48124364],\n",
       "       [ 0.36073591,  1.35206379,  0.39399339, ..., -1.31760748,\n",
       "         1.81907177, -1.48124364],\n",
       "       [-2.16778553,  0.34417046,  1.02105442, ..., -1.31760748,\n",
       "         1.85940936, -1.48124364],\n",
       "       ...,\n",
       "       [ 0.00825769, -0.42634808, -0.28072427, ...,  1.29834441,\n",
       "         0.26872683,  1.9794208 ],\n",
       "       [-0.55395963, -0.0270837 , -0.10263894, ...,  1.29834441,\n",
       "         0.25133356,  1.9794208 ],\n",
       "       [ 0.1509968 , -0.29104445, -0.15531207, ...,  1.29834441,\n",
       "         0.22135792,  1.9794208 ]])"
      ]
     },
     "execution_count": 35,
     "metadata": {},
     "output_type": "execute_result"
    }
   ],
   "source": [
    "newdf"
   ]
  },
  {
   "cell_type": "code",
   "execution_count": 36,
   "metadata": {},
   "outputs": [],
   "source": [
    "newdf = pd.DataFrame(newdf, columns = col_name)"
   ]
  },
  {
   "cell_type": "code",
   "execution_count": 37,
   "metadata": {},
   "outputs": [
    {
     "data": {
      "text/html": [
       "<div>\n",
       "<style scoped>\n",
       "    .dataframe tbody tr th:only-of-type {\n",
       "        vertical-align: middle;\n",
       "    }\n",
       "\n",
       "    .dataframe tbody tr th {\n",
       "        vertical-align: top;\n",
       "    }\n",
       "\n",
       "    .dataframe thead th {\n",
       "        text-align: right;\n",
       "    }\n",
       "</style>\n",
       "<table border=\"1\" class=\"dataframe\">\n",
       "  <thead>\n",
       "    <tr style=\"text-align: right;\">\n",
       "      <th></th>\n",
       "      <th>SKhynix_change</th>\n",
       "      <th>Philadelphia_change</th>\n",
       "      <th>Micron_change</th>\n",
       "      <th>MediaTek_change</th>\n",
       "      <th>USDollarIndex_close</th>\n",
       "      <th>FRNTTNETIndex</th>\n",
       "      <th>Intel_product</th>\n",
       "      <th>USD_KRW_change</th>\n",
       "      <th>CPUPXCHGIndex</th>\n",
       "      <th>KOBONTLIndex</th>\n",
       "      <th>RSTAMOMIndex</th>\n",
       "      <th>KOEXPTIYIndex</th>\n",
       "      <th>KOCPIMOMIndex</th>\n",
       "      <th>Dell_close</th>\n",
       "      <th>Dell_volume</th>\n",
       "      <th>GPGSTOC%Index</th>\n",
       "      <th>SKLIOTARIndex</th>\n",
       "      <th>Nvidia_volume</th>\n",
       "      <th>SKCIMOMIndex</th>\n",
       "      <th>KOCGCGYIndex</th>\n",
       "      <th>KOECPRCYIndex</th>\n",
       "      <th>LEIBPIndex</th>\n",
       "      <th>AMD_change</th>\n",
       "      <th>JOLTSEPSIndex</th>\n",
       "      <th>HPE_close</th>\n",
       "      <th>...</th>\n",
       "      <th>TSMC_product</th>\n",
       "      <th>KOPPIYOYIndex</th>\n",
       "      <th>Philadelphia_volume</th>\n",
       "      <th>APPLE_volume</th>\n",
       "      <th>RSTAYOYIndex</th>\n",
       "      <th>Micron_product</th>\n",
       "      <th>Micron_volume</th>\n",
       "      <th>PITLCHNGIndex</th>\n",
       "      <th>SAARTOTLIndex</th>\n",
       "      <th>EUR_KRW_volume</th>\n",
       "      <th>JPY_KRW_volume</th>\n",
       "      <th>USDollarIndex_volume</th>\n",
       "      <th>USD_KRW_volume</th>\n",
       "      <th>TokyoElectron_change</th>\n",
       "      <th>Intel_change</th>\n",
       "      <th>KOWDRIndex</th>\n",
       "      <th>Nvidia_product</th>\n",
       "      <th>ShinEtsuChemical_close</th>\n",
       "      <th>memory_price</th>\n",
       "      <th>NFPTCHIndex</th>\n",
       "      <th>NFPPCHIndex</th>\n",
       "      <th>KOGDPYOYIndex</th>\n",
       "      <th>KOEAEPRIndex</th>\n",
       "      <th>USGG3MIndex</th>\n",
       "      <th>SKLILAIIndex</th>\n",
       "    </tr>\n",
       "  </thead>\n",
       "  <tbody>\n",
       "    <tr>\n",
       "      <th>count</th>\n",
       "      <td>5.051000e+03</td>\n",
       "      <td>5.051000e+03</td>\n",
       "      <td>5.051000e+03</td>\n",
       "      <td>5.051000e+03</td>\n",
       "      <td>5.051000e+03</td>\n",
       "      <td>5.051000e+03</td>\n",
       "      <td>5.051000e+03</td>\n",
       "      <td>5.051000e+03</td>\n",
       "      <td>5051.000000</td>\n",
       "      <td>5.051000e+03</td>\n",
       "      <td>5.051000e+03</td>\n",
       "      <td>5.051000e+03</td>\n",
       "      <td>5.051000e+03</td>\n",
       "      <td>5.051000e+03</td>\n",
       "      <td>5.051000e+03</td>\n",
       "      <td>5.051000e+03</td>\n",
       "      <td>5.051000e+03</td>\n",
       "      <td>5.051000e+03</td>\n",
       "      <td>5.051000e+03</td>\n",
       "      <td>5.051000e+03</td>\n",
       "      <td>5.051000e+03</td>\n",
       "      <td>5.051000e+03</td>\n",
       "      <td>5.051000e+03</td>\n",
       "      <td>5.051000e+03</td>\n",
       "      <td>5.051000e+03</td>\n",
       "      <td>...</td>\n",
       "      <td>5.051000e+03</td>\n",
       "      <td>5.051000e+03</td>\n",
       "      <td>5.051000e+03</td>\n",
       "      <td>5.051000e+03</td>\n",
       "      <td>5.051000e+03</td>\n",
       "      <td>5.051000e+03</td>\n",
       "      <td>5.051000e+03</td>\n",
       "      <td>5.051000e+03</td>\n",
       "      <td>5.051000e+03</td>\n",
       "      <td>5051.0</td>\n",
       "      <td>5051.0</td>\n",
       "      <td>5051.0</td>\n",
       "      <td>5051.0</td>\n",
       "      <td>5.051000e+03</td>\n",
       "      <td>5.051000e+03</td>\n",
       "      <td>5.051000e+03</td>\n",
       "      <td>5.051000e+03</td>\n",
       "      <td>5.051000e+03</td>\n",
       "      <td>5.051000e+03</td>\n",
       "      <td>5.051000e+03</td>\n",
       "      <td>5051.000000</td>\n",
       "      <td>5.051000e+03</td>\n",
       "      <td>5.051000e+03</td>\n",
       "      <td>5051.000000</td>\n",
       "      <td>5051.000000</td>\n",
       "    </tr>\n",
       "    <tr>\n",
       "      <th>mean</th>\n",
       "      <td>-1.547410e-17</td>\n",
       "      <td>-1.688084e-17</td>\n",
       "      <td>-2.813474e-18</td>\n",
       "      <td>9.003115e-17</td>\n",
       "      <td>-4.501558e-16</td>\n",
       "      <td>-3.376168e-17</td>\n",
       "      <td>1.364535e-16</td>\n",
       "      <td>-9.847157e-18</td>\n",
       "      <td>0.000000</td>\n",
       "      <td>-2.700935e-16</td>\n",
       "      <td>-4.501558e-17</td>\n",
       "      <td>3.376168e-17</td>\n",
       "      <td>-4.501558e-17</td>\n",
       "      <td>-5.176791e-16</td>\n",
       "      <td>-2.250779e-17</td>\n",
       "      <td>-4.501558e-17</td>\n",
       "      <td>-1.800623e-16</td>\n",
       "      <td>-4.501558e-17</td>\n",
       "      <td>2.250779e-17</td>\n",
       "      <td>-1.350467e-16</td>\n",
       "      <td>-6.752336e-17</td>\n",
       "      <td>5.176791e-16</td>\n",
       "      <td>5.626947e-18</td>\n",
       "      <td>-5.626947e-16</td>\n",
       "      <td>8.665498e-16</td>\n",
       "      <td>...</td>\n",
       "      <td>-4.360884e-17</td>\n",
       "      <td>-9.003115e-17</td>\n",
       "      <td>-9.003115e-17</td>\n",
       "      <td>-9.003115e-17</td>\n",
       "      <td>4.501558e-17</td>\n",
       "      <td>1.519276e-16</td>\n",
       "      <td>-3.376168e-17</td>\n",
       "      <td>-9.847157e-18</td>\n",
       "      <td>1.125389e-15</td>\n",
       "      <td>0.0</td>\n",
       "      <td>0.0</td>\n",
       "      <td>0.0</td>\n",
       "      <td>0.0</td>\n",
       "      <td>2.110105e-18</td>\n",
       "      <td>8.440421e-18</td>\n",
       "      <td>-1.215421e-15</td>\n",
       "      <td>-6.611663e-17</td>\n",
       "      <td>-4.501558e-17</td>\n",
       "      <td>9.003115e-17</td>\n",
       "      <td>4.501558e-17</td>\n",
       "      <td>0.000000</td>\n",
       "      <td>-2.250779e-16</td>\n",
       "      <td>-4.591589e-15</td>\n",
       "      <td>0.000000</td>\n",
       "      <td>0.000000</td>\n",
       "    </tr>\n",
       "    <tr>\n",
       "      <th>std</th>\n",
       "      <td>1.000099e+00</td>\n",
       "      <td>1.000099e+00</td>\n",
       "      <td>1.000099e+00</td>\n",
       "      <td>1.000099e+00</td>\n",
       "      <td>1.000099e+00</td>\n",
       "      <td>1.000099e+00</td>\n",
       "      <td>1.000099e+00</td>\n",
       "      <td>1.000099e+00</td>\n",
       "      <td>1.000099</td>\n",
       "      <td>1.000099e+00</td>\n",
       "      <td>1.000099e+00</td>\n",
       "      <td>1.000099e+00</td>\n",
       "      <td>1.000099e+00</td>\n",
       "      <td>1.000099e+00</td>\n",
       "      <td>1.000099e+00</td>\n",
       "      <td>1.000099e+00</td>\n",
       "      <td>1.000099e+00</td>\n",
       "      <td>1.000099e+00</td>\n",
       "      <td>1.000099e+00</td>\n",
       "      <td>1.000099e+00</td>\n",
       "      <td>1.000099e+00</td>\n",
       "      <td>1.000099e+00</td>\n",
       "      <td>1.000099e+00</td>\n",
       "      <td>1.000099e+00</td>\n",
       "      <td>1.000099e+00</td>\n",
       "      <td>...</td>\n",
       "      <td>1.000099e+00</td>\n",
       "      <td>1.000099e+00</td>\n",
       "      <td>1.000099e+00</td>\n",
       "      <td>1.000099e+00</td>\n",
       "      <td>1.000099e+00</td>\n",
       "      <td>1.000099e+00</td>\n",
       "      <td>1.000099e+00</td>\n",
       "      <td>1.000099e+00</td>\n",
       "      <td>1.000099e+00</td>\n",
       "      <td>0.0</td>\n",
       "      <td>0.0</td>\n",
       "      <td>0.0</td>\n",
       "      <td>0.0</td>\n",
       "      <td>1.000099e+00</td>\n",
       "      <td>1.000099e+00</td>\n",
       "      <td>1.000099e+00</td>\n",
       "      <td>1.000099e+00</td>\n",
       "      <td>1.000099e+00</td>\n",
       "      <td>1.000099e+00</td>\n",
       "      <td>1.000099e+00</td>\n",
       "      <td>1.000099</td>\n",
       "      <td>1.000099e+00</td>\n",
       "      <td>1.000099e+00</td>\n",
       "      <td>1.000099</td>\n",
       "      <td>1.000099</td>\n",
       "    </tr>\n",
       "    <tr>\n",
       "      <th>min</th>\n",
       "      <td>-6.985609e+00</td>\n",
       "      <td>-6.480931e+00</td>\n",
       "      <td>-6.058094e+00</td>\n",
       "      <td>-7.112901e+00</td>\n",
       "      <td>-1.811818e+00</td>\n",
       "      <td>-2.891702e+00</td>\n",
       "      <td>-1.196362e+01</td>\n",
       "      <td>-1.263600e+01</td>\n",
       "      <td>-3.751656</td>\n",
       "      <td>-3.038417e+00</td>\n",
       "      <td>-5.223388e+00</td>\n",
       "      <td>-1.878030e+00</td>\n",
       "      <td>-2.690131e+00</td>\n",
       "      <td>-3.450630e+00</td>\n",
       "      <td>-6.379015e+00</td>\n",
       "      <td>-2.525683e+00</td>\n",
       "      <td>-3.215498e+00</td>\n",
       "      <td>-2.600001e+00</td>\n",
       "      <td>-2.818175e+00</td>\n",
       "      <td>-2.847475e+00</td>\n",
       "      <td>-3.762879e+00</td>\n",
       "      <td>-1.574009e+00</td>\n",
       "      <td>-8.030470e+00</td>\n",
       "      <td>-1.983476e+00</td>\n",
       "      <td>-2.873950e+00</td>\n",
       "      <td>...</td>\n",
       "      <td>-1.790949e+01</td>\n",
       "      <td>-1.723780e+00</td>\n",
       "      <td>-2.003995e+00</td>\n",
       "      <td>-2.687807e+00</td>\n",
       "      <td>-3.666062e+00</td>\n",
       "      <td>-4.704643e+01</td>\n",
       "      <td>-3.218870e+00</td>\n",
       "      <td>-7.648516e+00</td>\n",
       "      <td>-2.622972e+00</td>\n",
       "      <td>0.0</td>\n",
       "      <td>0.0</td>\n",
       "      <td>0.0</td>\n",
       "      <td>0.0</td>\n",
       "      <td>-1.361466e+01</td>\n",
       "      <td>-7.019723e+00</td>\n",
       "      <td>-3.329935e+00</td>\n",
       "      <td>-5.295307e+01</td>\n",
       "      <td>-1.237932e+00</td>\n",
       "      <td>-6.077317e-01</td>\n",
       "      <td>-3.954462e+00</td>\n",
       "      <td>-4.296427</td>\n",
       "      <td>-3.021492e+00</td>\n",
       "      <td>-2.969077e+00</td>\n",
       "      <td>-0.743907</td>\n",
       "      <td>-1.487471</td>\n",
       "    </tr>\n",
       "    <tr>\n",
       "      <th>25%</th>\n",
       "      <td>-5.193479e-01</td>\n",
       "      <td>-4.747725e-01</td>\n",
       "      <td>-4.689212e-01</td>\n",
       "      <td>-7.749937e-01</td>\n",
       "      <td>-7.673807e-01</td>\n",
       "      <td>-5.692865e-01</td>\n",
       "      <td>-2.526381e-01</td>\n",
       "      <td>-3.978975e-01</td>\n",
       "      <td>-0.806625</td>\n",
       "      <td>-6.056151e-01</td>\n",
       "      <td>-4.277181e-01</td>\n",
       "      <td>-6.042879e-01</td>\n",
       "      <td>-7.189944e-01</td>\n",
       "      <td>-1.750366e-01</td>\n",
       "      <td>-2.321158e-01</td>\n",
       "      <td>-6.679988e-01</td>\n",
       "      <td>-6.484432e-01</td>\n",
       "      <td>-6.447441e-01</td>\n",
       "      <td>-6.173743e-01</td>\n",
       "      <td>-6.277090e-01</td>\n",
       "      <td>-4.927036e-01</td>\n",
       "      <td>-8.812054e-01</td>\n",
       "      <td>-4.520775e-01</td>\n",
       "      <td>-1.023369e+00</td>\n",
       "      <td>4.519016e-02</td>\n",
       "      <td>...</td>\n",
       "      <td>-2.326915e-01</td>\n",
       "      <td>-6.172665e-01</td>\n",
       "      <td>-7.013689e-01</td>\n",
       "      <td>-7.658525e-01</td>\n",
       "      <td>-1.290526e-01</td>\n",
       "      <td>-1.291031e-01</td>\n",
       "      <td>-6.216611e-01</td>\n",
       "      <td>-2.624091e-01</td>\n",
       "      <td>-5.972644e-01</td>\n",
       "      <td>0.0</td>\n",
       "      <td>0.0</td>\n",
       "      <td>0.0</td>\n",
       "      <td>0.0</td>\n",
       "      <td>-4.102880e-01</td>\n",
       "      <td>-4.542289e-01</td>\n",
       "      <td>-5.340920e-01</td>\n",
       "      <td>-1.474851e-01</td>\n",
       "      <td>-7.202832e-01</td>\n",
       "      <td>-5.111516e-01</td>\n",
       "      <td>-1.181509e-01</td>\n",
       "      <td>-0.097504</td>\n",
       "      <td>-5.172632e-01</td>\n",
       "      <td>-6.552164e-01</td>\n",
       "      <td>-0.687286</td>\n",
       "      <td>-0.931244</td>\n",
       "    </tr>\n",
       "    <tr>\n",
       "      <th>50%</th>\n",
       "      <td>-2.669883e-02</td>\n",
       "      <td>4.555299e-02</td>\n",
       "      <td>1.775678e-02</td>\n",
       "      <td>2.959892e-01</td>\n",
       "      <td>-2.940818e-01</td>\n",
       "      <td>9.462293e-02</td>\n",
       "      <td>-7.443133e-02</td>\n",
       "      <td>-1.996754e-03</td>\n",
       "      <td>0.231141</td>\n",
       "      <td>1.970179e-02</td>\n",
       "      <td>8.362039e-02</td>\n",
       "      <td>-1.935892e-01</td>\n",
       "      <td>-4.929018e-02</td>\n",
       "      <td>-1.750366e-01</td>\n",
       "      <td>-2.321158e-01</td>\n",
       "      <td>9.634040e-02</td>\n",
       "      <td>1.705397e-01</td>\n",
       "      <td>-2.163676e-01</td>\n",
       "      <td>-5.873404e-02</td>\n",
       "      <td>-2.528554e-02</td>\n",
       "      <td>-4.839142e-02</td>\n",
       "      <td>2.868621e-02</td>\n",
       "      <td>-4.590279e-03</td>\n",
       "      <td>1.810401e-01</td>\n",
       "      <td>4.519016e-02</td>\n",
       "      <td>...</td>\n",
       "      <td>-7.703170e-02</td>\n",
       "      <td>-1.157333e-01</td>\n",
       "      <td>-2.893003e-01</td>\n",
       "      <td>-2.755428e-01</td>\n",
       "      <td>1.814165e-01</td>\n",
       "      <td>-3.114270e-02</td>\n",
       "      <td>-1.928131e-01</td>\n",
       "      <td>6.137536e-02</td>\n",
       "      <td>4.059067e-01</td>\n",
       "      <td>0.0</td>\n",
       "      <td>0.0</td>\n",
       "      <td>0.0</td>\n",
       "      <td>0.0</td>\n",
       "      <td>-2.305270e-03</td>\n",
       "      <td>2.981253e-02</td>\n",
       "      <td>-1.064412e-02</td>\n",
       "      <td>-2.746886e-02</td>\n",
       "      <td>-2.475548e-01</td>\n",
       "      <td>-4.147723e-01</td>\n",
       "      <td>3.123393e-01</td>\n",
       "      <td>0.312132</td>\n",
       "      <td>-1.861005e-01</td>\n",
       "      <td>1.699936e-01</td>\n",
       "      <td>-0.605994</td>\n",
       "      <td>-0.133806</td>\n",
       "    </tr>\n",
       "    <tr>\n",
       "      <th>75%</th>\n",
       "      <td>4.856739e-01</td>\n",
       "      <td>5.324087e-01</td>\n",
       "      <td>5.093726e-01</td>\n",
       "      <td>8.180909e-01</td>\n",
       "      <td>1.048891e+00</td>\n",
       "      <td>6.316454e-01</td>\n",
       "      <td>1.225612e-01</td>\n",
       "      <td>4.000496e-01</td>\n",
       "      <td>0.650670</td>\n",
       "      <td>7.385812e-01</td>\n",
       "      <td>5.264981e-01</td>\n",
       "      <td>2.111158e-01</td>\n",
       "      <td>6.663402e-01</td>\n",
       "      <td>-1.750366e-01</td>\n",
       "      <td>-2.321158e-01</td>\n",
       "      <td>7.388839e-01</td>\n",
       "      <td>6.227325e-01</td>\n",
       "      <td>3.729402e-01</td>\n",
       "      <td>4.463038e-01</td>\n",
       "      <td>6.100794e-01</td>\n",
       "      <td>5.264652e-01</td>\n",
       "      <td>5.898836e-01</td>\n",
       "      <td>4.603373e-01</td>\n",
       "      <td>8.791180e-01</td>\n",
       "      <td>4.519016e-02</td>\n",
       "      <td>...</td>\n",
       "      <td>1.102796e-01</td>\n",
       "      <td>5.302331e-01</td>\n",
       "      <td>4.738221e-01</td>\n",
       "      <td>4.636361e-01</td>\n",
       "      <td>4.747817e-01</td>\n",
       "      <td>9.238432e-02</td>\n",
       "      <td>3.699876e-01</td>\n",
       "      <td>3.342810e-01</td>\n",
       "      <td>7.530630e-01</td>\n",
       "      <td>0.0</td>\n",
       "      <td>0.0</td>\n",
       "      <td>0.0</td>\n",
       "      <td>0.0</td>\n",
       "      <td>4.001642e-01</td>\n",
       "      <td>4.864554e-01</td>\n",
       "      <td>6.768667e-01</td>\n",
       "      <td>1.206734e-01</td>\n",
       "      <td>3.567248e-01</td>\n",
       "      <td>8.103006e-02</td>\n",
       "      <td>5.671247e-01</td>\n",
       "      <td>0.551705</td>\n",
       "      <td>6.958267e-01</td>\n",
       "      <td>8.359336e-01</td>\n",
       "      <td>0.454941</td>\n",
       "      <td>0.755014</td>\n",
       "    </tr>\n",
       "    <tr>\n",
       "      <th>max</th>\n",
       "      <td>7.525235e+00</td>\n",
       "      <td>6.193075e+00</td>\n",
       "      <td>6.272742e+00</td>\n",
       "      <td>5.864366e+00</td>\n",
       "      <td>2.098096e+00</td>\n",
       "      <td>3.073065e+00</td>\n",
       "      <td>4.518946e+01</td>\n",
       "      <td>1.310715e+01</td>\n",
       "      <td>2.283747</td>\n",
       "      <td>2.190373e+00</td>\n",
       "      <td>3.152643e+00</td>\n",
       "      <td>4.535610e+00</td>\n",
       "      <td>3.073497e+00</td>\n",
       "      <td>5.947797e+00</td>\n",
       "      <td>2.972191e+01</td>\n",
       "      <td>2.151288e+00</td>\n",
       "      <td>1.875787e+00</td>\n",
       "      <td>9.721242e+00</td>\n",
       "      <td>4.513710e+00</td>\n",
       "      <td>3.001491e+00</td>\n",
       "      <td>2.231530e+00</td>\n",
       "      <td>3.125508e+00</td>\n",
       "      <td>1.185841e+01</td>\n",
       "      <td>2.100730e+00</td>\n",
       "      <td>5.252986e+00</td>\n",
       "      <td>...</td>\n",
       "      <td>5.542068e+01</td>\n",
       "      <td>3.253805e+00</td>\n",
       "      <td>7.564994e+00</td>\n",
       "      <td>7.452232e+00</td>\n",
       "      <td>1.379874e+00</td>\n",
       "      <td>3.951153e+01</td>\n",
       "      <td>8.558881e+00</td>\n",
       "      <td>6.486498e+00</td>\n",
       "      <td>1.452347e+00</td>\n",
       "      <td>0.0</td>\n",
       "      <td>0.0</td>\n",
       "      <td>0.0</td>\n",
       "      <td>0.0</td>\n",
       "      <td>8.736244e+00</td>\n",
       "      <td>7.408106e+00</td>\n",
       "      <td>2.400969e+00</td>\n",
       "      <td>1.537136e+01</td>\n",
       "      <td>3.279764e+00</td>\n",
       "      <td>3.944198e+00</td>\n",
       "      <td>1.949820e+00</td>\n",
       "      <td>1.184853</td>\n",
       "      <td>2.377769e+00</td>\n",
       "      <td>1.405340e+00</td>\n",
       "      <td>2.483600</td>\n",
       "      <td>1.979421</td>\n",
       "    </tr>\n",
       "  </tbody>\n",
       "</table>\n",
       "<p>8 rows × 98 columns</p>\n",
       "</div>"
      ],
      "text/plain": [
       "       SKhynix_change  Philadelphia_change  Micron_change  MediaTek_change  USDollarIndex_close  \\\n",
       "count    5.051000e+03         5.051000e+03   5.051000e+03     5.051000e+03         5.051000e+03   \n",
       "mean    -1.547410e-17        -1.688084e-17  -2.813474e-18     9.003115e-17        -4.501558e-16   \n",
       "std      1.000099e+00         1.000099e+00   1.000099e+00     1.000099e+00         1.000099e+00   \n",
       "min     -6.985609e+00        -6.480931e+00  -6.058094e+00    -7.112901e+00        -1.811818e+00   \n",
       "25%     -5.193479e-01        -4.747725e-01  -4.689212e-01    -7.749937e-01        -7.673807e-01   \n",
       "50%     -2.669883e-02         4.555299e-02   1.775678e-02     2.959892e-01        -2.940818e-01   \n",
       "75%      4.856739e-01         5.324087e-01   5.093726e-01     8.180909e-01         1.048891e+00   \n",
       "max      7.525235e+00         6.193075e+00   6.272742e+00     5.864366e+00         2.098096e+00   \n",
       "\n",
       "       FRNTTNETIndex  Intel_product  USD_KRW_change  CPUPXCHGIndex  KOBONTLIndex  RSTAMOMIndex  \\\n",
       "count   5.051000e+03   5.051000e+03    5.051000e+03    5051.000000  5.051000e+03  5.051000e+03   \n",
       "mean   -3.376168e-17   1.364535e-16   -9.847157e-18       0.000000 -2.700935e-16 -4.501558e-17   \n",
       "std     1.000099e+00   1.000099e+00    1.000099e+00       1.000099  1.000099e+00  1.000099e+00   \n",
       "min    -2.891702e+00  -1.196362e+01   -1.263600e+01      -3.751656 -3.038417e+00 -5.223388e+00   \n",
       "25%    -5.692865e-01  -2.526381e-01   -3.978975e-01      -0.806625 -6.056151e-01 -4.277181e-01   \n",
       "50%     9.462293e-02  -7.443133e-02   -1.996754e-03       0.231141  1.970179e-02  8.362039e-02   \n",
       "75%     6.316454e-01   1.225612e-01    4.000496e-01       0.650670  7.385812e-01  5.264981e-01   \n",
       "max     3.073065e+00   4.518946e+01    1.310715e+01       2.283747  2.190373e+00  3.152643e+00   \n",
       "\n",
       "       KOEXPTIYIndex  KOCPIMOMIndex    Dell_close   Dell_volume  GPGSTOC%Index  SKLIOTARIndex  \\\n",
       "count   5.051000e+03   5.051000e+03  5.051000e+03  5.051000e+03   5.051000e+03   5.051000e+03   \n",
       "mean    3.376168e-17  -4.501558e-17 -5.176791e-16 -2.250779e-17  -4.501558e-17  -1.800623e-16   \n",
       "std     1.000099e+00   1.000099e+00  1.000099e+00  1.000099e+00   1.000099e+00   1.000099e+00   \n",
       "min    -1.878030e+00  -2.690131e+00 -3.450630e+00 -6.379015e+00  -2.525683e+00  -3.215498e+00   \n",
       "25%    -6.042879e-01  -7.189944e-01 -1.750366e-01 -2.321158e-01  -6.679988e-01  -6.484432e-01   \n",
       "50%    -1.935892e-01  -4.929018e-02 -1.750366e-01 -2.321158e-01   9.634040e-02   1.705397e-01   \n",
       "75%     2.111158e-01   6.663402e-01 -1.750366e-01 -2.321158e-01   7.388839e-01   6.227325e-01   \n",
       "max     4.535610e+00   3.073497e+00  5.947797e+00  2.972191e+01   2.151288e+00   1.875787e+00   \n",
       "\n",
       "       Nvidia_volume  SKCIMOMIndex  KOCGCGYIndex  KOECPRCYIndex    LEIBPIndex    AMD_change  \\\n",
       "count   5.051000e+03  5.051000e+03  5.051000e+03   5.051000e+03  5.051000e+03  5.051000e+03   \n",
       "mean   -4.501558e-17  2.250779e-17 -1.350467e-16  -6.752336e-17  5.176791e-16  5.626947e-18   \n",
       "std     1.000099e+00  1.000099e+00  1.000099e+00   1.000099e+00  1.000099e+00  1.000099e+00   \n",
       "min    -2.600001e+00 -2.818175e+00 -2.847475e+00  -3.762879e+00 -1.574009e+00 -8.030470e+00   \n",
       "25%    -6.447441e-01 -6.173743e-01 -6.277090e-01  -4.927036e-01 -8.812054e-01 -4.520775e-01   \n",
       "50%    -2.163676e-01 -5.873404e-02 -2.528554e-02  -4.839142e-02  2.868621e-02 -4.590279e-03   \n",
       "75%     3.729402e-01  4.463038e-01  6.100794e-01   5.264652e-01  5.898836e-01  4.603373e-01   \n",
       "max     9.721242e+00  4.513710e+00  3.001491e+00   2.231530e+00  3.125508e+00  1.185841e+01   \n",
       "\n",
       "       JOLTSEPSIndex     HPE_close  ...  TSMC_product  KOPPIYOYIndex  Philadelphia_volume  \\\n",
       "count   5.051000e+03  5.051000e+03  ...  5.051000e+03   5.051000e+03         5.051000e+03   \n",
       "mean   -5.626947e-16  8.665498e-16  ... -4.360884e-17  -9.003115e-17        -9.003115e-17   \n",
       "std     1.000099e+00  1.000099e+00  ...  1.000099e+00   1.000099e+00         1.000099e+00   \n",
       "min    -1.983476e+00 -2.873950e+00  ... -1.790949e+01  -1.723780e+00        -2.003995e+00   \n",
       "25%    -1.023369e+00  4.519016e-02  ... -2.326915e-01  -6.172665e-01        -7.013689e-01   \n",
       "50%     1.810401e-01  4.519016e-02  ... -7.703170e-02  -1.157333e-01        -2.893003e-01   \n",
       "75%     8.791180e-01  4.519016e-02  ...  1.102796e-01   5.302331e-01         4.738221e-01   \n",
       "max     2.100730e+00  5.252986e+00  ...  5.542068e+01   3.253805e+00         7.564994e+00   \n",
       "\n",
       "       APPLE_volume  RSTAYOYIndex  Micron_product  Micron_volume  PITLCHNGIndex  SAARTOTLIndex  \\\n",
       "count  5.051000e+03  5.051000e+03    5.051000e+03   5.051000e+03   5.051000e+03   5.051000e+03   \n",
       "mean  -9.003115e-17  4.501558e-17    1.519276e-16  -3.376168e-17  -9.847157e-18   1.125389e-15   \n",
       "std    1.000099e+00  1.000099e+00    1.000099e+00   1.000099e+00   1.000099e+00   1.000099e+00   \n",
       "min   -2.687807e+00 -3.666062e+00   -4.704643e+01  -3.218870e+00  -7.648516e+00  -2.622972e+00   \n",
       "25%   -7.658525e-01 -1.290526e-01   -1.291031e-01  -6.216611e-01  -2.624091e-01  -5.972644e-01   \n",
       "50%   -2.755428e-01  1.814165e-01   -3.114270e-02  -1.928131e-01   6.137536e-02   4.059067e-01   \n",
       "75%    4.636361e-01  4.747817e-01    9.238432e-02   3.699876e-01   3.342810e-01   7.530630e-01   \n",
       "max    7.452232e+00  1.379874e+00    3.951153e+01   8.558881e+00   6.486498e+00   1.452347e+00   \n",
       "\n",
       "       EUR_KRW_volume  JPY_KRW_volume  USDollarIndex_volume  USD_KRW_volume  TokyoElectron_change  \\\n",
       "count          5051.0          5051.0                5051.0          5051.0          5.051000e+03   \n",
       "mean              0.0             0.0                   0.0             0.0          2.110105e-18   \n",
       "std               0.0             0.0                   0.0             0.0          1.000099e+00   \n",
       "min               0.0             0.0                   0.0             0.0         -1.361466e+01   \n",
       "25%               0.0             0.0                   0.0             0.0         -4.102880e-01   \n",
       "50%               0.0             0.0                   0.0             0.0         -2.305270e-03   \n",
       "75%               0.0             0.0                   0.0             0.0          4.001642e-01   \n",
       "max               0.0             0.0                   0.0             0.0          8.736244e+00   \n",
       "\n",
       "       Intel_change    KOWDRIndex  Nvidia_product  ShinEtsuChemical_close  memory_price  \\\n",
       "count  5.051000e+03  5.051000e+03    5.051000e+03            5.051000e+03  5.051000e+03   \n",
       "mean   8.440421e-18 -1.215421e-15   -6.611663e-17           -4.501558e-17  9.003115e-17   \n",
       "std    1.000099e+00  1.000099e+00    1.000099e+00            1.000099e+00  1.000099e+00   \n",
       "min   -7.019723e+00 -3.329935e+00   -5.295307e+01           -1.237932e+00 -6.077317e-01   \n",
       "25%   -4.542289e-01 -5.340920e-01   -1.474851e-01           -7.202832e-01 -5.111516e-01   \n",
       "50%    2.981253e-02 -1.064412e-02   -2.746886e-02           -2.475548e-01 -4.147723e-01   \n",
       "75%    4.864554e-01  6.768667e-01    1.206734e-01            3.567248e-01  8.103006e-02   \n",
       "max    7.408106e+00  2.400969e+00    1.537136e+01            3.279764e+00  3.944198e+00   \n",
       "\n",
       "        NFPTCHIndex  NFPPCHIndex  KOGDPYOYIndex  KOEAEPRIndex  USGG3MIndex  SKLILAIIndex  \n",
       "count  5.051000e+03  5051.000000   5.051000e+03  5.051000e+03  5051.000000   5051.000000  \n",
       "mean   4.501558e-17     0.000000  -2.250779e-16 -4.591589e-15     0.000000      0.000000  \n",
       "std    1.000099e+00     1.000099   1.000099e+00  1.000099e+00     1.000099      1.000099  \n",
       "min   -3.954462e+00    -4.296427  -3.021492e+00 -2.969077e+00    -0.743907     -1.487471  \n",
       "25%   -1.181509e-01    -0.097504  -5.172632e-01 -6.552164e-01    -0.687286     -0.931244  \n",
       "50%    3.123393e-01     0.312132  -1.861005e-01  1.699936e-01    -0.605994     -0.133806  \n",
       "75%    5.671247e-01     0.551705   6.958267e-01  8.359336e-01     0.454941      0.755014  \n",
       "max    1.949820e+00     1.184853   2.377769e+00  1.405340e+00     2.483600      1.979421  \n",
       "\n",
       "[8 rows x 98 columns]"
      ]
     },
     "execution_count": 37,
     "metadata": {},
     "output_type": "execute_result"
    }
   ],
   "source": [
    "newdf.describe()"
   ]
  },
  {
   "cell_type": "code",
   "execution_count": 38,
   "metadata": {},
   "outputs": [
    {
     "data": {
      "text/plain": [
       "98"
      ]
     },
     "execution_count": 38,
     "metadata": {},
     "output_type": "execute_result"
    }
   ],
   "source": [
    "len(newdf.columns)"
   ]
  },
  {
   "cell_type": "code",
   "execution_count": 39,
   "metadata": {},
   "outputs": [
    {
     "data": {
      "text/plain": [
       "0"
      ]
     },
     "execution_count": 39,
     "metadata": {},
     "output_type": "execute_result"
    }
   ],
   "source": [
    "newdf.isna().sum().sum()"
   ]
  },
  {
   "cell_type": "code",
   "execution_count": 40,
   "metadata": {},
   "outputs": [],
   "source": [
    "# KRX\n",
    "X_data = newdf.copy()"
   ]
  },
  {
   "cell_type": "code",
   "execution_count": 41,
   "metadata": {},
   "outputs": [],
   "source": [
    "# random split과 not random split\n",
    "#X_train, X_test, y_train, y_test = train_test_split(X_data, y_target, test_size = 0.3, random_state = 156)\n",
    "X_train, X_test, y_train, y_test = train_test_split(X_data, y_target, test_size = 0.2, shuffle = False)"
   ]
  },
  {
   "cell_type": "code",
   "execution_count": 350,
   "metadata": {},
   "outputs": [
    {
     "data": {
      "text/plain": [
       "['Amazon_close',\n",
       " 'RCHSINDXIndex',\n",
       " 'KOIPMCYIndex',\n",
       " 'KOGFBALIndex',\n",
       " 'KOSPI200_volume',\n",
       " 'Aspeed_volume',\n",
       " 'KOPIIYIndex',\n",
       " 'AppliedMaterials_close',\n",
       " 'NAPMPMIIndex',\n",
       " 'SKLINBARIndex',\n",
       " 'NAPMNEWOIndex',\n",
       " 'KOECPRCYIndex',\n",
       " 'TokyoElectron_volume',\n",
       " 'IPCHNGIndex',\n",
       " 'future_bit',\n",
       " 'KOGCSTOQIndex',\n",
       " 'Siltronic_change',\n",
       " 'Micron_change',\n",
       " 'KOECSPRQIndex',\n",
       " 'Dell_product',\n",
       " 'SamsungElectronics_change',\n",
       " 'USD_KRW_change',\n",
       " 'AMD_change',\n",
       " 'Amazon_product',\n",
       " 'IMP1CHNGIndex',\n",
       " 'FRNTTNETIndex',\n",
       " 'RSTAXYOYIndex',\n",
       " 'KODIBALIndex',\n",
       " 'KOTRBALIndex',\n",
       " 'Aspeed_change',\n",
       " 'TSMC_volume',\n",
       " 'Dell_change',\n",
       " 'KOVMDOMSIndex',\n",
       " 'HPE_product',\n",
       " 'KOCGCGYIndex',\n",
       " 'UMC_volume',\n",
       " 'Intel_volume',\n",
       " 'KOIMTOTIndex',\n",
       " 'ShinEtsuChemical_change',\n",
       " 'KOIMPTIMIndex',\n",
       " 'KOMSLYIndex',\n",
       " 'Microsoft_product',\n",
       " 'TSMC_change',\n",
       " 'Microsoft_volume',\n",
       " 'AppliedMaterials_volume',\n",
       " 'COMFBTWRIndex',\n",
       " 'NAPMNMIIndex',\n",
       " 'PCECHNCIndex',\n",
       " 'KOBONTLIndex',\n",
       " 'KOECSIMQIndex',\n",
       " 'KODSDISCIndex',\n",
       " 'KOSVTOTYIndex',\n",
       " 'Amazon_volume',\n",
       " 'Siltronic_product',\n",
       " 'APPLE_product',\n",
       " 'KOGFTEXPIndex',\n",
       " 'Google_product',\n",
       " 'KOEAEPRIndex',\n",
       " 'GDPPIQQIndex',\n",
       " 'MediaTek_change',\n",
       " 'GDPCPCECIndex',\n",
       " 'OUTFGAFIndex',\n",
       " 'PITLCHNGIndex',\n",
       " 'KOGDPYOYIndex',\n",
       " 'KOCCCSIIndex',\n",
       " 'DGNOCHNGIndex',\n",
       " 'COSTNFR%Index',\n",
       " 'EUR_KRW_volume',\n",
       " 'JPY_KRW_volume',\n",
       " 'USDollarIndex_volume',\n",
       " 'USD_KRW_volume',\n",
       " 'Nvidia_product',\n",
       " 'AMD_product',\n",
       " 'TokyoElectron_product',\n",
       " 'SKhynix_product',\n",
       " 'Google_volume',\n",
       " 'Facebook_change',\n",
       " 'AppliedMaterials_product',\n",
       " 'Aspeed_product',\n",
       " 'RSTAXMOMIndex',\n",
       " 'CPMINORDIndex',\n",
       " 'LEIBPIndex',\n",
       " 'KRXsemiconductor_volume',\n",
       " 'SKhynix_volume',\n",
       " 'TMNOCHNGIndex']"
      ]
     },
     "execution_count": 350,
     "metadata": {},
     "output_type": "execute_result"
    }
   ],
   "source": [
    "feature_selected_final"
   ]
  },
  {
   "cell_type": "code",
   "execution_count": 288,
   "metadata": {},
   "outputs": [
    {
     "data": {
      "text/plain": [
       "[0.023143019512357976,\n",
       " 0.046073121358469415,\n",
       " 0.0719961156903447,\n",
       " 0.09808387307124844,\n",
       " 0.10776408598599374,\n",
       " 0.11429051273735102,\n",
       " 0.11927775530524565,\n",
       " 0.12171692603031603,\n",
       " 0.13432940551755934,\n",
       " 0.1421837069154669,\n",
       " 0.14687762523315462,\n",
       " 0.15032845219449875,\n",
       " 0.15192070637372235,\n",
       " 0.153360382305336,\n",
       " 0.15464964079346166,\n",
       " 0.15581074003409368,\n",
       " 0.15686866565269586,\n",
       " 0.15804045371546827,\n",
       " 0.1594560976976438,\n",
       " 0.16014088756947986,\n",
       " 0.16077146819515342,\n",
       " 0.1618508853741063,\n",
       " 0.16250954282033125,\n",
       " 0.1629252496567184,\n",
       " 0.16334836486064597,\n",
       " 0.16379463689761653,\n",
       " 0.16427807932237326,\n",
       " 0.164914146435026,\n",
       " 0.1653071525054427,\n",
       " 0.1661199988919333,\n",
       " 0.1665006233529337,\n",
       " 0.16675326610915953,\n",
       " 0.16709417398217064,\n",
       " 0.16809732912919495,\n",
       " 0.16884487386153413,\n",
       " 0.16998613658782402,\n",
       " 0.17083327258682846,\n",
       " 0.1712385299431558,\n",
       " 0.1723062844300074,\n",
       " 0.17470302838133123,\n",
       " 0.1757238468623279,\n",
       " 0.17601022422367973,\n",
       " 0.1762710649139082,\n",
       " 0.17648223142994623,\n",
       " 0.17669230400709168,\n",
       " 0.17691798334805642,\n",
       " 0.1773687055759381,\n",
       " 0.17833472890082025,\n",
       " 0.1787788186377931,\n",
       " 0.17937052080521998,\n",
       " 0.17964640343721283,\n",
       " 0.17979995074922084,\n",
       " 0.17994869073348918,\n",
       " 0.18004959025519374,\n",
       " 0.18014134720707664,\n",
       " 0.1802320207026592,\n",
       " 0.18032689212619146,\n",
       " 0.18057880447217778,\n",
       " 0.18069427569772623,\n",
       " 0.18080016925689757,\n",
       " 0.18102042705987553,\n",
       " 0.18125983171876492,\n",
       " 0.18135398554887672,\n",
       " 0.18135709700579017,\n",
       " 0.1814730393786298,\n",
       " 0.18149791373978985,\n",
       " 0.1814993552816071,\n",
       " 0.1814993552816072,\n",
       " 0.1814993552816072,\n",
       " 0.1814993552816072,\n",
       " 0.1814993552816072,\n",
       " 0.1814537431359865,\n",
       " 0.18140664417014762,\n",
       " 0.18135836954715856,\n",
       " 0.18124334781687212,\n",
       " 0.18110267660000623,\n",
       " 0.18096729358631014,\n",
       " 0.180818507965414,\n",
       " 0.1806487724002256,\n",
       " 0.18044958660175303,\n",
       " 0.1807483372028046,\n",
       " 0.18073061324883932,\n",
       " 0.18287879416994457,\n",
       " 0.18311978860302558,\n",
       " 0.18321230864057092,\n",
       " 0.18305927506421282,\n",
       " 0.18286367462693087,\n",
       " 0.18283084418794626,\n",
       " 0.18259874307803114,\n",
       " 0.1821764410949387,\n",
       " 0.18182194438341714,\n",
       " 0.1815386356494414,\n",
       " 0.18106041242801596,\n",
       " 0.18046844262827755,\n",
       " 0.18022796494563542,\n",
       " 0.17187161497143078,\n",
       " 0.16885755429905336,\n",
       " 0.13606329508266934,\n",
       " 0.17298004887490115,\n",
       " 0.10984818142457498,\n",
       " 0.16982506711531398,\n",
       " 0.09314069802580438,\n",
       " 0.13233085014681123,\n",
       " 0.14883630521038493,\n",
       " 0.06660816423485683,\n",
       " 0.10838490211701368,\n",
       " 0.12512277784385728,\n",
       " 0.09817049081988305,\n",
       " 0.13159448410786356,\n",
       " -0.05214400598073676,\n",
       " 0.023027670570237246,\n",
       " 0.11272204378814177,\n",
       " 0.1087399991930571,\n",
       " 0.101155483819381,\n",
       " 0.09521252391725721,\n",
       " 0.10744643004896037,\n",
       " 0.06053040057441028,\n",
       " 0.08870284757248181,\n",
       " 0.06343613332284903,\n",
       " 0.07474305951264804,\n",
       " 0.08177371473152906,\n",
       " 0.0703337018706588,\n",
       " 0.07741738644975893,\n",
       " 0.059692322029647915,\n",
       " 0.029224333667771885,\n",
       " 0.03454023888795177,\n",
       " 0.026896824314744827,\n",
       " -0.01570593490679273,\n",
       " -0.1539267021034345,\n",
       " -0.03864292515282752,\n",
       " -0.059600596858717214,\n",
       " -0.08291709396062297,\n",
       " -0.15577761230287024,\n",
       " -0.12053106014625325,\n",
       " -0.13679325326592973,\n",
       " -0.21948660408702647,\n",
       " -0.07327575246762663,\n",
       " -0.06693389248145887,\n",
       " -0.21086523088981157,\n",
       " -0.12932143290721676,\n",
       " -0.22429893995090788,\n",
       " -0.27073423945758757,\n",
       " -0.5309693387346002,\n",
       " -0.23647320569861963,\n",
       " -0.4442349974946982,\n",
       " -0.11816068146012126,\n",
       " -0.884769434026814,\n",
       " -0.18350107025925477,\n",
       " -0.396245360746738,\n",
       " -0.8073880326121579,\n",
       " -0.844103284591152,\n",
       " -0.8510261203358187,\n",
       " -0.7519663907118119,\n",
       " -0.49614438013200046,\n",
       " -0.4178595259959448,\n",
       " -0.35992804900619557,\n",
       " -0.2788579531847588,\n",
       " -0.6487436038957,\n",
       " -0.5027578229877945,\n",
       " -0.3376591044817183,\n",
       " -0.6858862186551793,\n",
       " -0.48010295017556315,\n",
       " -0.47247629094728794,\n",
       " -0.48216889913421124,\n",
       " -0.3628145680602144,\n",
       " -0.3661467023409597,\n",
       " -0.4196280591748791,\n",
       " -0.8446130512556778,\n",
       " -0.6494149917094307,\n",
       " -0.7470946976738446,\n",
       " -1.0879295724657387,\n",
       " -0.732935630726848,\n",
       " -1.2990963180135067,\n",
       " -1.4242991338210906,\n",
       " -0.8092073745691872,\n",
       " -0.9320555392779515,\n",
       " -0.4645119158593072,\n",
       " -0.9168257531758897,\n",
       " -0.8937681149018155,\n",
       " -0.90759054721618,\n",
       " -1.1285641018327097,\n",
       " -1.0399911415635947,\n",
       " -1.07294665765748,\n",
       " -0.840302411775377,\n",
       " -0.7090576785419933,\n",
       " -0.6855071422721524,\n",
       " -0.6643134651132858,\n",
       " -1.015855670866054,\n",
       " -0.762983246181387,\n",
       " -0.8561274375583656,\n",
       " -1.2984791217695366,\n",
       " -1.3611091653577705,\n",
       " -0.6191367332685054,\n",
       " -1.1535583434707677,\n",
       " -0.7779857739679206,\n",
       " -1.0886408647025716,\n",
       " -1.736508998543823,\n",
       " -2.273899148067238,\n",
       " -2.448528466157976,\n",
       " -2.8203210596015933,\n",
       " -2.718380004968452,\n",
       " -2.7153684870416215,\n",
       " -2.80099359790062,\n",
       " -2.678785620199383,\n",
       " -2.7663711633167987,\n",
       " -2.8865502766539377,\n",
       " -2.4249640020990864,\n",
       " -2.464487220616214,\n",
       " -2.3085883566285617,\n",
       " -1.8918806113023292,\n",
       " -1.4449251210572598,\n",
       " -1.4668935229249818,\n",
       " -1.6160690424674664,\n",
       " -2.2616078650356597,\n",
       " -2.1652996929896684,\n",
       " -2.611768578697095,\n",
       " -2.894596011626538,\n",
       " -3.8262290194011834,\n",
       " -2.8363218473590184,\n",
       " -2.9671141715225318,\n",
       " -2.860464049241994,\n",
       " -6.687638614577807,\n",
       " -5.247549087733699,\n",
       " -4.411381287196112,\n",
       " -4.913548195024791,\n",
       " -7.070775935865088,\n",
       " -8.387235647113114,\n",
       " -6.740730101952591,\n",
       " -8.186612357058277,\n",
       " -10.805540993762651,\n",
       " -12.055474569181902,\n",
       " -11.702081189713423,\n",
       " -11.763101140800838,\n",
       " -12.80310020960405,\n",
       " -20.734637733690153,\n",
       " -6.481180929579098,\n",
       " -4.543476205717004,\n",
       " -5.426145849754758,\n",
       " -6.88280817010619,\n",
       " -9.628379222247158,\n",
       " -14.594881387441166,\n",
       " -9.141503229104002,\n",
       " -10.040426556003556,\n",
       " -14.54347138997708,\n",
       " -18.678342474644495,\n",
       " -11.992105921000732,\n",
       " -18.865927626498042,\n",
       " -32.39422069825946,\n",
       " -20.560097469451197,\n",
       " -19.664655955003248,\n",
       " -21.22280172414192,\n",
       " -15.07359448014141,\n",
       " -44.92798965452924,\n",
       " -26.549248149767873,\n",
       " -71.33039125704394,\n",
       " -19.143438040478316,\n",
       " -26.679018810493783,\n",
       " -44.59057725995773,\n",
       " -62.739194672517776,\n",
       " -45.6371079778091,\n",
       " -49.28577805505596,\n",
       " -20.88421838742144,\n",
       " -24.036507698065954,\n",
       " -81.41747057089817,\n",
       " -115.04563314709577,\n",
       " -255.0933189105101,\n",
       " -193.3171540504195,\n",
       " -82.45781781853495,\n",
       " -103.56545217005603,\n",
       " -104.57422572837584,\n",
       " -163.54107761747758,\n",
       " -182.4734038686652,\n",
       " -72.11768224839645,\n",
       " -161.00022872914965,\n",
       " -383.8938971657449,\n",
       " -220.88225125440647,\n",
       " -453.9806541404982,\n",
       " -558.151434392926,\n",
       " -450.1523075033986,\n",
       " -867.929768902843,\n",
       " -776.5797387417927,\n",
       " -796.1409466145001,\n",
       " -999.7462383222804,\n",
       " -454.7710575620376,\n",
       " -607.1407779905082,\n",
       " -562.9504350501265,\n",
       " -554.1307302843111,\n",
       " -492.83810186396477,\n",
       " -503.1278728546467,\n",
       " -562.2016892466963,\n",
       " -578.1441733566489,\n",
       " -914.5044515564495,\n",
       " -1222.1065269937155,\n",
       " -1143.2706945816851,\n",
       " -1971.5363787793297,\n",
       " -1081.9078376359887,\n",
       " -4036.3657414477416,\n",
       " -2754.2944340021727,\n",
       " -4279.4160709192065,\n",
       " -4535.961161869583,\n",
       " -21650.500935403208,\n",
       " -87256.49165222577,\n",
       " -78120.25573520335,\n",
       " -89490.10511821932,\n",
       " -200297.46814223786,\n",
       " -205213.5734044253,\n",
       " -199233.34522678627,\n",
       " -214157.9103532203,\n",
       " -49307.59540398725,\n",
       " -38539.64637475674,\n",
       " -30699.850538424667,\n",
       " -24921.513184834497,\n",
       " -23448.113026125797,\n",
       " -22117.92572734332,\n",
       " -21704.85421811158,\n",
       " -21599.521645691984,\n",
       " -20899.373832116187,\n",
       " -20705.883831509775,\n",
       " -20354.75179889322,\n",
       " -39302.433532571056,\n",
       " -7.804920795642026e+19,\n",
       " -8.56973372610074e+17,\n",
       " -2.429270035232634e+18,\n",
       " -1.5019655478953863e+19,\n",
       " -1.6042692951961177e+20,\n",
       " -2.3101842772055523e+17,\n",
       " -1.4017806955147652e+20,\n",
       " -2.2341444979020585e+20,\n",
       " -2.088545782024261e+18,\n",
       " -1.0954123421087731e+20,\n",
       " -5.293989013775883e+22,\n",
       " -3.708506038899808e+19,\n",
       " -1.6814272904235357e+22,\n",
       " -1.2116208172768356e+23,\n",
       " -5.4387655736557e+21,\n",
       " -1.949988657333479e+23,\n",
       " -1.4075963392954345e+23,\n",
       " -1.67226510504781e+23,\n",
       " -1.4546425433109029e+23,\n",
       " -1.8045479370661156e+23,\n",
       " -9.486395562441428e+22,\n",
       " -1.8743741923604483e+23,\n",
       " -1.0556960727961817e+23,\n",
       " -1.2278782800651507e+23,\n",
       " -8.18520537630698e+22,\n",
       " -8.864873458801882e+22,\n",
       " -1.1025390576820238e+23,\n",
       " -1.682237679901926e+23,\n",
       " -9.960858525750614e+22,\n",
       " -2.1777478350663862e+23,\n",
       " -8.177787869085142e+23,\n",
       " -9.768299805998208e+23,\n",
       " -5.316825097007969e+23,\n",
       " -5.133434619475274e+23,\n",
       " -6.435393181569868e+23,\n",
       " -9.364310639136111e+23,\n",
       " -1.1952096377829704e+24,\n",
       " -7.579989340419322e+23,\n",
       " -1.1302658735344521e+24,\n",
       " -7.026844391726354e+23,\n",
       " -8.54635720725397e+23,\n",
       " -7.662211756658074e+23,\n",
       " -9.817929670084388e+23,\n",
       " -1.270634325152662e+24,\n",
       " -8.806736911548569e+23,\n",
       " -7.092296254276647e+23,\n",
       " -8.4086641951918e+23,\n",
       " -1.236182965925422e+24,\n",
       " -1.0822061114877717e+24,\n",
       " -1.3964678767108466e+24,\n",
       " -1.5445926495649588e+24,\n",
       " -1.1593429610048282e+24,\n",
       " -7.2037213249935e+23,\n",
       " -7.09575022247687e+23,\n",
       " -7.893054849356071e+23,\n",
       " -6.072075306183178e+23,\n",
       " -5.005201656034268e+23,\n",
       " -5.8268715307330073e+23,\n",
       " -6.15529864004267e+23,\n",
       " -5.016115051596849e+23,\n",
       " -4.1198678769049504e+23,\n",
       " -4.578358146819453e+23,\n",
       " -5.260071640757575e+23,\n",
       " -4.589972722225945e+23,\n",
       " -4.47117816345481e+23,\n",
       " -4.899803164329133e+23,\n",
       " -7.280532972790684e+23,\n",
       " -3.0481822458763526e+23,\n",
       " -2.665331532426197e+23,\n",
       " -3.2854993668494964e+23,\n",
       " -3.865577082481734e+23,\n",
       " -1.6317638704667974e+23,\n",
       " -4.670201172181421e+23,\n",
       " -3.220120317130546e+23,\n",
       " -4.9436161618493306e+23,\n",
       " -4.2477881735559624e+23,\n",
       " -4.6827316969990033e+23,\n",
       " -7.325506125108798e+23,\n",
       " -2.9142609075304963e+23,\n",
       " -3.449989511205459e+23,\n",
       " -2.5613617788158968e+23,\n",
       " -2.932497718438591e+23,\n",
       " -4.445459351824193e+23,\n",
       " -1.8911035416355226e+23,\n",
       " -3.8426320053254114e+23,\n",
       " -3.0166595397238362e+23,\n",
       " -3.097012261421447e+23,\n",
       " -3.367483568296367e+23,\n",
       " -1.739664569964292e+23,\n",
       " -1.8179812183822537e+23,\n",
       " -1.5982141716902494e+23,\n",
       " -1.619080101769773e+23,\n",
       " -1.349294591161577e+23,\n",
       " -4.6045313333668613e+23,\n",
       " -3.50515931942411e+23,\n",
       " -2.034271962076768e+23,\n",
       " -5.258996455239717e+23,\n",
       " -1.2541861455073222e+23,\n",
       " -2.6396430024734503e+23,\n",
       " -3.784128635635651e+23,\n",
       " -2.4052391643486652e+23,\n",
       " -4.8257643728975284e+23,\n",
       " -6.235988716161434e+23,\n",
       " -6.529697308509613e+23,\n",
       " -1.75807052022004e+23,\n",
       " -6.074912298693795e+23,\n",
       " -4.168558421718055e+23,\n",
       " -4.755703749747998e+23,\n",
       " -3.8046116987169724e+23,\n",
       " -3.8758581006324334e+23,\n",
       " -3.18356817958431e+23,\n",
       " -5.2927779228699975e+23,\n",
       " -4.377224621468357e+23,\n",
       " -1.0197236141538223e+24,\n",
       " -6.250626763939699e+23,\n",
       " -8.19958015378008e+23,\n",
       " -7.899457398396444e+23,\n",
       " -9.73696816833402e+23,\n",
       " -2.3439749460872332e+24,\n",
       " -5.303420101158799e+24]"
      ]
     },
     "execution_count": 288,
     "metadata": {},
     "output_type": "execute_result"
    }
   ],
   "source": [
    "score"
   ]
  },
  {
   "cell_type": "code",
   "execution_count": 295,
   "metadata": {},
   "outputs": [
    {
     "ename": "IndentationError",
     "evalue": "unexpected indent (<ipython-input-295-4567bde8128e>, line 8)",
     "output_type": "error",
     "traceback": [
      "\u001b[0;36m  File \u001b[0;32m\"<ipython-input-295-4567bde8128e>\"\u001b[0;36m, line \u001b[0;32m8\u001b[0m\n\u001b[0;31m    score_temp_list = np.zeros(len(feature_name)) # 438개의 zeros\u001b[0m\n\u001b[0m    ^\u001b[0m\n\u001b[0;31mIndentationError\u001b[0m\u001b[0;31m:\u001b[0m unexpected indent\n"
     ]
    }
   ],
   "source": [
    "np.random.seed(0)\n",
    "\n",
    "feature_name = list(X_train.columns)\n",
    "feature_selected = []\n",
    "score = []\n",
    "\n",
    "for i in range(X_train.shape[1]): # 438 개 columns\n",
    "    score_temp_list = np.zeros(len(feature_name)) # 438개의 zeros\n",
    "    for j in range(len(feature_name)):\n",
    "        temp = feature_selected.copy() # temp에 복사 <- 그 전에 만들어진 feature_selected에서 갖고 옴 ## 그리고 다시 돌아와서 제일 높은 feature를 복사하고 또 순서대로 추가해 간다. \n",
    "        temp.append(feature_name[j]) # feature_name 전체 중에 j번째(0~438중) 를 현재 feature목록에 추가\n",
    "        x_temp = X_train[temp] # 해당 column들만으로 df생성\n",
    "        lr_temp = LinearRegression() \n",
    "        lr_temp.fit(x_temp, y_train) # 그 column들만으로 fit\n",
    "        predict_temp = lr_temp.predict(X_test[temp]) # 그리고 예측하고\n",
    "        #mse_tmep = mean_squared_error(y_test, predict_temp)\n",
    "        #rmse_temp = np.sqrt(mse_temp)\n",
    "        r2_temp = r2_score(y_test, predict_temp)\n",
    "        score_temp = r2_temp#[rmse_temp, r2_temp] # 만들자 \n",
    "        score_temp_list[j] = score_temp # score temp를 0~ 0 으로 이뤄진 score_temp_list의 j번째 위치에 박아 넣는다. \n",
    "        # 이렇게 한바퀴가 돌아서 각 feature column의 위치에 해당 column을 추가했을 때의 성적이 다 박힌다. \n",
    "    # 그렇게 만들어진 score temp list에서 제일 높은 성적을 보였던 column의 위치를 \n",
    "    # feature name에 넣어서 해당 column을 보존하고\n",
    "    # 그걸 feature_selected에 넣어서 보관한다. \n",
    "    # 그리고 해당 column을 전체 feature_name에서 지운다.\n",
    "    # 그러면 나머지 중에서 다시 돌겠지. \n",
    "    # 해당 순서대로 score 도 해당 위치에 추가 된다. \n",
    "        \n",
    "    temp = feature_name[score_temp_list.argmax()]\n",
    "    feature_selected.append(temp)\n",
    "    feature_name.remove(temp)\n",
    "    score.append(score_temp_list.max())\n",
    "    print(\"%02d Selected: \"%i, feature_selected)\n",
    "    print(\"%02d Score : \"%i, np.round(10000*np.array(score))/10000)\n",
    "        \n",
    "# finally selected features\n",
    "feature_selected_final = feature_selected[:(np.array(score).argmax() + 1)]"
   ]
  },
  {
   "cell_type": "code",
   "execution_count": 294,
   "metadata": {},
   "outputs": [
    {
     "data": {
      "text/plain": [
       "440"
      ]
     },
     "execution_count": 294,
     "metadata": {},
     "output_type": "execute_result"
    }
   ],
   "source": [
    "len(newdf.columns)"
   ]
  },
  {
   "cell_type": "code",
   "execution_count": 71,
   "metadata": {},
   "outputs": [],
   "source": [
    "lr_reg = LinearRegression()"
   ]
  },
  {
   "cell_type": "code",
   "execution_count": 72,
   "metadata": {},
   "outputs": [
    {
     "data": {
      "text/plain": [
       "LinearRegression(copy_X=True, fit_intercept=True, n_jobs=None, normalize=False)"
      ]
     },
     "execution_count": 72,
     "metadata": {},
     "output_type": "execute_result"
    }
   ],
   "source": [
    "lr_reg.fit(X_train, y_train)"
   ]
  },
  {
   "cell_type": "code",
   "execution_count": 73,
   "metadata": {},
   "outputs": [],
   "source": [
    "y_pred = lr_reg.predict(X_test)"
   ]
  },
  {
   "cell_type": "code",
   "execution_count": 74,
   "metadata": {},
   "outputs": [
    {
     "data": {
      "text/plain": [
       "0.27386104369500763"
      ]
     },
     "execution_count": 74,
     "metadata": {},
     "output_type": "execute_result"
    }
   ],
   "source": [
    "r2_score(y_test, y_pred)"
   ]
  },
  {
   "cell_type": "markdown",
   "metadata": {},
   "source": [
    "# Tree Model"
   ]
  },
  {
   "cell_type": "code",
   "execution_count": 101,
   "metadata": {},
   "outputs": [],
   "source": [
    "dt_reg = DecisionTreeRegressor(random_state = 0, max_depth = 100)\n",
    "#rf_reg = RandomForestRegressor(random_state = 0, n_estimators = 1000)\n",
    "#gb_reg = GradientBoostingRegressor(random_state = 0, n_estimators = 1000)\n",
    "xgb_reg = XGBRegressor(n_estimators = 1000)\n",
    "lgb_reg = LGBMRegressor(n_estimators = 3000)"
   ]
  },
  {
   "cell_type": "code",
   "execution_count": 102,
   "metadata": {},
   "outputs": [],
   "source": [
    "def get_tree_model_r2score(model, X_train, y_train, X_test, y_test):\n",
    "    model.fit(X_train, y_train)\n",
    "    y_pred = model.predict(X_test)\n",
    "    mse = mean_squared_error(y_test, y_pred)\n",
    "    rmse = np.sqrt(mse)\n",
    "    print(\"model name :\", model.__class__.__name__)\n",
    "    print('MSE: {0: .3f}, RMSE : {1:.3F}'.format(mse, rmse))\n",
    "    print('Variance Score : {0:3f}'.format(r2_score(y_test, y_pred)))"
   ]
  },
  {
   "cell_type": "code",
   "execution_count": 103,
   "metadata": {},
   "outputs": [
    {
     "name": "stdout",
     "output_type": "stream",
     "text": [
      "model name : DecisionTreeRegressor\n",
      "MSE:  7.934, RMSE : 2.817\n",
      "Variance Score : -1.040180\n",
      "[10:34:23] WARNING: src/objective/regression_obj.cu:152: reg:linear is now deprecated in favor of reg:squarederror.\n",
      "model name : XGBRegressor\n",
      "MSE:  5.648, RMSE : 2.377\n",
      "Variance Score : -0.452380\n",
      "model name : LGBMRegressor\n",
      "MSE:  3.296, RMSE : 1.816\n",
      "Variance Score : 0.152407\n"
     ]
    }
   ],
   "source": [
    "# 트리 기반 회귀 모델을 반복하며 평가 수행\n",
    "tree_models = [dt_reg, xgb_reg, lgb_reg]\n",
    "for model in tree_models:\n",
    "    get_tree_model_r2score(model, X_train, y_train, X_test, y_test)"
   ]
  },
  {
   "cell_type": "code",
   "execution_count": 42,
   "metadata": {},
   "outputs": [],
   "source": [
    "lgb_reg = LGBMRegressor(n_estimators = 1000, learning_rate =0.1, max_depth = 100)"
   ]
  },
  {
   "cell_type": "code",
   "execution_count": 42,
   "metadata": {},
   "outputs": [
    {
     "ename": "NameError",
     "evalue": "name 'lgb_reg' is not defined",
     "output_type": "error",
     "traceback": [
      "\u001b[0;31m--------------------------------------------------------------\u001b[0m",
      "\u001b[0;31mNameError\u001b[0m                    Traceback (most recent call last)",
      "\u001b[0;32m<ipython-input-42-efd1a2ee2ffb>\u001b[0m in \u001b[0;36m<module>\u001b[0;34m\u001b[0m\n\u001b[0;32m----> 1\u001b[0;31m \u001b[0mlgb_reg\u001b[0m\u001b[0;34m.\u001b[0m\u001b[0mfit\u001b[0m\u001b[0;34m(\u001b[0m\u001b[0mX_train\u001b[0m\u001b[0;34m,\u001b[0m \u001b[0my_train\u001b[0m\u001b[0;34m)\u001b[0m\u001b[0;34m\u001b[0m\u001b[0;34m\u001b[0m\u001b[0m\n\u001b[0m",
      "\u001b[0;31mNameError\u001b[0m: name 'lgb_reg' is not defined"
     ]
    }
   ],
   "source": [
    "lgb_reg.fit(X_train, y_train)"
   ]
  },
  {
   "cell_type": "code",
   "execution_count": 44,
   "metadata": {},
   "outputs": [],
   "source": [
    "y_pred = lgb_reg.predict(X_test)"
   ]
  },
  {
   "cell_type": "code",
   "execution_count": 45,
   "metadata": {},
   "outputs": [
    {
     "name": "stdout",
     "output_type": "stream",
     "text": [
      "Variance Score : 0.152869\n"
     ]
    }
   ],
   "source": [
    "print('Variance Score : {0:3f}'.format(r2_score(y_test, y_pred)))"
   ]
  },
  {
   "cell_type": "code",
   "execution_count": 55,
   "metadata": {},
   "outputs": [],
   "source": [
    "import sklearn.ensemble\n",
    "import sklearn.model_selection\n",
    "from sklearn.metrics import r2_score\n",
    "import optuna\n",
    "import optuna.integration.lightgbm as lgb"
   ]
  },
  {
   "cell_type": "code",
   "execution_count": 56,
   "metadata": {},
   "outputs": [
    {
     "name": "stderr",
     "output_type": "stream",
     "text": [
      "tune_feature_fraction, val_score: inf:   0%|          | 0/7 [00:00<?, ?it/s]"
     ]
    },
    {
     "name": "stdout",
     "output_type": "stream",
     "text": [
      "Training until validation scores don't improve for 100 rounds\n"
     ]
    },
    {
     "name": "stderr",
     "output_type": "stream",
     "text": [
      "tune_feature_fraction, val_score: 3.169509:  14%|#4        | 1/7 [00:00<00:03,  1.86it/s]\u001b[32m[I 2020-02-11 17:40:51,020]\u001b[0m Finished trial#0 resulted in value: 3.169508895741706. Current best value is 3.169508895741706 with parameters: {'feature_fraction': 0.4}.\u001b[0m\n",
      "tune_feature_fraction, val_score: 3.169509:  14%|#4        | 1/7 [00:00<00:03,  1.86it/s]"
     ]
    },
    {
     "name": "stdout",
     "output_type": "stream",
     "text": [
      "[100]\ttraining's l2: 0.893492\tvalid_1's l2: 3.22056\n",
      "Early stopping, best iteration is:\n",
      "[52]\ttraining's l2: 1.53227\tvalid_1's l2: 3.16951\n",
      "Training until validation scores don't improve for 100 rounds\n"
     ]
    },
    {
     "name": "stderr",
     "output_type": "stream",
     "text": [
      "tune_feature_fraction, val_score: 3.132785:  29%|##8       | 2/7 [00:01<00:02,  1.78it/s]\u001b[32m[I 2020-02-11 17:40:51,637]\u001b[0m Finished trial#1 resulted in value: 3.1327849915027506. Current best value is 3.1327849915027506 with parameters: {'feature_fraction': 0.5}.\u001b[0m\n",
      "tune_feature_fraction, val_score: 3.132785:  29%|##8       | 2/7 [00:01<00:02,  1.78it/s]"
     ]
    },
    {
     "name": "stdout",
     "output_type": "stream",
     "text": [
      "[100]\ttraining's l2: 0.875565\tvalid_1's l2: 3.16663\n",
      "Early stopping, best iteration is:\n",
      "[40]\ttraining's l2: 1.78516\tvalid_1's l2: 3.13278\n",
      "Training until validation scores don't improve for 100 rounds\n"
     ]
    },
    {
     "name": "stderr",
     "output_type": "stream",
     "text": [
      "tune_feature_fraction, val_score: 3.123671:  43%|####2     | 3/7 [00:01<00:02,  1.87it/s]\u001b[32m[I 2020-02-11 17:40:52,103]\u001b[0m Finished trial#2 resulted in value: 3.123671091536402. Current best value is 3.123671091536402 with parameters: {'feature_fraction': 0.6}.\u001b[0m\n",
      "tune_feature_fraction, val_score: 3.123671:  43%|####2     | 3/7 [00:01<00:02,  1.87it/s]"
     ]
    },
    {
     "name": "stdout",
     "output_type": "stream",
     "text": [
      "[100]\ttraining's l2: 0.859235\tvalid_1's l2: 3.2275\n",
      "Early stopping, best iteration is:\n",
      "[30]\ttraining's l2: 2.04017\tvalid_1's l2: 3.12367\n",
      "Training until validation scores don't improve for 100 rounds\n"
     ]
    },
    {
     "name": "stderr",
     "output_type": "stream",
     "text": [
      "tune_feature_fraction, val_score: 3.105127:  57%|#####7    | 4/7 [00:02<00:01,  1.90it/s]\u001b[32m[I 2020-02-11 17:40:52,614]\u001b[0m Finished trial#3 resulted in value: 3.1051273265993653. Current best value is 3.1051273265993653 with parameters: {'feature_fraction': 0.7}.\u001b[0m\n",
      "tune_feature_fraction, val_score: 3.105127:  57%|#####7    | 4/7 [00:02<00:01,  1.90it/s]"
     ]
    },
    {
     "name": "stdout",
     "output_type": "stream",
     "text": [
      "[100]\ttraining's l2: 0.84341\tvalid_1's l2: 3.16958\n",
      "Early stopping, best iteration is:\n",
      "[28]\ttraining's l2: 2.08507\tvalid_1's l2: 3.10513\n",
      "Training until validation scores don't improve for 100 rounds\n",
      "[100]\ttraining's l2: 0.83263\tvalid_1's l2: 3.18265\n"
     ]
    },
    {
     "name": "stderr",
     "output_type": "stream",
     "text": [
      "tune_feature_fraction, val_score: 3.105127:  71%|#######1  | 5/7 [00:02<00:01,  1.60it/s]\u001b[32m[I 2020-02-11 17:40:53,473]\u001b[0m Finished trial#4 resulted in value: 3.1124717075096204. Current best value is 3.1051273265993653 with parameters: {'feature_fraction': 0.7}.\u001b[0m\n",
      "tune_feature_fraction, val_score: 3.105127:  71%|#######1  | 5/7 [00:03<00:01,  1.60it/s]"
     ]
    },
    {
     "name": "stdout",
     "output_type": "stream",
     "text": [
      "Early stopping, best iteration is:\n",
      "[42]\ttraining's l2: 1.66299\tvalid_1's l2: 3.11247\n",
      "Training until validation scores don't improve for 100 rounds\n"
     ]
    },
    {
     "name": "stderr",
     "output_type": "stream",
     "text": [
      "tune_feature_fraction, val_score: 3.056639:  86%|########5 | 6/7 [00:03<00:00,  1.55it/s]\u001b[32m[I 2020-02-11 17:40:54,158]\u001b[0m Finished trial#5 resulted in value: 3.0566392018006616. Current best value is 3.0566392018006616 with parameters: {'feature_fraction': 0.8999999999999999}.\u001b[0m\n",
      "tune_feature_fraction, val_score: 3.056639:  86%|########5 | 6/7 [00:03<00:00,  1.55it/s]"
     ]
    },
    {
     "name": "stdout",
     "output_type": "stream",
     "text": [
      "[100]\ttraining's l2: 0.821555\tvalid_1's l2: 3.15189\n",
      "Early stopping, best iteration is:\n",
      "[36]\ttraining's l2: 1.8222\tvalid_1's l2: 3.05664\n",
      "Training until validation scores don't improve for 100 rounds\n"
     ]
    },
    {
     "name": "stderr",
     "output_type": "stream",
     "text": [
      "tune_feature_fraction, val_score: 3.056639: 100%|##########| 7/7 [00:04<00:00,  1.46it/s]"
     ]
    },
    {
     "name": "stdout",
     "output_type": "stream",
     "text": [
      "[100]\ttraining's l2: 0.816875\tvalid_1's l2: 3.16921\n",
      "Early stopping, best iteration is:\n",
      "[35]\ttraining's l2: 1.83589\tvalid_1's l2: 3.08264\n"
     ]
    },
    {
     "name": "stderr",
     "output_type": "stream",
     "text": [
      "\u001b[32m[I 2020-02-11 17:40:54,946]\u001b[0m Finished trial#6 resulted in value: 3.08263569932661. Current best value is 3.0566392018006616 with parameters: {'feature_fraction': 0.8999999999999999}.\u001b[0m\n",
      "tune_feature_fraction, val_score: 3.056639: 100%|##########| 7/7 [00:04<00:00,  1.55it/s]\n",
      "tune_num_leaves, val_score: 3.056639:   0%|          | 0/20 [00:00<?, ?it/s]"
     ]
    },
    {
     "name": "stdout",
     "output_type": "stream",
     "text": [
      "Training until validation scores don't improve for 100 rounds\n"
     ]
    },
    {
     "name": "stderr",
     "output_type": "stream",
     "text": [
      "tune_num_leaves, val_score: 3.056639:   5%|5         | 1/20 [00:00<00:16,  1.18it/s]"
     ]
    },
    {
     "name": "stdout",
     "output_type": "stream",
     "text": [
      "[100]\ttraining's l2: 0.489099\tvalid_1's l2: 3.18426\n",
      "Early stopping, best iteration is:\n",
      "[29]\ttraining's l2: 1.70322\tvalid_1's l2: 3.12391\n"
     ]
    },
    {
     "name": "stderr",
     "output_type": "stream",
     "text": [
      "\u001b[32m[I 2020-02-11 17:40:55,846]\u001b[0m Finished trial#0 resulted in value: 3.1239131248346212. Current best value is 3.1239131248346212 with parameters: {'num_leaves': 45}.\u001b[0m\n",
      "tune_num_leaves, val_score: 3.056639:   5%|5         | 1/20 [00:00<00:16,  1.18it/s]"
     ]
    },
    {
     "name": "stdout",
     "output_type": "stream",
     "text": [
      "Training until validation scores don't improve for 100 rounds\n"
     ]
    },
    {
     "name": "stderr",
     "output_type": "stream",
     "text": [
      "tune_num_leaves, val_score: 3.056639:  10%|#         | 2/20 [00:01<00:12,  1.39it/s]\u001b[32m[I 2020-02-11 17:40:56,298]\u001b[0m Finished trial#1 resulted in value: 3.0855218069806774. Current best value is 3.0855218069806774 with parameters: {'num_leaves': 13}.\u001b[0m\n",
      "tune_num_leaves, val_score: 3.056639:  10%|#         | 2/20 [00:01<00:12,  1.39it/s]"
     ]
    },
    {
     "name": "stdout",
     "output_type": "stream",
     "text": [
      "[100]\ttraining's l2: 1.7521\tvalid_1's l2: 3.14258\n",
      "Early stopping, best iteration is:\n",
      "[31]\ttraining's l2: 2.6625\tvalid_1's l2: 3.08552\n",
      "Training until validation scores don't improve for 100 rounds\n",
      "[100]\ttraining's l2: 0.252577\tvalid_1's l2: 3.17383\n"
     ]
    },
    {
     "name": "stderr",
     "output_type": "stream",
     "text": [
      "tune_num_leaves, val_score: 3.056639:  15%|#5        | 3/20 [00:03<00:17,  1.05s/it]\u001b[32m[I 2020-02-11 17:40:58,095]\u001b[0m Finished trial#2 resulted in value: 3.0979622953513246. Current best value is 3.0855218069806774 with parameters: {'num_leaves': 13}.\u001b[0m\n",
      "tune_num_leaves, val_score: 3.056639:  15%|#5        | 3/20 [00:03<00:17,  1.05s/it]"
     ]
    },
    {
     "name": "stdout",
     "output_type": "stream",
     "text": [
      "Early stopping, best iteration is:\n",
      "[29]\ttraining's l2: 1.37286\tvalid_1's l2: 3.09796\n",
      "Training until validation scores don't improve for 100 rounds\n",
      "[100]\ttraining's l2: 0.115793\tvalid_1's l2: 3.13095\n"
     ]
    },
    {
     "name": "stderr",
     "output_type": "stream",
     "text": [
      "tune_num_leaves, val_score: 3.056639:  20%|##        | 4/20 [00:06<00:28,  1.80s/it]\u001b[32m[I 2020-02-11 17:41:01,644]\u001b[0m Finished trial#3 resulted in value: 3.1176844126939915. Current best value is 3.0855218069806774 with parameters: {'num_leaves': 13}.\u001b[0m\n",
      "tune_num_leaves, val_score: 3.056639:  20%|##        | 4/20 [00:06<00:28,  1.80s/it]"
     ]
    },
    {
     "name": "stdout",
     "output_type": "stream",
     "text": [
      "Early stopping, best iteration is:\n",
      "[41]\ttraining's l2: 0.574756\tvalid_1's l2: 3.11768\n",
      "Training until validation scores don't improve for 100 rounds\n",
      "[100]\ttraining's l2: 0.110554\tvalid_1's l2: 3.15016\n"
     ]
    },
    {
     "name": "stderr",
     "output_type": "stream",
     "text": [
      "tune_num_leaves, val_score: 3.056639:  25%|##5       | 5/20 [00:10<00:35,  2.36s/it]\u001b[32m[I 2020-02-11 17:41:05,312]\u001b[0m Finished trial#4 resulted in value: 3.1225052960788044. Current best value is 3.0855218069806774 with parameters: {'num_leaves': 13}.\u001b[0m\n",
      "tune_num_leaves, val_score: 3.056639:  25%|##5       | 5/20 [00:10<00:35,  2.36s/it]"
     ]
    },
    {
     "name": "stdout",
     "output_type": "stream",
     "text": [
      "Early stopping, best iteration is:\n",
      "[56]\ttraining's l2: 0.329851\tvalid_1's l2: 3.12251\n",
      "Training until validation scores don't improve for 100 rounds\n"
     ]
    },
    {
     "name": "stderr",
     "output_type": "stream",
     "text": [
      "tune_num_leaves, val_score: 3.030136:  30%|###       | 6/20 [00:10<00:25,  1.79s/it]\u001b[32m[I 2020-02-11 17:41:05,754]\u001b[0m Finished trial#5 resulted in value: 3.0301357713512753. Current best value is 3.0301357713512753 with parameters: {'num_leaves': 17}.\u001b[0m\n",
      "tune_num_leaves, val_score: 3.030136:  30%|###       | 6/20 [00:10<00:25,  1.79s/it]"
     ]
    },
    {
     "name": "stdout",
     "output_type": "stream",
     "text": [
      "[100]\ttraining's l2: 1.4435\tvalid_1's l2: 3.06999\n",
      "Early stopping, best iteration is:\n",
      "[58]\ttraining's l2: 1.92956\tvalid_1's l2: 3.03014\n",
      "Training until validation scores don't improve for 100 rounds\n",
      "[100]\ttraining's l2: 0.191216\tvalid_1's l2: 3.27478\n"
     ]
    },
    {
     "name": "stderr",
     "output_type": "stream",
     "text": [
      "tune_num_leaves, val_score: 3.030136:  35%|###5      | 7/20 [00:12<00:22,  1.73s/it]\u001b[32m[I 2020-02-11 17:41:07,359]\u001b[0m Finished trial#6 resulted in value: 3.1466575633333203. Current best value is 3.0301357713512753 with parameters: {'num_leaves': 17}.\u001b[0m\n",
      "tune_num_leaves, val_score: 3.030136:  35%|###5      | 7/20 [00:12<00:22,  1.73s/it]"
     ]
    },
    {
     "name": "stdout",
     "output_type": "stream",
     "text": [
      "Early stopping, best iteration is:\n",
      "[44]\ttraining's l2: 0.786022\tvalid_1's l2: 3.14666\n",
      "Training until validation scores don't improve for 100 rounds\n",
      "[100]\ttraining's l2: 0.212648\tvalid_1's l2: 3.18076\n"
     ]
    },
    {
     "name": "stderr",
     "output_type": "stream",
     "text": [
      "tune_num_leaves, val_score: 3.030136:  40%|####      | 8/20 [00:13<00:19,  1.61s/it]\u001b[32m[I 2020-02-11 17:41:08,694]\u001b[0m Finished trial#7 resulted in value: 3.1168153816425006. Current best value is 3.0301357713512753 with parameters: {'num_leaves': 17}.\u001b[0m\n",
      "tune_num_leaves, val_score: 3.030136:  40%|####      | 8/20 [00:13<00:19,  1.61s/it]"
     ]
    },
    {
     "name": "stdout",
     "output_type": "stream",
     "text": [
      "Early stopping, best iteration is:\n",
      "[36]\ttraining's l2: 1.0457\tvalid_1's l2: 3.11682\n",
      "Training until validation scores don't improve for 100 rounds\n",
      "[100]\ttraining's l2: 0.110554\tvalid_1's l2: 3.15016\n"
     ]
    },
    {
     "name": "stderr",
     "output_type": "stream",
     "text": [
      "tune_num_leaves, val_score: 3.030136:  45%|####5     | 9/20 [00:16<00:22,  2.05s/it]\u001b[32m[I 2020-02-11 17:41:11,771]\u001b[0m Finished trial#8 resulted in value: 3.1225052960788044. Current best value is 3.0301357713512753 with parameters: {'num_leaves': 17}.\u001b[0m\n",
      "tune_num_leaves, val_score: 3.030136:  45%|####5     | 9/20 [00:16<00:22,  2.05s/it]"
     ]
    },
    {
     "name": "stdout",
     "output_type": "stream",
     "text": [
      "Early stopping, best iteration is:\n",
      "[56]\ttraining's l2: 0.329851\tvalid_1's l2: 3.12251\n",
      "Training until validation scores don't improve for 100 rounds\n",
      "[100]\ttraining's l2: 0.110554\tvalid_1's l2: 3.15016\n"
     ]
    },
    {
     "name": "stderr",
     "output_type": "stream",
     "text": [
      "tune_num_leaves, val_score: 3.030136:  50%|#####     | 10/20 [00:20<00:25,  2.56s/it]\u001b[32m[I 2020-02-11 17:41:15,513]\u001b[0m Finished trial#9 resulted in value: 3.1225052960788044. Current best value is 3.0301357713512753 with parameters: {'num_leaves': 17}.\u001b[0m\n",
      "tune_num_leaves, val_score: 3.030136:  50%|#####     | 10/20 [00:20<00:25,  2.56s/it]"
     ]
    },
    {
     "name": "stdout",
     "output_type": "stream",
     "text": [
      "Early stopping, best iteration is:\n",
      "[56]\ttraining's l2: 0.329851\tvalid_1's l2: 3.12251\n",
      "Training until validation scores don't improve for 100 rounds\n"
     ]
    },
    {
     "name": "stderr",
     "output_type": "stream",
     "text": [
      "tune_num_leaves, val_score: 3.030136:  55%|#####5    | 11/20 [00:20<00:16,  1.87s/it]\u001b[32m[I 2020-02-11 17:41:15,774]\u001b[0m Finished trial#10 resulted in value: 3.0936127897887298. Current best value is 3.0301357713512753 with parameters: {'num_leaves': 17}.\u001b[0m\n",
      "tune_num_leaves, val_score: 3.030136:  55%|#####5    | 11/20 [00:20<00:16,  1.87s/it]"
     ]
    },
    {
     "name": "stdout",
     "output_type": "stream",
     "text": [
      "[100]\ttraining's l2: 2.02177\tvalid_1's l2: 3.13714\n",
      "Early stopping, best iteration is:\n",
      "[30]\ttraining's l2: 2.86691\tvalid_1's l2: 3.09361\n",
      "Training until validation scores don't improve for 100 rounds\n",
      "[100]\ttraining's l2: 3.46887\tvalid_1's l2: 3.05883\n",
      "[200]\ttraining's l2: 3.35864\tvalid_1's l2: 3.05074\n"
     ]
    },
    {
     "name": "stderr",
     "output_type": "stream",
     "text": [
      "tune_num_leaves, val_score: 3.030136:  60%|######    | 12/20 [00:20<00:10,  1.37s/it]\u001b[32m[I 2020-02-11 17:41:15,967]\u001b[0m Finished trial#11 resulted in value: 3.0458325718887047. Current best value is 3.0301357713512753 with parameters: {'num_leaves': 17}.\u001b[0m\n",
      "tune_num_leaves, val_score: 3.030136:  60%|######    | 12/20 [00:21<00:10,  1.37s/it]"
     ]
    },
    {
     "name": "stdout",
     "output_type": "stream",
     "text": [
      "[300]\ttraining's l2: 3.29008\tvalid_1's l2: 3.053\n",
      "Early stopping, best iteration is:\n",
      "[210]\ttraining's l2: 3.35079\tvalid_1's l2: 3.04583\n",
      "Training until validation scores don't improve for 100 rounds\n"
     ]
    },
    {
     "name": "stderr",
     "output_type": "stream",
     "text": [
      "tune_num_leaves, val_score: 3.030136:  65%|######5   | 13/20 [00:21<00:07,  1.03s/it]\u001b[32m[I 2020-02-11 17:41:16,225]\u001b[0m Finished trial#12 resulted in value: 3.099658502256663. Current best value is 3.0301357713512753 with parameters: {'num_leaves': 17}.\u001b[0m\n",
      "tune_num_leaves, val_score: 3.030136:  65%|######5   | 13/20 [00:21<00:07,  1.03s/it]"
     ]
    },
    {
     "name": "stdout",
     "output_type": "stream",
     "text": [
      "[100]\ttraining's l2: 2.12131\tvalid_1's l2: 3.12848\n",
      "Early stopping, best iteration is:\n",
      "[33]\ttraining's l2: 2.863\tvalid_1's l2: 3.09966\n",
      "Training until validation scores don't improve for 100 rounds\n",
      "[100]\ttraining's l2: 0.110554\tvalid_1's l2: 3.15016\n"
     ]
    },
    {
     "name": "stderr",
     "output_type": "stream",
     "text": [
      "tune_num_leaves, val_score: 3.030136:  70%|#######   | 14/20 [00:23<00:09,  1.53s/it]\u001b[32m[I 2020-02-11 17:41:18,909]\u001b[0m Finished trial#13 resulted in value: 3.1225052960788044. Current best value is 3.0301357713512753 with parameters: {'num_leaves': 17}.\u001b[0m\n",
      "tune_num_leaves, val_score: 3.030136:  70%|#######   | 14/20 [00:23<00:09,  1.53s/it]"
     ]
    },
    {
     "name": "stdout",
     "output_type": "stream",
     "text": [
      "Early stopping, best iteration is:\n",
      "[56]\ttraining's l2: 0.329851\tvalid_1's l2: 3.12251\n",
      "Training until validation scores don't improve for 100 rounds\n",
      "[100]\ttraining's l2: 0.603441\tvalid_1's l2: 3.22327\n"
     ]
    },
    {
     "name": "stderr",
     "output_type": "stream",
     "text": [
      "tune_num_leaves, val_score: 3.030136:  75%|#######5  | 15/20 [00:24<00:06,  1.32s/it]\u001b[32m[I 2020-02-11 17:41:19,746]\u001b[0m Finished trial#14 resulted in value: 3.1181226840443923. Current best value is 3.0301357713512753 with parameters: {'num_leaves': 17}.\u001b[0m\n",
      "tune_num_leaves, val_score: 3.030136:  75%|#######5  | 15/20 [00:24<00:06,  1.32s/it]"
     ]
    },
    {
     "name": "stdout",
     "output_type": "stream",
     "text": [
      "Early stopping, best iteration is:\n",
      "[48]\ttraining's l2: 1.28222\tvalid_1's l2: 3.11812\n",
      "Training until validation scores don't improve for 100 rounds\n",
      "[100]\ttraining's l2: 0.144986\tvalid_1's l2: 3.22153\n"
     ]
    },
    {
     "name": "stderr",
     "output_type": "stream",
     "text": [
      "tune_num_leaves, val_score: 3.030136:  80%|########  | 16/20 [00:26<00:06,  1.54s/it]\u001b[32m[I 2020-02-11 17:41:21,794]\u001b[0m Finished trial#15 resulted in value: 3.1839466996865347. Current best value is 3.0301357713512753 with parameters: {'num_leaves': 17}.\u001b[0m\n",
      "tune_num_leaves, val_score: 3.030136:  80%|########  | 16/20 [00:26<00:06,  1.54s/it]"
     ]
    },
    {
     "name": "stdout",
     "output_type": "stream",
     "text": [
      "Early stopping, best iteration is:\n",
      "[49]\ttraining's l2: 0.54272\tvalid_1's l2: 3.18395\n",
      "Training until validation scores don't improve for 100 rounds\n",
      "[100]\ttraining's l2: 0.130135\tvalid_1's l2: 3.20589\n"
     ]
    },
    {
     "name": "stderr",
     "output_type": "stream",
     "text": [
      "tune_num_leaves, val_score: 3.030136:  85%|########5 | 17/20 [00:28<00:05,  1.71s/it]\u001b[32m[I 2020-02-11 17:41:23,917]\u001b[0m Finished trial#16 resulted in value: 3.1735378720031067. Current best value is 3.0301357713512753 with parameters: {'num_leaves': 17}.\u001b[0m\n",
      "tune_num_leaves, val_score: 3.030136:  85%|########5 | 17/20 [00:28<00:05,  1.71s/it]"
     ]
    },
    {
     "name": "stdout",
     "output_type": "stream",
     "text": [
      "Early stopping, best iteration is:\n",
      "[36]\ttraining's l2: 0.762859\tvalid_1's l2: 3.17354\n",
      "Training until validation scores don't improve for 100 rounds\n"
     ]
    },
    {
     "name": "stderr",
     "output_type": "stream",
     "text": [
      "tune_num_leaves, val_score: 3.030136:  90%|######### | 18/20 [00:29<00:03,  1.51s/it]"
     ]
    },
    {
     "name": "stdout",
     "output_type": "stream",
     "text": [
      "[100]\ttraining's l2: 0.53787\tvalid_1's l2: 3.17343\n",
      "Early stopping, best iteration is:\n",
      "[27]\ttraining's l2: 1.83405\tvalid_1's l2: 3.08238\n"
     ]
    },
    {
     "name": "stderr",
     "output_type": "stream",
     "text": [
      "\u001b[32m[I 2020-02-11 17:41:24,938]\u001b[0m Finished trial#17 resulted in value: 3.0823762245776387. Current best value is 3.0301357713512753 with parameters: {'num_leaves': 17}.\u001b[0m\n",
      "tune_num_leaves, val_score: 3.030136:  90%|######### | 18/20 [00:29<00:03,  1.51s/it]"
     ]
    },
    {
     "name": "stdout",
     "output_type": "stream",
     "text": [
      "Training until validation scores don't improve for 100 rounds\n",
      "[100]\ttraining's l2: 2.24376\tvalid_1's l2: 3.06119\n"
     ]
    },
    {
     "name": "stderr",
     "output_type": "stream",
     "text": [
      "tune_num_leaves, val_score: 3.030136:  95%|#########5| 19/20 [00:30<00:01,  1.16s/it]\u001b[32m[I 2020-02-11 17:41:25,277]\u001b[0m Finished trial#18 resulted in value: 3.037788866382924. Current best value is 3.0301357713512753 with parameters: {'num_leaves': 17}.\u001b[0m\n",
      "tune_num_leaves, val_score: 3.030136:  95%|#########5| 19/20 [00:30<00:01,  1.16s/it]"
     ]
    },
    {
     "name": "stdout",
     "output_type": "stream",
     "text": [
      "Early stopping, best iteration is:\n",
      "[73]\ttraining's l2: 2.46116\tvalid_1's l2: 3.03779\n",
      "Training until validation scores don't improve for 100 rounds\n"
     ]
    },
    {
     "name": "stderr",
     "output_type": "stream",
     "text": [
      "tune_num_leaves, val_score: 3.017432: 100%|##########| 20/20 [00:31<00:00,  1.13s/it]"
     ]
    },
    {
     "name": "stdout",
     "output_type": "stream",
     "text": [
      "[100]\ttraining's l2: 0.762805\tvalid_1's l2: 3.14432\n",
      "Early stopping, best iteration is:\n",
      "[29]\ttraining's l2: 1.98595\tvalid_1's l2: 3.01743\n"
     ]
    },
    {
     "name": "stderr",
     "output_type": "stream",
     "text": [
      "\u001b[32m[I 2020-02-11 17:41:26,361]\u001b[0m Finished trial#19 resulted in value: 3.017432271908183. Current best value is 3.017432271908183 with parameters: {'num_leaves': 33}.\u001b[0m\n",
      "tune_num_leaves, val_score: 3.017432: 100%|##########| 20/20 [00:31<00:00,  1.57s/it]\n",
      "tune_bagging_fraction_and_bagging_freq, val_score: 3.017432:   0%|          | 0/10 [00:00<?, ?it/s]"
     ]
    },
    {
     "name": "stdout",
     "output_type": "stream",
     "text": [
      "Training until validation scores don't improve for 100 rounds\n",
      "[100]\ttraining's l2: 0.865526\tvalid_1's l2: 3.23994\n"
     ]
    },
    {
     "name": "stderr",
     "output_type": "stream",
     "text": [
      "tune_bagging_fraction_and_bagging_freq, val_score: 3.017432:  10%|#         | 1/10 [00:01<00:10,  1.18s/it]\u001b[32m[I 2020-02-11 17:41:27,599]\u001b[0m Finished trial#0 resulted in value: 3.167798975717763. Current best value is 3.167798975717763 with parameters: {'bagging_fraction': 0.7144612246198425, 'bagging_freq': 6}.\u001b[0m\n",
      "tune_bagging_fraction_and_bagging_freq, val_score: 3.017432:  10%|#         | 1/10 [00:01<00:10,  1.18s/it]"
     ]
    },
    {
     "name": "stdout",
     "output_type": "stream",
     "text": [
      "Early stopping, best iteration is:\n",
      "[29]\ttraining's l2: 2.17387\tvalid_1's l2: 3.1678\n",
      "Training until validation scores don't improve for 100 rounds\n"
     ]
    },
    {
     "name": "stderr",
     "output_type": "stream",
     "text": [
      "tune_bagging_fraction_and_bagging_freq, val_score: 3.017432:  20%|##        | 2/10 [00:02<00:10,  1.26s/it]"
     ]
    },
    {
     "name": "stdout",
     "output_type": "stream",
     "text": [
      "[100]\ttraining's l2: 0.776994\tvalid_1's l2: 3.23074\n",
      "Early stopping, best iteration is:\n",
      "[29]\ttraining's l2: 2.06041\tvalid_1's l2: 3.12499\n"
     ]
    },
    {
     "name": "stderr",
     "output_type": "stream",
     "text": [
      "\u001b[32m[I 2020-02-11 17:41:29,062]\u001b[0m Finished trial#1 resulted in value: 3.1249863719831485. Current best value is 3.1249863719831485 with parameters: {'bagging_fraction': 0.8117234137956614, 'bagging_freq': 1}.\u001b[0m\n",
      "tune_bagging_fraction_and_bagging_freq, val_score: 3.017432:  20%|##        | 2/10 [00:02<00:10,  1.26s/it]"
     ]
    },
    {
     "name": "stdout",
     "output_type": "stream",
     "text": [
      "Training until validation scores don't improve for 100 rounds\n",
      "[100]\ttraining's l2: 0.771317\tvalid_1's l2: 3.24448\n",
      "Early stopping, best iteration is:\n",
      "[29]\ttraining's l2: 2\tvalid_1's l2: 3.18614\n"
     ]
    },
    {
     "name": "stderr",
     "output_type": "stream",
     "text": [
      "tune_bagging_fraction_and_bagging_freq, val_score: 3.017432:  30%|###       | 3/10 [00:03<00:08,  1.16s/it]\u001b[32m[I 2020-02-11 17:41:29,969]\u001b[0m Finished trial#2 resulted in value: 3.1861448033356483. Current best value is 3.1249863719831485 with parameters: {'bagging_fraction': 0.8117234137956614, 'bagging_freq': 1}.\u001b[0m\n",
      "tune_bagging_fraction_and_bagging_freq, val_score: 3.017432:  30%|###       | 3/10 [00:03<00:08,  1.16s/it]"
     ]
    },
    {
     "name": "stdout",
     "output_type": "stream",
     "text": [
      "Training until validation scores don't improve for 100 rounds\n"
     ]
    },
    {
     "name": "stderr",
     "output_type": "stream",
     "text": [
      "tune_bagging_fraction_and_bagging_freq, val_score: 3.017432:  40%|####      | 4/10 [00:04<00:06,  1.01s/it]\u001b[32m[I 2020-02-11 17:41:30,638]\u001b[0m Finished trial#3 resulted in value: 3.057093983627396. Current best value is 3.057093983627396 with parameters: {'bagging_fraction': 0.48180456334184885, 'bagging_freq': 7}.\u001b[0m\n",
      "tune_bagging_fraction_and_bagging_freq, val_score: 3.017432:  40%|####      | 4/10 [00:04<00:06,  1.01s/it]"
     ]
    },
    {
     "name": "stdout",
     "output_type": "stream",
     "text": [
      "[100]\ttraining's l2: 1.17984\tvalid_1's l2: 3.21027\n",
      "Early stopping, best iteration is:\n",
      "[21]\ttraining's l2: 2.66219\tvalid_1's l2: 3.05709\n",
      "Training until validation scores don't improve for 100 rounds\n",
      "[100]\ttraining's l2: 0.808874\tvalid_1's l2: 3.09768\n"
     ]
    },
    {
     "name": "stderr",
     "output_type": "stream",
     "text": [
      "tune_bagging_fraction_and_bagging_freq, val_score: 3.017432:  50%|#####     | 5/10 [00:05<00:05,  1.10s/it]"
     ]
    },
    {
     "name": "stdout",
     "output_type": "stream",
     "text": [
      "[200]\ttraining's l2: 0.270021\tvalid_1's l2: 3.10051\n",
      "Early stopping, best iteration is:\n",
      "[128]\ttraining's l2: 0.588521\tvalid_1's l2: 3.08656\n"
     ]
    },
    {
     "name": "stderr",
     "output_type": "stream",
     "text": [
      "\u001b[32m[I 2020-02-11 17:41:31,959]\u001b[0m Finished trial#4 resulted in value: 3.0865637239115515. Current best value is 3.057093983627396 with parameters: {'bagging_fraction': 0.48180456334184885, 'bagging_freq': 7}.\u001b[0m\n",
      "tune_bagging_fraction_and_bagging_freq, val_score: 3.017432:  50%|#####     | 5/10 [00:05<00:05,  1.10s/it]"
     ]
    },
    {
     "name": "stdout",
     "output_type": "stream",
     "text": [
      "Training until validation scores don't improve for 100 rounds\n"
     ]
    },
    {
     "name": "stderr",
     "output_type": "stream",
     "text": [
      "tune_bagging_fraction_and_bagging_freq, val_score: 3.017432:  60%|######    | 6/10 [00:06<00:03,  1.01it/s]"
     ]
    },
    {
     "name": "stdout",
     "output_type": "stream",
     "text": [
      "[100]\ttraining's l2: 0.860982\tvalid_1's l2: 3.31652\n",
      "Early stopping, best iteration is:\n",
      "[37]\ttraining's l2: 1.92241\tvalid_1's l2: 3.13524\n"
     ]
    },
    {
     "name": "stderr",
     "output_type": "stream",
     "text": [
      "\u001b[32m[I 2020-02-11 17:41:32,690]\u001b[0m Finished trial#5 resulted in value: 3.135244525196153. Current best value is 3.057093983627396 with parameters: {'bagging_fraction': 0.48180456334184885, 'bagging_freq': 7}.\u001b[0m\n",
      "tune_bagging_fraction_and_bagging_freq, val_score: 3.017432:  60%|######    | 6/10 [00:06<00:03,  1.01it/s]"
     ]
    },
    {
     "name": "stdout",
     "output_type": "stream",
     "text": [
      "Training until validation scores don't improve for 100 rounds\n"
     ]
    },
    {
     "name": "stderr",
     "output_type": "stream",
     "text": [
      "tune_bagging_fraction_and_bagging_freq, val_score: 3.017432:  70%|#######   | 7/10 [00:07<00:02,  1.09it/s]\u001b[32m[I 2020-02-11 17:41:33,423]\u001b[0m Finished trial#6 resulted in value: 3.132955774244654. Current best value is 3.057093983627396 with parameters: {'bagging_fraction': 0.48180456334184885, 'bagging_freq': 7}.\u001b[0m\n",
      "tune_bagging_fraction_and_bagging_freq, val_score: 3.017432:  70%|#######   | 7/10 [00:07<00:02,  1.09it/s]"
     ]
    },
    {
     "name": "stdout",
     "output_type": "stream",
     "text": [
      "[100]\ttraining's l2: 0.949879\tvalid_1's l2: 3.22544\n",
      "Early stopping, best iteration is:\n",
      "[27]\ttraining's l2: 2.31414\tvalid_1's l2: 3.13296\n",
      "Training until validation scores don't improve for 100 rounds\n",
      "[100]\ttraining's l2: 0.850318\tvalid_1's l2: 3.21114\n"
     ]
    },
    {
     "name": "stderr",
     "output_type": "stream",
     "text": [
      "tune_bagging_fraction_and_bagging_freq, val_score: 3.017432:  80%|########  | 8/10 [00:07<00:01,  1.10it/s]\u001b[32m[I 2020-02-11 17:41:34,323]\u001b[0m Finished trial#7 resulted in value: 3.0562326081100437. Current best value is 3.0562326081100437 with parameters: {'bagging_fraction': 0.6756738206852981, 'bagging_freq': 2}.\u001b[0m\n",
      "tune_bagging_fraction_and_bagging_freq, val_score: 3.017432:  80%|########  | 8/10 [00:07<00:01,  1.10it/s]"
     ]
    },
    {
     "name": "stdout",
     "output_type": "stream",
     "text": [
      "Early stopping, best iteration is:\n",
      "[39]\ttraining's l2: 1.86543\tvalid_1's l2: 3.05623\n",
      "Training until validation scores don't improve for 100 rounds\n",
      "[100]\ttraining's l2: 0.919099\tvalid_1's l2: 3.158\n"
     ]
    },
    {
     "name": "stderr",
     "output_type": "stream",
     "text": [
      "tune_bagging_fraction_and_bagging_freq, val_score: 3.017432:  90%|######### | 9/10 [00:08<00:00,  1.08it/s]\u001b[32m[I 2020-02-11 17:41:35,310]\u001b[0m Finished trial#8 resulted in value: 3.1042171864657537. Current best value is 3.0562326081100437 with parameters: {'bagging_fraction': 0.6756738206852981, 'bagging_freq': 2}.\u001b[0m\n",
      "tune_bagging_fraction_and_bagging_freq, val_score: 3.017432:  90%|######### | 9/10 [00:08<00:00,  1.08it/s]"
     ]
    },
    {
     "name": "stdout",
     "output_type": "stream",
     "text": [
      "Early stopping, best iteration is:\n",
      "[61]\ttraining's l2: 1.43759\tvalid_1's l2: 3.10422\n",
      "Training until validation scores don't improve for 100 rounds\n",
      "[100]\ttraining's l2: 0.862327\tvalid_1's l2: 3.22605\n"
     ]
    },
    {
     "name": "stderr",
     "output_type": "stream",
     "text": [
      "tune_bagging_fraction_and_bagging_freq, val_score: 3.017432: 100%|##########| 10/10 [00:09<00:00,  1.08it/s]\u001b[32m[I 2020-02-11 17:41:36,218]\u001b[0m Finished trial#9 resulted in value: 3.0391241776196622. Current best value is 3.0391241776196622 with parameters: {'bagging_fraction': 0.7500278650580743, 'bagging_freq': 7}.\u001b[0m\n",
      "tune_bagging_fraction_and_bagging_freq, val_score: 3.017432: 100%|##########| 10/10 [00:09<00:00,  1.01it/s]\n",
      "tune_feature_fraction, val_score: 3.017432:   0%|          | 0/6 [00:00<?, ?it/s]"
     ]
    },
    {
     "name": "stdout",
     "output_type": "stream",
     "text": [
      "Early stopping, best iteration is:\n",
      "[36]\ttraining's l2: 1.95676\tvalid_1's l2: 3.03912\n",
      "Training until validation scores don't improve for 100 rounds\n",
      "[100]\ttraining's l2: 0.771667\tvalid_1's l2: 3.19079\n"
     ]
    },
    {
     "name": "stderr",
     "output_type": "stream",
     "text": [
      "tune_feature_fraction, val_score: 3.017432:  17%|#6        | 1/6 [00:01<00:06,  1.23s/it]\u001b[32m[I 2020-02-11 17:41:37,501]\u001b[0m Finished trial#0 resulted in value: 3.1020362383939535. Current best value is 3.1020362383939535 with parameters: {'feature_fraction': 0.82}.\u001b[0m\n",
      "tune_feature_fraction, val_score: 3.017432:  17%|#6        | 1/6 [00:01<00:06,  1.23s/it]"
     ]
    },
    {
     "name": "stdout",
     "output_type": "stream",
     "text": [
      "Early stopping, best iteration is:\n",
      "[52]\ttraining's l2: 1.4038\tvalid_1's l2: 3.10204\n",
      "Training until validation scores don't improve for 100 rounds\n",
      "[100]\ttraining's l2: 0.762993\tvalid_1's l2: 3.28314\n"
     ]
    },
    {
     "name": "stderr",
     "output_type": "stream",
     "text": [
      "tune_feature_fraction, val_score: 3.017432:  33%|###3      | 2/6 [00:02<00:04,  1.19s/it]\u001b[32m[I 2020-02-11 17:41:38,595]\u001b[0m Finished trial#1 resulted in value: 3.1144122065371707. Current best value is 3.1020362383939535 with parameters: {'feature_fraction': 0.82}.\u001b[0m\n",
      "tune_feature_fraction, val_score: 3.017432:  33%|###3      | 2/6 [00:02<00:04,  1.19s/it]"
     ]
    },
    {
     "name": "stdout",
     "output_type": "stream",
     "text": [
      "Early stopping, best iteration is:\n",
      "[34]\ttraining's l2: 1.81381\tvalid_1's l2: 3.11441\n",
      "Training until validation scores don't improve for 100 rounds\n",
      "[100]\ttraining's l2: 0.767811\tvalid_1's l2: 3.12407\n"
     ]
    },
    {
     "name": "stderr",
     "output_type": "stream",
     "text": [
      "tune_feature_fraction, val_score: 3.017432:  50%|#####     | 3/6 [00:03<00:03,  1.14s/it]\u001b[32m[I 2020-02-11 17:41:39,638]\u001b[0m Finished trial#2 resulted in value: 3.0789223692378056. Current best value is 3.0789223692378056 with parameters: {'feature_fraction': 0.8839999999999999}.\u001b[0m\n",
      "tune_feature_fraction, val_score: 3.017432:  50%|#####     | 3/6 [00:03<00:03,  1.14s/it]"
     ]
    },
    {
     "name": "stdout",
     "output_type": "stream",
     "text": [
      "Early stopping, best iteration is:\n",
      "[74]\ttraining's l2: 1.05069\tvalid_1's l2: 3.07892\n",
      "Training until validation scores don't improve for 100 rounds\n"
     ]
    },
    {
     "name": "stderr",
     "output_type": "stream",
     "text": [
      "tune_feature_fraction, val_score: 3.017432:  67%|######6   | 4/6 [00:04<00:02,  1.14s/it]"
     ]
    },
    {
     "name": "stdout",
     "output_type": "stream",
     "text": [
      "[100]\ttraining's l2: 0.747218\tvalid_1's l2: 3.18742\n",
      "Early stopping, best iteration is:\n",
      "[27]\ttraining's l2: 2.04435\tvalid_1's l2: 3.03614\n"
     ]
    },
    {
     "name": "stderr",
     "output_type": "stream",
     "text": [
      "\u001b[32m[I 2020-02-11 17:41:40,754]\u001b[0m Finished trial#3 resulted in value: 3.0361443352195283. Current best value is 3.0361443352195283 with parameters: {'feature_fraction': 0.9159999999999999}.\u001b[0m\n",
      "tune_feature_fraction, val_score: 3.017432:  67%|######6   | 4/6 [00:04<00:02,  1.14s/it]"
     ]
    },
    {
     "name": "stdout",
     "output_type": "stream",
     "text": [
      "Training until validation scores don't improve for 100 rounds\n",
      "[100]\ttraining's l2: 0.755314\tvalid_1's l2: 3.12918\n"
     ]
    },
    {
     "name": "stderr",
     "output_type": "stream",
     "text": [
      "tune_feature_fraction, val_score: 3.017432:  83%|########3 | 5/6 [00:05<00:01,  1.13s/it]\u001b[32m[I 2020-02-11 17:41:41,889]\u001b[0m Finished trial#4 resulted in value: 3.0844963011351707. Current best value is 3.0361443352195283 with parameters: {'feature_fraction': 0.9159999999999999}.\u001b[0m\n",
      "tune_feature_fraction, val_score: 3.017432:  83%|########3 | 5/6 [00:05<00:01,  1.13s/it]"
     ]
    },
    {
     "name": "stdout",
     "output_type": "stream",
     "text": [
      "Early stopping, best iteration is:\n",
      "[45]\ttraining's l2: 1.52571\tvalid_1's l2: 3.0845\n",
      "Training until validation scores don't improve for 100 rounds\n"
     ]
    },
    {
     "name": "stderr",
     "output_type": "stream",
     "text": [
      "tune_feature_fraction, val_score: 3.017432: 100%|##########| 6/6 [00:06<00:00,  1.13s/it]"
     ]
    },
    {
     "name": "stdout",
     "output_type": "stream",
     "text": [
      "[100]\ttraining's l2: 0.745738\tvalid_1's l2: 3.12578\n",
      "Early stopping, best iteration is:\n",
      "[30]\ttraining's l2: 1.93734\tvalid_1's l2: 3.05781\n"
     ]
    },
    {
     "name": "stderr",
     "output_type": "stream",
     "text": [
      "\u001b[32m[I 2020-02-11 17:41:42,992]\u001b[0m Finished trial#5 resulted in value: 3.0578125505517435. Current best value is 3.0361443352195283 with parameters: {'feature_fraction': 0.9159999999999999}.\u001b[0m\n",
      "tune_feature_fraction, val_score: 3.017432: 100%|##########| 6/6 [00:06<00:00,  1.13s/it]\n",
      "tune_lambda_l1_and_lambda_l2, val_score: 3.017432:   0%|          | 0/20 [00:00<?, ?it/s]"
     ]
    },
    {
     "name": "stdout",
     "output_type": "stream",
     "text": [
      "Training until validation scores don't improve for 100 rounds\n"
     ]
    },
    {
     "name": "stderr",
     "output_type": "stream",
     "text": [
      "tune_lambda_l1_and_lambda_l2, val_score: 3.017431:   5%|5         | 1/20 [00:00<00:14,  1.32it/s]\u001b[32m[I 2020-02-11 17:41:43,803]\u001b[0m Finished trial#0 resulted in value: 3.017430696020302. Current best value is 3.017430696020302 with parameters: {'lambda_l1': 0.0023308734067848634, 'lambda_l2': 1.3872271276945072e-06}.\u001b[0m\n",
      "tune_lambda_l1_and_lambda_l2, val_score: 3.017431:   5%|5         | 1/20 [00:00<00:14,  1.32it/s]"
     ]
    },
    {
     "name": "stdout",
     "output_type": "stream",
     "text": [
      "[100]\ttraining's l2: 0.766576\tvalid_1's l2: 3.1391\n",
      "Early stopping, best iteration is:\n",
      "[29]\ttraining's l2: 1.98599\tvalid_1's l2: 3.01743\n",
      "Training until validation scores don't improve for 100 rounds\n"
     ]
    },
    {
     "name": "stderr",
     "output_type": "stream",
     "text": [
      "tune_lambda_l1_and_lambda_l2, val_score: 3.017431:  10%|#         | 2/20 [00:01<00:14,  1.24it/s]\u001b[32m[I 2020-02-11 17:41:44,732]\u001b[0m Finished trial#1 resulted in value: 3.01743221807457. Current best value is 3.017430696020302 with parameters: {'lambda_l1': 0.0023308734067848634, 'lambda_l2': 1.3872271276945072e-06}.\u001b[0m\n"
     ]
    },
    {
     "name": "stdout",
     "output_type": "stream",
     "text": [
      "[100]\ttraining's l2: 0.762807\tvalid_1's l2: 3.14432\n",
      "Early stopping, best iteration is:\n",
      "[29]\ttraining's l2: 1.98595\tvalid_1's l2: 3.01743\n"
     ]
    },
    {
     "name": "stderr",
     "output_type": "stream",
     "text": [
      "tune_lambda_l1_and_lambda_l2, val_score: 3.017431:  10%|#         | 2/20 [00:01<00:14,  1.24it/s]"
     ]
    },
    {
     "name": "stdout",
     "output_type": "stream",
     "text": [
      "Training until validation scores don't improve for 100 rounds\n"
     ]
    },
    {
     "name": "stderr",
     "output_type": "stream",
     "text": [
      "tune_lambda_l1_and_lambda_l2, val_score: 3.017431:  15%|#5        | 3/20 [00:02<00:14,  1.20it/s]"
     ]
    },
    {
     "name": "stdout",
     "output_type": "stream",
     "text": [
      "[100]\ttraining's l2: 0.80849\tvalid_1's l2: 3.16064\n",
      "Early stopping, best iteration is:\n",
      "[26]\ttraining's l2: 2.1679\tvalid_1's l2: 3.08867\n"
     ]
    },
    {
     "name": "stderr",
     "output_type": "stream",
     "text": [
      "\u001b[32m[I 2020-02-11 17:41:45,636]\u001b[0m Finished trial#2 resulted in value: 3.088673743400578. Current best value is 3.017430696020302 with parameters: {'lambda_l1': 0.0023308734067848634, 'lambda_l2': 1.3872271276945072e-06}.\u001b[0m\n",
      "tune_lambda_l1_and_lambda_l2, val_score: 3.017431:  15%|#5        | 3/20 [00:02<00:14,  1.20it/s]"
     ]
    },
    {
     "name": "stdout",
     "output_type": "stream",
     "text": [
      "Training until validation scores don't improve for 100 rounds\n",
      "[100]\ttraining's l2: 0.767566\tvalid_1's l2: 3.10517\n"
     ]
    },
    {
     "name": "stderr",
     "output_type": "stream",
     "text": [
      "tune_lambda_l1_and_lambda_l2, val_score: 3.017431:  20%|##        | 4/20 [00:03<00:13,  1.15it/s]\u001b[32m[I 2020-02-11 17:41:46,577]\u001b[0m Finished trial#3 resulted in value: 3.043545181870015. Current best value is 3.017430696020302 with parameters: {'lambda_l1': 0.0023308734067848634, 'lambda_l2': 1.3872271276945072e-06}.\u001b[0m\n",
      "tune_lambda_l1_and_lambda_l2, val_score: 3.017431:  20%|##        | 4/20 [00:03<00:13,  1.15it/s]"
     ]
    },
    {
     "name": "stdout",
     "output_type": "stream",
     "text": [
      "Early stopping, best iteration is:\n",
      "[51]\ttraining's l2: 1.40674\tvalid_1's l2: 3.04355\n",
      "Training until validation scores don't improve for 100 rounds\n"
     ]
    },
    {
     "name": "stderr",
     "output_type": "stream",
     "text": [
      "tune_lambda_l1_and_lambda_l2, val_score: 3.017431:  25%|##5       | 5/20 [00:04<00:12,  1.18it/s]\u001b[32m[I 2020-02-11 17:41:47,372]\u001b[0m Finished trial#4 resulted in value: 3.0440914502212477. Current best value is 3.017430696020302 with parameters: {'lambda_l1': 0.0023308734067848634, 'lambda_l2': 1.3872271276945072e-06}.\u001b[0m\n",
      "tune_lambda_l1_and_lambda_l2, val_score: 3.017431:  25%|##5       | 5/20 [00:04<00:12,  1.18it/s]"
     ]
    },
    {
     "name": "stdout",
     "output_type": "stream",
     "text": [
      "[100]\ttraining's l2: 0.757797\tvalid_1's l2: 3.13689\n",
      "Early stopping, best iteration is:\n",
      "[27]\ttraining's l2: 2.04081\tvalid_1's l2: 3.04409\n",
      "Training until validation scores don't improve for 100 rounds\n",
      "[100]\ttraining's l2: 0.837012\tvalid_1's l2: 3.1198\n"
     ]
    },
    {
     "name": "stderr",
     "output_type": "stream",
     "text": [
      "tune_lambda_l1_and_lambda_l2, val_score: 3.017431:  30%|###       | 6/20 [00:05<00:13,  1.06it/s]\u001b[32m[I 2020-02-11 17:41:48,543]\u001b[0m Finished trial#5 resulted in value: 3.0565684169908507. Current best value is 3.017430696020302 with parameters: {'lambda_l1': 0.0023308734067848634, 'lambda_l2': 1.3872271276945072e-06}.\u001b[0m\n",
      "tune_lambda_l1_and_lambda_l2, val_score: 3.017431:  30%|###       | 6/20 [00:05<00:13,  1.06it/s]"
     ]
    },
    {
     "name": "stdout",
     "output_type": "stream",
     "text": [
      "Early stopping, best iteration is:\n",
      "[42]\ttraining's l2: 1.69861\tvalid_1's l2: 3.05657\n",
      "Training until validation scores don't improve for 100 rounds\n"
     ]
    },
    {
     "name": "stderr",
     "output_type": "stream",
     "text": [
      "tune_lambda_l1_and_lambda_l2, val_score: 3.017431:  35%|###5      | 7/20 [00:06<00:12,  1.08it/s]\u001b[32m[I 2020-02-11 17:41:49,450]\u001b[0m Finished trial#6 resulted in value: 3.0763830121247357. Current best value is 3.017430696020302 with parameters: {'lambda_l1': 0.0023308734067848634, 'lambda_l2': 1.3872271276945072e-06}.\u001b[0m\n",
      "tune_lambda_l1_and_lambda_l2, val_score: 3.017431:  35%|###5      | 7/20 [00:06<00:12,  1.08it/s]"
     ]
    },
    {
     "name": "stdout",
     "output_type": "stream",
     "text": [
      "[100]\ttraining's l2: 0.759243\tvalid_1's l2: 3.21137\n",
      "Early stopping, best iteration is:\n",
      "[23]\ttraining's l2: 2.22104\tvalid_1's l2: 3.07638\n",
      "Training until validation scores don't improve for 100 rounds\n"
     ]
    },
    {
     "name": "stderr",
     "output_type": "stream",
     "text": [
      "tune_lambda_l1_and_lambda_l2, val_score: 3.001674:  40%|####      | 8/20 [00:07<00:10,  1.13it/s]"
     ]
    },
    {
     "name": "stdout",
     "output_type": "stream",
     "text": [
      "[100]\ttraining's l2: 0.754107\tvalid_1's l2: 3.1\n",
      "Early stopping, best iteration is:\n",
      "[31]\ttraining's l2: 1.91864\tvalid_1's l2: 3.00167\n"
     ]
    },
    {
     "name": "stderr",
     "output_type": "stream",
     "text": [
      "\u001b[32m[I 2020-02-11 17:41:50,235]\u001b[0m Finished trial#7 resulted in value: 3.001674015965585. Current best value is 3.001674015965585 with parameters: {'lambda_l1': 0.01159974628278275, 'lambda_l2': 3.287045085833229e-07}.\u001b[0m\n",
      "tune_lambda_l1_and_lambda_l2, val_score: 3.001674:  40%|####      | 8/20 [00:07<00:10,  1.13it/s]"
     ]
    },
    {
     "name": "stdout",
     "output_type": "stream",
     "text": [
      "Training until validation scores don't improve for 100 rounds\n"
     ]
    },
    {
     "name": "stderr",
     "output_type": "stream",
     "text": [
      "tune_lambda_l1_and_lambda_l2, val_score: 3.001674:  45%|####5     | 9/20 [00:08<00:10,  1.06it/s]"
     ]
    },
    {
     "name": "stdout",
     "output_type": "stream",
     "text": [
      "[100]\ttraining's l2: 0.762819\tvalid_1's l2: 3.14432\n",
      "Early stopping, best iteration is:\n",
      "[29]\ttraining's l2: 1.98596\tvalid_1's l2: 3.01743\n"
     ]
    },
    {
     "name": "stderr",
     "output_type": "stream",
     "text": [
      "\u001b[32m[I 2020-02-11 17:41:51,303]\u001b[0m Finished trial#8 resulted in value: 3.017431856030929. Current best value is 3.001674015965585 with parameters: {'lambda_l1': 0.01159974628278275, 'lambda_l2': 3.287045085833229e-07}.\u001b[0m\n",
      "tune_lambda_l1_and_lambda_l2, val_score: 3.001674:  45%|####5     | 9/20 [00:08<00:10,  1.06it/s]"
     ]
    },
    {
     "name": "stdout",
     "output_type": "stream",
     "text": [
      "Training until validation scores don't improve for 100 rounds\n",
      "[100]\ttraining's l2: 0.753247\tvalid_1's l2: 3.12565\n"
     ]
    },
    {
     "name": "stderr",
     "output_type": "stream",
     "text": [
      "tune_lambda_l1_and_lambda_l2, val_score: 3.001674:  50%|#####     | 10/20 [00:09<00:11,  1.13s/it]\u001b[32m[I 2020-02-11 17:41:52,874]\u001b[0m Finished trial#9 resulted in value: 3.025701967090132. Current best value is 3.001674015965585 with parameters: {'lambda_l1': 0.01159974628278275, 'lambda_l2': 3.287045085833229e-07}.\u001b[0m\n",
      "tune_lambda_l1_and_lambda_l2, val_score: 3.001674:  50%|#####     | 10/20 [00:09<00:11,  1.13s/it]"
     ]
    },
    {
     "name": "stdout",
     "output_type": "stream",
     "text": [
      "Early stopping, best iteration is:\n",
      "[28]\ttraining's l2: 2.02295\tvalid_1's l2: 3.0257\n",
      "Training until validation scores don't improve for 100 rounds\n"
     ]
    },
    {
     "name": "stderr",
     "output_type": "stream",
     "text": [
      "tune_lambda_l1_and_lambda_l2, val_score: 3.001674:  55%|#####5    | 11/20 [00:10<00:10,  1.12s/it]\u001b[32m[I 2020-02-11 17:41:53,973]\u001b[0m Finished trial#10 resulted in value: 3.0174322400220244. Current best value is 3.001674015965585 with parameters: {'lambda_l1': 0.01159974628278275, 'lambda_l2': 3.287045085833229e-07}.\u001b[0m\n",
      "tune_lambda_l1_and_lambda_l2, val_score: 3.001674:  55%|#####5    | 11/20 [00:10<00:10,  1.12s/it]"
     ]
    },
    {
     "name": "stdout",
     "output_type": "stream",
     "text": [
      "[100]\ttraining's l2: 0.762807\tvalid_1's l2: 3.14432\n",
      "Early stopping, best iteration is:\n",
      "[29]\ttraining's l2: 1.98595\tvalid_1's l2: 3.01743\n",
      "Training until validation scores don't improve for 100 rounds\n"
     ]
    },
    {
     "name": "stderr",
     "output_type": "stream",
     "text": [
      "tune_lambda_l1_and_lambda_l2, val_score: 3.001674:  60%|######    | 12/20 [00:11<00:08,  1.09s/it]\u001b[32m[I 2020-02-11 17:41:55,001]\u001b[0m Finished trial#11 resulted in value: 3.0174304844252045. Current best value is 3.001674015965585 with parameters: {'lambda_l1': 0.01159974628278275, 'lambda_l2': 3.287045085833229e-07}.\u001b[0m\n",
      "tune_lambda_l1_and_lambda_l2, val_score: 3.001674:  60%|######    | 12/20 [00:12<00:08,  1.09s/it]"
     ]
    },
    {
     "name": "stdout",
     "output_type": "stream",
     "text": [
      "[100]\ttraining's l2: 0.766587\tvalid_1's l2: 3.13909\n",
      "Early stopping, best iteration is:\n",
      "[29]\ttraining's l2: 1.986\tvalid_1's l2: 3.01743\n",
      "Training until validation scores don't improve for 100 rounds\n"
     ]
    },
    {
     "name": "stderr",
     "output_type": "stream",
     "text": [
      "tune_lambda_l1_and_lambda_l2, val_score: 3.001674:  65%|######5   | 13/20 [00:12<00:06,  1.01it/s]"
     ]
    },
    {
     "name": "stdout",
     "output_type": "stream",
     "text": [
      "[100]\ttraining's l2: 0.832564\tvalid_1's l2: 3.16637\n",
      "Early stopping, best iteration is:\n",
      "[42]\ttraining's l2: 1.67511\tvalid_1's l2: 3.08654\n"
     ]
    },
    {
     "name": "stderr",
     "output_type": "stream",
     "text": [
      "\u001b[32m[I 2020-02-11 17:41:55,762]\u001b[0m Finished trial#12 resulted in value: 3.0865367476813192. Current best value is 3.001674015965585 with parameters: {'lambda_l1': 0.01159974628278275, 'lambda_l2': 3.287045085833229e-07}.\u001b[0m\n",
      "tune_lambda_l1_and_lambda_l2, val_score: 3.001674:  65%|######5   | 13/20 [00:12<00:06,  1.01it/s]"
     ]
    },
    {
     "name": "stdout",
     "output_type": "stream",
     "text": [
      "Training until validation scores don't improve for 100 rounds\n"
     ]
    },
    {
     "name": "stderr",
     "output_type": "stream",
     "text": [
      "tune_lambda_l1_and_lambda_l2, val_score: 3.001674:  70%|#######   | 14/20 [00:13<00:05,  1.07it/s]"
     ]
    },
    {
     "name": "stdout",
     "output_type": "stream",
     "text": [
      "[100]\ttraining's l2: 0.766545\tvalid_1's l2: 3.13911\n",
      "Early stopping, best iteration is:\n",
      "[29]\ttraining's l2: 1.98597\tvalid_1's l2: 3.01743\n"
     ]
    },
    {
     "name": "stderr",
     "output_type": "stream",
     "text": [
      "\u001b[32m[I 2020-02-11 17:41:56,554]\u001b[0m Finished trial#13 resulted in value: 3.017431304267485. Current best value is 3.001674015965585 with parameters: {'lambda_l1': 0.01159974628278275, 'lambda_l2': 3.287045085833229e-07}.\u001b[0m\n",
      "tune_lambda_l1_and_lambda_l2, val_score: 3.001674:  70%|#######   | 14/20 [00:13<00:05,  1.07it/s]"
     ]
    },
    {
     "name": "stdout",
     "output_type": "stream",
     "text": [
      "Training until validation scores don't improve for 100 rounds\n"
     ]
    },
    {
     "name": "stderr",
     "output_type": "stream",
     "text": [
      "tune_lambda_l1_and_lambda_l2, val_score: 3.001674:  75%|#######5  | 15/20 [00:14<00:04,  1.16it/s]\u001b[32m[I 2020-02-11 17:41:57,258]\u001b[0m Finished trial#14 resulted in value: 3.02491203274114. Current best value is 3.001674015965585 with parameters: {'lambda_l1': 0.01159974628278275, 'lambda_l2': 3.287045085833229e-07}.\u001b[0m\n",
      "tune_lambda_l1_and_lambda_l2, val_score: 3.001674:  75%|#######5  | 15/20 [00:14<00:04,  1.16it/s]"
     ]
    },
    {
     "name": "stdout",
     "output_type": "stream",
     "text": [
      "[100]\ttraining's l2: 0.743392\tvalid_1's l2: 3.0999\n",
      "Early stopping, best iteration is:\n",
      "[31]\ttraining's l2: 1.90712\tvalid_1's l2: 3.02491\n",
      "Training until validation scores don't improve for 100 rounds\n"
     ]
    },
    {
     "name": "stderr",
     "output_type": "stream",
     "text": [
      "tune_lambda_l1_and_lambda_l2, val_score: 3.001674:  80%|########  | 16/20 [00:14<00:03,  1.19it/s]"
     ]
    },
    {
     "name": "stdout",
     "output_type": "stream",
     "text": [
      "[100]\ttraining's l2: 0.784189\tvalid_1's l2: 3.21063\n",
      "Early stopping, best iteration is:\n",
      "[45]\ttraining's l2: 1.5692\tvalid_1's l2: 3.13642\n"
     ]
    },
    {
     "name": "stderr",
     "output_type": "stream",
     "text": [
      "\u001b[32m[I 2020-02-11 17:41:58,030]\u001b[0m Finished trial#15 resulted in value: 3.1364249773792228. Current best value is 3.001674015965585 with parameters: {'lambda_l1': 0.01159974628278275, 'lambda_l2': 3.287045085833229e-07}.\u001b[0m\n",
      "tune_lambda_l1_and_lambda_l2, val_score: 3.001674:  80%|########  | 16/20 [00:15<00:03,  1.19it/s]"
     ]
    },
    {
     "name": "stdout",
     "output_type": "stream",
     "text": [
      "Training until validation scores don't improve for 100 rounds\n"
     ]
    },
    {
     "name": "stderr",
     "output_type": "stream",
     "text": [
      "tune_lambda_l1_and_lambda_l2, val_score: 3.001674:  85%|########5 | 17/20 [00:15<00:02,  1.28it/s]\u001b[32m[I 2020-02-11 17:41:58,681]\u001b[0m Finished trial#16 resulted in value: 3.030950179569096. Current best value is 3.001674015965585 with parameters: {'lambda_l1': 0.01159974628278275, 'lambda_l2': 3.287045085833229e-07}.\u001b[0m\n",
      "tune_lambda_l1_and_lambda_l2, val_score: 3.001674:  85%|########5 | 17/20 [00:15<00:02,  1.28it/s]"
     ]
    },
    {
     "name": "stdout",
     "output_type": "stream",
     "text": [
      "[100]\ttraining's l2: 0.752971\tvalid_1's l2: 3.15557\n",
      "Early stopping, best iteration is:\n",
      "[26]\ttraining's l2: 2.09076\tvalid_1's l2: 3.03095\n",
      "Training until validation scores don't improve for 100 rounds\n"
     ]
    },
    {
     "name": "stderr",
     "output_type": "stream",
     "text": [
      "tune_lambda_l1_and_lambda_l2, val_score: 3.001674:  90%|######### | 18/20 [00:16<00:01,  1.22it/s]"
     ]
    },
    {
     "name": "stdout",
     "output_type": "stream",
     "text": [
      "[100]\ttraining's l2: 0.769312\tvalid_1's l2: 3.10519\n",
      "Early stopping, best iteration is:\n",
      "[29]\ttraining's l2: 1.9861\tvalid_1's l2: 3.01743\n"
     ]
    },
    {
     "name": "stderr",
     "output_type": "stream",
     "text": [
      "\u001b[32m[I 2020-02-11 17:41:59,590]\u001b[0m Finished trial#17 resulted in value: 3.0174272346532818. Current best value is 3.001674015965585 with parameters: {'lambda_l1': 0.01159974628278275, 'lambda_l2': 3.287045085833229e-07}.\u001b[0m\n",
      "tune_lambda_l1_and_lambda_l2, val_score: 3.001674:  90%|######### | 18/20 [00:16<00:01,  1.22it/s]"
     ]
    },
    {
     "name": "stdout",
     "output_type": "stream",
     "text": [
      "Training until validation scores don't improve for 100 rounds\n"
     ]
    },
    {
     "name": "stderr",
     "output_type": "stream",
     "text": [
      "tune_lambda_l1_and_lambda_l2, val_score: 3.001674:  95%|#########5| 19/20 [00:17<00:00,  1.20it/s]"
     ]
    },
    {
     "name": "stdout",
     "output_type": "stream",
     "text": [
      "[100]\ttraining's l2: 0.768023\tvalid_1's l2: 3.2267\n",
      "Early stopping, best iteration is:\n",
      "[30]\ttraining's l2: 1.94791\tvalid_1's l2: 3.1333\n"
     ]
    },
    {
     "name": "stderr",
     "output_type": "stream",
     "text": [
      "\u001b[32m[I 2020-02-11 17:42:00,451]\u001b[0m Finished trial#18 resulted in value: 3.133301779860566. Current best value is 3.001674015965585 with parameters: {'lambda_l1': 0.01159974628278275, 'lambda_l2': 3.287045085833229e-07}.\u001b[0m\n",
      "tune_lambda_l1_and_lambda_l2, val_score: 3.001674:  95%|#########5| 19/20 [00:17<00:00,  1.20it/s]"
     ]
    },
    {
     "name": "stdout",
     "output_type": "stream",
     "text": [
      "Training until validation scores don't improve for 100 rounds\n",
      "[100]\ttraining's l2: 0.764054\tvalid_1's l2: 3.12449\n"
     ]
    },
    {
     "name": "stderr",
     "output_type": "stream",
     "text": [
      "tune_lambda_l1_and_lambda_l2, val_score: 3.001674: 100%|##########| 20/20 [00:18<00:00,  1.11it/s]\u001b[32m[I 2020-02-11 17:42:01,518]\u001b[0m Finished trial#19 resulted in value: 3.0311281392104967. Current best value is 3.001674015965585 with parameters: {'lambda_l1': 0.01159974628278275, 'lambda_l2': 3.287045085833229e-07}.\u001b[0m\n",
      "tune_lambda_l1_and_lambda_l2, val_score: 3.001674: 100%|##########| 20/20 [00:18<00:00,  1.08it/s]\n",
      "tune_min_child_samples, val_score: 3.001674:   0%|          | 0/5 [00:00<?, ?it/s]"
     ]
    },
    {
     "name": "stdout",
     "output_type": "stream",
     "text": [
      "Early stopping, best iteration is:\n",
      "[27]\ttraining's l2: 2.04186\tvalid_1's l2: 3.03113\n",
      "Training until validation scores don't improve for 100 rounds\n",
      "[100]\ttraining's l2: 0.703217\tvalid_1's l2: 3.18201\n"
     ]
    },
    {
     "name": "stderr",
     "output_type": "stream",
     "text": [
      "tune_min_child_samples, val_score: 3.001674:  20%|##        | 1/5 [00:00<00:03,  1.12it/s]\u001b[32m[I 2020-02-11 17:42:02,467]\u001b[0m Finished trial#0 resulted in value: 3.0956982773327963. Current best value is 3.0956982773327963 with parameters: {'min_child_samples': 5}.\u001b[0m\n",
      "tune_min_child_samples, val_score: 3.001674:  20%|##        | 1/5 [00:00<00:03,  1.12it/s]"
     ]
    },
    {
     "name": "stdout",
     "output_type": "stream",
     "text": [
      "Early stopping, best iteration is:\n",
      "[38]\ttraining's l2: 1.53608\tvalid_1's l2: 3.0957\n",
      "Training until validation scores don't improve for 100 rounds\n",
      "[100]\ttraining's l2: 0.741033\tvalid_1's l2: 3.23124\n"
     ]
    },
    {
     "name": "stderr",
     "output_type": "stream",
     "text": [
      "tune_min_child_samples, val_score: 3.001674:  40%|####      | 2/5 [00:01<00:02,  1.07it/s]\u001b[32m[I 2020-02-11 17:42:03,500]\u001b[0m Finished trial#1 resulted in value: 3.094224548430032. Current best value is 3.094224548430032 with parameters: {'min_child_samples': 10}.\u001b[0m\n",
      "tune_min_child_samples, val_score: 3.001674:  40%|####      | 2/5 [00:01<00:02,  1.07it/s]"
     ]
    },
    {
     "name": "stdout",
     "output_type": "stream",
     "text": [
      "Early stopping, best iteration is:\n",
      "[35]\ttraining's l2: 1.7029\tvalid_1's l2: 3.09422\n",
      "Training until validation scores don't improve for 100 rounds\n"
     ]
    },
    {
     "name": "stderr",
     "output_type": "stream",
     "text": [
      "tune_min_child_samples, val_score: 3.001674:  60%|######    | 3/5 [00:02<00:01,  1.14it/s]\u001b[32m[I 2020-02-11 17:42:04,250]\u001b[0m Finished trial#2 resulted in value: 3.12949062996501. Current best value is 3.094224548430032 with parameters: {'min_child_samples': 10}.\u001b[0m\n",
      "tune_min_child_samples, val_score: 3.001674:  60%|######    | 3/5 [00:02<00:01,  1.14it/s]"
     ]
    },
    {
     "name": "stdout",
     "output_type": "stream",
     "text": [
      "[100]\ttraining's l2: 0.809358\tvalid_1's l2: 3.21167\n",
      "Early stopping, best iteration is:\n",
      "[24]\ttraining's l2: 2.23799\tvalid_1's l2: 3.12949\n",
      "Training until validation scores don't improve for 100 rounds\n"
     ]
    },
    {
     "name": "stderr",
     "output_type": "stream",
     "text": [
      "tune_min_child_samples, val_score: 3.001674:  80%|########  | 4/5 [00:03<00:00,  1.20it/s]"
     ]
    },
    {
     "name": "stdout",
     "output_type": "stream",
     "text": [
      "[100]\ttraining's l2: 1.01599\tvalid_1's l2: 3.14523\n",
      "Early stopping, best iteration is:\n",
      "[30]\ttraining's l2: 2.28784\tvalid_1's l2: 3.06693\n"
     ]
    },
    {
     "name": "stderr",
     "output_type": "stream",
     "text": [
      "\u001b[32m[I 2020-02-11 17:42:04,973]\u001b[0m Finished trial#3 resulted in value: 3.0669334466163245. Current best value is 3.0669334466163245 with parameters: {'min_child_samples': 50}.\u001b[0m\n",
      "tune_min_child_samples, val_score: 3.001674:  80%|########  | 4/5 [00:03<00:00,  1.20it/s]"
     ]
    },
    {
     "name": "stdout",
     "output_type": "stream",
     "text": [
      "Training until validation scores don't improve for 100 rounds\n"
     ]
    },
    {
     "name": "stderr",
     "output_type": "stream",
     "text": [
      "tune_min_child_samples, val_score: 3.001674: 100%|##########| 5/5 [00:03<00:00,  1.32it/s]\u001b[32m[I 2020-02-11 17:42:05,550]\u001b[0m Finished trial#4 resulted in value: 3.063909728458806. Current best value is 3.063909728458806 with parameters: {'min_child_samples': 100}.\u001b[0m\n",
      "tune_min_child_samples, val_score: 3.001674: 100%|##########| 5/5 [00:04<00:00,  1.24it/s]"
     ]
    },
    {
     "name": "stdout",
     "output_type": "stream",
     "text": [
      "[100]\ttraining's l2: 1.44513\tvalid_1's l2: 3.14816\n",
      "Early stopping, best iteration is:\n",
      "[22]\ttraining's l2: 2.86453\tvalid_1's l2: 3.06391\n",
      "Number of finished trials: 68\n",
      "Best params: {'lambda_l1': 0.01159974628278275, 'lambda_l2': 3.287045085833229e-07, 'num_leaves': 33, 'feature_fraction': 0.8999999999999999, 'bagging_fraction': 1.0, 'bagging_freq': 0, 'min_child_samples': 20}\n",
      "  r2_score = 0.21437546758886816\n",
      "  Params: \n",
      "    lambda_l1: 0.01159974628278275\n",
      "    lambda_l2: 3.287045085833229e-07\n",
      "    num_leaves: 33\n",
      "    feature_fraction: 0.8999999999999999\n",
      "    bagging_fraction: 1.0\n",
      "    bagging_freq: 0\n",
      "    min_child_samples: 20\n"
     ]
    },
    {
     "name": "stderr",
     "output_type": "stream",
     "text": [
      "\n"
     ]
    }
   ],
   "source": [
    "dtrain = lgb.Dataset(X_train, label=y_train)\n",
    "dval = lgb.Dataset(X_test, label=y_test)\n",
    "\n",
    "params = {\n",
    "    'objective': 'regression',\n",
    "    'metric': 'l2',\n",
    "    'verbosity': -1,\n",
    "    'boosting_type': 'gbdt',\n",
    "}\n",
    "\n",
    "best_params, tuning_history = dict(), list()\n",
    "\n",
    "model = lgb.train(params,\n",
    "                  dtrain,\n",
    "                  valid_sets=[dtrain, dval],\n",
    "                  best_params=best_params,\n",
    "                  tuning_history=tuning_history,\n",
    "                  verbose_eval=100,\n",
    "                  early_stopping_rounds=100,\n",
    "                  )\n",
    "\n",
    "prediction = np.rint(model.predict(X_test, num_iteration=model.best_iteration))\n",
    "r2_score = r2_score(y_test, prediction)\n",
    "\n",
    "print('Number of finished trials: {}'.format(len(tuning_history)))\n",
    "print('Best params:', best_params)\n",
    "print('  r2_score = {}'.format(r2_score))\n",
    "print('  Params: ')\n",
    "for key, value in best_params.items():\n",
    "    print('    {}: {}'.format(key, value))"
   ]
  },
  {
   "cell_type": "code",
   "execution_count": 57,
   "metadata": {},
   "outputs": [],
   "source": [
    "lgb_reg = LGBMRegressor(lambda_l1 = 0.01159974628278275, lambda_l2 = 3.287045085833229e-07, num_leaves = 33, feature_fraction = 0.8999999999999999, bagging_fraction = 1.0, bagging_freq = 0, min_child_samples = 20)"
   ]
  },
  {
   "cell_type": "code",
   "execution_count": 182,
   "metadata": {},
   "outputs": [],
   "source": [
    "lgb_reg = LGBMRegressor(lambda_l1 = 0, lambda_l2 = 0, num_leaves = 50, feature_fraction = 0.616, bagging_fraction = 0.4999, bagging_freq = 6, min_child_samples = 20)"
   ]
  },
  {
   "cell_type": "code",
   "execution_count": 58,
   "metadata": {},
   "outputs": [
    {
     "data": {
      "text/plain": [
       "LGBMRegressor(bagging_fraction=1.0, bagging_freq=0, boosting_type='gbdt',\n",
       "              class_weight=None, colsample_bytree=1.0,\n",
       "              feature_fraction=0.8999999999999999, importance_type='split',\n",
       "              lambda_l1=0.01159974628278275, lambda_l2=3.287045085833229e-07,\n",
       "              learning_rate=0.1, max_depth=-1, min_child_samples=20,\n",
       "              min_child_weight=0.001, min_split_gain=0.0, n_estimators=100,\n",
       "              n_jobs=-1, num_leaves=33, objective=None, random_state=None,\n",
       "              reg_alpha=0.0, reg_lambda=0.0, silent=True, subsample=1.0,\n",
       "              subsample_for_bin=200000, subsample_freq=0)"
      ]
     },
     "execution_count": 58,
     "metadata": {},
     "output_type": "execute_result"
    }
   ],
   "source": [
    "lgb_reg.fit(X_train, y_train)"
   ]
  },
  {
   "cell_type": "code",
   "execution_count": 59,
   "metadata": {},
   "outputs": [],
   "source": [
    "y_pred = lgb_reg.predict(X_test)"
   ]
  },
  {
   "cell_type": "code",
   "execution_count": 62,
   "metadata": {},
   "outputs": [
    {
     "data": {
      "text/plain": [
       "array([ 0.62647528,  0.33847801, -0.01810899, ..., -0.11708826,\n",
       "       -0.29113216,  0.0317559 ])"
      ]
     },
     "execution_count": 62,
     "metadata": {},
     "output_type": "execute_result"
    }
   ],
   "source": [
    "y_pred"
   ]
  },
  {
   "cell_type": "code",
   "execution_count": 63,
   "metadata": {},
   "outputs": [
    {
     "data": {
      "text/plain": [
       "4040    0.240000\n",
       "4041    2.080000\n",
       "4042    2.859153\n",
       "4043    2.334872\n",
       "4044    1.244015\n",
       "          ...   \n",
       "5046    0.440000\n",
       "5047   -0.130000\n",
       "5048   -1.500000\n",
       "5049    1.520000\n",
       "5050    1.520000\n",
       "Name: KRXsemiconductor_change, Length: 1011, dtype: float64"
      ]
     },
     "execution_count": 63,
     "metadata": {},
     "output_type": "execute_result"
    }
   ],
   "source": [
    "y_test"
   ]
  },
  {
   "cell_type": "code",
   "execution_count": 61,
   "metadata": {},
   "outputs": [
    {
     "ename": "TypeError",
     "evalue": "'numpy.float64' object is not callable",
     "output_type": "error",
     "traceback": [
      "\u001b[0;31m--------------------------------------------------------------\u001b[0m",
      "\u001b[0;31mTypeError\u001b[0m                    Traceback (most recent call last)",
      "\u001b[0;32m<ipython-input-61-726684fe2b3f>\u001b[0m in \u001b[0;36m<module>\u001b[0;34m\u001b[0m\n\u001b[0;32m----> 1\u001b[0;31m \u001b[0mr2_score\u001b[0m\u001b[0;34m(\u001b[0m\u001b[0my_test\u001b[0m\u001b[0;34m,\u001b[0m \u001b[0my_pred\u001b[0m\u001b[0;34m)\u001b[0m\u001b[0;34m\u001b[0m\u001b[0;34m\u001b[0m\u001b[0m\n\u001b[0m",
      "\u001b[0;31mTypeError\u001b[0m: 'numpy.float64' object is not callable"
     ]
    }
   ],
   "source": [
    "r2_score(y_test, y_pred)"
   ]
  },
  {
   "cell_type": "code",
   "execution_count": 75,
   "metadata": {},
   "outputs": [],
   "source": [
    "coef_imp = pd.DataFrame(sorted(zip(lr_reg.coef_, X_train.columns)), columns = ['Value', 'Feature'])"
   ]
  },
  {
   "cell_type": "code",
   "execution_count": 76,
   "metadata": {},
   "outputs": [
    {
     "data": {
      "text/html": [
       "<div>\n",
       "<style scoped>\n",
       "    .dataframe tbody tr th:only-of-type {\n",
       "        vertical-align: middle;\n",
       "    }\n",
       "\n",
       "    .dataframe tbody tr th {\n",
       "        vertical-align: top;\n",
       "    }\n",
       "\n",
       "    .dataframe thead th {\n",
       "        text-align: right;\n",
       "    }\n",
       "</style>\n",
       "<table border=\"1\" class=\"dataframe\">\n",
       "  <thead>\n",
       "    <tr style=\"text-align: right;\">\n",
       "      <th></th>\n",
       "      <th>Value</th>\n",
       "      <th>Feature</th>\n",
       "    </tr>\n",
       "  </thead>\n",
       "  <tbody>\n",
       "    <tr>\n",
       "      <th>97</th>\n",
       "      <td>0.700243</td>\n",
       "      <td>SKhynix_change</td>\n",
       "    </tr>\n",
       "    <tr>\n",
       "      <th>96</th>\n",
       "      <td>0.604803</td>\n",
       "      <td>LEIBPIndex</td>\n",
       "    </tr>\n",
       "    <tr>\n",
       "      <th>95</th>\n",
       "      <td>0.283424</td>\n",
       "      <td>Philadelphia_change</td>\n",
       "    </tr>\n",
       "    <tr>\n",
       "      <th>94</th>\n",
       "      <td>0.236641</td>\n",
       "      <td>KOECIMPYIndex</td>\n",
       "    </tr>\n",
       "    <tr>\n",
       "      <th>93</th>\n",
       "      <td>0.228355</td>\n",
       "      <td>EUR_KRW_close</td>\n",
       "    </tr>\n",
       "    <tr>\n",
       "      <th>...</th>\n",
       "      <td>...</td>\n",
       "      <td>...</td>\n",
       "    </tr>\n",
       "    <tr>\n",
       "      <th>4</th>\n",
       "      <td>-0.250277</td>\n",
       "      <td>KOECPRCYIndex</td>\n",
       "    </tr>\n",
       "    <tr>\n",
       "      <th>3</th>\n",
       "      <td>-0.273211</td>\n",
       "      <td>SKLILAPIndex</td>\n",
       "    </tr>\n",
       "    <tr>\n",
       "      <th>2</th>\n",
       "      <td>-0.299528</td>\n",
       "      <td>SAARDTOTIndex</td>\n",
       "    </tr>\n",
       "    <tr>\n",
       "      <th>1</th>\n",
       "      <td>-0.300217</td>\n",
       "      <td>SKLICPYIndex</td>\n",
       "    </tr>\n",
       "    <tr>\n",
       "      <th>0</th>\n",
       "      <td>-0.365802</td>\n",
       "      <td>TokyoElectron_close</td>\n",
       "    </tr>\n",
       "  </tbody>\n",
       "</table>\n",
       "<p>98 rows × 2 columns</p>\n",
       "</div>"
      ],
      "text/plain": [
       "       Value              Feature\n",
       "97  0.700243       SKhynix_change\n",
       "96  0.604803           LEIBPIndex\n",
       "95  0.283424  Philadelphia_change\n",
       "94  0.236641        KOECIMPYIndex\n",
       "93  0.228355        EUR_KRW_close\n",
       "..       ...                  ...\n",
       "4  -0.250277        KOECPRCYIndex\n",
       "3  -0.273211         SKLILAPIndex\n",
       "2  -0.299528        SAARDTOTIndex\n",
       "1  -0.300217         SKLICPYIndex\n",
       "0  -0.365802  TokyoElectron_close\n",
       "\n",
       "[98 rows x 2 columns]"
      ]
     },
     "execution_count": 76,
     "metadata": {},
     "output_type": "execute_result"
    }
   ],
   "source": [
    "coef_imp.sort_values(by = 'Value', ascending = False)"
   ]
  },
  {
   "cell_type": "code",
   "execution_count": 432,
   "metadata": {},
   "outputs": [],
   "source": [
    "feat_imp = pd.DataFrame(sorted(zip(lgb_reg.feature_importances_, X_train.columns)), columns = ['Value', 'Feature'])"
   ]
  },
  {
   "cell_type": "code",
   "execution_count": 433,
   "metadata": {},
   "outputs": [
    {
     "data": {
      "text/html": [
       "<div>\n",
       "<style scoped>\n",
       "    .dataframe tbody tr th:only-of-type {\n",
       "        vertical-align: middle;\n",
       "    }\n",
       "\n",
       "    .dataframe tbody tr th {\n",
       "        vertical-align: top;\n",
       "    }\n",
       "\n",
       "    .dataframe thead th {\n",
       "        text-align: right;\n",
       "    }\n",
       "</style>\n",
       "<table border=\"1\" class=\"dataframe\">\n",
       "  <thead>\n",
       "    <tr style=\"text-align: right;\">\n",
       "      <th></th>\n",
       "      <th>Value</th>\n",
       "      <th>Feature</th>\n",
       "    </tr>\n",
       "  </thead>\n",
       "  <tbody>\n",
       "    <tr>\n",
       "      <th>79</th>\n",
       "      <td>118</td>\n",
       "      <td>KOBPFINIndex</td>\n",
       "    </tr>\n",
       "    <tr>\n",
       "      <th>78</th>\n",
       "      <td>117</td>\n",
       "      <td>TokyoElectron_volume</td>\n",
       "    </tr>\n",
       "    <tr>\n",
       "      <th>77</th>\n",
       "      <td>114</td>\n",
       "      <td>KOECPRCYIndex</td>\n",
       "    </tr>\n",
       "    <tr>\n",
       "      <th>76</th>\n",
       "      <td>105</td>\n",
       "      <td>KOQEEYOYIndex</td>\n",
       "    </tr>\n",
       "    <tr>\n",
       "      <th>75</th>\n",
       "      <td>105</td>\n",
       "      <td>AMD_change</td>\n",
       "    </tr>\n",
       "    <tr>\n",
       "      <th>...</th>\n",
       "      <td>...</td>\n",
       "      <td>...</td>\n",
       "    </tr>\n",
       "    <tr>\n",
       "      <th>4</th>\n",
       "      <td>7</td>\n",
       "      <td>KOECGVTYIndex</td>\n",
       "    </tr>\n",
       "    <tr>\n",
       "      <th>2</th>\n",
       "      <td>3</td>\n",
       "      <td>Amazon_change</td>\n",
       "    </tr>\n",
       "    <tr>\n",
       "      <th>3</th>\n",
       "      <td>3</td>\n",
       "      <td>SKLIOTARIndex</td>\n",
       "    </tr>\n",
       "    <tr>\n",
       "      <th>1</th>\n",
       "      <td>1</td>\n",
       "      <td>KOECSIMQIndex</td>\n",
       "    </tr>\n",
       "    <tr>\n",
       "      <th>0</th>\n",
       "      <td>1</td>\n",
       "      <td>KOCGCGYIndex</td>\n",
       "    </tr>\n",
       "  </tbody>\n",
       "</table>\n",
       "<p>80 rows × 2 columns</p>\n",
       "</div>"
      ],
      "text/plain": [
       "    Value               Feature\n",
       "79    118          KOBPFINIndex\n",
       "78    117  TokyoElectron_volume\n",
       "77    114         KOECPRCYIndex\n",
       "76    105         KOQEEYOYIndex\n",
       "75    105            AMD_change\n",
       "..    ...                   ...\n",
       "4       7         KOECGVTYIndex\n",
       "2       3         Amazon_change\n",
       "3       3         SKLIOTARIndex\n",
       "1       1         KOECSIMQIndex\n",
       "0       1          KOCGCGYIndex\n",
       "\n",
       "[80 rows x 2 columns]"
      ]
     },
     "execution_count": 433,
     "metadata": {},
     "output_type": "execute_result"
    }
   ],
   "source": [
    "feat_imp.sort_values(by = 'Value', ascending = False)"
   ]
  },
  {
   "cell_type": "code",
   "execution_count": 77,
   "metadata": {},
   "outputs": [
    {
     "data": {
      "image/png": "[encoded data removed]",
      "text/plain": [
       "<Figure size 720x2160 with 1 Axes>"
      ]
     },
     "metadata": {
      "image/png": {
       "height": 2151,
       "width": 712
      },
      "needs_background": "light"
     },
     "output_type": "display_data"
    }
   ],
   "source": [
    "plt.figure(figsize = (10, 30))\n",
    "sns.barplot(x = 'Value', y = 'Feature', data = coef_imp.sort_values(by = 'Value', ascending = False))\n",
    "plt.title('Linear Regressor Features')\n",
    "plt.tight_layout()\n",
    "plt.show()"
   ]
  },
  {
   "cell_type": "code",
   "execution_count": 202,
   "metadata": {},
   "outputs": [
    {
     "data": {
      "image/png": "[encoded data removed]",
      "text/plain": [
       "<Figure size 720x2160 with 1 Axes>"
      ]
     },
     "metadata": {
      "image/png": {
       "height": 2151,
       "width": 712
      },
      "needs_background": "light"
     },
     "output_type": "display_data"
    }
   ],
   "source": [
    "plt.figure(figsize = (10, 30))\n",
    "sns.barplot(x = 'Value', y = 'Feature', data = feat_imp.sort_values(by = 'Value', ascending = False))\n",
    "plt.title('LightGBM Features')\n",
    "plt.tight_layout()\n",
    "plt.savefig('lgbm_importances_1.png')\n",
    "plt.show()"
   ]
  },
  {
   "cell_type": "code",
   "execution_count": 64,
   "metadata": {},
   "outputs": [],
   "source": [
    "# metric 구성\n",
    "\n",
    "from sklearn.metrics import mean_squared_error, r2_score, mean_absolute_error, accuracy_score\n",
    "\n",
    "class CustomMetric():\n",
    "\n",
    "    def __init__(self, pred, real):\n",
    "            self.pred = pred\n",
    "            self.real = real\n",
    "            self.thr25 = np.percentile(self.real, 25)\n",
    "            self.thr75 = np.percentile(self.real, 75)\n",
    "            self.df = pd.DataFrame({'pred' : self.pred, 'real' : self.real})\n",
    "        \n",
    "    def issame(self, data1, data2):\n",
    "        if data1 > 0 and data2 > 0 : \n",
    "            return 'T'\n",
    "        elif data1 > 0 and data2 < 0 :\n",
    "            return 'F'\n",
    "        elif data1 < 0 and data2 > 0 :\n",
    "            return 'F'\n",
    "        elif data1 < 0 and data2 < 0 :\n",
    "            return 'T'\n",
    "        elif data1 == 0 or data2 == 0 :\n",
    "            return 0\n",
    "        else :\n",
    "            return 'notcal'\n",
    "\n",
    "    def getouter(self, data1, data2): #quantile_25 = np.percentile(values, 25)\n",
    "\n",
    "        if data1 > 0 and data2 >= self.thr75 :\n",
    "            return 'T'\n",
    "        elif data1 < 0 and data2 <= self.thr25 :\n",
    "            return 'T'\n",
    "        elif data1 >= 0 and data2 <= self.thr25 :\n",
    "            return 'F'\n",
    "        elif data1 <= 0 and data2 >= self.thr75: \n",
    "            return 'F'\n",
    "        else:\n",
    "            return 'notcal'\n",
    "        \n",
    "    def makedf(self):\n",
    "        self.df['TF'] = self.df.apply(lambda x : self.issame(x['pred'], x['real']), axis = 1)\n",
    "        self.df['thrTF'] = self.df.apply(lambda x : self.getouter(x['pred'], x['real']), axis = 1)\n",
    "        \n",
    "        return self.df\n",
    "        \n",
    "    def execution(self):\n",
    "        mdf = pd.DataFrame()\n",
    "        mdf['CORR'] = [self.df['real'].corr(self.df['pred'], method = 'pearson')]\n",
    "        mdf['R2'] = [\"{0:0.4f}\".format(r2_score(self.df['real'], self.df['pred']))]\n",
    "        mdf['MAE'] = [\"{0:0.4f}\".format(mean_absolute_error(self.df['pred'], self.df['real']))]\n",
    "        mdf['RMSE'] = [\"{0:0.4f}\".format(np.sqrt(mean_squared_error(self.df['pred'], self.df['real'])))]\n",
    "        mdf['ACR'] = [sum(self.df['TF'] == 'T')/len(self.df['TF'])]\n",
    "        \n",
    "        mdf['threshACR'] = [sum(self.df['thrTF'] == 'T') / sum(self.df['thrTF'] != 'notcal')]\n",
    "        \n",
    "        return mdf        \n",
    "    "
   ]
  },
  {
   "cell_type": "code",
   "execution_count": 65,
   "metadata": {},
   "outputs": [],
   "source": [
    "metr = CustomMetric(y_pred, y_test)"
   ]
  },
  {
   "cell_type": "code",
   "execution_count": 66,
   "metadata": {},
   "outputs": [
    {
     "data": {
      "text/plain": [
       "array([ 0.62647528,  0.33847801, -0.01810899, ..., -0.11708826,\n",
       "       -0.29113216,  0.0317559 ])"
      ]
     },
     "execution_count": 66,
     "metadata": {},
     "output_type": "execute_result"
    }
   ],
   "source": [
    "y_pred"
   ]
  },
  {
   "cell_type": "code",
   "execution_count": 67,
   "metadata": {},
   "outputs": [
    {
     "data": {
      "text/plain": [
       "4040    0.240000\n",
       "4041    2.080000\n",
       "4042    2.859153\n",
       "4043    2.334872\n",
       "4044    1.244015\n",
       "          ...   \n",
       "5046    0.440000\n",
       "5047   -0.130000\n",
       "5048   -1.500000\n",
       "5049    1.520000\n",
       "5050    1.520000\n",
       "Name: KRXsemiconductor_change, Length: 1011, dtype: float64"
      ]
     },
     "execution_count": 67,
     "metadata": {},
     "output_type": "execute_result"
    }
   ],
   "source": [
    "y_test"
   ]
  },
  {
   "cell_type": "code",
   "execution_count": 68,
   "metadata": {},
   "outputs": [
    {
     "data": {
      "text/plain": [
       "0.20290370381330858"
      ]
     },
     "execution_count": 68,
     "metadata": {},
     "output_type": "execute_result"
    }
   ],
   "source": [
    "r2_score(y_test, y_pred)"
   ]
  },
  {
   "cell_type": "code",
   "execution_count": 69,
   "metadata": {},
   "outputs": [
    {
     "data": {
      "text/html": [
       "<div>\n",
       "<style scoped>\n",
       "    .dataframe tbody tr th:only-of-type {\n",
       "        vertical-align: middle;\n",
       "    }\n",
       "\n",
       "    .dataframe tbody tr th {\n",
       "        vertical-align: top;\n",
       "    }\n",
       "\n",
       "    .dataframe thead th {\n",
       "        text-align: right;\n",
       "    }\n",
       "</style>\n",
       "<table border=\"1\" class=\"dataframe\">\n",
       "  <thead>\n",
       "    <tr style=\"text-align: right;\">\n",
       "      <th></th>\n",
       "      <th>pred</th>\n",
       "      <th>real</th>\n",
       "      <th>TF</th>\n",
       "      <th>thrTF</th>\n",
       "    </tr>\n",
       "  </thead>\n",
       "  <tbody>\n",
       "    <tr>\n",
       "      <th>4040</th>\n",
       "      <td>0.626475</td>\n",
       "      <td>0.240000</td>\n",
       "      <td>T</td>\n",
       "      <td>notcal</td>\n",
       "    </tr>\n",
       "    <tr>\n",
       "      <th>4041</th>\n",
       "      <td>0.338478</td>\n",
       "      <td>2.080000</td>\n",
       "      <td>T</td>\n",
       "      <td>T</td>\n",
       "    </tr>\n",
       "    <tr>\n",
       "      <th>4042</th>\n",
       "      <td>-0.018109</td>\n",
       "      <td>2.859153</td>\n",
       "      <td>F</td>\n",
       "      <td>F</td>\n",
       "    </tr>\n",
       "    <tr>\n",
       "      <th>4043</th>\n",
       "      <td>0.208662</td>\n",
       "      <td>2.334872</td>\n",
       "      <td>T</td>\n",
       "      <td>T</td>\n",
       "    </tr>\n",
       "    <tr>\n",
       "      <th>4044</th>\n",
       "      <td>0.452664</td>\n",
       "      <td>1.244015</td>\n",
       "      <td>T</td>\n",
       "      <td>T</td>\n",
       "    </tr>\n",
       "    <tr>\n",
       "      <th>...</th>\n",
       "      <td>...</td>\n",
       "      <td>...</td>\n",
       "      <td>...</td>\n",
       "      <td>...</td>\n",
       "    </tr>\n",
       "    <tr>\n",
       "      <th>5046</th>\n",
       "      <td>0.131315</td>\n",
       "      <td>0.440000</td>\n",
       "      <td>T</td>\n",
       "      <td>notcal</td>\n",
       "    </tr>\n",
       "    <tr>\n",
       "      <th>5047</th>\n",
       "      <td>-0.102173</td>\n",
       "      <td>-0.130000</td>\n",
       "      <td>T</td>\n",
       "      <td>notcal</td>\n",
       "    </tr>\n",
       "    <tr>\n",
       "      <th>5048</th>\n",
       "      <td>-0.117088</td>\n",
       "      <td>-1.500000</td>\n",
       "      <td>T</td>\n",
       "      <td>T</td>\n",
       "    </tr>\n",
       "    <tr>\n",
       "      <th>5049</th>\n",
       "      <td>-0.291132</td>\n",
       "      <td>1.520000</td>\n",
       "      <td>F</td>\n",
       "      <td>F</td>\n",
       "    </tr>\n",
       "    <tr>\n",
       "      <th>5050</th>\n",
       "      <td>0.031756</td>\n",
       "      <td>1.520000</td>\n",
       "      <td>T</td>\n",
       "      <td>T</td>\n",
       "    </tr>\n",
       "  </tbody>\n",
       "</table>\n",
       "<p>1011 rows × 4 columns</p>\n",
       "</div>"
      ],
      "text/plain": [
       "          pred      real TF   thrTF\n",
       "4040  0.626475  0.240000  T  notcal\n",
       "4041  0.338478  2.080000  T       T\n",
       "4042 -0.018109  2.859153  F       F\n",
       "4043  0.208662  2.334872  T       T\n",
       "4044  0.452664  1.244015  T       T\n",
       "...        ...       ... ..     ...\n",
       "5046  0.131315  0.440000  T  notcal\n",
       "5047 -0.102173 -0.130000  T  notcal\n",
       "5048 -0.117088 -1.500000  T       T\n",
       "5049 -0.291132  1.520000  F       F\n",
       "5050  0.031756  1.520000  T       T\n",
       "\n",
       "[1011 rows x 4 columns]"
      ]
     },
     "execution_count": 69,
     "metadata": {},
     "output_type": "execute_result"
    }
   ],
   "source": [
    "metr.makedf()"
   ]
  },
  {
   "cell_type": "code",
   "execution_count": 70,
   "metadata": {},
   "outputs": [
    {
     "data": {
      "text/html": [
       "<div>\n",
       "<style scoped>\n",
       "    .dataframe tbody tr th:only-of-type {\n",
       "        vertical-align: middle;\n",
       "    }\n",
       "\n",
       "    .dataframe tbody tr th {\n",
       "        vertical-align: top;\n",
       "    }\n",
       "\n",
       "    .dataframe thead th {\n",
       "        text-align: right;\n",
       "    }\n",
       "</style>\n",
       "<table border=\"1\" class=\"dataframe\">\n",
       "  <thead>\n",
       "    <tr style=\"text-align: right;\">\n",
       "      <th></th>\n",
       "      <th>CORR</th>\n",
       "      <th>R2</th>\n",
       "      <th>MAE</th>\n",
       "      <th>RMSE</th>\n",
       "      <th>ACR</th>\n",
       "      <th>threshACR</th>\n",
       "    </tr>\n",
       "  </thead>\n",
       "  <tbody>\n",
       "    <tr>\n",
       "      <th>0</th>\n",
       "      <td>0.4536</td>\n",
       "      <td>0.2029</td>\n",
       "      <td>1.3396</td>\n",
       "      <td>1.7607</td>\n",
       "      <td>0.6182</td>\n",
       "      <td>0.698225</td>\n",
       "    </tr>\n",
       "  </tbody>\n",
       "</table>\n",
       "</div>"
      ],
      "text/plain": [
       "     CORR      R2     MAE    RMSE     ACR  threshACR\n",
       "0  0.4536  0.2029  1.3396  1.7607  0.6182   0.698225"
      ]
     },
     "execution_count": 70,
     "metadata": {},
     "output_type": "execute_result"
    }
   ],
   "source": [
    "metr.execution()"
   ]
  },
  {
   "cell_type": "code",
   "execution_count": null,
   "metadata": {},
   "outputs": [],
   "source": []
  }
 ],
 "metadata": {
  "kernelspec": {
   "display_name": "Python 3.7.6 64-bit ('tf2-py37': conda)",
   "language": "python",
   "name": "python37664bittf2py37conda4df29648bf8a4808bc274fe4f9de4cdb"
  },
  "language_info": {
   "codemirror_mode": {
    "name": "ipython",
    "version": 3
   },
   "file_extension": ".py",
   "mimetype": "text/x-python",
   "name": "python",
   "nbconvert_exporter": "python",
   "pygments_lexer": "ipython3",
   "version": "3.7.6"
  }
 },
 "nbformat": 4,
 "nbformat_minor": 4
}
