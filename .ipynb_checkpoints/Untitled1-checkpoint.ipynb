{
 "cells": [
  {
   "cell_type": "code",
   "execution_count": 3,
   "metadata": {},
   "outputs": [],
   "source": [
    "import pandas as pd\n",
    "import numpy as np"
   ]
  },
  {
   "cell_type": "code",
   "execution_count": 4,
   "metadata": {},
   "outputs": [],
   "source": [
    "t5 = pd.read_csv('automl_test_prediction-krx_5.csv')"
   ]
  },
  {
   "cell_type": "code",
   "execution_count": 5,
   "metadata": {},
   "outputs": [],
   "source": [
    "t5_raw = pd.read_csv('automl_5_200227.csv')"
   ]
  },
  {
   "cell_type": "code",
   "execution_count": 6,
   "metadata": {},
   "outputs": [],
   "source": [
    "y_test = t5_raw['KRXsemiconductor_change'].tail(505)"
   ]
  },
  {
   "cell_type": "code",
   "execution_count": 7,
   "metadata": {},
   "outputs": [],
   "source": [
    "y_test.reset_index(inplace = True, drop = True)"
   ]
  },
  {
   "cell_type": "code",
   "execution_count": 8,
   "metadata": {},
   "outputs": [
    {
     "data": {
      "text/plain": [
       "0    0.480000\n",
       "1    0.570000\n",
       "2    1.330000\n",
       "3    1.540630\n",
       "4    1.423301\n",
       "Name: KRXsemiconductor_change, dtype: float64"
      ]
     },
     "execution_count": 8,
     "metadata": {},
     "output_type": "execute_result"
    }
   ],
   "source": [
    "y_test.head()"
   ]
  },
  {
   "cell_type": "code",
   "execution_count": 9,
   "metadata": {},
   "outputs": [],
   "source": [
    "t5.sort_values(by = 'date', inplace = True)"
   ]
  },
  {
   "cell_type": "code",
   "execution_count": 10,
   "metadata": {},
   "outputs": [],
   "source": [
    "t5.reset_index(inplace = True, drop = True)"
   ]
  },
  {
   "cell_type": "code",
   "execution_count": 11,
   "metadata": {},
   "outputs": [
    {
     "data": {
      "text/html": [
       "<div>\n",
       "<style scoped>\n",
       "    .dataframe tbody tr th:only-of-type {\n",
       "        vertical-align: middle;\n",
       "    }\n",
       "\n",
       "    .dataframe tbody tr th {\n",
       "        vertical-align: top;\n",
       "    }\n",
       "\n",
       "    .dataframe thead th {\n",
       "        text-align: right;\n",
       "    }\n",
       "</style>\n",
       "<table border=\"1\" class=\"dataframe\">\n",
       "  <thead>\n",
       "    <tr style=\"text-align: right;\">\n",
       "      <th></th>\n",
       "      <th>date</th>\n",
       "      <th>GDPCQOQIndex</th>\n",
       "      <th>GDPCYOYIndex</th>\n",
       "      <th>GDPCTOTIndex</th>\n",
       "      <th>GPDITOCIndex</th>\n",
       "      <th>GPGSTOCIndex</th>\n",
       "      <th>RGCDCIPIIndex</th>\n",
       "      <th>GDPCURIndex</th>\n",
       "      <th>GDPCURYIndex</th>\n",
       "      <th>GDPPIQQIndex</th>\n",
       "      <th>...</th>\n",
       "      <th>Philadelphia_product</th>\n",
       "      <th>QCOM_product</th>\n",
       "      <th>ShinEtsuChemical_product</th>\n",
       "      <th>Siltronic_product</th>\n",
       "      <th>SKhynix_product</th>\n",
       "      <th>Sumco_product</th>\n",
       "      <th>TokyoElectron_product</th>\n",
       "      <th>TSMC_product</th>\n",
       "      <th>UMC_product</th>\n",
       "      <th>predicted_KRXsemiconductor_change</th>\n",
       "    </tr>\n",
       "  </thead>\n",
       "  <tbody>\n",
       "    <tr>\n",
       "      <th>0</th>\n",
       "      <td>2018-06-14</td>\n",
       "      <td>3.317091</td>\n",
       "      <td>3.151277</td>\n",
       "      <td>3.546236</td>\n",
       "      <td>-2.055321</td>\n",
       "      <td>2.423474</td>\n",
       "      <td>-26.558691</td>\n",
       "      <td>20450.95632</td>\n",
       "      <td>5.872843</td>\n",
       "      <td>3.152974</td>\n",
       "      <td>...</td>\n",
       "      <td>0.951517</td>\n",
       "      <td>0.868174</td>\n",
       "      <td>0.577902</td>\n",
       "      <td>1.080397</td>\n",
       "      <td>1.289615</td>\n",
       "      <td>0.634060</td>\n",
       "      <td>1.210298</td>\n",
       "      <td>0.996124</td>\n",
       "      <td>0.323529</td>\n",
       "      <td>-0.464917</td>\n",
       "    </tr>\n",
       "    <tr>\n",
       "      <th>1</th>\n",
       "      <td>2018-06-15</td>\n",
       "      <td>3.330223</td>\n",
       "      <td>3.154642</td>\n",
       "      <td>3.579007</td>\n",
       "      <td>-2.083733</td>\n",
       "      <td>2.435273</td>\n",
       "      <td>-26.953685</td>\n",
       "      <td>20454.79069</td>\n",
       "      <td>5.882098</td>\n",
       "      <td>3.159286</td>\n",
       "      <td>...</td>\n",
       "      <td>1.714843</td>\n",
       "      <td>1.659837</td>\n",
       "      <td>1.250209</td>\n",
       "      <td>0.935965</td>\n",
       "      <td>0.638891</td>\n",
       "      <td>0.949438</td>\n",
       "      <td>1.309422</td>\n",
       "      <td>1.357043</td>\n",
       "      <td>2.252817</td>\n",
       "      <td>-0.449079</td>\n",
       "    </tr>\n",
       "    <tr>\n",
       "      <th>2</th>\n",
       "      <td>2018-06-16</td>\n",
       "      <td>3.343172</td>\n",
       "      <td>3.157972</td>\n",
       "      <td>3.611313</td>\n",
       "      <td>-2.106808</td>\n",
       "      <td>2.447004</td>\n",
       "      <td>-27.312258</td>\n",
       "      <td>20458.61005</td>\n",
       "      <td>5.891201</td>\n",
       "      <td>3.165196</td>\n",
       "      <td>...</td>\n",
       "      <td>1.054642</td>\n",
       "      <td>1.024973</td>\n",
       "      <td>0.839123</td>\n",
       "      <td>0.990933</td>\n",
       "      <td>0.983793</td>\n",
       "      <td>0.859866</td>\n",
       "      <td>1.169281</td>\n",
       "      <td>1.286546</td>\n",
       "      <td>1.218599</td>\n",
       "      <td>-0.316786</td>\n",
       "    </tr>\n",
       "    <tr>\n",
       "      <th>3</th>\n",
       "      <td>2018-06-17</td>\n",
       "      <td>3.355929</td>\n",
       "      <td>3.161263</td>\n",
       "      <td>3.643129</td>\n",
       "      <td>-2.124422</td>\n",
       "      <td>2.458662</td>\n",
       "      <td>-27.633503</td>\n",
       "      <td>20462.41383</td>\n",
       "      <td>5.900148</td>\n",
       "      <td>3.170696</td>\n",
       "      <td>...</td>\n",
       "      <td>0.747246</td>\n",
       "      <td>0.697030</td>\n",
       "      <td>0.897208</td>\n",
       "      <td>1.026427</td>\n",
       "      <td>1.419122</td>\n",
       "      <td>0.800145</td>\n",
       "      <td>1.090073</td>\n",
       "      <td>1.123877</td>\n",
       "      <td>0.657044</td>\n",
       "      <td>-0.153539</td>\n",
       "    </tr>\n",
       "    <tr>\n",
       "      <th>4</th>\n",
       "      <td>2018-06-18</td>\n",
       "      <td>3.368484</td>\n",
       "      <td>3.164516</td>\n",
       "      <td>3.674427</td>\n",
       "      <td>-2.136452</td>\n",
       "      <td>2.470237</td>\n",
       "      <td>-27.916512</td>\n",
       "      <td>20466.20144</td>\n",
       "      <td>5.908934</td>\n",
       "      <td>3.175774</td>\n",
       "      <td>...</td>\n",
       "      <td>0.751156</td>\n",
       "      <td>0.697151</td>\n",
       "      <td>2.162350</td>\n",
       "      <td>0.968889</td>\n",
       "      <td>1.109309</td>\n",
       "      <td>1.168558</td>\n",
       "      <td>1.000298</td>\n",
       "      <td>0.988917</td>\n",
       "      <td>0.445246</td>\n",
       "      <td>0.069617</td>\n",
       "    </tr>\n",
       "  </tbody>\n",
       "</table>\n",
       "<p>5 rows × 442 columns</p>\n",
       "</div>"
      ],
      "text/plain": [
       "         date  GDPCQOQIndex  GDPCYOYIndex  GDPCTOTIndex  GPDITOCIndex  \\\n",
       "0  2018-06-14      3.317091      3.151277      3.546236     -2.055321   \n",
       "1  2018-06-15      3.330223      3.154642      3.579007     -2.083733   \n",
       "2  2018-06-16      3.343172      3.157972      3.611313     -2.106808   \n",
       "3  2018-06-17      3.355929      3.161263      3.643129     -2.124422   \n",
       "4  2018-06-18      3.368484      3.164516      3.674427     -2.136452   \n",
       "\n",
       "   GPGSTOCIndex  RGCDCIPIIndex  GDPCURIndex  GDPCURYIndex  GDPPIQQIndex  ...  \\\n",
       "0      2.423474     -26.558691  20450.95632      5.872843      3.152974  ...   \n",
       "1      2.435273     -26.953685  20454.79069      5.882098      3.159286  ...   \n",
       "2      2.447004     -27.312258  20458.61005      5.891201      3.165196  ...   \n",
       "3      2.458662     -27.633503  20462.41383      5.900148      3.170696  ...   \n",
       "4      2.470237     -27.916512  20466.20144      5.908934      3.175774  ...   \n",
       "\n",
       "   Philadelphia_product  QCOM_product  ShinEtsuChemical_product  \\\n",
       "0              0.951517      0.868174                  0.577902   \n",
       "1              1.714843      1.659837                  1.250209   \n",
       "2              1.054642      1.024973                  0.839123   \n",
       "3              0.747246      0.697030                  0.897208   \n",
       "4              0.751156      0.697151                  2.162350   \n",
       "\n",
       "   Siltronic_product  SKhynix_product  Sumco_product  TokyoElectron_product  \\\n",
       "0           1.080397         1.289615       0.634060               1.210298   \n",
       "1           0.935965         0.638891       0.949438               1.309422   \n",
       "2           0.990933         0.983793       0.859866               1.169281   \n",
       "3           1.026427         1.419122       0.800145               1.090073   \n",
       "4           0.968889         1.109309       1.168558               1.000298   \n",
       "\n",
       "   TSMC_product  UMC_product  predicted_KRXsemiconductor_change  \n",
       "0      0.996124     0.323529                          -0.464917  \n",
       "1      1.357043     2.252817                          -0.449079  \n",
       "2      1.286546     1.218599                          -0.316786  \n",
       "3      1.123877     0.657044                          -0.153539  \n",
       "4      0.988917     0.445246                           0.069617  \n",
       "\n",
       "[5 rows x 442 columns]"
      ]
     },
     "execution_count": 11,
     "metadata": {},
     "output_type": "execute_result"
    }
   ],
   "source": [
    "t5.head()"
   ]
  },
  {
   "cell_type": "code",
   "execution_count": 19,
   "metadata": {},
   "outputs": [],
   "source": [
    "y_pred = t5['predicted_KRXsemiconductor_change']"
   ]
  },
  {
   "cell_type": "code",
   "execution_count": 23,
   "metadata": {},
   "outputs": [
    {
     "data": {
      "text/plain": [
       "((505,), (505,))"
      ]
     },
     "execution_count": 23,
     "metadata": {},
     "output_type": "execute_result"
    }
   ],
   "source": [
    "y_pred.shape, y_test.shape"
   ]
  },
  {
   "cell_type": "code",
   "execution_count": 24,
   "metadata": {},
   "outputs": [],
   "source": [
    "# metric 구성\n",
    "\n",
    "from sklearn.metrics import mean_squared_error, r2_score, mean_absolute_error, accuracy_score\n",
    "\n",
    "class CustomMetric():\n",
    "\n",
    "    def __init__(self, pred, real):\n",
    "            self.pred = pred\n",
    "            self.real = real\n",
    "            self.thr25 = np.percentile(self.real, 25)\n",
    "            self.thr75 = np.percentile(self.real, 75)\n",
    "            self.df = pd.DataFrame({'pred' : self.pred, 'real' : self.real})\n",
    "        \n",
    "    def issame(self, data1, data2):\n",
    "        if data1 > 0 and data2 > 0 : \n",
    "            return 'T'\n",
    "        elif data1 > 0 and data2 < 0 :\n",
    "            return 'F'\n",
    "        elif data1 < 0 and data2 > 0 :\n",
    "            return 'F'\n",
    "        elif data1 < 0 and data2 < 0 :\n",
    "            return 'T'\n",
    "        elif data1 == 0 or data2 == 0 :\n",
    "            return 0\n",
    "        else :\n",
    "            return 'notcal'\n",
    "\n",
    "    def getouter(self, data1, data2): #quantile_25 = np.percentile(values, 25)\n",
    "\n",
    "        if data1 > 0 and data2 >= self.thr75 :\n",
    "            return 'T'\n",
    "        elif data1 < 0 and data2 <= self.thr25 :\n",
    "            return 'T'\n",
    "        elif data1 >= 0 and data2 <= self.thr25 :\n",
    "            return 'F'\n",
    "        elif data1 <= 0 and data2 >= self.thr75: \n",
    "            return 'F'\n",
    "        else:\n",
    "            return 'notcal'\n",
    "        \n",
    "    def makedf(self):\n",
    "        self.df['TF'] = self.df.apply(lambda x : self.issame(x['pred'], x['real']), axis = 1)\n",
    "        self.df['thrTF'] = self.df.apply(lambda x : self.getouter(x['pred'], x['real']), axis = 1)\n",
    "        \n",
    "        return self.df\n",
    "        \n",
    "    def execution(self):\n",
    "        mdf = pd.DataFrame()\n",
    "        mdf['CORR'] = [self.df['real'].corr(self.df['pred'], method = 'pearson')]\n",
    "        mdf['R2'] = [\"{0:0.4f}\".format(r2_score(self.df['real'], self.df['pred']))]\n",
    "        mdf['MAE'] = [\"{0:0.4f}\".format(mean_absolute_error(self.df['pred'], self.df['real']))]\n",
    "        mdf['RMSE'] = [\"{0:0.4f}\".format(np.sqrt(mean_squared_error(self.df['pred'], self.df['real'])))]\n",
    "        mdf['ACR'] = [sum(self.df['TF'] == 'T')/len(self.df['TF'])]\n",
    "        \n",
    "        mdf['threshACR'] = [sum(self.df['thrTF'] == 'T') / sum(self.df['thrTF'] != 'notcal')]\n",
    "        \n",
    "        return mdf"
   ]
  },
  {
   "cell_type": "code",
   "execution_count": 25,
   "metadata": {},
   "outputs": [
    {
     "data": {
      "text/html": [
       "<div>\n",
       "<style scoped>\n",
       "    .dataframe tbody tr th:only-of-type {\n",
       "        vertical-align: middle;\n",
       "    }\n",
       "\n",
       "    .dataframe tbody tr th {\n",
       "        vertical-align: top;\n",
       "    }\n",
       "\n",
       "    .dataframe thead th {\n",
       "        text-align: right;\n",
       "    }\n",
       "</style>\n",
       "<table border=\"1\" class=\"dataframe\">\n",
       "  <thead>\n",
       "    <tr style=\"text-align: right;\">\n",
       "      <th></th>\n",
       "      <th>CORR</th>\n",
       "      <th>R2</th>\n",
       "      <th>MAE</th>\n",
       "      <th>RMSE</th>\n",
       "      <th>ACR</th>\n",
       "      <th>threshACR</th>\n",
       "    </tr>\n",
       "  </thead>\n",
       "  <tbody>\n",
       "    <tr>\n",
       "      <th>0</th>\n",
       "      <td>0.109439</td>\n",
       "      <td>0.0063</td>\n",
       "      <td>1.5643</td>\n",
       "      <td>2.0905</td>\n",
       "      <td>0.50099</td>\n",
       "      <td>0.535433</td>\n",
       "    </tr>\n",
       "  </tbody>\n",
       "</table>\n",
       "</div>"
      ],
      "text/plain": [
       "       CORR      R2     MAE    RMSE      ACR  threshACR\n",
       "0  0.109439  0.0063  1.5643  2.0905  0.50099   0.535433"
      ]
     },
     "execution_count": 25,
     "metadata": {},
     "output_type": "execute_result"
    }
   ],
   "source": [
    "metr = CustomMetric(y_pred, y_test)\n",
    "metr.makedf()\n",
    "metr.execution()"
   ]
  },
  {
   "cell_type": "code",
   "execution_count": 37,
   "metadata": {},
   "outputs": [
    {
     "data": {
      "text/plain": [
       "0.006275548635097161"
      ]
     },
     "execution_count": 37,
     "metadata": {},
     "output_type": "execute_result"
    }
   ],
   "source": [
    "r2_score(y_test, y_pred)"
   ]
  },
  {
   "cell_type": "code",
   "execution_count": 36,
   "metadata": {},
   "outputs": [
    {
     "data": {
      "text/plain": [
       "-37.10153651961387"
      ]
     },
     "execution_count": 36,
     "metadata": {},
     "output_type": "execute_result"
    }
   ],
   "source": [
    "r2_score(y_pred, y_test)"
   ]
  },
  {
   "cell_type": "code",
   "execution_count": 28,
   "metadata": {},
   "outputs": [
    {
     "ename": "NameError",
     "evalue": "name 'corr' is not defined",
     "output_type": "error",
     "traceback": [
      "\u001b[0;31m---------------------------------------------------------------------------\u001b[0m",
      "\u001b[0;31mNameError\u001b[0m                                 Traceback (most recent call last)",
      "\u001b[0;32m<ipython-input-28-1c26513f8a3a>\u001b[0m in \u001b[0;36m<module>\u001b[0;34m\u001b[0m\n\u001b[0;32m----> 1\u001b[0;31m \u001b[0mcorr\u001b[0m\u001b[0;34m(\u001b[0m\u001b[0my_test\u001b[0m\u001b[0;34m,\u001b[0m \u001b[0my_pred\u001b[0m\u001b[0;34m)\u001b[0m\u001b[0;34m\u001b[0m\u001b[0;34m\u001b[0m\u001b[0m\n\u001b[0m",
      "\u001b[0;31mNameError\u001b[0m: name 'corr' is not defined"
     ]
    }
   ],
   "source": [
    "corr(y_test, y_pred)"
   ]
  },
  {
   "cell_type": "code",
   "execution_count": 29,
   "metadata": {},
   "outputs": [],
   "source": [
    "k = pd.DataFrame(y_test)"
   ]
  },
  {
   "cell_type": "code",
   "execution_count": 31,
   "metadata": {},
   "outputs": [],
   "source": [
    "k['a'] = y_pred"
   ]
  },
  {
   "cell_type": "code",
   "execution_count": 34,
   "metadata": {},
   "outputs": [
    {
     "data": {
      "text/plain": [
       "0.10943913671929831"
      ]
     },
     "execution_count": 34,
     "metadata": {},
     "output_type": "execute_result"
    }
   ],
   "source": [
    "k['KRXsemiconductor_change'].corr(k['a'])"
   ]
  },
  {
   "cell_type": "code",
   "execution_count": 35,
   "metadata": {},
   "outputs": [
    {
     "data": {
      "text/plain": [
       "0.10943913671929832"
      ]
     },
     "execution_count": 35,
     "metadata": {},
     "output_type": "execute_result"
    }
   ],
   "source": [
    "k['a'].corr(k['KRXsemiconductor_change'])"
   ]
  },
  {
   "cell_type": "code",
   "execution_count": null,
   "metadata": {},
   "outputs": [],
   "source": []
  }
 ],
 "metadata": {
  "kernelspec": {
   "display_name": "Tensorflow2 Python 3.7",
   "language": "python",
   "name": "tf2-py37"
  },
  "language_info": {
   "codemirror_mode": {
    "name": "ipython",
    "version": 3
   },
   "file_extension": ".py",
   "mimetype": "text/x-python",
   "name": "python",
   "nbconvert_exporter": "python",
   "pygments_lexer": "ipython3",
   "version": "3.7.6"
  }
 },
 "nbformat": 4,
 "nbformat_minor": 4
}
