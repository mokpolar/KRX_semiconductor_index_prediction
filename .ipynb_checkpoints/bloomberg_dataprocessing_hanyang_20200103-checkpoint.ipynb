{
 "cells": [
  {
   "cell_type": "code",
   "execution_count": 49,
   "metadata": {},
   "outputs": [],
   "source": [
    "import pandas as pd"
   ]
  },
  {
   "cell_type": "code",
   "execution_count": 50,
   "metadata": {},
   "outputs": [],
   "source": [
    "world = pd.read_csv('world_indices.csv')\n",
    "com = pd.read_csv('commodity.csv')\n",
    "msci = pd.read_csv('msci.csv')"
   ]
  },
  {
   "cell_type": "code",
   "execution_count": 51,
   "metadata": {},
   "outputs": [
    {
     "data": {
      "text/plain": [
       "((1983197, 11), (692503, 11), (2015105, 11))"
      ]
     },
     "execution_count": 51,
     "metadata": {},
     "output_type": "execute_result"
    }
   ],
   "source": [
    "world.shape, com.shape, msci.shape"
   ]
  },
  {
   "cell_type": "code",
   "execution_count": 52,
   "metadata": {},
   "outputs": [],
   "source": [
    "com.columns = ['ticker', 'req_code1', 'req_code2','date', 'px_open', 'px_high', 'px_low', 'px_last', 'chg_net_10', 'chg_pct_10', 'px_volume']"
   ]
  },
  {
   "cell_type": "code",
   "execution_count": 53,
   "metadata": {},
   "outputs": [],
   "source": [
    "msci.columns = ['ticker', 'req_code1', 'req_code2','date', 'px_open', 'px_high', 'px_low', 'px_last', 'chg_net_10', 'chg_pct_10', 'px_volume']"
   ]
  },
  {
   "cell_type": "code",
   "execution_count": 54,
   "metadata": {},
   "outputs": [],
   "source": [
    "world.columns = ['ticker', 'req_code1', 'req_code2','date', 'px_open', 'px_high', 'px_low', 'px_last', 'chg_net_10', 'chg_pct_10', 'px_volume']"
   ]
  },
  {
   "cell_type": "code",
   "execution_count": 55,
   "metadata": {},
   "outputs": [],
   "source": [
    "list = [world, msci, com]\n",
    "for i in list:\n",
    "    i.set_index('ticker', inplace = True)"
   ]
  },
  {
   "cell_type": "code",
   "execution_count": 56,
   "metadata": {},
   "outputs": [],
   "source": [
    "world = world.loc[['SPX Index',\n",
    "                   'CCMP Index', \n",
    "                   'NKY Index', \n",
    "                   'CIND Index',\n",
    "                   'IXK Index',\n",
    "                   'XCI Index',\n",
    "                   'SOX Index',\n",
    "                   'MSER Index',\n",
    "                   'NMDP Index',\n",
    "                   'SZCOMP Index',\n",
    "                   'KOSPI Index'], :]\n"
   ]
  },
  {
   "cell_type": "code",
   "execution_count": 57,
   "metadata": {},
   "outputs": [],
   "source": [
    "com = com.loc[['CL1 Comdty',\n",
    "'LMAHDS03 Comdty',\n",
    "'LMCADS03 Comdty',\n",
    "'XAU Curncy',\n",
    "'LMNIDS03 Comdty'], : ]"
   ]
  },
  {
   "cell_type": "code",
   "execution_count": 58,
   "metadata": {},
   "outputs": [],
   "source": [
    "msci = msci.loc[['MSRUIT Index',\n",
    "'MSRUMAT Index',\n",
    "'MXWO0IT Index',\n",
    "'MXWO0MT Index',\n",
    "'MXUS0IT Index',\n",
    "'MXEF0IT Index',\n",
    "'MXEF0MT Index',\n",
    "'NU722094 Index',\n",
    "'NU721934 Index'], : ]"
   ]
  },
  {
   "cell_type": "code",
   "execution_count": 59,
   "metadata": {},
   "outputs": [],
   "source": [
    "msci.reset_index(inplace = True)"
   ]
  },
  {
   "cell_type": "code",
   "execution_count": 60,
   "metadata": {},
   "outputs": [],
   "source": [
    "com.reset_index(inplace = True)"
   ]
  },
  {
   "cell_type": "code",
   "execution_count": 61,
   "metadata": {},
   "outputs": [],
   "source": [
    "world.reset_index(inplace = True)"
   ]
  },
  {
   "cell_type": "code",
   "execution_count": 62,
   "metadata": {},
   "outputs": [],
   "source": [
    "msci = msci[['ticker', 'date', 'px_last']]"
   ]
  },
  {
   "cell_type": "code",
   "execution_count": 63,
   "metadata": {},
   "outputs": [],
   "source": [
    "com = com[['ticker', 'date', 'px_last']]"
   ]
  },
  {
   "cell_type": "code",
   "execution_count": 64,
   "metadata": {},
   "outputs": [],
   "source": [
    "world = world[['ticker', 'date', 'px_last']]"
   ]
  },
  {
   "cell_type": "code",
   "execution_count": 65,
   "metadata": {},
   "outputs": [],
   "source": [
    "for i in [msci, com, world]:\n",
    "    i.columns = ['ticker', 'date', 'value']"
   ]
  },
  {
   "cell_type": "code",
   "execution_count": 66,
   "metadata": {},
   "outputs": [],
   "source": [
    "msci = pd.concat([msci, com], axis = 0)"
   ]
  },
  {
   "cell_type": "code",
   "execution_count": 67,
   "metadata": {},
   "outputs": [],
   "source": [
    "msci = pd.concat([msci, world], axis = 0)"
   ]
  },
  {
   "cell_type": "code",
   "execution_count": 69,
   "metadata": {},
   "outputs": [
    {
     "data": {
      "text/plain": [
       "array(['MSRUIT Index', 'MSRUMAT Index', 'MXWO0IT Index', 'MXWO0MT Index',\n",
       "       'MXUS0IT Index', 'MXEF0IT Index', 'MXEF0MT Index',\n",
       "       'NU722094 Index', 'NU721934 Index', 'CL1 Comdty',\n",
       "       'LMAHDS03 Comdty', 'LMCADS03 Comdty', 'XAU Curncy',\n",
       "       'LMNIDS03 Comdty', 'SPX Index', 'CCMP Index', 'NKY Index',\n",
       "       'CIND Index', 'IXK Index', 'XCI Index', 'SOX Index', 'MSER Index',\n",
       "       'NMDP Index', 'SZCOMP Index', 'KOSPI Index'], dtype=object)"
      ]
     },
     "execution_count": 69,
     "metadata": {},
     "output_type": "execute_result"
    }
   ],
   "source": [
    "msci.ticker.unique()"
   ]
  },
  {
   "cell_type": "code",
   "execution_count": 70,
   "metadata": {},
   "outputs": [],
   "source": [
    "msci.to_csv('plus_data.csv')"
   ]
  },
  {
   "cell_type": "code",
   "execution_count": 71,
   "metadata": {},
   "outputs": [
    {
     "data": {
      "text/plain": [
       "180000"
      ]
     },
     "execution_count": 71,
     "metadata": {},
     "output_type": "execute_result"
    }
   ],
   "source": [
    "len(msci)"
   ]
  },
  {
   "cell_type": "code",
   "execution_count": 109,
   "metadata": {},
   "outputs": [],
   "source": [
    "a = pd.read_csv('hanyang_20200103.csv')"
   ]
  },
  {
   "cell_type": "code",
   "execution_count": null,
   "metadata": {},
   "outputs": [],
   "source": [
    "def func(string):\n",
    "    if"
   ]
  },
  {
   "cell_type": "code",
   "execution_count": 79,
   "metadata": {},
   "outputs": [
    {
     "ename": "SyntaxError",
     "evalue": "invalid syntax (<ipython-input-79-980885939f93>, line 1)",
     "output_type": "error",
     "traceback": [
      "\u001b[1;36m  File \u001b[1;32m\"<ipython-input-79-980885939f93>\"\u001b[1;36m, line \u001b[1;32m1\u001b[0m\n\u001b[1;33m    msci = msci['date'].map(lambda x: '-' in x if '/')\u001b[0m\n\u001b[1;37m                                                     ^\u001b[0m\n\u001b[1;31mSyntaxError\u001b[0m\u001b[1;31m:\u001b[0m invalid syntax\n"
     ]
    }
   ],
   "source": [
    "msci = msci['date'].map(lambda x: '-' in x if '/')"
   ]
  },
  {
   "cell_type": "code",
   "execution_count": 145,
   "metadata": {},
   "outputs": [
    {
     "data": {
      "text/html": [
       "<div>\n",
       "<style scoped>\n",
       "    .dataframe tbody tr th:only-of-type {\n",
       "        vertical-align: middle;\n",
       "    }\n",
       "\n",
       "    .dataframe tbody tr th {\n",
       "        vertical-align: top;\n",
       "    }\n",
       "\n",
       "    .dataframe thead th {\n",
       "        text-align: right;\n",
       "    }\n",
       "</style>\n",
       "<table border=\"1\" class=\"dataframe\">\n",
       "  <thead>\n",
       "    <tr style=\"text-align: right;\">\n",
       "      <th></th>\n",
       "      <th>ticker</th>\n",
       "      <th>date</th>\n",
       "      <th>value</th>\n",
       "    </tr>\n",
       "  </thead>\n",
       "  <tbody>\n",
       "    <tr>\n",
       "      <th>0</th>\n",
       "      <td>KOGDPQOQ Index</td>\n",
       "      <td>03/31/2000</td>\n",
       "      <td>11.9</td>\n",
       "    </tr>\n",
       "    <tr>\n",
       "      <th>1</th>\n",
       "      <td>KOGDPQOQ Index</td>\n",
       "      <td>06/30/2000</td>\n",
       "      <td>1.5</td>\n",
       "    </tr>\n",
       "    <tr>\n",
       "      <th>2</th>\n",
       "      <td>KOGDPQOQ Index</td>\n",
       "      <td>09/30/2000</td>\n",
       "      <td>2.8</td>\n",
       "    </tr>\n",
       "    <tr>\n",
       "      <th>3</th>\n",
       "      <td>KOGDPQOQ Index</td>\n",
       "      <td>12/31/2000</td>\n",
       "      <td>-0.7</td>\n",
       "    </tr>\n",
       "    <tr>\n",
       "      <th>4</th>\n",
       "      <td>KOGDPQOQ Index</td>\n",
       "      <td>12/31/2001</td>\n",
       "      <td>1.4</td>\n",
       "    </tr>\n",
       "  </tbody>\n",
       "</table>\n",
       "</div>"
      ],
      "text/plain": [
       "           ticker        date value\n",
       "0  KOGDPQOQ Index  03/31/2000  11.9\n",
       "1  KOGDPQOQ Index  06/30/2000   1.5\n",
       "2  KOGDPQOQ Index  09/30/2000   2.8\n",
       "3  KOGDPQOQ Index  12/31/2000  -0.7\n",
       "4  KOGDPQOQ Index  12/31/2001   1.4"
      ]
     },
     "execution_count": 145,
     "metadata": {},
     "output_type": "execute_result"
    }
   ],
   "source": [
    "con.head()"
   ]
  },
  {
   "cell_type": "code",
   "execution_count": 85,
   "metadata": {},
   "outputs": [
    {
     "name": "stdout",
     "output_type": "stream",
     "text": [
      "2008-12-21\n"
     ]
    }
   ],
   "source": [
    "#import datetime\n",
    "#print(datetime.datetime.strptime(\"21/12/2008\", \"%d/%m/%Y\").strftime(\"%Y-%m-%d\"))"
   ]
  },
  {
   "cell_type": "code",
   "execution_count": 103,
   "metadata": {},
   "outputs": [],
   "source": [
    "msci['date'] = msci['date'].map(lambda x: datetime.datetime.strptime(x, \"%m/%d/%Y\").strftime(\"%Y-%m-%d\"))"
   ]
  },
  {
   "cell_type": "code",
   "execution_count": 93,
   "metadata": {},
   "outputs": [],
   "source": [
    "msci = msci.replace(' ', '')"
   ]
  },
  {
   "cell_type": "code",
   "execution_count": 99,
   "metadata": {},
   "outputs": [],
   "source": [
    "msci.drop(48300, inplace = True)"
   ]
  },
  {
   "cell_type": "code",
   "execution_count": 100,
   "metadata": {},
   "outputs": [],
   "source": [
    "msci.drop(45446, inplace = True)"
   ]
  },
  {
   "cell_type": "code",
   "execution_count": 101,
   "metadata": {},
   "outputs": [
    {
     "data": {
      "text/plain": [
       "2276     01/01/1990\n",
       "29893    01/01/1996\n",
       "23563    01/01/1996\n",
       "17085    01/01/1996\n",
       "42853    01/01/1996\n",
       "            ...    \n",
       "29421    12/31/2018\n",
       "48081    12/31/2018\n",
       "23084    12/31/2018\n",
       "59591    12/31/2018\n",
       "53168    12/31/2018\n",
       "Name: date, Length: 179996, dtype: object"
      ]
     },
     "execution_count": 101,
     "metadata": {},
     "output_type": "execute_result"
    }
   ],
   "source": [
    "msci.date.sort_values()"
   ]
  },
  {
   "cell_type": "code",
   "execution_count": 106,
   "metadata": {},
   "outputs": [],
   "source": [
    "msci['date'] = pd.to_datetime(msci['date'])"
   ]
  },
  {
   "cell_type": "code",
   "execution_count": 108,
   "metadata": {},
   "outputs": [
    {
     "name": "stdout",
     "output_type": "stream",
     "text": [
      "0 MSRUIT Index 5434\n",
      "1 MSRUMAT Index 6478\n",
      "2 MXWO0IT Index 6478\n",
      "3 MXWO0MT Index 6478\n",
      "4 MXUS0IT Index 6330\n",
      "5 MXEF0IT Index 6480\n",
      "6 MXEF0MT Index 6480\n",
      "7 NU722094 Index 1288\n",
      "8 NU721934 Index 2853\n",
      "9 CL1 Comdty 8961\n",
      "10 LMAHDS03 Comdty 7982\n",
      "11 LMCADS03 Comdty 8266\n",
      "12 XAU Curncy 9763\n",
      "13 LMNIDS03 Comdty 8079\n",
      "14 SPX Index 9810\n",
      "15 CCMP Index 9793\n",
      "16 NKY Index 9553\n",
      "17 CIND Index 9831\n",
      "18 IXK Index 6549\n",
      "19 XCI Index 7842\n",
      "20 SOX Index 6423\n",
      "21 MSER Index 5906\n",
      "22 NMDP Index 5756\n",
      "23 SZCOMP Index 6766\n",
      "24 KOSPI Index 10417\n"
     ]
    }
   ],
   "source": [
    "for i, j in enumerate(msci['ticker'].unique()):\n",
    "    print(i, msci['ticker'].unique()[i], len(msci[msci['ticker'] == j]))"
   ]
  },
  {
   "cell_type": "code",
   "execution_count": 109,
   "metadata": {},
   "outputs": [],
   "source": [
    "name = msci['ticker'].unique()"
   ]
  },
  {
   "cell_type": "code",
   "execution_count": 110,
   "metadata": {},
   "outputs": [
    {
     "data": {
      "text/plain": [
       "array(['MSRUIT Index', 'MSRUMAT Index', 'MXWO0IT Index', 'MXWO0MT Index',\n",
       "       'MXUS0IT Index', 'MXEF0IT Index', 'MXEF0MT Index',\n",
       "       'NU722094 Index', 'NU721934 Index', 'CL1 Comdty',\n",
       "       'LMAHDS03 Comdty', 'LMCADS03 Comdty', 'XAU Curncy',\n",
       "       'LMNIDS03 Comdty', 'SPX Index', 'CCMP Index', 'NKY Index',\n",
       "       'CIND Index', 'IXK Index', 'XCI Index', 'SOX Index', 'MSER Index',\n",
       "       'NMDP Index', 'SZCOMP Index', 'KOSPI Index'], dtype=object)"
      ]
     },
     "execution_count": 110,
     "metadata": {},
     "output_type": "execute_result"
    }
   ],
   "source": [
    "name"
   ]
  },
  {
   "cell_type": "code",
   "execution_count": 111,
   "metadata": {},
   "outputs": [],
   "source": [
    "msci.to_csv('plus_data_20200319.csv')"
   ]
  },
  {
   "cell_type": "markdown",
   "metadata": {},
   "source": [
    "# ticker별 데이터프레임 생성해서 옆으로 붙이기"
   ]
  },
  {
   "cell_type": "code",
   "execution_count": 112,
   "metadata": {},
   "outputs": [],
   "source": [
    "msci['ticker'] = msci['ticker'].map(lambda x: x.replace(' ', ''))"
   ]
  },
  {
   "cell_type": "code",
   "execution_count": 113,
   "metadata": {},
   "outputs": [],
   "source": [
    "# 필요 mod 갖고오기\n",
    "import sys\n",
    "mod = sys.modules[__name__]"
   ]
  },
  {
   "cell_type": "code",
   "execution_count": 114,
   "metadata": {},
   "outputs": [],
   "source": [
    "name = msci['ticker'].unique()"
   ]
  },
  {
   "cell_type": "code",
   "execution_count": 115,
   "metadata": {},
   "outputs": [],
   "source": [
    "# ticker별 데이터 프레임 생성\n",
    "for i, j in enumerate(name):\n",
    "    setattr(mod, name[i], msci[msci['ticker'] == j])"
   ]
  },
  {
   "cell_type": "code",
   "execution_count": 116,
   "metadata": {},
   "outputs": [
    {
     "data": {
      "text/html": [
       "<div>\n",
       "<style scoped>\n",
       "    .dataframe tbody tr th:only-of-type {\n",
       "        vertical-align: middle;\n",
       "    }\n",
       "\n",
       "    .dataframe tbody tr th {\n",
       "        vertical-align: top;\n",
       "    }\n",
       "\n",
       "    .dataframe thead th {\n",
       "        text-align: right;\n",
       "    }\n",
       "</style>\n",
       "<table border=\"1\" class=\"dataframe\">\n",
       "  <thead>\n",
       "    <tr style=\"text-align: right;\">\n",
       "      <th></th>\n",
       "      <th>ticker</th>\n",
       "      <th>date</th>\n",
       "      <th>value</th>\n",
       "    </tr>\n",
       "  </thead>\n",
       "  <tbody>\n",
       "    <tr>\n",
       "      <th>0</th>\n",
       "      <td>MSRUITIndex</td>\n",
       "      <td>2001-01-01</td>\n",
       "      <td>172.257</td>\n",
       "    </tr>\n",
       "    <tr>\n",
       "      <th>1</th>\n",
       "      <td>MSRUITIndex</td>\n",
       "      <td>2001-01-02</td>\n",
       "      <td>165.439</td>\n",
       "    </tr>\n",
       "    <tr>\n",
       "      <th>2</th>\n",
       "      <td>MSRUITIndex</td>\n",
       "      <td>2001-01-03</td>\n",
       "      <td>154.197</td>\n",
       "    </tr>\n",
       "    <tr>\n",
       "      <th>3</th>\n",
       "      <td>MSRUITIndex</td>\n",
       "      <td>2001-01-04</td>\n",
       "      <td>169.711</td>\n",
       "    </tr>\n",
       "    <tr>\n",
       "      <th>4</th>\n",
       "      <td>MSRUITIndex</td>\n",
       "      <td>2001-01-05</td>\n",
       "      <td>169.1</td>\n",
       "    </tr>\n",
       "    <tr>\n",
       "      <th>...</th>\n",
       "      <td>...</td>\n",
       "      <td>...</td>\n",
       "      <td>...</td>\n",
       "    </tr>\n",
       "    <tr>\n",
       "      <th>5429</th>\n",
       "      <td>MSRUITIndex</td>\n",
       "      <td>2000-12-25</td>\n",
       "      <td>166.827</td>\n",
       "    </tr>\n",
       "    <tr>\n",
       "      <th>5430</th>\n",
       "      <td>MSRUITIndex</td>\n",
       "      <td>2000-12-26</td>\n",
       "      <td>167.714</td>\n",
       "    </tr>\n",
       "    <tr>\n",
       "      <th>5431</th>\n",
       "      <td>MSRUITIndex</td>\n",
       "      <td>2000-12-27</td>\n",
       "      <td>169.296</td>\n",
       "    </tr>\n",
       "    <tr>\n",
       "      <th>5432</th>\n",
       "      <td>MSRUITIndex</td>\n",
       "      <td>2000-12-28</td>\n",
       "      <td>170.654</td>\n",
       "    </tr>\n",
       "    <tr>\n",
       "      <th>5433</th>\n",
       "      <td>MSRUITIndex</td>\n",
       "      <td>2000-12-29</td>\n",
       "      <td>172.257</td>\n",
       "    </tr>\n",
       "  </tbody>\n",
       "</table>\n",
       "<p>5434 rows × 3 columns</p>\n",
       "</div>"
      ],
      "text/plain": [
       "           ticker       date    value\n",
       "0     MSRUITIndex 2001-01-01  172.257\n",
       "1     MSRUITIndex 2001-01-02  165.439\n",
       "2     MSRUITIndex 2001-01-03  154.197\n",
       "3     MSRUITIndex 2001-01-04  169.711\n",
       "4     MSRUITIndex 2001-01-05    169.1\n",
       "...           ...        ...      ...\n",
       "5429  MSRUITIndex 2000-12-25  166.827\n",
       "5430  MSRUITIndex 2000-12-26  167.714\n",
       "5431  MSRUITIndex 2000-12-27  169.296\n",
       "5432  MSRUITIndex 2000-12-28  170.654\n",
       "5433  MSRUITIndex 2000-12-29  172.257\n",
       "\n",
       "[5434 rows x 3 columns]"
      ]
     },
     "execution_count": 116,
     "metadata": {},
     "output_type": "execute_result"
    }
   ],
   "source": [
    "# 잘 나오는지 체크\n",
    "MSRUITIndex"
   ]
  },
  {
   "cell_type": "code",
   "execution_count": 117,
   "metadata": {},
   "outputs": [],
   "source": [
    "# ticker가 value에 들어가게 변경\n",
    "for i in name:\n",
    "    globals()[i].columns = ['ticker', 'date', i]"
   ]
  },
  {
   "cell_type": "code",
   "execution_count": 118,
   "metadata": {
    "scrolled": true
   },
   "outputs": [
    {
     "data": {
      "text/html": [
       "<div>\n",
       "<style scoped>\n",
       "    .dataframe tbody tr th:only-of-type {\n",
       "        vertical-align: middle;\n",
       "    }\n",
       "\n",
       "    .dataframe tbody tr th {\n",
       "        vertical-align: top;\n",
       "    }\n",
       "\n",
       "    .dataframe thead th {\n",
       "        text-align: right;\n",
       "    }\n",
       "</style>\n",
       "<table border=\"1\" class=\"dataframe\">\n",
       "  <thead>\n",
       "    <tr style=\"text-align: right;\">\n",
       "      <th></th>\n",
       "      <th>ticker</th>\n",
       "      <th>date</th>\n",
       "      <th>MSRUITIndex</th>\n",
       "    </tr>\n",
       "  </thead>\n",
       "  <tbody>\n",
       "    <tr>\n",
       "      <th>0</th>\n",
       "      <td>MSRUITIndex</td>\n",
       "      <td>2001-01-01</td>\n",
       "      <td>172.257</td>\n",
       "    </tr>\n",
       "    <tr>\n",
       "      <th>1</th>\n",
       "      <td>MSRUITIndex</td>\n",
       "      <td>2001-01-02</td>\n",
       "      <td>165.439</td>\n",
       "    </tr>\n",
       "    <tr>\n",
       "      <th>2</th>\n",
       "      <td>MSRUITIndex</td>\n",
       "      <td>2001-01-03</td>\n",
       "      <td>154.197</td>\n",
       "    </tr>\n",
       "    <tr>\n",
       "      <th>3</th>\n",
       "      <td>MSRUITIndex</td>\n",
       "      <td>2001-01-04</td>\n",
       "      <td>169.711</td>\n",
       "    </tr>\n",
       "    <tr>\n",
       "      <th>4</th>\n",
       "      <td>MSRUITIndex</td>\n",
       "      <td>2001-01-05</td>\n",
       "      <td>169.1</td>\n",
       "    </tr>\n",
       "    <tr>\n",
       "      <th>...</th>\n",
       "      <td>...</td>\n",
       "      <td>...</td>\n",
       "      <td>...</td>\n",
       "    </tr>\n",
       "    <tr>\n",
       "      <th>5429</th>\n",
       "      <td>MSRUITIndex</td>\n",
       "      <td>2000-12-25</td>\n",
       "      <td>166.827</td>\n",
       "    </tr>\n",
       "    <tr>\n",
       "      <th>5430</th>\n",
       "      <td>MSRUITIndex</td>\n",
       "      <td>2000-12-26</td>\n",
       "      <td>167.714</td>\n",
       "    </tr>\n",
       "    <tr>\n",
       "      <th>5431</th>\n",
       "      <td>MSRUITIndex</td>\n",
       "      <td>2000-12-27</td>\n",
       "      <td>169.296</td>\n",
       "    </tr>\n",
       "    <tr>\n",
       "      <th>5432</th>\n",
       "      <td>MSRUITIndex</td>\n",
       "      <td>2000-12-28</td>\n",
       "      <td>170.654</td>\n",
       "    </tr>\n",
       "    <tr>\n",
       "      <th>5433</th>\n",
       "      <td>MSRUITIndex</td>\n",
       "      <td>2000-12-29</td>\n",
       "      <td>172.257</td>\n",
       "    </tr>\n",
       "  </tbody>\n",
       "</table>\n",
       "<p>5434 rows × 3 columns</p>\n",
       "</div>"
      ],
      "text/plain": [
       "           ticker       date MSRUITIndex\n",
       "0     MSRUITIndex 2001-01-01     172.257\n",
       "1     MSRUITIndex 2001-01-02     165.439\n",
       "2     MSRUITIndex 2001-01-03     154.197\n",
       "3     MSRUITIndex 2001-01-04     169.711\n",
       "4     MSRUITIndex 2001-01-05       169.1\n",
       "...           ...        ...         ...\n",
       "5429  MSRUITIndex 2000-12-25     166.827\n",
       "5430  MSRUITIndex 2000-12-26     167.714\n",
       "5431  MSRUITIndex 2000-12-27     169.296\n",
       "5432  MSRUITIndex 2000-12-28     170.654\n",
       "5433  MSRUITIndex 2000-12-29     172.257\n",
       "\n",
       "[5434 rows x 3 columns]"
      ]
     },
     "execution_count": 118,
     "metadata": {},
     "output_type": "execute_result"
    }
   ],
   "source": [
    "MSRUITIndex"
   ]
  },
  {
   "cell_type": "code",
   "execution_count": 119,
   "metadata": {},
   "outputs": [
    {
     "name": "stderr",
     "output_type": "stream",
     "text": [
      "C:\\Users\\mokpolar\\Anaconda3\\lib\\site-packages\\pandas\\core\\frame.py:3997: SettingWithCopyWarning: \n",
      "A value is trying to be set on a copy of a slice from a DataFrame\n",
      "\n",
      "See the caveats in the documentation: https://pandas.pydata.org/pandas-docs/stable/user_guide/indexing.html#returning-a-view-versus-a-copy\n",
      "  errors=errors,\n"
     ]
    }
   ],
   "source": [
    "# 이제 tickers는 날려도 됨\n",
    "for i in name:\n",
    "    globals()[i].drop(['ticker'], axis = 1, inplace = True)"
   ]
  },
  {
   "cell_type": "code",
   "execution_count": 122,
   "metadata": {},
   "outputs": [],
   "source": [
    "# 제일 데이터가 긴 KRWCurncy로 기준 선정\n",
    "new_df = SPXIndex"
   ]
  },
  {
   "cell_type": "code",
   "execution_count": 123,
   "metadata": {},
   "outputs": [],
   "source": [
    "# 날짜별로 sorting\n",
    "new_df = new_df.sort_values(by = 'date')"
   ]
  },
  {
   "cell_type": "code",
   "execution_count": 124,
   "metadata": {},
   "outputs": [
    {
     "data": {
      "text/html": [
       "<div>\n",
       "<style scoped>\n",
       "    .dataframe tbody tr th:only-of-type {\n",
       "        vertical-align: middle;\n",
       "    }\n",
       "\n",
       "    .dataframe tbody tr th {\n",
       "        vertical-align: top;\n",
       "    }\n",
       "\n",
       "    .dataframe thead th {\n",
       "        text-align: right;\n",
       "    }\n",
       "</style>\n",
       "<table border=\"1\" class=\"dataframe\">\n",
       "  <thead>\n",
       "    <tr style=\"text-align: right;\">\n",
       "      <th></th>\n",
       "      <th>date</th>\n",
       "      <th>SPXIndex</th>\n",
       "    </tr>\n",
       "  </thead>\n",
       "  <tbody>\n",
       "    <tr>\n",
       "      <th>0</th>\n",
       "      <td>1981-01-02</td>\n",
       "      <td>136.34</td>\n",
       "    </tr>\n",
       "    <tr>\n",
       "      <th>1</th>\n",
       "      <td>1981-01-05</td>\n",
       "      <td>137.97</td>\n",
       "    </tr>\n",
       "    <tr>\n",
       "      <th>2</th>\n",
       "      <td>1981-01-06</td>\n",
       "      <td>138.12</td>\n",
       "    </tr>\n",
       "    <tr>\n",
       "      <th>3</th>\n",
       "      <td>1981-01-07</td>\n",
       "      <td>135.08</td>\n",
       "    </tr>\n",
       "    <tr>\n",
       "      <th>4</th>\n",
       "      <td>1981-01-08</td>\n",
       "      <td>133.06</td>\n",
       "    </tr>\n",
       "    <tr>\n",
       "      <th>...</th>\n",
       "      <td>...</td>\n",
       "      <td>...</td>\n",
       "    </tr>\n",
       "    <tr>\n",
       "      <th>9805</th>\n",
       "      <td>2019-10-25</td>\n",
       "      <td>3022.55</td>\n",
       "    </tr>\n",
       "    <tr>\n",
       "      <th>9806</th>\n",
       "      <td>2019-10-28</td>\n",
       "      <td>3039.42</td>\n",
       "    </tr>\n",
       "    <tr>\n",
       "      <th>9807</th>\n",
       "      <td>2019-10-29</td>\n",
       "      <td>3036.89</td>\n",
       "    </tr>\n",
       "    <tr>\n",
       "      <th>9808</th>\n",
       "      <td>2019-10-30</td>\n",
       "      <td>3046.77</td>\n",
       "    </tr>\n",
       "    <tr>\n",
       "      <th>9809</th>\n",
       "      <td>2019-10-31</td>\n",
       "      <td>3037.56</td>\n",
       "    </tr>\n",
       "  </tbody>\n",
       "</table>\n",
       "<p>9810 rows × 2 columns</p>\n",
       "</div>"
      ],
      "text/plain": [
       "           date SPXIndex\n",
       "0    1981-01-02   136.34\n",
       "1    1981-01-05   137.97\n",
       "2    1981-01-06   138.12\n",
       "3    1981-01-07   135.08\n",
       "4    1981-01-08   133.06\n",
       "...         ...      ...\n",
       "9805 2019-10-25  3022.55\n",
       "9806 2019-10-28  3039.42\n",
       "9807 2019-10-29  3036.89\n",
       "9808 2019-10-30  3046.77\n",
       "9809 2019-10-31  3037.56\n",
       "\n",
       "[9810 rows x 2 columns]"
      ]
     },
     "execution_count": 124,
     "metadata": {},
     "output_type": "execute_result"
    }
   ],
   "source": [
    "# 확인\n",
    "new_df"
   ]
  },
  {
   "cell_type": "code",
   "execution_count": 125,
   "metadata": {},
   "outputs": [],
   "source": [
    "# 그리고 데이터 프레임 다 합치기 date 기준으로\n",
    "for i in name:\n",
    "    new_df = pd.merge(new_df, globals()[i], how = 'outer', on = 'date')"
   ]
  },
  {
   "cell_type": "code",
   "execution_count": 126,
   "metadata": {},
   "outputs": [
    {
     "data": {
      "text/html": [
       "<div>\n",
       "<style scoped>\n",
       "    .dataframe tbody tr th:only-of-type {\n",
       "        vertical-align: middle;\n",
       "    }\n",
       "\n",
       "    .dataframe tbody tr th {\n",
       "        vertical-align: top;\n",
       "    }\n",
       "\n",
       "    .dataframe thead th {\n",
       "        text-align: right;\n",
       "    }\n",
       "</style>\n",
       "<table border=\"1\" class=\"dataframe\">\n",
       "  <thead>\n",
       "    <tr style=\"text-align: right;\">\n",
       "      <th></th>\n",
       "      <th>date</th>\n",
       "      <th>SPXIndex_x</th>\n",
       "      <th>MSRUITIndex</th>\n",
       "      <th>MSRUMATIndex</th>\n",
       "      <th>MXWO0ITIndex</th>\n",
       "      <th>MXWO0MTIndex</th>\n",
       "      <th>MXUS0ITIndex</th>\n",
       "      <th>MXEF0ITIndex</th>\n",
       "      <th>MXEF0MTIndex</th>\n",
       "      <th>NU722094Index</th>\n",
       "      <th>...</th>\n",
       "      <th>CCMPIndex</th>\n",
       "      <th>NKYIndex</th>\n",
       "      <th>CINDIndex</th>\n",
       "      <th>IXKIndex</th>\n",
       "      <th>XCIIndex</th>\n",
       "      <th>SOXIndex</th>\n",
       "      <th>MSERIndex</th>\n",
       "      <th>NMDPIndex</th>\n",
       "      <th>SZCOMPIndex</th>\n",
       "      <th>KOSPIIndex</th>\n",
       "    </tr>\n",
       "  </thead>\n",
       "  <tbody>\n",
       "    <tr>\n",
       "      <th>0</th>\n",
       "      <td>1981-01-02</td>\n",
       "      <td>136.34</td>\n",
       "      <td>NaN</td>\n",
       "      <td>NaN</td>\n",
       "      <td>NaN</td>\n",
       "      <td>NaN</td>\n",
       "      <td>NaN</td>\n",
       "      <td>NaN</td>\n",
       "      <td>NaN</td>\n",
       "      <td>NaN</td>\n",
       "      <td>...</td>\n",
       "      <td>203.55</td>\n",
       "      <td>NaN</td>\n",
       "      <td>263.35</td>\n",
       "      <td>NaN</td>\n",
       "      <td>NaN</td>\n",
       "      <td>NaN</td>\n",
       "      <td>NaN</td>\n",
       "      <td>NaN</td>\n",
       "      <td>NaN</td>\n",
       "      <td>NaN</td>\n",
       "    </tr>\n",
       "    <tr>\n",
       "      <th>1</th>\n",
       "      <td>1981-01-05</td>\n",
       "      <td>137.97</td>\n",
       "      <td>NaN</td>\n",
       "      <td>NaN</td>\n",
       "      <td>NaN</td>\n",
       "      <td>NaN</td>\n",
       "      <td>NaN</td>\n",
       "      <td>NaN</td>\n",
       "      <td>NaN</td>\n",
       "      <td>NaN</td>\n",
       "      <td>...</td>\n",
       "      <td>204.17</td>\n",
       "      <td>7150.95</td>\n",
       "      <td>263.96</td>\n",
       "      <td>NaN</td>\n",
       "      <td>NaN</td>\n",
       "      <td>NaN</td>\n",
       "      <td>NaN</td>\n",
       "      <td>NaN</td>\n",
       "      <td>NaN</td>\n",
       "      <td>97.9</td>\n",
       "    </tr>\n",
       "    <tr>\n",
       "      <th>2</th>\n",
       "      <td>1981-01-06</td>\n",
       "      <td>138.12</td>\n",
       "      <td>NaN</td>\n",
       "      <td>NaN</td>\n",
       "      <td>NaN</td>\n",
       "      <td>NaN</td>\n",
       "      <td>NaN</td>\n",
       "      <td>NaN</td>\n",
       "      <td>NaN</td>\n",
       "      <td>NaN</td>\n",
       "      <td>...</td>\n",
       "      <td>204.07</td>\n",
       "      <td>7137.59</td>\n",
       "      <td>262.64</td>\n",
       "      <td>NaN</td>\n",
       "      <td>NaN</td>\n",
       "      <td>NaN</td>\n",
       "      <td>NaN</td>\n",
       "      <td>NaN</td>\n",
       "      <td>NaN</td>\n",
       "      <td>93.1</td>\n",
       "    </tr>\n",
       "    <tr>\n",
       "      <th>3</th>\n",
       "      <td>1981-01-07</td>\n",
       "      <td>135.08</td>\n",
       "      <td>NaN</td>\n",
       "      <td>NaN</td>\n",
       "      <td>NaN</td>\n",
       "      <td>NaN</td>\n",
       "      <td>NaN</td>\n",
       "      <td>NaN</td>\n",
       "      <td>NaN</td>\n",
       "      <td>NaN</td>\n",
       "      <td>...</td>\n",
       "      <td>197.35</td>\n",
       "      <td>7200.77</td>\n",
       "      <td>251.06</td>\n",
       "      <td>NaN</td>\n",
       "      <td>NaN</td>\n",
       "      <td>NaN</td>\n",
       "      <td>NaN</td>\n",
       "      <td>NaN</td>\n",
       "      <td>NaN</td>\n",
       "      <td>93.1</td>\n",
       "    </tr>\n",
       "    <tr>\n",
       "      <th>4</th>\n",
       "      <td>1981-01-08</td>\n",
       "      <td>133.06</td>\n",
       "      <td>NaN</td>\n",
       "      <td>NaN</td>\n",
       "      <td>NaN</td>\n",
       "      <td>NaN</td>\n",
       "      <td>NaN</td>\n",
       "      <td>NaN</td>\n",
       "      <td>NaN</td>\n",
       "      <td>NaN</td>\n",
       "      <td>...</td>\n",
       "      <td>195.89</td>\n",
       "      <td>7222.14</td>\n",
       "      <td>248.5</td>\n",
       "      <td>NaN</td>\n",
       "      <td>NaN</td>\n",
       "      <td>NaN</td>\n",
       "      <td>NaN</td>\n",
       "      <td>NaN</td>\n",
       "      <td>NaN</td>\n",
       "      <td>96</td>\n",
       "    </tr>\n",
       "  </tbody>\n",
       "</table>\n",
       "<p>5 rows × 27 columns</p>\n",
       "</div>"
      ],
      "text/plain": [
       "        date SPXIndex_x MSRUITIndex MSRUMATIndex MXWO0ITIndex MXWO0MTIndex  \\\n",
       "0 1981-01-02     136.34         NaN          NaN          NaN          NaN   \n",
       "1 1981-01-05     137.97         NaN          NaN          NaN          NaN   \n",
       "2 1981-01-06     138.12         NaN          NaN          NaN          NaN   \n",
       "3 1981-01-07     135.08         NaN          NaN          NaN          NaN   \n",
       "4 1981-01-08     133.06         NaN          NaN          NaN          NaN   \n",
       "\n",
       "  MXUS0ITIndex MXEF0ITIndex MXEF0MTIndex NU722094Index  ... CCMPIndex  \\\n",
       "0          NaN          NaN          NaN           NaN  ...    203.55   \n",
       "1          NaN          NaN          NaN           NaN  ...    204.17   \n",
       "2          NaN          NaN          NaN           NaN  ...    204.07   \n",
       "3          NaN          NaN          NaN           NaN  ...    197.35   \n",
       "4          NaN          NaN          NaN           NaN  ...    195.89   \n",
       "\n",
       "  NKYIndex CINDIndex IXKIndex XCIIndex SOXIndex MSERIndex NMDPIndex  \\\n",
       "0      NaN    263.35      NaN      NaN      NaN       NaN       NaN   \n",
       "1  7150.95    263.96      NaN      NaN      NaN       NaN       NaN   \n",
       "2  7137.59    262.64      NaN      NaN      NaN       NaN       NaN   \n",
       "3  7200.77    251.06      NaN      NaN      NaN       NaN       NaN   \n",
       "4  7222.14     248.5      NaN      NaN      NaN       NaN       NaN   \n",
       "\n",
       "  SZCOMPIndex KOSPIIndex  \n",
       "0         NaN        NaN  \n",
       "1         NaN       97.9  \n",
       "2         NaN       93.1  \n",
       "3         NaN       93.1  \n",
       "4         NaN         96  \n",
       "\n",
       "[5 rows x 27 columns]"
      ]
     },
     "execution_count": 126,
     "metadata": {},
     "output_type": "execute_result"
    }
   ],
   "source": [
    "new_df.head()"
   ]
  },
  {
   "cell_type": "code",
   "execution_count": 127,
   "metadata": {},
   "outputs": [],
   "source": [
    "# 중복 날려주고\n",
    "new_df.drop('SPXIndex_y', axis = 1, inplace = True)"
   ]
  },
  {
   "cell_type": "code",
   "execution_count": 128,
   "metadata": {},
   "outputs": [
    {
     "data": {
      "text/plain": [
       "['date',\n",
       " 'SPXIndex_x',\n",
       " 'MSRUITIndex',\n",
       " 'MSRUMATIndex',\n",
       " 'MXWO0ITIndex',\n",
       " 'MXWO0MTIndex',\n",
       " 'MXUS0ITIndex',\n",
       " 'MXEF0ITIndex',\n",
       " 'MXEF0MTIndex',\n",
       " 'NU722094Index',\n",
       " 'NU721934Index',\n",
       " 'CL1Comdty',\n",
       " 'LMAHDS03Comdty',\n",
       " 'LMCADS03Comdty',\n",
       " 'XAUCurncy',\n",
       " 'LMNIDS03Comdty',\n",
       " 'CCMPIndex',\n",
       " 'NKYIndex',\n",
       " 'CINDIndex',\n",
       " 'IXKIndex',\n",
       " 'XCIIndex',\n",
       " 'SOXIndex',\n",
       " 'MSERIndex',\n",
       " 'NMDPIndex',\n",
       " 'SZCOMPIndex',\n",
       " 'KOSPIIndex']"
      ]
     },
     "execution_count": 128,
     "metadata": {},
     "output_type": "execute_result"
    }
   ],
   "source": [
    "new_df.columns.to_list()"
   ]
  },
  {
   "cell_type": "code",
   "execution_count": 129,
   "metadata": {},
   "outputs": [],
   "source": [
    "# 컬럼명 변경\n",
    "new_df.columns = ['date',\n",
    " 'SPXIndex',\n",
    " 'MSRUITIndex',\n",
    " 'MSRUMATIndex',\n",
    " 'MXWO0ITIndex',\n",
    " 'MXWO0MTIndex',\n",
    " 'MXUS0ITIndex',\n",
    " 'MXEF0ITIndex',\n",
    " 'MXEF0MTIndex',\n",
    " 'NU722094Index',\n",
    " 'NU721934Index',\n",
    " 'CL1Comdty',\n",
    " 'LMAHDS03Comdty',\n",
    " 'LMCADS03Comdty',\n",
    " 'XAUCurncy',\n",
    " 'LMNIDS03Comdty',\n",
    " 'CCMPIndex',\n",
    " 'NKYIndex',\n",
    " 'CINDIndex',\n",
    " 'IXKIndex',\n",
    " 'XCIIndex',\n",
    " 'SOXIndex',\n",
    " 'MSERIndex',\n",
    " 'NMDPIndex',\n",
    " 'SZCOMPIndex',\n",
    " 'KOSPIIndex']"
   ]
  },
  {
   "cell_type": "code",
   "execution_count": 130,
   "metadata": {},
   "outputs": [
    {
     "data": {
      "text/html": [
       "<div>\n",
       "<style scoped>\n",
       "    .dataframe tbody tr th:only-of-type {\n",
       "        vertical-align: middle;\n",
       "    }\n",
       "\n",
       "    .dataframe tbody tr th {\n",
       "        vertical-align: top;\n",
       "    }\n",
       "\n",
       "    .dataframe thead th {\n",
       "        text-align: right;\n",
       "    }\n",
       "</style>\n",
       "<table border=\"1\" class=\"dataframe\">\n",
       "  <thead>\n",
       "    <tr style=\"text-align: right;\">\n",
       "      <th></th>\n",
       "      <th>date</th>\n",
       "      <th>SPXIndex</th>\n",
       "      <th>MSRUITIndex</th>\n",
       "      <th>MSRUMATIndex</th>\n",
       "      <th>MXWO0ITIndex</th>\n",
       "      <th>MXWO0MTIndex</th>\n",
       "      <th>MXUS0ITIndex</th>\n",
       "      <th>MXEF0ITIndex</th>\n",
       "      <th>MXEF0MTIndex</th>\n",
       "      <th>NU722094Index</th>\n",
       "      <th>...</th>\n",
       "      <th>CCMPIndex</th>\n",
       "      <th>NKYIndex</th>\n",
       "      <th>CINDIndex</th>\n",
       "      <th>IXKIndex</th>\n",
       "      <th>XCIIndex</th>\n",
       "      <th>SOXIndex</th>\n",
       "      <th>MSERIndex</th>\n",
       "      <th>NMDPIndex</th>\n",
       "      <th>SZCOMPIndex</th>\n",
       "      <th>KOSPIIndex</th>\n",
       "    </tr>\n",
       "  </thead>\n",
       "  <tbody>\n",
       "    <tr>\n",
       "      <th>0</th>\n",
       "      <td>1981-01-02</td>\n",
       "      <td>136.34</td>\n",
       "      <td>NaN</td>\n",
       "      <td>NaN</td>\n",
       "      <td>NaN</td>\n",
       "      <td>NaN</td>\n",
       "      <td>NaN</td>\n",
       "      <td>NaN</td>\n",
       "      <td>NaN</td>\n",
       "      <td>NaN</td>\n",
       "      <td>...</td>\n",
       "      <td>203.55</td>\n",
       "      <td>NaN</td>\n",
       "      <td>263.35</td>\n",
       "      <td>NaN</td>\n",
       "      <td>NaN</td>\n",
       "      <td>NaN</td>\n",
       "      <td>NaN</td>\n",
       "      <td>NaN</td>\n",
       "      <td>NaN</td>\n",
       "      <td>NaN</td>\n",
       "    </tr>\n",
       "    <tr>\n",
       "      <th>1</th>\n",
       "      <td>1981-01-05</td>\n",
       "      <td>137.97</td>\n",
       "      <td>NaN</td>\n",
       "      <td>NaN</td>\n",
       "      <td>NaN</td>\n",
       "      <td>NaN</td>\n",
       "      <td>NaN</td>\n",
       "      <td>NaN</td>\n",
       "      <td>NaN</td>\n",
       "      <td>NaN</td>\n",
       "      <td>...</td>\n",
       "      <td>204.17</td>\n",
       "      <td>7150.95</td>\n",
       "      <td>263.96</td>\n",
       "      <td>NaN</td>\n",
       "      <td>NaN</td>\n",
       "      <td>NaN</td>\n",
       "      <td>NaN</td>\n",
       "      <td>NaN</td>\n",
       "      <td>NaN</td>\n",
       "      <td>97.9</td>\n",
       "    </tr>\n",
       "    <tr>\n",
       "      <th>2</th>\n",
       "      <td>1981-01-06</td>\n",
       "      <td>138.12</td>\n",
       "      <td>NaN</td>\n",
       "      <td>NaN</td>\n",
       "      <td>NaN</td>\n",
       "      <td>NaN</td>\n",
       "      <td>NaN</td>\n",
       "      <td>NaN</td>\n",
       "      <td>NaN</td>\n",
       "      <td>NaN</td>\n",
       "      <td>...</td>\n",
       "      <td>204.07</td>\n",
       "      <td>7137.59</td>\n",
       "      <td>262.64</td>\n",
       "      <td>NaN</td>\n",
       "      <td>NaN</td>\n",
       "      <td>NaN</td>\n",
       "      <td>NaN</td>\n",
       "      <td>NaN</td>\n",
       "      <td>NaN</td>\n",
       "      <td>93.1</td>\n",
       "    </tr>\n",
       "    <tr>\n",
       "      <th>3</th>\n",
       "      <td>1981-01-07</td>\n",
       "      <td>135.08</td>\n",
       "      <td>NaN</td>\n",
       "      <td>NaN</td>\n",
       "      <td>NaN</td>\n",
       "      <td>NaN</td>\n",
       "      <td>NaN</td>\n",
       "      <td>NaN</td>\n",
       "      <td>NaN</td>\n",
       "      <td>NaN</td>\n",
       "      <td>...</td>\n",
       "      <td>197.35</td>\n",
       "      <td>7200.77</td>\n",
       "      <td>251.06</td>\n",
       "      <td>NaN</td>\n",
       "      <td>NaN</td>\n",
       "      <td>NaN</td>\n",
       "      <td>NaN</td>\n",
       "      <td>NaN</td>\n",
       "      <td>NaN</td>\n",
       "      <td>93.1</td>\n",
       "    </tr>\n",
       "    <tr>\n",
       "      <th>4</th>\n",
       "      <td>1981-01-08</td>\n",
       "      <td>133.06</td>\n",
       "      <td>NaN</td>\n",
       "      <td>NaN</td>\n",
       "      <td>NaN</td>\n",
       "      <td>NaN</td>\n",
       "      <td>NaN</td>\n",
       "      <td>NaN</td>\n",
       "      <td>NaN</td>\n",
       "      <td>NaN</td>\n",
       "      <td>...</td>\n",
       "      <td>195.89</td>\n",
       "      <td>7222.14</td>\n",
       "      <td>248.5</td>\n",
       "      <td>NaN</td>\n",
       "      <td>NaN</td>\n",
       "      <td>NaN</td>\n",
       "      <td>NaN</td>\n",
       "      <td>NaN</td>\n",
       "      <td>NaN</td>\n",
       "      <td>96</td>\n",
       "    </tr>\n",
       "  </tbody>\n",
       "</table>\n",
       "<p>5 rows × 26 columns</p>\n",
       "</div>"
      ],
      "text/plain": [
       "        date SPXIndex MSRUITIndex MSRUMATIndex MXWO0ITIndex MXWO0MTIndex  \\\n",
       "0 1981-01-02   136.34         NaN          NaN          NaN          NaN   \n",
       "1 1981-01-05   137.97         NaN          NaN          NaN          NaN   \n",
       "2 1981-01-06   138.12         NaN          NaN          NaN          NaN   \n",
       "3 1981-01-07   135.08         NaN          NaN          NaN          NaN   \n",
       "4 1981-01-08   133.06         NaN          NaN          NaN          NaN   \n",
       "\n",
       "  MXUS0ITIndex MXEF0ITIndex MXEF0MTIndex NU722094Index  ... CCMPIndex  \\\n",
       "0          NaN          NaN          NaN           NaN  ...    203.55   \n",
       "1          NaN          NaN          NaN           NaN  ...    204.17   \n",
       "2          NaN          NaN          NaN           NaN  ...    204.07   \n",
       "3          NaN          NaN          NaN           NaN  ...    197.35   \n",
       "4          NaN          NaN          NaN           NaN  ...    195.89   \n",
       "\n",
       "  NKYIndex CINDIndex IXKIndex XCIIndex SOXIndex MSERIndex NMDPIndex  \\\n",
       "0      NaN    263.35      NaN      NaN      NaN       NaN       NaN   \n",
       "1  7150.95    263.96      NaN      NaN      NaN       NaN       NaN   \n",
       "2  7137.59    262.64      NaN      NaN      NaN       NaN       NaN   \n",
       "3  7200.77    251.06      NaN      NaN      NaN       NaN       NaN   \n",
       "4  7222.14     248.5      NaN      NaN      NaN       NaN       NaN   \n",
       "\n",
       "  SZCOMPIndex KOSPIIndex  \n",
       "0         NaN        NaN  \n",
       "1         NaN       97.9  \n",
       "2         NaN       93.1  \n",
       "3         NaN       93.1  \n",
       "4         NaN         96  \n",
       "\n",
       "[5 rows x 26 columns]"
      ]
     },
     "execution_count": 130,
     "metadata": {},
     "output_type": "execute_result"
    }
   ],
   "source": [
    "new_df.head()"
   ]
  },
  {
   "cell_type": "code",
   "execution_count": 140,
   "metadata": {},
   "outputs": [],
   "source": [
    "new_df.to_csv('plus_data.csv')"
   ]
  },
  {
   "cell_type": "code",
   "execution_count": 137,
   "metadata": {},
   "outputs": [],
   "source": [
    "new_df = new_df.sort_values(by = 'date')"
   ]
  },
  {
   "cell_type": "code",
   "execution_count": 138,
   "metadata": {},
   "outputs": [
    {
     "data": {
      "text/html": [
       "<div>\n",
       "<style scoped>\n",
       "    .dataframe tbody tr th:only-of-type {\n",
       "        vertical-align: middle;\n",
       "    }\n",
       "\n",
       "    .dataframe tbody tr th {\n",
       "        vertical-align: top;\n",
       "    }\n",
       "\n",
       "    .dataframe thead th {\n",
       "        text-align: right;\n",
       "    }\n",
       "</style>\n",
       "<table border=\"1\" class=\"dataframe\">\n",
       "  <thead>\n",
       "    <tr style=\"text-align: right;\">\n",
       "      <th></th>\n",
       "      <th>date</th>\n",
       "      <th>SPXIndex</th>\n",
       "      <th>MSRUITIndex</th>\n",
       "      <th>MSRUMATIndex</th>\n",
       "      <th>MXWO0ITIndex</th>\n",
       "      <th>MXWO0MTIndex</th>\n",
       "      <th>MXUS0ITIndex</th>\n",
       "      <th>MXEF0ITIndex</th>\n",
       "      <th>MXEF0MTIndex</th>\n",
       "      <th>NU722094Index</th>\n",
       "      <th>...</th>\n",
       "      <th>CCMPIndex</th>\n",
       "      <th>NKYIndex</th>\n",
       "      <th>CINDIndex</th>\n",
       "      <th>IXKIndex</th>\n",
       "      <th>XCIIndex</th>\n",
       "      <th>SOXIndex</th>\n",
       "      <th>MSERIndex</th>\n",
       "      <th>NMDPIndex</th>\n",
       "      <th>SZCOMPIndex</th>\n",
       "      <th>KOSPIIndex</th>\n",
       "    </tr>\n",
       "  </thead>\n",
       "  <tbody>\n",
       "    <tr>\n",
       "      <th>0</th>\n",
       "      <td>1981-01-02</td>\n",
       "      <td>136.34</td>\n",
       "      <td>NaN</td>\n",
       "      <td>NaN</td>\n",
       "      <td>NaN</td>\n",
       "      <td>NaN</td>\n",
       "      <td>NaN</td>\n",
       "      <td>NaN</td>\n",
       "      <td>NaN</td>\n",
       "      <td>NaN</td>\n",
       "      <td>...</td>\n",
       "      <td>203.55</td>\n",
       "      <td>NaN</td>\n",
       "      <td>263.35</td>\n",
       "      <td>NaN</td>\n",
       "      <td>NaN</td>\n",
       "      <td>NaN</td>\n",
       "      <td>NaN</td>\n",
       "      <td>NaN</td>\n",
       "      <td>NaN</td>\n",
       "      <td>NaN</td>\n",
       "    </tr>\n",
       "    <tr>\n",
       "      <th>1</th>\n",
       "      <td>1981-01-05</td>\n",
       "      <td>137.97</td>\n",
       "      <td>NaN</td>\n",
       "      <td>NaN</td>\n",
       "      <td>NaN</td>\n",
       "      <td>NaN</td>\n",
       "      <td>NaN</td>\n",
       "      <td>NaN</td>\n",
       "      <td>NaN</td>\n",
       "      <td>NaN</td>\n",
       "      <td>...</td>\n",
       "      <td>204.17</td>\n",
       "      <td>7150.95</td>\n",
       "      <td>263.96</td>\n",
       "      <td>NaN</td>\n",
       "      <td>NaN</td>\n",
       "      <td>NaN</td>\n",
       "      <td>NaN</td>\n",
       "      <td>NaN</td>\n",
       "      <td>NaN</td>\n",
       "      <td>97.9</td>\n",
       "    </tr>\n",
       "    <tr>\n",
       "      <th>2</th>\n",
       "      <td>1981-01-06</td>\n",
       "      <td>138.12</td>\n",
       "      <td>NaN</td>\n",
       "      <td>NaN</td>\n",
       "      <td>NaN</td>\n",
       "      <td>NaN</td>\n",
       "      <td>NaN</td>\n",
       "      <td>NaN</td>\n",
       "      <td>NaN</td>\n",
       "      <td>NaN</td>\n",
       "      <td>...</td>\n",
       "      <td>204.07</td>\n",
       "      <td>7137.59</td>\n",
       "      <td>262.64</td>\n",
       "      <td>NaN</td>\n",
       "      <td>NaN</td>\n",
       "      <td>NaN</td>\n",
       "      <td>NaN</td>\n",
       "      <td>NaN</td>\n",
       "      <td>NaN</td>\n",
       "      <td>93.1</td>\n",
       "    </tr>\n",
       "    <tr>\n",
       "      <th>3</th>\n",
       "      <td>1981-01-07</td>\n",
       "      <td>135.08</td>\n",
       "      <td>NaN</td>\n",
       "      <td>NaN</td>\n",
       "      <td>NaN</td>\n",
       "      <td>NaN</td>\n",
       "      <td>NaN</td>\n",
       "      <td>NaN</td>\n",
       "      <td>NaN</td>\n",
       "      <td>NaN</td>\n",
       "      <td>...</td>\n",
       "      <td>197.35</td>\n",
       "      <td>7200.77</td>\n",
       "      <td>251.06</td>\n",
       "      <td>NaN</td>\n",
       "      <td>NaN</td>\n",
       "      <td>NaN</td>\n",
       "      <td>NaN</td>\n",
       "      <td>NaN</td>\n",
       "      <td>NaN</td>\n",
       "      <td>93.1</td>\n",
       "    </tr>\n",
       "    <tr>\n",
       "      <th>4</th>\n",
       "      <td>1981-01-08</td>\n",
       "      <td>133.06</td>\n",
       "      <td>NaN</td>\n",
       "      <td>NaN</td>\n",
       "      <td>NaN</td>\n",
       "      <td>NaN</td>\n",
       "      <td>NaN</td>\n",
       "      <td>NaN</td>\n",
       "      <td>NaN</td>\n",
       "      <td>NaN</td>\n",
       "      <td>...</td>\n",
       "      <td>195.89</td>\n",
       "      <td>7222.14</td>\n",
       "      <td>248.5</td>\n",
       "      <td>NaN</td>\n",
       "      <td>NaN</td>\n",
       "      <td>NaN</td>\n",
       "      <td>NaN</td>\n",
       "      <td>NaN</td>\n",
       "      <td>NaN</td>\n",
       "      <td>96</td>\n",
       "    </tr>\n",
       "  </tbody>\n",
       "</table>\n",
       "<p>5 rows × 26 columns</p>\n",
       "</div>"
      ],
      "text/plain": [
       "        date SPXIndex MSRUITIndex MSRUMATIndex MXWO0ITIndex MXWO0MTIndex  \\\n",
       "0 1981-01-02   136.34         NaN          NaN          NaN          NaN   \n",
       "1 1981-01-05   137.97         NaN          NaN          NaN          NaN   \n",
       "2 1981-01-06   138.12         NaN          NaN          NaN          NaN   \n",
       "3 1981-01-07   135.08         NaN          NaN          NaN          NaN   \n",
       "4 1981-01-08   133.06         NaN          NaN          NaN          NaN   \n",
       "\n",
       "  MXUS0ITIndex MXEF0ITIndex MXEF0MTIndex NU722094Index  ... CCMPIndex  \\\n",
       "0          NaN          NaN          NaN           NaN  ...    203.55   \n",
       "1          NaN          NaN          NaN           NaN  ...    204.17   \n",
       "2          NaN          NaN          NaN           NaN  ...    204.07   \n",
       "3          NaN          NaN          NaN           NaN  ...    197.35   \n",
       "4          NaN          NaN          NaN           NaN  ...    195.89   \n",
       "\n",
       "  NKYIndex CINDIndex IXKIndex XCIIndex SOXIndex MSERIndex NMDPIndex  \\\n",
       "0      NaN    263.35      NaN      NaN      NaN       NaN       NaN   \n",
       "1  7150.95    263.96      NaN      NaN      NaN       NaN       NaN   \n",
       "2  7137.59    262.64      NaN      NaN      NaN       NaN       NaN   \n",
       "3  7200.77    251.06      NaN      NaN      NaN       NaN       NaN   \n",
       "4  7222.14     248.5      NaN      NaN      NaN       NaN       NaN   \n",
       "\n",
       "  SZCOMPIndex KOSPIIndex  \n",
       "0         NaN        NaN  \n",
       "1         NaN       97.9  \n",
       "2         NaN       93.1  \n",
       "3         NaN       93.1  \n",
       "4         NaN         96  \n",
       "\n",
       "[5 rows x 26 columns]"
      ]
     },
     "execution_count": 138,
     "metadata": {},
     "output_type": "execute_result"
    }
   ],
   "source": [
    "new_df.head()"
   ]
  },
  {
   "cell_type": "code",
   "execution_count": 139,
   "metadata": {},
   "outputs": [
    {
     "data": {
      "text/html": [
       "<div>\n",
       "<style scoped>\n",
       "    .dataframe tbody tr th:only-of-type {\n",
       "        vertical-align: middle;\n",
       "    }\n",
       "\n",
       "    .dataframe tbody tr th {\n",
       "        vertical-align: top;\n",
       "    }\n",
       "\n",
       "    .dataframe thead th {\n",
       "        text-align: right;\n",
       "    }\n",
       "</style>\n",
       "<table border=\"1\" class=\"dataframe\">\n",
       "  <thead>\n",
       "    <tr style=\"text-align: right;\">\n",
       "      <th></th>\n",
       "      <th>date</th>\n",
       "      <th>SPXIndex</th>\n",
       "      <th>MSRUITIndex</th>\n",
       "      <th>MSRUMATIndex</th>\n",
       "      <th>MXWO0ITIndex</th>\n",
       "      <th>MXWO0MTIndex</th>\n",
       "      <th>MXUS0ITIndex</th>\n",
       "      <th>MXEF0ITIndex</th>\n",
       "      <th>MXEF0MTIndex</th>\n",
       "      <th>NU722094Index</th>\n",
       "      <th>...</th>\n",
       "      <th>CCMPIndex</th>\n",
       "      <th>NKYIndex</th>\n",
       "      <th>CINDIndex</th>\n",
       "      <th>IXKIndex</th>\n",
       "      <th>XCIIndex</th>\n",
       "      <th>SOXIndex</th>\n",
       "      <th>MSERIndex</th>\n",
       "      <th>NMDPIndex</th>\n",
       "      <th>SZCOMPIndex</th>\n",
       "      <th>KOSPIIndex</th>\n",
       "    </tr>\n",
       "  </thead>\n",
       "  <tbody>\n",
       "    <tr>\n",
       "      <th>9805</th>\n",
       "      <td>2019-10-25</td>\n",
       "      <td>3022.55</td>\n",
       "      <td>111.389</td>\n",
       "      <td>250.396</td>\n",
       "      <td>281.6386</td>\n",
       "      <td>256.86</td>\n",
       "      <td>332.49</td>\n",
       "      <td>532.66</td>\n",
       "      <td>331.55</td>\n",
       "      <td>1301.37</td>\n",
       "      <td>...</td>\n",
       "      <td>8243.119</td>\n",
       "      <td>22799.81</td>\n",
       "      <td>6487.26</td>\n",
       "      <td>5257.77</td>\n",
       "      <td>3358.76</td>\n",
       "      <td>1648.671</td>\n",
       "      <td>1206.78</td>\n",
       "      <td>3306.65</td>\n",
       "      <td>1632.402</td>\n",
       "      <td>2087.89</td>\n",
       "    </tr>\n",
       "    <tr>\n",
       "      <th>9806</th>\n",
       "      <td>2019-10-28</td>\n",
       "      <td>3039.42</td>\n",
       "      <td>112.139</td>\n",
       "      <td>251.912</td>\n",
       "      <td>284.8408</td>\n",
       "      <td>257.4</td>\n",
       "      <td>336.57</td>\n",
       "      <td>536.41</td>\n",
       "      <td>333.51</td>\n",
       "      <td>1326.34</td>\n",
       "      <td>...</td>\n",
       "      <td>8325.985</td>\n",
       "      <td>22867.27</td>\n",
       "      <td>6513.64</td>\n",
       "      <td>5334.15</td>\n",
       "      <td>3403.35</td>\n",
       "      <td>1677.569</td>\n",
       "      <td>1208.28</td>\n",
       "      <td>3320.14</td>\n",
       "      <td>1658.241</td>\n",
       "      <td>2093.6</td>\n",
       "    </tr>\n",
       "    <tr>\n",
       "      <th>9807</th>\n",
       "      <td>2019-10-29</td>\n",
       "      <td>3036.89</td>\n",
       "      <td>112.096</td>\n",
       "      <td>252.336</td>\n",
       "      <td>282.7626</td>\n",
       "      <td>259.14</td>\n",
       "      <td>333.5</td>\n",
       "      <td>539.84</td>\n",
       "      <td>333.22</td>\n",
       "      <td>1315.93</td>\n",
       "      <td>...</td>\n",
       "      <td>8276.852</td>\n",
       "      <td>22974.13</td>\n",
       "      <td>6487.91</td>\n",
       "      <td>5271.9</td>\n",
       "      <td>3361.61</td>\n",
       "      <td>1662.46</td>\n",
       "      <td>1207.35</td>\n",
       "      <td>3308.05</td>\n",
       "      <td>1642.682</td>\n",
       "      <td>2092.69</td>\n",
       "    </tr>\n",
       "    <tr>\n",
       "      <th>9808</th>\n",
       "      <td>2019-10-30</td>\n",
       "      <td>3046.77</td>\n",
       "      <td>112.041</td>\n",
       "      <td>250.138</td>\n",
       "      <td>284.2089</td>\n",
       "      <td>257.85</td>\n",
       "      <td>335.64</td>\n",
       "      <td>538.16</td>\n",
       "      <td>332.99</td>\n",
       "      <td>1312.87</td>\n",
       "      <td>...</td>\n",
       "      <td>8303.976</td>\n",
       "      <td>22843.12</td>\n",
       "      <td>6519.58</td>\n",
       "      <td>5292.07</td>\n",
       "      <td>3372.39</td>\n",
       "      <td>1661.46</td>\n",
       "      <td>1206.78</td>\n",
       "      <td>3317.6</td>\n",
       "      <td>1628.616</td>\n",
       "      <td>2080.27</td>\n",
       "    </tr>\n",
       "    <tr>\n",
       "      <th>9809</th>\n",
       "      <td>2019-10-31</td>\n",
       "      <td>3037.56</td>\n",
       "      <td>111.703</td>\n",
       "      <td>249.409</td>\n",
       "      <td>283.8776</td>\n",
       "      <td>256.88</td>\n",
       "      <td>335.21</td>\n",
       "      <td>540.78</td>\n",
       "      <td>331.87</td>\n",
       "      <td>1331.06</td>\n",
       "      <td>...</td>\n",
       "      <td>8292.36</td>\n",
       "      <td>22927.04</td>\n",
       "      <td>6500.42</td>\n",
       "      <td>5298</td>\n",
       "      <td>3381.66</td>\n",
       "      <td>1651.225</td>\n",
       "      <td>1202.04</td>\n",
       "      <td>3302.7</td>\n",
       "      <td>1616.19</td>\n",
       "      <td>2083.48</td>\n",
       "    </tr>\n",
       "  </tbody>\n",
       "</table>\n",
       "<p>5 rows × 26 columns</p>\n",
       "</div>"
      ],
      "text/plain": [
       "           date SPXIndex MSRUITIndex MSRUMATIndex MXWO0ITIndex MXWO0MTIndex  \\\n",
       "9805 2019-10-25  3022.55     111.389      250.396     281.6386       256.86   \n",
       "9806 2019-10-28  3039.42     112.139      251.912     284.8408        257.4   \n",
       "9807 2019-10-29  3036.89     112.096      252.336     282.7626       259.14   \n",
       "9808 2019-10-30  3046.77     112.041      250.138     284.2089       257.85   \n",
       "9809 2019-10-31  3037.56     111.703      249.409     283.8776       256.88   \n",
       "\n",
       "     MXUS0ITIndex MXEF0ITIndex MXEF0MTIndex NU722094Index  ... CCMPIndex  \\\n",
       "9805       332.49       532.66       331.55       1301.37  ...  8243.119   \n",
       "9806       336.57       536.41       333.51       1326.34  ...  8325.985   \n",
       "9807        333.5       539.84       333.22       1315.93  ...  8276.852   \n",
       "9808       335.64       538.16       332.99       1312.87  ...  8303.976   \n",
       "9809       335.21       540.78       331.87       1331.06  ...   8292.36   \n",
       "\n",
       "      NKYIndex CINDIndex IXKIndex XCIIndex  SOXIndex MSERIndex NMDPIndex  \\\n",
       "9805  22799.81   6487.26  5257.77  3358.76  1648.671   1206.78   3306.65   \n",
       "9806  22867.27   6513.64  5334.15  3403.35  1677.569   1208.28   3320.14   \n",
       "9807  22974.13   6487.91   5271.9  3361.61   1662.46   1207.35   3308.05   \n",
       "9808  22843.12   6519.58  5292.07  3372.39   1661.46   1206.78    3317.6   \n",
       "9809  22927.04   6500.42     5298  3381.66  1651.225   1202.04    3302.7   \n",
       "\n",
       "     SZCOMPIndex KOSPIIndex  \n",
       "9805    1632.402    2087.89  \n",
       "9806    1658.241     2093.6  \n",
       "9807    1642.682    2092.69  \n",
       "9808    1628.616    2080.27  \n",
       "9809     1616.19    2083.48  \n",
       "\n",
       "[5 rows x 26 columns]"
      ]
     },
     "execution_count": 139,
     "metadata": {},
     "output_type": "execute_result"
    }
   ],
   "source": [
    "new_df.tail()"
   ]
  },
  {
   "cell_type": "code",
   "execution_count": 252,
   "metadata": {},
   "outputs": [],
   "source": [
    "b = pd.read_csv('sk_hy_20200104.csv')"
   ]
  },
  {
   "cell_type": "code",
   "execution_count": 253,
   "metadata": {},
   "outputs": [
    {
     "data": {
      "text/html": [
       "<div>\n",
       "<style scoped>\n",
       "    .dataframe tbody tr th:only-of-type {\n",
       "        vertical-align: middle;\n",
       "    }\n",
       "\n",
       "    .dataframe tbody tr th {\n",
       "        vertical-align: top;\n",
       "    }\n",
       "\n",
       "    .dataframe thead th {\n",
       "        text-align: right;\n",
       "    }\n",
       "</style>\n",
       "<table border=\"1\" class=\"dataframe\">\n",
       "  <thead>\n",
       "    <tr style=\"text-align: right;\">\n",
       "      <th></th>\n",
       "      <th>date</th>\n",
       "      <th>KRWCurncy</th>\n",
       "      <th>KOGDPQOQIndex</th>\n",
       "      <th>KOECPRCYIndex</th>\n",
       "      <th>KOECGCPYIndex</th>\n",
       "      <th>KOECGVTYIndex</th>\n",
       "      <th>KOECEXPYIndex</th>\n",
       "      <th>KOECIMPYIndex</th>\n",
       "      <th>KOECSPRQIndex</th>\n",
       "      <th>KOECGCSYIndex</th>\n",
       "      <th>...</th>\n",
       "      <th>CT1Comdty</th>\n",
       "      <th>S1Comdty</th>\n",
       "      <th>SB1Comdty</th>\n",
       "      <th>W1Comdty</th>\n",
       "      <th>GTKRW1YCorp</th>\n",
       "      <th>GTKRW2YCorp</th>\n",
       "      <th>GTKRW3YCorp</th>\n",
       "      <th>GTKRW5YCorp</th>\n",
       "      <th>GTKRW10YCorp</th>\n",
       "      <th>GTKRW20YCorp</th>\n",
       "    </tr>\n",
       "  </thead>\n",
       "  <tbody>\n",
       "    <tr>\n",
       "      <th>0</th>\n",
       "      <td>1981.1.2</td>\n",
       "      <td>NaN</td>\n",
       "      <td>NaN</td>\n",
       "      <td>NaN</td>\n",
       "      <td>NaN</td>\n",
       "      <td>NaN</td>\n",
       "      <td>NaN</td>\n",
       "      <td>NaN</td>\n",
       "      <td>NaN</td>\n",
       "      <td>NaN</td>\n",
       "      <td>...</td>\n",
       "      <td>94.65</td>\n",
       "      <td>813.00</td>\n",
       "      <td>NaN</td>\n",
       "      <td>508.50</td>\n",
       "      <td>NaN</td>\n",
       "      <td>NaN</td>\n",
       "      <td>NaN</td>\n",
       "      <td>NaN</td>\n",
       "      <td>NaN</td>\n",
       "      <td>NaN</td>\n",
       "    </tr>\n",
       "    <tr>\n",
       "      <th>1</th>\n",
       "      <td>1981.1.5</td>\n",
       "      <td>NaN</td>\n",
       "      <td>NaN</td>\n",
       "      <td>NaN</td>\n",
       "      <td>NaN</td>\n",
       "      <td>NaN</td>\n",
       "      <td>NaN</td>\n",
       "      <td>NaN</td>\n",
       "      <td>NaN</td>\n",
       "      <td>NaN</td>\n",
       "      <td>...</td>\n",
       "      <td>95.50</td>\n",
       "      <td>808.00</td>\n",
       "      <td>33.23</td>\n",
       "      <td>505.50</td>\n",
       "      <td>NaN</td>\n",
       "      <td>NaN</td>\n",
       "      <td>NaN</td>\n",
       "      <td>NaN</td>\n",
       "      <td>NaN</td>\n",
       "      <td>NaN</td>\n",
       "    </tr>\n",
       "    <tr>\n",
       "      <th>2</th>\n",
       "      <td>1981.1.6</td>\n",
       "      <td>NaN</td>\n",
       "      <td>NaN</td>\n",
       "      <td>NaN</td>\n",
       "      <td>NaN</td>\n",
       "      <td>NaN</td>\n",
       "      <td>NaN</td>\n",
       "      <td>NaN</td>\n",
       "      <td>NaN</td>\n",
       "      <td>NaN</td>\n",
       "      <td>...</td>\n",
       "      <td>94.60</td>\n",
       "      <td>818.75</td>\n",
       "      <td>33.78</td>\n",
       "      <td>506.75</td>\n",
       "      <td>NaN</td>\n",
       "      <td>NaN</td>\n",
       "      <td>NaN</td>\n",
       "      <td>NaN</td>\n",
       "      <td>NaN</td>\n",
       "      <td>NaN</td>\n",
       "    </tr>\n",
       "    <tr>\n",
       "      <th>3</th>\n",
       "      <td>1981.1.7</td>\n",
       "      <td>NaN</td>\n",
       "      <td>NaN</td>\n",
       "      <td>NaN</td>\n",
       "      <td>NaN</td>\n",
       "      <td>NaN</td>\n",
       "      <td>NaN</td>\n",
       "      <td>NaN</td>\n",
       "      <td>NaN</td>\n",
       "      <td>NaN</td>\n",
       "      <td>...</td>\n",
       "      <td>93.28</td>\n",
       "      <td>806.00</td>\n",
       "      <td>33.26</td>\n",
       "      <td>506.25</td>\n",
       "      <td>NaN</td>\n",
       "      <td>NaN</td>\n",
       "      <td>NaN</td>\n",
       "      <td>NaN</td>\n",
       "      <td>NaN</td>\n",
       "      <td>NaN</td>\n",
       "    </tr>\n",
       "    <tr>\n",
       "      <th>4</th>\n",
       "      <td>1981.1.8</td>\n",
       "      <td>NaN</td>\n",
       "      <td>NaN</td>\n",
       "      <td>NaN</td>\n",
       "      <td>NaN</td>\n",
       "      <td>NaN</td>\n",
       "      <td>NaN</td>\n",
       "      <td>NaN</td>\n",
       "      <td>NaN</td>\n",
       "      <td>NaN</td>\n",
       "      <td>...</td>\n",
       "      <td>93.88</td>\n",
       "      <td>798.00</td>\n",
       "      <td>31.80</td>\n",
       "      <td>497.25</td>\n",
       "      <td>NaN</td>\n",
       "      <td>NaN</td>\n",
       "      <td>NaN</td>\n",
       "      <td>NaN</td>\n",
       "      <td>NaN</td>\n",
       "      <td>NaN</td>\n",
       "    </tr>\n",
       "  </tbody>\n",
       "</table>\n",
       "<p>5 rows × 202 columns</p>\n",
       "</div>"
      ],
      "text/plain": [
       "       date  KRWCurncy  KOGDPQOQIndex  KOECPRCYIndex  KOECGCPYIndex  \\\n",
       "0  1981.1.2        NaN            NaN            NaN            NaN   \n",
       "1  1981.1.5        NaN            NaN            NaN            NaN   \n",
       "2  1981.1.6        NaN            NaN            NaN            NaN   \n",
       "3  1981.1.7        NaN            NaN            NaN            NaN   \n",
       "4  1981.1.8        NaN            NaN            NaN            NaN   \n",
       "\n",
       "   KOECGVTYIndex  KOECEXPYIndex  KOECIMPYIndex  KOECSPRQIndex  KOECGCSYIndex  \\\n",
       "0            NaN            NaN            NaN            NaN            NaN   \n",
       "1            NaN            NaN            NaN            NaN            NaN   \n",
       "2            NaN            NaN            NaN            NaN            NaN   \n",
       "3            NaN            NaN            NaN            NaN            NaN   \n",
       "4            NaN            NaN            NaN            NaN            NaN   \n",
       "\n",
       "   ...  CT1Comdty  S1Comdty  SB1Comdty  W1Comdty  GTKRW1YCorp  GTKRW2YCorp  \\\n",
       "0  ...      94.65    813.00        NaN    508.50          NaN          NaN   \n",
       "1  ...      95.50    808.00      33.23    505.50          NaN          NaN   \n",
       "2  ...      94.60    818.75      33.78    506.75          NaN          NaN   \n",
       "3  ...      93.28    806.00      33.26    506.25          NaN          NaN   \n",
       "4  ...      93.88    798.00      31.80    497.25          NaN          NaN   \n",
       "\n",
       "   GTKRW3YCorp  GTKRW5YCorp  GTKRW10YCorp  GTKRW20YCorp  \n",
       "0          NaN          NaN           NaN           NaN  \n",
       "1          NaN          NaN           NaN           NaN  \n",
       "2          NaN          NaN           NaN           NaN  \n",
       "3          NaN          NaN           NaN           NaN  \n",
       "4          NaN          NaN           NaN           NaN  \n",
       "\n",
       "[5 rows x 202 columns]"
      ]
     },
     "execution_count": 253,
     "metadata": {},
     "output_type": "execute_result"
    }
   ],
   "source": [
    "b.head()"
   ]
  },
  {
   "cell_type": "code",
   "execution_count": 254,
   "metadata": {},
   "outputs": [
    {
     "data": {
      "text/html": [
       "<div>\n",
       "<style scoped>\n",
       "    .dataframe tbody tr th:only-of-type {\n",
       "        vertical-align: middle;\n",
       "    }\n",
       "\n",
       "    .dataframe tbody tr th {\n",
       "        vertical-align: top;\n",
       "    }\n",
       "\n",
       "    .dataframe thead th {\n",
       "        text-align: right;\n",
       "    }\n",
       "</style>\n",
       "<table border=\"1\" class=\"dataframe\">\n",
       "  <thead>\n",
       "    <tr style=\"text-align: right;\">\n",
       "      <th></th>\n",
       "      <th>date</th>\n",
       "      <th>KRWCurncy</th>\n",
       "      <th>KOGDPQOQIndex</th>\n",
       "      <th>KOECPRCYIndex</th>\n",
       "      <th>KOECGCPYIndex</th>\n",
       "      <th>KOECGVTYIndex</th>\n",
       "      <th>KOECEXPYIndex</th>\n",
       "      <th>KOECIMPYIndex</th>\n",
       "      <th>KOECSPRQIndex</th>\n",
       "      <th>KOECGCSYIndex</th>\n",
       "      <th>...</th>\n",
       "      <th>CT1Comdty</th>\n",
       "      <th>S1Comdty</th>\n",
       "      <th>SB1Comdty</th>\n",
       "      <th>W1Comdty</th>\n",
       "      <th>GTKRW1YCorp</th>\n",
       "      <th>GTKRW2YCorp</th>\n",
       "      <th>GTKRW3YCorp</th>\n",
       "      <th>GTKRW5YCorp</th>\n",
       "      <th>GTKRW10YCorp</th>\n",
       "      <th>GTKRW20YCorp</th>\n",
       "    </tr>\n",
       "  </thead>\n",
       "  <tbody>\n",
       "    <tr>\n",
       "      <th>12177</th>\n",
       "      <td>2019.10.27</td>\n",
       "      <td>NaN</td>\n",
       "      <td>NaN</td>\n",
       "      <td>NaN</td>\n",
       "      <td>NaN</td>\n",
       "      <td>NaN</td>\n",
       "      <td>NaN</td>\n",
       "      <td>NaN</td>\n",
       "      <td>NaN</td>\n",
       "      <td>NaN</td>\n",
       "      <td>...</td>\n",
       "      <td>NaN</td>\n",
       "      <td>NaN</td>\n",
       "      <td>NaN</td>\n",
       "      <td>NaN</td>\n",
       "      <td>NaN</td>\n",
       "      <td>NaN</td>\n",
       "      <td>NaN</td>\n",
       "      <td>NaN</td>\n",
       "      <td>NaN</td>\n",
       "      <td>NaN</td>\n",
       "    </tr>\n",
       "    <tr>\n",
       "      <th>12178</th>\n",
       "      <td>2019.10.28</td>\n",
       "      <td>1170.53</td>\n",
       "      <td>NaN</td>\n",
       "      <td>NaN</td>\n",
       "      <td>NaN</td>\n",
       "      <td>NaN</td>\n",
       "      <td>NaN</td>\n",
       "      <td>NaN</td>\n",
       "      <td>NaN</td>\n",
       "      <td>NaN</td>\n",
       "      <td>...</td>\n",
       "      <td>64.79</td>\n",
       "      <td>920.75</td>\n",
       "      <td>12.54</td>\n",
       "      <td>511.75</td>\n",
       "      <td>1.445</td>\n",
       "      <td>1.502</td>\n",
       "      <td>1.563</td>\n",
       "      <td>1.625</td>\n",
       "      <td>1.769</td>\n",
       "      <td>1.779</td>\n",
       "    </tr>\n",
       "    <tr>\n",
       "      <th>12179</th>\n",
       "      <td>2019.10.29</td>\n",
       "      <td>1163.19</td>\n",
       "      <td>NaN</td>\n",
       "      <td>NaN</td>\n",
       "      <td>NaN</td>\n",
       "      <td>NaN</td>\n",
       "      <td>NaN</td>\n",
       "      <td>NaN</td>\n",
       "      <td>NaN</td>\n",
       "      <td>NaN</td>\n",
       "      <td>...</td>\n",
       "      <td>64.72</td>\n",
       "      <td>918.25</td>\n",
       "      <td>12.34</td>\n",
       "      <td>511.50</td>\n",
       "      <td>1.385</td>\n",
       "      <td>1.503</td>\n",
       "      <td>1.561</td>\n",
       "      <td>1.638</td>\n",
       "      <td>1.787</td>\n",
       "      <td>1.776</td>\n",
       "    </tr>\n",
       "    <tr>\n",
       "      <th>12180</th>\n",
       "      <td>2019.10.30</td>\n",
       "      <td>1168.07</td>\n",
       "      <td>NaN</td>\n",
       "      <td>NaN</td>\n",
       "      <td>NaN</td>\n",
       "      <td>NaN</td>\n",
       "      <td>NaN</td>\n",
       "      <td>NaN</td>\n",
       "      <td>NaN</td>\n",
       "      <td>NaN</td>\n",
       "      <td>...</td>\n",
       "      <td>65.70</td>\n",
       "      <td>916.00</td>\n",
       "      <td>12.41</td>\n",
       "      <td>509.25</td>\n",
       "      <td>1.383</td>\n",
       "      <td>1.465</td>\n",
       "      <td>1.533</td>\n",
       "      <td>1.602</td>\n",
       "      <td>1.755</td>\n",
       "      <td>1.752</td>\n",
       "    </tr>\n",
       "    <tr>\n",
       "      <th>12181</th>\n",
       "      <td>2019.10.31</td>\n",
       "      <td>1163.72</td>\n",
       "      <td>NaN</td>\n",
       "      <td>NaN</td>\n",
       "      <td>NaN</td>\n",
       "      <td>NaN</td>\n",
       "      <td>NaN</td>\n",
       "      <td>NaN</td>\n",
       "      <td>NaN</td>\n",
       "      <td>NaN</td>\n",
       "      <td>...</td>\n",
       "      <td>64.44</td>\n",
       "      <td>916.75</td>\n",
       "      <td>12.48</td>\n",
       "      <td>508.75</td>\n",
       "      <td>1.384</td>\n",
       "      <td>1.467</td>\n",
       "      <td>NaN</td>\n",
       "      <td>1.601</td>\n",
       "      <td>1.739</td>\n",
       "      <td>NaN</td>\n",
       "    </tr>\n",
       "  </tbody>\n",
       "</table>\n",
       "<p>5 rows × 202 columns</p>\n",
       "</div>"
      ],
      "text/plain": [
       "             date  KRWCurncy  KOGDPQOQIndex  KOECPRCYIndex  KOECGCPYIndex  \\\n",
       "12177  2019.10.27        NaN            NaN            NaN            NaN   \n",
       "12178  2019.10.28    1170.53            NaN            NaN            NaN   \n",
       "12179  2019.10.29    1163.19            NaN            NaN            NaN   \n",
       "12180  2019.10.30    1168.07            NaN            NaN            NaN   \n",
       "12181  2019.10.31    1163.72            NaN            NaN            NaN   \n",
       "\n",
       "       KOECGVTYIndex  KOECEXPYIndex  KOECIMPYIndex  KOECSPRQIndex  \\\n",
       "12177            NaN            NaN            NaN            NaN   \n",
       "12178            NaN            NaN            NaN            NaN   \n",
       "12179            NaN            NaN            NaN            NaN   \n",
       "12180            NaN            NaN            NaN            NaN   \n",
       "12181            NaN            NaN            NaN            NaN   \n",
       "\n",
       "       KOECGCSYIndex  ...  CT1Comdty  S1Comdty  SB1Comdty  W1Comdty  \\\n",
       "12177            NaN  ...        NaN       NaN        NaN       NaN   \n",
       "12178            NaN  ...      64.79    920.75      12.54    511.75   \n",
       "12179            NaN  ...      64.72    918.25      12.34    511.50   \n",
       "12180            NaN  ...      65.70    916.00      12.41    509.25   \n",
       "12181            NaN  ...      64.44    916.75      12.48    508.75   \n",
       "\n",
       "       GTKRW1YCorp  GTKRW2YCorp  GTKRW3YCorp  GTKRW5YCorp  GTKRW10YCorp  \\\n",
       "12177          NaN          NaN          NaN          NaN           NaN   \n",
       "12178        1.445        1.502        1.563        1.625         1.769   \n",
       "12179        1.385        1.503        1.561        1.638         1.787   \n",
       "12180        1.383        1.465        1.533        1.602         1.755   \n",
       "12181        1.384        1.467          NaN        1.601         1.739   \n",
       "\n",
       "       GTKRW20YCorp  \n",
       "12177           NaN  \n",
       "12178         1.779  \n",
       "12179         1.776  \n",
       "12180         1.752  \n",
       "12181           NaN  \n",
       "\n",
       "[5 rows x 202 columns]"
      ]
     },
     "execution_count": 254,
     "metadata": {},
     "output_type": "execute_result"
    }
   ],
   "source": [
    "b.tail()"
   ]
  },
  {
   "cell_type": "code",
   "execution_count": 255,
   "metadata": {},
   "outputs": [],
   "source": [
    "b.to_csv('hy_20200103.csv')"
   ]
  },
  {
   "cell_type": "code",
   "execution_count": 256,
   "metadata": {},
   "outputs": [],
   "source": [
    "k = pd.read_csv('hy_20200103.csv')"
   ]
  },
  {
   "cell_type": "markdown",
   "metadata": {},
   "source": [
    "# Step으로 채우기"
   ]
  },
  {
   "cell_type": "code",
   "execution_count": 257,
   "metadata": {},
   "outputs": [],
   "source": [
    "# 결측치 채우기\n",
    "# step은 ffill > bfill\n",
    "k.fillna(method = 'ffill', inplace = True)\n",
    "k.fillna(method = 'bfill', inplace = True)"
   ]
  },
  {
   "cell_type": "code",
   "execution_count": 258,
   "metadata": {},
   "outputs": [],
   "source": [
    "k.to_csv('hy_20200103_step.csv')"
   ]
  },
  {
   "cell_type": "markdown",
   "metadata": {},
   "source": [
    "# Linear 채우기"
   ]
  },
  {
   "cell_type": "code",
   "execution_count": 259,
   "metadata": {},
   "outputs": [],
   "source": [
    "m = pd.read_csv('hy_20200103.csv')"
   ]
  },
  {
   "cell_type": "code",
   "execution_count": 260,
   "metadata": {},
   "outputs": [],
   "source": [
    "m = m.interpolate()\n",
    "# 못채우는 사잇값을 채우기 위해서는 bfill로 \n",
    "m = m.fillna(method = 'bfill')"
   ]
  },
  {
   "cell_type": "code",
   "execution_count": 261,
   "metadata": {},
   "outputs": [],
   "source": [
    "m.to_csv('hy_20200103_linear.csv')"
   ]
  },
  {
   "cell_type": "markdown",
   "metadata": {},
   "source": [
    "# Spline 채우기"
   ]
  },
  {
   "cell_type": "code",
   "execution_count": 262,
   "metadata": {},
   "outputs": [],
   "source": [
    "n = pd.read_csv('hy_20200103.csv')"
   ]
  },
  {
   "cell_type": "code",
   "execution_count": 277,
   "metadata": {},
   "outputs": [
    {
     "data": {
      "text/plain": [
       "<matplotlib.axes._subplots.AxesSubplot at 0x1328e5208>"
      ]
     },
     "execution_count": 277,
     "metadata": {},
     "output_type": "execute_result"
    }
   ],
   "source": [
    "n['KOECIMPYIndex'][2950:3000].plot()"
   ]
  },
  {
   "cell_type": "code",
   "execution_count": 263,
   "metadata": {},
   "outputs": [],
   "source": [
    "n = n.interpolate(method = 'cubic', limit_area = 'inside')\n",
    "n = n.fillna(method = 'bfill')\n",
    "n = n.fillna(method = 'ffill')"
   ]
  },
  {
   "cell_type": "code",
   "execution_count": 264,
   "metadata": {},
   "outputs": [],
   "source": [
    "n.to_csv('hy_20200103_spline.csv')"
   ]
  },
  {
   "cell_type": "code",
   "execution_count": 282,
   "metadata": {},
   "outputs": [],
   "source": [
    "%matplotlib inline"
   ]
  },
  {
   "cell_type": "code",
   "execution_count": 293,
   "metadata": {},
   "outputs": [
    {
     "data": {
      "text/plain": [
       "<matplotlib.axes._subplots.AxesSubplot at 0x1225dfba8>"
      ]
     },
     "execution_count": 293,
     "metadata": {},
     "output_type": "execute_result"
    },
    {
     "data": {
      "image/png": "[encoded data removed]",
      "text/plain": [
       "<Figure size 432x288 with 1 Axes>"
      ]
     },
     "metadata": {
      "needs_background": "light"
     },
     "output_type": "display_data"
    }
   ],
   "source": [
    "b['KOECPRCYIndex'][60:120].plot()"
   ]
  },
  {
   "cell_type": "code",
   "execution_count": 292,
   "metadata": {},
   "outputs": [
    {
     "data": {
      "text/plain": [
       "<matplotlib.axes._subplots.AxesSubplot at 0x132dc50b8>"
      ]
     },
     "execution_count": 292,
     "metadata": {},
     "output_type": "execute_result"
    },
    {
     "data": {
      "image/png": "[encoded data removed]",
      "text/plain": [
       "<Figure size 432x288 with 1 Axes>"
      ]
     },
     "metadata": {
      "needs_background": "light"
     },
     "output_type": "display_data"
    }
   ],
   "source": [
    "k['KOECPRCYIndex'][60:120].plot()"
   ]
  },
  {
   "cell_type": "code",
   "execution_count": 290,
   "metadata": {},
   "outputs": [
    {
     "data": {
      "text/plain": [
       "<matplotlib.axes._subplots.AxesSubplot at 0x13b33df28>"
      ]
     },
     "execution_count": 290,
     "metadata": {},
     "output_type": "execute_result"
    },
    {
     "data": {
      "image/png": "[encoded data removed]",
      "text/plain": [
       "<Figure size 432x288 with 1 Axes>"
      ]
     },
     "metadata": {
      "needs_background": "light"
     },
     "output_type": "display_data"
    }
   ],
   "source": [
    "m['KOECPRCYIndex'][60:120].plot()"
   ]
  },
  {
   "cell_type": "code",
   "execution_count": 291,
   "metadata": {},
   "outputs": [
    {
     "data": {
      "text/plain": [
       "<matplotlib.axes._subplots.AxesSubplot at 0x132de0470>"
      ]
     },
     "execution_count": 291,
     "metadata": {},
     "output_type": "execute_result"
    },
    {
     "data": {
      "image/png": "[encoded data removed]",
      "text/plain": [
       "<Figure size 432x288 with 1 Axes>"
      ]
     },
     "metadata": {
      "needs_background": "light"
     },
     "output_type": "display_data"
    }
   ],
   "source": [
    "n['KOECPRCYIndex'][60:120].plot()"
   ]
  },
  {
   "cell_type": "code",
   "execution_count": null,
   "metadata": {},
   "outputs": [],
   "source": []
  }
 ],
 "metadata": {
  "kernelspec": {
   "display_name": "Python 3",
   "language": "python",
   "name": "python3"
  },
  "language_info": {
   "codemirror_mode": {
    "name": "ipython",
    "version": 3
   },
   "file_extension": ".py",
   "mimetype": "text/x-python",
   "name": "python",
   "nbconvert_exporter": "python",
   "pygments_lexer": "ipython3",
   "version": "3.7.3"
  }
 },
 "nbformat": 4,
 "nbformat_minor": 4
}
